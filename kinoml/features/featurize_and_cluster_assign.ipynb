{
 "cells": [
  {
   "cell_type": "markdown",
   "metadata": {},
   "source": [
    "## Dunbrack cluster assignment\n",
    "\n",
    "This notebook assigns structures (e.g. a pdb file or a simulation trajectory) into Dunbrack clusters based on [Modi and Dunbrack, 2019](https://pubmed.ncbi.nlm.nih.gov/30867294/).\n",
    "\n",
    "Maintainer: [@jiayeguo](https://github.com/jiayeguo)"
   ]
  },
  {
   "cell_type": "code",
   "execution_count": 4,
   "metadata": {},
   "outputs": [],
   "source": [
    "from MDAnalysis.core.universe import Universe\n",
    "import numpy as np\n",
    "import kinase\n",
    "from klifs import query_klifs_database\n",
    "import protein_struct_features\n",
    "import dunbrack_cluster\n",
    "from subprocess import Popen, PIPE"
   ]
  },
  {
   "cell_type": "markdown",
   "metadata": {},
   "source": [
    "#### set pdbid and chain id for the structure of interest"
   ]
  },
  {
   "cell_type": "code",
   "execution_count": 5,
   "metadata": {},
   "outputs": [],
   "source": [
    "#set up pdbid and chainid\n",
    "pdbid = '2JIU'\n",
    "chain = 'B'"
   ]
  },
  {
   "cell_type": "markdown",
   "metadata": {},
   "source": [
    "#### load the structure using [MDAnalysis](https://www.mdanalysis.org).\n",
    "\n",
    "Use pdb structures as an [MDAnalysis.core.universe.Universe object](https://www.mdanalysis.org/docs/documentation_pages/core/universe.html#MDAnalysis.core.universe.Universe) with one frame."
   ]
  },
  {
   "cell_type": "code",
   "execution_count": 8,
   "metadata": {},
   "outputs": [],
   "source": [
    "u = Universe(f'test_systems/{pdbid}_chain{chain}.pdb')"
   ]
  },
  {
   "cell_type": "markdown",
   "metadata": {},
   "source": [
    "#### get key residue indices to calculate structural features for cluster assignment "
   ]
  },
  {
   "cell_type": "code",
   "execution_count": 9,
   "metadata": {},
   "outputs": [],
   "source": [
    "klifs = query_klifs_database(pdbid, chain)\n",
    "key_res = protein_struct_features.key_klifs_residues(klifs['numbering'])"
   ]
  },
  {
   "cell_type": "markdown",
   "metadata": {},
   "source": [
    "#### calculate the dihedrals and distances for Dunbrack cluster assignment"
   ]
  },
  {
   "cell_type": "code",
   "execution_count": 10,
   "metadata": {},
   "outputs": [
    {
     "name": "stderr",
     "output_type": "stream",
     "text": [
      "Choosing frames to analyze\n",
      "Starting preparation\n",
      "/Users/guoj1/miniconda3/envs/kinoml/lib/python3.6/site-packages/MDAnalysis/coordinates/base.py:865: UserWarning: Reader has no dt information, set to 1.0 ps\n",
      "  warnings.warn(\"Reader has no dt information, set to 1.0 ps\")\n",
      "Finishing up\n"
     ]
    },
    {
     "name": "stdout",
     "output_type": "stream",
     "text": [
      "There is no missing coordinates.  All dihedrals and distances will be computed.\n"
     ]
    }
   ],
   "source": [
    "dihedrals, distances = protein_struct_features.compute_simple_protein_features(u, key_res)"
   ]
  },
  {
   "cell_type": "markdown",
   "metadata": {},
   "source": [
    "#### assign the conformation into a Dunbrack cluster"
   ]
  },
  {
   "cell_type": "code",
   "execution_count": 11,
   "metadata": {},
   "outputs": [
    {
     "name": "stdout",
     "output_type": "stream",
     "text": [
      "The input structure is assigned to Dunbrack cluster(s): [7]\n"
     ]
    }
   ],
   "source": [
    "assignment = dunbrack_cluster.assign(dihedrals, distances)\n",
    "print(f\"The input structure is assigned to Dunbrack cluster(s): {assignment}\")"
   ]
  },
  {
   "cell_type": "code",
   "execution_count": null,
   "metadata": {},
   "outputs": [],
   "source": []
  }
 ],
 "metadata": {
  "kernelspec": {
   "display_name": "kinoml",
   "language": "python",
   "name": "kinoml"
  },
  "language_info": {
   "codemirror_mode": {
    "name": "ipython",
    "version": 3
   },
   "file_extension": ".py",
   "mimetype": "text/x-python",
   "name": "python",
   "nbconvert_exporter": "python",
   "pygments_lexer": "ipython3",
   "version": "3.6.11"
  }
 },
 "nbformat": 4,
 "nbformat_minor": 2
}
