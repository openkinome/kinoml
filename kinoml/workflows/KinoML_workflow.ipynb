{
 "cells": [
  {
   "cell_type": "markdown",
   "metadata": {},
   "source": [
    "## This notebook serves as a basis for the KinoML workflow"
   ]
  },
  {
   "cell_type": "markdown",
   "metadata": {},
   "source": [
    "### Premises\n",
    "\n",
    "The aim is to be able to predict the binding free energy $\\Delta g$ of a given molecule and a given target.\n",
    "\n",
    "_**How ?**_ \n",
    "\n",
    "By building a ML and using physics-based models. \n",
    "\n",
    "### Challenges\n",
    "There are several publicly available data sets of bioactivity. However, none of them directly report $\\Delta g$.\n",
    "\n",
    "### Workaround\n",
    "Use physics informed models."
   ]
  },
  {
   "cell_type": "code",
   "execution_count": 1,
   "metadata": {},
   "outputs": [],
   "source": [
    "# Imports\n",
    "import pandas as pd\n",
    "import numpy as np\n",
    "import matplotlib.pyplot as plt\n",
    "\n",
    "\n",
    "import rdkit\n",
    "from rdkit import Chem\n",
    "from rdkit.Chem import AllChem\n",
    "\n",
    "import torch\n",
    "import torch.nn as nn\n",
    "import torch.nn.functional as F"
   ]
  },
  {
   "cell_type": "markdown",
   "metadata": {},
   "source": [
    "### ChEMBL25 \n",
    "We are going to use the EGFR data of ChEMBL v.25 as an example, but the idea can be applied to other data sets such as KinomeScan.\n",
    "\n",
    "*Remark*: here ChEMBL25 reports the IC50/pIC50 value."
   ]
  },
  {
   "cell_type": "code",
   "execution_count": 2,
   "metadata": {},
   "outputs": [
    {
     "data": {
      "text/html": [
       "<div>\n",
       "<style scoped>\n",
       "    .dataframe tbody tr th:only-of-type {\n",
       "        vertical-align: middle;\n",
       "    }\n",
       "\n",
       "    .dataframe tbody tr th {\n",
       "        vertical-align: top;\n",
       "    }\n",
       "\n",
       "    .dataframe thead th {\n",
       "        text-align: right;\n",
       "    }\n",
       "</style>\n",
       "<table border=\"1\" class=\"dataframe\">\n",
       "  <thead>\n",
       "    <tr style=\"text-align: right;\">\n",
       "      <th></th>\n",
       "      <th>chembl_id</th>\n",
       "      <th>IC50</th>\n",
       "      <th>units</th>\n",
       "      <th>canonical_smiles</th>\n",
       "      <th>pIC50</th>\n",
       "    </tr>\n",
       "  </thead>\n",
       "  <tbody>\n",
       "    <tr>\n",
       "      <td>1777</td>\n",
       "      <td>CHEMBL207869</td>\n",
       "      <td>77.0</td>\n",
       "      <td>nM</td>\n",
       "      <td>Fc1cccc(COc2ccc(Nc3ncncc3C#Cc4ncccn4)cc2Cl)c1</td>\n",
       "      <td>7.113509</td>\n",
       "    </tr>\n",
       "    <tr>\n",
       "      <td>5785</td>\n",
       "      <td>CHEMBL3940060</td>\n",
       "      <td>330.0</td>\n",
       "      <td>nM</td>\n",
       "      <td>Fc1ccc(Nc2ncnc3cc4OC(=O)N(CCOC(=O)CCl)c4cc23)c...</td>\n",
       "      <td>6.481486</td>\n",
       "    </tr>\n",
       "    <tr>\n",
       "      <td>6373</td>\n",
       "      <td>CHEMBL3678951</td>\n",
       "      <td>1.0</td>\n",
       "      <td>nM</td>\n",
       "      <td>CC(C)n1c(Nc2cccc(c2)C(F)(F)F)nc3cnc(Nc4ccc(cc4...</td>\n",
       "      <td>9.000000</td>\n",
       "    </tr>\n",
       "    <tr>\n",
       "      <td>2442</td>\n",
       "      <td>CHEMBL504034</td>\n",
       "      <td>40.0</td>\n",
       "      <td>nM</td>\n",
       "      <td>CS(=O)(=O)CCNC(=O)O[C@H]1CN[C@@H](C1)C#Cc2cc3n...</td>\n",
       "      <td>7.397940</td>\n",
       "    </tr>\n",
       "    <tr>\n",
       "      <td>1084</td>\n",
       "      <td>CHEMBL158797</td>\n",
       "      <td>43000.0</td>\n",
       "      <td>nM</td>\n",
       "      <td>Cn1c(SSc2c(C(=O)NCC(O)CO)c3ccccc3n2C)c(C(=O)NC...</td>\n",
       "      <td>4.366532</td>\n",
       "    </tr>\n",
       "  </tbody>\n",
       "</table>\n",
       "</div>"
      ],
      "text/plain": [
       "          chembl_id     IC50 units  \\\n",
       "1777   CHEMBL207869     77.0    nM   \n",
       "5785  CHEMBL3940060    330.0    nM   \n",
       "6373  CHEMBL3678951      1.0    nM   \n",
       "2442   CHEMBL504034     40.0    nM   \n",
       "1084   CHEMBL158797  43000.0    nM   \n",
       "\n",
       "                                       canonical_smiles     pIC50  \n",
       "1777      Fc1cccc(COc2ccc(Nc3ncncc3C#Cc4ncccn4)cc2Cl)c1  7.113509  \n",
       "5785  Fc1ccc(Nc2ncnc3cc4OC(=O)N(CCOC(=O)CCl)c4cc23)c...  6.481486  \n",
       "6373  CC(C)n1c(Nc2cccc(c2)C(F)(F)F)nc3cnc(Nc4ccc(cc4...  9.000000  \n",
       "2442  CS(=O)(=O)CCNC(=O)O[C@H]1CN[C@@H](C1)C#Cc2cc3n...  7.397940  \n",
       "1084  Cn1c(SSc2c(C(=O)NCC(O)CO)c3ccccc3n2C)c(C(=O)NC...  4.366532  "
      ]
     },
     "execution_count": 2,
     "metadata": {},
     "output_type": "execute_result"
    }
   ],
   "source": [
    "# Read the data\n",
    "data = pd.read_csv(\"data/CHEMBL25_activities_EGFR.csv\", index_col=0)\n",
    "data.head()"
   ]
  },
  {
   "cell_type": "markdown",
   "metadata": {},
   "source": [
    "### Ligand featurization\n",
    "Featurize the ligand.\n",
    "\n",
    "Here we use the simple of example of the fingerprint, but any featurize available in KinoML could be applied (for example the graph featurizer)."
   ]
  },
  {
   "cell_type": "code",
   "execution_count": 3,
   "metadata": {},
   "outputs": [],
   "source": [
    "def smiles_to_morgan_fp(smile, nbits=1024, radius=2):\n",
    "    '''\n",
    "    Convert a smile into Morgan fingerprint of radius 2 and length 1024 using RDKit.\n",
    "    '''\n",
    "    molecule = Chem.MolFromSmiles(smile)\n",
    "    fingerprint = AllChem.GetMorganFingerprintAsBitVect(molecule, radius=radius, nBits=nbits)\n",
    "    return np.array(fingerprint)"
   ]
  },
  {
   "cell_type": "code",
   "execution_count": 4,
   "metadata": {},
   "outputs": [],
   "source": [
    "# Convert smiles to morgan fingerprint\n",
    "data['morgan_fp'] = data['canonical_smiles'].apply(smiles_to_morgan_fp)"
   ]
  },
  {
   "cell_type": "markdown",
   "metadata": {},
   "source": [
    "### Model\n",
    "We build a shallow neural network with only one hidden layer. The output of the model is a single node, which represents $\\Delta g$.\n",
    "\n",
    "Here the model is very simple, but any model available in KinoML can be used (e.g. Graph Neural Network)."
   ]
  },
  {
   "cell_type": "code",
   "execution_count": 5,
   "metadata": {},
   "outputs": [],
   "source": [
    "class NeuralNetworkRegression(nn.Module):\n",
    "    \"\"\"\n",
    "    Builds a Pytorch model (a Dense Neural Network) and a feed-forward pass\n",
    "    \"\"\"\n",
    "    def __init__(self, input_size=1024, hidden_size=100, output_size=1):\n",
    "        super(NeuralNetworkRegression, self).__init__()\n",
    "        \n",
    "        self.input_size = input_size\n",
    "        self.hidden_size = hidden_size\n",
    "        self.output_size = output_size\n",
    "        \n",
    "        self.fully_connected_1 = nn.Linear(self.input_size, self.hidden_size) # Fully connected layer \n",
    "        self.fully_connected_out = nn.Linear(self.hidden_size, self.output_size) # Output\n",
    "\n",
    "    def forward(self, x):\n",
    "        \"\"\"\n",
    "        Defines the foward pass for a given input 'x'\n",
    "        \"\"\"\n",
    "        x = F.relu(self.fully_connected_1(x)) # Activations are ReLU\n",
    "        return self.fully_connected_out(x)"
   ]
  },
  {
   "cell_type": "code",
   "execution_count": 6,
   "metadata": {},
   "outputs": [
    {
     "name": "stdout",
     "output_type": "stream",
     "text": [
      "NeuralNetworkRegression(\n",
      "  (fully_connected_1): Linear(in_features=1024, out_features=100, bias=True)\n",
      "  (fully_connected_out): Linear(in_features=100, out_features=1, bias=True)\n",
      ")\n"
     ]
    }
   ],
   "source": [
    "model = NeuralNetworkRegression()\n",
    "print(model)"
   ]
  },
  {
   "cell_type": "markdown",
   "metadata": {},
   "source": [
    "### Define a loss function\n",
    "Herer we use the mean squarred error as a loss, but a more complex function which can account for different measurement types will be used."
   ]
  },
  {
   "cell_type": "code",
   "execution_count": 7,
   "metadata": {},
   "outputs": [],
   "source": [
    "criterion = nn.MSELoss() # Mean squared error"
   ]
  },
  {
   "cell_type": "markdown",
   "metadata": {},
   "source": [
    "### A few model settings and Pytorch tensors conversions"
   ]
  },
  {
   "cell_type": "code",
   "execution_count": 8,
   "metadata": {},
   "outputs": [],
   "source": [
    "# Model setting\n",
    "optimizer = torch.optim.Adam(model.parameters(), lr = 0.001)\n",
    "nb_epoch = 100\n",
    "\n",
    "# Convert input/output to neural network to pytorch tensor\n",
    "model_inputs = torch.tensor(list(data['morgan_fp'])).type(torch.FloatTensor)\n",
    "targeted_measurements = torch.tensor(list(data['IC50'])).type(torch.FloatTensor)"
   ]
  },
  {
   "cell_type": "markdown",
   "metadata": {},
   "source": [
    "### Idea behind the _physics-based_ function\n",
    "\n",
    "As stated above, we would like to predict the (unitless) binding free energy $\\Delta g$ which is not reported in public data sets. \n",
    "\n",
    "However there are physics-based models which relate measured quantities (such as $K_d$) to the desired $\\Delta g$.\n",
    "\n",
    "In order to use all available data and combine different data sets, for every measurement type, we define a function based on the physics that maps $\\Delta g$ to the measured data type.\n",
    "\n",
    "#### ChEMBL\n",
    "The measurement types available in ChEMBL are:\n",
    "- IC50\n",
    "- $K_i$\n",
    "- $K_d$\n",
    "\n",
    "#### KinomeScan\n",
    "The measurement type in KinomeScan is the percent displacement\n",
    "- $\\%displ.$"
   ]
  },
  {
   "cell_type": "markdown",
   "metadata": {},
   "source": [
    "### Define a _physics-informed_ function to be applied on $\\Delta g$\n",
    "\n",
    "This _physics-informed_ function is adapted to each measurement type.\n",
    "\n",
    "#### For $K_d$ measurements\n",
    "We define the following physics-based function\n",
    "$$\n",
    "\\mathbf{F}_{K_d}(\\Delta g) = exp[-\\Delta g] * 1[M].\n",
    "$$\n",
    "\n",
    "If we have measurements at different concentrations $I$ (unit [M]) , then the function can further be defined as\n",
    "\n",
    "$$\n",
    "\\mathbf{F}_{K_d}(\\Delta g, I) = exp[-\\Delta g] * I[M].\n",
    "$$\n",
    "\n",
    "#### For $K_i$ measurements\n",
    "We make the assumption that $K_i \\approx K_d$ and therefore $\\mathbf{F}_{K_i} = \\mathbf{F}_{K_d}$.\n",
    "\n",
    "\n",
    "#### For IC50 measurements\n",
    "We use the Cheng Prusoff equation here.\n",
    "\n",
    "The [Cheng Prusoff](https://en.wikipedia.org/wiki/IC50#Cheng_Prusoff_equation) equation states the following relationship\n",
    "\n",
    "\\begin{equation}\n",
    "K_i = \\frac{IC50}{1+\\frac{[S]}{K_m}}\n",
    "\\end{equation}\n",
    "\n",
    "\n",
    "We make the following assumptions here\n",
    "1. $[S] = K_m$\n",
    "2. $K_i \\approx K_d$\n",
    "\n",
    "In the future, we will relax these assumptions.\n",
    "\n",
    "Under these assumptions, the Cheng-Prusoff equation becomes\n",
    "$$\n",
    "IC50 \\approx 2 * K_d\n",
    "$$\n",
    "\n",
    "We define the following function\n",
    "$$\n",
    "\\mathbf{F}_{IC50}(\\Delta g) = 2 * \\mathbf{F}_{K_d}(\\Delta g) = 2 * exp[-\\Delta g] * 1[M]\n",
    "$$\n",
    "\n",
    "#### For KinomeScan measurements \n",
    "For the percent displacement measurements available from KinomeScan, we make the assumption (see JDC's notes) that\n",
    "\n",
    "$$\n",
    "D([I]) \\approx \\frac{1}{1 + \\frac{K_d}{[I]}}\n",
    "$$\n",
    "\n",
    "For KinomeSCAN assays, all assays are usually performed at a single concentration, $ [I] \\sim 1 \\mu M $.\n",
    "\n",
    "We therefore define the following function\n",
    "$$\n",
    "\\mathbf{F}_{KinomeScan}(\\Delta g, [I]) = \\frac{1}{1 + \\frac{exp[-\\Delta g] * 1[M]}{[I]}}.\n",
    "$$"
   ]
  },
  {
   "cell_type": "code",
   "execution_count": 9,
   "metadata": {},
   "outputs": [],
   "source": [
    "def physics_informed_IC50(delta_g, S=1, K_m=1,  I=1): \n",
    "    '''\n",
    "    Physics based model for IC50 measurements\n",
    "    '''\n",
    "    return (1+S/K_m) * (torch.exp(-delta_g)*I)"
   ]
  },
  {
   "cell_type": "code",
   "execution_count": 10,
   "metadata": {},
   "outputs": [],
   "source": [
    "def physics_informed_Kd(delta_g, I=1): \n",
    "    '''\n",
    "    Physics based model for Kd measurements\n",
    "    '''\n",
    "    return torch.exp(-delta_g)*I"
   ]
  },
  {
   "cell_type": "code",
   "execution_count": 11,
   "metadata": {},
   "outputs": [],
   "source": [
    "def physics_informed_Ki(delta_g, I=1): \n",
    "    '''\n",
    "    Physics based model for Ki measurements\n",
    "    \n",
    "    Note\n",
    "    For now, the same function as for Kd measurements.\n",
    "    '''\n",
    "    return torch.exp(-delta_g)*I"
   ]
  },
  {
   "cell_type": "code",
   "execution_count": 12,
   "metadata": {},
   "outputs": [],
   "source": [
    "def physics_informed_kinomescan(delta_g, I):\n",
    "    '''\n",
    "    Physics based model for KinomeScan measurements\n",
    "    '''\n",
    "    return 1/(1+torch.exp(-delta_g)*1/I)"
   ]
  },
  {
   "cell_type": "markdown",
   "metadata": {},
   "source": [
    "### Application\n",
    "\n",
    "Apply physics-informed function to predicted $\\Delta g$ and compute loss function w.r.t to the learnable parameters."
   ]
  },
  {
   "cell_type": "markdown",
   "metadata": {},
   "source": [
    "#### 1 iteration only\n",
    "See below for several epochs"
   ]
  },
  {
   "cell_type": "code",
   "execution_count": 13,
   "metadata": {},
   "outputs": [
    {
     "name": "stderr",
     "output_type": "stream",
     "text": [
      "/Users/TaliaKimber/.local/miniconda/envs/kinoml/lib/python3.7/site-packages/torch/nn/modules/loss.py:431: UserWarning: Using a target size (torch.Size([3906])) that is different to the input size (torch.Size([3906, 1])). This will likely lead to incorrect results due to broadcasting. Please ensure they have the same size.\n",
      "  return F.mse_loss(input, target, reduction=self.reduction)\n"
     ]
    }
   ],
   "source": [
    "# Compute delta g using the model defined above and the featurized ligands\n",
    "delta_g = model(model_inputs)\n",
    "\n",
    "# Apply physics-informed function to the predicted delta g\n",
    "prediction = physics_informed_IC50(delta_g)\n",
    "\n",
    "# Obtain loss for the predicted output\n",
    "loss = criterion(prediction, targeted_measurements)\n",
    "\n",
    "# Gradients w.r.t to parameters\n",
    "loss.backward()"
   ]
  },
  {
   "cell_type": "code",
   "execution_count": 17,
   "metadata": {},
   "outputs": [
    {
     "name": "stdout",
     "output_type": "stream",
     "text": [
      "epoch 0 : loss 415460753408.0\n",
      "epoch 10 : loss 415402459136.0\n",
      "epoch 20 : loss 415354552320.0\n",
      "epoch 30 : loss 415314214912.0\n",
      "epoch 40 : loss 415280005120.0\n",
      "epoch 50 : loss 415248809984.0\n",
      "epoch 60 : loss 415218925568.0\n",
      "epoch 70 : loss 415192023040.0\n",
      "epoch 80 : loss 415166136320.0\n",
      "epoch 90 : loss 415141658624.0\n"
     ]
    }
   ],
   "source": [
    "# Training loop\n",
    "\n",
    "full_loss = []\n",
    "for epoch in range(nb_epoch):\n",
    "\n",
    "    # Clear gradients\n",
    "    optimizer.zero_grad()\n",
    "\n",
    "    # Obtain model prediction given model input\n",
    "    delta_g = model(model_inputs)\n",
    "    prediction = physics_informed_IC50(delta_g)\n",
    "\n",
    "    # Obtain loss for the predicted output\n",
    "    loss = criterion(prediction, targeted_measurements)\n",
    "    full_loss.append(loss)\n",
    "\n",
    "    # Gradients w.r.t to parameters\n",
    "    loss.backward()\n",
    "\n",
    "    # Optimizer\n",
    "    optimizer.step()\n",
    "    \n",
    "    if epoch % 10 == 0:\n",
    "        print(f'epoch {epoch} : loss {loss}')"
   ]
  },
  {
   "cell_type": "code",
   "execution_count": 18,
   "metadata": {},
   "outputs": [
    {
     "data": {
      "image/png": "[encoded data removed]",
      "text/plain": [
       "<Figure size 432x288 with 1 Axes>"
      ]
     },
     "metadata": {
      "needs_background": "light"
     },
     "output_type": "display_data"
    }
   ],
   "source": [
    "plt.figure()\n",
    "plt.plot(full_loss)\n",
    "plt.xlabel(\"Epoch\")\n",
    "plt.ylabel(\"Loss\")\n",
    "plt.title(\"Loss function on the training set (full set)\")\n",
    "plt.show()"
   ]
  },
  {
   "cell_type": "code",
   "execution_count": 16,
   "metadata": {},
   "outputs": [
    {
     "name": "stdout",
     "output_type": "stream",
     "text": [
      "Max and min values of IC50 0.004, 25000000.0\n"
     ]
    }
   ],
   "source": [
    "print(f\"Max and min values of IC50 {min(data['IC50'])}, {max(data['IC50'])}\")"
   ]
  },
  {
   "cell_type": "markdown",
   "metadata": {},
   "source": [
    "### Illustrative workflow\n",
    "\n",
    "Workflow illustration with one measurement.\n",
    "\n",
    "![unique_measurement](images/KinoML_Workflow-unique_measurement.png)"
   ]
  },
  {
   "cell_type": "markdown",
   "metadata": {},
   "source": [
    "## Multiple data sets and measurements\n",
    "\n",
    "When we have more than a single measurement type for a protein-ligand system, we can define a more complex loss function:\n",
    "\n",
    "$$\n",
    "L(\\mathbf{\\hat{y}}, \\mathbf{y}) = \n",
    "\\sum_{i=1}^{M} \\alpha_i \\cdot\n",
    "\\mathbf{1} \\{ mse(\\mathbf{\\hat{y}_i}, \\mathbf{y_i}) \\text{ if assay type i exists}\\},\n",
    "$$ \n",
    "where the weight $\\alpha_i$ would be determined according to the range of the different measurement types.\n",
    "\n",
    "E.g.\n",
    "\n",
    "$\\alpha_{K_d} = \\alpha_{K_i} = 1$ and $\\alpha_{IC50} = 1/2$"
   ]
  },
  {
   "cell_type": "markdown",
   "metadata": {},
   "source": [
    "### Illustrative workflow\n",
    "\n",
    "Workflow illustration with multiple measurements\n",
    "\n",
    "![multiple_measurements](images/KinoML_Workflow-multiple_measurements.png)"
   ]
  }
 ],
 "metadata": {
  "kernelspec": {
   "display_name": "Python 3",
   "language": "python",
   "name": "python3"
  },
  "language_info": {
   "codemirror_mode": {
    "name": "ipython",
    "version": 3
   },
   "file_extension": ".py",
   "mimetype": "text/x-python",
   "name": "python",
   "nbconvert_exporter": "python",
   "pygments_lexer": "ipython3",
   "version": "3.7.3"
  }
 },
 "nbformat": 4,
 "nbformat_minor": 4
}
