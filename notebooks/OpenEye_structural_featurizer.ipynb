{
 "cells": [
  {
   "cell_type": "markdown",
   "id": "39823951-54dc-4651-bd95-e9116badf2d6",
   "metadata": {},
   "source": [
    "# OpenEye Structural Featurizer"
   ]
  },
  {
   "cell_type": "markdown",
   "id": "37b59918-0cad-4211-aa6a-d43a36f055a2",
   "metadata": {},
   "source": [
    "This notebook introduces structural modeling featurizers using the [OpenEye toolkits](https://docs.eyesopen.com/toolkits/python/index.html) to prepare protein structures and to dock small molecules into their binding sites.\n",
    "\n",
    "**Note:** All structural featurizers fetch data and/or do expensive computations. Hence, fetched data (e.g. PDB structures) and intermediate results (e.g. a prepared protein structure) are stored in a cache directory to speed up calculations when featurizing the same or similar systems multiple times. The cache directory can be specified via the `cache_dir` parameter, but also has a default (`user_cache_dir` from `appdirs`). In case you update your KinoML version you should consider deleting the cache directory. Otherwise, you may get results from the former KinoML version, since the intermediate results will be taken from cache."
   ]
  },
  {
   "cell_type": "code",
   "execution_count": 1,
   "id": "ba3e7292-700b-424f-b382-73efb82b3ffd",
   "metadata": {
    "tags": []
   },
   "outputs": [],
   "source": [
    "%%capture --no-display\n",
    "from importlib import resources\n",
    "import inspect\n",
    "from pathlib import Path\n",
    "\n",
    "from appdirs import user_cache_dir\n",
    "\n",
    "from kinoml.core.ligands import Ligand\n",
    "from kinoml.core.proteins import Protein, KLIFSKinase\n",
    "from kinoml.core.systems import ProteinSystem, ProteinLigandComplex\n",
    "from kinoml.features.core import Pipeline\n",
    "from kinoml.features.protein import OEProteinStructureFeaturizer\n",
    "from kinoml.features.complexes import ( \n",
    "    OEComplexFeaturizer, \n",
    "    OEDockingFeaturizer,\n",
    "    MostSimilarPDBLigandFeaturizer,\n",
    "    KLIFSConformationTemplatesFeaturizer,\n",
    ")"
   ]
  },
  {
   "cell_type": "markdown",
   "id": "91e7515b-a9a1-47a8-9e06-76c080669e6a",
   "metadata": {},
   "source": [
    "## OEProteinStructureFeaturizer\n",
    "\n",
    "All OpenEye Featurizers come with an extensive doc string explaining the capabilities and requirements."
   ]
  },
  {
   "cell_type": "code",
   "execution_count": 2,
   "id": "50ec8fcf-495e-4c84-896a-6b65eb5c41a3",
   "metadata": {},
   "outputs": [
    {
     "name": "stdout",
     "output_type": "stream",
     "text": [
      "Given systems with exactly one protein, prepare the protein structure by:\n",
      "\n",
      " - modeling missing loops\n",
      " - building missing side chains\n",
      " - mutations, if `uniprot_id` or `sequence` attribute is provided for\n",
      "   the protein component (see below)\n",
      " - removing everything but protein and water\n",
      " - protonation at pH 7.4\n",
      "\n",
      "The protein component of each system must be a `core.proteins.Protein`\n",
      "or a subclass thereof, must be initialized with toolkit='OpenEye' and\n",
      "give access to a molecular structure, e.g. via a pdb_id. Additionally,\n",
      "the protein component can have the following optional attributes to\n",
      "customize the protein modeling:\n",
      "\n",
      " - `name`: A string specifying the name of the protein, will be used for\n",
      "    generating the output file name.\n",
      " - `chain_id`: A string specifying which chain should be used.\n",
      " - `alternate_location`: A string specifying which alternate location\n",
      "    should be used.\n",
      " - `expo_id`: A string specifying a ligand bound to the protein of\n",
      "   interest. This is especially useful if multiple proteins are found in\n",
      "   one PDB structure.\n",
      " - `uniprot_id`: A string specifying the UniProt ID that will be used to\n",
      "   fetch the amino acid sequence from UniProt, which will be used for\n",
      "   modeling the protein. This will supersede the sequence information\n",
      "   given in the PDB header.\n",
      " - `sequence`: A  string specifying the amino acid sequence in\n",
      "   one-letter-codes that should be used during modeling the protein. This\n",
      "   will supersede a given `uniprot_id` and the sequence information given\n",
      "   in the PDB header.\n",
      "\n",
      "Parameters\n",
      "----------\n",
      "loop_db: str\n",
      "    The path to the loop database used by OESpruce to model missing loops.\n",
      "cache_dir: str, Path or None, default=None\n",
      "    Path to directory used for saving intermediate files. If None, default\n",
      "    location provided by `appdirs.user_cache_dir()` will be used.\n",
      "output_dir: str, Path or None, default=None\n",
      "    Path to directory used for saving output files. If None, output\n",
      "    structures will not be saved.\n",
      "use_multiprocessing : bool, default=True\n",
      "    If multiprocessing to use.\n",
      "n_processes : int or None, default=None\n",
      "    How many processes to use in case of multiprocessing. Defaults to\n",
      "    number of available CPUs.\n"
     ]
    }
   ],
   "source": [
    "print(inspect.getdoc(OEProteinStructureFeaturizer))"
   ]
  },
  {
   "cell_type": "markdown",
   "id": "b622768e-a72c-41c5-ae25-441107b8b848",
   "metadata": {},
   "source": [
    "In general these featurizers will work with a minimal amount of information, e.g. just a PDB ID. However, it is recommended to be explicit as possible when defining the systems to featurize. For example, if a given PDB entry has multiple chains and ligands, the featurizer will have to guess which chain and ligand is of interest if not explicitly stated."
   ]
  },
  {
   "cell_type": "code",
   "execution_count": 3,
   "id": "c911d115-0f3f-465e-b887-d7a574c76f5c",
   "metadata": {},
   "outputs": [],
   "source": [
    "# collect systems to featurize, i.e. prepare the protein structure\n",
    "systems = []"
   ]
  },
  {
   "cell_type": "code",
   "execution_count": 4,
   "id": "19e36150-0c66-4bcf-aa2f-e31e8331f4f7",
   "metadata": {},
   "outputs": [],
   "source": [
    "# unspecifc definition of the system, only via PDB ID\n",
    "# modeling will be performed according to the sequence stored in the PDB Header\n",
    "protein = Protein(pdb_id=\"4f8o\", name=\"PsaA\")\n",
    "system = ProteinSystem(components=[protein])\n",
    "systems.append(system)"
   ]
  },
  {
   "cell_type": "code",
   "execution_count": 5,
   "id": "4863a511-87e7-4301-9b74-d9a428f4ac50",
   "metadata": {},
   "outputs": [],
   "source": [
    "# more specific definition of the system, protein of chain A co-crystallized with ligand AES and\n",
    "# alternate location B, modeling will be performed according to the sequence of the given \n",
    "# UniProt ID\n",
    "protein = Protein.from_pdb(pdb_id=\"4f8o\", name=\"PsaA\")\n",
    "protein.uniprot_id = \"P31522\"\n",
    "protein.chain_id = \"A\"\n",
    "protein.alternate_location = \"B\"\n",
    "protein.expo_id = \"AES\"\n",
    "system = ProteinSystem(components=[protein])\n",
    "systems.append(system)"
   ]
  },
  {
   "cell_type": "code",
   "execution_count": 6,
   "id": "f15a753f-5fab-4705-907f-9e9e1dc5b2b1",
   "metadata": {},
   "outputs": [],
   "source": [
    "# use a protein structure form file\n",
    "with resources.path(\"kinoml.data.proteins\", \"4f8o_edit.pdb\") as structure_path:\n",
    "    pass\n",
    "protein = Protein.from_file(file_path=structure_path, name=\"PsaA\")\n",
    "protein.uniprot_id = \"P31522\"\n",
    "system = ProteinSystem(components=[protein])\n",
    "systems.append(system)"
   ]
  },
  {
   "cell_type": "code",
   "execution_count": 7,
   "id": "44c9a4c1-36b4-46cd-acd9-84bcc1593512",
   "metadata": {},
   "outputs": [],
   "source": [
    "with resources.path(\"kinoml.data.proteins\", \"kinoml_tests_4f8o_spruce.loop_db\") as loop_db:\n",
    "    pass\n",
    "featurizer = OEProteinStructureFeaturizer(\n",
    "    loop_db=loop_db,\n",
    "    output_dir=user_cache_dir() + \"/protein\",\n",
    ")"
   ]
  },
  {
   "cell_type": "code",
   "execution_count": 8,
   "id": "084058f9-3d8b-4c38-93c5-73fb4e72984c",
   "metadata": {},
   "outputs": [
    {
     "data": {
      "text/plain": [
       "[<ProteinSystem with 1 components (<Protein name=PsaA>)>,\n",
       " <ProteinSystem with 1 components (<Protein name=PsaA>)>,\n",
       " <ProteinSystem with 1 components (<Protein name=PsaA>)>]"
      ]
     },
     "execution_count": 8,
     "metadata": {},
     "output_type": "execute_result"
    }
   ],
   "source": [
    "%%capture --no-display\n",
    "systems = featurizer.featurize(systems)\n",
    "systems"
   ]
  },
  {
   "cell_type": "markdown",
   "id": "d4ea4adc-8ebe-4724-9413-2d7cf7867244",
   "metadata": {},
   "source": [
    "The featurizers will return the featurized systems as an [MDAnalysis universe](https://www.mdanalysis.org/). Systems that failed will be filtered out. In case one is interested in failures, one can enable logging messages via:\n",
    "```\n",
    "import logging  \n",
    "logging.basicConfig(level=logging.DEBUG)\n",
    "```"
   ]
  },
  {
   "cell_type": "code",
   "execution_count": 9,
   "id": "8cb40c64-3d1c-47b1-8ff8-9b1f12113835",
   "metadata": {},
   "outputs": [
    {
     "data": {
      "text/plain": [
       "<ProteinSystem with 1 components (<Protein name=PsaA>)>"
      ]
     },
     "execution_count": 9,
     "metadata": {},
     "output_type": "execute_result"
    }
   ],
   "source": [
    "systems[0]"
   ]
  },
  {
   "cell_type": "code",
   "execution_count": 10,
   "id": "8300557b-9864-4451-a56d-0d56ff6c3d36",
   "metadata": {},
   "outputs": [
    {
     "data": {
      "text/plain": [
       "<Universe with 2381 atoms>"
      ]
     },
     "execution_count": 10,
     "metadata": {},
     "output_type": "execute_result"
    }
   ],
   "source": [
    "systems[0].featurizations[\"last\"]"
   ]
  },
  {
   "cell_type": "markdown",
   "id": "f59b6a51-5aef-4798-ae43-f04bd8dc8b7a",
   "metadata": {},
   "source": [
    "If an `output_dir` was provided, the prepared structure is saved in PDB and OEB format."
   ]
  },
  {
   "cell_type": "code",
   "execution_count": 11,
   "id": "9a291d20-206d-4fc2-a0a3-d1c3e2b9b4b3",
   "metadata": {},
   "outputs": [
    {
     "name": "stdout",
     "output_type": "stream",
     "text": [
      "kinoml_OEProteinStructureFeaturizer_PsaA_4f8o_chainA_altlocB_protein.oeb\n",
      "kinoml_OEProteinStructureFeaturizer_PsaA_4f8o_chainA_altlocB_protein.pdb\n",
      "kinoml_OEProteinStructureFeaturizer_PsaA_4f8o_edit_protein.oeb\n",
      "kinoml_OEProteinStructureFeaturizer_PsaA_4f8o_edit_protein.pdb\n",
      "kinoml_OEProteinStructureFeaturizer_PsaA_4f8o_protein.oeb\n",
      "kinoml_OEProteinStructureFeaturizer_PsaA_4f8o_protein.pdb\n"
     ]
    }
   ],
   "source": [
    "for path in sorted(Path(user_cache_dir() + \"/protein\").glob(\"*\")):\n",
    "    print(path.name)"
   ]
  },
  {
   "cell_type": "code",
   "execution_count": 12,
   "id": "4b278a03-9f3d-43fa-adf3-29a230b49b7d",
   "metadata": {},
   "outputs": [],
   "source": [
    "# these are pytest nbval checks\n",
    "# check number of residues\n",
    "assert len(systems[0].featurizations[\"last\"].residues) == 239\n",
    "assert len(systems[1].featurizations[\"last\"].residues) == 216\n",
    "assert len(systems[2].featurizations[\"last\"].residues) == 109\n",
    "\n",
    "# check numbering of first residue\n",
    "assert systems[0].featurizations[\"last\"].residues[0].resid == 1\n",
    "assert systems[1].featurizations[\"last\"].residues[0].resid == 44\n",
    "assert systems[2].featurizations[\"last\"].residues[0].resid == 47"
   ]
  },
  {
   "cell_type": "markdown",
   "id": "b00d8b82-329d-4a6b-9fd2-54a5671533a9",
   "metadata": {},
   "source": [
    "## OEComplexFeaturizer"
   ]
  },
  {
   "cell_type": "code",
   "execution_count": 13,
   "id": "8260c926-b2ad-4700-bb50-4056c2aa63ad",
   "metadata": {},
   "outputs": [
    {
     "name": "stdout",
     "output_type": "stream",
     "text": [
      "Given systems with exactly one protein and one ligand, prepare the complex\n",
      "structure by:\n",
      "\n",
      " - modeling missing loops\n",
      " - building missing side chains\n",
      " - mutations, if `uniprot_id` or `sequence` attribute is provided for the\n",
      "   protein component (see below)\n",
      " - removing everything but protein, water and ligand of interest\n",
      " - protonation at pH 7.4\n",
      "\n",
      "The protein component of each system must be a `core.proteins.Protein` or\n",
      "a subclass thereof, must be initialized with toolkit='OpenEye' and give\n",
      "access to the molecular structure, e.g. via a pdb_id. Additionally, the\n",
      "protein component can have the following optional attributes to customize\n",
      "the protein modeling:\n",
      "\n",
      " - `name`: A string specifying the name of the protein, will be used for\n",
      "   generating the output file name.\n",
      " - `chain_id`: A string specifying which chain should be used.\n",
      " - `alternate_location`: A string specifying which alternate location\n",
      "   should be used.\n",
      " - `expo_id`: A string specifying the ligand of interest. This is\n",
      "   especially useful if multiple ligands are present in a PDB structure.\n",
      " - `uniprot_id`: A string specifying the UniProt ID that will be used to\n",
      "   fetch the amino acid sequence from UniProt, which will be used for\n",
      "   modeling the protein. This will supersede the sequence information\n",
      "   given in the PDB header.\n",
      " - `sequence`: A string specifying the amino acid sequence in\n",
      "   one-letter-codes that should be used during modeling the protein. This\n",
      "   will supersede a given `uniprot_id` and the sequence information given\n",
      "   in the PDB header.\n",
      "\n",
      "The ligand component of each system must be a `core.components.BaseLigand`\n",
      "or a subclass thereof. The ligand component can have the following\n",
      "optional attributes:\n",
      "\n",
      " - `name`: A string specifying the name of the ligand, will be used for\n",
      "   generating the output file name.\n",
      "\n",
      "Parameters\n",
      "----------\n",
      "loop_db: str\n",
      "    The path to the loop database used by OESpruce to model missing loops.\n",
      "cache_dir: str, Path or None, default=None\n",
      "    Path to directory used for saving intermediate files. If None, default\n",
      "    location provided by `appdirs.user_cache_dir()` will be used.\n",
      "output_dir: str, Path or None, default=None\n",
      "    Path to directory used for saving output files. If None, output\n",
      "    structures will not be saved.\n",
      "use_multiprocessing : bool, default=True\n",
      "    If multiprocessing to use.\n",
      "n_processes : int or None, default=None\n",
      "    How many processes to use in case of multiprocessing. Defaults to\n",
      "    number of available CPUs.\n",
      "\n",
      "Note\n",
      "----\n",
      "If the ligand of interest is covalently bonded to the protein, the\n",
      "covalent bond will be broken. This may lead to the transformation of the\n",
      "ligand into a radical.\n"
     ]
    }
   ],
   "source": [
    "print(inspect.getdoc(OEComplexFeaturizer))"
   ]
  },
  {
   "cell_type": "code",
   "execution_count": 14,
   "id": "f39650b8-ca2f-4791-939c-4ac4ae6a6af4",
   "metadata": {},
   "outputs": [],
   "source": [
    "systems = []"
   ]
  },
  {
   "cell_type": "code",
   "execution_count": 15,
   "id": "1983dcc6-8234-46f3-8ee4-e165576f71e1",
   "metadata": {},
   "outputs": [],
   "source": [
    "protein = Protein(pdb_id=\"4f8o\", name=\"PsaA\")\n",
    "ligand = Ligand(name=\"AEBSF\")\n",
    "system = ProteinLigandComplex(components=[protein, ligand])\n",
    "systems.append(system)"
   ]
  },
  {
   "cell_type": "code",
   "execution_count": 16,
   "id": "cee7ded4-954c-4d0d-8dd5-11c8db2de4d8",
   "metadata": {},
   "outputs": [],
   "source": [
    "protein = Protein.from_pdb(pdb_id=\"4f8o\", name=\"PsaA\")\n",
    "protein.uniprot_id = \"P31522\"\n",
    "protein.chain_id = \"A\"\n",
    "protein.alternate_location = \"B\"\n",
    "protein.expo_id = \"AES\"\n",
    "ligand = Ligand(name=\"AEBSF\")\n",
    "system = ProteinLigandComplex(components=[protein, ligand])\n",
    "systems.append(system)"
   ]
  },
  {
   "cell_type": "code",
   "execution_count": 17,
   "id": "5458d5a5-6358-4fd4-9d64-2e734569d1d0",
   "metadata": {},
   "outputs": [],
   "source": [
    "featurizer = OEComplexFeaturizer(\n",
    "    output_dir=user_cache_dir() + \"/complex\",\n",
    ")"
   ]
  },
  {
   "cell_type": "code",
   "execution_count": 18,
   "id": "8eb84eac-ca63-4b72-b938-c7efa55ec19c",
   "metadata": {},
   "outputs": [
    {
     "data": {
      "text/plain": [
       "[<ProteinLigandComplex with 2 components (<Protein name=PsaA>, <Ligand name=AEBSF>)>,\n",
       " <ProteinLigandComplex with 2 components (<Protein name=PsaA>, <Ligand name=AEBSF>)>]"
      ]
     },
     "execution_count": 18,
     "metadata": {},
     "output_type": "execute_result"
    }
   ],
   "source": [
    "%%capture --no-display\n",
    "systems = featurizer.featurize(systems)\n",
    "systems"
   ]
  },
  {
   "cell_type": "markdown",
   "id": "0e684725-a286-4e5a-bbed-c3cf314b7c41",
   "metadata": {},
   "source": [
    "If an `output_dir` was provided, the prepared structure is saved in PDB and OEB format, the prepared ligand is additionally saved in SDF format."
   ]
  },
  {
   "cell_type": "code",
   "execution_count": 19,
   "id": "354f1e57-0e54-49b4-ab07-2e0f53b203c5",
   "metadata": {},
   "outputs": [
    {
     "name": "stdout",
     "output_type": "stream",
     "text": [
      "kinoml_OEComplexFeaturizer_PsaA_4f8o_AEBSF_complex.oeb\n",
      "kinoml_OEComplexFeaturizer_PsaA_4f8o_AEBSF_complex.pdb\n",
      "kinoml_OEComplexFeaturizer_PsaA_4f8o_AEBSF_ligand.sdf\n",
      "kinoml_OEComplexFeaturizer_PsaA_4f8o_AEBSF_protein.oeb\n",
      "kinoml_OEComplexFeaturizer_PsaA_4f8o_AEBSF_protein.pdb\n",
      "kinoml_OEComplexFeaturizer_PsaA_4f8o_chainA_altlocB_AEBSF_complex.oeb\n",
      "kinoml_OEComplexFeaturizer_PsaA_4f8o_chainA_altlocB_AEBSF_complex.pdb\n",
      "kinoml_OEComplexFeaturizer_PsaA_4f8o_chainA_altlocB_AEBSF_ligand.sdf\n",
      "kinoml_OEComplexFeaturizer_PsaA_4f8o_chainA_altlocB_AEBSF_protein.oeb\n",
      "kinoml_OEComplexFeaturizer_PsaA_4f8o_chainA_altlocB_AEBSF_protein.pdb\n"
     ]
    }
   ],
   "source": [
    "for path in sorted(Path(user_cache_dir() + \"/complex\").glob(\"*\")):\n",
    "    print(path.name)"
   ]
  },
  {
   "cell_type": "code",
   "execution_count": 20,
   "id": "19bdc79d-6e99-49a7-a253-592e2a51cb04",
   "metadata": {},
   "outputs": [],
   "source": [
    "# these are pytest nbval checks\n",
    "# check LIG exists\n",
    "assert len(systems[0].featurizations[\"last\"].select_atoms(\"resname LIG\").residues) == 1\n",
    "assert len(systems[1].featurizations[\"last\"].select_atoms(\"resname LIG\").residues) == 1\n",
    "\n",
    "# check caps\n",
    "assert len(systems[0].featurizations[\"last\"].select_atoms(\"resname ACE or resname NME\").residues) == 2\n",
    "assert len(systems[1].featurizations[\"last\"].select_atoms(\"resname ACE or resname NME\").residues) == 1\n",
    "\n",
    "# check number of residues\n",
    "assert len(systems[0].featurizations[\"last\"].residues) == 240\n",
    "assert len(systems[1].featurizations[\"last\"].residues) == 217\n",
    "\n",
    "# check numbering of first residue\n",
    "assert systems[0].featurizations[\"last\"].residues[0].resid == 1\n",
    "assert systems[1].featurizations[\"last\"].residues[0].resid == 44"
   ]
  },
  {
   "cell_type": "markdown",
   "id": "5e0012c1-1895-47dc-b501-71f4b763477d",
   "metadata": {},
   "source": [
    "## OEDockingFeaturizer"
   ]
  },
  {
   "cell_type": "markdown",
   "id": "a45a20ff-9a98-4368-8a46-20e05bdcaba3",
   "metadata": {},
   "source": [
    "The `OEDockingFeaturizer` supports [3 docking methods](https://docs.eyesopen.com/toolkits/python/dockingtk/index.html), i.e.:\n",
    " - **Fred** - standard docking protocol\n",
    " - **Hybrid** - biased by co-crystallized ligand\n",
    " - **Posit** - bias depends on the similarity to the co-crystallized ligand"
   ]
  },
  {
   "cell_type": "code",
   "execution_count": 21,
   "id": "8528adcf-b340-491d-b5ff-575964bbbfea",
   "metadata": {},
   "outputs": [
    {
     "name": "stdout",
     "output_type": "stream",
     "text": [
      "Given systems with exactly one protein and one ligand, prepare the\n",
      "structure and dock the ligand into the prepared protein structure with\n",
      "one of OpenEye's docking algorithms:\n",
      "\n",
      " - modeling missing loops\n",
      " - building missing side chains\n",
      " - mutations, if `uniprot_id` or `sequence` attribute is provided for the\n",
      "   protein component (see below)\n",
      " - removing everything but protein, water and ligand of interest\n",
      " - protonation at pH 7.4\n",
      " - perform docking\n",
      "\n",
      "The protein component of each system must be a `core.proteins.Protein` or\n",
      "a subclass thereof, must be initialized with toolkit='OpenEye' and give\n",
      "access to the molecular structure, e.g. via a pdb_id. Additionally, the\n",
      "protein component can have the following optional attributes to customize\n",
      "the protein modeling:\n",
      "\n",
      " - `name`: A string specifying the name of the protein, will be used for\n",
      "   generating the output file name.\n",
      " - `chain_id`: A string specifying which chain should be used.\n",
      " - `alternate_location`: A string specifying which alternate location\n",
      "   should be used.\n",
      " - `expo_id`: A string specifying a ligand bound to the protein of\n",
      "   interest. This is especially useful if multiple proteins are found in\n",
      "   one PDB structure.\n",
      " - `uniprot_id`: A string specifying the UniProt ID that will be used to\n",
      "   fetch the amino acid sequence from UniProt, which will be used for\n",
      "   modeling the protein. This will supersede the sequence information\n",
      "   given in the PDB header.\n",
      " - `sequence`: A string specifying the amino acid sequence in\n",
      "   one-letter-codes that should be used during modeling the protein. This\n",
      "   will supersede a given `uniprot_id` and the sequence information given\n",
      "   in the PDB header.\n",
      " - `pocket_resids`: List of integers specifying the residues in the\n",
      "   binding pocket of interest. This attribute is required if docking with\n",
      "   Fred into an apo structure.\n",
      "\n",
      "The ligand component of each system must be a `core.ligands.Ligand` or a\n",
      "subclass thereof and give access to the molecular structure, e.g. via a\n",
      "SMILES. Additionally, the ligand component can have the following optional\n",
      "attributes:\n",
      "\n",
      " - `name`: A string specifying the name of the ligand, will be used for\n",
      "   generating the output file name.\n",
      "\n",
      "Parameters\n",
      "----------\n",
      "method: str, default=\"Posit\"\n",
      "    The docking method to use [\"Fred\", \"Hybrid\", \"Posit\"].\n",
      "loop_db: str\n",
      "    The path to the loop database used by OESpruce to model missing loops.\n",
      "cache_dir: str, Path or None, default=None\n",
      "    Path to directory used for saving intermediate files. If None, default\n",
      "    location provided by `appdirs.user_cache_dir()` will be used.\n",
      "output_dir: str, Path or None, default=None\n",
      "    Path to directory used for saving output files. If None, output\n",
      "    structures will not be saved.\n",
      "use_multiprocessing : bool, default=True\n",
      "    If multiprocessing to use.\n",
      "n_processes : int or None, default=None\n",
      "    How many processes to use in case of multiprocessing. Defaults to\n",
      "    number of available CPUs.\n",
      "pKa_norm: bool, default=True\n",
      "    Assign the predominant ionization state of the molecules to dock at pH\n",
      "    ~7.4. If False, the ionization state of the input molecules will be\n",
      "    conserved.\n"
     ]
    }
   ],
   "source": [
    "print(inspect.getdoc(OEDockingFeaturizer))"
   ]
  },
  {
   "cell_type": "markdown",
   "id": "3f10336d-6237-480c-a753-7c68bc6e3e2c",
   "metadata": {},
   "source": [
    "### Fred"
   ]
  },
  {
   "cell_type": "code",
   "execution_count": 22,
   "id": "25ec8a4c-a609-4810-adcd-9a4af11bf5ff",
   "metadata": {},
   "outputs": [],
   "source": [
    "systems = []"
   ]
  },
  {
   "cell_type": "code",
   "execution_count": 23,
   "id": "20c215d2-dee7-4d85-a97b-85fbbadd4f36",
   "metadata": {},
   "outputs": [],
   "source": [
    "# define the binding site for docking via co-crystallized ligand\n",
    "protein = Protein(pdb_id=\"4yne\", name=\"NTRK1\")\n",
    "protein.expo_id = \"4EK\"\n",
    "ligand = Ligand(smiles=\"C1CC(N(C1)C2=NC3=C(C=NN3C=C2)NC(=O)N4CCC(C4)O)C5=C(C=CC(=C5)F)F\", name=\"larotrectinib\")\n",
    "system = ProteinLigandComplex(components=[protein, ligand])\n",
    "systems.append(system)"
   ]
  },
  {
   "cell_type": "code",
   "execution_count": 24,
   "id": "366da943-7ad5-450f-910f-6a395d22e0e5",
   "metadata": {},
   "outputs": [],
   "source": [
    "# define the binding site for docking via residue IDs\n",
    "protein = Protein(pdb_id=\"4yne\", name=\"NTRK1\")\n",
    "protein.pocket_resids = [\n",
    "    516, 517, 521, 524, 542, 544, 573, 589, 590, 591, 592, 595, 596, 654, 655, 656, 657, 667, 668\n",
    "]\n",
    "ligand = Ligand(smiles=\"C1CC(N(C1)C2=NC3=C(C=NN3C=C2)NC(=O)N4CCC(C4)O)C5=C(C=CC(=C5)F)F\", name=\"larotrectinib_2\")\n",
    "system = ProteinLigandComplex(components=[protein, ligand])\n",
    "systems.append(system)"
   ]
  },
  {
   "cell_type": "code",
   "execution_count": 25,
   "id": "c3294d21-7f6b-4e05-97a1-ecfae31230d7",
   "metadata": {},
   "outputs": [],
   "source": [
    "featurizer = OEDockingFeaturizer(\n",
    "    output_dir=user_cache_dir() + \"/Fred\",\n",
    "    method=\"Fred\"\n",
    ")"
   ]
  },
  {
   "cell_type": "code",
   "execution_count": 26,
   "id": "b3e703d3-b47d-4b37-ba7c-7847f5eecdbc",
   "metadata": {},
   "outputs": [
    {
     "data": {
      "text/plain": [
       "[<ProteinLigandComplex with 2 components (<Protein name=NTRK1>, <Ligand name=larotrectinib>)>,\n",
       " <ProteinLigandComplex with 2 components (<Protein name=NTRK1>, <Ligand name=larotrectinib_2>)>]"
      ]
     },
     "execution_count": 26,
     "metadata": {},
     "output_type": "execute_result"
    }
   ],
   "source": [
    "%%capture --no-display\n",
    "systems = featurizer.featurize(systems)\n",
    "systems"
   ]
  },
  {
   "cell_type": "markdown",
   "id": "092d09db-9220-4b29-9efc-cab0e0210dbc",
   "metadata": {},
   "source": [
    "Docking scores are stored in the returned MDAnalysis universe."
   ]
  },
  {
   "cell_type": "code",
   "execution_count": 27,
   "id": "9febec67-160a-4ac7-aaeb-a3defb113101",
   "metadata": {},
   "outputs": [
    {
     "data": {
      "text/plain": [
       "[-17.801493, -3.960361]"
      ]
     },
     "execution_count": 27,
     "metadata": {},
     "output_type": "execute_result"
    }
   ],
   "source": [
    "[system.featurizations[\"last\"]._topology.docking_score for system in systems]"
   ]
  },
  {
   "cell_type": "code",
   "execution_count": 28,
   "id": "a794b248-48d9-4936-a4f6-fd5acbf9c485",
   "metadata": {},
   "outputs": [],
   "source": [
    "# these are pytest nbval checks\n",
    "# check LIG exists\n",
    "assert len(systems[0].featurizations[\"last\"].select_atoms(\"resname LIG\").residues) == 1\n",
    "assert len(systems[1].featurizations[\"last\"].select_atoms(\"resname LIG\").residues) == 1\n",
    "\n",
    "# check caps\n",
    "assert len(systems[0].featurizations[\"last\"].select_atoms(\"resname ACE or resname NME\").residues) == 10\n",
    "assert len(systems[1].featurizations[\"last\"].select_atoms(\"resname ACE or resname NME\").residues) == 10\n",
    "\n",
    "# check numbering of first residue\n",
    "assert systems[0].featurizations[\"last\"].residues[0].resid == 501\n",
    "assert systems[1].featurizations[\"last\"].residues[0].resid == 501"
   ]
  },
  {
   "cell_type": "markdown",
   "id": "fe503149-8950-4319-8d78-3d178fd6f200",
   "metadata": {},
   "source": [
    "### Hybrid"
   ]
  },
  {
   "cell_type": "code",
   "execution_count": 29,
   "id": "4e8e8ce9-4b90-43de-9ae7-12bb935bcb20",
   "metadata": {},
   "outputs": [],
   "source": [
    "systems = []"
   ]
  },
  {
   "cell_type": "code",
   "execution_count": 30,
   "id": "53fd6089-158d-4682-a4f6-2b411d1140f9",
   "metadata": {},
   "outputs": [],
   "source": [
    "protein = Protein(pdb_id=\"4yne\", name=\"NTRK1\")\n",
    "protein.expo_id = \"4EK\"\n",
    "ligand = Ligand(smiles=\"C1CC(N(C1)C2=NC3=C(C=NN3C=C2)NC(=O)N4CCC(C4)O)C5=C(C=CC(=C5)F)F\", name=\"larotrectinib\")\n",
    "system = ProteinLigandComplex(components=[protein, ligand])\n",
    "systems.append(system)"
   ]
  },
  {
   "cell_type": "code",
   "execution_count": 31,
   "id": "e81e540e-b6d2-48b7-ae97-ff15dcc8d394",
   "metadata": {},
   "outputs": [],
   "source": [
    "featurizer = OEDockingFeaturizer(\n",
    "    output_dir=user_cache_dir() + \"/Hybrid\",\n",
    "    method=\"Hybrid\"\n",
    ")"
   ]
  },
  {
   "cell_type": "code",
   "execution_count": 32,
   "id": "42b85a04-1d97-41af-af7d-9647645cc5c9",
   "metadata": {},
   "outputs": [
    {
     "data": {
      "text/plain": [
       "[<ProteinLigandComplex with 2 components (<Protein name=NTRK1>, <Ligand name=larotrectinib>)>]"
      ]
     },
     "execution_count": 32,
     "metadata": {},
     "output_type": "execute_result"
    }
   ],
   "source": [
    "%%capture --no-display\n",
    "systems = featurizer.featurize(systems)\n",
    "systems"
   ]
  },
  {
   "cell_type": "code",
   "execution_count": 33,
   "id": "a3be5318-50ca-431d-be5d-cdfff6503614",
   "metadata": {},
   "outputs": [],
   "source": [
    "# these are pytest nbval checks\n",
    "# check LIG exists\n",
    "assert len(systems[0].featurizations[\"last\"].select_atoms(\"resname LIG\").residues) == 1\n",
    "\n",
    "# check caps\n",
    "assert len(systems[0].featurizations[\"last\"].select_atoms(\"resname ACE or resname NME\").residues) == 10\n",
    "\n",
    "# check numbering of first residue\n",
    "assert systems[0].featurizations[\"last\"].residues[0].resid == 501"
   ]
  },
  {
   "cell_type": "markdown",
   "id": "67ada0eb-be71-4259-9874-6aee5eb5ba46",
   "metadata": {
    "tags": []
   },
   "source": [
    "### Posit"
   ]
  },
  {
   "cell_type": "code",
   "execution_count": 34,
   "id": "9387b999-9339-4629-95ad-ccd358989dc5",
   "metadata": {},
   "outputs": [],
   "source": [
    "systems = []"
   ]
  },
  {
   "cell_type": "code",
   "execution_count": 35,
   "id": "c353801e-beb7-4584-9ab3-bfce88a575bf",
   "metadata": {},
   "outputs": [],
   "source": [
    "protein = Protein(pdb_id=\"4yne\", name=\"NTRK1\")\n",
    "protein.expo_id = \"4EK\"\n",
    "ligand = Ligand(smiles=\"C1CC(N(C1)C2=NC3=C(C=NN3C=C2)NC(=O)N4CCC(C4)O)C5=C(C=CC(=C5)F)F\", name=\"larotrectinib\")\n",
    "system = ProteinLigandComplex(components=[protein, ligand])\n",
    "systems.append(system)"
   ]
  },
  {
   "cell_type": "code",
   "execution_count": 36,
   "id": "a36321ea-4171-46d2-ab13-342bd8ad00ad",
   "metadata": {},
   "outputs": [],
   "source": [
    "featurizer = OEDockingFeaturizer(\n",
    "    output_dir=user_cache_dir() + \"/Posit\",\n",
    "    method=\"Posit\"\n",
    ")"
   ]
  },
  {
   "cell_type": "code",
   "execution_count": 37,
   "id": "9f89a73b-8237-42bd-be31-65d828cf56f3",
   "metadata": {},
   "outputs": [
    {
     "data": {
      "text/plain": [
       "[<ProteinLigandComplex with 2 components (<Protein name=NTRK1>, <Ligand name=larotrectinib>)>]"
      ]
     },
     "execution_count": 37,
     "metadata": {},
     "output_type": "execute_result"
    }
   ],
   "source": [
    "%%capture --no-display\n",
    "systems = featurizer.featurize(systems)\n",
    "systems"
   ]
  },
  {
   "cell_type": "markdown",
   "id": "540e3ec0-6a95-43df-8764-832c0912e648",
   "metadata": {},
   "source": [
    "Beside the docking score, the Posit probability is also stored in the returned MDAnaylsis universe."
   ]
  },
  {
   "cell_type": "code",
   "execution_count": 38,
   "id": "41ac2ac5-2e66-45d9-87ac-fa15efe4f0cc",
   "metadata": {},
   "outputs": [
    {
     "data": {
      "text/plain": [
       "0.5"
      ]
     },
     "execution_count": 38,
     "metadata": {},
     "output_type": "execute_result"
    }
   ],
   "source": [
    "systems[0].featurizations[\"last\"]._topology.posit_probability"
   ]
  },
  {
   "cell_type": "code",
   "execution_count": 39,
   "id": "c30e74d6-8c22-4160-8128-f98acae7479b",
   "metadata": {},
   "outputs": [],
   "source": [
    "# these are pytest nbval checks\n",
    "# check LIG exists\n",
    "assert len(systems[0].featurizations[\"last\"].select_atoms(\"resname LIG\").residues) == 1\n",
    "\n",
    "# check caps\n",
    "assert len(systems[0].featurizations[\"last\"].select_atoms(\"resname ACE or resname NME\").residues) == 10\n",
    "\n",
    "# check numbering of first residue\n",
    "assert systems[0].featurizations[\"last\"].residues[0].resid == 501"
   ]
  },
  {
   "cell_type": "markdown",
   "id": "f12885ea-b91f-473e-882a-08ddcb99d60f",
   "metadata": {
    "tags": []
   },
   "source": [
    "## MostSimilarPDBLigandFeaturizer\n",
    "\n",
    "Manually specifying the most suitable PDB structure to dock into is not practical for a larger set of ligands. Hence, the `MostSimilarPDBLigandFeaturizer` was implemented, wich can find the most suitable structure for docking in the PDB based on ligand similarity. The user can choose from one the following similarity metrics:\n",
    "\n",
    "- Fingerprint\n",
    "- Most common substructure\n",
    "- OpenEye's shape\n",
    "- Schrodinger's shape"
   ]
  },
  {
   "cell_type": "code",
   "execution_count": 40,
   "id": "9d84eacd-3b8e-49d4-b1f3-c106735a6460",
   "metadata": {},
   "outputs": [
    {
     "name": "stdout",
     "output_type": "stream",
     "text": [
      "Find the most similar co-crystallized ligand in the PDB according to a\n",
      "given SMILES and UniProt ID.\n",
      "\n",
      "The protein component of each system must be a `core.proteins.Protein` or\n",
      "a subclass thereof, and must be initialized with a `uniprot_id` parameter.\n",
      "\n",
      "The ligand component of each system must be a `core.ligands.Ligand` or a\n",
      "subclass thereof and give access to the molecular structure, e.g. via a\n",
      "SMILES.\n",
      "\n",
      "Parameters\n",
      "----------\n",
      "similarity_metric: str, default=\"fingerprint\"\n",
      "    The similarity metric to use to detect the structure with the most\n",
      "    similar ligand [\"fingerprint\", \"mcs\", \"openeye_shape\",\n",
      "    \"schrodinger_shape\"].\n",
      "cache_dir: str, Path or None, default=None\n",
      "    Path to directory used for saving intermediate files. If None, default\n",
      "    location provided by `appdirs.user_cache_dir()` will be used.\n",
      "use_multiprocessing : bool, default=True\n",
      "    If multiprocessing to use.\n",
      "n_processes : int or None, default=None\n",
      "    How many processes to use in case of multiprocessing. Defaults to\n",
      "    number of available CPUs.\n",
      "\n",
      "Note\n",
      "----\n",
      "The toolkit ['MDAnalysis' or 'OpenEye'] specified in the protein object\n",
      "initialization should fit the required toolkit when subsequently applying\n",
      "the OEDockingFeaturizer or SCHRODINGERDockingFeaturizer.\n"
     ]
    }
   ],
   "source": [
    "print(inspect.getdoc(MostSimilarPDBLigandFeaturizer))"
   ]
  },
  {
   "cell_type": "markdown",
   "id": "163bef90-207c-4023-b494-6847af3f4958",
   "metadata": {},
   "source": [
    "### Most common substructure"
   ]
  },
  {
   "cell_type": "code",
   "execution_count": 41,
   "id": "372d7ea1-324a-4f44-8b8d-3cc3021d2c81",
   "metadata": {},
   "outputs": [],
   "source": [
    "systems = []"
   ]
  },
  {
   "cell_type": "code",
   "execution_count": 42,
   "id": "83002b9e-0eb8-4f39-8d55-2cbb3b55d7a4",
   "metadata": {},
   "outputs": [],
   "source": [
    "protein = Protein(uniprot_id=\"P04629\", name=\"NTRK1\")\n",
    "ligand = Ligand(smiles=\"C1CC(N(C1)C2=NC3=C(C=NN3C=C2)NC(=O)N4CCC(C4)O)C5=C(C=CC(=C5)F)F\", name=\"larotrectinib\")\n",
    "system = ProteinLigandComplex(components=[protein, ligand])\n",
    "systems.append(system)"
   ]
  },
  {
   "cell_type": "code",
   "execution_count": 43,
   "id": "cac30a83-1546-4abd-9186-d951a2d52a8c",
   "metadata": {},
   "outputs": [],
   "source": [
    "featurizer = MostSimilarPDBLigandFeaturizer(\n",
    "    similarity_metric=\"mcs\"\n",
    ")"
   ]
  },
  {
   "cell_type": "code",
   "execution_count": 44,
   "id": "edcd8461-6b23-4e39-9800-e7755c640a45",
   "metadata": {},
   "outputs": [
    {
     "data": {
      "text/plain": [
       "('4YNE', 'A', '4EK')"
      ]
     },
     "execution_count": 44,
     "metadata": {},
     "output_type": "execute_result"
    },
    {
     "name": "stdout",
     "output_type": "stream",
     "text": [
      "4.39 s ± 0 ns per loop (mean ± std. dev. of 1 run, 1 loop each)\n"
     ]
    }
   ],
   "source": [
    "%%timeit -n 1 -r 1\n",
    "%%capture --no-display\n",
    "systems = featurizer.featurize(systems)\n",
    "systems[0].protein.pdb_id, systems[0].protein.chain_id, systems[0].protein.expo_id"
   ]
  },
  {
   "cell_type": "markdown",
   "id": "be0b03ee-6123-4077-b3fd-586bce4bf748",
   "metadata": {},
   "source": [
    "### Fingerprint"
   ]
  },
  {
   "cell_type": "code",
   "execution_count": 45,
   "id": "0c7dcbf1-7607-4b5f-8ed4-44f0a00b41e7",
   "metadata": {},
   "outputs": [],
   "source": [
    "featurizer = MostSimilarPDBLigandFeaturizer(\n",
    "    similarity_metric=\"fingerprint\"\n",
    ")"
   ]
  },
  {
   "cell_type": "code",
   "execution_count": 46,
   "id": "61322085-91dd-47b6-9517-33383a7d5a5c",
   "metadata": {},
   "outputs": [
    {
     "data": {
      "text/plain": [
       "('4YNE', 'A', '4EK')"
      ]
     },
     "execution_count": 46,
     "metadata": {},
     "output_type": "execute_result"
    },
    {
     "name": "stdout",
     "output_type": "stream",
     "text": [
      "3.88 s ± 0 ns per loop (mean ± std. dev. of 1 run, 1 loop each)\n"
     ]
    }
   ],
   "source": [
    "%%timeit -n 1 -r 1\n",
    "%%capture --no-display\n",
    "systems = featurizer.featurize(systems)\n",
    "systems[0].protein.pdb_id, systems[0].protein.chain_id, systems[0].protein.expo_id"
   ]
  },
  {
   "cell_type": "markdown",
   "id": "af8fc96b-3dae-4fcf-bf50-693df0fa9be8",
   "metadata": {},
   "source": [
    "### OpenEye's shape"
   ]
  },
  {
   "cell_type": "code",
   "execution_count": 47,
   "id": "f052e537-e0ab-4ba2-9549-40b809ea112f",
   "metadata": {},
   "outputs": [],
   "source": [
    "featurizer = MostSimilarPDBLigandFeaturizer(\n",
    "    similarity_metric=\"openeye_shape\"\n",
    ")"
   ]
  },
  {
   "cell_type": "code",
   "execution_count": 48,
   "id": "350ebff7-9fe2-4f12-9ec1-5cb65b8848d5",
   "metadata": {},
   "outputs": [
    {
     "data": {
      "text/plain": [
       "('4YNE', 'A', '4EK')"
      ]
     },
     "execution_count": 48,
     "metadata": {},
     "output_type": "execute_result"
    },
    {
     "name": "stdout",
     "output_type": "stream",
     "text": [
      "3min 37s ± 0 ns per loop (mean ± std. dev. of 1 run, 1 loop each)\n"
     ]
    }
   ],
   "source": [
    "%%timeit -n 1 -r 1\n",
    "%%capture --no-display\n",
    "systems = featurizer.featurize(systems)\n",
    "systems[0].protein.pdb_id, systems[0].protein.chain_id, systems[0].protein.expo_id"
   ]
  },
  {
   "cell_type": "markdown",
   "id": "8a071c6c-0ac7-4ddd-8222-2dc286422504",
   "metadata": {},
   "source": [
    "Using shape is clearly the slowest option, but in many cases the most accurate one."
   ]
  },
  {
   "cell_type": "markdown",
   "id": "6d6e7776-604e-4072-bffd-89aaef4bd034",
   "metadata": {},
   "source": [
    "### Pipeline of MostSimilarPDBLigandFeaturizer and OEDockingFeaturizer\n",
    "\n",
    "The `MostSimilarPDBLigandFeaturizer` can be joined with the `OEDockingFeaturizer` into a `Pipeline` featurizer."
   ]
  },
  {
   "cell_type": "code",
   "execution_count": 49,
   "id": "836af6ba-0207-43ed-890d-e2f863dce352",
   "metadata": {},
   "outputs": [],
   "source": [
    "systems = []"
   ]
  },
  {
   "cell_type": "code",
   "execution_count": 50,
   "id": "ffc06935-e0ae-4a73-bf7d-4ff0669eebe9",
   "metadata": {},
   "outputs": [],
   "source": [
    "protein = Protein(uniprot_id=\"P04629\", name=\"NTRK1\")\n",
    "ligand = Ligand(smiles=\"C1CC(N(C1)C2=NC3=C(C=NN3C=C2)NC(=O)N4CCC(C4)O)C5=C(C=CC(=C5)F)F\", name=\"larotrectinib\")\n",
    "system = ProteinLigandComplex(components=[protein, ligand])\n",
    "systems.append(system)"
   ]
  },
  {
   "cell_type": "code",
   "execution_count": 51,
   "id": "aad92cea-d047-40e3-b194-92c3130a3223",
   "metadata": {},
   "outputs": [],
   "source": [
    "featurizer = Pipeline([\n",
    "    MostSimilarPDBLigandFeaturizer(similarity_metric=\"fingerprint\"),\n",
    "    OEDockingFeaturizer(output_dir=user_cache_dir() + \"/docking_pipeline\", method=\"Posit\"),\n",
    "])"
   ]
  },
  {
   "cell_type": "code",
   "execution_count": 52,
   "id": "6b2776cb-774d-4255-b299-7c56ccec611a",
   "metadata": {},
   "outputs": [
    {
     "data": {
      "text/plain": [
       "[<ProteinLigandComplex with 2 components (<Protein name=NTRK1>, <Ligand name=larotrectinib>)>]"
      ]
     },
     "execution_count": 52,
     "metadata": {},
     "output_type": "execute_result"
    }
   ],
   "source": [
    "%%capture --no-display\n",
    "systems = featurizer.featurize(systems)\n",
    "systems"
   ]
  },
  {
   "cell_type": "code",
   "execution_count": 53,
   "id": "36b3c973-9931-4442-945b-e339dab3f1c6",
   "metadata": {},
   "outputs": [
    {
     "data": {
      "text/plain": [
       "{'last': <Universe with 4783 atoms>,\n",
       " 'Pipeline([MostSimilarPDBLigandFeaturizer, OEDockingFeaturizer])': <Universe with 4783 atoms>}"
      ]
     },
     "execution_count": 53,
     "metadata": {},
     "output_type": "execute_result"
    }
   ],
   "source": [
    "systems[0].featurizations"
   ]
  },
  {
   "cell_type": "markdown",
   "id": "3f98d648-0e40-49ce-b1e2-4d8c7fd0d01a",
   "metadata": {},
   "source": [
    "## KLIFSConformationTemplatesFeaturizer\n",
    "\n",
    "The `KLIFSConformationTemplatesFeaturizer` searches for suitable templates to model a kinase:ligand complex in different conformations. The templates are selected based on ligand and sequence similarity."
   ]
  },
  {
   "cell_type": "code",
   "execution_count": 54,
   "id": "234cc3e5-e686-4700-befe-b6fc3d5a55b5",
   "metadata": {},
   "outputs": [
    {
     "name": "stdout",
     "output_type": "stream",
     "text": [
      "Find suitable kinase templates for modeling a kinase:inhibitor complex in\n",
      "different KLIFS conformations.\n",
      "\n",
      "The protein component of each system must be a `core.proteins.KLIFSKinase`,\n",
      "and must be initialized with a `uniprot_id` or `kinase_klifs_id` parameter.\n",
      "\n",
      "The ligand component of each system must be a `core.ligands.Ligand` or a\n",
      "subclass thereof and give access to the molecular structure, e.g. via a\n",
      "SMILES.\n",
      "\n",
      "Parameters\n",
      "----------\n",
      "similarity_metric: str, default=\"fingerprint\"\n",
      "    The similarity metric to use to detect the structures with similar\n",
      "    ligands [\"fingerprint\", \"mcs\", \"openeye_shape\", \"schrodinger_shape\"].\n",
      "cache_dir: str, Path or None, default=None\n",
      "    Path to directory used for saving intermediate files. If None, default\n",
      "    location provided by `appdirs.user_cache_dir()` will be used.\n",
      "use_multiprocessing : bool, default=True\n",
      "    If multiprocessing to use.\n",
      "n_processes : int or None, default=None\n",
      "    How many processes to use in case of multiprocessing. Defaults to\n",
      "    number of available CPUs.\n"
     ]
    }
   ],
   "source": [
    "print(inspect.getdoc(KLIFSConformationTemplatesFeaturizer))"
   ]
  },
  {
   "cell_type": "code",
   "execution_count": 55,
   "id": "77503924-02f5-4f7e-8198-5667982c1336",
   "metadata": {},
   "outputs": [],
   "source": [
    "systems = []"
   ]
  },
  {
   "cell_type": "code",
   "execution_count": 56,
   "id": "4caecb34-aa08-48a6-a126-35bb42f8e5f5",
   "metadata": {},
   "outputs": [],
   "source": [
    "protein = KLIFSKinase(uniprot_id=\"P04629\", name=\"NTRK1\")\n",
    "ligand = Ligand(smiles=\"C1CC(N(C1)C2=NC3=C(C=NN3C=C2)NC(=O)N4CCC(C4)O)C5=C(C=CC(=C5)F)F\", name=\"larotrectinib\")\n",
    "system = ProteinLigandComplex(components=[protein, ligand])\n",
    "systems.append(system)"
   ]
  },
  {
   "cell_type": "code",
   "execution_count": 57,
   "id": "e173d870-d37c-4225-b7c3-7f09188a0493",
   "metadata": {},
   "outputs": [],
   "source": [
    "featurizer = KLIFSConformationTemplatesFeaturizer(\n",
    "    similarity_metric=\"fingerprint\"\n",
    ")"
   ]
  },
  {
   "cell_type": "code",
   "execution_count": 58,
   "id": "1e9d34de-7dd6-4330-9345-350b0625813b",
   "metadata": {},
   "outputs": [
    {
     "data": {
      "text/plain": [
       "[<ProteinLigandComplex with 2 components (<KLIFSKinase name=NTRK1>, <Ligand name=larotrectinib>)>]"
      ]
     },
     "execution_count": 58,
     "metadata": {},
     "output_type": "execute_result"
    }
   ],
   "source": [
    "%%capture --no-display\n",
    "systems = featurizer.featurize(systems)\n",
    "systems"
   ]
  },
  {
   "cell_type": "code",
   "execution_count": 59,
   "id": "6c4624b7-93fc-4d5d-b941-2d3ff70de37f",
   "metadata": {},
   "outputs": [
    {
     "data": {
      "text/html": [
       "<div>\n",
       "<style scoped>\n",
       "    .dataframe tbody tr th:only-of-type {\n",
       "        vertical-align: middle;\n",
       "    }\n",
       "\n",
       "    .dataframe tbody tr th {\n",
       "        vertical-align: top;\n",
       "    }\n",
       "\n",
       "    .dataframe thead th {\n",
       "        text-align: right;\n",
       "    }\n",
       "</style>\n",
       "<table border=\"1\" class=\"dataframe\">\n",
       "  <thead>\n",
       "    <tr style=\"text-align: right;\">\n",
       "      <th></th>\n",
       "      <th>dfg</th>\n",
       "      <th>ac_helix</th>\n",
       "      <th>pdb_id</th>\n",
       "      <th>chain_id</th>\n",
       "      <th>expo_id</th>\n",
       "      <th>ligand_similarity</th>\n",
       "      <th>pocket_similarity</th>\n",
       "    </tr>\n",
       "  </thead>\n",
       "  <tbody>\n",
       "    <tr>\n",
       "      <th>0</th>\n",
       "      <td>in</td>\n",
       "      <td>in</td>\n",
       "      <td>4yne</td>\n",
       "      <td>A</td>\n",
       "      <td>4EK</td>\n",
       "      <td>0.568047</td>\n",
       "      <td>443.0</td>\n",
       "    </tr>\n",
       "    <tr>\n",
       "      <th>1</th>\n",
       "      <td>in</td>\n",
       "      <td>out</td>\n",
       "      <td>6tfp</td>\n",
       "      <td>A</td>\n",
       "      <td>N6Z</td>\n",
       "      <td>0.534031</td>\n",
       "      <td>215.0</td>\n",
       "    </tr>\n",
       "    <tr>\n",
       "      <th>2</th>\n",
       "      <td>out</td>\n",
       "      <td>in</td>\n",
       "      <td>4pmp</td>\n",
       "      <td>A</td>\n",
       "      <td>31W</td>\n",
       "      <td>0.482759</td>\n",
       "      <td>443.0</td>\n",
       "    </tr>\n",
       "    <tr>\n",
       "      <th>3</th>\n",
       "      <td>out-like</td>\n",
       "      <td>in</td>\n",
       "      <td>6brj</td>\n",
       "      <td>A</td>\n",
       "      <td>VX6</td>\n",
       "      <td>0.521739</td>\n",
       "      <td>279.0</td>\n",
       "    </tr>\n",
       "    <tr>\n",
       "      <th>4</th>\n",
       "      <td>out-like</td>\n",
       "      <td>out</td>\n",
       "      <td>3aqv</td>\n",
       "      <td>A</td>\n",
       "      <td>TAK</td>\n",
       "      <td>0.435754</td>\n",
       "      <td>171.0</td>\n",
       "    </tr>\n",
       "    <tr>\n",
       "      <th>5</th>\n",
       "      <td>out</td>\n",
       "      <td>out</td>\n",
       "      <td>5jfv</td>\n",
       "      <td>A</td>\n",
       "      <td>6K1</td>\n",
       "      <td>0.491620</td>\n",
       "      <td>422.0</td>\n",
       "    </tr>\n",
       "  </tbody>\n",
       "</table>\n",
       "</div>"
      ],
      "text/plain": [
       "        dfg ac_helix pdb_id chain_id expo_id  ligand_similarity  \\\n",
       "0        in       in   4yne        A     4EK           0.568047   \n",
       "1        in      out   6tfp        A     N6Z           0.534031   \n",
       "2       out       in   4pmp        A     31W           0.482759   \n",
       "3  out-like       in   6brj        A     VX6           0.521739   \n",
       "4  out-like      out   3aqv        A     TAK           0.435754   \n",
       "5       out      out   5jfv        A     6K1           0.491620   \n",
       "\n",
       "   pocket_similarity  \n",
       "0              443.0  \n",
       "1              215.0  \n",
       "2              443.0  \n",
       "3              279.0  \n",
       "4              171.0  \n",
       "5              422.0  "
      ]
     },
     "execution_count": 59,
     "metadata": {},
     "output_type": "execute_result"
    }
   ],
   "source": [
    "systems[0].featurizations[\"last\"]"
   ]
  }
 ],
 "metadata": {
  "kernelspec": {
   "display_name": "Python 3 (ipykernel)",
   "language": "python",
   "name": "python3"
  },
  "language_info": {
   "codemirror_mode": {
    "name": "ipython",
    "version": 3
   },
   "file_extension": ".py",
   "mimetype": "text/x-python",
   "name": "python",
   "nbconvert_exporter": "python",
   "pygments_lexer": "ipython3",
   "version": "3.9.12"
  }
 },
 "nbformat": 4,
 "nbformat_minor": 5
}
