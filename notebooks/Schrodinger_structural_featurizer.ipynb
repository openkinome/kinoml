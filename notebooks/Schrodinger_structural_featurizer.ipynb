{
 "cells": [
  {
   "cell_type": "markdown",
   "id": "39823951-54dc-4651-bd95-e9116badf2d6",
   "metadata": {
    "papermill": {
     "duration": 0.05634,
     "end_time": "2022-03-31T07:51:31.140708",
     "exception": false,
     "start_time": "2022-03-31T07:51:31.084368",
     "status": "completed"
    },
    "tags": []
   },
   "source": [
    "# Schrodinger Structural Featurizer"
   ]
  },
  {
   "cell_type": "markdown",
   "id": "37b59918-0cad-4211-aa6a-d43a36f055a2",
   "metadata": {
    "papermill": {
     "duration": 0.035272,
     "end_time": "2022-03-31T07:51:31.218936",
     "exception": false,
     "start_time": "2022-03-31T07:51:31.183664",
     "status": "completed"
    },
    "tags": []
   },
   "source": [
    "This notebook introduces structural modeling featurizers using molecular modeling capabilities from the [Schrodinger Suite](https://www.schrodinger.com/) to prepare protein structures and to dock small molecules into their binding sites.\n",
    "\n",
    "**Note:** All structural featurizers fetch data and/or do expensive computations. Hence, fetched data (e.g. PDB structures) and intermediate results (e.g. a prepared protein structure) are stored in a cache directory to speed up calculations when featurizing the same or similar systems multiple times. The cache directory can be specified via the `cache_dir` parameter, but also has a default (`user_cache_dir` from `appdirs`). In case you update your KinoML version you should consider deleting the cache directory. Otherwise, you may get results from the former KinoML version, since the intermediate results will be taken from cache."
   ]
  },
  {
   "cell_type": "code",
   "execution_count": 1,
   "id": "ba3e7292-700b-424f-b382-73efb82b3ffd",
   "metadata": {
    "execution": {
     "iopub.execute_input": "2022-03-31T07:51:31.288127Z",
     "iopub.status.busy": "2022-03-31T07:51:31.287820Z",
     "iopub.status.idle": "2022-03-31T07:51:46.448066Z",
     "shell.execute_reply": "2022-03-31T07:51:46.447171Z"
    },
    "papermill": {
     "duration": 15.198126,
     "end_time": "2022-03-31T07:51:46.450551",
     "exception": false,
     "start_time": "2022-03-31T07:51:31.252425",
     "status": "completed"
    },
    "tags": []
   },
   "outputs": [],
   "source": [
    "%%capture --no-display\n",
    "from importlib import resources\n",
    "import inspect\n",
    "from pathlib import Path\n",
    "\n",
    "from appdirs import user_cache_dir\n",
    "\n",
    "from kinoml.core.ligands import Ligand\n",
    "from kinoml.core.proteins import Protein, KLIFSKinase\n",
    "from kinoml.core.systems import ProteinLigandComplex\n",
    "from kinoml.features.core import Pipeline\n",
    "from kinoml.features.complexes import ( \n",
    "    SCHRODINGERComplexFeaturizer, \n",
    "    SCHRODINGERDockingFeaturizer,\n",
    "    MostSimilarPDBLigandFeaturizer,\n",
    "    KLIFSConformationTemplatesFeaturizer,\n",
    ")"
   ]
  },
  {
   "cell_type": "markdown",
   "id": "b00d8b82-329d-4a6b-9fd2-54a5671533a9",
   "metadata": {
    "papermill": {
     "duration": 0.033822,
     "end_time": "2022-03-31T07:51:46.520644",
     "exception": false,
     "start_time": "2022-03-31T07:51:46.486822",
     "status": "completed"
    },
    "tags": []
   },
   "source": [
    "## SCHRODINGERComplexFeaturizer"
   ]
  },
  {
   "cell_type": "markdown",
   "id": "684afa3d-3f34-4cbe-ad12-8a089a526940",
   "metadata": {
    "papermill": {
     "duration": 0.034348,
     "end_time": "2022-03-31T07:51:46.588803",
     "exception": false,
     "start_time": "2022-03-31T07:51:46.554455",
     "status": "completed"
    },
    "tags": []
   },
   "source": [
    "All Schrodinger Featurizers come with an extensive doc string explaining the capabilities and requirements."
   ]
  },
  {
   "cell_type": "code",
   "execution_count": 2,
   "id": "8260c926-b2ad-4700-bb50-4056c2aa63ad",
   "metadata": {
    "execution": {
     "iopub.execute_input": "2022-03-31T07:51:46.659443Z",
     "iopub.status.busy": "2022-03-31T07:51:46.659189Z",
     "iopub.status.idle": "2022-03-31T07:51:46.663863Z",
     "shell.execute_reply": "2022-03-31T07:51:46.663228Z"
    },
    "papermill": {
     "duration": 0.044547,
     "end_time": "2022-03-31T07:51:46.668044",
     "exception": false,
     "start_time": "2022-03-31T07:51:46.623497",
     "status": "completed"
    },
    "tags": []
   },
   "outputs": [
    {
     "name": "stdout",
     "output_type": "stream",
     "text": [
      "Given systems with exactly one protein and one ligand, prepare the complex\n",
      "structure by:\n",
      "\n",
      " - modeling missing loops\n",
      " - building missing side chains\n",
      " - mutations, if `uniprot_id` or `sequence` attribute is provided for the\n",
      "   protein component\n",
      "   (see below)\n",
      " - removing everything but protein, water and ligand of interest\n",
      " - protonation at pH 7.4\n",
      "\n",
      "The protein component of each system must be a `core.proteins.Protein` or\n",
      "a subclass thereof, must be initialized with toolkit='MDAnalysis' and give\n",
      "access to the molecular structure, e.g. via a pdb_id. Additionally, the\n",
      "protein component can have the following optional attributes to customize\n",
      "the protein modeling:\n",
      "\n",
      " - `name`: A string specifying the name of the protein, will be used for\n",
      "   generating the output file name.\n",
      " - `chain_id`: A string specifying which chain should be used.\n",
      " - `alternate_location`: A string specifying which alternate location\n",
      "   should be used.\n",
      " - `expo_id`: A string specifying the ligand of interest. This is\n",
      "   especially useful if multiple ligands are present in a PDB structure.\n",
      " - `uniprot_id`: A string specifying the UniProt ID that will be used to\n",
      "   fetch the amino acid sequence from UniProt, which will be used for\n",
      "   modeling the protein. This will supersede the sequence information\n",
      "   given in the PDB header.\n",
      " - `sequence`: A string specifying the amino acid sequence in\n",
      "   one-letter-codes that should be used during modeling the protein. This\n",
      "   will supersede a given `uniprot_id` and the sequence information given\n",
      "   in the PDB header.\n",
      "\n",
      "The ligand component of each system must be a `core.components.BaseLigand`\n",
      "or a subclass thereof. The ligand component can have the following\n",
      "optional attributes:\n",
      "\n",
      " - `name`: A string specifying the name of the ligand, will be used for\n",
      "   generating the output file name.\n",
      "\n",
      "Parameters\n",
      "----------\n",
      "cache_dir: str, Path or None, default=None\n",
      "    Path to directory used for saving intermediate files. If None, default\n",
      "    location provided by `appdirs.user_cache_dir()` will be used.\n",
      "output_dir: str, Path or None, default=None\n",
      "    Path to directory used for saving output files. If None, output\n",
      "    structures will not be saved.\n",
      "use_multiprocessing : bool, default=True\n",
      "    If multiprocessing to use.\n",
      "n_processes : int or None, default=None\n",
      "    How many processes to use in case of multiprocessing. Defaults to\n",
      "    number of available CPUs.\n",
      "max_retry: int, default=3\n",
      "    The maximal number of attempts to try running the prepwizard step.\n",
      "build_loops: bool, default=True\n",
      "    If missing loops shell be built. Is also needed to model mutations.\n"
     ]
    }
   ],
   "source": [
    "print(inspect.getdoc(SCHRODINGERComplexFeaturizer))"
   ]
  },
  {
   "cell_type": "markdown",
   "id": "11cc845a-cc1d-4f68-a5ef-0f634352dd2e",
   "metadata": {
    "papermill": {
     "duration": 0.08538,
     "end_time": "2022-03-31T07:51:46.787709",
     "exception": false,
     "start_time": "2022-03-31T07:51:46.702329",
     "status": "completed"
    },
    "tags": []
   },
   "source": [
    "In general these featurizers will work with a minimal amount of information, e.g. just a PDB ID. However, it is recommended to be explicit as possible when defining the systems to featurize. For example, if a given PDB entry has multiple chains and ligands, the featurizer will have to guess which chain and ligand is of interest if not explicitly stated."
   ]
  },
  {
   "cell_type": "code",
   "execution_count": 3,
   "id": "f39650b8-ca2f-4791-939c-4ac4ae6a6af4",
   "metadata": {
    "execution": {
     "iopub.execute_input": "2022-03-31T07:51:46.852657Z",
     "iopub.status.busy": "2022-03-31T07:51:46.852427Z",
     "iopub.status.idle": "2022-03-31T07:51:46.855301Z",
     "shell.execute_reply": "2022-03-31T07:51:46.854806Z"
    },
    "papermill": {
     "duration": 0.035342,
     "end_time": "2022-03-31T07:51:46.857838",
     "exception": false,
     "start_time": "2022-03-31T07:51:46.822496",
     "status": "completed"
    },
    "tags": []
   },
   "outputs": [],
   "source": [
    "# collect systems to featurize, i.e. prepare the protein structure\n",
    "systems = []"
   ]
  },
  {
   "cell_type": "code",
   "execution_count": 4,
   "id": "1983dcc6-8234-46f3-8ee4-e165576f71e1",
   "metadata": {
    "execution": {
     "iopub.execute_input": "2022-03-31T07:51:46.918918Z",
     "iopub.status.busy": "2022-03-31T07:51:46.918696Z",
     "iopub.status.idle": "2022-03-31T07:51:46.922831Z",
     "shell.execute_reply": "2022-03-31T07:51:46.922119Z"
    },
    "papermill": {
     "duration": 0.039467,
     "end_time": "2022-03-31T07:51:46.925902",
     "exception": false,
     "start_time": "2022-03-31T07:51:46.886435",
     "status": "completed"
    },
    "tags": []
   },
   "outputs": [],
   "source": [
    "# unspecifc definition of the system, only via PDB ID\n",
    "# modeling will be performed according to the sequence stored in the PDB Header\n",
    "protein = Protein(pdb_id=\"4f8o\", name=\"PsaA\", toolkit=\"MDAnalysis\")\n",
    "ligand = Ligand(name=\"AEBSF\")\n",
    "system = ProteinLigandComplex(components=[protein, ligand])\n",
    "systems.append(system)"
   ]
  },
  {
   "cell_type": "code",
   "execution_count": 5,
   "id": "cee7ded4-954c-4d0d-8dd5-11c8db2de4d8",
   "metadata": {
    "execution": {
     "iopub.execute_input": "2022-03-31T07:51:46.986270Z",
     "iopub.status.busy": "2022-03-31T07:51:46.986048Z",
     "iopub.status.idle": "2022-03-31T07:51:52.329216Z",
     "shell.execute_reply": "2022-03-31T07:51:52.328478Z"
    },
    "papermill": {
     "duration": 5.375113,
     "end_time": "2022-03-31T07:51:52.331055",
     "exception": false,
     "start_time": "2022-03-31T07:51:46.955942",
     "status": "completed"
    },
    "tags": []
   },
   "outputs": [
    {
     "name": "stderr",
     "output_type": "stream",
     "text": [
      "Warning: importing 'simtk.openmm' is deprecated.  Import 'openmm' instead.\n"
     ]
    }
   ],
   "source": [
    "# more specific definition of the system, protein of chain A co-crystallized with ligand AES and\n",
    "# alternate location B, modeling will be performed according to the sequence of the given \n",
    "# UniProt ID\n",
    "protein = Protein.from_pdb(pdb_id=\"4f8o\", name=\"PsaA\", toolkit=\"MDAnalysis\")\n",
    "protein.uniprot_id = \"P31522\"\n",
    "protein.chain_id = \"A\"\n",
    "protein.alternate_location = \"B\"\n",
    "protein.expo_id = \"AES\"\n",
    "ligand = Ligand(name=\"AEBSF\")\n",
    "system = ProteinLigandComplex(components=[protein, ligand])\n",
    "systems.append(system)"
   ]
  },
  {
   "cell_type": "code",
   "execution_count": 6,
   "id": "5458d5a5-6358-4fd4-9d64-2e734569d1d0",
   "metadata": {
    "execution": {
     "iopub.execute_input": "2022-03-31T07:51:52.391445Z",
     "iopub.status.busy": "2022-03-31T07:51:52.391203Z",
     "iopub.status.idle": "2022-03-31T07:51:52.396303Z",
     "shell.execute_reply": "2022-03-31T07:51:52.395864Z"
    },
    "papermill": {
     "duration": 0.036892,
     "end_time": "2022-03-31T07:51:52.397797",
     "exception": false,
     "start_time": "2022-03-31T07:51:52.360905",
     "status": "completed"
    },
    "tags": []
   },
   "outputs": [],
   "source": [
    "featurizer = SCHRODINGERComplexFeaturizer(output_dir=\"output/complex\")"
   ]
  },
  {
   "cell_type": "markdown",
   "id": "678a9610-0009-4b0e-b5b4-cd9fc79a2177",
   "metadata": {
    "papermill": {
     "duration": 0.027223,
     "end_time": "2022-03-31T07:51:52.453193",
     "exception": false,
     "start_time": "2022-03-31T07:51:52.425970",
     "status": "completed"
    },
    "tags": []
   },
   "source": [
    "The featurizers will return the featurized systems as an [MDAnalysis universe](https://www.mdanalysis.org/). Systems that failed will be filtered out. In case one is interested in failures, one can enable logging messages via:\n",
    "```\n",
    "import logging  \n",
    "logging.basicConfig(level=logging.DEBUG)\n",
    "```"
   ]
  },
  {
   "cell_type": "code",
   "execution_count": 7,
   "id": "8eb84eac-ca63-4b72-b938-c7efa55ec19c",
   "metadata": {
    "execution": {
     "iopub.execute_input": "2022-03-31T07:51:52.511836Z",
     "iopub.status.busy": "2022-03-31T07:51:52.511624Z",
     "iopub.status.idle": "2022-03-31T07:56:48.824408Z",
     "shell.execute_reply": "2022-03-31T07:56:48.823714Z"
    },
    "papermill": {
     "duration": 296.344579,
     "end_time": "2022-03-31T07:56:48.826092",
     "exception": false,
     "start_time": "2022-03-31T07:51:52.481513",
     "status": "completed"
    },
    "tags": []
   },
   "outputs": [
    {
     "name": "stdout",
     "output_type": "stream",
     "text": [
      "JobId: lt10-0-62455dbf\n",
      "JobId: lt10-1-62455dbf\n"
     ]
    },
    {
     "name": "stderr",
     "output_type": "stream",
     "text": [
      "WARNING mmpdb_write_ct: Atom 2077 of residue A:205 (AES ) has same name (H8_1) as a prior atom.\n",
      "WARNING mmpdb_write_ct: Atom 2078 of residue A:205 (AES ) has same name (H8_2) as a prior atom.\n",
      "WARNING mmpdb_write_ct: Atom 2480 of residue A:205 (AES ) has same name (H8_1) as a prior atom.\n",
      "WARNING mmpdb_write_ct: Atom 2481 of residue A:205 (AES ) has same name (H8_2) as a prior atom.\n"
     ]
    },
    {
     "data": {
      "text/plain": [
       "[<ProteinLigandComplex with 2 components (<Protein name=PsaA>, <Ligand name=AEBSF>)>,\n",
       " <ProteinLigandComplex with 2 components (<Protein name=PsaA>, <Ligand name=AEBSF>)>]"
      ]
     },
     "execution_count": 7,
     "metadata": {},
     "output_type": "execute_result"
    }
   ],
   "source": [
    "%%capture --no-display\n",
    "systems = featurizer.featurize(systems)\n",
    "systems"
   ]
  },
  {
   "cell_type": "code",
   "execution_count": 8,
   "id": "92d67821-7c0f-4a83-be41-55e5ddd0fa46",
   "metadata": {
    "execution": {
     "iopub.execute_input": "2022-03-31T07:56:48.889382Z",
     "iopub.status.busy": "2022-03-31T07:56:48.889157Z",
     "iopub.status.idle": "2022-03-31T07:56:48.893340Z",
     "shell.execute_reply": "2022-03-31T07:56:48.892885Z"
    },
    "papermill": {
     "duration": 0.037242,
     "end_time": "2022-03-31T07:56:48.896452",
     "exception": false,
     "start_time": "2022-03-31T07:56:48.859210",
     "status": "completed"
    },
    "tags": []
   },
   "outputs": [
    {
     "data": {
      "text/plain": [
       "<Universe with 2506 atoms>"
      ]
     },
     "execution_count": 8,
     "metadata": {},
     "output_type": "execute_result"
    }
   ],
   "source": [
    "systems[0].featurizations[\"last\"]"
   ]
  },
  {
   "cell_type": "markdown",
   "id": "0e684725-a286-4e5a-bbed-c3cf314b7c41",
   "metadata": {
    "papermill": {
     "duration": 0.027713,
     "end_time": "2022-03-31T07:56:48.953161",
     "exception": false,
     "start_time": "2022-03-31T07:56:48.925448",
     "status": "completed"
    },
    "tags": []
   },
   "source": [
    "If an `output_dir` was provided, the prepared structure is saved in PDB format."
   ]
  },
  {
   "cell_type": "code",
   "execution_count": 9,
   "id": "354f1e57-0e54-49b4-ab07-2e0f53b203c5",
   "metadata": {
    "execution": {
     "iopub.execute_input": "2022-03-31T07:56:49.011431Z",
     "iopub.status.busy": "2022-03-31T07:56:49.011220Z",
     "iopub.status.idle": "2022-03-31T07:56:49.014998Z",
     "shell.execute_reply": "2022-03-31T07:56:49.014530Z"
    },
    "papermill": {
     "duration": 0.035723,
     "end_time": "2022-03-31T07:56:49.017900",
     "exception": false,
     "start_time": "2022-03-31T07:56:48.982177",
     "status": "completed"
    },
    "tags": []
   },
   "outputs": [
    {
     "name": "stdout",
     "output_type": "stream",
     "text": [
      "kinoml_SCHRODINGERComplexFeaturizer_PsaA_4f8o_AEBSF_complex.pdb\n",
      "kinoml_SCHRODINGERComplexFeaturizer_PsaA_4f8o_chainA_altlocB_AEBSF_complex.pdb\n"
     ]
    }
   ],
   "source": [
    "for path in sorted(Path(\"output/complex\").glob(\"*\")):\n",
    "    print(path.name)"
   ]
  },
  {
   "cell_type": "markdown",
   "id": "5e0012c1-1895-47dc-b501-71f4b763477d",
   "metadata": {
    "papermill": {
     "duration": 0.029014,
     "end_time": "2022-03-31T07:56:49.075819",
     "exception": false,
     "start_time": "2022-03-31T07:56:49.046805",
     "status": "completed"
    },
    "tags": []
   },
   "source": [
    "## SCHRODINGERDockingFeaturizer"
   ]
  },
  {
   "cell_type": "markdown",
   "id": "163c82b1-1e07-447d-a1c6-bac356cbe031",
   "metadata": {
    "papermill": {
     "duration": 0.029073,
     "end_time": "2022-03-31T07:56:49.133888",
     "exception": false,
     "start_time": "2022-03-31T07:56:49.104815",
     "status": "completed"
    },
    "tags": []
   },
   "source": [
    "Docking can be performed with and without shape restrain to the co-crystallized ligand. Moreover, the protein structure for docking must contain a co-crystallized ligand, which is required for the pocket definition."
   ]
  },
  {
   "cell_type": "code",
   "execution_count": 10,
   "id": "8528adcf-b340-491d-b5ff-575964bbbfea",
   "metadata": {
    "execution": {
     "iopub.execute_input": "2022-03-31T07:56:49.193158Z",
     "iopub.status.busy": "2022-03-31T07:56:49.192917Z",
     "iopub.status.idle": "2022-03-31T07:56:49.196348Z",
     "shell.execute_reply": "2022-03-31T07:56:49.195878Z"
    },
    "papermill": {
     "duration": 0.036636,
     "end_time": "2022-03-31T07:56:49.199450",
     "exception": false,
     "start_time": "2022-03-31T07:56:49.162814",
     "status": "completed"
    },
    "tags": []
   },
   "outputs": [
    {
     "name": "stdout",
     "output_type": "stream",
     "text": [
      "Given systems with exactly one protein and one ligand, prepare the\n",
      "structure dock the ligand into its binding site identified by a\n",
      "co-crystallized ligand. The following steps will be performed:\n",
      "\n",
      " - modeling missing loops\n",
      " - building missing side chains\n",
      " - mutations, if `uniprot_id` or `sequence` attribute is provided for the\n",
      "   protein component (see below)\n",
      " - removing everything but protein, water and ligand of interest\n",
      " - protonation at pH 7.4\n",
      " - docking a ligand\n",
      "\n",
      "The protein component of each system must be a `core.proteins.Protein` or\n",
      "a subclass thereof, must be initialized with toolkit='MDAnalysis' and give\n",
      "access to the molecular structure, e.g. via a pdb_id. Additionally, the\n",
      "protein component can have the following optional attributes to customize\n",
      "the protein modeling:\n",
      "\n",
      " - `name`: A string specifying the name of the protein, will be used for\n",
      "   generating the output file name.\n",
      " - `chain_id`: A string specifying which chain should be used.\n",
      " - `alternate_location`: A string specifying which alternate location\n",
      "   should be used.\n",
      " - `expo_id`: A string specifying a ligand bound to the protein of\n",
      "   interest. This is especially useful if multiple proteins are found in\n",
      "   one PDB structure.\n",
      " - `uniprot_id`: A string specifying the UniProt ID that will be used to\n",
      "   fetch the amino acid sequence from UniProt, which will be used for\n",
      "   modeling the protein. This will supersede the sequence information\n",
      "   given in the PDB header.\n",
      " - `sequence`: A string specifying the amino acid sequence in\n",
      "   one-letter-codes that should be used during modeling the protein. This\n",
      "   will supersede a given `uniprot_id` and the sequence information given\n",
      "   in the PDB header.\n",
      "\n",
      "The ligand component of each system must be a `core.ligands.Ligand` or a\n",
      "subclass thereof and give access to the molecular structure, e.g. via a\n",
      "SMILES. Additionally, the ligand component can have the following optional\n",
      "attributes:\n",
      "\n",
      " - `name`: A string specifying the name of the ligand, will be used for\n",
      "   generating the output file name and as molecule title in the docking\n",
      "   pose SDF file.\n",
      " - `macrocycle`: A bool specifying if the ligand shell be sampled as a\n",
      "   macrocycle during docking. Docking will fail, if SCHRDODINGER does not\n",
      "   consider the ligand a macrocycle.\n",
      "\n",
      "Parameters\n",
      "----------\n",
      "cache_dir: str, Path or None, default=None\n",
      "    Path to directory used for saving intermediate files. If None, default\n",
      "    location provided by `appdirs.user_cache_dir()` will be used.\n",
      "output_dir: str, Path or None, default=None\n",
      "    Path to directory used for saving output files. If None, output\n",
      "    structures will not be saved.\n",
      "use_multiprocessing : bool, default=True\n",
      "    If multiprocessing to use.\n",
      "n_processes : int or None, default=None\n",
      "    How many processes to use in case of multiprocessing. Defaults to\n",
      "    number of available CPUs.\n",
      "max_retry: int, default=3\n",
      "    The maximal number of attempts to try running the prepwizard and\n",
      "    docking steps.\n",
      "build_loops: bool, default=True\n",
      "    If missing loops shell be built. Is also needed to model mutations.\n",
      "shape_restrain: bool, default=True\n",
      "    If the docking shell be performed with shape restrain based on the\n",
      "    co-crystallized ligand.\n"
     ]
    }
   ],
   "source": [
    "print(inspect.getdoc(SCHRODINGERDockingFeaturizer))"
   ]
  },
  {
   "cell_type": "markdown",
   "id": "3f10336d-6237-480c-a753-7c68bc6e3e2c",
   "metadata": {
    "papermill": {
     "duration": 0.028918,
     "end_time": "2022-03-31T07:56:49.258287",
     "exception": false,
     "start_time": "2022-03-31T07:56:49.229369",
     "status": "completed"
    },
    "tags": []
   },
   "source": [
    "### Without shape restrain"
   ]
  },
  {
   "cell_type": "code",
   "execution_count": 11,
   "id": "25ec8a4c-a609-4810-adcd-9a4af11bf5ff",
   "metadata": {
    "execution": {
     "iopub.execute_input": "2022-03-31T07:56:49.314990Z",
     "iopub.status.busy": "2022-03-31T07:56:49.314780Z",
     "iopub.status.idle": "2022-03-31T07:56:49.317446Z",
     "shell.execute_reply": "2022-03-31T07:56:49.316997Z"
    },
    "papermill": {
     "duration": 0.033347,
     "end_time": "2022-03-31T07:56:49.319633",
     "exception": false,
     "start_time": "2022-03-31T07:56:49.286286",
     "status": "completed"
    },
    "tags": []
   },
   "outputs": [],
   "source": [
    "systems = []"
   ]
  },
  {
   "cell_type": "code",
   "execution_count": 12,
   "id": "20c215d2-dee7-4d85-a97b-85fbbadd4f36",
   "metadata": {
    "execution": {
     "iopub.execute_input": "2022-03-31T07:56:49.378871Z",
     "iopub.status.busy": "2022-03-31T07:56:49.378667Z",
     "iopub.status.idle": "2022-03-31T07:56:49.382305Z",
     "shell.execute_reply": "2022-03-31T07:56:49.381860Z"
    },
    "papermill": {
     "duration": 0.035235,
     "end_time": "2022-03-31T07:56:49.384514",
     "exception": false,
     "start_time": "2022-03-31T07:56:49.349279",
     "status": "completed"
    },
    "tags": []
   },
   "outputs": [],
   "source": [
    "protein = Protein(pdb_id=\"4yne\", uniprot_id=\"P04629\", name=\"NTRK1\", toolkit=\"MDAnalysis\")\n",
    "protein.expo_id = \"4EK\"\n",
    "ligand = Ligand(smiles=\"C1CC(N(C1)C2=NC3=C(C=NN3C=C2)NC(=O)N4CCC(C4)O)C5=C(C=CC(=C5)F)F\", name=\"larotrectinib\")\n",
    "system = ProteinLigandComplex(components=[protein, ligand])\n",
    "systems.append(system)"
   ]
  },
  {
   "cell_type": "code",
   "execution_count": 13,
   "id": "c3294d21-7f6b-4e05-97a1-ecfae31230d7",
   "metadata": {
    "execution": {
     "iopub.execute_input": "2022-03-31T07:56:49.443239Z",
     "iopub.status.busy": "2022-03-31T07:56:49.443036Z",
     "iopub.status.idle": "2022-03-31T07:56:49.446575Z",
     "shell.execute_reply": "2022-03-31T07:56:49.446143Z"
    },
    "papermill": {
     "duration": 0.035417,
     "end_time": "2022-03-31T07:56:49.448536",
     "exception": false,
     "start_time": "2022-03-31T07:56:49.413119",
     "status": "completed"
    },
    "tags": []
   },
   "outputs": [],
   "source": [
    "featurizer = SCHRODINGERDockingFeaturizer(\n",
    "    output_dir=\"output/docking_without_shape_restrain\",\n",
    "    shape_restrain=False\n",
    ")"
   ]
  },
  {
   "cell_type": "code",
   "execution_count": 14,
   "id": "b3e703d3-b47d-4b37-ba7c-7847f5eecdbc",
   "metadata": {
    "execution": {
     "iopub.execute_input": "2022-03-31T07:56:49.509306Z",
     "iopub.status.busy": "2022-03-31T07:56:49.509096Z",
     "iopub.status.idle": "2022-03-31T08:04:58.650841Z",
     "shell.execute_reply": "2022-03-31T08:04:58.650325Z"
    },
    "papermill": {
     "duration": 489.173533,
     "end_time": "2022-03-31T08:04:58.652395",
     "exception": false,
     "start_time": "2022-03-31T07:56:49.478862",
     "status": "completed"
    },
    "tags": []
   },
   "outputs": [
    {
     "name": "stdout",
     "output_type": "stream",
     "text": [
      "JobId: lt10-0-62455edf\n"
     ]
    },
    {
     "name": "stdout",
     "output_type": "stream",
     "text": [
      "Converted file: /scratch/lsftmp/6152749.tmpdir/tmpovx75qrg.mae\n"
     ]
    },
    {
     "name": "stdout",
     "output_type": "stream",
     "text": [
      "Removing previous job files...\n"
     ]
    },
    {
     "name": "stdout",
     "output_type": "stream",
     "text": [
      "JobId: lt10-0-62455fde\n",
      "ExitStatus: finished\n"
     ]
    },
    {
     "name": "stdout",
     "output_type": "stream",
     "text": [
      "Removing previous job files...\n"
     ]
    },
    {
     "name": "stdout",
     "output_type": "stream",
     "text": [
      "JobId: lt10-0-6245601f\n",
      "ExitStatus: finished\n"
     ]
    },
    {
     "name": "stdout",
     "output_type": "stream",
     "text": [
      "Converted file: /lila/data/chodera/shallerd/projects/schrodinger/kinoml/examples/output/docking_without_shape_restrain/kinoml_SCHRODINGERDockingFeaturizer_NTRK1_4yne_larotrectinib_complex.mae\n"
     ]
    },
    {
     "data": {
      "text/plain": [
       "[<ProteinLigandComplex with 2 components (<Protein name=NTRK1>, <Ligand name=larotrectinib>)>]"
      ]
     },
     "execution_count": 14,
     "metadata": {},
     "output_type": "execute_result"
    }
   ],
   "source": [
    "%%capture --no-display\n",
    "systems = featurizer.featurize(systems)\n",
    "systems"
   ]
  },
  {
   "cell_type": "markdown",
   "id": "092d09db-9220-4b29-9efc-cab0e0210dbc",
   "metadata": {
    "papermill": {
     "duration": 0.031488,
     "end_time": "2022-03-31T08:04:58.720762",
     "exception": false,
     "start_time": "2022-03-31T08:04:58.689274",
     "status": "completed"
    },
    "tags": []
   },
   "source": [
    "Docking scores are stored in the returned MDAnalysis universe."
   ]
  },
  {
   "cell_type": "code",
   "execution_count": 15,
   "id": "9febec67-160a-4ac7-aaeb-a3defb113101",
   "metadata": {
    "execution": {
     "iopub.execute_input": "2022-03-31T08:04:58.784595Z",
     "iopub.status.busy": "2022-03-31T08:04:58.784369Z",
     "iopub.status.idle": "2022-03-31T08:04:58.788456Z",
     "shell.execute_reply": "2022-03-31T08:04:58.788016Z"
    },
    "papermill": {
     "duration": 0.038857,
     "end_time": "2022-03-31T08:04:58.791568",
     "exception": false,
     "start_time": "2022-03-31T08:04:58.752711",
     "status": "completed"
    },
    "tags": []
   },
   "outputs": [
    {
     "data": {
      "text/plain": [
       "-10.1766"
      ]
     },
     "execution_count": 15,
     "metadata": {},
     "output_type": "execute_result"
    }
   ],
   "source": [
    "systems[0].featurizations[\"last\"]._topology.docking_score"
   ]
  },
  {
   "cell_type": "markdown",
   "id": "c3ff444f-289c-4bdc-b342-9beaefb554eb",
   "metadata": {
    "papermill": {
     "duration": 0.030622,
     "end_time": "2022-03-31T08:04:58.854265",
     "exception": false,
     "start_time": "2022-03-31T08:04:58.823643",
     "status": "completed"
    },
    "tags": []
   },
   "source": [
    "If an `output_dir` was provided, the prepared structure is saved in PDB and MAE format, the prepared ligand is additionally saved in SDF format."
   ]
  },
  {
   "cell_type": "code",
   "execution_count": 16,
   "id": "f2147b48-ded0-4cc8-acc1-78f976117b8e",
   "metadata": {
    "execution": {
     "iopub.execute_input": "2022-03-31T08:04:58.915687Z",
     "iopub.status.busy": "2022-03-31T08:04:58.915478Z",
     "iopub.status.idle": "2022-03-31T08:04:58.918810Z",
     "shell.execute_reply": "2022-03-31T08:04:58.918360Z"
    },
    "papermill": {
     "duration": 0.037389,
     "end_time": "2022-03-31T08:04:58.921559",
     "exception": false,
     "start_time": "2022-03-31T08:04:58.884170",
     "status": "completed"
    },
    "tags": []
   },
   "outputs": [
    {
     "name": "stdout",
     "output_type": "stream",
     "text": [
      "kinoml_SCHRODINGERDockingFeaturizer_NTRK1_4yne_larotrectinib_complex.mae\n",
      "kinoml_SCHRODINGERDockingFeaturizer_NTRK1_4yne_larotrectinib_complex.pdb\n",
      "kinoml_SCHRODINGERDockingFeaturizer_NTRK1_4yne_larotrectinib_ligand.sdf\n"
     ]
    }
   ],
   "source": [
    "for path in sorted(Path(\"output/docking_without_shape_restrain\").glob(\"*\")):\n",
    "    print(path.name)"
   ]
  },
  {
   "cell_type": "markdown",
   "id": "fe503149-8950-4319-8d78-3d178fd6f200",
   "metadata": {
    "papermill": {
     "duration": 0.040051,
     "end_time": "2022-03-31T08:04:58.993408",
     "exception": false,
     "start_time": "2022-03-31T08:04:58.953357",
     "status": "completed"
    },
    "tags": []
   },
   "source": [
    "### With shape restrain"
   ]
  },
  {
   "cell_type": "code",
   "execution_count": 17,
   "id": "4e8e8ce9-4b90-43de-9ae7-12bb935bcb20",
   "metadata": {
    "execution": {
     "iopub.execute_input": "2022-03-31T08:04:59.058256Z",
     "iopub.status.busy": "2022-03-31T08:04:59.058040Z",
     "iopub.status.idle": "2022-03-31T08:04:59.060758Z",
     "shell.execute_reply": "2022-03-31T08:04:59.060283Z"
    },
    "papermill": {
     "duration": 0.037632,
     "end_time": "2022-03-31T08:04:59.062968",
     "exception": false,
     "start_time": "2022-03-31T08:04:59.025336",
     "status": "completed"
    },
    "tags": []
   },
   "outputs": [],
   "source": [
    "systems = []"
   ]
  },
  {
   "cell_type": "code",
   "execution_count": 18,
   "id": "53fd6089-158d-4682-a4f6-2b411d1140f9",
   "metadata": {
    "execution": {
     "iopub.execute_input": "2022-03-31T08:04:59.128558Z",
     "iopub.status.busy": "2022-03-31T08:04:59.128355Z",
     "iopub.status.idle": "2022-03-31T08:04:59.132092Z",
     "shell.execute_reply": "2022-03-31T08:04:59.131575Z"
    },
    "papermill": {
     "duration": 0.038872,
     "end_time": "2022-03-31T08:04:59.134275",
     "exception": false,
     "start_time": "2022-03-31T08:04:59.095403",
     "status": "completed"
    },
    "tags": []
   },
   "outputs": [],
   "source": [
    "protein = Protein(pdb_id=\"4yne\", uniprot_id=\"P04629\", name=\"NTRK1\", toolkit=\"MDAnalysis\")\n",
    "protein.expo_id = \"4EK\"\n",
    "ligand = Ligand(smiles=\"C1CC(N(C1)C2=NC3=C(C=NN3C=C2)NC(=O)N4CCC(C4)O)C5=C(C=CC(=C5)F)F\", name=\"larotrectinib\")\n",
    "system = ProteinLigandComplex(components=[protein, ligand])\n",
    "systems.append(system)"
   ]
  },
  {
   "cell_type": "code",
   "execution_count": 19,
   "id": "e81e540e-b6d2-48b7-ae97-ff15dcc8d394",
   "metadata": {
    "execution": {
     "iopub.execute_input": "2022-03-31T08:04:59.198083Z",
     "iopub.status.busy": "2022-03-31T08:04:59.197852Z",
     "iopub.status.idle": "2022-03-31T08:04:59.201410Z",
     "shell.execute_reply": "2022-03-31T08:04:59.200982Z"
    },
    "papermill": {
     "duration": 0.037703,
     "end_time": "2022-03-31T08:04:59.203413",
     "exception": false,
     "start_time": "2022-03-31T08:04:59.165710",
     "status": "completed"
    },
    "tags": []
   },
   "outputs": [],
   "source": [
    "featurizer = SCHRODINGERDockingFeaturizer(\n",
    "    output_dir=\"output/docking_with_shape_restrain\",\n",
    "    shape_restrain=True,\n",
    ")"
   ]
  },
  {
   "cell_type": "code",
   "execution_count": 20,
   "id": "42b85a04-1d97-41af-af7d-9647645cc5c9",
   "metadata": {
    "execution": {
     "iopub.execute_input": "2022-03-31T08:04:59.266842Z",
     "iopub.status.busy": "2022-03-31T08:04:59.266642Z",
     "iopub.status.idle": "2022-03-31T08:07:35.750300Z",
     "shell.execute_reply": "2022-03-31T08:07:35.749533Z"
    },
    "papermill": {
     "duration": 156.516801,
     "end_time": "2022-03-31T08:07:35.751996",
     "exception": false,
     "start_time": "2022-03-31T08:04:59.235195",
     "status": "completed"
    },
    "tags": []
   },
   "outputs": [
    {
     "name": "stdout",
     "output_type": "stream",
     "text": [
      "Converted file: /scratch/lsftmp/6152749.tmpdir/tmp_n1sbprn.mae\n"
     ]
    },
    {
     "name": "stdout",
     "output_type": "stream",
     "text": [
      "Removing previous job files...\n"
     ]
    },
    {
     "name": "stdout",
     "output_type": "stream",
     "text": [
      "JobId: lt10-0-624560bd\n",
      "ExitStatus: finished\n"
     ]
    },
    {
     "name": "stdout",
     "output_type": "stream",
     "text": [
      "Converted file: /lila/data/chodera/shallerd/projects/schrodinger/kinoml/examples/output/docking_with_shape_restrain/kinoml_SCHRODINGERDockingFeaturizer_NTRK1_4yne_larotrectinib_complex.mae\n"
     ]
    },
    {
     "data": {
      "text/plain": [
       "[<ProteinLigandComplex with 2 components (<Protein name=NTRK1>, <Ligand name=larotrectinib>)>]"
      ]
     },
     "execution_count": 20,
     "metadata": {},
     "output_type": "execute_result"
    }
   ],
   "source": [
    "%%capture --no-display\n",
    "systems = featurizer.featurize(systems)\n",
    "systems"
   ]
  },
  {
   "cell_type": "markdown",
   "id": "f12885ea-b91f-473e-882a-08ddcb99d60f",
   "metadata": {
    "papermill": {
     "duration": 0.033839,
     "end_time": "2022-03-31T08:07:35.821239",
     "exception": false,
     "start_time": "2022-03-31T08:07:35.787400",
     "status": "completed"
    },
    "tags": []
   },
   "source": [
    "## MostSimilarPDBLigandFeaturizer\n",
    "\n",
    "Manually specifying the most suitable PDB structure to dock into is not practical for a larger set of ligands. Hence, the `MostSimilarPDBLigandFeaturizer` was implemented, wich can find the most suitable structure for docking in the PDB based on ligand similarity. The user can choose from one the following similarity metrics:\n",
    "\n",
    "- Fingerprint\n",
    "- Most common substructure\n",
    "- OpenEye's shape\n",
    "- Schrodinger's shape"
   ]
  },
  {
   "cell_type": "code",
   "execution_count": 21,
   "id": "9d84eacd-3b8e-49d4-b1f3-c106735a6460",
   "metadata": {
    "execution": {
     "iopub.execute_input": "2022-03-31T08:07:35.889055Z",
     "iopub.status.busy": "2022-03-31T08:07:35.888834Z",
     "iopub.status.idle": "2022-03-31T08:07:35.892200Z",
     "shell.execute_reply": "2022-03-31T08:07:35.891740Z"
    },
    "papermill": {
     "duration": 0.040676,
     "end_time": "2022-03-31T08:07:35.895132",
     "exception": false,
     "start_time": "2022-03-31T08:07:35.854456",
     "status": "completed"
    },
    "tags": []
   },
   "outputs": [
    {
     "name": "stdout",
     "output_type": "stream",
     "text": [
      "Find the most similar co-crystallized ligand in the PDB according to a\n",
      "given SMILES and UniProt ID.\n",
      "\n",
      "The protein component of each system must be a `core.proteins.Protein` or\n",
      "a subclass thereof, and must be initialized with a `uniprot_id` parameter.\n",
      "\n",
      "The ligand component of each system must be a `core.ligands.Ligand` or a\n",
      "subclass thereof and give access to the molecular structure, e.g. via a\n",
      "SMILES.\n",
      "\n",
      "Parameters\n",
      "----------\n",
      "similarity_metric: str, default=\"fingerprint\"\n",
      "    The similarity metric to use to detect the structure with the most\n",
      "    similar ligand [\"fingerprint\", \"mcs\", \"openeye_shape\",\n",
      "    \"schrodinger_shape\"].\n",
      "cache_dir: str, Path or None, default=None\n",
      "    Path to directory used for saving intermediate files. If None, default\n",
      "    location provided by `appdirs.user_cache_dir()` will be used.\n",
      "use_multiprocessing : bool, default=True\n",
      "    If multiprocessing to use.\n",
      "n_processes : int or None, default=None\n",
      "    How many processes to use in case of multiprocessing. Defaults to\n",
      "    number of available CPUs.\n",
      "\n",
      "Note\n",
      "----\n",
      "The toolkit ['MDAnalysis' or 'OpenEye'] specified in the protein object\n",
      "initialization should fit the required toolkit when subsequently applying\n",
      "the OEDockingFeaturizer or SCHRODINGERDockingFeaturizer.\n"
     ]
    }
   ],
   "source": [
    "print(inspect.getdoc(MostSimilarPDBLigandFeaturizer))"
   ]
  },
  {
   "cell_type": "markdown",
   "id": "163bef90-207c-4023-b494-6847af3f4958",
   "metadata": {
    "papermill": {
     "duration": 0.032626,
     "end_time": "2022-03-31T08:07:35.961803",
     "exception": false,
     "start_time": "2022-03-31T08:07:35.929177",
     "status": "completed"
    },
    "tags": []
   },
   "source": [
    "### Most common substructure"
   ]
  },
  {
   "cell_type": "code",
   "execution_count": 22,
   "id": "372d7ea1-324a-4f44-8b8d-3cc3021d2c81",
   "metadata": {
    "execution": {
     "iopub.execute_input": "2022-03-31T08:07:36.028255Z",
     "iopub.status.busy": "2022-03-31T08:07:36.028054Z",
     "iopub.status.idle": "2022-03-31T08:07:36.030902Z",
     "shell.execute_reply": "2022-03-31T08:07:36.030425Z"
    },
    "papermill": {
     "duration": 0.038967,
     "end_time": "2022-03-31T08:07:36.033061",
     "exception": false,
     "start_time": "2022-03-31T08:07:35.994094",
     "status": "completed"
    },
    "tags": []
   },
   "outputs": [],
   "source": [
    "systems = []"
   ]
  },
  {
   "cell_type": "code",
   "execution_count": 23,
   "id": "83002b9e-0eb8-4f39-8d55-2cbb3b55d7a4",
   "metadata": {
    "execution": {
     "iopub.execute_input": "2022-03-31T08:07:36.099819Z",
     "iopub.status.busy": "2022-03-31T08:07:36.099564Z",
     "iopub.status.idle": "2022-03-31T08:07:36.103131Z",
     "shell.execute_reply": "2022-03-31T08:07:36.102665Z"
    },
    "papermill": {
     "duration": 0.039451,
     "end_time": "2022-03-31T08:07:36.105532",
     "exception": false,
     "start_time": "2022-03-31T08:07:36.066081",
     "status": "completed"
    },
    "tags": []
   },
   "outputs": [],
   "source": [
    "protein = Protein(uniprot_id=\"P04629\", name=\"NTRK1\", toolkit=\"MDAnalysis\")\n",
    "ligand = Ligand(smiles=\"C1CC(N(C1)C2=NC3=C(C=NN3C=C2)NC(=O)N4CCC(C4)O)C5=C(C=CC(=C5)F)F\", name=\"larotrectinib\")\n",
    "system = ProteinLigandComplex(components=[protein, ligand])\n",
    "systems.append(system)"
   ]
  },
  {
   "cell_type": "code",
   "execution_count": 24,
   "id": "cac30a83-1546-4abd-9186-d951a2d52a8c",
   "metadata": {
    "execution": {
     "iopub.execute_input": "2022-03-31T08:07:36.173758Z",
     "iopub.status.busy": "2022-03-31T08:07:36.173541Z",
     "iopub.status.idle": "2022-03-31T08:07:36.176484Z",
     "shell.execute_reply": "2022-03-31T08:07:36.176036Z"
    },
    "papermill": {
     "duration": 0.040239,
     "end_time": "2022-03-31T08:07:36.178750",
     "exception": false,
     "start_time": "2022-03-31T08:07:36.138511",
     "status": "completed"
    },
    "tags": []
   },
   "outputs": [],
   "source": [
    "featurizer = MostSimilarPDBLigandFeaturizer(similarity_metric=\"mcs\")"
   ]
  },
  {
   "cell_type": "code",
   "execution_count": 25,
   "id": "edcd8461-6b23-4e39-9800-e7755c640a45",
   "metadata": {
    "execution": {
     "iopub.execute_input": "2022-03-31T08:07:36.246632Z",
     "iopub.status.busy": "2022-03-31T08:07:36.246398Z",
     "iopub.status.idle": "2022-03-31T08:07:43.420000Z",
     "shell.execute_reply": "2022-03-31T08:07:43.419268Z"
    },
    "papermill": {
     "duration": 7.209052,
     "end_time": "2022-03-31T08:07:43.421910",
     "exception": false,
     "start_time": "2022-03-31T08:07:36.212858",
     "status": "completed"
    },
    "tags": []
   },
   "outputs": [
    {
     "data": {
      "text/plain": [
       "('4YNE', 'A', '4EK')"
      ]
     },
     "execution_count": 25,
     "metadata": {},
     "output_type": "execute_result"
    },
    {
     "name": "stdout",
     "output_type": "stream",
     "text": [
      "7.17 s ± 0 ns per loop (mean ± std. dev. of 1 run, 1 loop each)\n"
     ]
    }
   ],
   "source": [
    "%%timeit -n 1 -r 1\n",
    "%%capture --no-display\n",
    "systems = featurizer.featurize(systems)\n",
    "systems[0].protein.pdb_id, systems[0].protein.chain_id, systems[0].protein.expo_id"
   ]
  },
  {
   "cell_type": "markdown",
   "id": "be0b03ee-6123-4077-b3fd-586bce4bf748",
   "metadata": {
    "papermill": {
     "duration": 0.04168,
     "end_time": "2022-03-31T08:07:43.508955",
     "exception": false,
     "start_time": "2022-03-31T08:07:43.467275",
     "status": "completed"
    },
    "tags": []
   },
   "source": [
    "### Fingerprint"
   ]
  },
  {
   "cell_type": "code",
   "execution_count": 26,
   "id": "0c7dcbf1-7607-4b5f-8ed4-44f0a00b41e7",
   "metadata": {
    "execution": {
     "iopub.execute_input": "2022-03-31T08:07:43.591609Z",
     "iopub.status.busy": "2022-03-31T08:07:43.591388Z",
     "iopub.status.idle": "2022-03-31T08:07:43.594657Z",
     "shell.execute_reply": "2022-03-31T08:07:43.594209Z"
    },
    "papermill": {
     "duration": 0.045168,
     "end_time": "2022-03-31T08:07:43.596870",
     "exception": false,
     "start_time": "2022-03-31T08:07:43.551702",
     "status": "completed"
    },
    "tags": []
   },
   "outputs": [],
   "source": [
    "featurizer = MostSimilarPDBLigandFeaturizer(similarity_metric=\"fingerprint\")"
   ]
  },
  {
   "cell_type": "code",
   "execution_count": 27,
   "id": "61322085-91dd-47b6-9517-33383a7d5a5c",
   "metadata": {
    "execution": {
     "iopub.execute_input": "2022-03-31T08:07:43.660880Z",
     "iopub.status.busy": "2022-03-31T08:07:43.660681Z",
     "iopub.status.idle": "2022-03-31T08:07:46.203073Z",
     "shell.execute_reply": "2022-03-31T08:07:46.202278Z"
    },
    "papermill": {
     "duration": 2.576451,
     "end_time": "2022-03-31T08:07:46.204766",
     "exception": false,
     "start_time": "2022-03-31T08:07:43.628315",
     "status": "completed"
    },
    "tags": []
   },
   "outputs": [
    {
     "data": {
      "text/plain": [
       "('4YNE', 'A', '4EK')"
      ]
     },
     "execution_count": 27,
     "metadata": {},
     "output_type": "execute_result"
    },
    {
     "name": "stdout",
     "output_type": "stream",
     "text": [
      "2.54 s ± 0 ns per loop (mean ± std. dev. of 1 run, 1 loop each)\n"
     ]
    }
   ],
   "source": [
    "%%timeit -n 1 -r 1\n",
    "%%capture --no-display\n",
    "systems = featurizer.featurize(systems)\n",
    "systems[0].protein.pdb_id, systems[0].protein.chain_id, systems[0].protein.expo_id"
   ]
  },
  {
   "cell_type": "markdown",
   "id": "af8fc96b-3dae-4fcf-bf50-693df0fa9be8",
   "metadata": {
    "papermill": {
     "duration": 0.033196,
     "end_time": "2022-03-31T08:07:46.274042",
     "exception": false,
     "start_time": "2022-03-31T08:07:46.240846",
     "status": "completed"
    },
    "tags": []
   },
   "source": [
    "### Schrodinger's shape"
   ]
  },
  {
   "cell_type": "code",
   "execution_count": 28,
   "id": "f052e537-e0ab-4ba2-9549-40b809ea112f",
   "metadata": {
    "execution": {
     "iopub.execute_input": "2022-03-31T08:07:46.341790Z",
     "iopub.status.busy": "2022-03-31T08:07:46.341551Z",
     "iopub.status.idle": "2022-03-31T08:07:46.344808Z",
     "shell.execute_reply": "2022-03-31T08:07:46.344354Z"
    },
    "papermill": {
     "duration": 0.039599,
     "end_time": "2022-03-31T08:07:46.346983",
     "exception": false,
     "start_time": "2022-03-31T08:07:46.307384",
     "status": "completed"
    },
    "tags": []
   },
   "outputs": [],
   "source": [
    "featurizer = MostSimilarPDBLigandFeaturizer(similarity_metric=\"schrodinger_shape\")"
   ]
  },
  {
   "cell_type": "code",
   "execution_count": 29,
   "id": "350ebff7-9fe2-4f12-9ec1-5cb65b8848d5",
   "metadata": {
    "execution": {
     "iopub.execute_input": "2022-03-31T08:07:46.415247Z",
     "iopub.status.busy": "2022-03-31T08:07:46.415049Z",
     "iopub.status.idle": "2022-03-31T08:08:14.176967Z",
     "shell.execute_reply": "2022-03-31T08:08:14.176452Z"
    },
    "papermill": {
     "duration": 27.798336,
     "end_time": "2022-03-31T08:08:14.178555",
     "exception": false,
     "start_time": "2022-03-31T08:07:46.380219",
     "status": "completed"
    },
    "tags": []
   },
   "outputs": [
    {
     "name": "stderr",
     "output_type": "stream",
     "text": [
      "perl: warning: Setting locale failed.\n",
      "perl: warning: Please check that your locale settings:\n",
      "\tLANGUAGE = (unset),\n",
      "\tLC_ALL = (unset),\n",
      "\tLC_NUMERIC = \"C\",\n",
      "\tLC_TIME = \"C\",\n",
      "\tLANG = \"C.UTF-8\"\n",
      "    are supported and installed on your system.\n",
      "perl: warning: Falling back to the standard locale (\"C\").\n"
     ]
    },
    {
     "name": "stdout",
     "output_type": "stream",
     "text": [
      "JobId: lt10-0-62456159\n"
     ]
    },
    {
     "data": {
      "text/plain": [
       "('4YPS', 'A', '4F6')"
      ]
     },
     "execution_count": 29,
     "metadata": {},
     "output_type": "execute_result"
    },
    {
     "name": "stdout",
     "output_type": "stream",
     "text": [
      "27.8 s ± 0 ns per loop (mean ± std. dev. of 1 run, 1 loop each)\n"
     ]
    }
   ],
   "source": [
    "%%timeit -n 1 -r 1\n",
    "%%capture --no-display\n",
    "systems = featurizer.featurize(systems)\n",
    "systems[0].protein.pdb_id, systems[0].protein.chain_id, systems[0].protein.expo_id"
   ]
  },
  {
   "cell_type": "markdown",
   "id": "8a071c6c-0ac7-4ddd-8222-2dc286422504",
   "metadata": {
    "papermill": {
     "duration": 0.0354,
     "end_time": "2022-03-31T08:08:14.256047",
     "exception": false,
     "start_time": "2022-03-31T08:08:14.220647",
     "status": "completed"
    },
    "tags": []
   },
   "source": [
    "Using shape is the slowest option, but in many cases the most accurate one."
   ]
  },
  {
   "cell_type": "markdown",
   "id": "6d6e7776-604e-4072-bffd-89aaef4bd034",
   "metadata": {
    "papermill": {
     "duration": 0.034191,
     "end_time": "2022-03-31T08:08:14.326016",
     "exception": false,
     "start_time": "2022-03-31T08:08:14.291825",
     "status": "completed"
    },
    "tags": []
   },
   "source": [
    "### Pipeline of MostSimilarPDBLigandFeaturizer and SCHRODINGERDockingFeaturizer\n",
    "\n",
    "The `MostSimilarPDBLigandFeaturizer` can be joined with the `SCHRODINGERDockingFeaturizer` into a `Pipeline` featurizer."
   ]
  },
  {
   "cell_type": "code",
   "execution_count": 30,
   "id": "836af6ba-0207-43ed-890d-e2f863dce352",
   "metadata": {
    "execution": {
     "iopub.execute_input": "2022-03-31T08:08:14.394138Z",
     "iopub.status.busy": "2022-03-31T08:08:14.393897Z",
     "iopub.status.idle": "2022-03-31T08:08:14.396747Z",
     "shell.execute_reply": "2022-03-31T08:08:14.396227Z"
    },
    "papermill": {
     "duration": 0.038934,
     "end_time": "2022-03-31T08:08:14.398928",
     "exception": false,
     "start_time": "2022-03-31T08:08:14.359994",
     "status": "completed"
    },
    "tags": []
   },
   "outputs": [],
   "source": [
    "systems = []"
   ]
  },
  {
   "cell_type": "code",
   "execution_count": 31,
   "id": "ffc06935-e0ae-4a73-bf7d-4ff0669eebe9",
   "metadata": {
    "execution": {
     "iopub.execute_input": "2022-03-31T08:08:14.466460Z",
     "iopub.status.busy": "2022-03-31T08:08:14.466261Z",
     "iopub.status.idle": "2022-03-31T08:08:14.469797Z",
     "shell.execute_reply": "2022-03-31T08:08:14.469364Z"
    },
    "papermill": {
     "duration": 0.03973,
     "end_time": "2022-03-31T08:08:14.471913",
     "exception": false,
     "start_time": "2022-03-31T08:08:14.432183",
     "status": "completed"
    },
    "tags": []
   },
   "outputs": [],
   "source": [
    "protein = Protein(uniprot_id=\"P04629\", name=\"NTRK1\", toolkit=\"MDAnalysis\")\n",
    "ligand = Ligand(smiles=\"C1CC(N(C1)C2=NC3=C(C=NN3C=C2)NC(=O)N4CCC(C4)O)C5=C(C=CC(=C5)F)F\", name=\"larotrectinib\")\n",
    "system = ProteinLigandComplex(components=[protein, ligand])\n",
    "systems.append(system)"
   ]
  },
  {
   "cell_type": "code",
   "execution_count": 32,
   "id": "aad92cea-d047-40e3-b194-92c3130a3223",
   "metadata": {
    "execution": {
     "iopub.execute_input": "2022-03-31T08:08:14.539634Z",
     "iopub.status.busy": "2022-03-31T08:08:14.539425Z",
     "iopub.status.idle": "2022-03-31T08:08:14.543299Z",
     "shell.execute_reply": "2022-03-31T08:08:14.542876Z"
    },
    "papermill": {
     "duration": 0.039632,
     "end_time": "2022-03-31T08:08:14.545106",
     "exception": false,
     "start_time": "2022-03-31T08:08:14.505474",
     "status": "completed"
    },
    "tags": []
   },
   "outputs": [],
   "source": [
    "featurizer = Pipeline([\n",
    "    MostSimilarPDBLigandFeaturizer(similarity_metric=\"fingerprint\"),\n",
    "    SCHRODINGERDockingFeaturizer(output_dir=\"output/docking_pipeline\"),\n",
    "])"
   ]
  },
  {
   "cell_type": "code",
   "execution_count": 33,
   "id": "6b2776cb-774d-4255-b299-7c56ccec611a",
   "metadata": {
    "execution": {
     "iopub.execute_input": "2022-03-31T08:08:14.616701Z",
     "iopub.status.busy": "2022-03-31T08:08:14.616446Z",
     "iopub.status.idle": "2022-03-31T08:16:28.203211Z",
     "shell.execute_reply": "2022-03-31T08:16:28.202696Z"
    },
    "papermill": {
     "duration": 493.626875,
     "end_time": "2022-03-31T08:16:28.204845",
     "exception": false,
     "start_time": "2022-03-31T08:08:14.577970",
     "status": "completed"
    },
    "tags": []
   },
   "outputs": [
    {
     "name": "stdout",
     "output_type": "stream",
     "text": [
      "JobId: lt10-0-62456191\n"
     ]
    },
    {
     "name": "stdout",
     "output_type": "stream",
     "text": [
      "Converted file: /scratch/lsftmp/6152749.tmpdir/tmpg0s9ghna.mae\n"
     ]
    },
    {
     "name": "stdout",
     "output_type": "stream",
     "text": [
      "Removing previous job files...\n"
     ]
    },
    {
     "name": "stdout",
     "output_type": "stream",
     "text": [
      "JobId: lt10-0-6245628f\n",
      "ExitStatus: finished\n"
     ]
    },
    {
     "name": "stdout",
     "output_type": "stream",
     "text": [
      "Removing previous job files...\n"
     ]
    },
    {
     "name": "stdout",
     "output_type": "stream",
     "text": [
      "JobId: lt10-0-624562d1\n",
      "ExitStatus: finished\n"
     ]
    },
    {
     "name": "stdout",
     "output_type": "stream",
     "text": [
      "Converted file: /lila/data/chodera/shallerd/projects/schrodinger/kinoml/examples/output/docking_pipeline/kinoml_SCHRODINGERDockingFeaturizer_NTRK1_4YNE_chainA_larotrectinib_complex.mae\n"
     ]
    },
    {
     "data": {
      "text/plain": [
       "[<ProteinLigandComplex with 2 components (<Protein name=NTRK1>, <Ligand name=larotrectinib>)>]"
      ]
     },
     "execution_count": 33,
     "metadata": {},
     "output_type": "execute_result"
    }
   ],
   "source": [
    "%%capture --no-display\n",
    "systems = featurizer.featurize(systems)\n",
    "systems"
   ]
  },
  {
   "cell_type": "code",
   "execution_count": 34,
   "id": "36b3c973-9931-4442-945b-e339dab3f1c6",
   "metadata": {
    "execution": {
     "iopub.execute_input": "2022-03-31T08:16:28.288799Z",
     "iopub.status.busy": "2022-03-31T08:16:28.288568Z",
     "iopub.status.idle": "2022-03-31T08:16:28.292690Z",
     "shell.execute_reply": "2022-03-31T08:16:28.292219Z"
    },
    "papermill": {
     "duration": 0.045542,
     "end_time": "2022-03-31T08:16:28.295737",
     "exception": false,
     "start_time": "2022-03-31T08:16:28.250195",
     "status": "completed"
    },
    "tags": []
   },
   "outputs": [
    {
     "data": {
      "text/plain": [
       "{'last': <Universe with 4964 atoms>,\n",
       " 'Pipeline([MostSimilarPDBLigandFeaturizer, SCHRODINGERDockingFeaturizer])': <Universe with 4964 atoms>}"
      ]
     },
     "execution_count": 34,
     "metadata": {},
     "output_type": "execute_result"
    }
   ],
   "source": [
    "systems[0].featurizations"
   ]
  },
  {
   "cell_type": "markdown",
   "id": "77db9232-360d-40ee-8b2f-640eaf6bdc1a",
   "metadata": {
    "papermill": {
     "duration": 0.038136,
     "end_time": "2022-03-31T08:16:28.371350",
     "exception": false,
     "start_time": "2022-03-31T08:16:28.333214",
     "status": "completed"
    },
    "tags": []
   },
   "source": [
    "## KLIFSConformationTemplatesFeaturizer\n",
    "\n",
    "The `KLIFSConformationTemplatesFeaturizer` searches for suitable templates to model a kinase:ligand complex in different conformations. The templates are selected based on ligand and sequence similarity."
   ]
  },
  {
   "cell_type": "code",
   "execution_count": 35,
   "id": "f680e950-d0e2-43ce-9bad-2da70a94bde5",
   "metadata": {
    "execution": {
     "iopub.execute_input": "2022-03-31T08:16:28.448505Z",
     "iopub.status.busy": "2022-03-31T08:16:28.448293Z",
     "iopub.status.idle": "2022-03-31T08:16:28.451511Z",
     "shell.execute_reply": "2022-03-31T08:16:28.451046Z"
    },
    "papermill": {
     "duration": 0.045108,
     "end_time": "2022-03-31T08:16:28.454503",
     "exception": false,
     "start_time": "2022-03-31T08:16:28.409395",
     "status": "completed"
    },
    "tags": []
   },
   "outputs": [
    {
     "name": "stdout",
     "output_type": "stream",
     "text": [
      "Find suitable kinase templates for modeling a kinase:inhibitor complex in\n",
      "different KLIFS conformations.\n",
      "\n",
      "The protein component of each system must be a `core.proteins.KLIFSKinase`,\n",
      "and must be initialized with a `uniprot_id` or `kinase_klifs_id` parameter.\n",
      "\n",
      "The ligand component of each system must be a `core.ligands.Ligand` or a\n",
      "subclass thereof and give access to the molecular structure, e.g. via a\n",
      "SMILES.\n",
      "\n",
      "Parameters\n",
      "----------\n",
      "similarity_metric: str, default=\"fingerprint\"\n",
      "    The similarity metric to use to detect the structures with similar\n",
      "    ligands [\"fingerprint\", \"mcs\", \"openeye_shape\", \"schrodinger_shape\"].\n",
      "cache_dir: str, Path or None, default=None\n",
      "    Path to directory used for saving intermediate files. If None, default\n",
      "    location provided by `appdirs.user_cache_dir()` will be used.\n",
      "use_multiprocessing : bool, default=True\n",
      "    If multiprocessing to use.\n",
      "n_processes : int or None, default=None\n",
      "    How many processes to use in case of multiprocessing. Defaults to\n",
      "    number of available CPUs.\n"
     ]
    }
   ],
   "source": [
    "print(inspect.getdoc(KLIFSConformationTemplatesFeaturizer))"
   ]
  },
  {
   "cell_type": "code",
   "execution_count": 36,
   "id": "e14082da-b8f1-477a-8bcd-810936e07e72",
   "metadata": {
    "execution": {
     "iopub.execute_input": "2022-03-31T08:16:28.531832Z",
     "iopub.status.busy": "2022-03-31T08:16:28.531614Z",
     "iopub.status.idle": "2022-03-31T08:16:28.534351Z",
     "shell.execute_reply": "2022-03-31T08:16:28.533880Z"
    },
    "papermill": {
     "duration": 0.044445,
     "end_time": "2022-03-31T08:16:28.536653",
     "exception": false,
     "start_time": "2022-03-31T08:16:28.492208",
     "status": "completed"
    },
    "tags": []
   },
   "outputs": [],
   "source": [
    "systems = []"
   ]
  },
  {
   "cell_type": "code",
   "execution_count": 37,
   "id": "f558ef87-b33e-4bd1-a474-b13e90e69195",
   "metadata": {
    "execution": {
     "iopub.execute_input": "2022-03-31T08:16:28.613943Z",
     "iopub.status.busy": "2022-03-31T08:16:28.613733Z",
     "iopub.status.idle": "2022-03-31T08:16:28.617325Z",
     "shell.execute_reply": "2022-03-31T08:16:28.616854Z"
    },
    "papermill": {
     "duration": 0.044873,
     "end_time": "2022-03-31T08:16:28.619656",
     "exception": false,
     "start_time": "2022-03-31T08:16:28.574783",
     "status": "completed"
    },
    "tags": []
   },
   "outputs": [],
   "source": [
    "protein = KLIFSKinase(uniprot_id=\"P04629\", name=\"NTRK1\")\n",
    "ligand = Ligand(smiles=\"C1CC(N(C1)C2=NC3=C(C=NN3C=C2)NC(=O)N4CCC(C4)O)C5=C(C=CC(=C5)F)F\", name=\"larotrectinib\")\n",
    "system = ProteinLigandComplex(components=[protein, ligand])\n",
    "systems.append(system)"
   ]
  },
  {
   "cell_type": "code",
   "execution_count": 38,
   "id": "b7fcc40c-b3f3-4451-9f8d-501f27328f32",
   "metadata": {
    "execution": {
     "iopub.execute_input": "2022-03-31T08:16:28.696866Z",
     "iopub.status.busy": "2022-03-31T08:16:28.696654Z",
     "iopub.status.idle": "2022-03-31T08:16:28.699617Z",
     "shell.execute_reply": "2022-03-31T08:16:28.699146Z"
    },
    "papermill": {
     "duration": 0.044263,
     "end_time": "2022-03-31T08:16:28.701922",
     "exception": false,
     "start_time": "2022-03-31T08:16:28.657659",
     "status": "completed"
    },
    "tags": []
   },
   "outputs": [],
   "source": [
    "featurizer = KLIFSConformationTemplatesFeaturizer(\n",
    "    similarity_metric=\"fingerprint\"\n",
    ")"
   ]
  },
  {
   "cell_type": "code",
   "execution_count": 39,
   "id": "7a7489c6-d564-4285-b5d6-b8cb510d68f3",
   "metadata": {
    "execution": {
     "iopub.execute_input": "2022-03-31T08:16:28.779560Z",
     "iopub.status.busy": "2022-03-31T08:16:28.779352Z",
     "iopub.status.idle": "2022-03-31T08:19:38.453180Z",
     "shell.execute_reply": "2022-03-31T08:19:38.452409Z"
    },
    "papermill": {
     "duration": 189.74411,
     "end_time": "2022-03-31T08:19:38.484596",
     "exception": false,
     "start_time": "2022-03-31T08:16:28.740486",
     "status": "completed"
    },
    "tags": []
   },
   "outputs": [
    {
     "data": {
      "text/plain": [
       "[<ProteinLigandComplex with 2 components (<KLIFSKinase name=NTRK1>, <Ligand name=larotrectinib>)>]"
      ]
     },
     "execution_count": 39,
     "metadata": {},
     "output_type": "execute_result"
    }
   ],
   "source": [
    "%%capture --no-display\n",
    "systems = featurizer.featurize(systems)\n",
    "systems"
   ]
  },
  {
   "cell_type": "code",
   "execution_count": 40,
   "id": "ed84f951-689a-4d8d-b2b9-c5eda645f624",
   "metadata": {
    "execution": {
     "iopub.execute_input": "2022-03-31T08:19:38.564804Z",
     "iopub.status.busy": "2022-03-31T08:19:38.564560Z",
     "iopub.status.idle": "2022-03-31T08:19:38.613485Z",
     "shell.execute_reply": "2022-03-31T08:19:38.612965Z"
    },
    "papermill": {
     "duration": 0.091515,
     "end_time": "2022-03-31T08:19:38.615650",
     "exception": false,
     "start_time": "2022-03-31T08:19:38.524135",
     "status": "completed"
    },
    "tags": []
   },
   "outputs": [
    {
     "data": {
      "text/html": [
       "<div>\n",
       "<style scoped>\n",
       "    .dataframe tbody tr th:only-of-type {\n",
       "        vertical-align: middle;\n",
       "    }\n",
       "\n",
       "    .dataframe tbody tr th {\n",
       "        vertical-align: top;\n",
       "    }\n",
       "\n",
       "    .dataframe thead th {\n",
       "        text-align: right;\n",
       "    }\n",
       "</style>\n",
       "<table border=\"1\" class=\"dataframe\">\n",
       "  <thead>\n",
       "    <tr style=\"text-align: right;\">\n",
       "      <th></th>\n",
       "      <th>dfg</th>\n",
       "      <th>ac_helix</th>\n",
       "      <th>pdb_id</th>\n",
       "      <th>chain_id</th>\n",
       "      <th>expo_id</th>\n",
       "      <th>ligand_similarity</th>\n",
       "      <th>pocket_similarity</th>\n",
       "    </tr>\n",
       "  </thead>\n",
       "  <tbody>\n",
       "    <tr>\n",
       "      <th>0</th>\n",
       "      <td>in</td>\n",
       "      <td>in</td>\n",
       "      <td>4yne</td>\n",
       "      <td>A</td>\n",
       "      <td>4EK</td>\n",
       "      <td>0.568047</td>\n",
       "      <td>443.0</td>\n",
       "    </tr>\n",
       "    <tr>\n",
       "      <th>1</th>\n",
       "      <td>in</td>\n",
       "      <td>out</td>\n",
       "      <td>6tfp</td>\n",
       "      <td>A</td>\n",
       "      <td>N6Z</td>\n",
       "      <td>0.534031</td>\n",
       "      <td>215.0</td>\n",
       "    </tr>\n",
       "    <tr>\n",
       "      <th>2</th>\n",
       "      <td>out</td>\n",
       "      <td>in</td>\n",
       "      <td>4pmp</td>\n",
       "      <td>A</td>\n",
       "      <td>31W</td>\n",
       "      <td>0.482759</td>\n",
       "      <td>443.0</td>\n",
       "    </tr>\n",
       "    <tr>\n",
       "      <th>3</th>\n",
       "      <td>out-like</td>\n",
       "      <td>in</td>\n",
       "      <td>6brj</td>\n",
       "      <td>A</td>\n",
       "      <td>VX6</td>\n",
       "      <td>0.521739</td>\n",
       "      <td>279.0</td>\n",
       "    </tr>\n",
       "    <tr>\n",
       "      <th>4</th>\n",
       "      <td>out-like</td>\n",
       "      <td>out</td>\n",
       "      <td>3aqv</td>\n",
       "      <td>A</td>\n",
       "      <td>TAK</td>\n",
       "      <td>0.435754</td>\n",
       "      <td>171.0</td>\n",
       "    </tr>\n",
       "    <tr>\n",
       "      <th>5</th>\n",
       "      <td>out</td>\n",
       "      <td>out</td>\n",
       "      <td>5jfv</td>\n",
       "      <td>A</td>\n",
       "      <td>6K1</td>\n",
       "      <td>0.491620</td>\n",
       "      <td>422.0</td>\n",
       "    </tr>\n",
       "  </tbody>\n",
       "</table>\n",
       "</div>"
      ],
      "text/plain": [
       "        dfg ac_helix pdb_id chain_id expo_id  ligand_similarity  \\\n",
       "0        in       in   4yne        A     4EK           0.568047   \n",
       "1        in      out   6tfp        A     N6Z           0.534031   \n",
       "2       out       in   4pmp        A     31W           0.482759   \n",
       "3  out-like       in   6brj        A     VX6           0.521739   \n",
       "4  out-like      out   3aqv        A     TAK           0.435754   \n",
       "5       out      out   5jfv        A     6K1           0.491620   \n",
       "\n",
       "   pocket_similarity  \n",
       "0              443.0  \n",
       "1              215.0  \n",
       "2              443.0  \n",
       "3              279.0  \n",
       "4              171.0  \n",
       "5              422.0  "
      ]
     },
     "execution_count": 40,
     "metadata": {},
     "output_type": "execute_result"
    }
   ],
   "source": [
    "systems[0].featurizations[\"last\"]"
   ]
  }
 ],
 "metadata": {
  "kernelspec": {
   "display_name": "Python 3 (ipykernel)",
   "language": "python",
   "name": "python3"
  },
  "language_info": {
   "codemirror_mode": {
    "name": "ipython",
    "version": 3
   },
   "file_extension": ".py",
   "mimetype": "text/x-python",
   "name": "python",
   "nbconvert_exporter": "python",
   "pygments_lexer": "ipython3",
   "version": "3.9.12"
  },
  "papermill": {
   "default_parameters": {},
   "duration": 1694.734135,
   "end_time": "2022-03-31T08:19:39.295614",
   "environment_variables": {},
   "exception": null,
   "input_path": "Schrodinger_structural_featurizer.ipynb",
   "output_path": "Schrodinger_structural_featurizer_out.ipynb",
   "parameters": {},
   "start_time": "2022-03-31T07:51:24.561479",
   "version": "2.2.2"
  }
 },
 "nbformat": 4,
 "nbformat_minor": 5
}
