{
 "cells": [
  {
   "cell_type": "markdown",
   "id": "39823951-54dc-4651-bd95-e9116badf2d6",
   "metadata": {
    "papermill": {
     "duration": 0.077343,
     "end_time": "2022-04-22T12:38:50.757842",
     "exception": false,
     "start_time": "2022-04-22T12:38:50.680499",
     "status": "completed"
    },
    "tags": []
   },
   "source": [
    "# Schrodinger Structural Featurizer"
   ]
  },
  {
   "cell_type": "markdown",
   "id": "37b59918-0cad-4211-aa6a-d43a36f055a2",
   "metadata": {
    "papermill": {
     "duration": 0.075231,
     "end_time": "2022-04-22T12:38:50.909289",
     "exception": false,
     "start_time": "2022-04-22T12:38:50.834058",
     "status": "completed"
    },
    "tags": []
   },
   "source": [
    "This notebook introduces structural modeling featurizers using molecular modeling capabilities from the [Schrodinger Suite](https://www.schrodinger.com/) to prepare protein structures and to dock small molecules into their binding sites.\n",
    "\n",
    "**Note:** All structural featurizers fetch data and/or do expensive computations. Hence, fetched data (e.g. PDB structures) and intermediate results (e.g. a prepared protein structure) are stored in a cache directory to speed up calculations when featurizing the same or similar systems multiple times. The cache directory can be specified via the `cache_dir` parameter, but also has a default (`user_cache_dir` from `appdirs`). In case you update your KinoML version you should consider deleting the cache directory. Otherwise, you may get results from the former KinoML version, since the intermediate results will be taken from cache."
   ]
  },
  {
   "cell_type": "code",
   "execution_count": 1,
   "id": "ba3e7292-700b-424f-b382-73efb82b3ffd",
   "metadata": {
    "execution": {
     "iopub.execute_input": "2022-04-22T12:38:51.053426Z",
     "iopub.status.busy": "2022-04-22T12:38:51.052720Z",
     "iopub.status.idle": "2022-04-22T12:39:10.718673Z",
     "shell.execute_reply": "2022-04-22T12:39:10.715608Z"
    },
    "papermill": {
     "duration": 19.745161,
     "end_time": "2022-04-22T12:39:10.725049",
     "exception": false,
     "start_time": "2022-04-22T12:38:50.979888",
     "status": "completed"
    },
    "tags": []
   },
   "outputs": [],
   "source": [
    "%%capture --no-display\n",
    "from importlib import resources\n",
    "import inspect\n",
    "from pathlib import Path\n",
    "\n",
    "from appdirs import user_cache_dir\n",
    "\n",
    "from kinoml.core.ligands import Ligand\n",
    "from kinoml.core.proteins import Protein, KLIFSKinase\n",
    "from kinoml.core.systems import ProteinLigandComplex\n",
    "from kinoml.features.core import Pipeline\n",
    "from kinoml.features.complexes import ( \n",
    "    SCHRODINGERComplexFeaturizer, \n",
    "    SCHRODINGERDockingFeaturizer,\n",
    "    MostSimilarPDBLigandFeaturizer,\n",
    "    KLIFSConformationTemplatesFeaturizer,\n",
    ")"
   ]
  },
  {
   "cell_type": "markdown",
   "id": "b00d8b82-329d-4a6b-9fd2-54a5671533a9",
   "metadata": {
    "papermill": {
     "duration": 0.092947,
     "end_time": "2022-04-22T12:39:10.912999",
     "exception": false,
     "start_time": "2022-04-22T12:39:10.820052",
     "status": "completed"
    },
    "tags": []
   },
   "source": [
    "## SCHRODINGERComplexFeaturizer"
   ]
  },
  {
   "cell_type": "markdown",
   "id": "684afa3d-3f34-4cbe-ad12-8a089a526940",
   "metadata": {
    "papermill": {
     "duration": 0.095627,
     "end_time": "2022-04-22T12:39:11.233127",
     "exception": false,
     "start_time": "2022-04-22T12:39:11.137500",
     "status": "completed"
    },
    "tags": []
   },
   "source": [
    "All Schrodinger Featurizers come with an extensive doc string explaining the capabilities and requirements."
   ]
  },
  {
   "cell_type": "code",
   "execution_count": 2,
   "id": "8260c926-b2ad-4700-bb50-4056c2aa63ad",
   "metadata": {
    "execution": {
     "iopub.execute_input": "2022-04-22T12:39:11.412971Z",
     "iopub.status.busy": "2022-04-22T12:39:11.412237Z",
     "iopub.status.idle": "2022-04-22T12:39:11.421543Z",
     "shell.execute_reply": "2022-04-22T12:39:11.420182Z"
    },
    "papermill": {
     "duration": 0.10818,
     "end_time": "2022-04-22T12:39:11.432437",
     "exception": false,
     "start_time": "2022-04-22T12:39:11.324257",
     "status": "completed"
    },
    "tags": []
   },
   "outputs": [
    {
     "name": "stdout",
     "output_type": "stream",
     "text": [
      "Given systems with exactly one protein and one ligand, prepare the complex\n",
      "structure by:\n",
      "\n",
      " - modeling missing loops with Prime according to the PDB header unless\n",
      "   a custom sequence is specified via the `uniprot_id` or `sequence`\n",
      "   attribute in the protein component (see below), missing sequences at\n",
      "   N- and C-termini are not modeled\n",
      " - building missing side chains\n",
      " - substitutions, deletions and insertions, if a `uniprot_id` or `sequence`\n",
      "   attribute is provided for the protein component alteration will be first\n",
      "   deleted and subsequently the intended sequence modeled with Prime, if\n",
      "   an alteration could not be modeled, a corresponding deletion will remain\n",
      " - removing everything but protein, water and ligand of interest\n",
      " - protonation at pH 7.4\n",
      "\n",
      "The protein component of each system must be a `core.proteins.Protein` or\n",
      "a subclass thereof, must be initialized with toolkit='MDAnalysis' and give\n",
      "access to the molecular structure, e.g. via a pdb_id. Additionally, the\n",
      "protein component can have the following optional attributes to customize\n",
      "the protein modeling:\n",
      "\n",
      " - `name`: A string specifying the name of the protein, will be used for\n",
      "   generating the output file name.\n",
      " - `chain_id`: A string specifying which chain should be used.\n",
      " - `alternate_location`: A string specifying which alternate location\n",
      "   should be used.\n",
      " - `expo_id`: A string specifying the ligand of interest. This is\n",
      "   especially useful if multiple ligands are present in a PDB structure.\n",
      " - `uniprot_id`: A string specifying the UniProt ID that will be used to\n",
      "   fetch the amino acid sequence from UniProt, which will be used for\n",
      "   modeling the protein. This will supersede the sequence information\n",
      "   given in the PDB header.\n",
      " - `sequence`: A string specifying the amino acid sequence in\n",
      "   one-letter-codes that should be used during modeling the protein. This\n",
      "   will supersede a given `uniprot_id` and the sequence information given\n",
      "   in the PDB header.\n",
      "\n",
      "The ligand component of each system must be a `core.components.BaseLigand`\n",
      "or a subclass thereof. The ligand component can have the following\n",
      "optional attributes:\n",
      "\n",
      " - `name`: A string specifying the name of the ligand, will be used for\n",
      "   generating the output file name.\n",
      "\n",
      "Parameters\n",
      "----------\n",
      "cache_dir: str, Path or None, default=None\n",
      "    Path to directory used for saving intermediate files. If None, default\n",
      "    location provided by `appdirs.user_cache_dir()` will be used.\n",
      "output_dir: str, Path or None, default=None\n",
      "    Path to directory used for saving output files. If None, output\n",
      "    structures will not be saved.\n",
      "use_multiprocessing : bool, default=True\n",
      "    If multiprocessing to use.\n",
      "n_processes : int or None, default=None\n",
      "    How many processes to use in case of multiprocessing. Defaults to\n",
      "    number of available CPUs.\n",
      "max_retry: int, default=3\n",
      "    The maximal number of attempts to try running the prepwizard step.\n",
      "build_loops: bool, default=True\n",
      "    If missing loops shell be built. Is also needed to model mutations.\n"
     ]
    }
   ],
   "source": [
    "print(inspect.getdoc(SCHRODINGERComplexFeaturizer))"
   ]
  },
  {
   "cell_type": "markdown",
   "id": "11cc845a-cc1d-4f68-a5ef-0f634352dd2e",
   "metadata": {
    "papermill": {
     "duration": 0.088236,
     "end_time": "2022-04-22T12:39:11.611911",
     "exception": false,
     "start_time": "2022-04-22T12:39:11.523675",
     "status": "completed"
    },
    "tags": []
   },
   "source": [
    "In general these featurizers will work with a minimal amount of information, e.g. just a PDB ID. However, it is recommended to be explicit as possible when defining the systems to featurize. For example, if a given PDB entry has multiple chains and ligands, the featurizer will have to guess which chain and ligand is of interest if not explicitly stated."
   ]
  },
  {
   "cell_type": "code",
   "execution_count": 3,
   "id": "f39650b8-ca2f-4791-939c-4ac4ae6a6af4",
   "metadata": {
    "execution": {
     "iopub.execute_input": "2022-04-22T12:39:11.735035Z",
     "iopub.status.busy": "2022-04-22T12:39:11.734639Z",
     "iopub.status.idle": "2022-04-22T12:39:11.739487Z",
     "shell.execute_reply": "2022-04-22T12:39:11.738591Z"
    },
    "papermill": {
     "duration": 0.065894,
     "end_time": "2022-04-22T12:39:11.744234",
     "exception": false,
     "start_time": "2022-04-22T12:39:11.678340",
     "status": "completed"
    },
    "tags": []
   },
   "outputs": [],
   "source": [
    "# collect systems to featurize, i.e. prepare the protein structure\n",
    "systems = []"
   ]
  },
  {
   "cell_type": "code",
   "execution_count": 4,
   "id": "1983dcc6-8234-46f3-8ee4-e165576f71e1",
   "metadata": {
    "execution": {
     "iopub.execute_input": "2022-04-22T12:39:11.864349Z",
     "iopub.status.busy": "2022-04-22T12:39:11.863991Z",
     "iopub.status.idle": "2022-04-22T12:39:11.870014Z",
     "shell.execute_reply": "2022-04-22T12:39:11.869269Z"
    },
    "papermill": {
     "duration": 0.073111,
     "end_time": "2022-04-22T12:39:11.874327",
     "exception": false,
     "start_time": "2022-04-22T12:39:11.801216",
     "status": "completed"
    },
    "tags": []
   },
   "outputs": [],
   "source": [
    "# unspecifc definition of the system, only via PDB ID\n",
    "# modeling will be performed according to the sequence stored in the PDB Header\n",
    "protein = Protein(pdb_id=\"4f8o\", name=\"PsaA\", toolkit=\"MDAnalysis\")\n",
    "ligand = Ligand(name=\"AEBSF\")\n",
    "system = ProteinLigandComplex(components=[protein, ligand])\n",
    "systems.append(system)"
   ]
  },
  {
   "cell_type": "code",
   "execution_count": 5,
   "id": "cee7ded4-954c-4d0d-8dd5-11c8db2de4d8",
   "metadata": {
    "execution": {
     "iopub.execute_input": "2022-04-22T12:39:12.022456Z",
     "iopub.status.busy": "2022-04-22T12:39:12.021840Z",
     "iopub.status.idle": "2022-04-22T12:39:18.939760Z",
     "shell.execute_reply": "2022-04-22T12:39:18.938837Z"
    },
    "papermill": {
     "duration": 6.998201,
     "end_time": "2022-04-22T12:39:18.941864",
     "exception": false,
     "start_time": "2022-04-22T12:39:11.943663",
     "status": "completed"
    },
    "tags": []
   },
   "outputs": [
    {
     "name": "stderr",
     "output_type": "stream",
     "text": [
      "Warning: importing 'simtk.openmm' is deprecated.  Import 'openmm' instead.\n"
     ]
    }
   ],
   "source": [
    "# more specific definition of the system, protein of chain A co-crystallized with ligand AES and\n",
    "# alternate location B, modeling will be performed according to the sequence of the given \n",
    "# UniProt ID\n",
    "protein = Protein.from_pdb(pdb_id=\"4f8o\", name=\"PsaA\", toolkit=\"MDAnalysis\")\n",
    "protein.uniprot_id = \"P31522\"\n",
    "protein.chain_id = \"A\"\n",
    "protein.alternate_location = \"B\"\n",
    "protein.expo_id = \"AES\"\n",
    "ligand = Ligand(name=\"AEBSF\")\n",
    "system = ProteinLigandComplex(components=[protein, ligand])\n",
    "systems.append(system)"
   ]
  },
  {
   "cell_type": "code",
   "execution_count": 6,
   "id": "5458d5a5-6358-4fd4-9d64-2e734569d1d0",
   "metadata": {
    "execution": {
     "iopub.execute_input": "2022-04-22T12:39:19.008197Z",
     "iopub.status.busy": "2022-04-22T12:39:19.007918Z",
     "iopub.status.idle": "2022-04-22T12:39:19.012884Z",
     "shell.execute_reply": "2022-04-22T12:39:19.012330Z"
    },
    "papermill": {
     "duration": 0.040611,
     "end_time": "2022-04-22T12:39:19.015376",
     "exception": false,
     "start_time": "2022-04-22T12:39:18.974765",
     "status": "completed"
    },
    "tags": []
   },
   "outputs": [],
   "source": [
    "featurizer = SCHRODINGERComplexFeaturizer(output_dir=\"output/complex\")"
   ]
  },
  {
   "cell_type": "markdown",
   "id": "678a9610-0009-4b0e-b5b4-cd9fc79a2177",
   "metadata": {
    "papermill": {
     "duration": 0.032172,
     "end_time": "2022-04-22T12:39:19.079128",
     "exception": false,
     "start_time": "2022-04-22T12:39:19.046956",
     "status": "completed"
    },
    "tags": []
   },
   "source": [
    "The featurizers will return the featurized systems as an [MDAnalysis universe](https://www.mdanalysis.org/). Systems that failed will be filtered out. In case one is interested in failures, one can enable logging messages via:\n",
    "```\n",
    "import logging  \n",
    "logging.basicConfig(level=logging.DEBUG)\n",
    "```"
   ]
  },
  {
   "cell_type": "code",
   "execution_count": 7,
   "id": "8eb84eac-ca63-4b72-b938-c7efa55ec19c",
   "metadata": {
    "execution": {
     "iopub.execute_input": "2022-04-22T12:39:19.262711Z",
     "iopub.status.busy": "2022-04-22T12:39:19.262206Z",
     "iopub.status.idle": "2022-04-22T12:39:57.014777Z",
     "shell.execute_reply": "2022-04-22T12:39:57.014012Z"
    },
    "papermill": {
     "duration": 37.855662,
     "end_time": "2022-04-22T12:39:57.026026",
     "exception": false,
     "start_time": "2022-04-22T12:39:19.170364",
     "status": "completed"
    },
    "tags": []
   },
   "outputs": [
    {
     "data": {
      "text/plain": [
       "[<ProteinLigandComplex with 2 components (<Protein name=PsaA>, <Ligand name=AEBSF>)>,\n",
       " <ProteinLigandComplex with 2 components (<Protein name=PsaA>, <Ligand name=AEBSF>)>]"
      ]
     },
     "execution_count": 7,
     "metadata": {},
     "output_type": "execute_result"
    }
   ],
   "source": [
    "%%capture --no-display\n",
    "systems = featurizer.featurize(systems)\n",
    "systems"
   ]
  },
  {
   "cell_type": "code",
   "execution_count": 8,
   "id": "92d67821-7c0f-4a83-be41-55e5ddd0fa46",
   "metadata": {
    "execution": {
     "iopub.execute_input": "2022-04-22T12:39:57.092001Z",
     "iopub.status.busy": "2022-04-22T12:39:57.091568Z",
     "iopub.status.idle": "2022-04-22T12:39:57.099682Z",
     "shell.execute_reply": "2022-04-22T12:39:57.098675Z"
    },
    "papermill": {
     "duration": 0.049043,
     "end_time": "2022-04-22T12:39:57.106980",
     "exception": false,
     "start_time": "2022-04-22T12:39:57.057937",
     "status": "completed"
    },
    "tags": []
   },
   "outputs": [
    {
     "data": {
      "text/plain": [
       "<Universe with 2506 atoms>"
      ]
     },
     "execution_count": 8,
     "metadata": {},
     "output_type": "execute_result"
    }
   ],
   "source": [
    "systems[0].featurizations[\"last\"]"
   ]
  },
  {
   "cell_type": "markdown",
   "id": "0e684725-a286-4e5a-bbed-c3cf314b7c41",
   "metadata": {
    "papermill": {
     "duration": 0.078278,
     "end_time": "2022-04-22T12:39:57.264779",
     "exception": false,
     "start_time": "2022-04-22T12:39:57.186501",
     "status": "completed"
    },
    "tags": []
   },
   "source": [
    "If an `output_dir` was provided, the prepared structure is saved in PDB format."
   ]
  },
  {
   "cell_type": "code",
   "execution_count": 9,
   "id": "354f1e57-0e54-49b4-ab07-2e0f53b203c5",
   "metadata": {
    "execution": {
     "iopub.execute_input": "2022-04-22T12:39:57.425866Z",
     "iopub.status.busy": "2022-04-22T12:39:57.425440Z",
     "iopub.status.idle": "2022-04-22T12:39:57.433659Z",
     "shell.execute_reply": "2022-04-22T12:39:57.432682Z"
    },
    "papermill": {
     "duration": 0.096334,
     "end_time": "2022-04-22T12:39:57.440877",
     "exception": false,
     "start_time": "2022-04-22T12:39:57.344543",
     "status": "completed"
    },
    "tags": []
   },
   "outputs": [
    {
     "name": "stdout",
     "output_type": "stream",
     "text": [
      "kinoml_SCHRODINGERComplexFeaturizer_PsaA_4f8o_AEBSF_complex.pdb\n",
      "kinoml_SCHRODINGERComplexFeaturizer_PsaA_4f8o_chainA_altlocB_AEBSF_complex.pdb\n"
     ]
    }
   ],
   "source": [
    "for path in sorted(Path(\"output/complex\").glob(\"*\")):\n",
    "    print(path.name)"
   ]
  },
  {
   "cell_type": "markdown",
   "id": "5e0012c1-1895-47dc-b501-71f4b763477d",
   "metadata": {
    "papermill": {
     "duration": 0.074663,
     "end_time": "2022-04-22T12:39:57.591975",
     "exception": false,
     "start_time": "2022-04-22T12:39:57.517312",
     "status": "completed"
    },
    "tags": []
   },
   "source": [
    "## SCHRODINGERDockingFeaturizer"
   ]
  },
  {
   "cell_type": "markdown",
   "id": "163c82b1-1e07-447d-a1c6-bac356cbe031",
   "metadata": {
    "papermill": {
     "duration": 0.079668,
     "end_time": "2022-04-22T12:39:57.752808",
     "exception": false,
     "start_time": "2022-04-22T12:39:57.673140",
     "status": "completed"
    },
    "tags": []
   },
   "source": [
    "Docking can be performed with and without shape restrain to the co-crystallized ligand. Moreover, the protein structure for docking must contain a co-crystallized ligand, which is required for the pocket definition."
   ]
  },
  {
   "cell_type": "code",
   "execution_count": 10,
   "id": "8528adcf-b340-491d-b5ff-575964bbbfea",
   "metadata": {
    "execution": {
     "iopub.execute_input": "2022-04-22T12:39:57.914360Z",
     "iopub.status.busy": "2022-04-22T12:39:57.913953Z",
     "iopub.status.idle": "2022-04-22T12:39:57.920415Z",
     "shell.execute_reply": "2022-04-22T12:39:57.919480Z"
    },
    "papermill": {
     "duration": 0.094733,
     "end_time": "2022-04-22T12:39:57.927781",
     "exception": false,
     "start_time": "2022-04-22T12:39:57.833048",
     "status": "completed"
    },
    "tags": []
   },
   "outputs": [
    {
     "name": "stdout",
     "output_type": "stream",
     "text": [
      "Given systems with exactly one protein and one ligand, prepare the\n",
      "structure dock the ligand into its binding site identified by a\n",
      "co-crystallized ligand. The following steps will be performed:\n",
      "\n",
      " - modeling missing loops with Prime according to the PDB header unless\n",
      "   a custom sequence is specified via the `uniprot_id` or `sequence`\n",
      "   attribute in the protein component (see below), missing sequences at\n",
      "   N- and C-termini are not modeled\n",
      " - building missing side chains\n",
      " - substitutions, deletions and insertions, if a `uniprot_id` or `sequence`\n",
      "   attribute is provided for the protein component alteration will be first\n",
      "   deleted and subsequently the intended sequence modeled with Prime, if\n",
      "   an alteration could not be modeled, a corresponding deletion will remain\n",
      " - removing everything but protein, water and ligand of interest\n",
      " - protonation at pH 7.4\n",
      " - docking a ligand\n",
      "\n",
      "The protein component of each system must be a `core.proteins.Protein` or\n",
      "a subclass thereof, must be initialized with toolkit='MDAnalysis' and give\n",
      "access to the molecular structure, e.g. via a pdb_id. Additionally, the\n",
      "protein component can have the following optional attributes to customize\n",
      "the protein modeling:\n",
      "\n",
      " - `name`: A string specifying the name of the protein, will be used for\n",
      "   generating the output file name.\n",
      " - `chain_id`: A string specifying which chain should be used.\n",
      " - `alternate_location`: A string specifying which alternate location\n",
      "   should be used.\n",
      " - `expo_id`: A string specifying a ligand bound to the protein of\n",
      "   interest. This is especially useful if multiple proteins are found in\n",
      "   one PDB structure.\n",
      " - `uniprot_id`: A string specifying the UniProt ID that will be used to\n",
      "   fetch the amino acid sequence from UniProt, which will be used for\n",
      "   modeling the protein. This will supersede the sequence information\n",
      "   given in the PDB header.\n",
      " - `sequence`: A string specifying the amino acid sequence in\n",
      "   one-letter-codes that should be used during modeling the protein. This\n",
      "   will supersede a given `uniprot_id` and the sequence information given\n",
      "   in the PDB header.\n",
      "\n",
      "The ligand component of each system must be a `core.ligands.Ligand` or a\n",
      "subclass thereof and give access to the molecular structure, e.g. via a\n",
      "SMILES. Additionally, the ligand component can have the following optional\n",
      "attributes:\n",
      "\n",
      " - `name`: A string specifying the name of the ligand, will be used for\n",
      "   generating the output file name and as molecule title in the docking\n",
      "   pose SDF file.\n",
      " - `macrocycle`: A bool specifying if the ligand shell be sampled as a\n",
      "   macrocycle during docking. Docking will fail, if SCHRDODINGER does not\n",
      "   consider the ligand a macrocycle.\n",
      "\n",
      "Parameters\n",
      "----------\n",
      "cache_dir: str, Path or None, default=None\n",
      "    Path to directory used for saving intermediate files. If None, default\n",
      "    location provided by `appdirs.user_cache_dir()` will be used.\n",
      "output_dir: str, Path or None, default=None\n",
      "    Path to directory used for saving output files. If None, output\n",
      "    structures will not be saved.\n",
      "use_multiprocessing : bool, default=True\n",
      "    If multiprocessing to use.\n",
      "n_processes : int or None, default=None\n",
      "    How many processes to use in case of multiprocessing. Defaults to\n",
      "    number of available CPUs.\n",
      "max_retry: int, default=3\n",
      "    The maximal number of attempts to try running the prepwizard and\n",
      "    docking steps.\n",
      "build_loops: bool, default=True\n",
      "    If missing loops shell be built. Is also needed to model mutations.\n",
      "shape_restrain: bool, default=True\n",
      "    If the docking shell be performed with shape restrain based on the\n",
      "    co-crystallized ligand.\n"
     ]
    }
   ],
   "source": [
    "print(inspect.getdoc(SCHRODINGERDockingFeaturizer))"
   ]
  },
  {
   "cell_type": "markdown",
   "id": "3f10336d-6237-480c-a753-7c68bc6e3e2c",
   "metadata": {
    "papermill": {
     "duration": 0.075391,
     "end_time": "2022-04-22T12:39:58.079576",
     "exception": false,
     "start_time": "2022-04-22T12:39:58.004185",
     "status": "completed"
    },
    "tags": []
   },
   "source": [
    "### Without shape restrain"
   ]
  },
  {
   "cell_type": "code",
   "execution_count": 11,
   "id": "25ec8a4c-a609-4810-adcd-9a4af11bf5ff",
   "metadata": {
    "execution": {
     "iopub.execute_input": "2022-04-22T12:39:58.243624Z",
     "iopub.status.busy": "2022-04-22T12:39:58.243213Z",
     "iopub.status.idle": "2022-04-22T12:39:58.248464Z",
     "shell.execute_reply": "2022-04-22T12:39:58.247415Z"
    },
    "papermill": {
     "duration": 0.094271,
     "end_time": "2022-04-22T12:39:58.254265",
     "exception": false,
     "start_time": "2022-04-22T12:39:58.159994",
     "status": "completed"
    },
    "tags": []
   },
   "outputs": [],
   "source": [
    "systems = []"
   ]
  },
  {
   "cell_type": "code",
   "execution_count": 12,
   "id": "20c215d2-dee7-4d85-a97b-85fbbadd4f36",
   "metadata": {
    "execution": {
     "iopub.execute_input": "2022-04-22T12:39:58.418615Z",
     "iopub.status.busy": "2022-04-22T12:39:58.418126Z",
     "iopub.status.idle": "2022-04-22T12:39:58.425444Z",
     "shell.execute_reply": "2022-04-22T12:39:58.424380Z"
    },
    "papermill": {
     "duration": 0.095417,
     "end_time": "2022-04-22T12:39:58.431095",
     "exception": false,
     "start_time": "2022-04-22T12:39:58.335678",
     "status": "completed"
    },
    "tags": []
   },
   "outputs": [],
   "source": [
    "protein = Protein(pdb_id=\"4yne\", uniprot_id=\"P04629\", name=\"NTRK1\", toolkit=\"MDAnalysis\")\n",
    "protein.expo_id = \"4EK\"\n",
    "ligand = Ligand(smiles=\"C1CC(N(C1)C2=NC3=C(C=NN3C=C2)NC(=O)N4CCC(C4)O)C5=C(C=CC(=C5)F)F\", name=\"larotrectinib\")\n",
    "system = ProteinLigandComplex(components=[protein, ligand])\n",
    "systems.append(system)"
   ]
  },
  {
   "cell_type": "code",
   "execution_count": 13,
   "id": "c3294d21-7f6b-4e05-97a1-ecfae31230d7",
   "metadata": {
    "execution": {
     "iopub.execute_input": "2022-04-22T12:39:58.591255Z",
     "iopub.status.busy": "2022-04-22T12:39:58.590864Z",
     "iopub.status.idle": "2022-04-22T12:39:58.597392Z",
     "shell.execute_reply": "2022-04-22T12:39:58.596415Z"
    },
    "papermill": {
     "duration": 0.095846,
     "end_time": "2022-04-22T12:39:58.603791",
     "exception": false,
     "start_time": "2022-04-22T12:39:58.507945",
     "status": "completed"
    },
    "tags": []
   },
   "outputs": [],
   "source": [
    "featurizer = SCHRODINGERDockingFeaturizer(\n",
    "    output_dir=\"output/docking_without_shape_restrain\",\n",
    "    shape_restrain=False\n",
    ")"
   ]
  },
  {
   "cell_type": "code",
   "execution_count": 14,
   "id": "b3e703d3-b47d-4b37-ba7c-7847f5eecdbc",
   "metadata": {
    "execution": {
     "iopub.execute_input": "2022-04-22T12:39:58.765771Z",
     "iopub.status.busy": "2022-04-22T12:39:58.765410Z",
     "iopub.status.idle": "2022-04-22T12:44:07.332372Z",
     "shell.execute_reply": "2022-04-22T12:44:07.331024Z"
    },
    "papermill": {
     "duration": 248.653296,
     "end_time": "2022-04-22T12:44:07.339348",
     "exception": false,
     "start_time": "2022-04-22T12:39:58.686052",
     "status": "completed"
    },
    "tags": []
   },
   "outputs": [
    {
     "name": "stdout",
     "output_type": "stream",
     "text": [
      "Converted file: /scratch/lsftmp/6525607.tmpdir/tmpq7th966w.mae\n"
     ]
    },
    {
     "name": "stdout",
     "output_type": "stream",
     "text": [
      "Removing previous job files...\n"
     ]
    },
    {
     "name": "stdout",
     "output_type": "stream",
     "text": [
      "JobId: lu04-0-6262a247\n",
      "ExitStatus: finished\n"
     ]
    },
    {
     "name": "stdout",
     "output_type": "stream",
     "text": [
      "Converted file: /lila/data/chodera/shallerd/projects/schrodinger/kinoml/examples/output/docking_without_shape_restrain/kinoml_SCHRODINGERDockingFeaturizer_NTRK1_4yne_larotrectinib_complex.mae\n"
     ]
    },
    {
     "data": {
      "text/plain": [
       "[<ProteinLigandComplex with 2 components (<Protein name=NTRK1>, <Ligand name=larotrectinib>)>]"
      ]
     },
     "execution_count": 14,
     "metadata": {},
     "output_type": "execute_result"
    }
   ],
   "source": [
    "%%capture --no-display\n",
    "systems = featurizer.featurize(systems)\n",
    "systems"
   ]
  },
  {
   "cell_type": "markdown",
   "id": "092d09db-9220-4b29-9efc-cab0e0210dbc",
   "metadata": {
    "papermill": {
     "duration": 0.080771,
     "end_time": "2022-04-22T12:44:07.506012",
     "exception": false,
     "start_time": "2022-04-22T12:44:07.425241",
     "status": "completed"
    },
    "tags": []
   },
   "source": [
    "Docking scores are stored in the returned MDAnalysis universe."
   ]
  },
  {
   "cell_type": "code",
   "execution_count": 15,
   "id": "9febec67-160a-4ac7-aaeb-a3defb113101",
   "metadata": {
    "execution": {
     "iopub.execute_input": "2022-04-22T12:44:07.673680Z",
     "iopub.status.busy": "2022-04-22T12:44:07.673115Z",
     "iopub.status.idle": "2022-04-22T12:44:07.682537Z",
     "shell.execute_reply": "2022-04-22T12:44:07.681347Z"
    },
    "papermill": {
     "duration": 0.103157,
     "end_time": "2022-04-22T12:44:07.692056",
     "exception": false,
     "start_time": "2022-04-22T12:44:07.588899",
     "status": "completed"
    },
    "tags": []
   },
   "outputs": [
    {
     "data": {
      "text/plain": [
       "-10.1766"
      ]
     },
     "execution_count": 15,
     "metadata": {},
     "output_type": "execute_result"
    }
   ],
   "source": [
    "systems[0].featurizations[\"last\"]._topology.docking_score"
   ]
  },
  {
   "cell_type": "markdown",
   "id": "c3ff444f-289c-4bdc-b342-9beaefb554eb",
   "metadata": {
    "papermill": {
     "duration": 0.078904,
     "end_time": "2022-04-22T12:44:07.856264",
     "exception": false,
     "start_time": "2022-04-22T12:44:07.777360",
     "status": "completed"
    },
    "tags": []
   },
   "source": [
    "If an `output_dir` was provided, the prepared structure is saved in PDB and MAE format, the prepared ligand is additionally saved in SDF format."
   ]
  },
  {
   "cell_type": "code",
   "execution_count": 16,
   "id": "f2147b48-ded0-4cc8-acc1-78f976117b8e",
   "metadata": {
    "execution": {
     "iopub.execute_input": "2022-04-22T12:44:08.023515Z",
     "iopub.status.busy": "2022-04-22T12:44:08.022996Z",
     "iopub.status.idle": "2022-04-22T12:44:08.030775Z",
     "shell.execute_reply": "2022-04-22T12:44:08.029621Z"
    },
    "papermill": {
     "duration": 0.098135,
     "end_time": "2022-04-22T12:44:08.038803",
     "exception": false,
     "start_time": "2022-04-22T12:44:07.940668",
     "status": "completed"
    },
    "tags": []
   },
   "outputs": [
    {
     "name": "stdout",
     "output_type": "stream",
     "text": [
      "kinoml_SCHRODINGERDockingFeaturizer_NTRK1_4yne_larotrectinib_complex.mae\n",
      "kinoml_SCHRODINGERDockingFeaturizer_NTRK1_4yne_larotrectinib_complex.pdb\n",
      "kinoml_SCHRODINGERDockingFeaturizer_NTRK1_4yne_larotrectinib_ligand.sdf\n"
     ]
    }
   ],
   "source": [
    "for path in sorted(Path(\"output/docking_without_shape_restrain\").glob(\"*\")):\n",
    "    print(path.name)"
   ]
  },
  {
   "cell_type": "markdown",
   "id": "fe503149-8950-4319-8d78-3d178fd6f200",
   "metadata": {
    "papermill": {
     "duration": 0.080219,
     "end_time": "2022-04-22T12:44:08.202697",
     "exception": false,
     "start_time": "2022-04-22T12:44:08.122478",
     "status": "completed"
    },
    "tags": []
   },
   "source": [
    "### With shape restrain"
   ]
  },
  {
   "cell_type": "code",
   "execution_count": 17,
   "id": "4e8e8ce9-4b90-43de-9ae7-12bb935bcb20",
   "metadata": {
    "execution": {
     "iopub.execute_input": "2022-04-22T12:44:08.371976Z",
     "iopub.status.busy": "2022-04-22T12:44:08.371473Z",
     "iopub.status.idle": "2022-04-22T12:44:08.377379Z",
     "shell.execute_reply": "2022-04-22T12:44:08.376179Z"
    },
    "papermill": {
     "duration": 0.096743,
     "end_time": "2022-04-22T12:44:08.384175",
     "exception": false,
     "start_time": "2022-04-22T12:44:08.287432",
     "status": "completed"
    },
    "tags": []
   },
   "outputs": [],
   "source": [
    "systems = []"
   ]
  },
  {
   "cell_type": "code",
   "execution_count": 18,
   "id": "53fd6089-158d-4682-a4f6-2b411d1140f9",
   "metadata": {
    "execution": {
     "iopub.execute_input": "2022-04-22T12:44:08.553799Z",
     "iopub.status.busy": "2022-04-22T12:44:08.553267Z",
     "iopub.status.idle": "2022-04-22T12:44:08.562016Z",
     "shell.execute_reply": "2022-04-22T12:44:08.560801Z"
    },
    "papermill": {
     "duration": 0.099945,
     "end_time": "2022-04-22T12:44:08.568313",
     "exception": false,
     "start_time": "2022-04-22T12:44:08.468368",
     "status": "completed"
    },
    "tags": []
   },
   "outputs": [],
   "source": [
    "protein = Protein(pdb_id=\"4yne\", uniprot_id=\"P04629\", name=\"NTRK1\", toolkit=\"MDAnalysis\")\n",
    "protein.expo_id = \"4EK\"\n",
    "ligand = Ligand(smiles=\"C1CC(N(C1)C2=NC3=C(C=NN3C=C2)NC(=O)N4CCC(C4)O)C5=C(C=CC(=C5)F)F\", name=\"larotrectinib\")\n",
    "system = ProteinLigandComplex(components=[protein, ligand])\n",
    "systems.append(system)"
   ]
  },
  {
   "cell_type": "code",
   "execution_count": 19,
   "id": "e81e540e-b6d2-48b7-ae97-ff15dcc8d394",
   "metadata": {
    "execution": {
     "iopub.execute_input": "2022-04-22T12:44:08.737052Z",
     "iopub.status.busy": "2022-04-22T12:44:08.736559Z",
     "iopub.status.idle": "2022-04-22T12:44:08.743550Z",
     "shell.execute_reply": "2022-04-22T12:44:08.742390Z"
    },
    "papermill": {
     "duration": 0.0975,
     "end_time": "2022-04-22T12:44:08.750061",
     "exception": false,
     "start_time": "2022-04-22T12:44:08.652561",
     "status": "completed"
    },
    "tags": []
   },
   "outputs": [],
   "source": [
    "featurizer = SCHRODINGERDockingFeaturizer(\n",
    "    output_dir=\"output/docking_with_shape_restrain\",\n",
    "    shape_restrain=True,\n",
    ")"
   ]
  },
  {
   "cell_type": "code",
   "execution_count": 20,
   "id": "42b85a04-1d97-41af-af7d-9647645cc5c9",
   "metadata": {
    "execution": {
     "iopub.execute_input": "2022-04-22T12:44:08.919949Z",
     "iopub.status.busy": "2022-04-22T12:44:08.919453Z",
     "iopub.status.idle": "2022-04-22T12:48:14.312186Z",
     "shell.execute_reply": "2022-04-22T12:48:14.310828Z"
    },
    "papermill": {
     "duration": 245.482475,
     "end_time": "2022-04-22T12:48:14.316530",
     "exception": false,
     "start_time": "2022-04-22T12:44:08.834055",
     "status": "completed"
    },
    "tags": []
   },
   "outputs": [
    {
     "name": "stdout",
     "output_type": "stream",
     "text": [
      "Converted file: /scratch/lsftmp/6525607.tmpdir/tmp195pmphc.mae\n"
     ]
    },
    {
     "name": "stdout",
     "output_type": "stream",
     "text": [
      "Removing previous job files...\n"
     ]
    },
    {
     "name": "stdout",
     "output_type": "stream",
     "text": [
      "JobId: lu04-0-6262a33d\n",
      "ExitStatus: finished\n"
     ]
    },
    {
     "name": "stdout",
     "output_type": "stream",
     "text": [
      "Converted file: /lila/data/chodera/shallerd/projects/schrodinger/kinoml/examples/output/docking_with_shape_restrain/kinoml_SCHRODINGERDockingFeaturizer_NTRK1_4yne_larotrectinib_complex.mae\n"
     ]
    },
    {
     "data": {
      "text/plain": [
       "[<ProteinLigandComplex with 2 components (<Protein name=NTRK1>, <Ligand name=larotrectinib>)>]"
      ]
     },
     "execution_count": 20,
     "metadata": {},
     "output_type": "execute_result"
    }
   ],
   "source": [
    "%%capture --no-display\n",
    "systems = featurizer.featurize(systems)\n",
    "systems"
   ]
  },
  {
   "cell_type": "markdown",
   "id": "f12885ea-b91f-473e-882a-08ddcb99d60f",
   "metadata": {
    "papermill": {
     "duration": 0.092619,
     "end_time": "2022-04-22T12:48:14.513581",
     "exception": false,
     "start_time": "2022-04-22T12:48:14.420962",
     "status": "completed"
    },
    "tags": []
   },
   "source": [
    "## MostSimilarPDBLigandFeaturizer\n",
    "\n",
    "Manually specifying the most suitable PDB structure to dock into is not practical for a larger set of ligands. Hence, the `MostSimilarPDBLigandFeaturizer` was implemented, wich can find the most suitable structure for docking in the PDB based on ligand similarity. The user can choose from one the following similarity metrics:\n",
    "\n",
    "- Fingerprint\n",
    "- Most common substructure\n",
    "- OpenEye's shape\n",
    "- Schrodinger's shape"
   ]
  },
  {
   "cell_type": "code",
   "execution_count": 21,
   "id": "9d84eacd-3b8e-49d4-b1f3-c106735a6460",
   "metadata": {
    "execution": {
     "iopub.execute_input": "2022-04-22T12:48:14.700495Z",
     "iopub.status.busy": "2022-04-22T12:48:14.700013Z",
     "iopub.status.idle": "2022-04-22T12:48:14.707771Z",
     "shell.execute_reply": "2022-04-22T12:48:14.706234Z"
    },
    "papermill": {
     "duration": 0.11713,
     "end_time": "2022-04-22T12:48:14.722962",
     "exception": false,
     "start_time": "2022-04-22T12:48:14.605832",
     "status": "completed"
    },
    "tags": []
   },
   "outputs": [
    {
     "name": "stdout",
     "output_type": "stream",
     "text": [
      "Find the most similar co-crystallized ligand in the PDB according to a\n",
      "given SMILES and UniProt ID.\n",
      "\n",
      "The protein component of each system must be a `core.proteins.Protein` or\n",
      "a subclass thereof, and must be initialized with a `uniprot_id` parameter.\n",
      "\n",
      "The ligand component of each system must be a `core.ligands.Ligand` or a\n",
      "subclass thereof and give access to the molecular structure, e.g. via a\n",
      "SMILES.\n",
      "\n",
      "Parameters\n",
      "----------\n",
      "similarity_metric: str, default=\"fingerprint\"\n",
      "    The similarity metric to use to detect the structure with the most\n",
      "    similar ligand [\"fingerprint\", \"mcs\", \"openeye_shape\",\n",
      "    \"schrodinger_shape\"].\n",
      "cache_dir: str, Path or None, default=None\n",
      "    Path to directory used for saving intermediate files. If None, default\n",
      "    location provided by `appdirs.user_cache_dir()` will be used.\n",
      "use_multiprocessing : bool, default=True\n",
      "    If multiprocessing to use.\n",
      "n_processes : int or None, default=None\n",
      "    How many processes to use in case of multiprocessing. Defaults to\n",
      "    number of available CPUs.\n",
      "\n",
      "Note\n",
      "----\n",
      "The toolkit ['MDAnalysis' or 'OpenEye'] specified in the protein object\n",
      "initialization should fit the required toolkit when subsequently applying\n",
      "the OEDockingFeaturizer or SCHRODINGERDockingFeaturizer.\n"
     ]
    }
   ],
   "source": [
    "print(inspect.getdoc(MostSimilarPDBLigandFeaturizer))"
   ]
  },
  {
   "cell_type": "markdown",
   "id": "163bef90-207c-4023-b494-6847af3f4958",
   "metadata": {
    "papermill": {
     "duration": 0.091465,
     "end_time": "2022-04-22T12:48:14.910458",
     "exception": false,
     "start_time": "2022-04-22T12:48:14.818993",
     "status": "completed"
    },
    "tags": []
   },
   "source": [
    "### Most common substructure"
   ]
  },
  {
   "cell_type": "code",
   "execution_count": 22,
   "id": "372d7ea1-324a-4f44-8b8d-3cc3021d2c81",
   "metadata": {
    "execution": {
     "iopub.execute_input": "2022-04-22T12:48:15.097746Z",
     "iopub.status.busy": "2022-04-22T12:48:15.096823Z",
     "iopub.status.idle": "2022-04-22T12:48:15.107376Z",
     "shell.execute_reply": "2022-04-22T12:48:15.105388Z"
    },
    "papermill": {
     "duration": 0.112501,
     "end_time": "2022-04-22T12:48:15.115150",
     "exception": false,
     "start_time": "2022-04-22T12:48:15.002649",
     "status": "completed"
    },
    "tags": []
   },
   "outputs": [],
   "source": [
    "systems = []"
   ]
  },
  {
   "cell_type": "code",
   "execution_count": 23,
   "id": "83002b9e-0eb8-4f39-8d55-2cbb3b55d7a4",
   "metadata": {
    "execution": {
     "iopub.execute_input": "2022-04-22T12:48:15.306139Z",
     "iopub.status.busy": "2022-04-22T12:48:15.305554Z",
     "iopub.status.idle": "2022-04-22T12:48:15.314882Z",
     "shell.execute_reply": "2022-04-22T12:48:15.313611Z"
    },
    "papermill": {
     "duration": 0.112318,
     "end_time": "2022-04-22T12:48:15.322503",
     "exception": false,
     "start_time": "2022-04-22T12:48:15.210185",
     "status": "completed"
    },
    "tags": []
   },
   "outputs": [],
   "source": [
    "protein = Protein(uniprot_id=\"P04629\", name=\"NTRK1\", toolkit=\"MDAnalysis\")\n",
    "ligand = Ligand(smiles=\"C1CC(N(C1)C2=NC3=C(C=NN3C=C2)NC(=O)N4CCC(C4)O)C5=C(C=CC(=C5)F)F\", name=\"larotrectinib\")\n",
    "system = ProteinLigandComplex(components=[protein, ligand])\n",
    "systems.append(system)"
   ]
  },
  {
   "cell_type": "code",
   "execution_count": 24,
   "id": "cac30a83-1546-4abd-9186-d951a2d52a8c",
   "metadata": {
    "execution": {
     "iopub.execute_input": "2022-04-22T12:48:15.509034Z",
     "iopub.status.busy": "2022-04-22T12:48:15.508490Z",
     "iopub.status.idle": "2022-04-22T12:48:15.515625Z",
     "shell.execute_reply": "2022-04-22T12:48:15.514369Z"
    },
    "papermill": {
     "duration": 0.114755,
     "end_time": "2022-04-22T12:48:15.527140",
     "exception": false,
     "start_time": "2022-04-22T12:48:15.412385",
     "status": "completed"
    },
    "tags": []
   },
   "outputs": [],
   "source": [
    "featurizer = MostSimilarPDBLigandFeaturizer(similarity_metric=\"mcs\")"
   ]
  },
  {
   "cell_type": "code",
   "execution_count": 25,
   "id": "edcd8461-6b23-4e39-9800-e7755c640a45",
   "metadata": {
    "execution": {
     "iopub.execute_input": "2022-04-22T12:48:15.706569Z",
     "iopub.status.busy": "2022-04-22T12:48:15.706036Z",
     "iopub.status.idle": "2022-04-22T12:48:28.255865Z",
     "shell.execute_reply": "2022-04-22T12:48:28.254307Z"
    },
    "papermill": {
     "duration": 12.650388,
     "end_time": "2022-04-22T12:48:28.260543",
     "exception": false,
     "start_time": "2022-04-22T12:48:15.610155",
     "status": "completed"
    },
    "tags": []
   },
   "outputs": [
    {
     "data": {
      "text/plain": [
       "('4YNE', 'A', '4EK')"
      ]
     },
     "execution_count": 25,
     "metadata": {},
     "output_type": "execute_result"
    },
    {
     "name": "stdout",
     "output_type": "stream",
     "text": [
      "12.5 s ± 0 ns per loop (mean ± std. dev. of 1 run, 1 loop each)\n"
     ]
    }
   ],
   "source": [
    "%%timeit -n 1 -r 1\n",
    "%%capture --no-display\n",
    "systems = featurizer.featurize(systems)\n",
    "systems[0].protein.pdb_id, systems[0].protein.chain_id, systems[0].protein.expo_id"
   ]
  },
  {
   "cell_type": "markdown",
   "id": "be0b03ee-6123-4077-b3fd-586bce4bf748",
   "metadata": {
    "papermill": {
     "duration": 0.09428,
     "end_time": "2022-04-22T12:48:28.450651",
     "exception": false,
     "start_time": "2022-04-22T12:48:28.356371",
     "status": "completed"
    },
    "tags": []
   },
   "source": [
    "### Fingerprint"
   ]
  },
  {
   "cell_type": "code",
   "execution_count": 26,
   "id": "0c7dcbf1-7607-4b5f-8ed4-44f0a00b41e7",
   "metadata": {
    "execution": {
     "iopub.execute_input": "2022-04-22T12:48:28.637022Z",
     "iopub.status.busy": "2022-04-22T12:48:28.636470Z",
     "iopub.status.idle": "2022-04-22T12:48:28.644342Z",
     "shell.execute_reply": "2022-04-22T12:48:28.643210Z"
    },
    "papermill": {
     "duration": 0.111127,
     "end_time": "2022-04-22T12:48:28.651027",
     "exception": false,
     "start_time": "2022-04-22T12:48:28.539900",
     "status": "completed"
    },
    "tags": []
   },
   "outputs": [],
   "source": [
    "featurizer = MostSimilarPDBLigandFeaturizer(similarity_metric=\"fingerprint\")"
   ]
  },
  {
   "cell_type": "code",
   "execution_count": 27,
   "id": "61322085-91dd-47b6-9517-33383a7d5a5c",
   "metadata": {
    "execution": {
     "iopub.execute_input": "2022-04-22T12:48:28.845504Z",
     "iopub.status.busy": "2022-04-22T12:48:28.845038Z",
     "iopub.status.idle": "2022-04-22T12:48:35.771910Z",
     "shell.execute_reply": "2022-04-22T12:48:35.770052Z"
    },
    "papermill": {
     "duration": 7.030486,
     "end_time": "2022-04-22T12:48:35.777474",
     "exception": false,
     "start_time": "2022-04-22T12:48:28.746988",
     "status": "completed"
    },
    "tags": []
   },
   "outputs": [
    {
     "data": {
      "text/plain": [
       "('4YNE', 'A', '4EK')"
      ]
     },
     "execution_count": 27,
     "metadata": {},
     "output_type": "execute_result"
    },
    {
     "name": "stdout",
     "output_type": "stream",
     "text": [
      "6.91 s ± 0 ns per loop (mean ± std. dev. of 1 run, 1 loop each)\n"
     ]
    }
   ],
   "source": [
    "%%timeit -n 1 -r 1\n",
    "%%capture --no-display\n",
    "systems = featurizer.featurize(systems)\n",
    "systems[0].protein.pdb_id, systems[0].protein.chain_id, systems[0].protein.expo_id"
   ]
  },
  {
   "cell_type": "markdown",
   "id": "af8fc96b-3dae-4fcf-bf50-693df0fa9be8",
   "metadata": {
    "papermill": {
     "duration": 0.109259,
     "end_time": "2022-04-22T12:48:35.999854",
     "exception": false,
     "start_time": "2022-04-22T12:48:35.890595",
     "status": "completed"
    },
    "tags": []
   },
   "source": [
    "### Schrodinger's shape"
   ]
  },
  {
   "cell_type": "code",
   "execution_count": 28,
   "id": "f052e537-e0ab-4ba2-9549-40b809ea112f",
   "metadata": {
    "execution": {
     "iopub.execute_input": "2022-04-22T12:48:36.214398Z",
     "iopub.status.busy": "2022-04-22T12:48:36.214006Z",
     "iopub.status.idle": "2022-04-22T12:48:36.220133Z",
     "shell.execute_reply": "2022-04-22T12:48:36.218938Z"
    },
    "papermill": {
     "duration": 0.117177,
     "end_time": "2022-04-22T12:48:36.225641",
     "exception": false,
     "start_time": "2022-04-22T12:48:36.108464",
     "status": "completed"
    },
    "tags": []
   },
   "outputs": [],
   "source": [
    "featurizer = MostSimilarPDBLigandFeaturizer(similarity_metric=\"schrodinger_shape\")"
   ]
  },
  {
   "cell_type": "code",
   "execution_count": 29,
   "id": "350ebff7-9fe2-4f12-9ec1-5cb65b8848d5",
   "metadata": {
    "execution": {
     "iopub.execute_input": "2022-04-22T12:48:36.413598Z",
     "iopub.status.busy": "2022-04-22T12:48:36.413122Z",
     "iopub.status.idle": "2022-04-22T12:49:13.177974Z",
     "shell.execute_reply": "2022-04-22T12:49:13.176657Z"
    },
    "papermill": {
     "duration": 36.934558,
     "end_time": "2022-04-22T12:49:13.237887",
     "exception": false,
     "start_time": "2022-04-22T12:48:36.303329",
     "status": "completed"
    },
    "tags": []
   },
   "outputs": [
    {
     "name": "stderr",
     "output_type": "stream",
     "text": [
      "perl: warning: Setting locale failed.\n",
      "perl: warning: Please check that your locale settings:\n",
      "\tLANGUAGE = (unset),\n",
      "\tLC_ALL = (unset),\n",
      "\tLC_NUMERIC = \"C\",\n",
      "\tLC_TIME = \"C\",\n",
      "\tLANG = \"C.UTF-8\"\n",
      "    are supported and installed on your system.\n",
      "perl: warning: Falling back to the standard locale (\"C\").\n"
     ]
    },
    {
     "name": "stdout",
     "output_type": "stream",
     "text": [
      "JobId: lu04-0-6262a42c\n"
     ]
    },
    {
     "data": {
      "text/plain": [
       "('4YPS', 'A', '4F6')"
      ]
     },
     "execution_count": 29,
     "metadata": {},
     "output_type": "execute_result"
    },
    {
     "name": "stdout",
     "output_type": "stream",
     "text": [
      "36.7 s ± 0 ns per loop (mean ± std. dev. of 1 run, 1 loop each)\n"
     ]
    }
   ],
   "source": [
    "%%timeit -n 1 -r 1\n",
    "%%capture --no-display\n",
    "systems = featurizer.featurize(systems)\n",
    "systems[0].protein.pdb_id, systems[0].protein.chain_id, systems[0].protein.expo_id"
   ]
  },
  {
   "cell_type": "markdown",
   "id": "8a071c6c-0ac7-4ddd-8222-2dc286422504",
   "metadata": {
    "papermill": {
     "duration": 0.070175,
     "end_time": "2022-04-22T12:49:13.378873",
     "exception": false,
     "start_time": "2022-04-22T12:49:13.308698",
     "status": "completed"
    },
    "tags": []
   },
   "source": [
    "Using shape is the slowest option, but in many cases the most accurate one."
   ]
  },
  {
   "cell_type": "markdown",
   "id": "6d6e7776-604e-4072-bffd-89aaef4bd034",
   "metadata": {
    "papermill": {
     "duration": 0.075498,
     "end_time": "2022-04-22T12:49:13.525566",
     "exception": false,
     "start_time": "2022-04-22T12:49:13.450068",
     "status": "completed"
    },
    "tags": []
   },
   "source": [
    "### Pipeline of MostSimilarPDBLigandFeaturizer and SCHRODINGERDockingFeaturizer\n",
    "\n",
    "The `MostSimilarPDBLigandFeaturizer` can be joined with the `SCHRODINGERDockingFeaturizer` into a `Pipeline` featurizer."
   ]
  },
  {
   "cell_type": "code",
   "execution_count": 30,
   "id": "836af6ba-0207-43ed-890d-e2f863dce352",
   "metadata": {
    "execution": {
     "iopub.execute_input": "2022-04-22T12:49:13.676030Z",
     "iopub.status.busy": "2022-04-22T12:49:13.675636Z",
     "iopub.status.idle": "2022-04-22T12:49:13.680713Z",
     "shell.execute_reply": "2022-04-22T12:49:13.679784Z"
    },
    "papermill": {
     "duration": 0.085693,
     "end_time": "2022-04-22T12:49:13.686294",
     "exception": false,
     "start_time": "2022-04-22T12:49:13.600601",
     "status": "completed"
    },
    "tags": []
   },
   "outputs": [],
   "source": [
    "systems = []"
   ]
  },
  {
   "cell_type": "code",
   "execution_count": 31,
   "id": "ffc06935-e0ae-4a73-bf7d-4ff0669eebe9",
   "metadata": {
    "execution": {
     "iopub.execute_input": "2022-04-22T12:49:13.836671Z",
     "iopub.status.busy": "2022-04-22T12:49:13.836303Z",
     "iopub.status.idle": "2022-04-22T12:49:13.843030Z",
     "shell.execute_reply": "2022-04-22T12:49:13.842117Z"
    },
    "papermill": {
     "duration": 0.086812,
     "end_time": "2022-04-22T12:49:13.848122",
     "exception": false,
     "start_time": "2022-04-22T12:49:13.761310",
     "status": "completed"
    },
    "tags": []
   },
   "outputs": [],
   "source": [
    "protein = Protein(uniprot_id=\"P04629\", name=\"NTRK1\", toolkit=\"MDAnalysis\")\n",
    "ligand = Ligand(smiles=\"C1CC(N(C1)C2=NC3=C(C=NN3C=C2)NC(=O)N4CCC(C4)O)C5=C(C=CC(=C5)F)F\", name=\"larotrectinib\")\n",
    "system = ProteinLigandComplex(components=[protein, ligand])\n",
    "systems.append(system)"
   ]
  },
  {
   "cell_type": "code",
   "execution_count": 32,
   "id": "aad92cea-d047-40e3-b194-92c3130a3223",
   "metadata": {
    "execution": {
     "iopub.execute_input": "2022-04-22T12:49:13.994697Z",
     "iopub.status.busy": "2022-04-22T12:49:13.994319Z",
     "iopub.status.idle": "2022-04-22T12:49:14.000894Z",
     "shell.execute_reply": "2022-04-22T12:49:13.999895Z"
    },
    "papermill": {
     "duration": 0.084522,
     "end_time": "2022-04-22T12:49:14.005754",
     "exception": false,
     "start_time": "2022-04-22T12:49:13.921232",
     "status": "completed"
    },
    "tags": []
   },
   "outputs": [],
   "source": [
    "featurizer = Pipeline([\n",
    "    MostSimilarPDBLigandFeaturizer(similarity_metric=\"fingerprint\"),\n",
    "    SCHRODINGERDockingFeaturizer(output_dir=\"output/docking_pipeline\"),\n",
    "])"
   ]
  },
  {
   "cell_type": "code",
   "execution_count": 33,
   "id": "6b2776cb-774d-4255-b299-7c56ccec611a",
   "metadata": {
    "execution": {
     "iopub.execute_input": "2022-04-22T12:49:14.180826Z",
     "iopub.status.busy": "2022-04-22T12:49:14.180303Z",
     "iopub.status.idle": "2022-04-22T12:53:25.625018Z",
     "shell.execute_reply": "2022-04-22T12:53:25.623299Z"
    },
    "papermill": {
     "duration": 251.550071,
     "end_time": "2022-04-22T12:53:25.628872",
     "exception": false,
     "start_time": "2022-04-22T12:49:14.078801",
     "status": "completed"
    },
    "tags": []
   },
   "outputs": [
    {
     "name": "stdout",
     "output_type": "stream",
     "text": [
      "Converted file: /scratch/lsftmp/6525607.tmpdir/tmp5xoq3zd9.mae\n"
     ]
    },
    {
     "name": "stdout",
     "output_type": "stream",
     "text": [
      "Removing previous job files...\n"
     ]
    },
    {
     "name": "stdout",
     "output_type": "stream",
     "text": [
      "JobId: lu04-0-6262a474\n",
      "ExitStatus: finished\n"
     ]
    },
    {
     "name": "stdout",
     "output_type": "stream",
     "text": [
      "Converted file: /lila/data/chodera/shallerd/projects/schrodinger/kinoml/examples/output/docking_pipeline/kinoml_SCHRODINGERDockingFeaturizer_NTRK1_4YNE_chainA_larotrectinib_complex.mae\n"
     ]
    },
    {
     "data": {
      "text/plain": [
       "[<ProteinLigandComplex with 2 components (<Protein name=NTRK1>, <Ligand name=larotrectinib>)>]"
      ]
     },
     "execution_count": 33,
     "metadata": {},
     "output_type": "execute_result"
    }
   ],
   "source": [
    "%%capture --no-display\n",
    "systems = featurizer.featurize(systems)\n",
    "systems"
   ]
  },
  {
   "cell_type": "code",
   "execution_count": 34,
   "id": "36b3c973-9931-4442-945b-e339dab3f1c6",
   "metadata": {
    "execution": {
     "iopub.execute_input": "2022-04-22T12:53:25.858694Z",
     "iopub.status.busy": "2022-04-22T12:53:25.858145Z",
     "iopub.status.idle": "2022-04-22T12:53:25.869178Z",
     "shell.execute_reply": "2022-04-22T12:53:25.867157Z"
    },
    "papermill": {
     "duration": 0.141015,
     "end_time": "2022-04-22T12:53:25.881014",
     "exception": false,
     "start_time": "2022-04-22T12:53:25.739999",
     "status": "completed"
    },
    "tags": []
   },
   "outputs": [
    {
     "data": {
      "text/plain": [
       "{'last': <Universe with 4964 atoms>,\n",
       " 'Pipeline([MostSimilarPDBLigandFeaturizer, SCHRODINGERDockingFeaturizer])': <Universe with 4964 atoms>}"
      ]
     },
     "execution_count": 34,
     "metadata": {},
     "output_type": "execute_result"
    }
   ],
   "source": [
    "systems[0].featurizations"
   ]
  },
  {
   "cell_type": "markdown",
   "id": "77db9232-360d-40ee-8b2f-640eaf6bdc1a",
   "metadata": {
    "papermill": {
     "duration": 0.118895,
     "end_time": "2022-04-22T12:53:26.116629",
     "exception": false,
     "start_time": "2022-04-22T12:53:25.997734",
     "status": "completed"
    },
    "tags": []
   },
   "source": [
    "## KLIFSConformationTemplatesFeaturizer\n",
    "\n",
    "The `KLIFSConformationTemplatesFeaturizer` searches for suitable templates to model a kinase:ligand complex in different conformations. The templates are selected based on ligand and sequence similarity."
   ]
  },
  {
   "cell_type": "code",
   "execution_count": 35,
   "id": "f680e950-d0e2-43ce-9bad-2da70a94bde5",
   "metadata": {
    "execution": {
     "iopub.execute_input": "2022-04-22T12:53:26.316324Z",
     "iopub.status.busy": "2022-04-22T12:53:26.315796Z",
     "iopub.status.idle": "2022-04-22T12:53:26.323998Z",
     "shell.execute_reply": "2022-04-22T12:53:26.322084Z"
    },
    "papermill": {
     "duration": 0.142074,
     "end_time": "2022-04-22T12:53:26.335796",
     "exception": false,
     "start_time": "2022-04-22T12:53:26.193722",
     "status": "completed"
    },
    "tags": []
   },
   "outputs": [
    {
     "name": "stdout",
     "output_type": "stream",
     "text": [
      "Find suitable kinase templates for modeling a kinase:inhibitor complex in\n",
      "different KLIFS conformations.\n",
      "\n",
      "The protein component of each system must be a `core.proteins.KLIFSKinase`,\n",
      "and must be initialized with a `uniprot_id` or `kinase_klifs_id` parameter.\n",
      "\n",
      "The ligand component of each system must be a `core.ligands.Ligand` or a\n",
      "subclass thereof and give access to the molecular structure, e.g. via a\n",
      "SMILES.\n",
      "\n",
      "Parameters\n",
      "----------\n",
      "similarity_metric: str, default=\"fingerprint\"\n",
      "    The similarity metric to use to detect the structures with similar\n",
      "    ligands [\"fingerprint\", \"mcs\", \"openeye_shape\", \"schrodinger_shape\"].\n",
      "cache_dir: str, Path or None, default=None\n",
      "    Path to directory used for saving intermediate files. If None, default\n",
      "    location provided by `appdirs.user_cache_dir()` will be used.\n",
      "use_multiprocessing : bool, default=True\n",
      "    If multiprocessing to use.\n",
      "n_processes : int or None, default=None\n",
      "    How many processes to use in case of multiprocessing. Defaults to\n",
      "    number of available CPUs.\n"
     ]
    }
   ],
   "source": [
    "print(inspect.getdoc(KLIFSConformationTemplatesFeaturizer))"
   ]
  },
  {
   "cell_type": "code",
   "execution_count": 36,
   "id": "e14082da-b8f1-477a-8bcd-810936e07e72",
   "metadata": {
    "execution": {
     "iopub.execute_input": "2022-04-22T12:53:26.498935Z",
     "iopub.status.busy": "2022-04-22T12:53:26.498655Z",
     "iopub.status.idle": "2022-04-22T12:53:26.502381Z",
     "shell.execute_reply": "2022-04-22T12:53:26.501621Z"
    },
    "papermill": {
     "duration": 0.051614,
     "end_time": "2022-04-22T12:53:26.506129",
     "exception": false,
     "start_time": "2022-04-22T12:53:26.454515",
     "status": "completed"
    },
    "tags": []
   },
   "outputs": [],
   "source": [
    "systems = []"
   ]
  },
  {
   "cell_type": "code",
   "execution_count": 37,
   "id": "f558ef87-b33e-4bd1-a474-b13e90e69195",
   "metadata": {
    "execution": {
     "iopub.execute_input": "2022-04-22T12:53:26.641764Z",
     "iopub.status.busy": "2022-04-22T12:53:26.641485Z",
     "iopub.status.idle": "2022-04-22T12:53:26.646318Z",
     "shell.execute_reply": "2022-04-22T12:53:26.645636Z"
    },
    "papermill": {
     "duration": 0.101318,
     "end_time": "2022-04-22T12:53:26.649838",
     "exception": false,
     "start_time": "2022-04-22T12:53:26.548520",
     "status": "completed"
    },
    "tags": []
   },
   "outputs": [],
   "source": [
    "protein = KLIFSKinase(uniprot_id=\"P04629\", name=\"NTRK1\")\n",
    "ligand = Ligand(smiles=\"C1CC(N(C1)C2=NC3=C(C=NN3C=C2)NC(=O)N4CCC(C4)O)C5=C(C=CC(=C5)F)F\", name=\"larotrectinib\")\n",
    "system = ProteinLigandComplex(components=[protein, ligand])\n",
    "systems.append(system)"
   ]
  },
  {
   "cell_type": "code",
   "execution_count": 38,
   "id": "b7fcc40c-b3f3-4451-9f8d-501f27328f32",
   "metadata": {
    "execution": {
     "iopub.execute_input": "2022-04-22T12:53:26.809639Z",
     "iopub.status.busy": "2022-04-22T12:53:26.809016Z",
     "iopub.status.idle": "2022-04-22T12:53:26.817480Z",
     "shell.execute_reply": "2022-04-22T12:53:26.816124Z"
    },
    "papermill": {
     "duration": 0.133854,
     "end_time": "2022-04-22T12:53:26.827113",
     "exception": false,
     "start_time": "2022-04-22T12:53:26.693259",
     "status": "completed"
    },
    "tags": []
   },
   "outputs": [],
   "source": [
    "featurizer = KLIFSConformationTemplatesFeaturizer(\n",
    "    similarity_metric=\"fingerprint\"\n",
    ")"
   ]
  },
  {
   "cell_type": "code",
   "execution_count": 39,
   "id": "7a7489c6-d564-4285-b5d6-b8cb510d68f3",
   "metadata": {
    "execution": {
     "iopub.execute_input": "2022-04-22T12:53:26.923066Z",
     "iopub.status.busy": "2022-04-22T12:53:26.922585Z",
     "iopub.status.idle": "2022-04-22T12:57:20.443875Z",
     "shell.execute_reply": "2022-04-22T12:57:20.443023Z"
    },
    "papermill": {
     "duration": 233.591896,
     "end_time": "2022-04-22T12:57:20.470472",
     "exception": false,
     "start_time": "2022-04-22T12:53:26.878576",
     "status": "completed"
    },
    "tags": []
   },
   "outputs": [
    {
     "data": {
      "text/plain": [
       "[<ProteinLigandComplex with 2 components (<KLIFSKinase name=NTRK1>, <Ligand name=larotrectinib>)>]"
      ]
     },
     "execution_count": 39,
     "metadata": {},
     "output_type": "execute_result"
    }
   ],
   "source": [
    "%%capture --no-display\n",
    "systems = featurizer.featurize(systems)\n",
    "systems"
   ]
  },
  {
   "cell_type": "code",
   "execution_count": 40,
   "id": "ed84f951-689a-4d8d-b2b9-c5eda645f624",
   "metadata": {
    "execution": {
     "iopub.execute_input": "2022-04-22T12:57:20.676917Z",
     "iopub.status.busy": "2022-04-22T12:57:20.676448Z",
     "iopub.status.idle": "2022-04-22T12:57:20.726850Z",
     "shell.execute_reply": "2022-04-22T12:57:20.725753Z"
    },
    "papermill": {
     "duration": 0.158403,
     "end_time": "2022-04-22T12:57:20.730863",
     "exception": false,
     "start_time": "2022-04-22T12:57:20.572460",
     "status": "completed"
    },
    "tags": []
   },
   "outputs": [
    {
     "data": {
      "text/html": [
       "<div>\n",
       "<style scoped>\n",
       "    .dataframe tbody tr th:only-of-type {\n",
       "        vertical-align: middle;\n",
       "    }\n",
       "\n",
       "    .dataframe tbody tr th {\n",
       "        vertical-align: top;\n",
       "    }\n",
       "\n",
       "    .dataframe thead th {\n",
       "        text-align: right;\n",
       "    }\n",
       "</style>\n",
       "<table border=\"1\" class=\"dataframe\">\n",
       "  <thead>\n",
       "    <tr style=\"text-align: right;\">\n",
       "      <th></th>\n",
       "      <th>dfg</th>\n",
       "      <th>ac_helix</th>\n",
       "      <th>pdb_id</th>\n",
       "      <th>chain_id</th>\n",
       "      <th>expo_id</th>\n",
       "      <th>ligand_similarity</th>\n",
       "      <th>pocket_similarity</th>\n",
       "    </tr>\n",
       "  </thead>\n",
       "  <tbody>\n",
       "    <tr>\n",
       "      <th>0</th>\n",
       "      <td>in</td>\n",
       "      <td>in</td>\n",
       "      <td>4yne</td>\n",
       "      <td>A</td>\n",
       "      <td>4EK</td>\n",
       "      <td>0.568047</td>\n",
       "      <td>443.0</td>\n",
       "    </tr>\n",
       "    <tr>\n",
       "      <th>1</th>\n",
       "      <td>in</td>\n",
       "      <td>out</td>\n",
       "      <td>6tfp</td>\n",
       "      <td>A</td>\n",
       "      <td>N6Z</td>\n",
       "      <td>0.534031</td>\n",
       "      <td>215.0</td>\n",
       "    </tr>\n",
       "    <tr>\n",
       "      <th>2</th>\n",
       "      <td>out</td>\n",
       "      <td>in</td>\n",
       "      <td>4pmp</td>\n",
       "      <td>A</td>\n",
       "      <td>31W</td>\n",
       "      <td>0.482759</td>\n",
       "      <td>443.0</td>\n",
       "    </tr>\n",
       "    <tr>\n",
       "      <th>3</th>\n",
       "      <td>out-like</td>\n",
       "      <td>in</td>\n",
       "      <td>6brj</td>\n",
       "      <td>A</td>\n",
       "      <td>VX6</td>\n",
       "      <td>0.521739</td>\n",
       "      <td>279.0</td>\n",
       "    </tr>\n",
       "    <tr>\n",
       "      <th>4</th>\n",
       "      <td>out-like</td>\n",
       "      <td>out</td>\n",
       "      <td>3aqv</td>\n",
       "      <td>A</td>\n",
       "      <td>TAK</td>\n",
       "      <td>0.435754</td>\n",
       "      <td>171.0</td>\n",
       "    </tr>\n",
       "    <tr>\n",
       "      <th>5</th>\n",
       "      <td>out</td>\n",
       "      <td>out</td>\n",
       "      <td>5jfv</td>\n",
       "      <td>A</td>\n",
       "      <td>6K1</td>\n",
       "      <td>0.491620</td>\n",
       "      <td>422.0</td>\n",
       "    </tr>\n",
       "  </tbody>\n",
       "</table>\n",
       "</div>"
      ],
      "text/plain": [
       "        dfg ac_helix pdb_id chain_id expo_id  ligand_similarity  \\\n",
       "0        in       in   4yne        A     4EK           0.568047   \n",
       "1        in      out   6tfp        A     N6Z           0.534031   \n",
       "2       out       in   4pmp        A     31W           0.482759   \n",
       "3  out-like       in   6brj        A     VX6           0.521739   \n",
       "4  out-like      out   3aqv        A     TAK           0.435754   \n",
       "5       out      out   5jfv        A     6K1           0.491620   \n",
       "\n",
       "   pocket_similarity  \n",
       "0              443.0  \n",
       "1              215.0  \n",
       "2              443.0  \n",
       "3              279.0  \n",
       "4              171.0  \n",
       "5              422.0  "
      ]
     },
     "execution_count": 40,
     "metadata": {},
     "output_type": "execute_result"
    }
   ],
   "source": [
    "systems[0].featurizations[\"last\"]"
   ]
  }
 ],
 "metadata": {
  "kernelspec": {
   "display_name": "Python 3 (ipykernel)",
   "language": "python",
   "name": "python3"
  },
  "language_info": {
   "codemirror_mode": {
    "name": "ipython",
    "version": 3
   },
   "file_extension": ".py",
   "mimetype": "text/x-python",
   "name": "python",
   "nbconvert_exporter": "python",
   "pygments_lexer": "ipython3",
   "version": "3.9.12"
  },
  "papermill": {
   "default_parameters": {},
   "duration": 1121.080541,
   "end_time": "2022-04-22T12:57:22.293896",
   "environment_variables": {},
   "exception": null,
   "input_path": "Schrodinger_structural_featurizer.ipynb",
   "output_path": "Schrodinger_structural_featurizer_out.ipynb",
   "parameters": {},
   "start_time": "2022-04-22T12:38:41.213355",
   "version": "2.2.2"
  }
 },
 "nbformat": 4,
 "nbformat_minor": 5
}
