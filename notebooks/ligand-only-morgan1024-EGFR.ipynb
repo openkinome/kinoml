{
 "cells": [
  {
   "cell_type": "markdown",
   "metadata": {},
   "source": [
    "# Ligand-only morgan 1024 experiment\n",
    "\n",
    "In this notebook we will run an experiment using KinoML. In this case we will focus on ligands that have affinity for the kinase EGFR. To run this experiments we will use `kinoml.features.ligand.MorganFingerprintFeaturizer`, which means that we will only use ligand information to train our model and run our experiments. This notebook is divided into two parts, the first part is about featurizing the dataset and the second part is the actual experiment."
   ]
  },
  {
   "cell_type": "markdown",
   "metadata": {},
   "source": [
    "## 1. Featurize the dataset\n",
    "\n",
    "Any machine learning model will expect tensorial representations of the chemical data. This notebooks provides a workflow to achieve such goal.\n",
    "\n",
    "`kinoml.dataset.DatasetProvider` objects need to be available to deal with your collection of raw measurements for protein:ligand systems. These objects are, roughly, a list of `kinoml.core.BaseMeasurement`, each containing a set of `.values` and a some extra metadata, like the `system` objects to be featurized here.\n",
    "\n",
    "In ligand-based models, protein information is only considered marginally, and most of the action happens at the ligand level. Usually starting with a string representation such as SMILES, or a database identifier such as a PubChem ID, these are promoted to (usually) RDKit objects and then transformed into a tensor of some form (e.g. fingerprints, molecular graph as an adjacency matrix, etc).\n",
    "\n",
    "Available featurizers can be found under `kinoml.features`."
   ]
  },
  {
   "cell_type": "code",
   "execution_count": 1,
   "metadata": {
    "papermill": {
     "duration": 0.01276,
     "end_time": "2023-11-01T15:27:21.712240",
     "exception": false,
     "start_time": "2023-11-01T15:27:21.699480",
     "status": "completed"
    },
    "tags": []
   },
   "outputs": [],
   "source": [
    "# If this is the template file (and not a copy) and you are introducing changes,\n",
    "# update VERSION with the current date (YYYY.MM.DD)\n",
    "VERSION = \"2023.11.06\" "
   ]
  },
  {
   "cell_type": "code",
   "execution_count": 2,
   "metadata": {},
   "outputs": [],
   "source": [
    "#fuction to obtain current working path to ouput results\n",
    "def main():\n",
    "    parameters[\"HERE\"] = str(nbout.parent.resolve())"
   ]
  },
  {
   "cell_type": "code",
   "execution_count": 3,
   "metadata": {},
   "outputs": [],
   "source": [
    "HERE = _dh[-1] #current path"
   ]
  },
  {
   "cell_type": "markdown",
   "metadata": {
    "papermill": {
     "duration": 0.005488,
     "end_time": "2023-11-01T15:27:21.723562",
     "exception": false,
     "start_time": "2023-11-01T15:27:21.718074",
     "status": "completed"
    },
    "tags": []
   },
   "source": [
    "### ✏ Define hyper parameters"
   ]
  },
  {
   "cell_type": "markdown",
   "metadata": {},
   "source": [
    "Now we will define the parameters of our featurization pipeline. Note that you can adapt these parameters to your data and any experiments you want to run. If you use a different dataset, please make sure it is processed (e.g. no empty values, repeated entries, etc...)"
   ]
  },
  {
   "cell_type": "code",
   "execution_count": 4,
   "metadata": {
    "papermill": {
     "duration": 0.010962,
     "end_time": "2023-11-01T15:27:21.756923",
     "exception": false,
     "start_time": "2023-11-01T15:27:21.745961",
     "status": "completed"
    },
    "tags": [
     "injected-parameters"
    ]
   },
   "outputs": [],
   "source": [
    "# Parameters\n",
    "DATASET_CLS = \"kinoml.datasets.chembl.ChEMBLDatasetProvider\"\n",
    "DATASET_KWARGS = {\n",
    "    \"path_or_url\": \"../data/filtered_dataset_EGFR.csv\", #your dataset\n",
    "    \"measurement_types\": [\"pIC50\", \"pKd\", \"pKi\"], #the type of measurements you are interested in\n",
    "    \"uniprot_ids\": [\"P00533\"], #the kinase\n",
    "    \"sample\": 3000, #number of samples you want to work with, to run the notebook faster you can pick a smaller number\n",
    "}\n",
    "PIPELINES = {\n",
    "    \"ligand\": [\n",
    "        [\n",
    "            \"kinoml.features.ligand.MorganFingerprintFeaturizer\",\n",
    "            {\"nbits\": 1024, \"radius\": 2},\n",
    "        ]\n",
    "    ]\n",
    "}\n",
    "PIPELINES_AGG = \"kinoml.features.core.TupleOfArrays\"\n",
    "PIPELINES_AGG_KWARGS = {}\n",
    "FEATURIZE_KWARGS = {\"keep\": False}\n",
    "GROUPS = [\n",
    "    [\n",
    "        \"kinoml.datasets.groups.CallableGrouper\",\n",
    "        {\"function\": \"lambda measurement: type(measurement).__name__\"},\n",
    "    ]\n",
    "]\n",
    "TRAIN_TEST_VAL_KWARGS = {\"idx_train\": 0.8, \"idx_test\": 0.1, \"idx_val\": 0.1}\n",
    "#HERE = \".\"\n"
   ]
  },
  {
   "cell_type": "markdown",
   "metadata": {
    "papermill": {
     "duration": 0.005698,
     "end_time": "2023-11-01T15:27:21.768372",
     "exception": false,
     "start_time": "2023-11-01T15:27:21.762674",
     "status": "completed"
    },
    "tags": []
   },
   "source": [
    "⚠ If you are adapting this notebook to your own dataset, you should _not_ need to modify anything from here 🤞\n",
    "\n",
    "---\n",
    "\n",
    "Define key paths for data and outputs:"
   ]
  },
  {
   "cell_type": "code",
   "execution_count": 5,
   "metadata": {
    "papermill": {
     "duration": 0.013019,
     "end_time": "2023-11-01T15:27:21.787384",
     "exception": false,
     "start_time": "2023-11-01T15:27:21.774365",
     "status": "completed"
    },
    "tags": []
   },
   "outputs": [
    {
     "name": "stdout",
     "output_type": "stream",
     "text": [
      "This notebook:           HERE = /home/raquellrdc/Desktop/postdoc/kinoml_tech_paper_final/kinoml/examples/experiments/ligand-only-morgan1024-EGFR\n",
      "This repo:               REPO = /home/raquellrdc/Desktop/postdoc/kinoml_tech_paper_final/kinoml\n",
      "Outputs in:               OUT = /home/raquellrdc/Desktop/postdoc/kinoml_tech_paper_final/kinoml/examples/experiments/ligand-only-morgan1024-EGFR/_output/ligand__MorganFingerprintFeaturizer_nbits=1024_radius=2/ChEMBLDatasetProvider\n"
     ]
    }
   ],
   "source": [
    "from pathlib import Path\n",
    "\n",
    "HERE = Path(HERE)\n",
    "for parent in HERE.parents:\n",
    "    if next(parent.glob(\".github/\"), None):\n",
    "        REPO = parent\n",
    "        break\n",
    "\n",
    "# Generate paths for this pipeline\n",
    "featurizer_path = []\n",
    "for name, branch in PIPELINES.items():\n",
    "    featurizer_path.append(name)\n",
    "    for clsname, kwargs in branch:\n",
    "        clsname = clsname.rsplit(\".\", 1)[1]\n",
    "        kwargs = [f\"{k}={''.join(c for c in str(v) if c.isalnum())}\" for k,v in kwargs.items()]\n",
    "        featurizer_path.append(\"_\".join([clsname] + kwargs))\n",
    "\n",
    "OUT = HERE / \"_output\"  / \"__\".join(featurizer_path) / DATASET_CLS.rsplit('.', 1)[1]\n",
    "OUT.mkdir(parents=True, exist_ok=True)\n",
    "\n",
    "print(f\"This notebook:           HERE = {HERE}\")\n",
    "print(f\"This repo:               REPO = {REPO}\")\n",
    "print(f\"Outputs in:               OUT = {OUT}\")"
   ]
  },
  {
   "cell_type": "code",
   "execution_count": 6,
   "metadata": {},
   "outputs": [],
   "source": [
    "# Nasty trick: save all-caps local variables (CONSTANTS working as hyperparametrs) so far in a dict to save it later\n",
    "_hparams = {key: value for key, value in locals().items() if key.upper() == key and not key.startswith((\"_\", \"OE_\"))}"
   ]
  },
  {
   "cell_type": "markdown",
   "metadata": {
    "papermill": {
     "duration": 0.006065,
     "end_time": "2023-11-01T15:27:21.816139",
     "exception": false,
     "start_time": "2023-11-01T15:27:21.810074",
     "status": "completed"
    },
    "tags": []
   },
   "source": [
    "### Setup is finished, start working"
   ]
  },
  {
   "cell_type": "code",
   "execution_count": 7,
   "metadata": {
    "papermill": {
     "duration": 1.00868,
     "end_time": "2023-11-01T15:27:22.830854",
     "exception": false,
     "start_time": "2023-11-01T15:27:21.822174",
     "status": "completed"
    },
    "tags": []
   },
   "outputs": [
    {
     "name": "stdout",
     "output_type": "stream",
     "text": [
      "Run started at 2023-11-06 10:51:16.674245\n"
     ]
    }
   ],
   "source": [
    "from warnings import warn\n",
    "import os\n",
    "import sys\n",
    "from pathlib import Path\n",
    "from datetime import datetime\n",
    "\n",
    "import numpy as np\n",
    "import awkward as ak\n",
    "\n",
    "from kinoml.utils import seed_everything, import_object\n",
    "seed_everything();\n",
    "print(\"Run started at\", datetime.now())"
   ]
  },
  {
   "cell_type": "markdown",
   "metadata": {
    "papermill": {
     "duration": 0.00577,
     "end_time": "2023-11-01T15:27:22.842480",
     "exception": false,
     "start_time": "2023-11-01T15:27:22.836710",
     "status": "completed"
    },
    "tags": []
   },
   "source": [
    "### Load raw data\n",
    "\n",
    "> This `import_object` function allows us to take a `str` containing a Python import path (e.g. `kinoml.datasets.chembl.ChEMBLDatasetProvider`) and obtain the imported object directly. That's how we can encode classes in JSON-only `papermill` inputs.\n",
    ">\n",
    "> See the help message `import_object?` for more info.\n",
    "Note that you need an OE license"
   ]
  },
  {
   "cell_type": "code",
   "execution_count": 8,
   "metadata": {
    "papermill": {
     "duration": 1.135279,
     "end_time": "2023-11-01T15:27:23.983238",
     "exception": false,
     "start_time": "2023-11-01T15:27:22.847959",
     "status": "completed"
    },
    "tags": []
   },
   "outputs": [
    {
     "name": "stderr",
     "output_type": "stream",
     "text": [
      "/home/raquellrdc/anaconda3/envs/kinoml_env/lib/python3.9/site-packages/pandas/core/computation/expressions.py:21: UserWarning: Pandas requires version '2.8.0' or newer of 'numexpr' (version '2.7.3' currently installed).\n",
      "  from pandas.core.computation.check import NUMEXPR_INSTALLED\n"
     ]
    },
    {
     "data": {
      "application/vnd.jupyter.widget-view+json": {
       "model_id": "4320db44cb294fb482898cbd05856b95",
       "version_major": 2,
       "version_minor": 0
      },
      "text/plain": [
       "  0%|          | 0/3000 [00:00<?, ?it/s]"
      ]
     },
     "metadata": {},
     "output_type": "display_data"
    },
    {
     "data": {
      "text/plain": [
       "<ChEMBLDatasetProvider with 3000 measurements (pIC50Measurement=2826, pKdMeasurement=53, pKiMeasurement=121), and 3000 systems (KLIFSKinase=1, Ligand=3000)>"
      ]
     },
     "execution_count": 8,
     "metadata": {},
     "output_type": "execute_result"
    }
   ],
   "source": [
    "\n",
    "dataset = import_object(DATASET_CLS).from_source(**DATASET_KWARGS)\n",
    "dataset"
   ]
  },
  {
   "cell_type": "code",
   "execution_count": 9,
   "metadata": {
    "papermill": {
     "duration": 0.031255,
     "end_time": "2023-11-01T15:27:24.020410",
     "exception": false,
     "start_time": "2023-11-01T15:27:23.989155",
     "status": "completed"
    },
    "tags": []
   },
   "outputs": [
    {
     "data": {
      "text/html": [
       "<div>\n",
       "<style scoped>\n",
       "    .dataframe tbody tr th:only-of-type {\n",
       "        vertical-align: middle;\n",
       "    }\n",
       "\n",
       "    .dataframe tbody tr th {\n",
       "        vertical-align: top;\n",
       "    }\n",
       "\n",
       "    .dataframe thead th {\n",
       "        text-align: right;\n",
       "    }\n",
       "</style>\n",
       "<table border=\"1\" class=\"dataframe\">\n",
       "  <thead>\n",
       "    <tr style=\"text-align: right;\">\n",
       "      <th></th>\n",
       "      <th>Systems</th>\n",
       "      <th>n_components</th>\n",
       "      <th>Measurement</th>\n",
       "      <th>MeasurementType</th>\n",
       "    </tr>\n",
       "  </thead>\n",
       "  <tbody>\n",
       "    <tr>\n",
       "      <th>0</th>\n",
       "      <td>P00533 &amp; CC(=O)c1ccccc1-n1c(-c2ccccc2)nc2cc(Cl...</td>\n",
       "      <td>2</td>\n",
       "      <td>6.142668</td>\n",
       "      <td>pIC50Measurement</td>\n",
       "    </tr>\n",
       "    <tr>\n",
       "      <th>1</th>\n",
       "      <td>P00533 &amp; COc1cc(C=O)ccc1-c1cc2c(NCc3ccccc3)ncn...</td>\n",
       "      <td>2</td>\n",
       "      <td>8.221849</td>\n",
       "      <td>pIC50Measurement</td>\n",
       "    </tr>\n",
       "    <tr>\n",
       "      <th>2</th>\n",
       "      <td>P00533 &amp; O=C(CCN1CCCCC1)Nc1ccc2ncnc(Nc3cccc(Br...</td>\n",
       "      <td>2</td>\n",
       "      <td>9.568636</td>\n",
       "      <td>pIC50Measurement</td>\n",
       "    </tr>\n",
       "    <tr>\n",
       "      <th>3</th>\n",
       "      <td>P00533 &amp; C=CC(=O)Nc1cc2c(Nc3ccc(F)c(Cl)c3)ncnc...</td>\n",
       "      <td>2</td>\n",
       "      <td>8.397940</td>\n",
       "      <td>pIC50Measurement</td>\n",
       "    </tr>\n",
       "    <tr>\n",
       "      <th>4</th>\n",
       "      <td>P00533 &amp; N#Cc1cnc(Nc2cccc(Br)c2)c2cc(NC(=O)CCN...</td>\n",
       "      <td>2</td>\n",
       "      <td>5.161151</td>\n",
       "      <td>pIC50Measurement</td>\n",
       "    </tr>\n",
       "    <tr>\n",
       "      <th>...</th>\n",
       "      <td>...</td>\n",
       "      <td>...</td>\n",
       "      <td>...</td>\n",
       "      <td>...</td>\n",
       "    </tr>\n",
       "    <tr>\n",
       "      <th>2995</th>\n",
       "      <td>P00533 &amp; CN1CCN(c2ccc(NC(=O)c3c(NCCc4cccc(Cl)c...</td>\n",
       "      <td>2</td>\n",
       "      <td>7.366532</td>\n",
       "      <td>pKiMeasurement</td>\n",
       "    </tr>\n",
       "    <tr>\n",
       "      <th>2996</th>\n",
       "      <td>P00533 &amp; C=CC(=O)Nc1cc(Nc2nccc(-c3cn(C)c4ccccc...</td>\n",
       "      <td>2</td>\n",
       "      <td>8.835647</td>\n",
       "      <td>pKiMeasurement</td>\n",
       "    </tr>\n",
       "    <tr>\n",
       "      <th>2997</th>\n",
       "      <td>P00533 &amp; Cc1ccc(CNc2nc(N)nc3[nH]c4cc(C)c(O)cc4...</td>\n",
       "      <td>2</td>\n",
       "      <td>5.246417</td>\n",
       "      <td>pKiMeasurement</td>\n",
       "    </tr>\n",
       "    <tr>\n",
       "      <th>2998</th>\n",
       "      <td>P00533 &amp; COC1CCN(c2nccc(Nc3cc4[nH]c(-c5cn[nH]c...</td>\n",
       "      <td>2</td>\n",
       "      <td>7.119186</td>\n",
       "      <td>pKiMeasurement</td>\n",
       "    </tr>\n",
       "    <tr>\n",
       "      <th>2999</th>\n",
       "      <td>P00533 &amp; Nc1nc(NCc2ccc(Cl)cc2)c2c(n1)[nH]c1ccc...</td>\n",
       "      <td>2</td>\n",
       "      <td>7.096910</td>\n",
       "      <td>pKiMeasurement</td>\n",
       "    </tr>\n",
       "  </tbody>\n",
       "</table>\n",
       "<p>3000 rows × 4 columns</p>\n",
       "</div>"
      ],
      "text/plain": [
       "                                                Systems  n_components  \\\n",
       "0     P00533 & CC(=O)c1ccccc1-n1c(-c2ccccc2)nc2cc(Cl...             2   \n",
       "1     P00533 & COc1cc(C=O)ccc1-c1cc2c(NCc3ccccc3)ncn...             2   \n",
       "2     P00533 & O=C(CCN1CCCCC1)Nc1ccc2ncnc(Nc3cccc(Br...             2   \n",
       "3     P00533 & C=CC(=O)Nc1cc2c(Nc3ccc(F)c(Cl)c3)ncnc...             2   \n",
       "4     P00533 & N#Cc1cnc(Nc2cccc(Br)c2)c2cc(NC(=O)CCN...             2   \n",
       "...                                                 ...           ...   \n",
       "2995  P00533 & CN1CCN(c2ccc(NC(=O)c3c(NCCc4cccc(Cl)c...             2   \n",
       "2996  P00533 & C=CC(=O)Nc1cc(Nc2nccc(-c3cn(C)c4ccccc...             2   \n",
       "2997  P00533 & Cc1ccc(CNc2nc(N)nc3[nH]c4cc(C)c(O)cc4...             2   \n",
       "2998  P00533 & COC1CCN(c2nccc(Nc3cc4[nH]c(-c5cn[nH]c...             2   \n",
       "2999  P00533 & Nc1nc(NCc2ccc(Cl)cc2)c2c(n1)[nH]c1ccc...             2   \n",
       "\n",
       "      Measurement   MeasurementType  \n",
       "0        6.142668  pIC50Measurement  \n",
       "1        8.221849  pIC50Measurement  \n",
       "2        9.568636  pIC50Measurement  \n",
       "3        8.397940  pIC50Measurement  \n",
       "4        5.161151  pIC50Measurement  \n",
       "...           ...               ...  \n",
       "2995     7.366532    pKiMeasurement  \n",
       "2996     8.835647    pKiMeasurement  \n",
       "2997     5.246417    pKiMeasurement  \n",
       "2998     7.119186    pKiMeasurement  \n",
       "2999     7.096910    pKiMeasurement  \n",
       "\n",
       "[3000 rows x 4 columns]"
      ]
     },
     "execution_count": 9,
     "metadata": {},
     "output_type": "execute_result"
    }
   ],
   "source": [
    "#visualise your dataset!\n",
    "\n",
    "df = dataset.to_dataframe()\n",
    "df"
   ]
  },
  {
   "cell_type": "markdown",
   "metadata": {
    "papermill": {
     "duration": 0.005945,
     "end_time": "2023-11-01T15:27:24.032515",
     "exception": false,
     "start_time": "2023-11-01T15:27:24.026570",
     "status": "completed"
    },
    "tags": []
   },
   "source": [
    "### Featurize\n",
    "\n",
    "Now, let's convert the data set into somehting that is ML-readable!"
   ]
  },
  {
   "cell_type": "code",
   "execution_count": 10,
   "metadata": {
    "papermill": {
     "duration": 0.012341,
     "end_time": "2023-11-01T15:27:24.050633",
     "exception": false,
     "start_time": "2023-11-01T15:27:24.038292",
     "status": "completed"
    },
    "tags": []
   },
   "outputs": [
    {
     "name": "stdout",
     "output_type": "stream",
     "text": [
      "Building featurizer `ligand` with instructions:\n",
      "  Instantiating `kinoml.features.ligand.MorganFingerprintFeaturizer` with options `{'nbits': 1024, 'radius': 2}`\n",
      "Resulting pipelines: <Pipeline([MorganFingerprintFeaturizer])>\n",
      "Aggregated pipelines: <TupleOfArrays([Pipeline([MorganFingerprintFeaturizer])])>\n"
     ]
    }
   ],
   "source": [
    "# build pipeline\n",
    "from kinoml.features.core import Pipeline\n",
    "\n",
    "pipelines = []\n",
    "for key, pipeline_instructions in PIPELINES.items():\n",
    "    print(f\"Building featurizer `{key}` with instructions:\")\n",
    "    featurizers = []\n",
    "    for featurizer_import_str, kwargs in pipeline_instructions:\n",
    "        kwargs = kwargs or {}  # make sure empty values (None, \"\") turn into {} so we can do **kwargs below\n",
    "        print(f\"  Instantiating `{featurizer_import_str}` with options `{kwargs}`\")\n",
    "        featurizers.append(import_object(featurizer_import_str)(**kwargs))\n",
    "    pipelines.append(Pipeline(featurizers))\n",
    "print(\"Resulting pipelines:\", *pipelines)\n",
    "aggregated_pipeline = import_object(PIPELINES_AGG)(pipelines, **PIPELINES_AGG_KWARGS)\n",
    "print(\"Aggregated pipelines:\", aggregated_pipeline)"
   ]
  },
  {
   "cell_type": "code",
   "execution_count": 11,
   "metadata": {
    "papermill": {
     "duration": 4.049051,
     "end_time": "2023-11-01T15:27:28.105993",
     "exception": false,
     "start_time": "2023-11-01T15:27:24.056942",
     "status": "completed"
    },
    "tags": []
   },
   "outputs": [
    {
     "data": {
      "text/plain": [
       "[<ProteinLigandComplex with 2 components (<KLIFSKinase name=P00533>, <Ligand name=CS(=O)(=O)CC(=O)NCCn1ccc2ncnc(Nc3ccc(Oc4cccc(Cl)c4)c(Cl)c3)c21>)>,\n",
       " <ProteinLigandComplex with 2 components (<KLIFSKinase name=P00533>, <Ligand name=CC(C(=O)/C=C/C(=O)NCCCN(C)C)c1cc2c(Nc3cccc(Br)c3)ncnc2cn1>)>,\n",
       " <ProteinLigandComplex with 2 components (<KLIFSKinase name=P00533>, <Ligand name=C=CC(=O)N1CC[C@H](N2C(=O)N(c3ccccc3)Cc3cnc(Nc4ccc(N5CCN(C)CC5)cc4)nc32)C1>)>,\n",
       " <ProteinLigandComplex with 2 components (<KLIFSKinase name=P00533>, <Ligand name=C=CC(=O)NCCSc1nc(-c2ccccc2)c(-c2ccnc(Nc3ccccc3)c2)[nH]1>)>,\n",
       " <ProteinLigandComplex with 2 components (<KLIFSKinase name=P00533>, <Ligand name=Cc1ccc(-n2cc3c(-c4c[nH]c(-c5ccccc5)c4-c4ccccc4)nnc(O)c3n2)cc1>)>,\n",
       " <ProteinLigandComplex with 2 components (<KLIFSKinase name=P00533>, <Ligand name=O=C1COc2cc3ncnc(Nc4cccc(F)c4)c3cc2N1CCCN1CCOCC1>)>,\n",
       " <ProteinLigandComplex with 2 components (<KLIFSKinase name=P00533>, <Ligand name=CCC(C)n1cnc2cnc(Nc3ccnc(N4CCC(OC)CC4)n3)cc21>)>,\n",
       " <ProteinLigandComplex with 2 components (<KLIFSKinase name=P00533>, <Ligand name=Cc1ncc([N+](=O)[O-])n1CCOC(=O)/C=C/c1ccc(-c2ccccc2)cc1>)>,\n",
       " <ProteinLigandComplex with 2 components (<KLIFSKinase name=P00533>, <Ligand name=C=CC(=O)N1CC[C@H](N2C(=O)N(Cc3ccccc3)Cc3cnc(Nc4ccc(N5CCN(C)CC5)cc4OC)nc32)C1>)>,\n",
       " <ProteinLigandComplex with 2 components (<KLIFSKinase name=P00533>, <Ligand name=CCN1CCN(CC/C=C/c2ccc3c(Nc4ccc(Sc5nccn5C)c(Cl)c4)c(C#N)cnc3c2)CC1>)>,\n",
       " <ProteinLigandComplex with 2 components (<KLIFSKinase name=P00533>, <Ligand name=COc1ccc(C2=NN(c3nc(-c4ccc(Cl)cc4)cs3)C(c3ccc(F)cc3)C2)cc1>)>,\n",
       " <ProteinLigandComplex with 2 components (<KLIFSKinase name=P00533>, <Ligand name=O=C1CSC(N/N=C/c2cc(Cl)ccc2O)=N1>)>,\n",
       " <ProteinLigandComplex with 2 components (<KLIFSKinase name=P00533>, <Ligand name=CCc1c(C(=O)O)cn2ncnc(Nc3ccc4c(cnn4Cc4ccccc4)c3)c12>)>,\n",
       " <ProteinLigandComplex with 2 components (<KLIFSKinase name=P00533>, <Ligand name=CC(=O)Nc1ccc2ncnc(Nc3ccc(OCc4cccc(F)c4)c(Cl)c3)c2c1>)>,\n",
       " <ProteinLigandComplex with 2 components (<KLIFSKinase name=P00533>, <Ligand name=CC(C)c1ccc(Nc2nc(NC(=O)C(C)(C)C)nc3[nH]c4cccc(Cl)c4c23)cc1>)>,\n",
       " <ProteinLigandComplex with 2 components (<KLIFSKinase name=P00533>, <Ligand name=CCOc1ccc(C(=O)Nc2nccc(-c3cccnc3)n2)cc1NC(=O)/C=C/CN(C)C>)>,\n",
       " <ProteinLigandComplex with 2 components (<KLIFSKinase name=P00533>, <Ligand name=C[C@@H](Nc1ncnc2[nH]c(-c3ccc(F)cc3)cc12)c1ccc(F)cc1>)>,\n",
       " <ProteinLigandComplex with 2 components (<KLIFSKinase name=P00533>, <Ligand name=Clc1ccc(COC(c2cccs2)c2cc3ccccc3nc2Cl)cc1>)>,\n",
       " <ProteinLigandComplex with 2 components (<KLIFSKinase name=P00533>, <Ligand name=CNC(=O)c1c([Se][Se]c2[nH]c3ccccc3c2C(=O)NC)[nH]c2ccccc12>)>,\n",
       " <ProteinLigandComplex with 2 components (<KLIFSKinase name=P00533>, <Ligand name=C#Cc1cccc(Nc2ncnc3cc(OC4CCOCC4)c4c(c23)OCCO4)c1>)>,\n",
       " <ProteinLigandComplex with 2 components (<KLIFSKinase name=P00533>, <Ligand name=N#CC(C#N)=C(N)/C(C#N)=C/c1ccc(O)c([N+](=O)[O-])c1>)>,\n",
       " <ProteinLigandComplex with 2 components (<KLIFSKinase name=P00533>, <Ligand name=N#C/C(=C\\c1cc(O)c(O)c(CSCc2ccccc2)c1)C(N)=O>)>,\n",
       " <ProteinLigandComplex with 2 components (<KLIFSKinase name=P00533>, <Ligand name=COc1cc(Br)cc(-c2nn(C(C)C)c3ncnc(N)c23)c1>)>,\n",
       " <ProteinLigandComplex with 2 components (<KLIFSKinase name=P00533>, <Ligand name=Cc1cc(C)c(O)c(CN(Cc2ccc(O)cc2)C(=S)Nc2ccccc2)c1>)>,\n",
       " <ProteinLigandComplex with 2 components (<KLIFSKinase name=P00533>, <Ligand name=NS(=O)(=O)c1ccc(Nc2nc3ncnc(Nc4ccc(N5CCOCC5)c(Cl)c4)c3s2)cc1>)>,\n",
       " <ProteinLigandComplex with 2 components (<KLIFSKinase name=P00533>, <Ligand name=C=C(CN(C)C)C(=O)c1ccc(OS(=O)(=O)c2ccc(C(=O)O)c(O)c2)cc1>)>,\n",
       " <ProteinLigandComplex with 2 components (<KLIFSKinase name=P00533>, <Ligand name=C=CC(=O)Nc1cccc(-n2c(=O)c(=O)n(C(C)C)c3cnc(Nc4ccc(N5CCN(C)CC5)c(C)c4)nc32)c1>)>,\n",
       " <ProteinLigandComplex with 2 components (<KLIFSKinase name=P00533>, <Ligand name=CC(=O)N1N=C(c2ccc(Br)cc2)CC1c1ccc(C(=O)OCCn2c([N+](=O)[O-])cnc2C)cc1>)>,\n",
       " <ProteinLigandComplex with 2 components (<KLIFSKinase name=P00533>, <Ligand name=Nc1nc(Nc2cccc(Br)c2)c2cc(Cc3ccc(Cl)cc3Cl)[nH]c2n1>)>,\n",
       " <ProteinLigandComplex with 2 components (<KLIFSKinase name=P00533>, <Ligand name=O=C(Nc1ccc2nccc(Nc3cccc(Cl)c3)c2c1)C1CCC2(CC1)OCC1(OO2)C2CC3CC(C2)CC1C3>)>,\n",
       " <ProteinLigandComplex with 2 components (<KLIFSKinase name=P00533>, <Ligand name=C=CC(=O)Nc1cccc(Nc2nc(Nc3ccc(OCCCn4cnnn4)cc3)ncc2[N+](=O)[O-])c1>)>,\n",
       " <ProteinLigandComplex with 2 components (<KLIFSKinase name=P00533>, <Ligand name=Cc1ncnc(Nc2ccc(OCc3cccc(F)c3)c(Cl)c2)c1C#Cc1ccc(CN2CCCC2)cc1>)>,\n",
       " <ProteinLigandComplex with 2 components (<KLIFSKinase name=P00533>, <Ligand name=CCCCCCCCCCCCCCNC(=O)c1cc(NCc2cc(O)ccc2O)ccc1O>)>,\n",
       " <ProteinLigandComplex with 2 components (<KLIFSKinase name=P00533>, <Ligand name=CCC(=O)NCCSc1nc(-c2ccc(F)cc2)c(-c2ccnc(Nc3ccccc3)c2)[nH]1>)>,\n",
       " <ProteinLigandComplex with 2 components (<KLIFSKinase name=P00533>, <Ligand name=CC(C)n1nc(-c2ccc3cnccc3c2)c2c(N)ncnc21>)>,\n",
       " <ProteinLigandComplex with 2 components (<KLIFSKinase name=P00533>, <Ligand name=COc1cc2c(Nc3ccc(NC(=O)c4ccccc4)cc3)ncnc2cc1OCCCN1CCOCC1>)>,\n",
       " <ProteinLigandComplex with 2 components (<KLIFSKinase name=P00533>, <Ligand name=C=CC(=O)Nc1cc2c(Nc3ccc(F)c(C#N)c3)ncnc2cc1O[C@H]1CCOC1>)>,\n",
       " <ProteinLigandComplex with 2 components (<KLIFSKinase name=P00533>, <Ligand name=CN(C)C/C=C/C(=O)Nc1ccc2c(C#N)cnc(Nc3cccc(Br)c3)c2c1>)>,\n",
       " <ProteinLigandComplex with 2 components (<KLIFSKinase name=P00533>, <Ligand name=CCC(=O)N1CC[C@H](N2C(=O)N(c3cc(OC)ccc3F)Cc3cnc(Nc4ccc(N5CCCCC5)c(C)c4)nc32)C1>)>,\n",
       " <ProteinLigandComplex with 2 components (<KLIFSKinase name=P00533>, <Ligand name=CO[C@H]1[C@@H](N(C)C(=O)c2cccc(Cl)c2)C[C@@H]2O[C@@]1(C)n1c3ccccc3c3c4c(c5c6ccccc6n2c5c31)C(=O)NC4>)>,\n",
       " <ProteinLigandComplex with 2 components (<KLIFSKinase name=P00533>, <Ligand name=COc1cc(O)c2c(=O)n(-c3cccc(C(=O)N4CCCCC4)c3)ccc2c1>)>,\n",
       " <ProteinLigandComplex with 2 components (<KLIFSKinase name=P00533>, <Ligand name=CNC(=O)c1ccc(S(=O)(=O)Oc2ccc(/C=C/[N+](=O)[O-])cc2)cc1>)>,\n",
       " <ProteinLigandComplex with 2 components (<KLIFSKinase name=P00533>, <Ligand name=CCCN(CC#CC(=O)Nc1ccc2ncc(C#N)c(Nc3cccc(Br)c3)c2c1)CCC>)>,\n",
       " <ProteinLigandComplex with 2 components (<KLIFSKinase name=P00533>, <Ligand name=NC(=S)N1N=C(c2ccc(Br)c(Br)c2)CC1c1ccc([N+](=O)[O-])cc1>)>,\n",
       " <ProteinLigandComplex with 2 components (<KLIFSKinase name=P00533>, <Ligand name=Cc1ccc(C2=NN(c3nc(-c4ccc(Cl)cc4)cs3)C(c3ccc(Br)cc3)C2)cc1C>)>,\n",
       " <ProteinLigandComplex with 2 components (<KLIFSKinase name=P00533>, <Ligand name=COc1c(Br)cc(/C=C2\\C(=O)Nc3ccccc32)cc1C(C)(C)C>)>,\n",
       " <ProteinLigandComplex with 2 components (<KLIFSKinase name=P00533>, <Ligand name=CC(C)Oc1cccc(Nc2ncnc3cc4oc(=O)n(CCCN5CCOCC5)c4cc23)c1>)>,\n",
       " <ProteinLigandComplex with 2 components (<KLIFSKinase name=P00533>, <Ligand name=Cc1ccc(S(=O)(=O)O)cc1.Fc1cccc(COc2ccc(Nc3ncnc4ccc(-c5ccc(CN6CCOCC6)o5)cc34)cc2Cl)c1>)>,\n",
       " <ProteinLigandComplex with 2 components (<KLIFSKinase name=P00533>, <Ligand name=COc1cc2ncc(C#N)c(Nc3cc(Cl)ccc3O)c2cc1OC>)>,\n",
       " <ProteinLigandComplex with 2 components (<KLIFSKinase name=P00533>, <Ligand name=COc1cc2ncnc(Nc3cccc(C#CCCO)c3)c2cc1OC>)>,\n",
       " <ProteinLigandComplex with 2 components (<KLIFSKinase name=P00533>, <Ligand name=Cc1[nH]c2ncnc(Nc3cccc(Br)c3)c2c1C>)>,\n",
       " <ProteinLigandComplex with 2 components (<KLIFSKinase name=P00533>, <Ligand name=Nc1ccc(-c2nn(C3CCCC3)c3ncnc(N)c23)cc1O>)>,\n",
       " <ProteinLigandComplex with 2 components (<KLIFSKinase name=P00533>, <Ligand name=Cc1ccn2ncnc(Nc3ccc4[nH]ncc4c3)c12>)>,\n",
       " <ProteinLigandComplex with 2 components (<KLIFSKinase name=P00533>, <Ligand name=O=C(Nc1ccc(Oc2ccnc3[nH]ccc23)c(F)c1)c1nnn(-c2ccc(F)cc2)c1C(F)(F)F>)>,\n",
       " <ProteinLigandComplex with 2 components (<KLIFSKinase name=P00533>, <Ligand name=S=C(Nc1ccc(Cl)cc1)Nc1ccc2ncnc(Nc3cccc(Br)c3)c2c1>)>,\n",
       " <ProteinLigandComplex with 2 components (<KLIFSKinase name=P00533>, <Ligand name=COc1cc2cc3ncc(C#N)c(Nc4ccc(F)c(Cl)c4)c3cc2cc1OC>)>,\n",
       " <ProteinLigandComplex with 2 components (<KLIFSKinase name=P00533>, <Ligand name=CCC(=O)N[C@H]1CC[C@@H](n2c(=O)c(-c3ccccc3Cl)c(C)c3cnc(Nc4ccc(N5CCN(C)CC5)c(C)c4)nc32)CC1>)>,\n",
       " <ProteinLigandComplex with 2 components (<KLIFSKinase name=P00533>, <Ligand name=COc1cc(Nc2ncnc3ccc(C(F)(F)F)cc23)cc(OC)c1OC>)>,\n",
       " <ProteinLigandComplex with 2 components (<KLIFSKinase name=P00533>, <Ligand name=C=CC(=O)Nc1cc(Nc2nccc(Nc3ccccc3S(=O)(=O)C(C)C)n2)c(OC)cc1N(C)CCN(C)C>)>,\n",
       " <ProteinLigandComplex with 2 components (<KLIFSKinase name=P00533>, <Ligand name=COc1cc2ncnc(Nc3ccc(F)c(Cl)c3)c2cc1NC(=O)CCCCCCC(=O)NO>)>,\n",
       " <ProteinLigandComplex with 2 components (<KLIFSKinase name=P00533>, <Ligand name=COc1ccc(NN=C(C#N)C#N)cc1>)>,\n",
       " <ProteinLigandComplex with 2 components (<KLIFSKinase name=P00533>, <Ligand name=O=[N+]([O-])c1cccc(Oc2cc(Nc3ccc(OCc4cccc(F)c4)c(Cl)c3)ncn2)c1>)>,\n",
       " <ProteinLigandComplex with 2 components (<KLIFSKinase name=P00533>, <Ligand name=C=CC(=O)NC1CCC(n2c(NC(=O)c3cccc(C(F)(F)F)c3)nc3cc(C)ccc32)C1>)>,\n",
       " <ProteinLigandComplex with 2 components (<KLIFSKinase name=P00533>, <Ligand name=C#Cc1cccc(Nc2ncnc3cc(OC)c(NC(=O)/C=C/CN(C)C4CC4)cc23)c1>)>,\n",
       " <ProteinLigandComplex with 2 components (<KLIFSKinase name=P00533>, <Ligand name=CN(C)c1ccc(CCCCCn2c3c(c4cc(OCCc5ccc(O)cc5)ccc42)CC(N)CC3)cc1.Cl.Cl>)>,\n",
       " <ProteinLigandComplex with 2 components (<KLIFSKinase name=P00533>, <Ligand name=CCOc1cc2ncnc(N[C@@H](C)c3ccccc3)c2cc1NC(=O)[C@@H]1COC(=O)N1>)>,\n",
       " <ProteinLigandComplex with 2 components (<KLIFSKinase name=P00533>, <Ligand name=Cl.Clc1cccc(Nc2ncnc3ccccc23)c1>)>,\n",
       " <ProteinLigandComplex with 2 components (<KLIFSKinase name=P00533>, <Ligand name=COc1cc(N2CCC(N3CCN(S(C)(=O)=O)CC3)CC2)ccc1Nc1nccc(-c2c(-c3cccc(C(=O)Nc4c(F)cccc4F)c3)nc3ccccn23)n1>)>,\n",
       " <ProteinLigandComplex with 2 components (<KLIFSKinase name=P00533>, <Ligand name=O=C(Nc1cccc(Oc2ccc(Nc3ncnc4ccn(CCOCCO)c34)cc2Cl)c1)NC1CCCCC1>)>,\n",
       " <ProteinLigandComplex with 2 components (<KLIFSKinase name=P00533>, <Ligand name=Cc1cccc(Nc2ncnc3cc4c(cc23)N(CCCN2CCCCC2)C(=O)CO4)c1>)>,\n",
       " <ProteinLigandComplex with 2 components (<KLIFSKinase name=P00533>, <Ligand name=O=C(/C=C/c1ccc(Br)cc1)Nc1ccc2ncnc(Nc3cccc(Cl)c3)c2c1>)>,\n",
       " <ProteinLigandComplex with 2 components (<KLIFSKinase name=P00533>, <Ligand name=COc1ccc(/C=C/C(=O)c2ccc(NC(=O)c3cc4cc5ccccc5nc4s3)cc2)cc1OC>)>,\n",
       " <ProteinLigandComplex with 2 components (<KLIFSKinase name=P00533>, <Ligand name=COc1cc2ncc(C#N)c(Nc3cccc(C(N)=O)c3)c2cc1OC>)>,\n",
       " <ProteinLigandComplex with 2 components (<KLIFSKinase name=P00533>, <Ligand name=S=C(NNc1nncc2ccccc12)Nc1ccccc1>)>,\n",
       " <ProteinLigandComplex with 2 components (<KLIFSKinase name=P00533>, <Ligand name=CC(=O)N1N=C(c2ccc(C)cc2)CC1c1ccc(C(=O)OCCn2c([N+](=O)[O-])cnc2C)cc1>)>,\n",
       " <ProteinLigandComplex with 2 components (<KLIFSKinase name=P00533>, <Ligand name=COc1ccc(C2=NN(c3nc(-c4ccc(Cl)cc4)cs3)C(c3ccc(Cl)cc3)C2)cc1>)>,\n",
       " <ProteinLigandComplex with 2 components (<KLIFSKinase name=P00533>, <Ligand name=CC(C)n1nc(-c2cccc3[nH]ccc23)c2c(N)ncnc21>)>,\n",
       " <ProteinLigandComplex with 2 components (<KLIFSKinase name=P00533>, <Ligand name=Cc1cc(Nc2ncc3c(n2)N([C@H]2CCN(C(=O)CN(C)C)C2)C(=O)N(c2ccccc2Cl)C3)ccc1N1CCN(C)CC1>)>,\n",
       " <ProteinLigandComplex with 2 components (<KLIFSKinase name=P00533>, <Ligand name=O=C(CCCCCCn1cc(-c2ccc3ncnc(Nc4ccc(F)c(Cl)c4)c3c2)nn1)NO>)>,\n",
       " <ProteinLigandComplex with 2 components (<KLIFSKinase name=P00533>, <Ligand name=CN1CCN([C@H]2CC[C@H](n3nc(-c4ccc(Nc5nc6cccc(Cl)c6o5)c(F)c4)c4c(N)ncnc43)CC2)CC1>)>,\n",
       " <ProteinLigandComplex with 2 components (<KLIFSKinase name=P00533>, <Ligand name=COc1cc(N(C)CCN(C)C)c(NC(=O)C=C(C)C)cc1Nc1nc2c(c(-c3cn(C)c4ccc(F)cc34)n1)CS(=O)(=O)CC2>)>,\n",
       " <ProteinLigandComplex with 2 components (<KLIFSKinase name=P00533>, <Ligand name=CCc1c(C(=O)NC(CO)Cc2ccccc2)[nH]c2ccc(C(F)(F)F)cc12>)>,\n",
       " <ProteinLigandComplex with 2 components (<KLIFSKinase name=P00533>, <Ligand name=CO/N=C/c1c(N)ncnc1Nc1ccc2[nH]c(Cc3cccc(F)c3)nc2c1>)>,\n",
       " <ProteinLigandComplex with 2 components (<KLIFSKinase name=P00533>, <Ligand name=NC(=S)N1N=C(c2ccc(F)cc2)CC1c1ccc2ccccc2c1>)>,\n",
       " <ProteinLigandComplex with 2 components (<KLIFSKinase name=P00533>, <Ligand name=Cc1cccc(Cl)c1NC(=O)c1cnc(NC(=O)C2CC2)s1>)>,\n",
       " <ProteinLigandComplex with 2 components (<KLIFSKinase name=P00533>, <Ligand name=CC(C)n1nc(-c2ccc3nc(NN)ccc3c2)c2c(N)ncnc21>)>,\n",
       " <ProteinLigandComplex with 2 components (<KLIFSKinase name=P00533>, <Ligand name=CCN1CCN(Cc2ccc(-c3cc4c(N[C@H](C)c5ccccc5)ncnc4[nH]3)cc2)CC1>)>,\n",
       " <ProteinLigandComplex with 2 components (<KLIFSKinase name=P00533>, <Ligand name=CCOc1cc2ncnc(Nc3cccc(-c4ccco4)c3)c2cc1OCC>)>,\n",
       " <ProteinLigandComplex with 2 components (<KLIFSKinase name=P00533>, <Ligand name=CC(=O)N1CC[C@H](Nc2nc(Nc3ccc(N4CCN(C)CC4)cc3)c3ncn(C(C)C)c3n2)C1>)>,\n",
       " <ProteinLigandComplex with 2 components (<KLIFSKinase name=P00533>, <Ligand name=O=C(CCl)Nc1ccc2ncnc(Nc3cccc(I)c3)c2c1>)>,\n",
       " <ProteinLigandComplex with 2 components (<KLIFSKinase name=P00533>, <Ligand name=Clc1ccc(Nc2cc(Nc3cccc(Cl)n3)ncn2)cc1>)>,\n",
       " <ProteinLigandComplex with 2 components (<KLIFSKinase name=P00533>, <Ligand name=CC1CCC(n2nc(-c3ccc(F)c(O)c3)c3c(N)ncnc32)C1>)>,\n",
       " <ProteinLigandComplex with 2 components (<KLIFSKinase name=P00533>, <Ligand name=CCCCCCCCCCCCCCCCCCCCNC(=O)COc1cc(O)c2c(=O)cc(-c3ccccc3)oc2c1>)>,\n",
       " <ProteinLigandComplex with 2 components (<KLIFSKinase name=P00533>, <Ligand name=COc1cc2ncnc(NC3CC3c3ccccc3)c2cc1OCCCN(C)C>)>,\n",
       " <ProteinLigandComplex with 2 components (<KLIFSKinase name=P00533>, <Ligand name=Fc1cccc(Cn2ncc3cc(Nc4ncnn5ccc(COC[C@H]6CNCCO6)c45)ccc32)c1>)>,\n",
       " <ProteinLigandComplex with 2 components (<KLIFSKinase name=P00533>, <Ligand name=CCOC(=O)CCCC(=O)Nc1cc(Nc2cccc(Cl)c2)ncn1>)>,\n",
       " <ProteinLigandComplex with 2 components (<KLIFSKinase name=P00533>, <Ligand name=CC(C)(O)CC(=O)NCCn1ccc2ncnc(Nc3ccc(Oc4cccc(C(F)(F)F)c4)c(Cl)c3)c21>)>,\n",
       " <ProteinLigandComplex with 2 components (<KLIFSKinase name=P00533>, <Ligand name=C=C(C)C(=O)Cc1ccc2ncnc(Nc3cccc(Br)c3)c2c1>)>,\n",
       " <ProteinLigandComplex with 2 components (<KLIFSKinase name=P00533>, <Ligand name=Cc1cc2cc(Nc3ccnc4cc(-c5ccc(CNCCO)cc5)sc34)ccc2[nH]1>)>,\n",
       " <ProteinLigandComplex with 2 components (<KLIFSKinase name=P00533>, <Ligand name=Nc1ncnc(Nc2ccc3c(cnn3Cc3cccc(F)c3)c2)c1/C=N/NCC(F)(F)F>)>,\n",
       " <ProteinLigandComplex with 2 components (<KLIFSKinase name=P00533>, <Ligand name=C=CC(=O)Nc1cccc(-c2c[nH]c3nccc(-c4[nH]c(CCCO)nc4C(F)(F)F)c23)c1>)>,\n",
       " <ProteinLigandComplex with 2 components (<KLIFSKinase name=P00533>, <Ligand name=N#Cc1cnc2ccc(-c3ccc(CN)cc3)cc2c1N[C@@H]1C[C@H]1c1ccccc1>)>,\n",
       " <ProteinLigandComplex with 2 components (<KLIFSKinase name=P00533>, <Ligand name=C=CC(=O)N1CCC[C@@H](N2C(=O)N(Cc3ccccc3)Cc3cnc(Nc4ccc(N5CCN(C)CC5)cc4OC)nc32)C1>)>,\n",
       " <ProteinLigandComplex with 2 components (<KLIFSKinase name=P00533>, <Ligand name=COc1cc2c(Nc3ccc(C#N)cc3)ncnc2cc1OCCCN1CCC(c2ccccc2)CC1>)>,\n",
       " <ProteinLigandComplex with 2 components (<KLIFSKinase name=P00533>, <Ligand name=COc1cc2ncnc(Nc3ccc(F)c(Cl)c3)c2cc1CN1CCC[C@@H]1C(N)=O>)>,\n",
       " <ProteinLigandComplex with 2 components (<KLIFSKinase name=P00533>, <Ligand name=Nc1ccccc1NC(=O)/C=C/c1ccc(-c2ccc3ncnc(Nc4ccc(OCc5cccc(F)c5)c(Cl)c4)c3c2)o1>)>,\n",
       " <ProteinLigandComplex with 2 components (<KLIFSKinase name=P00533>, <Ligand name=COc1ccc(C(/C=C/c2ccccc2Cl)=N\\NC(N)=S)cc1>)>,\n",
       " <ProteinLigandComplex with 2 components (<KLIFSKinase name=P00533>, <Ligand name=CNC(=O)c1c(SSc2[nH]c3ccccc3c2C(=O)NC)[nH]c2ccccc12>)>,\n",
       " <ProteinLigandComplex with 2 components (<KLIFSKinase name=P00533>, <Ligand name=Cc1ncc([N+](=O)[O-])n1CCOC(=O)/C=C/c1ccccc1F>)>,\n",
       " <ProteinLigandComplex with 2 components (<KLIFSKinase name=P00533>, <Ligand name=N#CC(C#N)=C1CCc2c1ccc(O)c2O>)>,\n",
       " <ProteinLigandComplex with 2 components (<KLIFSKinase name=P00533>, <Ligand name=CN(/N=N/c1ccc2ncnc(Nc3cccc(Cl)c3)c2c1)C(=O)Oc1ccc([N+](=O)[O-])cc1>)>,\n",
       " <ProteinLigandComplex with 2 components (<KLIFSKinase name=P00533>, <Ligand name=C=CC(=O)Nc1ccc(Oc2nc(Nc3ccc(N4CCN(C)CC4)cc3OC)ncc2Cl)cc1>)>,\n",
       " <ProteinLigandComplex with 2 components (<KLIFSKinase name=P00533>, <Ligand name=C=CC(=O)Nc1cc(Nc2nccc(Nc3ccccc3-n3nccn3)n2)c(OC)cc1N1CCOCC1>)>,\n",
       " <ProteinLigandComplex with 2 components (<KLIFSKinase name=P00533>, <Ligand name=Oc1ccc(CNc2ccc3ncnc(Nc4cccc(Cl)c4)c3c2)cc1>)>,\n",
       " <ProteinLigandComplex with 2 components (<KLIFSKinase name=P00533>, <Ligand name=c1ccc(OCc2nnc(Cc3nc4ccccc4[nH]3)o2)cc1>)>,\n",
       " <ProteinLigandComplex with 2 components (<KLIFSKinase name=P00533>, <Ligand name=Nc1ncnc2c1c(-c1cccc(O)c1)cn2C1CCNC1>)>,\n",
       " <ProteinLigandComplex with 2 components (<KLIFSKinase name=P00533>, <Ligand name=Cc1ccn2ncnc(Nc3ccc4c(cnn4Cc4ccccn4)c3)c12>)>,\n",
       " <ProteinLigandComplex with 2 components (<KLIFSKinase name=P00533>, <Ligand name=c1ccc(Cn2ncc3cc(Nc4ncnn5ccc(COC[C@@H]6CNCCO6)c45)ccc32)nc1>)>,\n",
       " <ProteinLigandComplex with 2 components (<KLIFSKinase name=P00533>, <Ligand name=COc1cccc(-c2cn(C3CCN(CCO)CC3)c3ncnc(N)c23)c1>)>,\n",
       " <ProteinLigandComplex with 2 components (<KLIFSKinase name=P00533>, <Ligand name=CN(C)CCN(C)c1c(Br)cccc1Nc1ncnc2ccncc12>)>,\n",
       " <ProteinLigandComplex with 2 components (<KLIFSKinase name=P00533>, <Ligand name=OCCN(CCO)CCNc1cc2c(Nc3cccc(Br)c3)ncnc2cn1>)>,\n",
       " <ProteinLigandComplex with 2 components (<KLIFSKinase name=P00533>, <Ligand name=Nc1nn2c(=O)cc(-c3ccccc3)[nH]c2c1/N=N/c1ccc2c(c1)OCO2>)>,\n",
       " <ProteinLigandComplex with 2 components (<KLIFSKinase name=P00533>, <Ligand name=CCCOC(=O)Nc1ccc(Nc2ncnc3cc(OC)c(OC)cc23)cc1C.Cl>)>,\n",
       " <ProteinLigandComplex with 2 components (<KLIFSKinase name=P00533>, <Ligand name=CCc1c(C(N)=O)cn2ncnc(Nc3ccc4c(cnn4Cc4ccccc4)c3)c12>)>,\n",
       " <ProteinLigandComplex with 2 components (<KLIFSKinase name=P00533>, <Ligand name=Nc1cccc2c(Nc3cccc(Br)c3)ncnc12>)>,\n",
       " <ProteinLigandComplex with 2 components (<KLIFSKinase name=P00533>, <Ligand name=Cc1ccc(N(C)C(=O)c2ccccc2)cc1Nc1nccc(-c2cccnc2)n1>)>,\n",
       " <ProteinLigandComplex with 2 components (<KLIFSKinase name=P00533>, <Ligand name=C=CC(=O)Nc1cc(Nc2nccc(-c3cn(C)c4cccnc34)n2)c(OC)cc1N(C)CCNC>)>,\n",
       " <ProteinLigandComplex with 2 components (<KLIFSKinase name=P00533>, <Ligand name=Nc1ncnc(Nc2ccc3c(cnn3Cc3cccc(F)c3)c2)c1/C=N/N1CCOCC1>)>,\n",
       " <ProteinLigandComplex with 2 components (<KLIFSKinase name=P00533>, <Ligand name=N#CC(C#N)=Cc1cc[nH]n1>)>,\n",
       " <ProteinLigandComplex with 2 components (<KLIFSKinase name=P00533>, <Ligand name=CCOC(=O)c1ccc(NC(=O)CSc2nnc(CNc3ccc(OC)cc3)n2-c2ccccc2)cc1>)>,\n",
       " <ProteinLigandComplex with 2 components (<KLIFSKinase name=P00533>, <Ligand name=C[C@@H](Nc1ncnc2sc(-c3ccc(F)c(C=O)c3)cc12)c1ccccc1>)>,\n",
       " <ProteinLigandComplex with 2 components (<KLIFSKinase name=P00533>, <Ligand name=OB(O)c1ccc2ncnc(Nc3cccc(Cl)c3)c2c1>)>,\n",
       " <ProteinLigandComplex with 2 components (<KLIFSKinase name=P00533>, <Ligand name=CC(C)N(CC#CC(=O)Nc1cc2c(Nc3ccc(F)c(Cl)c3)ncnc2cn1)C(C)C>)>,\n",
       " <ProteinLigandComplex with 2 components (<KLIFSKinase name=P00533>, <Ligand name=COCC(=O)Nc1ccc2ncnc(Nc3cc(Cl)c(Cl)cc3F)c2c1>)>,\n",
       " <ProteinLigandComplex with 2 components (<KLIFSKinase name=P00533>, <Ligand name=Brc1cccc(Nc2ncnc3sc4c(c23)CCCC4)c1>)>,\n",
       " <ProteinLigandComplex with 2 components (<KLIFSKinase name=P00533>, <Ligand name=C=CC(=O)Nc1cc(Nc2ncnc(-c3cn(C)c4ccccc34)c2OC)c(OC)cc1N(C)CCN(C)C>)>,\n",
       " <ProteinLigandComplex with 2 components (<KLIFSKinase name=P00533>, <Ligand name=COCC(C)Oc1cc2ncnc(Nc3ccc(F)c(Cl)c3)c2c2c1OCCO2>)>,\n",
       " <ProteinLigandComplex with 2 components (<KLIFSKinase name=P00533>, <Ligand name=COc1cccc2ncnc(Nc3ccc(OCc4ccccn4)c(Cl)c3)c12>)>,\n",
       " <ProteinLigandComplex with 2 components (<KLIFSKinase name=P00533>, <Ligand name=COC[C@@H](Nc1ncnc2oc(-c3ccccc3)cc12)c1ccccc1>)>,\n",
       " <ProteinLigandComplex with 2 components (<KLIFSKinase name=P00533>, <Ligand name=O=C(Cc1ccc(Br)cc1)NS(=O)(=O)c1ccccc1>)>,\n",
       " <ProteinLigandComplex with 2 components (<KLIFSKinase name=P00533>, <Ligand name=COc1ncc(-c2nn(C(C)C)c3ncnc(N)c23)c(OC)n1>)>,\n",
       " <ProteinLigandComplex with 2 components (<KLIFSKinase name=P00533>, <Ligand name=O=C1COc2cc3ncnc(Nc4ccccc4)c3cc2N1CCCN1CCOCC1>)>,\n",
       " <ProteinLigandComplex with 2 components (<KLIFSKinase name=P00533>, <Ligand name=COc1cc2c(Nc3ccc(NC(=O)[C@@H](c4ccccc4)N4Cc5ccccc5C4=O)cc3F)ncnc2cc1OCC1CCN(C)CC1>)>,\n",
       " <ProteinLigandComplex with 2 components (<KLIFSKinase name=P00533>, <Ligand name=C=CC(=O)Nc1cc2c(Nc3ccc(F)c(Cl)c3)ncnc2cc1OCc1cn(Cc2ccccc2F)nn1>)>,\n",
       " <ProteinLigandComplex with 2 components (<KLIFSKinase name=P00533>, <Ligand name=COc1ccc(C(=O)NCCN(C)C)cc1-c1cc2c(N[C@H](C)c3ccccc3)ncnc2s1>)>,\n",
       " <ProteinLigandComplex with 2 components (<KLIFSKinase name=P00533>, <Ligand name=Cc1cc(Oc2ccc(Nc3ncnc4cc(C#C[C@@H]5C[C@@H](OC(=O)N6CCOCC6)CN5)sc34)cc2Cl)no1>)>,\n",
       " <ProteinLigandComplex with 2 components (<KLIFSKinase name=P00533>, <Ligand name=Fc1ccc(COC(c2cccs2)c2cc3ccccc3nc2Cl)cc1>)>,\n",
       " <ProteinLigandComplex with 2 components (<KLIFSKinase name=P00533>, <Ligand name=CN(C(=O)N(CCCl)N=O)c1ccc2ncnc(Nc3cccc(Br)c3)c2c1>)>,\n",
       " <ProteinLigandComplex with 2 components (<KLIFSKinase name=P00533>, <Ligand name=CC1(C)OOC2(CCC(C(=O)Nc3ccc4ncnc(Nc5cccc(Cl)c5)c4c3)CC2)OO1>)>,\n",
       " <ProteinLigandComplex with 2 components (<KLIFSKinase name=P00533>, <Ligand name=C#Cc1cccc(Nc2ncnc3ccc(-c4ccc(CO)o4)cc23)c1>)>,\n",
       " <ProteinLigandComplex with 2 components (<KLIFSKinase name=P00533>, <Ligand name=COC[C@H]1Oc2cc3ncnc(Nc4cccc(Cl)c4)c3cc2O[C@@H]1COC>)>,\n",
       " <ProteinLigandComplex with 2 components (<KLIFSKinase name=P00533>, <Ligand name=CCOC(=O)N1CCN(CCC(=O)Nc2cccc(Oc3nc(Nc4ccc(N5CCN(C)CC5)cc4OC)ncc3Cl)c2)CC1>)>,\n",
       " <ProteinLigandComplex with 2 components (<KLIFSKinase name=P00533>, <Ligand name=CN(C)CCCOC(=O)/C=C/C(=O)Nc1ccc2ncnc(Nc3cccc(Br)c3)c2c1>)>,\n",
       " <ProteinLigandComplex with 2 components (<KLIFSKinase name=P00533>, <Ligand name=[O-][S+]1CCN(Cc2ccc(-c3cc4c(Nc5ccc(OCc6cccc(F)c6)cc5)ncnc4cn3)o2)CC1>)>,\n",
       " <ProteinLigandComplex with 2 components (<KLIFSKinase name=P00533>, <Ligand name=CCN(CC)C/C=C/C(=O)N1CCc2c(sc3ncnc(N[C@H](CO)c4ccccc4)c23)C1>)>,\n",
       " <ProteinLigandComplex with 2 components (<KLIFSKinase name=P00533>, <Ligand name=COc1ccc(Nc2ncc3cc(-c4c(Cl)cccc4Cl)c(=O)n(C)c3n2)cn1>)>,\n",
       " <ProteinLigandComplex with 2 components (<KLIFSKinase name=P00533>, <Ligand name=CCN(C/C=C/C(=O)Nc1cccc(-c2c(-c3ccccc3)oc3ncnc(N[C@H](CO)c4ccccc4)c23)c1)CCO>)>,\n",
       " <ProteinLigandComplex with 2 components (<KLIFSKinase name=P00533>, <Ligand name=NP(=O)(OCCCOc1ccc2ncnc(Nc3cccc(Br)c3)c2c1)N(CCCl)CCCl>)>,\n",
       " <ProteinLigandComplex with 2 components (<KLIFSKinase name=P00533>, <Ligand name=O=C(c1ccccc1)c1cccc(NC(=O)c2cc3ccccc3[nH]2)c1>)>,\n",
       " <ProteinLigandComplex with 2 components (<KLIFSKinase name=P00533>, <Ligand name=COc1cc2c(Nc3ccc(Cl)cc3F)ncnc2cc1OC[C@@H]1CCCN(C)C1>)>,\n",
       " <ProteinLigandComplex with 2 components (<KLIFSKinase name=P00533>, <Ligand name=C[C@@H](Nc1[nH]cnc2nc(-c3ccccc3)cc1-2)c1ccccc1>)>,\n",
       " <ProteinLigandComplex with 2 components (<KLIFSKinase name=P00533>, <Ligand name=Cc1cc(NS(=O)(=O)c2ccc(Nc3nncc4ccccc34)cc2)no1>)>,\n",
       " <ProteinLigandComplex with 2 components (<KLIFSKinase name=P00533>, <Ligand name=COc1cc(N2CCN(C)CC2)ccc1Nc1ncc(Cl)c(Oc2cccc(NC(=O)CCN3CCCC3)c2)n1>)>,\n",
       " <ProteinLigandComplex with 2 components (<KLIFSKinase name=P00533>, <Ligand name=COc1cc2c(NCc3ccccc3)ncnc2cc1O>)>,\n",
       " <ProteinLigandComplex with 2 components (<KLIFSKinase name=P00533>, <Ligand name=CCOC(=O)C1=C(N)N(c2cccnc2)C2=C(C(=O)CC(C)(C)C2)C1c1c(C)nn(-c2ccc(Cl)cc2)c1Cl>)>,\n",
       " <ProteinLigandComplex with 2 components (<KLIFSKinase name=P00533>, <Ligand name=N#CC(C#N)=C1CCc2cc(O)c(O)cc21>)>,\n",
       " <ProteinLigandComplex with 2 components (<KLIFSKinase name=P00533>, <Ligand name=CCOc1cc2ncc(C#N)c(Nc3cccc(Br)c3)c2cc1OC>)>,\n",
       " <ProteinLigandComplex with 2 components (<KLIFSKinase name=P00533>, <Ligand name=COc1cc(N2CCN(C)CC2)ccc1Nc1ncc(Cl)c(Oc2ccccc2NC(=O)COCc2ccccc2)n1>)>,\n",
       " <ProteinLigandComplex with 2 components (<KLIFSKinase name=P00533>, <Ligand name=Cc1ccccc1-c1cn(-c2ccccc2)c2ncnc(N)c12>)>,\n",
       " <ProteinLigandComplex with 2 components (<KLIFSKinase name=P00533>, <Ligand name=C=CC(=O)Nc1cc(F)cc(-n2c(=O)cc(C)c3cnc(Nc4ccc(N5CCN(C)CC5)cc4OC)nc32)c1>)>,\n",
       " <ProteinLigandComplex with 2 components (<KLIFSKinase name=P00533>, <Ligand name=Nc1nccc(-c2c(-c3ccc(F)cc3)ncn2C2CCCCC2)n1>)>,\n",
       " <ProteinLigandComplex with 2 components (<KLIFSKinase name=P00533>, <Ligand name=Cl.c1ccc(Nc2[nH]cnc3c4ccccc4nc2-3)cc1>)>,\n",
       " <ProteinLigandComplex with 2 components (<KLIFSKinase name=P00533>, <Ligand name=CCC(=O)N1CC[C@H](N2C(=O)N(c3cc(OC)ccc3F)Cc3cnc(Nc4ccc(N5CCN(C)CC5)c(Cl)c4)nc32)C1>)>,\n",
       " <ProteinLigandComplex with 2 components (<KLIFSKinase name=P00533>, <Ligand name=S=C(NCc1ccccc1)Nc1ccc2ncnc(Nc3cccc(Cl)c3)c2c1>)>,\n",
       " <ProteinLigandComplex with 2 components (<KLIFSKinase name=P00533>, <Ligand name=Brc1cccc(Nc2ncnc3cc(NCCCn4ccnc4)ncc23)c1>)>,\n",
       " <ProteinLigandComplex with 2 components (<KLIFSKinase name=P00533>, <Ligand name=C=CC(=O)Nc1cccc(Nc2nc(Nc3ccc(CN4CCOCC4)cc3)ncc2F)c1>)>,\n",
       " <ProteinLigandComplex with 2 components (<KLIFSKinase name=P00533>, <Ligand name=COc1cc2ncnc(Nc3ccc(OCc4cccc(F)c4)c(Cl)c3)c2cc1OCCCN1CCNCCNCC1>)>,\n",
       " <ProteinLigandComplex with 2 components (<KLIFSKinase name=P00533>, <Ligand name=Cc1ncnc(Nc2ccc(OCc3cccc(F)c3)c(Cl)c2)c1C#CCOc1ccc(CNC(C)C)cc1>)>,\n",
       " <ProteinLigandComplex with 2 components (<KLIFSKinase name=P00533>, <Ligand name=CC(=O)NCCNCc1ccc(-c2cc3nccc(Nc4ccc5[nH]ccc5c4)c3s2)cc1>)>,\n",
       " <ProteinLigandComplex with 2 components (<KLIFSKinase name=P00533>, <Ligand name=CCn1nc(-c2ccc(OC)c(O)c2)c2c(N)ncnc21>)>,\n",
       " <ProteinLigandComplex with 2 components (<KLIFSKinase name=P00533>, <Ligand name=Cc1ccc(C(=O)Nc2ccc(CN3CCN(C)CC3)c(C(F)(F)F)c2)cc1NC(=O)c1cnc(NC2CC2)nc1>)>,\n",
       " <ProteinLigandComplex with 2 components (<KLIFSKinase name=P00533>, <Ligand name=COc1cc2c(Nc3ccc(NC(=O)Nc4ccc(Cl)cc4)c(Cl)c3)ncnc2cc1OCCCN1CCN(C)CC1>)>,\n",
       " <ProteinLigandComplex with 2 components (<KLIFSKinase name=P00533>, <Ligand name=Cl.c1ccc(-c2cccc(Nc3ncnc4cc5c(cc34)OCCCO5)c2)cc1>)>,\n",
       " <ProteinLigandComplex with 2 components (<KLIFSKinase name=P00533>, <Ligand name=C=CC(=O)Nc1cccc(NC(=O)Nc2ccnc(Nc3ccc(N4CCN(C)CC4)cc3OC)n2)c1>)>,\n",
       " <ProteinLigandComplex with 2 components (<KLIFSKinase name=P00533>, <Ligand name=C=CC(=O)Nc1cc2c(Cc3ccc(F)c(Cl)c3)ncnc2cc1OCCOCCCCO>)>,\n",
       " <ProteinLigandComplex with 2 components (<KLIFSKinase name=P00533>, <Ligand name=CCOC(=O)C(=CNc1ccc2ncnc(Nc3ccc(OCc4cccc(F)c4)c(Cl)c3)c2c1)C(=O)OCC>)>,\n",
       " <ProteinLigandComplex with 2 components (<KLIFSKinase name=P00533>, <Ligand name=CN1CCN(Cc2ccc(C(=O)Nc3ccc(-c4cncc(C#N)c4Nc4ccc(OCc5cccc(F)c5)c(Cl)c4)cc3)cc2)CC1>)>,\n",
       " <ProteinLigandComplex with 2 components (<KLIFSKinase name=P00533>, <Ligand name=O=C(Nc1ccc(CN2CCCCC2)cc1)Nc1ccc2ncnc(Nc3cccc(C(F)(F)F)c3)c2c1>)>,\n",
       " <ProteinLigandComplex with 2 components (<KLIFSKinase name=P00533>, <Ligand name=C=CC(=O)N1CC[C@H](N2C(=O)N(c3ccccc3)Cc3cnc(Nc4ccc(CCN5CCN(C)CC5)cc4)nc32)C1>)>,\n",
       " <ProteinLigandComplex with 2 components (<KLIFSKinase name=P00533>, <Ligand name=C[C@H](COc1cccc2ncnc(Nc3ccc(OCc4ccccn4)c(Cl)c3)c12)N(C)C(=O)CO>)>,\n",
       " <ProteinLigandComplex with 2 components (<KLIFSKinase name=P00533>, <Ligand name=C=CC(=O)Nc1ccc2ncnc(Cc3ccc(F)c(Br)c3)c2c1>)>,\n",
       " <ProteinLigandComplex with 2 components (<KLIFSKinase name=P00533>, <Ligand name=Nc1ccc(C#Cc2cncnc2Nc2ccc(OCc3cccc(F)c3)c(Cl)c2)cc1>)>,\n",
       " <ProteinLigandComplex with 2 components (<KLIFSKinase name=P00533>, <Ligand name=COc1ccc(Nc2[nH]nc3ncnc(Nc4cccc(Cl)c4)c23)cc1>)>,\n",
       " <ProteinLigandComplex with 2 components (<KLIFSKinase name=P00533>, <Ligand name=CCCc1c(C(=O)OCC)cn2ncnc(Nc3ccc4c(cnn4Cc4ccccc4)c3)c12>)>,\n",
       " <ProteinLigandComplex with 2 components (<KLIFSKinase name=P00533>, <Ligand name=CN1CCC(c2c(O)cc(O)c3c2O/C(=C\\c2ccccc2Cl)C3=O)CC1>)>,\n",
       " <ProteinLigandComplex with 2 components (<KLIFSKinase name=P00533>, <Ligand name=C=CS(=O)(=O)Nc1cccc(-c2c(-c3ccccc3)oc3ncnc(N[C@H](CO)c4ccccc4)c23)c1>)>,\n",
       " <ProteinLigandComplex with 2 components (<KLIFSKinase name=P00533>, <Ligand name=CCCCOC(=O)Nc1ccc(Nc2ncnc3cc(OC)c(OC)cc23)cc1Cl>)>,\n",
       " <ProteinLigandComplex with 2 components (<KLIFSKinase name=P00533>, <Ligand name=CN(C)C/C=C/C(=O)Nc1cc2c(Nc3cccc(Br)c3)c(C#N)cnc2cn1>)>,\n",
       " <ProteinLigandComplex with 2 components (<KLIFSKinase name=P00533>, <Ligand name=NS(=O)(=O)c1ccc(Nc2nc3ncnc(Nc4c(F)cccc4F)c3s2)cc1>)>,\n",
       " <ProteinLigandComplex with 2 components (<KLIFSKinase name=P00533>, <Ligand name=O=C(Cc1cc(F)c(F)cc1F)Nc1cccc(Oc2cc(Nc3ccc(OCc4cccc(F)c4)c(Cl)c3)ncn2)c1>)>,\n",
       " <ProteinLigandComplex with 2 components (<KLIFSKinase name=P00533>, <Ligand name=CC(=O)N1N=C(c2ccc(Br)cc2)CC1c1ccc(C(=O)OC(C)Cn2c([N+](=O)[O-])cnc2C)cc1>)>,\n",
       " <ProteinLigandComplex with 2 components (<KLIFSKinase name=P00533>, <Ligand name=COc1cc(/C=C(\\C#N)C(N)=O)cc(CSCc2ccc(Cl)cc2)c1O>)>,\n",
       " <ProteinLigandComplex with 2 components (<KLIFSKinase name=P00533>, <Ligand name=NC(=O)c1cnc2ccc(C(=O)/C=C/c3ccc(Cl)cc3)cc2c1Nc1ccc(Br)cc1>)>,\n",
       " <ProteinLigandComplex with 2 components (<KLIFSKinase name=P00533>, <Ligand name=CNC(CS(C)(=O)=O)c1ccc(-c2ccc3ncnc(Nc4ccc(OCc5cccc(F)c5)c(Cl)c4)c3c2)o1>)>,\n",
       " <ProteinLigandComplex with 2 components (<KLIFSKinase name=P00533>, <Ligand name=NC(=O)Nc1ccc(C(=O)Nc2ccc3ncnc(Nc4ccc(F)c(Cl)c4)c3c2)cc1>)>,\n",
       " <ProteinLigandComplex with 2 components (<KLIFSKinase name=P00533>, <Ligand name=CC(O)C(/N=C1/C=C(O)/C(=N\\C(C(=O)O)C(C)O)C=C1O)C(=O)O>)>,\n",
       " <ProteinLigandComplex with 2 components (<KLIFSKinase name=P00533>, <Ligand name=C=CC(=O)Nc1cccc(NC(=O)Nc2ccnc(Nc3ccc(N4CCC(N5CCOCC5)CC4)cc3OC)n2)c1>)>,\n",
       " <ProteinLigandComplex with 2 components (<KLIFSKinase name=P00533>, <Ligand name=COc1ccc(C2=NN(C3=NC(=O)CS3)C(c3ccccc3)C2)cc1>)>,\n",
       " <ProteinLigandComplex with 2 components (<KLIFSKinase name=P00533>, <Ligand name=C=CC(=O)Nc1cc(Nc2ncc(Cl)c(-c3cnn4ccccc34)n2)c(OC)cc1N1CCN(C(=O)N2CCNCC2)CC1>)>,\n",
       " <ProteinLigandComplex with 2 components (<KLIFSKinase name=P00533>, <Ligand name=O=C(CCN1CCCCC1)Nc1ccc2ncnc(Nc3cccc(Br)c3)c2c1>)>,\n",
       " <ProteinLigandComplex with 2 components (<KLIFSKinase name=P00533>, <Ligand name=O=C(/C=C/CN1CCCC1)Nc1cc2c(Nc3ccc(Cc4ccccn4)cc3)ncnc2cn1>)>,\n",
       " <ProteinLigandComplex with 2 components (<KLIFSKinase name=P00533>, <Ligand name=CC(C)C(CO)Nc1nc(Nc2ccc(N3CCNCC3)cc2)c2ncn(C(C)C)c2n1>)>,\n",
       " <ProteinLigandComplex with 2 components (<KLIFSKinase name=P00533>, <Ligand name=COc1ccc(-c2cn(C3CCCC3)c3ncnc(N)c23)cc1>)>,\n",
       " <ProteinLigandComplex with 2 components (<KLIFSKinase name=P00533>, <Ligand name=CS(=O)(=O)CCNCc1ccc(-c2cc3c(Nc4ccc(OCc5cccc(F)c5)c(Cl)c4)ncnc3s2)o1>)>,\n",
       " <ProteinLigandComplex with 2 components (<KLIFSKinase name=P00533>, <Ligand name=CS(=O)(=O)CCNCc1nc(-c2ccc3ncnc(Nc4ccc(F)c(Cl)c4)c3c2)cs1>)>,\n",
       " <ProteinLigandComplex with 2 components (<KLIFSKinase name=P00533>, <Ligand name=CO/N=C/c1c(N)ncnc1Nc1ccc2c(c1)CCN2Cc1cccc(F)c1>)>,\n",
       " <ProteinLigandComplex with 2 components (<KLIFSKinase name=P00533>, <Ligand name=O=C(/C=C/CN1CCC(F)(F)C1)Nc1cc2c(Nc3ccc(F)c(Cl)c3)ncnc2s1>)>,\n",
       " <ProteinLigandComplex with 2 components (<KLIFSKinase name=P00533>, <Ligand name=Cl.NC1CCc2c(c3cc(OCCc4ccc(O)cc4)ccc3n2CCCCCc2ccccc2)C1>)>,\n",
       " <ProteinLigandComplex with 2 components (<KLIFSKinase name=P00533>, <Ligand name=C[C@@H](Nc1ncnc2sc(-c3ccc(C(=O)O)cc3)cc12)c1ccccc1>)>,\n",
       " <ProteinLigandComplex with 2 components (<KLIFSKinase name=P00533>, <Ligand name=C=CC(=O)Nc1cc(Nc2nccc(-c3cn(C)c4ccc(F)cc34)n2)c(OC)cc1N(C)CC[N+](C)(C)[O-]>)>,\n",
       " <ProteinLigandComplex with 2 components (<KLIFSKinase name=P00533>, <Ligand name=Nc1nc(Nc2cccc(Br)c2)c2ccn(Cc3ccc(Cl)cc3)c2n1>)>,\n",
       " <ProteinLigandComplex with 2 components (<KLIFSKinase name=P00533>, <Ligand name=C=CC(=O)Nc1cccc(-n2c(=O)cc(C)c3cnc(Nc4ccc(N5CCN(C)CC5)cc4OCC)nc32)c1>)>,\n",
       " <ProteinLigandComplex with 2 components (<KLIFSKinase name=P00533>, <Ligand name=COc1cc(C=O)ccc1-c1cc2c(NCc3ccccc3)ncnc2s1>)>,\n",
       " <ProteinLigandComplex with 2 components (<KLIFSKinase name=P00533>, <Ligand name=COc1cc(C=O)ccc1-c1cc2c(Nc3ccccc3)ncnc2s1>)>,\n",
       " <ProteinLigandComplex with 2 components (<KLIFSKinase name=P00533>, <Ligand name=O=C(NS(=O)(=O)c1ccc(F)cc1)c1cncc(Br)c1>)>,\n",
       " <ProteinLigandComplex with 2 components (<KLIFSKinase name=P00533>, <Ligand name=COc1cc2ncnc(Nc3ccc(F)c(Cl)c3)c2cc1OCCC(=O)NO>)>,\n",
       " <ProteinLigandComplex with 2 components (<KLIFSKinase name=P00533>, <Ligand name=c1csc(-c2cc3ncnc(Nc4ccc5[nH]ccc5c4)c3s2)c1>)>,\n",
       " <ProteinLigandComplex with 2 components (<KLIFSKinase name=P00533>, <Ligand name=Cc1cccc(Nc2ccnc(Nc3ccc(N4CCN(C)CC4)cc3)n2)c1>)>,\n",
       " <ProteinLigandComplex with 2 components (<KLIFSKinase name=P00533>, <Ligand name=COc1cc2ncnc(Nc3ccc(F)c(Cl)c3)c2cc1OCCNC(C)C>)>,\n",
       " <ProteinLigandComplex with 2 components (<KLIFSKinase name=P00533>, <Ligand name=NC1CCN(Cc2ccn3ncnc(Nc4ccc5c(cnn5Cc5ccccn5)c4)c23)CC1>)>,\n",
       " <ProteinLigandComplex with 2 components (<KLIFSKinase name=P00533>, <Ligand name=O=C(/C=C/c1ccccc1)Nc1cc2c(Nc3cccc(Br)c3)ncnc2cn1>)>,\n",
       " <ProteinLigandComplex with 2 components (<KLIFSKinase name=P00533>, <Ligand name=CCN(CC)[C@@](C)(C#Cc1ncnc2cc(OC)c(OC)cc12)CC1CCCCC1>)>,\n",
       " <ProteinLigandComplex with 2 components (<KLIFSKinase name=P00533>, <Ligand name=COc1cc(Nc2ncnc3cc(OC)c(OC)cc23)cc(OC)c1.Cl>)>,\n",
       " <ProteinLigandComplex with 2 components (<KLIFSKinase name=P00533>, <Ligand name=CCc1ccc(C(=O)/C=C\\C(=O)O[C@H](CC=C(C)C)C2=CC(=O)c3c(O)ccc(O)c3C2=O)cc1>)>,\n",
       " <ProteinLigandComplex with 2 components (<KLIFSKinase name=P00533>, <Ligand name=COC1(CO)CCN(c2nccc(Nc3cc4c(cn3)nc(C)n4C(C)C)n2)CC1>)>,\n",
       " <ProteinLigandComplex with 2 components (<KLIFSKinase name=P00533>, <Ligand name=COc1ccccc1Nc1cc[nH]c(=O)c1-c1nc2c(C(C)C)ccc(C)c2[nH]1>)>,\n",
       " <ProteinLigandComplex with 2 components (<KLIFSKinase name=P00533>, <Ligand name=C#Cc1cccc(Nc2ncnc3cc(OCCOC(=O)CC4=C(C)/C(=C\\c5ccc([S+](C)[O-])cc5)c5ccc(F)cc54)c(OCCOC)cc23)c1>)>,\n",
       " <ProteinLigandComplex with 2 components (<KLIFSKinase name=P00533>, <Ligand name=C=CC(=O)N1CC[C@@H](Nc2nc(Nc3cnn(C)c3)nc3[nH]cc(Cl)c23)C1>)>,\n",
       " <ProteinLigandComplex with 2 components (<KLIFSKinase name=P00533>, <Ligand name=Cc1ncnc(Nc2ccc(OCc3cccc(F)c3)c(Cl)c2)c1C#CCCCN1CCOCC1>)>,\n",
       " <ProteinLigandComplex with 2 components (<KLIFSKinase name=P00533>, <Ligand name=C#Cc1cccc(Nc2ncnc3ccc(NC(C)=O)cc23)c1>)>,\n",
       " <ProteinLigandComplex with 2 components (<KLIFSKinase name=P00533>, <Ligand name=C=C(CN1CCNCC1)C(=O)c1ccc(OCc2ccccc2)cc1.Cl>)>,\n",
       " <ProteinLigandComplex with 2 components (<KLIFSKinase name=P00533>, <Ligand name=CC(=O)Nc1ccc(-c2c(-c3ccccc3)oc3ncnc(N[C@H](CO)c4ccccc4)c23)cc1>)>,\n",
       " <ProteinLigandComplex with 2 components (<KLIFSKinase name=P00533>, <Ligand name=CN(C)/N=N/c1ccc2ncnc(Nc3cccc(Cl)c3)c2c1>)>,\n",
       " <ProteinLigandComplex with 2 components (<KLIFSKinase name=P00533>, <Ligand name=C=CC(=O)Nc1cc2c(Nc3cccc(Br)c3)ncnc2cc1SCCCN(CC)CC>)>,\n",
       " <ProteinLigandComplex with 2 components (<KLIFSKinase name=P00533>, <Ligand name=NS(=O)(=O)c1ccc(Nc2nc3ncnc(Nc4ccccc4)c3s2)cc1>)>,\n",
       " <ProteinLigandComplex with 2 components (<KLIFSKinase name=P00533>, <Ligand name=Cc1ccccc1Nc1nc2cc(F)c(N(C)C(=O)/C=C/CN(C)C)cc2n2cncc12>)>,\n",
       " <ProteinLigandComplex with 2 components (<KLIFSKinase name=P00533>, <Ligand name=Cc1ccc(NC(=O)c2ccc(N(CCCl)CCCl)cc2)cc1>)>,\n",
       " <ProteinLigandComplex with 2 components (<KLIFSKinase name=P00533>, <Ligand name=CCC(=O)N1CC[C@H](N2C(=O)N(c3cc(OC)ccc3F)Cc3cnc(Nc4ccc(N5CCOCC5)c(C)c4)nc32)C1>)>,\n",
       " <ProteinLigandComplex with 2 components (<KLIFSKinase name=P00533>, <Ligand name=Fc1ccc2c(c1)CNc1c(Nc3cccc(Br)c3)ncnc1O2>)>,\n",
       " <ProteinLigandComplex with 2 components (<KLIFSKinase name=P00533>, <Ligand name=COc1cc2c(Nc3ccc(NC(=O)c4ccccc4)cc3)ncnc2cc1OCCN1CCCCC1>)>,\n",
       " <ProteinLigandComplex with 2 components (<KLIFSKinase name=P00533>, <Ligand name=COc1cc2ncnc(Nc3ccc(F)c(Cl)c3)c2cc1OCCN1CC2(CSC2)C1>)>,\n",
       " <ProteinLigandComplex with 2 components (<KLIFSKinase name=P00533>, <Ligand name=CO[C@H]1[C@@H](N(C)C(=O)OC(C)(C)C)C[C@@H]2O[C@@]1(C)n1c3ccccc3c3c4c(c5c6ccccc6n2c5c31)C(=O)NC4>)>,\n",
       " <ProteinLigandComplex with 2 components (<KLIFSKinase name=P00533>, <Ligand name=CC1CCN(C/C=C/C(=O)N2CCOc3cc4ncnc(Nc5ccc(F)c(Cl)c5)c4cc32)CC1>)>,\n",
       " <ProteinLigandComplex with 2 components (<KLIFSKinase name=P00533>, <Ligand name=CN(CCO)c1cc2ncnc(Nc3cccc(Br)c3)c2cn1>)>,\n",
       " <ProteinLigandComplex with 2 components (<KLIFSKinase name=P00533>, <Ligand name=Nc1ncnc2occ(-c3ccc(NC(=O)Nc4cc(C(F)(F)F)ccc4F)cc3)c12>)>,\n",
       " <ProteinLigandComplex with 2 components (<KLIFSKinase name=P00533>, <Ligand name=C=CC(=O)N1CC[C@@H](Nc2nc(Nc3ccccc3)nc3cnc(Nc4ccc(N5CCN(C)CC5)cn4)cc23)C1>)>,\n",
       " <ProteinLigandComplex with 2 components (<KLIFSKinase name=P00533>, <Ligand name=Cc1cc(F)cc(Nc2cc(NC(=O)Nc3c(Cl)cccc3Cl)ncn2)c1>)>,\n",
       " <ProteinLigandComplex with 2 components (<KLIFSKinase name=P00533>, <Ligand name=O=C(Cc1ccc(Cl)cc1)NS(=O)(=O)c1ccccc1>)>,\n",
       " <ProteinLigandComplex with 2 components (<KLIFSKinase name=P00533>, <Ligand name=CS(=O)(=O)CCNCc1ccc(-c2ccc3ncnc(Nc4ccc(OCc5ccccc5)cc4)c3c2)o1>)>,\n",
       " <ProteinLigandComplex with 2 components (<KLIFSKinase name=P00533>, <Ligand name=CO[C@H]1[C@@H](N(C)C(C)=O)C[C@@H]2O[C@@]1(C)n1c3ccccc3c3c4c(c5c6ccccc6n2c5c31)C(=O)NC4>)>,\n",
       " <ProteinLigandComplex with 2 components (<KLIFSKinase name=P00533>, <Ligand name=Nc1nccc(C#Cc2cncnc2Nc2ccc(OCc3cccc(F)c3)c(Cl)c2)n1>)>,\n",
       " <ProteinLigandComplex with 2 components (<KLIFSKinase name=P00533>, <Ligand name=COc1cc2c(Oc3ccc(NS(=O)(=O)c4ccc(-c5cnn(C)c5)cc4)cc3F)ccnc2cc1OCCCN1CCN(C)CC1>)>,\n",
       " <ProteinLigandComplex with 2 components (<KLIFSKinase name=P00533>, <Ligand name=C=CC(=O)N1CC[C@H](N2C(=O)N(c3ccccc3Cl)Cc3cnc(Nc4ccc(N5CCN(C)CC5)c(C)c4)nc32)C1>)>,\n",
       " <ProteinLigandComplex with 2 components (<KLIFSKinase name=P00533>, <Ligand name=Fc1cccc(COc2ccc(Nc3ncnc4cc(-c5ccc[nH]5)sc34)cc2Cl)c1>)>,\n",
       " <ProteinLigandComplex with 2 components (<KLIFSKinase name=P00533>, <Ligand name=C=CC(=O)Nc1cc(Nc2nccc(NC(=O)c3ccc(OC)c(OC)c3)n2)c(OC)cc1N1CCN(C)CC1>)>,\n",
       " <ProteinLigandComplex with 2 components (<KLIFSKinase name=P00533>, <Ligand name=COc1cc2ncnc(NCc3cccc(C)c3)c2cc1OC>)>,\n",
       " <ProteinLigandComplex with 2 components (<KLIFSKinase name=P00533>, <Ligand name=COc1cc(Br)c(/C=C2\\CC(C)C/C(=C\\c3nc(C)c(C)nc3C)C2=O)cc1OC>)>,\n",
       " <ProteinLigandComplex with 2 components (<KLIFSKinase name=P00533>, <Ligand name=O=C1CSC(N/N=C/c2ccc(Br)cc2)=N1>)>,\n",
       " <ProteinLigandComplex with 2 components (<KLIFSKinase name=P00533>, <Ligand name=Nc1ncnc(Nc2ccc(OCc3ccccc3)c(Cl)c2)c1C(=O)Nc1ccccc1>)>,\n",
       " <ProteinLigandComplex with 2 components (<KLIFSKinase name=P00533>, <Ligand name=C=CC(=O)Nc1cccc(Nc2cc(Nc3cccc(Br)c3)ncn2)c1>)>,\n",
       " <ProteinLigandComplex with 2 components (<KLIFSKinase name=P00533>, <Ligand name=CC/C=C\\C(=O)Nc1cc(Nc2nc(C)cc(-c3cn(C)c4ccccc34)n2)c(OC)cc1N(C)CCN(C)C>)>,\n",
       " <ProteinLigandComplex with 2 components (<KLIFSKinase name=P00533>, <Ligand name=CCC(=O)Nc1cccc(Nc2cc(-c3[nH]c(SC)nc3-c3ccc(F)cc3)ccn2)c1>)>,\n",
       " <ProteinLigandComplex with 2 components (<KLIFSKinase name=P00533>, <Ligand name=COc1cc2ncc(C=O)c(Nc3cccc(Br)c3)c2cc1OC>)>,\n",
       " <ProteinLigandComplex with 2 components (<KLIFSKinase name=P00533>, <Ligand name=CCOCc1ccc2c(c1)nc(NC(=O)c1cccc(C(F)(F)F)c1)n2[C@H]1CC[C@H](O)CC1>)>,\n",
       " <ProteinLigandComplex with 2 components (<KLIFSKinase name=P00533>, <Ligand name=CCC(=O)N1CCC[C@@H](n2c(=O)c(-c3cc(F)ccc3Cl)c(C)c3cnc(Nc4ccc(N5CCN(C)CC5)c(C)c4)nc32)C1>)>,\n",
       " <ProteinLigandComplex with 2 components (<KLIFSKinase name=P00533>, <Ligand name=O=C(CCN1CCOCC1)Nc1ccc2ncnc(Nc3cccc(Br)c3)c2c1>)>,\n",
       " <ProteinLigandComplex with 2 components (<KLIFSKinase name=P00533>, <Ligand name=C=CC(=O)N(c1ccc(F)c(C)c1)c1ncnc2cc(OC)c(OCCCN3CCOCC3)cc12>)>,\n",
       " <ProteinLigandComplex with 2 components (<KLIFSKinase name=P00533>, <Ligand name=CCOC(=O)CCCn1c(=O)oc2cc3ncnc(Nc4ccc(OC)cc4)c3cc21>)>,\n",
       " <ProteinLigandComplex with 2 components (<KLIFSKinase name=P00533>, <Ligand name=Cc1cccc(/C=N/NC2=NC(=O)CS2)c1>)>,\n",
       " <ProteinLigandComplex with 2 components (<KLIFSKinase name=P00533>, <Ligand name=C#Cc1cccc(Nc2ncnc3cc4c(cc23)N(C(=O)/C=C/CN2CCCC2)CCO4)c1>)>,\n",
       " <ProteinLigandComplex with 2 components (<KLIFSKinase name=P00533>, <Ligand name=Cc1ccc(Nc2ncnn3ccc(CN4CCC(N)CC4)c23)cc1>)>,\n",
       " <ProteinLigandComplex with 2 components (<KLIFSKinase name=P00533>, <Ligand name=Nc1ncnc2c1c(-c1ccc(Br)c(O)c1)nn2C1CCCC1>)>,\n",
       " <ProteinLigandComplex with 2 components (<KLIFSKinase name=P00533>, <Ligand name=C=CC(=O)Nc1cc2c(Nc3ccc(F)c(Cl)c3)ncnc2cc1OCc1cn(Cc2cccc(F)c2)nn1>)>,\n",
       " <ProteinLigandComplex with 2 components (<KLIFSKinase name=P00533>, <Ligand name=C=CC(=O)N1CCC[C@@H](Oc2nc(Nc3ccc(N4CCN(C(C)=O)CC4)cc3)nc3[nH]cc(-c4cncc(NC)n4)c23)C1>)>,\n",
       " <ProteinLigandComplex with 2 components (<KLIFSKinase name=P00533>, <Ligand name=NP(=O)(OCCCCOc1ccc2ncnc(Nc3ccc(OCc4cccc(F)c4)c(Cl)c3)c2c1)N(CCCl)CCCl>)>,\n",
       " <ProteinLigandComplex with 2 components (<KLIFSKinase name=P00533>, <Ligand name=Oc1cccc(Nc2[nH]nc3ncnc(Nc4cccc(Cl)c4)c23)c1>)>,\n",
       " <ProteinLigandComplex with 2 components (<KLIFSKinase name=P00533>, <Ligand name=CC(=O)N1N=C(c2ccc(C)c(C)c2)CC1c1ccccc1>)>,\n",
       " <ProteinLigandComplex with 2 components (<KLIFSKinase name=P00533>, <Ligand name=CNC(=O)c1c([Se][Se]c2c(C(=O)NC)c3ccccc3n2C)n(C)c2ccccc12>)>,\n",
       " <ProteinLigandComplex with 2 components (<KLIFSKinase name=P00533>, <Ligand name=Nc1nc(N)c2c(Nc3cccc(Cl)c3)[nH]nc2n1>)>,\n",
       " <ProteinLigandComplex with 2 components (<KLIFSKinase name=P00533>, <Ligand name=CCC(=O)N1CC[C@H](N2C(=O)N(c3cccc(OC)c3Cl)Cc3cnc(Nc4ccc(N5CCN(C)CC5)c(C)c4)nc32)C1>)>,\n",
       " <ProteinLigandComplex with 2 components (<KLIFSKinase name=P00533>, <Ligand name=C#Cc1cccc(Nc2ncnn3ccc(CN4CCC(N)CC4)c23)c1>)>,\n",
       " <ProteinLigandComplex with 2 components (<KLIFSKinase name=P00533>, <Ligand name=O=C(Nc1cccc(Nc2cc(Nc3cccc(C(F)(F)F)c3)ncn2)c1)C1CC1>)>,\n",
       " <ProteinLigandComplex with 2 components (<KLIFSKinase name=P00533>, <Ligand name=O=C(Nc1cnn(-c2ccccc2)c1)c1cccc(NS(=O)(=O)c2ccccc2)c1>)>,\n",
       " <ProteinLigandComplex with 2 components (<KLIFSKinase name=P00533>, <Ligand name=O=C(Nc1cc2c(Nc3ccc(F)c(Cl)c3)ncnc2cc1O[C@H]1CCOC1)N1CCC(CCO)CC1>)>,\n",
       " <ProteinLigandComplex with 2 components (<KLIFSKinase name=P00533>, <Ligand name=OC[C@@H](Nc1ncnc2sc(-c3ccccc3)cc12)c1ccccc1>)>,\n",
       " <ProteinLigandComplex with 2 components (<KLIFSKinase name=P00533>, <Ligand name=N#Cc1cnc(Nc2cccc(Br)c2)c2cc(NC(=O)CCN3CCOCC3)ccc12>)>,\n",
       " <ProteinLigandComplex with 2 components (<KLIFSKinase name=P00533>, <Ligand name=O=[N+]([O-])/C=C/c1ccc(O)cc1>)>,\n",
       " <ProteinLigandComplex with 2 components (<KLIFSKinase name=P00533>, <Ligand name=CCCCOC(=O)Nc1ccc(Nc2ncnc3cc(OC)c(OC)cc23)cc1C.Cl>)>,\n",
       " <ProteinLigandComplex with 2 components (<KLIFSKinase name=P00533>, <Ligand name=N#C/C(=C/c1cc(Cc2ccccc2)c(O)c(Cc2ccccc2)c1)C(N)=O>)>,\n",
       " <ProteinLigandComplex with 2 components (<KLIFSKinase name=P00533>, <Ligand name=CN(C)C/C=C(\\F)C(=O)Nc1cc2c(Nc3ccc(F)c(Cl)c3)ncnc2cc1O[C@H]1CCOC1>)>,\n",
       " <ProteinLigandComplex with 2 components (<KLIFSKinase name=P00533>, <Ligand name=C/C(=N\\Nc1ncc(Cl)c(Nc2cccc(NC(=O)/C=C/CN(C)C)c2)n1)c1ccc(F)cc1F>)>,\n",
       " <ProteinLigandComplex with 2 components (<KLIFSKinase name=P00533>, <Ligand name=COc1cc(-c2nn(C(C)C)c3ncnc(N)c23)ccc1NC(C)CO>)>,\n",
       " <ProteinLigandComplex with 2 components (<KLIFSKinase name=P00533>, <Ligand name=O=C(NS(=O)(=O)c1ccc(Br)cc1)c1ccc(Cl)nc1>)>,\n",
       " <ProteinLigandComplex with 2 components (<KLIFSKinase name=P00533>, <Ligand name=NCCCCOCc1ccn2ncnc(Nc3ccc4c(cnn4Cc4cccc(F)c4)c3)c12>)>,\n",
       " <ProteinLigandComplex with 2 components (<KLIFSKinase name=P00533>, <Ligand name=CCC(=O)N1CC[C@H](N2C(=O)N(c3cc(OC)ccc3Cl)Cc3cnc(Nc4ccc(N5CCN(C6COC6)CC5)c(C)c4)nc32)C1>)>,\n",
       " <ProteinLigandComplex with 2 components (<KLIFSKinase name=P00533>, <Ligand name=c1nc(Nc2ccc3[nH]ccc3c2)c2sccc2n1>)>,\n",
       " <ProteinLigandComplex with 2 components (<KLIFSKinase name=P00533>, <Ligand name=C=CC(=O)Nc1cc(Nc2ncc(Cl)c(-c3cnn4ccccc34)n2)c(OC)cc1N1CCN(C(=O)[C@H](C)O)CC1>)>,\n",
       " <ProteinLigandComplex with 2 components (<KLIFSKinase name=P00533>, <Ligand name=CC(C)(CO)NCc1ccc(-c2cc3ncnc(Nc4ccc5[nH]ccc5c4)c3s2)cc1>)>,\n",
       " <ProteinLigandComplex with 2 components (<KLIFSKinase name=P00533>, <Ligand name=Nc1ccc2c(Nc3cccc(C(F)(F)F)c3)ncnc2c1>)>,\n",
       " <ProteinLigandComplex with 2 components (<KLIFSKinase name=P00533>, <Ligand name=COc1cc2c(Nc3c(F)cc(Cl)cc3F)ncnc2cc1OCC1CCNCC1>)>,\n",
       " <ProteinLigandComplex with 2 components (<KLIFSKinase name=P00533>, <Ligand name=C=CC(=O)N1CCC[C@@H](n2nc(-c3cccc(F)c3)c3c(N)ncnc32)C1>)>,\n",
       " <ProteinLigandComplex with 2 components (<KLIFSKinase name=P00533>, <Ligand name=Nc1ncnc2c1c(-c1cccc(O)c1)cn2C1CCC1>)>,\n",
       " <ProteinLigandComplex with 2 components (<KLIFSKinase name=P00533>, <Ligand name=C=CC(=O)Nc1cccc(NC(=O)Nc2nc(Nc3ccc(N4CCC(N5CCOCC5)CC4)cc3OC)ncc2Cl)c1>)>,\n",
       " <ProteinLigandComplex with 2 components (<KLIFSKinase name=P00533>, <Ligand name=COc1ccc(OC)c(Cc2cc3c(Nc4ccc(Cl)cc4F)nc(N)nc3[nH]2)c1>)>,\n",
       " <ProteinLigandComplex with 2 components (<KLIFSKinase name=P00533>, <Ligand name=CN(C)CCC(=O)c1ccc(OCc2ccccc2)c(O)c1.Cl>)>,\n",
       " <ProteinLigandComplex with 2 components (<KLIFSKinase name=P00533>, <Ligand name=COc1cc(-n2cc(CN3CCNCC3)nn2)ccc1Nc1ncc(Cl)c(Nc2ccccc2S(=O)(=O)C(C)C)n1>)>,\n",
       " <ProteinLigandComplex with 2 components (<KLIFSKinase name=P00533>, <Ligand name=C=CC(=O)Nc1cc(-n2c(=O)cc(C)c3cnc(Nc4ccc(N5CCN(C)CC5)cc4OC)nc32)cc(C(F)(F)F)c1>)>,\n",
       " <ProteinLigandComplex with 2 components (<KLIFSKinase name=P00533>, <Ligand name=CCOc1cc2ncnc(Nc3cccc(Cl)c3)c2cc1OCC.Cl>)>,\n",
       " <ProteinLigandComplex with 2 components (<KLIFSKinase name=P00533>, <Ligand name=CCN(CC)CCNC(=O)c1cc2cnnc(Nc3ccc(OCc4cccc(F)c4)c(Cl)c3)c2[nH]1>)>,\n",
       " <ProteinLigandComplex with 2 components (<KLIFSKinase name=P00533>, <Ligand name=C=CC(=O)Nc1cccc(Nc2nc(Nc3ccc(OCCN4CCOCC4)cc3)ncc2Cl)c1>)>,\n",
       " <ProteinLigandComplex with 2 components (<KLIFSKinase name=P00533>, <Ligand name=CNc1ncc2ncnc(Nc3cccc(C)c3)c2n1>)>,\n",
       " <ProteinLigandComplex with 2 components (<KLIFSKinase name=P00533>, <Ligand name=Cc1ncc([N+](=O)[O-])n1CC(=O)NS(=O)(=O)c1ccccc1>)>,\n",
       " <ProteinLigandComplex with 2 components (<KLIFSKinase name=P00533>, <Ligand name=Fc1cccc(COc2ccc(Nc3ncnc4sc(-c5ccco5)cc34)cc2Cl)c1>)>,\n",
       " <ProteinLigandComplex with 2 components (<KLIFSKinase name=P00533>, <Ligand name=CC(=O)N1N=C(c2ccc(Cl)c(Cl)c2)CC1c1ccccc1Cl>)>,\n",
       " <ProteinLigandComplex with 2 components (<KLIFSKinase name=P00533>, <Ligand name=CCOc1cc2ncnc(Nc3ccc(F)c(Cl)c3)c2cc1NC(=O)CO>)>,\n",
       " <ProteinLigandComplex with 2 components (<KLIFSKinase name=P00533>, <Ligand name=COc1cc(Br)c(/C=C2\\CC(C)CC(=C\\c3nc(C)c(C)nc3C)/C2=N/O)cc1OC>)>,\n",
       " <ProteinLigandComplex with 2 components (<KLIFSKinase name=P00533>, <Ligand name=Clc1ccc(Nc2ncc3c(n2)-c2ccc(Cl)cc2SC3)cc1>)>,\n",
       " <ProteinLigandComplex with 2 components (<KLIFSKinase name=P00533>, <Ligand name=OCCn1ccc2ncnc(Nc3ccc(Oc4cccc5sncc45)c(Cl)c3)c21>)>,\n",
       " <ProteinLigandComplex with 2 components (<KLIFSKinase name=P00533>, <Ligand name=Nc1ccc2c(c1)CNc1c(Nc3cccc(Br)c3)ncnc1O2>)>,\n",
       " <ProteinLigandComplex with 2 components (<KLIFSKinase name=P00533>, <Ligand name=CCOc1cc2ncc(C#N)c(Nc3cccc(Br)c3)c2cc1OCC>)>,\n",
       " <ProteinLigandComplex with 2 components (<KLIFSKinase name=P00533>, <Ligand name=COc1cc(-n2cc(CN3C[C@H](C)N[C@H](C)C3)nn2)ccc1Nc1ncc(Cl)c(Nc2ccccc2S(=O)(=O)C(C)C)n1>)>,\n",
       " <ProteinLigandComplex with 2 components (<KLIFSKinase name=P00533>, <Ligand name=CN(CC(O)CO)c1c(Br)cccc1Nc1ncnc2ccncc12>)>,\n",
       " <ProteinLigandComplex with 2 components (<KLIFSKinase name=P00533>, <Ligand name=Clc1cccc(Nc2[nH]nc3ncnc(Nc4cccc(Br)c4)c23)c1>)>,\n",
       " <ProteinLigandComplex with 2 components (<KLIFSKinase name=P00533>, <Ligand name=COc1cc2c(Nc3ccc(C)c(Br)c3)ncnc2cc1OCCOCCNC(=O)Cn1cnc([N+](=O)[O-])n1>)>,\n",
       " <ProteinLigandComplex with 2 components (<KLIFSKinase name=P00533>, <Ligand name=COc1cc2ncnc(Nc3cccc(Cl)c3F)c2cc1CN1CCC1C(N)=O>)>,\n",
       " <ProteinLigandComplex with 2 components (<KLIFSKinase name=P00533>, <Ligand name=CCOc1cc2nccc(Nc3cccc(Br)c3)c2cc1NC(=O)/C=C/CN1CCOCC1>)>,\n",
       " <ProteinLigandComplex with 2 components (<KLIFSKinase name=P00533>, <Ligand name=O=C(CCl)OCCn1c(=O)oc2cc3ncnc(Nc4ccc(Oc5cccc(C(F)(F)F)c5)c(Cl)c4)c3cc21>)>,\n",
       " <ProteinLigandComplex with 2 components (<KLIFSKinase name=P00533>, <Ligand name=C=CC(=O)Nc1cccc(Oc2nc(Nc3ccc(N4CCN(C(=O)CC)CC4)cc3OC)ncc2SC)c1>)>,\n",
       " <ProteinLigandComplex with 2 components (<KLIFSKinase name=P00533>, <Ligand name=Nc1ncnc(Nc2ccc(OCc3ccccc3)c(Cl)c2)c1C(=O)NNC(=O)CCN1CCOCC1>)>,\n",
       " <ProteinLigandComplex with 2 components (<KLIFSKinase name=P00533>, <Ligand name=COC(=O)c1ccc(OC)c(-c2cc3c(N[C@H](C)c4ccccc4)ncnc3s2)c1>)>,\n",
       " <ProteinLigandComplex with 2 components (<KLIFSKinase name=P00533>, <Ligand name=CO[C@H]1[C@@H](N(C)C(=O)c2cccc([N+](=O)[O-])c2)C[C@@H]2O[C@@]1(C)n1c3ccccc3c3c4c(c5c6ccccc6n2c5c31)C(=O)NC4>)>,\n",
       " <ProteinLigandComplex with 2 components (<KLIFSKinase name=P00533>, <Ligand name=CCCNCC#CC(=O)Nc1ccc2ncc(C#N)c(Nc3cccc(Br)c3)c2c1>)>,\n",
       " <ProteinLigandComplex with 2 components (<KLIFSKinase name=P00533>, <Ligand name=CS(=O)(=O)CCNCCCCOc1ccc2ncnc(Nc3ccc(F)c(Cl)c3)c2c1>)>,\n",
       " <ProteinLigandComplex with 2 components (<KLIFSKinase name=P00533>, <Ligand name=Clc1cccc(Nc2ncnc3nc(Nc4ccccc4)sc23)c1>)>,\n",
       " <ProteinLigandComplex with 2 components (<KLIFSKinase name=P00533>, <Ligand name=C[C@@H](Nc1ncnc2oc(-c3ccc(NCCN4CCCCC4)cc3)cc12)c1ccccc1>)>,\n",
       " <ProteinLigandComplex with 2 components (<KLIFSKinase name=P00533>, <Ligand name=CCOc1cc(O)c2c(=O)cc(-c3ccccc3)oc2c1>)>,\n",
       " <ProteinLigandComplex with 2 components (<KLIFSKinase name=P00533>, <Ligand name=Oc1ccc(C2CC(c3ccc(Br)cc3)=NN2c2nc(-c3ccc(Cl)cc3)cs2)cc1>)>,\n",
       " <ProteinLigandComplex with 2 components (<KLIFSKinase name=P00533>, <Ligand name=COc1ccccc1NC(=O)/C=C/c1ccccc1>)>,\n",
       " <ProteinLigandComplex with 2 components (<KLIFSKinase name=P00533>, <Ligand name=C=CC(=O)Nc1cccc(NC(=O)Nc2ccnc(Nc3ccc(C4CCN(C)CC4)cc3)n2)c1>)>,\n",
       " <ProteinLigandComplex with 2 components (<KLIFSKinase name=P00533>, <Ligand name=Cc1ccc(-n2cc(NC(=O)c3cccc(NS(=O)(=O)c4ccccc4)c3)cn2)cc1>)>,\n",
       " <ProteinLigandComplex with 2 components (<KLIFSKinase name=P00533>, <Ligand name=COc1cc2ncnc(Nc3ccc(F)c(Cl)c3)c2cc1OCCN1CCCCC1>)>,\n",
       " <ProteinLigandComplex with 2 components (<KLIFSKinase name=P00533>, <Ligand name=Cc1ncnc(Nc2ccc(OCc3cccc(F)c3)c(Cl)c2)c1/C=C/c1ccc(CNCCS(C)(=O)=O)o1>)>,\n",
       " <ProteinLigandComplex with 2 components (<KLIFSKinase name=P00533>, <Ligand name=N#Cc1cnc(Nc2cccc(Br)c2)c2cc(NC(=O)c3ccco3)ccc12>)>,\n",
       " <ProteinLigandComplex with 2 components (<KLIFSKinase name=P00533>, <Ligand name=O=C(/C=C/CN1CCCCC1)Nc1cc2c(Nc3ccc(F)c(Cl)c3)ncnc2s1>)>,\n",
       " <ProteinLigandComplex with 2 components (<KLIFSKinase name=P00533>, <Ligand name=COc1cc2c(Nc3ccc(-c4nc5ccccc5s4)cc3)ncnc2cc1OCCCN1CCN(C)CC1>)>,\n",
       " <ProteinLigandComplex with 2 components (<KLIFSKinase name=P00533>, <Ligand name=c1ccc(CNc2ncnc3oc(-c4ccccc4)cc23)cc1>)>,\n",
       " <ProteinLigandComplex with 2 components (<KLIFSKinase name=P00533>, <Ligand name=Cc1cc(=O)n2nc(SCc3cccc([N+](=O)[O-])c3)nc2[nH]1>)>,\n",
       " <ProteinLigandComplex with 2 components (<KLIFSKinase name=P00533>, <Ligand name=Fc1ccc(Nc2ncnc3cc4c(cc23)OCCOCCOCCO4)cc1Cl>)>,\n",
       " <ProteinLigandComplex with 2 components (<KLIFSKinase name=P00533>, <Ligand name=COc1cc(C2=C(c3c[nH]c4ccccc34)CNC2=O)cc(OC)c1OC>)>,\n",
       " <ProteinLigandComplex with 2 components (<KLIFSKinase name=P00533>, <Ligand name=CC[C@@H](Nc1ncnc2sc3c(c12)CCN(C(=O)/C=C/CN(C)C)C3)c1ccccc1>)>,\n",
       " <ProteinLigandComplex with 2 components (<KLIFSKinase name=P00533>, <Ligand name=Cn1nc(-c2ccc3ccccc3c2)c2c(N)ncnc21>)>,\n",
       " <ProteinLigandComplex with 2 components (<KLIFSKinase name=P00533>, <Ligand name=O=C1NC(=O)c2cc(Nc3ccc(O)cc3)c(Nc3ccc(O)cc3)cc21>)>,\n",
       " <ProteinLigandComplex with 2 components (<KLIFSKinase name=P00533>, <Ligand name=NC(=O)CN1CCC(n2cc(-c3cccc(O)c3)c3c(N)ncnc32)C1>)>,\n",
       " <ProteinLigandComplex with 2 components (<KLIFSKinase name=P00533>, <Ligand name=COc1ccc(CC(=O)NS(=O)(=O)c2ccc(F)cc2)cc1>)>,\n",
       " <ProteinLigandComplex with 2 components (<KLIFSKinase name=P00533>, <Ligand name=Brc1cccc(Nc2ncnc3c2NCc2ccccc2O3)c1>)>,\n",
       " <ProteinLigandComplex with 2 components (<KLIFSKinase name=P00533>, <Ligand name=COc1cc2c(Nc3ccc(-c4nc5ccc(Cl)cc5s4)cc3)ncnc2cc1OCCCN1CCN(C)CC1>)>,\n",
       " <ProteinLigandComplex with 2 components (<KLIFSKinase name=P00533>, <Ligand name=CN1CCC(O)(c2nc(-c3ccc(F)cc3)c(-c3ccncc3)o2)CC1>)>,\n",
       " <ProteinLigandComplex with 2 components (<KLIFSKinase name=P00533>, <Ligand name=C=CC(=O)Nc1cc(Nc2cc(-c3cn4c5c(cccc35)CCC4)nc(OC)n2)c(OC)cc1N(C)CCN(C)C>)>,\n",
       " <ProteinLigandComplex with 2 components (<KLIFSKinase name=P00533>, <Ligand name=C[C@@H](O)c1nc2cnc(Nc3ccnc(N4CC[C@H](O)[C@H](F)C4)n3)cc2n1[C@H](C)C(F)(F)F>)>,\n",
       " <ProteinLigandComplex with 2 components (<KLIFSKinase name=P00533>, <Ligand name=OC[C@@H](Nc1ncnc2oc(-c3ccccc3)c(-c3ccccc3)c12)c1ccccc1>)>,\n",
       " <ProteinLigandComplex with 2 components (<KLIFSKinase name=P00533>, <Ligand name=Fc1cccc(Cn2ncc3cc(Nc4ncnn5ccc(CNC6CCNCC6)c45)ccc32)c1>)>,\n",
       " <ProteinLigandComplex with 2 components (<KLIFSKinase name=P00533>, <Ligand name=Brc1cccc(Oc2ncnc3ccccc23)c1>)>,\n",
       " <ProteinLigandComplex with 2 components (<KLIFSKinase name=P00533>, <Ligand name=O=C(/C=C/c1ccccc1)Nc1cc(F)cc(F)c1>)>,\n",
       " <ProteinLigandComplex with 2 components (<KLIFSKinase name=P00533>, <Ligand name=Cc1cc(Nc2cc(N3CCN(C)CC3)nc(Oc3ccc(N)cc3)n2)n[nH]1>)>,\n",
       " <ProteinLigandComplex with 2 components (<KLIFSKinase name=P00533>, <Ligand name=C/N=N/Nc1ccc2ncnc(Nc3cccc(Br)c3)c2c1>)>,\n",
       " <ProteinLigandComplex with 2 components (<KLIFSKinase name=P00533>, <Ligand name=C[C@H](NC(=O)c1ccc(S(=O)(=O)Oc2ccc(/C=C/[N+](=O)[O-])cc2)cc1)C(=O)N[C@@H](C)C(=O)NCCN.Cl>)>,\n",
       " <ProteinLigandComplex with 2 components (<KLIFSKinase name=P00533>, <Ligand name=Cc1cc(N2CCOCC2)cc2[nH]c(-c3c(NC[C@@H](O)c4cccc(Cl)c4)cc[nH]c3=O)nc12>)>,\n",
       " <ProteinLigandComplex with 2 components (<KLIFSKinase name=P00533>, <Ligand name=CC(C)n1nc(-c2ccc3occc(=O)c3c2)c2c(N)ncnc21>)>,\n",
       " <ProteinLigandComplex with 2 components (<KLIFSKinase name=P00533>, <Ligand name=C=CC(=O)N1CC[C@H](N2C(=O)N(c3ccccc3)Cc3cnc(Nc4ccc(N5CCN(C)CC5)c(F)c4)nc32)C1>)>,\n",
       " <ProteinLigandComplex with 2 components (<KLIFSKinase name=P00533>, <Ligand name=CC(=O)OCOC(=O)N(C)/N=N/c1ccc2ncnc(Nc3cccc(Cl)c3)c2c1>)>,\n",
       " <ProteinLigandComplex with 2 components (<KLIFSKinase name=P00533>, <Ligand name=COc1ccc(C2=NN(C(N)=S)C(c3ccc4ccccc4c3)C2)cc1>)>,\n",
       " <ProteinLigandComplex with 2 components (<KLIFSKinase name=P00533>, <Ligand name=C=CC(=O)Nc1cc(Nc2ncc(Cl)c(Nc3ccccc3P(C)(C)=O)n2)c(OC)cc1N(C)CCN(C)C>)>,\n",
       " <ProteinLigandComplex with 2 components (<KLIFSKinase name=P00533>, <Ligand name=Cc1cccc(N2NC(=O)/C(=C/c3ccc(-c4ccccc4F)o3)C2=O)c1>)>,\n",
       " <ProteinLigandComplex with 2 components (<KLIFSKinase name=P00533>, <Ligand name=NC(=S)N/N=C(/C=C/c1ccccc1Br)c1ccccc1>)>,\n",
       " <ProteinLigandComplex with 2 components (<KLIFSKinase name=P00533>, <Ligand name=CS(=O)(=O)CCNc1nc(-c2ccc3ncnc(Nc4ccc(OCc5ccccc5)c(Cl)c4)c3c2)cs1>)>,\n",
       " <ProteinLigandComplex with 2 components (<KLIFSKinase name=P00533>, <Ligand name=CCOc1cc2ncnc(Nc3cccc(Br)c3)c2cc1OCC>)>,\n",
       " <ProteinLigandComplex with 2 components (<KLIFSKinase name=P00533>, <Ligand name=C=COC(=O)N(CCN(C)C)/N=N/c1ccc2ncnc(Nc3cccc(Cl)c3)c2c1>)>,\n",
       " <ProteinLigandComplex with 2 components (<KLIFSKinase name=P00533>, <Ligand name=NC(=S)N1N=C(c2ccc(Cl)c(Cl)c2)CC1c1cccc2ccccc12>)>,\n",
       " <ProteinLigandComplex with 2 components (<KLIFSKinase name=P00533>, <Ligand name=COc1cccc(-c2nn(C(C)C)c3ncnc(N)c23)c1OC>)>,\n",
       " <ProteinLigandComplex with 2 components (<KLIFSKinase name=P00533>, <Ligand name=COc1cc(OC)c2c(=O)n(-c3cccc(C(=O)N4CCCCC4)c3)ccc2c1>)>,\n",
       " <ProteinLigandComplex with 2 components (<KLIFSKinase name=P00533>, <Ligand name=O=C(/C=C/c1ccccc1)Nc1cccc(Oc2cc(Nc3ccc(OCc4cccc(F)c4)c(Cl)c3)ncn2)c1>)>,\n",
       " <ProteinLigandComplex with 2 components (<KLIFSKinase name=P00533>, <Ligand name=CS(=O)(=O)Nc1ccc2c(c1)CNc1c(Nc3cccc(Br)c3)ncnc1O2>)>,\n",
       " <ProteinLigandComplex with 2 components (<KLIFSKinase name=P00533>, <Ligand name=C=CC(=O)Nc1ccc(-n2c(=O)cnc3cnc(Nc4ccc(N5CCN(C)CC5)cc4OC)nc32)cc1>)>,\n",
       " <ProteinLigandComplex with 2 components (<KLIFSKinase name=P00533>, <Ligand name=O=S(=O)(O)CCNc1cc2ncnc(Nc3cccc(Br)c3)c2cn1>)>,\n",
       " <ProteinLigandComplex with 2 components (<KLIFSKinase name=P00533>, <Ligand name=Nc1nc2c(c(Nc3cccc(Br)c3)n1)-c1ccccc1C2>)>,\n",
       " <ProteinLigandComplex with 2 components (<KLIFSKinase name=P00533>, <Ligand name=Nc1nc(Nc2cccc(Br)c2)c2cc(Cc3ccc4ccccc4c3)[nH]c2n1>)>,\n",
       " <ProteinLigandComplex with 2 components (<KLIFSKinase name=P00533>, <Ligand name=O=C1Cc2cccc(Oc3ccc(Nc4ncnc5ccn(CCO)c45)cc3Cl)c2N1>)>,\n",
       " <ProteinLigandComplex with 2 components (<KLIFSKinase name=P00533>, <Ligand name=N#C/C(=C\\c1ccc(O)c(O)c1)C(=O)NCCCCCCCCCCNC(=O)/C(C#N)=C/c1ccc(O)c(O)c1>)>,\n",
       " <ProteinLigandComplex with 2 components (<KLIFSKinase name=P00533>, <Ligand name=COC(=O)CN1CCC(n2cc(-c3cccc(O)c3)c3c(N)ncnc32)C1>)>,\n",
       " <ProteinLigandComplex with 2 components (<KLIFSKinase name=P00533>, <Ligand name=CN(C)c1ccc(Nc2ncnc3ccncc23)c(N)c1>)>,\n",
       " <ProteinLigandComplex with 2 components (<KLIFSKinase name=P00533>, <Ligand name=COCCn1c(=O)oc2cc3ncnc(Nc4ccc(F)c(F)c4)c3cc21>)>,\n",
       " <ProteinLigandComplex with 2 components (<KLIFSKinase name=P00533>, <Ligand name=CN(C)c1cc2ncnc(Nc3cccc(Br)c3)c2cc1[N+](=O)[O-]>)>,\n",
       " <ProteinLigandComplex with 2 components (<KLIFSKinase name=P00533>, <Ligand name=Cc1nc2cnc(Nc3ccnc(N4CCC(S(C)(=O)=O)CC4)n3)cc2n1C(C)C>)>,\n",
       " <ProteinLigandComplex with 2 components (<KLIFSKinase name=P00533>, <Ligand name=O=C(/C=C/CN1CCOCC1)Nc1ccc2ncnc(Nc3cccc(Br)c3)c2c1>)>,\n",
       " <ProteinLigandComplex with 2 components (<KLIFSKinase name=P00533>, <Ligand name=CCC(=O)N1CC[C@H](N2C(=O)N(c3cc(OC)ccc3F)Cc3cnc(Nc4ccc(N5CCN(C(C)=O)CC5)c(C)c4)nc32)C1>)>,\n",
       " <ProteinLigandComplex with 2 components (<KLIFSKinase name=P00533>, <Ligand name=CN(CCCl)C(=O)Nc1ccc2ncnc(Nc3cccc(Cl)c3)c2c1>)>,\n",
       " <ProteinLigandComplex with 2 components (<KLIFSKinase name=P00533>, <Ligand name=C=CC(=O)N1CCC[C@@H](n2nc(-c3cccc(C(F)(F)F)c3)c3c(N)ncnc32)C1>)>,\n",
       " <ProteinLigandComplex with 2 components (<KLIFSKinase name=P00533>, <Ligand name=COCCNCCOc1cc2c(Nc3ccc(F)c(Cl)c3)ncnc2cc1OC>)>,\n",
       " <ProteinLigandComplex with 2 components (<KLIFSKinase name=P00533>, <Ligand name=C#Cc1cccc(Nc2ncnc3cc(OCCOC(=O)CC4=C(C)/C(=C/c5ccc([S+](C)[O-])cc5)c5ccc(F)cc54)c(OCCOC(=O)CC4=C(C)/C(=C/c5ccc([S+](C)[O-])cc5)c5ccc(F)cc54)cc23)c1>)>,\n",
       " <ProteinLigandComplex with 2 components (<KLIFSKinase name=P00533>, <Ligand name=Nc1ncnc2c1c(-c1ccc3occc(=O)c3c1)nn2C1CCCC1>)>,\n",
       " <ProteinLigandComplex with 2 components (<KLIFSKinase name=P00533>, <Ligand name=O=C1CSC(NN=C2CCCCCC2)=N1>)>,\n",
       " <ProteinLigandComplex with 2 components (<KLIFSKinase name=P00533>, <Ligand name=CSCCNCc1ccc(-c2ccc3ncnc(Nc4ccc(OCc5cccc(F)c5)c(Cl)c4)c3c2)o1.Cc1ccc(S(=O)(=O)O)cc1>)>,\n",
       " <ProteinLigandComplex with 2 components (<KLIFSKinase name=P00533>, <Ligand name=C#Cc1cccc(Nc2ncnc3cc(OCC4CCCO4)c4c(c23)OCCO4)c1>)>,\n",
       " <ProteinLigandComplex with 2 components (<KLIFSKinase name=P00533>, <Ligand name=OCCCNCc1ccc(-c2cc3nccc(Nc4ccc5[nH]ccc5c4)c3s2)cc1>)>,\n",
       " <ProteinLigandComplex with 2 components (<KLIFSKinase name=P00533>, <Ligand name=CN[C@H]1C[C@@H]2O[C@](C)([C@H]1OC)n1c3ccccc3c3c4c(c5c6ccccc6n2c5c31)C(=O)NC4=O>)>,\n",
       " <ProteinLigandComplex with 2 components (<KLIFSKinase name=P00533>, <Ligand name=COc1cc2ncnc(Nc3ccccc3)c2cc1OC.Cl>)>,\n",
       " <ProteinLigandComplex with 2 components (<KLIFSKinase name=P00533>, <Ligand name=O=C(C#CCN1CCOCC1)Nc1ccc2ncnc(Nc3ccc(F)c(Cl)c3)c2c1>)>,\n",
       " <ProteinLigandComplex with 2 components (<KLIFSKinase name=P00533>, <Ligand name=Cc1nc(N(C)c2ccc(OC(C)C)cc2)c2cc(C)oc2n1>)>,\n",
       " <ProteinLigandComplex with 2 components (<KLIFSKinase name=P00533>, <Ligand name=CCc1cc(Nc2nccc(-c3c(-c4cccc(C(=O)Nc5c(F)cccc5F)c4)nc4ccccn34)n2)c(OC)cc1N1CCC(N2CCN(S(C)(=O)=O)CC2)CC1>)>,\n",
       " <ProteinLigandComplex with 2 components (<KLIFSKinase name=P00533>, <Ligand name=CN(C)CCOc1ccc(/C=C/c2cc(-c3cc4c(=O)[nH]cnc4[nH]3)ccn2)cc1>)>,\n",
       " <ProteinLigandComplex with 2 components (<KLIFSKinase name=P00533>, <Ligand name=Cc1cc(C(=O)N2CCOCC2)[nH]c1/C=C1\\C(=O)Nc2ncnc(Nc3ccc4c(ccn4Cc4ccccc4)c3)c21>)>,\n",
       " <ProteinLigandComplex with 2 components (<KLIFSKinase name=P00533>, <Ligand name=CCN(CC)[C@@](C)(C#Cc1ncnc2cc(OC)c(OC)cc12)CCc1ccccc1>)>,\n",
       " <ProteinLigandComplex with 2 components (<KLIFSKinase name=P00533>, <Ligand name=COc1ccc(CNc2nc(N)nc3[nH]c4ccc(O)cc4c23)cc1OC>)>,\n",
       " <ProteinLigandComplex with 2 components (<KLIFSKinase name=P00533>, <Ligand name=C=CC(=O)Nc1cc(Nc2nccc(Nc3ccccc3-c3ccn(C)n3)n2)c(OC)cc1N1CCC(N(C)C)CC1>)>,\n",
       " <ProteinLigandComplex with 2 components (<KLIFSKinase name=P00533>, <Ligand name=CCNCc1cn2ncnc(Nc3ccc4c(cnn4Cc4ccccc4)c3)c2c1CC>)>,\n",
       " <ProteinLigandComplex with 2 components (<KLIFSKinase name=P00533>, <Ligand name=O=C1Cc2ccc(Oc3ccc(Nc4ncnc5ccn(CCO)c45)cc3Cl)cc2N1>)>,\n",
       " <ProteinLigandComplex with 2 components (<KLIFSKinase name=P00533>, <Ligand name=COc1ccc(-c2[nH]nc3ncnc(Nc4cccc(Cl)c4)c23)cc1>)>,\n",
       " <ProteinLigandComplex with 2 components (<KLIFSKinase name=P00533>, <Ligand name=CC1=C(C(=O)Nc2cccc([N+](=O)[O-])c2)C(c2ccc(O)cc2O)NC(NN2C(=O)/C(=C\\c3cccs3)SC2=S)=N1>)>,\n",
       " <ProteinLigandComplex with 2 components (<KLIFSKinase name=P00533>, <Ligand name=O=C(/C=C/CNCC1COC1)Nc1cc2c(Nc3ccc(F)c(Cl)c3)ncnc2s1>)>,\n",
       " <ProteinLigandComplex with 2 components (<KLIFSKinase name=P00533>, <Ligand name=CCCCOC(=O)Nc1ccc(Nc2ncnc3cc(OC)c(OC)cc23)cc1>)>,\n",
       " <ProteinLigandComplex with 2 components (<KLIFSKinase name=P00533>, <Ligand name=Cc1ncc([N+](=O)[O-])n1C/C(=N/NC(=O)c1ccc(N)cc1)c1ccc(Br)cc1>)>,\n",
       " <ProteinLigandComplex with 2 components (<KLIFSKinase name=P00533>, <Ligand name=CC(=O)OC(Cc1c(SSc2[nH]c3ccccc3c2CC(OC(C)=O)C(=O)NCc2ccccc2)[nH]c2ccccc12)C(=O)NCc1ccccc1>)>,\n",
       " <ProteinLigandComplex with 2 components (<KLIFSKinase name=P00533>, <Ligand name=COc1cc2c(Nc3ccc(Cl)cc3F)ncnc2cc1OCCN1CCOCC1>)>,\n",
       " <ProteinLigandComplex with 2 components (<KLIFSKinase name=P00533>, <Ligand name=CCN(CC)[C@@](C)(C#Cc1ncnc2cc(OC)c(OC)cc12)Cc1ccncc1>)>,\n",
       " <ProteinLigandComplex with 2 components (<KLIFSKinase name=P00533>, <Ligand name=O=C(Nc1ccc(Cl)cc1)Nc1ccc2ncnc(Nc3cccc(Br)c3)c2c1>)>,\n",
       " <ProteinLigandComplex with 2 components (<KLIFSKinase name=P00533>, <Ligand name=C=CC(=O)Nc1cc2c(Cc3cccc(Br)c3)ncnc2cc1OCCCn1ccnc1>)>,\n",
       " <ProteinLigandComplex with 2 components (<KLIFSKinase name=P00533>, <Ligand name=CC(C)n1nc(-c2ccc(C#N)c(O)c2)c2c(N)ncnc21>)>,\n",
       " <ProteinLigandComplex with 2 components (<KLIFSKinase name=P00533>, <Ligand name=N#C/C(=C\\c1cc(O)c(O)c(Br)c1)S(=O)(=O)/C(C#N)=C/c1cc(O)c(O)c(Br)c1>)>,\n",
       " <ProteinLigandComplex with 2 components (<KLIFSKinase name=P00533>, <Ligand name=Cc1cc2cc(Nc3ccnc4cc(-c5ccc(CNCCOCCO)cc5)sc34)ccc2[nH]1>)>,\n",
       " <ProteinLigandComplex with 2 components (<KLIFSKinase name=P00533>, <Ligand name=C=CC(=O)N1CCC(N2C(=O)N(Cc3ccccc3)Cc3cnc(Nc4ccc(N5CCN(C)CC5)cc4OC)nc32)CC1>)>,\n",
       " <ProteinLigandComplex with 2 components (<KLIFSKinase name=P00533>, <Ligand name=CCCC#CC(=O)Nc1cc2c(Nc3ccc(F)c(Cl)c3)ncnc2cn1>)>,\n",
       " <ProteinLigandComplex with 2 components (<KLIFSKinase name=P00533>, <Ligand name=Cc1cccc(Nc2ncnc3ccc(NC(=O)NCCCl)cc23)c1>)>,\n",
       " <ProteinLigandComplex with 2 components (<KLIFSKinase name=P00533>, <Ligand name=Cc1ccc2cc(-c3nn(C(C)C)c4ncnc(N)c34)ccc2n1>)>,\n",
       " <ProteinLigandComplex with 2 components (<KLIFSKinase name=P00533>, <Ligand name=CCC(=O)N1CC[C@H](N2C(=O)N(c3cc(OC)ccc3F)Cc3cnc(Nc4ccc(N5CC6(CCN(C)CC6)C5)c(C)c4)nc32)C1>)>,\n",
       " <ProteinLigandComplex with 2 components (<KLIFSKinase name=P00533>, <Ligand name=FC(F)(F)c1cccc(Nc2ncnc3[nH]c4c(c23)CCCC4)c1>)>,\n",
       " <ProteinLigandComplex with 2 components (<KLIFSKinase name=P00533>, <Ligand name=O=C(/C=C/c1cccs1)Nc1ccc2ncnc(Nc3cccc(Cl)c3)c2c1>)>,\n",
       " <ProteinLigandComplex with 2 components (<KLIFSKinase name=P00533>, <Ligand name=CN1CCC(c2c(O)cc(O)c3c(=O)cc(-c4ccccc4Cl)oc23)[C@@H](O)C1>)>,\n",
       " <ProteinLigandComplex with 2 components (<KLIFSKinase name=P00533>, <Ligand name=CCOC(=O)CNc1cccc(Oc2cc(Nc3ccc(OCc4cccc(F)c4)c(Cl)c3)ncn2)c1>)>,\n",
       " <ProteinLigandComplex with 2 components (<KLIFSKinase name=P00533>, <Ligand name=CC(C)n1nc(-c2cccc(C#N)c2)c2c(N)ncnc21>)>,\n",
       " <ProteinLigandComplex with 2 components (<KLIFSKinase name=P00533>, <Ligand name=COc1cc2ncnc(Nc3ccc(-c4nc5ccccc5s4)c(F)c3)c2cc1OCCCN1CCN(C)CC1>)>,\n",
       " <ProteinLigandComplex with 2 components (<KLIFSKinase name=P00533>, <Ligand name=COc1ccc(-c2cn(-c3ccccc3)c3ncnc(N)c23)cc1>)>,\n",
       " <ProteinLigandComplex with 2 components (<KLIFSKinase name=P00533>, <Ligand name=CC[N+](C)(C)[C@H]1C[C@@H]2O[C@](C)([C@H]1OC)n1c3ccccc3c3c4c(c5c6ccccc6n2c5c31)C(=O)NC4>)>,\n",
       " <ProteinLigandComplex with 2 components (<KLIFSKinase name=P00533>, <Ligand name=C=CC(=O)Nc1cc(Nc2n[nH]c3cc(-c4cncc5ccccc45)ccc23)c(OC)cc1N(C)CCN(C)C>)>,\n",
       " <ProteinLigandComplex with 2 components (<KLIFSKinase name=P00533>, <Ligand name=C=CC(=O)Nc1cccc(-n2c3nc(Nc4ccc(N5CCN(NC)CC5)cc4OC)ncc3c(=O)n3ccnc23)c1>)>,\n",
       " <ProteinLigandComplex with 2 components (<KLIFSKinase name=P00533>, <Ligand name=CC1(C)OCc2c(Nc3n[nH]c(Cl)c3Cl)nc(-c3cn[nH]c3)nc21>)>,\n",
       " <ProteinLigandComplex with 2 components (<KLIFSKinase name=P00533>, <Ligand name=CN1CCN(c2ccc(NC(=O)c3c(Nc4ccccc4Cl)cc[nH]c3=O)cc2)CC1>)>,\n",
       " <ProteinLigandComplex with 2 components (<KLIFSKinase name=P00533>, <Ligand name=C=COC(=O)N(C)/N=N/c1ccc2ncnc(Nc3cccc(Cl)c3)c2c1>)>,\n",
       " <ProteinLigandComplex with 2 components (<KLIFSKinase name=P00533>, <Ligand name=CN(C)CCOc1ccc(Nc2ncc3nc(Sc4ccc(F)cc4)n(C4CCOCC4)c3n2)cc1>)>,\n",
       " <ProteinLigandComplex with 2 components (<KLIFSKinase name=P00533>, <Ligand name=CCC(=O)N1CC[C@H](N2C(=O)N(c3ccc(F)cc3)Cc3cnc(Nc4ccc(N5CCN(C)CC5)c(C)c4)nc32)C1>)>,\n",
       " <ProteinLigandComplex with 2 components (<KLIFSKinase name=P00533>, <Ligand name=Nc1ncnc2c1c(-c1ccc(F)c(O)c1)nn2[C@@H]1CCNC1>)>,\n",
       " <ProteinLigandComplex with 2 components (<KLIFSKinase name=P00533>, <Ligand name=O=c1c(-c2cccc(Cl)c2)coc2cc(O)cc(O)c12>)>,\n",
       " <ProteinLigandComplex with 2 components (<KLIFSKinase name=P00533>, <Ligand name=C=CC(=O)N1CCC[C@@H](n2nc(C3CC3)c3c(N)ncnc32)C1>)>,\n",
       " <ProteinLigandComplex with 2 components (<KLIFSKinase name=P00533>, <Ligand name=COC(=O)Nc1ccc(Nc2ncnc3cc(OC)c(OC)cc23)cc1C.Cl>)>,\n",
       " <ProteinLigandComplex with 2 components (<KLIFSKinase name=P00533>, <Ligand name=Cc1ccc(C(=O)NS(=O)(=O)c2ccc(Br)cc2)c(Cl)n1>)>,\n",
       " <ProteinLigandComplex with 2 components (<KLIFSKinase name=P00533>, <Ligand name=Cc1ncnc(Nc2ccc(OCc3cccc(F)c3)c(Cl)c2)c1/C=C/c1ccc(CNCCS(C)(=O)=O)cc1>)>,\n",
       " <ProteinLigandComplex with 2 components (<KLIFSKinase name=P00533>, <Ligand name=C=CC(=O)N1CC[C@@H](N2C(=O)N(Cc3ccccc3)Cc3cnc(Nc4ccc(N5CCN(C)CC5)cc4OC)nc32)C1>)>,\n",
       " <ProteinLigandComplex with 2 components (<KLIFSKinase name=P00533>, <Ligand name=CNC(=O)COc1cccc(Nc2ncc(F)c(Nc3ccc4c(c3)NC(=O)C(F)(F)O4)n2)c1>)>,\n",
       " <ProteinLigandComplex with 2 components (<KLIFSKinase name=P00533>, <Ligand name=CCN1CCN(c2ccc(Nc3nccc(-c4c(-c5cccc(NC(=O)Cc6ccccc6)c5)nc5sccn45)n3)cc2)CC1>)>,\n",
       " <ProteinLigandComplex with 2 components (<KLIFSKinase name=P00533>, <Ligand name=Cn1nc(-c2ccc(Br)c(O)c2)c2c(N)ncnc21>)>,\n",
       " <ProteinLigandComplex with 2 components (<KLIFSKinase name=P00533>, <Ligand name=Cc1[nH]c(/C=C2\\C(=O)Nc3ccc(C(=O)NNc4ccccc4)cc32)c(C)c1CCC(=O)O>)>,\n",
       " <ProteinLigandComplex with 2 components (<KLIFSKinase name=P00533>, <Ligand name=COc1cc2ncnc(Nc3ccc(F)c(Cl)c3)c2cc1NC(=O)/C=C/CNC1CC1>)>,\n",
       " <ProteinLigandComplex with 2 components (<KLIFSKinase name=P00533>, <Ligand name=C=CC(=O)Nc1cccc(Oc2nc(Nc3n[nH]c4ccccc34)cc(N3CCN(C(C)=O)CC3)n2)c1>)>,\n",
       " <ProteinLigandComplex with 2 components (<KLIFSKinase name=P00533>, <Ligand name=Cc1ccc(Oc2ccc(Nc3ncnc4[nH]nc(OCCN5CCC(O)CC5)c34)cc2F)cn1>)>,\n",
       " <ProteinLigandComplex with 2 components (<KLIFSKinase name=P00533>, <Ligand name=C=CCn1nc(-c2ccc(OCC)c(OC)c2)c2c(N)ncnc21>)>,\n",
       " <ProteinLigandComplex with 2 components (<KLIFSKinase name=P00533>, <Ligand name=COCCOc1cc2ncnc(Nc3cc(OC)c(OC)c(OC)c3)c2cc1OCCOC>)>,\n",
       " <ProteinLigandComplex with 2 components (<KLIFSKinase name=P00533>, <Ligand name=Fc1ccc(Nc2ncnc3ccc(-c4cnn(C5CCNCC5)c4)cc23)cc1Cl>)>,\n",
       " <ProteinLigandComplex with 2 components (<KLIFSKinase name=P00533>, <Ligand name=CO[C@H]1[C@@H](N(C)C(=O)C(F)(F)F)C[C@@H]2O[C@@]1(C)n1c3ccccc3c3c4c(c5c6ccccc6n2c5c31)C(=O)NC4>)>,\n",
       " <ProteinLigandComplex with 2 components (<KLIFSKinase name=P00533>, <Ligand name=COc1cc2ncnc(Nc3ccc(F)c(Cl)c3)c2cc1OCCN1CCN(C)CC1>)>,\n",
       " <ProteinLigandComplex with 2 components (<KLIFSKinase name=P00533>, <Ligand name=OCCn1ccc2ncnc(Nc3ccc(Oc4cccc5[nH]ccc45)c(Cl)c3)c21>)>,\n",
       " <ProteinLigandComplex with 2 components (<KLIFSKinase name=P00533>, <Ligand name=Clc1ccc(Nc2nnc(Cc3ccncc3)c3ccccc23)cc1>)>,\n",
       " <ProteinLigandComplex with 2 components (<KLIFSKinase name=P00533>, <Ligand name=COc1cccc(-c2cc3c(N[C@H](C)c4ccccc4)ncnc3s2)c1OC>)>,\n",
       " <ProteinLigandComplex with 2 components (<KLIFSKinase name=P00533>, <Ligand name=Nc1nc(Nc2ccc(Cl)cc2F)c2cc(CCc3ccccc3)[nH]c2n1>)>,\n",
       " <ProteinLigandComplex with 2 components (<KLIFSKinase name=P00533>, <Ligand name=COc1cccc(-c2cn(C3CC(C(=O)NCCO)C3)c3ncnc(N)c23)c1>)>,\n",
       " <ProteinLigandComplex with 2 components (<KLIFSKinase name=P00533>, <Ligand name=CN(C)C/C=C/C(=O)Nc1ccc2ncnc(Nc3cccc(I)c3)c2c1>)>,\n",
       " <ProteinLigandComplex with 2 components (<KLIFSKinase name=P00533>, <Ligand name=CS(=O)(=O)O[C@H]1CN[C@H](C#Cc2cc3ncnc(Nc4ccc(OCc5cccc(F)c5)c(Cl)c4)c3s2)C1>)>,\n",
       " <ProteinLigandComplex with 2 components (<KLIFSKinase name=P00533>, <Ligand name=O=C(Nc1nccs1)[C@@H](c1cc(F)ccc1O)N1Cc2ccccc2C1=O>)>,\n",
       " <ProteinLigandComplex with 2 components (<KLIFSKinase name=P00533>, <Ligand name=CNc1cc2c(Nc3cccc(Br)c3)ncnc2cn1>)>,\n",
       " <ProteinLigandComplex with 2 components (<KLIFSKinase name=P00533>, <Ligand name=O=C1CSC(N/N=C/c2cccc(O)c2)=N1>)>,\n",
       " <ProteinLigandComplex with 2 components (<KLIFSKinase name=P00533>, <Ligand name=CN(C)C1CCN(c2ccc(Nc3cc4c(N5CCC(CO)CC5)nc(Nc5ccc(F)cc5)nc4cn3)nc2)CC1>)>,\n",
       " <ProteinLigandComplex with 2 components (<KLIFSKinase name=P00533>, <Ligand name=COc1cc(N2CCN(C)CC2)ccc1Nc1ncc(Cl)c(Oc2ccc(NC(=O)CO)cc2)n1>)>,\n",
       " <ProteinLigandComplex with 2 components (<KLIFSKinase name=P00533>, <Ligand name=CN1CCN(/N=C/c2c(N)ncnc2Nc2ccc3c(cnn3Cc3cccc(F)c3)c2)CC1>)>,\n",
       " <ProteinLigandComplex with 2 components (<KLIFSKinase name=P00533>, <Ligand name=COc1cc2ncnc(Nc3ccc(F)c(Cl)c3)c2cc1OCCN(CCO)CCO>)>,\n",
       " <ProteinLigandComplex with 2 components (<KLIFSKinase name=P00533>, <Ligand name=COc1ccccc1/C=C/C(=N/NC(N)=S)c1ccccc1>)>,\n",
       " <ProteinLigandComplex with 2 components (<KLIFSKinase name=P00533>, <Ligand name=O=C(Nc1nccs1)Nc1cc(-c2cccnc2)ccc1OC(F)(F)F>)>,\n",
       " <ProteinLigandComplex with 2 components (<KLIFSKinase name=P00533>, <Ligand name=O=C(CN1CCC(CCO)CC1)Nc1cc2c(Nc3ccc(F)c(Cl)c3)ncnc2s1>)>,\n",
       " <ProteinLigandComplex with 2 components (<KLIFSKinase name=P00533>, <Ligand name=Cn1ncc([N+](=O)[O-])c1C[N+](C)(C)C/C=C/C(=O)Nc1ccc2ncnc(Nc3cccc(Br)c3)c2c1.[Br-]>)>,\n",
       " <ProteinLigandComplex with 2 components (<KLIFSKinase name=P00533>, <Ligand name=NCCCSc1nc(-c2ccc(F)cc2)c(-c2ccnc(Nc3ccccc3)c2)[nH]1>)>,\n",
       " <ProteinLigandComplex with 2 components (<KLIFSKinase name=P00533>, <Ligand name=CCC(=O)Nc1cc2c(Nc3ccc(NS(=O)(=O)c4ccccc4)nc3)ncnc2cc1OC>)>,\n",
       " <ProteinLigandComplex with 2 components (<KLIFSKinase name=P00533>, <Ligand name=O=C(CCC1C(S)=Nc2ccccc21)NCc1ccccc1>)>,\n",
       " <ProteinLigandComplex with 2 components (<KLIFSKinase name=P00533>, <Ligand name=N#CC1=C(N)N(c2cccnc2)C2=C(C(=O)CCC2)C1c1cc2ccccc2n2nnnc12>)>,\n",
       " <ProteinLigandComplex with 2 components (<KLIFSKinase name=P00533>, <Ligand name=CCCCCCCNC(=O)COc1cc(O)c2c(=O)cc(-c3ccccc3)oc2c1>)>,\n",
       " <ProteinLigandComplex with 2 components (<KLIFSKinase name=P00533>, <Ligand name=Cc1[nH]c2ncnc(NCc3ccccc3)c2c1C>)>,\n",
       " <ProteinLigandComplex with 2 components (<KLIFSKinase name=P00533>, <Ligand name=O=C1CSC(N2N=C(c3ccc(Cl)cc3)CC2c2ccc(Cl)cc2)=N1>)>,\n",
       " <ProteinLigandComplex with 2 components (<KLIFSKinase name=P00533>, <Ligand name=Cc1ccc(C2=NN(C3=NC(c4ccccc4)CS3)C(c3cccc4ccccc34)C2)cc1C>)>,\n",
       " <ProteinLigandComplex with 2 components (<KLIFSKinase name=P00533>, <Ligand name=Oc1ccc(CN(Cc2cc(Br)cc(Br)c2O)C(=S)Nc2ccccc2)cc1>)>,\n",
       " <ProteinLigandComplex with 2 components (<KLIFSKinase name=P00533>, <Ligand name=COCCOc1cc2ncnc(Nc3cccc(NC(=O)C45CC6CC(CC(C6)C4)C5)c3)c2cc1OCCOC>)>,\n",
       " <ProteinLigandComplex with 2 components (<KLIFSKinase name=P00533>, <Ligand name=COc1cc2ncnc(Nc3ccc(F)c(Cl)c3)c2cc1OC[C@H](O)CN1CCOCC1>)>,\n",
       " <ProteinLigandComplex with 2 components (<KLIFSKinase name=P00533>, <Ligand name=Cn1c(=O)c(-c2c(Cl)cccc2Cl)cc2cnc(Nc3cccc(CO)c3)nc21>)>,\n",
       " <ProteinLigandComplex with 2 components (<KLIFSKinase name=P00533>, <Ligand name=CC1(C)OCc2c(Nc3nsc4ccccc34)nc(-c3cn[nH]c3)nc21>)>,\n",
       " <ProteinLigandComplex with 2 components (<KLIFSKinase name=P00533>, <Ligand name=COc1ccccc1CNc1nc(N)nc2[nH]c3cc(C)c(O)cc3c12>)>,\n",
       " <ProteinLigandComplex with 2 components (<KLIFSKinase name=P00533>, <Ligand name=COc1ccc2c(c1)Oc1ncnc(Nc3ccc(F)c(Cl)c3)c1NC2>)>,\n",
       " <ProteinLigandComplex with 2 components (<KLIFSKinase name=P00533>, <Ligand name=COc1cc(Br)c(Br)c(/C=N/c2ccc3[nH]c(=O)[nH]c3c2)c1O>)>,\n",
       " <ProteinLigandComplex with 2 components (<KLIFSKinase name=P00533>, <Ligand name=COc1ccc(Nc2ncc3c(n2)-c2ccc(Cl)cc2SC3)cc1>)>,\n",
       " <ProteinLigandComplex with 2 components (<KLIFSKinase name=P00533>, <Ligand name=CCOc1cc2ncnc(Nc3cccc(-c4nc[nH]n4)c3)c2cc1OCC>)>,\n",
       " <ProteinLigandComplex with 2 components (<KLIFSKinase name=P00533>, <Ligand name=COCCNC(=O)Nc1cc2c(Nc3ccc(F)c(Cl)c3)ncnc2cc1O[C@H]1CCOC1>)>,\n",
       " <ProteinLigandComplex with 2 components (<KLIFSKinase name=P00533>, <Ligand name=COc1cc(/C=C(\\C#N)C(N)=O)cc(SCCCC(=O)O)c1O>)>,\n",
       " <ProteinLigandComplex with 2 components (<KLIFSKinase name=P00533>, <Ligand name=COC1CCN(c2nccc(Nc3cc4c(ccc(=O)n4C(C)C)cn3)n2)CC1>)>,\n",
       " <ProteinLigandComplex with 2 components (<KLIFSKinase name=P00533>, <Ligand name=Cc1cccc(CN(Cc2ccc(F)cc2)C(=O)Nc2ccccc2)c1O>)>,\n",
       " <ProteinLigandComplex with 2 components (<KLIFSKinase name=P00533>, <Ligand name=CCCCCCOc1cc2c(Nc3ccc(F)c(Cl)c3)ncnc2cc1OC>)>,\n",
       " <ProteinLigandComplex with 2 components (<KLIFSKinase name=P00533>, <Ligand name=O=C(/C=C/c1cccc(-c2ccc3ncnc(Nc4ccc(OCc5cccc(F)c5)c(Cl)c4)c3c2)c1)NO>)>,\n",
       " <ProteinLigandComplex with 2 components (<KLIFSKinase name=P00533>, <Ligand name=COc1cccc(-c2cn(C3CCN(CC(=O)N(C)C)CC3)c3ncnc(N)c23)c1>)>,\n",
       " <ProteinLigandComplex with 2 components (<KLIFSKinase name=P00533>, <Ligand name=N#Cc1cnc2cc(OC[C@H](O)CO)c(NC(=O)C3CSSC3)cc2c1Nc1ccc(OCc2cccc(F)c2)c(Cl)c1>)>,\n",
       " <ProteinLigandComplex with 2 components (<KLIFSKinase name=P00533>, <Ligand name=C=CC(=O)Nc1cccc(-n2c(=O)cnc3cnc(Nc4ccc(N5CCN(C)CC5)cc4)nc32)c1>)>,\n",
       " <ProteinLigandComplex with 2 components (<KLIFSKinase name=P00533>, <Ligand name=CCOc1cc2ncnc(Nc3ccc(OCc4cccc(F)c4)c(Cl)c3)c2cc1NC(=O)[C@H]1COC(=O)N1>)>,\n",
       " <ProteinLigandComplex with 2 components (<KLIFSKinase name=P00533>, <Ligand name=COc1cc(C(=O)NCCN(C)C)ccc1-c1cc2c(N[C@H](C)c3ccccc3)ncnc2s1>)>,\n",
       " <ProteinLigandComplex with 2 components (<KLIFSKinase name=P00533>, <Ligand name=COc1ccc(N(CCCl)CCN/N=N/c2ccc3ncnc(Nc4cccc(Cl)c4)c3c2)cc1>)>,\n",
       " <ProteinLigandComplex with 2 components (<KLIFSKinase name=P00533>, <Ligand name=Cc1cc(Nc2ccc(OCc3cccc(F)c3)c(Cl)c2)ncn1>)>,\n",
       " <ProteinLigandComplex with 2 components (<KLIFSKinase name=P00533>, <Ligand name=C=CC(=O)Nc1nc2c(Cc3ccc(F)c(Cl)c3)ncnc2cc1OC>)>,\n",
       " <ProteinLigandComplex with 2 components (<KLIFSKinase name=P00533>, <Ligand name=CCS(=O)(=O)CC(=O)NCCn1ccc2ncnc(Nc3ccc(Oc4cccc(C(F)(F)F)c4)c(Cl)c3)c21>)>,\n",
       " <ProteinLigandComplex with 2 components (<KLIFSKinase name=P00533>, <Ligand name=COc1cc(F)ccc1-c1cc2c(N[C@H](C)c3ccccc3)ncnc2s1>)>,\n",
       " <ProteinLigandComplex with 2 components (<KLIFSKinase name=P00533>, <Ligand name=CNC(=O)[C@@H](C)N(C)Cc1cc2c(Nc3cccc(Cl)c3F)ncnc2cc1OC>)>,\n",
       " <ProteinLigandComplex with 2 components (<KLIFSKinase name=P00533>, <Ligand name=COC(=O)CN(C)[C@H]1C[C@@H]2O[C@](C)([C@H]1OC)n1c3ccccc3c3c4c(c5c6ccccc6n2c5c31)C(=O)NC4>)>,\n",
       " <ProteinLigandComplex with 2 components (<KLIFSKinase name=P00533>, <Ligand name=CC1(C)OCc2c(Nc3n[nH]c4c(Cl)cc(F)cc34)nc(-c3cn[nH]c3)nc21>)>,\n",
       " <ProteinLigandComplex with 2 components (<KLIFSKinase name=P00533>, <Ligand name=COCCN(CCOC)S(=O)(=O)c1ccc(Nc2nc3ncnc(Nc4ccc(F)c(Cl)c4)c3s2)cc1>)>,\n",
       " <ProteinLigandComplex with 2 components (<KLIFSKinase name=P00533>, <Ligand name=CN(C)C/C=C/C(=O)NCCSc1nc(-c2ccc(F)cc2)c(-c2ccnc(Nc3ccccc3)c2)[nH]1>)>,\n",
       " <ProteinLigandComplex with 2 components (<KLIFSKinase name=P00533>, <Ligand name=O=C(Nc1ccncc1)Nc1cc(-c2cccnc2)ccc1OC(F)(F)F>)>,\n",
       " <ProteinLigandComplex with 2 components (<KLIFSKinase name=P00533>, <Ligand name=Nc1ncnc2c1c(-c1ccc3cn[nH]c3c1)nn2C1CCCC1>)>,\n",
       " <ProteinLigandComplex with 2 components (<KLIFSKinase name=P00533>, <Ligand name=C=CC(=O)Nc1ccc2ncnc(Nc3ccc(S(=O)(=O)Nc4nccs4)cc3)c2c1>)>,\n",
       " <ProteinLigandComplex with 2 components (<KLIFSKinase name=P00533>, <Ligand name=CN(C)c1ccc(Nc2[nH]nc3ncnc(Nc4cccc(Cl)c4)c23)cc1>)>,\n",
       " <ProteinLigandComplex with 2 components (<KLIFSKinase name=P00533>, <Ligand name=O=C(N/N=C/c1cccs1)N1CCc2ncnc(Nc3ccc(F)c(Cl)c3)c2C1>)>,\n",
       " <ProteinLigandComplex with 2 components (<KLIFSKinase name=P00533>, <Ligand name=COc1ccc(Nc2cc(NC(=O)c3ccccc3)ncn2)cc1>)>,\n",
       " <ProteinLigandComplex with 2 components (<KLIFSKinase name=P00533>, <Ligand name=Fc1ccc(-c2nc(-c3ccccc3)[nH]c2-c2ccnc3[nH]ccc23)cc1>)>,\n",
       " <ProteinLigandComplex with 2 components (<KLIFSKinase name=P00533>, <Ligand name=COC[C@@H](Nc1ncnc2oc(-c3ccc(OC)cc3)cc12)c1ccccc1>)>,\n",
       " <ProteinLigandComplex with 2 components (<KLIFSKinase name=P00533>, <Ligand name=O=C1N=C(N2CCC[C@H]2C(=O)Nc2ccc3ncnc(Nc4cccc(Cl)c4)c3c2)S/C1=C/c1cccnc1>)>,\n",
       " <ProteinLigandComplex with 2 components (<KLIFSKinase name=P00533>, <Ligand name=CSc1cn2c(-c3cn[nH]c3)cnc2c(Nc2cc(C)ns2)n1>)>,\n",
       " <ProteinLigandComplex with 2 components (<KLIFSKinase name=P00533>, <Ligand name=C=CC(=O)Nc1cc(C)cc(-n2c(=O)cc(C)c3cnc(Nc4ccc(N5CCN(C)CC5)cc4OC)nc32)c1>)>,\n",
       " <ProteinLigandComplex with 2 components (<KLIFSKinase name=P00533>, <Ligand name=C=CC(=O)N1CC[C@H](Nc2nc(Nc3ccccc3)nc3cnc(Nc4ccc(N5CCN(C)CC5)cn4)cc23)C1>)>,\n",
       " <ProteinLigandComplex with 2 components (<KLIFSKinase name=P00533>, <Ligand name=C#Cc1cccc(Nc2ncnc3ccc(OCCCCNCCS(C)(=O)=O)cc23)c1>)>,\n",
       " <ProteinLigandComplex with 2 components (<KLIFSKinase name=P00533>, <Ligand name=CN1CCN(c2ccc(Nc3ncc4nc(Sc5ccccc5)n([C@H]5CC[C@H](O)CC5)c4n3)cc2)CC1>)>,\n",
       " <ProteinLigandComplex with 2 components (<KLIFSKinase name=P00533>, <Ligand name=CCOc1ccc(Nc2cc(NC(=O)c3ccccc3)ncn2)cc1>)>,\n",
       " <ProteinLigandComplex with 2 components (<KLIFSKinase name=P00533>, <Ligand name=N#CC(C#N)=C(C#N)c1cc(O)c(O)c(O)c1>)>,\n",
       " <ProteinLigandComplex with 2 components (<KLIFSKinase name=P00533>, <Ligand name=O=C(Nc1ccc(F)cc1)c1ccc(N(CCCl)CCCl)cc1>)>,\n",
       " <ProteinLigandComplex with 2 components (<KLIFSKinase name=P00533>, <Ligand name=COc1cc(N2CCN(C)CC2)ccc1Nc1ncc(Cl)c(Oc2cccc(NC(=O)CCN3CCCCC3)c2)n1>)>,\n",
       " <ProteinLigandComplex with 2 components (<KLIFSKinase name=P00533>, <Ligand name=Cc1cccc(C)c1Nc1ncc(-c2ccc(OCC3CCCN(C)C3)cc2)n2cncc12.Cl>)>,\n",
       " <ProteinLigandComplex with 2 components (<KLIFSKinase name=P00533>, <Ligand name=O=C1CSC(N2N=C(c3ccc(Br)cc3)CC2c2ccc(Br)cc2)=N1>)>,\n",
       " <ProteinLigandComplex with 2 components (<KLIFSKinase name=P00533>, <Ligand name=NCCOCc1ccn2ncnc(Nc3ccc4c(cnn4Cc4cccc(F)c4)c3)c12>)>,\n",
       " <ProteinLigandComplex with 2 components (<KLIFSKinase name=P00533>, <Ligand name=COc1ccc(-c2nn(C3CNC3)c3ncnc(N)c23)cc1O>)>,\n",
       " <ProteinLigandComplex with 2 components (<KLIFSKinase name=P00533>, <Ligand name=CN(C)CCCNC/C=C/C(=O)Nc1cc2c(Nc3ccc(F)c(Cl)c3)ncnc2s1>)>,\n",
       " <ProteinLigandComplex with 2 components (<KLIFSKinase name=P00533>, <Ligand name=CCc1c(C(=O)NC)cn2ncnc(Nc3ccc4c(cnn4Cc4ccccc4)c3)c12>)>,\n",
       " <ProteinLigandComplex with 2 components (<KLIFSKinase name=P00533>, <Ligand name=COc1cc2ncnc(Nc3ccc(F)c(Cl)c3)c2cc1OCCCCCn1ccnc1[N+](=O)[O-]>)>,\n",
       " <ProteinLigandComplex with 2 components (<KLIFSKinase name=P00533>, <Ligand name=CN1C(=O)C(=C(C#N)C#N)c2cc(O)ccc21>)>,\n",
       " <ProteinLigandComplex with 2 components (<KLIFSKinase name=P00533>, <Ligand name=CN(CC(O)C(O)C(O)C(O)CO)c1cc2ncnc(Nc3cccc(Br)c3)c2cn1>)>,\n",
       " <ProteinLigandComplex with 2 components (<KLIFSKinase name=P00533>, <Ligand name=COc1cccc(Nc2ncnn3ccc(CN4CC[C@@H](N)[C@H](O)C4)c23)c1>)>,\n",
       " <ProteinLigandComplex with 2 components (<KLIFSKinase name=P00533>, <Ligand name=c1csc(-c2nnc(Cc3nc4ccccc4[nH]3)o2)c1>)>,\n",
       " <ProteinLigandComplex with 2 components (<KLIFSKinase name=P00533>, <Ligand name=Fc1ccc(-c2ncn(CCN3CCOCC3)c2-c2ccc3[nH]ncc3c2)cc1>)>,\n",
       " <ProteinLigandComplex with 2 components (<KLIFSKinase name=P00533>, <Ligand name=COCOc1cc(-c2nn(C(C)C)c3ncnc(N)c23)ccc1Br>)>,\n",
       " <ProteinLigandComplex with 2 components (<KLIFSKinase name=P00533>, <Ligand name=O=C(O[C@H]1CN[C@H](C#Cc2cc3ncnc(Nc4ccc5c(ccn5CCc5ccccc5)c4)c3s2)C1)N1CCOCC1>)>,\n",
       " <ProteinLigandComplex with 2 components (<KLIFSKinase name=P00533>, <Ligand name=CNC(=O)c1ccc(Sc2cccc(NC(=S)Nc3ccc(Cl)c(C(F)(F)F)c3)c2)nc1>)>,\n",
       " <ProteinLigandComplex with 2 components (<KLIFSKinase name=P00533>, <Ligand name=COc1ccc2c(c1)CNc1c(NCc3ccccc3)ncnc1O2>)>,\n",
       " <ProteinLigandComplex with 2 components (<KLIFSKinase name=P00533>, <Ligand name=COc1cc(C=C(C#N)C#N)cc(C)c1O>)>,\n",
       " <ProteinLigandComplex with 2 components (<KLIFSKinase name=P00533>, <Ligand name=CCc1c(C(=O)NCCCn2ccnc2)cn2ncnc(Nc3ccc4c(cnn4Cc4ccccc4)c3)c12>)>,\n",
       " <ProteinLigandComplex with 2 components (<KLIFSKinase name=P00533>, <Ligand name=Cc1cccc(C)c1-c1cc(C)c2nc(Nc3ccc(OCCN4CCCC4)cc3)nnc2c1>)>,\n",
       " <ProteinLigandComplex with 2 components (<KLIFSKinase name=P00533>, <Ligand name=CC1(C)OCc2c(Nc3n[nH]c4c(C(F)(F)F)cccc34)nc(-c3cn[nH]c3)nc21>)>,\n",
       " <ProteinLigandComplex with 2 components (<KLIFSKinase name=P00533>, <Ligand name=Cn1c(=O)c2[nH]c(SC/C(=N/O)c3ccc(Br)cc3)nc2n(C)c1=O>)>,\n",
       " <ProteinLigandComplex with 2 components (<KLIFSKinase name=P00533>, <Ligand name=Cc1ccc(-c2csc(=N)n2CC(=O)N2CCOCC2)cc1>)>,\n",
       " <ProteinLigandComplex with 2 components (<KLIFSKinase name=P00533>, <Ligand name=Cl.O=[N+]([O-])c1ccc2sc3c(Nc4cccc(Br)c4)ncnc3c2c1>)>,\n",
       " <ProteinLigandComplex with 2 components (<KLIFSKinase name=P00533>, <Ligand name=COc1ccc2c(Nc3cccc(Br)c3)ncnc2n1>)>,\n",
       " <ProteinLigandComplex with 2 components (<KLIFSKinase name=P00533>, <Ligand name=Nc1ncnc2ncn(CC(=O)c3c[nH]c4ccccc34)c12>)>,\n",
       " <ProteinLigandComplex with 2 components (<KLIFSKinase name=P00533>, <Ligand name=O=C(NCCc1ccc(O)c(Br)c1)/C(Cc1cc(Br)c(O)c(-c2cc(C/C(=N/O)C(=O)NCCc3ccc(O)c(Br)c3)cc(Br)c2O)c1)=N\\O>)>,\n",
       " <ProteinLigandComplex with 2 components (<KLIFSKinase name=P00533>, <Ligand name=OCCN(CCO)CCCNc1cc2ncnc(Nc3cccc(Br)c3)c2cn1>)>,\n",
       " <ProteinLigandComplex with 2 components (<KLIFSKinase name=P00533>, <Ligand name=Cc1nc2cnc(Nc3ccnc(N4CCC(C)(C(N)=O)C4)n3)cc2n1C(C)C>)>,\n",
       " <ProteinLigandComplex with 2 components (<KLIFSKinase name=P00533>, <Ligand name=CN(C)C1CCN(c2ccc(Nc3cc4c(N5CCOCC5)nc(Nc5ccc(F)cc5)nc4cn3)nc2)CC1>)>,\n",
       " <ProteinLigandComplex with 2 components (<KLIFSKinase name=P00533>, <Ligand name=CCCOC(=O)Nc1ccc(Nc2ncnc3cc(OC)c(OC)cc23)cc1C>)>,\n",
       " <ProteinLigandComplex with 2 components (<KLIFSKinase name=P00533>, <Ligand name=COc1ccc(Nc2ncnn3ccc(CN4CCC(N)CC4)c23)cc1Cl>)>,\n",
       " <ProteinLigandComplex with 2 components (<KLIFSKinase name=P00533>, <Ligand name=Clc1cc(Nc2ncnc3[nH]nc(OCCN4CCCC4)c23)ccc1OCc1ccccn1>)>,\n",
       " <ProteinLigandComplex with 2 components (<KLIFSKinase name=P00533>, <Ligand name=C[C@@H](Nc1ncnc2sc(Br)cc12)c1ccccc1>)>,\n",
       " <ProteinLigandComplex with 2 components (<KLIFSKinase name=P00533>, <Ligand name=CCC(=O)N1CC[C@H](N2C(=O)N(c3cccc(OC(F)(F)F)c3)Cc3cnc(Nc4ccc(N5CCN(C)CC5)c(C)c4)nc32)C1>)>,\n",
       " <ProteinLigandComplex with 2 components (<KLIFSKinase name=P00533>, <Ligand name=C1=CC2=C(Cc3nnc(Cc4nc5ccccc5[nH]4)o3)CNC2C=C1>)>,\n",
       " <ProteinLigandComplex with 2 components (<KLIFSKinase name=P00533>, <Ligand name=C=CC(=O)Nc1nc2c(Nc3ccc(F)c(Cl)c3)ncnc2cc1OCCCN1CCN(C)CC1>)>,\n",
       " <ProteinLigandComplex with 2 components (<KLIFSKinase name=P00533>, <Ligand name=CN(C)CCCNC(=O)Nc1cc2c(Nc3ccc(F)c(Cl)c3)ncnc2cc1O[C@H]1CCOC1>)>,\n",
       " <ProteinLigandComplex with 2 components (<KLIFSKinase name=P00533>, <Ligand name=Cc1ncnc(Nc2ccc(OCc3cccc(F)c3)c(Cl)c2)c1/C=C/c1ccc(CNC(C)C)cc1>)>,\n",
       " <ProteinLigandComplex with 2 components (<KLIFSKinase name=P00533>, <Ligand name=C=CC(=O)Nc1ccc2ncnc(Nc3ccc(S(N)(=O)=O)cc3)c2c1>)>,\n",
       " <ProteinLigandComplex with 2 components (<KLIFSKinase name=P00533>, <Ligand name=C=CC(=O)Nc1ccc(OC)c(Nc2cc(-c3nc(SC)n(C)c3-c3ccc(F)cc3)ccn2)c1>)>,\n",
       " <ProteinLigandComplex with 2 components (<KLIFSKinase name=P00533>, <Ligand name=C=CC(=O)NCc1cccc(-c2nc(-c3ccc(F)cc3)c(-c3ccnc4[nH]c(-c5ccccc5)cc34)[nH]2)c1>)>,\n",
       " <ProteinLigandComplex with 2 components (<KLIFSKinase name=P00533>, <Ligand name=C/N=N/Nc1ccc2ncnc(NCc3ccccc3)c2c1>)>,\n",
       " <ProteinLigandComplex with 2 components (<KLIFSKinase name=P00533>, <Ligand name=Oc1cccc(Nc2ccnc3[nH]c4ccccc4c23)c1>)>,\n",
       " <ProteinLigandComplex with 2 components (<KLIFSKinase name=P00533>, <Ligand name=C=CC(=O)Nc1cc2c(Nc3ccc(F)c(Cl)c3)ncnc2cc1OCC>)>,\n",
       " <ProteinLigandComplex with 2 components (<KLIFSKinase name=P00533>, <Ligand name=C[C@@H](COc1cccc2ncnc(Nc3ccc(OCc4ccccn4)c(Cl)c3)c12)N(C)C(=O)CO>)>,\n",
       " <ProteinLigandComplex with 2 components (<KLIFSKinase name=P00533>, <Ligand name=Cc1cccc(Nc2ncnc3[nH]c(C)c(C)c23)c1>)>,\n",
       " <ProteinLigandComplex with 2 components (<KLIFSKinase name=P00533>, <Ligand name=C#Cc1cccc(Nc2ncnc3cc4oc(=O)n(CCCN5CCOCC5)c4cc23)c1>)>,\n",
       " <ProteinLigandComplex with 2 components (<KLIFSKinase name=P00533>, <Ligand name=CNC(=O)c1nc(-c2ccc(Cl)c(S(=O)(=O)Nc3cccc(F)c3C)c2)cnc1N>)>,\n",
       " <ProteinLigandComplex with 2 components (<KLIFSKinase name=P00533>, <Ligand name=CCCCCCCCNC(=O)COc1cc(O)c2c(=O)cc(-c3ccccc3)oc2c1>)>,\n",
       " <ProteinLigandComplex with 2 components (<KLIFSKinase name=P00533>, <Ligand name=Cc1ccc(S(=O)(=O)NC(=O)c2ccc(C)nc2Cl)cc1>)>,\n",
       " <ProteinLigandComplex with 2 components (<KLIFSKinase name=P00533>, <Ligand name=CCNc1ncc(C(=O)Nc2cc(C(=O)Nc3ccc(CN4CCN(C)CC4)c(C(F)(F)F)c3)ccc2C)cn1>)>,\n",
       " <ProteinLigandComplex with 2 components (<KLIFSKinase name=P00533>, <Ligand name=C[C@H](Nc1ncnc2c1sc1ccccc12)c1ccccc1>)>,\n",
       " <ProteinLigandComplex with 2 components (<KLIFSKinase name=P00533>, <Ligand name=COc1cc2c(cc1OC)Nc1ncn(C)c(=O)c1C2>)>,\n",
       " <ProteinLigandComplex with 2 components (<KLIFSKinase name=P00533>, <Ligand name=C=CC(=O)Nc1cccc(Nc2nc(Nc3ccc(CN4CCOCC4)cc3OC)ncc2Cl)c1>)>,\n",
       " <ProteinLigandComplex with 2 components (<KLIFSKinase name=P00533>, <Ligand name=O=C(CCc1ccc(O)cc1)c1c(O)cc(O)cc1O>)>,\n",
       " <ProteinLigandComplex with 2 components (<KLIFSKinase name=P00533>, <Ligand name=CCc1ccc(Nc2ncnc3[nH]c(C)c(C)c23)cc1>)>,\n",
       " <ProteinLigandComplex with 2 components (<KLIFSKinase name=P00533>, <Ligand name=C=CC(=O)Nc1cc(Nc2n[nH]c3cc(-c4ccc(F)cc4)ccc23)c(OC)cc1N(C)CCN(C)C>)>,\n",
       " <ProteinLigandComplex with 2 components (<KLIFSKinase name=P00533>, <Ligand name=CCOc1ccc2cc(-c3nn(C(C)C)c4ncnc(N)c34)ccc2c1.Cl>)>,\n",
       " <ProteinLigandComplex with 2 components (<KLIFSKinase name=P00533>, <Ligand name=CC/C=C\\C(=O)Nc1cc(Nc2nc(C)cc(-c3cn(C)c4ccc(F)cc34)n2)c(OC)cc1N(C)CCN(C)C>)>,\n",
       " <ProteinLigandComplex with 2 components (<KLIFSKinase name=P00533>, <Ligand name=Cc1cccc(Nc2ncnc3ccncc23)c1NCCCN1CCOCC1>)>,\n",
       " <ProteinLigandComplex with 2 components (<KLIFSKinase name=P00533>, <Ligand name=CC1CCCCN1C/C=C/C(=O)N1CCOc2cc3ncnc(Nc4ccc(F)c(Cl)c4)c3cc21>)>,\n",
       " <ProteinLigandComplex with 2 components (<KLIFSKinase name=P00533>, <Ligand name=CCCCNc1ncc2cc(-c3c(Cl)cccc3Cl)c(=O)n(C)c2n1>)>,\n",
       " <ProteinLigandComplex with 2 components (<KLIFSKinase name=P00533>, <Ligand name=CC(C)n1nc(-c2ccc(O)cc2)c2c(N)ncnc21>)>,\n",
       " <ProteinLigandComplex with 2 components (<KLIFSKinase name=P00533>, <Ligand name=COc1ccc(-c2nn(C[C@H](C)CO)c3ncnc(N)c23)cc1OC>)>,\n",
       " <ProteinLigandComplex with 2 components (<KLIFSKinase name=P00533>, <Ligand name=N#Cc1cc2c(N)ncnc2nc1NCCO>)>,\n",
       " <ProteinLigandComplex with 2 components (<KLIFSKinase name=P00533>, <Ligand name=O=C(O)c1ccccc1-c1nnc(Cc2nc3ccccc3[nH]2)o1>)>,\n",
       " <ProteinLigandComplex with 2 components (<KLIFSKinase name=P00533>, <Ligand name=COc1cccc(-c2cn(C3CCC3)c3ncnc(N)c23)c1>)>,\n",
       " <ProteinLigandComplex with 2 components (<KLIFSKinase name=P00533>, <Ligand name=COc1cc2ncnc(-c3c[nH]c4ccc(Br)cc34)c2cc1OC>)>,\n",
       " <ProteinLigandComplex with 2 components (<KLIFSKinase name=P00533>, <Ligand name=COc1cc2c(cc1O)NC(=O)C2=C(C#N)C#N>)>,\n",
       " <ProteinLigandComplex with 2 components (<KLIFSKinase name=P00533>, <Ligand name=Nc1nc(Nc2cccc(Br)c2)c2cc(Cc3ccc(-c4ccccc4)cc3)[nH]c2n1>)>,\n",
       " <ProteinLigandComplex with 2 components (<KLIFSKinase name=P00533>, <Ligand name=CC(=O)c1cccc(-c2nn(C(C)C)c3ncnc(N)c23)c1>)>,\n",
       " <ProteinLigandComplex with 2 components (<KLIFSKinase name=P00533>, <Ligand name=Fc1ccc(Nc2ncnc3ccc(C#Cc4cccs4)cc23)cc1Cl>)>,\n",
       " <ProteinLigandComplex with 2 components (<KLIFSKinase name=P00533>, <Ligand name=CCCCN(CC#CC(=O)Nc1cc2c(Nc3ccc(F)c(Cl)c3)ncnc2cn1)CCCC>)>,\n",
       " <ProteinLigandComplex with 2 components (<KLIFSKinase name=P00533>, <Ligand name=COc1cc(/C=C(\\C#N)C(=O)O)ccc1O>)>,\n",
       " <ProteinLigandComplex with 2 components (<KLIFSKinase name=P00533>, <Ligand name=Brc1cccc(Nc2[nH]cnc3nc4ccccc4c2-3)c1>)>,\n",
       " <ProteinLigandComplex with 2 components (<KLIFSKinase name=P00533>, <Ligand name=COc1cc2c(Nc3ccc(NC(=O)Nc4ccc(C)c(C)c4)c(Cl)c3)ncnc2cc1OCCN1CCCCC1>)>,\n",
       " <ProteinLigandComplex with 2 components (<KLIFSKinase name=P00533>, <Ligand name=COc1cc2ncc(C#N)c(Nc3cc(Cl)c(O)c(Cl)c3)c2cc1OC>)>,\n",
       " <ProteinLigandComplex with 2 components (<KLIFSKinase name=P00533>, <Ligand name=COc1cc(Nc2ncnc3[nH]nc(OCCN4CCC(O)CC4)c23)ccc1OCc1cccc(F)c1>)>,\n",
       " <ProteinLigandComplex with 2 components (<KLIFSKinase name=P00533>, <Ligand name=FC(F)(F)c1cccc(Nc2ncnc3cc(OCCCN4CCOCC4)c4c(c23)OCCO4)c1>)>,\n",
       " <ProteinLigandComplex with 2 components (<KLIFSKinase name=P00533>, <Ligand name=COc1cc2ncnc(NC3CC3c3ccccc3)c2cc1O>)>,\n",
       " <ProteinLigandComplex with 2 components (<KLIFSKinase name=P00533>, <Ligand name=COc1ccccc1-c1cc2c(NCc3cccs3)ncnc2s1>)>,\n",
       " <ProteinLigandComplex with 2 components (<KLIFSKinase name=P00533>, <Ligand name=Nc1c(Br)cccc1Nc1ncnc2ccncc12>)>,\n",
       " <ProteinLigandComplex with 2 components (<KLIFSKinase name=P00533>, <Ligand name=O=C(O[C@H]1CN[C@H](C#Cc2cc3ncnc(Nc4ccc(OCc5ccccn5)c(Cl)c4)c3s2)C1)N1CCOCC1>)>,\n",
       " <ProteinLigandComplex with 2 components (<KLIFSKinase name=P00533>, <Ligand name=Cc1ccc(C2=NN(C(N)=S)C(c3ccc(O)cc3)C2)cc1C>)>,\n",
       " <ProteinLigandComplex with 2 components (<KLIFSKinase name=P00533>, <Ligand name=C=CC(=O)N1CCN(c2ccc(Nc3ncc(Cl)c(Oc4cccc(COc5no[n+]([O-])c5S(=O)(=O)c5ccccc5)c4)n3)c(OC)c2)CC1>)>,\n",
       " <ProteinLigandComplex with 2 components (<KLIFSKinase name=P00533>, <Ligand name=CCC(=O)N1CCC[C@@H](n2c(=O)c(-c3ccccc3Cl)c(C)c3cnc(Nc4ccc(N5CCN(C)CC5)c(C)c4)nc32)C1>)>,\n",
       " <ProteinLigandComplex with 2 components (<KLIFSKinase name=P00533>, <Ligand name=O=c1oc2cc3ncnc(Nc4ccc(OCc5ccccn5)cc4)c3cc2n1CCCN1CCOCC1>)>,\n",
       " <ProteinLigandComplex with 2 components (<KLIFSKinase name=P00533>, <Ligand name=C=CC(=O)N1CCC[C@H]1C(=O)Nc1cc2c(Nc3ccc(F)c(Cl)c3F)ncnc2cc1OCCOC>)>,\n",
       " <ProteinLigandComplex with 2 components (<KLIFSKinase name=P00533>, <Ligand name=N#CC(C#N)=Cc1ccc(C=O)cc1>)>,\n",
       " <ProteinLigandComplex with 2 components (<KLIFSKinase name=P00533>, <Ligand name=O[C@H]1CC[C@H](Nc2ncc3nc(Nc4c(F)cc(F)cc4F)n([C@H]4CCOC4)c3n2)CC1>)>,\n",
       " <ProteinLigandComplex with 2 components (<KLIFSKinase name=P00533>, <Ligand name=CN(C)C/C=C/C(=O)N1CCc2c(sc3ncnc(NCCO)c23)C1>)>,\n",
       " <ProteinLigandComplex with 2 components (<KLIFSKinase name=P00533>, <Ligand name=CCC/C=C\\C(=O)Nc1cc(Nc2nc(C)cc(-c3cn(C)c4ccc(F)cc34)n2)c(OC)cc1N(C)CCN(C)C>)>,\n",
       " <ProteinLigandComplex with 2 components (<KLIFSKinase name=P00533>, <Ligand name=CCOC(C)Oc1cc2ncnc(Nc3ccc(F)c(C#N)c3)c2c2c1OCCO2>)>,\n",
       " <ProteinLigandComplex with 2 components (<KLIFSKinase name=P00533>, <Ligand name=O=C(Nc1ccc(Nc2ncnc3sc4c(c23)CCCC4)cc1)Nc1cccc(Br)c1>)>,\n",
       " <ProteinLigandComplex with 2 components (<KLIFSKinase name=P00533>, <Ligand name=COCC(=O)Nc1ccc2ncnc(Nc3cccc(I)c3)c2c1>)>,\n",
       " <ProteinLigandComplex with 2 components (<KLIFSKinase name=P00533>, <Ligand name=COc1cc2c(Oc3ccc(C4SCC(=O)N4NC(=O)Nc4ccc(F)c(F)c4F)cc3)ccnc2cc1OCCCN1CCOCC1>)>,\n",
       " <ProteinLigandComplex with 2 components (<KLIFSKinase name=P00533>, <Ligand name=CC(C)n1nc(-c2cc(O)cc(F)c2)c2c(N)ncnc21>)>,\n",
       " <ProteinLigandComplex with 2 components (<KLIFSKinase name=P00533>, <Ligand name=O=C1NCc2cccc(Oc3ccc(Nc4ncnc5ccn(CCO)c45)cc3Cl)c21>)>,\n",
       " <ProteinLigandComplex with 2 components (<KLIFSKinase name=P00533>, <Ligand name=COc1cc2ncnc(Nc3ccc(F)c(Cl)c3)c2cc1B1OC(C)(C)C(C)(C)O1>)>,\n",
       " <ProteinLigandComplex with 2 components (<KLIFSKinase name=P00533>, <Ligand name=CCCCCCCCCNC(=O)COc1cc(O)c2c(=O)cc(-c3ccccc3)oc2c1>)>,\n",
       " <ProteinLigandComplex with 2 components (<KLIFSKinase name=P00533>, <Ligand name=Cn1c(SSc2c(C(=O)Nc3ccccc3)c3cccnc3n2C)c(C(=O)Nc2ccccc2)c2cccnc21>)>,\n",
       " <ProteinLigandComplex with 2 components (<KLIFSKinase name=P00533>, <Ligand name=N#CC(C#N)=Cc1ccc(NC(=O)CCC(=O)O)cc1>)>,\n",
       " <ProteinLigandComplex with 2 components (<KLIFSKinase name=P00533>, <Ligand name=CC(C)n1nc(-c2cc3ccccc3nc2Cl)c2c(N)ncnc21>)>,\n",
       " <ProteinLigandComplex with 2 components (<KLIFSKinase name=P00533>, <Ligand name=C=CC(=O)Nc1cccc(N2C(=O)C(Cc3ccc(F)cc3)N(C)C(=O)c3cnc(Nc4ccc(N5CCN(C)CC5)cc4OC)nc32)c1>)>,\n",
       " <ProteinLigandComplex with 2 components (<KLIFSKinase name=P00533>, <Ligand name=O=C(/C=C/CNCc1ncccn1)Nc1cc2c(Nc3ccc(F)c(Cl)c3)ncnc2s1>)>,\n",
       " <ProteinLigandComplex with 2 components (<KLIFSKinase name=P00533>, <Ligand name=Nc1nc2c(c(Nc3ccc(F)cc3)n1)-c1ccccc1C2>)>,\n",
       " <ProteinLigandComplex with 2 components (<KLIFSKinase name=P00533>, <Ligand name=Fc1ccc(Nc2ncnc3nc(Nc4ccc(CN5CCCCC5)cc4)sc23)cc1Cl>)>,\n",
       " <ProteinLigandComplex with 2 components (<KLIFSKinase name=P00533>, <Ligand name=C=CC(=O)Nc1cccc(-n2c(=O)cc(C)c3cnc(Nc4ccc(N5CCN(C)CC5)cc4OCCC)nc32)c1>)>,\n",
       " <ProteinLigandComplex with 2 components (<KLIFSKinase name=P00533>, <Ligand name=Cc1ccc(C2=NN(C3=NC(=O)CS3)C(c3ccc(Cl)cc3)C2)cc1>)>,\n",
       " <ProteinLigandComplex with 2 components (<KLIFSKinase name=P00533>, <Ligand name=COc1cc2nc(Cl)nc(Nc3ccc(S(=O)(=O)Nc4nccs4)cc3)c2cc1OC>)>,\n",
       " <ProteinLigandComplex with 2 components (<KLIFSKinase name=P00533>, <Ligand name=COc1cc(-c2nc3ccccc3s2)ccc1Nc1ncnc2cc(OC)c(OC)cc12>)>,\n",
       " <ProteinLigandComplex with 2 components (<KLIFSKinase name=P00533>, <Ligand name=C[C@@H](c1ccccc1)n1ncc2cc(Nc3ncnn4ccc(COC[C@@H]5CNCCO5)c34)ccc21>)>,\n",
       " <ProteinLigandComplex with 2 components (<KLIFSKinase name=P00533>, <Ligand name=c1ccc(CCNc2ccnc3oc4ccccc4c23)cc1>)>,\n",
       " <ProteinLigandComplex with 2 components (<KLIFSKinase name=P00533>, <Ligand name=Cc1nc2cnc(Nc3ccnc(N4CC[C@H](O)C(F)(F)C4)n3)cc2n1C(C)C>)>,\n",
       " <ProteinLigandComplex with 2 components (<KLIFSKinase name=P00533>, <Ligand name=C=CS(=O)(=O)N1CCC[C@@H]1Cn1cc(-c2ccc3c(c2)OCO3)c2c(N)ncnc21>)>,\n",
       " <ProteinLigandComplex with 2 components (<KLIFSKinase name=P00533>, <Ligand name=Nc1ncnc2c1c(-c1ccc3[nH]c(=O)ccc3c1)nn2C1CCCC1>)>,\n",
       " <ProteinLigandComplex with 2 components (<KLIFSKinase name=P00533>, <Ligand name=C=C=CCCCOc1cc2c(Nc3ccc(F)c(Cl)c3)ncnc2cc1O>)>,\n",
       " <ProteinLigandComplex with 2 components (<KLIFSKinase name=P00533>, <Ligand name=COc1cc(OC2CCOC2)c2c(Nc3ccc(F)c(Cl)c3)ncnc2c1>)>,\n",
       " <ProteinLigandComplex with 2 components (<KLIFSKinase name=P00533>, <Ligand name=CN(C)CCCCNc1c(Br)cccc1Nc1ncnc2ccncc12>)>,\n",
       " <ProteinLigandComplex with 2 components (<KLIFSKinase name=P00533>, <Ligand name=COc1cc(N2CCN(C)CC2)ccc1Nc1ncc(Cl)c(Oc2ccc(N=[N+]=[N-])cc2)n1>)>,\n",
       " <ProteinLigandComplex with 2 components (<KLIFSKinase name=P00533>, <Ligand name=COc1cc2c(Oc3ccc(NS(=O)(=O)c4cc(-c5ccsc5)ccc4F)cc3F)ccnc2cc1OCCCN1CCN(C)CC1>)>,\n",
       " <ProteinLigandComplex with 2 components (<KLIFSKinase name=P00533>, <Ligand name=COC(=O)c1ccc(CNC(=O)c2c(SSc3c(C(=O)NCc4ccc(C(=O)OC)cc4)c4ccccc4n3C)n(C)c3ccccc23)cc1>)>,\n",
       " <ProteinLigandComplex with 2 components (<KLIFSKinase name=P00533>, <Ligand name=Cn1c(SSc2c(C(=O)NCC(=O)O)c3ccccc3n2C)c(C(=O)NCC(=O)O)c2ccccc21>)>,\n",
       " <ProteinLigandComplex with 2 components (<KLIFSKinase name=P00533>, <Ligand name=CN1C(=S)C(C(=O)Nc2ccccc2)c2ccccc21>)>,\n",
       " <ProteinLigandComplex with 2 components (<KLIFSKinase name=P00533>, <Ligand name=Cc1ccc(C(=O)Nc2ccc(CN3CCN(C)CC3)c(C(F)(F)F)c2)cc1NC(=O)c1cnc2[nH]ncc2c1>)>,\n",
       " <ProteinLigandComplex with 2 components (<KLIFSKinase name=P00533>, <Ligand name=Cc1ncnc(Nc2ccc(OCc3cccc(F)c3)c(Cl)c2)c1C#Cc1ccc(CN2CCOCC2)cc1>)>,\n",
       " <ProteinLigandComplex with 2 components (<KLIFSKinase name=P00533>, <Ligand name=COC(=O)CNC(=O)c1ccc(Nc2ncnc3cc(OCCN4CCCCC4)c(OC)cc23)cc1>)>,\n",
       " <ProteinLigandComplex with 2 components (<KLIFSKinase name=P00533>, <Ligand name=Cc1cccc(Nc2ncnc3ccc(NC(=O)N(C)CCCl)cc23)c1>)>,\n",
       " <ProteinLigandComplex with 2 components (<KLIFSKinase name=P00533>, <Ligand name=OCC(O)CNc1c(Br)cccc1Nc1ncnc2ccncc12>)>,\n",
       " <ProteinLigandComplex with 2 components (<KLIFSKinase name=P00533>, <Ligand name=COc1cccc(-c2cn(C3CCN(CCN(C)CCO)CC3)c3ncnc(N)c23)c1>)>,\n",
       " <ProteinLigandComplex with 2 components (<KLIFSKinase name=P00533>, <Ligand name=CNCC(O)COc1cc2c(Nc3ccc(F)c(Cl)c3)ncnc2cc1OC>)>,\n",
       " <ProteinLigandComplex with 2 components (<KLIFSKinase name=P00533>, <Ligand name=Fc1ccc(C2=NN(c3ccccc3)C(c3cccc4ccccc34)C2)cc1>)>,\n",
       " <ProteinLigandComplex with 2 components (<KLIFSKinase name=P00533>, <Ligand name=O=C(O)CCc1c(SSc2[nH]c3ccccc3c2CCC(=O)O)[nH]c2ccccc12>)>,\n",
       " <ProteinLigandComplex with 2 components (<KLIFSKinase name=P00533>, <Ligand name=COc1cc(/C=C(\\C#N)C(N)=O)cc(CSc2ccc(O)cc2)c1O>)>,\n",
       " <ProteinLigandComplex with 2 components (<KLIFSKinase name=P00533>, <Ligand name=C=CC(=O)Nc1cc2c(Nc3cccc(Br)c3)ncnc2cc1OCCCN1CCN(C)CC1>)>,\n",
       " <ProteinLigandComplex with 2 components (<KLIFSKinase name=P00533>, <Ligand name=N#C/C(=C/c1cc(O)ccc1O)C(=O)O>)>,\n",
       " <ProteinLigandComplex with 2 components (<KLIFSKinase name=P00533>, <Ligand name=COc1ccc2ncc(C#N)c(N[C@@H]3C[C@H]3c3ccccc3)c2c1>)>,\n",
       " <ProteinLigandComplex with 2 components (<KLIFSKinase name=P00533>, <Ligand name=CCOC(=O)C1=C(N)N(c2cccnc2)C2=C(C(=O)CCC2)C1c1cc2cc(C)ccc2n2nnnc12>)>,\n",
       " <ProteinLigandComplex with 2 components (<KLIFSKinase name=P00533>, <Ligand name=COc1cc(NC(=O)Nc2nccs2)cc(-c2cn(C)cn2)c1OC>)>,\n",
       " <ProteinLigandComplex with 2 components (<KLIFSKinase name=P00533>, <Ligand name=CCOC(C)Oc1cc2ncnc(Nc3ccc(C)c([N+](=O)[O-])c3)c2c2c1OCCO2>)>,\n",
       " <ProteinLigandComplex with 2 components (<KLIFSKinase name=P00533>, <Ligand name=O=C(NCCCN1CCOC1=O)c1cnc(NCc2cc(Cl)ccc2Cl)nc1NC1CCCC1>)>,\n",
       " <ProteinLigandComplex with 2 components (<KLIFSKinase name=P00533>, <Ligand name=COc1cc2c(Nc3cccc(F)c3)ncnc2cc1OCCOCCNC(=O)Cn1cnc([N+](=O)[O-])n1>)>,\n",
       " <ProteinLigandComplex with 2 components (<KLIFSKinase name=P00533>, <Ligand name=COc1ccccc1-c1cc2c(NCc3ccncc3)ncnc2s1>)>,\n",
       " <ProteinLigandComplex with 2 components (<KLIFSKinase name=P00533>, <Ligand name=Cc1c(C(=O)NCCCN2CCN(C)CC2)[nH]c2cnnc(Nc3ccc(OCc4cccc(F)c4)c(Cl)c3)c12>)>,\n",
       " <ProteinLigandComplex with 2 components (<KLIFSKinase name=P00533>, <Ligand name=NS(=O)(=O)c1ccc(Nc2nc3ncnc(Nc4ccc(F)c(Cl)c4)c3s2)cc1>)>,\n",
       " <ProteinLigandComplex with 2 components (<KLIFSKinase name=P00533>, <Ligand name=OCCn1ccc2ncnc(Nc3ccc(Oc4cccc5[nH]ncc45)c(Cl)c3)c21>)>,\n",
       " <ProteinLigandComplex with 2 components (<KLIFSKinase name=P00533>, <Ligand name=CCc1c(NC(=O)OCCn2ccnc2)cn2ncnc(Nc3ccc4c(cnn4Cc4ccccc4)c3)c12>)>,\n",
       " <ProteinLigandComplex with 2 components (<KLIFSKinase name=P00533>, <Ligand name=O=C(CCl)OCCn1c(=O)oc2cc3ncnc(Nc4ccc(F)c(Cl)c4)c3cc21>)>,\n",
       " <ProteinLigandComplex with 2 components (<KLIFSKinase name=P00533>, <Ligand name=Brc1cccc(Nc2ncnc3cc4c(cc23)OCCCSCCCO4)c1>)>,\n",
       " <ProteinLigandComplex with 2 components (<KLIFSKinase name=P00533>, <Ligand name=Cc1ccc(-c2n[nH]c3ncnc(N)c23)cc1O>)>,\n",
       " <ProteinLigandComplex with 2 components (<KLIFSKinase name=P00533>, <Ligand name=O=C(Nc1cc2c(Nc3ccc(F)c(Cl)c3)ncnc2cc1O[C@H]1CCOC1)N1CCCC(F)(F)C1>)>,\n",
       " <ProteinLigandComplex with 2 components (<KLIFSKinase name=P00533>, <Ligand name=COc1cc(OC)cc(-c2cc3cnc(N)nc3nc2NC(=O)NC(C)(C)C)c1>)>,\n",
       " <ProteinLigandComplex with 2 components (<KLIFSKinase name=P00533>, <Ligand name=N#CC(C#N)=C(C#N)c1ccc(O)cc1>)>,\n",
       " <ProteinLigandComplex with 2 components (<KLIFSKinase name=P00533>, <Ligand name=CCC(=O)Nc1cc2c(Nc3ccc4c(c3)CCN4Cc3ccccn3)ncnc2cc1OC>)>,\n",
       " <ProteinLigandComplex with 2 components (<KLIFSKinase name=P00533>, <Ligand name=C=CC(=O)N1CCC[C@@H]1COc1nc(Nc2ccc(N3CCN(C(C)=O)CC3)cc2)nc2[nH]cc(-c3cncc(NC)n3)c12>)>,\n",
       " <ProteinLigandComplex with 2 components (<KLIFSKinase name=P00533>, <Ligand name=CCCCCCC(=O)ON[C@H](CS(C)(=O)=O)c1ccc(-c2ccc3ncnc(Nc4ccc(OCc5cccc(F)c5)c(Cl)c4)c3c2)o1>)>,\n",
       " <ProteinLigandComplex with 2 components (<KLIFSKinase name=P00533>, <Ligand name=COc1cc(N2CCN(C)CC2)ccc1Nc1ncc(Cl)c(Oc2ccccc2N=C=S)n1>)>,\n",
       " <ProteinLigandComplex with 2 components (<KLIFSKinase name=P00533>, <Ligand name=NC(=O)COCc1ccn2ncnc(Nc3ccc4c(cnn4Cc4cccc(F)c4)c3)c12>)>,\n",
       " <ProteinLigandComplex with 2 components (<KLIFSKinase name=P00533>, <Ligand name=Nc1cccc(-c2cc(=O)c3c(N)c(O)c(N)cc3o2)c1>)>,\n",
       " <ProteinLigandComplex with 2 components (<KLIFSKinase name=P00533>, <Ligand name=CN(C)Cc1ccc(-c2cc3c(Nc4ccc(OCc5cccc(F)c5)c(Cl)c4)ncnc3s2)[nH]1>)>,\n",
       " <ProteinLigandComplex with 2 components (<KLIFSKinase name=P00533>, <Ligand name=O=C(NCCCN1CCCC1=O)c1cnc(NCc2cc(Cl)ccc2Cl)nc1NC1CCCC1>)>,\n",
       " <ProteinLigandComplex with 2 components (<KLIFSKinase name=P00533>, <Ligand name=CC(C)=CC[C@@H](OC(=O)/C=C\\C(=O)c1ccc(C)cc1)C1=CC(=O)c2c(O)ccc(O)c2C1=O>)>,\n",
       " <ProteinLigandComplex with 2 components (<KLIFSKinase name=P00533>, <Ligand name=COc1cc2c(C#N)cnc(Nc3cccc(Br)c3)c2cc1OC>)>,\n",
       " <ProteinLigandComplex with 2 components (<KLIFSKinase name=P00533>, <Ligand name=Oc1nnc(-c2c[nH]c(-c3ccccc3)c2-c2ccccc2)c2cn(-c3ccc(Cl)cc3)nc12>)>,\n",
       " <ProteinLigandComplex with 2 components (<KLIFSKinase name=P00533>, <Ligand name=C=CC(=O)Nc1cccc(-n2c(=O)cnc3cnc(Nc4ccc(N5CCN(C)CC5)cc4OC)nc32)c1>)>,\n",
       " <ProteinLigandComplex with 2 components (<KLIFSKinase name=P00533>, <Ligand name=CS(=O)(=O)N1CCN(Cc2ccc(-c3ccc4ncnc(Nc5ccc(OCc6cccc(F)c6)c(Cl)c5)c4c3)o2)CC1.Cc1ccc(S(=O)(=O)O)cc1>)>,\n",
       " <ProteinLigandComplex with 2 components (<KLIFSKinase name=P00533>, <Ligand name=COc1cc2ncc(C#N)c(Nc3cccc(SC)c3)c2cc1OC>)>,\n",
       " <ProteinLigandComplex with 2 components (<KLIFSKinase name=P00533>, <Ligand name=COc1cc2c(Nc3ccc(NC(=O)c4ccccc4Cl)cc3)ncnc2cc1OCc1ccccc1>)>,\n",
       " <ProteinLigandComplex with 2 components (<KLIFSKinase name=P00533>, <Ligand name=CCNC(=O)O[C@@H]1CN[C@@H](C#Cc2cc3ncnc(Nc4ccc(OCc5cccc(F)c5)c(Cl)c4)c3s2)C1>)>,\n",
       " <ProteinLigandComplex with 2 components (<KLIFSKinase name=P00533>, <Ligand name=COC/C=C/C(=O)Nc1ccc2ncnc(Nc3cccc(Br)c3)c2c1>)>,\n",
       " <ProteinLigandComplex with 2 components (<KLIFSKinase name=P00533>, <Ligand name=Fc1ccc(-c2ncn(C3CCN(Cc4ccccc4)C3)c2-c2ccc3[nH]ncc3c2)cc1>)>,\n",
       " <ProteinLigandComplex with 2 components (<KLIFSKinase name=P00533>, <Ligand name=COc1ccc(Nc2cc3c(cc2Nc2ccccc2)C(=O)NC3=O)cc1>)>,\n",
       " <ProteinLigandComplex with 2 components (<KLIFSKinase name=P00533>, <Ligand name=COc1ccc(-c2nn(C[C@@H](C)CO)c3ncnc(N)c23)cc1OC>)>,\n",
       " <ProteinLigandComplex with 2 components (<KLIFSKinase name=P00533>, <Ligand name=Cc1ccc(C2CC(c3ccc(Cl)c(Cl)c3)=NN2C(N)=S)cc1>)>,\n",
       " <ProteinLigandComplex with 2 components (<KLIFSKinase name=P00533>, <Ligand name=C=CC(=O)N1CC[C@@H](Nc2nc(Nc3ccc(N4CCN(C)CC4)cc3)c3ncn(C(C)C)c3n2)C1>)>,\n",
       " <ProteinLigandComplex with 2 components (<KLIFSKinase name=P00533>, <Ligand name=CN(c1cccc(Br)c1)c1nc(N)nc2[nH]c(Cc3ccccc3)cc12>)>,\n",
       " <ProteinLigandComplex with 2 components (<KLIFSKinase name=P00533>, <Ligand name=COc1ccc(-c2nn(C3CCCC3)c3ncnc(N)c23)cc1OC>)>,\n",
       " <ProteinLigandComplex with 2 components (<KLIFSKinase name=P00533>, <Ligand name=COc1ccc(-c2c3c4cc(OCCN(C)C)c(OCCN(C)C)cc4oc(=O)c3n3ccc4cc(O)c(OC)cc4c23)cc1O.O=C(O)C(F)(F)F.O=C(O)C(F)(F)F>)>,\n",
       " <ProteinLigandComplex with 2 components (<KLIFSKinase name=P00533>, <Ligand name=C#CCCn1cc(Nc2nc(OC[C@H]3CN(C(=O)C=C)C[C@@H]3OC)c3c(Cl)c[nH]c3n2)cn1>)>,\n",
       " <ProteinLigandComplex with 2 components (<KLIFSKinase name=P00533>, <Ligand name=COc1ccc(C2=NN(C3=NC(=O)CS3)C(c3ccc4ccccc4c3)C2)cc1>)>,\n",
       " <ProteinLigandComplex with 2 components (<KLIFSKinase name=P00533>, <Ligand name=COc1ccc(/N=C/c2c(N)ncnc2Nc2ccc3c(cnn3Cc3cccc(F)c3)c2)cc1>)>,\n",
       " <ProteinLigandComplex with 2 components (<KLIFSKinase name=P00533>, <Ligand name=COc1c(C=O)cccc1-c1cc2c(N[C@H](C)c3ccccc3)ncnc2s1>)>,\n",
       " <ProteinLigandComplex with 2 components (<KLIFSKinase name=P00533>, <Ligand name=CC(=O)N1CCN(C(=O)Cn2c(-c3ccc(Cl)cc3)csc2=N)CC1>)>,\n",
       " <ProteinLigandComplex with 2 components (<KLIFSKinase name=P00533>, <Ligand name=COc1cc2ncnc(/C=C/CCc3ccccc3)c2cc1OC>)>,\n",
       " <ProteinLigandComplex with 2 components (<KLIFSKinase name=P00533>, <Ligand name=NC(=S)N1N=C(c2ccc(Cl)c(Cl)c2)CC1c1ccc(F)cc1>)>,\n",
       " <ProteinLigandComplex with 2 components (<KLIFSKinase name=P00533>, <Ligand name=COc1cc2ncnc(N3CCc4ccccc43)c2cc1NC(=O)/C=C/CN1CCCC1>)>,\n",
       " <ProteinLigandComplex with 2 components (<KLIFSKinase name=P00533>, <Ligand name=N#Cc1ccc(-c2csc(N3N=C(c4ccc(N5CCCCC5)cc4)CC3c3ccc(Cl)cc3)n2)cc1>)>,\n",
       " <ProteinLigandComplex with 2 components (<KLIFSKinase name=P00533>, <Ligand name=COc1cc2ncnc(Oc3cccc(Br)c3)c2cc1OC>)>,\n",
       " <ProteinLigandComplex with 2 components (<KLIFSKinase name=P00533>, <Ligand name=C=CC(=O)Nc1cc(Nc2nccc(Nc3ccccc3-c3ccn(C)n3)n2)c(OC)cc1N(C)CCN(C)C>)>,\n",
       " <ProteinLigandComplex with 2 components (<KLIFSKinase name=P00533>, <Ligand name=Cc1cc(C(=O)Nc2nc3cccc(C)c3n2[C@@H]2CCCCN(C(=O)/C=C/CN(C)C)C2)ccn1>)>,\n",
       " <ProteinLigandComplex with 2 components (<KLIFSKinase name=P00533>, <Ligand name=N#C/C(=C\\c1ccc(O)c(O)c1)C(=O)NCc1cccc(CNC(=O)/C(C#N)=C/c2ccc(O)c(O)c2)c1>)>,\n",
       " <ProteinLigandComplex with 2 components (<KLIFSKinase name=P00533>, <Ligand name=COc1ccc(CO)cc1-c1cc2c(N[C@H](C)c3ccccc3)ncnc2s1>)>,\n",
       " <ProteinLigandComplex with 2 components (<KLIFSKinase name=P00533>, <Ligand name=C=CC(=O)NC1=CC=C2N=CN=C(Nc3cccc(Cl)c3)C21>)>,\n",
       " <ProteinLigandComplex with 2 components (<KLIFSKinase name=P00533>, <Ligand name=CC(C)=CC[C@@H](OC(=O)/C=C\\C(=O)c1ccc(C)cc1Cl)C1=CC(=O)c2c(O)ccc(O)c2C1=O>)>,\n",
       " <ProteinLigandComplex with 2 components (<KLIFSKinase name=P00533>, <Ligand name=C=CC(=O)Nc1cc(Nc2nccc(Nc3ccccc3-n3cccn3)n2)c(OC)cc1N(C)CCN(C)C>)>,\n",
       " <ProteinLigandComplex with 2 components (<KLIFSKinase name=P00533>, <Ligand name=COc1ccc(/C(CSc2nc3c([nH]2)c(=O)n(C)c(=O)n3C)=N\\O)cc1>)>,\n",
       " <ProteinLigandComplex with 2 components (<KLIFSKinase name=P00533>, <Ligand name=COc1cc2nccc(Nc3ccc(F)c(Cl)c3)c2cc1NC(=O)/C=C/C(C)N(C)C>)>,\n",
       " <ProteinLigandComplex with 2 components (<KLIFSKinase name=P00533>, <Ligand name=COc1cc2ncc(C#N)c(Nc3cccc(Cl)c3)c2cc1OC>)>,\n",
       " <ProteinLigandComplex with 2 components (<KLIFSKinase name=P00533>, <Ligand name=CCNC(=O)Nc1ccc2ncnc(Nc3ccc(OCc4cccc(F)c4)c(Cl)c3)c2c1>)>,\n",
       " <ProteinLigandComplex with 2 components (<KLIFSKinase name=P00533>, <Ligand name=CCOc1cc(N)c(C(=O)Nc2ccc(OCc3cccc(F)c3)c(Cl)c2)cc1NC(=O)c1ccc(CN2CCN(C)CC2)cc1>)>,\n",
       " <ProteinLigandComplex with 2 components (<KLIFSKinase name=P00533>, <Ligand name=Cc1cccc(C)c1-c1cc2cnc(N)nc2nc1NC(=O)NC(C)(C)C>)>,\n",
       " <ProteinLigandComplex with 2 components (<KLIFSKinase name=P00533>, <Ligand name=O=C(O)CNc1cc2ncnc(Nc3cccc(Br)c3)c2cn1>)>,\n",
       " <ProteinLigandComplex with 2 components (<KLIFSKinase name=P00533>, <Ligand name=COc1cc2ncc(C#N)c(N[C@@H]3C[C@H]3c3ccccc3)c2cc1OCCCN1CCOCC1>)>,\n",
       " <ProteinLigandComplex with 2 components (<KLIFSKinase name=P00533>, <Ligand name=COc1ccc(C(=O)N(C)[C@H]2C[C@@H]3O[C@](C)([C@H]2OC)n2c4ccccc4c4c5c(c6c7ccccc7n3c6c42)C(=O)NC5)cc1>)>,\n",
       " <ProteinLigandComplex with 2 components (<KLIFSKinase name=P00533>, <Ligand name=COc1cccc(-c2ccc3c(c2)NC(=O)/C3=C\\c2[nH]c3c(c2CCC(=O)O)CCCC3)c1>)>,\n",
       " <ProteinLigandComplex with 2 components (<KLIFSKinase name=P00533>, <Ligand name=C#Cc1cc(Nc2ncnc3cc(OC)c(OC)cc23)ccc1F>)>,\n",
       " <ProteinLigandComplex with 2 components (<KLIFSKinase name=P00533>, <Ligand name=CN/N=C/c1c(N)ncnc1Nc1ccc2c(cnn2Cc2cccc(F)c2)c1>)>,\n",
       " <ProteinLigandComplex with 2 components (<KLIFSKinase name=P00533>, <Ligand name=O=C(/C=C/C(=O)NCCCn1ccnc1)Cc1cc2c(Nc3cccc(Br)c3)ncnc2cn1>)>,\n",
       " <ProteinLigandComplex with 2 components (<KLIFSKinase name=P00533>, <Ligand name=CCCCC(O)CN(C)[C@H]1C[C@@H]2O[C@](C)([C@H]1OC)n1c3ccccc3c3c4c(c5c6ccccc6n2c5c31)C(=O)NC4>)>,\n",
       " <ProteinLigandComplex with 2 components (<KLIFSKinase name=P00533>, <Ligand name=Cc1cc(=O)n2nc(SCc3ccc(Cl)cc3Cl)nc2[nH]1>)>,\n",
       " <ProteinLigandComplex with 2 components (<KLIFSKinase name=P00533>, <Ligand name=COc1cc2ncnc(Nc3cccc(Cl)c3F)c2cc1CN1CC(C(N)=O)C1>)>,\n",
       " <ProteinLigandComplex with 2 components (<KLIFSKinase name=P00533>, <Ligand name=CCCOC(=O)Nc1ccc(Nc2ncnc3cc(OC)c(OC)cc23)cc1Cl.Cl>)>,\n",
       " <ProteinLigandComplex with 2 components (<KLIFSKinase name=P00533>, <Ligand name=COc1cc2ncnc(Nc3ccc(-c4nc5ccccc5s4)cc3O)c2cc1OC>)>,\n",
       " <ProteinLigandComplex with 2 components (<KLIFSKinase name=P00533>, <Ligand name=C#Cc1cccc(Nc2ncnc3cc(O[C@H]4CCOC4)c(NC(=O)/C=C/CN4CCCCC4)cc23)c1>)>,\n",
       " <ProteinLigandComplex with 2 components (<KLIFSKinase name=P00533>, <Ligand name=CN1CCN(C(=O)Cn2c(-c3ccc(Cl)cc3)csc2=N)CC1>)>,\n",
       " <ProteinLigandComplex with 2 components (<KLIFSKinase name=P00533>, <Ligand name=Cn1ncc2cc(Nc3ncnn4ccc(CN5CCC(N)CC5)c34)ccc21>)>,\n",
       " <ProteinLigandComplex with 2 components (<KLIFSKinase name=P00533>, <Ligand name=Cc1ccc(-c2nnc(Cc3nc4ccccc4[nH]3)o2)cc1>)>,\n",
       " <ProteinLigandComplex with 2 components (<KLIFSKinase name=P00533>, <Ligand name=Nc1cccc2ncnc(Nc3cccc(Br)c3)c12>)>,\n",
       " <ProteinLigandComplex with 2 components (<KLIFSKinase name=P00533>, <Ligand name=Nc1nc(Nc2cccc(F)c2)c2cc(Cc3ccc(Cl)cc3Cl)[nH]c2n1>)>,\n",
       " <ProteinLigandComplex with 2 components (<KLIFSKinase name=P00533>, <Ligand name=Fc1ccc(Nc2ncnc3nn4ccccc4c23)cc1Cl>)>,\n",
       " <ProteinLigandComplex with 2 components (<KLIFSKinase name=P00533>, <Ligand name=O=C(Nc1ccc2ncnc(Nc3cccc(Cl)c3)c2c1)C1CCC2(CC1)OCC1(OO2)C2CC3CC(C2)CC1C3>)>,\n",
       " <ProteinLigandComplex with 2 components (<KLIFSKinase name=P00533>, <Ligand name=O=S(=O)(Nc1ncccn1)c1ccc(Nc2nncc3ccccc23)cc1>)>,\n",
       " <ProteinLigandComplex with 2 components (<KLIFSKinase name=P00533>, <Ligand name=Cc1nc2cnc(Nc3ccnc(OCC(C)(C)C(N)=O)n3)cc2n1C(C)C>)>,\n",
       " <ProteinLigandComplex with 2 components (<KLIFSKinase name=P00533>, <Ligand name=COc1ccc2c(c1)CNc1c(Nc3ccc(Cl)cc3)ncnc1O2>)>,\n",
       " <ProteinLigandComplex with 2 components (<KLIFSKinase name=P00533>, <Ligand name=CCOC(=O)Nc1cc(Nc2ncnc3cc(OC)c(OC)cc23)ccc1C.Cl>)>,\n",
       " <ProteinLigandComplex with 2 components (<KLIFSKinase name=P00533>, <Ligand name=CCOc1ccccc1NC(=O)/C=C/c1ccccc1>)>,\n",
       " <ProteinLigandComplex with 2 components (<KLIFSKinase name=P00533>, <Ligand name=COc1ccccc1C(=Cc1coc2nc(=N)[nH]c(N)c12)C(C)C>)>,\n",
       " <ProteinLigandComplex with 2 components (<KLIFSKinase name=P00533>, <Ligand name=COc1ccc2c(c1)CCCN2c1nc(C)nc2oc(C)cc12>)>,\n",
       " <ProteinLigandComplex with 2 components (<KLIFSKinase name=P00533>, <Ligand name=Cc1ccc(Oc2ccc(Nc3ncnc4[nH]nc(OCCN5CCC(O)CC5)c34)cc2C)cn1>)>,\n",
       " <ProteinLigandComplex with 2 components (<KLIFSKinase name=P00533>, <Ligand name=COc1cc(N2CCN(C)CC2)ccc1Nc1ncc(Cl)c(Oc2ccccc2N=[N+]=[N-])n1>)>,\n",
       " <ProteinLigandComplex with 2 components (<KLIFSKinase name=P00533>, <Ligand name=CCNCc1ccc(-c2cc3ncnc(Nc4ccc(OCc5cccc(F)c5)c(Cl)c4)c3s2)[nH]1>)>,\n",
       " <ProteinLigandComplex with 2 components (<KLIFSKinase name=P00533>, <Ligand name=O=C(/C=C/CC(=O)Nc1ccc2ncnc(Nc3cccc(Br)c3)c2c1)Nc1ccc2c(Nc3cccc(Br)c3)ncnc2c1>)>,\n",
       " <ProteinLigandComplex with 2 components (<KLIFSKinase name=P00533>, <Ligand name=COc1cc2ncnc(Nc3ccc(F)c(Cl)c3)c2cc1OCCCOP(N)(=O)N(CCCl)CCCl>)>,\n",
       " <ProteinLigandComplex with 2 components (<KLIFSKinase name=P00533>, <Ligand name=CNc1cc2ncnc(Nc3cccc(Br)c3)c2cc1N>)>,\n",
       " <ProteinLigandComplex with 2 components (<KLIFSKinase name=P00533>, <Ligand name=Cc1ccc(C2=NN(C(N)=S)C(c3ccccc3F)C2)cc1C>)>,\n",
       " <ProteinLigandComplex with 2 components (<KLIFSKinase name=P00533>, <Ligand name=CCC(=O)Nc1cc2c(Nc3ccc(Cc4ccccn4)cc3)ncnc2cc1OC>)>,\n",
       " <ProteinLigandComplex with 2 components (<KLIFSKinase name=P00533>, <Ligand name=OCc1cccc(-c2cc3c(N[C@H](CO)c4ccccc4)ncnc3s2)c1>)>,\n",
       " <ProteinLigandComplex with 2 components (<KLIFSKinase name=P00533>, <Ligand name=COc1cc2c(Nc3ccc(Cl)cc3F)ncnc2cc1OCC1CCNCC1.Cl>)>,\n",
       " <ProteinLigandComplex with 2 components (<KLIFSKinase name=P00533>, <Ligand name=O=C(CCc1c(SSc2[nH]c3ccccc3c2CCC(=O)NCCc2ccccc2)[nH]c2ccccc12)NCCc1ccccc1>)>,\n",
       " <ProteinLigandComplex with 2 components (<KLIFSKinase name=P00533>, <Ligand name=COc1cc2c(Nc3ccc(OCc4cccc(F)c4)c(Cl)c3)ncnc2cc1OCCCCn1ccnc1[N+](=O)[O-]>)>,\n",
       " <ProteinLigandComplex with 2 components (<KLIFSKinase name=P00533>, <Ligand name=CN1CCN(C/C=C/C(=O)Nc2cc3c(Nc4ccc(Cc5ccccn5)cc4)ncnc3cn2)CC1>)>,\n",
       " <ProteinLigandComplex with 2 components (<KLIFSKinase name=P00533>, <Ligand name=Cc1ccc(C2CC(c3ccc(C)c(C)c3)=NN2C(N)=S)cc1>)>,\n",
       " <ProteinLigandComplex with 2 components (<KLIFSKinase name=P00533>, <Ligand name=COc1ccc(Nc2c(C#N)cnc3cc(OC)c(OC)cc23)cc1OC>)>,\n",
       " <ProteinLigandComplex with 2 components (<KLIFSKinase name=P00533>, <Ligand name=COC1CCN(c2nccc(Nc3cc4c(cn3)ncn4C3CCCC3)n2)CC1>)>,\n",
       " <ProteinLigandComplex with 2 components (<KLIFSKinase name=P00533>, <Ligand name=O=C(CN1CCOCC1)Nc1ccc2ncnc(Nc3cccc(Br)c3)c2c1>)>,\n",
       " <ProteinLigandComplex with 2 components (<KLIFSKinase name=P00533>, <Ligand name=CO/N=C/c1c(N)ncnc1NCc1ccc(F)c(Cl)c1>)>,\n",
       " <ProteinLigandComplex with 2 components (<KLIFSKinase name=P00533>, <Ligand name=CN(C)CCCCNc1cc2ncnc(Nc3cccc(Br)c3)c2cn1>)>,\n",
       " <ProteinLigandComplex with 2 components (<KLIFSKinase name=P00533>, <Ligand name=C=CC(=O)Nc1cccc(-n2c(=O)cnc3cnc(Nc4ccc(NC(C)=O)cc4)nc32)c1>)>,\n",
       " <ProteinLigandComplex with 2 components (<KLIFSKinase name=P00533>, <Ligand name=Cc1cccc(Nc2ncnc3cc4c(cc23)N(CCCN2CCOCC2)C(=O)CO4)c1>)>,\n",
       " <ProteinLigandComplex with 2 components (<KLIFSKinase name=P00533>, <Ligand name=COc1cc(/C=C2\\CCC/C(=C\\C3CCCCC3)C2=O)cc(OC)c1>)>,\n",
       " <ProteinLigandComplex with 2 components (<KLIFSKinase name=P00533>, <Ligand name=C=CC(=O)N1C[C@H](F)[C@@H](COc2nc(Nc3cnn(C)c3)nc3[nH]cc(Cl)c23)C1>)>,\n",
       " <ProteinLigandComplex with 2 components (<KLIFSKinase name=P00533>, <Ligand name=C=CC(=O)Nc1ccc(OC)c(Nc2cc(-c3[nH]c(SC)nc3-c3ccc(F)cc3)ccn2)c1>)>,\n",
       " <ProteinLigandComplex with 2 components (<KLIFSKinase name=P00533>, <Ligand name=COc1ccc(-c2cc3c(NCc4ccccc4)ncnc3o2)cc1>)>,\n",
       " <ProteinLigandComplex with 2 components (<KLIFSKinase name=P00533>, <Ligand name=O=C(/C=C/CN1CCOCC1)Nc1cc2c(Nc3ccc(F)c(Cl)c3)ncnc2cn1>)>,\n",
       " <ProteinLigandComplex with 2 components (<KLIFSKinase name=P00533>, <Ligand name=COc1cc2ncnc(Nc3ccccc3Br)c2cc1OC>)>,\n",
       " <ProteinLigandComplex with 2 components (<KLIFSKinase name=P00533>, <Ligand name=O=C(Nc1ccc2ncnc(Nc3cccc(Br)c3)c2c1)c1cccc2c1OCCO2>)>,\n",
       " <ProteinLigandComplex with 2 components (<KLIFSKinase name=P00533>, <Ligand name=CCOc1ccc(-c2nn(C(C)C)c3ncnc(N)c23)cc1OC>)>,\n",
       " <ProteinLigandComplex with 2 components (<KLIFSKinase name=P00533>, <Ligand name=COc1cc2ncnc(Nc3ccc(F)cc3)c2cc1OC.Cl>)>,\n",
       " <ProteinLigandComplex with 2 components (<KLIFSKinase name=P00533>, <Ligand name=Cc1cccc(Nc2ncnc3cnc(N(C)C)cc23)c1>)>,\n",
       " <ProteinLigandComplex with 2 components (<KLIFSKinase name=P00533>, <Ligand name=COc1cc(/C=C(\\C#N)C(N)=O)cc(Sc2nc3ccccc3s2)c1O>)>,\n",
       " <ProteinLigandComplex with 2 components (<KLIFSKinase name=P00533>, <Ligand name=CN1CCN(CCOc2n[nH]c3ncnc(Nc4ccc(OCc5ccccn5)c(Cl)c4)c23)CC1>)>,\n",
       " <ProteinLigandComplex with 2 components (<KLIFSKinase name=P00533>, <Ligand name=CCNc1ncc2cc(-c3c(Cl)cccc3Cl)c(=O)n(C)c2n1>)>,\n",
       " <ProteinLigandComplex with 2 components (<KLIFSKinase name=P00533>, <Ligand name=CO[C@H]1[C@@H](N(C)C(=O)CCC(=O)O)C[C@@H]2O[C@@]1(C)n1c3ccccc3c3c4c(c5c6ccccc6n2c5c31)C(=O)NC4>)>,\n",
       " <ProteinLigandComplex with 2 components (<KLIFSKinase name=P00533>, <Ligand name=Nc1ccc2ncnc(Nc3cccc(C(F)(F)F)c3)c2c1>)>,\n",
       " <ProteinLigandComplex with 2 components (<KLIFSKinase name=P00533>, <Ligand name=Cc1ccc(-n2nc(C(C)(C)C)cc2NC(=O)Nc2ccc(OCCN3CCOCC3)c3ccccc23)cc1>)>,\n",
       " <ProteinLigandComplex with 2 components (<KLIFSKinase name=P00533>, <Ligand name=Cc1ccccc1Cc1cc2c(N(C)c3cccc(Br)c3)nc(N)nc2n1C>)>,\n",
       " <ProteinLigandComplex with 2 components (<KLIFSKinase name=P00533>, <Ligand name=Oc1ccc2ncnc(Nc3ccc(OCc4ccccc4)cc3)c2c1>)>,\n",
       " <ProteinLigandComplex with 2 components (<KLIFSKinase name=P00533>, <Ligand name=C=CC(=O)N(CCCN1CCOCC1)c1ccc2ncnc(Nc3cccc(Br)c3)c2c1>)>,\n",
       " <ProteinLigandComplex with 2 components (<KLIFSKinase name=P00533>, <Ligand name=Cc1cccc(Nc2ncnc3cnc(N(C)C)nc23)c1>)>,\n",
       " <ProteinLigandComplex with 2 components (<KLIFSKinase name=P00533>, <Ligand name=Cc1cc(C)c(C)c(-c2cc3cnc(NCCCN4CCN(C)CC4)nc3nc2NC(=O)NC(C)(C)C)c1C>)>,\n",
       " <ProteinLigandComplex with 2 components (<KLIFSKinase name=P00533>, <Ligand name=COCOCC#CC(=O)Nc1ccc2ncnc(Nc3cccc(Br)c3)c2c1>)>,\n",
       " <ProteinLigandComplex with 2 components (<KLIFSKinase name=P00533>, <Ligand name=NC(=O)CCC1C(S)=Nc2ccccc21>)>,\n",
       " <ProteinLigandComplex with 2 components (<KLIFSKinase name=P00533>, <Ligand name=COCCOc1cc2ncnc(Nc3ccc(F)c(C#N)c3)c2c2c1OCCO2>)>,\n",
       " <ProteinLigandComplex with 2 components (<KLIFSKinase name=P00533>, <Ligand name=CS(=O)(=O)CCNCc1ccc(-c2ccc3ncnc(Nc4ccc(OCc5ccccc5)c(C(F)(F)F)c4)c3c2)o1>)>,\n",
       " <ProteinLigandComplex with 2 components (<KLIFSKinase name=P00533>, <Ligand name=Cc1ccc(-n2c(SCC(=O)Nc3ccccc3Cl)nc3sc(C)c(C)c3c2=O)cc1>)>,\n",
       " <ProteinLigandComplex with 2 components (<KLIFSKinase name=P00533>, <Ligand name=O=C1CSC(N2N=C(c3ccc(F)cc3)CC2c2ccc(F)cc2)=N1>)>,\n",
       " <ProteinLigandComplex with 2 components (<KLIFSKinase name=P00533>, <Ligand name=COc1cc2c(Nc3ccc(C)cc3F)ncnc2cc1OCC1CCN(C)CC1>)>,\n",
       " <ProteinLigandComplex with 2 components (<KLIFSKinase name=P00533>, <Ligand name=CNC(=S)N(C)[C@H]1C[C@@H]2O[C@](C)([C@H]1OC)n1c3ccccc3c3c4c(c5c6ccccc6n2c5c31)C(=O)NC4>)>,\n",
       " <ProteinLigandComplex with 2 components (<KLIFSKinase name=P00533>, <Ligand name=O=C1CSC(N2N=C(c3ccncc3)CC2c2ccc(Br)cc2)=N1>)>,\n",
       " <ProteinLigandComplex with 2 components (<KLIFSKinase name=P00533>, <Ligand name=COc1cc2ncnc(Nc3ccc(F)c(Cl)c3)c2cc1OCCN1CCCC1>)>,\n",
       " <ProteinLigandComplex with 2 components (<KLIFSKinase name=P00533>, <Ligand name=Nc1ncnc2c1c(-c1ccc(F)c(O)c1)nn2[C@H]1CCOC1>)>,\n",
       " <ProteinLigandComplex with 2 components (<KLIFSKinase name=P00533>, <Ligand name=COc1cc2ncnc(/N=N/c3ccc(F)c(Cl)c3)c2cc1OC>)>,\n",
       " <ProteinLigandComplex with 2 components (<KLIFSKinase name=P00533>, <Ligand name=C=CC(=O)N[C@@H]1CN(c2nc(Nc3cn(C)nc3OC)c3ncn(C(C)(C)C)c3n2)C[C@H]1F>)>,\n",
       " <ProteinLigandComplex with 2 components (<KLIFSKinase name=P00533>, <Ligand name=C=C(CN1CCOCC1)C(=O)c1ccc(OCc2ccccc2)cc1.Cl>)>,\n",
       " <ProteinLigandComplex with 2 components (<KLIFSKinase name=P00533>, <Ligand name=COc1cc2c(Nc3cc(O)c(Cl)cc3F)ncnc2cc1OCC1CCN(C)CC1.Cl>)>,\n",
       " <ProteinLigandComplex with 2 components (<KLIFSKinase name=P00533>, <Ligand name=O=C(Cc1ccc(Cl)cc1)NS(=O)(=O)c1ccc(Br)cc1>)>,\n",
       " <ProteinLigandComplex with 2 components (<KLIFSKinase name=P00533>, <Ligand name=COc1ccccc1Nc1cc[nH]c(=O)c1C(=O)Nc1ccc(N2CCC(C)CC2)cc1>)>,\n",
       " <ProteinLigandComplex with 2 components (<KLIFSKinase name=P00533>, <Ligand name=CS(=O)(=O)CCNCc1nc(-c2ccc3ncnc(Nc4ccc5c(cnn5Cc5ccccc5)c4)c3c2)cs1>)>,\n",
       " <ProteinLigandComplex with 2 components (<KLIFSKinase name=P00533>, <Ligand name=Cn1c(=O)c(-c2c(Cl)cccc2Cl)cc2cnc(Nc3ccccc3)nc21>)>,\n",
       " <ProteinLigandComplex with 2 components (<KLIFSKinase name=P00533>, <Ligand name=C=CC(=O)Nc1cc(Nc2ncc(Cl)c(-c3cnn4ccccc34)n2)c(OC)cc1N1CC[C@@H](N(C)C)C1>)>,\n",
       " <ProteinLigandComplex with 2 components (<KLIFSKinase name=P00533>, <Ligand name=COc1cc2c(Nc3ccc(F)c(Cl)c3)ncnc2cc1OCCCCCCn1ccnc1[N+](=O)[O-]>)>,\n",
       " <ProteinLigandComplex with 2 components (<KLIFSKinase name=P00533>, <Ligand name=CCC(=O)N1CC[C@@H](n2c(=O)c(-c3ccccc3Cl)c(C)c3cnc(Nc4ccc(N5CCN(C)CC5)c(C)c4)nc32)C1>)>,\n",
       " <ProteinLigandComplex with 2 components (<KLIFSKinase name=P00533>, <Ligand name=CO[C@@H]1[C@H](N(C)C(=O)c2ccccc2)C[C@H]2O[C@]1(C)n1c3ccccc3c3c4c(c5c6ccccc6n2c5c31)C(=O)N[C@H]4O>)>,\n",
       " <ProteinLigandComplex with 2 components (<KLIFSKinase name=P00533>, <Ligand name=Fc1cccc(COc2ccc(Nc3cc(-c4ccccc4)ncn3)cc2Cl)c1>)>,\n",
       " <ProteinLigandComplex with 2 components (<KLIFSKinase name=P00533>, <Ligand name=O=C(O)C1CCN(Cc2ccn3ncnc(Nc4ccc5c(cnn5Cc5cccc(F)c5)c4)c23)CC1>)>,\n",
       " <ProteinLigandComplex with 2 components (<KLIFSKinase name=P00533>, <Ligand name=O=C(NS(=O)(=O)c1ccc(Br)cc1)c1cccnc1Cl>)>,\n",
       " <ProteinLigandComplex with 2 components (<KLIFSKinase name=P00533>, <Ligand name=Cc1ncc([N+](=O)[O-])n1C/C(=N/NC(=O)c1ccc(Cl)cc1)c1ccc(Br)cc1>)>,\n",
       " <ProteinLigandComplex with 2 components (<KLIFSKinase name=P00533>, <Ligand name=CCN(CC)C/C=C/C(=O)N1CCCOc2cc3ncnc(Nc4ccc(F)c(Cl)c4)c3cc21>)>,\n",
       " <ProteinLigandComplex with 2 components (<KLIFSKinase name=P00533>, <Ligand name=COc1cc2ncnc(Nc3ccc(F)c(Cl)c3)c2cc1OCC1CCN(C)CC1>)>,\n",
       " <ProteinLigandComplex with 2 components (<KLIFSKinase name=P00533>, <Ligand name=CN1CCN(Cc2ccc(Nc3nc4ncnc(Nc5ccc(OCc6cccc(F)c6)c(Cl)c5)c4s3)cc2)CC1>)>,\n",
       " <ProteinLigandComplex with 2 components (<KLIFSKinase name=P00533>, <Ligand name=CC(C)n1nc(-c2cccc(NS(C)(=O)=O)c2)c2c(N)ncnc21>)>,\n",
       " <ProteinLigandComplex with 2 components (<KLIFSKinase name=P00533>, <Ligand name=Fc1ccc(Nc2ncnc3c2NCc2cc(Br)ccc2O3)cc1Cl>)>,\n",
       " <ProteinLigandComplex with 2 components (<KLIFSKinase name=P00533>, <Ligand name=COc1cc(N(C)CCN(C)C)c(NC(=O)/C=C\\C(C)C)cc1Nc1nc(C)cc(-c2cn(C)c3ccc(F)cc23)n1>)>,\n",
       " <ProteinLigandComplex with 2 components (<KLIFSKinase name=P00533>, <Ligand name=COc1cc(N2CCN(C)CC2)ccc1Nc1ncc(Cl)c(Oc2cccc(COc3no[n+]([O-])c3S(=O)(=O)c3ccccc3)c2)n1>)>,\n",
       " <ProteinLigandComplex with 2 components (<KLIFSKinase name=P00533>, <Ligand name=CO[C@H]1[C@@H](N(C)C(=O)c2cccnc2)C[C@@H]2O[C@@]1(C)n1c3ccccc3c3c4c(c5c6ccccc6n2c5c31)C(=O)NC4>)>,\n",
       " <ProteinLigandComplex with 2 components (<KLIFSKinase name=P00533>, <Ligand name=C[N+](C)(C/C=C/C(=O)Nc1ccc2ncnc(Nc3cccc(Br)c3)c2c1)Cc1ccccc1[N+](=O)[O-].[Br-]>)>,\n",
       " <ProteinLigandComplex with 2 components (<KLIFSKinase name=P00533>, <Ligand name=COc1cc(Br)c(/C=C2\\CN(C)C/C(=C\\c3nc(C)c(C)nc3C)C2=O)cc1OC>)>,\n",
       " <ProteinLigandComplex with 2 components (<KLIFSKinase name=P00533>, <Ligand name=Cc1ccc(Nc2ncnc3cc(OC(C)C)c4c(c23)OCCO4)cc1C#N>)>,\n",
       " <ProteinLigandComplex with 2 components (<KLIFSKinase name=P00533>, <Ligand name=COC(=O)COCc1ccn2ncnc(Nc3ccc4c(cnn4Cc4cccc(F)c4)c3)c12>)>,\n",
       " <ProteinLigandComplex with 2 components (<KLIFSKinase name=P00533>, <Ligand name=COc1ccc(-n2c(=O)cnc3cnc(Nc4ccc(N)cc4)nc32)cc1>)>,\n",
       " <ProteinLigandComplex with 2 components (<KLIFSKinase name=P00533>, <Ligand name=O=C(C#CCO)Nc1ccc2ncnc(Nc3cccc(Br)c3)c2c1>)>,\n",
       " <ProteinLigandComplex with 2 components (<KLIFSKinase name=P00533>, <Ligand name=O=C(Nc1ccncc1)Nc1cc(-c2cncnc2)cc(C(F)(F)F)c1>)>,\n",
       " <ProteinLigandComplex with 2 components (<KLIFSKinase name=P00533>, <Ligand name=COc1cc2ncnc(Nc3cccc(Cl)c3F)c2cc1CN1CCN(C)CC1C(N)=O>)>,\n",
       " <ProteinLigandComplex with 2 components (<KLIFSKinase name=P00533>, <Ligand name=C=CC(=O)Nc1cc2c(Nc3ccc(OCc4ccccn4)c(Cl)c3)ncnc2cc1O[C@H]1CCOC1>)>,\n",
       " <ProteinLigandComplex with 2 components (<KLIFSKinase name=P00533>, <Ligand name=CC(=O)N1N=C(c2ccc(Cl)c(Cl)c2)CC1c1ccc(Cl)cc1>)>,\n",
       " <ProteinLigandComplex with 2 components (<KLIFSKinase name=P00533>, <Ligand name=C=CC(=O)N(C)c1nc2c(Nc3ccc(F)c(Cl)c3)ncnc2cc1OCCCN1CCOCC1>)>,\n",
       " <ProteinLigandComplex with 2 components (<KLIFSKinase name=P00533>, <Ligand name=CO[C@H]1[C@@H](N(C)CC(=O)O)C[C@@H]2O[C@@]1(C)n1c3ccccc3c3c4c(c5c6ccccc6n2c5c31)C(=O)NC4>)>,\n",
       " <ProteinLigandComplex with 2 components (<KLIFSKinase name=P00533>, <Ligand name=CCC(=O)N1CC[C@H](N2C(=O)N(c3cccc(OC)c3F)Cc3cnc(Nc4ccc(N5CCN(C)CC5)c(C)c4)nc32)C1>)>,\n",
       " <ProteinLigandComplex with 2 components (<KLIFSKinase name=P00533>, <Ligand name=C#CC(=O)Nc1ccc2ncnc(Nc3cccc(Br)c3)c2c1>)>,\n",
       " <ProteinLigandComplex with 2 components (<KLIFSKinase name=P00533>, <Ligand name=C=CC(=O)Nc1cccc(N2C(=O)N(C)Cc3cnc(Nc4ccccc4)nc32)c1>)>,\n",
       " <ProteinLigandComplex with 2 components (<KLIFSKinase name=P00533>, <Ligand name=Cc1ncnc(Nc2ccc(OCc3cccc(F)c3)c(Cl)c2)c1C#Cc1ccc(CNC(C)C)cc1>)>,\n",
       " <ProteinLigandComplex with 2 components (<KLIFSKinase name=P00533>, <Ligand name=Cc1ccc(C2CC(c3ccc(Cl)cc3)=NN2C2=NC(=O)CS2)cc1>)>,\n",
       " <ProteinLigandComplex with 2 components (<KLIFSKinase name=P00533>, <Ligand name=COc1cc2ncnc(Nc3cccc(C#CC(C)(C)O)c3)c2cc1OC>)>,\n",
       " <ProteinLigandComplex with 2 components (<KLIFSKinase name=P00533>, <Ligand name=CC(=O)Nc1cc2ncnc(NCc3ccccc3)c2cn1>)>,\n",
       " <ProteinLigandComplex with 2 components (<KLIFSKinase name=P00533>, <Ligand name=O=C1CSC(N/N=C/c2cccc(F)c2)=N1>)>,\n",
       " <ProteinLigandComplex with 2 components (<KLIFSKinase name=P00533>, <Ligand name=N#C/C(=C\\c1cc(-c2ccccc2)c(O)c(-c2ccccc2)c1)C(N)=O>)>,\n",
       " <ProteinLigandComplex with 2 components (<KLIFSKinase name=P00533>, <Ligand name=NC(=O)CCc1c(SSc2[nH]c3ccccc3c2CCC(N)=O)[nH]c2ccccc12>)>,\n",
       " <ProteinLigandComplex with 2 components (<KLIFSKinase name=P00533>, <Ligand name=O=S(=O)(CCOCc1ccc(-c2ccc3ncnc(Nc4ccc(OCc5cccc(F)c5)c(Cl)c4)c3c2)o1)c1ccccc1>)>,\n",
       " <ProteinLigandComplex with 2 components (<KLIFSKinase name=P00533>, <Ligand name=Cc1cc(Nc2ncc3c(n2)N([C@H]2CCN(C(=O)C(C)(C)C)C2)C(=O)N(c2ccccc2Cl)C3)ccc1N1CCN(C)CC1>)>,\n",
       " <ProteinLigandComplex with 2 components (<KLIFSKinase name=P00533>, <Ligand name=CCOC(=O)c1cn2ncnc(Nc3ccc4[nH]ncc4c3)c2c1CC>)>,\n",
       " <ProteinLigandComplex with 2 components (<KLIFSKinase name=P00533>, <Ligand name=Cc1cccc(Nc2ncnc3cc(NCCCN4CCN(C)CC4)ncc23)c1>)>,\n",
       " <ProteinLigandComplex with 2 components (<KLIFSKinase name=P00533>, <Ligand name=O=C(Nc1ccc2ncnc(Nc3cccc(Cl)c3)c2c1)c1cccc2c1OCCO2>)>,\n",
       " <ProteinLigandComplex with 2 components (<KLIFSKinase name=P00533>, <Ligand name=OC[C@@H](Nc1ncnc2sc3c(c12)CCCC3)c1ccccc1>)>,\n",
       " <ProteinLigandComplex with 2 components (<KLIFSKinase name=P00533>, <Ligand name=Cl.O=C(CCN1CCOCC1)c1ccc(OCc2ccccc2)cc1>)>,\n",
       " <ProteinLigandComplex with 2 components (<KLIFSKinase name=P00533>, <Ligand name=CCN(CC)CCC#CC(=O)Nc1ccc2ncnc(Nc3ccc(F)c(Cl)c3)c2c1>)>,\n",
       " <ProteinLigandComplex with 2 components (<KLIFSKinase name=P00533>, <Ligand name=C[C@@H](Oc1cccc2ncnc(Nc3ccc4c(cnn4Cc4ccccn4)c3)c12)C(=O)N(C)C>)>,\n",
       " <ProteinLigandComplex with 2 components (<KLIFSKinase name=P00533>, <Ligand name=Fc1cc2ncnc(Nc3cccc(Br)c3)c2cn1>)>,\n",
       " <ProteinLigandComplex with 2 components (<KLIFSKinase name=P00533>, <Ligand name=Br.Oc1ccc(-c2cc3c(NCc4ccccc4F)ncnc3[nH]2)cc1>)>,\n",
       " <ProteinLigandComplex with 2 components (<KLIFSKinase name=P00533>, <Ligand name=O=C(/C=C/c1ccccc1)Nc1ccccc1F>)>,\n",
       " <ProteinLigandComplex with 2 components (<KLIFSKinase name=P00533>, <Ligand name=CCC/C=C\\C(=O)Nc1cc(Nc2ncc(C#N)c(-c3cn(C)c4ccc(F)cc34)n2)c(OC)cc1N(C)CCN(C)C>)>,\n",
       " <ProteinLigandComplex with 2 components (<KLIFSKinase name=P00533>, <Ligand name=CCc1ncnc(Nc2ccc(OCc3cccc(F)c3)c(Cl)c2)c1C>)>,\n",
       " <ProteinLigandComplex with 2 components (<KLIFSKinase name=P00533>, <Ligand name=O=C(Nc1cc2c(Nc3ccc(F)c(Cl)c3)ncnc2cc1O[C@H]1CCOC1)/C(F)=C\\CN1CCOCC1>)>,\n",
       " <ProteinLigandComplex with 2 components (<KLIFSKinase name=P00533>, <Ligand name=Cc1ccc(-c2nc3cc(NC(=O)CCl)ccc3[nH]2)cc1>)>,\n",
       " <ProteinLigandComplex with 2 components (<KLIFSKinase name=P00533>, <Ligand name=OCCCCc1nc(-c2ccc(F)cc2)c(-c2ccnc3[nH]c(-c4ccccc4)cc23)[nH]1>)>,\n",
       " <ProteinLigandComplex with 2 components (<KLIFSKinase name=P00533>, <Ligand name=C[C@@H](Nc1ncnc2oc(-c3ccccc3O)cc12)c1ccccc1>)>,\n",
       " <ProteinLigandComplex with 2 components (<KLIFSKinase name=P00533>, <Ligand name=Brc1cccc(Nc2ncnc3cnc(NCCCn4ccnc4)cc23)c1>)>,\n",
       " <ProteinLigandComplex with 2 components (<KLIFSKinase name=P00533>, <Ligand name=C=CC(=O)Nc1cccc(Nc2nc(Nc3ccc(/C=C/c4cc(C)cc(C)c4)cc3)ncc2F)c1>)>,\n",
       " <ProteinLigandComplex with 2 components (<KLIFSKinase name=P00533>, <Ligand name=CCOC(=O)/C=C/C(=O)Cc1ccc2ncnc(Nc3cccc(Br)c3)c2c1>)>,\n",
       " <ProteinLigandComplex with 2 components (<KLIFSKinase name=P00533>, <Ligand name=Cc1cnc(Nc2ccc(OCCN3CCCC3)cc2)nc1Nc1cccc(S(=O)(=O)NC(C)(C)C)c1>)>,\n",
       " <ProteinLigandComplex with 2 components (<KLIFSKinase name=P00533>, <Ligand name=CN(CC(O)CO)c1cc2ncnc(Nc3cccc(Br)c3)c2cn1>)>,\n",
       " <ProteinLigandComplex with 2 components (<KLIFSKinase name=P00533>, <Ligand name=Cc1cc(Nc2ncc3c(n2)N([C@H]2CCN(C(=O)C(C)C)C2)C(=O)N(c2ccccc2Cl)C3)ccc1N1CCN(C)CC1>)>,\n",
       " <ProteinLigandComplex with 2 components (<KLIFSKinase name=P00533>, <Ligand name=COc1cc2ncnc(Nc3ccc(F)c(Cl)c3)c2cc1OCCN1CC(O)C1>)>,\n",
       " <ProteinLigandComplex with 2 components (<KLIFSKinase name=P00533>, <Ligand name=Cl.NCCc1cn(CCCCCc2ccccc2)c2ccc(OCCc3ccc(O)cc3)cc12>)>,\n",
       " <ProteinLigandComplex with 2 components (<KLIFSKinase name=P00533>, <Ligand name=CCN(CC)c1ccc(Nc2cc3c(cc2Nc2ccc(N(CC)CC)cc2)C(=O)NC3=O)cc1>)>,\n",
       " <ProteinLigandComplex with 2 components (<KLIFSKinase name=P00533>, <Ligand name=NC(=S)N1N=C(c2ccc(Br)c(Br)c2)CC1c1ccccc1Br>)>,\n",
       " <ProteinLigandComplex with 2 components (<KLIFSKinase name=P00533>, <Ligand name=O=C1Cc2c(cccc2Oc2ccc(Nc3ncnc4ccn(CCO)c34)cc2Cl)N1>)>,\n",
       " <ProteinLigandComplex with 2 components (<KLIFSKinase name=P00533>, <Ligand name=CCCCN(CCCC)C(=O)c1ccc(N(CCCl)CCCl)cc1>)>,\n",
       " <ProteinLigandComplex with 2 components (<KLIFSKinase name=P00533>, <Ligand name=CN1CCN(Cc2ccc(NC(=O)c3cccc(NC(=O)c4cnc5[nH]ccc5c4)c3)cc2C(F)(F)F)CC1>)>,\n",
       " <ProteinLigandComplex with 2 components (<KLIFSKinase name=P00533>, <Ligand name=O=C(C#CCCN1CCOCC1)Nc1ccc2ncnc(Nc3ccc(F)c(Cl)c3)c2c1>)>,\n",
       " <ProteinLigandComplex with 2 components (<KLIFSKinase name=P00533>, <Ligand name=CCC(=O)N1CC[C@H](N2C(=O)N(c3ccc(OC)cc3)Cc3cnc(Nc4ccc(N5CCN(C)CC5)c(C)c4)nc32)C1>)>,\n",
       " <ProteinLigandComplex with 2 components (<KLIFSKinase name=P00533>, <Ligand name=CCN(c1ccc(OC)cc1)c1nc(C)nc2oc(C)cc12>)>,\n",
       " <ProteinLigandComplex with 2 components (<KLIFSKinase name=P00533>, <Ligand name=CC1(C)OB(c2ccc3ncnc(Nc4ccc(F)c(Cl)c4)c3c2)OC1(C)C>)>,\n",
       " <ProteinLigandComplex with 2 components (<KLIFSKinase name=P00533>, <Ligand name=COc1cc2ncnc(Nc3ccc(F)c(Cl)c3)c2cc1OCCCN1CCN(C(=O)CCCCCCCCCC(=O)N[C@H](C(=O)N2C[C@@H](O)C[C@@H]2C(=O)NCc2ccc(-c3scnc3C)cc2)C(C)(C)C)CC1>)>,\n",
       " <ProteinLigandComplex with 2 components (<KLIFSKinase name=P00533>, <Ligand name=C=CC(=O)Nc1cc2c(Nc3ccc(F)c(Cl)c3)ncnc2cc1C#CC(C)(C)N1CCN(C)CC1>)>,\n",
       " <ProteinLigandComplex with 2 components (<KLIFSKinase name=P00533>, <Ligand name=C=CC(=O)Nc1cccc(Oc2nc(Nc3ccc(N4CCN(CC(=O)OCCCCCCOc5no[n+]([O-])c5S(=O)(=O)c5ccccc5)CC4)cc3OC)ncc2Cl)c1>)>,\n",
       " <ProteinLigandComplex with 2 components (<KLIFSKinase name=P00533>, <Ligand name=O=C(NCc1ccccc1)Nc1ccc2ncnc(Nc3cccc(Br)c3)c2c1>)>,\n",
       " <ProteinLigandComplex with 2 components (<KLIFSKinase name=P00533>, <Ligand name=Cc1ncnc(Nc2ccc(OCc3cccc(F)c3)c(Cl)c2)c1C#CCCNCc1ccccc1>)>,\n",
       " <ProteinLigandComplex with 2 components (<KLIFSKinase name=P00533>, <Ligand name=Clc1ccccc1-c1nnc(Cc2nc3ccccc3[nH]2)o1>)>,\n",
       " <ProteinLigandComplex with 2 components (<KLIFSKinase name=P00533>, <Ligand name=Cc1ccc(C2=NN(c3nc(-c4ccccc4)cs3)C(c3ccc(Br)cc3)C2)cc1C>)>,\n",
       " <ProteinLigandComplex with 2 components (<KLIFSKinase name=P00533>, <Ligand name=C=CC(=O)Nc1cccc(N2C(=O)N(c3ccc(-c4ccccc4)cc3)Cc3cnc(Nc4ccc(N5CCN(C)CC5)cc4OC)nc32)c1>)>,\n",
       " <ProteinLigandComplex with 2 components (<KLIFSKinase name=P00533>, <Ligand name=O=C(Nc1ccccc1)NN1C(=O)c2c(c3c4cccc(O)c4n(C4OC(CO)C(O)C(O)C4O)c3c3[nH]c4c(O)cccc4c23)C1=O>)>,\n",
       " <ProteinLigandComplex with 2 components (<KLIFSKinase name=P00533>, <Ligand name=COc1cc2ncnc(Nc3ccc(F)c(Cl)c3)c2cc1OCCCN1CCCCC1>)>,\n",
       " <ProteinLigandComplex with 2 components (<KLIFSKinase name=P00533>, <Ligand name=NS(=O)(=O)c1ccc(NC(=S)Nc2ccc3ncnc(Nc4cccc(Br)c4)c3c2)cc1>)>,\n",
       " <ProteinLigandComplex with 2 components (<KLIFSKinase name=P00533>, <Ligand name=Brc1cccc(Nc2ncnc3cc4[nH]nnc4cc23)c1>)>,\n",
       " <ProteinLigandComplex with 2 components (<KLIFSKinase name=P00533>, <Ligand name=COC(=O)CN1CCC(n2cc(-c3cccc(O)c3)c3c(N)ncnc32)CC1>)>,\n",
       " <ProteinLigandComplex with 2 components (<KLIFSKinase name=P00533>, <Ligand name=c1ccc2sc(-c3ccc(Nc4ncnc5[nH]cnc45)cc3)nc2c1>)>,\n",
       " <ProteinLigandComplex with 2 components (<KLIFSKinase name=P00533>, <Ligand name=Cc1cc2[nH]c3nc(N)nc(NCc4cccc(Cl)c4)c3c2cc1O>)>,\n",
       " <ProteinLigandComplex with 2 components (<KLIFSKinase name=P00533>, <Ligand name=S=C(Nc1ccc(Cl)c(Cl)c1)Nc1ccc2ncnc(Nc3cccc(Br)c3)c2c1>)>,\n",
       " <ProteinLigandComplex with 2 components (<KLIFSKinase name=P00533>, <Ligand name=COc1cc2ncnc(Nc3ccc(F)c(Cl)c3)c2cc1OCCO>)>,\n",
       " <ProteinLigandComplex with 2 components (<KLIFSKinase name=P00533>, <Ligand name=Nc1ncnc2c1ncn2-c1ccccc1>)>,\n",
       " <ProteinLigandComplex with 2 components (<KLIFSKinase name=P00533>, <Ligand name=Brc1cccc(Nc2ncnc3ccc4cc[nH]c4c23)c1>)>,\n",
       " <ProteinLigandComplex with 2 components (<KLIFSKinase name=P00533>, <Ligand name=COc1cc2ncc(C#N)c(Nc3ccc(Cl)cc3F)c2cc1OC>)>,\n",
       " <ProteinLigandComplex with 2 components (<KLIFSKinase name=P00533>, <Ligand name=CCC(=O)N[C@H]1CC[C@H](N2C(=O)N(c3ccccc3Cl)Cc3cnc(Nc4ccc(N5CCN(C)CC5)c(C)c4)nc32)CC1>)>,\n",
       " <ProteinLigandComplex with 2 components (<KLIFSKinase name=P00533>, <Ligand name=CN(C)CCNc1cc2ncnc(Nc3cccc(Br)c3)c2cn1>)>,\n",
       " <ProteinLigandComplex with 2 components (<KLIFSKinase name=P00533>, <Ligand name=CN(C)c1ccc(/C=C/C(=O)c2ccc3ncc(C(N)=O)c(Nc4ccc(Cl)cc4)c3c2)cc1>)>,\n",
       " <ProteinLigandComplex with 2 components (<KLIFSKinase name=P00533>, <Ligand name=C=CC(=O)Nc1ccc2ncnc(Nc3ccc(C(C)(C)C)cc3)c2c1>)>,\n",
       " <ProteinLigandComplex with 2 components (<KLIFSKinase name=P00533>, <Ligand name=O=C(CCl)OCCn1c(=O)oc2cc3ncnc(Nc4ccc(N5CCCCC5)c(Cl)c4)c3cc21>)>,\n",
       " <ProteinLigandComplex with 2 components (<KLIFSKinase name=P00533>, <Ligand name=CS(=O)(=O)CCNc1nc(-c2ccc3ncnc(Nc4ccc(OCc5cccc(C(F)(F)F)c5)cc4)c3c2)cs1>)>,\n",
       " <ProteinLigandComplex with 2 components (<KLIFSKinase name=P00533>, <Ligand name=CN(C)CCCCC(=O)Nc1cccc(-c2c(-c3ccccc3)oc3ncnc(N[C@H](CO)c4ccccc4)c23)c1>)>,\n",
       " <ProteinLigandComplex with 2 components (<KLIFSKinase name=P00533>, <Ligand name=Nc1ncnc2c1c(-c1ccccc1)cn2C1CC(O)C1>)>,\n",
       " <ProteinLigandComplex with 2 components (<KLIFSKinase name=P00533>, <Ligand name=NC1CCN(Cc2ccn3ncnc(Nc4ccc(OCc5ccccn5)c(Cl)c4)c23)CC1>)>,\n",
       " <ProteinLigandComplex with 2 components (<KLIFSKinase name=P00533>, <Ligand name=CC(C)(C)NC(=O)c1cccc(Oc2ccc(Nc3ncnc4ccn(CCO)c34)cc2Cl)c1>)>,\n",
       " <ProteinLigandComplex with 2 components (<KLIFSKinase name=P00533>, <Ligand name=COC(=O)C1=Cc2c(ncnc2Nc2ccc(Oc3cccc4sccc34)c(Cl)c2)NCC1>)>,\n",
       " <ProteinLigandComplex with 2 components (<KLIFSKinase name=P00533>, <Ligand name=COc1cc2c(Nc3ccc(Cl)cc3F)ncnc2cc1OCCCN1CCOCC1>)>,\n",
       " <ProteinLigandComplex with 2 components (<KLIFSKinase name=P00533>, <Ligand name=C=CC(=O)Nc1cccc(-c2nccc(Nc3cc(C)[nH]n3)n2)c1>)>,\n",
       " <ProteinLigandComplex with 2 components (<KLIFSKinase name=P00533>, <Ligand name=CCC(=O)Nc1cc2c(Nc3ccc4c(ccn4Cc4ccccn4)c3)ncnc2cc1OC>)>,\n",
       " <ProteinLigandComplex with 2 components (<KLIFSKinase name=P00533>, <Ligand name=C=CC(=O)Nc1cccc(NC(=O)Nc2ccnc(Nc3ccc(OC)cc3OC)n2)c1>)>,\n",
       " <ProteinLigandComplex with 2 components (<KLIFSKinase name=P00533>, <Ligand name=O=C(CN1CCCC1)Nc1ccc2ncnc(Nc3ccc(Cl)cc3)c2c1>)>,\n",
       " <ProteinLigandComplex with 2 components (<KLIFSKinase name=P00533>, <Ligand name=CN1CCN(Cc2ccc(-c3ccc4ncnc(Nc5ccc(OCc6cccc(F)c6)c(Cl)c5)c4c3)o2)CC1.Cc1ccc(S(=O)(=O)O)cc1>)>,\n",
       " <ProteinLigandComplex with 2 components (<KLIFSKinase name=P00533>, <Ligand name=O=C1COc2cc3ncnc(Nc4cccc(C(F)(F)F)c4)c3cc2N1CCCN1CCOCC1>)>,\n",
       " <ProteinLigandComplex with 2 components (<KLIFSKinase name=P00533>, <Ligand name=CN(C)C/C=C/C(=O)Nc1cccc(Nc2nc(N/N=C/c3ccc(F)cc3)ncc2Cl)c1>)>,\n",
       " <ProteinLigandComplex with 2 components (<KLIFSKinase name=P00533>, <Ligand name=C#Cc1cccc(Nc2ncnc3cc(OC(C)COC)c4c(c23)OCCO4)c1>)>,\n",
       " <ProteinLigandComplex with 2 components (<KLIFSKinase name=P00533>, <Ligand name=C=CC(=O)Nc1ccc(-n2c(=O)cnc3cnc(Nc4ccc(N5CCN(C)CC5)cc4)nc32)cc1>)>,\n",
       " <ProteinLigandComplex with 2 components (<KLIFSKinase name=P00533>, <Ligand name=N#CC(C#N)=CNc1ccc(O)cc1>)>,\n",
       " <ProteinLigandComplex with 2 components (<KLIFSKinase name=P00533>, <Ligand name=O=C(/C=C/c1ccccc1)Nc1cc(Cl)cc(Cl)c1>)>,\n",
       " <ProteinLigandComplex with 2 components (<KLIFSKinase name=P00533>, <Ligand name=COc1cc2ncnc(Nc3cccc(Cl)c3F)c2cc1CN[C@H](C)C(N)=O>)>,\n",
       " <ProteinLigandComplex with 2 components (<KLIFSKinase name=P00533>, <Ligand name=Brc1cc2c(NCc3cccs3)ncnc2s1>)>,\n",
       " <ProteinLigandComplex with 2 components (<KLIFSKinase name=P00533>, <Ligand name=COc1cc(C2=C(c3c[nH]c4ccc(Br)cc34)C(=O)NC2=O)cc(OC)c1OC>)>,\n",
       " <ProteinLigandComplex with 2 components (<KLIFSKinase name=P00533>, <Ligand name=CCOc1cc(/C=C(\\C#N)C(N)=O)cc(CSc2ccc(C)cc2)c1O>)>,\n",
       " <ProteinLigandComplex with 2 components (<KLIFSKinase name=P00533>, <Ligand name=CCOC(=O)C1=C(N)N(c2cccnc2)C2=C(C(=O)CCC2)C1c1cc2cc(Cl)ccc2n2nnnc12>)>,\n",
       " <ProteinLigandComplex with 2 components (<KLIFSKinase name=P00533>, <Ligand name=NC(=S)NNc1nncc2ccccc12>)>,\n",
       " <ProteinLigandComplex with 2 components (<KLIFSKinase name=P00533>, <Ligand name=Brc1cccc(Nc2ncnc3ccncc23)c1NCCCCN1CCOCC1>)>,\n",
       " <ProteinLigandComplex with 2 components (<KLIFSKinase name=P00533>, <Ligand name=O=C(C#CCCN1CCCCC1)Nc1cc2c(Nc3ccc(F)c(Cl)c3)ncnc2cn1>)>,\n",
       " <ProteinLigandComplex with 2 components (<KLIFSKinase name=P00533>, <Ligand name=CS(=O)(=O)CCNC(=O)Nc1cc2c(Nc3ccc(F)c(Cl)c3)ncnc2cc1O[C@H]1CCOC1>)>,\n",
       " <ProteinLigandComplex with 2 components (<KLIFSKinase name=P00533>, <Ligand name=C=CC(=O)Nc1cc(Nc2nccc(NC(=O)c3cccc4ccccc34)n2)c(OC)cc1N1CCN(C)CC1>)>,\n",
       " <ProteinLigandComplex with 2 components (<KLIFSKinase name=P00533>, <Ligand name=O=C(/C=C/CN1CCCCC1)N1CCOc2cc3ncnc(Nc4ccc(F)c(Cl)c4)c3cc21>)>,\n",
       " <ProteinLigandComplex with 2 components (<KLIFSKinase name=P00533>, <Ligand name=C=CC(=O)Nc1ccc2ncnc(Nc3ccc(Br)cc3C)c2c1>)>,\n",
       " <ProteinLigandComplex with 2 components (<KLIFSKinase name=P00533>, <Ligand name=Clc1cccc(CNc2[nH]nc3ncnc(Nc4cccc(Cl)c4)c23)c1>)>,\n",
       " <ProteinLigandComplex with 2 components (<KLIFSKinase name=P00533>, <Ligand name=COc1cc(C=C(C#N)C#N)ccc1O>)>,\n",
       " <ProteinLigandComplex with 2 components (<KLIFSKinase name=P00533>, <Ligand name=COc1ccc(C2=NN(c3nc(-c4ccc(Cl)cc4)cs3)C(c3ccc(C)cc3)C2)cc1>)>,\n",
       " <ProteinLigandComplex with 2 components (<KLIFSKinase name=P00533>, <Ligand name=N#CCNCc1ccc(-c2cc3ncnc(Nc4ccc(OCc5cccc(F)c5)c(Cl)c4)c3s2)o1>)>,\n",
       " <ProteinLigandComplex with 2 components (<KLIFSKinase name=P00533>, <Ligand name=C=CC(=O)N1CCC[C@@H](n2nc(-c3ccc(C(F)(F)F)cc3)c3c(N)ncnc32)C1>)>,\n",
       " <ProteinLigandComplex with 2 components (<KLIFSKinase name=P00533>, <Ligand name=C#Cc1cccc(Nc2ncnc3cc(OC)c(NC(=O)/C=C/CNC4CC4)cc23)c1>)>,\n",
       " <ProteinLigandComplex with 2 components (<KLIFSKinase name=P00533>, <Ligand name=Cc1ccc(C2=NN(C3=NC(=O)CS3)C(c3cccc4ccccc34)C2)cc1C>)>,\n",
       " <ProteinLigandComplex with 2 components (<KLIFSKinase name=P00533>, <Ligand name=Cc1ncc([N+](=O)[O-])n1C/C(=N/NC(=O)c1ccc(O)cc1)c1ccc(Br)cc1>)>,\n",
       " <ProteinLigandComplex with 2 components (<KLIFSKinase name=P00533>, <Ligand name=COc1cc2ncc(C#N)c(Nc3cccc(O)c3)c2cc1OC>)>,\n",
       " <ProteinLigandComplex with 2 components (<KLIFSKinase name=P00533>, <Ligand name=N#Cc1cnc2cc3c(cc2c1Nc1cccc(Br)c1)OCO3>)>,\n",
       " <ProteinLigandComplex with 2 components (<KLIFSKinase name=P00533>, <Ligand name=Cc1cc(Nc2ncc3c(n2)N([C@H]2CCN(C(=O)CC(C)C)C2)C(=O)N(c2ccccc2Cl)C3)ccc1N1CCN(C)CC1>)>,\n",
       " <ProteinLigandComplex with 2 components (<KLIFSKinase name=P00533>, <Ligand name=COc1cc2c(Nc3c(F)cc(Br)cc3F)ncnc2cc1OCC1CCN(C)CC1>)>,\n",
       " <ProteinLigandComplex with 2 components (<KLIFSKinase name=P00533>, <Ligand name=CN(C)CCCNC(=O)/C=C/C(=O)Cc1cc2c(Nc3cccc(Br)c3)ncnc2cn1>)>,\n",
       " <ProteinLigandComplex with 2 components (<KLIFSKinase name=P00533>, <Ligand name=Cc1ccc(C(=O)Nc2ccc(CN3CCN(C)CC3)c(C(F)(F)F)c2)cc1NC(=O)c1cccnc1>)>,\n",
       " <ProteinLigandComplex with 2 components (<KLIFSKinase name=P00533>, <Ligand name=C=CC(=O)N1CCC[C@@H](n2nc(-c3ccc(N(C)C)c4ccccc34)c3c(N)ncnc32)C1>)>,\n",
       " <ProteinLigandComplex with 2 components (<KLIFSKinase name=P00533>, <Ligand name=Clc1ccc(C2=NN(c3ccccc3)C(c3cccc4ccccc34)C2)cc1Cl>)>,\n",
       " <ProteinLigandComplex with 2 components (<KLIFSKinase name=P00533>, <Ligand name=C=CC(=O)N1CCC(Oc2nc(Nc3ccc(N4CCOCC4)cc3)nc3[nH]cc(-c4ccnc(NC)c4)c23)CC1>)>,\n",
       " <ProteinLigandComplex with 2 components (<KLIFSKinase name=P00533>, <Ligand name=C=CC(=O)N[C@@H]1CCC[C@@H](n2c(NC(=O)c3cccc(C(F)(F)F)c3)nc3cc(C)ccc32)C1>)>,\n",
       " <ProteinLigandComplex with 2 components (<KLIFSKinase name=P00533>, <Ligand name=C=CC(=O)Nc1cccc(Nc2nc(N/N=C(\\C)c3ccc(C)cc3)ncc2Cl)c1>)>,\n",
       " <ProteinLigandComplex with 2 components (<KLIFSKinase name=P00533>, <Ligand name=Fc1cccc(Nc2ncnc3cc(OCCCN4CCOCC4)c4c(c23)OCCO4)c1>)>,\n",
       " <ProteinLigandComplex with 2 components (<KLIFSKinase name=P00533>, <Ligand name=N#CC(C#N)=Cc1cc(O)c(O)c(O)c1>)>,\n",
       " <ProteinLigandComplex with 2 components (<KLIFSKinase name=P00533>, <Ligand name=COc1ccc(NC(=O)/C=C/CN(C)C)cc1Nc1ncc(Cl)c(-c2cnn3ccccc23)n1>)>,\n",
       " <ProteinLigandComplex with 2 components (<KLIFSKinase name=P00533>, <Ligand name=COc1ccc2c(Nc3cccc(Br)c3)ncnc2c1>)>,\n",
       " <ProteinLigandComplex with 2 components (<KLIFSKinase name=P00533>, <Ligand name=C=CC(=O)NCCSc1nc(-c2ccc(F)c(C(F)(F)F)c2)c(-c2ccnc(Nc3ccccc3)c2)[nH]1>)>,\n",
       " <ProteinLigandComplex with 2 components (<KLIFSKinase name=P00533>, <Ligand name=S=C(Nc1ccc2ncnc(Nc3cccc(Cl)c3)c2c1)Nc1ncc(Cl)s1>)>,\n",
       " <ProteinLigandComplex with 2 components (<KLIFSKinase name=P00533>, <Ligand name=CC(C)n1nc(-c2ccc3c(ccn3C(=O)OC(C)(C)C)c2)c2c(N)ncnc21>)>,\n",
       " <ProteinLigandComplex with 2 components (<KLIFSKinase name=P00533>, <Ligand name=Cn1cnc2c(F)c(Nc3ccc(Br)cc3Cl)c(C(=O)NOCCO)cc21>)>,\n",
       " <ProteinLigandComplex with 2 components (<KLIFSKinase name=P00533>, <Ligand name=CC(C)n1nc(-c2cc3cc(C=O)ccc3s2)c2c(N)ncnc21>)>,\n",
       " <ProteinLigandComplex with 2 components (<KLIFSKinase name=P00533>, <Ligand name=COC(=O)c1ccc(-c2ccc(-c3ccccc3)cc2O)cc1>)>,\n",
       " <ProteinLigandComplex with 2 components (<KLIFSKinase name=P00533>, <Ligand name=CCO/N=C/c1c(N)ncnc1Nc1ccc2c(cnn2Cc2cccc(F)c2)c1>)>,\n",
       " ...]"
      ]
     },
     "execution_count": 11,
     "metadata": {},
     "output_type": "execute_result"
    },
    {
     "name": "stderr",
     "output_type": "stream",
     "text": [
      "Warning (not error because allow_undefined_stereo=True): OEMol has unspecified stereochemistry. oemol.GetTitle(): \n",
      "Problematic bonds are: [<openeye.oechem.OEBondBase; proxy of <Swig Object of type 'OEChem::OEBondBase *' at 0x7f81a718b1b0> >, <openeye.oechem.OEBondBase; proxy of <Swig Object of type 'OEChem::OEBondBase *' at 0x7f81a718ba20> >]\n",
      "\n",
      "Warning (not error because allow_undefined_stereo=True): OEMol has unspecified stereochemistry. oemol.GetTitle(): \n",
      "Problematic atoms are:\n",
      "Atom atomic num: 7, name: , idx: 32, aromatic: False, chiral: True with bonds:\n",
      "bond order: 1, chiral: False to atom atomic num: 6, name: , idx: 31, aromatic: True, chiral: False\n",
      "bond order: 1, chiral: False to atom atomic num: 6, name: , idx: 33, aromatic: False, chiral: False\n",
      "bond order: 1, chiral: False to atom atomic num: 6, name: , idx: 34, aromatic: False, chiral: False\n",
      "\n",
      "Warning (not error because allow_undefined_stereo=True): OEMol has unspecified stereochemistry. oemol.GetTitle(): \n",
      "Problematic atoms are:\n",
      "Atom atomic num: 6, name: , idx: 14, aromatic: False, chiral: True with bonds:\n",
      "bond order: 1, chiral: False to atom atomic num: 7, name: , idx: 7, aromatic: False, chiral: False\n",
      "bond order: 1, chiral: False to atom atomic num: 6, name: , idx: 15, aromatic: True, chiral: False\n",
      "bond order: 1, chiral: False to atom atomic num: 6, name: , idx: 25, aromatic: False, chiral: False\n",
      "bond order: 1, chiral: False to atom atomic num: 1, name: , idx: 36, aromatic: False, chiral: False\n",
      "\n",
      "Warning (not error because allow_undefined_stereo=True): OEMol has unspecified stereochemistry. oemol.GetTitle(): \n",
      "Problematic atoms are:\n",
      "Atom atomic num: 7, name: , idx: 4, aromatic: False, chiral: True with bonds:\n",
      "bond order: 1, chiral: False to atom atomic num: 6, name: , idx: 3, aromatic: False, chiral: False\n",
      "bond order: 1, chiral: False to atom atomic num: 6, name: , idx: 5, aromatic: False, chiral: False\n",
      "bond order: 1, chiral: False to atom atomic num: 6, name: , idx: 27, aromatic: False, chiral: True\n",
      "\n",
      "Warning (not error because allow_undefined_stereo=True): OEMol has unspecified stereochemistry. oemol.GetTitle(): \n",
      "Problematic atoms are:\n",
      "Atom atomic num: 16, name: , idx: 30, aromatic: False, chiral: True with bonds:\n",
      "bond order: 1, chiral: False to atom atomic num: 6, name: , idx: 29, aromatic: True, chiral: False\n",
      "bond order: 1, chiral: False to atom atomic num: 8, name: , idx: 31, aromatic: False, chiral: False\n",
      "bond order: 1, chiral: False to atom atomic num: 6, name: , idx: 32, aromatic: False, chiral: False\n",
      "\n",
      "Warning (not error because allow_undefined_stereo=True): OEMol has unspecified stereochemistry. oemol.GetTitle(): \n",
      "Problematic atoms are:\n",
      "Atom atomic num: 6, name: , idx: 3, aromatic: False, chiral: True with bonds:\n",
      "bond order: 1, chiral: False to atom atomic num: 6, name: , idx: 2, aromatic: False, chiral: False\n",
      "bond order: 1, chiral: False to atom atomic num: 6, name: , idx: 12, aromatic: True, chiral: False\n",
      "bond order: 1, chiral: False to atom atomic num: 6, name: , idx: 4, aromatic: False, chiral: False\n",
      "bond order: 1, chiral: False to atom atomic num: 1, name: , idx: 23, aromatic: False, chiral: False\n",
      "\n",
      "Warning (not error because allow_undefined_stereo=True): OEMol has unspecified stereochemistry. oemol.GetTitle(): \n",
      "Problematic atoms are:\n",
      "Atom atomic num: 7, name: , idx: 25, aromatic: False, chiral: True with bonds:\n",
      "bond order: 1, chiral: False to atom atomic num: 6, name: , idx: 24, aromatic: False, chiral: False\n",
      "bond order: 1, chiral: False to atom atomic num: 6, name: , idx: 36, aromatic: False, chiral: True\n",
      "bond order: 1, chiral: False to atom atomic num: 6, name: , idx: 26, aromatic: False, chiral: False\n",
      "\n",
      "Warning (not error because allow_undefined_stereo=True): OEMol has unspecified stereochemistry. oemol.GetTitle(): \n",
      "Problematic atoms are:\n",
      "Atom atomic num: 7, name: , idx: 31, aromatic: False, chiral: True with bonds:\n",
      "bond order: 1, chiral: False to atom atomic num: 6, name: , idx: 30, aromatic: True, chiral: False\n",
      "bond order: 1, chiral: False to atom atomic num: 6, name: , idx: 32, aromatic: False, chiral: False\n",
      "bond order: 1, chiral: False to atom atomic num: 6, name: , idx: 33, aromatic: False, chiral: False\n",
      "\n",
      "Warning (not error because allow_undefined_stereo=True): OEMol has unspecified stereochemistry. oemol.GetTitle(): \n",
      "Problematic bonds are: [<openeye.oechem.OEBondBase; proxy of <Swig Object of type 'OEChem::OEBondBase *' at 0x7f81a7219e40> >, <openeye.oechem.OEBondBase; proxy of <Swig Object of type 'OEChem::OEBondBase *' at 0x7f81a7219510> >, <openeye.oechem.OEBondBase; proxy of <Swig Object of type 'OEChem::OEBondBase *' at 0x7f81a72194b0> >, <openeye.oechem.OEBondBase; proxy of <Swig Object of type 'OEChem::OEBondBase *' at 0x7f81a7219d80> >]\n",
      "\n",
      "Warning (not error because allow_undefined_stereo=True): OEMol has unspecified stereochemistry. oemol.GetTitle(): \n",
      "Problematic atoms are:\n",
      "Atom atomic num: 7, name: , idx: 20, aromatic: False, chiral: True with bonds:\n",
      "bond order: 1, chiral: False to atom atomic num: 6, name: , idx: 19, aromatic: False, chiral: False\n",
      "bond order: 1, chiral: False to atom atomic num: 6, name: , idx: 21, aromatic: False, chiral: False\n",
      "bond order: 1, chiral: False to atom atomic num: 6, name: , idx: 22, aromatic: False, chiral: False\n",
      "\n",
      "Warning (not error because allow_undefined_stereo=True): OEMol has unspecified stereochemistry. oemol.GetTitle(): \n",
      "Problematic atoms are:\n",
      "Atom atomic num: 6, name: , idx: 19, aromatic: False, chiral: True with bonds:\n",
      "bond order: 1, chiral: False to atom atomic num: 7, name: , idx: 7, aromatic: False, chiral: False\n",
      "bond order: 1, chiral: False to atom atomic num: 6, name: , idx: 20, aromatic: True, chiral: False\n",
      "bond order: 1, chiral: False to atom atomic num: 6, name: , idx: 27, aromatic: False, chiral: False\n",
      "bond order: 1, chiral: False to atom atomic num: 1, name: , idx: 38, aromatic: False, chiral: False\n",
      "\n",
      "Warning (not error because allow_undefined_stereo=True): OEMol has unspecified stereochemistry. oemol.GetTitle(): \n",
      "Problematic atoms are:\n",
      "Atom atomic num: 6, name: , idx: 22, aromatic: False, chiral: True with bonds:\n",
      "bond order: 1, chiral: False to atom atomic num: 6, name: , idx: 16, aromatic: False, chiral: False\n",
      "bond order: 1, chiral: False to atom atomic num: 6, name: , idx: 5, aromatic: False, chiral: False\n",
      "bond order: 1, chiral: False to atom atomic num: 6, name: , idx: 23, aromatic: False, chiral: False\n",
      "bond order: 1, chiral: False to atom atomic num: 1, name: , idx: 55, aromatic: False, chiral: False\n",
      "\n",
      "Warning (not error because allow_undefined_stereo=True): OEMol has unspecified stereochemistry. oemol.GetTitle(): \n",
      "Problematic bonds are: [<openeye.oechem.OEBondBase; proxy of <Swig Object of type 'OEChem::OEBondBase *' at 0x7f81a71e6cc0> >]\n",
      "\n",
      "Warning (not error because allow_undefined_stereo=True): OEMol has unspecified stereochemistry. oemol.GetTitle(): \n",
      "Problematic atoms are:\n",
      "Atom atomic num: 6, name: , idx: 15, aromatic: False, chiral: True with bonds:\n",
      "bond order: 1, chiral: False to atom atomic num: 6, name: , idx: 14, aromatic: False, chiral: False\n",
      "bond order: 1, chiral: False to atom atomic num: 7, name: , idx: 3, aromatic: False, chiral: False\n",
      "bond order: 1, chiral: False to atom atomic num: 6, name: , idx: 16, aromatic: True, chiral: False\n",
      "bond order: 1, chiral: False to atom atomic num: 1, name: , idx: 30, aromatic: False, chiral: False\n",
      "\n",
      "Warning (not error because allow_undefined_stereo=True): OEMol has unspecified stereochemistry. oemol.GetTitle(): \n",
      "Problematic atoms are:\n",
      "Atom atomic num: 6, name: , idx: 20, aromatic: False, chiral: True with bonds:\n",
      "bond order: 1, chiral: False to atom atomic num: 7, name: , idx: 8, aromatic: False, chiral: False\n",
      "bond order: 1, chiral: False to atom atomic num: 6, name: , idx: 21, aromatic: True, chiral: False\n",
      "bond order: 1, chiral: False to atom atomic num: 6, name: , idx: 28, aromatic: False, chiral: False\n",
      "bond order: 1, chiral: False to atom atomic num: 1, name: , idx: 42, aromatic: False, chiral: False\n",
      "\n",
      "Warning (not error because allow_undefined_stereo=True): OEMol has unspecified stereochemistry. oemol.GetTitle(): \n",
      "Problematic atoms are:\n",
      "Atom atomic num: 16, name: , idx: 13, aromatic: False, chiral: True with bonds:\n",
      "bond order: 2, chiral: False to atom atomic num: 7, name: , idx: 12, aromatic: False, chiral: False\n",
      "bond order: 1, chiral: False to atom atomic num: 6, name: , idx: 6, aromatic: True, chiral: False\n",
      "bond order: 1, chiral: False to atom atomic num: 6, name: , idx: 14, aromatic: True, chiral: False\n",
      "\n"
     ]
    },
    {
     "name": "stderr",
     "output_type": "stream",
     "text": [
      "Warning (not error because allow_undefined_stereo=True): OEMol has unspecified stereochemistry. oemol.GetTitle(): \n",
      "Problematic atoms are:\n",
      "Atom atomic num: 6, name: , idx: 15, aromatic: False, chiral: True with bonds:\n",
      "bond order: 1, chiral: False to atom atomic num: 6, name: , idx: 14, aromatic: False, chiral: False\n",
      "bond order: 1, chiral: False to atom atomic num: 7, name: , idx: 5, aromatic: False, chiral: False\n",
      "bond order: 1, chiral: False to atom atomic num: 6, name: , idx: 16, aromatic: True, chiral: False\n",
      "bond order: 1, chiral: False to atom atomic num: 1, name: , idx: 33, aromatic: False, chiral: False\n",
      "\n",
      "Warning (not error because allow_undefined_stereo=True): OEMol has unspecified stereochemistry. oemol.GetTitle(): \n",
      "Problematic atoms are:\n",
      "Atom atomic num: 7, name: , idx: 33, aromatic: False, chiral: True with bonds:\n",
      "bond order: 1, chiral: False to atom atomic num: 6, name: , idx: 32, aromatic: False, chiral: False\n",
      "bond order: 1, chiral: False to atom atomic num: 6, name: , idx: 44, aromatic: False, chiral: True\n",
      "bond order: 1, chiral: False to atom atomic num: 6, name: , idx: 34, aromatic: False, chiral: False\n",
      "\n",
      "Warning (not error because allow_undefined_stereo=True): OEMol has unspecified stereochemistry. oemol.GetTitle(): \n",
      "Problematic atoms are:\n",
      "Atom atomic num: 6, name: , idx: 6, aromatic: False, chiral: True with bonds:\n",
      "bond order: 1, chiral: False to atom atomic num: 6, name: , idx: 5, aromatic: True, chiral: False\n",
      "bond order: 1, chiral: False to atom atomic num: 7, name: , idx: 18, aromatic: False, chiral: False\n",
      "bond order: 1, chiral: False to atom atomic num: 6, name: , idx: 7, aromatic: False, chiral: False\n",
      "bond order: 1, chiral: False to atom atomic num: 1, name: , idx: 37, aromatic: False, chiral: False\n",
      "\n",
      "Warning (not error because allow_undefined_stereo=True): OEMol has unspecified stereochemistry. oemol.GetTitle(): \n",
      "Problematic atoms are:\n",
      "Atom atomic num: 6, name: , idx: 16, aromatic: False, chiral: True with bonds:\n",
      "bond order: 1, chiral: False to atom atomic num: 6, name: , idx: 15, aromatic: False, chiral: False\n",
      "bond order: 1, chiral: False to atom atomic num: 7, name: , idx: 5, aromatic: False, chiral: False\n",
      "bond order: 1, chiral: False to atom atomic num: 6, name: , idx: 17, aromatic: True, chiral: False\n",
      "bond order: 1, chiral: False to atom atomic num: 1, name: , idx: 32, aromatic: False, chiral: False\n",
      "\n",
      "Warning (not error because allow_undefined_stereo=True): OEMol has unspecified stereochemistry. oemol.GetTitle(): \n",
      "Problematic atoms are:\n",
      "Atom atomic num: 6, name: , idx: 6, aromatic: False, chiral: True with bonds:\n",
      "bond order: 1, chiral: False to atom atomic num: 6, name: , idx: 5, aromatic: True, chiral: False\n",
      "bond order: 1, chiral: False to atom atomic num: 7, name: , idx: 17, aromatic: False, chiral: False\n",
      "bond order: 1, chiral: False to atom atomic num: 6, name: , idx: 7, aromatic: False, chiral: False\n",
      "bond order: 1, chiral: False to atom atomic num: 1, name: , idx: 31, aromatic: False, chiral: False\n",
      "\n",
      "Warning (not error because allow_undefined_stereo=True): OEMol has unspecified stereochemistry. oemol.GetTitle(): \n",
      "Problematic atoms are:\n",
      "Atom atomic num: 7, name: , idx: 30, aromatic: False, chiral: True with bonds:\n",
      "bond order: 1, chiral: False to atom atomic num: 6, name: , idx: 29, aromatic: False, chiral: False\n",
      "bond order: 1, chiral: False to atom atomic num: 6, name: , idx: 36, aromatic: False, chiral: False\n",
      "bond order: 1, chiral: False to atom atomic num: 6, name: , idx: 31, aromatic: False, chiral: False\n",
      "\n",
      "Warning (not error because allow_undefined_stereo=True): OEMol has unspecified stereochemistry. oemol.GetTitle(): \n",
      "Problematic atoms are:\n",
      "Atom atomic num: 6, name: , idx: 14, aromatic: False, chiral: True with bonds:\n",
      "bond order: 1, chiral: False to atom atomic num: 6, name: , idx: 12, aromatic: False, chiral: False\n",
      "bond order: 1, chiral: False to atom atomic num: 6, name: , idx: 15, aromatic: True, chiral: False\n",
      "bond order: 1, chiral: False to atom atomic num: 7, name: , idx: 23, aromatic: False, chiral: False\n",
      "bond order: 1, chiral: False to atom atomic num: 1, name: , idx: 59, aromatic: False, chiral: False\n",
      "\n",
      "Warning (not error because allow_undefined_stereo=True): OEMol has unspecified stereochemistry. oemol.GetTitle(): \n",
      "Problematic atoms are:\n",
      "Atom atomic num: 6, name: , idx: 4, aromatic: False, chiral: True with bonds:\n",
      "bond order: 1, chiral: False to atom atomic num: 6, name: , idx: 2, aromatic: False, chiral: False\n",
      "bond order: 1, chiral: False to atom atomic num: 6, name: , idx: 5, aromatic: False, chiral: False\n",
      "bond order: 1, chiral: False to atom atomic num: 6, name: , idx: 14, aromatic: True, chiral: False\n",
      "bond order: 1, chiral: False to atom atomic num: 1, name: , idx: 35, aromatic: False, chiral: False\n",
      "\n",
      "Warning (not error because allow_undefined_stereo=True): OEMol has unspecified stereochemistry. oemol.GetTitle(): \n",
      "Problematic atoms are:\n",
      "Atom atomic num: 6, name: , idx: 18, aromatic: False, chiral: True with bonds:\n",
      "bond order: 1, chiral: False to atom atomic num: 6, name: , idx: 17, aromatic: False, chiral: False\n",
      "bond order: 1, chiral: False to atom atomic num: 35, name: , idx: 19, aromatic: False, chiral: False\n",
      "bond order: 1, chiral: False to atom atomic num: 6, name: , idx: 20, aromatic: False, chiral: False\n",
      "bond order: 1, chiral: False to atom atomic num: 1, name: , idx: 33, aromatic: False, chiral: False\n",
      "\n",
      "Warning (not error because allow_undefined_stereo=True): OEMol has unspecified stereochemistry. oemol.GetTitle(): \n",
      "Problematic atoms are:\n",
      "Atom atomic num: 6, name: , idx: 10, aromatic: False, chiral: True with bonds:\n",
      "bond order: 1, chiral: False to atom atomic num: 6, name: , idx: 1, aromatic: False, chiral: False\n",
      "bond order: 1, chiral: False to atom atomic num: 8, name: , idx: 11, aromatic: False, chiral: False\n",
      "bond order: 1, chiral: False to atom atomic num: 6, name: , idx: 12, aromatic: False, chiral: False\n",
      "bond order: 1, chiral: False to atom atomic num: 1, name: , idx: 54, aromatic: False, chiral: False\n",
      "Atom atomic num: 6, name: , idx: 27, aromatic: False, chiral: True with bonds:\n",
      "bond order: 1, chiral: False to atom atomic num: 6, name: , idx: 26, aromatic: False, chiral: False\n",
      "bond order: 1, chiral: False to atom atomic num: 8, name: , idx: 28, aromatic: False, chiral: False\n",
      "bond order: 1, chiral: False to atom atomic num: 6, name: , idx: 29, aromatic: False, chiral: False\n",
      "bond order: 1, chiral: False to atom atomic num: 1, name: , idx: 65, aromatic: False, chiral: False\n",
      "\n",
      "Warning (not error because allow_undefined_stereo=True): OEMol has unspecified stereochemistry. oemol.GetTitle(): \n",
      "Problematic atoms are:\n",
      "Atom atomic num: 6, name: , idx: 13, aromatic: False, chiral: True with bonds:\n",
      "bond order: 1, chiral: False to atom atomic num: 7, name: , idx: 12, aromatic: False, chiral: False\n",
      "bond order: 1, chiral: False to atom atomic num: 6, name: , idx: 14, aromatic: False, chiral: False\n",
      "bond order: 1, chiral: False to atom atomic num: 6, name: , idx: 15, aromatic: True, chiral: False\n",
      "bond order: 1, chiral: False to atom atomic num: 1, name: , idx: 35, aromatic: False, chiral: False\n",
      "\n",
      "Warning (not error because allow_undefined_stereo=True): OEMol has unspecified stereochemistry. oemol.GetTitle(): \n",
      "Problematic atoms are:\n",
      "Atom atomic num: 6, name: , idx: 4, aromatic: False, chiral: True with bonds:\n",
      "bond order: 1, chiral: False to atom atomic num: 6, name: , idx: 2, aromatic: False, chiral: False\n",
      "bond order: 1, chiral: False to atom atomic num: 8, name: , idx: 5, aromatic: False, chiral: False\n",
      "bond order: 1, chiral: False to atom atomic num: 6, name: , idx: 22, aromatic: False, chiral: True\n",
      "bond order: 1, chiral: False to atom atomic num: 1, name: , idx: 52, aromatic: False, chiral: False\n",
      "Atom atomic num: 6, name: , idx: 22, aromatic: False, chiral: True with bonds:\n",
      "bond order: 1, chiral: False to atom atomic num: 6, name: , idx: 4, aromatic: False, chiral: True\n",
      "bond order: 1, chiral: False to atom atomic num: 6, name: , idx: 23, aromatic: False, chiral: False\n",
      "bond order: 1, chiral: False to atom atomic num: 6, name: , idx: 24, aromatic: False, chiral: False\n",
      "bond order: 1, chiral: False to atom atomic num: 1, name: , idx: 59, aromatic: False, chiral: False\n",
      "Atom atomic num: 6, name: , idx: 30, aromatic: False, chiral: True with bonds:\n",
      "bond order: 1, chiral: False to atom atomic num: 6, name: , idx: 29, aromatic: False, chiral: False\n",
      "bond order: 1, chiral: False to atom atomic num: 6, name: , idx: 31, aromatic: False, chiral: False\n",
      "bond order: 1, chiral: False to atom atomic num: 6, name: , idx: 32, aromatic: False, chiral: False\n",
      "bond order: 1, chiral: False to atom atomic num: 1, name: , idx: 71, aromatic: False, chiral: False\n",
      "\n"
     ]
    },
    {
     "name": "stderr",
     "output_type": "stream",
     "text": [
      "Warning (not error because allow_undefined_stereo=True): OEMol has unspecified stereochemistry. oemol.GetTitle(): \n",
      "Problematic atoms are:\n",
      "Atom atomic num: 6, name: , idx: 5, aromatic: False, chiral: True with bonds:\n",
      "bond order: 1, chiral: False to atom atomic num: 6, name: , idx: 4, aromatic: True, chiral: False\n",
      "bond order: 1, chiral: False to atom atomic num: 7, name: , idx: 15, aromatic: False, chiral: False\n",
      "bond order: 1, chiral: False to atom atomic num: 6, name: , idx: 6, aromatic: False, chiral: False\n",
      "bond order: 1, chiral: False to atom atomic num: 1, name: , idx: 29, aromatic: False, chiral: False\n",
      "\n",
      "Warning (not error because allow_undefined_stereo=True): OEMol has unspecified stereochemistry. oemol.GetTitle(): \n",
      "Problematic atoms are:\n",
      "Atom atomic num: 6, name: , idx: 15, aromatic: False, chiral: True with bonds:\n",
      "bond order: 1, chiral: False to atom atomic num: 6, name: , idx: 14, aromatic: False, chiral: False\n",
      "bond order: 1, chiral: False to atom atomic num: 7, name: , idx: 3, aromatic: False, chiral: False\n",
      "bond order: 1, chiral: False to atom atomic num: 6, name: , idx: 16, aromatic: True, chiral: False\n",
      "bond order: 1, chiral: False to atom atomic num: 1, name: , idx: 30, aromatic: False, chiral: False\n",
      "\n",
      "Warning (not error because allow_undefined_stereo=True): OEMol has unspecified stereochemistry. oemol.GetTitle(): \n",
      "Problematic atoms are:\n",
      "Atom atomic num: 7, name: , idx: 8, aromatic: False, chiral: True with bonds:\n",
      "bond order: 1, chiral: False to atom atomic num: 6, name: , idx: 7, aromatic: False, chiral: False\n",
      "bond order: 1, chiral: False to atom atomic num: 6, name: , idx: 9, aromatic: True, chiral: False\n",
      "bond order: 1, chiral: False to atom atomic num: 6, name: , idx: 28, aromatic: False, chiral: False\n",
      "\n",
      "Warning (not error because allow_undefined_stereo=True): OEMol has unspecified stereochemistry. oemol.GetTitle(): \n",
      "Problematic atoms are:\n",
      "Atom atomic num: 6, name: , idx: 14, aromatic: False, chiral: True with bonds:\n",
      "bond order: 1, chiral: False to atom atomic num: 7, name: , idx: 7, aromatic: False, chiral: False\n",
      "bond order: 1, chiral: False to atom atomic num: 6, name: , idx: 15, aromatic: True, chiral: False\n",
      "bond order: 1, chiral: False to atom atomic num: 6, name: , idx: 25, aromatic: False, chiral: False\n",
      "bond order: 1, chiral: False to atom atomic num: 1, name: , idx: 35, aromatic: False, chiral: False\n",
      "\n",
      "Warning (not error because allow_undefined_stereo=True): OEMol has unspecified stereochemistry. oemol.GetTitle(): \n",
      "Problematic atoms are:\n",
      "Atom atomic num: 16, name: , idx: 22, aromatic: False, chiral: True with bonds:\n",
      "bond order: 1, chiral: False to atom atomic num: 6, name: , idx: 21, aromatic: True, chiral: False\n",
      "bond order: 1, chiral: False to atom atomic num: 6, name: , idx: 23, aromatic: False, chiral: False\n",
      "bond order: 1, chiral: False to atom atomic num: 8, name: , idx: 24, aromatic: False, chiral: False\n",
      "\n",
      "Warning (not error because allow_undefined_stereo=True): OEMol has unspecified stereochemistry. oemol.GetTitle(): \n",
      "Problematic atoms are:\n",
      "Atom atomic num: 7, name: , idx: 5, aromatic: False, chiral: True with bonds:\n",
      "bond order: 1, chiral: False to atom atomic num: 6, name: , idx: 4, aromatic: False, chiral: False\n",
      "bond order: 1, chiral: False to atom atomic num: 6, name: , idx: 6, aromatic: False, chiral: False\n",
      "bond order: 1, chiral: False to atom atomic num: 6, name: , idx: 7, aromatic: True, chiral: False\n",
      "\n",
      "Warning (not error because allow_undefined_stereo=True): OEMol has unspecified stereochemistry. oemol.GetTitle(): \n",
      "Problematic atoms are:\n",
      "Atom atomic num: 7, name: , idx: 16, aromatic: False, chiral: True with bonds:\n",
      "bond order: 1, chiral: False to atom atomic num: 6, name: , idx: 15, aromatic: False, chiral: False\n",
      "bond order: 1, chiral: False to atom atomic num: 6, name: , idx: 1, aromatic: False, chiral: True\n",
      "bond order: 1, chiral: False to atom atomic num: 6, name: , idx: 17, aromatic: True, chiral: False\n",
      "\n",
      "Warning (not error because allow_undefined_stereo=True): OEMol has unspecified stereochemistry. oemol.GetTitle(): \n",
      "Problematic atoms are:\n",
      "Atom atomic num: 7, name: , idx: 23, aromatic: False, chiral: True with bonds:\n",
      "bond order: 1, chiral: False to atom atomic num: 6, name: , idx: 22, aromatic: True, chiral: False\n",
      "bond order: 1, chiral: False to atom atomic num: 6, name: , idx: 30, aromatic: False, chiral: False\n",
      "bond order: 1, chiral: False to atom atomic num: 6, name: , idx: 24, aromatic: False, chiral: False\n",
      "Atom atomic num: 7, name: , idx: 27, aromatic: False, chiral: True with bonds:\n",
      "bond order: 1, chiral: False to atom atomic num: 6, name: , idx: 26, aromatic: False, chiral: False\n",
      "bond order: 1, chiral: False to atom atomic num: 6, name: , idx: 28, aromatic: False, chiral: False\n",
      "bond order: 1, chiral: False to atom atomic num: 6, name: , idx: 29, aromatic: False, chiral: False\n",
      "\n",
      "Warning (not error because allow_undefined_stereo=True): OEMol has unspecified stereochemistry. oemol.GetTitle(): \n",
      "Problematic atoms are:\n",
      "Atom atomic num: 7, name: , idx: 30, aromatic: False, chiral: True with bonds:\n",
      "bond order: 1, chiral: False to atom atomic num: 6, name: , idx: 29, aromatic: True, chiral: False\n",
      "bond order: 1, chiral: False to atom atomic num: 6, name: , idx: 31, aromatic: False, chiral: False\n",
      "bond order: 1, chiral: False to atom atomic num: 6, name: , idx: 32, aromatic: False, chiral: False\n",
      "\n",
      "Warning (not error because allow_undefined_stereo=True): OEMol has unspecified stereochemistry. oemol.GetTitle(): \n",
      "Problematic atoms are:\n",
      "Atom atomic num: 6, name: , idx: 28, aromatic: False, chiral: True with bonds:\n",
      "bond order: 1, chiral: False to atom atomic num: 6, name: , idx: 27, aromatic: False, chiral: False\n",
      "bond order: 1, chiral: False to atom atomic num: 16, name: , idx: 32, aromatic: False, chiral: False\n",
      "bond order: 1, chiral: False to atom atomic num: 6, name: , idx: 29, aromatic: False, chiral: False\n",
      "bond order: 1, chiral: False to atom atomic num: 1, name: , idx: 48, aromatic: False, chiral: False\n",
      "\n",
      "Warning (not error because allow_undefined_stereo=True): OEMol has unspecified stereochemistry. oemol.GetTitle(): \n",
      "Problematic atoms are:\n",
      "Atom atomic num: 7, name: , idx: 20, aromatic: False, chiral: True with bonds:\n",
      "bond order: 1, chiral: False to atom atomic num: 6, name: , idx: 19, aromatic: False, chiral: False\n",
      "bond order: 1, chiral: False to atom atomic num: 6, name: , idx: 21, aromatic: False, chiral: False\n",
      "bond order: 1, chiral: False to atom atomic num: 6, name: , idx: 26, aromatic: False, chiral: False\n",
      "\n",
      "Warning (not error because allow_undefined_stereo=True): OEMol has unspecified stereochemistry. oemol.GetTitle(): \n",
      "Problematic atoms are:\n",
      "Atom atomic num: 6, name: , idx: 7, aromatic: False, chiral: True with bonds:\n",
      "bond order: 1, chiral: False to atom atomic num: 6, name: , idx: 6, aromatic: True, chiral: False\n",
      "bond order: 1, chiral: False to atom atomic num: 7, name: , idx: 18, aromatic: False, chiral: False\n",
      "bond order: 1, chiral: False to atom atomic num: 6, name: , idx: 8, aromatic: False, chiral: False\n",
      "bond order: 1, chiral: False to atom atomic num: 1, name: , idx: 35, aromatic: False, chiral: False\n",
      "\n",
      "Warning (not error because allow_undefined_stereo=True): OEMol has unspecified stereochemistry. oemol.GetTitle(): \n",
      "Problematic atoms are:\n",
      "Atom atomic num: 16, name: , idx: 1, aromatic: False, chiral: True with bonds:\n",
      "bond order: 1, chiral: False to atom atomic num: 6, name: , idx: 0, aromatic: False, chiral: False\n",
      "bond order: 1, chiral: False to atom atomic num: 8, name: , idx: 2, aromatic: False, chiral: False\n",
      "bond order: 1, chiral: False to atom atomic num: 6, name: , idx: 3, aromatic: False, chiral: False\n",
      "\n",
      "Warning (not error because allow_undefined_stereo=True): OEMol has unspecified stereochemistry. oemol.GetTitle(): \n",
      "Problematic atoms are:\n",
      "Atom atomic num: 15, name: , idx: 1, aromatic: False, chiral: True with bonds:\n",
      "bond order: 1, chiral: False to atom atomic num: 7, name: , idx: 0, aromatic: False, chiral: False\n",
      "bond order: 2, chiral: False to atom atomic num: 8, name: , idx: 2, aromatic: False, chiral: False\n",
      "bond order: 1, chiral: False to atom atomic num: 8, name: , idx: 3, aromatic: False, chiral: False\n",
      "bond order: 1, chiral: False to atom atomic num: 7, name: , idx: 27, aromatic: False, chiral: False\n",
      "\n"
     ]
    },
    {
     "name": "stderr",
     "output_type": "stream",
     "text": [
      "Warning (not error because allow_undefined_stereo=True): OEMol has unspecified stereochemistry. oemol.GetTitle(): \n",
      "Problematic atoms are:\n",
      "Atom atomic num: 7, name: , idx: 33, aromatic: False, chiral: True with bonds:\n",
      "bond order: 1, chiral: False to atom atomic num: 6, name: , idx: 32, aromatic: True, chiral: False\n",
      "bond order: 1, chiral: False to atom atomic num: 6, name: , idx: 34, aromatic: False, chiral: False\n",
      "bond order: 1, chiral: False to atom atomic num: 6, name: , idx: 35, aromatic: False, chiral: False\n",
      "\n",
      "Warning (not error because allow_undefined_stereo=True): OEMol has unspecified stereochemistry. oemol.GetTitle(): \n",
      "Problematic atoms are:\n",
      "Atom atomic num: 6, name: , idx: 14, aromatic: False, chiral: True with bonds:\n",
      "bond order: 1, chiral: False to atom atomic num: 6, name: , idx: 13, aromatic: False, chiral: False\n",
      "bond order: 1, chiral: False to atom atomic num: 7, name: , idx: 3, aromatic: False, chiral: False\n",
      "bond order: 1, chiral: False to atom atomic num: 6, name: , idx: 15, aromatic: True, chiral: False\n",
      "bond order: 1, chiral: False to atom atomic num: 1, name: , idx: 44, aromatic: False, chiral: False\n",
      "\n",
      "Warning (not error because allow_undefined_stereo=True): OEMol has unspecified stereochemistry. oemol.GetTitle(): \n",
      "Problematic atoms are:\n",
      "Atom atomic num: 16, name: , idx: 2, aromatic: False, chiral: True with bonds:\n",
      "bond order: 1, chiral: False to atom atomic num: 6, name: , idx: 1, aromatic: False, chiral: False\n",
      "bond order: 1, chiral: False to atom atomic num: 8, name: , idx: 3, aromatic: False, chiral: False\n",
      "bond order: 1, chiral: False to atom atomic num: 6, name: , idx: 4, aromatic: True, chiral: False\n",
      "\n",
      "Warning (not error because allow_undefined_stereo=True): OEMol has unspecified stereochemistry. oemol.GetTitle(): \n",
      "Problematic atoms are:\n",
      "Atom atomic num: 7, name: , idx: 36, aromatic: False, chiral: True with bonds:\n",
      "bond order: 1, chiral: False to atom atomic num: 6, name: , idx: 35, aromatic: True, chiral: False\n",
      "bond order: 1, chiral: False to atom atomic num: 6, name: , idx: 37, aromatic: False, chiral: False\n",
      "bond order: 1, chiral: False to atom atomic num: 6, name: , idx: 38, aromatic: False, chiral: False\n",
      "\n",
      "Warning (not error because allow_undefined_stereo=True): OEMol has unspecified stereochemistry. oemol.GetTitle(): \n",
      "Problematic atoms are:\n",
      "Atom atomic num: 7, name: , idx: 32, aromatic: False, chiral: True with bonds:\n",
      "bond order: 1, chiral: False to atom atomic num: 6, name: , idx: 31, aromatic: True, chiral: False\n",
      "bond order: 1, chiral: False to atom atomic num: 6, name: , idx: 33, aromatic: False, chiral: False\n",
      "bond order: 1, chiral: False to atom atomic num: 6, name: , idx: 34, aromatic: False, chiral: False\n",
      "\n",
      "Warning (not error because allow_undefined_stereo=True): OEMol has unspecified stereochemistry. oemol.GetTitle(): \n",
      "Problematic atoms are:\n",
      "Atom atomic num: 7, name: , idx: 6, aromatic: False, chiral: True with bonds:\n",
      "bond order: 1, chiral: False to atom atomic num: 6, name: , idx: 5, aromatic: False, chiral: False\n",
      "bond order: 1, chiral: False to atom atomic num: 6, name: , idx: 7, aromatic: False, chiral: False\n",
      "bond order: 1, chiral: False to atom atomic num: 6, name: , idx: 10, aromatic: False, chiral: False\n",
      "\n",
      "Warning (not error because allow_undefined_stereo=True): OEMol has unspecified stereochemistry. oemol.GetTitle(): \n",
      "Problematic atoms are:\n",
      "Atom atomic num: 7, name: , idx: 30, aromatic: False, chiral: True with bonds:\n",
      "bond order: 1, chiral: False to atom atomic num: 6, name: , idx: 29, aromatic: False, chiral: False\n",
      "bond order: 1, chiral: False to atom atomic num: 6, name: , idx: 31, aromatic: False, chiral: False\n",
      "bond order: 1, chiral: False to atom atomic num: 6, name: , idx: 32, aromatic: False, chiral: False\n",
      "\n",
      "Warning (not error because allow_undefined_stereo=True): OEMol has unspecified stereochemistry. oemol.GetTitle(): \n",
      "Problematic atoms are:\n",
      "Atom atomic num: 7, name: , idx: 22, aromatic: False, chiral: True with bonds:\n",
      "bond order: 1, chiral: False to atom atomic num: 6, name: , idx: 21, aromatic: False, chiral: False\n",
      "bond order: 1, chiral: False to atom atomic num: 6, name: , idx: 28, aromatic: False, chiral: False\n",
      "bond order: 1, chiral: False to atom atomic num: 6, name: , idx: 23, aromatic: False, chiral: False\n",
      "\n",
      "Warning (not error because allow_undefined_stereo=True): OEMol has unspecified stereochemistry. oemol.GetTitle(): \n",
      "Problematic atoms are:\n",
      "Atom atomic num: 6, name: , idx: 19, aromatic: False, chiral: True with bonds:\n",
      "bond order: 1, chiral: False to atom atomic num: 7, name: , idx: 7, aromatic: False, chiral: False\n",
      "bond order: 1, chiral: False to atom atomic num: 6, name: , idx: 20, aromatic: True, chiral: False\n",
      "bond order: 1, chiral: False to atom atomic num: 6, name: , idx: 27, aromatic: False, chiral: False\n",
      "bond order: 1, chiral: False to atom atomic num: 1, name: , idx: 42, aromatic: False, chiral: False\n",
      "\n",
      "Warning (not error because allow_undefined_stereo=True): OEMol has unspecified stereochemistry. oemol.GetTitle(): \n",
      "Problematic atoms are:\n",
      "Atom atomic num: 7, name: , idx: 37, aromatic: False, chiral: True with bonds:\n",
      "bond order: 1, chiral: False to atom atomic num: 6, name: , idx: 36, aromatic: True, chiral: False\n",
      "bond order: 1, chiral: False to atom atomic num: 6, name: , idx: 38, aromatic: False, chiral: False\n",
      "bond order: 1, chiral: False to atom atomic num: 6, name: , idx: 39, aromatic: False, chiral: False\n",
      "\n",
      "Warning (not error because allow_undefined_stereo=True): OEMol has unspecified stereochemistry. oemol.GetTitle(): \n",
      "Problematic atoms are:\n",
      "Atom atomic num: 7, name: , idx: 25, aromatic: False, chiral: True with bonds:\n",
      "bond order: 1, chiral: False to atom atomic num: 6, name: , idx: 24, aromatic: True, chiral: False\n",
      "bond order: 1, chiral: False to atom atomic num: 6, name: , idx: 32, aromatic: False, chiral: False\n",
      "bond order: 1, chiral: False to atom atomic num: 6, name: , idx: 26, aromatic: False, chiral: False\n",
      "Atom atomic num: 7, name: , idx: 28, aromatic: False, chiral: True with bonds:\n",
      "bond order: 1, chiral: False to atom atomic num: 6, name: , idx: 27, aromatic: False, chiral: False\n",
      "bond order: 1, chiral: False to atom atomic num: 6, name: , idx: 29, aromatic: False, chiral: False\n",
      "bond order: 1, chiral: False to atom atomic num: 6, name: , idx: 30, aromatic: False, chiral: True\n",
      "Atom atomic num: 6, name: , idx: 30, aromatic: False, chiral: True with bonds:\n",
      "bond order: 1, chiral: False to atom atomic num: 7, name: , idx: 28, aromatic: False, chiral: True\n",
      "bond order: 1, chiral: False to atom atomic num: 6, name: , idx: 31, aromatic: False, chiral: False\n",
      "bond order: 1, chiral: False to atom atomic num: 6, name: , idx: 32, aromatic: False, chiral: False\n",
      "bond order: 1, chiral: False to atom atomic num: 1, name: , idx: 62, aromatic: False, chiral: False\n",
      "\n",
      "Warning (not error because allow_undefined_stereo=True): OEMol has unspecified stereochemistry. oemol.GetTitle(): \n",
      "Problematic atoms are:\n",
      "Atom atomic num: 7, name: , idx: 30, aromatic: False, chiral: True with bonds:\n",
      "bond order: 1, chiral: False to atom atomic num: 6, name: , idx: 29, aromatic: False, chiral: False\n",
      "bond order: 1, chiral: False to atom atomic num: 6, name: , idx: 31, aromatic: False, chiral: False\n",
      "bond order: 1, chiral: False to atom atomic num: 6, name: , idx: 32, aromatic: False, chiral: False\n",
      "\n",
      "Warning (not error because allow_undefined_stereo=True): OEMol has unspecified stereochemistry. oemol.GetTitle(): \n",
      "Problematic atoms are:\n",
      "Atom atomic num: 6, name: , idx: 16, aromatic: False, chiral: True with bonds:\n",
      "bond order: 1, chiral: False to atom atomic num: 6, name: , idx: 15, aromatic: False, chiral: False\n",
      "bond order: 1, chiral: False to atom atomic num: 7, name: , idx: 5, aromatic: False, chiral: False\n",
      "bond order: 1, chiral: False to atom atomic num: 6, name: , idx: 17, aromatic: True, chiral: False\n",
      "bond order: 1, chiral: False to atom atomic num: 1, name: , idx: 32, aromatic: False, chiral: False\n",
      "\n",
      "Warning (not error because allow_undefined_stereo=True): OEMol has unspecified stereochemistry. oemol.GetTitle(): \n",
      "Problematic atoms are:\n",
      "Atom atomic num: 7, name: , idx: 9, aromatic: False, chiral: True with bonds:\n",
      "bond order: 1, chiral: False to atom atomic num: 6, name: , idx: 8, aromatic: False, chiral: False\n",
      "bond order: 1, chiral: False to atom atomic num: 6, name: , idx: 10, aromatic: True, chiral: False\n",
      "bond order: 1, chiral: False to atom atomic num: 6, name: , idx: 29, aromatic: False, chiral: False\n",
      "\n"
     ]
    },
    {
     "name": "stderr",
     "output_type": "stream",
     "text": [
      "Warning (not error because allow_undefined_stereo=True): OEMol has unspecified stereochemistry. oemol.GetTitle(): \n",
      "Problematic atoms are:\n",
      "Atom atomic num: 7, name: , idx: 4, aromatic: False, chiral: True with bonds:\n",
      "bond order: 1, chiral: False to atom atomic num: 6, name: , idx: 3, aromatic: False, chiral: False\n",
      "bond order: 1, chiral: False to atom atomic num: 6, name: , idx: 5, aromatic: False, chiral: False\n",
      "bond order: 1, chiral: False to atom atomic num: 6, name: , idx: 6, aromatic: False, chiral: False\n",
      "\n",
      "Warning (not error because allow_undefined_stereo=True): OEMol has unspecified stereochemistry. oemol.GetTitle(): \n",
      "Problematic atoms are:\n",
      "Atom atomic num: 7, name: , idx: 3, aromatic: False, chiral: True with bonds:\n",
      "bond order: 1, chiral: False to atom atomic num: 6, name: , idx: 2, aromatic: False, chiral: False\n",
      "bond order: 1, chiral: False to atom atomic num: 6, name: , idx: 41, aromatic: False, chiral: False\n",
      "bond order: 1, chiral: False to atom atomic num: 6, name: , idx: 4, aromatic: False, chiral: False\n",
      "\n",
      "Warning (not error because allow_undefined_stereo=True): OEMol has unspecified stereochemistry. oemol.GetTitle(): \n",
      "Problematic atoms are:\n",
      "Atom atomic num: 6, name: , idx: 13, aromatic: False, chiral: True with bonds:\n",
      "bond order: 1, chiral: False to atom atomic num: 7, name: , idx: 12, aromatic: False, chiral: False\n",
      "bond order: 1, chiral: False to atom atomic num: 6, name: , idx: 14, aromatic: False, chiral: False\n",
      "bond order: 1, chiral: False to atom atomic num: 6, name: , idx: 16, aromatic: True, chiral: False\n",
      "bond order: 1, chiral: False to atom atomic num: 1, name: , idx: 36, aromatic: False, chiral: False\n",
      "\n",
      "Warning (not error because allow_undefined_stereo=True): OEMol has unspecified stereochemistry. oemol.GetTitle(): \n",
      "Problematic atoms are:\n",
      "Atom atomic num: 6, name: , idx: 7, aromatic: False, chiral: True with bonds:\n",
      "bond order: 1, chiral: False to atom atomic num: 6, name: , idx: 6, aromatic: False, chiral: False\n",
      "bond order: 1, chiral: False to atom atomic num: 6, name: , idx: 8, aromatic: False, chiral: False\n",
      "bond order: 1, chiral: False to atom atomic num: 7, name: , idx: 10, aromatic: False, chiral: False\n",
      "bond order: 1, chiral: False to atom atomic num: 1, name: , idx: 35, aromatic: False, chiral: False\n",
      "\n",
      "Warning (not error because allow_undefined_stereo=True): OEMol has unspecified stereochemistry. oemol.GetTitle(): \n",
      "Problematic atoms are:\n",
      "Atom atomic num: 6, name: , idx: 15, aromatic: False, chiral: True with bonds:\n",
      "bond order: 1, chiral: False to atom atomic num: 6, name: , idx: 14, aromatic: False, chiral: False\n",
      "bond order: 1, chiral: False to atom atomic num: 7, name: , idx: 3, aromatic: False, chiral: False\n",
      "bond order: 1, chiral: False to atom atomic num: 6, name: , idx: 16, aromatic: True, chiral: False\n",
      "bond order: 1, chiral: False to atom atomic num: 1, name: , idx: 30, aromatic: False, chiral: False\n",
      "\n",
      "Warning (not error because allow_undefined_stereo=True): OEMol has unspecified stereochemistry. oemol.GetTitle(): \n",
      "Problematic atoms are:\n",
      "Atom atomic num: 6, name: , idx: 20, aromatic: False, chiral: True with bonds:\n",
      "bond order: 1, chiral: False to atom atomic num: 7, name: , idx: 8, aromatic: False, chiral: False\n",
      "bond order: 1, chiral: False to atom atomic num: 6, name: , idx: 21, aromatic: True, chiral: False\n",
      "bond order: 1, chiral: False to atom atomic num: 6, name: , idx: 28, aromatic: False, chiral: False\n",
      "bond order: 1, chiral: False to atom atomic num: 1, name: , idx: 42, aromatic: False, chiral: False\n",
      "\n",
      "Warning (not error because allow_undefined_stereo=True): OEMol has unspecified stereochemistry. oemol.GetTitle(): \n",
      "Problematic atoms are:\n",
      "Atom atomic num: 6, name: , idx: 25, aromatic: False, chiral: True with bonds:\n",
      "bond order: 1, chiral: False to atom atomic num: 7, name: , idx: 24, aromatic: False, chiral: False\n",
      "bond order: 1, chiral: False to atom atomic num: 6, name: , idx: 3, aromatic: False, chiral: False\n",
      "bond order: 1, chiral: False to atom atomic num: 7, name: , idx: 26, aromatic: False, chiral: False\n",
      "bond order: 1, chiral: False to atom atomic num: 1, name: , idx: 58, aromatic: False, chiral: False\n",
      "\n",
      "Warning (not error because allow_undefined_stereo=True): OEMol has unspecified stereochemistry. oemol.GetTitle(): \n",
      "Problematic atoms are:\n",
      "Atom atomic num: 6, name: , idx: 15, aromatic: False, chiral: True with bonds:\n",
      "bond order: 1, chiral: False to atom atomic num: 6, name: , idx: 14, aromatic: False, chiral: False\n",
      "bond order: 1, chiral: False to atom atomic num: 7, name: , idx: 3, aromatic: False, chiral: False\n",
      "bond order: 1, chiral: False to atom atomic num: 6, name: , idx: 16, aromatic: True, chiral: False\n",
      "bond order: 1, chiral: False to atom atomic num: 1, name: , idx: 30, aromatic: False, chiral: False\n",
      "\n",
      "Warning (not error because allow_undefined_stereo=True): OEMol has unspecified stereochemistry. oemol.GetTitle(): \n",
      "Problematic atoms are:\n",
      "Atom atomic num: 6, name: , idx: 7, aromatic: False, chiral: True with bonds:\n",
      "bond order: 1, chiral: False to atom atomic num: 6, name: , idx: 6, aromatic: False, chiral: False\n",
      "bond order: 1, chiral: False to atom atomic num: 6, name: , idx: 8, aromatic: False, chiral: False\n",
      "bond order: 1, chiral: False to atom atomic num: 6, name: , idx: 37, aromatic: False, chiral: False\n",
      "bond order: 1, chiral: False to atom atomic num: 1, name: , idx: 45, aromatic: False, chiral: False\n",
      "\n",
      "Warning (not error because allow_undefined_stereo=True): OEMol has unspecified stereochemistry. oemol.GetTitle(): \n",
      "Problematic atoms are:\n",
      "Atom atomic num: 7, name: , idx: 36, aromatic: False, chiral: True with bonds:\n",
      "bond order: 1, chiral: False to atom atomic num: 6, name: , idx: 35, aromatic: False, chiral: False\n",
      "bond order: 1, chiral: False to atom atomic num: 6, name: , idx: 42, aromatic: False, chiral: False\n",
      "bond order: 1, chiral: False to atom atomic num: 6, name: , idx: 37, aromatic: False, chiral: False\n",
      "Atom atomic num: 6, name: , idx: 40, aromatic: False, chiral: True with bonds:\n",
      "bond order: 1, chiral: False to atom atomic num: 6, name: , idx: 39, aromatic: False, chiral: False\n",
      "bond order: 1, chiral: False to atom atomic num: 6, name: , idx: 41, aromatic: False, chiral: False\n",
      "bond order: 1, chiral: False to atom atomic num: 6, name: , idx: 42, aromatic: False, chiral: False\n",
      "bond order: 1, chiral: False to atom atomic num: 1, name: , idx: 69, aromatic: False, chiral: False\n",
      "\n",
      "Warning (not error because allow_undefined_stereo=True): OEMol has unspecified stereochemistry. oemol.GetTitle(): \n",
      "Problematic atoms are:\n",
      "Atom atomic num: 6, name: , idx: 13, aromatic: False, chiral: True with bonds:\n",
      "bond order: 1, chiral: False to atom atomic num: 6, name: , idx: 12, aromatic: False, chiral: False\n",
      "bond order: 1, chiral: False to atom atomic num: 16, name: , idx: 17, aromatic: False, chiral: False\n",
      "bond order: 1, chiral: False to atom atomic num: 6, name: , idx: 14, aromatic: False, chiral: False\n",
      "bond order: 1, chiral: False to atom atomic num: 1, name: , idx: 44, aromatic: False, chiral: False\n",
      "\n",
      "Warning (not error because allow_undefined_stereo=True): OEMol has unspecified stereochemistry. oemol.GetTitle(): \n",
      "Problematic atoms are:\n",
      "Atom atomic num: 6, name: , idx: 7, aromatic: False, chiral: True with bonds:\n",
      "bond order: 1, chiral: False to atom atomic num: 6, name: , idx: 6, aromatic: False, chiral: False\n",
      "bond order: 1, chiral: False to atom atomic num: 16, name: , idx: 8, aromatic: False, chiral: False\n",
      "bond order: 1, chiral: False to atom atomic num: 6, name: , idx: 34, aromatic: False, chiral: False\n",
      "bond order: 1, chiral: False to atom atomic num: 1, name: , idx: 42, aromatic: False, chiral: False\n",
      "\n",
      "Warning (not error because allow_undefined_stereo=True): OEMol has unspecified stereochemistry. oemol.GetTitle(): \n",
      "Problematic atoms are:\n",
      "Atom atomic num: 6, name: , idx: 8, aromatic: False, chiral: True with bonds:\n",
      "bond order: 1, chiral: False to atom atomic num: 6, name: , idx: 7, aromatic: True, chiral: False\n",
      "bond order: 1, chiral: False to atom atomic num: 6, name: , idx: 9, aromatic: False, chiral: False\n",
      "bond order: 1, chiral: False to atom atomic num: 6, name: , idx: 21, aromatic: False, chiral: False\n",
      "bond order: 1, chiral: False to atom atomic num: 1, name: , idx: 31, aromatic: False, chiral: False\n",
      "\n",
      "Warning (not error because allow_undefined_stereo=True): OEMol has unspecified stereochemistry. oemol.GetTitle(): \n",
      "Problematic atoms are:\n",
      "Atom atomic num: 7, name: , idx: 7, aromatic: False, chiral: True with bonds:\n",
      "bond order: 1, chiral: False to atom atomic num: 6, name: , idx: 6, aromatic: False, chiral: False\n",
      "bond order: 1, chiral: False to atom atomic num: 6, name: , idx: 8, aromatic: False, chiral: False\n",
      "bond order: 1, chiral: False to atom atomic num: 6, name: , idx: 9, aromatic: False, chiral: False\n",
      "\n"
     ]
    },
    {
     "name": "stderr",
     "output_type": "stream",
     "text": [
      "Warning (not error because allow_undefined_stereo=True): OEMol has unspecified stereochemistry. oemol.GetTitle(): \n",
      "Problematic atoms are:\n",
      "Atom atomic num: 7, name: , idx: 5, aromatic: False, chiral: True with bonds:\n",
      "bond order: 1, chiral: False to atom atomic num: 6, name: , idx: 4, aromatic: True, chiral: False\n",
      "bond order: 1, chiral: False to atom atomic num: 6, name: , idx: 6, aromatic: False, chiral: False\n",
      "bond order: 1, chiral: False to atom atomic num: 6, name: , idx: 7, aromatic: False, chiral: False\n",
      "\n",
      "Warning (not error because allow_undefined_stereo=True): OEMol has unspecified stereochemistry. oemol.GetTitle(): \n",
      "Problematic atoms are:\n",
      "Atom atomic num: 6, name: , idx: 4, aromatic: False, chiral: True with bonds:\n",
      "bond order: 1, chiral: False to atom atomic num: 7, name: , idx: 3, aromatic: False, chiral: False\n",
      "bond order: 1, chiral: False to atom atomic num: 6, name: , idx: 5, aromatic: False, chiral: False\n",
      "bond order: 1, chiral: False to atom atomic num: 6, name: , idx: 42, aromatic: False, chiral: False\n",
      "bond order: 1, chiral: False to atom atomic num: 1, name: , idx: 56, aromatic: False, chiral: False\n",
      "Atom atomic num: 6, name: , idx: 20, aromatic: False, chiral: True with bonds:\n",
      "bond order: 1, chiral: False to atom atomic num: 6, name: , idx: 19, aromatic: False, chiral: False\n",
      "bond order: 1, chiral: False to atom atomic num: 7, name: , idx: 21, aromatic: False, chiral: False\n",
      "bond order: 1, chiral: False to atom atomic num: 6, name: , idx: 25, aromatic: False, chiral: False\n",
      "bond order: 1, chiral: False to atom atomic num: 1, name: , idx: 66, aromatic: False, chiral: False\n",
      "\n",
      "Warning (not error because allow_undefined_stereo=True): OEMol has unspecified stereochemistry. oemol.GetTitle(): \n",
      "Problematic atoms are:\n",
      "Atom atomic num: 7, name: , idx: 32, aromatic: False, chiral: True with bonds:\n",
      "bond order: 1, chiral: False to atom atomic num: 6, name: , idx: 31, aromatic: True, chiral: False\n",
      "bond order: 1, chiral: False to atom atomic num: 6, name: , idx: 33, aromatic: False, chiral: False\n",
      "bond order: 1, chiral: False to atom atomic num: 6, name: , idx: 34, aromatic: False, chiral: False\n",
      "\n",
      "Warning (not error because allow_undefined_stereo=True): OEMol has unspecified stereochemistry. oemol.GetTitle(): \n",
      "Problematic atoms are:\n",
      "Atom atomic num: 6, name: , idx: 26, aromatic: False, chiral: True with bonds:\n",
      "bond order: 1, chiral: False to atom atomic num: 7, name: , idx: 25, aromatic: False, chiral: False\n",
      "bond order: 1, chiral: False to atom atomic num: 6, name: , idx: 3, aromatic: False, chiral: False\n",
      "bond order: 1, chiral: False to atom atomic num: 7, name: , idx: 27, aromatic: False, chiral: False\n",
      "bond order: 1, chiral: False to atom atomic num: 1, name: , idx: 58, aromatic: False, chiral: False\n",
      "\n",
      "Warning (not error because allow_undefined_stereo=True): OEMol has unspecified stereochemistry. oemol.GetTitle(): \n",
      "Problematic atoms are:\n",
      "Atom atomic num: 7, name: , idx: 22, aromatic: False, chiral: True with bonds:\n",
      "bond order: 1, chiral: False to atom atomic num: 6, name: , idx: 21, aromatic: False, chiral: False\n",
      "bond order: 1, chiral: False to atom atomic num: 6, name: , idx: 23, aromatic: False, chiral: False\n",
      "bond order: 1, chiral: False to atom atomic num: 6, name: , idx: 24, aromatic: False, chiral: True\n",
      "\n",
      "Warning (not error because allow_undefined_stereo=True): OEMol has unspecified stereochemistry. oemol.GetTitle(): \n",
      "Problematic atoms are:\n",
      "Atom atomic num: 6, name: , idx: 21, aromatic: False, chiral: True with bonds:\n",
      "bond order: 1, chiral: False to atom atomic num: 6, name: , idx: 1, aromatic: False, chiral: False\n",
      "bond order: 1, chiral: False to atom atomic num: 16, name: , idx: 25, aromatic: False, chiral: False\n",
      "bond order: 1, chiral: False to atom atomic num: 6, name: , idx: 22, aromatic: False, chiral: False\n",
      "bond order: 1, chiral: False to atom atomic num: 1, name: , idx: 36, aromatic: False, chiral: False\n",
      "\n",
      "Warning (not error because allow_undefined_stereo=True): OEMol has unspecified stereochemistry. oemol.GetTitle(): \n",
      "Problematic atoms are:\n",
      "Atom atomic num: 7, name: , idx: 9, aromatic: False, chiral: True with bonds:\n",
      "bond order: 1, chiral: False to atom atomic num: 6, name: , idx: 8, aromatic: False, chiral: False\n",
      "bond order: 1, chiral: False to atom atomic num: 6, name: , idx: 10, aromatic: True, chiral: False\n",
      "bond order: 1, chiral: False to atom atomic num: 6, name: , idx: 41, aromatic: False, chiral: False\n",
      "\n",
      "Warning (not error because allow_undefined_stereo=True): OEMol has unspecified stereochemistry. oemol.GetTitle(): \n",
      "Problematic atoms are:\n",
      "Atom atomic num: 16, name: , idx: 14, aromatic: False, chiral: True with bonds:\n",
      "bond order: 2, chiral: False to atom atomic num: 7, name: , idx: 13, aromatic: False, chiral: False\n",
      "bond order: 1, chiral: False to atom atomic num: 6, name: , idx: 7, aromatic: True, chiral: False\n",
      "bond order: 1, chiral: False to atom atomic num: 6, name: , idx: 15, aromatic: True, chiral: False\n",
      "\n",
      "Warning (not error because allow_undefined_stereo=True): OEMol has unspecified stereochemistry. oemol.GetTitle(): \n",
      "Problematic atoms are:\n",
      "Atom atomic num: 6, name: , idx: 1, aromatic: False, chiral: True with bonds:\n",
      "bond order: 1, chiral: False to atom atomic num: 6, name: , idx: 0, aromatic: False, chiral: False\n",
      "bond order: 1, chiral: False to atom atomic num: 8, name: , idx: 2, aromatic: False, chiral: False\n",
      "bond order: 1, chiral: False to atom atomic num: 6, name: , idx: 3, aromatic: False, chiral: False\n",
      "bond order: 1, chiral: False to atom atomic num: 1, name: , idx: 27, aromatic: False, chiral: False\n",
      "\n",
      "Warning (not error because allow_undefined_stereo=True): OEMol has unspecified stereochemistry. oemol.GetTitle(): \n",
      "Problematic atoms are:\n",
      "Atom atomic num: 7, name: , idx: 31, aromatic: False, chiral: True with bonds:\n",
      "bond order: 1, chiral: False to atom atomic num: 6, name: , idx: 30, aromatic: True, chiral: False\n",
      "bond order: 1, chiral: False to atom atomic num: 6, name: , idx: 32, aromatic: False, chiral: False\n",
      "bond order: 1, chiral: False to atom atomic num: 6, name: , idx: 33, aromatic: False, chiral: False\n",
      "\n",
      "Warning (not error because allow_undefined_stereo=True): OEMol has unspecified stereochemistry. oemol.GetTitle(): \n",
      "Problematic atoms are:\n",
      "Atom atomic num: 7, name: , idx: 30, aromatic: False, chiral: True with bonds:\n",
      "bond order: 1, chiral: False to atom atomic num: 6, name: , idx: 29, aromatic: True, chiral: False\n",
      "bond order: 1, chiral: False to atom atomic num: 6, name: , idx: 31, aromatic: False, chiral: False\n",
      "bond order: 1, chiral: False to atom atomic num: 6, name: , idx: 32, aromatic: False, chiral: False\n",
      "\n",
      "Warning (not error because allow_undefined_stereo=True): OEMol has unspecified stereochemistry. oemol.GetTitle(): \n",
      "Problematic atoms are:\n",
      "Atom atomic num: 7, name: , idx: 9, aromatic: False, chiral: True with bonds:\n",
      "bond order: 1, chiral: False to atom atomic num: 6, name: , idx: 8, aromatic: False, chiral: False\n",
      "bond order: 1, chiral: False to atom atomic num: 6, name: , idx: 10, aromatic: True, chiral: False\n",
      "bond order: 1, chiral: False to atom atomic num: 6, name: , idx: 36, aromatic: False, chiral: False\n",
      "\n",
      "Warning (not error because allow_undefined_stereo=True): OEMol has unspecified stereochemistry. oemol.GetTitle(): \n",
      "Problematic atoms are:\n",
      "Atom atomic num: 7, name: , idx: 6, aromatic: False, chiral: True with bonds:\n",
      "bond order: 1, chiral: False to atom atomic num: 6, name: , idx: 5, aromatic: False, chiral: False\n",
      "bond order: 1, chiral: False to atom atomic num: 6, name: , idx: 7, aromatic: True, chiral: False\n",
      "bond order: 1, chiral: False to atom atomic num: 6, name: , idx: 27, aromatic: False, chiral: False\n",
      "\n",
      "Warning (not error because allow_undefined_stereo=True): OEMol has unspecified stereochemistry. oemol.GetTitle(): \n",
      "Problematic atoms are:\n",
      "Atom atomic num: 7, name: , idx: 4, aromatic: False, chiral: True with bonds:\n",
      "bond order: 1, chiral: False to atom atomic num: 6, name: , idx: 3, aromatic: False, chiral: False\n",
      "bond order: 1, chiral: False to atom atomic num: 6, name: , idx: 5, aromatic: False, chiral: False\n",
      "bond order: 1, chiral: False to atom atomic num: 6, name: , idx: 6, aromatic: False, chiral: False\n",
      "\n",
      "Warning (not error because allow_undefined_stereo=True): OEMol has unspecified stereochemistry. oemol.GetTitle(): \n",
      "Problematic bonds are: [<openeye.oechem.OEBondBase; proxy of <Swig Object of type 'OEChem::OEBondBase *' at 0x7f823cfe34e0> >]\n",
      "\n"
     ]
    },
    {
     "name": "stderr",
     "output_type": "stream",
     "text": [
      "Warning (not error because allow_undefined_stereo=True): OEMol has unspecified stereochemistry. oemol.GetTitle(): \n",
      "Problematic atoms are:\n",
      "Atom atomic num: 7, name: , idx: 9, aromatic: False, chiral: True with bonds:\n",
      "bond order: 1, chiral: False to atom atomic num: 6, name: , idx: 8, aromatic: False, chiral: False\n",
      "bond order: 1, chiral: False to atom atomic num: 6, name: , idx: 10, aromatic: True, chiral: False\n",
      "bond order: 1, chiral: False to atom atomic num: 6, name: , idx: 36, aromatic: False, chiral: False\n",
      "\n",
      "Warning (not error because allow_undefined_stereo=True): OEMol has unspecified stereochemistry. oemol.GetTitle(): \n",
      "Problematic atoms are:\n",
      "Atom atomic num: 6, name: , idx: 4, aromatic: False, chiral: True with bonds:\n",
      "bond order: 1, chiral: False to atom atomic num: 7, name: , idx: 3, aromatic: False, chiral: False\n",
      "bond order: 1, chiral: False to atom atomic num: 6, name: , idx: 5, aromatic: False, chiral: False\n",
      "bond order: 1, chiral: False to atom atomic num: 6, name: , idx: 10, aromatic: False, chiral: False\n",
      "bond order: 1, chiral: False to atom atomic num: 1, name: , idx: 50, aromatic: False, chiral: False\n",
      "\n",
      "Warning (not error because allow_undefined_stereo=True): OEMol has unspecified stereochemistry. oemol.GetTitle(): \n",
      "Problematic atoms are:\n",
      "Atom atomic num: 7, name: , idx: 29, aromatic: False, chiral: True with bonds:\n",
      "bond order: 1, chiral: False to atom atomic num: 6, name: , idx: 28, aromatic: False, chiral: False\n",
      "bond order: 1, chiral: False to atom atomic num: 6, name: , idx: 30, aromatic: False, chiral: False\n",
      "bond order: 1, chiral: False to atom atomic num: 6, name: , idx: 31, aromatic: False, chiral: False\n",
      "\n",
      "Warning (not error because allow_undefined_stereo=True): OEMol has unspecified stereochemistry. oemol.GetTitle(): \n",
      "Problematic atoms are:\n",
      "Atom atomic num: 6, name: , idx: 14, aromatic: False, chiral: True with bonds:\n",
      "bond order: 1, chiral: False to atom atomic num: 7, name: , idx: 7, aromatic: False, chiral: False\n",
      "bond order: 1, chiral: False to atom atomic num: 6, name: , idx: 15, aromatic: True, chiral: False\n",
      "bond order: 1, chiral: False to atom atomic num: 6, name: , idx: 25, aromatic: False, chiral: False\n",
      "bond order: 1, chiral: False to atom atomic num: 1, name: , idx: 35, aromatic: False, chiral: False\n",
      "\n",
      "Warning (not error because allow_undefined_stereo=True): OEMol has unspecified stereochemistry. oemol.GetTitle(): \n",
      "Problematic atoms are:\n",
      "Atom atomic num: 7, name: , idx: 25, aromatic: False, chiral: True with bonds:\n",
      "bond order: 1, chiral: False to atom atomic num: 6, name: , idx: 24, aromatic: True, chiral: False\n",
      "bond order: 1, chiral: False to atom atomic num: 6, name: , idx: 32, aromatic: False, chiral: False\n",
      "bond order: 1, chiral: False to atom atomic num: 6, name: , idx: 26, aromatic: False, chiral: False\n",
      "Atom atomic num: 7, name: , idx: 29, aromatic: False, chiral: True with bonds:\n",
      "bond order: 1, chiral: False to atom atomic num: 6, name: , idx: 28, aromatic: False, chiral: False\n",
      "bond order: 1, chiral: False to atom atomic num: 6, name: , idx: 30, aromatic: False, chiral: False\n",
      "bond order: 1, chiral: False to atom atomic num: 6, name: , idx: 31, aromatic: False, chiral: False\n",
      "\n",
      "Warning (not error because allow_undefined_stereo=True): OEMol has unspecified stereochemistry. oemol.GetTitle(): \n",
      "Problematic atoms are:\n",
      "Atom atomic num: 6, name: , idx: 25, aromatic: False, chiral: True with bonds:\n",
      "bond order: 1, chiral: False to atom atomic num: 6, name: , idx: 24, aromatic: False, chiral: False\n",
      "bond order: 1, chiral: False to atom atomic num: 6, name: , idx: 26, aromatic: False, chiral: False\n",
      "bond order: 1, chiral: False to atom atomic num: 7, name: , idx: 27, aromatic: False, chiral: False\n",
      "bond order: 1, chiral: False to atom atomic num: 1, name: , idx: 60, aromatic: False, chiral: False\n",
      "Atom atomic num: 6, name: , idx: 29, aromatic: False, chiral: True with bonds:\n",
      "bond order: 1, chiral: False to atom atomic num: 7, name: , idx: 27, aromatic: False, chiral: False\n",
      "bond order: 1, chiral: False to atom atomic num: 6, name: , idx: 30, aromatic: False, chiral: False\n",
      "bond order: 1, chiral: False to atom atomic num: 6, name: , idx: 31, aromatic: False, chiral: False\n",
      "bond order: 1, chiral: False to atom atomic num: 1, name: , idx: 67, aromatic: False, chiral: False\n",
      "\n",
      "Warning (not error because allow_undefined_stereo=True): OEMol has unspecified stereochemistry. oemol.GetTitle(): \n",
      "Problematic atoms are:\n",
      "Atom atomic num: 7, name: , idx: 8, aromatic: False, chiral: True with bonds:\n",
      "bond order: 1, chiral: False to atom atomic num: 6, name: , idx: 7, aromatic: False, chiral: False\n",
      "bond order: 1, chiral: False to atom atomic num: 6, name: , idx: 3, aromatic: False, chiral: True\n",
      "bond order: 1, chiral: False to atom atomic num: 6, name: , idx: 9, aromatic: False, chiral: False\n",
      "\n",
      "Warning (not error because allow_undefined_stereo=True): OEMol has unspecified stereochemistry. oemol.GetTitle(): \n",
      "Problematic atoms are:\n",
      "Atom atomic num: 6, name: , idx: 8, aromatic: False, chiral: True with bonds:\n",
      "bond order: 1, chiral: False to atom atomic num: 6, name: , idx: 1, aromatic: False, chiral: False\n",
      "bond order: 1, chiral: False to atom atomic num: 6, name: , idx: 9, aromatic: True, chiral: False\n",
      "bond order: 1, chiral: False to atom atomic num: 7, name: , idx: 17, aromatic: False, chiral: False\n",
      "bond order: 1, chiral: False to atom atomic num: 1, name: , idx: 42, aromatic: False, chiral: False\n",
      "\n",
      "Warning (not error because allow_undefined_stereo=True): OEMol has unspecified stereochemistry. oemol.GetTitle(): \n",
      "Problematic atoms are:\n",
      "Atom atomic num: 7, name: , idx: 8, aromatic: False, chiral: True with bonds:\n",
      "bond order: 1, chiral: False to atom atomic num: 6, name: , idx: 7, aromatic: False, chiral: False\n",
      "bond order: 1, chiral: False to atom atomic num: 6, name: , idx: 9, aromatic: True, chiral: False\n",
      "bond order: 1, chiral: False to atom atomic num: 6, name: , idx: 30, aromatic: False, chiral: False\n",
      "\n",
      "Warning (not error because allow_undefined_stereo=True): OEMol has unspecified stereochemistry. oemol.GetTitle(): \n",
      "Problematic atoms are:\n",
      "Atom atomic num: 7, name: , idx: 22, aromatic: False, chiral: True with bonds:\n",
      "bond order: 1, chiral: False to atom atomic num: 6, name: , idx: 21, aromatic: False, chiral: False\n",
      "bond order: 1, chiral: False to atom atomic num: 6, name: , idx: 23, aromatic: False, chiral: False\n",
      "bond order: 1, chiral: False to atom atomic num: 6, name: , idx: 24, aromatic: False, chiral: False\n",
      "\n",
      "Warning (not error because allow_undefined_stereo=True): OEMol has unspecified stereochemistry. oemol.GetTitle(): \n",
      "Problematic atoms are:\n",
      "Atom atomic num: 6, name: , idx: 21, aromatic: False, chiral: True with bonds:\n",
      "bond order: 1, chiral: False to atom atomic num: 7, name: , idx: 8, aromatic: False, chiral: False\n",
      "bond order: 1, chiral: False to atom atomic num: 6, name: , idx: 22, aromatic: True, chiral: False\n",
      "bond order: 1, chiral: False to atom atomic num: 6, name: , idx: 29, aromatic: False, chiral: False\n",
      "bond order: 1, chiral: False to atom atomic num: 1, name: , idx: 42, aromatic: False, chiral: False\n",
      "\n",
      "Warning (not error because allow_undefined_stereo=True): OEMol has unspecified stereochemistry. oemol.GetTitle(): \n",
      "Problematic atoms are:\n",
      "Atom atomic num: 6, name: , idx: 21, aromatic: False, chiral: True with bonds:\n",
      "bond order: 1, chiral: False to atom atomic num: 7, name: , idx: 20, aromatic: False, chiral: False\n",
      "bond order: 1, chiral: False to atom atomic num: 6, name: , idx: 25, aromatic: False, chiral: False\n",
      "bond order: 1, chiral: False to atom atomic num: 6, name: , idx: 22, aromatic: False, chiral: False\n",
      "bond order: 1, chiral: False to atom atomic num: 1, name: , idx: 43, aromatic: False, chiral: False\n",
      "\n",
      "Warning (not error because allow_undefined_stereo=True): OEMol has unspecified stereochemistry. oemol.GetTitle(): \n",
      "Problematic atoms are:\n",
      "Atom atomic num: 6, name: , idx: 10, aromatic: False, chiral: True with bonds:\n",
      "bond order: 1, chiral: False to atom atomic num: 7, name: , idx: 9, aromatic: False, chiral: False\n",
      "bond order: 1, chiral: False to atom atomic num: 6, name: , idx: 11, aromatic: True, chiral: False\n",
      "bond order: 1, chiral: False to atom atomic num: 6, name: , idx: 17, aromatic: False, chiral: False\n",
      "bond order: 1, chiral: False to atom atomic num: 1, name: , idx: 39, aromatic: False, chiral: False\n",
      "Atom atomic num: 6, name: , idx: 19, aromatic: False, chiral: True with bonds:\n",
      "bond order: 1, chiral: False to atom atomic num: 7, name: , idx: 7, aromatic: False, chiral: False\n",
      "bond order: 1, chiral: False to atom atomic num: 6, name: , idx: 20, aromatic: True, chiral: False\n",
      "bond order: 1, chiral: False to atom atomic num: 6, name: , idx: 30, aromatic: False, chiral: False\n",
      "bond order: 1, chiral: False to atom atomic num: 1, name: , idx: 47, aromatic: False, chiral: False\n",
      "\n"
     ]
    },
    {
     "name": "stderr",
     "output_type": "stream",
     "text": [
      "Warning (not error because allow_undefined_stereo=True): OEMol has unspecified stereochemistry. oemol.GetTitle(): \n",
      "Problematic atoms are:\n",
      "Atom atomic num: 7, name: , idx: 5, aromatic: False, chiral: True with bonds:\n",
      "bond order: 1, chiral: False to atom atomic num: 6, name: , idx: 4, aromatic: True, chiral: False\n",
      "bond order: 1, chiral: False to atom atomic num: 6, name: , idx: 6, aromatic: False, chiral: False\n",
      "bond order: 1, chiral: False to atom atomic num: 6, name: , idx: 7, aromatic: False, chiral: False\n",
      "\n",
      "Warning (not error because allow_undefined_stereo=True): OEMol has unspecified stereochemistry. oemol.GetTitle(): \n",
      "Problematic atoms are:\n",
      "Atom atomic num: 6, name: , idx: 17, aromatic: False, chiral: True with bonds:\n",
      "bond order: 1, chiral: False to atom atomic num: 6, name: , idx: 16, aromatic: False, chiral: False\n",
      "bond order: 1, chiral: False to atom atomic num: 7, name: , idx: 3, aromatic: False, chiral: False\n",
      "bond order: 1, chiral: False to atom atomic num: 6, name: , idx: 18, aromatic: True, chiral: False\n",
      "bond order: 1, chiral: False to atom atomic num: 1, name: , idx: 47, aromatic: False, chiral: False\n",
      "\n",
      "Warning (not error because allow_undefined_stereo=True): OEMol has unspecified stereochemistry. oemol.GetTitle(): \n",
      "Problematic atoms are:\n",
      "Atom atomic num: 7, name: , idx: 1, aromatic: False, chiral: True with bonds:\n",
      "bond order: 1, chiral: False to atom atomic num: 6, name: , idx: 0, aromatic: False, chiral: False\n",
      "bond order: 1, chiral: False to atom atomic num: 6, name: , idx: 2, aromatic: False, chiral: False\n",
      "bond order: 1, chiral: False to atom atomic num: 6, name: , idx: 16, aromatic: False, chiral: False\n",
      "\n",
      "Warning (not error because allow_undefined_stereo=True): OEMol has unspecified stereochemistry. oemol.GetTitle(): \n",
      "Problematic atoms are:\n",
      "Atom atomic num: 7, name: , idx: 33, aromatic: False, chiral: True with bonds:\n",
      "bond order: 1, chiral: False to atom atomic num: 6, name: , idx: 32, aromatic: True, chiral: False\n",
      "bond order: 1, chiral: False to atom atomic num: 6, name: , idx: 34, aromatic: False, chiral: False\n",
      "bond order: 1, chiral: False to atom atomic num: 6, name: , idx: 35, aromatic: False, chiral: False\n",
      "\n",
      "Warning (not error because allow_undefined_stereo=True): OEMol has unspecified stereochemistry. oemol.GetTitle(): \n",
      "Problematic atoms are:\n",
      "Atom atomic num: 7, name: , idx: 28, aromatic: False, chiral: True with bonds:\n",
      "bond order: 1, chiral: False to atom atomic num: 6, name: , idx: 27, aromatic: False, chiral: False\n",
      "bond order: 1, chiral: False to atom atomic num: 6, name: , idx: 29, aromatic: False, chiral: False\n",
      "bond order: 1, chiral: False to atom atomic num: 6, name: , idx: 30, aromatic: False, chiral: False\n",
      "\n",
      "Warning (not error because allow_undefined_stereo=True): OEMol has unspecified stereochemistry. oemol.GetTitle(): \n",
      "Problematic atoms are:\n",
      "Atom atomic num: 6, name: , idx: 1, aromatic: False, chiral: True with bonds:\n",
      "bond order: 1, chiral: False to atom atomic num: 6, name: , idx: 0, aromatic: False, chiral: False\n",
      "bond order: 1, chiral: False to atom atomic num: 8, name: , idx: 2, aromatic: False, chiral: False\n",
      "bond order: 1, chiral: False to atom atomic num: 6, name: , idx: 3, aromatic: True, chiral: False\n",
      "bond order: 1, chiral: False to atom atomic num: 1, name: , idx: 24, aromatic: False, chiral: False\n",
      "\n",
      "Warning (not error because allow_undefined_stereo=True): OEMol has unspecified stereochemistry. oemol.GetTitle(): \n",
      "Problematic atoms are:\n",
      "Atom atomic num: 7, name: , idx: 32, aromatic: False, chiral: True with bonds:\n",
      "bond order: 1, chiral: False to atom atomic num: 6, name: , idx: 31, aromatic: True, chiral: False\n",
      "bond order: 1, chiral: False to atom atomic num: 6, name: , idx: 33, aromatic: False, chiral: False\n",
      "bond order: 1, chiral: False to atom atomic num: 6, name: , idx: 34, aromatic: False, chiral: False\n",
      "\n",
      "Warning (not error because allow_undefined_stereo=True): OEMol has unspecified stereochemistry. oemol.GetTitle(): \n",
      "Problematic atoms are:\n",
      "Atom atomic num: 6, name: , idx: 5, aromatic: False, chiral: True with bonds:\n",
      "bond order: 1, chiral: False to atom atomic num: 6, name: , idx: 4, aromatic: True, chiral: False\n",
      "bond order: 1, chiral: False to atom atomic num: 7, name: , idx: 17, aromatic: False, chiral: False\n",
      "bond order: 1, chiral: False to atom atomic num: 6, name: , idx: 6, aromatic: False, chiral: False\n",
      "bond order: 1, chiral: False to atom atomic num: 1, name: , idx: 36, aromatic: False, chiral: False\n",
      "\n",
      "Warning (not error because allow_undefined_stereo=True): OEMol has unspecified stereochemistry. oemol.GetTitle(): \n",
      "Problematic atoms are:\n",
      "Atom atomic num: 7, name: , idx: 7, aromatic: False, chiral: True with bonds:\n",
      "bond order: 1, chiral: False to atom atomic num: 6, name: , idx: 6, aromatic: False, chiral: False\n",
      "bond order: 1, chiral: False to atom atomic num: 6, name: , idx: 2, aromatic: False, chiral: True\n",
      "bond order: 1, chiral: False to atom atomic num: 6, name: , idx: 8, aromatic: False, chiral: False\n",
      "\n",
      "Warning (not error because allow_undefined_stereo=True): OEMol has unspecified stereochemistry. oemol.GetTitle(): \n",
      "Problematic atoms are:\n",
      "Atom atomic num: 6, name: , idx: 11, aromatic: False, chiral: True with bonds:\n",
      "bond order: 1, chiral: False to atom atomic num: 6, name: , idx: 10, aromatic: True, chiral: False\n",
      "bond order: 1, chiral: False to atom atomic num: 7, name: , idx: 16, aromatic: False, chiral: False\n",
      "bond order: 1, chiral: False to atom atomic num: 16, name: , idx: 12, aromatic: False, chiral: False\n",
      "bond order: 1, chiral: False to atom atomic num: 1, name: , idx: 52, aromatic: False, chiral: False\n",
      "\n",
      "Warning (not error because allow_undefined_stereo=True): OEMol has unspecified stereochemistry. oemol.GetTitle(): \n",
      "Problematic atoms are:\n",
      "Atom atomic num: 6, name: , idx: 20, aromatic: False, chiral: True with bonds:\n",
      "bond order: 1, chiral: False to atom atomic num: 6, name: , idx: 19, aromatic: False, chiral: False\n",
      "bond order: 1, chiral: False to atom atomic num: 7, name: , idx: 9, aromatic: False, chiral: False\n",
      "bond order: 1, chiral: False to atom atomic num: 6, name: , idx: 21, aromatic: True, chiral: False\n",
      "bond order: 1, chiral: False to atom atomic num: 1, name: , idx: 40, aromatic: False, chiral: False\n",
      "\n",
      "Warning (not error because allow_undefined_stereo=True): OEMol has unspecified stereochemistry. oemol.GetTitle(): \n",
      "Problematic atoms are:\n",
      "Atom atomic num: 6, name: , idx: 6, aromatic: False, chiral: True with bonds:\n",
      "bond order: 1, chiral: False to atom atomic num: 6, name: , idx: 5, aromatic: True, chiral: False\n",
      "bond order: 1, chiral: False to atom atomic num: 7, name: , idx: 20, aromatic: False, chiral: False\n",
      "bond order: 1, chiral: False to atom atomic num: 6, name: , idx: 7, aromatic: False, chiral: False\n",
      "bond order: 1, chiral: False to atom atomic num: 1, name: , idx: 31, aromatic: False, chiral: False\n",
      "\n",
      "Warning (not error because allow_undefined_stereo=True): OEMol has unspecified stereochemistry. oemol.GetTitle(): \n",
      "Problematic atoms are:\n",
      "Atom atomic num: 6, name: , idx: 36, aromatic: False, chiral: True with bonds:\n",
      "bond order: 1, chiral: False to atom atomic num: 6, name: , idx: 35, aromatic: False, chiral: False\n",
      "bond order: 1, chiral: False to atom atomic num: 16, name: , idx: 40, aromatic: False, chiral: False\n",
      "bond order: 1, chiral: False to atom atomic num: 6, name: , idx: 37, aromatic: False, chiral: False\n",
      "bond order: 1, chiral: False to atom atomic num: 1, name: , idx: 62, aromatic: False, chiral: False\n",
      "\n",
      "Warning (not error because allow_undefined_stereo=True): OEMol has unspecified stereochemistry. oemol.GetTitle(): \n",
      "Problematic atoms are:\n",
      "Atom atomic num: 6, name: , idx: 3, aromatic: False, chiral: True with bonds:\n",
      "bond order: 1, chiral: False to atom atomic num: 7, name: , idx: 2, aromatic: False, chiral: False\n",
      "bond order: 1, chiral: False to atom atomic num: 6, name: , idx: 4, aromatic: False, chiral: False\n",
      "bond order: 1, chiral: False to atom atomic num: 6, name: , idx: 9, aromatic: False, chiral: False\n",
      "bond order: 1, chiral: False to atom atomic num: 1, name: , idx: 47, aromatic: False, chiral: False\n",
      "\n",
      "Warning (not error because allow_undefined_stereo=True): OEMol has unspecified stereochemistry. oemol.GetTitle(): \n",
      "Problematic atoms are:\n",
      "Atom atomic num: 6, name: , idx: 15, aromatic: False, chiral: True with bonds:\n",
      "bond order: 1, chiral: False to atom atomic num: 6, name: , idx: 14, aromatic: False, chiral: False\n",
      "bond order: 1, chiral: False to atom atomic num: 7, name: , idx: 3, aromatic: False, chiral: False\n",
      "bond order: 1, chiral: False to atom atomic num: 6, name: , idx: 16, aromatic: True, chiral: False\n",
      "bond order: 1, chiral: False to atom atomic num: 1, name: , idx: 30, aromatic: False, chiral: False\n",
      "\n"
     ]
    },
    {
     "name": "stderr",
     "output_type": "stream",
     "text": [
      "Warning (not error because allow_undefined_stereo=True): OEMol has unspecified stereochemistry. oemol.GetTitle(): \n",
      "Problematic atoms are:\n",
      "Atom atomic num: 6, name: , idx: 13, aromatic: False, chiral: True with bonds:\n",
      "bond order: 1, chiral: False to atom atomic num: 6, name: , idx: 11, aromatic: False, chiral: False\n",
      "bond order: 1, chiral: False to atom atomic num: 6, name: , idx: 14, aromatic: False, chiral: False\n",
      "bond order: 1, chiral: False to atom atomic num: 7, name: , idx: 21, aromatic: False, chiral: False\n",
      "bond order: 1, chiral: False to atom atomic num: 1, name: , idx: 55, aromatic: False, chiral: False\n",
      "\n",
      "Warning (not error because allow_undefined_stereo=True): OEMol has unspecified stereochemistry. oemol.GetTitle(): \n",
      "Problematic bonds are: [<openeye.oechem.OEBondBase; proxy of <Swig Object of type 'OEChem::OEBondBase *' at 0x7f823cf485a0> >]\n",
      "\n",
      "Warning (not error because allow_undefined_stereo=True): OEMol has unspecified stereochemistry. oemol.GetTitle(): \n",
      "Problematic atoms are:\n",
      "Atom atomic num: 6, name: , idx: 3, aromatic: False, chiral: True with bonds:\n",
      "bond order: 1, chiral: False to atom atomic num: 6, name: , idx: 2, aromatic: False, chiral: False\n",
      "bond order: 1, chiral: False to atom atomic num: 7, name: , idx: 7, aromatic: False, chiral: True\n",
      "bond order: 1, chiral: False to atom atomic num: 6, name: , idx: 4, aromatic: False, chiral: False\n",
      "bond order: 1, chiral: False to atom atomic num: 1, name: , idx: 37, aromatic: False, chiral: False\n",
      "Atom atomic num: 7, name: , idx: 7, aromatic: False, chiral: True with bonds:\n",
      "bond order: 1, chiral: False to atom atomic num: 6, name: , idx: 6, aromatic: False, chiral: False\n",
      "bond order: 1, chiral: False to atom atomic num: 6, name: , idx: 3, aromatic: False, chiral: True\n",
      "bond order: 1, chiral: False to atom atomic num: 6, name: , idx: 8, aromatic: False, chiral: False\n",
      "\n",
      "Warning (not error because allow_undefined_stereo=True): OEMol has unspecified stereochemistry. oemol.GetTitle(): \n",
      "Problematic atoms are:\n",
      "Atom atomic num: 7, name: , idx: 10, aromatic: False, chiral: True with bonds:\n",
      "bond order: 1, chiral: False to atom atomic num: 6, name: , idx: 9, aromatic: False, chiral: False\n",
      "bond order: 1, chiral: False to atom atomic num: 6, name: , idx: 11, aromatic: False, chiral: False\n",
      "bond order: 1, chiral: False to atom atomic num: 6, name: , idx: 14, aromatic: False, chiral: False\n",
      "\n",
      "Warning (not error because allow_undefined_stereo=True): OEMol has unspecified stereochemistry. oemol.GetTitle(): \n",
      "Problematic atoms are:\n",
      "Atom atomic num: 6, name: , idx: 2, aromatic: False, chiral: True with bonds:\n",
      "bond order: 1, chiral: False to atom atomic num: 6, name: , idx: 1, aromatic: False, chiral: False\n",
      "bond order: 1, chiral: False to atom atomic num: 6, name: , idx: 3, aromatic: False, chiral: False\n",
      "bond order: 1, chiral: False to atom atomic num: 6, name: , idx: 12, aromatic: False, chiral: False\n",
      "bond order: 1, chiral: False to atom atomic num: 1, name: , idx: 15, aromatic: False, chiral: False\n",
      "Problematic bonds are: [<openeye.oechem.OEBondBase; proxy of <Swig Object of type 'OEChem::OEBondBase *' at 0x7f823cee94b0> >]\n",
      "\n",
      "Warning (not error because allow_undefined_stereo=True): OEMol has unspecified stereochemistry. oemol.GetTitle(): \n",
      "Problematic atoms are:\n",
      "Atom atomic num: 6, name: , idx: 52, aromatic: False, chiral: True with bonds:\n",
      "bond order: 1, chiral: False to atom atomic num: 7, name: , idx: 51, aromatic: False, chiral: False\n",
      "bond order: 1, chiral: False to atom atomic num: 6, name: , idx: 58, aromatic: False, chiral: False\n",
      "bond order: 1, chiral: False to atom atomic num: 6, name: , idx: 53, aromatic: False, chiral: False\n",
      "bond order: 1, chiral: False to atom atomic num: 1, name: , idx: 108, aromatic: False, chiral: False\n",
      "\n",
      "Warning (not error because allow_undefined_stereo=True): OEMol has unspecified stereochemistry. oemol.GetTitle(): \n",
      "Problematic atoms are:\n",
      "Atom atomic num: 7, name: , idx: 33, aromatic: False, chiral: True with bonds:\n",
      "bond order: 1, chiral: False to atom atomic num: 6, name: , idx: 32, aromatic: True, chiral: False\n",
      "bond order: 1, chiral: False to atom atomic num: 6, name: , idx: 34, aromatic: False, chiral: False\n",
      "bond order: 1, chiral: False to atom atomic num: 6, name: , idx: 35, aromatic: False, chiral: False\n",
      "\n",
      "Warning (not error because allow_undefined_stereo=True): OEMol has unspecified stereochemistry. oemol.GetTitle(): \n",
      "Problematic atoms are:\n",
      "Atom atomic num: 7, name: , idx: 28, aromatic: False, chiral: True with bonds:\n",
      "bond order: 1, chiral: False to atom atomic num: 6, name: , idx: 27, aromatic: True, chiral: False\n",
      "bond order: 1, chiral: False to atom atomic num: 6, name: , idx: 29, aromatic: False, chiral: False\n",
      "bond order: 1, chiral: False to atom atomic num: 6, name: , idx: 30, aromatic: False, chiral: False\n",
      "\n",
      "Warning (not error because allow_undefined_stereo=True): OEMol has unspecified stereochemistry. oemol.GetTitle(): \n",
      "Problematic atoms are:\n",
      "Atom atomic num: 7, name: , idx: 5, aromatic: False, chiral: True with bonds:\n",
      "bond order: 1, chiral: False to atom atomic num: 6, name: , idx: 4, aromatic: False, chiral: False\n",
      "bond order: 1, chiral: False to atom atomic num: 6, name: , idx: 6, aromatic: False, chiral: False\n",
      "bond order: 1, chiral: False to atom atomic num: 6, name: , idx: 34, aromatic: False, chiral: False\n",
      "\n",
      "Warning (not error because allow_undefined_stereo=True): OEMol has unspecified stereochemistry. oemol.GetTitle(): \n",
      "Problematic atoms are:\n",
      "Atom atomic num: 6, name: , idx: 14, aromatic: False, chiral: True with bonds:\n",
      "bond order: 1, chiral: False to atom atomic num: 6, name: , idx: 13, aromatic: False, chiral: False\n",
      "bond order: 1, chiral: False to atom atomic num: 7, name: , idx: 3, aromatic: False, chiral: False\n",
      "bond order: 1, chiral: False to atom atomic num: 6, name: , idx: 15, aromatic: True, chiral: False\n",
      "bond order: 1, chiral: False to atom atomic num: 1, name: , idx: 33, aromatic: False, chiral: False\n",
      "\n",
      "Warning (not error because allow_undefined_stereo=True): OEMol has unspecified stereochemistry. oemol.GetTitle(): \n",
      "Problematic atoms are:\n",
      "Atom atomic num: 7, name: , idx: 33, aromatic: False, chiral: True with bonds:\n",
      "bond order: 1, chiral: False to atom atomic num: 6, name: , idx: 32, aromatic: True, chiral: False\n",
      "bond order: 1, chiral: False to atom atomic num: 6, name: , idx: 34, aromatic: False, chiral: False\n",
      "bond order: 1, chiral: False to atom atomic num: 6, name: , idx: 35, aromatic: False, chiral: False\n",
      "\n",
      "Warning (not error because allow_undefined_stereo=True): OEMol has unspecified stereochemistry. oemol.GetTitle(): \n",
      "Problematic atoms are:\n",
      "Atom atomic num: 6, name: , idx: 11, aromatic: False, chiral: True with bonds:\n",
      "bond order: 1, chiral: False to atom atomic num: 6, name: , idx: 10, aromatic: True, chiral: False\n",
      "bond order: 1, chiral: False to atom atomic num: 7, name: , idx: 25, aromatic: False, chiral: False\n",
      "bond order: 1, chiral: False to atom atomic num: 6, name: , idx: 12, aromatic: False, chiral: False\n",
      "bond order: 1, chiral: False to atom atomic num: 1, name: , idx: 43, aromatic: False, chiral: False\n",
      "\n",
      "Warning (not error because allow_undefined_stereo=True): OEMol has unspecified stereochemistry. oemol.GetTitle(): \n",
      "Problematic atoms are:\n",
      "Atom atomic num: 6, name: , idx: 2, aromatic: False, chiral: True with bonds:\n",
      "bond order: 1, chiral: False to atom atomic num: 6, name: , idx: 1, aromatic: False, chiral: False\n",
      "bond order: 1, chiral: False to atom atomic num: 6, name: , idx: 3, aromatic: False, chiral: False\n",
      "bond order: 1, chiral: False to atom atomic num: 6, name: , idx: 4, aromatic: False, chiral: False\n",
      "bond order: 1, chiral: False to atom atomic num: 1, name: , idx: 39, aromatic: False, chiral: False\n",
      "\n",
      "Warning (not error because allow_undefined_stereo=True): OEMol has unspecified stereochemistry. oemol.GetTitle(): \n",
      "Problematic atoms are:\n",
      "Atom atomic num: 7, name: , idx: 8, aromatic: False, chiral: True with bonds:\n",
      "bond order: 1, chiral: False to atom atomic num: 6, name: , idx: 7, aromatic: False, chiral: False\n",
      "bond order: 1, chiral: False to atom atomic num: 6, name: , idx: 3, aromatic: False, chiral: True\n",
      "bond order: 1, chiral: False to atom atomic num: 6, name: , idx: 9, aromatic: False, chiral: False\n",
      "\n",
      "Warning (not error because allow_undefined_stereo=True): OEMol has unspecified stereochemistry. oemol.GetTitle(): \n",
      "Problematic atoms are:\n",
      "Atom atomic num: 6, name: , idx: 15, aromatic: False, chiral: True with bonds:\n",
      "bond order: 1, chiral: False to atom atomic num: 6, name: , idx: 14, aromatic: False, chiral: False\n",
      "bond order: 1, chiral: False to atom atomic num: 7, name: , idx: 3, aromatic: False, chiral: False\n",
      "bond order: 1, chiral: False to atom atomic num: 6, name: , idx: 16, aromatic: True, chiral: False\n",
      "bond order: 1, chiral: False to atom atomic num: 1, name: , idx: 30, aromatic: False, chiral: False\n",
      "\n"
     ]
    },
    {
     "name": "stderr",
     "output_type": "stream",
     "text": [
      "Warning (not error because allow_undefined_stereo=True): OEMol has unspecified stereochemistry. oemol.GetTitle(): \n",
      "Problematic atoms are:\n",
      "Atom atomic num: 7, name: , idx: 8, aromatic: False, chiral: True with bonds:\n",
      "bond order: 1, chiral: False to atom atomic num: 6, name: , idx: 3, aromatic: False, chiral: True\n",
      "bond order: 1, chiral: False to atom atomic num: 6, name: , idx: 9, aromatic: False, chiral: False\n",
      "bond order: 1, chiral: False to atom atomic num: 6, name: , idx: 10, aromatic: False, chiral: False\n",
      "\n",
      "Warning (not error because allow_undefined_stereo=True): OEMol has unspecified stereochemistry. oemol.GetTitle(): \n",
      "Problematic atoms are:\n",
      "Atom atomic num: 6, name: , idx: 18, aromatic: False, chiral: True with bonds:\n",
      "bond order: 1, chiral: False to atom atomic num: 7, name: , idx: 17, aromatic: False, chiral: False\n",
      "bond order: 1, chiral: False to atom atomic num: 6, name: , idx: 27, aromatic: False, chiral: True\n",
      "bond order: 1, chiral: False to atom atomic num: 8, name: , idx: 19, aromatic: False, chiral: False\n",
      "bond order: 1, chiral: False to atom atomic num: 1, name: , idx: 54, aromatic: False, chiral: False\n",
      "Atom atomic num: 6, name: , idx: 20, aromatic: False, chiral: True with bonds:\n",
      "bond order: 1, chiral: False to atom atomic num: 8, name: , idx: 19, aromatic: False, chiral: False\n",
      "bond order: 1, chiral: False to atom atomic num: 6, name: , idx: 21, aromatic: False, chiral: False\n",
      "bond order: 1, chiral: False to atom atomic num: 6, name: , idx: 23, aromatic: False, chiral: True\n",
      "bond order: 1, chiral: False to atom atomic num: 1, name: , idx: 55, aromatic: False, chiral: False\n",
      "Atom atomic num: 6, name: , idx: 23, aromatic: False, chiral: True with bonds:\n",
      "bond order: 1, chiral: False to atom atomic num: 6, name: , idx: 20, aromatic: False, chiral: True\n",
      "bond order: 1, chiral: False to atom atomic num: 8, name: , idx: 24, aromatic: False, chiral: False\n",
      "bond order: 1, chiral: False to atom atomic num: 6, name: , idx: 25, aromatic: False, chiral: True\n",
      "bond order: 1, chiral: False to atom atomic num: 1, name: , idx: 59, aromatic: False, chiral: False\n",
      "Atom atomic num: 6, name: , idx: 25, aromatic: False, chiral: True with bonds:\n",
      "bond order: 1, chiral: False to atom atomic num: 6, name: , idx: 23, aromatic: False, chiral: True\n",
      "bond order: 1, chiral: False to atom atomic num: 8, name: , idx: 26, aromatic: False, chiral: False\n",
      "bond order: 1, chiral: False to atom atomic num: 6, name: , idx: 27, aromatic: False, chiral: True\n",
      "bond order: 1, chiral: False to atom atomic num: 1, name: , idx: 61, aromatic: False, chiral: False\n",
      "Atom atomic num: 6, name: , idx: 27, aromatic: False, chiral: True with bonds:\n",
      "bond order: 1, chiral: False to atom atomic num: 6, name: , idx: 25, aromatic: False, chiral: True\n",
      "bond order: 1, chiral: False to atom atomic num: 6, name: , idx: 18, aromatic: False, chiral: True\n",
      "bond order: 1, chiral: False to atom atomic num: 8, name: , idx: 28, aromatic: False, chiral: False\n",
      "bond order: 1, chiral: False to atom atomic num: 1, name: , idx: 63, aromatic: False, chiral: False\n",
      "\n",
      "Warning (not error because allow_undefined_stereo=True): OEMol has unspecified stereochemistry. oemol.GetTitle(): \n",
      "Problematic atoms are:\n",
      "Atom atomic num: 7, name: , idx: 6, aromatic: False, chiral: True with bonds:\n",
      "bond order: 1, chiral: False to atom atomic num: 6, name: , idx: 4, aromatic: False, chiral: True\n",
      "bond order: 1, chiral: False to atom atomic num: 6, name: , idx: 7, aromatic: False, chiral: False\n",
      "bond order: 1, chiral: False to atom atomic num: 6, name: , idx: 8, aromatic: False, chiral: False\n",
      "\n",
      "Warning (not error because allow_undefined_stereo=True): OEMol has unspecified stereochemistry. oemol.GetTitle(): \n",
      "Problematic atoms are:\n",
      "Atom atomic num: 6, name: , idx: 25, aromatic: False, chiral: True with bonds:\n",
      "bond order: 1, chiral: False to atom atomic num: 7, name: , idx: 24, aromatic: False, chiral: False\n",
      "bond order: 1, chiral: False to atom atomic num: 6, name: , idx: 3, aromatic: False, chiral: False\n",
      "bond order: 1, chiral: False to atom atomic num: 7, name: , idx: 26, aromatic: False, chiral: False\n",
      "bond order: 1, chiral: False to atom atomic num: 1, name: , idx: 58, aromatic: False, chiral: False\n",
      "\n",
      "Warning (not error because allow_undefined_stereo=True): OEMol has unspecified stereochemistry. oemol.GetTitle(): \n",
      "Problematic atoms are:\n",
      "Atom atomic num: 6, name: , idx: 21, aromatic: False, chiral: True with bonds:\n",
      "bond order: 1, chiral: False to atom atomic num: 7, name: , idx: 8, aromatic: False, chiral: False\n",
      "bond order: 1, chiral: False to atom atomic num: 6, name: , idx: 22, aromatic: True, chiral: False\n",
      "bond order: 1, chiral: False to atom atomic num: 6, name: , idx: 29, aromatic: False, chiral: False\n",
      "bond order: 1, chiral: False to atom atomic num: 1, name: , idx: 42, aromatic: False, chiral: False\n",
      "\n",
      "Warning (not error because allow_undefined_stereo=True): OEMol has unspecified stereochemistry. oemol.GetTitle(): \n",
      "Problematic atoms are:\n",
      "Atom atomic num: 6, name: , idx: 5, aromatic: False, chiral: True with bonds:\n",
      "bond order: 1, chiral: False to atom atomic num: 6, name: , idx: 4, aromatic: True, chiral: False\n",
      "bond order: 1, chiral: False to atom atomic num: 7, name: , idx: 16, aromatic: False, chiral: False\n",
      "bond order: 1, chiral: False to atom atomic num: 6, name: , idx: 6, aromatic: False, chiral: False\n",
      "bond order: 1, chiral: False to atom atomic num: 1, name: , idx: 33, aromatic: False, chiral: False\n",
      "\n",
      "Warning (not error because allow_undefined_stereo=True): OEMol has unspecified stereochemistry. oemol.GetTitle(): \n",
      "Problematic atoms are:\n",
      "Atom atomic num: 7, name: , idx: 22, aromatic: False, chiral: True with bonds:\n",
      "bond order: 1, chiral: False to atom atomic num: 6, name: , idx: 21, aromatic: False, chiral: False\n",
      "bond order: 1, chiral: False to atom atomic num: 6, name: , idx: 23, aromatic: False, chiral: False\n",
      "bond order: 1, chiral: False to atom atomic num: 6, name: , idx: 24, aromatic: False, chiral: True\n",
      "\n",
      "Warning (not error because allow_undefined_stereo=True): OEMol has unspecified stereochemistry. oemol.GetTitle(): \n",
      "Problematic atoms are:\n",
      "Atom atomic num: 7, name: , idx: 5, aromatic: False, chiral: True with bonds:\n",
      "bond order: 1, chiral: False to atom atomic num: 6, name: , idx: 4, aromatic: True, chiral: False\n",
      "bond order: 1, chiral: False to atom atomic num: 6, name: , idx: 6, aromatic: False, chiral: False\n",
      "bond order: 1, chiral: False to atom atomic num: 6, name: , idx: 7, aromatic: False, chiral: False\n",
      "\n",
      "Warning (not error because allow_undefined_stereo=True): OEMol has unspecified stereochemistry. oemol.GetTitle(): \n",
      "Problematic atoms are:\n",
      "Atom atomic num: 6, name: , idx: 13, aromatic: False, chiral: True with bonds:\n",
      "bond order: 1, chiral: False to atom atomic num: 6, name: , idx: 12, aromatic: False, chiral: False\n",
      "bond order: 1, chiral: False to atom atomic num: 7, name: , idx: 3, aromatic: False, chiral: False\n",
      "bond order: 1, chiral: False to atom atomic num: 6, name: , idx: 14, aromatic: True, chiral: False\n",
      "bond order: 1, chiral: False to atom atomic num: 1, name: , idx: 33, aromatic: False, chiral: False\n",
      "\n",
      "Warning (not error because allow_undefined_stereo=True): OEMol has unspecified stereochemistry. oemol.GetTitle(): \n",
      "Problematic atoms are:\n",
      "Atom atomic num: 6, name: , idx: 11, aromatic: False, chiral: True with bonds:\n",
      "bond order: 1, chiral: False to atom atomic num: 6, name: , idx: 10, aromatic: True, chiral: False\n",
      "bond order: 1, chiral: False to atom atomic num: 7, name: , idx: 16, aromatic: False, chiral: False\n",
      "bond order: 1, chiral: False to atom atomic num: 16, name: , idx: 12, aromatic: False, chiral: False\n",
      "bond order: 1, chiral: False to atom atomic num: 1, name: , idx: 53, aromatic: False, chiral: False\n",
      "\n",
      "Warning (not error because allow_undefined_stereo=True): OEMol has unspecified stereochemistry. oemol.GetTitle(): \n",
      "Problematic atoms are:\n",
      "Atom atomic num: 6, name: , idx: 16, aromatic: False, chiral: True with bonds:\n",
      "bond order: 1, chiral: False to atom atomic num: 6, name: , idx: 15, aromatic: False, chiral: False\n",
      "bond order: 1, chiral: False to atom atomic num: 6, name: , idx: 37, aromatic: False, chiral: False\n",
      "bond order: 1, chiral: False to atom atomic num: 6, name: , idx: 17, aromatic: False, chiral: False\n",
      "bond order: 1, chiral: False to atom atomic num: 1, name: , idx: 47, aromatic: False, chiral: False\n",
      "Atom atomic num: 6, name: , idx: 20, aromatic: False, chiral: True with bonds:\n",
      "bond order: 1, chiral: False to atom atomic num: 6, name: , idx: 19, aromatic: False, chiral: False\n",
      "bond order: 1, chiral: False to atom atomic num: 6, name: , idx: 21, aromatic: False, chiral: False\n",
      "bond order: 1, chiral: False to atom atomic num: 6, name: , idx: 37, aromatic: False, chiral: False\n",
      "bond order: 1, chiral: False to atom atomic num: 1, name: , idx: 54, aromatic: False, chiral: False\n",
      "\n"
     ]
    },
    {
     "name": "stderr",
     "output_type": "stream",
     "text": [
      "Warning (not error because allow_undefined_stereo=True): OEMol has unspecified stereochemistry. oemol.GetTitle(): \n",
      "Problematic atoms are:\n",
      "Atom atomic num: 7, name: , idx: 6, aromatic: False, chiral: True with bonds:\n",
      "bond order: 1, chiral: False to atom atomic num: 6, name: , idx: 4, aromatic: False, chiral: True\n",
      "bond order: 1, chiral: False to atom atomic num: 6, name: , idx: 7, aromatic: False, chiral: False\n",
      "bond order: 1, chiral: False to atom atomic num: 6, name: , idx: 8, aromatic: False, chiral: False\n",
      "\n",
      "Warning (not error because allow_undefined_stereo=True): OEMol has unspecified stereochemistry. oemol.GetTitle(): \n",
      "Problematic atoms are:\n",
      "Atom atomic num: 7, name: , idx: 7, aromatic: False, chiral: True with bonds:\n",
      "bond order: 1, chiral: False to atom atomic num: 6, name: , idx: 6, aromatic: False, chiral: False\n",
      "bond order: 1, chiral: False to atom atomic num: 6, name: , idx: 8, aromatic: False, chiral: False\n",
      "bond order: 1, chiral: False to atom atomic num: 6, name: , idx: 36, aromatic: False, chiral: False\n",
      "\n",
      "Warning (not error because allow_undefined_stereo=True): OEMol has unspecified stereochemistry. oemol.GetTitle(): \n",
      "Problematic atoms are:\n",
      "Atom atomic num: 6, name: , idx: 7, aromatic: False, chiral: True with bonds:\n",
      "bond order: 1, chiral: False to atom atomic num: 6, name: , idx: 6, aromatic: False, chiral: False\n",
      "bond order: 1, chiral: False to atom atomic num: 6, name: , idx: 8, aromatic: False, chiral: False\n",
      "bond order: 1, chiral: False to atom atomic num: 7, name: , idx: 10, aromatic: False, chiral: False\n",
      "bond order: 1, chiral: False to atom atomic num: 1, name: , idx: 36, aromatic: False, chiral: False\n",
      "\n",
      "Warning (not error because allow_undefined_stereo=True): OEMol has unspecified stereochemistry. oemol.GetTitle(): \n",
      "Problematic atoms are:\n",
      "Atom atomic num: 6, name: , idx: 14, aromatic: False, chiral: True with bonds:\n",
      "bond order: 1, chiral: False to atom atomic num: 7, name: , idx: 7, aromatic: False, chiral: False\n",
      "bond order: 1, chiral: False to atom atomic num: 6, name: , idx: 15, aromatic: True, chiral: False\n",
      "bond order: 1, chiral: False to atom atomic num: 6, name: , idx: 25, aromatic: False, chiral: False\n",
      "bond order: 1, chiral: False to atom atomic num: 1, name: , idx: 38, aromatic: False, chiral: False\n",
      "\n",
      "Warning (not error because allow_undefined_stereo=True): OEMol has unspecified stereochemistry. oemol.GetTitle(): \n",
      "Problematic atoms are:\n",
      "Atom atomic num: 6, name: , idx: 22, aromatic: False, chiral: True with bonds:\n",
      "bond order: 1, chiral: False to atom atomic num: 6, name: , idx: 21, aromatic: False, chiral: False\n",
      "bond order: 1, chiral: False to atom atomic num: 7, name: , idx: 26, aromatic: False, chiral: False\n",
      "bond order: 1, chiral: False to atom atomic num: 6, name: , idx: 23, aromatic: False, chiral: False\n",
      "bond order: 1, chiral: False to atom atomic num: 1, name: , idx: 42, aromatic: False, chiral: False\n",
      "\n",
      "Warning (not error because allow_undefined_stereo=True): OEMol has unspecified stereochemistry. oemol.GetTitle(): \n",
      "Problematic atoms are:\n",
      "Atom atomic num: 15, name: , idx: 22, aromatic: False, chiral: True with bonds:\n",
      "bond order: 1, chiral: False to atom atomic num: 8, name: , idx: 21, aromatic: False, chiral: False\n",
      "bond order: 1, chiral: False to atom atomic num: 7, name: , idx: 23, aromatic: False, chiral: False\n",
      "bond order: 2, chiral: False to atom atomic num: 8, name: , idx: 24, aromatic: False, chiral: False\n",
      "bond order: 1, chiral: False to atom atomic num: 7, name: , idx: 25, aromatic: False, chiral: False\n",
      "\n",
      "Warning (not error because allow_undefined_stereo=True): OEMol has unspecified stereochemistry. oemol.GetTitle(): \n",
      "Problematic atoms are:\n",
      "Atom atomic num: 6, name: , idx: 7, aromatic: False, chiral: True with bonds:\n",
      "bond order: 1, chiral: False to atom atomic num: 6, name: , idx: 6, aromatic: True, chiral: False\n",
      "bond order: 1, chiral: False to atom atomic num: 8, name: , idx: 8, aromatic: False, chiral: False\n",
      "bond order: 1, chiral: False to atom atomic num: 6, name: , idx: 9, aromatic: True, chiral: False\n",
      "bond order: 1, chiral: False to atom atomic num: 1, name: , idx: 29, aromatic: False, chiral: False\n",
      "\n",
      "Warning (not error because allow_undefined_stereo=True): OEMol has unspecified stereochemistry. oemol.GetTitle(): \n",
      "Problematic atoms are:\n",
      "Atom atomic num: 6, name: , idx: 24, aromatic: False, chiral: True with bonds:\n",
      "bond order: 1, chiral: False to atom atomic num: 6, name: , idx: 16, aromatic: False, chiral: False\n",
      "bond order: 1, chiral: False to atom atomic num: 6, name: , idx: 5, aromatic: False, chiral: False\n",
      "bond order: 1, chiral: False to atom atomic num: 6, name: , idx: 25, aromatic: False, chiral: False\n",
      "bond order: 1, chiral: False to atom atomic num: 1, name: , idx: 59, aromatic: False, chiral: False\n",
      "\n",
      "Warning (not error because allow_undefined_stereo=True): OEMol has unspecified stereochemistry. oemol.GetTitle(): \n",
      "Problematic atoms are:\n",
      "Atom atomic num: 6, name: , idx: 15, aromatic: False, chiral: True with bonds:\n",
      "bond order: 1, chiral: False to atom atomic num: 7, name: , idx: 8, aromatic: False, chiral: False\n",
      "bond order: 1, chiral: False to atom atomic num: 6, name: , idx: 16, aromatic: True, chiral: False\n",
      "bond order: 1, chiral: False to atom atomic num: 6, name: , idx: 23, aromatic: False, chiral: False\n",
      "bond order: 1, chiral: False to atom atomic num: 1, name: , idx: 33, aromatic: False, chiral: False\n",
      "\n",
      "Warning (not error because allow_undefined_stereo=True): OEMol has unspecified stereochemistry. oemol.GetTitle(): \n",
      "Problematic atoms are:\n",
      "Atom atomic num: 6, name: , idx: 20, aromatic: False, chiral: True with bonds:\n",
      "bond order: 1, chiral: False to atom atomic num: 7, name: , idx: 8, aromatic: False, chiral: False\n",
      "bond order: 1, chiral: False to atom atomic num: 6, name: , idx: 21, aromatic: True, chiral: False\n",
      "bond order: 1, chiral: False to atom atomic num: 6, name: , idx: 29, aromatic: False, chiral: False\n",
      "bond order: 1, chiral: False to atom atomic num: 1, name: , idx: 43, aromatic: False, chiral: False\n",
      "\n",
      "Warning (not error because allow_undefined_stereo=True): OEMol has unspecified stereochemistry. oemol.GetTitle(): \n",
      "Problematic atoms are:\n",
      "Atom atomic num: 7, name: , idx: 6, aromatic: False, chiral: True with bonds:\n",
      "bond order: 1, chiral: False to atom atomic num: 6, name: , idx: 5, aromatic: False, chiral: False\n",
      "bond order: 1, chiral: False to atom atomic num: 6, name: , idx: 25, aromatic: True, chiral: False\n",
      "bond order: 1, chiral: False to atom atomic num: 6, name: , idx: 7, aromatic: False, chiral: False\n",
      "\n",
      "Warning (not error because allow_undefined_stereo=True): OEMol has unspecified stereochemistry. oemol.GetTitle(): \n",
      "Problematic atoms are:\n",
      "Atom atomic num: 6, name: , idx: 6, aromatic: False, chiral: True with bonds:\n",
      "bond order: 1, chiral: False to atom atomic num: 6, name: , idx: 5, aromatic: True, chiral: False\n",
      "bond order: 1, chiral: False to atom atomic num: 7, name: , idx: 18, aromatic: False, chiral: False\n",
      "bond order: 1, chiral: False to atom atomic num: 6, name: , idx: 7, aromatic: False, chiral: False\n",
      "bond order: 1, chiral: False to atom atomic num: 1, name: , idx: 29, aromatic: False, chiral: False\n",
      "\n",
      "Warning (not error because allow_undefined_stereo=True): OEMol has unspecified stereochemistry. oemol.GetTitle(): \n",
      "Problematic atoms are:\n",
      "Atom atomic num: 7, name: , idx: 30, aromatic: False, chiral: True with bonds:\n",
      "bond order: 1, chiral: False to atom atomic num: 6, name: , idx: 29, aromatic: True, chiral: False\n",
      "bond order: 1, chiral: False to atom atomic num: 6, name: , idx: 31, aromatic: False, chiral: False\n",
      "bond order: 1, chiral: False to atom atomic num: 6, name: , idx: 32, aromatic: False, chiral: False\n",
      "\n",
      "Warning (not error because allow_undefined_stereo=True): OEMol has unspecified stereochemistry. oemol.GetTitle(): \n",
      "Problematic atoms are:\n",
      "Atom atomic num: 6, name: , idx: 12, aromatic: False, chiral: True with bonds:\n",
      "bond order: 1, chiral: False to atom atomic num: 7, name: , idx: 8, aromatic: False, chiral: False\n",
      "bond order: 1, chiral: False to atom atomic num: 6, name: , idx: 13, aromatic: True, chiral: False\n",
      "bond order: 1, chiral: False to atom atomic num: 6, name: , idx: 23, aromatic: False, chiral: False\n",
      "bond order: 1, chiral: False to atom atomic num: 1, name: , idx: 33, aromatic: False, chiral: False\n",
      "\n"
     ]
    },
    {
     "name": "stderr",
     "output_type": "stream",
     "text": [
      "Warning (not error because allow_undefined_stereo=True): OEMol has unspecified stereochemistry. oemol.GetTitle(): \n",
      "Problematic atoms are:\n",
      "Atom atomic num: 7, name: , idx: 18, aromatic: False, chiral: True with bonds:\n",
      "bond order: 1, chiral: False to atom atomic num: 6, name: , idx: 17, aromatic: True, chiral: False\n",
      "bond order: 1, chiral: False to atom atomic num: 6, name: , idx: 27, aromatic: False, chiral: False\n",
      "bond order: 1, chiral: False to atom atomic num: 6, name: , idx: 19, aromatic: False, chiral: False\n",
      "\n",
      "Warning (not error because allow_undefined_stereo=True): OEMol has unspecified stereochemistry. oemol.GetTitle(): \n",
      "Problematic atoms are:\n",
      "Atom atomic num: 6, name: , idx: 14, aromatic: False, chiral: True with bonds:\n",
      "bond order: 1, chiral: False to atom atomic num: 6, name: , idx: 13, aromatic: False, chiral: False\n",
      "bond order: 1, chiral: False to atom atomic num: 7, name: , idx: 3, aromatic: False, chiral: False\n",
      "bond order: 1, chiral: False to atom atomic num: 6, name: , idx: 15, aromatic: True, chiral: False\n",
      "bond order: 1, chiral: False to atom atomic num: 1, name: , idx: 33, aromatic: False, chiral: False\n",
      "\n",
      "Warning (not error because allow_undefined_stereo=True): OEMol has unspecified stereochemistry. oemol.GetTitle(): \n",
      "Problematic atoms are:\n",
      "Atom atomic num: 7, name: , idx: 1, aromatic: False, chiral: True with bonds:\n",
      "bond order: 1, chiral: False to atom atomic num: 6, name: , idx: 0, aromatic: False, chiral: False\n",
      "bond order: 1, chiral: False to atom atomic num: 6, name: , idx: 2, aromatic: False, chiral: False\n",
      "bond order: 1, chiral: False to atom atomic num: 6, name: , idx: 5, aromatic: True, chiral: False\n",
      "\n",
      "Warning (not error because allow_undefined_stereo=True): OEMol has unspecified stereochemistry. oemol.GetTitle(): \n",
      "Problematic atoms are:\n",
      "Atom atomic num: 6, name: , idx: 20, aromatic: False, chiral: True with bonds:\n",
      "bond order: 1, chiral: False to atom atomic num: 7, name: , idx: 7, aromatic: False, chiral: False\n",
      "bond order: 1, chiral: False to atom atomic num: 6, name: , idx: 21, aromatic: True, chiral: False\n",
      "bond order: 1, chiral: False to atom atomic num: 6, name: , idx: 28, aromatic: False, chiral: False\n",
      "bond order: 1, chiral: False to atom atomic num: 1, name: , idx: 42, aromatic: False, chiral: False\n",
      "\n",
      "Warning (not error because allow_undefined_stereo=True): OEMol has unspecified stereochemistry. oemol.GetTitle(): \n",
      "Problematic atoms are:\n",
      "Atom atomic num: 6, name: , idx: 6, aromatic: False, chiral: True with bonds:\n",
      "bond order: 1, chiral: False to atom atomic num: 6, name: , idx: 5, aromatic: True, chiral: False\n",
      "bond order: 1, chiral: False to atom atomic num: 7, name: , idx: 16, aromatic: False, chiral: False\n",
      "bond order: 1, chiral: False to atom atomic num: 6, name: , idx: 7, aromatic: False, chiral: False\n",
      "bond order: 1, chiral: False to atom atomic num: 1, name: , idx: 30, aromatic: False, chiral: False\n",
      "\n",
      "Warning (not error because allow_undefined_stereo=True): OEMol has unspecified stereochemistry. oemol.GetTitle(): \n",
      "Problematic atoms are:\n",
      "Atom atomic num: 6, name: , idx: 2, aromatic: False, chiral: True with bonds:\n",
      "bond order: 1, chiral: False to atom atomic num: 6, name: , idx: 1, aromatic: False, chiral: False\n",
      "bond order: 1, chiral: False to atom atomic num: 6, name: , idx: 3, aromatic: False, chiral: False\n",
      "bond order: 1, chiral: False to atom atomic num: 7, name: , idx: 4, aromatic: False, chiral: False\n",
      "bond order: 1, chiral: False to atom atomic num: 1, name: , idx: 33, aromatic: False, chiral: False\n",
      "\n",
      "Warning (not error because allow_undefined_stereo=True): OEMol has unspecified stereochemistry. oemol.GetTitle(): \n",
      "Problematic atoms are:\n",
      "Atom atomic num: 6, name: , idx: 1, aromatic: False, chiral: True with bonds:\n",
      "bond order: 1, chiral: False to atom atomic num: 6, name: , idx: 0, aromatic: False, chiral: False\n",
      "bond order: 1, chiral: False to atom atomic num: 6, name: , idx: 2, aromatic: True, chiral: False\n",
      "bond order: 1, chiral: False to atom atomic num: 7, name: , idx: 9, aromatic: False, chiral: False\n",
      "bond order: 1, chiral: False to atom atomic num: 1, name: , idx: 49, aromatic: False, chiral: False\n",
      "\n",
      "Warning (not error because allow_undefined_stereo=True): OEMol has unspecified stereochemistry. oemol.GetTitle(): \n",
      "Problematic atoms are:\n",
      "Atom atomic num: 6, name: , idx: 15, aromatic: False, chiral: True with bonds:\n",
      "bond order: 1, chiral: False to atom atomic num: 7, name: , idx: 8, aromatic: False, chiral: False\n",
      "bond order: 1, chiral: False to atom atomic num: 6, name: , idx: 16, aromatic: True, chiral: False\n",
      "bond order: 1, chiral: False to atom atomic num: 6, name: , idx: 22, aromatic: False, chiral: False\n",
      "bond order: 1, chiral: False to atom atomic num: 1, name: , idx: 32, aromatic: False, chiral: False\n",
      "\n",
      "Warning (not error because allow_undefined_stereo=True): OEMol has unspecified stereochemistry. oemol.GetTitle(): \n",
      "Problematic atoms are:\n",
      "Atom atomic num: 7, name: , idx: 19, aromatic: False, chiral: True with bonds:\n",
      "bond order: 1, chiral: False to atom atomic num: 6, name: , idx: 18, aromatic: False, chiral: False\n",
      "bond order: 1, chiral: False to atom atomic num: 6, name: , idx: 20, aromatic: False, chiral: False\n",
      "bond order: 1, chiral: False to atom atomic num: 6, name: , idx: 21, aromatic: False, chiral: False\n",
      "\n",
      "Warning (not error because allow_undefined_stereo=True): OEMol has unspecified stereochemistry. oemol.GetTitle(): \n",
      "Problematic atoms are:\n",
      "Atom atomic num: 6, name: , idx: 21, aromatic: False, chiral: True with bonds:\n",
      "bond order: 1, chiral: False to atom atomic num: 7, name: , idx: 8, aromatic: False, chiral: False\n",
      "bond order: 1, chiral: False to atom atomic num: 6, name: , idx: 22, aromatic: True, chiral: False\n",
      "bond order: 1, chiral: False to atom atomic num: 6, name: , idx: 29, aromatic: False, chiral: False\n",
      "bond order: 1, chiral: False to atom atomic num: 1, name: , idx: 42, aromatic: False, chiral: False\n",
      "\n",
      "Warning (not error because allow_undefined_stereo=True): OEMol has unspecified stereochemistry. oemol.GetTitle(): \n",
      "Problematic atoms are:\n",
      "Atom atomic num: 7, name: , idx: 27, aromatic: False, chiral: True with bonds:\n",
      "bond order: 1, chiral: False to atom atomic num: 6, name: , idx: 26, aromatic: False, chiral: False\n",
      "bond order: 1, chiral: False to atom atomic num: 6, name: , idx: 28, aromatic: False, chiral: False\n",
      "bond order: 1, chiral: False to atom atomic num: 6, name: , idx: 29, aromatic: False, chiral: False\n",
      "\n",
      "Warning (not error because allow_undefined_stereo=True): OEMol has unspecified stereochemistry. oemol.GetTitle(): \n",
      "Problematic atoms are:\n",
      "Atom atomic num: 7, name: , idx: 1, aromatic: False, chiral: True with bonds:\n",
      "bond order: 1, chiral: False to atom atomic num: 6, name: , idx: 0, aromatic: False, chiral: False\n",
      "bond order: 1, chiral: False to atom atomic num: 6, name: , idx: 2, aromatic: False, chiral: False\n",
      "bond order: 1, chiral: False to atom atomic num: 6, name: , idx: 6, aromatic: True, chiral: False\n",
      "\n",
      "Warning (not error because allow_undefined_stereo=True): OEMol has unspecified stereochemistry. oemol.GetTitle(): \n",
      "Problematic atoms are:\n",
      "Atom atomic num: 6, name: , idx: 14, aromatic: False, chiral: True with bonds:\n",
      "bond order: 1, chiral: False to atom atomic num: 6, name: , idx: 13, aromatic: False, chiral: False\n",
      "bond order: 1, chiral: False to atom atomic num: 7, name: , idx: 3, aromatic: False, chiral: False\n",
      "bond order: 1, chiral: False to atom atomic num: 6, name: , idx: 15, aromatic: True, chiral: False\n",
      "bond order: 1, chiral: False to atom atomic num: 1, name: , idx: 44, aromatic: False, chiral: False\n",
      "\n",
      "Warning (not error because allow_undefined_stereo=True): OEMol has unspecified stereochemistry. oemol.GetTitle(): \n",
      "Problematic atoms are:\n",
      "Atom atomic num: 6, name: , idx: 5, aromatic: False, chiral: True with bonds:\n",
      "bond order: 1, chiral: False to atom atomic num: 6, name: , idx: 4, aromatic: False, chiral: False\n",
      "bond order: 1, chiral: False to atom atomic num: 7, name: , idx: 6, aromatic: False, chiral: False\n",
      "bond order: 1, chiral: False to atom atomic num: 6, name: , idx: 7, aromatic: False, chiral: False\n",
      "bond order: 1, chiral: False to atom atomic num: 1, name: , idx: 44, aromatic: False, chiral: False\n",
      "\n",
      "Warning (not error because allow_undefined_stereo=True): OEMol has unspecified stereochemistry. oemol.GetTitle(): \n",
      "Problematic atoms are:\n",
      "Atom atomic num: 6, name: , idx: 4, aromatic: False, chiral: True with bonds:\n",
      "bond order: 1, chiral: False to atom atomic num: 6, name: , idx: 3, aromatic: False, chiral: False\n",
      "bond order: 1, chiral: False to atom atomic num: 6, name: , idx: 13, aromatic: True, chiral: False\n",
      "bond order: 1, chiral: False to atom atomic num: 6, name: , idx: 5, aromatic: False, chiral: False\n",
      "bond order: 1, chiral: False to atom atomic num: 1, name: , idx: 26, aromatic: False, chiral: False\n",
      "\n"
     ]
    },
    {
     "name": "stderr",
     "output_type": "stream",
     "text": [
      "Warning (not error because allow_undefined_stereo=True): OEMol has unspecified stereochemistry. oemol.GetTitle(): \n",
      "Problematic atoms are:\n",
      "Atom atomic num: 6, name: , idx: 7, aromatic: False, chiral: True with bonds:\n",
      "bond order: 1, chiral: False to atom atomic num: 7, name: , idx: 6, aromatic: False, chiral: False\n",
      "bond order: 1, chiral: False to atom atomic num: 6, name: , idx: 8, aromatic: False, chiral: False\n",
      "bond order: 1, chiral: False to atom atomic num: 6, name: , idx: 10, aromatic: False, chiral: False\n",
      "bond order: 1, chiral: False to atom atomic num: 1, name: , idx: 34, aromatic: False, chiral: False\n",
      "\n",
      "Warning (not error because allow_undefined_stereo=True): OEMol has unspecified stereochemistry. oemol.GetTitle(): \n",
      "Problematic atoms are:\n",
      "Atom atomic num: 15, name: , idx: 1, aromatic: False, chiral: True with bonds:\n",
      "bond order: 1, chiral: False to atom atomic num: 7, name: , idx: 0, aromatic: False, chiral: False\n",
      "bond order: 2, chiral: False to atom atomic num: 8, name: , idx: 2, aromatic: False, chiral: False\n",
      "bond order: 1, chiral: False to atom atomic num: 8, name: , idx: 3, aromatic: False, chiral: False\n",
      "bond order: 1, chiral: False to atom atomic num: 7, name: , idx: 36, aromatic: False, chiral: False\n",
      "\n",
      "Warning (not error because allow_undefined_stereo=True): OEMol has unspecified stereochemistry. oemol.GetTitle(): \n",
      "Problematic atoms are:\n",
      "Atom atomic num: 6, name: , idx: 15, aromatic: False, chiral: True with bonds:\n",
      "bond order: 1, chiral: False to atom atomic num: 7, name: , idx: 8, aromatic: False, chiral: False\n",
      "bond order: 1, chiral: False to atom atomic num: 6, name: , idx: 16, aromatic: True, chiral: False\n",
      "bond order: 1, chiral: False to atom atomic num: 6, name: , idx: 23, aromatic: False, chiral: False\n",
      "bond order: 1, chiral: False to atom atomic num: 1, name: , idx: 33, aromatic: False, chiral: False\n",
      "\n",
      "Warning (not error because allow_undefined_stereo=True): OEMol has unspecified stereochemistry. oemol.GetTitle(): \n",
      "Problematic atoms are:\n",
      "Atom atomic num: 6, name: , idx: 15, aromatic: False, chiral: True with bonds:\n",
      "bond order: 1, chiral: False to atom atomic num: 6, name: , idx: 14, aromatic: False, chiral: False\n",
      "bond order: 1, chiral: False to atom atomic num: 7, name: , idx: 3, aromatic: False, chiral: False\n",
      "bond order: 1, chiral: False to atom atomic num: 6, name: , idx: 16, aromatic: True, chiral: False\n",
      "bond order: 1, chiral: False to atom atomic num: 1, name: , idx: 32, aromatic: False, chiral: False\n",
      "\n",
      "Warning (not error because allow_undefined_stereo=True): OEMol has unspecified stereochemistry. oemol.GetTitle(): \n",
      "Problematic atoms are:\n",
      "Atom atomic num: 7, name: , idx: 32, aromatic: False, chiral: True with bonds:\n",
      "bond order: 1, chiral: False to atom atomic num: 6, name: , idx: 31, aromatic: True, chiral: False\n",
      "bond order: 1, chiral: False to atom atomic num: 6, name: , idx: 33, aromatic: False, chiral: False\n",
      "bond order: 1, chiral: False to atom atomic num: 6, name: , idx: 34, aromatic: False, chiral: False\n",
      "\n",
      "Warning (not error because allow_undefined_stereo=True): OEMol has unspecified stereochemistry. oemol.GetTitle(): \n",
      "Problematic atoms are:\n",
      "Atom atomic num: 6, name: , idx: 19, aromatic: False, chiral: True with bonds:\n",
      "bond order: 1, chiral: False to atom atomic num: 6, name: , idx: 13, aromatic: False, chiral: False\n",
      "bond order: 1, chiral: False to atom atomic num: 6, name: , idx: 2, aromatic: False, chiral: False\n",
      "bond order: 1, chiral: False to atom atomic num: 6, name: , idx: 20, aromatic: False, chiral: False\n",
      "bond order: 1, chiral: False to atom atomic num: 1, name: , idx: 45, aromatic: False, chiral: False\n",
      "\n",
      "Warning (not error because allow_undefined_stereo=True): OEMol has unspecified stereochemistry. oemol.GetTitle(): \n",
      "Problematic atoms are:\n",
      "Atom atomic num: 7, name: , idx: 6, aromatic: False, chiral: True with bonds:\n",
      "bond order: 1, chiral: False to atom atomic num: 6, name: , idx: 5, aromatic: False, chiral: False\n",
      "bond order: 1, chiral: False to atom atomic num: 6, name: , idx: 7, aromatic: True, chiral: False\n",
      "bond order: 1, chiral: False to atom atomic num: 6, name: , idx: 28, aromatic: False, chiral: False\n",
      "\n",
      "Warning (not error because allow_undefined_stereo=True): OEMol has unspecified stereochemistry. oemol.GetTitle(): \n",
      "Problematic atoms are:\n",
      "Atom atomic num: 15, name: , idx: 1, aromatic: False, chiral: True with bonds:\n",
      "bond order: 1, chiral: False to atom atomic num: 7, name: , idx: 0, aromatic: False, chiral: False\n",
      "bond order: 2, chiral: False to atom atomic num: 8, name: , idx: 2, aromatic: False, chiral: False\n",
      "bond order: 1, chiral: False to atom atomic num: 8, name: , idx: 3, aromatic: False, chiral: False\n",
      "bond order: 1, chiral: False to atom atomic num: 7, name: , idx: 26, aromatic: False, chiral: False\n",
      "\n",
      "Warning (not error because allow_undefined_stereo=True): OEMol has unspecified stereochemistry. oemol.GetTitle(): \n",
      "Problematic atoms are:\n",
      "Atom atomic num: 6, name: , idx: 16, aromatic: False, chiral: True with bonds:\n",
      "bond order: 1, chiral: False to atom atomic num: 6, name: , idx: 15, aromatic: False, chiral: False\n",
      "bond order: 1, chiral: False to atom atomic num: 7, name: , idx: 5, aromatic: False, chiral: False\n",
      "bond order: 1, chiral: False to atom atomic num: 6, name: , idx: 17, aromatic: True, chiral: False\n",
      "bond order: 1, chiral: False to atom atomic num: 1, name: , idx: 33, aromatic: False, chiral: False\n",
      "\n",
      "Warning (not error because allow_undefined_stereo=True): OEMol has unspecified stereochemistry. oemol.GetTitle(): \n",
      "Problematic atoms are:\n",
      "Atom atomic num: 6, name: , idx: 17, aromatic: False, chiral: True with bonds:\n",
      "bond order: 1, chiral: False to atom atomic num: 7, name: , idx: 16, aromatic: False, chiral: False\n",
      "bond order: 1, chiral: False to atom atomic num: 6, name: , idx: 21, aromatic: False, chiral: False\n",
      "bond order: 1, chiral: False to atom atomic num: 6, name: , idx: 18, aromatic: False, chiral: False\n",
      "bond order: 1, chiral: False to atom atomic num: 1, name: , idx: 31, aromatic: False, chiral: False\n",
      "\n",
      "Warning (not error because allow_undefined_stereo=True): OEMol has unspecified stereochemistry. oemol.GetTitle(): \n",
      "Problematic atoms are:\n",
      "Atom atomic num: 7, name: , idx: 5, aromatic: False, chiral: True with bonds:\n",
      "bond order: 1, chiral: False to atom atomic num: 6, name: , idx: 4, aromatic: False, chiral: False\n",
      "bond order: 1, chiral: False to atom atomic num: 6, name: , idx: 11, aromatic: False, chiral: False\n",
      "bond order: 1, chiral: False to atom atomic num: 6, name: , idx: 6, aromatic: False, chiral: False\n",
      "\n",
      "Warning (not error because allow_undefined_stereo=True): OEMol has unspecified stereochemistry. oemol.GetTitle(): \n",
      "Problematic atoms are:\n",
      "Atom atomic num: 6, name: , idx: 7, aromatic: False, chiral: True with bonds:\n",
      "bond order: 1, chiral: False to atom atomic num: 8, name: , idx: 6, aromatic: False, chiral: False\n",
      "bond order: 1, chiral: False to atom atomic num: 6, name: , idx: 8, aromatic: False, chiral: False\n",
      "bond order: 1, chiral: False to atom atomic num: 6, name: , idx: 13, aromatic: True, chiral: False\n",
      "bond order: 1, chiral: False to atom atomic num: 1, name: , idx: 30, aromatic: False, chiral: False\n",
      "\n",
      "Warning (not error because allow_undefined_stereo=True): OEMol has unspecified stereochemistry. oemol.GetTitle(): \n",
      "Problematic atoms are:\n",
      "Atom atomic num: 7, name: , idx: 34, aromatic: False, chiral: True with bonds:\n",
      "bond order: 1, chiral: False to atom atomic num: 6, name: , idx: 33, aromatic: True, chiral: False\n",
      "bond order: 1, chiral: False to atom atomic num: 6, name: , idx: 35, aromatic: False, chiral: False\n",
      "bond order: 1, chiral: False to atom atomic num: 6, name: , idx: 36, aromatic: False, chiral: False\n",
      "\n",
      "Warning (not error because allow_undefined_stereo=True): OEMol has unspecified stereochemistry. oemol.GetTitle(): \n",
      "Problematic atoms are:\n",
      "Atom atomic num: 6, name: , idx: 5, aromatic: False, chiral: True with bonds:\n",
      "bond order: 1, chiral: False to atom atomic num: 7, name: , idx: 4, aromatic: False, chiral: False\n",
      "bond order: 1, chiral: False to atom atomic num: 6, name: , idx: 32, aromatic: False, chiral: False\n",
      "bond order: 1, chiral: False to atom atomic num: 6, name: , idx: 6, aromatic: False, chiral: False\n",
      "bond order: 1, chiral: False to atom atomic num: 1, name: , idx: 37, aromatic: False, chiral: False\n",
      "Atom atomic num: 6, name: , idx: 8, aromatic: False, chiral: True with bonds:\n",
      "bond order: 1, chiral: False to atom atomic num: 6, name: , idx: 7, aromatic: False, chiral: False\n",
      "bond order: 1, chiral: False to atom atomic num: 7, name: , idx: 9, aromatic: False, chiral: False\n",
      "bond order: 1, chiral: False to atom atomic num: 6, name: , idx: 32, aromatic: False, chiral: False\n",
      "bond order: 1, chiral: False to atom atomic num: 1, name: , idx: 42, aromatic: False, chiral: False\n",
      "\n"
     ]
    },
    {
     "name": "stderr",
     "output_type": "stream",
     "text": [
      "Warning (not error because allow_undefined_stereo=True): OEMol has unspecified stereochemistry. oemol.GetTitle(): \n",
      "Problematic atoms are:\n",
      "Atom atomic num: 6, name: , idx: 10, aromatic: False, chiral: True with bonds:\n",
      "bond order: 1, chiral: False to atom atomic num: 7, name: , idx: 9, aromatic: False, chiral: False\n",
      "bond order: 1, chiral: False to atom atomic num: 6, name: , idx: 11, aromatic: True, chiral: False\n",
      "bond order: 1, chiral: False to atom atomic num: 6, name: , idx: 17, aromatic: False, chiral: False\n",
      "bond order: 1, chiral: False to atom atomic num: 1, name: , idx: 39, aromatic: False, chiral: False\n",
      "Atom atomic num: 6, name: , idx: 19, aromatic: False, chiral: True with bonds:\n",
      "bond order: 1, chiral: False to atom atomic num: 7, name: , idx: 7, aromatic: False, chiral: False\n",
      "bond order: 1, chiral: False to atom atomic num: 6, name: , idx: 20, aromatic: True, chiral: False\n",
      "bond order: 1, chiral: False to atom atomic num: 6, name: , idx: 30, aromatic: False, chiral: False\n",
      "bond order: 1, chiral: False to atom atomic num: 1, name: , idx: 47, aromatic: False, chiral: False\n",
      "\n",
      "Warning (not error because allow_undefined_stereo=True): OEMol has unspecified stereochemistry. oemol.GetTitle(): \n",
      "Problematic atoms are:\n",
      "Atom atomic num: 7, name: , idx: 13, aromatic: False, chiral: True with bonds:\n",
      "bond order: 1, chiral: False to atom atomic num: 6, name: , idx: 12, aromatic: True, chiral: False\n",
      "bond order: 1, chiral: False to atom atomic num: 6, name: , idx: 22, aromatic: False, chiral: False\n",
      "bond order: 1, chiral: False to atom atomic num: 6, name: , idx: 14, aromatic: False, chiral: False\n",
      "\n",
      "Warning (not error because allow_undefined_stereo=True): OEMol has unspecified stereochemistry. oemol.GetTitle(): \n",
      "Problematic atoms are:\n",
      "Atom atomic num: 7, name: , idx: 2, aromatic: False, chiral: True with bonds:\n",
      "bond order: 1, chiral: False to atom atomic num: 6, name: , idx: 1, aromatic: False, chiral: False\n",
      "bond order: 1, chiral: False to atom atomic num: 6, name: , idx: 3, aromatic: False, chiral: False\n",
      "bond order: 1, chiral: False to atom atomic num: 6, name: , idx: 41, aromatic: False, chiral: False\n",
      "\n",
      "Warning (not error because allow_undefined_stereo=True): OEMol has unspecified stereochemistry. oemol.GetTitle(): \n",
      "Problematic atoms are:\n",
      "Atom atomic num: 7, name: , idx: 24, aromatic: False, chiral: True with bonds:\n",
      "bond order: 1, chiral: False to atom atomic num: 6, name: , idx: 23, aromatic: False, chiral: False\n",
      "bond order: 1, chiral: False to atom atomic num: 6, name: , idx: 25, aromatic: False, chiral: False\n",
      "bond order: 1, chiral: False to atom atomic num: 6, name: , idx: 26, aromatic: False, chiral: False\n",
      "\n",
      "Warning (not error because allow_undefined_stereo=True): OEMol has unspecified stereochemistry. oemol.GetTitle(): \n",
      "Problematic atoms are:\n",
      "Atom atomic num: 6, name: , idx: 1, aromatic: False, chiral: True with bonds:\n",
      "bond order: 1, chiral: False to atom atomic num: 6, name: , idx: 0, aromatic: False, chiral: False\n",
      "bond order: 1, chiral: False to atom atomic num: 6, name: , idx: 2, aromatic: False, chiral: False\n",
      "bond order: 1, chiral: False to atom atomic num: 6, name: , idx: 6, aromatic: False, chiral: False\n",
      "bond order: 1, chiral: False to atom atomic num: 1, name: , idx: 31, aromatic: False, chiral: False\n",
      "\n",
      "Warning (not error because allow_undefined_stereo=True): OEMol has unspecified stereochemistry. oemol.GetTitle(): \n",
      "Problematic atoms are:\n",
      "Atom atomic num: 6, name: , idx: 3, aromatic: False, chiral: True with bonds:\n",
      "bond order: 1, chiral: False to atom atomic num: 6, name: , idx: 1, aromatic: False, chiral: False\n",
      "bond order: 1, chiral: False to atom atomic num: 6, name: , idx: 4, aromatic: False, chiral: False\n",
      "bond order: 1, chiral: False to atom atomic num: 7, name: , idx: 6, aromatic: False, chiral: False\n",
      "bond order: 1, chiral: False to atom atomic num: 1, name: , idx: 39, aromatic: False, chiral: False\n",
      "\n",
      "Warning (not error because allow_undefined_stereo=True): OEMol has unspecified stereochemistry. oemol.GetTitle(): \n",
      "Problematic atoms are:\n",
      "Atom atomic num: 6, name: , idx: 1, aromatic: False, chiral: True with bonds:\n",
      "bond order: 1, chiral: False to atom atomic num: 6, name: , idx: 0, aromatic: False, chiral: False\n",
      "bond order: 1, chiral: False to atom atomic num: 8, name: , idx: 2, aromatic: False, chiral: False\n",
      "bond order: 1, chiral: False to atom atomic num: 6, name: , idx: 3, aromatic: False, chiral: True\n",
      "bond order: 1, chiral: False to atom atomic num: 1, name: , idx: 27, aromatic: False, chiral: False\n",
      "Atom atomic num: 6, name: , idx: 3, aromatic: False, chiral: True with bonds:\n",
      "bond order: 1, chiral: False to atom atomic num: 6, name: , idx: 1, aromatic: False, chiral: True\n",
      "bond order: 1, chiral: False to atom atomic num: 7, name: , idx: 4, aromatic: False, chiral: False\n",
      "bond order: 1, chiral: False to atom atomic num: 6, name: , idx: 21, aromatic: False, chiral: False\n",
      "bond order: 1, chiral: False to atom atomic num: 1, name: , idx: 29, aromatic: False, chiral: False\n",
      "Atom atomic num: 6, name: , idx: 11, aromatic: False, chiral: True with bonds:\n",
      "bond order: 1, chiral: False to atom atomic num: 7, name: , idx: 10, aromatic: False, chiral: False\n",
      "bond order: 1, chiral: False to atom atomic num: 6, name: , idx: 12, aromatic: False, chiral: False\n",
      "bond order: 1, chiral: False to atom atomic num: 6, name: , idx: 15, aromatic: False, chiral: True\n",
      "bond order: 1, chiral: False to atom atomic num: 1, name: , idx: 32, aromatic: False, chiral: False\n",
      "Atom atomic num: 6, name: , idx: 15, aromatic: False, chiral: True with bonds:\n",
      "bond order: 1, chiral: False to atom atomic num: 6, name: , idx: 11, aromatic: False, chiral: True\n",
      "bond order: 1, chiral: False to atom atomic num: 6, name: , idx: 16, aromatic: False, chiral: False\n",
      "bond order: 1, chiral: False to atom atomic num: 8, name: , idx: 17, aromatic: False, chiral: False\n",
      "bond order: 1, chiral: False to atom atomic num: 1, name: , idx: 34, aromatic: False, chiral: False\n",
      "\n",
      "Warning (not error because allow_undefined_stereo=True): OEMol has unspecified stereochemistry. oemol.GetTitle(): \n",
      "Problematic atoms are:\n",
      "Atom atomic num: 6, name: , idx: 5, aromatic: False, chiral: True with bonds:\n",
      "bond order: 1, chiral: False to atom atomic num: 6, name: , idx: 4, aromatic: True, chiral: False\n",
      "bond order: 1, chiral: False to atom atomic num: 7, name: , idx: 16, aromatic: False, chiral: False\n",
      "bond order: 1, chiral: False to atom atomic num: 6, name: , idx: 6, aromatic: False, chiral: False\n",
      "bond order: 1, chiral: False to atom atomic num: 1, name: , idx: 30, aromatic: False, chiral: False\n",
      "\n",
      "Warning (not error because allow_undefined_stereo=True): OEMol has unspecified stereochemistry. oemol.GetTitle(): \n",
      "Problematic atoms are:\n",
      "Atom atomic num: 7, name: , idx: 5, aromatic: False, chiral: True with bonds:\n",
      "bond order: 1, chiral: False to atom atomic num: 6, name: , idx: 4, aromatic: False, chiral: False\n",
      "bond order: 1, chiral: False to atom atomic num: 6, name: , idx: 26, aromatic: False, chiral: False\n",
      "bond order: 1, chiral: False to atom atomic num: 6, name: , idx: 6, aromatic: False, chiral: False\n",
      "Atom atomic num: 6, name: , idx: 8, aromatic: False, chiral: True with bonds:\n",
      "bond order: 1, chiral: False to atom atomic num: 6, name: , idx: 7, aromatic: False, chiral: False\n",
      "bond order: 1, chiral: False to atom atomic num: 7, name: , idx: 9, aromatic: False, chiral: False\n",
      "bond order: 1, chiral: False to atom atomic num: 6, name: , idx: 26, aromatic: False, chiral: False\n",
      "bond order: 1, chiral: False to atom atomic num: 1, name: , idx: 36, aromatic: False, chiral: False\n",
      "\n",
      "Warning (not error because allow_undefined_stereo=True): OEMol has unspecified stereochemistry. oemol.GetTitle(): \n",
      "Problematic atoms are:\n",
      "Atom atomic num: 7, name: , idx: 28, aromatic: False, chiral: True with bonds:\n",
      "bond order: 1, chiral: False to atom atomic num: 6, name: , idx: 27, aromatic: False, chiral: False\n",
      "bond order: 1, chiral: False to atom atomic num: 6, name: , idx: 29, aromatic: False, chiral: False\n",
      "bond order: 1, chiral: False to atom atomic num: 6, name: , idx: 30, aromatic: False, chiral: False\n",
      "\n",
      "Warning (not error because allow_undefined_stereo=True): OEMol has unspecified stereochemistry. oemol.GetTitle(): \n",
      "Problematic atoms are:\n",
      "Atom atomic num: 6, name: , idx: 17, aromatic: False, chiral: True with bonds:\n",
      "bond order: 1, chiral: False to atom atomic num: 6, name: , idx: 16, aromatic: False, chiral: False\n",
      "bond order: 1, chiral: False to atom atomic num: 8, name: , idx: 21, aromatic: False, chiral: False\n",
      "bond order: 1, chiral: False to atom atomic num: 6, name: , idx: 18, aromatic: False, chiral: False\n",
      "bond order: 1, chiral: False to atom atomic num: 1, name: , idx: 39, aromatic: False, chiral: False\n",
      "\n"
     ]
    },
    {
     "name": "stderr",
     "output_type": "stream",
     "text": [
      "Warning (not error because allow_undefined_stereo=True): OEMol has unspecified stereochemistry. oemol.GetTitle(): \n",
      "Problematic atoms are:\n",
      "Atom atomic num: 7, name: , idx: 30, aromatic: False, chiral: True with bonds:\n",
      "bond order: 1, chiral: False to atom atomic num: 6, name: , idx: 29, aromatic: True, chiral: False\n",
      "bond order: 1, chiral: False to atom atomic num: 6, name: , idx: 31, aromatic: False, chiral: False\n",
      "bond order: 1, chiral: False to atom atomic num: 6, name: , idx: 32, aromatic: False, chiral: False\n",
      "\n",
      "Warning (not error because allow_undefined_stereo=True): OEMol has unspecified stereochemistry. oemol.GetTitle(): \n",
      "Problematic atoms are:\n",
      "Atom atomic num: 7, name: , idx: 1, aromatic: False, chiral: True with bonds:\n",
      "bond order: 1, chiral: False to atom atomic num: 6, name: , idx: 0, aromatic: False, chiral: False\n",
      "bond order: 1, chiral: False to atom atomic num: 6, name: , idx: 2, aromatic: False, chiral: False\n",
      "bond order: 1, chiral: False to atom atomic num: 6, name: , idx: 25, aromatic: False, chiral: False\n",
      "\n",
      "Warning (not error because allow_undefined_stereo=True): OEMol has unspecified stereochemistry. oemol.GetTitle(): \n",
      "Problematic atoms are:\n",
      "Atom atomic num: 16, name: , idx: 31, aromatic: False, chiral: True with bonds:\n",
      "bond order: 1, chiral: False to atom atomic num: 6, name: , idx: 30, aromatic: True, chiral: False\n",
      "bond order: 1, chiral: False to atom atomic num: 6, name: , idx: 32, aromatic: False, chiral: False\n",
      "bond order: 1, chiral: False to atom atomic num: 8, name: , idx: 33, aromatic: False, chiral: False\n",
      "Atom atomic num: 16, name: , idx: 60, aromatic: False, chiral: True with bonds:\n",
      "bond order: 1, chiral: False to atom atomic num: 6, name: , idx: 59, aromatic: True, chiral: False\n",
      "bond order: 1, chiral: False to atom atomic num: 6, name: , idx: 61, aromatic: False, chiral: False\n",
      "bond order: 1, chiral: False to atom atomic num: 8, name: , idx: 62, aromatic: False, chiral: False\n",
      "\n",
      "Warning (not error because allow_undefined_stereo=True): OEMol has unspecified stereochemistry. oemol.GetTitle(): \n",
      "Problematic atoms are:\n",
      "Atom atomic num: 7, name: , idx: 22, aromatic: False, chiral: True with bonds:\n",
      "bond order: 1, chiral: False to atom atomic num: 6, name: , idx: 21, aromatic: False, chiral: False\n",
      "bond order: 1, chiral: False to atom atomic num: 6, name: , idx: 26, aromatic: False, chiral: True\n",
      "bond order: 1, chiral: False to atom atomic num: 6, name: , idx: 23, aromatic: False, chiral: False\n",
      "\n",
      "Warning (not error because allow_undefined_stereo=True): OEMol has unspecified stereochemistry. oemol.GetTitle(): \n",
      "Problematic atoms are:\n",
      "Atom atomic num: 6, name: , idx: 22, aromatic: False, chiral: True with bonds:\n",
      "bond order: 1, chiral: False to atom atomic num: 7, name: , idx: 21, aromatic: False, chiral: False\n",
      "bond order: 1, chiral: False to atom atomic num: 6, name: , idx: 23, aromatic: False, chiral: False\n",
      "bond order: 1, chiral: False to atom atomic num: 6, name: , idx: 24, aromatic: False, chiral: False\n",
      "bond order: 1, chiral: False to atom atomic num: 1, name: , idx: 43, aromatic: False, chiral: False\n",
      "\n",
      "Warning (not error because allow_undefined_stereo=True): OEMol has unspecified stereochemistry. oemol.GetTitle(): \n",
      "Problematic atoms are:\n",
      "Atom atomic num: 7, name: , idx: 34, aromatic: False, chiral: True with bonds:\n",
      "bond order: 1, chiral: False to atom atomic num: 6, name: , idx: 33, aromatic: True, chiral: False\n",
      "bond order: 1, chiral: False to atom atomic num: 6, name: , idx: 41, aromatic: False, chiral: False\n",
      "bond order: 1, chiral: False to atom atomic num: 6, name: , idx: 35, aromatic: False, chiral: False\n",
      "Atom atomic num: 7, name: , idx: 38, aromatic: False, chiral: True with bonds:\n",
      "bond order: 1, chiral: False to atom atomic num: 6, name: , idx: 37, aromatic: False, chiral: False\n",
      "bond order: 1, chiral: False to atom atomic num: 6, name: , idx: 39, aromatic: False, chiral: False\n",
      "bond order: 1, chiral: False to atom atomic num: 6, name: , idx: 40, aromatic: False, chiral: False\n",
      "\n",
      "Warning (not error because allow_undefined_stereo=True): OEMol has unspecified stereochemistry. oemol.GetTitle(): \n",
      "Problematic atoms are:\n",
      "Atom atomic num: 6, name: , idx: 21, aromatic: False, chiral: True with bonds:\n",
      "bond order: 1, chiral: False to atom atomic num: 6, name: , idx: 12, aromatic: False, chiral: False\n",
      "bond order: 1, chiral: False to atom atomic num: 6, name: , idx: 8, aromatic: False, chiral: False\n",
      "bond order: 1, chiral: False to atom atomic num: 6, name: , idx: 5, aromatic: False, chiral: False\n",
      "bond order: 1, chiral: False to atom atomic num: 1, name: , idx: 37, aromatic: False, chiral: False\n",
      "\n",
      "Warning (not error because allow_undefined_stereo=True): OEMol has unspecified stereochemistry. oemol.GetTitle(): \n",
      "Problematic atoms are:\n",
      "Atom atomic num: 7, name: , idx: 1, aromatic: False, chiral: True with bonds:\n",
      "bond order: 1, chiral: False to atom atomic num: 6, name: , idx: 0, aromatic: False, chiral: False\n",
      "bond order: 1, chiral: False to atom atomic num: 6, name: , idx: 2, aromatic: False, chiral: False\n",
      "bond order: 1, chiral: False to atom atomic num: 6, name: , idx: 5, aromatic: True, chiral: False\n",
      "\n",
      "Warning (not error because allow_undefined_stereo=True): OEMol has unspecified stereochemistry. oemol.GetTitle(): \n",
      "Problematic atoms are:\n",
      "Atom atomic num: 7, name: , idx: 31, aromatic: False, chiral: True with bonds:\n",
      "bond order: 1, chiral: False to atom atomic num: 6, name: , idx: 30, aromatic: True, chiral: False\n",
      "bond order: 1, chiral: False to atom atomic num: 6, name: , idx: 32, aromatic: False, chiral: False\n",
      "bond order: 1, chiral: False to atom atomic num: 6, name: , idx: 33, aromatic: False, chiral: False\n",
      "\n",
      "Warning (not error because allow_undefined_stereo=True): OEMol has unspecified stereochemistry. oemol.GetTitle(): \n",
      "Problematic atoms are:\n",
      "Atom atomic num: 7, name: , idx: 28, aromatic: False, chiral: True with bonds:\n",
      "bond order: 1, chiral: False to atom atomic num: 6, name: , idx: 27, aromatic: True, chiral: False\n",
      "bond order: 1, chiral: False to atom atomic num: 6, name: , idx: 29, aromatic: False, chiral: False\n",
      "bond order: 1, chiral: False to atom atomic num: 6, name: , idx: 30, aromatic: False, chiral: False\n",
      "\n",
      "Warning (not error because allow_undefined_stereo=True): OEMol has unspecified stereochemistry. oemol.GetTitle(): \n",
      "Problematic atoms are:\n",
      "Atom atomic num: 6, name: , idx: 2, aromatic: False, chiral: True with bonds:\n",
      "bond order: 1, chiral: False to atom atomic num: 6, name: , idx: 1, aromatic: False, chiral: False\n",
      "bond order: 1, chiral: False to atom atomic num: 8, name: , idx: 3, aromatic: False, chiral: False\n",
      "bond order: 1, chiral: False to atom atomic num: 6, name: , idx: 4, aromatic: False, chiral: False\n",
      "bond order: 1, chiral: False to atom atomic num: 1, name: , idx: 27, aromatic: False, chiral: False\n",
      "\n",
      "Warning (not error because allow_undefined_stereo=True): OEMol has unspecified stereochemistry. oemol.GetTitle(): \n",
      "Problematic atoms are:\n",
      "Atom atomic num: 6, name: , idx: 17, aromatic: False, chiral: True with bonds:\n",
      "bond order: 1, chiral: False to atom atomic num: 7, name: , idx: 16, aromatic: False, chiral: False\n",
      "bond order: 1, chiral: False to atom atomic num: 6, name: , idx: 21, aromatic: False, chiral: False\n",
      "bond order: 1, chiral: False to atom atomic num: 6, name: , idx: 18, aromatic: False, chiral: False\n",
      "bond order: 1, chiral: False to atom atomic num: 1, name: , idx: 31, aromatic: False, chiral: False\n",
      "\n",
      "Warning (not error because allow_undefined_stereo=True): OEMol has unspecified stereochemistry. oemol.GetTitle(): \n",
      "Problematic atoms are:\n",
      "Atom atomic num: 6, name: , idx: 15, aromatic: False, chiral: True with bonds:\n",
      "bond order: 1, chiral: False to atom atomic num: 6, name: , idx: 14, aromatic: False, chiral: False\n",
      "bond order: 1, chiral: False to atom atomic num: 7, name: , idx: 3, aromatic: False, chiral: False\n",
      "bond order: 1, chiral: False to atom atomic num: 6, name: , idx: 16, aromatic: True, chiral: False\n",
      "bond order: 1, chiral: False to atom atomic num: 1, name: , idx: 31, aromatic: False, chiral: False\n",
      "\n",
      "Warning (not error because allow_undefined_stereo=True): OEMol has unspecified stereochemistry. oemol.GetTitle(): \n",
      "Problematic atoms are:\n",
      "Atom atomic num: 7, name: , idx: 3, aromatic: False, chiral: True with bonds:\n",
      "bond order: 1, chiral: False to atom atomic num: 6, name: , idx: 1, aromatic: False, chiral: False\n",
      "bond order: 1, chiral: False to atom atomic num: 6, name: , idx: 4, aromatic: False, chiral: False\n",
      "bond order: 1, chiral: False to atom atomic num: 6, name: , idx: 18, aromatic: False, chiral: False\n",
      "\n"
     ]
    },
    {
     "name": "stderr",
     "output_type": "stream",
     "text": [
      "Warning (not error because allow_undefined_stereo=True): OEMol has unspecified stereochemistry. oemol.GetTitle(): \n",
      "Problematic atoms are:\n",
      "Atom atomic num: 7, name: , idx: 32, aromatic: False, chiral: True with bonds:\n",
      "bond order: 1, chiral: False to atom atomic num: 6, name: , idx: 31, aromatic: True, chiral: False\n",
      "bond order: 1, chiral: False to atom atomic num: 6, name: , idx: 33, aromatic: False, chiral: False\n",
      "bond order: 1, chiral: False to atom atomic num: 6, name: , idx: 34, aromatic: False, chiral: False\n",
      "\n",
      "Warning (not error because allow_undefined_stereo=True): OEMol has unspecified stereochemistry. oemol.GetTitle(): \n",
      "Problematic atoms are:\n",
      "Atom atomic num: 6, name: , idx: 8, aromatic: False, chiral: True with bonds:\n",
      "bond order: 1, chiral: False to atom atomic num: 6, name: , idx: 7, aromatic: True, chiral: False\n",
      "bond order: 1, chiral: False to atom atomic num: 6, name: , idx: 9, aromatic: False, chiral: False\n",
      "bond order: 1, chiral: False to atom atomic num: 7, name: , idx: 10, aromatic: False, chiral: False\n",
      "bond order: 1, chiral: False to atom atomic num: 1, name: , idx: 35, aromatic: False, chiral: False\n",
      "\n",
      "Warning (not error because allow_undefined_stereo=True): OEMol has unspecified stereochemistry. oemol.GetTitle(): \n",
      "Problematic atoms are:\n",
      "Atom atomic num: 6, name: , idx: 5, aromatic: False, chiral: True with bonds:\n",
      "bond order: 1, chiral: False to atom atomic num: 6, name: , idx: 4, aromatic: True, chiral: False\n",
      "bond order: 1, chiral: False to atom atomic num: 7, name: , idx: 16, aromatic: False, chiral: False\n",
      "bond order: 1, chiral: False to atom atomic num: 6, name: , idx: 6, aromatic: False, chiral: False\n",
      "bond order: 1, chiral: False to atom atomic num: 1, name: , idx: 33, aromatic: False, chiral: False\n",
      "\n",
      "Warning (not error because allow_undefined_stereo=True): OEMol has unspecified stereochemistry. oemol.GetTitle(): \n",
      "Problematic atoms are:\n",
      "Atom atomic num: 6, name: , idx: 21, aromatic: False, chiral: True with bonds:\n",
      "bond order: 1, chiral: False to atom atomic num: 7, name: , idx: 8, aromatic: False, chiral: False\n",
      "bond order: 1, chiral: False to atom atomic num: 6, name: , idx: 22, aromatic: True, chiral: False\n",
      "bond order: 1, chiral: False to atom atomic num: 6, name: , idx: 29, aromatic: False, chiral: False\n",
      "bond order: 1, chiral: False to atom atomic num: 1, name: , idx: 42, aromatic: False, chiral: False\n",
      "\n",
      "Warning (not error because allow_undefined_stereo=True): OEMol has unspecified stereochemistry. oemol.GetTitle(): \n",
      "Problematic atoms are:\n",
      "Atom atomic num: 6, name: , idx: 10, aromatic: False, chiral: True with bonds:\n",
      "bond order: 1, chiral: False to atom atomic num: 6, name: , idx: 9, aromatic: False, chiral: False\n",
      "bond order: 1, chiral: False to atom atomic num: 6, name: , idx: 11, aromatic: False, chiral: False\n",
      "bond order: 1, chiral: False to atom atomic num: 6, name: , idx: 12, aromatic: False, chiral: False\n",
      "bond order: 1, chiral: False to atom atomic num: 1, name: , idx: 37, aromatic: False, chiral: False\n",
      "\n",
      "Warning (not error because allow_undefined_stereo=True): OEMol has unspecified stereochemistry. oemol.GetTitle(): \n",
      "Problematic atoms are:\n",
      "Atom atomic num: 16, name: , idx: 31, aromatic: False, chiral: True with bonds:\n",
      "bond order: 1, chiral: False to atom atomic num: 6, name: , idx: 30, aromatic: True, chiral: False\n",
      "bond order: 1, chiral: False to atom atomic num: 6, name: , idx: 32, aromatic: False, chiral: False\n",
      "bond order: 1, chiral: False to atom atomic num: 8, name: , idx: 33, aromatic: False, chiral: False\n",
      "\n",
      "Warning (not error because allow_undefined_stereo=True): OEMol has unspecified stereochemistry. oemol.GetTitle(): \n",
      "Problematic atoms are:\n",
      "Atom atomic num: 7, name: , idx: 6, aromatic: False, chiral: True with bonds:\n",
      "bond order: 1, chiral: False to atom atomic num: 6, name: , idx: 4, aromatic: False, chiral: True\n",
      "bond order: 1, chiral: False to atom atomic num: 6, name: , idx: 7, aromatic: False, chiral: False\n",
      "bond order: 1, chiral: False to atom atomic num: 6, name: , idx: 8, aromatic: False, chiral: False\n",
      "\n",
      "Warning (not error because allow_undefined_stereo=True): OEMol has unspecified stereochemistry. oemol.GetTitle(): \n",
      "Problematic atoms are:\n",
      "Atom atomic num: 6, name: , idx: 14, aromatic: False, chiral: True with bonds:\n",
      "bond order: 1, chiral: False to atom atomic num: 7, name: , idx: 7, aromatic: False, chiral: False\n",
      "bond order: 1, chiral: False to atom atomic num: 6, name: , idx: 15, aromatic: True, chiral: False\n",
      "bond order: 1, chiral: False to atom atomic num: 6, name: , idx: 25, aromatic: False, chiral: False\n",
      "bond order: 1, chiral: False to atom atomic num: 1, name: , idx: 38, aromatic: False, chiral: False\n",
      "\n",
      "Warning (not error because allow_undefined_stereo=True): OEMol has unspecified stereochemistry. oemol.GetTitle(): \n",
      "Problematic atoms are:\n",
      "Atom atomic num: 7, name: , idx: 13, aromatic: False, chiral: True with bonds:\n",
      "bond order: 1, chiral: False to atom atomic num: 6, name: , idx: 12, aromatic: True, chiral: False\n",
      "bond order: 1, chiral: False to atom atomic num: 6, name: , idx: 22, aromatic: False, chiral: False\n",
      "bond order: 1, chiral: False to atom atomic num: 6, name: , idx: 14, aromatic: False, chiral: False\n",
      "\n",
      "Warning (not error because allow_undefined_stereo=True): OEMol has unspecified stereochemistry. oemol.GetTitle(): \n",
      "Problematic atoms are:\n",
      "Atom atomic num: 6, name: , idx: 19, aromatic: False, chiral: True with bonds:\n",
      "bond order: 1, chiral: False to atom atomic num: 7, name: , idx: 7, aromatic: False, chiral: False\n",
      "bond order: 1, chiral: False to atom atomic num: 6, name: , idx: 20, aromatic: True, chiral: False\n",
      "bond order: 1, chiral: False to atom atomic num: 6, name: , idx: 29, aromatic: False, chiral: False\n",
      "bond order: 1, chiral: False to atom atomic num: 1, name: , idx: 44, aromatic: False, chiral: False\n",
      "\n",
      "Warning (not error because allow_undefined_stereo=True): OEMol has unspecified stereochemistry. oemol.GetTitle(): \n",
      "Problematic atoms are:\n",
      "Atom atomic num: 6, name: , idx: 15, aromatic: False, chiral: True with bonds:\n",
      "bond order: 1, chiral: False to atom atomic num: 6, name: , idx: 14, aromatic: False, chiral: False\n",
      "bond order: 1, chiral: False to atom atomic num: 7, name: , idx: 3, aromatic: False, chiral: False\n",
      "bond order: 1, chiral: False to atom atomic num: 6, name: , idx: 16, aromatic: True, chiral: False\n",
      "bond order: 1, chiral: False to atom atomic num: 1, name: , idx: 33, aromatic: False, chiral: False\n",
      "\n",
      "Warning (not error because allow_undefined_stereo=True): OEMol has unspecified stereochemistry. oemol.GetTitle(): \n",
      "Problematic atoms are:\n",
      "Atom atomic num: 6, name: , idx: 24, aromatic: False, chiral: True with bonds:\n",
      "bond order: 1, chiral: False to atom atomic num: 6, name: , idx: 16, aromatic: False, chiral: False\n",
      "bond order: 1, chiral: False to atom atomic num: 6, name: , idx: 5, aromatic: False, chiral: False\n",
      "bond order: 1, chiral: False to atom atomic num: 6, name: , idx: 25, aromatic: False, chiral: False\n",
      "bond order: 1, chiral: False to atom atomic num: 1, name: , idx: 60, aromatic: False, chiral: False\n",
      "\n",
      "Warning (not error because allow_undefined_stereo=True): OEMol has unspecified stereochemistry. oemol.GetTitle(): \n",
      "Problematic atoms are:\n",
      "Atom atomic num: 6, name: , idx: 10, aromatic: False, chiral: True with bonds:\n",
      "bond order: 1, chiral: False to atom atomic num: 7, name: , idx: 9, aromatic: False, chiral: False\n",
      "bond order: 1, chiral: False to atom atomic num: 6, name: , idx: 12, aromatic: False, chiral: True\n",
      "bond order: 1, chiral: False to atom atomic num: 6, name: , idx: 11, aromatic: False, chiral: False\n",
      "bond order: 1, chiral: False to atom atomic num: 1, name: , idx: 35, aromatic: False, chiral: False\n",
      "Atom atomic num: 6, name: , idx: 12, aromatic: False, chiral: True with bonds:\n",
      "bond order: 1, chiral: False to atom atomic num: 6, name: , idx: 11, aromatic: False, chiral: False\n",
      "bond order: 1, chiral: False to atom atomic num: 6, name: , idx: 10, aromatic: False, chiral: True\n",
      "bond order: 1, chiral: False to atom atomic num: 6, name: , idx: 13, aromatic: True, chiral: False\n",
      "bond order: 1, chiral: False to atom atomic num: 1, name: , idx: 38, aromatic: False, chiral: False\n",
      "\n",
      "Warning (not error because allow_undefined_stereo=True): OEMol has unspecified stereochemistry. oemol.GetTitle(): \n",
      "Problematic atoms are:\n",
      "Atom atomic num: 6, name: , idx: 22, aromatic: False, chiral: True with bonds:\n",
      "bond order: 1, chiral: False to atom atomic num: 7, name: , idx: 21, aromatic: False, chiral: False\n",
      "bond order: 1, chiral: False to atom atomic num: 6, name: , idx: 2, aromatic: False, chiral: False\n",
      "bond order: 1, chiral: False to atom atomic num: 6, name: , idx: 23, aromatic: False, chiral: False\n",
      "bond order: 1, chiral: False to atom atomic num: 1, name: , idx: 39, aromatic: False, chiral: False\n",
      "\n"
     ]
    },
    {
     "name": "stderr",
     "output_type": "stream",
     "text": [
      "Warning (not error because allow_undefined_stereo=True): OEMol has unspecified stereochemistry. oemol.GetTitle(): \n",
      "Problematic atoms are:\n",
      "Atom atomic num: 7, name: , idx: 5, aromatic: False, chiral: True with bonds:\n",
      "bond order: 1, chiral: False to atom atomic num: 6, name: , idx: 4, aromatic: False, chiral: False\n",
      "bond order: 1, chiral: False to atom atomic num: 6, name: , idx: 6, aromatic: False, chiral: False\n",
      "bond order: 1, chiral: False to atom atomic num: 6, name: , idx: 7, aromatic: True, chiral: False\n",
      "\n",
      "Warning (not error because allow_undefined_stereo=True): OEMol has unspecified stereochemistry. oemol.GetTitle(): \n",
      "Problematic atoms are:\n",
      "Atom atomic num: 7, name: , idx: 33, aromatic: False, chiral: True with bonds:\n",
      "bond order: 1, chiral: False to atom atomic num: 6, name: , idx: 32, aromatic: True, chiral: False\n",
      "bond order: 1, chiral: False to atom atomic num: 6, name: , idx: 34, aromatic: False, chiral: False\n",
      "bond order: 1, chiral: False to atom atomic num: 6, name: , idx: 35, aromatic: False, chiral: False\n",
      "\n",
      "Warning (not error because allow_undefined_stereo=True): OEMol has unspecified stereochemistry. oemol.GetTitle(): \n",
      "Problematic atoms are:\n",
      "Atom atomic num: 6, name: , idx: 21, aromatic: False, chiral: True with bonds:\n",
      "bond order: 1, chiral: False to atom atomic num: 7, name: , idx: 8, aromatic: False, chiral: False\n",
      "bond order: 1, chiral: False to atom atomic num: 6, name: , idx: 22, aromatic: True, chiral: False\n",
      "bond order: 1, chiral: False to atom atomic num: 6, name: , idx: 30, aromatic: False, chiral: False\n",
      "bond order: 1, chiral: False to atom atomic num: 1, name: , idx: 43, aromatic: False, chiral: False\n",
      "\n",
      "Warning (not error because allow_undefined_stereo=True): OEMol has unspecified stereochemistry. oemol.GetTitle(): \n",
      "Problematic atoms are:\n",
      "Atom atomic num: 7, name: , idx: 35, aromatic: False, chiral: True with bonds:\n",
      "bond order: 1, chiral: False to atom atomic num: 6, name: , idx: 34, aromatic: True, chiral: False\n",
      "bond order: 1, chiral: False to atom atomic num: 6, name: , idx: 36, aromatic: False, chiral: False\n",
      "bond order: 1, chiral: False to atom atomic num: 6, name: , idx: 37, aromatic: False, chiral: False\n",
      "\n",
      "Warning (not error because allow_undefined_stereo=True): OEMol has unspecified stereochemistry. oemol.GetTitle(): \n",
      "Problematic atoms are:\n",
      "Atom atomic num: 6, name: , idx: 10, aromatic: False, chiral: True with bonds:\n",
      "bond order: 1, chiral: False to atom atomic num: 6, name: , idx: 9, aromatic: False, chiral: False\n",
      "bond order: 1, chiral: False to atom atomic num: 6, name: , idx: 11, aromatic: False, chiral: False\n",
      "bond order: 1, chiral: False to atom atomic num: 6, name: , idx: 12, aromatic: False, chiral: False\n",
      "bond order: 1, chiral: False to atom atomic num: 1, name: , idx: 38, aromatic: False, chiral: False\n",
      "\n",
      "Warning (not error because allow_undefined_stereo=True): OEMol has unspecified stereochemistry. oemol.GetTitle(): \n",
      "Problematic atoms are:\n",
      "Atom atomic num: 6, name: , idx: 5, aromatic: False, chiral: True with bonds:\n",
      "bond order: 1, chiral: False to atom atomic num: 6, name: , idx: 4, aromatic: True, chiral: False\n",
      "bond order: 1, chiral: False to atom atomic num: 7, name: , idx: 16, aromatic: False, chiral: False\n",
      "bond order: 1, chiral: False to atom atomic num: 6, name: , idx: 6, aromatic: False, chiral: False\n",
      "bond order: 1, chiral: False to atom atomic num: 1, name: , idx: 34, aromatic: False, chiral: False\n",
      "\n",
      "Warning (not error because allow_undefined_stereo=True): OEMol has unspecified stereochemistry. oemol.GetTitle(): \n",
      "Problematic atoms are:\n",
      "Atom atomic num: 7, name: , idx: 5, aromatic: False, chiral: True with bonds:\n",
      "bond order: 1, chiral: False to atom atomic num: 6, name: , idx: 4, aromatic: True, chiral: False\n",
      "bond order: 1, chiral: False to atom atomic num: 6, name: , idx: 6, aromatic: False, chiral: False\n",
      "bond order: 1, chiral: False to atom atomic num: 6, name: , idx: 7, aromatic: False, chiral: False\n",
      "\n",
      "Warning (not error because allow_undefined_stereo=True): OEMol has unspecified stereochemistry. oemol.GetTitle(): \n",
      "Problematic atoms are:\n",
      "Atom atomic num: 6, name: , idx: 2, aromatic: False, chiral: True with bonds:\n",
      "bond order: 1, chiral: False to atom atomic num: 7, name: , idx: 1, aromatic: False, chiral: False\n",
      "bond order: 1, chiral: False to atom atomic num: 6, name: , idx: 3, aromatic: False, chiral: False\n",
      "bond order: 1, chiral: False to atom atomic num: 6, name: , idx: 8, aromatic: False, chiral: False\n",
      "bond order: 1, chiral: False to atom atomic num: 1, name: , idx: 44, aromatic: False, chiral: False\n",
      "\n",
      "Warning (not error because allow_undefined_stereo=True): OEMol has unspecified stereochemistry. oemol.GetTitle(): \n",
      "Problematic atoms are:\n",
      "Atom atomic num: 6, name: , idx: 7, aromatic: False, chiral: True with bonds:\n",
      "bond order: 1, chiral: False to atom atomic num: 8, name: , idx: 6, aromatic: False, chiral: False\n",
      "bond order: 1, chiral: False to atom atomic num: 6, name: , idx: 8, aromatic: False, chiral: False\n",
      "bond order: 1, chiral: False to atom atomic num: 6, name: , idx: 13, aromatic: True, chiral: False\n",
      "bond order: 1, chiral: False to atom atomic num: 1, name: , idx: 30, aromatic: False, chiral: False\n",
      "\n",
      "Warning (not error because allow_undefined_stereo=True): OEMol has unspecified stereochemistry. oemol.GetTitle(): \n",
      "Problematic atoms are:\n",
      "Atom atomic num: 15, name: , idx: 26, aromatic: False, chiral: True with bonds:\n",
      "bond order: 1, chiral: False to atom atomic num: 8, name: , idx: 25, aromatic: False, chiral: False\n",
      "bond order: 1, chiral: False to atom atomic num: 7, name: , idx: 27, aromatic: False, chiral: False\n",
      "bond order: 2, chiral: False to atom atomic num: 8, name: , idx: 28, aromatic: False, chiral: False\n",
      "bond order: 1, chiral: False to atom atomic num: 7, name: , idx: 29, aromatic: False, chiral: False\n",
      "\n",
      "Warning (not error because allow_undefined_stereo=True): OEMol has unspecified stereochemistry. oemol.GetTitle(): \n",
      "Problematic atoms are:\n",
      "Atom atomic num: 6, name: , idx: 32, aromatic: False, chiral: True with bonds:\n",
      "bond order: 1, chiral: False to atom atomic num: 6, name: , idx: 31, aromatic: False, chiral: False\n",
      "bond order: 1, chiral: False to atom atomic num: 7, name: , idx: 33, aromatic: False, chiral: False\n",
      "bond order: 1, chiral: False to atom atomic num: 6, name: , idx: 34, aromatic: False, chiral: False\n",
      "bond order: 1, chiral: False to atom atomic num: 1, name: , idx: 72, aromatic: False, chiral: False\n",
      "\n",
      "Warning (not error because allow_undefined_stereo=True): OEMol has unspecified stereochemistry. oemol.GetTitle(): \n",
      "Problematic atoms are:\n",
      "Atom atomic num: 7, name: , idx: 30, aromatic: False, chiral: True with bonds:\n",
      "bond order: 1, chiral: False to atom atomic num: 6, name: , idx: 29, aromatic: True, chiral: False\n",
      "bond order: 1, chiral: False to atom atomic num: 6, name: , idx: 31, aromatic: False, chiral: False\n",
      "bond order: 1, chiral: False to atom atomic num: 6, name: , idx: 32, aromatic: False, chiral: False\n",
      "\n",
      "Warning (not error because allow_undefined_stereo=True): OEMol has unspecified stereochemistry. oemol.GetTitle(): \n",
      "Problematic atoms are:\n",
      "Atom atomic num: 6, name: , idx: 14, aromatic: False, chiral: True with bonds:\n",
      "bond order: 1, chiral: False to atom atomic num: 7, name: , idx: 7, aromatic: False, chiral: False\n",
      "bond order: 1, chiral: False to atom atomic num: 6, name: , idx: 15, aromatic: True, chiral: False\n",
      "bond order: 1, chiral: False to atom atomic num: 6, name: , idx: 25, aromatic: False, chiral: False\n",
      "bond order: 1, chiral: False to atom atomic num: 1, name: , idx: 35, aromatic: False, chiral: False\n",
      "\n",
      "Warning (not error because allow_undefined_stereo=True): OEMol has unspecified stereochemistry. oemol.GetTitle(): \n",
      "Problematic atoms are:\n",
      "Atom atomic num: 7, name: , idx: 32, aromatic: False, chiral: True with bonds:\n",
      "bond order: 1, chiral: False to atom atomic num: 6, name: , idx: 31, aromatic: True, chiral: False\n",
      "bond order: 1, chiral: False to atom atomic num: 6, name: , idx: 33, aromatic: False, chiral: False\n",
      "bond order: 1, chiral: False to atom atomic num: 6, name: , idx: 34, aromatic: False, chiral: False\n",
      "\n",
      "Warning (not error because allow_undefined_stereo=True): OEMol has unspecified stereochemistry. oemol.GetTitle(): \n",
      "Problematic atoms are:\n",
      "Atom atomic num: 6, name: , idx: 6, aromatic: False, chiral: True with bonds:\n",
      "bond order: 1, chiral: False to atom atomic num: 6, name: , idx: 5, aromatic: True, chiral: False\n",
      "bond order: 1, chiral: False to atom atomic num: 7, name: , idx: 18, aromatic: False, chiral: False\n",
      "bond order: 1, chiral: False to atom atomic num: 6, name: , idx: 7, aromatic: False, chiral: False\n",
      "bond order: 1, chiral: False to atom atomic num: 1, name: , idx: 29, aromatic: False, chiral: False\n",
      "\n"
     ]
    },
    {
     "name": "stderr",
     "output_type": "stream",
     "text": [
      "Warning (not error because allow_undefined_stereo=True): OEMol has unspecified stereochemistry. oemol.GetTitle(): \n",
      "Problematic atoms are:\n",
      "Atom atomic num: 6, name: , idx: 15, aromatic: False, chiral: True with bonds:\n",
      "bond order: 1, chiral: False to atom atomic num: 6, name: , idx: 14, aromatic: False, chiral: False\n",
      "bond order: 1, chiral: False to atom atomic num: 7, name: , idx: 3, aromatic: False, chiral: False\n",
      "bond order: 1, chiral: False to atom atomic num: 6, name: , idx: 16, aromatic: True, chiral: False\n",
      "bond order: 1, chiral: False to atom atomic num: 1, name: , idx: 36, aromatic: False, chiral: False\n",
      "\n",
      "Warning (not error because allow_undefined_stereo=True): OEMol has unspecified stereochemistry. oemol.GetTitle(): \n",
      "Problematic atoms are:\n",
      "Atom atomic num: 6, name: , idx: 14, aromatic: False, chiral: True with bonds:\n",
      "bond order: 1, chiral: False to atom atomic num: 6, name: , idx: 13, aromatic: False, chiral: False\n",
      "bond order: 1, chiral: False to atom atomic num: 7, name: , idx: 3, aromatic: False, chiral: False\n",
      "bond order: 1, chiral: False to atom atomic num: 6, name: , idx: 15, aromatic: True, chiral: False\n",
      "bond order: 1, chiral: False to atom atomic num: 1, name: , idx: 33, aromatic: False, chiral: False\n",
      "\n",
      "Warning (not error because allow_undefined_stereo=True): OEMol has unspecified stereochemistry. oemol.GetTitle(): \n",
      "Problematic atoms are:\n",
      "Atom atomic num: 7, name: , idx: 32, aromatic: False, chiral: True with bonds:\n",
      "bond order: 1, chiral: False to atom atomic num: 6, name: , idx: 31, aromatic: True, chiral: False\n",
      "bond order: 1, chiral: False to atom atomic num: 6, name: , idx: 39, aromatic: False, chiral: False\n",
      "bond order: 1, chiral: False to atom atomic num: 6, name: , idx: 33, aromatic: False, chiral: False\n",
      "Atom atomic num: 7, name: , idx: 35, aromatic: False, chiral: True with bonds:\n",
      "bond order: 1, chiral: False to atom atomic num: 6, name: , idx: 34, aromatic: False, chiral: False\n",
      "bond order: 1, chiral: False to atom atomic num: 6, name: , idx: 36, aromatic: False, chiral: False\n",
      "bond order: 1, chiral: False to atom atomic num: 6, name: , idx: 37, aromatic: False, chiral: True\n",
      "Atom atomic num: 6, name: , idx: 37, aromatic: False, chiral: True with bonds:\n",
      "bond order: 1, chiral: False to atom atomic num: 7, name: , idx: 35, aromatic: False, chiral: True\n",
      "bond order: 1, chiral: False to atom atomic num: 6, name: , idx: 38, aromatic: False, chiral: False\n",
      "bond order: 1, chiral: False to atom atomic num: 6, name: , idx: 39, aromatic: False, chiral: False\n",
      "bond order: 1, chiral: False to atom atomic num: 1, name: , idx: 74, aromatic: False, chiral: False\n",
      "\n",
      "Warning (not error because allow_undefined_stereo=True): OEMol has unspecified stereochemistry. oemol.GetTitle(): \n",
      "Problematic atoms are:\n",
      "Atom atomic num: 7, name: , idx: 4, aromatic: False, chiral: True with bonds:\n",
      "bond order: 1, chiral: False to atom atomic num: 6, name: , idx: 3, aromatic: False, chiral: False\n",
      "bond order: 1, chiral: False to atom atomic num: 6, name: , idx: 25, aromatic: False, chiral: False\n",
      "bond order: 1, chiral: False to atom atomic num: 6, name: , idx: 5, aromatic: False, chiral: False\n",
      "Atom atomic num: 6, name: , idx: 7, aromatic: False, chiral: True with bonds:\n",
      "bond order: 1, chiral: False to atom atomic num: 6, name: , idx: 6, aromatic: False, chiral: False\n",
      "bond order: 1, chiral: False to atom atomic num: 7, name: , idx: 8, aromatic: False, chiral: False\n",
      "bond order: 1, chiral: False to atom atomic num: 6, name: , idx: 25, aromatic: False, chiral: False\n",
      "bond order: 1, chiral: False to atom atomic num: 1, name: , idx: 34, aromatic: False, chiral: False\n",
      "\n",
      "Warning (not error because allow_undefined_stereo=True): OEMol has unspecified stereochemistry. oemol.GetTitle(): \n",
      "Problematic atoms are:\n",
      "Atom atomic num: 7, name: , idx: 32, aromatic: False, chiral: True with bonds:\n",
      "bond order: 1, chiral: False to atom atomic num: 6, name: , idx: 31, aromatic: True, chiral: False\n",
      "bond order: 1, chiral: False to atom atomic num: 6, name: , idx: 33, aromatic: False, chiral: False\n",
      "bond order: 1, chiral: False to atom atomic num: 6, name: , idx: 34, aromatic: False, chiral: False\n",
      "\n",
      "Warning (not error because allow_undefined_stereo=True): OEMol has unspecified stereochemistry. oemol.GetTitle(): \n",
      "Problematic atoms are:\n",
      "Atom atomic num: 6, name: , idx: 13, aromatic: False, chiral: True with bonds:\n",
      "bond order: 1, chiral: False to atom atomic num: 6, name: , idx: 11, aromatic: False, chiral: False\n",
      "bond order: 1, chiral: False to atom atomic num: 6, name: , idx: 14, aromatic: False, chiral: False\n",
      "bond order: 1, chiral: False to atom atomic num: 7, name: , idx: 22, aromatic: False, chiral: False\n",
      "bond order: 1, chiral: False to atom atomic num: 1, name: , idx: 56, aromatic: False, chiral: False\n",
      "\n",
      "Warning (not error because allow_undefined_stereo=True): OEMol has unspecified stereochemistry. oemol.GetTitle(): \n",
      "Problematic atoms are:\n",
      "Atom atomic num: 16, name: , idx: 1, aromatic: False, chiral: True with bonds:\n",
      "bond order: 1, chiral: False to atom atomic num: 6, name: , idx: 0, aromatic: False, chiral: False\n",
      "bond order: 1, chiral: False to atom atomic num: 8, name: , idx: 2, aromatic: False, chiral: False\n",
      "bond order: 1, chiral: False to atom atomic num: 6, name: , idx: 3, aromatic: False, chiral: False\n",
      "\n",
      "Warning (not error because allow_undefined_stereo=True): OEMol has unspecified stereochemistry. oemol.GetTitle(): \n",
      "Problematic atoms are:\n",
      "Atom atomic num: 7, name: , idx: 1, aromatic: False, chiral: True with bonds:\n",
      "bond order: 1, chiral: False to atom atomic num: 6, name: , idx: 0, aromatic: False, chiral: False\n",
      "bond order: 1, chiral: False to atom atomic num: 7, name: , idx: 2, aromatic: False, chiral: False\n",
      "bond order: 1, chiral: False to atom atomic num: 6, name: , idx: 3, aromatic: False, chiral: False\n",
      "\n",
      "Warning (not error because allow_undefined_stereo=True): OEMol has unspecified stereochemistry. oemol.GetTitle(): \n",
      "Problematic atoms are:\n",
      "Atom atomic num: 7, name: , idx: 22, aromatic: False, chiral: True with bonds:\n",
      "bond order: 1, chiral: False to atom atomic num: 6, name: , idx: 21, aromatic: False, chiral: False\n",
      "bond order: 1, chiral: False to atom atomic num: 6, name: , idx: 25, aromatic: False, chiral: True\n",
      "bond order: 1, chiral: False to atom atomic num: 6, name: , idx: 23, aromatic: False, chiral: False\n",
      "Atom atomic num: 6, name: , idx: 25, aromatic: False, chiral: True with bonds:\n",
      "bond order: 1, chiral: False to atom atomic num: 6, name: , idx: 24, aromatic: False, chiral: False\n",
      "bond order: 1, chiral: False to atom atomic num: 7, name: , idx: 22, aromatic: False, chiral: True\n",
      "bond order: 1, chiral: False to atom atomic num: 6, name: , idx: 26, aromatic: False, chiral: False\n",
      "bond order: 1, chiral: False to atom atomic num: 1, name: , idx: 45, aromatic: False, chiral: False\n",
      "\n",
      "Warning (not error because allow_undefined_stereo=True): OEMol has unspecified stereochemistry. oemol.GetTitle(): \n",
      "Problematic atoms are:\n",
      "Atom atomic num: 6, name: , idx: 14, aromatic: False, chiral: True with bonds:\n",
      "bond order: 1, chiral: False to atom atomic num: 7, name: , idx: 7, aromatic: False, chiral: False\n",
      "bond order: 1, chiral: False to atom atomic num: 6, name: , idx: 15, aromatic: True, chiral: False\n",
      "bond order: 1, chiral: False to atom atomic num: 6, name: , idx: 22, aromatic: False, chiral: False\n",
      "bond order: 1, chiral: False to atom atomic num: 1, name: , idx: 32, aromatic: False, chiral: False\n",
      "\n",
      "Warning (not error because allow_undefined_stereo=True): OEMol has unspecified stereochemistry. oemol.GetTitle(): \n",
      "Problematic atoms are:\n",
      "Atom atomic num: 7, name: , idx: 20, aromatic: False, chiral: True with bonds:\n",
      "bond order: 1, chiral: False to atom atomic num: 6, name: , idx: 19, aromatic: False, chiral: False\n",
      "bond order: 1, chiral: False to atom atomic num: 6, name: , idx: 15, aromatic: True, chiral: False\n",
      "bond order: 1, chiral: False to atom atomic num: 6, name: , idx: 21, aromatic: False, chiral: False\n",
      "\n",
      "Warning (not error because allow_undefined_stereo=True): OEMol has unspecified stereochemistry. oemol.GetTitle(): \n",
      "Problematic atoms are:\n",
      "Atom atomic num: 6, name: , idx: 20, aromatic: False, chiral: True with bonds:\n",
      "bond order: 1, chiral: False to atom atomic num: 7, name: , idx: 7, aromatic: False, chiral: False\n",
      "bond order: 1, chiral: False to atom atomic num: 6, name: , idx: 21, aromatic: True, chiral: False\n",
      "bond order: 1, chiral: False to atom atomic num: 6, name: , idx: 28, aromatic: False, chiral: False\n",
      "bond order: 1, chiral: False to atom atomic num: 1, name: , idx: 42, aromatic: False, chiral: False\n",
      "\n"
     ]
    },
    {
     "name": "stderr",
     "output_type": "stream",
     "text": [
      "Warning (not error because allow_undefined_stereo=True): OEMol has unspecified stereochemistry. oemol.GetTitle(): \n",
      "Problematic atoms are:\n",
      "Atom atomic num: 6, name: , idx: 2, aromatic: False, chiral: True with bonds:\n",
      "bond order: 1, chiral: False to atom atomic num: 7, name: , idx: 1, aromatic: False, chiral: False\n",
      "bond order: 1, chiral: False to atom atomic num: 6, name: , idx: 35, aromatic: False, chiral: False\n",
      "bond order: 1, chiral: False to atom atomic num: 6, name: , idx: 3, aromatic: False, chiral: False\n",
      "bond order: 1, chiral: False to atom atomic num: 1, name: , idx: 39, aromatic: False, chiral: False\n",
      "\n",
      "Warning (not error because allow_undefined_stereo=True): OEMol has unspecified stereochemistry. oemol.GetTitle(): \n",
      "Problematic atoms are:\n",
      "Atom atomic num: 6, name: , idx: 3, aromatic: False, chiral: True with bonds:\n",
      "bond order: 1, chiral: False to atom atomic num: 6, name: , idx: 2, aromatic: False, chiral: False\n",
      "bond order: 1, chiral: False to atom atomic num: 6, name: , idx: 4, aromatic: False, chiral: False\n",
      "bond order: 1, chiral: False to atom atomic num: 8, name: , idx: 5, aromatic: False, chiral: False\n",
      "bond order: 1, chiral: False to atom atomic num: 1, name: , idx: 34, aromatic: False, chiral: False\n",
      "\n",
      "Warning (not error because allow_undefined_stereo=True): OEMol has unspecified stereochemistry. oemol.GetTitle(): \n",
      "Problematic atoms are:\n",
      "Atom atomic num: 6, name: , idx: 1, aromatic: False, chiral: True with bonds:\n",
      "bond order: 1, chiral: False to atom atomic num: 6, name: , idx: 0, aromatic: False, chiral: False\n",
      "bond order: 1, chiral: False to atom atomic num: 6, name: , idx: 2, aromatic: False, chiral: False\n",
      "bond order: 1, chiral: False to atom atomic num: 6, name: , idx: 15, aromatic: True, chiral: False\n",
      "bond order: 1, chiral: False to atom atomic num: 1, name: , idx: 36, aromatic: False, chiral: False\n",
      "\n",
      "Warning (not error because allow_undefined_stereo=True): OEMol has unspecified stereochemistry. oemol.GetTitle(): \n",
      "Problematic atoms are:\n",
      "Atom atomic num: 6, name: , idx: 4, aromatic: False, chiral: True with bonds:\n",
      "bond order: 1, chiral: False to atom atomic num: 8, name: , idx: 3, aromatic: False, chiral: False\n",
      "bond order: 1, chiral: False to atom atomic num: 6, name: , idx: 5, aromatic: False, chiral: False\n",
      "bond order: 1, chiral: False to atom atomic num: 6, name: , idx: 42, aromatic: False, chiral: False\n",
      "bond order: 1, chiral: False to atom atomic num: 1, name: , idx: 55, aromatic: False, chiral: False\n",
      "Atom atomic num: 6, name: , idx: 20, aromatic: False, chiral: True with bonds:\n",
      "bond order: 1, chiral: False to atom atomic num: 6, name: , idx: 19, aromatic: False, chiral: False\n",
      "bond order: 1, chiral: False to atom atomic num: 8, name: , idx: 21, aromatic: False, chiral: False\n",
      "bond order: 1, chiral: False to atom atomic num: 6, name: , idx: 25, aromatic: False, chiral: False\n",
      "bond order: 1, chiral: False to atom atomic num: 1, name: , idx: 65, aromatic: False, chiral: False\n",
      "\n",
      "Warning (not error because allow_undefined_stereo=True): OEMol has unspecified stereochemistry. oemol.GetTitle(): \n",
      "Problematic atoms are:\n",
      "Atom atomic num: 6, name: , idx: 3, aromatic: False, chiral: True with bonds:\n",
      "bond order: 1, chiral: False to atom atomic num: 8, name: , idx: 2, aromatic: False, chiral: False\n",
      "bond order: 1, chiral: False to atom atomic num: 6, name: , idx: 4, aromatic: False, chiral: False\n",
      "bond order: 1, chiral: False to atom atomic num: 8, name: , idx: 5, aromatic: False, chiral: False\n",
      "bond order: 1, chiral: False to atom atomic num: 1, name: , idx: 35, aromatic: False, chiral: False\n",
      "\n",
      "Warning (not error because allow_undefined_stereo=True): OEMol has unspecified stereochemistry. oemol.GetTitle(): \n",
      "Problematic atoms are:\n",
      "Atom atomic num: 7, name: , idx: 5, aromatic: False, chiral: True with bonds:\n",
      "bond order: 1, chiral: False to atom atomic num: 16, name: , idx: 2, aromatic: False, chiral: False\n",
      "bond order: 1, chiral: False to atom atomic num: 6, name: , idx: 9, aromatic: False, chiral: True\n",
      "bond order: 1, chiral: False to atom atomic num: 6, name: , idx: 6, aromatic: False, chiral: False\n",
      "\n",
      "Warning (not error because allow_undefined_stereo=True): OEMol has unspecified stereochemistry. oemol.GetTitle(): \n",
      "Problematic atoms are:\n",
      "Atom atomic num: 6, name: , idx: 14, aromatic: False, chiral: True with bonds:\n",
      "bond order: 1, chiral: False to atom atomic num: 6, name: , idx: 13, aromatic: False, chiral: False\n",
      "bond order: 1, chiral: False to atom atomic num: 7, name: , idx: 3, aromatic: False, chiral: False\n",
      "bond order: 1, chiral: False to atom atomic num: 6, name: , idx: 15, aromatic: True, chiral: False\n",
      "bond order: 1, chiral: False to atom atomic num: 1, name: , idx: 45, aromatic: False, chiral: False\n",
      "Atom atomic num: 6, name: , idx: 22, aromatic: False, chiral: True with bonds:\n",
      "bond order: 1, chiral: False to atom atomic num: 8, name: , idx: 21, aromatic: False, chiral: False\n",
      "bond order: 1, chiral: False to atom atomic num: 6, name: , idx: 23, aromatic: False, chiral: False\n",
      "bond order: 1, chiral: False to atom atomic num: 6, name: , idx: 24, aromatic: False, chiral: False\n",
      "bond order: 1, chiral: False to atom atomic num: 1, name: , idx: 48, aromatic: False, chiral: False\n",
      "\n",
      "Warning (not error because allow_undefined_stereo=True): OEMol has unspecified stereochemistry. oemol.GetTitle(): \n",
      "Problematic atoms are:\n",
      "Atom atomic num: 7, name: , idx: 33, aromatic: False, chiral: True with bonds:\n",
      "bond order: 1, chiral: False to atom atomic num: 6, name: , idx: 32, aromatic: True, chiral: False\n",
      "bond order: 1, chiral: False to atom atomic num: 6, name: , idx: 34, aromatic: False, chiral: False\n",
      "bond order: 1, chiral: False to atom atomic num: 6, name: , idx: 35, aromatic: False, chiral: False\n",
      "\n",
      "Warning (not error because allow_undefined_stereo=True): OEMol has unspecified stereochemistry. oemol.GetTitle(): \n",
      "Problematic atoms are:\n",
      "Atom atomic num: 6, name: , idx: 14, aromatic: False, chiral: True with bonds:\n",
      "bond order: 1, chiral: False to atom atomic num: 6, name: , idx: 13, aromatic: False, chiral: False\n",
      "bond order: 1, chiral: False to atom atomic num: 7, name: , idx: 3, aromatic: False, chiral: False\n",
      "bond order: 1, chiral: False to atom atomic num: 6, name: , idx: 15, aromatic: True, chiral: False\n",
      "bond order: 1, chiral: False to atom atomic num: 1, name: , idx: 47, aromatic: False, chiral: False\n",
      "\n",
      "Warning (not error because allow_undefined_stereo=True): OEMol has unspecified stereochemistry. oemol.GetTitle(): \n",
      "Problematic atoms are:\n",
      "Atom atomic num: 6, name: , idx: 1, aromatic: False, chiral: True with bonds:\n",
      "bond order: 1, chiral: False to atom atomic num: 6, name: , idx: 0, aromatic: False, chiral: False\n",
      "bond order: 1, chiral: False to atom atomic num: 6, name: , idx: 23, aromatic: False, chiral: False\n",
      "bond order: 1, chiral: False to atom atomic num: 6, name: , idx: 2, aromatic: False, chiral: False\n",
      "bond order: 1, chiral: False to atom atomic num: 1, name: , idx: 27, aromatic: False, chiral: False\n",
      "Atom atomic num: 6, name: , idx: 4, aromatic: False, chiral: True with bonds:\n",
      "bond order: 1, chiral: False to atom atomic num: 6, name: , idx: 3, aromatic: False, chiral: False\n",
      "bond order: 1, chiral: False to atom atomic num: 7, name: , idx: 5, aromatic: False, chiral: False\n",
      "bond order: 1, chiral: False to atom atomic num: 6, name: , idx: 23, aromatic: False, chiral: False\n",
      "bond order: 1, chiral: False to atom atomic num: 1, name: , idx: 32, aromatic: False, chiral: False\n",
      "\n",
      "Warning (not error because allow_undefined_stereo=True): OEMol has unspecified stereochemistry. oemol.GetTitle(): \n",
      "Problematic atoms are:\n",
      "Atom atomic num: 7, name: , idx: 5, aromatic: False, chiral: True with bonds:\n",
      "bond order: 1, chiral: False to atom atomic num: 6, name: , idx: 4, aromatic: False, chiral: False\n",
      "bond order: 1, chiral: False to atom atomic num: 6, name: , idx: 6, aromatic: False, chiral: False\n",
      "bond order: 1, chiral: False to atom atomic num: 6, name: , idx: 7, aromatic: False, chiral: True\n",
      "\n",
      "Warning (not error because allow_undefined_stereo=True): OEMol has unspecified stereochemistry. oemol.GetTitle(): \n",
      "Problematic atoms are:\n",
      "Atom atomic num: 6, name: , idx: 6, aromatic: False, chiral: True with bonds:\n",
      "bond order: 1, chiral: False to atom atomic num: 8, name: , idx: 5, aromatic: False, chiral: False\n",
      "bond order: 1, chiral: False to atom atomic num: 6, name: , idx: 10, aromatic: False, chiral: False\n",
      "bond order: 1, chiral: False to atom atomic num: 6, name: , idx: 7, aromatic: False, chiral: False\n",
      "bond order: 1, chiral: False to atom atomic num: 1, name: , idx: 31, aromatic: False, chiral: False\n",
      "\n"
     ]
    },
    {
     "name": "stderr",
     "output_type": "stream",
     "text": [
      "Warning (not error because allow_undefined_stereo=True): OEMol has unspecified stereochemistry. oemol.GetTitle(): \n",
      "Problematic atoms are:\n",
      "Atom atomic num: 6, name: , idx: 4, aromatic: False, chiral: True with bonds:\n",
      "bond order: 1, chiral: False to atom atomic num: 6, name: , idx: 2, aromatic: False, chiral: False\n",
      "bond order: 1, chiral: False to atom atomic num: 6, name: , idx: 5, aromatic: False, chiral: False\n",
      "bond order: 1, chiral: False to atom atomic num: 6, name: , idx: 14, aromatic: True, chiral: False\n",
      "bond order: 1, chiral: False to atom atomic num: 1, name: , idx: 23, aromatic: False, chiral: False\n",
      "\n",
      "Warning (not error because allow_undefined_stereo=True): OEMol has unspecified stereochemistry. oemol.GetTitle(): \n",
      "Problematic atoms are:\n",
      "Atom atomic num: 6, name: , idx: 9, aromatic: False, chiral: True with bonds:\n",
      "bond order: 1, chiral: False to atom atomic num: 7, name: , idx: 8, aromatic: False, chiral: False\n",
      "bond order: 1, chiral: False to atom atomic num: 6, name: , idx: 20, aromatic: False, chiral: False\n",
      "bond order: 1, chiral: False to atom atomic num: 6, name: , idx: 10, aromatic: False, chiral: False\n",
      "bond order: 1, chiral: False to atom atomic num: 1, name: , idx: 36, aromatic: False, chiral: False\n",
      "Atom atomic num: 7, name: , idx: 12, aromatic: False, chiral: True with bonds:\n",
      "bond order: 1, chiral: False to atom atomic num: 6, name: , idx: 11, aromatic: False, chiral: False\n",
      "bond order: 1, chiral: False to atom atomic num: 6, name: , idx: 13, aromatic: False, chiral: False\n",
      "bond order: 1, chiral: False to atom atomic num: 6, name: , idx: 20, aromatic: False, chiral: False\n",
      "\n",
      "Warning (not error because allow_undefined_stereo=True): OEMol has unspecified stereochemistry. oemol.GetTitle(): \n",
      "Problematic atoms are:\n",
      "Atom atomic num: 6, name: , idx: 22, aromatic: False, chiral: True with bonds:\n",
      "bond order: 1, chiral: False to atom atomic num: 6, name: , idx: 16, aromatic: False, chiral: False\n",
      "bond order: 1, chiral: False to atom atomic num: 6, name: , idx: 5, aromatic: False, chiral: False\n",
      "bond order: 1, chiral: False to atom atomic num: 6, name: , idx: 23, aromatic: False, chiral: False\n",
      "bond order: 1, chiral: False to atom atomic num: 1, name: , idx: 54, aromatic: False, chiral: False\n",
      "\n",
      "Warning (not error because allow_undefined_stereo=True): OEMol has unspecified stereochemistry. oemol.GetTitle(): \n",
      "Problematic atoms are:\n",
      "Atom atomic num: 6, name: , idx: 5, aromatic: False, chiral: True with bonds:\n",
      "bond order: 1, chiral: False to atom atomic num: 6, name: , idx: 4, aromatic: True, chiral: False\n",
      "bond order: 1, chiral: False to atom atomic num: 7, name: , idx: 17, aromatic: False, chiral: False\n",
      "bond order: 1, chiral: False to atom atomic num: 6, name: , idx: 6, aromatic: False, chiral: False\n",
      "bond order: 1, chiral: False to atom atomic num: 1, name: , idx: 28, aromatic: False, chiral: False\n",
      "\n",
      "Warning (not error because allow_undefined_stereo=True): OEMol has unspecified stereochemistry. oemol.GetTitle(): \n",
      "Problematic atoms are:\n",
      "Atom atomic num: 7, name: , idx: 10, aromatic: False, chiral: True with bonds:\n",
      "bond order: 1, chiral: False to atom atomic num: 6, name: , idx: 9, aromatic: False, chiral: False\n",
      "bond order: 1, chiral: False to atom atomic num: 6, name: , idx: 11, aromatic: False, chiral: False\n",
      "bond order: 1, chiral: False to atom atomic num: 6, name: , idx: 12, aromatic: False, chiral: False\n",
      "\n",
      "Warning (not error because allow_undefined_stereo=True): OEMol has unspecified stereochemistry. oemol.GetTitle(): \n",
      "Problematic atoms are:\n",
      "Atom atomic num: 7, name: , idx: 16, aromatic: False, chiral: True with bonds:\n",
      "bond order: 1, chiral: False to atom atomic num: 6, name: , idx: 15, aromatic: False, chiral: False\n",
      "bond order: 1, chiral: False to atom atomic num: 6, name: , idx: 17, aromatic: False, chiral: False\n",
      "bond order: 1, chiral: False to atom atomic num: 6, name: , idx: 18, aromatic: False, chiral: False\n",
      "\n",
      "Warning (not error because allow_undefined_stereo=True): OEMol has unspecified stereochemistry. oemol.GetTitle(): \n",
      "Problematic atoms are:\n",
      "Atom atomic num: 6, name: , idx: 5, aromatic: False, chiral: True with bonds:\n",
      "bond order: 1, chiral: False to atom atomic num: 6, name: , idx: 4, aromatic: False, chiral: False\n",
      "bond order: 1, chiral: False to atom atomic num: 6, name: , idx: 14, aromatic: True, chiral: False\n",
      "bond order: 1, chiral: False to atom atomic num: 6, name: , idx: 6, aromatic: False, chiral: False\n",
      "bond order: 1, chiral: False to atom atomic num: 1, name: , idx: 21, aromatic: False, chiral: False\n",
      "\n",
      "Warning (not error because allow_undefined_stereo=True): OEMol has unspecified stereochemistry. oemol.GetTitle(): \n",
      "Problematic atoms are:\n",
      "Atom atomic num: 6, name: , idx: 14, aromatic: False, chiral: True with bonds:\n",
      "bond order: 1, chiral: False to atom atomic num: 7, name: , idx: 7, aromatic: False, chiral: False\n",
      "bond order: 1, chiral: False to atom atomic num: 6, name: , idx: 15, aromatic: True, chiral: False\n",
      "bond order: 1, chiral: False to atom atomic num: 6, name: , idx: 25, aromatic: False, chiral: False\n",
      "bond order: 1, chiral: False to atom atomic num: 1, name: , idx: 36, aromatic: False, chiral: False\n",
      "\n",
      "Warning (not error because allow_undefined_stereo=True): OEMol has unspecified stereochemistry. oemol.GetTitle(): \n",
      "Problematic atoms are:\n",
      "Atom atomic num: 6, name: , idx: 15, aromatic: False, chiral: True with bonds:\n",
      "bond order: 1, chiral: False to atom atomic num: 6, name: , idx: 14, aromatic: False, chiral: False\n",
      "bond order: 1, chiral: False to atom atomic num: 7, name: , idx: 3, aromatic: False, chiral: False\n",
      "bond order: 1, chiral: False to atom atomic num: 6, name: , idx: 16, aromatic: True, chiral: False\n",
      "bond order: 1, chiral: False to atom atomic num: 1, name: , idx: 31, aromatic: False, chiral: False\n",
      "\n",
      "Warning (not error because allow_undefined_stereo=True): OEMol has unspecified stereochemistry. oemol.GetTitle(): \n",
      "Problematic atoms are:\n",
      "Atom atomic num: 7, name: , idx: 30, aromatic: False, chiral: True with bonds:\n",
      "bond order: 1, chiral: False to atom atomic num: 6, name: , idx: 29, aromatic: True, chiral: False\n",
      "bond order: 1, chiral: False to atom atomic num: 6, name: , idx: 38, aromatic: False, chiral: False\n",
      "bond order: 1, chiral: False to atom atomic num: 6, name: , idx: 31, aromatic: False, chiral: False\n",
      "\n",
      "Warning (not error because allow_undefined_stereo=True): OEMol has unspecified stereochemistry. oemol.GetTitle(): \n",
      "Problematic atoms are:\n",
      "Atom atomic num: 6, name: , idx: 12, aromatic: False, chiral: True with bonds:\n",
      "bond order: 1, chiral: False to atom atomic num: 7, name: , idx: 8, aromatic: False, chiral: False\n",
      "bond order: 1, chiral: False to atom atomic num: 6, name: , idx: 13, aromatic: True, chiral: False\n",
      "bond order: 1, chiral: False to atom atomic num: 6, name: , idx: 23, aromatic: False, chiral: False\n",
      "bond order: 1, chiral: False to atom atomic num: 1, name: , idx: 33, aromatic: False, chiral: False\n",
      "\n",
      "Warning (not error because allow_undefined_stereo=True): OEMol has unspecified stereochemistry. oemol.GetTitle(): \n",
      "Problematic atoms are:\n",
      "Atom atomic num: 6, name: , idx: 11, aromatic: False, chiral: True with bonds:\n",
      "bond order: 1, chiral: False to atom atomic num: 7, name: , idx: 7, aromatic: False, chiral: False\n",
      "bond order: 1, chiral: False to atom atomic num: 6, name: , idx: 12, aromatic: True, chiral: False\n",
      "bond order: 1, chiral: False to atom atomic num: 6, name: , idx: 21, aromatic: False, chiral: False\n",
      "bond order: 1, chiral: False to atom atomic num: 1, name: , idx: 32, aromatic: False, chiral: False\n",
      "\n",
      "Warning (not error because allow_undefined_stereo=True): OEMol has unspecified stereochemistry. oemol.GetTitle(): \n",
      "Problematic atoms are:\n",
      "Atom atomic num: 6, name: , idx: 22, aromatic: False, chiral: True with bonds:\n",
      "bond order: 1, chiral: False to atom atomic num: 6, name: , idx: 16, aromatic: False, chiral: False\n",
      "bond order: 1, chiral: False to atom atomic num: 6, name: , idx: 5, aromatic: False, chiral: False\n",
      "bond order: 1, chiral: False to atom atomic num: 6, name: , idx: 23, aromatic: False, chiral: False\n",
      "bond order: 1, chiral: False to atom atomic num: 1, name: , idx: 54, aromatic: False, chiral: False\n",
      "\n",
      "Warning (not error because allow_undefined_stereo=True): OEMol has unspecified stereochemistry. oemol.GetTitle(): \n",
      "Problematic atoms are:\n",
      "Atom atomic num: 6, name: , idx: 14, aromatic: False, chiral: True with bonds:\n",
      "bond order: 1, chiral: False to atom atomic num: 7, name: , idx: 7, aromatic: False, chiral: False\n",
      "bond order: 1, chiral: False to atom atomic num: 6, name: , idx: 15, aromatic: True, chiral: False\n",
      "bond order: 1, chiral: False to atom atomic num: 6, name: , idx: 25, aromatic: False, chiral: False\n",
      "bond order: 1, chiral: False to atom atomic num: 1, name: , idx: 35, aromatic: False, chiral: False\n",
      "\n"
     ]
    },
    {
     "name": "stderr",
     "output_type": "stream",
     "text": [
      "Warning (not error because allow_undefined_stereo=True): OEMol has unspecified stereochemistry. oemol.GetTitle(): \n",
      "Problematic atoms are:\n",
      "Atom atomic num: 6, name: , idx: 2, aromatic: False, chiral: True with bonds:\n",
      "bond order: 1, chiral: False to atom atomic num: 7, name: , idx: 1, aromatic: False, chiral: False\n",
      "bond order: 1, chiral: False to atom atomic num: 6, name: , idx: 39, aromatic: False, chiral: False\n",
      "bond order: 1, chiral: False to atom atomic num: 6, name: , idx: 3, aromatic: False, chiral: False\n",
      "bond order: 1, chiral: False to atom atomic num: 1, name: , idx: 43, aromatic: False, chiral: False\n",
      "\n",
      "Warning (not error because allow_undefined_stereo=True): OEMol has unspecified stereochemistry. oemol.GetTitle(): \n",
      "Problematic bonds are: [<openeye.oechem.OEBondBase; proxy of <Swig Object of type 'OEChem::OEBondBase *' at 0x7f823cc5bc00> >, <openeye.oechem.OEBondBase; proxy of <Swig Object of type 'OEChem::OEBondBase *' at 0x7f823cc5bcc0> >]\n",
      "\n",
      "Warning (not error because allow_undefined_stereo=True): OEMol has unspecified stereochemistry. oemol.GetTitle(): \n",
      "Problematic bonds are: [<openeye.oechem.OEBondBase; proxy of <Swig Object of type 'OEChem::OEBondBase *' at 0x7f823cbb9d20> >]\n",
      "\n",
      "Warning (not error because allow_undefined_stereo=True): OEMol has unspecified stereochemistry. oemol.GetTitle(): \n",
      "Problematic atoms are:\n",
      "Atom atomic num: 7, name: , idx: 33, aromatic: False, chiral: True with bonds:\n",
      "bond order: 1, chiral: False to atom atomic num: 6, name: , idx: 32, aromatic: True, chiral: False\n",
      "bond order: 1, chiral: False to atom atomic num: 6, name: , idx: 34, aromatic: False, chiral: False\n",
      "bond order: 1, chiral: False to atom atomic num: 6, name: , idx: 35, aromatic: False, chiral: False\n",
      "\n",
      "Warning (not error because allow_undefined_stereo=True): OEMol has unspecified stereochemistry. oemol.GetTitle(): \n",
      "Problematic atoms are:\n",
      "Atom atomic num: 6, name: , idx: 2, aromatic: False, chiral: True with bonds:\n",
      "bond order: 1, chiral: False to atom atomic num: 6, name: , idx: 1, aromatic: False, chiral: False\n",
      "bond order: 1, chiral: False to atom atomic num: 7, name: , idx: 3, aromatic: False, chiral: False\n",
      "bond order: 1, chiral: False to atom atomic num: 6, name: , idx: 14, aromatic: True, chiral: False\n",
      "bond order: 1, chiral: False to atom atomic num: 1, name: , idx: 23, aromatic: False, chiral: False\n",
      "\n",
      "Warning (not error because allow_undefined_stereo=True): OEMol has unspecified stereochemistry. oemol.GetTitle(): \n",
      "Problematic atoms are:\n",
      "Atom atomic num: 7, name: , idx: 33, aromatic: False, chiral: True with bonds:\n",
      "bond order: 1, chiral: False to atom atomic num: 6, name: , idx: 32, aromatic: True, chiral: False\n",
      "bond order: 1, chiral: False to atom atomic num: 6, name: , idx: 34, aromatic: False, chiral: False\n",
      "bond order: 1, chiral: False to atom atomic num: 6, name: , idx: 35, aromatic: False, chiral: False\n",
      "\n",
      "Warning (not error because allow_undefined_stereo=True): OEMol has unspecified stereochemistry. oemol.GetTitle(): \n",
      "Problematic atoms are:\n",
      "Atom atomic num: 7, name: , idx: 1, aromatic: False, chiral: True with bonds:\n",
      "bond order: 1, chiral: False to atom atomic num: 6, name: , idx: 0, aromatic: False, chiral: False\n",
      "bond order: 1, chiral: False to atom atomic num: 6, name: , idx: 2, aromatic: False, chiral: False\n",
      "bond order: 1, chiral: False to atom atomic num: 6, name: , idx: 7, aromatic: True, chiral: False\n",
      "Atom atomic num: 6, name: , idx: 3, aromatic: False, chiral: True with bonds:\n",
      "bond order: 1, chiral: False to atom atomic num: 6, name: , idx: 2, aromatic: False, chiral: False\n",
      "bond order: 1, chiral: False to atom atomic num: 8, name: , idx: 4, aromatic: False, chiral: False\n",
      "bond order: 1, chiral: False to atom atomic num: 6, name: , idx: 5, aromatic: False, chiral: False\n",
      "bond order: 1, chiral: False to atom atomic num: 1, name: , idx: 30, aromatic: False, chiral: False\n",
      "\n",
      "Warning (not error because allow_undefined_stereo=True): OEMol has unspecified stereochemistry. oemol.GetTitle(): \n",
      "Problematic atoms are:\n",
      "Atom atomic num: 6, name: , idx: 13, aromatic: False, chiral: True with bonds:\n",
      "bond order: 1, chiral: False to atom atomic num: 6, name: , idx: 11, aromatic: False, chiral: False\n",
      "bond order: 1, chiral: False to atom atomic num: 6, name: , idx: 14, aromatic: False, chiral: False\n",
      "bond order: 1, chiral: False to atom atomic num: 7, name: , idx: 22, aromatic: False, chiral: False\n",
      "bond order: 1, chiral: False to atom atomic num: 1, name: , idx: 56, aromatic: False, chiral: False\n",
      "\n",
      "Warning (not error because allow_undefined_stereo=True): OEMol has unspecified stereochemistry. oemol.GetTitle(): \n",
      "Problematic bonds are: [<openeye.oechem.OEBondBase; proxy of <Swig Object of type 'OEChem::OEBondBase *' at 0x7f823ccc3b10> >]\n",
      "\n",
      "Warning (not error because allow_undefined_stereo=True): OEMol has unspecified stereochemistry. oemol.GetTitle(): \n",
      "Problematic atoms are:\n",
      "Atom atomic num: 6, name: , idx: 15, aromatic: False, chiral: True with bonds:\n",
      "bond order: 1, chiral: False to atom atomic num: 6, name: , idx: 2, aromatic: False, chiral: False\n",
      "bond order: 1, chiral: False to atom atomic num: 6, name: , idx: 16, aromatic: True, chiral: False\n",
      "bond order: 1, chiral: False to atom atomic num: 7, name: , idx: 24, aromatic: False, chiral: False\n",
      "bond order: 1, chiral: False to atom atomic num: 1, name: , idx: 52, aromatic: False, chiral: False\n",
      "\n",
      "Warning (not error because allow_undefined_stereo=True): OEMol has unspecified stereochemistry. oemol.GetTitle(): \n",
      "Problematic atoms are:\n",
      "Atom atomic num: 6, name: , idx: 16, aromatic: False, chiral: True with bonds:\n",
      "bond order: 1, chiral: False to atom atomic num: 6, name: , idx: 15, aromatic: False, chiral: False\n",
      "bond order: 1, chiral: False to atom atomic num: 7, name: , idx: 5, aromatic: False, chiral: False\n",
      "bond order: 1, chiral: False to atom atomic num: 6, name: , idx: 17, aromatic: True, chiral: False\n",
      "bond order: 1, chiral: False to atom atomic num: 1, name: , idx: 33, aromatic: False, chiral: False\n",
      "\n",
      "Warning (not error because allow_undefined_stereo=True): OEMol has unspecified stereochemistry. oemol.GetTitle(): \n",
      "Problematic atoms are:\n",
      "Atom atomic num: 7, name: , idx: 34, aromatic: False, chiral: True with bonds:\n",
      "bond order: 1, chiral: False to atom atomic num: 6, name: , idx: 33, aromatic: True, chiral: False\n",
      "bond order: 1, chiral: False to atom atomic num: 6, name: , idx: 35, aromatic: False, chiral: False\n",
      "bond order: 1, chiral: False to atom atomic num: 6, name: , idx: 36, aromatic: False, chiral: False\n",
      "\n",
      "Warning (not error because allow_undefined_stereo=True): OEMol has unspecified stereochemistry. oemol.GetTitle(): \n",
      "Problematic atoms are:\n",
      "Atom atomic num: 6, name: , idx: 15, aromatic: False, chiral: True with bonds:\n",
      "bond order: 1, chiral: False to atom atomic num: 6, name: , idx: 14, aromatic: False, chiral: False\n",
      "bond order: 1, chiral: False to atom atomic num: 7, name: , idx: 5, aromatic: False, chiral: False\n",
      "bond order: 1, chiral: False to atom atomic num: 6, name: , idx: 16, aromatic: True, chiral: False\n",
      "bond order: 1, chiral: False to atom atomic num: 1, name: , idx: 32, aromatic: False, chiral: False\n",
      "\n",
      "Warning (not error because allow_undefined_stereo=True): OEMol has unspecified stereochemistry. oemol.GetTitle(): \n",
      "Problematic atoms are:\n",
      "Atom atomic num: 6, name: , idx: 21, aromatic: False, chiral: True with bonds:\n",
      "bond order: 1, chiral: False to atom atomic num: 6, name: , idx: 12, aromatic: False, chiral: False\n",
      "bond order: 1, chiral: False to atom atomic num: 6, name: , idx: 8, aromatic: False, chiral: False\n",
      "bond order: 1, chiral: False to atom atomic num: 6, name: , idx: 5, aromatic: False, chiral: False\n",
      "bond order: 1, chiral: False to atom atomic num: 1, name: , idx: 34, aromatic: False, chiral: False\n",
      "\n",
      "Warning (not error because allow_undefined_stereo=True): OEMol has unspecified stereochemistry. oemol.GetTitle(): \n",
      "Problematic atoms are:\n",
      "Atom atomic num: 6, name: , idx: 14, aromatic: False, chiral: True with bonds:\n",
      "bond order: 1, chiral: False to atom atomic num: 7, name: , idx: 7, aromatic: False, chiral: False\n",
      "bond order: 1, chiral: False to atom atomic num: 6, name: , idx: 15, aromatic: True, chiral: False\n",
      "bond order: 1, chiral: False to atom atomic num: 6, name: , idx: 25, aromatic: False, chiral: False\n",
      "bond order: 1, chiral: False to atom atomic num: 1, name: , idx: 35, aromatic: False, chiral: False\n",
      "\n"
     ]
    },
    {
     "name": "stderr",
     "output_type": "stream",
     "text": [
      "Warning (not error because allow_undefined_stereo=True): OEMol has unspecified stereochemistry. oemol.GetTitle(): \n",
      "Problematic atoms are:\n",
      "Atom atomic num: 7, name: , idx: 1, aromatic: False, chiral: True with bonds:\n",
      "bond order: 1, chiral: False to atom atomic num: 6, name: , idx: 0, aromatic: False, chiral: False\n",
      "bond order: 1, chiral: False to atom atomic num: 6, name: , idx: 27, aromatic: False, chiral: False\n",
      "bond order: 1, chiral: False to atom atomic num: 6, name: , idx: 2, aromatic: False, chiral: False\n",
      "\n",
      "Warning (not error because allow_undefined_stereo=True): OEMol has unspecified stereochemistry. oemol.GetTitle(): \n",
      "Problematic atoms are:\n",
      "Atom atomic num: 7, name: , idx: 32, aromatic: False, chiral: True with bonds:\n",
      "bond order: 1, chiral: False to atom atomic num: 6, name: , idx: 31, aromatic: True, chiral: False\n",
      "bond order: 1, chiral: False to atom atomic num: 6, name: , idx: 33, aromatic: False, chiral: False\n",
      "bond order: 1, chiral: False to atom atomic num: 6, name: , idx: 34, aromatic: False, chiral: False\n",
      "\n",
      "Warning (not error because allow_undefined_stereo=True): OEMol has unspecified stereochemistry. oemol.GetTitle(): \n",
      "Problematic atoms are:\n",
      "Atom atomic num: 6, name: , idx: 11, aromatic: False, chiral: True with bonds:\n",
      "bond order: 1, chiral: False to atom atomic num: 7, name: , idx: 7, aromatic: False, chiral: False\n",
      "bond order: 1, chiral: False to atom atomic num: 6, name: , idx: 12, aromatic: True, chiral: False\n",
      "bond order: 1, chiral: False to atom atomic num: 6, name: , idx: 19, aromatic: False, chiral: False\n",
      "bond order: 1, chiral: False to atom atomic num: 1, name: , idx: 30, aromatic: False, chiral: False\n",
      "\n",
      "Warning (not error because allow_undefined_stereo=True): OEMol has unspecified stereochemistry. oemol.GetTitle(): \n",
      "Problematic atoms are:\n",
      "Atom atomic num: 7, name: , idx: 31, aromatic: False, chiral: True with bonds:\n",
      "bond order: 1, chiral: False to atom atomic num: 6, name: , idx: 30, aromatic: True, chiral: False\n",
      "bond order: 1, chiral: False to atom atomic num: 6, name: , idx: 32, aromatic: False, chiral: False\n",
      "bond order: 1, chiral: False to atom atomic num: 6, name: , idx: 33, aromatic: False, chiral: False\n",
      "\n",
      "Warning (not error because allow_undefined_stereo=True): OEMol has unspecified stereochemistry. oemol.GetTitle(): \n",
      "Problematic atoms are:\n",
      "Atom atomic num: 7, name: , idx: 34, aromatic: False, chiral: True with bonds:\n",
      "bond order: 1, chiral: False to atom atomic num: 6, name: , idx: 33, aromatic: True, chiral: False\n",
      "bond order: 1, chiral: False to atom atomic num: 6, name: , idx: 35, aromatic: False, chiral: False\n",
      "bond order: 1, chiral: False to atom atomic num: 6, name: , idx: 36, aromatic: False, chiral: False\n",
      "\n",
      "Warning (not error because allow_undefined_stereo=True): OEMol has unspecified stereochemistry. oemol.GetTitle(): \n",
      "Problematic atoms are:\n",
      "Atom atomic num: 6, name: , idx: 21, aromatic: False, chiral: True with bonds:\n",
      "bond order: 1, chiral: False to atom atomic num: 7, name: , idx: 8, aromatic: False, chiral: False\n",
      "bond order: 1, chiral: False to atom atomic num: 6, name: , idx: 22, aromatic: True, chiral: False\n",
      "bond order: 1, chiral: False to atom atomic num: 6, name: , idx: 29, aromatic: False, chiral: False\n",
      "bond order: 1, chiral: False to atom atomic num: 1, name: , idx: 42, aromatic: False, chiral: False\n",
      "\n",
      "Warning (not error because allow_undefined_stereo=True): OEMol has unspecified stereochemistry. oemol.GetTitle(): \n",
      "Problematic atoms are:\n",
      "Atom atomic num: 6, name: , idx: 15, aromatic: False, chiral: True with bonds:\n",
      "bond order: 1, chiral: False to atom atomic num: 6, name: , idx: 14, aromatic: False, chiral: False\n",
      "bond order: 1, chiral: False to atom atomic num: 7, name: , idx: 3, aromatic: False, chiral: False\n",
      "bond order: 1, chiral: False to atom atomic num: 6, name: , idx: 16, aromatic: True, chiral: False\n",
      "bond order: 1, chiral: False to atom atomic num: 1, name: , idx: 30, aromatic: False, chiral: False\n",
      "\n",
      "Warning (not error because allow_undefined_stereo=True): OEMol has unspecified stereochemistry. oemol.GetTitle(): \n",
      "Problematic atoms are:\n",
      "Atom atomic num: 6, name: , idx: 9, aromatic: False, chiral: True with bonds:\n",
      "bond order: 1, chiral: False to atom atomic num: 6, name: , idx: 8, aromatic: True, chiral: False\n",
      "bond order: 1, chiral: False to atom atomic num: 7, name: , idx: 21, aromatic: False, chiral: False\n",
      "bond order: 1, chiral: False to atom atomic num: 6, name: , idx: 10, aromatic: False, chiral: False\n",
      "bond order: 1, chiral: False to atom atomic num: 1, name: , idx: 34, aromatic: False, chiral: False\n",
      "\n",
      "Warning (not error because allow_undefined_stereo=True): OEMol has unspecified stereochemistry. oemol.GetTitle(): \n",
      "Problematic atoms are:\n",
      "Atom atomic num: 7, name: , idx: 34, aromatic: False, chiral: True with bonds:\n",
      "bond order: 1, chiral: False to atom atomic num: 6, name: , idx: 33, aromatic: True, chiral: False\n",
      "bond order: 1, chiral: False to atom atomic num: 6, name: , idx: 35, aromatic: False, chiral: False\n",
      "bond order: 1, chiral: False to atom atomic num: 6, name: , idx: 36, aromatic: False, chiral: False\n",
      "\n",
      "Warning (not error because allow_undefined_stereo=True): OEMol has unspecified stereochemistry. oemol.GetTitle(): \n",
      "Problematic atoms are:\n",
      "Atom atomic num: 6, name: , idx: 6, aromatic: False, chiral: True with bonds:\n",
      "bond order: 1, chiral: False to atom atomic num: 6, name: , idx: 5, aromatic: True, chiral: False\n",
      "bond order: 1, chiral: False to atom atomic num: 7, name: , idx: 18, aromatic: False, chiral: False\n",
      "bond order: 1, chiral: False to atom atomic num: 6, name: , idx: 7, aromatic: False, chiral: False\n",
      "bond order: 1, chiral: False to atom atomic num: 1, name: , idx: 38, aromatic: False, chiral: False\n",
      "\n",
      "Warning (not error because allow_undefined_stereo=True): OEMol has unspecified stereochemistry. oemol.GetTitle(): \n",
      "Problematic atoms are:\n",
      "Atom atomic num: 6, name: , idx: 10, aromatic: False, chiral: True with bonds:\n",
      "bond order: 1, chiral: False to atom atomic num: 7, name: , idx: 9, aromatic: False, chiral: False\n",
      "bond order: 1, chiral: False to atom atomic num: 6, name: , idx: 12, aromatic: False, chiral: True\n",
      "bond order: 1, chiral: False to atom atomic num: 6, name: , idx: 11, aromatic: False, chiral: False\n",
      "bond order: 1, chiral: False to atom atomic num: 1, name: , idx: 29, aromatic: False, chiral: False\n",
      "Atom atomic num: 6, name: , idx: 12, aromatic: False, chiral: True with bonds:\n",
      "bond order: 1, chiral: False to atom atomic num: 6, name: , idx: 11, aromatic: False, chiral: False\n",
      "bond order: 1, chiral: False to atom atomic num: 6, name: , idx: 10, aromatic: False, chiral: True\n",
      "bond order: 1, chiral: False to atom atomic num: 6, name: , idx: 13, aromatic: True, chiral: False\n",
      "bond order: 1, chiral: False to atom atomic num: 1, name: , idx: 32, aromatic: False, chiral: False\n",
      "\n",
      "Warning (not error because allow_undefined_stereo=True): OEMol has unspecified stereochemistry. oemol.GetTitle(): \n",
      "Problematic atoms are:\n",
      "Atom atomic num: 7, name: , idx: 5, aromatic: False, chiral: True with bonds:\n",
      "bond order: 1, chiral: False to atom atomic num: 6, name: , idx: 4, aromatic: True, chiral: False\n",
      "bond order: 1, chiral: False to atom atomic num: 6, name: , idx: 6, aromatic: False, chiral: False\n",
      "bond order: 1, chiral: False to atom atomic num: 6, name: , idx: 7, aromatic: False, chiral: False\n",
      "\n",
      "Warning (not error because allow_undefined_stereo=True): OEMol has unspecified stereochemistry. oemol.GetTitle(): \n",
      "Problematic atoms are:\n",
      "Atom atomic num: 6, name: , idx: 16, aromatic: False, chiral: True with bonds:\n",
      "bond order: 1, chiral: False to atom atomic num: 6, name: , idx: 15, aromatic: False, chiral: False\n",
      "bond order: 1, chiral: False to atom atomic num: 7, name: , idx: 5, aromatic: False, chiral: False\n",
      "bond order: 1, chiral: False to atom atomic num: 6, name: , idx: 17, aromatic: True, chiral: False\n",
      "bond order: 1, chiral: False to atom atomic num: 1, name: , idx: 33, aromatic: False, chiral: False\n",
      "\n",
      "Warning (not error because allow_undefined_stereo=True): OEMol has unspecified stereochemistry. oemol.GetTitle(): \n",
      "Problematic atoms are:\n",
      "Atom atomic num: 7, name: , idx: 33, aromatic: False, chiral: True with bonds:\n",
      "bond order: 1, chiral: False to atom atomic num: 6, name: , idx: 32, aromatic: True, chiral: False\n",
      "bond order: 1, chiral: False to atom atomic num: 6, name: , idx: 34, aromatic: False, chiral: False\n",
      "bond order: 1, chiral: False to atom atomic num: 6, name: , idx: 35, aromatic: False, chiral: False\n",
      "\n"
     ]
    },
    {
     "name": "stderr",
     "output_type": "stream",
     "text": [
      "Warning (not error because allow_undefined_stereo=True): OEMol has unspecified stereochemistry. oemol.GetTitle(): \n",
      "Problematic atoms are:\n",
      "Atom atomic num: 7, name: , idx: 36, aromatic: False, chiral: True with bonds:\n",
      "bond order: 1, chiral: False to atom atomic num: 6, name: , idx: 35, aromatic: True, chiral: False\n",
      "bond order: 1, chiral: False to atom atomic num: 6, name: , idx: 37, aromatic: False, chiral: False\n",
      "bond order: 1, chiral: False to atom atomic num: 6, name: , idx: 38, aromatic: False, chiral: False\n",
      "\n",
      "Warning (not error because allow_undefined_stereo=True): OEMol has unspecified stereochemistry. oemol.GetTitle(): \n",
      "Problematic atoms are:\n",
      "Atom atomic num: 7, name: , idx: 1, aromatic: False, chiral: True with bonds:\n",
      "bond order: 1, chiral: False to atom atomic num: 6, name: , idx: 0, aromatic: False, chiral: False\n",
      "bond order: 1, chiral: False to atom atomic num: 6, name: , idx: 2, aromatic: False, chiral: False\n",
      "bond order: 1, chiral: False to atom atomic num: 6, name: , idx: 13, aromatic: True, chiral: False\n",
      "Atom atomic num: 6, name: , idx: 3, aromatic: False, chiral: True with bonds:\n",
      "bond order: 1, chiral: False to atom atomic num: 6, name: , idx: 2, aromatic: False, chiral: False\n",
      "bond order: 1, chiral: False to atom atomic num: 8, name: , idx: 4, aromatic: False, chiral: False\n",
      "bond order: 1, chiral: False to atom atomic num: 6, name: , idx: 5, aromatic: False, chiral: True\n",
      "bond order: 1, chiral: False to atom atomic num: 1, name: , idx: 36, aromatic: False, chiral: False\n",
      "Atom atomic num: 6, name: , idx: 5, aromatic: False, chiral: True with bonds:\n",
      "bond order: 1, chiral: False to atom atomic num: 6, name: , idx: 3, aromatic: False, chiral: True\n",
      "bond order: 1, chiral: False to atom atomic num: 8, name: , idx: 6, aromatic: False, chiral: False\n",
      "bond order: 1, chiral: False to atom atomic num: 6, name: , idx: 7, aromatic: False, chiral: True\n",
      "bond order: 1, chiral: False to atom atomic num: 1, name: , idx: 38, aromatic: False, chiral: False\n",
      "Atom atomic num: 6, name: , idx: 7, aromatic: False, chiral: True with bonds:\n",
      "bond order: 1, chiral: False to atom atomic num: 6, name: , idx: 5, aromatic: False, chiral: True\n",
      "bond order: 1, chiral: False to atom atomic num: 8, name: , idx: 8, aromatic: False, chiral: False\n",
      "bond order: 1, chiral: False to atom atomic num: 6, name: , idx: 9, aromatic: False, chiral: True\n",
      "bond order: 1, chiral: False to atom atomic num: 1, name: , idx: 40, aromatic: False, chiral: False\n",
      "Atom atomic num: 6, name: , idx: 9, aromatic: False, chiral: True with bonds:\n",
      "bond order: 1, chiral: False to atom atomic num: 6, name: , idx: 7, aromatic: False, chiral: True\n",
      "bond order: 1, chiral: False to atom atomic num: 8, name: , idx: 10, aromatic: False, chiral: False\n",
      "bond order: 1, chiral: False to atom atomic num: 6, name: , idx: 11, aromatic: False, chiral: False\n",
      "bond order: 1, chiral: False to atom atomic num: 1, name: , idx: 42, aromatic: False, chiral: False\n",
      "\n",
      "Warning (not error because allow_undefined_stereo=True): OEMol has unspecified stereochemistry. oemol.GetTitle(): \n",
      "Problematic bonds are: [<openeye.oechem.OEBondBase; proxy of <Swig Object of type 'OEChem::OEBondBase *' at 0x7f823c85be70> >]\n",
      "\n",
      "Warning (not error because allow_undefined_stereo=True): OEMol has unspecified stereochemistry. oemol.GetTitle(): \n",
      "Problematic atoms are:\n",
      "Atom atomic num: 6, name: , idx: 22, aromatic: False, chiral: True with bonds:\n",
      "bond order: 1, chiral: False to atom atomic num: 6, name: , idx: 16, aromatic: False, chiral: False\n",
      "bond order: 1, chiral: False to atom atomic num: 6, name: , idx: 5, aromatic: False, chiral: False\n",
      "bond order: 1, chiral: False to atom atomic num: 6, name: , idx: 23, aromatic: False, chiral: False\n",
      "bond order: 1, chiral: False to atom atomic num: 1, name: , idx: 53, aromatic: False, chiral: False\n",
      "\n",
      "Warning (not error because allow_undefined_stereo=True): OEMol has unspecified stereochemistry. oemol.GetTitle(): \n",
      "Problematic atoms are:\n",
      "Atom atomic num: 6, name: , idx: 3, aromatic: False, chiral: True with bonds:\n",
      "bond order: 1, chiral: False to atom atomic num: 6, name: , idx: 2, aromatic: False, chiral: False\n",
      "bond order: 1, chiral: False to atom atomic num: 8, name: , idx: 4, aromatic: False, chiral: False\n",
      "bond order: 1, chiral: False to atom atomic num: 6, name: , idx: 5, aromatic: False, chiral: False\n",
      "bond order: 1, chiral: False to atom atomic num: 1, name: , idx: 34, aromatic: False, chiral: False\n",
      "\n",
      "Warning (not error because allow_undefined_stereo=True): OEMol has unspecified stereochemistry. oemol.GetTitle(): \n",
      "Problematic atoms are:\n",
      "Atom atomic num: 7, name: , idx: 30, aromatic: False, chiral: True with bonds:\n",
      "bond order: 1, chiral: False to atom atomic num: 6, name: , idx: 29, aromatic: True, chiral: False\n",
      "bond order: 1, chiral: False to atom atomic num: 6, name: , idx: 31, aromatic: False, chiral: False\n",
      "bond order: 1, chiral: False to atom atomic num: 6, name: , idx: 32, aromatic: False, chiral: False\n",
      "\n",
      "Warning (not error because allow_undefined_stereo=True): OEMol has unspecified stereochemistry. oemol.GetTitle(): \n",
      "Problematic atoms are:\n",
      "Atom atomic num: 7, name: , idx: 1, aromatic: False, chiral: True with bonds:\n",
      "bond order: 1, chiral: False to atom atomic num: 6, name: , idx: 0, aromatic: False, chiral: False\n",
      "bond order: 1, chiral: False to atom atomic num: 6, name: , idx: 28, aromatic: False, chiral: False\n",
      "bond order: 1, chiral: False to atom atomic num: 6, name: , idx: 2, aromatic: False, chiral: False\n",
      "Atom atomic num: 6, name: , idx: 4, aromatic: False, chiral: True with bonds:\n",
      "bond order: 1, chiral: False to atom atomic num: 6, name: , idx: 3, aromatic: False, chiral: False\n",
      "bond order: 1, chiral: False to atom atomic num: 6, name: , idx: 5, aromatic: True, chiral: False\n",
      "bond order: 1, chiral: False to atom atomic num: 6, name: , idx: 25, aromatic: False, chiral: True\n",
      "bond order: 1, chiral: False to atom atomic num: 1, name: , idx: 36, aromatic: False, chiral: False\n",
      "\n",
      "Warning (not error because allow_undefined_stereo=True): OEMol has unspecified stereochemistry. oemol.GetTitle(): \n",
      "Problematic atoms are:\n",
      "Atom atomic num: 6, name: , idx: 5, aromatic: False, chiral: True with bonds:\n",
      "bond order: 1, chiral: False to atom atomic num: 6, name: , idx: 4, aromatic: True, chiral: False\n",
      "bond order: 1, chiral: False to atom atomic num: 7, name: , idx: 17, aromatic: False, chiral: False\n",
      "bond order: 1, chiral: False to atom atomic num: 6, name: , idx: 6, aromatic: False, chiral: False\n",
      "bond order: 1, chiral: False to atom atomic num: 1, name: , idx: 28, aromatic: False, chiral: False\n",
      "\n",
      "Warning (not error because allow_undefined_stereo=True): OEMol has unspecified stereochemistry. oemol.GetTitle(): \n",
      "Problematic atoms are:\n",
      "Atom atomic num: 6, name: , idx: 15, aromatic: False, chiral: True with bonds:\n",
      "bond order: 1, chiral: False to atom atomic num: 7, name: , idx: 8, aromatic: False, chiral: False\n",
      "bond order: 1, chiral: False to atom atomic num: 6, name: , idx: 16, aromatic: True, chiral: False\n",
      "bond order: 1, chiral: False to atom atomic num: 6, name: , idx: 26, aromatic: False, chiral: False\n",
      "bond order: 1, chiral: False to atom atomic num: 1, name: , idx: 36, aromatic: False, chiral: False\n",
      "\n",
      "Warning (not error because allow_undefined_stereo=True): OEMol has unspecified stereochemistry. oemol.GetTitle(): \n",
      "Problematic atoms are:\n",
      "Atom atomic num: 7, name: , idx: 17, aromatic: False, chiral: True with bonds:\n",
      "bond order: 1, chiral: False to atom atomic num: 6, name: , idx: 16, aromatic: False, chiral: False\n",
      "bond order: 1, chiral: False to atom atomic num: 6, name: , idx: 26, aromatic: False, chiral: False\n",
      "bond order: 1, chiral: False to atom atomic num: 6, name: , idx: 18, aromatic: False, chiral: False\n",
      "\n",
      "Warning (not error because allow_undefined_stereo=True): OEMol has unspecified stereochemistry. oemol.GetTitle(): \n",
      "Problematic atoms are:\n",
      "Atom atomic num: 6, name: , idx: 24, aromatic: False, chiral: True with bonds:\n",
      "bond order: 1, chiral: False to atom atomic num: 6, name: , idx: 12, aromatic: False, chiral: False\n",
      "bond order: 1, chiral: False to atom atomic num: 6, name: , idx: 8, aromatic: False, chiral: False\n",
      "bond order: 1, chiral: False to atom atomic num: 6, name: , idx: 5, aromatic: False, chiral: False\n",
      "bond order: 1, chiral: False to atom atomic num: 1, name: , idx: 37, aromatic: False, chiral: False\n",
      "\n"
     ]
    },
    {
     "name": "stderr",
     "output_type": "stream",
     "text": [
      "Warning (not error because allow_undefined_stereo=True): OEMol has unspecified stereochemistry. oemol.GetTitle(): \n",
      "Problematic atoms are:\n",
      "Atom atomic num: 7, name: , idx: 33, aromatic: False, chiral: True with bonds:\n",
      "bond order: 1, chiral: False to atom atomic num: 6, name: , idx: 32, aromatic: True, chiral: False\n",
      "bond order: 1, chiral: False to atom atomic num: 6, name: , idx: 34, aromatic: False, chiral: False\n",
      "bond order: 1, chiral: False to atom atomic num: 6, name: , idx: 35, aromatic: False, chiral: False\n",
      "\n",
      "Warning (not error because allow_undefined_stereo=True): OEMol has unspecified stereochemistry. oemol.GetTitle(): \n",
      "Problematic atoms are:\n",
      "Atom atomic num: 7, name: , idx: 16, aromatic: False, chiral: True with bonds:\n",
      "bond order: 1, chiral: False to atom atomic num: 6, name: , idx: 15, aromatic: True, chiral: False\n",
      "bond order: 1, chiral: False to atom atomic num: 6, name: , idx: 25, aromatic: False, chiral: False\n",
      "bond order: 1, chiral: False to atom atomic num: 6, name: , idx: 17, aromatic: False, chiral: False\n",
      "\n",
      "Warning (not error because allow_undefined_stereo=True): OEMol has unspecified stereochemistry. oemol.GetTitle(): \n",
      "Problematic atoms are:\n",
      "Atom atomic num: 6, name: , idx: 26, aromatic: False, chiral: True with bonds:\n",
      "bond order: 1, chiral: False to atom atomic num: 6, name: , idx: 25, aromatic: False, chiral: False\n",
      "bond order: 1, chiral: False to atom atomic num: 7, name: , idx: 10, aromatic: False, chiral: False\n",
      "bond order: 1, chiral: False to atom atomic num: 6, name: , idx: 27, aromatic: True, chiral: False\n",
      "bond order: 1, chiral: False to atom atomic num: 1, name: , idx: 56, aromatic: False, chiral: False\n",
      "\n",
      "Warning (not error because allow_undefined_stereo=True): OEMol has unspecified stereochemistry. oemol.GetTitle(): \n",
      "Problematic atoms are:\n",
      "Atom atomic num: 7, name: , idx: 22, aromatic: False, chiral: True with bonds:\n",
      "bond order: 1, chiral: False to atom atomic num: 6, name: , idx: 21, aromatic: False, chiral: False\n",
      "bond order: 1, chiral: False to atom atomic num: 6, name: , idx: 28, aromatic: False, chiral: True\n",
      "bond order: 1, chiral: False to atom atomic num: 6, name: , idx: 23, aromatic: False, chiral: False\n",
      "Atom atomic num: 7, name: , idx: 25, aromatic: False, chiral: True with bonds:\n",
      "bond order: 1, chiral: False to atom atomic num: 6, name: , idx: 24, aromatic: False, chiral: False\n",
      "bond order: 1, chiral: False to atom atomic num: 6, name: , idx: 26, aromatic: False, chiral: False\n",
      "bond order: 1, chiral: False to atom atomic num: 6, name: , idx: 27, aromatic: False, chiral: False\n",
      "Atom atomic num: 6, name: , idx: 28, aromatic: False, chiral: True with bonds:\n",
      "bond order: 1, chiral: False to atom atomic num: 6, name: , idx: 27, aromatic: False, chiral: False\n",
      "bond order: 1, chiral: False to atom atomic num: 7, name: , idx: 22, aromatic: False, chiral: True\n",
      "bond order: 1, chiral: False to atom atomic num: 6, name: , idx: 29, aromatic: False, chiral: False\n",
      "bond order: 1, chiral: False to atom atomic num: 1, name: , idx: 53, aromatic: False, chiral: False\n",
      "\n",
      "Warning (not error because allow_undefined_stereo=True): OEMol has unspecified stereochemistry. oemol.GetTitle(): \n",
      "Problematic atoms are:\n",
      "Atom atomic num: 7, name: , idx: 1, aromatic: False, chiral: True with bonds:\n",
      "bond order: 1, chiral: False to atom atomic num: 6, name: , idx: 0, aromatic: False, chiral: False\n",
      "bond order: 1, chiral: False to atom atomic num: 6, name: , idx: 2, aromatic: False, chiral: False\n",
      "bond order: 1, chiral: False to atom atomic num: 6, name: , idx: 7, aromatic: True, chiral: False\n",
      "Atom atomic num: 6, name: , idx: 3, aromatic: False, chiral: True with bonds:\n",
      "bond order: 1, chiral: False to atom atomic num: 6, name: , idx: 2, aromatic: False, chiral: False\n",
      "bond order: 1, chiral: False to atom atomic num: 8, name: , idx: 4, aromatic: False, chiral: False\n",
      "bond order: 1, chiral: False to atom atomic num: 6, name: , idx: 5, aromatic: False, chiral: False\n",
      "bond order: 1, chiral: False to atom atomic num: 1, name: , idx: 30, aromatic: False, chiral: False\n",
      "\n",
      "Warning (not error because allow_undefined_stereo=True): OEMol has unspecified stereochemistry. oemol.GetTitle(): \n",
      "Problematic atoms are:\n",
      "Atom atomic num: 7, name: , idx: 33, aromatic: False, chiral: True with bonds:\n",
      "bond order: 1, chiral: False to atom atomic num: 6, name: , idx: 32, aromatic: True, chiral: False\n",
      "bond order: 1, chiral: False to atom atomic num: 6, name: , idx: 34, aromatic: False, chiral: False\n",
      "bond order: 1, chiral: False to atom atomic num: 6, name: , idx: 35, aromatic: False, chiral: False\n",
      "\n",
      "Warning (not error because allow_undefined_stereo=True): OEMol has unspecified stereochemistry. oemol.GetTitle(): \n",
      "Problematic atoms are:\n",
      "Atom atomic num: 6, name: , idx: 11, aromatic: False, chiral: True with bonds:\n",
      "bond order: 1, chiral: False to atom atomic num: 6, name: , idx: 10, aromatic: True, chiral: False\n",
      "bond order: 1, chiral: False to atom atomic num: 7, name: , idx: 16, aromatic: False, chiral: False\n",
      "bond order: 1, chiral: False to atom atomic num: 16, name: , idx: 12, aromatic: False, chiral: False\n",
      "bond order: 1, chiral: False to atom atomic num: 1, name: , idx: 54, aromatic: False, chiral: False\n",
      "\n",
      "Warning (not error because allow_undefined_stereo=True): OEMol has unspecified stereochemistry. oemol.GetTitle(): \n",
      "Problematic atoms are:\n",
      "Atom atomic num: 6, name: , idx: 27, aromatic: False, chiral: True with bonds:\n",
      "bond order: 1, chiral: False to atom atomic num: 7, name: , idx: 26, aromatic: False, chiral: False\n",
      "bond order: 1, chiral: False to atom atomic num: 6, name: , idx: 28, aromatic: False, chiral: False\n",
      "bond order: 1, chiral: False to atom atomic num: 6, name: , idx: 29, aromatic: False, chiral: False\n",
      "bond order: 1, chiral: False to atom atomic num: 1, name: , idx: 52, aromatic: False, chiral: False\n",
      "\n",
      "Warning (not error because allow_undefined_stereo=True): OEMol has unspecified stereochemistry. oemol.GetTitle(): \n",
      "Problematic atoms are:\n",
      "Atom atomic num: 6, name: , idx: 16, aromatic: False, chiral: True with bonds:\n",
      "bond order: 1, chiral: False to atom atomic num: 6, name: , idx: 15, aromatic: False, chiral: False\n",
      "bond order: 1, chiral: False to atom atomic num: 7, name: , idx: 5, aromatic: False, chiral: False\n",
      "bond order: 1, chiral: False to atom atomic num: 6, name: , idx: 17, aromatic: True, chiral: False\n",
      "bond order: 1, chiral: False to atom atomic num: 1, name: , idx: 33, aromatic: False, chiral: False\n",
      "\n",
      "Warning (not error because allow_undefined_stereo=True): OEMol has unspecified stereochemistry. oemol.GetTitle(): \n",
      "Problematic atoms are:\n",
      "Atom atomic num: 6, name: , idx: 15, aromatic: False, chiral: True with bonds:\n",
      "bond order: 1, chiral: False to atom atomic num: 6, name: , idx: 14, aromatic: False, chiral: False\n",
      "bond order: 1, chiral: False to atom atomic num: 7, name: , idx: 3, aromatic: False, chiral: False\n",
      "bond order: 1, chiral: False to atom atomic num: 6, name: , idx: 16, aromatic: True, chiral: False\n",
      "bond order: 1, chiral: False to atom atomic num: 1, name: , idx: 30, aromatic: False, chiral: False\n",
      "\n",
      "Warning (not error because allow_undefined_stereo=True): OEMol has unspecified stereochemistry. oemol.GetTitle(): \n",
      "Problematic atoms are:\n",
      "Atom atomic num: 6, name: , idx: 19, aromatic: False, chiral: True with bonds:\n",
      "bond order: 1, chiral: False to atom atomic num: 6, name: , idx: 18, aromatic: False, chiral: False\n",
      "bond order: 1, chiral: False to atom atomic num: 6, name: , idx: 25, aromatic: False, chiral: False\n",
      "bond order: 1, chiral: False to atom atomic num: 6, name: , idx: 20, aromatic: False, chiral: False\n",
      "bond order: 1, chiral: False to atom atomic num: 1, name: , idx: 49, aromatic: False, chiral: False\n",
      "Atom atomic num: 7, name: , idx: 23, aromatic: False, chiral: True with bonds:\n",
      "bond order: 1, chiral: False to atom atomic num: 6, name: , idx: 22, aromatic: False, chiral: False\n",
      "bond order: 1, chiral: False to atom atomic num: 6, name: , idx: 24, aromatic: False, chiral: False\n",
      "bond order: 1, chiral: False to atom atomic num: 6, name: , idx: 25, aromatic: False, chiral: False\n",
      "\n",
      "Warning (not error because allow_undefined_stereo=True): OEMol has unspecified stereochemistry. oemol.GetTitle(): \n",
      "Problematic atoms are:\n",
      "Atom atomic num: 6, name: , idx: 11, aromatic: False, chiral: True with bonds:\n",
      "bond order: 1, chiral: False to atom atomic num: 7, name: , idx: 7, aromatic: False, chiral: False\n",
      "bond order: 1, chiral: False to atom atomic num: 6, name: , idx: 12, aromatic: True, chiral: False\n",
      "bond order: 1, chiral: False to atom atomic num: 6, name: , idx: 19, aromatic: False, chiral: False\n",
      "bond order: 1, chiral: False to atom atomic num: 1, name: , idx: 30, aromatic: False, chiral: False\n",
      "\n"
     ]
    },
    {
     "name": "stderr",
     "output_type": "stream",
     "text": [
      "Warning (not error because allow_undefined_stereo=True): OEMol has unspecified stereochemistry. oemol.GetTitle(): \n",
      "Problematic atoms are:\n",
      "Atom atomic num: 6, name: , idx: 14, aromatic: False, chiral: True with bonds:\n",
      "bond order: 1, chiral: False to atom atomic num: 6, name: , idx: 13, aromatic: False, chiral: False\n",
      "bond order: 1, chiral: False to atom atomic num: 6, name: , idx: 28, aromatic: False, chiral: False\n",
      "bond order: 1, chiral: False to atom atomic num: 6, name: , idx: 15, aromatic: False, chiral: False\n",
      "bond order: 1, chiral: False to atom atomic num: 1, name: , idx: 43, aromatic: False, chiral: False\n",
      "\n",
      "Warning (not error because allow_undefined_stereo=True): OEMol has unspecified stereochemistry. oemol.GetTitle(): \n",
      "Problematic atoms are:\n",
      "Atom atomic num: 7, name: , idx: 6, aromatic: False, chiral: True with bonds:\n",
      "bond order: 1, chiral: False to atom atomic num: 6, name: , idx: 5, aromatic: True, chiral: False\n",
      "bond order: 1, chiral: False to atom atomic num: 6, name: , idx: 7, aromatic: False, chiral: False\n",
      "bond order: 1, chiral: False to atom atomic num: 6, name: , idx: 10, aromatic: False, chiral: False\n",
      "\n",
      "Warning (not error because allow_undefined_stereo=True): OEMol has unspecified stereochemistry. oemol.GetTitle(): \n",
      "Problematic atoms are:\n",
      "Atom atomic num: 7, name: , idx: 31, aromatic: False, chiral: True with bonds:\n",
      "bond order: 1, chiral: False to atom atomic num: 6, name: , idx: 30, aromatic: False, chiral: False\n",
      "bond order: 1, chiral: False to atom atomic num: 6, name: , idx: 25, aromatic: False, chiral: True\n",
      "bond order: 1, chiral: False to atom atomic num: 6, name: , idx: 32, aromatic: False, chiral: False\n",
      "\n",
      "Warning (not error because allow_undefined_stereo=True): OEMol has unspecified stereochemistry. oemol.GetTitle(): \n",
      "Problematic atoms are:\n",
      "Atom atomic num: 6, name: , idx: 16, aromatic: False, chiral: True with bonds:\n",
      "bond order: 1, chiral: False to atom atomic num: 7, name: , idx: 15, aromatic: False, chiral: False\n",
      "bond order: 1, chiral: False to atom atomic num: 6, name: , idx: 20, aromatic: False, chiral: False\n",
      "bond order: 1, chiral: False to atom atomic num: 6, name: , idx: 17, aromatic: False, chiral: False\n",
      "bond order: 1, chiral: False to atom atomic num: 1, name: , idx: 30, aromatic: False, chiral: False\n",
      "\n",
      "Warning (not error because allow_undefined_stereo=True): OEMol has unspecified stereochemistry. oemol.GetTitle(): \n",
      "Problematic atoms are:\n",
      "Atom atomic num: 7, name: , idx: 30, aromatic: False, chiral: True with bonds:\n",
      "bond order: 1, chiral: False to atom atomic num: 6, name: , idx: 29, aromatic: True, chiral: False\n",
      "bond order: 1, chiral: False to atom atomic num: 6, name: , idx: 31, aromatic: False, chiral: False\n",
      "bond order: 1, chiral: False to atom atomic num: 6, name: , idx: 32, aromatic: False, chiral: False\n",
      "\n",
      "Warning (not error because allow_undefined_stereo=True): OEMol has unspecified stereochemistry. oemol.GetTitle(): \n",
      "Problematic atoms are:\n",
      "Atom atomic num: 6, name: , idx: 5, aromatic: False, chiral: True with bonds:\n",
      "bond order: 1, chiral: False to atom atomic num: 6, name: , idx: 4, aromatic: True, chiral: False\n",
      "bond order: 1, chiral: False to atom atomic num: 7, name: , idx: 16, aromatic: False, chiral: False\n",
      "bond order: 1, chiral: False to atom atomic num: 6, name: , idx: 6, aromatic: False, chiral: False\n",
      "bond order: 1, chiral: False to atom atomic num: 1, name: , idx: 30, aromatic: False, chiral: False\n",
      "\n",
      "Warning (not error because allow_undefined_stereo=True): OEMol has unspecified stereochemistry. oemol.GetTitle(): \n",
      "Problematic atoms are:\n",
      "Atom atomic num: 6, name: , idx: 19, aromatic: False, chiral: True with bonds:\n",
      "bond order: 1, chiral: False to atom atomic num: 7, name: , idx: 7, aromatic: False, chiral: False\n",
      "bond order: 1, chiral: False to atom atomic num: 6, name: , idx: 20, aromatic: True, chiral: False\n",
      "bond order: 1, chiral: False to atom atomic num: 6, name: , idx: 27, aromatic: False, chiral: False\n",
      "bond order: 1, chiral: False to atom atomic num: 1, name: , idx: 42, aromatic: False, chiral: False\n",
      "\n",
      "Warning (not error because allow_undefined_stereo=True): OEMol has unspecified stereochemistry. oemol.GetTitle(): \n",
      "Problematic atoms are:\n",
      "Atom atomic num: 7, name: , idx: 1, aromatic: False, chiral: True with bonds:\n",
      "bond order: 1, chiral: False to atom atomic num: 6, name: , idx: 0, aromatic: False, chiral: False\n",
      "bond order: 1, chiral: False to atom atomic num: 6, name: , idx: 2, aromatic: False, chiral: False\n",
      "bond order: 1, chiral: False to atom atomic num: 6, name: , idx: 26, aromatic: False, chiral: False\n",
      "\n",
      "Warning (not error because allow_undefined_stereo=True): OEMol has unspecified stereochemistry. oemol.GetTitle(): \n",
      "Problematic atoms are:\n",
      "Atom atomic num: 6, name: , idx: 25, aromatic: False, chiral: True with bonds:\n",
      "bond order: 1, chiral: False to atom atomic num: 7, name: , idx: 24, aromatic: False, chiral: False\n",
      "bond order: 1, chiral: False to atom atomic num: 6, name: , idx: 3, aromatic: False, chiral: False\n",
      "bond order: 1, chiral: False to atom atomic num: 7, name: , idx: 26, aromatic: False, chiral: False\n",
      "bond order: 1, chiral: False to atom atomic num: 1, name: , idx: 57, aromatic: False, chiral: False\n",
      "\n",
      "Warning (not error because allow_undefined_stereo=True): OEMol has unspecified stereochemistry. oemol.GetTitle(): \n",
      "Problematic atoms are:\n",
      "Atom atomic num: 7, name: , idx: 3, aromatic: False, chiral: True with bonds:\n",
      "bond order: 1, chiral: False to atom atomic num: 6, name: , idx: 2, aromatic: False, chiral: False\n",
      "bond order: 1, chiral: False to atom atomic num: 6, name: , idx: 4, aromatic: False, chiral: False\n",
      "bond order: 1, chiral: False to atom atomic num: 6, name: , idx: 5, aromatic: False, chiral: False\n",
      "\n",
      "Warning (not error because allow_undefined_stereo=True): OEMol has unspecified stereochemistry. oemol.GetTitle(): \n",
      "Problematic atoms are:\n",
      "Atom atomic num: 7, name: , idx: 4, aromatic: False, chiral: True with bonds:\n",
      "bond order: 1, chiral: False to atom atomic num: 16, name: , idx: 1, aromatic: False, chiral: False\n",
      "bond order: 1, chiral: False to atom atomic num: 6, name: , idx: 8, aromatic: False, chiral: True\n",
      "bond order: 1, chiral: False to atom atomic num: 6, name: , idx: 5, aromatic: False, chiral: False\n",
      "\n",
      "Warning (not error because allow_undefined_stereo=True): OEMol has unspecified stereochemistry. oemol.GetTitle(): \n",
      "Problematic atoms are:\n",
      "Atom atomic num: 7, name: , idx: 33, aromatic: False, chiral: True with bonds:\n",
      "bond order: 1, chiral: False to atom atomic num: 6, name: , idx: 32, aromatic: True, chiral: False\n",
      "bond order: 1, chiral: False to atom atomic num: 6, name: , idx: 34, aromatic: False, chiral: False\n",
      "bond order: 1, chiral: False to atom atomic num: 6, name: , idx: 35, aromatic: False, chiral: False\n",
      "\n",
      "Warning (not error because allow_undefined_stereo=True): OEMol has unspecified stereochemistry. oemol.GetTitle(): \n",
      "Problematic atoms are:\n",
      "Atom atomic num: 7, name: , idx: 8, aromatic: False, chiral: True with bonds:\n",
      "bond order: 1, chiral: False to atom atomic num: 6, name: , idx: 7, aromatic: False, chiral: False\n",
      "bond order: 1, chiral: False to atom atomic num: 6, name: , idx: 9, aromatic: True, chiral: False\n",
      "bond order: 1, chiral: False to atom atomic num: 6, name: , idx: 31, aromatic: False, chiral: False\n",
      "\n",
      "Warning (not error because allow_undefined_stereo=True): OEMol has unspecified stereochemistry. oemol.GetTitle(): \n",
      "Problematic atoms are:\n",
      "Atom atomic num: 7, name: , idx: 34, aromatic: False, chiral: True with bonds:\n",
      "bond order: 1, chiral: False to atom atomic num: 6, name: , idx: 33, aromatic: True, chiral: False\n",
      "bond order: 1, chiral: False to atom atomic num: 6, name: , idx: 35, aromatic: False, chiral: False\n",
      "bond order: 1, chiral: False to atom atomic num: 6, name: , idx: 36, aromatic: False, chiral: False\n",
      "\n",
      "Warning (not error because allow_undefined_stereo=True): OEMol has unspecified stereochemistry. oemol.GetTitle(): \n",
      "Problematic atoms are:\n",
      "Atom atomic num: 6, name: , idx: 15, aromatic: False, chiral: True with bonds:\n",
      "bond order: 1, chiral: False to atom atomic num: 6, name: , idx: 2, aromatic: False, chiral: False\n",
      "bond order: 1, chiral: False to atom atomic num: 6, name: , idx: 16, aromatic: True, chiral: False\n",
      "bond order: 1, chiral: False to atom atomic num: 7, name: , idx: 24, aromatic: False, chiral: False\n",
      "bond order: 1, chiral: False to atom atomic num: 1, name: , idx: 49, aromatic: False, chiral: False\n",
      "\n"
     ]
    },
    {
     "name": "stderr",
     "output_type": "stream",
     "text": [
      "Warning (not error because allow_undefined_stereo=True): OEMol has unspecified stereochemistry. oemol.GetTitle(): \n",
      "Problematic atoms are:\n",
      "Atom atomic num: 6, name: , idx: 1, aromatic: False, chiral: True with bonds:\n",
      "bond order: 1, chiral: False to atom atomic num: 6, name: , idx: 0, aromatic: False, chiral: False\n",
      "bond order: 1, chiral: False to atom atomic num: 7, name: , idx: 6, aromatic: False, chiral: True\n",
      "bond order: 1, chiral: False to atom atomic num: 6, name: , idx: 2, aromatic: False, chiral: False\n",
      "bond order: 1, chiral: False to atom atomic num: 1, name: , idx: 38, aromatic: False, chiral: False\n",
      "Atom atomic num: 7, name: , idx: 6, aromatic: False, chiral: True with bonds:\n",
      "bond order: 1, chiral: False to atom atomic num: 6, name: , idx: 5, aromatic: False, chiral: False\n",
      "bond order: 1, chiral: False to atom atomic num: 6, name: , idx: 1, aromatic: False, chiral: True\n",
      "bond order: 1, chiral: False to atom atomic num: 6, name: , idx: 7, aromatic: False, chiral: False\n",
      "\n",
      "Warning (not error because allow_undefined_stereo=True): OEMol has unspecified stereochemistry. oemol.GetTitle(): \n",
      "Problematic atoms are:\n",
      "Atom atomic num: 6, name: , idx: 13, aromatic: False, chiral: True with bonds:\n",
      "bond order: 1, chiral: False to atom atomic num: 6, name: , idx: 11, aromatic: False, chiral: False\n",
      "bond order: 1, chiral: False to atom atomic num: 7, name: , idx: 18, aromatic: False, chiral: False\n",
      "bond order: 1, chiral: False to atom atomic num: 6, name: , idx: 14, aromatic: False, chiral: False\n",
      "bond order: 1, chiral: False to atom atomic num: 1, name: , idx: 51, aromatic: False, chiral: False\n",
      "\n",
      "Warning (not error because allow_undefined_stereo=True): OEMol has unspecified stereochemistry. oemol.GetTitle(): \n",
      "Problematic atoms are:\n",
      "Atom atomic num: 6, name: , idx: 26, aromatic: False, chiral: True with bonds:\n",
      "bond order: 1, chiral: False to atom atomic num: 6, name: , idx: 25, aromatic: False, chiral: False\n",
      "bond order: 1, chiral: False to atom atomic num: 6, name: , idx: 27, aromatic: False, chiral: False\n",
      "bond order: 1, chiral: False to atom atomic num: 7, name: , idx: 28, aromatic: False, chiral: False\n",
      "bond order: 1, chiral: False to atom atomic num: 1, name: , idx: 45, aromatic: False, chiral: False\n",
      "\n",
      "Warning (not error because allow_undefined_stereo=True): OEMol has unspecified stereochemistry. oemol.GetTitle(): \n",
      "Problematic atoms are:\n",
      "Atom atomic num: 6, name: , idx: 24, aromatic: False, chiral: True with bonds:\n",
      "bond order: 1, chiral: False to atom atomic num: 7, name: , idx: 23, aromatic: False, chiral: False\n",
      "bond order: 1, chiral: False to atom atomic num: 6, name: , idx: 33, aromatic: False, chiral: True\n",
      "bond order: 1, chiral: False to atom atomic num: 8, name: , idx: 25, aromatic: False, chiral: False\n",
      "bond order: 1, chiral: False to atom atomic num: 1, name: , idx: 59, aromatic: False, chiral: False\n",
      "Atom atomic num: 6, name: , idx: 26, aromatic: False, chiral: True with bonds:\n",
      "bond order: 1, chiral: False to atom atomic num: 8, name: , idx: 25, aromatic: False, chiral: False\n",
      "bond order: 1, chiral: False to atom atomic num: 6, name: , idx: 27, aromatic: False, chiral: False\n",
      "bond order: 1, chiral: False to atom atomic num: 6, name: , idx: 29, aromatic: False, chiral: True\n",
      "bond order: 1, chiral: False to atom atomic num: 1, name: , idx: 60, aromatic: False, chiral: False\n",
      "Atom atomic num: 6, name: , idx: 29, aromatic: False, chiral: True with bonds:\n",
      "bond order: 1, chiral: False to atom atomic num: 6, name: , idx: 26, aromatic: False, chiral: True\n",
      "bond order: 1, chiral: False to atom atomic num: 8, name: , idx: 30, aromatic: False, chiral: False\n",
      "bond order: 1, chiral: False to atom atomic num: 6, name: , idx: 31, aromatic: False, chiral: True\n",
      "bond order: 1, chiral: False to atom atomic num: 1, name: , idx: 64, aromatic: False, chiral: False\n",
      "Atom atomic num: 6, name: , idx: 31, aromatic: False, chiral: True with bonds:\n",
      "bond order: 1, chiral: False to atom atomic num: 6, name: , idx: 29, aromatic: False, chiral: True\n",
      "bond order: 1, chiral: False to atom atomic num: 8, name: , idx: 32, aromatic: False, chiral: False\n",
      "bond order: 1, chiral: False to atom atomic num: 6, name: , idx: 33, aromatic: False, chiral: True\n",
      "bond order: 1, chiral: False to atom atomic num: 1, name: , idx: 66, aromatic: False, chiral: False\n",
      "Atom atomic num: 6, name: , idx: 33, aromatic: False, chiral: True with bonds:\n",
      "bond order: 1, chiral: False to atom atomic num: 6, name: , idx: 31, aromatic: False, chiral: True\n",
      "bond order: 1, chiral: False to atom atomic num: 6, name: , idx: 24, aromatic: False, chiral: True\n",
      "bond order: 1, chiral: False to atom atomic num: 8, name: , idx: 34, aromatic: False, chiral: False\n",
      "bond order: 1, chiral: False to atom atomic num: 1, name: , idx: 68, aromatic: False, chiral: False\n",
      "\n",
      "Warning (not error because allow_undefined_stereo=True): OEMol has unspecified stereochemistry. oemol.GetTitle(): \n",
      "Problematic atoms are:\n",
      "Atom atomic num: 7, name: , idx: 1, aromatic: False, chiral: True with bonds:\n",
      "bond order: 1, chiral: False to atom atomic num: 6, name: , idx: 0, aromatic: False, chiral: False\n",
      "bond order: 1, chiral: False to atom atomic num: 6, name: , idx: 2, aromatic: False, chiral: False\n",
      "bond order: 1, chiral: False to atom atomic num: 6, name: , idx: 5, aromatic: False, chiral: False\n",
      "\n",
      "Warning (not error because allow_undefined_stereo=True): OEMol has unspecified stereochemistry. oemol.GetTitle(): \n",
      "Problematic atoms are:\n",
      "Atom atomic num: 6, name: , idx: 23, aromatic: False, chiral: True with bonds:\n",
      "bond order: 1, chiral: False to atom atomic num: 6, name: , idx: 22, aromatic: False, chiral: False\n",
      "bond order: 1, chiral: False to atom atomic num: 8, name: , idx: 24, aromatic: False, chiral: False\n",
      "bond order: 1, chiral: False to atom atomic num: 6, name: , idx: 25, aromatic: False, chiral: False\n",
      "bond order: 1, chiral: False to atom atomic num: 1, name: , idx: 45, aromatic: False, chiral: False\n",
      "\n",
      "Warning (not error because allow_undefined_stereo=True): OEMol has unspecified stereochemistry. oemol.GetTitle(): \n",
      "Problematic atoms are:\n",
      "Atom atomic num: 7, name: , idx: 18, aromatic: False, chiral: True with bonds:\n",
      "bond order: 1, chiral: False to atom atomic num: 6, name: , idx: 17, aromatic: False, chiral: False\n",
      "bond order: 1, chiral: False to atom atomic num: 6, name: , idx: 13, aromatic: True, chiral: False\n",
      "bond order: 1, chiral: False to atom atomic num: 6, name: , idx: 19, aromatic: False, chiral: False\n",
      "\n",
      "Warning (not error because allow_undefined_stereo=True): OEMol has unspecified stereochemistry. oemol.GetTitle(): \n",
      "Problematic bonds are: [<openeye.oechem.OEBondBase; proxy of <Swig Object of type 'OEChem::OEBondBase *' at 0x7f823cabdea0> >]\n",
      "\n",
      "Warning (not error because allow_undefined_stereo=True): OEMol has unspecified stereochemistry. oemol.GetTitle(): \n",
      "Problematic atoms are:\n",
      "Atom atomic num: 6, name: , idx: 11, aromatic: False, chiral: True with bonds:\n",
      "bond order: 1, chiral: False to atom atomic num: 7, name: , idx: 7, aromatic: False, chiral: False\n",
      "bond order: 1, chiral: False to atom atomic num: 6, name: , idx: 12, aromatic: True, chiral: False\n",
      "bond order: 1, chiral: False to atom atomic num: 6, name: , idx: 19, aromatic: False, chiral: False\n",
      "bond order: 1, chiral: False to atom atomic num: 1, name: , idx: 30, aromatic: False, chiral: False\n",
      "\n",
      "Warning (not error because allow_undefined_stereo=True): OEMol has unspecified stereochemistry. oemol.GetTitle(): \n",
      "Problematic atoms are:\n",
      "Atom atomic num: 7, name: , idx: 13, aromatic: False, chiral: True with bonds:\n",
      "bond order: 1, chiral: False to atom atomic num: 6, name: , idx: 12, aromatic: True, chiral: False\n",
      "bond order: 1, chiral: False to atom atomic num: 6, name: , idx: 21, aromatic: False, chiral: False\n",
      "bond order: 1, chiral: False to atom atomic num: 6, name: , idx: 14, aromatic: False, chiral: False\n",
      "Atom atomic num: 6, name: , idx: 16, aromatic: False, chiral: True with bonds:\n",
      "bond order: 1, chiral: False to atom atomic num: 6, name: , idx: 15, aromatic: False, chiral: False\n",
      "bond order: 1, chiral: False to atom atomic num: 6, name: , idx: 17, aromatic: False, chiral: False\n",
      "bond order: 1, chiral: False to atom atomic num: 6, name: , idx: 18, aromatic: False, chiral: False\n",
      "bond order: 1, chiral: False to atom atomic num: 6, name: , idx: 21, aromatic: False, chiral: False\n",
      "\n"
     ]
    },
    {
     "name": "stderr",
     "output_type": "stream",
     "text": [
      "Warning (not error because allow_undefined_stereo=True): OEMol has unspecified stereochemistry. oemol.GetTitle(): \n",
      "Problematic atoms are:\n",
      "Atom atomic num: 7, name: , idx: 2, aromatic: False, chiral: True with bonds:\n",
      "bond order: 1, chiral: False to atom atomic num: 6, name: , idx: 1, aromatic: False, chiral: False\n",
      "bond order: 1, chiral: False to atom atomic num: 6, name: , idx: 3, aromatic: False, chiral: False\n",
      "bond order: 1, chiral: False to atom atomic num: 6, name: , idx: 6, aromatic: False, chiral: False\n",
      "\n",
      "Warning (not error because allow_undefined_stereo=True): OEMol has unspecified stereochemistry. oemol.GetTitle(): \n",
      "Problematic atoms are:\n",
      "Atom atomic num: 6, name: , idx: 22, aromatic: False, chiral: True with bonds:\n",
      "bond order: 1, chiral: False to atom atomic num: 6, name: , idx: 16, aromatic: False, chiral: False\n",
      "bond order: 1, chiral: False to atom atomic num: 6, name: , idx: 5, aromatic: False, chiral: False\n",
      "bond order: 1, chiral: False to atom atomic num: 6, name: , idx: 23, aromatic: False, chiral: False\n",
      "bond order: 1, chiral: False to atom atomic num: 1, name: , idx: 54, aromatic: False, chiral: False\n",
      "\n",
      "Warning (not error because allow_undefined_stereo=True): OEMol has unspecified stereochemistry. oemol.GetTitle(): \n",
      "Problematic atoms are:\n",
      "Atom atomic num: 7, name: , idx: 30, aromatic: False, chiral: True with bonds:\n",
      "bond order: 1, chiral: False to atom atomic num: 6, name: , idx: 29, aromatic: True, chiral: False\n",
      "bond order: 1, chiral: False to atom atomic num: 6, name: , idx: 31, aromatic: False, chiral: False\n",
      "bond order: 1, chiral: False to atom atomic num: 6, name: , idx: 32, aromatic: False, chiral: False\n",
      "\n",
      "Warning (not error because allow_undefined_stereo=True): OEMol has unspecified stereochemistry. oemol.GetTitle(): \n",
      "Problematic atoms are:\n",
      "Atom atomic num: 6, name: , idx: 21, aromatic: False, chiral: True with bonds:\n",
      "bond order: 1, chiral: False to atom atomic num: 6, name: , idx: 1, aromatic: False, chiral: False\n",
      "bond order: 1, chiral: False to atom atomic num: 8, name: , idx: 30, aromatic: False, chiral: False\n",
      "bond order: 1, chiral: False to atom atomic num: 6, name: , idx: 22, aromatic: False, chiral: False\n",
      "bond order: 1, chiral: False to atom atomic num: 1, name: , idx: 41, aromatic: False, chiral: False\n",
      "\n",
      "Warning (not error because allow_undefined_stereo=True): OEMol has unspecified stereochemistry. oemol.GetTitle(): \n",
      "Problematic atoms are:\n",
      "Atom atomic num: 7, name: , idx: 5, aromatic: False, chiral: True with bonds:\n",
      "bond order: 1, chiral: False to atom atomic num: 16, name: , idx: 2, aromatic: False, chiral: False\n",
      "bond order: 1, chiral: False to atom atomic num: 6, name: , idx: 28, aromatic: False, chiral: False\n",
      "bond order: 1, chiral: False to atom atomic num: 6, name: , idx: 6, aromatic: False, chiral: False\n",
      "\n",
      "Warning (not error because allow_undefined_stereo=True): OEMol has unspecified stereochemistry. oemol.GetTitle(): \n",
      "Problematic atoms are:\n",
      "Atom atomic num: 7, name: , idx: 8, aromatic: False, chiral: True with bonds:\n",
      "bond order: 1, chiral: False to atom atomic num: 6, name: , idx: 7, aromatic: False, chiral: False\n",
      "bond order: 1, chiral: False to atom atomic num: 6, name: , idx: 3, aromatic: False, chiral: True\n",
      "bond order: 1, chiral: False to atom atomic num: 7, name: , idx: 9, aromatic: False, chiral: False\n",
      "\n",
      "Warning (not error because allow_undefined_stereo=True): OEMol has unspecified stereochemistry. oemol.GetTitle(): \n",
      "Problematic atoms are:\n",
      "Atom atomic num: 7, name: , idx: 32, aromatic: False, chiral: True with bonds:\n",
      "bond order: 1, chiral: False to atom atomic num: 6, name: , idx: 31, aromatic: True, chiral: False\n",
      "bond order: 1, chiral: False to atom atomic num: 6, name: , idx: 33, aromatic: False, chiral: False\n",
      "bond order: 1, chiral: False to atom atomic num: 6, name: , idx: 34, aromatic: False, chiral: False\n",
      "\n",
      "Warning (not error because allow_undefined_stereo=True): OEMol has unspecified stereochemistry. oemol.GetTitle(): \n",
      "Problematic atoms are:\n",
      "Atom atomic num: 7, name: , idx: 22, aromatic: False, chiral: True with bonds:\n",
      "bond order: 1, chiral: False to atom atomic num: 6, name: , idx: 21, aromatic: False, chiral: False\n",
      "bond order: 1, chiral: False to atom atomic num: 6, name: , idx: 23, aromatic: False, chiral: False\n",
      "bond order: 1, chiral: False to atom atomic num: 6, name: , idx: 24, aromatic: False, chiral: True\n",
      "\n",
      "Warning (not error because allow_undefined_stereo=True): OEMol has unspecified stereochemistry. oemol.GetTitle(): \n",
      "Problematic atoms are:\n",
      "Atom atomic num: 7, name: , idx: 7, aromatic: False, chiral: True with bonds:\n",
      "bond order: 1, chiral: False to atom atomic num: 6, name: , idx: 4, aromatic: False, chiral: True\n",
      "bond order: 1, chiral: False to atom atomic num: 6, name: , idx: 8, aromatic: False, chiral: False\n",
      "bond order: 1, chiral: False to atom atomic num: 6, name: , idx: 9, aromatic: False, chiral: False\n",
      "\n",
      "Warning (not error because allow_undefined_stereo=True): OEMol has unspecified stereochemistry. oemol.GetTitle(): \n",
      "Problematic atoms are:\n",
      "Atom atomic num: 6, name: , idx: 4, aromatic: False, chiral: True with bonds:\n",
      "bond order: 1, chiral: False to atom atomic num: 6, name: , idx: 3, aromatic: False, chiral: False\n",
      "bond order: 1, chiral: False to atom atomic num: 8, name: , idx: 5, aromatic: False, chiral: False\n",
      "bond order: 1, chiral: False to atom atomic num: 6, name: , idx: 6, aromatic: False, chiral: False\n",
      "bond order: 1, chiral: False to atom atomic num: 1, name: , idx: 54, aromatic: False, chiral: False\n",
      "Atom atomic num: 7, name: , idx: 7, aromatic: False, chiral: True with bonds:\n",
      "bond order: 1, chiral: False to atom atomic num: 6, name: , idx: 6, aromatic: False, chiral: False\n",
      "bond order: 1, chiral: False to atom atomic num: 6, name: , idx: 8, aromatic: False, chiral: False\n",
      "bond order: 1, chiral: False to atom atomic num: 6, name: , idx: 9, aromatic: False, chiral: True\n",
      "\n",
      "Warning (not error because allow_undefined_stereo=True): OEMol has unspecified stereochemistry. oemol.GetTitle(): \n",
      "Problematic atoms are:\n",
      "Atom atomic num: 6, name: , idx: 16, aromatic: False, chiral: True with bonds:\n",
      "bond order: 1, chiral: False to atom atomic num: 8, name: , idx: 15, aromatic: False, chiral: False\n",
      "bond order: 1, chiral: False to atom atomic num: 6, name: , idx: 17, aromatic: False, chiral: False\n",
      "bond order: 1, chiral: False to atom atomic num: 6, name: , idx: 18, aromatic: False, chiral: False\n",
      "bond order: 1, chiral: False to atom atomic num: 1, name: , idx: 36, aromatic: False, chiral: False\n",
      "\n",
      "Warning (not error because allow_undefined_stereo=True): OEMol has unspecified stereochemistry. oemol.GetTitle(): \n",
      "Problematic atoms are:\n",
      "Atom atomic num: 6, name: , idx: 14, aromatic: False, chiral: True with bonds:\n",
      "bond order: 1, chiral: False to atom atomic num: 7, name: , idx: 7, aromatic: False, chiral: False\n",
      "bond order: 1, chiral: False to atom atomic num: 6, name: , idx: 15, aromatic: True, chiral: False\n",
      "bond order: 1, chiral: False to atom atomic num: 6, name: , idx: 25, aromatic: False, chiral: False\n",
      "bond order: 1, chiral: False to atom atomic num: 1, name: , idx: 36, aromatic: False, chiral: False\n",
      "\n",
      "Warning (not error because allow_undefined_stereo=True): OEMol has unspecified stereochemistry. oemol.GetTitle(): \n",
      "Problematic atoms are:\n",
      "Atom atomic num: 7, name: , idx: 3, aromatic: False, chiral: True with bonds:\n",
      "bond order: 1, chiral: False to atom atomic num: 6, name: , idx: 2, aromatic: False, chiral: False\n",
      "bond order: 1, chiral: False to atom atomic num: 6, name: , idx: 4, aromatic: False, chiral: False\n",
      "bond order: 1, chiral: False to atom atomic num: 6, name: , idx: 10, aromatic: False, chiral: False\n",
      "\n",
      "Warning (not error because allow_undefined_stereo=True): OEMol has unspecified stereochemistry. oemol.GetTitle(): \n",
      "Problematic atoms are:\n",
      "Atom atomic num: 7, name: , idx: 32, aromatic: False, chiral: True with bonds:\n",
      "bond order: 1, chiral: False to atom atomic num: 6, name: , idx: 31, aromatic: True, chiral: False\n",
      "bond order: 1, chiral: False to atom atomic num: 6, name: , idx: 41, aromatic: False, chiral: False\n",
      "bond order: 1, chiral: False to atom atomic num: 6, name: , idx: 33, aromatic: False, chiral: False\n",
      "Atom atomic num: 6, name: , idx: 35, aromatic: False, chiral: True with bonds:\n",
      "bond order: 1, chiral: False to atom atomic num: 6, name: , idx: 34, aromatic: False, chiral: False\n",
      "bond order: 1, chiral: False to atom atomic num: 6, name: , idx: 40, aromatic: False, chiral: False\n",
      "bond order: 1, chiral: False to atom atomic num: 6, name: , idx: 36, aromatic: False, chiral: False\n",
      "bond order: 1, chiral: False to atom atomic num: 6, name: , idx: 41, aromatic: False, chiral: False\n",
      "Atom atomic num: 7, name: , idx: 38, aromatic: False, chiral: True with bonds:\n",
      "bond order: 1, chiral: False to atom atomic num: 6, name: , idx: 37, aromatic: False, chiral: False\n",
      "bond order: 1, chiral: False to atom atomic num: 6, name: , idx: 39, aromatic: False, chiral: False\n",
      "bond order: 1, chiral: False to atom atomic num: 6, name: , idx: 40, aromatic: False, chiral: False\n",
      "\n"
     ]
    },
    {
     "name": "stderr",
     "output_type": "stream",
     "text": [
      "Warning (not error because allow_undefined_stereo=True): OEMol has unspecified stereochemistry. oemol.GetTitle(): \n",
      "Problematic atoms are:\n",
      "Atom atomic num: 6, name: , idx: 14, aromatic: False, chiral: True with bonds:\n",
      "bond order: 1, chiral: False to atom atomic num: 6, name: , idx: 13, aromatic: False, chiral: False\n",
      "bond order: 1, chiral: False to atom atomic num: 7, name: , idx: 3, aromatic: False, chiral: False\n",
      "bond order: 1, chiral: False to atom atomic num: 6, name: , idx: 15, aromatic: True, chiral: False\n",
      "bond order: 1, chiral: False to atom atomic num: 1, name: , idx: 33, aromatic: False, chiral: False\n",
      "\n",
      "Warning (not error because allow_undefined_stereo=True): OEMol has unspecified stereochemistry. oemol.GetTitle(): \n",
      "Problematic atoms are:\n",
      "Atom atomic num: 7, name: , idx: 27, aromatic: False, chiral: True with bonds:\n",
      "bond order: 1, chiral: False to atom atomic num: 6, name: , idx: 26, aromatic: False, chiral: False\n",
      "bond order: 1, chiral: False to atom atomic num: 6, name: , idx: 28, aromatic: False, chiral: False\n",
      "bond order: 1, chiral: False to atom atomic num: 6, name: , idx: 29, aromatic: False, chiral: False\n",
      "\n",
      "Warning (not error because allow_undefined_stereo=True): OEMol has unspecified stereochemistry. oemol.GetTitle(): \n",
      "Problematic atoms are:\n",
      "Atom atomic num: 6, name: , idx: 3, aromatic: False, chiral: True with bonds:\n",
      "bond order: 1, chiral: False to atom atomic num: 8, name: , idx: 2, aromatic: False, chiral: False\n",
      "bond order: 1, chiral: False to atom atomic num: 6, name: , idx: 4, aromatic: False, chiral: False\n",
      "bond order: 1, chiral: False to atom atomic num: 8, name: , idx: 5, aromatic: False, chiral: False\n",
      "bond order: 1, chiral: False to atom atomic num: 1, name: , idx: 36, aromatic: False, chiral: False\n",
      "\n",
      "Warning (not error because allow_undefined_stereo=True): OEMol has unspecified stereochemistry. oemol.GetTitle(): \n",
      "Problematic atoms are:\n",
      "Atom atomic num: 7, name: , idx: 22, aromatic: False, chiral: True with bonds:\n",
      "bond order: 1, chiral: False to atom atomic num: 6, name: , idx: 21, aromatic: False, chiral: False\n",
      "bond order: 1, chiral: False to atom atomic num: 6, name: , idx: 23, aromatic: False, chiral: False\n",
      "bond order: 1, chiral: False to atom atomic num: 6, name: , idx: 28, aromatic: False, chiral: True\n",
      "\n",
      "Warning (not error because allow_undefined_stereo=True): OEMol has unspecified stereochemistry. oemol.GetTitle(): \n",
      "Problematic atoms are:\n",
      "Atom atomic num: 6, name: , idx: 4, aromatic: False, chiral: True with bonds:\n",
      "bond order: 1, chiral: False to atom atomic num: 6, name: , idx: 3, aromatic: False, chiral: False\n",
      "bond order: 1, chiral: False to atom atomic num: 6, name: , idx: 5, aromatic: False, chiral: False\n",
      "bond order: 1, chiral: False to atom atomic num: 6, name: , idx: 13, aromatic: False, chiral: False\n",
      "bond order: 1, chiral: False to atom atomic num: 1, name: , idx: 38, aromatic: False, chiral: False\n",
      "\n",
      "Warning (not error because allow_undefined_stereo=True): OEMol has unspecified stereochemistry. oemol.GetTitle(): \n",
      "Problematic atoms are:\n",
      "Atom atomic num: 6, name: , idx: 3, aromatic: False, chiral: True with bonds:\n",
      "bond order: 1, chiral: False to atom atomic num: 7, name: , idx: 2, aromatic: False, chiral: False\n",
      "bond order: 1, chiral: False to atom atomic num: 6, name: , idx: 4, aromatic: False, chiral: False\n",
      "bond order: 1, chiral: False to atom atomic num: 6, name: , idx: 6, aromatic: False, chiral: False\n",
      "bond order: 1, chiral: False to atom atomic num: 1, name: , idx: 24, aromatic: False, chiral: False\n",
      "\n",
      "Warning (not error because allow_undefined_stereo=True): OEMol has unspecified stereochemistry. oemol.GetTitle(): \n",
      "Problematic atoms are:\n",
      "Atom atomic num: 6, name: , idx: 21, aromatic: False, chiral: True with bonds:\n",
      "bond order: 1, chiral: False to atom atomic num: 6, name: , idx: 15, aromatic: False, chiral: False\n",
      "bond order: 1, chiral: False to atom atomic num: 6, name: , idx: 4, aromatic: False, chiral: False\n",
      "bond order: 1, chiral: False to atom atomic num: 6, name: , idx: 22, aromatic: False, chiral: False\n",
      "bond order: 1, chiral: False to atom atomic num: 1, name: , idx: 50, aromatic: False, chiral: False\n",
      "\n"
     ]
    }
   ],
   "source": [
    "%%capture --no-display\n",
    "# to hide warnings\n",
    "\n",
    "aggregated_pipeline.featurize(dataset.systems, **FEATURIZE_KWARGS);"
   ]
  },
  {
   "cell_type": "markdown",
   "metadata": {
    "papermill": {
     "duration": 0.017649,
     "end_time": "2023-11-01T15:27:28.141829",
     "exception": false,
     "start_time": "2023-11-01T15:27:28.124180",
     "status": "completed"
    },
    "tags": []
   },
   "source": [
    "### Filter"
   ]
  },
  {
   "cell_type": "markdown",
   "metadata": {
    "papermill": {
     "duration": 0.017523,
     "end_time": "2023-11-01T15:27:28.177286",
     "exception": false,
     "start_time": "2023-11-01T15:27:28.159763",
     "status": "completed"
    },
    "tags": []
   },
   "source": [
    "Remove systems that couldn't be featurized. Successful featurizations are stored in `measurement.system.featurizations['last']` so we test for that key existence."
   ]
  },
  {
   "cell_type": "code",
   "execution_count": 12,
   "metadata": {
    "papermill": {
     "duration": 0.027352,
     "end_time": "2023-11-01T15:27:28.222175",
     "exception": false,
     "start_time": "2023-11-01T15:27:28.194823",
     "status": "completed"
    },
    "tags": []
   },
   "outputs": [],
   "source": [
    "from kinoml.datasets.groups import CallableGrouper, RandomGrouper\n",
    "grouper = CallableGrouper(lambda measurement: 'invalid' if 'last' not in measurement.system.featurizations else 'valid')\n",
    "grouper.assign(dataset, overwrite=True, progress=False)\n",
    "groups = dataset.split_by_groups()\n",
    "if \"invalid\" in groups:\n",
    "    _invalid = groups.pop(\"invalid\")\n",
    "    warn(f\"{len(_invalid)} entries could not be featurized!. Possible errors:\")\n",
    "    warn(f\"{_invalid[0].system.featurizations}\")"
   ]
  },
  {
   "cell_type": "markdown",
   "metadata": {
    "papermill": {
     "duration": 0.018511,
     "end_time": "2023-11-01T15:27:28.258900",
     "exception": false,
     "start_time": "2023-11-01T15:27:28.240389",
     "status": "completed"
    },
    "tags": []
   },
   "source": [
    "### Groups\n",
    "\n",
    "Cumulatively apply groups."
   ]
  },
  {
   "cell_type": "code",
   "execution_count": 13,
   "metadata": {
    "papermill": {
     "duration": 0.025957,
     "end_time": "2023-11-01T15:27:28.303483",
     "exception": false,
     "start_time": "2023-11-01T15:27:28.277526",
     "status": "completed"
    },
    "tags": []
   },
   "outputs": [
    {
     "name": "stdout",
     "output_type": "stream",
     "text": [
      "10 groups to show keys:\n",
      "('valid', 'pIC50Measurement')\n",
      "('valid', 'pKdMeasurement')\n",
      "('valid', 'pKiMeasurement')\n"
     ]
    }
   ],
   "source": [
    "groups[(\"valid\",)] = groups.pop(\"valid\")\n",
    "if GROUPS:\n",
    "    for grouper_str, grouper_kwargs in GROUPS:\n",
    "        grouper_cls = import_object(grouper_str)\n",
    "        ## We need this because lambda functions are not JSON-serializable\n",
    "        if issubclass(grouper_cls, CallableGrouper):\n",
    "            for k, v in list(grouper_kwargs.items()):\n",
    "                if k == \"function\" and isinstance(v, str):\n",
    "                    grouper_kwargs[k] = eval(v)  # sorry :)\n",
    "        ## End of lambda hack\n",
    "        grouper = grouper_cls(**grouper_kwargs)        \n",
    "        for group_key in list(groups.keys()):\n",
    "            grouper.assign(groups[group_key], overwrite=True, progress=False)\n",
    "            for subkey, subgroup in groups.pop(group_key).split_by_groups().items():\n",
    "                groups[group_key + (subkey,)] = subgroup\n",
    "print(\"10 groups to show keys:\", *list(groups.keys())[:10], sep=\"\\n\")"
   ]
  },
  {
   "cell_type": "markdown",
   "metadata": {
    "papermill": {
     "duration": 0.017065,
     "end_time": "2023-11-01T15:27:28.338027",
     "exception": false,
     "start_time": "2023-11-01T15:27:28.320962",
     "status": "completed"
    },
    "tags": []
   },
   "source": [
    "### Write tensors to disk\n",
    "\n",
    "Output files are written to `_output/<PIPELINE>/<DATASET>/<GROUP>.parquet` files.\n",
    "\n",
    "Each `parquet` will contain at least two array-like objects. The dimensionality of the parquet files is built as `(systems, X_or_y, ...)`. For example, the first X vector for the first system is accessed like `parquet[0, \"0\"]`. Notice how the 2nd index is a string! (`awkward` design).\n",
    "\n",
    "- `\"0\"` (X, featurized systems). See `DatasetProvider.to_awkward` for more info.\n",
    "- `\"1\"` (y, associated measurements)\n",
    "\n",
    "If `X` is composed of more than one array (e.g. connectivity matrix + node features), these are flattened to `\"0\"`, `\"1\"`, `\"2\"`, and so on. `y` is ALWAYS the last one in that list (accessible via `data.fields`)"
   ]
  },
  {
   "cell_type": "code",
   "execution_count": 14,
   "metadata": {
    "papermill": {
     "duration": 31.673706,
     "end_time": "2023-11-01T15:28:00.028555",
     "exception": false,
     "start_time": "2023-11-01T15:27:28.354849",
     "status": "completed"
    },
    "tags": []
   },
   "outputs": [],
   "source": [
    "random_grouper = RandomGrouper(TRAIN_TEST_VAL_KWARGS)\n",
    "\n",
    "parquets = []\n",
    "for group, ds in sorted(groups.items(), key=lambda kv: len(kv[1]), reverse=True):\n",
    "    indices = random_grouper.indices(ds)\n",
    "    X, y = ds.to_awkward()\n",
    "    parquet = ak.zip([*X, y], depth_limit=1)\n",
    "    path = OUT / f\"{'__'.join([g for g in group if g != 'valid'])}.parquet\"\n",
    "    parquets.append(path)\n",
    "    ak.to_parquet(parquet, path)\n",
    "    # TODO: Missing indices?"
   ]
  },
  {
   "cell_type": "markdown",
   "metadata": {
    "papermill": {
     "duration": 0.017289,
     "end_time": "2023-11-01T15:28:00.062756",
     "exception": false,
     "start_time": "2023-11-01T15:28:00.045467",
     "status": "completed"
    },
    "tags": []
   },
   "source": [
    "Preview generated Parquet files:"
   ]
  },
  {
   "cell_type": "code",
   "execution_count": 15,
   "metadata": {
    "papermill": {
     "duration": 0.061184,
     "end_time": "2023-11-01T15:28:00.140684",
     "exception": false,
     "start_time": "2023-11-01T15:28:00.079500",
     "status": "completed"
    },
    "tags": []
   },
   "outputs": [
    {
     "data": {
      "text/plain": [
       "<Array [([0, ..., 0], 6.14), ..., ([...], ...)] type='2826 * (var * int64, ...'>"
      ]
     },
     "execution_count": 15,
     "metadata": {},
     "output_type": "execute_result"
    }
   ],
   "source": [
    "from kinoml.datasets.torch_datasets import AwkwardArrayDataset\n",
    "awk = AwkwardArrayDataset.from_parquet(parquets[0])\n",
    "awk"
   ]
  },
  {
   "cell_type": "code",
   "execution_count": 16,
   "metadata": {
    "papermill": {
     "duration": 0.022168,
     "end_time": "2023-11-01T15:28:00.180106",
     "exception": false,
     "start_time": "2023-11-01T15:28:00.157938",
     "status": "completed"
    },
    "tags": []
   },
   "outputs": [],
   "source": [
    "# X, y = awk[0]  # (multi-X) and y tensors for first system"
   ]
  },
  {
   "cell_type": "code",
   "execution_count": 17,
   "metadata": {
    "papermill": {
     "duration": 0.023498,
     "end_time": "2023-11-01T15:28:00.222502",
     "exception": false,
     "start_time": "2023-11-01T15:28:00.199004",
     "status": "completed"
    },
    "tags": []
   },
   "outputs": [],
   "source": [
    "# X"
   ]
  },
  {
   "cell_type": "code",
   "execution_count": 18,
   "metadata": {
    "papermill": {
     "duration": 0.023163,
     "end_time": "2023-11-01T15:28:00.264603",
     "exception": false,
     "start_time": "2023-11-01T15:28:00.241440",
     "status": "completed"
    },
    "tags": []
   },
   "outputs": [],
   "source": [
    "# y"
   ]
  },
  {
   "cell_type": "code",
   "execution_count": 19,
   "metadata": {
    "papermill": {
     "duration": 0.023762,
     "end_time": "2023-11-01T15:28:00.307429",
     "exception": false,
     "start_time": "2023-11-01T15:28:00.283667",
     "status": "completed"
    },
    "tags": []
   },
   "outputs": [
    {
     "name": "stdout",
     "output_type": "stream",
     "text": [
      "Run finished at 2023-11-06 10:51:51.390702\n"
     ]
    }
   ],
   "source": [
    "print(\"Run finished at\", datetime.now())"
   ]
  },
  {
   "cell_type": "markdown",
   "metadata": {
    "papermill": {
     "duration": 0.019404,
     "end_time": "2023-11-01T15:28:00.346444",
     "exception": false,
     "start_time": "2023-11-01T15:28:00.327040",
     "status": "completed"
    },
    "tags": []
   },
   "source": [
    "### Reproducibility logs"
   ]
  },
  {
   "cell_type": "code",
   "execution_count": 20,
   "metadata": {
    "papermill": {
     "duration": 0.023764,
     "end_time": "2023-11-01T15:28:00.389625",
     "exception": false,
     "start_time": "2023-11-01T15:28:00.365861",
     "status": "completed"
    },
    "tags": []
   },
   "outputs": [],
   "source": [
    "# Free some memory first\n",
    "del awk, parquets, groups, dataset"
   ]
  },
  {
   "cell_type": "code",
   "execution_count": 21,
   "metadata": {
    "papermill": {
     "duration": 3.431168,
     "end_time": "2023-11-01T15:28:03.839974",
     "exception": false,
     "start_time": "2023-11-01T15:28:00.408806",
     "status": "completed"
    },
    "tags": []
   },
   "outputs": [
    {
     "name": "stdout",
     "output_type": "stream",
     "text": [
      "Watermark\n",
      "---------\n",
      "Last updated: 2023-11-06T10:51:51.400767+01:00\n",
      "\n",
      "Python implementation: CPython\n",
      "Python version       : 3.9.18\n",
      "IPython version      : 8.15.0\n",
      "\n",
      "Compiler    : GCC 12.3.0\n",
      "OS          : Linux\n",
      "Release     : 6.2.0-36-generic\n",
      "Machine     : x86_64\n",
      "Processor   : x86_64\n",
      "CPU cores   : 16\n",
      "Architecture: 64bit\n",
      "\n",
      "Hostname: aleph\n",
      "\n",
      "Git hash: d2352d6e07d594ed9fd973b544529f89feb82d78\n",
      "\n",
      "numpy  : 1.26.0\n",
      "sys    : 3.9.18 | packaged by conda-forge | (main, Aug 30 2023, 03:49:32) \n",
      "[GCC 12.3.0]\n",
      "awkward: 2.4.6\n",
      "\n",
      "Watermark: 2.4.3\n",
      "\n",
      "\n",
      "nvidia-smi\n",
      "----------\n",
      "stdout:\n",
      "Mon Nov  6 10:51:51 2023       \n",
      "+-----------------------------------------------------------------------------+\n",
      "| NVIDIA-SMI 525.147.05   Driver Version: 525.147.05   CUDA Version: 12.0     |\n",
      "|-------------------------------+----------------------+----------------------+\n",
      "| GPU  Name        Persistence-M| Bus-Id        Disp.A | Volatile Uncorr. ECC |\n",
      "| Fan  Temp  Perf  Pwr:Usage/Cap|         Memory-Usage | GPU-Util  Compute M. |\n",
      "|                               |                      |               MIG M. |\n",
      "|===============================+======================+======================|\n",
      "|   0  NVIDIA GeForce ...  Off  | 00000000:01:00.0  On |                  N/A |\n",
      "| N/A   59C    P8    20W /  80W |     49MiB / 16384MiB |     17%      Default |\n",
      "|                               |                      |                  N/A |\n",
      "+-------------------------------+----------------------+----------------------+\n",
      "                                                                               \n",
      "+-----------------------------------------------------------------------------+\n",
      "| Processes:                                                                  |\n",
      "|  GPU   GI   CI        PID   Type   Process name                  GPU Memory |\n",
      "|        ID   ID                                                   Usage      |\n",
      "|=============================================================================|\n",
      "|    0   N/A  N/A      1260      G   /usr/lib/xorg/Xorg                 45MiB |\n",
      "+-----------------------------------------------------------------------------+\n",
      "\n",
      "conda info\n",
      "----------\n",
      "sys.version: 3.11.5 (main, Sep 11 2023, 13:54:46) [GC...\n",
      "sys.prefix: /home/raquellrdc/anaconda3\n",
      "sys.executable: /home/raquellrdc/anaconda3/bin/python\n",
      "conda location: /home/raquellrdc/anaconda3/lib/python3.11/site-packages/conda\n",
      "conda-build: /home/raquellrdc/anaconda3/bin/conda-build\n",
      "conda-content-trust: /home/raquellrdc/anaconda3/bin/conda-content-trust\n",
      "conda-convert: /home/raquellrdc/anaconda3/bin/conda-convert\n",
      "conda-debug: /home/raquellrdc/anaconda3/bin/conda-debug\n",
      "conda-develop: /home/raquellrdc/anaconda3/bin/conda-develop\n",
      "conda-env: /home/raquellrdc/anaconda3/bin/conda-env\n",
      "conda-index: /home/raquellrdc/anaconda3/bin/conda-index\n",
      "conda-inspect: /home/raquellrdc/anaconda3/bin/conda-inspect\n",
      "conda-metapackage: /home/raquellrdc/anaconda3/bin/conda-metapackage\n",
      "conda-pack: /home/raquellrdc/anaconda3/bin/conda-pack\n",
      "conda-render: /home/raquellrdc/anaconda3/bin/conda-render\n",
      "conda-repo: /home/raquellrdc/anaconda3/bin/conda-repo\n",
      "conda-server: /home/raquellrdc/anaconda3/bin/conda-server\n",
      "conda-skeleton: /home/raquellrdc/anaconda3/bin/conda-skeleton\n",
      "conda-token: /home/raquellrdc/anaconda3/bin/conda-token\n",
      "conda-verify: /home/raquellrdc/anaconda3/bin/conda-verify\n",
      "user site dirs: ~/.local/lib/python3.10\n",
      "\n",
      "CIO_TEST: <not set>\n",
      "CONDA_DEFAULT_ENV: kinoml_env\n",
      "CONDA_EXE: /home/raquellrdc/anaconda3/bin/conda\n",
      "CONDA_PREFIX: /home/raquellrdc/anaconda3/envs/kinoml_env\n",
      "CONDA_PROMPT_MODIFIER: (kinoml_env) \n",
      "CONDA_PYTHON_EXE: /home/raquellrdc/anaconda3/bin/python\n",
      "CONDA_ROOT: /home/raquellrdc/anaconda3\n",
      "CONDA_SHLVL: 1\n",
      "CURL_CA_BUNDLE: <not set>\n",
      "LD_PRELOAD: <not set>\n",
      "PATH: /home/raquellrdc/anaconda3/envs/kinoml_env/bin:/home/raquellrdc/anaconda3/condabin:/home/raquellrdc/.local/bin:/usr/local/sbin:/usr/local/bin:/usr/sbin:/usr/bin:/sbin:/bin:/usr/games:/usr/local/games:/snap/bin\n",
      "PYTHONHASHSEED: 1234\n",
      "REQUESTS_CA_BUNDLE: <not set>\n",
      "SSL_CERT_FILE: <not set>\n",
      "XDG_SEAT_PATH: /org/freedesktop/DisplayManager/Seat0\n",
      "XDG_SESSION_PATH: /org/freedesktop/DisplayManager/Session1\n",
      "\n",
      "conda list\n",
      "----------\n",
      "# packages in environment at /home/raquellrdc/anaconda3/envs/kinoml_env:\n",
      "#\n",
      "# Name                    Version                   Build  Channel\n",
      "_libgcc_mutex             0.1                 conda_forge    conda-forge\n",
      "_openmp_mutex             4.5                       2_gnu    conda-forge\n",
      "_py-xgboost-mutex         2.0                       gpu_0    conda-forge\n",
      "alabaster                 0.7.13                   pypi_0    pypi\n",
      "ambertools                23.3             py39h7fa913e_4    conda-forge\n",
      "amberutils                21.0                     pypi_0    pypi\n",
      "ansiwrap                  0.8.4                      py_0    conda-forge\n",
      "anyio                     3.5.0            py39h06a4308_0  \n",
      "appdirs                   1.4.4              pyh9f0ad1d_0    conda-forge\n",
      "argon2-cffi               21.3.0             pyhd3eb1b0_0  \n",
      "argon2-cffi-bindings      21.2.0           py39h7f8727e_0  \n",
      "arpack                    3.8.0           nompi_h0baa96a_101    conda-forge\n",
      "arrow                     1.3.0              pyhd8ed1ab_0    conda-forge\n",
      "asttokens                 2.0.5              pyhd3eb1b0_0  \n",
      "astunparse                1.6.3              pyhd8ed1ab_0    conda-forge\n",
      "async-lru                 2.0.4              pyhd8ed1ab_0    conda-forge\n",
      "attrs                     23.1.0           py39h06a4308_0  \n",
      "awkward                   2.4.6              pyhd8ed1ab_0    conda-forge\n",
      "awkward-cpp               24               py39h7633fee_0    conda-forge\n",
      "aws-c-auth                0.7.4                h1083cbe_2    conda-forge\n",
      "aws-c-cal                 0.6.2                h09139f6_2    conda-forge\n",
      "aws-c-common              0.9.3                hd590300_0    conda-forge\n",
      "aws-c-compression         0.2.17               h184a658_3    conda-forge\n",
      "aws-c-event-stream        0.3.2                h6fea174_2    conda-forge\n",
      "aws-c-http                0.7.13               hb59894b_2    conda-forge\n",
      "aws-c-io                  0.13.33              h161b759_0    conda-forge\n",
      "aws-c-mqtt                0.9.7                h55cd26b_0    conda-forge\n",
      "aws-c-s3                  0.3.17               hfb4bb88_4    conda-forge\n",
      "aws-c-sdkutils            0.1.12               h184a658_2    conda-forge\n",
      "aws-checksums             0.1.17               h184a658_2    conda-forge\n",
      "aws-crt-cpp               0.24.2               ha28989d_2    conda-forge\n",
      "aws-sdk-cpp               1.11.156             h314d761_4    conda-forge\n",
      "babel                     2.11.0           py39h06a4308_0  \n",
      "backcall                  0.2.0              pyhd3eb1b0_0  \n",
      "beautifulsoup4            4.12.2           py39h06a4308_0  \n",
      "biopandas                 0.4.1              pyhd8ed1ab_1    conda-forge\n",
      "biopython                 1.77             py39h27cfd23_0  \n",
      "biotite                   0.38.0           py39h44dd56e_0    conda-forge\n",
      "black                     23.3.0           py39h06a4308_0  \n",
      "blas                      1.0                         mkl  \n",
      "bleach                    4.1.0              pyhd3eb1b0_0  \n",
      "blosc                     1.21.5               h0f2a231_0    conda-forge\n",
      "bokeh                     3.2.1            py39h2f386ee_0  \n",
      "bravado                   11.0.3             pyhd8ed1ab_0    conda-forge\n",
      "bravado-core              5.17.1             pyhd8ed1ab_0    conda-forge\n",
      "brotli                    1.0.9                he6710b0_2  \n",
      "brotli-python             1.0.9            py39h6a678d5_7  \n",
      "bzip2                     1.0.8                h7b6447c_0  \n",
      "c-ares                    1.20.1               hd590300_0    conda-forge\n",
      "c-blosc2                  2.10.5               hb4ffafa_0    conda-forge\n",
      "ca-certificates           2023.08.22           h06a4308_0  \n",
      "cached-property           1.5.2                hd8ed1ab_1    conda-forge\n",
      "cached_property           1.5.2              pyha770c72_1    conda-forge\n",
      "cachetools                5.3.1              pyhd8ed1ab_0    conda-forge\n",
      "cairo                     1.18.0               h3faef2a_0    conda-forge\n",
      "certifi                   2023.7.22        py39h06a4308_0  \n",
      "cffi                      1.15.1           py39h5eee18b_3  \n",
      "cftime                    1.6.2            py39h7deecbd_0  \n",
      "charset-normalizer        2.0.4              pyhd3eb1b0_0  \n",
      "click                     8.0.4            py39h06a4308_0  \n",
      "cloudpickle               2.2.1            py39h06a4308_0  \n",
      "codecov                   2.1.13             pyhd8ed1ab_0    conda-forge\n",
      "colorama                  0.4.6            py39h06a4308_0  \n",
      "comm                      0.1.2            py39h06a4308_0  \n",
      "contourpy                 1.0.5            py39hdb19cb5_0  \n",
      "coverage                  7.2.2            py39h5eee18b_0  \n",
      "cpuonly                   2.0                           0    pytorch\n",
      "cuda-version              11.8                 h70ddcb2_2    conda-forge\n",
      "cudatoolkit               11.8.0              h4ba93d1_12    conda-forge\n",
      "cycler                    0.11.0             pyhd3eb1b0_0  \n",
      "cytoolz                   0.12.0           py39h5eee18b_0  \n",
      "dask                      2023.10.0          pyhd8ed1ab_0    conda-forge\n",
      "dask-core                 2023.10.0          pyhd8ed1ab_0    conda-forge\n",
      "dask-jobqueue             0.8.2              pyhd8ed1ab_0    conda-forge\n",
      "debugpy                   1.6.7            py39h6a678d5_0  \n",
      "decorator                 5.1.1              pyhd3eb1b0_0  \n",
      "defusedxml                0.7.1              pyhd3eb1b0_0  \n",
      "distributed               2023.10.0          pyhd8ed1ab_0    conda-forge\n",
      "docker-pycreds            0.4.0                    pypi_0    pypi\n",
      "docutils                  0.20.1                   pypi_0    pypi\n",
      "edgembar                  0.2                      pypi_0    pypi\n",
      "entrypoints               0.4              py39h06a4308_0  \n",
      "exceptiongroup            1.0.4            py39h06a4308_0  \n",
      "execnet                   1.9.0              pyhd3eb1b0_0  \n",
      "executing                 0.8.3              pyhd3eb1b0_0  \n",
      "expat                     2.5.0                h6a678d5_0  \n",
      "fasteners                 0.16.3             pyhd3eb1b0_0  \n",
      "ffmpeg                    4.3                  hf484d3e_0    pytorch\n",
      "fftw                      3.3.10          nompi_hc118613_108    conda-forge\n",
      "filelock                  3.9.0            py39h06a4308_0  \n",
      "font-ttf-dejavu-sans-mono 2.37                 hd3eb1b0_0  \n",
      "font-ttf-inconsolata      2.001                hcb22688_0  \n",
      "font-ttf-source-code-pro  2.030                hd3eb1b0_0  \n",
      "font-ttf-ubuntu           0.83                 h8b1ccd4_0  \n",
      "fontconfig                2.14.2               h14ed4e7_0    conda-forge\n",
      "fonts-anaconda            1                    h8fa9717_0  \n",
      "fonts-conda-ecosystem     1                    hd3eb1b0_0  \n",
      "fonttools                 4.25.0             pyhd3eb1b0_0  \n",
      "fqdn                      1.5.1              pyhd8ed1ab_0    conda-forge\n",
      "freetype                  2.12.1               h4a9f257_0  \n",
      "fsspec                    2023.9.2         py39h06a4308_0  \n",
      "gettext                   0.21.1               h27087fc_0    conda-forge\n",
      "gflags                    2.2.2                he6710b0_0  \n",
      "giflib                    5.2.1                h5eee18b_3  \n",
      "gitdb                     4.0.11                   pypi_0    pypi\n",
      "gitpython                 3.1.40                   pypi_0    pypi\n",
      "glog                      0.6.0                h6f12383_0    conda-forge\n",
      "gmp                       6.2.1                h295c915_3  \n",
      "gmpy2                     2.1.2            py39heeb90bb_0  \n",
      "gnutls                    3.6.15               he1e5248_0  \n",
      "greenlet                  2.0.1            py39h6a678d5_0  \n",
      "griddataformats           1.0.1              pyhd8ed1ab_0    conda-forge\n",
      "gsd                       3.2.0            py39h44dd56e_0    conda-forge\n",
      "h5py                      3.10.0          nompi_py39h87cadad_100    conda-forge\n",
      "hdf4                      4.2.15               h9772cbc_5    conda-forge\n",
      "hdf5                      1.14.2          nompi_h4f84152_100    conda-forge\n",
      "heapdict                  1.0.1              pyhd3eb1b0_0  \n",
      "icu                       73.2                 h59595ed_0    conda-forge\n",
      "idna                      3.4              py39h06a4308_0  \n",
      "imagesize                 1.4.1                    pypi_0    pypi\n",
      "importlib-metadata        6.0.0            py39h06a4308_0  \n",
      "importlib-resources       6.1.0              pyhd8ed1ab_0    conda-forge\n",
      "importlib_metadata        6.0.0                hd3eb1b0_0  \n",
      "importlib_resources       6.1.0              pyhd8ed1ab_0    conda-forge\n",
      "iniconfig                 1.1.1              pyhd3eb1b0_0  \n",
      "intel-openmp              2023.1.0         hdb19cb5_46305  \n",
      "ipykernel                 6.25.0           py39h2f386ee_0  \n",
      "ipython                   8.15.0           py39h06a4308_0  \n",
      "ipython_genutils          0.2.0              pyhd3eb1b0_1  \n",
      "ipywidgets                8.0.4            py39h06a4308_0  \n",
      "isoduration               20.11.0            pyhd8ed1ab_0    conda-forge\n",
      "jedi                      0.18.1           py39h06a4308_1  \n",
      "jinja2                    3.1.2            py39h06a4308_0  \n",
      "joblib                    1.2.0            py39h06a4308_0  \n",
      "jpeg                      9e                   h5eee18b_1  \n",
      "json5                     0.9.6              pyhd3eb1b0_0  \n",
      "jsonpointer               2.4              py39hf3d152e_3    conda-forge\n",
      "jsonref                   0.2                        py_0    conda-forge\n",
      "jsonschema                4.19.1             pyhd8ed1ab_0    conda-forge\n",
      "jsonschema-specifications 2023.7.1           pyhd8ed1ab_0    conda-forge\n",
      "jsonschema-with-format-nongpl 4.19.1             pyhd8ed1ab_0    conda-forge\n",
      "jupyter-lsp               2.2.0              pyhd8ed1ab_0    conda-forge\n",
      "jupyter_client            7.4.9            py39h06a4308_0  \n",
      "jupyter_core              5.3.0            py39h06a4308_0  \n",
      "jupyter_events            0.7.0              pyhd8ed1ab_2    conda-forge\n",
      "jupyter_server            2.7.3              pyhd8ed1ab_1    conda-forge\n",
      "jupyter_server_terminals  0.4.4              pyhd8ed1ab_1    conda-forge\n",
      "jupyterlab                4.0.7              pyhd8ed1ab_0    conda-forge\n",
      "jupyterlab_pygments       0.1.2                      py_0  \n",
      "jupyterlab_server         2.25.0             pyhd8ed1ab_0    conda-forge\n",
      "jupyterlab_widgets        3.0.9              pyhd8ed1ab_0    conda-forge\n",
      "kinoml                    0+unknown                pypi_0    pypi\n",
      "kiwisolver                1.4.4            py39h6a678d5_0  \n",
      "krb5                      1.20.1               h143b758_1  \n",
      "lame                      3.100                h7b6447c_0  \n",
      "lcms2                     2.12                 h3be6417_0  \n",
      "ld_impl_linux-64          2.38                 h1181459_1  \n",
      "lerc                      3.0                  h295c915_0  \n",
      "libabseil                 20230802.1      cxx17_h59595ed_0    conda-forge\n",
      "libaec                    1.1.2                h59595ed_1    conda-forge\n",
      "libarrow                  13.0.0           h4121bdd_9_cpu    conda-forge\n",
      "libblas                   3.9.0           1_h86c2bf4_netlib    conda-forge\n",
      "libboost                  1.82.0               h109eef0_2  \n",
      "libboost-python           1.82.0           py39hda80f44_6    conda-forge\n",
      "libbrotlicommon           1.1.0                hd590300_1    conda-forge\n",
      "libbrotlidec              1.1.0                hd590300_1    conda-forge\n",
      "libbrotlienc              1.1.0                hd590300_1    conda-forge\n",
      "libcrc32c                 1.1.2                h6a678d5_0  \n",
      "libcurl                   8.4.0                h251f7ec_0  \n",
      "libdeflate                1.17                 h5eee18b_1  \n",
      "libedit                   3.1.20221030         h5eee18b_0  \n",
      "libev                     4.33                 h7f8727e_1  \n",
      "libevent                  2.1.12               hdbd6064_1  \n",
      "libffi                    3.4.4                h6a678d5_0  \n",
      "libgcc-ng                 13.2.0               h807b86a_2    conda-forge\n",
      "libgfortran-ng            13.2.0               h69a702a_2    conda-forge\n",
      "libgfortran5              13.2.0               ha4646dd_2    conda-forge\n",
      "libglib                   2.78.0               hebfc3b9_0    conda-forge\n",
      "libgomp                   13.2.0               h807b86a_2    conda-forge\n",
      "libgoogle-cloud           2.12.0               h19a6dae_3    conda-forge\n",
      "libgrpc                   1.58.1               he06187c_2    conda-forge\n",
      "libiconv                  1.17                 h166bdaf_0    conda-forge\n",
      "libidn2                   2.3.4                h5eee18b_0  \n",
      "libjpeg-turbo             2.0.0                h9bf148f_0    pytorch\n",
      "liblapack                 3.9.0           5_h92ddd45_netlib    conda-forge\n",
      "libnetcdf                 4.9.2           nompi_h80fb2b6_112    conda-forge\n",
      "libnghttp2                1.57.0               h2d74bed_0  \n",
      "libnsl                    2.0.0                h5eee18b_0  \n",
      "libnuma                   2.0.16               h0b41bf4_1    conda-forge\n",
      "libpng                    1.6.39               h5eee18b_0  \n",
      "libprotobuf               4.24.3               hf27288f_1    conda-forge\n",
      "libre2-11                 2023.06.02           h7a70373_0    conda-forge\n",
      "libsodium                 1.0.18               h7b6447c_0  \n",
      "libsqlite                 3.43.2               h2797004_0    conda-forge\n",
      "libssh2                   1.10.0               hdbd6064_2  \n",
      "libstdcxx-ng              13.2.0               h7e041cc_2    conda-forge\n",
      "libtasn1                  4.19.0               h5eee18b_0  \n",
      "libthrift                 0.19.0               hb90f79a_1    conda-forge\n",
      "libtiff                   4.5.1                h6a678d5_0  \n",
      "libunistring              0.9.10               h27cfd23_0  \n",
      "libutf8proc               2.8.0                h166bdaf_0    conda-forge\n",
      "libuuid                   2.38.1               h0b41bf4_0    conda-forge\n",
      "libwebp                   1.3.2                h11a3e52_0  \n",
      "libwebp-base              1.3.2                h5eee18b_0  \n",
      "libxcb                    1.15                 h7f8727e_0  \n",
      "libxgboost                1.7.6           cuda118h4159b1e_5    conda-forge\n",
      "libxml2                   2.11.5               h232c23b_1    conda-forge\n",
      "libxslt                   1.1.37               h0054252_1    conda-forge\n",
      "libzip                    1.10.1               h2629f0a_3    conda-forge\n",
      "libzlib                   1.2.13               hd590300_5    conda-forge\n",
      "lightning-utilities       0.9.0            py39h06a4308_0  \n",
      "llvm-openmp               14.0.6               h9e868ea_0  \n",
      "locket                    1.0.0            py39h06a4308_0  \n",
      "lxml                      4.9.3            py39hed45dcc_1    conda-forge\n",
      "lz4                       4.3.2            py39h5eee18b_0  \n",
      "lz4-c                     1.9.4                h6a678d5_0  \n",
      "lzo                       2.10              h516909a_1000    conda-forge\n",
      "markupsafe                2.1.1            py39h7f8727e_0  \n",
      "matplotlib-base           3.8.0            py39he9076e7_2    conda-forge\n",
      "matplotlib-inline         0.1.6            py39h06a4308_0  \n",
      "mda-xdrlib                0.2.0              pyhd8ed1ab_0    conda-forge\n",
      "mdanalysis                2.3.0            py39h4661b88_1    conda-forge\n",
      "mdtraj                    1.9.9            py39h031bd0f_0    conda-forge\n",
      "mistune                   0.8.4           py39h27cfd23_1000  \n",
      "mkl                       2023.1.0         h213fc3f_46343  \n",
      "mkl-service               2.4.0            py39h5eee18b_1  \n",
      "mkl_fft                   1.3.8            py39h5eee18b_0  \n",
      "mkl_random                1.2.4            py39hdb19cb5_0  \n",
      "mmpbsa-py                 16.0                     pypi_0    pypi\n",
      "mmtf-python               1.1.3              pyhd8ed1ab_0    conda-forge\n",
      "monotonic                 1.5                        py_0  \n",
      "mpc                       1.1.0                h10f8cd9_1  \n",
      "mpfr                      4.0.2                hb69a4c5_1  \n",
      "mpmath                    1.3.0            py39h06a4308_0  \n",
      "mrcfile                   1.4.3              pyhd8ed1ab_0    conda-forge\n",
      "msgpack-python            1.0.3            py39hd09550d_0  \n",
      "munkres                   1.1.4                      py_0  \n",
      "mypy_extensions           1.0.0            py39h06a4308_0  \n",
      "nbclassic                 0.5.5            py39h06a4308_0  \n",
      "nbclient                  0.5.13           py39h06a4308_0  \n",
      "nbconvert                 6.5.3              pyhd8ed1ab_0    conda-forge\n",
      "nbconvert-core            6.5.3              pyhd8ed1ab_0    conda-forge\n",
      "nbconvert-pandoc          6.5.3              pyhd8ed1ab_0    conda-forge\n",
      "nbformat                  5.9.2            py39h06a4308_0  \n",
      "nbval                     0.10.0             pyhd8ed1ab_0    conda-forge\n",
      "nccl                      2.19.3.1             h6103f9b_0    conda-forge\n",
      "ncurses                   6.4                  h6a678d5_0  \n",
      "nest-asyncio              1.5.6            py39h06a4308_0  \n",
      "netcdf-fortran            4.6.1           nompi_hacb5139_102    conda-forge\n",
      "netcdf4                   1.6.4           nompi_py39h4282601_103    conda-forge\n",
      "nettle                    3.7.3                hbbd107a_1  \n",
      "networkx                  3.1              py39h06a4308_0  \n",
      "nglview                   3.0.8              pyh1da8cd4_0    conda-forge\n",
      "notebook                  7.0.5              pyhd8ed1ab_0    conda-forge\n",
      "notebook-shim             0.2.2            py39h06a4308_0  \n",
      "numexpr                   2.7.3            py39hde0f152_1    conda-forge\n",
      "numpy                     1.26.0           py39h5f9d8c6_0  \n",
      "numpy-base                1.26.0           py39hb5e798b_0  \n",
      "ocl-icd                   2.3.1                h7f98852_0    conda-forge\n",
      "ocl-icd-system            1.0.0                         1    conda-forge\n",
      "opencadd                  0.2.2              pyhd8ed1ab_0    conda-forge\n",
      "openeye-toolkits          2023.1.1                 py39_0    openeye\n",
      "openff-amber-ff-ports     0.0.3              pyh6c4a22f_0    conda-forge\n",
      "openff-forcefields        2023.08.0          pyh1a96a4e_0    conda-forge\n",
      "openff-interchange        0.2.2              pyhd8ed1ab_0    conda-forge\n",
      "openff-interchange-base   0.2.2              pyhd8ed1ab_0    conda-forge\n",
      "openff-toolkit            0.11.2             pyhd8ed1ab_2    conda-forge\n",
      "openff-toolkit-base       0.11.2             pyhd8ed1ab_2    conda-forge\n",
      "openff-units              0.1.8              pyh1a96a4e_1    conda-forge\n",
      "openff-utilities          0.1.10             pyhd8ed1ab_0    conda-forge\n",
      "openh264                  2.1.1                h4ff587b_0  \n",
      "openjpeg                  2.4.0                h3ad879b_0  \n",
      "openmm                    8.0.0            py39he81762f_3    conda-forge\n",
      "openssl                   3.1.3                hd590300_0    conda-forge\n",
      "orc                       1.9.0                h208142c_3    conda-forge\n",
      "overrides                 7.4.0              pyhd8ed1ab_0    conda-forge\n",
      "packaging                 23.1             py39h06a4308_0  \n",
      "packmol                   20.010               h86c2bf4_0    conda-forge\n",
      "packmol-memgen            2023.2.24                pypi_0    pypi\n",
      "pandas                    2.1.1            py39hddac248_1    conda-forge\n",
      "pandoc                    2.19.2               h32600fe_2    conda-forge\n",
      "pandocfilters             1.5.0              pyhd3eb1b0_0  \n",
      "panedr                    0.7.2              pyhd8ed1ab_0    conda-forge\n",
      "papermill                 2.2.2              pyhd8ed1ab_0    conda-forge\n",
      "parmed                    4.1.0            py39h227be39_0    conda-forge\n",
      "parso                     0.8.3              pyhd3eb1b0_0  \n",
      "partd                     1.4.0            py39h06a4308_0  \n",
      "pathspec                  0.10.3           py39h06a4308_0  \n",
      "pathtools                 0.1.2                    pypi_0    pypi\n",
      "pbr                       5.11.1             pyhd8ed1ab_0    conda-forge\n",
      "pcre2                     10.40                hc3806b6_0    conda-forge\n",
      "pdb4amber                 22.0                     pypi_0    pypi\n",
      "perl                      5.32.1          4_hd590300_perl5    conda-forge\n",
      "pexpect                   4.8.0              pyhd3eb1b0_3  \n",
      "pickleshare               0.7.5           pyhd3eb1b0_1003  \n",
      "pillow                    10.0.1           py39ha6cbd5a_0  \n",
      "pint                      0.19.2             pyhd8ed1ab_0    conda-forge\n",
      "pip                       23.3               pyhd8ed1ab_0    conda-forge\n",
      "pixman                    0.42.2               h59595ed_0    conda-forge\n",
      "pkgutil-resolve-name      1.3.10             pyhd8ed1ab_1    conda-forge\n",
      "platformdirs              3.10.0           py39h06a4308_0  \n",
      "pluggy                    1.0.0            py39h06a4308_1  \n",
      "prometheus_client         0.14.1           py39h06a4308_0  \n",
      "prompt-toolkit            3.0.36           py39h06a4308_0  \n",
      "protobuf                  4.24.4                   pypi_0    pypi\n",
      "psutil                    5.9.0            py39h5eee18b_0  \n",
      "ptyprocess                0.7.0              pyhd3eb1b0_2  \n",
      "pure_eval                 0.2.2              pyhd3eb1b0_0  \n",
      "py-cpuinfo                9.0.0              pyhd8ed1ab_0    conda-forge\n",
      "py-xgboost                1.7.6           cuda118py39h6e70402_5    conda-forge\n",
      "pyarrow                   13.0.0          py39h6925388_9_cpu    conda-forge\n",
      "pycairo                   1.21.0           py39h287db57_0  \n",
      "pycparser                 2.21               pyhd3eb1b0_0  \n",
      "pydantic                  1.10.13          py39hd1e30aa_0    conda-forge\n",
      "pyedr                     0.7.2              pyhd8ed1ab_0    conda-forge\n",
      "pyg                       2.4.0           py39_torch_2.1.0_cpu    pyg\n",
      "pygments                  2.15.1           py39h06a4308_1  \n",
      "pymsmt                    22.0                     pypi_0    pypi\n",
      "pyparsing                 3.0.9            py39h06a4308_0  \n",
      "pyrsistent                0.18.0           py39heee7806_0  \n",
      "pysocks                   1.7.1            py39h06a4308_0  \n",
      "pytables                  3.9.1            py39hfbd31a7_0    conda-forge\n",
      "pytest                    7.4.2              pyhd8ed1ab_0    conda-forge\n",
      "pytest-cov                4.1.0              pyhd8ed1ab_0    conda-forge\n",
      "pytest-xdist              3.3.1              pyhd8ed1ab_0    conda-forge\n",
      "python                    3.9.18          h0755675_0_cpython    conda-forge\n",
      "python-constraint         1.4.0                      py_0    conda-forge\n",
      "python-dateutil           2.8.2              pyhd3eb1b0_0  \n",
      "python-fastjsonschema     2.16.2           py39h06a4308_0  \n",
      "python-json-logger        2.0.7              pyhd8ed1ab_0    conda-forge\n",
      "python-lmdb               1.4.1            py39h6a678d5_0  \n",
      "python-tzdata             2023.3             pyhd3eb1b0_0  \n",
      "python_abi                3.9                      4_cp39    conda-forge\n",
      "pytorch                   2.1.0               py3.9_cpu_0    pytorch\n",
      "pytorch-lightning         2.1.0              pyhd8ed1ab_0    conda-forge\n",
      "pytorch-mutex             1.0                         cpu    pytorch\n",
      "pytraj                    2.0.6                    pypi_0    pypi\n",
      "pytz                      2023.3.post1     py39h06a4308_0  \n",
      "pyyaml                    6.0              py39h5eee18b_1  \n",
      "pyzmq                     25.1.1           py39hb257651_1    conda-forge\n",
      "rdkit                     2023.09.1        py39hce5ca95_0    conda-forge\n",
      "rdma-core                 28.9                 h59595ed_1    conda-forge\n",
      "re2                       2023.06.02           h2873b5e_0    conda-forge\n",
      "readline                  8.2                  h5eee18b_0  \n",
      "referencing               0.30.2             pyhd8ed1ab_0    conda-forge\n",
      "reportlab                 3.5.67           py39hfdd840d_1  \n",
      "requests                  2.31.0             pyhd8ed1ab_0    conda-forge\n",
      "rfc3339-validator         0.1.4              pyhd8ed1ab_0    conda-forge\n",
      "rfc3986-validator         0.1.1              pyh9f0ad1d_0    conda-forge\n",
      "rpds-py                   0.10.6           py39h9fdd4d6_0    conda-forge\n",
      "ruamel.yaml               0.17.35          py39hd1e30aa_0    conda-forge\n",
      "ruamel.yaml.clib          0.2.6            py39h5eee18b_1  \n",
      "s2n                       1.3.54               h06160fa_0    conda-forge\n",
      "sander                    22.0                     pypi_0    pypi\n",
      "scikit-learn              1.3.0            py39h1128e8f_0  \n",
      "scipy                     1.11.3           py39h5f9d8c6_0  \n",
      "seaborn                   0.12.2           py39h06a4308_0  \n",
      "send2trash                1.8.2              pyh41d4057_0    conda-forge\n",
      "sentry-sdk                1.32.0                   pypi_0    pypi\n",
      "setproctitle              1.3.3                    pypi_0    pypi\n",
      "setuptools                68.0.0           py39h06a4308_0  \n",
      "simplejson                3.17.6           py39h7f8727e_0  \n",
      "six                       1.16.0             pyhd3eb1b0_1  \n",
      "sklearn-pytorch           0.1.0                    pypi_0    pypi\n",
      "smirnoff99frosst          1.1.0              pyh44b312d_0    conda-forge\n",
      "smmap                     5.0.1                    pypi_0    pypi\n",
      "snappy                    1.1.10               h9fff704_0    conda-forge\n",
      "sniffio                   1.2.0            py39h06a4308_1  \n",
      "snowballstemmer           2.2.0                    pypi_0    pypi\n",
      "sortedcontainers          2.4.0              pyhd3eb1b0_0  \n",
      "soupsieve                 2.5              py39h06a4308_0  \n",
      "sphinx                    7.2.6                    pypi_0    pypi\n",
      "sphinxcontrib-applehelp   1.0.7                    pypi_0    pypi\n",
      "sphinxcontrib-devhelp     1.0.5                    pypi_0    pypi\n",
      "sphinxcontrib-htmlhelp    2.0.4                    pypi_0    pypi\n",
      "sphinxcontrib-jsmath      1.0.1                    pypi_0    pypi\n",
      "sphinxcontrib-qthelp      1.0.6                    pypi_0    pypi\n",
      "sphinxcontrib-serializinghtml 1.1.9                    pypi_0    pypi\n",
      "sqlalchemy                2.0.21           py39h5eee18b_0  \n",
      "stack_data                0.2.0              pyhd3eb1b0_0  \n",
      "swagger-spec-validator    3.0.3              pyhd8ed1ab_0    conda-forge\n",
      "sympy                     1.11.1           py39h06a4308_0  \n",
      "tbb                       2021.8.0             hdb19cb5_0  \n",
      "tblib                     1.7.0              pyhd3eb1b0_0  \n",
      "tenacity                  8.2.2            py39h06a4308_0  \n",
      "terminado                 0.17.1           py39h06a4308_0  \n",
      "textwrap3                 0.9.2                      py_0    conda-forge\n",
      "threadpoolctl             2.2.0              pyh0d69192_0  \n",
      "tidynamics                1.1.2              pyhd8ed1ab_0    conda-forge\n",
      "tinycss2                  1.2.1            py39h06a4308_0  \n",
      "tk                        8.6.13               h2797004_0    conda-forge\n",
      "toml                      0.10.2             pyhd3eb1b0_0  \n",
      "tomli                     2.0.1            py39h06a4308_0  \n",
      "toolz                     0.12.0           py39h06a4308_0  \n",
      "torchaudio                2.1.0                  py39_cpu    pytorch\n",
      "torchmetrics              0.11.4           py39h2f386ee_1  \n",
      "torchvision               0.16.0                   pypi_0    pypi\n",
      "tornado                   6.3.3            py39h5eee18b_0  \n",
      "tqdm                      4.66.1             pyhd8ed1ab_0    conda-forge\n",
      "traitlets                 5.7.1            py39h06a4308_0  \n",
      "types-python-dateutil     2.8.19.14          pyhd8ed1ab_0    conda-forge\n",
      "typing                    3.10.0.0         py39h06a4308_0  \n",
      "typing-extensions         4.7.1            py39h06a4308_0  \n",
      "typing_extensions         4.7.1            py39h06a4308_0  \n",
      "typing_utils              0.1.0              pyhd8ed1ab_0    conda-forge\n",
      "tzdata                    2023c                h04d1e81_0  \n",
      "ucx                       1.15.0               h64cca9d_0    conda-forge\n",
      "uri-template              1.3.0              pyhd8ed1ab_0    conda-forge\n",
      "urllib3                   2.0.3            py39h06a4308_0  \n",
      "wandb                     0.15.12                  pypi_0    pypi\n",
      "watermark                 2.4.3              pyhd8ed1ab_0    conda-forge\n",
      "wcwidth                   0.2.5              pyhd3eb1b0_0  \n",
      "webcolors                 1.13               pyhd8ed1ab_0    conda-forge\n",
      "webencodings              0.5.1            py39h06a4308_1  \n",
      "websocket-client          0.58.0           py39h06a4308_4  \n",
      "wheel                     0.41.2           py39h06a4308_0  \n",
      "widgetsnbextension        4.0.5            py39h06a4308_0  \n",
      "xgboost                   1.7.6           cuda118py39h6e70402_5    conda-forge\n",
      "xmltodict                 0.13.0             pyhd8ed1ab_0    conda-forge\n",
      "xorg-kbproto              1.0.7             h7f98852_1002    conda-forge\n",
      "xorg-libice               1.1.1                hd590300_0    conda-forge\n",
      "xorg-libsm                1.2.4                h7391055_0    conda-forge\n",
      "xorg-libx11               1.8.7                h8ee46fc_0    conda-forge\n",
      "xorg-libxext              1.3.4                h0b41bf4_2    conda-forge\n",
      "xorg-libxrender           0.9.11               hd590300_0    conda-forge\n",
      "xorg-libxt                1.3.0                hd590300_1    conda-forge\n",
      "xorg-renderproto          0.11.1            h7f98852_1002    conda-forge\n",
      "xorg-xextproto            7.3.0             h0b41bf4_1003    conda-forge\n",
      "xorg-xproto               7.0.31            h27cfd23_1007  \n",
      "xyzservices               2022.9.0         py39h06a4308_1  \n",
      "xz                        5.4.2                h5eee18b_0  \n",
      "yaml                      0.2.5                h7b6447c_0  \n",
      "zeromq                    4.3.4                h2531618_0  \n",
      "zict                      3.0.0            py39h06a4308_0  \n",
      "zipp                      3.11.0           py39h06a4308_0  \n",
      "zlib                      1.2.13               hd590300_5    conda-forge\n",
      "zlib-ng                   2.0.7                h0b41bf4_0    conda-forge\n",
      "zstd                      1.5.5                hc292b87_0\n"
     ]
    }
   ],
   "source": [
    "from kinoml.utils import watermark\n",
    "w = watermark()"
   ]
  },
  {
   "cell_type": "code",
   "execution_count": 22,
   "metadata": {
    "papermill": {
     "duration": 3.352814,
     "end_time": "2023-11-01T15:28:07.210171",
     "exception": false,
     "start_time": "2023-11-01T15:28:03.857357",
     "status": "completed"
    },
    "tags": []
   },
   "outputs": [],
   "source": [
    "%%capture cap --no-stderr\n",
    "w = watermark()"
   ]
  },
  {
   "cell_type": "code",
   "execution_count": 23,
   "metadata": {
    "papermill": {
     "duration": 0.023487,
     "end_time": "2023-11-01T15:28:07.250977",
     "exception": false,
     "start_time": "2023-11-01T15:28:07.227490",
     "status": "completed"
    },
    "tags": []
   },
   "outputs": [],
   "source": [
    "import json\n",
    "\n",
    "with open(OUT/ \"watermark.txt\", \"w\") as f:\n",
    "    f.write(cap.stdout)\n",
    "\n",
    "with open(OUT / \"hparams.json\", \"w\") as f:\n",
    "    json.dump(_hparams, f, default=str, indent=2)"
   ]
  },
  {
   "cell_type": "markdown",
   "metadata": {},
   "source": [
    "## 2. 💻Run the experiment\n",
    "\n"
   ]
  },
  {
   "cell_type": "markdown",
   "metadata": {},
   "source": [
    "### Train a model with PyTorch\n",
    "\n",
    "Now, we will train a single model using only PyTorch.\n",
    "\n",
    "1. Tensors are loaded from Parquet files generated in the `features/` pipeline. Each Parquet becomes a Torch Dataset sublass.\n",
    "2. Random splits are applied for train/test/(val).\n",
    "3. It will train a single for model for a number of epochs across all datasets: epoch> dataloader> minibatch.\n",
    "4. The loss is computed through the `loss_adapter` method in each measurement_type.\n",
    "5. If validation is enabled, early stopping and LR schedulers are applied."
   ]
  },
  {
   "cell_type": "markdown",
   "metadata": {},
   "source": [
    "### ✏ Define hyper parameters"
   ]
  },
  {
   "cell_type": "code",
   "execution_count": 24,
   "metadata": {},
   "outputs": [],
   "source": [
    "# Parameters\n",
    "PARQUET_LOADER_CLS = \"kinoml.datasets.torch_datasets.AwkwardArrayDataset\"\n",
    "PARQUET_FILES = [\n",
    "    \"ligand-only-morgan1024-EGFR/_output/ligand__MorganFingerprintFeaturizer_nbits=1024_radius=2/ChEMBLDatasetProvider/*.parquet\"]\n",
    "\n",
    "# Model -- specified with the full import path to the class object\n",
    "## Machine learning model that will be trained. Pass it as importable string.\n",
    "MODEL_CLS = \"kinoml.ml.torch_models.NeuralNetworkRegression\"\n",
    "## Keyword arguments for the model initialization\n",
    "MODEL_KWARGS = {\"hidden_shape\": 350}  # input_shape is defined dynamically during training\n",
    "\n",
    "# OPTIMIZER\n",
    "## Optimizer class. Pass it as an importable string.\n",
    "OPTIMIZER = \"torch.optim.Adam\"\n",
    "## Keyword arguments for the optimizer\n",
    "OPTIMIZER_KWARGS = {\"lr\": 0.001, \"eps\": 1e-7, \"betas\": [0.9, 0.999]}\n",
    "\n",
    "# LOSS FUNCTION\n",
    "## Loss function class. Pass it as an importable string.\n",
    "LOSS = \"torch.nn.MSELoss\"\n",
    "## Keyword arguments for the loss function, if applicable\n",
    "LOSS_KWARGS = {}\n",
    "\n",
    "# TRAINING\n",
    "## Maximum number of epochs the training will run. In practice it might be less due to early stopping\n",
    "MAX_EPOCHS = 50\n",
    "## Enable real-time validation: this will split the test set into two halves: test and validation.\n",
    "## It will also enable LR scheduling and early stopping, based on the validation loss.\n",
    "VALIDATION = True\n",
    "## Options for the builtin early stopper (kinoml.ml.torch_loops.EarlyStopping)\n",
    "EARLY_STOPPING_KWARGS = {}\n",
    "\n",
    "# DATALOADER\n",
    "DATALOADER_CLS = \"torch.utils.data.DataLoader\"  # you can also use torch_geometric.data.DataLoader\n",
    "## Minibatch size\n",
    "BATCH_SIZE = 64\n",
    "## Proportion of the dataset that will be split into a test set. If VALIDATION=True, \n",
    "## this will also cover the validation set. So, 0.2 will mean: 0.8 training, 0.1 test, 0.1 valid.\n",
    "TRAIN_TEST_SPLIT = 0.2\n",
    "## Whether to shuffle the indices before splitting\n",
    "SHUFFLE_SPLITS = True\n",
    "## Read https://pytorch.org/docs/stable/data.html#dataloader-collate-fn\n",
    "## IMPORTANT: This will be needed if your X tensors have different shapes across systems!\n",
    "COLLATE_FN = None\n",
    "\n",
    "# Plot bootstrapping\n",
    "## Bootstrapping iterations for the performance plots\n",
    "N_BOOTSTRAPS = 1\n",
    "## Proportion of the data that is sampled in each iteration\n",
    "BOOTSTRAP_SAMPLE_RATIO = 1\n",
    "\n",
    "# Output\n",
    "## Enable some extra output, like plots and logging statements.\n",
    "VERBOSE = False\n",
    "\n",
    "\n",
    "HERE = _dh[-1] #current path"
   ]
  },
  {
   "cell_type": "markdown",
   "metadata": {},
   "source": [
    "⚠ From here on, you should _not_ need to modify anything else to apply it to your own dataset 🤞\n",
    "\n",
    "---\n",
    "\n",
    "Define key paths for data and outputs:"
   ]
  },
  {
   "cell_type": "code",
   "execution_count": 25,
   "metadata": {},
   "outputs": [
    {
     "name": "stdout",
     "output_type": "stream",
     "text": [
      "This notebook:           HERE = /home/raquellrdc/Desktop/postdoc/kinoml_tech_paper_final/kinoml/examples/experiments/ligand-only-morgan1024-EGFR\n",
      "This repo:               REPO = /home/raquellrdc/Desktop/postdoc/kinoml_tech_paper_final/kinoml\n",
      "Features:      FEATURES_STORE = /home/raquellrdc/Desktop/postdoc/kinoml_tech_paper_final/kinoml/examples/experiments\n",
      "Outputs in:               OUT = /home/raquellrdc/Desktop/postdoc/kinoml_tech_paper_final/kinoml/examples/experiments/ligand-only-morgan1024-EGFR/_output/20231106-105158\n"
     ]
    }
   ],
   "source": [
    "from pathlib import Path\n",
    "from datetime import datetime\n",
    "\n",
    "HERE = Path(HERE)\n",
    "\n",
    "for parent in HERE.parents:\n",
    "    if next(parent.glob(\".github/\"), None):\n",
    "        REPO = parent\n",
    "        break\n",
    "\n",
    "FEATURES_STORE = REPO /\"examples\"/\"experiments\"\n",
    "        \n",
    "OUT = HERE / \"_output\" / datetime.now().strftime(\"%Y%m%d-%H%M%S\")\n",
    "OUT.mkdir(parents=True, exist_ok=True)\n",
    "\n",
    "print(f\"This notebook:           HERE = {HERE}\")\n",
    "print(f\"This repo:               REPO = {REPO}\")\n",
    "print(f\"Features:      FEATURES_STORE = {FEATURES_STORE}\")\n",
    "print(f\"Outputs in:               OUT = {OUT}\")"
   ]
  },
  {
   "cell_type": "code",
   "execution_count": 26,
   "metadata": {},
   "outputs": [],
   "source": [
    "# Nasty trick: save all-caps local variables (CONSTANTS working as hyperparameters) so far in a dict to save it later\n",
    "_hparams = {key: value for key, value in locals().items() if key.upper() == key and not key.startswith((\"_\", \"OE_\"))}"
   ]
  },
  {
   "cell_type": "code",
   "execution_count": 27,
   "metadata": {},
   "outputs": [
    {
     "name": "stdout",
     "output_type": "stream",
     "text": [
      "Run started at 2023-11-06 10:51:59.212444\n"
     ]
    }
   ],
   "source": [
    "from collections import defaultdict\n",
    "from warnings import warn\n",
    "import sys\n",
    "import shutil\n",
    "\n",
    "from IPython.display import Markdown\n",
    "import numpy as np\n",
    "import pandas as pd\n",
    "import torch\n",
    "from torch.utils.data import DataLoader, SubsetRandomSampler\n",
    "from tqdm.auto import trange, tqdm\n",
    "\n",
    "from kinoml.ml.torch_loops import LRScheduler, EarlyStopping\n",
    "from kinoml.utils import seed_everything, import_object\n",
    "from kinoml.core import measurements as measurement_types\n",
    "from kinoml.core.measurements import null_observation_model\n",
    "from kinoml.analysis.metrics import performance\n",
    "from kinoml.analysis.plots import predicted_vs_observed\n",
    "\n",
    "# Fix the seed for reproducible random splits -- otherwise we get mixed train/test groups every time, biasing the model evaluation\n",
    "seed_everything();\n",
    "print(\"Run started at\", datetime.now())"
   ]
  },
  {
   "cell_type": "markdown",
   "metadata": {},
   "source": [
    "### Load featurized data and create observation models\n",
    "\n",
    "We assume this path structure: `$REPO/features/_output/<FEATURIZATION>/<DATASET>/<MEASUREMENT_TYPE>.npz`\n"
   ]
  },
  {
   "cell_type": "code",
   "execution_count": 28,
   "metadata": {},
   "outputs": [
    {
     "name": "stdout",
     "output_type": "stream",
     "text": [
      "ligand-only-morgan1024-EGFR/_output/ligand__MorganFingerprintFeaturizer_nbits=1024_radius=2/ChEMBLDatasetProvider/*.parquet\n"
     ]
    }
   ],
   "source": [
    "DATASETS = []\n",
    "MEASUREMENT_TYPES = set()\n",
    "ParquetLoaderCls = import_object(PARQUET_LOADER_CLS)\n",
    "for glob in PARQUET_FILES:\n",
    "    print(glob)\n",
    "    parquets = list(FEATURES_STORE.glob(glob))\n",
    "    if not parquets:\n",
    "        warn(f\"⚠ Parquet glob `{glob}` did not match any files!\")\n",
    "        continue\n",
    "        \n",
    "    for parquet in parquets:\n",
    "        measurement_type = parquet.stem\n",
    "        dataset = parquet.parent.name\n",
    "        \n",
    "        ds = ParquetLoaderCls.from_parquet(parquet)\n",
    "        ds.metadata = {\n",
    "            \"dataset\": dataset,\n",
    "            \"measurement_type\": measurement_type,\n",
    "        }\n",
    "        DATASETS.append(ds)\n",
    "        MEASUREMENT_TYPES.add(measurement_type)\n",
    "\n",
    "if not DATASETS:\n",
    "    raise ValueError(\"Provided `PARQUET_FILES` did not result in any valid datasets!\")"
   ]
  },
  {
   "cell_type": "markdown",
   "metadata": {},
   "source": [
    "Now that we have all the data-dependent objects, we can start with the model-specific definitions."
   ]
  },
  {
   "cell_type": "code",
   "execution_count": 29,
   "metadata": {},
   "outputs": [
    {
     "name": "stdout",
     "output_type": "stream",
     "text": [
      "Loaded 3 datasets with a total of 3000 measurements.\n"
     ]
    }
   ],
   "source": [
    "print(f\"Loaded {len(DATASETS)} datasets with a total of {sum(len(d) for d in DATASETS)} measurements.\")"
   ]
  },
  {
   "cell_type": "markdown",
   "metadata": {},
   "source": [
    "### Prepare splits and dataloaders\n",
    "\n",
    "Create train / test / validation subsets. Here we implement a random split, but it can take external indices if needed."
   ]
  },
  {
   "cell_type": "code",
   "execution_count": 30,
   "metadata": {},
   "outputs": [],
   "source": [
    "dataloaders = {}\n",
    "for dataset in DATASETS:\n",
    "    key = dataset.metadata[\"measurement_type\"]\n",
    "    \n",
    "    # Generate random indices in situ\n",
    "    # If you need to provide indices from another source, \n",
    "    # replace this block to provide train_indices, test_indices\n",
    "    dataset_size = len(dataset)\n",
    "    indices = list(range(dataset_size))\n",
    "    split = int(np.floor(TRAIN_TEST_SPLIT * dataset_size))\n",
    "    \n",
    "    if SHUFFLE_SPLITS :\n",
    "        np.random.shuffle(indices)\n",
    "    train_indices, test_indices = indices[split:], indices[split:]\n",
    "    if VALIDATION:\n",
    "        split2 = int(np.floor(len(test_indices) / 2))\n",
    "        test_indices, val_indices = test_indices[:split2], test_indices[split2:]\n",
    "    # End of indices creation\n",
    "    \n",
    "    collate_fn = None\n",
    "    if COLLATE_FN:\n",
    "        # IMPORTANT: This will be needed if your X tensors have different shapes across systems!\n",
    "        # COLLATE_FN can be an import string, or a eval-able lambda\n",
    "        # Read https://pytorch.org/docs/stable/data.html#dataloader-collate-fn\n",
    "        try:\n",
    "            collate_fn = import_object(COLLATE_FN)\n",
    "        except ImportError:\n",
    "            collate_fn = eval(COLLATE_FN)\n",
    "    \n",
    "    # Creating PT data samplers and loaders:\n",
    "    train_sampler = SubsetRandomSampler(train_indices)\n",
    "    test_sampler = SubsetRandomSampler(test_indices)\n",
    "\n",
    "    dataloaders[key] = {\n",
    "        \"train\": import_object(DATALOADER_CLS)(dataset, batch_size=BATCH_SIZE, sampler=train_sampler, collate_fn=collate_fn),\n",
    "        \"test\": import_object(DATALOADER_CLS)(dataset, batch_size=BATCH_SIZE, sampler=test_sampler, collate_fn=collate_fn),\n",
    "    }\n",
    "    \n",
    "    if VALIDATION:\n",
    "        val_sampler = SubsetRandomSampler(val_indices)\n",
    "        dataloaders[key][\"val\"] = import_object(DATALOADER_CLS)(dataset, batch_size=BATCH_SIZE, sampler=val_sampler, collate_fn=collate_fn)"
   ]
  },
  {
   "cell_type": "markdown",
   "metadata": {},
   "source": [
    "### Training loop"
   ]
  },
  {
   "cell_type": "code",
   "execution_count": 31,
   "metadata": {},
   "outputs": [
    {
     "data": {
      "application/vnd.jupyter.widget-view+json": {
       "model_id": "45d3b3578af9425a934b8a25e5b39d9f",
       "version_major": 2,
       "version_minor": 0
      },
      "text/plain": [
       "Epochs:   0%|          | 0/50 [00:00<?, ?it/s]"
      ]
     },
     "metadata": {},
     "output_type": "display_data"
    },
    {
     "data": {
      "application/vnd.jupyter.widget-view+json": {
       "model_id": "",
       "version_major": 2,
       "version_minor": 0
      },
      "text/plain": [
       "Datasets:   0%|          | 0/3 [00:00<?, ?it/s]"
      ]
     },
     "metadata": {},
     "output_type": "display_data"
    },
    {
     "data": {
      "application/vnd.jupyter.widget-view+json": {
       "model_id": "",
       "version_major": 2,
       "version_minor": 0
      },
      "text/plain": [
       "Minibatches:   0%|          | 0/1 [00:00<?, ?it/s]"
      ]
     },
     "metadata": {},
     "output_type": "display_data"
    },
    {
     "data": {
      "application/vnd.jupyter.widget-view+json": {
       "model_id": "",
       "version_major": 2,
       "version_minor": 0
      },
      "text/plain": [
       "Minibatches:   0%|          | 0/1 [00:00<?, ?it/s]"
      ]
     },
     "metadata": {},
     "output_type": "display_data"
    },
    {
     "data": {
      "application/vnd.jupyter.widget-view+json": {
       "model_id": "",
       "version_major": 2,
       "version_minor": 0
      },
      "text/plain": [
       "Minibatches:   0%|          | 0/36 [00:00<?, ?it/s]"
      ]
     },
     "metadata": {},
     "output_type": "display_data"
    },
    {
     "data": {
      "application/vnd.jupyter.widget-view+json": {
       "model_id": "",
       "version_major": 2,
       "version_minor": 0
      },
      "text/plain": [
       "Minibatches:   0%|          | 0/18 [00:00<?, ?it/s]"
      ]
     },
     "metadata": {},
     "output_type": "display_data"
    },
    {
     "data": {
      "application/vnd.jupyter.widget-view+json": {
       "model_id": "",
       "version_major": 2,
       "version_minor": 0
      },
      "text/plain": [
       "Minibatches:   0%|          | 0/2 [00:00<?, ?it/s]"
      ]
     },
     "metadata": {},
     "output_type": "display_data"
    },
    {
     "data": {
      "application/vnd.jupyter.widget-view+json": {
       "model_id": "",
       "version_major": 2,
       "version_minor": 0
      },
      "text/plain": [
       "Minibatches:   0%|          | 0/1 [00:00<?, ?it/s]"
      ]
     },
     "metadata": {},
     "output_type": "display_data"
    },
    {
     "data": {
      "application/vnd.jupyter.widget-view+json": {
       "model_id": "",
       "version_major": 2,
       "version_minor": 0
      },
      "text/plain": [
       "Datasets:   0%|          | 0/3 [00:00<?, ?it/s]"
      ]
     },
     "metadata": {},
     "output_type": "display_data"
    },
    {
     "data": {
      "application/vnd.jupyter.widget-view+json": {
       "model_id": "",
       "version_major": 2,
       "version_minor": 0
      },
      "text/plain": [
       "Minibatches:   0%|          | 0/1 [00:00<?, ?it/s]"
      ]
     },
     "metadata": {},
     "output_type": "display_data"
    },
    {
     "data": {
      "application/vnd.jupyter.widget-view+json": {
       "model_id": "",
       "version_major": 2,
       "version_minor": 0
      },
      "text/plain": [
       "Minibatches:   0%|          | 0/1 [00:00<?, ?it/s]"
      ]
     },
     "metadata": {},
     "output_type": "display_data"
    },
    {
     "data": {
      "application/vnd.jupyter.widget-view+json": {
       "model_id": "",
       "version_major": 2,
       "version_minor": 0
      },
      "text/plain": [
       "Minibatches:   0%|          | 0/36 [00:00<?, ?it/s]"
      ]
     },
     "metadata": {},
     "output_type": "display_data"
    },
    {
     "data": {
      "application/vnd.jupyter.widget-view+json": {
       "model_id": "",
       "version_major": 2,
       "version_minor": 0
      },
      "text/plain": [
       "Minibatches:   0%|          | 0/18 [00:00<?, ?it/s]"
      ]
     },
     "metadata": {},
     "output_type": "display_data"
    },
    {
     "data": {
      "application/vnd.jupyter.widget-view+json": {
       "model_id": "",
       "version_major": 2,
       "version_minor": 0
      },
      "text/plain": [
       "Minibatches:   0%|          | 0/2 [00:00<?, ?it/s]"
      ]
     },
     "metadata": {},
     "output_type": "display_data"
    },
    {
     "data": {
      "application/vnd.jupyter.widget-view+json": {
       "model_id": "",
       "version_major": 2,
       "version_minor": 0
      },
      "text/plain": [
       "Minibatches:   0%|          | 0/1 [00:00<?, ?it/s]"
      ]
     },
     "metadata": {},
     "output_type": "display_data"
    },
    {
     "data": {
      "application/vnd.jupyter.widget-view+json": {
       "model_id": "",
       "version_major": 2,
       "version_minor": 0
      },
      "text/plain": [
       "Datasets:   0%|          | 0/3 [00:00<?, ?it/s]"
      ]
     },
     "metadata": {},
     "output_type": "display_data"
    },
    {
     "data": {
      "application/vnd.jupyter.widget-view+json": {
       "model_id": "",
       "version_major": 2,
       "version_minor": 0
      },
      "text/plain": [
       "Minibatches:   0%|          | 0/1 [00:00<?, ?it/s]"
      ]
     },
     "metadata": {},
     "output_type": "display_data"
    },
    {
     "data": {
      "application/vnd.jupyter.widget-view+json": {
       "model_id": "",
       "version_major": 2,
       "version_minor": 0
      },
      "text/plain": [
       "Minibatches:   0%|          | 0/1 [00:00<?, ?it/s]"
      ]
     },
     "metadata": {},
     "output_type": "display_data"
    },
    {
     "data": {
      "application/vnd.jupyter.widget-view+json": {
       "model_id": "",
       "version_major": 2,
       "version_minor": 0
      },
      "text/plain": [
       "Minibatches:   0%|          | 0/36 [00:00<?, ?it/s]"
      ]
     },
     "metadata": {},
     "output_type": "display_data"
    },
    {
     "data": {
      "application/vnd.jupyter.widget-view+json": {
       "model_id": "",
       "version_major": 2,
       "version_minor": 0
      },
      "text/plain": [
       "Minibatches:   0%|          | 0/18 [00:00<?, ?it/s]"
      ]
     },
     "metadata": {},
     "output_type": "display_data"
    },
    {
     "data": {
      "application/vnd.jupyter.widget-view+json": {
       "model_id": "",
       "version_major": 2,
       "version_minor": 0
      },
      "text/plain": [
       "Minibatches:   0%|          | 0/2 [00:00<?, ?it/s]"
      ]
     },
     "metadata": {},
     "output_type": "display_data"
    },
    {
     "data": {
      "application/vnd.jupyter.widget-view+json": {
       "model_id": "",
       "version_major": 2,
       "version_minor": 0
      },
      "text/plain": [
       "Minibatches:   0%|          | 0/1 [00:00<?, ?it/s]"
      ]
     },
     "metadata": {},
     "output_type": "display_data"
    },
    {
     "data": {
      "application/vnd.jupyter.widget-view+json": {
       "model_id": "",
       "version_major": 2,
       "version_minor": 0
      },
      "text/plain": [
       "Datasets:   0%|          | 0/3 [00:00<?, ?it/s]"
      ]
     },
     "metadata": {},
     "output_type": "display_data"
    },
    {
     "data": {
      "application/vnd.jupyter.widget-view+json": {
       "model_id": "",
       "version_major": 2,
       "version_minor": 0
      },
      "text/plain": [
       "Minibatches:   0%|          | 0/1 [00:00<?, ?it/s]"
      ]
     },
     "metadata": {},
     "output_type": "display_data"
    },
    {
     "data": {
      "application/vnd.jupyter.widget-view+json": {
       "model_id": "",
       "version_major": 2,
       "version_minor": 0
      },
      "text/plain": [
       "Minibatches:   0%|          | 0/1 [00:00<?, ?it/s]"
      ]
     },
     "metadata": {},
     "output_type": "display_data"
    },
    {
     "data": {
      "application/vnd.jupyter.widget-view+json": {
       "model_id": "",
       "version_major": 2,
       "version_minor": 0
      },
      "text/plain": [
       "Minibatches:   0%|          | 0/36 [00:00<?, ?it/s]"
      ]
     },
     "metadata": {},
     "output_type": "display_data"
    },
    {
     "data": {
      "application/vnd.jupyter.widget-view+json": {
       "model_id": "",
       "version_major": 2,
       "version_minor": 0
      },
      "text/plain": [
       "Minibatches:   0%|          | 0/18 [00:00<?, ?it/s]"
      ]
     },
     "metadata": {},
     "output_type": "display_data"
    },
    {
     "data": {
      "application/vnd.jupyter.widget-view+json": {
       "model_id": "",
       "version_major": 2,
       "version_minor": 0
      },
      "text/plain": [
       "Minibatches:   0%|          | 0/2 [00:00<?, ?it/s]"
      ]
     },
     "metadata": {},
     "output_type": "display_data"
    },
    {
     "data": {
      "application/vnd.jupyter.widget-view+json": {
       "model_id": "",
       "version_major": 2,
       "version_minor": 0
      },
      "text/plain": [
       "Minibatches:   0%|          | 0/1 [00:00<?, ?it/s]"
      ]
     },
     "metadata": {},
     "output_type": "display_data"
    },
    {
     "data": {
      "application/vnd.jupyter.widget-view+json": {
       "model_id": "",
       "version_major": 2,
       "version_minor": 0
      },
      "text/plain": [
       "Datasets:   0%|          | 0/3 [00:00<?, ?it/s]"
      ]
     },
     "metadata": {},
     "output_type": "display_data"
    },
    {
     "data": {
      "application/vnd.jupyter.widget-view+json": {
       "model_id": "",
       "version_major": 2,
       "version_minor": 0
      },
      "text/plain": [
       "Minibatches:   0%|          | 0/1 [00:00<?, ?it/s]"
      ]
     },
     "metadata": {},
     "output_type": "display_data"
    },
    {
     "data": {
      "application/vnd.jupyter.widget-view+json": {
       "model_id": "",
       "version_major": 2,
       "version_minor": 0
      },
      "text/plain": [
       "Minibatches:   0%|          | 0/1 [00:00<?, ?it/s]"
      ]
     },
     "metadata": {},
     "output_type": "display_data"
    },
    {
     "data": {
      "application/vnd.jupyter.widget-view+json": {
       "model_id": "",
       "version_major": 2,
       "version_minor": 0
      },
      "text/plain": [
       "Minibatches:   0%|          | 0/36 [00:00<?, ?it/s]"
      ]
     },
     "metadata": {},
     "output_type": "display_data"
    },
    {
     "data": {
      "application/vnd.jupyter.widget-view+json": {
       "model_id": "",
       "version_major": 2,
       "version_minor": 0
      },
      "text/plain": [
       "Minibatches:   0%|          | 0/18 [00:00<?, ?it/s]"
      ]
     },
     "metadata": {},
     "output_type": "display_data"
    },
    {
     "data": {
      "application/vnd.jupyter.widget-view+json": {
       "model_id": "",
       "version_major": 2,
       "version_minor": 0
      },
      "text/plain": [
       "Minibatches:   0%|          | 0/2 [00:00<?, ?it/s]"
      ]
     },
     "metadata": {},
     "output_type": "display_data"
    },
    {
     "data": {
      "application/vnd.jupyter.widget-view+json": {
       "model_id": "",
       "version_major": 2,
       "version_minor": 0
      },
      "text/plain": [
       "Minibatches:   0%|          | 0/1 [00:00<?, ?it/s]"
      ]
     },
     "metadata": {},
     "output_type": "display_data"
    },
    {
     "data": {
      "application/vnd.jupyter.widget-view+json": {
       "model_id": "",
       "version_major": 2,
       "version_minor": 0
      },
      "text/plain": [
       "Datasets:   0%|          | 0/3 [00:00<?, ?it/s]"
      ]
     },
     "metadata": {},
     "output_type": "display_data"
    },
    {
     "data": {
      "application/vnd.jupyter.widget-view+json": {
       "model_id": "",
       "version_major": 2,
       "version_minor": 0
      },
      "text/plain": [
       "Minibatches:   0%|          | 0/1 [00:00<?, ?it/s]"
      ]
     },
     "metadata": {},
     "output_type": "display_data"
    },
    {
     "data": {
      "application/vnd.jupyter.widget-view+json": {
       "model_id": "",
       "version_major": 2,
       "version_minor": 0
      },
      "text/plain": [
       "Minibatches:   0%|          | 0/1 [00:00<?, ?it/s]"
      ]
     },
     "metadata": {},
     "output_type": "display_data"
    },
    {
     "data": {
      "application/vnd.jupyter.widget-view+json": {
       "model_id": "",
       "version_major": 2,
       "version_minor": 0
      },
      "text/plain": [
       "Minibatches:   0%|          | 0/36 [00:00<?, ?it/s]"
      ]
     },
     "metadata": {},
     "output_type": "display_data"
    },
    {
     "data": {
      "application/vnd.jupyter.widget-view+json": {
       "model_id": "",
       "version_major": 2,
       "version_minor": 0
      },
      "text/plain": [
       "Minibatches:   0%|          | 0/18 [00:00<?, ?it/s]"
      ]
     },
     "metadata": {},
     "output_type": "display_data"
    },
    {
     "data": {
      "application/vnd.jupyter.widget-view+json": {
       "model_id": "",
       "version_major": 2,
       "version_minor": 0
      },
      "text/plain": [
       "Minibatches:   0%|          | 0/2 [00:00<?, ?it/s]"
      ]
     },
     "metadata": {},
     "output_type": "display_data"
    },
    {
     "data": {
      "application/vnd.jupyter.widget-view+json": {
       "model_id": "",
       "version_major": 2,
       "version_minor": 0
      },
      "text/plain": [
       "Minibatches:   0%|          | 0/1 [00:00<?, ?it/s]"
      ]
     },
     "metadata": {},
     "output_type": "display_data"
    },
    {
     "data": {
      "application/vnd.jupyter.widget-view+json": {
       "model_id": "",
       "version_major": 2,
       "version_minor": 0
      },
      "text/plain": [
       "Datasets:   0%|          | 0/3 [00:00<?, ?it/s]"
      ]
     },
     "metadata": {},
     "output_type": "display_data"
    },
    {
     "data": {
      "application/vnd.jupyter.widget-view+json": {
       "model_id": "",
       "version_major": 2,
       "version_minor": 0
      },
      "text/plain": [
       "Minibatches:   0%|          | 0/1 [00:00<?, ?it/s]"
      ]
     },
     "metadata": {},
     "output_type": "display_data"
    },
    {
     "data": {
      "application/vnd.jupyter.widget-view+json": {
       "model_id": "",
       "version_major": 2,
       "version_minor": 0
      },
      "text/plain": [
       "Minibatches:   0%|          | 0/1 [00:00<?, ?it/s]"
      ]
     },
     "metadata": {},
     "output_type": "display_data"
    },
    {
     "data": {
      "application/vnd.jupyter.widget-view+json": {
       "model_id": "",
       "version_major": 2,
       "version_minor": 0
      },
      "text/plain": [
       "Minibatches:   0%|          | 0/36 [00:00<?, ?it/s]"
      ]
     },
     "metadata": {},
     "output_type": "display_data"
    },
    {
     "data": {
      "application/vnd.jupyter.widget-view+json": {
       "model_id": "",
       "version_major": 2,
       "version_minor": 0
      },
      "text/plain": [
       "Minibatches:   0%|          | 0/18 [00:00<?, ?it/s]"
      ]
     },
     "metadata": {},
     "output_type": "display_data"
    },
    {
     "data": {
      "application/vnd.jupyter.widget-view+json": {
       "model_id": "",
       "version_major": 2,
       "version_minor": 0
      },
      "text/plain": [
       "Minibatches:   0%|          | 0/2 [00:00<?, ?it/s]"
      ]
     },
     "metadata": {},
     "output_type": "display_data"
    },
    {
     "data": {
      "application/vnd.jupyter.widget-view+json": {
       "model_id": "",
       "version_major": 2,
       "version_minor": 0
      },
      "text/plain": [
       "Minibatches:   0%|          | 0/1 [00:00<?, ?it/s]"
      ]
     },
     "metadata": {},
     "output_type": "display_data"
    },
    {
     "data": {
      "application/vnd.jupyter.widget-view+json": {
       "model_id": "93ba6e4fb6de4dc29cd3899115706477",
       "version_major": 2,
       "version_minor": 0
      },
      "text/plain": [
       "Datasets:   0%|          | 0/3 [00:00<?, ?it/s]"
      ]
     },
     "metadata": {},
     "output_type": "display_data"
    },
    {
     "data": {
      "application/vnd.jupyter.widget-view+json": {
       "model_id": "5b268707fec9476fa0b21f09360464ae",
       "version_major": 2,
       "version_minor": 0
      },
      "text/plain": [
       "Minibatches:   0%|          | 0/1 [00:00<?, ?it/s]"
      ]
     },
     "metadata": {},
     "output_type": "display_data"
    },
    {
     "data": {
      "application/vnd.jupyter.widget-view+json": {
       "model_id": "9bf3c4ba898c45d587c86f371d5b4ee4",
       "version_major": 2,
       "version_minor": 0
      },
      "text/plain": [
       "Minibatches:   0%|          | 0/1 [00:00<?, ?it/s]"
      ]
     },
     "metadata": {},
     "output_type": "display_data"
    },
    {
     "data": {
      "application/vnd.jupyter.widget-view+json": {
       "model_id": "f87cb164409343678fbc07cc1060185d",
       "version_major": 2,
       "version_minor": 0
      },
      "text/plain": [
       "Minibatches:   0%|          | 0/36 [00:00<?, ?it/s]"
      ]
     },
     "metadata": {},
     "output_type": "display_data"
    },
    {
     "data": {
      "application/vnd.jupyter.widget-view+json": {
       "model_id": "96a82ece12b34b899d1882cbef6be1b2",
       "version_major": 2,
       "version_minor": 0
      },
      "text/plain": [
       "Minibatches:   0%|          | 0/18 [00:00<?, ?it/s]"
      ]
     },
     "metadata": {},
     "output_type": "display_data"
    },
    {
     "data": {
      "application/vnd.jupyter.widget-view+json": {
       "model_id": "d099b8946ed64899be426db34f5da83e",
       "version_major": 2,
       "version_minor": 0
      },
      "text/plain": [
       "Minibatches:   0%|          | 0/2 [00:00<?, ?it/s]"
      ]
     },
     "metadata": {},
     "output_type": "display_data"
    },
    {
     "data": {
      "application/vnd.jupyter.widget-view+json": {
       "model_id": "9ff426c82aab4dd0980b894e84294389",
       "version_major": 2,
       "version_minor": 0
      },
      "text/plain": [
       "Minibatches:   0%|          | 0/1 [00:00<?, ?it/s]"
      ]
     },
     "metadata": {},
     "output_type": "display_data"
    },
    {
     "data": {
      "application/vnd.jupyter.widget-view+json": {
       "model_id": "40470673553246ec89cb3a89893aba0d",
       "version_major": 2,
       "version_minor": 0
      },
      "text/plain": [
       "Datasets:   0%|          | 0/3 [00:00<?, ?it/s]"
      ]
     },
     "metadata": {},
     "output_type": "display_data"
    },
    {
     "data": {
      "application/vnd.jupyter.widget-view+json": {
       "model_id": "fa66eb53e13d4c8aa07aa6b422810a68",
       "version_major": 2,
       "version_minor": 0
      },
      "text/plain": [
       "Minibatches:   0%|          | 0/1 [00:00<?, ?it/s]"
      ]
     },
     "metadata": {},
     "output_type": "display_data"
    },
    {
     "data": {
      "application/vnd.jupyter.widget-view+json": {
       "model_id": "6a5209ab12134522986b2450b48b572d",
       "version_major": 2,
       "version_minor": 0
      },
      "text/plain": [
       "Minibatches:   0%|          | 0/1 [00:00<?, ?it/s]"
      ]
     },
     "metadata": {},
     "output_type": "display_data"
    },
    {
     "data": {
      "application/vnd.jupyter.widget-view+json": {
       "model_id": "f18eba5150c54b8db4decd3bff2a9b7b",
       "version_major": 2,
       "version_minor": 0
      },
      "text/plain": [
       "Minibatches:   0%|          | 0/36 [00:00<?, ?it/s]"
      ]
     },
     "metadata": {},
     "output_type": "display_data"
    },
    {
     "data": {
      "application/vnd.jupyter.widget-view+json": {
       "model_id": "0059311f3b6249b1b47cf15db3bf1b9b",
       "version_major": 2,
       "version_minor": 0
      },
      "text/plain": [
       "Minibatches:   0%|          | 0/18 [00:00<?, ?it/s]"
      ]
     },
     "metadata": {},
     "output_type": "display_data"
    },
    {
     "data": {
      "application/vnd.jupyter.widget-view+json": {
       "model_id": "068e979558494dffaa3dc0d8b9e0db97",
       "version_major": 2,
       "version_minor": 0
      },
      "text/plain": [
       "Minibatches:   0%|          | 0/2 [00:00<?, ?it/s]"
      ]
     },
     "metadata": {},
     "output_type": "display_data"
    },
    {
     "data": {
      "application/vnd.jupyter.widget-view+json": {
       "model_id": "9877db2655d34306b43ef516405e3f12",
       "version_major": 2,
       "version_minor": 0
      },
      "text/plain": [
       "Minibatches:   0%|          | 0/1 [00:00<?, ?it/s]"
      ]
     },
     "metadata": {},
     "output_type": "display_data"
    },
    {
     "data": {
      "application/vnd.jupyter.widget-view+json": {
       "model_id": "cb95bb26f98d488098c28d959c8a211d",
       "version_major": 2,
       "version_minor": 0
      },
      "text/plain": [
       "Datasets:   0%|          | 0/3 [00:00<?, ?it/s]"
      ]
     },
     "metadata": {},
     "output_type": "display_data"
    },
    {
     "data": {
      "application/vnd.jupyter.widget-view+json": {
       "model_id": "b0603176721745c9945ba87ee3dee5c9",
       "version_major": 2,
       "version_minor": 0
      },
      "text/plain": [
       "Minibatches:   0%|          | 0/1 [00:00<?, ?it/s]"
      ]
     },
     "metadata": {},
     "output_type": "display_data"
    },
    {
     "data": {
      "application/vnd.jupyter.widget-view+json": {
       "model_id": "7a892365c49349b4846d30e90afac522",
       "version_major": 2,
       "version_minor": 0
      },
      "text/plain": [
       "Minibatches:   0%|          | 0/1 [00:00<?, ?it/s]"
      ]
     },
     "metadata": {},
     "output_type": "display_data"
    },
    {
     "data": {
      "application/vnd.jupyter.widget-view+json": {
       "model_id": "4e1291253a7c4fcc952a4f2b3b22630b",
       "version_major": 2,
       "version_minor": 0
      },
      "text/plain": [
       "Minibatches:   0%|          | 0/36 [00:00<?, ?it/s]"
      ]
     },
     "metadata": {},
     "output_type": "display_data"
    },
    {
     "data": {
      "application/vnd.jupyter.widget-view+json": {
       "model_id": "2112f8d600584a998e6789d91cea6cac",
       "version_major": 2,
       "version_minor": 0
      },
      "text/plain": [
       "Minibatches:   0%|          | 0/18 [00:00<?, ?it/s]"
      ]
     },
     "metadata": {},
     "output_type": "display_data"
    },
    {
     "data": {
      "application/vnd.jupyter.widget-view+json": {
       "model_id": "fdce592f5f804b26aa6a430d66a3c94b",
       "version_major": 2,
       "version_minor": 0
      },
      "text/plain": [
       "Minibatches:   0%|          | 0/2 [00:00<?, ?it/s]"
      ]
     },
     "metadata": {},
     "output_type": "display_data"
    },
    {
     "data": {
      "application/vnd.jupyter.widget-view+json": {
       "model_id": "0c0aab5729d24320afaa136b77147336",
       "version_major": 2,
       "version_minor": 0
      },
      "text/plain": [
       "Minibatches:   0%|          | 0/1 [00:00<?, ?it/s]"
      ]
     },
     "metadata": {},
     "output_type": "display_data"
    },
    {
     "data": {
      "application/vnd.jupyter.widget-view+json": {
       "model_id": "075cd94eacb546ef8bed1d0f0956c5d8",
       "version_major": 2,
       "version_minor": 0
      },
      "text/plain": [
       "Datasets:   0%|          | 0/3 [00:00<?, ?it/s]"
      ]
     },
     "metadata": {},
     "output_type": "display_data"
    },
    {
     "data": {
      "application/vnd.jupyter.widget-view+json": {
       "model_id": "a6986edba3d74dee94c132eeae9e702f",
       "version_major": 2,
       "version_minor": 0
      },
      "text/plain": [
       "Minibatches:   0%|          | 0/1 [00:00<?, ?it/s]"
      ]
     },
     "metadata": {},
     "output_type": "display_data"
    },
    {
     "data": {
      "application/vnd.jupyter.widget-view+json": {
       "model_id": "55039a195ab14b2194211bf59af4751d",
       "version_major": 2,
       "version_minor": 0
      },
      "text/plain": [
       "Minibatches:   0%|          | 0/1 [00:00<?, ?it/s]"
      ]
     },
     "metadata": {},
     "output_type": "display_data"
    },
    {
     "data": {
      "application/vnd.jupyter.widget-view+json": {
       "model_id": "58f2b36a68864b3b87ff0c024c604644",
       "version_major": 2,
       "version_minor": 0
      },
      "text/plain": [
       "Minibatches:   0%|          | 0/36 [00:00<?, ?it/s]"
      ]
     },
     "metadata": {},
     "output_type": "display_data"
    },
    {
     "data": {
      "application/vnd.jupyter.widget-view+json": {
       "model_id": "5315d927485e4063a25b0420e7a55860",
       "version_major": 2,
       "version_minor": 0
      },
      "text/plain": [
       "Minibatches:   0%|          | 0/18 [00:00<?, ?it/s]"
      ]
     },
     "metadata": {},
     "output_type": "display_data"
    },
    {
     "data": {
      "application/vnd.jupyter.widget-view+json": {
       "model_id": "5de1783799994f3f88eda7c2d46f9bfd",
       "version_major": 2,
       "version_minor": 0
      },
      "text/plain": [
       "Minibatches:   0%|          | 0/2 [00:00<?, ?it/s]"
      ]
     },
     "metadata": {},
     "output_type": "display_data"
    },
    {
     "data": {
      "application/vnd.jupyter.widget-view+json": {
       "model_id": "ff6fea25d5e14e52885dd818f3773481",
       "version_major": 2,
       "version_minor": 0
      },
      "text/plain": [
       "Minibatches:   0%|          | 0/1 [00:00<?, ?it/s]"
      ]
     },
     "metadata": {},
     "output_type": "display_data"
    },
    {
     "data": {
      "application/vnd.jupyter.widget-view+json": {
       "model_id": "ae801be50ab4493b9f765d82d9b8b474",
       "version_major": 2,
       "version_minor": 0
      },
      "text/plain": [
       "Datasets:   0%|          | 0/3 [00:00<?, ?it/s]"
      ]
     },
     "metadata": {},
     "output_type": "display_data"
    },
    {
     "data": {
      "application/vnd.jupyter.widget-view+json": {
       "model_id": "632de720774645f68f337b323c40a136",
       "version_major": 2,
       "version_minor": 0
      },
      "text/plain": [
       "Minibatches:   0%|          | 0/1 [00:00<?, ?it/s]"
      ]
     },
     "metadata": {},
     "output_type": "display_data"
    },
    {
     "data": {
      "application/vnd.jupyter.widget-view+json": {
       "model_id": "36a8d3c5f8334e7685196a4fc3e4d3d5",
       "version_major": 2,
       "version_minor": 0
      },
      "text/plain": [
       "Minibatches:   0%|          | 0/1 [00:00<?, ?it/s]"
      ]
     },
     "metadata": {},
     "output_type": "display_data"
    },
    {
     "data": {
      "application/vnd.jupyter.widget-view+json": {
       "model_id": "af44c827593043e98bec6101d474a145",
       "version_major": 2,
       "version_minor": 0
      },
      "text/plain": [
       "Minibatches:   0%|          | 0/36 [00:00<?, ?it/s]"
      ]
     },
     "metadata": {},
     "output_type": "display_data"
    },
    {
     "data": {
      "application/vnd.jupyter.widget-view+json": {
       "model_id": "0cca9a0ad2574275a3be0240623aff29",
       "version_major": 2,
       "version_minor": 0
      },
      "text/plain": [
       "Minibatches:   0%|          | 0/18 [00:00<?, ?it/s]"
      ]
     },
     "metadata": {},
     "output_type": "display_data"
    },
    {
     "data": {
      "application/vnd.jupyter.widget-view+json": {
       "model_id": "f563239a1d0142b8bb318ede04faae28",
       "version_major": 2,
       "version_minor": 0
      },
      "text/plain": [
       "Minibatches:   0%|          | 0/2 [00:00<?, ?it/s]"
      ]
     },
     "metadata": {},
     "output_type": "display_data"
    },
    {
     "data": {
      "application/vnd.jupyter.widget-view+json": {
       "model_id": "d9d3461ea5434e3593842efd93785f31",
       "version_major": 2,
       "version_minor": 0
      },
      "text/plain": [
       "Minibatches:   0%|          | 0/1 [00:00<?, ?it/s]"
      ]
     },
     "metadata": {},
     "output_type": "display_data"
    },
    {
     "data": {
      "application/vnd.jupyter.widget-view+json": {
       "model_id": "1c14594bcabc491aa509661f68b03f69",
       "version_major": 2,
       "version_minor": 0
      },
      "text/plain": [
       "Datasets:   0%|          | 0/3 [00:00<?, ?it/s]"
      ]
     },
     "metadata": {},
     "output_type": "display_data"
    },
    {
     "data": {
      "application/vnd.jupyter.widget-view+json": {
       "model_id": "9093867366924e86a949ffeff4420317",
       "version_major": 2,
       "version_minor": 0
      },
      "text/plain": [
       "Minibatches:   0%|          | 0/1 [00:00<?, ?it/s]"
      ]
     },
     "metadata": {},
     "output_type": "display_data"
    },
    {
     "data": {
      "application/vnd.jupyter.widget-view+json": {
       "model_id": "e00c1c49648c486eb31b192b2786db08",
       "version_major": 2,
       "version_minor": 0
      },
      "text/plain": [
       "Minibatches:   0%|          | 0/1 [00:00<?, ?it/s]"
      ]
     },
     "metadata": {},
     "output_type": "display_data"
    },
    {
     "data": {
      "application/vnd.jupyter.widget-view+json": {
       "model_id": "7b0ea21c3c4d4b91acf6458340caec78",
       "version_major": 2,
       "version_minor": 0
      },
      "text/plain": [
       "Minibatches:   0%|          | 0/36 [00:00<?, ?it/s]"
      ]
     },
     "metadata": {},
     "output_type": "display_data"
    },
    {
     "data": {
      "application/vnd.jupyter.widget-view+json": {
       "model_id": "b37925ceec994664a1a83f94d143be38",
       "version_major": 2,
       "version_minor": 0
      },
      "text/plain": [
       "Minibatches:   0%|          | 0/18 [00:00<?, ?it/s]"
      ]
     },
     "metadata": {},
     "output_type": "display_data"
    },
    {
     "data": {
      "application/vnd.jupyter.widget-view+json": {
       "model_id": "2ba42d21597f4647a321e5587f8380bc",
       "version_major": 2,
       "version_minor": 0
      },
      "text/plain": [
       "Minibatches:   0%|          | 0/2 [00:00<?, ?it/s]"
      ]
     },
     "metadata": {},
     "output_type": "display_data"
    },
    {
     "data": {
      "application/vnd.jupyter.widget-view+json": {
       "model_id": "d802ca7969f049fcb222deac648bfe79",
       "version_major": 2,
       "version_minor": 0
      },
      "text/plain": [
       "Minibatches:   0%|          | 0/1 [00:00<?, ?it/s]"
      ]
     },
     "metadata": {},
     "output_type": "display_data"
    },
    {
     "data": {
      "application/vnd.jupyter.widget-view+json": {
       "model_id": "b137fa53f33b4b0f8d66ef2a2fbb7dc5",
       "version_major": 2,
       "version_minor": 0
      },
      "text/plain": [
       "Datasets:   0%|          | 0/3 [00:00<?, ?it/s]"
      ]
     },
     "metadata": {},
     "output_type": "display_data"
    },
    {
     "data": {
      "application/vnd.jupyter.widget-view+json": {
       "model_id": "6b49fcbf50664fdba43a3bec4558b9c7",
       "version_major": 2,
       "version_minor": 0
      },
      "text/plain": [
       "Minibatches:   0%|          | 0/1 [00:00<?, ?it/s]"
      ]
     },
     "metadata": {},
     "output_type": "display_data"
    },
    {
     "data": {
      "application/vnd.jupyter.widget-view+json": {
       "model_id": "b23285b1dd8749478b210ae119f261f8",
       "version_major": 2,
       "version_minor": 0
      },
      "text/plain": [
       "Minibatches:   0%|          | 0/1 [00:00<?, ?it/s]"
      ]
     },
     "metadata": {},
     "output_type": "display_data"
    },
    {
     "data": {
      "application/vnd.jupyter.widget-view+json": {
       "model_id": "6de07a5ffefb48c1aad6ca41efdf4306",
       "version_major": 2,
       "version_minor": 0
      },
      "text/plain": [
       "Minibatches:   0%|          | 0/36 [00:00<?, ?it/s]"
      ]
     },
     "metadata": {},
     "output_type": "display_data"
    },
    {
     "data": {
      "application/vnd.jupyter.widget-view+json": {
       "model_id": "9ecc72083b854ffca7c7ee13a33856dd",
       "version_major": 2,
       "version_minor": 0
      },
      "text/plain": [
       "Minibatches:   0%|          | 0/18 [00:00<?, ?it/s]"
      ]
     },
     "metadata": {},
     "output_type": "display_data"
    },
    {
     "data": {
      "application/vnd.jupyter.widget-view+json": {
       "model_id": "7314ccd739234a639e3f51ce71d535cb",
       "version_major": 2,
       "version_minor": 0
      },
      "text/plain": [
       "Minibatches:   0%|          | 0/2 [00:00<?, ?it/s]"
      ]
     },
     "metadata": {},
     "output_type": "display_data"
    },
    {
     "data": {
      "application/vnd.jupyter.widget-view+json": {
       "model_id": "e59db5b41dfb407b93321edf2940b6d7",
       "version_major": 2,
       "version_minor": 0
      },
      "text/plain": [
       "Minibatches:   0%|          | 0/1 [00:00<?, ?it/s]"
      ]
     },
     "metadata": {},
     "output_type": "display_data"
    },
    {
     "data": {
      "application/vnd.jupyter.widget-view+json": {
       "model_id": "1e76d36e83114550a864bf9ae2612a7f",
       "version_major": 2,
       "version_minor": 0
      },
      "text/plain": [
       "Datasets:   0%|          | 0/3 [00:00<?, ?it/s]"
      ]
     },
     "metadata": {},
     "output_type": "display_data"
    },
    {
     "data": {
      "application/vnd.jupyter.widget-view+json": {
       "model_id": "a2b05537694346eca66a8ba85a7e8b0d",
       "version_major": 2,
       "version_minor": 0
      },
      "text/plain": [
       "Minibatches:   0%|          | 0/1 [00:00<?, ?it/s]"
      ]
     },
     "metadata": {},
     "output_type": "display_data"
    },
    {
     "data": {
      "application/vnd.jupyter.widget-view+json": {
       "model_id": "96631265a4ef43c3a0d928005467023a",
       "version_major": 2,
       "version_minor": 0
      },
      "text/plain": [
       "Minibatches:   0%|          | 0/1 [00:00<?, ?it/s]"
      ]
     },
     "metadata": {},
     "output_type": "display_data"
    },
    {
     "data": {
      "application/vnd.jupyter.widget-view+json": {
       "model_id": "193c75401f54471197fccc41e4a6a6bf",
       "version_major": 2,
       "version_minor": 0
      },
      "text/plain": [
       "Minibatches:   0%|          | 0/36 [00:00<?, ?it/s]"
      ]
     },
     "metadata": {},
     "output_type": "display_data"
    },
    {
     "data": {
      "application/vnd.jupyter.widget-view+json": {
       "model_id": "386001cbbdd94b2fb4d031a4f877daea",
       "version_major": 2,
       "version_minor": 0
      },
      "text/plain": [
       "Minibatches:   0%|          | 0/18 [00:00<?, ?it/s]"
      ]
     },
     "metadata": {},
     "output_type": "display_data"
    },
    {
     "data": {
      "application/vnd.jupyter.widget-view+json": {
       "model_id": "89e8f57ab2dc4b4d813d1b8f9655c70e",
       "version_major": 2,
       "version_minor": 0
      },
      "text/plain": [
       "Minibatches:   0%|          | 0/2 [00:00<?, ?it/s]"
      ]
     },
     "metadata": {},
     "output_type": "display_data"
    },
    {
     "data": {
      "application/vnd.jupyter.widget-view+json": {
       "model_id": "6ca70ee241e74b17a691e718a58f067e",
       "version_major": 2,
       "version_minor": 0
      },
      "text/plain": [
       "Minibatches:   0%|          | 0/1 [00:00<?, ?it/s]"
      ]
     },
     "metadata": {},
     "output_type": "display_data"
    },
    {
     "data": {
      "application/vnd.jupyter.widget-view+json": {
       "model_id": "86b4ed5232704a079527638bf891684b",
       "version_major": 2,
       "version_minor": 0
      },
      "text/plain": [
       "Datasets:   0%|          | 0/3 [00:00<?, ?it/s]"
      ]
     },
     "metadata": {},
     "output_type": "display_data"
    },
    {
     "data": {
      "application/vnd.jupyter.widget-view+json": {
       "model_id": "9d587d98fa0d49c5a2498190fbfc092d",
       "version_major": 2,
       "version_minor": 0
      },
      "text/plain": [
       "Minibatches:   0%|          | 0/1 [00:00<?, ?it/s]"
      ]
     },
     "metadata": {},
     "output_type": "display_data"
    },
    {
     "data": {
      "application/vnd.jupyter.widget-view+json": {
       "model_id": "34e919b6f67140c88c52c0b4456f990f",
       "version_major": 2,
       "version_minor": 0
      },
      "text/plain": [
       "Minibatches:   0%|          | 0/1 [00:00<?, ?it/s]"
      ]
     },
     "metadata": {},
     "output_type": "display_data"
    },
    {
     "data": {
      "application/vnd.jupyter.widget-view+json": {
       "model_id": "7543bdc1151d45c3ae62da290b05124b",
       "version_major": 2,
       "version_minor": 0
      },
      "text/plain": [
       "Minibatches:   0%|          | 0/36 [00:00<?, ?it/s]"
      ]
     },
     "metadata": {},
     "output_type": "display_data"
    },
    {
     "data": {
      "application/vnd.jupyter.widget-view+json": {
       "model_id": "af3a11bb73444eb98b77f8f4d241bdf0",
       "version_major": 2,
       "version_minor": 0
      },
      "text/plain": [
       "Minibatches:   0%|          | 0/18 [00:00<?, ?it/s]"
      ]
     },
     "metadata": {},
     "output_type": "display_data"
    },
    {
     "data": {
      "application/vnd.jupyter.widget-view+json": {
       "model_id": "6dd5676635604cdc95e25b25695b70ad",
       "version_major": 2,
       "version_minor": 0
      },
      "text/plain": [
       "Minibatches:   0%|          | 0/2 [00:00<?, ?it/s]"
      ]
     },
     "metadata": {},
     "output_type": "display_data"
    },
    {
     "data": {
      "application/vnd.jupyter.widget-view+json": {
       "model_id": "3c73dcec68ea4c5b846eef769da07e44",
       "version_major": 2,
       "version_minor": 0
      },
      "text/plain": [
       "Minibatches:   0%|          | 0/1 [00:00<?, ?it/s]"
      ]
     },
     "metadata": {},
     "output_type": "display_data"
    },
    {
     "data": {
      "application/vnd.jupyter.widget-view+json": {
       "model_id": "fc133074b0f743ab8aef8aaa42b98ca0",
       "version_major": 2,
       "version_minor": 0
      },
      "text/plain": [
       "Datasets:   0%|          | 0/3 [00:00<?, ?it/s]"
      ]
     },
     "metadata": {},
     "output_type": "display_data"
    },
    {
     "data": {
      "application/vnd.jupyter.widget-view+json": {
       "model_id": "c82835e41edf4e8c894a7e3102af96bc",
       "version_major": 2,
       "version_minor": 0
      },
      "text/plain": [
       "Minibatches:   0%|          | 0/1 [00:00<?, ?it/s]"
      ]
     },
     "metadata": {},
     "output_type": "display_data"
    },
    {
     "data": {
      "application/vnd.jupyter.widget-view+json": {
       "model_id": "84b814ffb7054961affcd29ec7168641",
       "version_major": 2,
       "version_minor": 0
      },
      "text/plain": [
       "Minibatches:   0%|          | 0/1 [00:00<?, ?it/s]"
      ]
     },
     "metadata": {},
     "output_type": "display_data"
    },
    {
     "data": {
      "application/vnd.jupyter.widget-view+json": {
       "model_id": "aa5485ad5d4549fab79f951191b0f6d5",
       "version_major": 2,
       "version_minor": 0
      },
      "text/plain": [
       "Minibatches:   0%|          | 0/36 [00:00<?, ?it/s]"
      ]
     },
     "metadata": {},
     "output_type": "display_data"
    },
    {
     "data": {
      "application/vnd.jupyter.widget-view+json": {
       "model_id": "ffc0695771204adb93d3d64e50b0286f",
       "version_major": 2,
       "version_minor": 0
      },
      "text/plain": [
       "Minibatches:   0%|          | 0/18 [00:00<?, ?it/s]"
      ]
     },
     "metadata": {},
     "output_type": "display_data"
    },
    {
     "data": {
      "application/vnd.jupyter.widget-view+json": {
       "model_id": "e973daa27bb940ca95a18b910c512765",
       "version_major": 2,
       "version_minor": 0
      },
      "text/plain": [
       "Minibatches:   0%|          | 0/2 [00:00<?, ?it/s]"
      ]
     },
     "metadata": {},
     "output_type": "display_data"
    },
    {
     "data": {
      "application/vnd.jupyter.widget-view+json": {
       "model_id": "01d6248f7b5d49a387800826166f91ed",
       "version_major": 2,
       "version_minor": 0
      },
      "text/plain": [
       "Minibatches:   0%|          | 0/1 [00:00<?, ?it/s]"
      ]
     },
     "metadata": {},
     "output_type": "display_data"
    },
    {
     "data": {
      "application/vnd.jupyter.widget-view+json": {
       "model_id": "84ca5a667774463a8565158574256cb4",
       "version_major": 2,
       "version_minor": 0
      },
      "text/plain": [
       "Datasets:   0%|          | 0/3 [00:00<?, ?it/s]"
      ]
     },
     "metadata": {},
     "output_type": "display_data"
    },
    {
     "data": {
      "application/vnd.jupyter.widget-view+json": {
       "model_id": "c5245a1b07164e559cb478964c646e08",
       "version_major": 2,
       "version_minor": 0
      },
      "text/plain": [
       "Minibatches:   0%|          | 0/1 [00:00<?, ?it/s]"
      ]
     },
     "metadata": {},
     "output_type": "display_data"
    },
    {
     "data": {
      "application/vnd.jupyter.widget-view+json": {
       "model_id": "0f1953fc09d7441bb3dc7b4b1a8eaa7f",
       "version_major": 2,
       "version_minor": 0
      },
      "text/plain": [
       "Minibatches:   0%|          | 0/1 [00:00<?, ?it/s]"
      ]
     },
     "metadata": {},
     "output_type": "display_data"
    },
    {
     "data": {
      "application/vnd.jupyter.widget-view+json": {
       "model_id": "5f17c87adc9341bf97670faa6cfc71a8",
       "version_major": 2,
       "version_minor": 0
      },
      "text/plain": [
       "Minibatches:   0%|          | 0/36 [00:00<?, ?it/s]"
      ]
     },
     "metadata": {},
     "output_type": "display_data"
    },
    {
     "data": {
      "application/vnd.jupyter.widget-view+json": {
       "model_id": "6a12c9d5739d47ae8aa2785515a0f4a8",
       "version_major": 2,
       "version_minor": 0
      },
      "text/plain": [
       "Minibatches:   0%|          | 0/18 [00:00<?, ?it/s]"
      ]
     },
     "metadata": {},
     "output_type": "display_data"
    },
    {
     "data": {
      "application/vnd.jupyter.widget-view+json": {
       "model_id": "20b613e6f6db4f6798cb3ea18d246b19",
       "version_major": 2,
       "version_minor": 0
      },
      "text/plain": [
       "Minibatches:   0%|          | 0/2 [00:00<?, ?it/s]"
      ]
     },
     "metadata": {},
     "output_type": "display_data"
    },
    {
     "data": {
      "application/vnd.jupyter.widget-view+json": {
       "model_id": "6afadad8fd3141579e34baa20cd22607",
       "version_major": 2,
       "version_minor": 0
      },
      "text/plain": [
       "Minibatches:   0%|          | 0/1 [00:00<?, ?it/s]"
      ]
     },
     "metadata": {},
     "output_type": "display_data"
    },
    {
     "data": {
      "application/vnd.jupyter.widget-view+json": {
       "model_id": "be22fcc0cdba4a90b17a63bb7b2f71db",
       "version_major": 2,
       "version_minor": 0
      },
      "text/plain": [
       "Datasets:   0%|          | 0/3 [00:00<?, ?it/s]"
      ]
     },
     "metadata": {},
     "output_type": "display_data"
    },
    {
     "data": {
      "application/vnd.jupyter.widget-view+json": {
       "model_id": "1b79c34428ac4afdbd3fef3642927b39",
       "version_major": 2,
       "version_minor": 0
      },
      "text/plain": [
       "Minibatches:   0%|          | 0/1 [00:00<?, ?it/s]"
      ]
     },
     "metadata": {},
     "output_type": "display_data"
    },
    {
     "data": {
      "application/vnd.jupyter.widget-view+json": {
       "model_id": "a4179c742f024b72af9f03b96bf5a577",
       "version_major": 2,
       "version_minor": 0
      },
      "text/plain": [
       "Minibatches:   0%|          | 0/1 [00:00<?, ?it/s]"
      ]
     },
     "metadata": {},
     "output_type": "display_data"
    },
    {
     "data": {
      "application/vnd.jupyter.widget-view+json": {
       "model_id": "8064443eb54f46798c6c5b675a4d0bb0",
       "version_major": 2,
       "version_minor": 0
      },
      "text/plain": [
       "Minibatches:   0%|          | 0/36 [00:00<?, ?it/s]"
      ]
     },
     "metadata": {},
     "output_type": "display_data"
    },
    {
     "data": {
      "application/vnd.jupyter.widget-view+json": {
       "model_id": "0e82a04264ab40e3a7b8391697c3e3b0",
       "version_major": 2,
       "version_minor": 0
      },
      "text/plain": [
       "Minibatches:   0%|          | 0/18 [00:00<?, ?it/s]"
      ]
     },
     "metadata": {},
     "output_type": "display_data"
    },
    {
     "data": {
      "application/vnd.jupyter.widget-view+json": {
       "model_id": "c07f64c3b0824cfa9f7585cd87bb9238",
       "version_major": 2,
       "version_minor": 0
      },
      "text/plain": [
       "Minibatches:   0%|          | 0/2 [00:00<?, ?it/s]"
      ]
     },
     "metadata": {},
     "output_type": "display_data"
    },
    {
     "data": {
      "application/vnd.jupyter.widget-view+json": {
       "model_id": "cc189f0890ce4de299636f7085af8c0a",
       "version_major": 2,
       "version_minor": 0
      },
      "text/plain": [
       "Minibatches:   0%|          | 0/1 [00:00<?, ?it/s]"
      ]
     },
     "metadata": {},
     "output_type": "display_data"
    },
    {
     "data": {
      "application/vnd.jupyter.widget-view+json": {
       "model_id": "2b8f447a3d534ef78705b2dad010bb25",
       "version_major": 2,
       "version_minor": 0
      },
      "text/plain": [
       "Datasets:   0%|          | 0/3 [00:00<?, ?it/s]"
      ]
     },
     "metadata": {},
     "output_type": "display_data"
    },
    {
     "data": {
      "application/vnd.jupyter.widget-view+json": {
       "model_id": "10e52cad66bb46e4933f080a14d1ee7d",
       "version_major": 2,
       "version_minor": 0
      },
      "text/plain": [
       "Minibatches:   0%|          | 0/1 [00:00<?, ?it/s]"
      ]
     },
     "metadata": {},
     "output_type": "display_data"
    },
    {
     "data": {
      "application/vnd.jupyter.widget-view+json": {
       "model_id": "de2e9a2e241c492f9a41354025cfdbd1",
       "version_major": 2,
       "version_minor": 0
      },
      "text/plain": [
       "Minibatches:   0%|          | 0/1 [00:00<?, ?it/s]"
      ]
     },
     "metadata": {},
     "output_type": "display_data"
    },
    {
     "data": {
      "application/vnd.jupyter.widget-view+json": {
       "model_id": "8e46e38be750451eb50ac03692f74081",
       "version_major": 2,
       "version_minor": 0
      },
      "text/plain": [
       "Minibatches:   0%|          | 0/36 [00:00<?, ?it/s]"
      ]
     },
     "metadata": {},
     "output_type": "display_data"
    },
    {
     "data": {
      "application/vnd.jupyter.widget-view+json": {
       "model_id": "6e77ca3c18ed4b61a44fbfbd833e2f26",
       "version_major": 2,
       "version_minor": 0
      },
      "text/plain": [
       "Minibatches:   0%|          | 0/18 [00:00<?, ?it/s]"
      ]
     },
     "metadata": {},
     "output_type": "display_data"
    },
    {
     "data": {
      "application/vnd.jupyter.widget-view+json": {
       "model_id": "60d468c74e45406eb276fbdea1ce3539",
       "version_major": 2,
       "version_minor": 0
      },
      "text/plain": [
       "Minibatches:   0%|          | 0/2 [00:00<?, ?it/s]"
      ]
     },
     "metadata": {},
     "output_type": "display_data"
    },
    {
     "data": {
      "application/vnd.jupyter.widget-view+json": {
       "model_id": "bf0dd59d23c54062855a77ef567ea775",
       "version_major": 2,
       "version_minor": 0
      },
      "text/plain": [
       "Minibatches:   0%|          | 0/1 [00:00<?, ?it/s]"
      ]
     },
     "metadata": {},
     "output_type": "display_data"
    },
    {
     "data": {
      "application/vnd.jupyter.widget-view+json": {
       "model_id": "23c529651d314943a36f416403d78ea3",
       "version_major": 2,
       "version_minor": 0
      },
      "text/plain": [
       "Datasets:   0%|          | 0/3 [00:00<?, ?it/s]"
      ]
     },
     "metadata": {},
     "output_type": "display_data"
    },
    {
     "data": {
      "application/vnd.jupyter.widget-view+json": {
       "model_id": "869dd754b2884197a215c6c4347673d8",
       "version_major": 2,
       "version_minor": 0
      },
      "text/plain": [
       "Minibatches:   0%|          | 0/1 [00:00<?, ?it/s]"
      ]
     },
     "metadata": {},
     "output_type": "display_data"
    },
    {
     "data": {
      "application/vnd.jupyter.widget-view+json": {
       "model_id": "922b6099ffa24bfb991d0ff2449aebad",
       "version_major": 2,
       "version_minor": 0
      },
      "text/plain": [
       "Minibatches:   0%|          | 0/1 [00:00<?, ?it/s]"
      ]
     },
     "metadata": {},
     "output_type": "display_data"
    },
    {
     "data": {
      "application/vnd.jupyter.widget-view+json": {
       "model_id": "167fc3b5547b4988be18261b48d931a0",
       "version_major": 2,
       "version_minor": 0
      },
      "text/plain": [
       "Minibatches:   0%|          | 0/36 [00:00<?, ?it/s]"
      ]
     },
     "metadata": {},
     "output_type": "display_data"
    },
    {
     "data": {
      "application/vnd.jupyter.widget-view+json": {
       "model_id": "3286ffe05b314abb8469fcd300ff2033",
       "version_major": 2,
       "version_minor": 0
      },
      "text/plain": [
       "Minibatches:   0%|          | 0/18 [00:00<?, ?it/s]"
      ]
     },
     "metadata": {},
     "output_type": "display_data"
    },
    {
     "data": {
      "application/vnd.jupyter.widget-view+json": {
       "model_id": "618c767de7e34fa29cabf48c3f9fb7a4",
       "version_major": 2,
       "version_minor": 0
      },
      "text/plain": [
       "Minibatches:   0%|          | 0/2 [00:00<?, ?it/s]"
      ]
     },
     "metadata": {},
     "output_type": "display_data"
    },
    {
     "data": {
      "application/vnd.jupyter.widget-view+json": {
       "model_id": "5b9e8b595db247539649551134915694",
       "version_major": 2,
       "version_minor": 0
      },
      "text/plain": [
       "Minibatches:   0%|          | 0/1 [00:00<?, ?it/s]"
      ]
     },
     "metadata": {},
     "output_type": "display_data"
    },
    {
     "data": {
      "application/vnd.jupyter.widget-view+json": {
       "model_id": "8057df6c986544038afc222247d6df00",
       "version_major": 2,
       "version_minor": 0
      },
      "text/plain": [
       "Datasets:   0%|          | 0/3 [00:00<?, ?it/s]"
      ]
     },
     "metadata": {},
     "output_type": "display_data"
    },
    {
     "data": {
      "application/vnd.jupyter.widget-view+json": {
       "model_id": "55b2e47e551445238bd7ae454930e146",
       "version_major": 2,
       "version_minor": 0
      },
      "text/plain": [
       "Minibatches:   0%|          | 0/1 [00:00<?, ?it/s]"
      ]
     },
     "metadata": {},
     "output_type": "display_data"
    },
    {
     "data": {
      "application/vnd.jupyter.widget-view+json": {
       "model_id": "25ba9f201c5942de834b926922958579",
       "version_major": 2,
       "version_minor": 0
      },
      "text/plain": [
       "Minibatches:   0%|          | 0/1 [00:00<?, ?it/s]"
      ]
     },
     "metadata": {},
     "output_type": "display_data"
    },
    {
     "data": {
      "application/vnd.jupyter.widget-view+json": {
       "model_id": "c6099466abe845ec98a5a7455462db07",
       "version_major": 2,
       "version_minor": 0
      },
      "text/plain": [
       "Minibatches:   0%|          | 0/36 [00:00<?, ?it/s]"
      ]
     },
     "metadata": {},
     "output_type": "display_data"
    },
    {
     "data": {
      "application/vnd.jupyter.widget-view+json": {
       "model_id": "6b6767b55d094f1fb7c9da563875c170",
       "version_major": 2,
       "version_minor": 0
      },
      "text/plain": [
       "Minibatches:   0%|          | 0/18 [00:00<?, ?it/s]"
      ]
     },
     "metadata": {},
     "output_type": "display_data"
    },
    {
     "data": {
      "application/vnd.jupyter.widget-view+json": {
       "model_id": "1765634fa40f4562af10d968ea1b8d5f",
       "version_major": 2,
       "version_minor": 0
      },
      "text/plain": [
       "Minibatches:   0%|          | 0/2 [00:00<?, ?it/s]"
      ]
     },
     "metadata": {},
     "output_type": "display_data"
    },
    {
     "data": {
      "application/vnd.jupyter.widget-view+json": {
       "model_id": "4c2b58498ac2449c9b20694394c4a8e2",
       "version_major": 2,
       "version_minor": 0
      },
      "text/plain": [
       "Minibatches:   0%|          | 0/1 [00:00<?, ?it/s]"
      ]
     },
     "metadata": {},
     "output_type": "display_data"
    },
    {
     "data": {
      "application/vnd.jupyter.widget-view+json": {
       "model_id": "aeea4c41a575450aa176c93103138a2b",
       "version_major": 2,
       "version_minor": 0
      },
      "text/plain": [
       "Datasets:   0%|          | 0/3 [00:00<?, ?it/s]"
      ]
     },
     "metadata": {},
     "output_type": "display_data"
    },
    {
     "data": {
      "application/vnd.jupyter.widget-view+json": {
       "model_id": "51f80e577d994479b0a376b550bd0bda",
       "version_major": 2,
       "version_minor": 0
      },
      "text/plain": [
       "Minibatches:   0%|          | 0/1 [00:00<?, ?it/s]"
      ]
     },
     "metadata": {},
     "output_type": "display_data"
    },
    {
     "data": {
      "application/vnd.jupyter.widget-view+json": {
       "model_id": "7b30ffa5b8c44a11933d517375585cf6",
       "version_major": 2,
       "version_minor": 0
      },
      "text/plain": [
       "Minibatches:   0%|          | 0/1 [00:00<?, ?it/s]"
      ]
     },
     "metadata": {},
     "output_type": "display_data"
    },
    {
     "data": {
      "application/vnd.jupyter.widget-view+json": {
       "model_id": "6c2af6553dfc4adab650a9a4cc196cc5",
       "version_major": 2,
       "version_minor": 0
      },
      "text/plain": [
       "Minibatches:   0%|          | 0/36 [00:00<?, ?it/s]"
      ]
     },
     "metadata": {},
     "output_type": "display_data"
    },
    {
     "data": {
      "application/vnd.jupyter.widget-view+json": {
       "model_id": "8c34bf1231674190b36104c465c7cb66",
       "version_major": 2,
       "version_minor": 0
      },
      "text/plain": [
       "Minibatches:   0%|          | 0/18 [00:00<?, ?it/s]"
      ]
     },
     "metadata": {},
     "output_type": "display_data"
    },
    {
     "data": {
      "application/vnd.jupyter.widget-view+json": {
       "model_id": "acd43882a3144167930e98d94f52f7ee",
       "version_major": 2,
       "version_minor": 0
      },
      "text/plain": [
       "Minibatches:   0%|          | 0/2 [00:00<?, ?it/s]"
      ]
     },
     "metadata": {},
     "output_type": "display_data"
    },
    {
     "data": {
      "application/vnd.jupyter.widget-view+json": {
       "model_id": "c30a2cfef98446a0941808d7da231f58",
       "version_major": 2,
       "version_minor": 0
      },
      "text/plain": [
       "Minibatches:   0%|          | 0/1 [00:00<?, ?it/s]"
      ]
     },
     "metadata": {},
     "output_type": "display_data"
    },
    {
     "data": {
      "application/vnd.jupyter.widget-view+json": {
       "model_id": "b1fbbe6cefff4d119c7719a4221a4266",
       "version_major": 2,
       "version_minor": 0
      },
      "text/plain": [
       "Datasets:   0%|          | 0/3 [00:00<?, ?it/s]"
      ]
     },
     "metadata": {},
     "output_type": "display_data"
    },
    {
     "data": {
      "application/vnd.jupyter.widget-view+json": {
       "model_id": "51a466bf4b404865a0a193dd06d5233d",
       "version_major": 2,
       "version_minor": 0
      },
      "text/plain": [
       "Minibatches:   0%|          | 0/1 [00:00<?, ?it/s]"
      ]
     },
     "metadata": {},
     "output_type": "display_data"
    },
    {
     "data": {
      "application/vnd.jupyter.widget-view+json": {
       "model_id": "6d3a54085ca34f5d8c35934b1e88badc",
       "version_major": 2,
       "version_minor": 0
      },
      "text/plain": [
       "Minibatches:   0%|          | 0/1 [00:00<?, ?it/s]"
      ]
     },
     "metadata": {},
     "output_type": "display_data"
    },
    {
     "data": {
      "application/vnd.jupyter.widget-view+json": {
       "model_id": "91afebff51094e3aa0a3045753af4520",
       "version_major": 2,
       "version_minor": 0
      },
      "text/plain": [
       "Minibatches:   0%|          | 0/36 [00:00<?, ?it/s]"
      ]
     },
     "metadata": {},
     "output_type": "display_data"
    },
    {
     "data": {
      "application/vnd.jupyter.widget-view+json": {
       "model_id": "4ad11d140aab494f92d6669e5c1bae4c",
       "version_major": 2,
       "version_minor": 0
      },
      "text/plain": [
       "Minibatches:   0%|          | 0/18 [00:00<?, ?it/s]"
      ]
     },
     "metadata": {},
     "output_type": "display_data"
    },
    {
     "data": {
      "application/vnd.jupyter.widget-view+json": {
       "model_id": "7fa2f9d3e44d460c91b55bf586763ce9",
       "version_major": 2,
       "version_minor": 0
      },
      "text/plain": [
       "Minibatches:   0%|          | 0/2 [00:00<?, ?it/s]"
      ]
     },
     "metadata": {},
     "output_type": "display_data"
    },
    {
     "data": {
      "application/vnd.jupyter.widget-view+json": {
       "model_id": "032621b81cfe47948b6cb2a55752a20f",
       "version_major": 2,
       "version_minor": 0
      },
      "text/plain": [
       "Minibatches:   0%|          | 0/1 [00:00<?, ?it/s]"
      ]
     },
     "metadata": {},
     "output_type": "display_data"
    },
    {
     "data": {
      "application/vnd.jupyter.widget-view+json": {
       "model_id": "ad44b92c109647b283cf52ef4fa83838",
       "version_major": 2,
       "version_minor": 0
      },
      "text/plain": [
       "Datasets:   0%|          | 0/3 [00:00<?, ?it/s]"
      ]
     },
     "metadata": {},
     "output_type": "display_data"
    },
    {
     "data": {
      "application/vnd.jupyter.widget-view+json": {
       "model_id": "77a8f49e4ffc4955a1d88d9f15325a04",
       "version_major": 2,
       "version_minor": 0
      },
      "text/plain": [
       "Minibatches:   0%|          | 0/1 [00:00<?, ?it/s]"
      ]
     },
     "metadata": {},
     "output_type": "display_data"
    },
    {
     "data": {
      "application/vnd.jupyter.widget-view+json": {
       "model_id": "b36e86e9be8d4acfbe0e53de2243db36",
       "version_major": 2,
       "version_minor": 0
      },
      "text/plain": [
       "Minibatches:   0%|          | 0/1 [00:00<?, ?it/s]"
      ]
     },
     "metadata": {},
     "output_type": "display_data"
    },
    {
     "data": {
      "application/vnd.jupyter.widget-view+json": {
       "model_id": "d59b584563514a3580e94111f3fb47b3",
       "version_major": 2,
       "version_minor": 0
      },
      "text/plain": [
       "Minibatches:   0%|          | 0/36 [00:00<?, ?it/s]"
      ]
     },
     "metadata": {},
     "output_type": "display_data"
    },
    {
     "data": {
      "application/vnd.jupyter.widget-view+json": {
       "model_id": "51018a46924c46a4b63557ca476f44b4",
       "version_major": 2,
       "version_minor": 0
      },
      "text/plain": [
       "Minibatches:   0%|          | 0/18 [00:00<?, ?it/s]"
      ]
     },
     "metadata": {},
     "output_type": "display_data"
    },
    {
     "data": {
      "application/vnd.jupyter.widget-view+json": {
       "model_id": "9c239321bca447eca906c25df3700412",
       "version_major": 2,
       "version_minor": 0
      },
      "text/plain": [
       "Minibatches:   0%|          | 0/2 [00:00<?, ?it/s]"
      ]
     },
     "metadata": {},
     "output_type": "display_data"
    },
    {
     "data": {
      "application/vnd.jupyter.widget-view+json": {
       "model_id": "95bb52b0082e4e7fba690c8f81ac3028",
       "version_major": 2,
       "version_minor": 0
      },
      "text/plain": [
       "Minibatches:   0%|          | 0/1 [00:00<?, ?it/s]"
      ]
     },
     "metadata": {},
     "output_type": "display_data"
    },
    {
     "data": {
      "application/vnd.jupyter.widget-view+json": {
       "model_id": "be3cd4aae367458995f0d6c7e4b23422",
       "version_major": 2,
       "version_minor": 0
      },
      "text/plain": [
       "Datasets:   0%|          | 0/3 [00:00<?, ?it/s]"
      ]
     },
     "metadata": {},
     "output_type": "display_data"
    },
    {
     "data": {
      "application/vnd.jupyter.widget-view+json": {
       "model_id": "4be9ec693258492ba740fe3154d84603",
       "version_major": 2,
       "version_minor": 0
      },
      "text/plain": [
       "Minibatches:   0%|          | 0/1 [00:00<?, ?it/s]"
      ]
     },
     "metadata": {},
     "output_type": "display_data"
    },
    {
     "data": {
      "application/vnd.jupyter.widget-view+json": {
       "model_id": "6df62198452a4fca98f31704b8174735",
       "version_major": 2,
       "version_minor": 0
      },
      "text/plain": [
       "Minibatches:   0%|          | 0/1 [00:00<?, ?it/s]"
      ]
     },
     "metadata": {},
     "output_type": "display_data"
    },
    {
     "data": {
      "application/vnd.jupyter.widget-view+json": {
       "model_id": "0c5572707a8043e197ea93733386274c",
       "version_major": 2,
       "version_minor": 0
      },
      "text/plain": [
       "Minibatches:   0%|          | 0/36 [00:00<?, ?it/s]"
      ]
     },
     "metadata": {},
     "output_type": "display_data"
    },
    {
     "data": {
      "application/vnd.jupyter.widget-view+json": {
       "model_id": "9ec41cfb50d1453aa75377429b866931",
       "version_major": 2,
       "version_minor": 0
      },
      "text/plain": [
       "Minibatches:   0%|          | 0/18 [00:00<?, ?it/s]"
      ]
     },
     "metadata": {},
     "output_type": "display_data"
    },
    {
     "data": {
      "application/vnd.jupyter.widget-view+json": {
       "model_id": "215fee8cee58484389671167f1368bee",
       "version_major": 2,
       "version_minor": 0
      },
      "text/plain": [
       "Minibatches:   0%|          | 0/2 [00:00<?, ?it/s]"
      ]
     },
     "metadata": {},
     "output_type": "display_data"
    },
    {
     "data": {
      "application/vnd.jupyter.widget-view+json": {
       "model_id": "1ef747af53954f4492d0089b124c2b28",
       "version_major": 2,
       "version_minor": 0
      },
      "text/plain": [
       "Minibatches:   0%|          | 0/1 [00:00<?, ?it/s]"
      ]
     },
     "metadata": {},
     "output_type": "display_data"
    },
    {
     "data": {
      "application/vnd.jupyter.widget-view+json": {
       "model_id": "265bc91253b24297bc293453f4bf4378",
       "version_major": 2,
       "version_minor": 0
      },
      "text/plain": [
       "Datasets:   0%|          | 0/3 [00:00<?, ?it/s]"
      ]
     },
     "metadata": {},
     "output_type": "display_data"
    },
    {
     "data": {
      "application/vnd.jupyter.widget-view+json": {
       "model_id": "c3b8ac44ea4f41ef9bb8fabe914c12e4",
       "version_major": 2,
       "version_minor": 0
      },
      "text/plain": [
       "Minibatches:   0%|          | 0/1 [00:00<?, ?it/s]"
      ]
     },
     "metadata": {},
     "output_type": "display_data"
    },
    {
     "data": {
      "application/vnd.jupyter.widget-view+json": {
       "model_id": "1604d53503a84446bf6e440872f2dd8c",
       "version_major": 2,
       "version_minor": 0
      },
      "text/plain": [
       "Minibatches:   0%|          | 0/1 [00:00<?, ?it/s]"
      ]
     },
     "metadata": {},
     "output_type": "display_data"
    },
    {
     "data": {
      "application/vnd.jupyter.widget-view+json": {
       "model_id": "8bb12afdf4a644f883d31dc5ff21d4b9",
       "version_major": 2,
       "version_minor": 0
      },
      "text/plain": [
       "Minibatches:   0%|          | 0/36 [00:00<?, ?it/s]"
      ]
     },
     "metadata": {},
     "output_type": "display_data"
    },
    {
     "data": {
      "application/vnd.jupyter.widget-view+json": {
       "model_id": "1b0b057b9b6a40b297c564bfa448d768",
       "version_major": 2,
       "version_minor": 0
      },
      "text/plain": [
       "Minibatches:   0%|          | 0/18 [00:00<?, ?it/s]"
      ]
     },
     "metadata": {},
     "output_type": "display_data"
    },
    {
     "data": {
      "application/vnd.jupyter.widget-view+json": {
       "model_id": "a38145ad9e5f485c892ddd1baa046863",
       "version_major": 2,
       "version_minor": 0
      },
      "text/plain": [
       "Minibatches:   0%|          | 0/2 [00:00<?, ?it/s]"
      ]
     },
     "metadata": {},
     "output_type": "display_data"
    },
    {
     "data": {
      "application/vnd.jupyter.widget-view+json": {
       "model_id": "601656acf5354360b38434f1b09c948b",
       "version_major": 2,
       "version_minor": 0
      },
      "text/plain": [
       "Minibatches:   0%|          | 0/1 [00:00<?, ?it/s]"
      ]
     },
     "metadata": {},
     "output_type": "display_data"
    },
    {
     "data": {
      "application/vnd.jupyter.widget-view+json": {
       "model_id": "0bb16b43e2404720ad21674bc39cd866",
       "version_major": 2,
       "version_minor": 0
      },
      "text/plain": [
       "Datasets:   0%|          | 0/3 [00:00<?, ?it/s]"
      ]
     },
     "metadata": {},
     "output_type": "display_data"
    },
    {
     "data": {
      "application/vnd.jupyter.widget-view+json": {
       "model_id": "fde3c075ecdb40ea83126fcb7f50f7a9",
       "version_major": 2,
       "version_minor": 0
      },
      "text/plain": [
       "Minibatches:   0%|          | 0/1 [00:00<?, ?it/s]"
      ]
     },
     "metadata": {},
     "output_type": "display_data"
    },
    {
     "data": {
      "application/vnd.jupyter.widget-view+json": {
       "model_id": "8bdfc440f9974481a7a361c2b61033f0",
       "version_major": 2,
       "version_minor": 0
      },
      "text/plain": [
       "Minibatches:   0%|          | 0/1 [00:00<?, ?it/s]"
      ]
     },
     "metadata": {},
     "output_type": "display_data"
    },
    {
     "data": {
      "application/vnd.jupyter.widget-view+json": {
       "model_id": "5d36318154ac48e286779bb926d1bb54",
       "version_major": 2,
       "version_minor": 0
      },
      "text/plain": [
       "Minibatches:   0%|          | 0/36 [00:00<?, ?it/s]"
      ]
     },
     "metadata": {},
     "output_type": "display_data"
    },
    {
     "data": {
      "application/vnd.jupyter.widget-view+json": {
       "model_id": "2694573c64f349d390fe20b66921a56b",
       "version_major": 2,
       "version_minor": 0
      },
      "text/plain": [
       "Minibatches:   0%|          | 0/18 [00:00<?, ?it/s]"
      ]
     },
     "metadata": {},
     "output_type": "display_data"
    },
    {
     "data": {
      "application/vnd.jupyter.widget-view+json": {
       "model_id": "11f80d591ec4460b9db82f382a574f18",
       "version_major": 2,
       "version_minor": 0
      },
      "text/plain": [
       "Minibatches:   0%|          | 0/2 [00:00<?, ?it/s]"
      ]
     },
     "metadata": {},
     "output_type": "display_data"
    },
    {
     "data": {
      "application/vnd.jupyter.widget-view+json": {
       "model_id": "e4b478e62a8c45338c6b20f7cc78b16b",
       "version_major": 2,
       "version_minor": 0
      },
      "text/plain": [
       "Minibatches:   0%|          | 0/1 [00:00<?, ?it/s]"
      ]
     },
     "metadata": {},
     "output_type": "display_data"
    },
    {
     "data": {
      "application/vnd.jupyter.widget-view+json": {
       "model_id": "cd06233fe9bd41738b6a066233e5f195",
       "version_major": 2,
       "version_minor": 0
      },
      "text/plain": [
       "Datasets:   0%|          | 0/3 [00:00<?, ?it/s]"
      ]
     },
     "metadata": {},
     "output_type": "display_data"
    },
    {
     "data": {
      "application/vnd.jupyter.widget-view+json": {
       "model_id": "71ce4b3da2804ae1ab922c51d36961a8",
       "version_major": 2,
       "version_minor": 0
      },
      "text/plain": [
       "Minibatches:   0%|          | 0/1 [00:00<?, ?it/s]"
      ]
     },
     "metadata": {},
     "output_type": "display_data"
    },
    {
     "data": {
      "application/vnd.jupyter.widget-view+json": {
       "model_id": "e9dedf5d8a4a4dfca51efb2be79e9cbb",
       "version_major": 2,
       "version_minor": 0
      },
      "text/plain": [
       "Minibatches:   0%|          | 0/1 [00:00<?, ?it/s]"
      ]
     },
     "metadata": {},
     "output_type": "display_data"
    },
    {
     "data": {
      "application/vnd.jupyter.widget-view+json": {
       "model_id": "d27794f441a84855b50b7e56c5a6610c",
       "version_major": 2,
       "version_minor": 0
      },
      "text/plain": [
       "Minibatches:   0%|          | 0/36 [00:00<?, ?it/s]"
      ]
     },
     "metadata": {},
     "output_type": "display_data"
    },
    {
     "data": {
      "application/vnd.jupyter.widget-view+json": {
       "model_id": "cacd9ff68db249a59ff5528e6e03306a",
       "version_major": 2,
       "version_minor": 0
      },
      "text/plain": [
       "Minibatches:   0%|          | 0/18 [00:00<?, ?it/s]"
      ]
     },
     "metadata": {},
     "output_type": "display_data"
    },
    {
     "data": {
      "application/vnd.jupyter.widget-view+json": {
       "model_id": "9f0dc62353704304971484b6512d1dae",
       "version_major": 2,
       "version_minor": 0
      },
      "text/plain": [
       "Minibatches:   0%|          | 0/2 [00:00<?, ?it/s]"
      ]
     },
     "metadata": {},
     "output_type": "display_data"
    },
    {
     "data": {
      "application/vnd.jupyter.widget-view+json": {
       "model_id": "29d5c514f36c4b00bdc5011988ab4b8f",
       "version_major": 2,
       "version_minor": 0
      },
      "text/plain": [
       "Minibatches:   0%|          | 0/1 [00:00<?, ?it/s]"
      ]
     },
     "metadata": {},
     "output_type": "display_data"
    },
    {
     "data": {
      "application/vnd.jupyter.widget-view+json": {
       "model_id": "bd77e80fc37843879be64301f8b39dc2",
       "version_major": 2,
       "version_minor": 0
      },
      "text/plain": [
       "Datasets:   0%|          | 0/3 [00:00<?, ?it/s]"
      ]
     },
     "metadata": {},
     "output_type": "display_data"
    },
    {
     "data": {
      "application/vnd.jupyter.widget-view+json": {
       "model_id": "87129d9c14fc4935aedab7a396c5da76",
       "version_major": 2,
       "version_minor": 0
      },
      "text/plain": [
       "Minibatches:   0%|          | 0/1 [00:00<?, ?it/s]"
      ]
     },
     "metadata": {},
     "output_type": "display_data"
    },
    {
     "data": {
      "application/vnd.jupyter.widget-view+json": {
       "model_id": "81bff38d5f4045048af2e8a01ee6c192",
       "version_major": 2,
       "version_minor": 0
      },
      "text/plain": [
       "Minibatches:   0%|          | 0/1 [00:00<?, ?it/s]"
      ]
     },
     "metadata": {},
     "output_type": "display_data"
    },
    {
     "data": {
      "application/vnd.jupyter.widget-view+json": {
       "model_id": "53ed62b830df46f1b1c98185bd4a8bc5",
       "version_major": 2,
       "version_minor": 0
      },
      "text/plain": [
       "Minibatches:   0%|          | 0/36 [00:00<?, ?it/s]"
      ]
     },
     "metadata": {},
     "output_type": "display_data"
    },
    {
     "data": {
      "application/vnd.jupyter.widget-view+json": {
       "model_id": "2766c2157c6f4f4d92f2416ce41924ea",
       "version_major": 2,
       "version_minor": 0
      },
      "text/plain": [
       "Minibatches:   0%|          | 0/18 [00:00<?, ?it/s]"
      ]
     },
     "metadata": {},
     "output_type": "display_data"
    },
    {
     "data": {
      "application/vnd.jupyter.widget-view+json": {
       "model_id": "24ddf9e5b15b408aab2ed1a5645830ed",
       "version_major": 2,
       "version_minor": 0
      },
      "text/plain": [
       "Minibatches:   0%|          | 0/2 [00:00<?, ?it/s]"
      ]
     },
     "metadata": {},
     "output_type": "display_data"
    },
    {
     "data": {
      "application/vnd.jupyter.widget-view+json": {
       "model_id": "8ff29c82ffee4ca3850ddf50aa5c6de0",
       "version_major": 2,
       "version_minor": 0
      },
      "text/plain": [
       "Minibatches:   0%|          | 0/1 [00:00<?, ?it/s]"
      ]
     },
     "metadata": {},
     "output_type": "display_data"
    },
    {
     "data": {
      "application/vnd.jupyter.widget-view+json": {
       "model_id": "700e2d36aed044a5bc4c433e49322993",
       "version_major": 2,
       "version_minor": 0
      },
      "text/plain": [
       "Datasets:   0%|          | 0/3 [00:00<?, ?it/s]"
      ]
     },
     "metadata": {},
     "output_type": "display_data"
    },
    {
     "data": {
      "application/vnd.jupyter.widget-view+json": {
       "model_id": "95ee472ad7f14828a97f8ffc0ce57213",
       "version_major": 2,
       "version_minor": 0
      },
      "text/plain": [
       "Minibatches:   0%|          | 0/1 [00:00<?, ?it/s]"
      ]
     },
     "metadata": {},
     "output_type": "display_data"
    },
    {
     "data": {
      "application/vnd.jupyter.widget-view+json": {
       "model_id": "e2c160841eda4f78af1d8ac0f1c35231",
       "version_major": 2,
       "version_minor": 0
      },
      "text/plain": [
       "Minibatches:   0%|          | 0/1 [00:00<?, ?it/s]"
      ]
     },
     "metadata": {},
     "output_type": "display_data"
    },
    {
     "data": {
      "application/vnd.jupyter.widget-view+json": {
       "model_id": "d597160237524e01b20c975ed5b8cce2",
       "version_major": 2,
       "version_minor": 0
      },
      "text/plain": [
       "Minibatches:   0%|          | 0/36 [00:00<?, ?it/s]"
      ]
     },
     "metadata": {},
     "output_type": "display_data"
    },
    {
     "data": {
      "application/vnd.jupyter.widget-view+json": {
       "model_id": "97c1ae7ea33c415899d8406c84a0c8f4",
       "version_major": 2,
       "version_minor": 0
      },
      "text/plain": [
       "Minibatches:   0%|          | 0/18 [00:00<?, ?it/s]"
      ]
     },
     "metadata": {},
     "output_type": "display_data"
    },
    {
     "data": {
      "application/vnd.jupyter.widget-view+json": {
       "model_id": "ad0b70d0e09f4963acd2ceb5539c2e04",
       "version_major": 2,
       "version_minor": 0
      },
      "text/plain": [
       "Minibatches:   0%|          | 0/2 [00:00<?, ?it/s]"
      ]
     },
     "metadata": {},
     "output_type": "display_data"
    },
    {
     "data": {
      "application/vnd.jupyter.widget-view+json": {
       "model_id": "13f37ec2d69f4ef78c12bff9dc150178",
       "version_major": 2,
       "version_minor": 0
      },
      "text/plain": [
       "Minibatches:   0%|          | 0/1 [00:00<?, ?it/s]"
      ]
     },
     "metadata": {},
     "output_type": "display_data"
    },
    {
     "data": {
      "application/vnd.jupyter.widget-view+json": {
       "model_id": "611f47ae9b834f8d884973623f26f8da",
       "version_major": 2,
       "version_minor": 0
      },
      "text/plain": [
       "Datasets:   0%|          | 0/3 [00:00<?, ?it/s]"
      ]
     },
     "metadata": {},
     "output_type": "display_data"
    },
    {
     "data": {
      "application/vnd.jupyter.widget-view+json": {
       "model_id": "c2f65f8c5daa4ab9ac4dcb0f48635e9f",
       "version_major": 2,
       "version_minor": 0
      },
      "text/plain": [
       "Minibatches:   0%|          | 0/1 [00:00<?, ?it/s]"
      ]
     },
     "metadata": {},
     "output_type": "display_data"
    },
    {
     "data": {
      "application/vnd.jupyter.widget-view+json": {
       "model_id": "2fb2d7d904f346cebb5f5a3e1f1fa7bc",
       "version_major": 2,
       "version_minor": 0
      },
      "text/plain": [
       "Minibatches:   0%|          | 0/1 [00:00<?, ?it/s]"
      ]
     },
     "metadata": {},
     "output_type": "display_data"
    },
    {
     "data": {
      "application/vnd.jupyter.widget-view+json": {
       "model_id": "a7d721fb1a5247aba5be5db4cd605f53",
       "version_major": 2,
       "version_minor": 0
      },
      "text/plain": [
       "Minibatches:   0%|          | 0/36 [00:00<?, ?it/s]"
      ]
     },
     "metadata": {},
     "output_type": "display_data"
    },
    {
     "data": {
      "application/vnd.jupyter.widget-view+json": {
       "model_id": "3204a71a8d9b4cfabbc8a8cc4aade427",
       "version_major": 2,
       "version_minor": 0
      },
      "text/plain": [
       "Minibatches:   0%|          | 0/18 [00:00<?, ?it/s]"
      ]
     },
     "metadata": {},
     "output_type": "display_data"
    },
    {
     "data": {
      "application/vnd.jupyter.widget-view+json": {
       "model_id": "7d508c4d74c44888bb9dcd36650a87c8",
       "version_major": 2,
       "version_minor": 0
      },
      "text/plain": [
       "Minibatches:   0%|          | 0/2 [00:00<?, ?it/s]"
      ]
     },
     "metadata": {},
     "output_type": "display_data"
    },
    {
     "data": {
      "application/vnd.jupyter.widget-view+json": {
       "model_id": "9fccfbe5e0974d40890af93c0f7fa769",
       "version_major": 2,
       "version_minor": 0
      },
      "text/plain": [
       "Minibatches:   0%|          | 0/1 [00:00<?, ?it/s]"
      ]
     },
     "metadata": {},
     "output_type": "display_data"
    },
    {
     "data": {
      "application/vnd.jupyter.widget-view+json": {
       "model_id": "3795706dbf274d54b49c918031327881",
       "version_major": 2,
       "version_minor": 0
      },
      "text/plain": [
       "Datasets:   0%|          | 0/3 [00:00<?, ?it/s]"
      ]
     },
     "metadata": {},
     "output_type": "display_data"
    },
    {
     "data": {
      "application/vnd.jupyter.widget-view+json": {
       "model_id": "742f9c3d04bc411fb7cb2f5c0d36eee7",
       "version_major": 2,
       "version_minor": 0
      },
      "text/plain": [
       "Minibatches:   0%|          | 0/1 [00:00<?, ?it/s]"
      ]
     },
     "metadata": {},
     "output_type": "display_data"
    },
    {
     "data": {
      "application/vnd.jupyter.widget-view+json": {
       "model_id": "c3c0001bb7d34d5580fb200c680a90e5",
       "version_major": 2,
       "version_minor": 0
      },
      "text/plain": [
       "Minibatches:   0%|          | 0/1 [00:00<?, ?it/s]"
      ]
     },
     "metadata": {},
     "output_type": "display_data"
    },
    {
     "data": {
      "application/vnd.jupyter.widget-view+json": {
       "model_id": "dad03eeea10f49b0863216adaad83a02",
       "version_major": 2,
       "version_minor": 0
      },
      "text/plain": [
       "Minibatches:   0%|          | 0/36 [00:00<?, ?it/s]"
      ]
     },
     "metadata": {},
     "output_type": "display_data"
    },
    {
     "data": {
      "application/vnd.jupyter.widget-view+json": {
       "model_id": "3c09366a065746bdbe5824a2c21d8f6b",
       "version_major": 2,
       "version_minor": 0
      },
      "text/plain": [
       "Minibatches:   0%|          | 0/18 [00:00<?, ?it/s]"
      ]
     },
     "metadata": {},
     "output_type": "display_data"
    },
    {
     "data": {
      "application/vnd.jupyter.widget-view+json": {
       "model_id": "3aaf7201b9494b879354f1b92159bd38",
       "version_major": 2,
       "version_minor": 0
      },
      "text/plain": [
       "Minibatches:   0%|          | 0/2 [00:00<?, ?it/s]"
      ]
     },
     "metadata": {},
     "output_type": "display_data"
    },
    {
     "data": {
      "application/vnd.jupyter.widget-view+json": {
       "model_id": "55fb999a56ab4e968e933a4736cff38d",
       "version_major": 2,
       "version_minor": 0
      },
      "text/plain": [
       "Minibatches:   0%|          | 0/1 [00:00<?, ?it/s]"
      ]
     },
     "metadata": {},
     "output_type": "display_data"
    },
    {
     "name": "stdout",
     "output_type": "stream",
     "text": [
      "INFO: Early stopping counter 1 of 5\n"
     ]
    },
    {
     "data": {
      "application/vnd.jupyter.widget-view+json": {
       "model_id": "97e2b880b0ac466fa916251cd69ba595",
       "version_major": 2,
       "version_minor": 0
      },
      "text/plain": [
       "Datasets:   0%|          | 0/3 [00:00<?, ?it/s]"
      ]
     },
     "metadata": {},
     "output_type": "display_data"
    },
    {
     "data": {
      "application/vnd.jupyter.widget-view+json": {
       "model_id": "a4347a119ed94aaa813b4995f326d9a7",
       "version_major": 2,
       "version_minor": 0
      },
      "text/plain": [
       "Minibatches:   0%|          | 0/1 [00:00<?, ?it/s]"
      ]
     },
     "metadata": {},
     "output_type": "display_data"
    },
    {
     "data": {
      "application/vnd.jupyter.widget-view+json": {
       "model_id": "774d01ab38434e1b9408113a1d098d70",
       "version_major": 2,
       "version_minor": 0
      },
      "text/plain": [
       "Minibatches:   0%|          | 0/1 [00:00<?, ?it/s]"
      ]
     },
     "metadata": {},
     "output_type": "display_data"
    },
    {
     "data": {
      "application/vnd.jupyter.widget-view+json": {
       "model_id": "fe39ff5cce3f40888de471d3b2f521da",
       "version_major": 2,
       "version_minor": 0
      },
      "text/plain": [
       "Minibatches:   0%|          | 0/36 [00:00<?, ?it/s]"
      ]
     },
     "metadata": {},
     "output_type": "display_data"
    },
    {
     "data": {
      "application/vnd.jupyter.widget-view+json": {
       "model_id": "9f5946e2978e44d6b697a0136fbcbc6e",
       "version_major": 2,
       "version_minor": 0
      },
      "text/plain": [
       "Minibatches:   0%|          | 0/18 [00:00<?, ?it/s]"
      ]
     },
     "metadata": {},
     "output_type": "display_data"
    },
    {
     "data": {
      "application/vnd.jupyter.widget-view+json": {
       "model_id": "ac781a5875b044fca3786d80f2eee754",
       "version_major": 2,
       "version_minor": 0
      },
      "text/plain": [
       "Minibatches:   0%|          | 0/2 [00:00<?, ?it/s]"
      ]
     },
     "metadata": {},
     "output_type": "display_data"
    },
    {
     "data": {
      "application/vnd.jupyter.widget-view+json": {
       "model_id": "aab18d44b82a450ca49a9ee612652332",
       "version_major": 2,
       "version_minor": 0
      },
      "text/plain": [
       "Minibatches:   0%|          | 0/1 [00:00<?, ?it/s]"
      ]
     },
     "metadata": {},
     "output_type": "display_data"
    },
    {
     "data": {
      "application/vnd.jupyter.widget-view+json": {
       "model_id": "25ec3c34bfb54ffd95ff20104e2f76ae",
       "version_major": 2,
       "version_minor": 0
      },
      "text/plain": [
       "Datasets:   0%|          | 0/3 [00:00<?, ?it/s]"
      ]
     },
     "metadata": {},
     "output_type": "display_data"
    },
    {
     "data": {
      "application/vnd.jupyter.widget-view+json": {
       "model_id": "800da47f0caf4ed5887726e990c1d3c0",
       "version_major": 2,
       "version_minor": 0
      },
      "text/plain": [
       "Minibatches:   0%|          | 0/1 [00:00<?, ?it/s]"
      ]
     },
     "metadata": {},
     "output_type": "display_data"
    },
    {
     "data": {
      "application/vnd.jupyter.widget-view+json": {
       "model_id": "0e727c1772ed40088845592c916c081d",
       "version_major": 2,
       "version_minor": 0
      },
      "text/plain": [
       "Minibatches:   0%|          | 0/1 [00:00<?, ?it/s]"
      ]
     },
     "metadata": {},
     "output_type": "display_data"
    },
    {
     "data": {
      "application/vnd.jupyter.widget-view+json": {
       "model_id": "42e641554f5647b4b06339b317322b90",
       "version_major": 2,
       "version_minor": 0
      },
      "text/plain": [
       "Minibatches:   0%|          | 0/36 [00:00<?, ?it/s]"
      ]
     },
     "metadata": {},
     "output_type": "display_data"
    },
    {
     "data": {
      "application/vnd.jupyter.widget-view+json": {
       "model_id": "50c51b9471614523b11c9beee452dd8d",
       "version_major": 2,
       "version_minor": 0
      },
      "text/plain": [
       "Minibatches:   0%|          | 0/18 [00:00<?, ?it/s]"
      ]
     },
     "metadata": {},
     "output_type": "display_data"
    },
    {
     "data": {
      "application/vnd.jupyter.widget-view+json": {
       "model_id": "26d7349a6f0448259320f46e745f54ed",
       "version_major": 2,
       "version_minor": 0
      },
      "text/plain": [
       "Minibatches:   0%|          | 0/2 [00:00<?, ?it/s]"
      ]
     },
     "metadata": {},
     "output_type": "display_data"
    },
    {
     "data": {
      "application/vnd.jupyter.widget-view+json": {
       "model_id": "54d696a6a88b4fee92b065f23c0a658a",
       "version_major": 2,
       "version_minor": 0
      },
      "text/plain": [
       "Minibatches:   0%|          | 0/1 [00:00<?, ?it/s]"
      ]
     },
     "metadata": {},
     "output_type": "display_data"
    },
    {
     "name": "stdout",
     "output_type": "stream",
     "text": [
      "INFO: Early stopping counter 2 of 5\n"
     ]
    },
    {
     "data": {
      "application/vnd.jupyter.widget-view+json": {
       "model_id": "bd8e48ec7dda4329ad7d5c0a35eaea92",
       "version_major": 2,
       "version_minor": 0
      },
      "text/plain": [
       "Datasets:   0%|          | 0/3 [00:00<?, ?it/s]"
      ]
     },
     "metadata": {},
     "output_type": "display_data"
    },
    {
     "data": {
      "application/vnd.jupyter.widget-view+json": {
       "model_id": "b5a5df9294934a13a0387854e7a7f01a",
       "version_major": 2,
       "version_minor": 0
      },
      "text/plain": [
       "Minibatches:   0%|          | 0/1 [00:00<?, ?it/s]"
      ]
     },
     "metadata": {},
     "output_type": "display_data"
    },
    {
     "data": {
      "application/vnd.jupyter.widget-view+json": {
       "model_id": "4cfde40b4a914c86ac26e8768c755389",
       "version_major": 2,
       "version_minor": 0
      },
      "text/plain": [
       "Minibatches:   0%|          | 0/1 [00:00<?, ?it/s]"
      ]
     },
     "metadata": {},
     "output_type": "display_data"
    },
    {
     "data": {
      "application/vnd.jupyter.widget-view+json": {
       "model_id": "02a416ce3ea648bbbf817f25d440435d",
       "version_major": 2,
       "version_minor": 0
      },
      "text/plain": [
       "Minibatches:   0%|          | 0/36 [00:00<?, ?it/s]"
      ]
     },
     "metadata": {},
     "output_type": "display_data"
    },
    {
     "data": {
      "application/vnd.jupyter.widget-view+json": {
       "model_id": "9bfbdacddb704c28bb0b6f2b594de8a8",
       "version_major": 2,
       "version_minor": 0
      },
      "text/plain": [
       "Minibatches:   0%|          | 0/18 [00:00<?, ?it/s]"
      ]
     },
     "metadata": {},
     "output_type": "display_data"
    },
    {
     "data": {
      "application/vnd.jupyter.widget-view+json": {
       "model_id": "b1f0eb40716d487abc1c4ec7c28e14e9",
       "version_major": 2,
       "version_minor": 0
      },
      "text/plain": [
       "Minibatches:   0%|          | 0/2 [00:00<?, ?it/s]"
      ]
     },
     "metadata": {},
     "output_type": "display_data"
    },
    {
     "data": {
      "application/vnd.jupyter.widget-view+json": {
       "model_id": "09eeb541fb0c40d98dfa54cbc08fb937",
       "version_major": 2,
       "version_minor": 0
      },
      "text/plain": [
       "Minibatches:   0%|          | 0/1 [00:00<?, ?it/s]"
      ]
     },
     "metadata": {},
     "output_type": "display_data"
    },
    {
     "data": {
      "application/vnd.jupyter.widget-view+json": {
       "model_id": "66194a4499e242b9b7cbf54eddd03459",
       "version_major": 2,
       "version_minor": 0
      },
      "text/plain": [
       "Datasets:   0%|          | 0/3 [00:00<?, ?it/s]"
      ]
     },
     "metadata": {},
     "output_type": "display_data"
    },
    {
     "data": {
      "application/vnd.jupyter.widget-view+json": {
       "model_id": "f07a4644596c4508b13259e1db6e49d0",
       "version_major": 2,
       "version_minor": 0
      },
      "text/plain": [
       "Minibatches:   0%|          | 0/1 [00:00<?, ?it/s]"
      ]
     },
     "metadata": {},
     "output_type": "display_data"
    },
    {
     "data": {
      "application/vnd.jupyter.widget-view+json": {
       "model_id": "a74c562f944f4107bf1cd593911ab5ba",
       "version_major": 2,
       "version_minor": 0
      },
      "text/plain": [
       "Minibatches:   0%|          | 0/1 [00:00<?, ?it/s]"
      ]
     },
     "metadata": {},
     "output_type": "display_data"
    },
    {
     "data": {
      "application/vnd.jupyter.widget-view+json": {
       "model_id": "5915a975c97f45889d9e5eb858f1a92c",
       "version_major": 2,
       "version_minor": 0
      },
      "text/plain": [
       "Minibatches:   0%|          | 0/36 [00:00<?, ?it/s]"
      ]
     },
     "metadata": {},
     "output_type": "display_data"
    },
    {
     "data": {
      "application/vnd.jupyter.widget-view+json": {
       "model_id": "cd386803c3154fbb9d87b38f1019881e",
       "version_major": 2,
       "version_minor": 0
      },
      "text/plain": [
       "Minibatches:   0%|          | 0/18 [00:00<?, ?it/s]"
      ]
     },
     "metadata": {},
     "output_type": "display_data"
    },
    {
     "data": {
      "application/vnd.jupyter.widget-view+json": {
       "model_id": "5b2947dcecc74107afa5f1d0802494fc",
       "version_major": 2,
       "version_minor": 0
      },
      "text/plain": [
       "Minibatches:   0%|          | 0/2 [00:00<?, ?it/s]"
      ]
     },
     "metadata": {},
     "output_type": "display_data"
    },
    {
     "data": {
      "application/vnd.jupyter.widget-view+json": {
       "model_id": "35d12197bf1846d8b281045d6b0aa9eb",
       "version_major": 2,
       "version_minor": 0
      },
      "text/plain": [
       "Minibatches:   0%|          | 0/1 [00:00<?, ?it/s]"
      ]
     },
     "metadata": {},
     "output_type": "display_data"
    },
    {
     "data": {
      "application/vnd.jupyter.widget-view+json": {
       "model_id": "a8a7ee85b9c448e6abaacbfcedb9e263",
       "version_major": 2,
       "version_minor": 0
      },
      "text/plain": [
       "Datasets:   0%|          | 0/3 [00:00<?, ?it/s]"
      ]
     },
     "metadata": {},
     "output_type": "display_data"
    },
    {
     "data": {
      "application/vnd.jupyter.widget-view+json": {
       "model_id": "d9f12f75615d4a4c83762e607f996375",
       "version_major": 2,
       "version_minor": 0
      },
      "text/plain": [
       "Minibatches:   0%|          | 0/1 [00:00<?, ?it/s]"
      ]
     },
     "metadata": {},
     "output_type": "display_data"
    },
    {
     "data": {
      "application/vnd.jupyter.widget-view+json": {
       "model_id": "dab601fbdf6f4134890c6d1fedaf654c",
       "version_major": 2,
       "version_minor": 0
      },
      "text/plain": [
       "Minibatches:   0%|          | 0/1 [00:00<?, ?it/s]"
      ]
     },
     "metadata": {},
     "output_type": "display_data"
    },
    {
     "data": {
      "application/vnd.jupyter.widget-view+json": {
       "model_id": "9ab8ee286fd9444988e74cb851d63635",
       "version_major": 2,
       "version_minor": 0
      },
      "text/plain": [
       "Minibatches:   0%|          | 0/36 [00:00<?, ?it/s]"
      ]
     },
     "metadata": {},
     "output_type": "display_data"
    },
    {
     "data": {
      "application/vnd.jupyter.widget-view+json": {
       "model_id": "8fa3584b94084ba7b2b3b714e7b7fb6e",
       "version_major": 2,
       "version_minor": 0
      },
      "text/plain": [
       "Minibatches:   0%|          | 0/18 [00:00<?, ?it/s]"
      ]
     },
     "metadata": {},
     "output_type": "display_data"
    },
    {
     "data": {
      "application/vnd.jupyter.widget-view+json": {
       "model_id": "ff6a2dc75d134803b7e2d4e2771e1d00",
       "version_major": 2,
       "version_minor": 0
      },
      "text/plain": [
       "Minibatches:   0%|          | 0/2 [00:00<?, ?it/s]"
      ]
     },
     "metadata": {},
     "output_type": "display_data"
    },
    {
     "data": {
      "application/vnd.jupyter.widget-view+json": {
       "model_id": "6d48e42cc5684158b908fbe736b9e3a7",
       "version_major": 2,
       "version_minor": 0
      },
      "text/plain": [
       "Minibatches:   0%|          | 0/1 [00:00<?, ?it/s]"
      ]
     },
     "metadata": {},
     "output_type": "display_data"
    },
    {
     "data": {
      "application/vnd.jupyter.widget-view+json": {
       "model_id": "fd2c61abb5fb4579a69cacd64c2c5ea2",
       "version_major": 2,
       "version_minor": 0
      },
      "text/plain": [
       "Datasets:   0%|          | 0/3 [00:00<?, ?it/s]"
      ]
     },
     "metadata": {},
     "output_type": "display_data"
    },
    {
     "data": {
      "application/vnd.jupyter.widget-view+json": {
       "model_id": "0e3682d97adc4f62aad89052bd29113f",
       "version_major": 2,
       "version_minor": 0
      },
      "text/plain": [
       "Minibatches:   0%|          | 0/1 [00:00<?, ?it/s]"
      ]
     },
     "metadata": {},
     "output_type": "display_data"
    },
    {
     "data": {
      "application/vnd.jupyter.widget-view+json": {
       "model_id": "4f0c0784bb774bb6ababf9eace00c6fe",
       "version_major": 2,
       "version_minor": 0
      },
      "text/plain": [
       "Minibatches:   0%|          | 0/1 [00:00<?, ?it/s]"
      ]
     },
     "metadata": {},
     "output_type": "display_data"
    },
    {
     "data": {
      "application/vnd.jupyter.widget-view+json": {
       "model_id": "0cd32a4d36c1401ebd6c4f567e08c59a",
       "version_major": 2,
       "version_minor": 0
      },
      "text/plain": [
       "Minibatches:   0%|          | 0/36 [00:00<?, ?it/s]"
      ]
     },
     "metadata": {},
     "output_type": "display_data"
    },
    {
     "data": {
      "application/vnd.jupyter.widget-view+json": {
       "model_id": "80c3ecd4b8ec4546aedd7c64987b6a10",
       "version_major": 2,
       "version_minor": 0
      },
      "text/plain": [
       "Minibatches:   0%|          | 0/18 [00:00<?, ?it/s]"
      ]
     },
     "metadata": {},
     "output_type": "display_data"
    },
    {
     "data": {
      "application/vnd.jupyter.widget-view+json": {
       "model_id": "b915633ae94d49e391b8da3fbaa7557e",
       "version_major": 2,
       "version_minor": 0
      },
      "text/plain": [
       "Minibatches:   0%|          | 0/2 [00:00<?, ?it/s]"
      ]
     },
     "metadata": {},
     "output_type": "display_data"
    },
    {
     "data": {
      "application/vnd.jupyter.widget-view+json": {
       "model_id": "b52305ee62d641b4938e16f5c7e3d15b",
       "version_major": 2,
       "version_minor": 0
      },
      "text/plain": [
       "Minibatches:   0%|          | 0/1 [00:00<?, ?it/s]"
      ]
     },
     "metadata": {},
     "output_type": "display_data"
    },
    {
     "data": {
      "application/vnd.jupyter.widget-view+json": {
       "model_id": "26f9e20472ab45869b4d3072a2ba06c7",
       "version_major": 2,
       "version_minor": 0
      },
      "text/plain": [
       "Datasets:   0%|          | 0/3 [00:00<?, ?it/s]"
      ]
     },
     "metadata": {},
     "output_type": "display_data"
    },
    {
     "data": {
      "application/vnd.jupyter.widget-view+json": {
       "model_id": "dc9e6295158c47ebaa416976acf764ef",
       "version_major": 2,
       "version_minor": 0
      },
      "text/plain": [
       "Minibatches:   0%|          | 0/1 [00:00<?, ?it/s]"
      ]
     },
     "metadata": {},
     "output_type": "display_data"
    },
    {
     "data": {
      "application/vnd.jupyter.widget-view+json": {
       "model_id": "5f44c9014fae4ac6b4fdea47290f0253",
       "version_major": 2,
       "version_minor": 0
      },
      "text/plain": [
       "Minibatches:   0%|          | 0/1 [00:00<?, ?it/s]"
      ]
     },
     "metadata": {},
     "output_type": "display_data"
    },
    {
     "data": {
      "application/vnd.jupyter.widget-view+json": {
       "model_id": "9d7ecb24c6214bf7a45d8a542efc8412",
       "version_major": 2,
       "version_minor": 0
      },
      "text/plain": [
       "Minibatches:   0%|          | 0/36 [00:00<?, ?it/s]"
      ]
     },
     "metadata": {},
     "output_type": "display_data"
    },
    {
     "data": {
      "application/vnd.jupyter.widget-view+json": {
       "model_id": "0f601f4a8f2244c0a5010528ec6cb733",
       "version_major": 2,
       "version_minor": 0
      },
      "text/plain": [
       "Minibatches:   0%|          | 0/18 [00:00<?, ?it/s]"
      ]
     },
     "metadata": {},
     "output_type": "display_data"
    },
    {
     "data": {
      "application/vnd.jupyter.widget-view+json": {
       "model_id": "786d0b56e7d44aa197810d959c891dbd",
       "version_major": 2,
       "version_minor": 0
      },
      "text/plain": [
       "Minibatches:   0%|          | 0/2 [00:00<?, ?it/s]"
      ]
     },
     "metadata": {},
     "output_type": "display_data"
    },
    {
     "data": {
      "application/vnd.jupyter.widget-view+json": {
       "model_id": "21434d9fcd944143bda77a6b70ee9a92",
       "version_major": 2,
       "version_minor": 0
      },
      "text/plain": [
       "Minibatches:   0%|          | 0/1 [00:00<?, ?it/s]"
      ]
     },
     "metadata": {},
     "output_type": "display_data"
    },
    {
     "data": {
      "application/vnd.jupyter.widget-view+json": {
       "model_id": "f7c09481e0484476886c7d3b9149acaa",
       "version_major": 2,
       "version_minor": 0
      },
      "text/plain": [
       "Datasets:   0%|          | 0/3 [00:00<?, ?it/s]"
      ]
     },
     "metadata": {},
     "output_type": "display_data"
    },
    {
     "data": {
      "application/vnd.jupyter.widget-view+json": {
       "model_id": "efc6734422ab42baaae3cd494f3167e4",
       "version_major": 2,
       "version_minor": 0
      },
      "text/plain": [
       "Minibatches:   0%|          | 0/1 [00:00<?, ?it/s]"
      ]
     },
     "metadata": {},
     "output_type": "display_data"
    },
    {
     "data": {
      "application/vnd.jupyter.widget-view+json": {
       "model_id": "03da4d8202614ad6a6a2c2a72833afe8",
       "version_major": 2,
       "version_minor": 0
      },
      "text/plain": [
       "Minibatches:   0%|          | 0/1 [00:00<?, ?it/s]"
      ]
     },
     "metadata": {},
     "output_type": "display_data"
    },
    {
     "data": {
      "application/vnd.jupyter.widget-view+json": {
       "model_id": "af66b657d1c041a5b1bb3e5ef279f3a8",
       "version_major": 2,
       "version_minor": 0
      },
      "text/plain": [
       "Minibatches:   0%|          | 0/36 [00:00<?, ?it/s]"
      ]
     },
     "metadata": {},
     "output_type": "display_data"
    },
    {
     "data": {
      "application/vnd.jupyter.widget-view+json": {
       "model_id": "477869eed71c4eaebb65f6eb0d895931",
       "version_major": 2,
       "version_minor": 0
      },
      "text/plain": [
       "Minibatches:   0%|          | 0/18 [00:00<?, ?it/s]"
      ]
     },
     "metadata": {},
     "output_type": "display_data"
    },
    {
     "data": {
      "application/vnd.jupyter.widget-view+json": {
       "model_id": "00c3b47c002342b6850d49d98f10eda2",
       "version_major": 2,
       "version_minor": 0
      },
      "text/plain": [
       "Minibatches:   0%|          | 0/2 [00:00<?, ?it/s]"
      ]
     },
     "metadata": {},
     "output_type": "display_data"
    },
    {
     "data": {
      "application/vnd.jupyter.widget-view+json": {
       "model_id": "8a26c895dd8644fd94fa8d9d7be2d2c6",
       "version_major": 2,
       "version_minor": 0
      },
      "text/plain": [
       "Minibatches:   0%|          | 0/1 [00:00<?, ?it/s]"
      ]
     },
     "metadata": {},
     "output_type": "display_data"
    },
    {
     "data": {
      "application/vnd.jupyter.widget-view+json": {
       "model_id": "7273484afccf4478b0f0c2ca9bf90ba2",
       "version_major": 2,
       "version_minor": 0
      },
      "text/plain": [
       "Datasets:   0%|          | 0/3 [00:00<?, ?it/s]"
      ]
     },
     "metadata": {},
     "output_type": "display_data"
    },
    {
     "data": {
      "application/vnd.jupyter.widget-view+json": {
       "model_id": "4386ae3b3b124c9682be5d4683c37dc3",
       "version_major": 2,
       "version_minor": 0
      },
      "text/plain": [
       "Minibatches:   0%|          | 0/1 [00:00<?, ?it/s]"
      ]
     },
     "metadata": {},
     "output_type": "display_data"
    },
    {
     "data": {
      "application/vnd.jupyter.widget-view+json": {
       "model_id": "eedf3d61cbcf468b8f0ea8bd84b9e141",
       "version_major": 2,
       "version_minor": 0
      },
      "text/plain": [
       "Minibatches:   0%|          | 0/1 [00:00<?, ?it/s]"
      ]
     },
     "metadata": {},
     "output_type": "display_data"
    },
    {
     "data": {
      "application/vnd.jupyter.widget-view+json": {
       "model_id": "1ca48cbec4504b66a4855127abbd1551",
       "version_major": 2,
       "version_minor": 0
      },
      "text/plain": [
       "Minibatches:   0%|          | 0/36 [00:00<?, ?it/s]"
      ]
     },
     "metadata": {},
     "output_type": "display_data"
    },
    {
     "data": {
      "application/vnd.jupyter.widget-view+json": {
       "model_id": "30faa879fd9e4d0ab79c84c2bb587453",
       "version_major": 2,
       "version_minor": 0
      },
      "text/plain": [
       "Minibatches:   0%|          | 0/18 [00:00<?, ?it/s]"
      ]
     },
     "metadata": {},
     "output_type": "display_data"
    },
    {
     "data": {
      "application/vnd.jupyter.widget-view+json": {
       "model_id": "81651b14689745ae9d22b6df96b373f5",
       "version_major": 2,
       "version_minor": 0
      },
      "text/plain": [
       "Minibatches:   0%|          | 0/2 [00:00<?, ?it/s]"
      ]
     },
     "metadata": {},
     "output_type": "display_data"
    },
    {
     "data": {
      "application/vnd.jupyter.widget-view+json": {
       "model_id": "4ace781750a040519c13b6cbd32b314d",
       "version_major": 2,
       "version_minor": 0
      },
      "text/plain": [
       "Minibatches:   0%|          | 0/1 [00:00<?, ?it/s]"
      ]
     },
     "metadata": {},
     "output_type": "display_data"
    },
    {
     "data": {
      "application/vnd.jupyter.widget-view+json": {
       "model_id": "7b0f6f5607ff49eabd5137fc748e08c9",
       "version_major": 2,
       "version_minor": 0
      },
      "text/plain": [
       "Datasets:   0%|          | 0/3 [00:00<?, ?it/s]"
      ]
     },
     "metadata": {},
     "output_type": "display_data"
    },
    {
     "data": {
      "application/vnd.jupyter.widget-view+json": {
       "model_id": "53fd3c97017f4f8586c57bb63a4876fc",
       "version_major": 2,
       "version_minor": 0
      },
      "text/plain": [
       "Minibatches:   0%|          | 0/1 [00:00<?, ?it/s]"
      ]
     },
     "metadata": {},
     "output_type": "display_data"
    },
    {
     "data": {
      "application/vnd.jupyter.widget-view+json": {
       "model_id": "ef5be7162aa84b18bf5fa8a27fc11daa",
       "version_major": 2,
       "version_minor": 0
      },
      "text/plain": [
       "Minibatches:   0%|          | 0/1 [00:00<?, ?it/s]"
      ]
     },
     "metadata": {},
     "output_type": "display_data"
    },
    {
     "data": {
      "application/vnd.jupyter.widget-view+json": {
       "model_id": "96b3672739924c49b6df46e5f019694e",
       "version_major": 2,
       "version_minor": 0
      },
      "text/plain": [
       "Minibatches:   0%|          | 0/36 [00:00<?, ?it/s]"
      ]
     },
     "metadata": {},
     "output_type": "display_data"
    },
    {
     "data": {
      "application/vnd.jupyter.widget-view+json": {
       "model_id": "785ed966a5714e90a5fd76c86cadf2ed",
       "version_major": 2,
       "version_minor": 0
      },
      "text/plain": [
       "Minibatches:   0%|          | 0/18 [00:00<?, ?it/s]"
      ]
     },
     "metadata": {},
     "output_type": "display_data"
    },
    {
     "data": {
      "application/vnd.jupyter.widget-view+json": {
       "model_id": "b3cbdb1697614f76a406f4e00436fcae",
       "version_major": 2,
       "version_minor": 0
      },
      "text/plain": [
       "Minibatches:   0%|          | 0/2 [00:00<?, ?it/s]"
      ]
     },
     "metadata": {},
     "output_type": "display_data"
    },
    {
     "data": {
      "application/vnd.jupyter.widget-view+json": {
       "model_id": "28766805d03d485bbbfac72f94aa388e",
       "version_major": 2,
       "version_minor": 0
      },
      "text/plain": [
       "Minibatches:   0%|          | 0/1 [00:00<?, ?it/s]"
      ]
     },
     "metadata": {},
     "output_type": "display_data"
    },
    {
     "data": {
      "application/vnd.jupyter.widget-view+json": {
       "model_id": "a57631b6fecf405a898e073b0be6063c",
       "version_major": 2,
       "version_minor": 0
      },
      "text/plain": [
       "Datasets:   0%|          | 0/3 [00:00<?, ?it/s]"
      ]
     },
     "metadata": {},
     "output_type": "display_data"
    },
    {
     "data": {
      "application/vnd.jupyter.widget-view+json": {
       "model_id": "bb62e661780e4fafbdf071edf81a9f46",
       "version_major": 2,
       "version_minor": 0
      },
      "text/plain": [
       "Minibatches:   0%|          | 0/1 [00:00<?, ?it/s]"
      ]
     },
     "metadata": {},
     "output_type": "display_data"
    },
    {
     "data": {
      "application/vnd.jupyter.widget-view+json": {
       "model_id": "411306d5ad1b43fb89e342d49463edb5",
       "version_major": 2,
       "version_minor": 0
      },
      "text/plain": [
       "Minibatches:   0%|          | 0/1 [00:00<?, ?it/s]"
      ]
     },
     "metadata": {},
     "output_type": "display_data"
    },
    {
     "data": {
      "application/vnd.jupyter.widget-view+json": {
       "model_id": "a84e4bcc583e47d199a90b63619ea8f1",
       "version_major": 2,
       "version_minor": 0
      },
      "text/plain": [
       "Minibatches:   0%|          | 0/36 [00:00<?, ?it/s]"
      ]
     },
     "metadata": {},
     "output_type": "display_data"
    },
    {
     "data": {
      "application/vnd.jupyter.widget-view+json": {
       "model_id": "184346778f6340579338f007872dda03",
       "version_major": 2,
       "version_minor": 0
      },
      "text/plain": [
       "Minibatches:   0%|          | 0/18 [00:00<?, ?it/s]"
      ]
     },
     "metadata": {},
     "output_type": "display_data"
    },
    {
     "data": {
      "application/vnd.jupyter.widget-view+json": {
       "model_id": "35bd202d053942f492336de3e63e9c9c",
       "version_major": 2,
       "version_minor": 0
      },
      "text/plain": [
       "Minibatches:   0%|          | 0/2 [00:00<?, ?it/s]"
      ]
     },
     "metadata": {},
     "output_type": "display_data"
    },
    {
     "data": {
      "application/vnd.jupyter.widget-view+json": {
       "model_id": "b41ea788732e42a4914dd51d37cd7425",
       "version_major": 2,
       "version_minor": 0
      },
      "text/plain": [
       "Minibatches:   0%|          | 0/1 [00:00<?, ?it/s]"
      ]
     },
     "metadata": {},
     "output_type": "display_data"
    },
    {
     "data": {
      "application/vnd.jupyter.widget-view+json": {
       "model_id": "3fddb76989e94588904e671161784477",
       "version_major": 2,
       "version_minor": 0
      },
      "text/plain": [
       "Datasets:   0%|          | 0/3 [00:00<?, ?it/s]"
      ]
     },
     "metadata": {},
     "output_type": "display_data"
    },
    {
     "data": {
      "application/vnd.jupyter.widget-view+json": {
       "model_id": "5632f78bd50c46549700d6807be64e71",
       "version_major": 2,
       "version_minor": 0
      },
      "text/plain": [
       "Minibatches:   0%|          | 0/1 [00:00<?, ?it/s]"
      ]
     },
     "metadata": {},
     "output_type": "display_data"
    },
    {
     "data": {
      "application/vnd.jupyter.widget-view+json": {
       "model_id": "feebf5cc1a26406bab75c0c587795cf8",
       "version_major": 2,
       "version_minor": 0
      },
      "text/plain": [
       "Minibatches:   0%|          | 0/1 [00:00<?, ?it/s]"
      ]
     },
     "metadata": {},
     "output_type": "display_data"
    },
    {
     "data": {
      "application/vnd.jupyter.widget-view+json": {
       "model_id": "4328fde948624b9797e60558adf39e6b",
       "version_major": 2,
       "version_minor": 0
      },
      "text/plain": [
       "Minibatches:   0%|          | 0/36 [00:00<?, ?it/s]"
      ]
     },
     "metadata": {},
     "output_type": "display_data"
    },
    {
     "data": {
      "application/vnd.jupyter.widget-view+json": {
       "model_id": "ecce6f2efc984afa96eabfe1ceb00a04",
       "version_major": 2,
       "version_minor": 0
      },
      "text/plain": [
       "Minibatches:   0%|          | 0/18 [00:00<?, ?it/s]"
      ]
     },
     "metadata": {},
     "output_type": "display_data"
    },
    {
     "data": {
      "application/vnd.jupyter.widget-view+json": {
       "model_id": "ce2cd19dcdbd43dcaca301b9a3cbc375",
       "version_major": 2,
       "version_minor": 0
      },
      "text/plain": [
       "Minibatches:   0%|          | 0/2 [00:00<?, ?it/s]"
      ]
     },
     "metadata": {},
     "output_type": "display_data"
    },
    {
     "data": {
      "application/vnd.jupyter.widget-view+json": {
       "model_id": "e100e216a2e242a88fd1212796dab5c2",
       "version_major": 2,
       "version_minor": 0
      },
      "text/plain": [
       "Minibatches:   0%|          | 0/1 [00:00<?, ?it/s]"
      ]
     },
     "metadata": {},
     "output_type": "display_data"
    },
    {
     "data": {
      "application/vnd.jupyter.widget-view+json": {
       "model_id": "487508d4cddb4d46994d8400731100d0",
       "version_major": 2,
       "version_minor": 0
      },
      "text/plain": [
       "Datasets:   0%|          | 0/3 [00:00<?, ?it/s]"
      ]
     },
     "metadata": {},
     "output_type": "display_data"
    },
    {
     "data": {
      "application/vnd.jupyter.widget-view+json": {
       "model_id": "4298d0beb4934ab1953134215e750811",
       "version_major": 2,
       "version_minor": 0
      },
      "text/plain": [
       "Minibatches:   0%|          | 0/1 [00:00<?, ?it/s]"
      ]
     },
     "metadata": {},
     "output_type": "display_data"
    },
    {
     "data": {
      "application/vnd.jupyter.widget-view+json": {
       "model_id": "4140885a00f2411f979f2875f30f1fc2",
       "version_major": 2,
       "version_minor": 0
      },
      "text/plain": [
       "Minibatches:   0%|          | 0/1 [00:00<?, ?it/s]"
      ]
     },
     "metadata": {},
     "output_type": "display_data"
    },
    {
     "data": {
      "application/vnd.jupyter.widget-view+json": {
       "model_id": "68a9e4cba8b94ff5b4c09300e58a41ed",
       "version_major": 2,
       "version_minor": 0
      },
      "text/plain": [
       "Minibatches:   0%|          | 0/36 [00:00<?, ?it/s]"
      ]
     },
     "metadata": {},
     "output_type": "display_data"
    },
    {
     "data": {
      "application/vnd.jupyter.widget-view+json": {
       "model_id": "6e0427e5db8e4493960110eba9ed0109",
       "version_major": 2,
       "version_minor": 0
      },
      "text/plain": [
       "Minibatches:   0%|          | 0/18 [00:00<?, ?it/s]"
      ]
     },
     "metadata": {},
     "output_type": "display_data"
    },
    {
     "data": {
      "application/vnd.jupyter.widget-view+json": {
       "model_id": "4988561c0fdb43a4b0f788cb6d68fd43",
       "version_major": 2,
       "version_minor": 0
      },
      "text/plain": [
       "Minibatches:   0%|          | 0/2 [00:00<?, ?it/s]"
      ]
     },
     "metadata": {},
     "output_type": "display_data"
    },
    {
     "data": {
      "application/vnd.jupyter.widget-view+json": {
       "model_id": "f54f89f2f4c64ac4ba5fc7f8a00198e8",
       "version_major": 2,
       "version_minor": 0
      },
      "text/plain": [
       "Minibatches:   0%|          | 0/1 [00:00<?, ?it/s]"
      ]
     },
     "metadata": {},
     "output_type": "display_data"
    },
    {
     "data": {
      "application/vnd.jupyter.widget-view+json": {
       "model_id": "a9d80025c4af45bdba64c62f9198db93",
       "version_major": 2,
       "version_minor": 0
      },
      "text/plain": [
       "Datasets:   0%|          | 0/3 [00:00<?, ?it/s]"
      ]
     },
     "metadata": {},
     "output_type": "display_data"
    },
    {
     "data": {
      "application/vnd.jupyter.widget-view+json": {
       "model_id": "25b9e33df2e04d0ab6f098df8d062356",
       "version_major": 2,
       "version_minor": 0
      },
      "text/plain": [
       "Minibatches:   0%|          | 0/1 [00:00<?, ?it/s]"
      ]
     },
     "metadata": {},
     "output_type": "display_data"
    },
    {
     "data": {
      "application/vnd.jupyter.widget-view+json": {
       "model_id": "856a9642964443c4a3eb5ec1f847f037",
       "version_major": 2,
       "version_minor": 0
      },
      "text/plain": [
       "Minibatches:   0%|          | 0/1 [00:00<?, ?it/s]"
      ]
     },
     "metadata": {},
     "output_type": "display_data"
    },
    {
     "data": {
      "application/vnd.jupyter.widget-view+json": {
       "model_id": "b9041c70374d4a19abd6ff31d9314d4c",
       "version_major": 2,
       "version_minor": 0
      },
      "text/plain": [
       "Minibatches:   0%|          | 0/36 [00:00<?, ?it/s]"
      ]
     },
     "metadata": {},
     "output_type": "display_data"
    },
    {
     "data": {
      "application/vnd.jupyter.widget-view+json": {
       "model_id": "9cf600602c6743d9aa21f03215f9cafb",
       "version_major": 2,
       "version_minor": 0
      },
      "text/plain": [
       "Minibatches:   0%|          | 0/18 [00:00<?, ?it/s]"
      ]
     },
     "metadata": {},
     "output_type": "display_data"
    },
    {
     "data": {
      "application/vnd.jupyter.widget-view+json": {
       "model_id": "94939cd00fed43089dec184fc4d7a58c",
       "version_major": 2,
       "version_minor": 0
      },
      "text/plain": [
       "Minibatches:   0%|          | 0/2 [00:00<?, ?it/s]"
      ]
     },
     "metadata": {},
     "output_type": "display_data"
    },
    {
     "data": {
      "application/vnd.jupyter.widget-view+json": {
       "model_id": "36a3dda135c44ce980301c763becf35b",
       "version_major": 2,
       "version_minor": 0
      },
      "text/plain": [
       "Minibatches:   0%|          | 0/1 [00:00<?, ?it/s]"
      ]
     },
     "metadata": {},
     "output_type": "display_data"
    },
    {
     "data": {
      "application/vnd.jupyter.widget-view+json": {
       "model_id": "e727d18df0844812baa1d8d51322231a",
       "version_major": 2,
       "version_minor": 0
      },
      "text/plain": [
       "Datasets:   0%|          | 0/3 [00:00<?, ?it/s]"
      ]
     },
     "metadata": {},
     "output_type": "display_data"
    },
    {
     "data": {
      "application/vnd.jupyter.widget-view+json": {
       "model_id": "c38db5933bb141a9a40981aba214a93f",
       "version_major": 2,
       "version_minor": 0
      },
      "text/plain": [
       "Minibatches:   0%|          | 0/1 [00:00<?, ?it/s]"
      ]
     },
     "metadata": {},
     "output_type": "display_data"
    },
    {
     "data": {
      "application/vnd.jupyter.widget-view+json": {
       "model_id": "4611d1bae86941398764de95723cd9aa",
       "version_major": 2,
       "version_minor": 0
      },
      "text/plain": [
       "Minibatches:   0%|          | 0/1 [00:00<?, ?it/s]"
      ]
     },
     "metadata": {},
     "output_type": "display_data"
    },
    {
     "data": {
      "application/vnd.jupyter.widget-view+json": {
       "model_id": "d02ca061ff5a4bcaad55f7281ec8c2d0",
       "version_major": 2,
       "version_minor": 0
      },
      "text/plain": [
       "Minibatches:   0%|          | 0/36 [00:00<?, ?it/s]"
      ]
     },
     "metadata": {},
     "output_type": "display_data"
    },
    {
     "data": {
      "application/vnd.jupyter.widget-view+json": {
       "model_id": "b47bfb740f724af8a5de77f80be51384",
       "version_major": 2,
       "version_minor": 0
      },
      "text/plain": [
       "Minibatches:   0%|          | 0/18 [00:00<?, ?it/s]"
      ]
     },
     "metadata": {},
     "output_type": "display_data"
    },
    {
     "data": {
      "application/vnd.jupyter.widget-view+json": {
       "model_id": "75e0b0a1e26746c9bdc7410df71762c7",
       "version_major": 2,
       "version_minor": 0
      },
      "text/plain": [
       "Minibatches:   0%|          | 0/2 [00:00<?, ?it/s]"
      ]
     },
     "metadata": {},
     "output_type": "display_data"
    },
    {
     "data": {
      "application/vnd.jupyter.widget-view+json": {
       "model_id": "65442383f6f44b1aab274da89cca4c7c",
       "version_major": 2,
       "version_minor": 0
      },
      "text/plain": [
       "Minibatches:   0%|          | 0/1 [00:00<?, ?it/s]"
      ]
     },
     "metadata": {},
     "output_type": "display_data"
    },
    {
     "data": {
      "application/vnd.jupyter.widget-view+json": {
       "model_id": "bc6cadb3416047aca6fd919604d8ddb6",
       "version_major": 2,
       "version_minor": 0
      },
      "text/plain": [
       "Datasets:   0%|          | 0/3 [00:00<?, ?it/s]"
      ]
     },
     "metadata": {},
     "output_type": "display_data"
    },
    {
     "data": {
      "application/vnd.jupyter.widget-view+json": {
       "model_id": "40c2cd689ce84d26ad7c2bad1b25aa13",
       "version_major": 2,
       "version_minor": 0
      },
      "text/plain": [
       "Minibatches:   0%|          | 0/1 [00:00<?, ?it/s]"
      ]
     },
     "metadata": {},
     "output_type": "display_data"
    },
    {
     "data": {
      "application/vnd.jupyter.widget-view+json": {
       "model_id": "bf0e28f4adca41559730047841345dc8",
       "version_major": 2,
       "version_minor": 0
      },
      "text/plain": [
       "Minibatches:   0%|          | 0/1 [00:00<?, ?it/s]"
      ]
     },
     "metadata": {},
     "output_type": "display_data"
    },
    {
     "data": {
      "application/vnd.jupyter.widget-view+json": {
       "model_id": "44f9b029bf8c495681670750bdd42ad2",
       "version_major": 2,
       "version_minor": 0
      },
      "text/plain": [
       "Minibatches:   0%|          | 0/36 [00:00<?, ?it/s]"
      ]
     },
     "metadata": {},
     "output_type": "display_data"
    },
    {
     "data": {
      "application/vnd.jupyter.widget-view+json": {
       "model_id": "d425b3e40bee4b38b34e463f8facbc00",
       "version_major": 2,
       "version_minor": 0
      },
      "text/plain": [
       "Minibatches:   0%|          | 0/18 [00:00<?, ?it/s]"
      ]
     },
     "metadata": {},
     "output_type": "display_data"
    },
    {
     "data": {
      "application/vnd.jupyter.widget-view+json": {
       "model_id": "5f7e4e5e334e43e7ba6a37ff3983655b",
       "version_major": 2,
       "version_minor": 0
      },
      "text/plain": [
       "Minibatches:   0%|          | 0/2 [00:00<?, ?it/s]"
      ]
     },
     "metadata": {},
     "output_type": "display_data"
    },
    {
     "data": {
      "application/vnd.jupyter.widget-view+json": {
       "model_id": "c39b4849747f4fcaa5b7ea7318ce2aba",
       "version_major": 2,
       "version_minor": 0
      },
      "text/plain": [
       "Minibatches:   0%|          | 0/1 [00:00<?, ?it/s]"
      ]
     },
     "metadata": {},
     "output_type": "display_data"
    },
    {
     "data": {
      "application/vnd.jupyter.widget-view+json": {
       "model_id": "aa86e6b05eea4f148daf9c399dbd67e5",
       "version_major": 2,
       "version_minor": 0
      },
      "text/plain": [
       "Datasets:   0%|          | 0/3 [00:00<?, ?it/s]"
      ]
     },
     "metadata": {},
     "output_type": "display_data"
    },
    {
     "data": {
      "application/vnd.jupyter.widget-view+json": {
       "model_id": "9454561414324f918aefb008e1de9ee0",
       "version_major": 2,
       "version_minor": 0
      },
      "text/plain": [
       "Minibatches:   0%|          | 0/1 [00:00<?, ?it/s]"
      ]
     },
     "metadata": {},
     "output_type": "display_data"
    },
    {
     "data": {
      "application/vnd.jupyter.widget-view+json": {
       "model_id": "ba705f80971c458db28346a9b52109ce",
       "version_major": 2,
       "version_minor": 0
      },
      "text/plain": [
       "Minibatches:   0%|          | 0/1 [00:00<?, ?it/s]"
      ]
     },
     "metadata": {},
     "output_type": "display_data"
    },
    {
     "data": {
      "application/vnd.jupyter.widget-view+json": {
       "model_id": "cf7d3adbbbf5450c9a02bb93d61290b5",
       "version_major": 2,
       "version_minor": 0
      },
      "text/plain": [
       "Minibatches:   0%|          | 0/36 [00:00<?, ?it/s]"
      ]
     },
     "metadata": {},
     "output_type": "display_data"
    },
    {
     "data": {
      "application/vnd.jupyter.widget-view+json": {
       "model_id": "8da6dc15068242b2961df073c967d7da",
       "version_major": 2,
       "version_minor": 0
      },
      "text/plain": [
       "Minibatches:   0%|          | 0/18 [00:00<?, ?it/s]"
      ]
     },
     "metadata": {},
     "output_type": "display_data"
    },
    {
     "data": {
      "application/vnd.jupyter.widget-view+json": {
       "model_id": "aa1cd80397eb4bab8164e57e77810a17",
       "version_major": 2,
       "version_minor": 0
      },
      "text/plain": [
       "Minibatches:   0%|          | 0/2 [00:00<?, ?it/s]"
      ]
     },
     "metadata": {},
     "output_type": "display_data"
    },
    {
     "data": {
      "application/vnd.jupyter.widget-view+json": {
       "model_id": "b23211f14ed8470b97c4a411aea894cc",
       "version_major": 2,
       "version_minor": 0
      },
      "text/plain": [
       "Minibatches:   0%|          | 0/1 [00:00<?, ?it/s]"
      ]
     },
     "metadata": {},
     "output_type": "display_data"
    },
    {
     "name": "stdout",
     "output_type": "stream",
     "text": [
      "INFO: Early stopping counter 3 of 5\n"
     ]
    }
   ],
   "source": [
    "ModelCls = import_object(MODEL_CLS)\n",
    "\n",
    "# Note that we assume all dataloaders will provide the\n",
    "# same kind of input shape, so we onlt test on one\n",
    "if ModelCls.needs_input_shape:\n",
    "    a_dataloader = dataloaders[next(iter(dataloaders.keys()))][\"train\"]\n",
    "    x_sample, _ = next(iter(a_dataloader))\n",
    "    MODEL_KWARGS[\"input_shape\"] = ModelCls.estimate_input_shape(x_sample)\n",
    "\n",
    "nn_model = ModelCls(**MODEL_KWARGS)\n",
    "\n",
    "optimizer = import_object(OPTIMIZER)(nn_model.parameters(), **OPTIMIZER_KWARGS)\n",
    "loss_function = import_object(LOSS)()\n",
    "\n",
    "if VALIDATION:\n",
    "    lr_scheduler = LRScheduler(optimizer)\n",
    "    early_stopping = EarlyStopping(**EARLY_STOPPING_KWARGS)\n",
    "\n",
    "train_loss_timeseries = []\n",
    "val_loss_timeseries = []\n",
    "\n",
    "range_epochs = trange(MAX_EPOCHS, desc=\"Epochs\")\n",
    "for epoch in range_epochs:\n",
    "    train_loss = 0.0\n",
    "    val_loss = 0.0\n",
    "    for key, loader in tqdm(dataloaders.items(), desc=\"Datasets\", leave=False):\n",
    "        try:\n",
    "            mtype_class = import_object(f\"kinoml.core.measurements.{key}\")\n",
    "        except AttributeError: \n",
    "            mtype_class = import_object(f\"kinoml.core.measurements.{key.split('__')[1]}\")\n",
    "        loss_adapter = mtype_class.loss_adapter(backend=\"pytorch\")\n",
    "        \n",
    "        # TRAIN\n",
    "        nn_model.train()\n",
    "        for x, y in tqdm(loader[\"train\"], desc=\"Minibatches\", leave=False):\n",
    "            # Clear gradients\n",
    "            optimizer.zero_grad()\n",
    "            # Obtain model prediction given model input\n",
    "            prediction = nn_model(x)\n",
    "            # apply observation model\n",
    "            loss = loss_adapter(prediction.view_as(y), y, loss_function)\n",
    "            # Pred. must match y shape!    ^^^^^^^^^^\n",
    "            # Obtain loss for the predicted output\n",
    "            train_loss += loss.item()\n",
    "            # Gradients w.r.t. parameters\n",
    "            loss.backward()\n",
    "            # Optimize\n",
    "            optimizer.step()\n",
    "            \n",
    "        \n",
    "        # VALIDATE\n",
    "        if VALIDATION:\n",
    "            nn_model.eval()\n",
    "            with torch.no_grad():\n",
    "                for x, y in tqdm(loader[\"val\"], desc=\"Minibatches\", leave=False):\n",
    "                    prediction = nn_model(x).view_as(y)\n",
    "                    loss = loss_adapter(prediction.view_as(y), y, loss_function)\n",
    "                    val_loss += loss.item()\n",
    "                    range_epochs.set_description(f\"Epochs (Avg. val. loss={val_loss / (epoch + 1):.2e})\")\n",
    "    \n",
    "    # LOG LOSSES\n",
    "    train_loss_timeseries.append(train_loss)\n",
    "    \n",
    "    if VALIDATION:\n",
    "        val_loss_timeseries.append(val_loss)\n",
    "\n",
    "        # Adjust training if needed\n",
    "        lr_scheduler(val_loss)\n",
    "        early_stopping(val_loss)\n",
    "        if early_stopping.early_stop:\n",
    "            break"
   ]
  },
  {
   "cell_type": "markdown",
   "metadata": {},
   "source": [
    "Save model to disk"
   ]
  },
  {
   "cell_type": "code",
   "execution_count": 32,
   "metadata": {},
   "outputs": [],
   "source": [
    "torch.save(nn_model, OUT / \"nn_model.pt\")"
   ]
  },
  {
   "cell_type": "markdown",
   "metadata": {},
   "source": [
    "### Evaluate model"
   ]
  },
  {
   "cell_type": "code",
   "execution_count": 33,
   "metadata": {},
   "outputs": [
    {
     "data": {
      "text/markdown": [
       "#### pKdMeasurement"
      ],
      "text/plain": [
       "<IPython.core.display.Markdown object>"
      ]
     },
     "metadata": {},
     "output_type": "display_data"
    },
    {
     "data": {
      "text/markdown": [
       "##### train"
      ],
      "text/plain": [
       "<IPython.core.display.Markdown object>"
      ]
     },
     "metadata": {},
     "output_type": "display_data"
    },
    {
     "name": "stdout",
     "output_type": "stream",
     "text": [
      " MAE: 0.2498±0.0533 95CI=(0.1692, 0.3305)\n",
      " MSE: 0.1704±0.0794 95CI=(0.0651, 0.3030)\n",
      "  R2: 0.8635±0.0715 95CI=(0.7471, 0.9571)\n",
      "RMSE: 0.4013±0.0969 95CI=(0.2551, 0.5504)\n"
     ]
    },
    {
     "data": {
      "image/png": "[encoded data removed]",
      "text/plain": [
       "<Figure size 640x480 with 1 Axes>"
      ]
     },
     "metadata": {},
     "output_type": "display_data"
    },
    {
     "data": {
      "text/markdown": [
       "##### test"
      ],
      "text/plain": [
       "<IPython.core.display.Markdown object>"
      ]
     },
     "metadata": {},
     "output_type": "display_data"
    },
    {
     "name": "stdout",
     "output_type": "stream",
     "text": [
      " MAE: 0.2738±0.0872 95CI=(0.1629, 0.4197)\n",
      " MSE: 0.2104±0.1424 95CI=(0.0542, 0.4710)\n",
      "  R2: 0.7849±0.2243 95CI=(0.4298, 0.9582)\n",
      "RMSE: 0.4323±0.1535 95CI=(0.2328, 0.6863)\n"
     ]
    },
    {
     "data": {
      "image/png": "[encoded data removed]",
      "text/plain": [
       "<Figure size 640x480 with 1 Axes>"
      ]
     },
     "metadata": {},
     "output_type": "display_data"
    },
    {
     "data": {
      "text/markdown": [
       "##### val"
      ],
      "text/plain": [
       "<IPython.core.display.Markdown object>"
      ]
     },
     "metadata": {},
     "output_type": "display_data"
    },
    {
     "name": "stdout",
     "output_type": "stream",
     "text": [
      " MAE: 0.2216±0.0618 95CI=(0.1283, 0.3213)\n",
      " MSE: 0.1199±0.0543 95CI=(0.0401, 0.2115)\n",
      "  R2: 0.8932±0.0709 95CI=(0.7751, 0.9764)\n",
      "RMSE: 0.3358±0.0849 95CI=(0.2002, 0.4599)\n"
     ]
    },
    {
     "data": {
      "image/png": "[encoded data removed]",
      "text/plain": [
       "<Figure size 640x480 with 1 Axes>"
      ]
     },
     "metadata": {},
     "output_type": "display_data"
    },
    {
     "data": {
      "text/markdown": [
       "#### pIC50Measurement"
      ],
      "text/plain": [
       "<IPython.core.display.Markdown object>"
      ]
     },
     "metadata": {},
     "output_type": "display_data"
    },
    {
     "data": {
      "text/markdown": [
       "##### train"
      ],
      "text/plain": [
       "<IPython.core.display.Markdown object>"
      ]
     },
     "metadata": {},
     "output_type": "display_data"
    },
    {
     "name": "stdout",
     "output_type": "stream",
     "text": [
      " MAE: 0.2354±0.0052 95CI=(0.2264, 0.2442)\n",
      " MSE: 0.1034±0.0058 95CI=(0.0939, 0.1138)\n",
      "  R2: 0.9486±0.0028 95CI=(0.9436, 0.9527)\n",
      "RMSE: 0.3214±0.0089 95CI=(0.3065, 0.3373)\n"
     ]
    },
    {
     "data": {
      "image/png": "[encoded data removed]",
      "text/plain": [
       "<Figure size 640x480 with 1 Axes>"
      ]
     },
     "metadata": {},
     "output_type": "display_data"
    },
    {
     "data": {
      "text/markdown": [
       "##### test"
      ],
      "text/plain": [
       "<IPython.core.display.Markdown object>"
      ]
     },
     "metadata": {},
     "output_type": "display_data"
    },
    {
     "name": "stdout",
     "output_type": "stream",
     "text": [
      " MAE: 0.2321±0.0073 95CI=(0.2209, 0.2425)\n",
      " MSE: 0.1017±0.0077 95CI=(0.0898, 0.1157)\n",
      "  R2: 0.9498±0.0041 95CI=(0.9416, 0.9555)\n",
      "RMSE: 0.3186±0.0120 95CI=(0.2997, 0.3402)\n"
     ]
    },
    {
     "data": {
      "image/png": "[encoded data removed]",
      "text/plain": [
       "<Figure size 640x480 with 1 Axes>"
      ]
     },
     "metadata": {},
     "output_type": "display_data"
    },
    {
     "data": {
      "text/markdown": [
       "##### val"
      ],
      "text/plain": [
       "<IPython.core.display.Markdown object>"
      ]
     },
     "metadata": {},
     "output_type": "display_data"
    },
    {
     "name": "stdout",
     "output_type": "stream",
     "text": [
      " MAE: 0.2386±0.0071 95CI=(0.2269, 0.2499)\n",
      " MSE: 0.1052±0.0082 95CI=(0.0934, 0.1183)\n",
      "  R2: 0.9472±0.0038 95CI=(0.9413, 0.9527)\n",
      "RMSE: 0.3241±0.0126 95CI=(0.3056, 0.3439)\n"
     ]
    },
    {
     "data": {
      "image/png": "[encoded data removed]",
      "text/plain": [
       "<Figure size 640x480 with 1 Axes>"
      ]
     },
     "metadata": {},
     "output_type": "display_data"
    },
    {
     "data": {
      "text/markdown": [
       "#### pKiMeasurement"
      ],
      "text/plain": [
       "<IPython.core.display.Markdown object>"
      ]
     },
     "metadata": {},
     "output_type": "display_data"
    },
    {
     "data": {
      "text/markdown": [
       "##### train"
      ],
      "text/plain": [
       "<IPython.core.display.Markdown object>"
      ]
     },
     "metadata": {},
     "output_type": "display_data"
    },
    {
     "name": "stdout",
     "output_type": "stream",
     "text": [
      " MAE: 0.1778±0.0158 95CI=(0.1512, 0.2068)\n",
      " MSE: 0.0529±0.0088 95CI=(0.0388, 0.0671)\n",
      "  R2: 0.9676±0.0079 95CI=(0.9546, 0.9781)\n",
      "RMSE: 0.2292±0.0191 95CI=(0.1970, 0.2590)\n"
     ]
    },
    {
     "data": {
      "image/png": "[encoded data removed]",
      "text/plain": [
       "<Figure size 640x480 with 1 Axes>"
      ]
     },
     "metadata": {},
     "output_type": "display_data"
    },
    {
     "data": {
      "text/markdown": [
       "##### test"
      ],
      "text/plain": [
       "<IPython.core.display.Markdown object>"
      ]
     },
     "metadata": {},
     "output_type": "display_data"
    },
    {
     "name": "stdout",
     "output_type": "stream",
     "text": [
      " MAE: 0.1665±0.0186 95CI=(0.1355, 0.1965)\n",
      " MSE: 0.0416±0.0085 95CI=(0.0278, 0.0576)\n",
      "  R2: 0.9811±0.0058 95CI=(0.9701, 0.9890)\n",
      "RMSE: 0.2028±0.0207 95CI=(0.1668, 0.2399)\n"
     ]
    },
    {
     "data": {
      "image/png": "[encoded data removed]",
      "text/plain": [
       "<Figure size 640x480 with 1 Axes>"
      ]
     },
     "metadata": {},
     "output_type": "display_data"
    },
    {
     "data": {
      "text/markdown": [
       "##### val"
      ],
      "text/plain": [
       "<IPython.core.display.Markdown object>"
      ]
     },
     "metadata": {},
     "output_type": "display_data"
    },
    {
     "name": "stdout",
     "output_type": "stream",
     "text": [
      " MAE: 0.1933±0.0262 95CI=(0.1510, 0.2438)\n",
      " MSE: 0.0653±0.0154 95CI=(0.0398, 0.0926)\n",
      "  R2: 0.9303±0.0255 95CI=(0.8826, 0.9639)\n",
      "RMSE: 0.2538±0.0303 95CI=(0.1995, 0.3043)\n"
     ]
    },
    {
     "data": {
      "image/png": "[encoded data removed]",
      "text/plain": [
       "<Figure size 640x480 with 1 Axes>"
      ]
     },
     "metadata": {},
     "output_type": "display_data"
    }
   ],
   "source": [
    "metrics = {}\n",
    "nn_model.train(False)\n",
    "for key, loader in dataloaders.items():\n",
    "    metrics[key] = {}\n",
    "    display(Markdown(f\"#### {key}\"))\n",
    "    for ttype, dataloader in loader.items():\n",
    "        display(Markdown(f\"##### {ttype}\"))\n",
    "        try:\n",
    "            mtype= import_object(f\"kinoml.core.measurements.{key}\")\n",
    "        except AttributeError: \n",
    "            mtype = import_object(f\"kinoml.core.measurements.{key.split('__')[1]}\")\n",
    "        obs_model = mtype.observation_model(backend=\"pytorch\")\n",
    "        x, y = dataloader.dataset[dataloader.batch_sampler.sampler.indices]\n",
    "        prediction = obs_model(nn_model(x).view_as(y).detach().numpy())\n",
    "\n",
    "        perf_data = performance(prediction, y, verbose=False)\n",
    "        metrics[key][ttype] = {}\n",
    "        for perfkey, values in perf_data.items():\n",
    "            metrics[key][ttype][perfkey] = {\"mean\": values[0], \"std\": values[1]}\n",
    "        display(predicted_vs_observed(prediction, y, mtype))"
   ]
  },
  {
   "cell_type": "markdown",
   "metadata": {},
   "source": [
    "### Summary\n",
    "\n",
    "`kinase_metrics` is a nested dictionary with these dimensions:\n",
    "\n",
    "- measurement type\n",
    "- metric\n",
    "- mean & standard deviation"
   ]
  },
  {
   "cell_type": "code",
   "execution_count": 34,
   "metadata": {},
   "outputs": [
    {
     "data": {
      "text/markdown": [
       "\n",
       "### Configuration \n",
       "\n",
       "```json\n",
       "{\n",
       "  \"VERSION\": \"2023.11.06\",\n",
       "  \"HERE\": \"/home/raquellrdc/Desktop/postdoc/kinoml_tech_paper_final/kinoml/examples/experiments/ligand-only-morgan1024-EGFR\",\n",
       "  \"DATASET_CLS\": \"kinoml.datasets.chembl.ChEMBLDatasetProvider\",\n",
       "  \"DATASET_KWARGS\": {\n",
       "    \"path_or_url\": \"../data/filtered_dataset_EGFR.csv\",\n",
       "    \"measurement_types\": [\n",
       "      \"pIC50\",\n",
       "      \"pKd\",\n",
       "      \"pKi\"\n",
       "    ],\n",
       "    \"uniprot_ids\": [\n",
       "      \"P00533\"\n",
       "    ],\n",
       "    \"sample\": 3000\n",
       "  },\n",
       "  \"PIPELINES\": {\n",
       "    \"ligand\": [\n",
       "      [\n",
       "        \"kinoml.features.ligand.MorganFingerprintFeaturizer\",\n",
       "        {\n",
       "          \"nbits\": 1024,\n",
       "          \"radius\": 2\n",
       "        }\n",
       "      ]\n",
       "    ]\n",
       "  },\n",
       "  \"PIPELINES_AGG\": \"kinoml.features.core.TupleOfArrays\",\n",
       "  \"PIPELINES_AGG_KWARGS\": {},\n",
       "  \"FEATURIZE_KWARGS\": {\n",
       "    \"keep\": false\n",
       "  },\n",
       "  \"GROUPS\": [\n",
       "    [\n",
       "      \"kinoml.datasets.groups.CallableGrouper\",\n",
       "      {\n",
       "        \"function\": \"<function <lambda> at 0x7fce6846ea60>\"\n",
       "      }\n",
       "    ]\n",
       "  ],\n",
       "  \"TRAIN_TEST_VAL_KWARGS\": {\n",
       "    \"idx_train\": 0.8,\n",
       "    \"idx_test\": 0.1,\n",
       "    \"idx_val\": 0.1\n",
       "  },\n",
       "  \"REPO\": \"/home/raquellrdc/Desktop/postdoc/kinoml_tech_paper_final/kinoml\",\n",
       "  \"OUT\": \"/home/raquellrdc/Desktop/postdoc/kinoml_tech_paper_final/kinoml/examples/experiments/ligand-only-morgan1024-EGFR/_output/20231106-105158\",\n",
       "  \"X\": \"[[[0, 0, 0, 0, 0, 0, 0, 0, 1, 0, 0, ..., 0, 0, 0, 0, 0, 0, 1, 0, 0, 0, 0], ...]]\",\n",
       "  \"PARQUET_LOADER_CLS\": \"kinoml.datasets.torch_datasets.AwkwardArrayDataset\",\n",
       "  \"PARQUET_FILES\": [\n",
       "    \"ligand-only-morgan1024-EGFR/_output/ligand__MorganFingerprintFeaturizer_nbits=1024_radius=2/ChEMBLDatasetProvider/*.parquet\"\n",
       "  ],\n",
       "  \"MODEL_CLS\": \"kinoml.ml.torch_models.NeuralNetworkRegression\",\n",
       "  \"MODEL_KWARGS\": {\n",
       "    \"hidden_shape\": 350,\n",
       "    \"input_shape\": 1024\n",
       "  },\n",
       "  \"OPTIMIZER\": \"torch.optim.Adam\",\n",
       "  \"OPTIMIZER_KWARGS\": {\n",
       "    \"lr\": 0.001,\n",
       "    \"eps\": 1e-07,\n",
       "    \"betas\": [\n",
       "      0.9,\n",
       "      0.999\n",
       "    ]\n",
       "  },\n",
       "  \"LOSS\": \"torch.nn.MSELoss\",\n",
       "  \"LOSS_KWARGS\": {},\n",
       "  \"MAX_EPOCHS\": 50,\n",
       "  \"VALIDATION\": true,\n",
       "  \"EARLY_STOPPING_KWARGS\": {},\n",
       "  \"DATALOADER_CLS\": \"torch.utils.data.DataLoader\",\n",
       "  \"BATCH_SIZE\": 64,\n",
       "  \"TRAIN_TEST_SPLIT\": 0.2,\n",
       "  \"SHUFFLE_SPLITS\": true,\n",
       "  \"COLLATE_FN\": null,\n",
       "  \"N_BOOTSTRAPS\": 1,\n",
       "  \"BOOTSTRAP_SAMPLE_RATIO\": 1,\n",
       "  \"VERBOSE\": false,\n",
       "  \"FEATURES_STORE\": \"/home/raquellrdc/Desktop/postdoc/kinoml_tech_paper_final/kinoml/examples/experiments\"\n",
       "}\n",
       "```\n"
      ],
      "text/plain": [
       "<IPython.core.display.Markdown object>"
      ]
     },
     "metadata": {},
     "output_type": "display_data"
    }
   ],
   "source": [
    "import json\n",
    "\n",
    "display(Markdown(f\"\"\"\n",
    "### Configuration \n",
    "\n",
    "```json\n",
    "{json.dumps(_hparams, default=str, indent=2)}\n",
    "```\n",
    "\"\"\"))\n",
    "\n",
    "if VERBOSE:\n",
    "    display(Markdown(\n",
    "f\"\"\"\n",
    "### Kinase metrics\n",
    "\n",
    "```json\n",
    "{json.dumps(metrics, default=str, indent=2)}\n",
    "```\n",
    "\"\"\"))"
   ]
  },
  {
   "cell_type": "code",
   "execution_count": 35,
   "metadata": {},
   "outputs": [
    {
     "data": {
      "text/markdown": [
       "#### pKiMeasurement"
      ],
      "text/plain": [
       "<IPython.core.display.Markdown object>"
      ]
     },
     "metadata": {},
     "output_type": "display_data"
    },
    {
     "data": {
      "text/html": [
       "<style type=\"text/css\">\n",
       "#T_38ba6_row0_col4 {\n",
       "  background-color: #7bacd1;\n",
       "  color: #f1f1f1;\n",
       "  font-weight: bold;\n",
       "}\n",
       "#T_38ba6_row1_col4 {\n",
       "  background-color: #78abd0;\n",
       "  color: #f1f1f1;\n",
       "  font-weight: bold;\n",
       "}\n",
       "#T_38ba6_row2_col4 {\n",
       "  background-color: #81aed2;\n",
       "  color: #f1f1f1;\n",
       "  font-weight: bold;\n",
       "}\n",
       "</style>\n",
       "<table id=\"T_38ba6\">\n",
       "  <thead>\n",
       "    <tr>\n",
       "      <th class=\"blank level0\" >&nbsp;</th>\n",
       "      <th id=\"T_38ba6_level0_col0\" class=\"col_heading level0 col0\" >mae_mean</th>\n",
       "      <th id=\"T_38ba6_level0_col1\" class=\"col_heading level0 col1\" >mae_std</th>\n",
       "      <th id=\"T_38ba6_level0_col2\" class=\"col_heading level0 col2\" >mse_mean</th>\n",
       "      <th id=\"T_38ba6_level0_col3\" class=\"col_heading level0 col3\" >mse_std</th>\n",
       "      <th id=\"T_38ba6_level0_col4\" class=\"col_heading level0 col4\" >r2_mean</th>\n",
       "      <th id=\"T_38ba6_level0_col5\" class=\"col_heading level0 col5\" >r2_std</th>\n",
       "      <th id=\"T_38ba6_level0_col6\" class=\"col_heading level0 col6\" >rmse_mean</th>\n",
       "      <th id=\"T_38ba6_level0_col7\" class=\"col_heading level0 col7\" >rmse_std</th>\n",
       "    </tr>\n",
       "  </thead>\n",
       "  <tbody>\n",
       "    <tr>\n",
       "      <th id=\"T_38ba6_level0_row0\" class=\"row_heading level0 row0\" >train</th>\n",
       "      <td id=\"T_38ba6_row0_col0\" class=\"data row0 col0\" >0.177771</td>\n",
       "      <td id=\"T_38ba6_row0_col1\" class=\"data row0 col1\" >0.015785</td>\n",
       "      <td id=\"T_38ba6_row0_col2\" class=\"data row0 col2\" >0.052921</td>\n",
       "      <td id=\"T_38ba6_row0_col3\" class=\"data row0 col3\" >0.008807</td>\n",
       "      <td id=\"T_38ba6_row0_col4\" class=\"data row0 col4\" >0.967586</td>\n",
       "      <td id=\"T_38ba6_row0_col5\" class=\"data row0 col5\" >0.007924</td>\n",
       "      <td id=\"T_38ba6_row0_col6\" class=\"data row0 col6\" >0.229248</td>\n",
       "      <td id=\"T_38ba6_row0_col7\" class=\"data row0 col7\" >0.019131</td>\n",
       "    </tr>\n",
       "    <tr>\n",
       "      <th id=\"T_38ba6_level0_row1\" class=\"row_heading level0 row1\" >test</th>\n",
       "      <td id=\"T_38ba6_row1_col0\" class=\"data row1 col0\" >0.166451</td>\n",
       "      <td id=\"T_38ba6_row1_col1\" class=\"data row1 col1\" >0.018611</td>\n",
       "      <td id=\"T_38ba6_row1_col2\" class=\"data row1 col2\" >0.041571</td>\n",
       "      <td id=\"T_38ba6_row1_col3\" class=\"data row1 col3\" >0.008508</td>\n",
       "      <td id=\"T_38ba6_row1_col4\" class=\"data row1 col4\" >0.981131</td>\n",
       "      <td id=\"T_38ba6_row1_col5\" class=\"data row1 col5\" >0.005752</td>\n",
       "      <td id=\"T_38ba6_row1_col6\" class=\"data row1 col6\" >0.202837</td>\n",
       "      <td id=\"T_38ba6_row1_col7\" class=\"data row1 col7\" >0.020681</td>\n",
       "    </tr>\n",
       "    <tr>\n",
       "      <th id=\"T_38ba6_level0_row2\" class=\"row_heading level0 row2\" >val</th>\n",
       "      <td id=\"T_38ba6_row2_col0\" class=\"data row2 col0\" >0.193261</td>\n",
       "      <td id=\"T_38ba6_row2_col1\" class=\"data row2 col1\" >0.026235</td>\n",
       "      <td id=\"T_38ba6_row2_col2\" class=\"data row2 col2\" >0.065315</td>\n",
       "      <td id=\"T_38ba6_row2_col3\" class=\"data row2 col3\" >0.015376</td>\n",
       "      <td id=\"T_38ba6_row2_col4\" class=\"data row2 col4\" >0.930327</td>\n",
       "      <td id=\"T_38ba6_row2_col5\" class=\"data row2 col5\" >0.025522</td>\n",
       "      <td id=\"T_38ba6_row2_col6\" class=\"data row2 col6\" >0.253769</td>\n",
       "      <td id=\"T_38ba6_row2_col7\" class=\"data row2 col7\" >0.030277</td>\n",
       "    </tr>\n",
       "  </tbody>\n",
       "</table>\n"
      ],
      "text/plain": [
       "<pandas.io.formats.style.Styler at 0x7fce394ffe50>"
      ]
     },
     "metadata": {},
     "output_type": "display_data"
    },
    {
     "data": {
      "text/markdown": [
       "#### pIC50Measurement"
      ],
      "text/plain": [
       "<IPython.core.display.Markdown object>"
      ]
     },
     "metadata": {},
     "output_type": "display_data"
    },
    {
     "data": {
      "text/html": [
       "<style type=\"text/css\">\n",
       "#T_66920_row0_col4, #T_66920_row1_col4, #T_66920_row2_col4 {\n",
       "  background-color: #7eadd1;\n",
       "  color: #f1f1f1;\n",
       "  font-weight: bold;\n",
       "}\n",
       "</style>\n",
       "<table id=\"T_66920\">\n",
       "  <thead>\n",
       "    <tr>\n",
       "      <th class=\"blank level0\" >&nbsp;</th>\n",
       "      <th id=\"T_66920_level0_col0\" class=\"col_heading level0 col0\" >mae_mean</th>\n",
       "      <th id=\"T_66920_level0_col1\" class=\"col_heading level0 col1\" >mae_std</th>\n",
       "      <th id=\"T_66920_level0_col2\" class=\"col_heading level0 col2\" >mse_mean</th>\n",
       "      <th id=\"T_66920_level0_col3\" class=\"col_heading level0 col3\" >mse_std</th>\n",
       "      <th id=\"T_66920_level0_col4\" class=\"col_heading level0 col4\" >r2_mean</th>\n",
       "      <th id=\"T_66920_level0_col5\" class=\"col_heading level0 col5\" >r2_std</th>\n",
       "      <th id=\"T_66920_level0_col6\" class=\"col_heading level0 col6\" >rmse_mean</th>\n",
       "      <th id=\"T_66920_level0_col7\" class=\"col_heading level0 col7\" >rmse_std</th>\n",
       "    </tr>\n",
       "  </thead>\n",
       "  <tbody>\n",
       "    <tr>\n",
       "      <th id=\"T_66920_level0_row0\" class=\"row_heading level0 row0\" >train</th>\n",
       "      <td id=\"T_66920_row0_col0\" class=\"data row0 col0\" >0.235393</td>\n",
       "      <td id=\"T_66920_row0_col1\" class=\"data row0 col1\" >0.005219</td>\n",
       "      <td id=\"T_66920_row0_col2\" class=\"data row0 col2\" >0.103362</td>\n",
       "      <td id=\"T_66920_row0_col3\" class=\"data row0 col3\" >0.005762</td>\n",
       "      <td id=\"T_66920_row0_col4\" class=\"data row0 col4\" >0.948592</td>\n",
       "      <td id=\"T_66920_row0_col5\" class=\"data row0 col5\" >0.002752</td>\n",
       "      <td id=\"T_66920_row0_col6\" class=\"data row0 col6\" >0.321376</td>\n",
       "      <td id=\"T_66920_row0_col7\" class=\"data row0 col7\" >0.008907</td>\n",
       "    </tr>\n",
       "    <tr>\n",
       "      <th id=\"T_66920_level0_row1\" class=\"row_heading level0 row1\" >test</th>\n",
       "      <td id=\"T_66920_row1_col0\" class=\"data row1 col0\" >0.232105</td>\n",
       "      <td id=\"T_66920_row1_col1\" class=\"data row1 col1\" >0.007312</td>\n",
       "      <td id=\"T_66920_row1_col2\" class=\"data row1 col2\" >0.101654</td>\n",
       "      <td id=\"T_66920_row1_col3\" class=\"data row1 col3\" >0.007653</td>\n",
       "      <td id=\"T_66920_row1_col4\" class=\"data row1 col4\" >0.949771</td>\n",
       "      <td id=\"T_66920_row1_col5\" class=\"data row1 col5\" >0.004129</td>\n",
       "      <td id=\"T_66920_row1_col6\" class=\"data row1 col6\" >0.318607</td>\n",
       "      <td id=\"T_66920_row1_col7\" class=\"data row1 col7\" >0.011975</td>\n",
       "    </tr>\n",
       "    <tr>\n",
       "      <th id=\"T_66920_level0_row2\" class=\"row_heading level0 row2\" >val</th>\n",
       "      <td id=\"T_66920_row2_col0\" class=\"data row2 col0\" >0.238604</td>\n",
       "      <td id=\"T_66920_row2_col1\" class=\"data row2 col1\" >0.007122</td>\n",
       "      <td id=\"T_66920_row2_col2\" class=\"data row2 col2\" >0.105168</td>\n",
       "      <td id=\"T_66920_row2_col3\" class=\"data row2 col3\" >0.008246</td>\n",
       "      <td id=\"T_66920_row2_col4\" class=\"data row2 col4\" >0.947172</td>\n",
       "      <td id=\"T_66920_row2_col5\" class=\"data row2 col5\" >0.003796</td>\n",
       "      <td id=\"T_66920_row2_col6\" class=\"data row2 col6\" >0.324051</td>\n",
       "      <td id=\"T_66920_row2_col7\" class=\"data row2 col7\" >0.012595</td>\n",
       "    </tr>\n",
       "  </tbody>\n",
       "</table>\n"
      ],
      "text/plain": [
       "<pandas.io.formats.style.Styler at 0x7fce3950acd0>"
      ]
     },
     "metadata": {},
     "output_type": "display_data"
    },
    {
     "data": {
      "text/markdown": [
       "#### pKdMeasurement"
      ],
      "text/plain": [
       "<IPython.core.display.Markdown object>"
      ]
     },
     "metadata": {},
     "output_type": "display_data"
    },
    {
     "data": {
      "text/html": [
       "<style type=\"text/css\">\n",
       "#T_5d208_row0_col4 {\n",
       "  background-color: #8fb4d6;\n",
       "  color: #000000;\n",
       "  font-weight: bold;\n",
       "}\n",
       "#T_5d208_row1_col4 {\n",
       "  background-color: #9fbad9;\n",
       "  color: #000000;\n",
       "  font-weight: bold;\n",
       "}\n",
       "#T_5d208_row2_col4 {\n",
       "  background-color: #89b1d4;\n",
       "  color: #000000;\n",
       "  font-weight: bold;\n",
       "}\n",
       "</style>\n",
       "<table id=\"T_5d208\">\n",
       "  <thead>\n",
       "    <tr>\n",
       "      <th class=\"blank level0\" >&nbsp;</th>\n",
       "      <th id=\"T_5d208_level0_col0\" class=\"col_heading level0 col0\" >mae_mean</th>\n",
       "      <th id=\"T_5d208_level0_col1\" class=\"col_heading level0 col1\" >mae_std</th>\n",
       "      <th id=\"T_5d208_level0_col2\" class=\"col_heading level0 col2\" >mse_mean</th>\n",
       "      <th id=\"T_5d208_level0_col3\" class=\"col_heading level0 col3\" >mse_std</th>\n",
       "      <th id=\"T_5d208_level0_col4\" class=\"col_heading level0 col4\" >r2_mean</th>\n",
       "      <th id=\"T_5d208_level0_col5\" class=\"col_heading level0 col5\" >r2_std</th>\n",
       "      <th id=\"T_5d208_level0_col6\" class=\"col_heading level0 col6\" >rmse_mean</th>\n",
       "      <th id=\"T_5d208_level0_col7\" class=\"col_heading level0 col7\" >rmse_std</th>\n",
       "    </tr>\n",
       "  </thead>\n",
       "  <tbody>\n",
       "    <tr>\n",
       "      <th id=\"T_5d208_level0_row0\" class=\"row_heading level0 row0\" >train</th>\n",
       "      <td id=\"T_5d208_row0_col0\" class=\"data row0 col0\" >0.249806</td>\n",
       "      <td id=\"T_5d208_row0_col1\" class=\"data row0 col1\" >0.053278</td>\n",
       "      <td id=\"T_5d208_row0_col2\" class=\"data row0 col2\" >0.170412</td>\n",
       "      <td id=\"T_5d208_row0_col3\" class=\"data row0 col3\" >0.079378</td>\n",
       "      <td id=\"T_5d208_row0_col4\" class=\"data row0 col4\" >0.863479</td>\n",
       "      <td id=\"T_5d208_row0_col5\" class=\"data row0 col5\" >0.071541</td>\n",
       "      <td id=\"T_5d208_row0_col6\" class=\"data row0 col6\" >0.401279</td>\n",
       "      <td id=\"T_5d208_row0_col7\" class=\"data row0 col7\" >0.096887</td>\n",
       "    </tr>\n",
       "    <tr>\n",
       "      <th id=\"T_5d208_level0_row1\" class=\"row_heading level0 row1\" >test</th>\n",
       "      <td id=\"T_5d208_row1_col0\" class=\"data row1 col0\" >0.273753</td>\n",
       "      <td id=\"T_5d208_row1_col1\" class=\"data row1 col1\" >0.087242</td>\n",
       "      <td id=\"T_5d208_row1_col2\" class=\"data row1 col2\" >0.210392</td>\n",
       "      <td id=\"T_5d208_row1_col3\" class=\"data row1 col3\" >0.142430</td>\n",
       "      <td id=\"T_5d208_row1_col4\" class=\"data row1 col4\" >0.784935</td>\n",
       "      <td id=\"T_5d208_row1_col5\" class=\"data row1 col5\" >0.224324</td>\n",
       "      <td id=\"T_5d208_row1_col6\" class=\"data row1 col6\" >0.432251</td>\n",
       "      <td id=\"T_5d208_row1_col7\" class=\"data row1 col7\" >0.153464</td>\n",
       "    </tr>\n",
       "    <tr>\n",
       "      <th id=\"T_5d208_level0_row2\" class=\"row_heading level0 row2\" >val</th>\n",
       "      <td id=\"T_5d208_row2_col0\" class=\"data row2 col0\" >0.221559</td>\n",
       "      <td id=\"T_5d208_row2_col1\" class=\"data row2 col1\" >0.061849</td>\n",
       "      <td id=\"T_5d208_row2_col2\" class=\"data row2 col2\" >0.119945</td>\n",
       "      <td id=\"T_5d208_row2_col3\" class=\"data row2 col3\" >0.054289</td>\n",
       "      <td id=\"T_5d208_row2_col4\" class=\"data row2 col4\" >0.893225</td>\n",
       "      <td id=\"T_5d208_row2_col5\" class=\"data row2 col5\" >0.070891</td>\n",
       "      <td id=\"T_5d208_row2_col6\" class=\"data row2 col6\" >0.335753</td>\n",
       "      <td id=\"T_5d208_row2_col7\" class=\"data row2 col7\" >0.084941</td>\n",
       "    </tr>\n",
       "  </tbody>\n",
       "</table>\n"
      ],
      "text/plain": [
       "<pandas.io.formats.style.Styler at 0x7fce3950aa60>"
      ]
     },
     "metadata": {},
     "output_type": "display_data"
    }
   ],
   "source": [
    "for mtype_name in MEASUREMENT_TYPES:\n",
    "    mtype_metrics = metrics.get(mtype_name)\n",
    "    if not mtype_metrics:\n",
    "        continue\n",
    "        \n",
    "    display(Markdown(f\"#### {mtype_name}\"))\n",
    "    \n",
    "    # flatten dict a bit: from dict[\"test\"][\"r2\"][\"mean\"] to dict[\"test\"][\"r2_mean\"]\n",
    "    flattened = {}\n",
    "    for ttype, scores in mtype_metrics.items():\n",
    "        flattened[ttype] = {}\n",
    "        for score, stats in scores.items():\n",
    "            for stat, value in stats.items():\n",
    "                flattened[ttype][f\"{score}_{stat}\"] = value\n",
    "        \n",
    "    df = pd.DataFrame.from_dict(flattened, orient=\"index\")\n",
    "    with pd.option_context(\"display.float_format\", \"{:.3f}\".format, \"display.max_rows\", len(df)):\n",
    "        display(\n",
    "            df.style.background_gradient(subset=[\"r2_mean\"], low=0, high=1, vmin=0, vmax=1)\n",
    "              .apply(lambda x: ['font-weight: bold' for v in x], subset=[\"r2_mean\"])\n",
    "        )"
   ]
  },
  {
   "cell_type": "code",
   "execution_count": 36,
   "metadata": {},
   "outputs": [
    {
     "name": "stdout",
     "output_type": "stream",
     "text": [
      "Run finished at 2023-11-06 10:53:44.645164\n"
     ]
    }
   ],
   "source": [
    "print(\"Run finished at\", datetime.now())"
   ]
  },
  {
   "cell_type": "markdown",
   "metadata": {},
   "source": [
    "### Save reports to disk"
   ]
  },
  {
   "cell_type": "code",
   "execution_count": 37,
   "metadata": {},
   "outputs": [
    {
     "name": "stdout",
     "output_type": "stream",
     "text": [
      "Watermark\n",
      "---------\n",
      "Last updated: 2023-11-06T10:53:44.649391+01:00\n",
      "\n",
      "Python implementation: CPython\n",
      "Python version       : 3.9.18\n",
      "IPython version      : 8.15.0\n",
      "\n",
      "Compiler    : GCC 12.3.0\n",
      "OS          : Linux\n",
      "Release     : 6.2.0-36-generic\n",
      "Machine     : x86_64\n",
      "Processor   : x86_64\n",
      "CPU cores   : 16\n",
      "Architecture: 64bit\n",
      "\n",
      "Hostname: aleph\n",
      "\n",
      "Git hash: d2352d6e07d594ed9fd973b544529f89feb82d78\n",
      "\n",
      "numpy  : 1.26.0\n",
      "json   : 2.0.9\n",
      "sys    : 3.9.18 | packaged by conda-forge | (main, Aug 30 2023, 03:49:32) \n",
      "[GCC 12.3.0]\n",
      "kinoml : 0+unknown\n",
      "torch  : 2.1.0\n",
      "awkward: 2.4.6\n",
      "pandas : 2.1.1\n",
      "\n",
      "Watermark: 2.4.3\n",
      "\n",
      "\n",
      "nvidia-smi\n",
      "----------\n",
      "stdout:\n",
      "Mon Nov  6 10:53:44 2023       \n",
      "+-----------------------------------------------------------------------------+\n",
      "| NVIDIA-SMI 525.147.05   Driver Version: 525.147.05   CUDA Version: 12.0     |\n",
      "|-------------------------------+----------------------+----------------------+\n",
      "| GPU  Name        Persistence-M| Bus-Id        Disp.A | Volatile Uncorr. ECC |\n",
      "| Fan  Temp  Perf  Pwr:Usage/Cap|         Memory-Usage | GPU-Util  Compute M. |\n",
      "|                               |                      |               MIG M. |\n",
      "|===============================+======================+======================|\n",
      "|   0  NVIDIA GeForce ...  Off  | 00000000:01:00.0  On |                  N/A |\n",
      "| N/A   62C    P8    21W /  80W |     49MiB / 16384MiB |     12%      Default |\n",
      "|                               |                      |                  N/A |\n",
      "+-------------------------------+----------------------+----------------------+\n",
      "                                                                               \n",
      "+-----------------------------------------------------------------------------+\n",
      "| Processes:                                                                  |\n",
      "|  GPU   GI   CI        PID   Type   Process name                  GPU Memory |\n",
      "|        ID   ID                                                   Usage      |\n",
      "|=============================================================================|\n",
      "|    0   N/A  N/A      1260      G   /usr/lib/xorg/Xorg                 45MiB |\n",
      "+-----------------------------------------------------------------------------+\n",
      "\n",
      "conda info\n",
      "----------\n",
      "sys.version: 3.11.5 (main, Sep 11 2023, 13:54:46) [GC...\n",
      "sys.prefix: /home/raquellrdc/anaconda3\n",
      "sys.executable: /home/raquellrdc/anaconda3/bin/python\n",
      "conda location: /home/raquellrdc/anaconda3/lib/python3.11/site-packages/conda\n",
      "conda-build: /home/raquellrdc/anaconda3/bin/conda-build\n",
      "conda-content-trust: /home/raquellrdc/anaconda3/bin/conda-content-trust\n",
      "conda-convert: /home/raquellrdc/anaconda3/bin/conda-convert\n",
      "conda-debug: /home/raquellrdc/anaconda3/bin/conda-debug\n",
      "conda-develop: /home/raquellrdc/anaconda3/bin/conda-develop\n",
      "conda-env: /home/raquellrdc/anaconda3/bin/conda-env\n",
      "conda-index: /home/raquellrdc/anaconda3/bin/conda-index\n",
      "conda-inspect: /home/raquellrdc/anaconda3/bin/conda-inspect\n",
      "conda-metapackage: /home/raquellrdc/anaconda3/bin/conda-metapackage\n",
      "conda-pack: /home/raquellrdc/anaconda3/bin/conda-pack\n",
      "conda-render: /home/raquellrdc/anaconda3/bin/conda-render\n",
      "conda-repo: /home/raquellrdc/anaconda3/bin/conda-repo\n",
      "conda-server: /home/raquellrdc/anaconda3/bin/conda-server\n",
      "conda-skeleton: /home/raquellrdc/anaconda3/bin/conda-skeleton\n",
      "conda-token: /home/raquellrdc/anaconda3/bin/conda-token\n",
      "conda-verify: /home/raquellrdc/anaconda3/bin/conda-verify\n",
      "user site dirs: ~/.local/lib/python3.10\n",
      "\n",
      "CIO_TEST: <not set>\n",
      "CONDA_DEFAULT_ENV: kinoml_env\n",
      "CONDA_EXE: /home/raquellrdc/anaconda3/bin/conda\n",
      "CONDA_PREFIX: /home/raquellrdc/anaconda3/envs/kinoml_env\n",
      "CONDA_PROMPT_MODIFIER: (kinoml_env) \n",
      "CONDA_PYTHON_EXE: /home/raquellrdc/anaconda3/bin/python\n",
      "CONDA_ROOT: /home/raquellrdc/anaconda3\n",
      "CONDA_SHLVL: 1\n",
      "CURL_CA_BUNDLE: <not set>\n",
      "LD_PRELOAD: <not set>\n",
      "PATH: /home/raquellrdc/anaconda3/envs/kinoml_env/bin:/home/raquellrdc/anaconda3/condabin:/home/raquellrdc/.local/bin:/usr/local/sbin:/usr/local/bin:/usr/sbin:/usr/bin:/sbin:/bin:/usr/games:/usr/local/games:/snap/bin\n",
      "PYTHONHASHSEED: 1234\n",
      "REQUESTS_CA_BUNDLE: <not set>\n",
      "SSL_CERT_FILE: <not set>\n",
      "XDG_SEAT_PATH: /org/freedesktop/DisplayManager/Seat0\n",
      "XDG_SESSION_PATH: /org/freedesktop/DisplayManager/Session1\n",
      "\n",
      "conda list\n",
      "----------\n",
      "# packages in environment at /home/raquellrdc/anaconda3/envs/kinoml_env:\n",
      "#\n",
      "# Name                    Version                   Build  Channel\n",
      "_libgcc_mutex             0.1                 conda_forge    conda-forge\n",
      "_openmp_mutex             4.5                       2_gnu    conda-forge\n",
      "_py-xgboost-mutex         2.0                       gpu_0    conda-forge\n",
      "alabaster                 0.7.13                   pypi_0    pypi\n",
      "ambertools                23.3             py39h7fa913e_4    conda-forge\n",
      "amberutils                21.0                     pypi_0    pypi\n",
      "ansiwrap                  0.8.4                      py_0    conda-forge\n",
      "anyio                     3.5.0            py39h06a4308_0  \n",
      "appdirs                   1.4.4              pyh9f0ad1d_0    conda-forge\n",
      "argon2-cffi               21.3.0             pyhd3eb1b0_0  \n",
      "argon2-cffi-bindings      21.2.0           py39h7f8727e_0  \n",
      "arpack                    3.8.0           nompi_h0baa96a_101    conda-forge\n",
      "arrow                     1.3.0              pyhd8ed1ab_0    conda-forge\n",
      "asttokens                 2.0.5              pyhd3eb1b0_0  \n",
      "astunparse                1.6.3              pyhd8ed1ab_0    conda-forge\n",
      "async-lru                 2.0.4              pyhd8ed1ab_0    conda-forge\n",
      "attrs                     23.1.0           py39h06a4308_0  \n",
      "awkward                   2.4.6              pyhd8ed1ab_0    conda-forge\n",
      "awkward-cpp               24               py39h7633fee_0    conda-forge\n",
      "aws-c-auth                0.7.4                h1083cbe_2    conda-forge\n",
      "aws-c-cal                 0.6.2                h09139f6_2    conda-forge\n",
      "aws-c-common              0.9.3                hd590300_0    conda-forge\n",
      "aws-c-compression         0.2.17               h184a658_3    conda-forge\n",
      "aws-c-event-stream        0.3.2                h6fea174_2    conda-forge\n",
      "aws-c-http                0.7.13               hb59894b_2    conda-forge\n",
      "aws-c-io                  0.13.33              h161b759_0    conda-forge\n",
      "aws-c-mqtt                0.9.7                h55cd26b_0    conda-forge\n",
      "aws-c-s3                  0.3.17               hfb4bb88_4    conda-forge\n",
      "aws-c-sdkutils            0.1.12               h184a658_2    conda-forge\n",
      "aws-checksums             0.1.17               h184a658_2    conda-forge\n",
      "aws-crt-cpp               0.24.2               ha28989d_2    conda-forge\n",
      "aws-sdk-cpp               1.11.156             h314d761_4    conda-forge\n",
      "babel                     2.11.0           py39h06a4308_0  \n",
      "backcall                  0.2.0              pyhd3eb1b0_0  \n",
      "beautifulsoup4            4.12.2           py39h06a4308_0  \n",
      "biopandas                 0.4.1              pyhd8ed1ab_1    conda-forge\n",
      "biopython                 1.77             py39h27cfd23_0  \n",
      "biotite                   0.38.0           py39h44dd56e_0    conda-forge\n",
      "black                     23.3.0           py39h06a4308_0  \n",
      "blas                      1.0                         mkl  \n",
      "bleach                    4.1.0              pyhd3eb1b0_0  \n",
      "blosc                     1.21.5               h0f2a231_0    conda-forge\n",
      "bokeh                     3.2.1            py39h2f386ee_0  \n",
      "bravado                   11.0.3             pyhd8ed1ab_0    conda-forge\n",
      "bravado-core              5.17.1             pyhd8ed1ab_0    conda-forge\n",
      "brotli                    1.0.9                he6710b0_2  \n",
      "brotli-python             1.0.9            py39h6a678d5_7  \n",
      "bzip2                     1.0.8                h7b6447c_0  \n",
      "c-ares                    1.20.1               hd590300_0    conda-forge\n",
      "c-blosc2                  2.10.5               hb4ffafa_0    conda-forge\n",
      "ca-certificates           2023.08.22           h06a4308_0  \n",
      "cached-property           1.5.2                hd8ed1ab_1    conda-forge\n",
      "cached_property           1.5.2              pyha770c72_1    conda-forge\n",
      "cachetools                5.3.1              pyhd8ed1ab_0    conda-forge\n",
      "cairo                     1.18.0               h3faef2a_0    conda-forge\n",
      "certifi                   2023.7.22        py39h06a4308_0  \n",
      "cffi                      1.15.1           py39h5eee18b_3  \n",
      "cftime                    1.6.2            py39h7deecbd_0  \n",
      "charset-normalizer        2.0.4              pyhd3eb1b0_0  \n",
      "click                     8.0.4            py39h06a4308_0  \n",
      "cloudpickle               2.2.1            py39h06a4308_0  \n",
      "codecov                   2.1.13             pyhd8ed1ab_0    conda-forge\n",
      "colorama                  0.4.6            py39h06a4308_0  \n",
      "comm                      0.1.2            py39h06a4308_0  \n",
      "contourpy                 1.0.5            py39hdb19cb5_0  \n",
      "coverage                  7.2.2            py39h5eee18b_0  \n",
      "cpuonly                   2.0                           0    pytorch\n",
      "cuda-version              11.8                 h70ddcb2_2    conda-forge\n",
      "cudatoolkit               11.8.0              h4ba93d1_12    conda-forge\n",
      "cycler                    0.11.0             pyhd3eb1b0_0  \n",
      "cytoolz                   0.12.0           py39h5eee18b_0  \n",
      "dask                      2023.10.0          pyhd8ed1ab_0    conda-forge\n",
      "dask-core                 2023.10.0          pyhd8ed1ab_0    conda-forge\n",
      "dask-jobqueue             0.8.2              pyhd8ed1ab_0    conda-forge\n",
      "debugpy                   1.6.7            py39h6a678d5_0  \n",
      "decorator                 5.1.1              pyhd3eb1b0_0  \n",
      "defusedxml                0.7.1              pyhd3eb1b0_0  \n",
      "distributed               2023.10.0          pyhd8ed1ab_0    conda-forge\n",
      "docker-pycreds            0.4.0                    pypi_0    pypi\n",
      "docutils                  0.20.1                   pypi_0    pypi\n",
      "edgembar                  0.2                      pypi_0    pypi\n",
      "entrypoints               0.4              py39h06a4308_0  \n",
      "exceptiongroup            1.0.4            py39h06a4308_0  \n",
      "execnet                   1.9.0              pyhd3eb1b0_0  \n",
      "executing                 0.8.3              pyhd3eb1b0_0  \n",
      "expat                     2.5.0                h6a678d5_0  \n",
      "fasteners                 0.16.3             pyhd3eb1b0_0  \n",
      "ffmpeg                    4.3                  hf484d3e_0    pytorch\n",
      "fftw                      3.3.10          nompi_hc118613_108    conda-forge\n",
      "filelock                  3.9.0            py39h06a4308_0  \n",
      "font-ttf-dejavu-sans-mono 2.37                 hd3eb1b0_0  \n",
      "font-ttf-inconsolata      2.001                hcb22688_0  \n",
      "font-ttf-source-code-pro  2.030                hd3eb1b0_0  \n",
      "font-ttf-ubuntu           0.83                 h8b1ccd4_0  \n",
      "fontconfig                2.14.2               h14ed4e7_0    conda-forge\n",
      "fonts-anaconda            1                    h8fa9717_0  \n",
      "fonts-conda-ecosystem     1                    hd3eb1b0_0  \n",
      "fonttools                 4.25.0             pyhd3eb1b0_0  \n",
      "fqdn                      1.5.1              pyhd8ed1ab_0    conda-forge\n",
      "freetype                  2.12.1               h4a9f257_0  \n",
      "fsspec                    2023.9.2         py39h06a4308_0  \n",
      "gettext                   0.21.1               h27087fc_0    conda-forge\n",
      "gflags                    2.2.2                he6710b0_0  \n",
      "giflib                    5.2.1                h5eee18b_3  \n",
      "gitdb                     4.0.11                   pypi_0    pypi\n",
      "gitpython                 3.1.40                   pypi_0    pypi\n",
      "glog                      0.6.0                h6f12383_0    conda-forge\n",
      "gmp                       6.2.1                h295c915_3  \n",
      "gmpy2                     2.1.2            py39heeb90bb_0  \n",
      "gnutls                    3.6.15               he1e5248_0  \n",
      "greenlet                  2.0.1            py39h6a678d5_0  \n",
      "griddataformats           1.0.1              pyhd8ed1ab_0    conda-forge\n",
      "gsd                       3.2.0            py39h44dd56e_0    conda-forge\n",
      "h5py                      3.10.0          nompi_py39h87cadad_100    conda-forge\n",
      "hdf4                      4.2.15               h9772cbc_5    conda-forge\n",
      "hdf5                      1.14.2          nompi_h4f84152_100    conda-forge\n",
      "heapdict                  1.0.1              pyhd3eb1b0_0  \n",
      "icu                       73.2                 h59595ed_0    conda-forge\n",
      "idna                      3.4              py39h06a4308_0  \n",
      "imagesize                 1.4.1                    pypi_0    pypi\n",
      "importlib-metadata        6.0.0            py39h06a4308_0  \n",
      "importlib-resources       6.1.0              pyhd8ed1ab_0    conda-forge\n",
      "importlib_metadata        6.0.0                hd3eb1b0_0  \n",
      "importlib_resources       6.1.0              pyhd8ed1ab_0    conda-forge\n",
      "iniconfig                 1.1.1              pyhd3eb1b0_0  \n",
      "intel-openmp              2023.1.0         hdb19cb5_46305  \n",
      "ipykernel                 6.25.0           py39h2f386ee_0  \n",
      "ipython                   8.15.0           py39h06a4308_0  \n",
      "ipython_genutils          0.2.0              pyhd3eb1b0_1  \n",
      "ipywidgets                8.0.4            py39h06a4308_0  \n",
      "isoduration               20.11.0            pyhd8ed1ab_0    conda-forge\n",
      "jedi                      0.18.1           py39h06a4308_1  \n",
      "jinja2                    3.1.2            py39h06a4308_0  \n",
      "joblib                    1.2.0            py39h06a4308_0  \n",
      "jpeg                      9e                   h5eee18b_1  \n",
      "json5                     0.9.6              pyhd3eb1b0_0  \n",
      "jsonpointer               2.4              py39hf3d152e_3    conda-forge\n",
      "jsonref                   0.2                        py_0    conda-forge\n",
      "jsonschema                4.19.1             pyhd8ed1ab_0    conda-forge\n",
      "jsonschema-specifications 2023.7.1           pyhd8ed1ab_0    conda-forge\n",
      "jsonschema-with-format-nongpl 4.19.1             pyhd8ed1ab_0    conda-forge\n",
      "jupyter-lsp               2.2.0              pyhd8ed1ab_0    conda-forge\n",
      "jupyter_client            7.4.9            py39h06a4308_0  \n",
      "jupyter_core              5.3.0            py39h06a4308_0  \n",
      "jupyter_events            0.7.0              pyhd8ed1ab_2    conda-forge\n",
      "jupyter_server            2.7.3              pyhd8ed1ab_1    conda-forge\n",
      "jupyter_server_terminals  0.4.4              pyhd8ed1ab_1    conda-forge\n",
      "jupyterlab                4.0.7              pyhd8ed1ab_0    conda-forge\n",
      "jupyterlab_pygments       0.1.2                      py_0  \n",
      "jupyterlab_server         2.25.0             pyhd8ed1ab_0    conda-forge\n",
      "jupyterlab_widgets        3.0.9              pyhd8ed1ab_0    conda-forge\n",
      "kinoml                    0+unknown                pypi_0    pypi\n",
      "kiwisolver                1.4.4            py39h6a678d5_0  \n",
      "krb5                      1.20.1               h143b758_1  \n",
      "lame                      3.100                h7b6447c_0  \n",
      "lcms2                     2.12                 h3be6417_0  \n",
      "ld_impl_linux-64          2.38                 h1181459_1  \n",
      "lerc                      3.0                  h295c915_0  \n",
      "libabseil                 20230802.1      cxx17_h59595ed_0    conda-forge\n",
      "libaec                    1.1.2                h59595ed_1    conda-forge\n",
      "libarrow                  13.0.0           h4121bdd_9_cpu    conda-forge\n",
      "libblas                   3.9.0           1_h86c2bf4_netlib    conda-forge\n",
      "libboost                  1.82.0               h109eef0_2  \n",
      "libboost-python           1.82.0           py39hda80f44_6    conda-forge\n",
      "libbrotlicommon           1.1.0                hd590300_1    conda-forge\n",
      "libbrotlidec              1.1.0                hd590300_1    conda-forge\n",
      "libbrotlienc              1.1.0                hd590300_1    conda-forge\n",
      "libcrc32c                 1.1.2                h6a678d5_0  \n",
      "libcurl                   8.4.0                h251f7ec_0  \n",
      "libdeflate                1.17                 h5eee18b_1  \n",
      "libedit                   3.1.20221030         h5eee18b_0  \n",
      "libev                     4.33                 h7f8727e_1  \n",
      "libevent                  2.1.12               hdbd6064_1  \n",
      "libffi                    3.4.4                h6a678d5_0  \n",
      "libgcc-ng                 13.2.0               h807b86a_2    conda-forge\n",
      "libgfortran-ng            13.2.0               h69a702a_2    conda-forge\n",
      "libgfortran5              13.2.0               ha4646dd_2    conda-forge\n",
      "libglib                   2.78.0               hebfc3b9_0    conda-forge\n",
      "libgomp                   13.2.0               h807b86a_2    conda-forge\n",
      "libgoogle-cloud           2.12.0               h19a6dae_3    conda-forge\n",
      "libgrpc                   1.58.1               he06187c_2    conda-forge\n",
      "libiconv                  1.17                 h166bdaf_0    conda-forge\n",
      "libidn2                   2.3.4                h5eee18b_0  \n",
      "libjpeg-turbo             2.0.0                h9bf148f_0    pytorch\n",
      "liblapack                 3.9.0           5_h92ddd45_netlib    conda-forge\n",
      "libnetcdf                 4.9.2           nompi_h80fb2b6_112    conda-forge\n",
      "libnghttp2                1.57.0               h2d74bed_0  \n",
      "libnsl                    2.0.0                h5eee18b_0  \n",
      "libnuma                   2.0.16               h0b41bf4_1    conda-forge\n",
      "libpng                    1.6.39               h5eee18b_0  \n",
      "libprotobuf               4.24.3               hf27288f_1    conda-forge\n",
      "libre2-11                 2023.06.02           h7a70373_0    conda-forge\n",
      "libsodium                 1.0.18               h7b6447c_0  \n",
      "libsqlite                 3.43.2               h2797004_0    conda-forge\n",
      "libssh2                   1.10.0               hdbd6064_2  \n",
      "libstdcxx-ng              13.2.0               h7e041cc_2    conda-forge\n",
      "libtasn1                  4.19.0               h5eee18b_0  \n",
      "libthrift                 0.19.0               hb90f79a_1    conda-forge\n",
      "libtiff                   4.5.1                h6a678d5_0  \n",
      "libunistring              0.9.10               h27cfd23_0  \n",
      "libutf8proc               2.8.0                h166bdaf_0    conda-forge\n",
      "libuuid                   2.38.1               h0b41bf4_0    conda-forge\n",
      "libwebp                   1.3.2                h11a3e52_0  \n",
      "libwebp-base              1.3.2                h5eee18b_0  \n",
      "libxcb                    1.15                 h7f8727e_0  \n",
      "libxgboost                1.7.6           cuda118h4159b1e_5    conda-forge\n",
      "libxml2                   2.11.5               h232c23b_1    conda-forge\n",
      "libxslt                   1.1.37               h0054252_1    conda-forge\n",
      "libzip                    1.10.1               h2629f0a_3    conda-forge\n",
      "libzlib                   1.2.13               hd590300_5    conda-forge\n",
      "lightning-utilities       0.9.0            py39h06a4308_0  \n",
      "llvm-openmp               14.0.6               h9e868ea_0  \n",
      "locket                    1.0.0            py39h06a4308_0  \n",
      "lxml                      4.9.3            py39hed45dcc_1    conda-forge\n",
      "lz4                       4.3.2            py39h5eee18b_0  \n",
      "lz4-c                     1.9.4                h6a678d5_0  \n",
      "lzo                       2.10              h516909a_1000    conda-forge\n",
      "markupsafe                2.1.1            py39h7f8727e_0  \n",
      "matplotlib-base           3.8.0            py39he9076e7_2    conda-forge\n",
      "matplotlib-inline         0.1.6            py39h06a4308_0  \n",
      "mda-xdrlib                0.2.0              pyhd8ed1ab_0    conda-forge\n",
      "mdanalysis                2.3.0            py39h4661b88_1    conda-forge\n",
      "mdtraj                    1.9.9            py39h031bd0f_0    conda-forge\n",
      "mistune                   0.8.4           py39h27cfd23_1000  \n",
      "mkl                       2023.1.0         h213fc3f_46343  \n",
      "mkl-service               2.4.0            py39h5eee18b_1  \n",
      "mkl_fft                   1.3.8            py39h5eee18b_0  \n",
      "mkl_random                1.2.4            py39hdb19cb5_0  \n",
      "mmpbsa-py                 16.0                     pypi_0    pypi\n",
      "mmtf-python               1.1.3              pyhd8ed1ab_0    conda-forge\n",
      "monotonic                 1.5                        py_0  \n",
      "mpc                       1.1.0                h10f8cd9_1  \n",
      "mpfr                      4.0.2                hb69a4c5_1  \n",
      "mpmath                    1.3.0            py39h06a4308_0  \n",
      "mrcfile                   1.4.3              pyhd8ed1ab_0    conda-forge\n",
      "msgpack-python            1.0.3            py39hd09550d_0  \n",
      "munkres                   1.1.4                      py_0  \n",
      "mypy_extensions           1.0.0            py39h06a4308_0  \n",
      "nbclassic                 0.5.5            py39h06a4308_0  \n",
      "nbclient                  0.5.13           py39h06a4308_0  \n",
      "nbconvert                 6.5.3              pyhd8ed1ab_0    conda-forge\n",
      "nbconvert-core            6.5.3              pyhd8ed1ab_0    conda-forge\n",
      "nbconvert-pandoc          6.5.3              pyhd8ed1ab_0    conda-forge\n",
      "nbformat                  5.9.2            py39h06a4308_0  \n",
      "nbval                     0.10.0             pyhd8ed1ab_0    conda-forge\n",
      "nccl                      2.19.3.1             h6103f9b_0    conda-forge\n",
      "ncurses                   6.4                  h6a678d5_0  \n",
      "nest-asyncio              1.5.6            py39h06a4308_0  \n",
      "netcdf-fortran            4.6.1           nompi_hacb5139_102    conda-forge\n",
      "netcdf4                   1.6.4           nompi_py39h4282601_103    conda-forge\n",
      "nettle                    3.7.3                hbbd107a_1  \n",
      "networkx                  3.1              py39h06a4308_0  \n",
      "nglview                   3.0.8              pyh1da8cd4_0    conda-forge\n",
      "notebook                  7.0.5              pyhd8ed1ab_0    conda-forge\n",
      "notebook-shim             0.2.2            py39h06a4308_0  \n",
      "numexpr                   2.7.3            py39hde0f152_1    conda-forge\n",
      "numpy                     1.26.0           py39h5f9d8c6_0  \n",
      "numpy-base                1.26.0           py39hb5e798b_0  \n",
      "ocl-icd                   2.3.1                h7f98852_0    conda-forge\n",
      "ocl-icd-system            1.0.0                         1    conda-forge\n",
      "opencadd                  0.2.2              pyhd8ed1ab_0    conda-forge\n",
      "openeye-toolkits          2023.1.1                 py39_0    openeye\n",
      "openff-amber-ff-ports     0.0.3              pyh6c4a22f_0    conda-forge\n",
      "openff-forcefields        2023.08.0          pyh1a96a4e_0    conda-forge\n",
      "openff-interchange        0.2.2              pyhd8ed1ab_0    conda-forge\n",
      "openff-interchange-base   0.2.2              pyhd8ed1ab_0    conda-forge\n",
      "openff-toolkit            0.11.2             pyhd8ed1ab_2    conda-forge\n",
      "openff-toolkit-base       0.11.2             pyhd8ed1ab_2    conda-forge\n",
      "openff-units              0.1.8              pyh1a96a4e_1    conda-forge\n",
      "openff-utilities          0.1.10             pyhd8ed1ab_0    conda-forge\n",
      "openh264                  2.1.1                h4ff587b_0  \n",
      "openjpeg                  2.4.0                h3ad879b_0  \n",
      "openmm                    8.0.0            py39he81762f_3    conda-forge\n",
      "openssl                   3.1.3                hd590300_0    conda-forge\n",
      "orc                       1.9.0                h208142c_3    conda-forge\n",
      "overrides                 7.4.0              pyhd8ed1ab_0    conda-forge\n",
      "packaging                 23.1             py39h06a4308_0  \n",
      "packmol                   20.010               h86c2bf4_0    conda-forge\n",
      "packmol-memgen            2023.2.24                pypi_0    pypi\n",
      "pandas                    2.1.1            py39hddac248_1    conda-forge\n",
      "pandoc                    2.19.2               h32600fe_2    conda-forge\n",
      "pandocfilters             1.5.0              pyhd3eb1b0_0  \n",
      "panedr                    0.7.2              pyhd8ed1ab_0    conda-forge\n",
      "papermill                 2.2.2              pyhd8ed1ab_0    conda-forge\n",
      "parmed                    4.1.0            py39h227be39_0    conda-forge\n",
      "parso                     0.8.3              pyhd3eb1b0_0  \n",
      "partd                     1.4.0            py39h06a4308_0  \n",
      "pathspec                  0.10.3           py39h06a4308_0  \n",
      "pathtools                 0.1.2                    pypi_0    pypi\n",
      "pbr                       5.11.1             pyhd8ed1ab_0    conda-forge\n",
      "pcre2                     10.40                hc3806b6_0    conda-forge\n",
      "pdb4amber                 22.0                     pypi_0    pypi\n",
      "perl                      5.32.1          4_hd590300_perl5    conda-forge\n",
      "pexpect                   4.8.0              pyhd3eb1b0_3  \n",
      "pickleshare               0.7.5           pyhd3eb1b0_1003  \n",
      "pillow                    10.0.1           py39ha6cbd5a_0  \n",
      "pint                      0.19.2             pyhd8ed1ab_0    conda-forge\n",
      "pip                       23.3               pyhd8ed1ab_0    conda-forge\n",
      "pixman                    0.42.2               h59595ed_0    conda-forge\n",
      "pkgutil-resolve-name      1.3.10             pyhd8ed1ab_1    conda-forge\n",
      "platformdirs              3.10.0           py39h06a4308_0  \n",
      "pluggy                    1.0.0            py39h06a4308_1  \n",
      "prometheus_client         0.14.1           py39h06a4308_0  \n",
      "prompt-toolkit            3.0.36           py39h06a4308_0  \n",
      "protobuf                  4.24.4                   pypi_0    pypi\n",
      "psutil                    5.9.0            py39h5eee18b_0  \n",
      "ptyprocess                0.7.0              pyhd3eb1b0_2  \n",
      "pure_eval                 0.2.2              pyhd3eb1b0_0  \n",
      "py-cpuinfo                9.0.0              pyhd8ed1ab_0    conda-forge\n",
      "py-xgboost                1.7.6           cuda118py39h6e70402_5    conda-forge\n",
      "pyarrow                   13.0.0          py39h6925388_9_cpu    conda-forge\n",
      "pycairo                   1.21.0           py39h287db57_0  \n",
      "pycparser                 2.21               pyhd3eb1b0_0  \n",
      "pydantic                  1.10.13          py39hd1e30aa_0    conda-forge\n",
      "pyedr                     0.7.2              pyhd8ed1ab_0    conda-forge\n",
      "pyg                       2.4.0           py39_torch_2.1.0_cpu    pyg\n",
      "pygments                  2.15.1           py39h06a4308_1  \n",
      "pymsmt                    22.0                     pypi_0    pypi\n",
      "pyparsing                 3.0.9            py39h06a4308_0  \n",
      "pyrsistent                0.18.0           py39heee7806_0  \n",
      "pysocks                   1.7.1            py39h06a4308_0  \n",
      "pytables                  3.9.1            py39hfbd31a7_0    conda-forge\n",
      "pytest                    7.4.2              pyhd8ed1ab_0    conda-forge\n",
      "pytest-cov                4.1.0              pyhd8ed1ab_0    conda-forge\n",
      "pytest-xdist              3.3.1              pyhd8ed1ab_0    conda-forge\n",
      "python                    3.9.18          h0755675_0_cpython    conda-forge\n",
      "python-constraint         1.4.0                      py_0    conda-forge\n",
      "python-dateutil           2.8.2              pyhd3eb1b0_0  \n",
      "python-fastjsonschema     2.16.2           py39h06a4308_0  \n",
      "python-json-logger        2.0.7              pyhd8ed1ab_0    conda-forge\n",
      "python-lmdb               1.4.1            py39h6a678d5_0  \n",
      "python-tzdata             2023.3             pyhd3eb1b0_0  \n",
      "python_abi                3.9                      4_cp39    conda-forge\n",
      "pytorch                   2.1.0               py3.9_cpu_0    pytorch\n",
      "pytorch-lightning         2.1.0              pyhd8ed1ab_0    conda-forge\n",
      "pytorch-mutex             1.0                         cpu    pytorch\n",
      "pytraj                    2.0.6                    pypi_0    pypi\n",
      "pytz                      2023.3.post1     py39h06a4308_0  \n",
      "pyyaml                    6.0              py39h5eee18b_1  \n",
      "pyzmq                     25.1.1           py39hb257651_1    conda-forge\n",
      "rdkit                     2023.09.1        py39hce5ca95_0    conda-forge\n",
      "rdma-core                 28.9                 h59595ed_1    conda-forge\n",
      "re2                       2023.06.02           h2873b5e_0    conda-forge\n",
      "readline                  8.2                  h5eee18b_0  \n",
      "referencing               0.30.2             pyhd8ed1ab_0    conda-forge\n",
      "reportlab                 3.5.67           py39hfdd840d_1  \n",
      "requests                  2.31.0             pyhd8ed1ab_0    conda-forge\n",
      "rfc3339-validator         0.1.4              pyhd8ed1ab_0    conda-forge\n",
      "rfc3986-validator         0.1.1              pyh9f0ad1d_0    conda-forge\n",
      "rpds-py                   0.10.6           py39h9fdd4d6_0    conda-forge\n",
      "ruamel.yaml               0.17.35          py39hd1e30aa_0    conda-forge\n",
      "ruamel.yaml.clib          0.2.6            py39h5eee18b_1  \n",
      "s2n                       1.3.54               h06160fa_0    conda-forge\n",
      "sander                    22.0                     pypi_0    pypi\n",
      "scikit-learn              1.3.0            py39h1128e8f_0  \n",
      "scipy                     1.11.3           py39h5f9d8c6_0  \n",
      "seaborn                   0.12.2           py39h06a4308_0  \n",
      "send2trash                1.8.2              pyh41d4057_0    conda-forge\n",
      "sentry-sdk                1.32.0                   pypi_0    pypi\n",
      "setproctitle              1.3.3                    pypi_0    pypi\n",
      "setuptools                68.0.0           py39h06a4308_0  \n",
      "simplejson                3.17.6           py39h7f8727e_0  \n",
      "six                       1.16.0             pyhd3eb1b0_1  \n",
      "sklearn-pytorch           0.1.0                    pypi_0    pypi\n",
      "smirnoff99frosst          1.1.0              pyh44b312d_0    conda-forge\n",
      "smmap                     5.0.1                    pypi_0    pypi\n",
      "snappy                    1.1.10               h9fff704_0    conda-forge\n",
      "sniffio                   1.2.0            py39h06a4308_1  \n",
      "snowballstemmer           2.2.0                    pypi_0    pypi\n",
      "sortedcontainers          2.4.0              pyhd3eb1b0_0  \n",
      "soupsieve                 2.5              py39h06a4308_0  \n",
      "sphinx                    7.2.6                    pypi_0    pypi\n",
      "sphinxcontrib-applehelp   1.0.7                    pypi_0    pypi\n",
      "sphinxcontrib-devhelp     1.0.5                    pypi_0    pypi\n",
      "sphinxcontrib-htmlhelp    2.0.4                    pypi_0    pypi\n",
      "sphinxcontrib-jsmath      1.0.1                    pypi_0    pypi\n",
      "sphinxcontrib-qthelp      1.0.6                    pypi_0    pypi\n",
      "sphinxcontrib-serializinghtml 1.1.9                    pypi_0    pypi\n",
      "sqlalchemy                2.0.21           py39h5eee18b_0  \n",
      "stack_data                0.2.0              pyhd3eb1b0_0  \n",
      "swagger-spec-validator    3.0.3              pyhd8ed1ab_0    conda-forge\n",
      "sympy                     1.11.1           py39h06a4308_0  \n",
      "tbb                       2021.8.0             hdb19cb5_0  \n",
      "tblib                     1.7.0              pyhd3eb1b0_0  \n",
      "tenacity                  8.2.2            py39h06a4308_0  \n",
      "terminado                 0.17.1           py39h06a4308_0  \n",
      "textwrap3                 0.9.2                      py_0    conda-forge\n",
      "threadpoolctl             2.2.0              pyh0d69192_0  \n",
      "tidynamics                1.1.2              pyhd8ed1ab_0    conda-forge\n",
      "tinycss2                  1.2.1            py39h06a4308_0  \n",
      "tk                        8.6.13               h2797004_0    conda-forge\n",
      "toml                      0.10.2             pyhd3eb1b0_0  \n",
      "tomli                     2.0.1            py39h06a4308_0  \n",
      "toolz                     0.12.0           py39h06a4308_0  \n",
      "torchaudio                2.1.0                  py39_cpu    pytorch\n",
      "torchmetrics              0.11.4           py39h2f386ee_1  \n",
      "torchvision               0.16.0                   pypi_0    pypi\n",
      "tornado                   6.3.3            py39h5eee18b_0  \n",
      "tqdm                      4.66.1             pyhd8ed1ab_0    conda-forge\n",
      "traitlets                 5.7.1            py39h06a4308_0  \n",
      "types-python-dateutil     2.8.19.14          pyhd8ed1ab_0    conda-forge\n",
      "typing                    3.10.0.0         py39h06a4308_0  \n",
      "typing-extensions         4.7.1            py39h06a4308_0  \n",
      "typing_extensions         4.7.1            py39h06a4308_0  \n",
      "typing_utils              0.1.0              pyhd8ed1ab_0    conda-forge\n",
      "tzdata                    2023c                h04d1e81_0  \n",
      "ucx                       1.15.0               h64cca9d_0    conda-forge\n",
      "uri-template              1.3.0              pyhd8ed1ab_0    conda-forge\n",
      "urllib3                   2.0.3            py39h06a4308_0  \n",
      "wandb                     0.15.12                  pypi_0    pypi\n",
      "watermark                 2.4.3              pyhd8ed1ab_0    conda-forge\n",
      "wcwidth                   0.2.5              pyhd3eb1b0_0  \n",
      "webcolors                 1.13               pyhd8ed1ab_0    conda-forge\n",
      "webencodings              0.5.1            py39h06a4308_1  \n",
      "websocket-client          0.58.0           py39h06a4308_4  \n",
      "wheel                     0.41.2           py39h06a4308_0  \n",
      "widgetsnbextension        4.0.5            py39h06a4308_0  \n",
      "xgboost                   1.7.6           cuda118py39h6e70402_5    conda-forge\n",
      "xmltodict                 0.13.0             pyhd8ed1ab_0    conda-forge\n",
      "xorg-kbproto              1.0.7             h7f98852_1002    conda-forge\n",
      "xorg-libice               1.1.1                hd590300_0    conda-forge\n",
      "xorg-libsm                1.2.4                h7391055_0    conda-forge\n",
      "xorg-libx11               1.8.7                h8ee46fc_0    conda-forge\n",
      "xorg-libxext              1.3.4                h0b41bf4_2    conda-forge\n",
      "xorg-libxrender           0.9.11               hd590300_0    conda-forge\n",
      "xorg-libxt                1.3.0                hd590300_1    conda-forge\n",
      "xorg-renderproto          0.11.1            h7f98852_1002    conda-forge\n",
      "xorg-xextproto            7.3.0             h0b41bf4_1003    conda-forge\n",
      "xorg-xproto               7.0.31            h27cfd23_1007  \n",
      "xyzservices               2022.9.0         py39h06a4308_1  \n",
      "xz                        5.4.2                h5eee18b_0  \n",
      "yaml                      0.2.5                h7b6447c_0  \n",
      "zeromq                    4.3.4                h2531618_0  \n",
      "zict                      3.0.0            py39h06a4308_0  \n",
      "zipp                      3.11.0           py39h06a4308_0  \n",
      "zlib                      1.2.13               hd590300_5    conda-forge\n",
      "zlib-ng                   2.0.7                h0b41bf4_0    conda-forge\n",
      "zstd                      1.5.5                hc292b87_0\n"
     ]
    }
   ],
   "source": [
    "from kinoml.utils import watermark\n",
    "w = watermark()"
   ]
  },
  {
   "cell_type": "code",
   "execution_count": 38,
   "metadata": {},
   "outputs": [],
   "source": [
    "%%capture cap --no-stderr\n",
    "w = watermark()"
   ]
  },
  {
   "cell_type": "code",
   "execution_count": 39,
   "metadata": {},
   "outputs": [],
   "source": [
    "import json\n",
    "\n",
    "with open(OUT / \"performance.json\", \"w\") as f:\n",
    "    json.dump(metrics, f, default=str, indent=2)\n",
    "    \n",
    "with open(OUT/ \"watermark.txt\", \"w\") as f:\n",
    "    f.write(cap.stdout)\n",
    "\n",
    "with open(OUT / \"hparams.json\", \"w\") as f:\n",
    "    json.dump(_hparams, f, default=str, indent=2)"
   ]
  },
  {
   "cell_type": "markdown",
   "metadata": {},
   "source": [
    "And this is it! We have run an experiment end to end, from obtaining the data to evaluating and saving the model!"
   ]
  }
 ],
 "metadata": {
  "kernelspec": {
   "display_name": "Python 3 (ipykernel)",
   "language": "python",
   "name": "python3"
  },
  "language_info": {
   "codemirror_mode": {
    "name": "ipython",
    "version": 3
   },
   "file_extension": ".py",
   "mimetype": "text/x-python",
   "name": "python",
   "nbconvert_exporter": "python",
   "pygments_lexer": "ipython3",
   "version": "3.9.18"
  },
  "papermill": {
   "default_parameters": {},
   "duration": 47.037738,
   "end_time": "2023-11-01T15:28:07.789750",
   "environment_variables": {},
   "exception": null,
   "input_path": "features/featurize-template.ipynb",
   "output_path": "features/ligand-only-morgan1024-EGFR-subsample_techpaper/featurize.ipynb",
   "parameters": {
    "DATASET_CLS": "kinoml.datasets.chembl.ChEMBLDatasetProvider",
    "DATASET_KWARGS": {
     "measurement_types": [
      "pIC50",
      "pKd",
      "pKi"
     ],
     "path_or_url": "/home/raquellrdc/Desktop/postdoc/kinoml_tech_paper_experiments/experiments-binding-affinity/features/ligand-only-morgan1024-EGFR-subsample_techpaper/filtered_dataset_EGFR.csv",
     "sample": 3000,
     "uniprot_ids": [
      "P00533"
     ]
    },
    "FEATURIZE_KWARGS": {
     "keep": false
    },
    "GROUPS": [
     [
      "kinoml.datasets.groups.CallableGrouper",
      {
       "function": "lambda measurement: type(measurement).__name__"
      }
     ]
    ],
    "HERE": "/home/raquellrdc/Desktop/postdoc/kinoml_tech_paper_experiments/experiments-binding-affinity/features/ligand-only-morgan1024-EGFR-subsample_techpaper",
    "PIPELINES": {
     "ligand": [
      [
       "kinoml.features.ligand.MorganFingerprintFeaturizer",
       {
        "nbits": 1024,
        "radius": 2
       }
      ]
     ]
    },
    "PIPELINES_AGG": "kinoml.features.core.TupleOfArrays",
    "PIPELINES_AGG_KWARGS": {},
    "TRAIN_TEST_VAL_KWARGS": {
     "idx_test": 0.1,
     "idx_train": 0.8,
     "idx_val": 0.1
    }
   },
   "start_time": "2023-11-01T15:27:20.752012",
   "version": "2.2.2"
  },
  "widgets": {
   "application/vnd.jupyter.widget-state+json": {
    "state": {
     "30c36494aa4d4f1bb67116a4a0fba084": {
      "model_module": "@jupyter-widgets/base",
      "model_module_version": "2.0.0",
      "model_name": "LayoutModel",
      "state": {
       "_model_module": "@jupyter-widgets/base",
       "_model_module_version": "2.0.0",
       "_model_name": "LayoutModel",
       "_view_count": null,
       "_view_module": "@jupyter-widgets/base",
       "_view_module_version": "2.0.0",
       "_view_name": "LayoutView",
       "align_content": null,
       "align_items": null,
       "align_self": null,
       "border_bottom": null,
       "border_left": null,
       "border_right": null,
       "border_top": null,
       "bottom": null,
       "display": null,
       "flex": null,
       "flex_flow": null,
       "grid_area": null,
       "grid_auto_columns": null,
       "grid_auto_flow": null,
       "grid_auto_rows": null,
       "grid_column": null,
       "grid_gap": null,
       "grid_row": null,
       "grid_template_areas": null,
       "grid_template_columns": null,
       "grid_template_rows": null,
       "height": null,
       "justify_content": null,
       "justify_items": null,
       "left": null,
       "margin": null,
       "max_height": null,
       "max_width": null,
       "min_height": null,
       "min_width": null,
       "object_fit": null,
       "object_position": null,
       "order": null,
       "overflow": null,
       "padding": null,
       "right": null,
       "top": null,
       "visibility": null,
       "width": null
      }
     },
     "313e440c21db46afb5e48570119c4cd4": {
      "model_module": "@jupyter-widgets/controls",
      "model_module_version": "2.0.0",
      "model_name": "HTMLModel",
      "state": {
       "_dom_classes": [],
       "_model_module": "@jupyter-widgets/controls",
       "_model_module_version": "2.0.0",
       "_model_name": "HTMLModel",
       "_view_count": null,
       "_view_module": "@jupyter-widgets/controls",
       "_view_module_version": "2.0.0",
       "_view_name": "HTMLView",
       "description": "",
       "description_allow_html": false,
       "layout": "IPY_MODEL_462f28af6d5b4168a4a3940066793167",
       "placeholder": "​",
       "style": "IPY_MODEL_4fa6e32448d74772958e4d41e2ebaea7",
       "tabbable": null,
       "tooltip": null,
       "value": "100%"
      }
     },
     "462f28af6d5b4168a4a3940066793167": {
      "model_module": "@jupyter-widgets/base",
      "model_module_version": "2.0.0",
      "model_name": "LayoutModel",
      "state": {
       "_model_module": "@jupyter-widgets/base",
       "_model_module_version": "2.0.0",
       "_model_name": "LayoutModel",
       "_view_count": null,
       "_view_module": "@jupyter-widgets/base",
       "_view_module_version": "2.0.0",
       "_view_name": "LayoutView",
       "align_content": null,
       "align_items": null,
       "align_self": null,
       "border_bottom": null,
       "border_left": null,
       "border_right": null,
       "border_top": null,
       "bottom": null,
       "display": null,
       "flex": null,
       "flex_flow": null,
       "grid_area": null,
       "grid_auto_columns": null,
       "grid_auto_flow": null,
       "grid_auto_rows": null,
       "grid_column": null,
       "grid_gap": null,
       "grid_row": null,
       "grid_template_areas": null,
       "grid_template_columns": null,
       "grid_template_rows": null,
       "height": null,
       "justify_content": null,
       "justify_items": null,
       "left": null,
       "margin": null,
       "max_height": null,
       "max_width": null,
       "min_height": null,
       "min_width": null,
       "object_fit": null,
       "object_position": null,
       "order": null,
       "overflow": null,
       "padding": null,
       "right": null,
       "top": null,
       "visibility": null,
       "width": null
      }
     },
     "4fa6e32448d74772958e4d41e2ebaea7": {
      "model_module": "@jupyter-widgets/controls",
      "model_module_version": "2.0.0",
      "model_name": "HTMLStyleModel",
      "state": {
       "_model_module": "@jupyter-widgets/controls",
       "_model_module_version": "2.0.0",
       "_model_name": "HTMLStyleModel",
       "_view_count": null,
       "_view_module": "@jupyter-widgets/base",
       "_view_module_version": "2.0.0",
       "_view_name": "StyleView",
       "background": null,
       "description_width": "",
       "font_size": null,
       "text_color": null
      }
     },
     "5b2ed1c1f9924a02847b5f3dcacdece8": {
      "model_module": "@jupyter-widgets/controls",
      "model_module_version": "2.0.0",
      "model_name": "FloatProgressModel",
      "state": {
       "_dom_classes": [],
       "_model_module": "@jupyter-widgets/controls",
       "_model_module_version": "2.0.0",
       "_model_name": "FloatProgressModel",
       "_view_count": null,
       "_view_module": "@jupyter-widgets/controls",
       "_view_module_version": "2.0.0",
       "_view_name": "ProgressView",
       "bar_style": "success",
       "description": "",
       "description_allow_html": false,
       "layout": "IPY_MODEL_30c36494aa4d4f1bb67116a4a0fba084",
       "max": 3000,
       "min": 0,
       "orientation": "horizontal",
       "style": "IPY_MODEL_db47babf9bbe467788ca7ee592e02a81",
       "tabbable": null,
       "tooltip": null,
       "value": 3000
      }
     },
     "8f2226e2e7ac4c3caf52ce26d2300b05": {
      "model_module": "@jupyter-widgets/controls",
      "model_module_version": "2.0.0",
      "model_name": "HTMLStyleModel",
      "state": {
       "_model_module": "@jupyter-widgets/controls",
       "_model_module_version": "2.0.0",
       "_model_name": "HTMLStyleModel",
       "_view_count": null,
       "_view_module": "@jupyter-widgets/base",
       "_view_module_version": "2.0.0",
       "_view_name": "StyleView",
       "background": null,
       "description_width": "",
       "font_size": null,
       "text_color": null
      }
     },
     "a117cbd41da04e2db24485d206ff553c": {
      "model_module": "@jupyter-widgets/base",
      "model_module_version": "2.0.0",
      "model_name": "LayoutModel",
      "state": {
       "_model_module": "@jupyter-widgets/base",
       "_model_module_version": "2.0.0",
       "_model_name": "LayoutModel",
       "_view_count": null,
       "_view_module": "@jupyter-widgets/base",
       "_view_module_version": "2.0.0",
       "_view_name": "LayoutView",
       "align_content": null,
       "align_items": null,
       "align_self": null,
       "border_bottom": null,
       "border_left": null,
       "border_right": null,
       "border_top": null,
       "bottom": null,
       "display": null,
       "flex": null,
       "flex_flow": null,
       "grid_area": null,
       "grid_auto_columns": null,
       "grid_auto_flow": null,
       "grid_auto_rows": null,
       "grid_column": null,
       "grid_gap": null,
       "grid_row": null,
       "grid_template_areas": null,
       "grid_template_columns": null,
       "grid_template_rows": null,
       "height": null,
       "justify_content": null,
       "justify_items": null,
       "left": null,
       "margin": null,
       "max_height": null,
       "max_width": null,
       "min_height": null,
       "min_width": null,
       "object_fit": null,
       "object_position": null,
       "order": null,
       "overflow": null,
       "padding": null,
       "right": null,
       "top": null,
       "visibility": null,
       "width": null
      }
     },
     "c63e6335e97544d78dd2d49c044953fa": {
      "model_module": "@jupyter-widgets/base",
      "model_module_version": "2.0.0",
      "model_name": "LayoutModel",
      "state": {
       "_model_module": "@jupyter-widgets/base",
       "_model_module_version": "2.0.0",
       "_model_name": "LayoutModel",
       "_view_count": null,
       "_view_module": "@jupyter-widgets/base",
       "_view_module_version": "2.0.0",
       "_view_name": "LayoutView",
       "align_content": null,
       "align_items": null,
       "align_self": null,
       "border_bottom": null,
       "border_left": null,
       "border_right": null,
       "border_top": null,
       "bottom": null,
       "display": null,
       "flex": null,
       "flex_flow": null,
       "grid_area": null,
       "grid_auto_columns": null,
       "grid_auto_flow": null,
       "grid_auto_rows": null,
       "grid_column": null,
       "grid_gap": null,
       "grid_row": null,
       "grid_template_areas": null,
       "grid_template_columns": null,
       "grid_template_rows": null,
       "height": null,
       "justify_content": null,
       "justify_items": null,
       "left": null,
       "margin": null,
       "max_height": null,
       "max_width": null,
       "min_height": null,
       "min_width": null,
       "object_fit": null,
       "object_position": null,
       "order": null,
       "overflow": null,
       "padding": null,
       "right": null,
       "top": null,
       "visibility": null,
       "width": null
      }
     },
     "c92ca9ec49ba4a8ebfeb386c0bad1360": {
      "model_module": "@jupyter-widgets/controls",
      "model_module_version": "2.0.0",
      "model_name": "HBoxModel",
      "state": {
       "_dom_classes": [],
       "_model_module": "@jupyter-widgets/controls",
       "_model_module_version": "2.0.0",
       "_model_name": "HBoxModel",
       "_view_count": null,
       "_view_module": "@jupyter-widgets/controls",
       "_view_module_version": "2.0.0",
       "_view_name": "HBoxView",
       "box_style": "",
       "children": [
        "IPY_MODEL_313e440c21db46afb5e48570119c4cd4",
        "IPY_MODEL_5b2ed1c1f9924a02847b5f3dcacdece8",
        "IPY_MODEL_fde17115434e4c5589c8b9ff33492e79"
       ],
       "layout": "IPY_MODEL_a117cbd41da04e2db24485d206ff553c",
       "tabbable": null,
       "tooltip": null
      }
     },
     "db47babf9bbe467788ca7ee592e02a81": {
      "model_module": "@jupyter-widgets/controls",
      "model_module_version": "2.0.0",
      "model_name": "ProgressStyleModel",
      "state": {
       "_model_module": "@jupyter-widgets/controls",
       "_model_module_version": "2.0.0",
       "_model_name": "ProgressStyleModel",
       "_view_count": null,
       "_view_module": "@jupyter-widgets/base",
       "_view_module_version": "2.0.0",
       "_view_name": "StyleView",
       "bar_color": null,
       "description_width": ""
      }
     },
     "fde17115434e4c5589c8b9ff33492e79": {
      "model_module": "@jupyter-widgets/controls",
      "model_module_version": "2.0.0",
      "model_name": "HTMLModel",
      "state": {
       "_dom_classes": [],
       "_model_module": "@jupyter-widgets/controls",
       "_model_module_version": "2.0.0",
       "_model_name": "HTMLModel",
       "_view_count": null,
       "_view_module": "@jupyter-widgets/controls",
       "_view_module_version": "2.0.0",
       "_view_name": "HTMLView",
       "description": "",
       "description_allow_html": false,
       "layout": "IPY_MODEL_c63e6335e97544d78dd2d49c044953fa",
       "placeholder": "​",
       "style": "IPY_MODEL_8f2226e2e7ac4c3caf52ce26d2300b05",
       "tabbable": null,
       "tooltip": null,
       "value": " 3000/3000 [00:00&lt;00:00, 41070.16it/s]"
      }
     }
    },
    "version_major": 2,
    "version_minor": 0
   }
  }
 },
 "nbformat": 4,
 "nbformat_minor": 4
}
