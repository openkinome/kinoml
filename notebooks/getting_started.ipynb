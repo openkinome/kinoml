{
 "cells": [
  {
   "cell_type": "markdown",
   "id": "e5390669-0749-4d13-ad3c-b85d83de133d",
   "metadata": {},
   "source": [
    "# Getting Started"
   ]
  },
  {
   "cell_type": "markdown",
   "id": "993294ab-4c7f-4cdd-8987-b6dfdd07ff21",
   "metadata": {},
   "source": [
    "## Introduction\n",
    "\n",
    "KinoML is a modular and extensible framework for machine learning in small molecule drug discovery. In this notebook you will learn how to install KinoML and how to train and test an ML model with a few lines of code.\n",
    "\n",
    "For more extensive examples and tutorials have a look at the other notebooks in this [directory](https://github.com/openkinome/kinoml/tree/master/examples) or at the [experiments-binding-affnity](https://github.com/openkinome/experiments-binding-affinity) repository.\n",
    "\n",
    "There is also a [documentation page](https://openkinome.org/kinoml/) for the KinoML repo, which allows browsing the API."
   ]
  },
  {
   "cell_type": "markdown",
   "id": "9e34e009-8830-4f87-ace3-6a0e310a49ba",
   "metadata": {},
   "source": [
    "## Installation\n",
    "\n",
    "KinoML can be easily installed using conda/mamba. We highly encourage using mamba instead of conda to speed up the installation.\n",
    "\n",
    "```\n",
    "mamba create -n kinoml --no-default-packages\n",
    "mamba env update -n kinoml -f https://raw.githubusercontent.com/openkinome/kinoml/master/devtools/conda-envs/test_env.yaml\n",
    "conda activate kinoml\n",
    "pip install https://github.com/openkinome/kinoml/archive/master.tar.gz\n",
    "```"
   ]
  },
  {
   "cell_type": "markdown",
   "id": "f7bef85f-88d1-45a8-9665-89c1441e2c9a",
   "metadata": {},
   "source": [
    "## Basic example\n",
    "\n",
    "KinoML has a strong focus on kinases, but can be applied to other proteins, if the appropriate code is written. However, the work on kinases is the easiest, since we provide cleaned kinase datasets for ChEMBL and PKIS2, which are hosted at the [kinodata](https://github.com/openkinome/kinodata) repository."
   ]
  },
  {
   "cell_type": "markdown",
   "id": "4e1efa1d-e330-4a54-9285-b61affce4f70",
   "metadata": {},
   "source": [
    "### DatasetProvider\n",
    "\n",
    "These datasets can be easily ingested using the appropriate `DatasetProvider`."
   ]
  },
  {
   "cell_type": "code",
   "execution_count": 1,
   "id": "9234fe09-2ccc-4640-b4eb-c7a7dfa83902",
   "metadata": {},
   "outputs": [],
   "source": [
    "%%capture --no-display\n",
    "# to hide warnings\n",
    "from kinoml.datasets.chembl import ChEMBLDatasetProvider"
   ]
  },
  {
   "cell_type": "code",
   "execution_count": 2,
   "id": "2bcc50be-a86b-4531-b282-33808d0f8597",
   "metadata": {},
   "outputs": [
    {
     "data": {
      "application/vnd.jupyter.widget-view+json": {
       "model_id": "e9b7bbc773b8461caa2e48726300de15",
       "version_major": 2,
       "version_minor": 0
      },
      "text/plain": [
       "  0%|          | 0/1000 [00:00<?, ?it/s]"
      ]
     },
     "metadata": {},
     "output_type": "display_data"
    },
    {
     "data": {
      "text/plain": [
       "<ChEMBLDatasetProvider with 1000 measurements (pIC50Measurement=1000), and 986 systems (KLIFSKinase=1, Ligand=986)>"
      ]
     },
     "execution_count": 2,
     "metadata": {},
     "output_type": "execute_result"
    }
   ],
   "source": [
    "chembl_provider = ChEMBLDatasetProvider.from_source(\n",
    "    measurement_types=[\"pIC50\"],\n",
    "    uniprot_ids=[\"P00533\"],\n",
    "    sample=1000,\n",
    ")\n",
    "chembl_provider"
   ]
  },
  {
   "cell_type": "markdown",
   "id": "eaa9ddbe-adc7-4361-87a3-52d212beceba",
   "metadata": {},
   "source": [
    "Just looking at the output, we can see that there appear to be some duplicates in the `measurements`. Let's have a look at the first measurement and the stored information."
   ]
  },
  {
   "cell_type": "code",
   "execution_count": 3,
   "id": "e86e578e-83cf-4485-ab58-0d32c0f6a88f",
   "metadata": {},
   "outputs": [
    {
     "data": {
      "text/plain": [
       "<pIC50Measurement values=[5.13076828] conditions=<AssayConditions pH=7> system=<ProteinLigandComplex with 2 components (<KLIFSKinase name=P00533>, <Ligand name=OCCCCNc1cncc(-c2cncc(Nc3cccc(Cl)c3)n2)c1>)>>"
      ]
     },
     "execution_count": 3,
     "metadata": {},
     "output_type": "execute_result"
    }
   ],
   "source": [
    "chembl_provider.measurements[0]"
   ]
  },
  {
   "cell_type": "code",
   "execution_count": 4,
   "id": "208d081f-dcd4-4eba-81fd-5f4f2bd6ff45",
   "metadata": {},
   "outputs": [
    {
     "data": {
      "text/plain": [
       "array([5.13076828])"
      ]
     },
     "execution_count": 4,
     "metadata": {},
     "output_type": "execute_result"
    }
   ],
   "source": [
    "chembl_provider.measurements[0].values"
   ]
  },
  {
   "cell_type": "code",
   "execution_count": 5,
   "id": "0f45a7b1-49ba-4c89-89ba-655b7f232725",
   "metadata": {},
   "outputs": [
    {
     "data": {
      "text/plain": [
       "<ProteinLigandComplex with 2 components (<KLIFSKinase name=P00533>, <Ligand name=OCCCCNc1cncc(-c2cncc(Nc3cccc(Cl)c3)n2)c1>)>"
      ]
     },
     "execution_count": 5,
     "metadata": {},
     "output_type": "execute_result"
    }
   ],
   "source": [
    "chembl_provider.measurements[0].system"
   ]
  },
  {
   "cell_type": "code",
   "execution_count": 6,
   "id": "a8c2aae5-f420-4af1-bc46-44b8ebb7e70b",
   "metadata": {},
   "outputs": [
    {
     "data": {
      "text/plain": [
       "<Ligand name=OCCCCNc1cncc(-c2cncc(Nc3cccc(Cl)c3)n2)c1>"
      ]
     },
     "execution_count": 6,
     "metadata": {},
     "output_type": "execute_result"
    }
   ],
   "source": [
    "chembl_provider.measurements[0].system.ligand"
   ]
  },
  {
   "cell_type": "code",
   "execution_count": 7,
   "id": "e22d6649-7df9-4cbd-8bbd-3506c080799a",
   "metadata": {},
   "outputs": [
    {
     "data": {
      "text/plain": [
       "<KLIFSKinase name=P00533>"
      ]
     },
     "execution_count": 7,
     "metadata": {},
     "output_type": "execute_result"
    }
   ],
   "source": [
    "chembl_provider.measurements[0].system.protein"
   ]
  },
  {
   "cell_type": "markdown",
   "id": "ff82aa40-141d-457e-aaee-c783a5b33092",
   "metadata": {},
   "source": [
    "Each measurement comes with a `values` array representing the activity values for this measurement, which can be considered the typical `y` we want to predict in an ML experiment. The `system` object contains relevant information about `protein` and `ligand` for this measurement. The `system` information is typically `X` in an ML experiment, but is not yet in a machine-friendly format."
   ]
  },
  {
   "cell_type": "markdown",
   "id": "7fa6c5d4-4905-4829-9220-c4d0068d6a3f",
   "metadata": {},
   "source": [
    "### Featurizer\n",
    "\n",
    "To get the `X` in a machine-friendly format KinoML uses so called featurizers, which encode the information of each system. The `MorganFingerprintFeaturizer` for example will iterate over all `systems` and transform the `ligand` into a bit vector. All performed featurizations are commonly stored in the `featurizations` attribute of each system. The `last` performed featurization is stored additionally for easy access."
   ]
  },
  {
   "cell_type": "code",
   "execution_count": 8,
   "id": "9ab37164-03d6-4d14-ab09-84aab5a59647",
   "metadata": {},
   "outputs": [],
   "source": [
    "from kinoml.features.ligand import MorganFingerprintFeaturizer"
   ]
  },
  {
   "cell_type": "code",
   "execution_count": 9,
   "id": "2f2adcbc-e023-4f47-8153-5bead1d46d5a",
   "metadata": {},
   "outputs": [
    {
     "data": {
      "text/plain": [
       "{'last': array([0, 0, 0, 0, 0, 0, 0, 0, 0, 0, 0, 0, 0, 0, 0, 1, 0, 0, 0, 0, 0, 0,\n",
       "        0, 0, 0, 0, 0, 0, 0, 1, 0, 0, 0, 0, 0, 0, 0, 0, 0, 0, 1, 0, 0, 0,\n",
       "        0, 0, 0, 0, 0, 1, 0, 0, 0, 0, 0, 0, 0, 0, 0, 0, 0, 0, 0, 0, 1, 0,\n",
       "        0, 1, 0, 0, 0, 0, 0, 0, 0, 1, 1, 0, 0, 0, 1, 0, 0, 0, 0, 0, 0, 0,\n",
       "        0, 0, 0, 0, 0, 0, 0, 0, 0, 0, 0, 0, 0, 0, 0, 0, 1, 0, 1, 0, 0, 0,\n",
       "        0, 0, 0, 0, 0, 0, 0, 0, 0, 0, 0, 0, 0, 0, 1, 0, 0, 0, 1, 0, 0, 0,\n",
       "        0, 0, 0, 0, 1, 0, 0, 0, 0, 0, 1, 0, 0, 0, 0, 1, 0, 0, 0, 0, 0, 0,\n",
       "        0, 1, 0, 0, 0, 1, 0, 0, 0, 0, 0, 1, 0, 0, 1, 0, 0, 0, 0, 0, 0, 0,\n",
       "        0, 0, 0, 0, 0, 0, 0, 0, 0, 0, 0, 0, 0, 0, 0, 1, 0, 0, 0, 0, 0, 0,\n",
       "        0, 0, 0, 0, 0, 0, 0, 0, 0, 0, 0, 0, 0, 1, 0, 0, 1, 0, 1, 0, 0, 0,\n",
       "        0, 0, 1, 0, 0, 0, 0, 0, 0, 0, 0, 0, 0, 0, 0, 0, 0, 0, 0, 0, 0, 0,\n",
       "        0, 0, 0, 0, 0, 0, 0, 0, 0, 0, 0, 0, 0, 0, 0, 1, 0, 0, 0, 0, 0, 0,\n",
       "        0, 0, 0, 1, 0, 0, 0, 0, 0, 0, 0, 0, 0, 0, 0, 0, 0, 0, 0, 0, 0, 0,\n",
       "        0, 0, 0, 0, 0, 0, 0, 0, 0, 1, 0, 0, 0, 0, 0, 0, 0, 0, 0, 0, 0, 0,\n",
       "        0, 0, 0, 0, 0, 0, 0, 0, 0, 0, 0, 1, 0, 0, 0, 0, 0, 0, 0, 0, 0, 1,\n",
       "        0, 0, 0, 0, 0, 0, 0, 1, 0, 0, 0, 0, 0, 0, 0, 0, 0, 0, 0, 0, 0, 0,\n",
       "        0, 0, 0, 0, 1, 0, 0, 0, 0, 0, 0, 1, 0, 0, 0, 0, 0, 0, 0, 0, 0, 0,\n",
       "        0, 1, 0, 0, 1, 0, 0, 0, 0, 0, 0, 0, 0, 0, 0, 0, 0, 0, 1, 0, 0, 0,\n",
       "        0, 0, 0, 0, 0, 0, 0, 0, 0, 0, 0, 0, 0, 0, 0, 0, 0, 0, 0, 0, 0, 0,\n",
       "        0, 0, 0, 0, 0, 0, 0, 0, 0, 0, 0, 0, 0, 0, 0, 0, 0, 0, 1, 0, 0, 0,\n",
       "        0, 0, 0, 0, 0, 0, 0, 0, 0, 0, 0, 0, 0, 0, 0, 0, 0, 0, 0, 0, 0, 0,\n",
       "        0, 0, 0, 0, 0, 0, 1, 0, 0, 0, 0, 1, 0, 0, 0, 0, 0, 1, 0, 0, 0, 0,\n",
       "        0, 0, 0, 0, 0, 0, 0, 1, 0, 0, 0, 0, 0, 0, 0, 0, 0, 0, 0, 0, 0, 0,\n",
       "        0, 0, 0, 0, 0, 1]),\n",
       " 'MorganFingerprintFeaturizer': array([0, 0, 0, 0, 0, 0, 0, 0, 0, 0, 0, 0, 0, 0, 0, 1, 0, 0, 0, 0, 0, 0,\n",
       "        0, 0, 0, 0, 0, 0, 0, 1, 0, 0, 0, 0, 0, 0, 0, 0, 0, 0, 1, 0, 0, 0,\n",
       "        0, 0, 0, 0, 0, 1, 0, 0, 0, 0, 0, 0, 0, 0, 0, 0, 0, 0, 0, 0, 1, 0,\n",
       "        0, 1, 0, 0, 0, 0, 0, 0, 0, 1, 1, 0, 0, 0, 1, 0, 0, 0, 0, 0, 0, 0,\n",
       "        0, 0, 0, 0, 0, 0, 0, 0, 0, 0, 0, 0, 0, 0, 0, 0, 1, 0, 1, 0, 0, 0,\n",
       "        0, 0, 0, 0, 0, 0, 0, 0, 0, 0, 0, 0, 0, 0, 1, 0, 0, 0, 1, 0, 0, 0,\n",
       "        0, 0, 0, 0, 1, 0, 0, 0, 0, 0, 1, 0, 0, 0, 0, 1, 0, 0, 0, 0, 0, 0,\n",
       "        0, 1, 0, 0, 0, 1, 0, 0, 0, 0, 0, 1, 0, 0, 1, 0, 0, 0, 0, 0, 0, 0,\n",
       "        0, 0, 0, 0, 0, 0, 0, 0, 0, 0, 0, 0, 0, 0, 0, 1, 0, 0, 0, 0, 0, 0,\n",
       "        0, 0, 0, 0, 0, 0, 0, 0, 0, 0, 0, 0, 0, 1, 0, 0, 1, 0, 1, 0, 0, 0,\n",
       "        0, 0, 1, 0, 0, 0, 0, 0, 0, 0, 0, 0, 0, 0, 0, 0, 0, 0, 0, 0, 0, 0,\n",
       "        0, 0, 0, 0, 0, 0, 0, 0, 0, 0, 0, 0, 0, 0, 0, 1, 0, 0, 0, 0, 0, 0,\n",
       "        0, 0, 0, 1, 0, 0, 0, 0, 0, 0, 0, 0, 0, 0, 0, 0, 0, 0, 0, 0, 0, 0,\n",
       "        0, 0, 0, 0, 0, 0, 0, 0, 0, 1, 0, 0, 0, 0, 0, 0, 0, 0, 0, 0, 0, 0,\n",
       "        0, 0, 0, 0, 0, 0, 0, 0, 0, 0, 0, 1, 0, 0, 0, 0, 0, 0, 0, 0, 0, 1,\n",
       "        0, 0, 0, 0, 0, 0, 0, 1, 0, 0, 0, 0, 0, 0, 0, 0, 0, 0, 0, 0, 0, 0,\n",
       "        0, 0, 0, 0, 1, 0, 0, 0, 0, 0, 0, 1, 0, 0, 0, 0, 0, 0, 0, 0, 0, 0,\n",
       "        0, 1, 0, 0, 1, 0, 0, 0, 0, 0, 0, 0, 0, 0, 0, 0, 0, 0, 1, 0, 0, 0,\n",
       "        0, 0, 0, 0, 0, 0, 0, 0, 0, 0, 0, 0, 0, 0, 0, 0, 0, 0, 0, 0, 0, 0,\n",
       "        0, 0, 0, 0, 0, 0, 0, 0, 0, 0, 0, 0, 0, 0, 0, 0, 0, 0, 1, 0, 0, 0,\n",
       "        0, 0, 0, 0, 0, 0, 0, 0, 0, 0, 0, 0, 0, 0, 0, 0, 0, 0, 0, 0, 0, 0,\n",
       "        0, 0, 0, 0, 0, 0, 1, 0, 0, 0, 0, 1, 0, 0, 0, 0, 0, 1, 0, 0, 0, 0,\n",
       "        0, 0, 0, 0, 0, 0, 0, 1, 0, 0, 0, 0, 0, 0, 0, 0, 0, 0, 0, 0, 0, 0,\n",
       "        0, 0, 0, 0, 0, 1])}"
      ]
     },
     "execution_count": 9,
     "metadata": {},
     "output_type": "execute_result"
    }
   ],
   "source": [
    "%%capture --no-display\n",
    "# to hide warnings\n",
    "chembl_provider.featurize(MorganFingerprintFeaturizer())\n",
    "chembl_provider.measurements[0].system.featurizations"
   ]
  },
  {
   "cell_type": "markdown",
   "id": "59213746-f142-4180-95f1-6cc6278a857c",
   "metadata": {},
   "source": [
    "For more details on the KinoML object model have a look at the respective [notebook](https://github.com/openkinome/kinoml/blob/master/examples/kinoml_object_model.ipynb)."
   ]
  },
  {
   "cell_type": "markdown",
   "id": "5b7a46bc-c0c5-4e07-ad89-9e38d79d07f6",
   "metadata": {},
   "source": [
    "### ML training and testing\n",
    "\n",
    "Now that we have `X` and `y`, we can run a small ML experiment. In this case, we will train a [support vector classifier](https://scikit-learn.org/stable/modules/generated/sklearn.svm.SVC.html) from sklearn. "
   ]
  },
  {
   "cell_type": "code",
   "execution_count": 10,
   "id": "e42ca7cc-169a-4d58-80c1-5e70f49a4f4e",
   "metadata": {},
   "outputs": [],
   "source": [
    "import matplotlib.pyplot as plt\n",
    "from sklearn.svm import SVC\n",
    "from sklearn.metrics import roc_curve, roc_auc_score\n",
    "from sklearn.model_selection import train_test_split"
   ]
  },
  {
   "cell_type": "code",
   "execution_count": 11,
   "id": "f59696aa-3df2-4e96-9b6c-f41c74462ed9",
   "metadata": {},
   "outputs": [
    {
     "name": "stdout",
     "output_type": "stream",
     "text": [
      "[0 0 0 0 0 0 0 0 0 0 0 0 0 0 0 1 0 0 0 0 0 0 0 0 0 0 0 0 0 1 0 0 0 0 0 0 0\n",
      " 0 0 0 1 0 0 0 0 0 0 0 0 1 0 0 0 0 0 0 0 0 0 0 0 0 0 0 1 0 0 1 0 0 0 0 0 0\n",
      " 0 1 1 0 0 0 1 0 0 0 0 0 0 0 0 0 0 0 0 0 0 0 0 0 0 0 0 0 0 0 1 0 1 0 0 0 0\n",
      " 0 0 0 0 0 0 0 0 0 0 0 0 0 1 0 0 0 1 0 0 0 0 0 0 0 1 0 0 0 0 0 1 0 0 0 0 1\n",
      " 0 0 0 0 0 0 0 1 0 0 0 1 0 0 0 0 0 1 0 0 1 0 0 0 0 0 0 0 0 0 0 0 0 0 0 0 0\n",
      " 0 0 0 0 0 0 1 0 0 0 0 0 0 0 0 0 0 0 0 0 0 0 0 0 0 0 1 0 0 1 0 1 0 0 0 0 0\n",
      " 1 0 0 0 0 0 0 0 0 0 0 0 0 0 0 0 0 0 0 0 0 0 0 0 0 0 0 0 0 0 0 0 0 0 0 1 0\n",
      " 0 0 0 0 0 0 0 0 1 0 0 0 0 0 0 0 0 0 0 0 0 0 0 0 0 0 0 0 0 0 0 0 0 0 0 0 1\n",
      " 0 0 0 0 0 0 0 0 0 0 0 0 0 0 0 0 0 0 0 0 0 0 0 1 0 0 0 0 0 0 0 0 0 1 0 0 0\n",
      " 0 0 0 0 1 0 0 0 0 0 0 0 0 0 0 0 0 0 0 0 0 0 0 1 0 0 0 0 0 0 1 0 0 0 0 0 0\n",
      " 0 0 0 0 0 1 0 0 1 0 0 0 0 0 0 0 0 0 0 0 0 0 1 0 0 0 0 0 0 0 0 0 0 0 0 0 0\n",
      " 0 0 0 0 0 0 0 0 0 0 0 0 0 0 0 0 0 0 0 0 0 0 0 0 0 0 0 0 0 1 0 0 0 0 0 0 0\n",
      " 0 0 0 0 0 0 0 0 0 0 0 0 0 0 0 0 0 0 0 0 0 0 0 0 1 0 0 0 0 1 0 0 0 0 0 1 0\n",
      " 0 0 0 0 0 0 0 0 0 0 1 0 0 0 0 0 0 0 0 0 0 0 0 0 0 0 0 0 0 0 1]\n",
      "5.1307683\n"
     ]
    }
   ],
   "source": [
    "# get data from provider\n",
    "X, y = chembl_provider.to_numpy()[0]\n",
    "print(X[0])\n",
    "print(y[0])"
   ]
  },
  {
   "cell_type": "code",
   "execution_count": 12,
   "id": "4cd5bc35-10c3-4918-a9db-e8d185334d38",
   "metadata": {},
   "outputs": [
    {
     "name": "stdout",
     "output_type": "stream",
     "text": [
      "0\n"
     ]
    }
   ],
   "source": [
    "# binarize activity values\n",
    "y = (y > 7).astype(int)\n",
    "print(y[0])"
   ]
  },
  {
   "cell_type": "code",
   "execution_count": 13,
   "id": "e78e1041-38ed-4e71-aa73-804fb83e6cda",
   "metadata": {},
   "outputs": [],
   "source": [
    "# split data into train and test sets\n",
    "x_train, x_test, y_train, y_test = train_test_split(X, y, test_size=0.2)"
   ]
  },
  {
   "cell_type": "code",
   "execution_count": 14,
   "id": "78eb6620-7955-4a97-8cad-2fc3fe8f9724",
   "metadata": {},
   "outputs": [
    {
     "data": {
      "text/plain": [
       "SVC(probability=True)"
      ]
     },
     "execution_count": 14,
     "metadata": {},
     "output_type": "execute_result"
    }
   ],
   "source": [
    "# train the support vector classifier\n",
    "svc = SVC(probability=True)\n",
    "svc.fit(x_train, y_train)"
   ]
  },
  {
   "cell_type": "code",
   "execution_count": 15,
   "id": "4188955c-ef1f-4795-8e62-560958bcdfa2",
   "metadata": {},
   "outputs": [
    {
     "data": {
      "image/png": "[encoded data removed]",
      "text/plain": [
       "<Figure size 432x288 with 1 Axes>"
      ]
     },
     "metadata": {
      "needs_background": "light"
     },
     "output_type": "display_data"
    }
   ],
   "source": [
    "# get the ROC curve including AUC\n",
    "y_test_pred = svc.predict(x_test)\n",
    "svc_roc_auc = roc_auc_score(y_test, y_test_pred)\n",
    "fpr, tpr, thresholds = roc_curve(y_test, svc.predict_proba(x_test)[:,1])\n",
    "plt.plot(fpr, tpr, label=f'SVC - AUC={round(svc_roc_auc,2)}')\n",
    "plt.xlim([-0.05, 1.05])\n",
    "plt.ylim([-0.05, 1.05])\n",
    "plt.plot([0, 1], [0, 1], linestyle='--', label='Random', lw=2, color=\"black\")  # Random curve\n",
    "plt.xlabel('False positive rate', size=12)\n",
    "plt.ylabel('True positive rate', size=12)\n",
    "plt.tick_params(labelsize=12)\n",
    "plt.legend(fontsize=12)\n",
    "plt.show()"
   ]
  },
  {
   "cell_type": "markdown",
   "id": "66d33f5a-a680-425a-a86c-d3c0d8ae4f05",
   "metadata": {},
   "source": [
    "For more advanced examples have a look at the [experiments-binding-affinity](https://github.com/openkinome/experiments-binding-affinity) repository."
   ]
  }
 ],
 "metadata": {
  "kernelspec": {
   "display_name": "Python 3 (ipykernel)",
   "language": "python",
   "name": "python3"
  },
  "language_info": {
   "codemirror_mode": {
    "name": "ipython",
    "version": 3
   },
   "file_extension": ".py",
   "mimetype": "text/x-python",
   "name": "python",
   "nbconvert_exporter": "python",
   "pygments_lexer": "ipython3",
   "version": "3.9.10"
  }
 },
 "nbformat": 4,
 "nbformat_minor": 5
}
