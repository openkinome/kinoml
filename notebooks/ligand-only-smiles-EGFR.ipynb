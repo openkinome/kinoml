{
 "cells": [
  {
   "cell_type": "markdown",
   "metadata": {},
   "source": [
    "# Ligand-only SMILES experiment\n",
    "\n",
    "In this notebook we will run an experiment using KinoML. In this case we will focus on ligands that have affinity for the kinase EGFR. To run this experiments we will use `kinoml.features.ligand.OneHotSMILESFeaturizer`, which means that we will only use ligand information to train our model and run our experiments. This notebook is divided into two parts, the first part is about featurizing the dataset and the second part is the actual experiment."
   ]
  },
  {
   "cell_type": "markdown",
   "metadata": {},
   "source": [
    "## 1. Featurize the dataset\n",
    "\n",
    "Any machine learning model will expect tensorial representations of the chemical data. This notebooks provides a workflow to achieve such goal.\n",
    "\n",
    "`kinoml.dataset.DatasetProvider` objects need to be available to deal with your collection of raw measurements for protein:ligand systems. These objects are, roughly, a list of `kinoml.core.BaseMeasurement`, each containing a set of `.values` and a some extra metadata, like the `system` objects to be featurized here.\n",
    "\n",
    "In ligand-based models, protein information is only considered marginally, and most of the action happens at the ligand level. Usually starting with a string representation such as SMILES, or a database identifier such as a PubChem ID, these are promoted to (usually) RDKit objects and then transformed into a tensor of some form (e.g. fingerprints, molecular graph as an adjacency matrix, etc).\n",
    "\n",
    "Available featurizers can be found under `kinoml.features`."
   ]
  },
  {
   "cell_type": "code",
   "execution_count": 1,
   "metadata": {
    "papermill": {
     "duration": 0.01276,
     "end_time": "2023-11-01T15:27:21.712240",
     "exception": false,
     "start_time": "2023-11-01T15:27:21.699480",
     "status": "completed"
    },
    "tags": []
   },
   "outputs": [],
   "source": [
    "# If this is the template file (and not a copy) and you are introducing changes,\n",
    "# update VERSION with the current date (YYYY.MM.DD)\n",
    "VERSION = \"2023.11.06\" "
   ]
  },
  {
   "cell_type": "code",
   "execution_count": 2,
   "metadata": {},
   "outputs": [],
   "source": [
    "#fuction to obtain current working path to ouput results\n",
    "def main():\n",
    "    parameters[\"HERE\"] = str(nbout.parent.resolve())"
   ]
  },
  {
   "cell_type": "code",
   "execution_count": 3,
   "metadata": {},
   "outputs": [],
   "source": [
    "HERE = _dh[-1] #current path"
   ]
  },
  {
   "cell_type": "markdown",
   "metadata": {
    "papermill": {
     "duration": 0.005488,
     "end_time": "2023-11-01T15:27:21.723562",
     "exception": false,
     "start_time": "2023-11-01T15:27:21.718074",
     "status": "completed"
    },
    "tags": []
   },
   "source": [
    "### ✏ Define hyper parameters"
   ]
  },
  {
   "cell_type": "markdown",
   "metadata": {},
   "source": [
    "Now we will define the parameters of our featurization pipeline. Note that you can adapt these parameters to your data and any experiments you want to run. If you use a different dataset, please make sure it is processed (e.g. no empty values, repeated entries, etc...)"
   ]
  },
  {
   "cell_type": "code",
   "execution_count": 4,
   "metadata": {
    "papermill": {
     "duration": 0.010962,
     "end_time": "2023-11-01T15:27:21.756923",
     "exception": false,
     "start_time": "2023-11-01T15:27:21.745961",
     "status": "completed"
    },
    "tags": [
     "injected-parameters"
    ]
   },
   "outputs": [],
   "source": [
    "# Parameters\n",
    "DATASET_CLS = \"kinoml.datasets.chembl.ChEMBLDatasetProvider\"\n",
    "DATASET_KWARGS = {\n",
    "    \"path_or_url\": \"../data/filtered_dataset_EGFR.csv\", #your dataset\n",
    "    \"measurement_types\": [\"pIC50\", \"pKd\", \"pKi\"], #the type of measurements you are interested in\n",
    "    \"uniprot_ids\": [\"P00533\"], #the kinase\n",
    "    \"sample\": 1000, #number of samples you want to work with, to run the notebook faster you can pick a smaller number\n",
    "}\n",
    "DATASET_KWARGS = {\n",
    "    \"path_or_url\": \"../data/filtered_dataset_EGFR.csv\",\n",
    "    \"sample\": 1000,\n",
    "}\n",
    "PIPELINES = {\n",
    "    \"ligand\": [\n",
    "        [\"kinoml.features.ligand.OneHotSMILESFeaturizer\", {}],\n",
    "        [\"kinoml.features.core.PadFeaturizer\", {\"shape\": \"auto\"}],\n",
    "    ]\n",
    "}\n",
    "PIPELINES_AGG = \"kinoml.features.core.TupleOfArrays\"\n",
    "PIPELINES_AGG_KWARGS = {}\n",
    "FEATURIZE_KWARGS = {\"keep\": False}\n",
    "GROUPS = [\n",
    "    [\n",
    "        \"kinoml.datasets.groups.CallableGrouper\",\n",
    "        {\"function\": \"lambda measurement: measurement.system.protein.name\"},\n",
    "    ],\n",
    "    [\n",
    "        \"kinoml.datasets.groups.CallableGrouper\",\n",
    "        {\"function\": \"lambda measurement: type(measurement).__name__\"},\n",
    "    ],\n",
    "]\n",
    "TRAIN_TEST_VAL_KWARGS = {\"idx_train\": 0.8, \"idx_test\": 0.1, \"idx_val\": 0.1}"
   ]
  },
  {
   "cell_type": "markdown",
   "metadata": {
    "papermill": {
     "duration": 0.005698,
     "end_time": "2023-11-01T15:27:21.768372",
     "exception": false,
     "start_time": "2023-11-01T15:27:21.762674",
     "status": "completed"
    },
    "tags": []
   },
   "source": [
    "⚠ If you are adapting this notebook to your own dataset, you should _not_ need to modify anything from here 🤞\n",
    "\n",
    "---\n",
    "\n",
    "Define key paths for data and outputs:"
   ]
  },
  {
   "cell_type": "code",
   "execution_count": 5,
   "metadata": {
    "papermill": {
     "duration": 0.013019,
     "end_time": "2023-11-01T15:27:21.787384",
     "exception": false,
     "start_time": "2023-11-01T15:27:21.774365",
     "status": "completed"
    },
    "tags": []
   },
   "outputs": [
    {
     "name": "stdout",
     "output_type": "stream",
     "text": [
      "This notebook:           HERE = /home/raquellrdc/Desktop/postdoc/kinoml_tech_paper_final/kinoml/examples/experiments/ligand-only-smiles-EGFR\n",
      "This repo:               REPO = /home/raquellrdc/Desktop/postdoc/kinoml_tech_paper_final/kinoml\n",
      "Outputs in:               OUT = /home/raquellrdc/Desktop/postdoc/kinoml_tech_paper_final/kinoml/examples/experiments/ligand-only-smiles-EGFR/_output/ligand__OneHotSMILESFeaturizer__PadFeaturizer_shape=auto/ChEMBLDatasetProvider\n"
     ]
    }
   ],
   "source": [
    "from pathlib import Path\n",
    "\n",
    "HERE = Path(HERE)\n",
    "for parent in HERE.parents:\n",
    "    if next(parent.glob(\".github/\"), None):\n",
    "        REPO = parent\n",
    "        break\n",
    "\n",
    "# Generate paths for this pipeline\n",
    "featurizer_path = []\n",
    "for name, branch in PIPELINES.items():\n",
    "    featurizer_path.append(name)\n",
    "    for clsname, kwargs in branch:\n",
    "        clsname = clsname.rsplit(\".\", 1)[1]\n",
    "        kwargs = [f\"{k}={''.join(c for c in str(v) if c.isalnum())}\" for k,v in kwargs.items()]\n",
    "        featurizer_path.append(\"_\".join([clsname] + kwargs))\n",
    "\n",
    "OUT = HERE / \"_output\"  / \"__\".join(featurizer_path) / DATASET_CLS.rsplit('.', 1)[1]\n",
    "OUT.mkdir(parents=True, exist_ok=True)\n",
    "\n",
    "print(f\"This notebook:           HERE = {HERE}\")\n",
    "print(f\"This repo:               REPO = {REPO}\")\n",
    "print(f\"Outputs in:               OUT = {OUT}\")"
   ]
  },
  {
   "cell_type": "code",
   "execution_count": 6,
   "metadata": {},
   "outputs": [],
   "source": [
    "# Nasty trick: save all-caps local variables (CONSTANTS working as hyperparametrs) so far in a dict to save it later\n",
    "_hparams = {key: value for key, value in locals().items() if key.upper() == key and not key.startswith((\"_\", \"OE_\"))}"
   ]
  },
  {
   "cell_type": "markdown",
   "metadata": {
    "papermill": {
     "duration": 0.006065,
     "end_time": "2023-11-01T15:27:21.816139",
     "exception": false,
     "start_time": "2023-11-01T15:27:21.810074",
     "status": "completed"
    },
    "tags": []
   },
   "source": [
    "### Setup is finished, start working"
   ]
  },
  {
   "cell_type": "code",
   "execution_count": 7,
   "metadata": {
    "papermill": {
     "duration": 1.00868,
     "end_time": "2023-11-01T15:27:22.830854",
     "exception": false,
     "start_time": "2023-11-01T15:27:21.822174",
     "status": "completed"
    },
    "tags": []
   },
   "outputs": [
    {
     "name": "stdout",
     "output_type": "stream",
     "text": [
      "Run started at 2023-11-06 10:15:13.189152\n"
     ]
    }
   ],
   "source": [
    "from warnings import warn\n",
    "import os\n",
    "import sys\n",
    "from pathlib import Path\n",
    "from datetime import datetime\n",
    "\n",
    "import numpy as np\n",
    "import awkward as ak\n",
    "\n",
    "from kinoml.utils import seed_everything, import_object\n",
    "seed_everything();\n",
    "print(\"Run started at\", datetime.now())"
   ]
  },
  {
   "cell_type": "markdown",
   "metadata": {
    "papermill": {
     "duration": 0.00577,
     "end_time": "2023-11-01T15:27:22.842480",
     "exception": false,
     "start_time": "2023-11-01T15:27:22.836710",
     "status": "completed"
    },
    "tags": []
   },
   "source": [
    "### Load raw data\n",
    "\n",
    "> This `import_object` function allows us to take a `str` containing a Python import path (e.g. `kinoml.datasets.chembl.ChEMBLDatasetProvider`) and obtain the imported object directly. That's how we can encode classes in JSON-only `papermill` inputs.\n",
    ">\n",
    "> See the help message `import_object?` for more info.\n",
    "Note that you need an OE license"
   ]
  },
  {
   "cell_type": "code",
   "execution_count": 8,
   "metadata": {
    "papermill": {
     "duration": 1.135279,
     "end_time": "2023-11-01T15:27:23.983238",
     "exception": false,
     "start_time": "2023-11-01T15:27:22.847959",
     "status": "completed"
    },
    "tags": []
   },
   "outputs": [
    {
     "name": "stderr",
     "output_type": "stream",
     "text": [
      "/home/raquellrdc/anaconda3/envs/kinoml_env/lib/python3.9/site-packages/pandas/core/computation/expressions.py:21: UserWarning: Pandas requires version '2.8.0' or newer of 'numexpr' (version '2.7.3' currently installed).\n",
      "  from pandas.core.computation.check import NUMEXPR_INSTALLED\n"
     ]
    },
    {
     "data": {
      "application/vnd.jupyter.widget-view+json": {
       "model_id": "5e50be96627845d99da5665551000c4f",
       "version_major": 2,
       "version_minor": 0
      },
      "text/plain": [
       "  0%|          | 0/1000 [00:00<?, ?it/s]"
      ]
     },
     "metadata": {},
     "output_type": "display_data"
    },
    {
     "data": {
      "text/plain": [
       "<ChEMBLDatasetProvider with 1000 measurements (pIC50Measurement=947, pKdMeasurement=20, pKiMeasurement=33), and 1000 systems (KLIFSKinase=1, Ligand=1000)>"
      ]
     },
     "execution_count": 8,
     "metadata": {},
     "output_type": "execute_result"
    }
   ],
   "source": [
    "\n",
    "dataset = import_object(DATASET_CLS).from_source(**DATASET_KWARGS)\n",
    "dataset"
   ]
  },
  {
   "cell_type": "code",
   "execution_count": 9,
   "metadata": {
    "papermill": {
     "duration": 0.031255,
     "end_time": "2023-11-01T15:27:24.020410",
     "exception": false,
     "start_time": "2023-11-01T15:27:23.989155",
     "status": "completed"
    },
    "tags": []
   },
   "outputs": [
    {
     "data": {
      "text/html": [
       "<div>\n",
       "<style scoped>\n",
       "    .dataframe tbody tr th:only-of-type {\n",
       "        vertical-align: middle;\n",
       "    }\n",
       "\n",
       "    .dataframe tbody tr th {\n",
       "        vertical-align: top;\n",
       "    }\n",
       "\n",
       "    .dataframe thead th {\n",
       "        text-align: right;\n",
       "    }\n",
       "</style>\n",
       "<table border=\"1\" class=\"dataframe\">\n",
       "  <thead>\n",
       "    <tr style=\"text-align: right;\">\n",
       "      <th></th>\n",
       "      <th>Systems</th>\n",
       "      <th>n_components</th>\n",
       "      <th>Measurement</th>\n",
       "      <th>MeasurementType</th>\n",
       "    </tr>\n",
       "  </thead>\n",
       "  <tbody>\n",
       "    <tr>\n",
       "      <th>0</th>\n",
       "      <td>P00533 &amp; CC(=O)c1ccccc1-n1c(-c2ccccc2)nc2cc(Cl...</td>\n",
       "      <td>2</td>\n",
       "      <td>6.142668</td>\n",
       "      <td>pIC50Measurement</td>\n",
       "    </tr>\n",
       "    <tr>\n",
       "      <th>1</th>\n",
       "      <td>P00533 &amp; COc1cc(C=O)ccc1-c1cc2c(NCc3ccccc3)ncn...</td>\n",
       "      <td>2</td>\n",
       "      <td>8.221849</td>\n",
       "      <td>pIC50Measurement</td>\n",
       "    </tr>\n",
       "    <tr>\n",
       "      <th>2</th>\n",
       "      <td>P00533 &amp; O=C(CCN1CCCCC1)Nc1ccc2ncnc(Nc3cccc(Br...</td>\n",
       "      <td>2</td>\n",
       "      <td>9.568636</td>\n",
       "      <td>pIC50Measurement</td>\n",
       "    </tr>\n",
       "    <tr>\n",
       "      <th>3</th>\n",
       "      <td>P00533 &amp; C=CC(=O)Nc1cc2c(Nc3ccc(F)c(Cl)c3)ncnc...</td>\n",
       "      <td>2</td>\n",
       "      <td>8.397940</td>\n",
       "      <td>pIC50Measurement</td>\n",
       "    </tr>\n",
       "    <tr>\n",
       "      <th>4</th>\n",
       "      <td>P00533 &amp; N#Cc1cnc(Nc2cccc(Br)c2)c2cc(NC(=O)CCN...</td>\n",
       "      <td>2</td>\n",
       "      <td>5.161151</td>\n",
       "      <td>pIC50Measurement</td>\n",
       "    </tr>\n",
       "    <tr>\n",
       "      <th>...</th>\n",
       "      <td>...</td>\n",
       "      <td>...</td>\n",
       "      <td>...</td>\n",
       "      <td>...</td>\n",
       "    </tr>\n",
       "    <tr>\n",
       "      <th>995</th>\n",
       "      <td>P00533 &amp; N#CC(C#N)=Cc1cc(O)cc(O)c1</td>\n",
       "      <td>2</td>\n",
       "      <td>5.000000</td>\n",
       "      <td>pKiMeasurement</td>\n",
       "    </tr>\n",
       "    <tr>\n",
       "      <th>996</th>\n",
       "      <td>P00533 &amp; CN(C)c1ccc(/C=C(\\C#N)C(=O)O)cc1</td>\n",
       "      <td>2</td>\n",
       "      <td>2.853872</td>\n",
       "      <td>pKiMeasurement</td>\n",
       "    </tr>\n",
       "    <tr>\n",
       "      <th>997</th>\n",
       "      <td>P00533 &amp; N#CC(C#N)=Cc1ccc(O)cc1</td>\n",
       "      <td>2</td>\n",
       "      <td>3.795880</td>\n",
       "      <td>pKiMeasurement</td>\n",
       "    </tr>\n",
       "    <tr>\n",
       "      <th>998</th>\n",
       "      <td>P00533 &amp; COC1CCN(c2nccc(Nc3cc4c(C(C)C)n[nH]c4c...</td>\n",
       "      <td>2</td>\n",
       "      <td>7.744727</td>\n",
       "      <td>pKiMeasurement</td>\n",
       "    </tr>\n",
       "    <tr>\n",
       "      <th>999</th>\n",
       "      <td>P00533 &amp; C=CC(=O)N[C@@H]1CCN(c2nc(Nc3ccc(N4CCN...</td>\n",
       "      <td>2</td>\n",
       "      <td>6.793174</td>\n",
       "      <td>pKiMeasurement</td>\n",
       "    </tr>\n",
       "  </tbody>\n",
       "</table>\n",
       "<p>1000 rows × 4 columns</p>\n",
       "</div>"
      ],
      "text/plain": [
       "                                               Systems  n_components  \\\n",
       "0    P00533 & CC(=O)c1ccccc1-n1c(-c2ccccc2)nc2cc(Cl...             2   \n",
       "1    P00533 & COc1cc(C=O)ccc1-c1cc2c(NCc3ccccc3)ncn...             2   \n",
       "2    P00533 & O=C(CCN1CCCCC1)Nc1ccc2ncnc(Nc3cccc(Br...             2   \n",
       "3    P00533 & C=CC(=O)Nc1cc2c(Nc3ccc(F)c(Cl)c3)ncnc...             2   \n",
       "4    P00533 & N#Cc1cnc(Nc2cccc(Br)c2)c2cc(NC(=O)CCN...             2   \n",
       "..                                                 ...           ...   \n",
       "995                 P00533 & N#CC(C#N)=Cc1cc(O)cc(O)c1             2   \n",
       "996           P00533 & CN(C)c1ccc(/C=C(\\C#N)C(=O)O)cc1             2   \n",
       "997                    P00533 & N#CC(C#N)=Cc1ccc(O)cc1             2   \n",
       "998  P00533 & COC1CCN(c2nccc(Nc3cc4c(C(C)C)n[nH]c4c...             2   \n",
       "999  P00533 & C=CC(=O)N[C@@H]1CCN(c2nc(Nc3ccc(N4CCN...             2   \n",
       "\n",
       "     Measurement   MeasurementType  \n",
       "0       6.142668  pIC50Measurement  \n",
       "1       8.221849  pIC50Measurement  \n",
       "2       9.568636  pIC50Measurement  \n",
       "3       8.397940  pIC50Measurement  \n",
       "4       5.161151  pIC50Measurement  \n",
       "..           ...               ...  \n",
       "995     5.000000    pKiMeasurement  \n",
       "996     2.853872    pKiMeasurement  \n",
       "997     3.795880    pKiMeasurement  \n",
       "998     7.744727    pKiMeasurement  \n",
       "999     6.793174    pKiMeasurement  \n",
       "\n",
       "[1000 rows x 4 columns]"
      ]
     },
     "execution_count": 9,
     "metadata": {},
     "output_type": "execute_result"
    }
   ],
   "source": [
    "#visualise your dataset!\n",
    "\n",
    "df = dataset.to_dataframe()\n",
    "df"
   ]
  },
  {
   "cell_type": "markdown",
   "metadata": {
    "papermill": {
     "duration": 0.005945,
     "end_time": "2023-11-01T15:27:24.032515",
     "exception": false,
     "start_time": "2023-11-01T15:27:24.026570",
     "status": "completed"
    },
    "tags": []
   },
   "source": [
    "### Featurize\n",
    "\n",
    "Now, let's convert the data set into somehting that is ML-readable!"
   ]
  },
  {
   "cell_type": "code",
   "execution_count": 10,
   "metadata": {
    "papermill": {
     "duration": 0.012341,
     "end_time": "2023-11-01T15:27:24.050633",
     "exception": false,
     "start_time": "2023-11-01T15:27:24.038292",
     "status": "completed"
    },
    "tags": []
   },
   "outputs": [
    {
     "name": "stdout",
     "output_type": "stream",
     "text": [
      "Building featurizer `ligand` with instructions:\n",
      "  Instantiating `kinoml.features.ligand.OneHotSMILESFeaturizer` with options `{}`\n",
      "  Instantiating `kinoml.features.core.PadFeaturizer` with options `{'shape': 'auto'}`\n",
      "Resulting pipelines: <Pipeline([OneHotSMILESFeaturizer, PadFeaturizer])>\n",
      "Aggregated pipelines: <TupleOfArrays([Pipeline([OneHotSMILESFeaturizer, PadFeaturizer])])>\n"
     ]
    }
   ],
   "source": [
    "# build pipeline\n",
    "from kinoml.features.core import Pipeline\n",
    "\n",
    "pipelines = []\n",
    "for key, pipeline_instructions in PIPELINES.items():\n",
    "    print(f\"Building featurizer `{key}` with instructions:\")\n",
    "    featurizers = []\n",
    "    for featurizer_import_str, kwargs in pipeline_instructions:\n",
    "        kwargs = kwargs or {}  # make sure empty values (None, \"\") turn into {} so we can do **kwargs below\n",
    "        print(f\"  Instantiating `{featurizer_import_str}` with options `{kwargs}`\")\n",
    "        featurizers.append(import_object(featurizer_import_str)(**kwargs))\n",
    "    pipelines.append(Pipeline(featurizers))\n",
    "print(\"Resulting pipelines:\", *pipelines)\n",
    "aggregated_pipeline = import_object(PIPELINES_AGG)(pipelines, **PIPELINES_AGG_KWARGS)\n",
    "print(\"Aggregated pipelines:\", aggregated_pipeline)"
   ]
  },
  {
   "cell_type": "code",
   "execution_count": 11,
   "metadata": {
    "papermill": {
     "duration": 4.049051,
     "end_time": "2023-11-01T15:27:28.105993",
     "exception": false,
     "start_time": "2023-11-01T15:27:24.056942",
     "status": "completed"
    },
    "tags": []
   },
   "outputs": [
    {
     "data": {
      "text/plain": [
       "[<ProteinLigandComplex with 2 components (<KLIFSKinase name=P00533>, <Ligand name=COc1cccc(Nc2cc(Nc3ccc(S(N)(=O)=O)cc3)ncn2)c1>)>,\n",
       " <ProteinLigandComplex with 2 components (<KLIFSKinase name=P00533>, <Ligand name=Cn1cnc(-c2ccc(OC(F)(F)F)c(NC(=O)Nc3ccncc3)c2)c1>)>,\n",
       " <ProteinLigandComplex with 2 components (<KLIFSKinase name=P00533>, <Ligand name=c1ccc(CCNc2ncnc3ccccc23)cc1>)>,\n",
       " <ProteinLigandComplex with 2 components (<KLIFSKinase name=P00533>, <Ligand name=COc1cc2ncnc(Nc3ccc(F)c(Cl)c3)c2cc1OCCCN1CCCC1>)>,\n",
       " <ProteinLigandComplex with 2 components (<KLIFSKinase name=P00533>, <Ligand name=COc1cc(N2CCC(O)CC2)ccc1Nc1ncc(Cl)c(Oc2cccc(COc3no[n+]([O-])c3S(=O)(=O)c3ccccc3)c2)n1>)>,\n",
       " <ProteinLigandComplex with 2 components (<KLIFSKinase name=P00533>, <Ligand name=Nc1nc(Nc2ccc(Cl)cc2F)c2cc(CCc3ccccc3)[nH]c2n1>)>,\n",
       " <ProteinLigandComplex with 2 components (<KLIFSKinase name=P00533>, <Ligand name=CN(CCN/N=N/c1ccc2ncnc(Nc3cccc(Cl)c3)c2c1)CCNS(=O)(=O)c1cccc2c(N(C)C)cccc12>)>,\n",
       " <ProteinLigandComplex with 2 components (<KLIFSKinase name=P00533>, <Ligand name=CCNC(=O)O[C@@H]1CN[C@@H](C#Cc2cc3ncnc(Nc4ccc(OCc5cccc(F)c5)c(Cl)c4)c3s2)C1>)>,\n",
       " <ProteinLigandComplex with 2 components (<KLIFSKinase name=P00533>, <Ligand name=COc1cc(N2CCN(C)CC2)ccc1Nc1ncc(Cl)c(Oc2ccccc2NC(=O)COCc2ccccc2)n1>)>,\n",
       " <ProteinLigandComplex with 2 components (<KLIFSKinase name=P00533>, <Ligand name=COc1cc2c(c(OC)c1)C(=O)N(c1cccc(C(=O)N3CCCCC3)c1)CC2>)>,\n",
       " <ProteinLigandComplex with 2 components (<KLIFSKinase name=P00533>, <Ligand name=N#C/C(=C\\c1cc(O)ccc1O)C(N)=O>)>,\n",
       " <ProteinLigandComplex with 2 components (<KLIFSKinase name=P00533>, <Ligand name=C=CC(=O)N1CCC(Cn2c(=O)cc(C)c3cnc(Nc4ccc(N5CCN(C)CC5)cc4OC)nc32)C1>)>,\n",
       " <ProteinLigandComplex with 2 components (<KLIFSKinase name=P00533>, <Ligand name=COc1cc2ncc(C#N)c(Nc3ccc(O)c(Cl)c3)c2cc1OC>)>,\n",
       " <ProteinLigandComplex with 2 components (<KLIFSKinase name=P00533>, <Ligand name=C=CC(=O)Nc1cc(Cl)cc(-n2c(=O)cc(C)c3cnc(Nc4ccc(N5CCN(C)CC5)cc4OC)nc32)c1>)>,\n",
       " <ProteinLigandComplex with 2 components (<KLIFSKinase name=P00533>, <Ligand name=Cc1ccc(C2=NN(c3ccccc3)C(c3cccc4ccccc34)C2)cc1>)>,\n",
       " <ProteinLigandComplex with 2 components (<KLIFSKinase name=P00533>, <Ligand name=Clc1cccc(Nc2ncnc3ccc(NCc4ccc5c(c4)OCCCCO5)cc23)c1>)>,\n",
       " <ProteinLigandComplex with 2 components (<KLIFSKinase name=P00533>, <Ligand name=C#CCCCOc1cc2c(Nc3ccc(F)c(Cl)c3)ncnc2cc1OC>)>,\n",
       " <ProteinLigandComplex with 2 components (<KLIFSKinase name=P00533>, <Ligand name=Cc1c(OCC(F)(F)F)ccnc1COc1ccc(Nc2ncnc3cc4oc(=O)n(CCCN5CCOCC5)c4cc23)cc1>)>,\n",
       " <ProteinLigandComplex with 2 components (<KLIFSKinase name=P00533>, <Ligand name=Cc1ccc(C2CC(c3ccc(Cl)cc3)=NN2C2=NC(=O)CS2)cc1>)>,\n",
       " <ProteinLigandComplex with 2 components (<KLIFSKinase name=P00533>, <Ligand name=CCOCCOc1cc2ncnc(Nc3ccc(OCc4cccc(F)c4)c(Cl)c3)c2cc1NC(=O)/C=C/CN(C)C>)>,\n",
       " <ProteinLigandComplex with 2 components (<KLIFSKinase name=P00533>, <Ligand name=COc1c(C=O)cccc1-c1cc2c(N[C@H](C)c3ccccc3)ncnc2s1>)>,\n",
       " <ProteinLigandComplex with 2 components (<KLIFSKinase name=P00533>, <Ligand name=C=CC(=O)Nc1cccc(Nc2nc(Nc3ccc(CN4CCOCC4)cc3)ncc2F)c1>)>,\n",
       " <ProteinLigandComplex with 2 components (<KLIFSKinase name=P00533>, <Ligand name=CO[C@H]1CCN(c2nccc(Nc3cc4c(cn3)nc(C)n4C(C)C)n2)C[C@H]1F>)>,\n",
       " <ProteinLigandComplex with 2 components (<KLIFSKinase name=P00533>, <Ligand name=Brc1cccc(Nc2ncnc3cc(NCCc4c[nH]cn4)ncc23)c1>)>,\n",
       " <ProteinLigandComplex with 2 components (<KLIFSKinase name=P00533>, <Ligand name=COc1cc(NC(=O)Nc2nccs2)cc(-c2cn(C)cn2)c1OC>)>,\n",
       " <ProteinLigandComplex with 2 components (<KLIFSKinase name=P00533>, <Ligand name=C=CC(=O)Nc1cccc(Nc2nc(Nc3ccc(/C=C/c4cc(OC)cc(OC)c4)cc3)ncc2Cl)c1>)>,\n",
       " <ProteinLigandComplex with 2 components (<KLIFSKinase name=P00533>, <Ligand name=COCCOc1cc2ncnc(Nc3ccc(NC(=O)C45CC6CC(CC(C6)C4)C5)cc3C)c2cc1OCCOC>)>,\n",
       " <ProteinLigandComplex with 2 components (<KLIFSKinase name=P00533>, <Ligand name=c1ccc(Nc2nc[nH]c3nnc(Nc4ccccc4)c2-3)cc1>)>,\n",
       " <ProteinLigandComplex with 2 components (<KLIFSKinase name=P00533>, <Ligand name=C=CC(=O)Nc1cc(Nc2nccc(NC(=O)c3ccccc3)n2)c(OC)cc1N(C)C>)>,\n",
       " <ProteinLigandComplex with 2 components (<KLIFSKinase name=P00533>, <Ligand name=C=CC(=O)N1CCC[C@@H](n2nc(C#CCC3CCCC3)c3c(N)ncnc32)C1>)>,\n",
       " <ProteinLigandComplex with 2 components (<KLIFSKinase name=P00533>, <Ligand name=CC(C)n1nc(-c2cc(O)cc(Br)c2)c2c(N)ncnc21>)>,\n",
       " <ProteinLigandComplex with 2 components (<KLIFSKinase name=P00533>, <Ligand name=Cc1cc(Nc2ncc3c(n2)N([C@H]2CCN(C(=O)C(C)(C)C)C2)C(=O)N(c2ccccc2Cl)C3)ccc1N1CCN(C)CC1>)>,\n",
       " <ProteinLigandComplex with 2 components (<KLIFSKinase name=P00533>, <Ligand name=C=C(Cl)C(=O)Nc1cc(Nc2nc(C)cc(-c3cn(C)c4ccccc34)n2)c(OC)cc1N(C)CCN(C)C>)>,\n",
       " <ProteinLigandComplex with 2 components (<KLIFSKinase name=P00533>, <Ligand name=CC(C)=CC[C@@H](OC(=O)/C=C\\C(=O)c1ccc(C)cc1Cl)C1=CC(=O)c2c(O)ccc(O)c2C1=O>)>,\n",
       " <ProteinLigandComplex with 2 components (<KLIFSKinase name=P00533>, <Ligand name=C=CC(=O)Nc1cccc(NC(=O)Nc2ccnc(Nc3ccc(N4CCN(C)CC4)cc3OC)n2)c1>)>,\n",
       " <ProteinLigandComplex with 2 components (<KLIFSKinase name=P00533>, <Ligand name=Cc1[nH]c(/C=C2\\C(=O)Nc3ccc(F)cc32)c(C)c1C(=O)NC[C@H](O)CN1CCOCC1>)>,\n",
       " <ProteinLigandComplex with 2 components (<KLIFSKinase name=P00533>, <Ligand name=CS(=O)(=O)CC(N)c1ccc(-c2ccc3ncnc(Nc4ccc(OCc5cccc(F)c5)c(Cl)c4)c3c2)o1>)>,\n",
       " <ProteinLigandComplex with 2 components (<KLIFSKinase name=P00533>, <Ligand name=O=C(Nc1cc2c(Nc3ccc(F)c(Cl)c3)ncnc2cc1O[C@H]1CCOC1)N1CCCC(F)(F)C1>)>,\n",
       " <ProteinLigandComplex with 2 components (<KLIFSKinase name=P00533>, <Ligand name=COc1cc2c(Nc3ccc(Br)cc3F)ncnc2cc1OC[C@@H]1CCCN(C)C1>)>,\n",
       " <ProteinLigandComplex with 2 components (<KLIFSKinase name=P00533>, <Ligand name=O=C(NCCN1CCOCC1)Nc1ccc2ncnc(Nc3cccc(Br)c3)c2c1>)>,\n",
       " <ProteinLigandComplex with 2 components (<KLIFSKinase name=P00533>, <Ligand name=C=CC(=O)Nc1ccc2ncnc(Nc3ccc(CN(C)C)c(Br)c3)c2c1>)>,\n",
       " <ProteinLigandComplex with 2 components (<KLIFSKinase name=P00533>, <Ligand name=COC(=O)Nc1cc(Nc2ncnc3cc(OC)c(OC)cc23)ccc1C.Cl>)>,\n",
       " <ProteinLigandComplex with 2 components (<KLIFSKinase name=P00533>, <Ligand name=C=CC(=O)Nc1cc(Nc2cncc(-c3cn(C)c4ccccc34)n2)c(OC)cc1N(C)CCN(C)C>)>,\n",
       " <ProteinLigandComplex with 2 components (<KLIFSKinase name=P00533>, <Ligand name=C=CC(=O)Nc1ccc(Nc2ncc3ncc(=O)n(-c4ccc(OC)cc4)c3n2)cc1>)>,\n",
       " <ProteinLigandComplex with 2 components (<KLIFSKinase name=P00533>, <Ligand name=C[C@@H](CN)n1nc(-c2ccc(Cl)c(O)c2)c2c(N)ncnc21>)>,\n",
       " <ProteinLigandComplex with 2 components (<KLIFSKinase name=P00533>, <Ligand name=C[C@@H](Oc1cccc2ncnc(Nc3ccc4c(cnn4Cc4ccccn4)c3)c12)C(=O)N(C)C>)>,\n",
       " <ProteinLigandComplex with 2 components (<KLIFSKinase name=P00533>, <Ligand name=CCCCCCCCCCCCCCCCCCCCNC(=O)COc1cc(O)c2c(=O)cc(-c3ccccc3)oc2c1>)>,\n",
       " <ProteinLigandComplex with 2 components (<KLIFSKinase name=P00533>, <Ligand name=C#Cc1cc(Nc2ncnc3cc(OC)c(OC)cc23)ccc1F>)>,\n",
       " <ProteinLigandComplex with 2 components (<KLIFSKinase name=P00533>, <Ligand name=COc1cc2ncc(C#N)c(Nc3ccc(Br)cc3)c2cc1OC>)>,\n",
       " <ProteinLigandComplex with 2 components (<KLIFSKinase name=P00533>, <Ligand name=OCCn1ccc2ncnc(Nc3ccc(Oc4cccc(C(F)(F)F)c4)c(Cl)c3)c21>)>,\n",
       " <ProteinLigandComplex with 2 components (<KLIFSKinase name=P00533>, <Ligand name=C=CC(=O)N1CC[C@@H](Nc2nc(Nc3ccc(N4CCN(C)CC4)cc3)c3ncn(C(C)C)c3n2)C1>)>,\n",
       " <ProteinLigandComplex with 2 components (<KLIFSKinase name=P00533>, <Ligand name=NC(=S)N1N=C(c2ccc(Cl)c(Cl)c2)CC1c1ccc(Cl)cc1>)>,\n",
       " <ProteinLigandComplex with 2 components (<KLIFSKinase name=P00533>, <Ligand name=Brc1cccc(Nc2ncnc3cc(NCCCN4CCOCC4)ncc23)c1>)>,\n",
       " <ProteinLigandComplex with 2 components (<KLIFSKinase name=P00533>, <Ligand name=CC(O)c1cccc(NC(=O)c2cc3ccccc3[nH]2)c1>)>,\n",
       " <ProteinLigandComplex with 2 components (<KLIFSKinase name=P00533>, <Ligand name=O=C(O[C@H]1CN[C@@H](C#Cc2cc3ncnc(Nc4ccc(OCc5cccc(F)c5)c(Cl)c4)c3s2)C1)N1CCOCC1>)>,\n",
       " <ProteinLigandComplex with 2 components (<KLIFSKinase name=P00533>, <Ligand name=COc1cc2ncnc(Nc3ccc(Br)c(Br)c3)c2cc1OC>)>,\n",
       " <ProteinLigandComplex with 2 components (<KLIFSKinase name=P00533>, <Ligand name=Brc1ccc(C2=NN(c3nc(-c4ccccc4)cs3)C(c3ccc(Br)cc3)C2)cc1>)>,\n",
       " <ProteinLigandComplex with 2 components (<KLIFSKinase name=P00533>, <Ligand name=CS(=O)(=O)CCNCc1ccc(-c2ccc3ncnc(Nc4ccc(OCc5cccc(F)c5)cc4)c3c2)o1>)>,\n",
       " <ProteinLigandComplex with 2 components (<KLIFSKinase name=P00533>, <Ligand name=Cc1ccc(-c2nc3cc(NC(=O)CCl)ccc3[nH]2)cc1>)>,\n",
       " <ProteinLigandComplex with 2 components (<KLIFSKinase name=P00533>, <Ligand name=Clc1ccc2nc(Cc3nnc(-c4ccccc4)o3)[nH]c2c1>)>,\n",
       " <ProteinLigandComplex with 2 components (<KLIFSKinase name=P00533>, <Ligand name=Nc1cccc2ncnc(Nc3cccc(Br)c3)c12>)>,\n",
       " <ProteinLigandComplex with 2 components (<KLIFSKinase name=P00533>, <Ligand name=CCCCCCCCCNC(=O)COc1cc(O)c2c(=O)cc(-c3ccccc3)oc2c1>)>,\n",
       " <ProteinLigandComplex with 2 components (<KLIFSKinase name=P00533>, <Ligand name=O=C(Nc1cc(Nc2ccc(Cl)cc2)ncn1)c1ccc(F)cc1>)>,\n",
       " <ProteinLigandComplex with 2 components (<KLIFSKinase name=P00533>, <Ligand name=COc1cc2ncnc(N3CCc4ccccc43)c2cc1NC(=O)/C=C/CN1CCCC1>)>,\n",
       " <ProteinLigandComplex with 2 components (<KLIFSKinase name=P00533>, <Ligand name=CCn1c(=O)c(-c2c(Cl)cccc2Cl)cc2cnc(Nc3ccncc3)nc21>)>,\n",
       " <ProteinLigandComplex with 2 components (<KLIFSKinase name=P00533>, <Ligand name=CC(C)n1nc(-c2ccc(C(N)=O)c(Cl)c2)c2c(N)ncnc21>)>,\n",
       " <ProteinLigandComplex with 2 components (<KLIFSKinase name=P00533>, <Ligand name=C=CC(=O)Nc1cccc(Oc2nc(Nc3ccc(/C=C/c4cc(C)cc(C)c4)cc3)ncc2Cl)c1>)>,\n",
       " <ProteinLigandComplex with 2 components (<KLIFSKinase name=P00533>, <Ligand name=Cc1cc(C(=O)N2CCN(C)CC2)[nH]c1/C=C1\\C(=O)Nc2ncnc(Nc3ccc(F)c(Cl)c3)c21>)>,\n",
       " <ProteinLigandComplex with 2 components (<KLIFSKinase name=P00533>, <Ligand name=Cc1ccc(NC(=O)c2ccccc2)cc1Nc1nccc(-c2cccnc2)n1>)>,\n",
       " <ProteinLigandComplex with 2 components (<KLIFSKinase name=P00533>, <Ligand name=CC(C)(O)C#Cc1ccc2ncnc(Nc3ccc(F)c(Cl)c3)c2c1>)>,\n",
       " <ProteinLigandComplex with 2 components (<KLIFSKinase name=P00533>, <Ligand name=CN(CC(O)CO)c1cc2ncnc(Nc3cccc(Br)c3)c2cn1>)>,\n",
       " <ProteinLigandComplex with 2 components (<KLIFSKinase name=P00533>, <Ligand name=CC(C)n1nc(-c2ccc3occc(=O)c3c2)c2c(N)ncnc21>)>,\n",
       " <ProteinLigandComplex with 2 components (<KLIFSKinase name=P00533>, <Ligand name=COc1cc2ncc(C#N)c(Nc3cccc(Cl)c3)c2cc1OC>)>,\n",
       " <ProteinLigandComplex with 2 components (<KLIFSKinase name=P00533>, <Ligand name=COc1cc(N2CCN(C)CC2)ccc1Nc1ncc(Cl)c(Oc2ccccc2N=[N+]=[N-])n1>)>,\n",
       " <ProteinLigandComplex with 2 components (<KLIFSKinase name=P00533>, <Ligand name=C[C@@H](c1ccccc1)n1ncc2cc(Nc3ncnn4ccc(COC[C@@H]5CNCCO5)c34)ccc21>)>,\n",
       " <ProteinLigandComplex with 2 components (<KLIFSKinase name=P00533>, <Ligand name=COc1ccc(C2=NN(c3nc(-c4ccc(Cl)cc4)cs3)C(c3ccc(OC)cc3)C2)cc1>)>,\n",
       " <ProteinLigandComplex with 2 components (<KLIFSKinase name=P00533>, <Ligand name=CC1(C)OCc2c(Nc3n[nH]c4ccccc34)nc(-c3cc[nH]n3)nc21>)>,\n",
       " <ProteinLigandComplex with 2 components (<KLIFSKinase name=P00533>, <Ligand name=Brc1ccc(CNc2ccc3ncnc(Nc4cccc(Br)c4)c3c2)cc1>)>,\n",
       " <ProteinLigandComplex with 2 components (<KLIFSKinase name=P00533>, <Ligand name=Cc1cc(-c2cnc(Nc3cc(Cl)cc(Cl)c3)nc2NC2CCC(N(C)C)CC2)on1>)>,\n",
       " <ProteinLigandComplex with 2 components (<KLIFSKinase name=P00533>, <Ligand name=COc1cc(Nc2nccc(Nc3cnc4ccccc4c3)n2)cc(OC)c1OC>)>,\n",
       " <ProteinLigandComplex with 2 components (<KLIFSKinase name=P00533>, <Ligand name=CCCCC(=Cc1coc2nc(=N)[nH]c(N)c12)c1ccccc1OC>)>,\n",
       " <ProteinLigandComplex with 2 components (<KLIFSKinase name=P00533>, <Ligand name=N#Cc1cc2c(N)ncnc2nc1NCCO>)>,\n",
       " <ProteinLigandComplex with 2 components (<KLIFSKinase name=P00533>, <Ligand name=COc1cc2ncnc(Nc3ccc(F)c(Cl)c3)c2cc1OCCCN1CC(O)C1>)>,\n",
       " <ProteinLigandComplex with 2 components (<KLIFSKinase name=P00533>, <Ligand name=CCCCCCCCCCNC(=O)COc1cc(O)c2c(=O)cc(-c3ccccc3)oc2c1>)>,\n",
       " <ProteinLigandComplex with 2 components (<KLIFSKinase name=P00533>, <Ligand name=CCCCN(CCCC)C(=O)c1ccc(N(CCCl)CCCl)cc1>)>,\n",
       " <ProteinLigandComplex with 2 components (<KLIFSKinase name=P00533>, <Ligand name=Cc1ccc(S(=O)(=O)NC(=O)Cc2cccc(Br)c2)cc1>)>,\n",
       " <ProteinLigandComplex with 2 components (<KLIFSKinase name=P00533>, <Ligand name=CCC(=O)N1CCC[C@@H](n2c(=O)c(-c3ccccc3C)c(C)c3cnc(Nc4ccc(N5CCN(C)CC5)c(C)c4)nc32)C1>)>,\n",
       " <ProteinLigandComplex with 2 components (<KLIFSKinase name=P00533>, <Ligand name=CN1C(=S)C(C(=O)Nc2ccccc2)c2ccccc21>)>,\n",
       " <ProteinLigandComplex with 2 components (<KLIFSKinase name=P00533>, <Ligand name=CCN1CCN(Cc2ccc(-c3cc4c(N[C@H](C)c5ccccc5)ncnc4[nH]3)cc2)CC1>)>,\n",
       " <ProteinLigandComplex with 2 components (<KLIFSKinase name=P00533>, <Ligand name=N#Cc1cnc2ccc(-c3ccc(CN)cc3)cc2c1N[C@@H]1C[C@H]1c1ccccc1>)>,\n",
       " <ProteinLigandComplex with 2 components (<KLIFSKinase name=P00533>, <Ligand name=Nc1ncnc2c1c(-c1ccc(F)c(O)c1)nn2[C@H]1CCNC1>)>,\n",
       " <ProteinLigandComplex with 2 components (<KLIFSKinase name=P00533>, <Ligand name=Cc1ccc(C2=NN(C3=NC(=O)CS3)C(c3ccc4ccccc4c3)C2)cc1C>)>,\n",
       " <ProteinLigandComplex with 2 components (<KLIFSKinase name=P00533>, <Ligand name=COc1cc(N2CCN(C)CC2)ccc1Nc1ncc(Cl)c(Oc2cccc(N)c2)n1>)>,\n",
       " <ProteinLigandComplex with 2 components (<KLIFSKinase name=P00533>, <Ligand name=O=C(NCCc1ccc(O)c(Br)c1)/C(Cc1cc(Br)c(O)c(Oc2ccc(CCNC(=O)/C(Cc3cc(Br)c(O)c(-c4cc(C/C(=N\\O)C(=O)NCCc5ccc(O)c(Br)c5)cc(Br)c4O)c3)=N/O)cc2Br)c1)=N/O>)>,\n",
       " <ProteinLigandComplex with 2 components (<KLIFSKinase name=P00533>, <Ligand name=CN(C)Cc1ccc(-c2cc3ncnc(Nc4ccc(OCc5cccc(F)c5)c(Cl)c4)c3s2)o1>)>,\n",
       " <ProteinLigandComplex with 2 components (<KLIFSKinase name=P00533>, <Ligand name=COc1cc2c(Nc3ccc(NC(=O)Nc4ccccc4)c(Cl)c3)ncnc2cc1OCCCN1CCN(C)CC1>)>,\n",
       " <ProteinLigandComplex with 2 components (<KLIFSKinase name=P00533>, <Ligand name=CCOc1cc2ncnc(/C=C/CCCc3ccccc3)c2cc1OCC>)>,\n",
       " <ProteinLigandComplex with 2 components (<KLIFSKinase name=P00533>, <Ligand name=C=CC(=O)Nc1cc2c(Nc3ccc(F)c(Cl)c3)ncnc2cc1C#CC(C)(C)N1CCN(C)CC1>)>,\n",
       " <ProteinLigandComplex with 2 components (<KLIFSKinase name=P00533>, <Ligand name=Cc1ccn2ncnc(Nc3ccc4c(cnn4Cc4ccccn4)c3)c12>)>,\n",
       " <ProteinLigandComplex with 2 components (<KLIFSKinase name=P00533>, <Ligand name=Cc1cc(=O)n2nc(SCc3ccc(Cl)cc3Cl)nc2[nH]1>)>,\n",
       " <ProteinLigandComplex with 2 components (<KLIFSKinase name=P00533>, <Ligand name=COc1cccc(/C=N/Nc2ncc(Cl)c(Nc3ccccc3S(=O)(=O)C(C)C)n2)c1>)>,\n",
       " <ProteinLigandComplex with 2 components (<KLIFSKinase name=P00533>, <Ligand name=Fc1cccc(Cn2ncc3cc(Nc4ncnn5ccc(COC[C@H]6CNCCO6)c45)ccc32)c1>)>,\n",
       " <ProteinLigandComplex with 2 components (<KLIFSKinase name=P00533>, <Ligand name=C=CC(=O)Nc1cc2c(Nc3cccc(Br)c3)ncnc2cc1OCCCN1CCN(C)CC1>)>,\n",
       " <ProteinLigandComplex with 2 components (<KLIFSKinase name=P00533>, <Ligand name=O=C1N=C(N2CCC[C@H]2C(=O)Nc2ccc3ncnc(Nc4cccc(Cl)c4)c3c2)S/C1=C/c1cccnc1Cl>)>,\n",
       " <ProteinLigandComplex with 2 components (<KLIFSKinase name=P00533>, <Ligand name=C=CC(=O)N[C@H]1CN(c2nc(Nc3cnn(C)c3)c3ncn(C(C)C)c3n2)C[C@@H]1F>)>,\n",
       " <ProteinLigandComplex with 2 components (<KLIFSKinase name=P00533>, <Ligand name=CCOc1cc(-c2nn(C(C)C)c3ncnc(N)c23)ccc1OC>)>,\n",
       " <ProteinLigandComplex with 2 components (<KLIFSKinase name=P00533>, <Ligand name=CO/N=C/c1c(N)ncnc1Nc1ccc2c(cnn2Cc2cccc(Cl)c2)c1>)>,\n",
       " <ProteinLigandComplex with 2 components (<KLIFSKinase name=P00533>, <Ligand name=COc1ccc(Sc2cccc3[nH]c4nc(N)nc(N)c4c23)cc1>)>,\n",
       " <ProteinLigandComplex with 2 components (<KLIFSKinase name=P00533>, <Ligand name=CC(C)n1nc(-c2ccc3cn[nH]c3c2)c2c(N)ncnc21>)>,\n",
       " <ProteinLigandComplex with 2 components (<KLIFSKinase name=P00533>, <Ligand name=CCO[C@H]1CN[C@H](C#Cc2cc3ncnc(Nc4ccc(OCc5cccc(F)c5)c(Cl)c4)c3s2)C1>)>,\n",
       " <ProteinLigandComplex with 2 components (<KLIFSKinase name=P00533>, <Ligand name=S=C(Nc1ccc(Cl)c(Cl)c1)Nc1ccc2ncnc(Nc3cccc(Br)c3)c2c1>)>,\n",
       " <ProteinLigandComplex with 2 components (<KLIFSKinase name=P00533>, <Ligand name=COCC(=O)Nc1ccc2ncnc(Nc3cc(Cl)c(Cl)cc3F)c2c1>)>,\n",
       " <ProteinLigandComplex with 2 components (<KLIFSKinase name=P00533>, <Ligand name=CCCN(CCS(C)(=O)=O)Cc1ccc(-c2ccc3ncnc(Nc4ccc(OCc5cccc(F)c5)c(Cl)c4)c3c2)o1>)>,\n",
       " <ProteinLigandComplex with 2 components (<KLIFSKinase name=P00533>, <Ligand name=CCc1c(NC(=O)OCCn2ccnc2)cn2ncnc(Nc3ccc4c(cnn4Cc4ccccc4)c3)c12>)>,\n",
       " <ProteinLigandComplex with 2 components (<KLIFSKinase name=P00533>, <Ligand name=C=CC(=O)N1CCC[C@@H](N2C(=O)N(Cc3ccccc3)Cc3cnc(Nc4ccc(N5CCN(C)CC5)cc4OC)nc32)C1>)>,\n",
       " <ProteinLigandComplex with 2 components (<KLIFSKinase name=P00533>, <Ligand name=Cc1nc2cnc(Nc3ccnc(OCC(C)(C)C(N)=O)n3)cc2n1C(C)C>)>,\n",
       " <ProteinLigandComplex with 2 components (<KLIFSKinase name=P00533>, <Ligand name=COc1cc(N2CCN(C)CC2)ccc1Nc1ncc(Cl)c(Oc2cccc(NC(=O)CO)c2)n1>)>,\n",
       " <ProteinLigandComplex with 2 components (<KLIFSKinase name=P00533>, <Ligand name=CCOC(=O)c1nn(-c2ccc(C)cc2)cc1C(=O)c1c(C)[nH]c(-c2ccccc2)c1-c1ccccc1>)>,\n",
       " <ProteinLigandComplex with 2 components (<KLIFSKinase name=P00533>, <Ligand name=C/C=C/C(=O)Cc1ccc2ncnc(Nc3cccc(Br)c3)c2c1>)>,\n",
       " <ProteinLigandComplex with 2 components (<KLIFSKinase name=P00533>, <Ligand name=C=CC(=O)Nc1cccc(N2C(=O)C(Cc3ccccc3)N(C)C(=O)c3cnc(Nc4ccc(N5CCN(C)CC5)cc4OC)nc32)c1>)>,\n",
       " <ProteinLigandComplex with 2 components (<KLIFSKinase name=P00533>, <Ligand name=C=CC(=O)Nc1cc(Nc2ncc(Cl)c(Nc3ccccc3S(=O)(=O)C(C)C)n2)c(OC)cc1N1CCCN(C)CC1>)>,\n",
       " <ProteinLigandComplex with 2 components (<KLIFSKinase name=P00533>, <Ligand name=CC(C)(C)NC(=O)Nc1nc2nc(N)ncc2cc1-c1ccccc1>)>,\n",
       " <ProteinLigandComplex with 2 components (<KLIFSKinase name=P00533>, <Ligand name=C=CC(=O)Nc1ccccc1Oc1nc(Nc2cc(C)[nH]n2)cc(N2CCN(C)CC2)n1>)>,\n",
       " <ProteinLigandComplex with 2 components (<KLIFSKinase name=P00533>, <Ligand name=CN(C)c1ccc(/C=C/C(=O)c2ccc3ncc(C(N)=O)c(Nc4ccc(Cl)cc4)c3c2)cc1>)>,\n",
       " <ProteinLigandComplex with 2 components (<KLIFSKinase name=P00533>, <Ligand name=O=C1COc2cc3ncnc(Nc4ccccc4)c3cc2N1CCCN1CCOCC1>)>,\n",
       " <ProteinLigandComplex with 2 components (<KLIFSKinase name=P00533>, <Ligand name=Cc1ccc(C(/C=C/c2ccccc2)=N\\NC(N)=S)cc1>)>,\n",
       " <ProteinLigandComplex with 2 components (<KLIFSKinase name=P00533>, <Ligand name=O=C1CN(Cc2ccn3ncnc(Nc4ccc5c(cnn5Cc5cccc(F)c5)c4)c23)CCN1>)>,\n",
       " <ProteinLigandComplex with 2 components (<KLIFSKinase name=P00533>, <Ligand name=CN(/N=N/c1ccc2ncnc(Nc3cccc(Cl)c3)c2c1)C(=O)Oc1ccc([N+](=O)[O-])cc1>)>,\n",
       " <ProteinLigandComplex with 2 components (<KLIFSKinase name=P00533>, <Ligand name=Cc1ccc(F)c(NC(=O)Nc2ccc(-c3cccc4[nH]nc(N)c34)cc2)c1>)>,\n",
       " <ProteinLigandComplex with 2 components (<KLIFSKinase name=P00533>, <Ligand name=C#Cc1cccc(NC(=O)c2cc(NC(=O)CCCCCCC(=O)NO)ccc2O)c1>)>,\n",
       " <ProteinLigandComplex with 2 components (<KLIFSKinase name=P00533>, <Ligand name=COc1cc2ncnc(Nc3ccc(-c4nc5ccccc5s4)cc3)c2cc1OCCCN1CCN(C)CC1>)>,\n",
       " <ProteinLigandComplex with 2 components (<KLIFSKinase name=P00533>, <Ligand name=C[C@@H](Nc1ncnc2sc(Br)cc12)c1ccccn1>)>,\n",
       " <ProteinLigandComplex with 2 components (<KLIFSKinase name=P00533>, <Ligand name=COc1cc(N(C)CCN(C)C)c(NC(=O)/C=C\\C(C)C)cc1Nc1nccc(-c2cn(C)c3ccccc23)n1>)>,\n",
       " <ProteinLigandComplex with 2 components (<KLIFSKinase name=P00533>, <Ligand name=COc1cc2ncnc(Sc3cccc(Cl)c3)c2cc1OC>)>,\n",
       " <ProteinLigandComplex with 2 components (<KLIFSKinase name=P00533>, <Ligand name=C#Cc1cccc(NC(=O)c2cc(OCCCCCCC(=O)NO)ccc2O)c1>)>,\n",
       " <ProteinLigandComplex with 2 components (<KLIFSKinase name=P00533>, <Ligand name=COc1cc2ncnc(Nc3ccc(OCc4ccccn4)c(C)c3)c2cc1OC>)>,\n",
       " <ProteinLigandComplex with 2 components (<KLIFSKinase name=P00533>, <Ligand name=CC(C)(C)NC(=O)c1cccc(Oc2ccc(Nc3ncnc4ccn(CCO)c34)cc2Cl)c1>)>,\n",
       " <ProteinLigandComplex with 2 components (<KLIFSKinase name=P00533>, <Ligand name=C#Cc1cccc(Nc2ncnc3ccc(-c4ccc(CO)o4)cc23)c1>)>,\n",
       " <ProteinLigandComplex with 2 components (<KLIFSKinase name=P00533>, <Ligand name=C=CC(=O)NCCCn1c(-c2nc(-c3cnn(C4CCN(C)CC4)c3)cnc2N)nc2ccccc21>)>,\n",
       " <ProteinLigandComplex with 2 components (<KLIFSKinase name=P00533>, <Ligand name=C#Cc1cc2c(Nc3ccc(OCc4cccc(F)c4)c(Cl)c3)ncnc2s1>)>,\n",
       " <ProteinLigandComplex with 2 components (<KLIFSKinase name=P00533>, <Ligand name=COc1cccc(-c2cn(C3CCN(CCO)CC3)c3ncnc(N)c23)c1>)>,\n",
       " <ProteinLigandComplex with 2 components (<KLIFSKinase name=P00533>, <Ligand name=COC/C=C/C(=O)Nc1ccc2ncnc(Nc3cccc(Br)c3)c2c1>)>,\n",
       " <ProteinLigandComplex with 2 components (<KLIFSKinase name=P00533>, <Ligand name=COc1cc(N2CCN(C(C)=O)CC2)ccc1Nc1ncc(Cl)c(-c2c[nH]c3ccccc23)n1>)>,\n",
       " <ProteinLigandComplex with 2 components (<KLIFSKinase name=P00533>, <Ligand name=COc1cc(OC)c2c(c1)Oc1ncnc(Nc3cccc(Br)c3)c1NC2>)>,\n",
       " <ProteinLigandComplex with 2 components (<KLIFSKinase name=P00533>, <Ligand name=C=CC(=O)Nc1cc(Nc2nccc(-c3cn4c5c(cccc35)CCC4)n2)c(OC)cc1N(C)CCN(C)C>)>,\n",
       " <ProteinLigandComplex with 2 components (<KLIFSKinase name=P00533>, <Ligand name=CN(C)CCCN1Cc2cc3c(Nc4cccc(Br)c4)ncnc3cc21>)>,\n",
       " <ProteinLigandComplex with 2 components (<KLIFSKinase name=P00533>, <Ligand name=COc1cc2ncnc(Nc3ccc(OCc4cccc(F)c4)c(Cl)c3)c2cc1OCCCCn1ccnc1[N+](=O)[O-]>)>,\n",
       " <ProteinLigandComplex with 2 components (<KLIFSKinase name=P00533>, <Ligand name=O=C(NCC(F)(F)F)c1cc(-c2cnn3cc(-c4ccc(OCCN5CCCCC5)cc4)cnc23)cs1>)>,\n",
       " <ProteinLigandComplex with 2 components (<KLIFSKinase name=P00533>, <Ligand name=C=CC(=O)Nc1cc(-n2c(=O)cc(C)c3cnc(Nc4ccc(N5CC(C)N(C)C(C)C5)cc4OC)nc32)cc(C(F)(F)F)c1>)>,\n",
       " <ProteinLigandComplex with 2 components (<KLIFSKinase name=P00533>, <Ligand name=CN1CCN(Cc2ccc(-c3ccc4ncnc(Nc5ccc(OCc6cccc(F)c6)c(Cl)c5)c4c3)o2)CC1.Cc1ccc(S(=O)(=O)O)cc1>)>,\n",
       " <ProteinLigandComplex with 2 components (<KLIFSKinase name=P00533>, <Ligand name=NP(=O)(OCCCOc1ccc2ncnc(Nc3cccc(Br)c3)c2c1)N(CCCl)CCCl>)>,\n",
       " <ProteinLigandComplex with 2 components (<KLIFSKinase name=P00533>, <Ligand name=NCc1ccc(-c2cc3ncnc(Nc4ccc5[nH]ccc5c4)c3s2)cc1>)>,\n",
       " <ProteinLigandComplex with 2 components (<KLIFSKinase name=P00533>, <Ligand name=O=S(=O)(CCCCNCc1ccc(-c2ccc3ncnc(Nc4ccc(OCc5ccccc5)c(Cl)c4)c3c2)o1)c1ccccc1>)>,\n",
       " <ProteinLigandComplex with 2 components (<KLIFSKinase name=P00533>, <Ligand name=Nc1ncnc(Nc2ccc3c(cnn3Cc3cccc(F)c3)c2)c1/C=N/N1CCOCC1>)>,\n",
       " <ProteinLigandComplex with 2 components (<KLIFSKinase name=P00533>, <Ligand name=C=CC(=O)Nc1cc(Nc2nccc(Nc3ccccc3-n3cccn3)n2)c(OC)cc1N(C)CCN(C)C>)>,\n",
       " <ProteinLigandComplex with 2 components (<KLIFSKinase name=P00533>, <Ligand name=COC[C@@H](Nc1ncnc2sc(Br)cc12)c1ccccc1>)>,\n",
       " <ProteinLigandComplex with 2 components (<KLIFSKinase name=P00533>, <Ligand name=CC(C)n1nc(-c2cccc(S(N)(=O)=O)c2)c2c(N)ncnc21>)>,\n",
       " <ProteinLigandComplex with 2 components (<KLIFSKinase name=P00533>, <Ligand name=C=CC(=O)Nc1ccc(-n2c(=O)cnc3cnc(Nc4ccc(N5CCN(C)CC5)cc4OC)nc32)cc1>)>,\n",
       " <ProteinLigandComplex with 2 components (<KLIFSKinase name=P00533>, <Ligand name=COc1cc2ncnc(N(C)c3cccc(Br)c3)c2cc1OC>)>,\n",
       " <ProteinLigandComplex with 2 components (<KLIFSKinase name=P00533>, <Ligand name=CN(C)C(=O)CCc1c(SSc2[nH]c3ccccc3c2CCC(=O)N(C)C)[nH]c2ccccc12>)>,\n",
       " <ProteinLigandComplex with 2 components (<KLIFSKinase name=P00533>, <Ligand name=Cc1cc(Nc2ncc3c(n2)N([C@H]2CCN(C(=O)C4CCCCC4)C2)C(=O)N(c2ccccc2Cl)C3)ccc1N1CCN(C)CC1>)>,\n",
       " <ProteinLigandComplex with 2 components (<KLIFSKinase name=P00533>, <Ligand name=Cn1nc(-c2ccc3ncccc3c2)c2c(N)ncnc21>)>,\n",
       " <ProteinLigandComplex with 2 components (<KLIFSKinase name=P00533>, <Ligand name=CN(C)c1ccc(Nc2ncnc3ccncc23)c(N)c1>)>,\n",
       " <ProteinLigandComplex with 2 components (<KLIFSKinase name=P00533>, <Ligand name=CN(CCc1ccc(-c2ccccc2)cc1)Cc1cn(C)c2ccc(C(=O)Nc3ccc(F)cc3)cc12>)>,\n",
       " <ProteinLigandComplex with 2 components (<KLIFSKinase name=P00533>, <Ligand name=C=CC(=O)N1C[C@H](COC)[C@@H](COc2nc(Nc3cnn(C)c3)nc3[nH]cc(Cl)c23)C1>)>,\n",
       " <ProteinLigandComplex with 2 components (<KLIFSKinase name=P00533>, <Ligand name=Cc1c(C(=O)NCCN2CCOCC2)[nH]c2cnnc(Nc3ccc(OCc4cccc(F)c4)c(Cl)c3)c12>)>,\n",
       " <ProteinLigandComplex with 2 components (<KLIFSKinase name=P00533>, <Ligand name=COc1cc2c(Nc3ccc(Cl)cc3F)ncnc2cc1OCCCN1CCCC1.Cl>)>,\n",
       " <ProteinLigandComplex with 2 components (<KLIFSKinase name=P00533>, <Ligand name=COc1cc2ncnc(Nc3ccc(F)c(Cl)c3)c2cc1CNC(=O)[C@H]1CCCCN1C>)>,\n",
       " <ProteinLigandComplex with 2 components (<KLIFSKinase name=P00533>, <Ligand name=Cc1nc2cnc(Nc3ccnc(N4CCC(S(C)(=O)=O)CC4)n3)cc2n1C(C)C>)>,\n",
       " <ProteinLigandComplex with 2 components (<KLIFSKinase name=P00533>, <Ligand name=C=C[S+]([O-])c1cc2c(Nc3cccc(Br)c3)ncnc2cn1>)>,\n",
       " <ProteinLigandComplex with 2 components (<KLIFSKinase name=P00533>, <Ligand name=COCCNCCOc1cc2c(Nc3ccc(F)c(Cl)c3)ncnc2cc1OC>)>,\n",
       " <ProteinLigandComplex with 2 components (<KLIFSKinase name=P00533>, <Ligand name=OB(O)c1ccc(COc2ccc3ncnc(Nc4cccc(Cl)c4)c3c2)cc1>)>,\n",
       " <ProteinLigandComplex with 2 components (<KLIFSKinase name=P00533>, <Ligand name=Nc1ncnc2c1c(-c1ccccc1)cn2-c1ccc(CNCCO)cc1>)>,\n",
       " <ProteinLigandComplex with 2 components (<KLIFSKinase name=P00533>, <Ligand name=C#Cc1cccc(Nc2ncnc3cc(OCCOC(=O)CC4=C(C)/C(=C/c5ccc([S+](C)[O-])cc5)c5ccc(F)cc54)c(OCCOC(=O)CC4=C(C)/C(=C/c5ccc([S+](C)[O-])cc5)c5ccc(F)cc54)cc23)c1>)>,\n",
       " <ProteinLigandComplex with 2 components (<KLIFSKinase name=P00533>, <Ligand name=CC(=O)N1N=C(c2ccc(C)cc2)CC1c1ccc(C(=O)OCCn2c([N+](=O)[O-])cnc2C)cc1>)>,\n",
       " <ProteinLigandComplex with 2 components (<KLIFSKinase name=P00533>, <Ligand name=Clc1cccc(Nc2[nH]nc3ncnc(Nc4ccccc4)c23)c1>)>,\n",
       " <ProteinLigandComplex with 2 components (<KLIFSKinase name=P00533>, <Ligand name=COc1ccc(-c2ccc(OC(F)(F)F)c(NC(=O)Nc3ccncc3)c2)cn1>)>,\n",
       " <ProteinLigandComplex with 2 components (<KLIFSKinase name=P00533>, <Ligand name=CC(C)(C)OC(=O)n1ccc2cc(-c3nn(C4CCCC4)c4ncnc(N)c34)ccc21>)>,\n",
       " <ProteinLigandComplex with 2 components (<KLIFSKinase name=P00533>, <Ligand name=COc1cc2ncnc(Nc3ccccc3)c2cc1OC.Cl>)>,\n",
       " <ProteinLigandComplex with 2 components (<KLIFSKinase name=P00533>, <Ligand name=Cc1cc(-c2nn(C(C)C)c3ncnc(N)c23)sc1C=O>)>,\n",
       " <ProteinLigandComplex with 2 components (<KLIFSKinase name=P00533>, <Ligand name=C[C@H](Nc1ncnc2cc3oc(=O)n(CCCN4CCOCC4)c3cc12)c1ccccc1>)>,\n",
       " <ProteinLigandComplex with 2 components (<KLIFSKinase name=P00533>, <Ligand name=O=C(C#CCN1CCOCC1)Nc1ccc2ncnc(Nc3ccc(F)c(Cl)c3)c2c1>)>,\n",
       " <ProteinLigandComplex with 2 components (<KLIFSKinase name=P00533>, <Ligand name=COc1cc(O)c(C(=O)Nc2ccc(F)c(Cl)c2)cc1NC(=O)CCCCCC(=O)NO>)>,\n",
       " <ProteinLigandComplex with 2 components (<KLIFSKinase name=P00533>, <Ligand name=CCN(CC)C/C=C/C(=O)Nc1cccc(-c2c(-c3ccccc3)oc3ncnc(N[C@H](CO)c4ccccc4)c23)c1>)>,\n",
       " <ProteinLigandComplex with 2 components (<KLIFSKinase name=P00533>, <Ligand name=CCC(=O)N1CC[C@H](N2C(=O)N(c3cc(OC)ccc3F)Cc3cnc(Nc4ccc(N5CCC6(CCN(C)C6)C5)c(C)c4)nc32)C1>)>,\n",
       " <ProteinLigandComplex with 2 components (<KLIFSKinase name=P00533>, <Ligand name=O=C(NO)c1ccc(-c2ccc3ncnc(Nc4ccc(OCc5cccc(F)c5)c(Cl)c4)c3c2)o1>)>,\n",
       " <ProteinLigandComplex with 2 components (<KLIFSKinase name=P00533>, <Ligand name=C=CC(=O)Nc1cc(Nc2nccc(Nc3ccccc3-c3ccn(C)n3)n2)c(OC)cc1N1CCC(N(C)C)CC1>)>,\n",
       " <ProteinLigandComplex with 2 components (<KLIFSKinase name=P00533>, <Ligand name=CN(C)CCN(C)c1c(Br)cccc1Nc1ncnc2ccncc12>)>,\n",
       " <ProteinLigandComplex with 2 components (<KLIFSKinase name=P00533>, <Ligand name=COc1cc(N2CCNC2=O)ccc1Nc1ncc(Cl)c(Nc2ccccc2S(=O)(=O)C(C)C)n1>)>,\n",
       " <ProteinLigandComplex with 2 components (<KLIFSKinase name=P00533>, <Ligand name=C[S+]([O-])CCCCN=C=S>)>,\n",
       " <ProteinLigandComplex with 2 components (<KLIFSKinase name=P00533>, <Ligand name=CCNCc1cn2ncnc(Nc3ccc4c(cnn4Cc4ccccc4)c3)c2c1CC>)>,\n",
       " <ProteinLigandComplex with 2 components (<KLIFSKinase name=P00533>, <Ligand name=Cc1ccc2nc(Oc3ccc(Cl)cc3)c(/C=N/NC(=O)Cn3c([N+](=O)[O-])cnc3C)cc2c1>)>,\n",
       " <ProteinLigandComplex with 2 components (<KLIFSKinase name=P00533>, <Ligand name=Cc1cccc(Nc2ncnc3c2sc2ccc([N+](=O)[O-])cc23)c1.Cl>)>,\n",
       " <ProteinLigandComplex with 2 components (<KLIFSKinase name=P00533>, <Ligand name=CCN1CCN(c2ccc(Nc3nccc(-c4c(-c5cccc(NC(=O)c6c(F)cccc6F)c5)nc5sccn45)n3)cc2)CC1>)>,\n",
       " <ProteinLigandComplex with 2 components (<KLIFSKinase name=P00533>, <Ligand name=NS(=O)(=O)c1ccc(-n2c(SCC(=O)Nc3cnc4ccccc4c3)nc3cc4ccccc4cc3c2=O)cc1>)>,\n",
       " <ProteinLigandComplex with 2 components (<KLIFSKinase name=P00533>, <Ligand name=C=CC(=O)N1CCC(N2C(=O)N(Cc3ccccc3)Cc3cnc(Nc4ccc(N5CCN(C)CC5)cc4OC)nc32)CC1>)>,\n",
       " <ProteinLigandComplex with 2 components (<KLIFSKinase name=P00533>, <Ligand name=CS(=O)(=O)CCNCc1nc(-c2ccc3ncnc(Nc4ccc(OCc5cccc(C(F)(F)F)c5)cc4)c3c2)cs1>)>,\n",
       " <ProteinLigandComplex with 2 components (<KLIFSKinase name=P00533>, <Ligand name=COc1ccccc1-c1cc2c(NC(CO)c3ccccc3)ncnc2s1>)>,\n",
       " <ProteinLigandComplex with 2 components (<KLIFSKinase name=P00533>, <Ligand name=COc1cc2c(Nc3ccc(Cl)cc3F)ncnc2cc1OCCN1CCOCC1>)>,\n",
       " <ProteinLigandComplex with 2 components (<KLIFSKinase name=P00533>, <Ligand name=Cc1cccc(Nc2ncnc3cnc(N)cc23)c1>)>,\n",
       " <ProteinLigandComplex with 2 components (<KLIFSKinase name=P00533>, <Ligand name=COc1cc(N2CCN(C)CC2)ccc1Nc1ncc(Cl)c(Oc2ccc([N+](=O)[O-])cc2)n1>)>,\n",
       " <ProteinLigandComplex with 2 components (<KLIFSKinase name=P00533>, <Ligand name=COc1cc2nccc(Nc3ccc(F)c(Cl)c3)c2cc1NC(=O)/C=C/C(C)N1CCOCC1>)>,\n",
       " <ProteinLigandComplex with 2 components (<KLIFSKinase name=P00533>, <Ligand name=C=CC(=O)NCCn1c(-c2nc(-c3cnn(C4CCN(C)CC4)c3)cnc2N)nc2ccccc21>)>,\n",
       " <ProteinLigandComplex with 2 components (<KLIFSKinase name=P00533>, <Ligand name=CCOC(=O)CNc1cccc(Oc2cc(Nc3ccc(OCc4cccc(F)c4)c(Cl)c3)ncn2)c1>)>,\n",
       " <ProteinLigandComplex with 2 components (<KLIFSKinase name=P00533>, <Ligand name=S=C(Nc1cc(Cl)cc(Cl)c1)Nc1ccc2ncnc(Nc3cccc(Br)c3)c2c1>)>,\n",
       " <ProteinLigandComplex with 2 components (<KLIFSKinase name=P00533>, <Ligand name=C=CC(=O)Nc1cc(Nc2nccc(NC(=O)c3cccc(OC)c3)n2)c(OC)cc1N(C)CCN(C)C>)>,\n",
       " <ProteinLigandComplex with 2 components (<KLIFSKinase name=P00533>, <Ligand name=CCCC#CC(=O)Nc1cc2c(Nc3ccc(F)c(Cl)c3)ncnc2cn1>)>,\n",
       " <ProteinLigandComplex with 2 components (<KLIFSKinase name=P00533>, <Ligand name=Fc1ccc2c(Nc3cccc(Br)c3)ncnc2n1>)>,\n",
       " <ProteinLigandComplex with 2 components (<KLIFSKinase name=P00533>, <Ligand name=COc1ccccc1C(Cc1coc2nc(N)nc(N)c12)C(C)C>)>,\n",
       " <ProteinLigandComplex with 2 components (<KLIFSKinase name=P00533>, <Ligand name=NC(=S)N/N=C(/C=C/c1ccccc1)c1ccc(Cl)cc1>)>,\n",
       " <ProteinLigandComplex with 2 components (<KLIFSKinase name=P00533>, <Ligand name=O=C(Nc1ccc(CN2CCCC2)cc1)c1sc2ncnc3c2c1[nH]c(=O)n3-c1ccc(F)c(Cl)c1>)>,\n",
       " <ProteinLigandComplex with 2 components (<KLIFSKinase name=P00533>, <Ligand name=CN1CCN(c2ccc(NC(=O)c3c(Nc4ccccc4Cl)cc[nH]c3=O)cc2)CC1>)>,\n",
       " <ProteinLigandComplex with 2 components (<KLIFSKinase name=P00533>, <Ligand name=COc1cc(Nc2c(C#N)cnc3cc4cc(OCCN5CCOCC5)c(OC)cc4cc23)c(Cl)cc1Cl>)>,\n",
       " <ProteinLigandComplex with 2 components (<KLIFSKinase name=P00533>, <Ligand name=Cc1cc2[nH]c3nc(N)nc(NCc4ccccc4)c3c2cc1O>)>,\n",
       " <ProteinLigandComplex with 2 components (<KLIFSKinase name=P00533>, <Ligand name=C=COC(=O)N(C)/N=N/c1ccc2ncnc(Nc3cccc(Cl)c3)c2c1>)>,\n",
       " <ProteinLigandComplex with 2 components (<KLIFSKinase name=P00533>, <Ligand name=O=C(O)c1ccc(NN2C(=O)c3c(c4c5cccc(O)c5n(C5OC(CO)C(O)C(O)C5O)c4c4[nH]c5c(O)cccc5c34)C2=O)cc1>)>,\n",
       " <ProteinLigandComplex with 2 components (<KLIFSKinase name=P00533>, <Ligand name=O=C(Cn1c(-c2ccccc2)cc(=O)n2ncnc12)NNC(=S)Nc1ccccc1>)>,\n",
       " <ProteinLigandComplex with 2 components (<KLIFSKinase name=P00533>, <Ligand name=N#CC(C#N)=Cc1cccnc1>)>,\n",
       " <ProteinLigandComplex with 2 components (<KLIFSKinase name=P00533>, <Ligand name=O=C(NS(=O)(=O)c1ccccc1)c1cncc(Br)c1>)>,\n",
       " <ProteinLigandComplex with 2 components (<KLIFSKinase name=P00533>, <Ligand name=Cc1ccc(C(=O)NS(=O)(=O)c2ccc(Br)cc2)c(Cl)n1>)>,\n",
       " <ProteinLigandComplex with 2 components (<KLIFSKinase name=P00533>, <Ligand name=Cc1ccc(C2=NN(c3ccccc3)C(c3ccc4ccccc4c3)C2)cc1>)>,\n",
       " <ProteinLigandComplex with 2 components (<KLIFSKinase name=P00533>, <Ligand name=CC(C)n1nc(-c2ccc(O)c(F)c2)c2c(N)ncnc21>)>,\n",
       " <ProteinLigandComplex with 2 components (<KLIFSKinase name=P00533>, <Ligand name=CN1CCN(CCCNc2ncc3cc(-c4c(Cl)cccc4Cl)c(NC(=O)NC4CCCCC4)nc3n2)CC1>)>,\n",
       " <ProteinLigandComplex with 2 components (<KLIFSKinase name=P00533>, <Ligand name=C=CC(=O)Nc1cc(Nc2ncc(Cl)c(-c3cnn4ccccc34)n2)c(OC)cc1N1CCN(C(=O)[C@H](C)N)CC1>)>,\n",
       " <ProteinLigandComplex with 2 components (<KLIFSKinase name=P00533>, <Ligand name=COc1cc2c(N3CCN(C(=O)Nc4ccc(OC(C)C)cc4)CC3)ncnc2cc1OCCCN1CCCCC1>)>,\n",
       " <ProteinLigandComplex with 2 components (<KLIFSKinase name=P00533>, <Ligand name=CNC(=O)COc1cccc(Nc2ncc(F)c(Nc3ccc4c(c3)NC(=O)C(F)(F)O4)n2)c1>)>,\n",
       " <ProteinLigandComplex with 2 components (<KLIFSKinase name=P00533>, <Ligand name=Nc1nc(Nc2ccc(F)c(Cl)c2)c2cc(CCc3ccccc3)[nH]c2n1>)>,\n",
       " <ProteinLigandComplex with 2 components (<KLIFSKinase name=P00533>, <Ligand name=C=CC(=O)Nc1cccc(Oc2nc(Nc3n[nH]c4ccccc34)cc(N3CCN(C(C)=O)CC3)n2)c1>)>,\n",
       " <ProteinLigandComplex with 2 components (<KLIFSKinase name=P00533>, <Ligand name=Clc1ccc(C2=NN(c3ccccc3)C(c3cccc4ccccc34)C2)cc1>)>,\n",
       " <ProteinLigandComplex with 2 components (<KLIFSKinase name=P00533>, <Ligand name=Cc1ncnc(Nc2ccc(OCc3cccc(F)c3)c(Cl)c2)c1/C=N/OCCN1CCOCC1>)>,\n",
       " <ProteinLigandComplex with 2 components (<KLIFSKinase name=P00533>, <Ligand name=Cc1ccc(Oc2ccc(Nc3ncnc4[nH]nc(OCCN5CCC(O)CC5)c34)cc2F)cn1>)>,\n",
       " <ProteinLigandComplex with 2 components (<KLIFSKinase name=P00533>, <Ligand name=CCOc1cc2ncnc(Nc3ccc(F)c(Cl)c3)c2cc1NC(=O)CCN1CCCCC1>)>,\n",
       " <ProteinLigandComplex with 2 components (<KLIFSKinase name=P00533>, <Ligand name=CCOc1cc2ncnc(Nc3ccc4c(cnn4Cc4ccccc4)c3)c2cc1NC(=O)/C=C/CN1CCCCC1>)>,\n",
       " <ProteinLigandComplex with 2 components (<KLIFSKinase name=P00533>, <Ligand name=CN1CCN(CCCCNc2ncc3cc(-c4c(Cl)cccc4Cl)c(=O)n(C)c3n2)CC1>)>,\n",
       " <ProteinLigandComplex with 2 components (<KLIFSKinase name=P00533>, <Ligand name=Fc1ccc(C2CC(c3ccc(Br)cc3)=NN2c2nc(-c3ccc(Cl)cc3)cs2)cc1>)>,\n",
       " <ProteinLigandComplex with 2 components (<KLIFSKinase name=P00533>, <Ligand name=Clc1ccc(Nc2nnc(Cc3ccncc3)c3ccccc23)cc1>)>,\n",
       " <ProteinLigandComplex with 2 components (<KLIFSKinase name=P00533>, <Ligand name=CC1CCC(n2nc(-c3ccc(F)c(O)c3)c3c(N)ncnc32)C1>)>,\n",
       " <ProteinLigandComplex with 2 components (<KLIFSKinase name=P00533>, <Ligand name=C=CC(=O)Nc1cccc(Nc2nc(Nc3ccc(OCCn4ccnc4)cc3)ncc2Cl)c1>)>,\n",
       " <ProteinLigandComplex with 2 components (<KLIFSKinase name=P00533>, <Ligand name=COc1cccc(-c2cc3c(N[C@H](C)c4ccccc4)ncnc3s2)c1OC>)>,\n",
       " <ProteinLigandComplex with 2 components (<KLIFSKinase name=P00533>, <Ligand name=C=CC(=O)Nc1cc2c(Nc3ccc(OCc4cccc(F)c4)c(Cl)c3)ncnc2cc1O[C@H]1CCOC1>)>,\n",
       " <ProteinLigandComplex with 2 components (<KLIFSKinase name=P00533>, <Ligand name=COCCn1c(=O)oc2cc3ncnc(Nc4cccc(C(C)=O)c4)c3cc21>)>,\n",
       " <ProteinLigandComplex with 2 components (<KLIFSKinase name=P00533>, <Ligand name=COc1cccc(-c2cn(-c3ccc(CC(=O)NCCO)cc3)c3ncnc(N)c23)c1>)>,\n",
       " <ProteinLigandComplex with 2 components (<KLIFSKinase name=P00533>, <Ligand name=COC[C@@H]1CCCN1C/C=C/C(=O)Nc1ccc2ncnc(Nc3cccc(Br)c3)c2c1>)>,\n",
       " <ProteinLigandComplex with 2 components (<KLIFSKinase name=P00533>, <Ligand name=COc1cc2c(Oc3ccc(C4SCC(=O)N4NC(=O)Nc4ccc(F)c(F)c4F)cc3)ccnc2cc1OCCCN1CCOCC1>)>,\n",
       " <ProteinLigandComplex with 2 components (<KLIFSKinase name=P00533>, <Ligand name=Nc1ncnc(Nc2ccc3c(cnn3Cc3cccc(F)c3)c2)c1/C=N/NCC(F)(F)F>)>,\n",
       " <ProteinLigandComplex with 2 components (<KLIFSKinase name=P00533>, <Ligand name=COc1cc(CO)ccc1-c1cc2c(Nc3ccccc3)ncnc2s1>)>,\n",
       " <ProteinLigandComplex with 2 components (<KLIFSKinase name=P00533>, <Ligand name=COc1cc2c(Nc3ccc(Cl)cc3F)ncnc2cc1OCC1CCNCC1.Cl>)>,\n",
       " <ProteinLigandComplex with 2 components (<KLIFSKinase name=P00533>, <Ligand name=O=C(O)CCCC(=O)Nc1cc(Nc2ccccc2)ncn1>)>,\n",
       " <ProteinLigandComplex with 2 components (<KLIFSKinase name=P00533>, <Ligand name=COc1ccc(OC)c(Cc2cc3c(Nc4cccc(Br)c4)nc(N)nc3[nH]2)c1>)>,\n",
       " <ProteinLigandComplex with 2 components (<KLIFSKinase name=P00533>, <Ligand name=C=CC(=O)Nc1cccc(N2C(=O)C(Cc3ccc(OC)cc3)N(C)C(=O)c3cnc(Nc4ccc(N5CCN(C)CC5)cc4OC)nc32)c1>)>,\n",
       " <ProteinLigandComplex with 2 components (<KLIFSKinase name=P00533>, <Ligand name=O=C1CSC(N2N=C(c3ccc(F)cc3)CC2c2ccc(Cl)cc2)=N1>)>,\n",
       " <ProteinLigandComplex with 2 components (<KLIFSKinase name=P00533>, <Ligand name=C=CC(=O)Nc1cccc(-n2c(=O)cc(C)c3cnc(Nc4ccc(N5CCN(C)CC5)cc4OCCC)nc32)c1>)>,\n",
       " <ProteinLigandComplex with 2 components (<KLIFSKinase name=P00533>, <Ligand name=Clc1ccc(C2CC(c3ccc4c(c3)OCCO4)=NN2c2ccccc2)cc1Cl>)>,\n",
       " <ProteinLigandComplex with 2 components (<KLIFSKinase name=P00533>, <Ligand name=C=CC(=O)Nc1cccc(-n2c(=O)cc(C3CC3)c3cnc(Nc4ccc(N5CCN(C)CC5)cc4OC)nc32)c1>)>,\n",
       " <ProteinLigandComplex with 2 components (<KLIFSKinase name=P00533>, <Ligand name=CC(=O)OC[C@]1(C)[C@@H](OC(C)=O)CC[C@@]2(C)[C@H]1CC[C@]1(C)[C@@H]2CC=C2[C@@H]3CC(C)(C)CC[C@]3(C(=O)OCCCCO[N+](=O)[O-])CC[C@]21C>)>,\n",
       " <ProteinLigandComplex with 2 components (<KLIFSKinase name=P00533>, <Ligand name=CN(C)C1CCN(c2ccc(Nc3cc4c(N5CCC(CO)CC5)nc(Nc5ccc(F)cc5)nc4cn3)nc2)CC1>)>,\n",
       " <ProteinLigandComplex with 2 components (<KLIFSKinase name=P00533>, <Ligand name=O=C(Nn1c(-c2ccccc2)nc2ccccc2c1=O)c1ccc(Br)cc1>)>,\n",
       " <ProteinLigandComplex with 2 components (<KLIFSKinase name=P00533>, <Ligand name=CCCCN(Cc1cccc(Cl)c1O)C(=S)Nc1ccccc1>)>,\n",
       " <ProteinLigandComplex with 2 components (<KLIFSKinase name=P00533>, <Ligand name=COc1ccccc1/C=C/C(=O)Nc1ccc2ncnc(Nc3cccc(Br)c3)c2c1>)>,\n",
       " <ProteinLigandComplex with 2 components (<KLIFSKinase name=P00533>, <Ligand name=O=C(/C=C/c1cccc(-c2ccc3ncnc(Nc4ccc(OCc5cccc(F)c5)c(Cl)c4)c3c2)c1)NO>)>,\n",
       " <ProteinLigandComplex with 2 components (<KLIFSKinase name=P00533>, <Ligand name=COCCCN1CCC([C@H]2CC[C@H](n3nc(-c4ccc5nc(Cc6ccccc6Cl)[nH]c5c4)c4c(N)ncnc43)CC2)CC1>)>,\n",
       " <ProteinLigandComplex with 2 components (<KLIFSKinase name=P00533>, <Ligand name=COc1cc2ncnc(Nc3ccc(F)c(Cl)c3)c2cc1OCCN1CC2(COC2)C1>)>,\n",
       " <ProteinLigandComplex with 2 components (<KLIFSKinase name=P00533>, <Ligand name=C=CC(=O)Nc1cccc(-n2c(NC(=O)c3cccc(C(F)(F)F)c3)nc3cc(C)ccc32)c1>)>,\n",
       " <ProteinLigandComplex with 2 components (<KLIFSKinase name=P00533>, <Ligand name=CCC(=O)Nc1cc2c(Nc3ccc(NS(=O)(=O)c4ccccc4)nc3)ncnc2cc1OC>)>,\n",
       " <ProteinLigandComplex with 2 components (<KLIFSKinase name=P00533>, <Ligand name=COc1ccc2[nH]c3ncnc(Nc4cccc(Br)c4)c3c2c1>)>,\n",
       " <ProteinLigandComplex with 2 components (<KLIFSKinase name=P00533>, <Ligand name=C=CC(=O)Nc1cc2c(Nc3ccc(F)c(Cl)c3)ncnc2cc1OCc1cn(Cc2ccccc2)nn1>)>,\n",
       " <ProteinLigandComplex with 2 components (<KLIFSKinase name=P00533>, <Ligand name=C/C=C/C(=O)Nc1cc2c(Nc3cccc(Br)c3)ncnc2cn1>)>,\n",
       " <ProteinLigandComplex with 2 components (<KLIFSKinase name=P00533>, <Ligand name=C=CC(=O)Nc1nc2c(Cc3ccc(F)c(Cl)c3)ncnc2cc1OC>)>,\n",
       " <ProteinLigandComplex with 2 components (<KLIFSKinase name=P00533>, <Ligand name=Cc1ccc(C(/C=C/c2ccc(F)cc2)=N\\Nc2nncc3ccccc23)cc1>)>,\n",
       " <ProteinLigandComplex with 2 components (<KLIFSKinase name=P00533>, <Ligand name=O=C(Nc1cccc([N+](=O)[O-])c1)Nc1ncnc2nn3ccccc3c12>)>,\n",
       " <ProteinLigandComplex with 2 components (<KLIFSKinase name=P00533>, <Ligand name=C=CC(=O)Nc1cccc(-n2c(=O)cc(CCC)c3cnc(Nc4ccc(N5CCN(C)CC5)cc4OC)nc32)c1>)>,\n",
       " <ProteinLigandComplex with 2 components (<KLIFSKinase name=P00533>, <Ligand name=COc1cc2ncnc(Nc3ccc(F)c(Cl)c3)c2cc1OC[C@H](O)CN1CCOCC1>)>,\n",
       " <ProteinLigandComplex with 2 components (<KLIFSKinase name=P00533>, <Ligand name=CCC(=O)N1CC[C@H](N2C(=O)N(c3cccc(OC(F)F)c3)Cc3cnc(Nc4ccc(N5CCN(C)CC5)c(C)c4)nc32)C1>)>,\n",
       " <ProteinLigandComplex with 2 components (<KLIFSKinase name=P00533>, <Ligand name=CCOc1cc2ncnc(Nc3ccc(OCC4CC4)c(Cl)c3)c2cc1NC(=O)[C@@H]1COC(=O)N1>)>,\n",
       " <ProteinLigandComplex with 2 components (<KLIFSKinase name=P00533>, <Ligand name=C=CC(=O)Nc1cccc(N2C(=O)N(C3CC3)Cc3cnc(Nc4ccc(N5CCN(C)CC5)cc4OC)nc32)c1>)>,\n",
       " <ProteinLigandComplex with 2 components (<KLIFSKinase name=P00533>, <Ligand name=Cn1cc(NC(=O)c2cccc(NS(=O)(=O)c3ccc(Cl)cc3)c2)cn1>)>,\n",
       " <ProteinLigandComplex with 2 components (<KLIFSKinase name=P00533>, <Ligand name=N#C/C(=C\\c1ccc(O)c(O)c1)C(=O)N1CCN(C(=O)/C(C#N)=C/c2ccc(O)c(O)c2)CC1>)>,\n",
       " <ProteinLigandComplex with 2 components (<KLIFSKinase name=P00533>, <Ligand name=CC(C)C[C@@H](NC(=O)OC(C)(C)C)C(=O)Nc1ccc2ncnc(Nc3cccc(Br)c3)c2c1>)>,\n",
       " <ProteinLigandComplex with 2 components (<KLIFSKinase name=P00533>, <Ligand name=NC1CCN(Cc2ccn3ncnc(Nc4cccc(Br)c4)c23)CC1>)>,\n",
       " <ProteinLigandComplex with 2 components (<KLIFSKinase name=P00533>, <Ligand name=COc1cc(/C=C(\\C#N)C(N)=O)cc(SCCCC(=O)O)c1O>)>,\n",
       " <ProteinLigandComplex with 2 components (<KLIFSKinase name=P00533>, <Ligand name=C=CC(=O)Nc1cccc(-n2c(=O)c(=O)[nH]c3cnc(Nc4ccc(N5CCN(C)CC5)cc4OC)nc32)c1>)>,\n",
       " <ProteinLigandComplex with 2 components (<KLIFSKinase name=P00533>, <Ligand name=C=CC(=O)Nc1ccc2ncnc(Nc3cccc(CC)c3)c2c1>)>,\n",
       " <ProteinLigandComplex with 2 components (<KLIFSKinase name=P00533>, <Ligand name=Cc1cc(=O)n2nc(SCc3cccc(C(F)(F)F)c3)nc2[nH]1>)>,\n",
       " <ProteinLigandComplex with 2 components (<KLIFSKinase name=P00533>, <Ligand name=O=C(Nc1ccncc1)Nc1cc(-c2cccnc2)ccc1OC(F)(F)F>)>,\n",
       " <ProteinLigandComplex with 2 components (<KLIFSKinase name=P00533>, <Ligand name=CN(C)C(=O)CSc1nc(-c2ccc(F)cc2)c(-c2ccnc(Nc3ccccc3)c2)[nH]1>)>,\n",
       " <ProteinLigandComplex with 2 components (<KLIFSKinase name=P00533>, <Ligand name=COC(=O)c1cc2cc(NCc3cc(NC(=O)c4cc(-n5cnc(C)c5)cc(C(F)(F)F)c4)ccc3C)cnc2[nH]1>)>,\n",
       " <ProteinLigandComplex with 2 components (<KLIFSKinase name=P00533>, <Ligand name=Brc1cccc(Nc2ncnc3cc4c(cc23)CN4)c1>)>,\n",
       " <ProteinLigandComplex with 2 components (<KLIFSKinase name=P00533>, <Ligand name=CCOc1cc2ncnc(Nc3ccc(OCc4cccc(F)c4)c(Cl)c3)c2cc1NC(=O)[C@H]1COC(=O)N1>)>,\n",
       " <ProteinLigandComplex with 2 components (<KLIFSKinase name=P00533>, <Ligand name=Brc1cc2c(NCc3ccccc3)ncnc2s1>)>,\n",
       " <ProteinLigandComplex with 2 components (<KLIFSKinase name=P00533>, <Ligand name=OC[C@@H](Nc1ncnc2oc(-c3ccccc3)c(-c3ccc4c(c3)OCO4)c12)c1ccccc1>)>,\n",
       " <ProteinLigandComplex with 2 components (<KLIFSKinase name=P00533>, <Ligand name=Cc1ccc(-n2cc3c(-c4c(C)[nH]c(-c5ccccc5)c4-c4ccccc4)nnc(C)c3n2)cc1>)>,\n",
       " <ProteinLigandComplex with 2 components (<KLIFSKinase name=P00533>, <Ligand name=C=CC(=O)Nc1ccc(-n2c(=O)c(C)nc3cnc(Nc4ccc(OC)cc4)nc32)cc1>)>,\n",
       " <ProteinLigandComplex with 2 components (<KLIFSKinase name=P00533>, <Ligand name=Nc1ccc2ncnc(Nc3ccc(F)c(Cl)c3)c2c1>)>,\n",
       " <ProteinLigandComplex with 2 components (<KLIFSKinase name=P00533>, <Ligand name=COc1ccc(OC)c(Nc2cc(Nc3ccc(N4CCN(C)CC4)cc3)ncn2)c1>)>,\n",
       " <ProteinLigandComplex with 2 components (<KLIFSKinase name=P00533>, <Ligand name=COc1ccc2c(c1)Oc1ncnc(Nc3cccc(Br)c3)c1NC2>)>,\n",
       " <ProteinLigandComplex with 2 components (<KLIFSKinase name=P00533>, <Ligand name=CC1(C)OCc2c(Nc3n[nH]c4c(Cl)cc(F)cc34)nc(-c3cn[nH]c3)nc21>)>,\n",
       " <ProteinLigandComplex with 2 components (<KLIFSKinase name=P00533>, <Ligand name=CC(C)n1nc(-c2ccc(C#N)nc2)c2c(N)ncnc21>)>,\n",
       " <ProteinLigandComplex with 2 components (<KLIFSKinase name=P00533>, <Ligand name=Cc1[nH]c2ncnc(N(C)c3cccc(Cl)c3)c2c1C>)>,\n",
       " <ProteinLigandComplex with 2 components (<KLIFSKinase name=P00533>, <Ligand name=CCOc1cc2ncnc(Nc3ccc4c(cnn4Cc4ccccc4)c3)c2cc1NC(=O)/C=C/CN(C(C)C)C(C)C>)>,\n",
       " <ProteinLigandComplex with 2 components (<KLIFSKinase name=P00533>, <Ligand name=O=C1N=C(N2CCC[C@H]2C(=O)Nc2ccc3ncnc(Nc4cccc(Cl)c4)c3c2)S/C1=C/c1cccnc1>)>,\n",
       " <ProteinLigandComplex with 2 components (<KLIFSKinase name=P00533>, <Ligand name=COc1ccc(/C=N/NC2=NC(=O)CS2)cc1>)>,\n",
       " <ProteinLigandComplex with 2 components (<KLIFSKinase name=P00533>, <Ligand name=C=CC(=O)Nc1cccc(-c2c(C)oc3ncnc(N[C@H](CO)c4ccccc4)c23)c1>)>,\n",
       " <ProteinLigandComplex with 2 components (<KLIFSKinase name=P00533>, <Ligand name=OCCCNc1cncc(-c2cncc(Nc3cccc(Cl)c3)n2)c1>)>,\n",
       " <ProteinLigandComplex with 2 components (<KLIFSKinase name=P00533>, <Ligand name=O=C(N/N=C/c1cccs1)N1CCc2ncnc(Nc3ccc(F)c(Cl)c3)c2C1>)>,\n",
       " <ProteinLigandComplex with 2 components (<KLIFSKinase name=P00533>, <Ligand name=COc1ccc(-c2cc(NC(=O)Nc3nccs3)cc(C(F)(F)F)c2)cn1>)>,\n",
       " <ProteinLigandComplex with 2 components (<KLIFSKinase name=P00533>, <Ligand name=C=CC(=O)c1ccc2ccccc2c1>)>,\n",
       " <ProteinLigandComplex with 2 components (<KLIFSKinase name=P00533>, <Ligand name=C=CC(=O)N(c1cccc(C(F)(F)F)c1)c1ncnc2cc(OC)c(OCCCN3CCOCC3)cc12>)>,\n",
       " <ProteinLigandComplex with 2 components (<KLIFSKinase name=P00533>, <Ligand name=O=C(Nc1ccc(F)cc1)c1ccc(N(CCCl)CCCl)cc1>)>,\n",
       " <ProteinLigandComplex with 2 components (<KLIFSKinase name=P00533>, <Ligand name=C/N=N/Nc1ccc2ncnc(N(C)c3ccccc3)c2c1>)>,\n",
       " <ProteinLigandComplex with 2 components (<KLIFSKinase name=P00533>, <Ligand name=C=CC(=O)Nc1cccc(N2C(=O)C(C)N(C)C(=O)c3cnc(Nc4ccc(N5CCN(C)CC5)cc4OC)nc32)c1>)>,\n",
       " <ProteinLigandComplex with 2 components (<KLIFSKinase name=P00533>, <Ligand name=COC(=O)c1ccc(O)c(-c2nc(NCc3cccnc3)c3ccccc3n2)c1>)>,\n",
       " <ProteinLigandComplex with 2 components (<KLIFSKinase name=P00533>, <Ligand name=C#Cc1cccc(Nc2ncnc3ccc(OCCCCNCCS(C)(=O)=O)cc23)c1>)>,\n",
       " <ProteinLigandComplex with 2 components (<KLIFSKinase name=P00533>, <Ligand name=C=CS(=O)(=O)Nc1ccc2ncnc(Nc3cccc(Br)c3)c2c1>)>,\n",
       " <ProteinLigandComplex with 2 components (<KLIFSKinase name=P00533>, <Ligand name=COc1cc(NC(=O)Nc2ccccn2)cc(-c2cccnc2)c1OC>)>,\n",
       " <ProteinLigandComplex with 2 components (<KLIFSKinase name=P00533>, <Ligand name=CCCCCCCCOC(=O)COc1cc(O)c2c(=O)cc(-c3ccccc3)oc2c1>)>,\n",
       " <ProteinLigandComplex with 2 components (<KLIFSKinase name=P00533>, <Ligand name=COc1cc2ncnc(Nc3ccc(F)c(Cl)c3)c2cc1OCCCCCn1ccnc1[N+](=O)[O-]>)>,\n",
       " <ProteinLigandComplex with 2 components (<KLIFSKinase name=P00533>, <Ligand name=S=C(NCCCN1CCOCC1)Nc1ccc2ncnc(Nc3cccc(Br)c3)c2c1>)>,\n",
       " <ProteinLigandComplex with 2 components (<KLIFSKinase name=P00533>, <Ligand name=CCC(=O)N1CCC[C@@H](n2c(=O)c(-c3ccccc3Br)c(C)c3cnc(Nc4ccc(N5CCN(C)CC5)c(C)c4)nc32)C1>)>,\n",
       " <ProteinLigandComplex with 2 components (<KLIFSKinase name=P00533>, <Ligand name=COCCOc1cc2ncnc(Nc3ccc(F)c(Cl)c3)c2cc1NC(=O)/C=C/CN1CCCCC1>)>,\n",
       " <ProteinLigandComplex with 2 components (<KLIFSKinase name=P00533>, <Ligand name=NCCOCc1ccn2ncnc(Nc3ccc4c(cnn4Cc4cccc(F)c4)c3)c12>)>,\n",
       " <ProteinLigandComplex with 2 components (<KLIFSKinase name=P00533>, <Ligand name=O=C(Nc1ccccc1Cl)c1ccc(N(CCCl)CCCl)cc1>)>,\n",
       " <ProteinLigandComplex with 2 components (<KLIFSKinase name=P00533>, <Ligand name=CN(C)[C@@H](CS(C)(=O)=O)c1ccc(-c2ccc3ncnc(Nc4ccc(OCc5cccc(F)c5)c(Cl)c4)c3c2)o1>)>,\n",
       " <ProteinLigandComplex with 2 components (<KLIFSKinase name=P00533>, <Ligand name=Fc1cccc(COc2ccc(Nc3ncncc3C#Cc3cc[nH]n3)cc2Cl)c1>)>,\n",
       " <ProteinLigandComplex with 2 components (<KLIFSKinase name=P00533>, <Ligand name=CNC(=O)c1ccc(Sc2cccc(NC(=S)Nc3ccc(Cl)c(C(F)(F)F)c3)c2)nc1>)>,\n",
       " <ProteinLigandComplex with 2 components (<KLIFSKinase name=P00533>, <Ligand name=O=C1CSC(N2N=C(c3ccccc3)CC2c2ccc(Cl)cc2)=N1>)>,\n",
       " <ProteinLigandComplex with 2 components (<KLIFSKinase name=P00533>, <Ligand name=C=CC(=O)Nc1cccc(N2C3=NCCCCN3C(=O)c3cnc(Nc4ccc(N5CCN(C)CC5)cc4OC)nc32)c1>)>,\n",
       " <ProteinLigandComplex with 2 components (<KLIFSKinase name=P00533>, <Ligand name=CCCNN1C(=O)c2c(c3c4cccc(O)c4n(C4OC(CO)C(O)C(O)C4O)c3c3[nH]c4c(O)cccc4c23)C1=O>)>,\n",
       " <ProteinLigandComplex with 2 components (<KLIFSKinase name=P00533>, <Ligand name=Cc1cccc(C)c1-c1cc(C)c2nc(Nc3ccc(OCCN4CCCC4)cc3)nnc2c1>)>,\n",
       " <ProteinLigandComplex with 2 components (<KLIFSKinase name=P00533>, <Ligand name=Cc1ncc([N+](=O)[O-])n1CC(=O)N/N=C/c1cc2ccccc2nc1Oc1ccccc1>)>,\n",
       " <ProteinLigandComplex with 2 components (<KLIFSKinase name=P00533>, <Ligand name=O=C1CSC(N/N=C/c2ccc(O)cc2)=N1>)>,\n",
       " <ProteinLigandComplex with 2 components (<KLIFSKinase name=P00533>, <Ligand name=Cc1[nH]c2ncnc(Nc3cccc(F)c3)c2c1C>)>,\n",
       " <ProteinLigandComplex with 2 components (<KLIFSKinase name=P00533>, <Ligand name=Cl.O=[N+]([O-])c1ccc2sc3c(Nc4cccc(Br)c4)ncnc3c2c1>)>,\n",
       " <ProteinLigandComplex with 2 components (<KLIFSKinase name=P00533>, <Ligand name=Clc1ccc2ncnc(Nc3cccc(Br)c3)c2n1>)>,\n",
       " <ProteinLigandComplex with 2 components (<KLIFSKinase name=P00533>, <Ligand name=C=CC(=O)Nc1cc(Nc2nccc(-c3cn4c5c(cccc35)CCC4)n2)c(OC)cc1N1CC(CCN(C)C)C1>)>,\n",
       " <ProteinLigandComplex with 2 components (<KLIFSKinase name=P00533>, <Ligand name=NC(=S)N/N=C(/C=C/c1cccc([N+](=O)[O-])c1)c1ccccc1>)>,\n",
       " <ProteinLigandComplex with 2 components (<KLIFSKinase name=P00533>, <Ligand name=OCCN(CCO)CCCNc1cc2ncnc(Nc3cccc(Br)c3)c2cn1>)>,\n",
       " <ProteinLigandComplex with 2 components (<KLIFSKinase name=P00533>, <Ligand name=COc1cc2c(Nc3ccc(-c4nc5ccc(F)cc5s4)cc3)ncnc2cc1OCCCN1CCN(C)CC1>)>,\n",
       " <ProteinLigandComplex with 2 components (<KLIFSKinase name=P00533>, <Ligand name=C=CC(=O)Nc1cccc(-n2c3nc(Nc4ccc(N5CCC(N(C)C)CC5)cc4OC)ncc3c(=O)n3ccnc23)c1>)>,\n",
       " <ProteinLigandComplex with 2 components (<KLIFSKinase name=P00533>, <Ligand name=C=CC(=O)Nc1cc2c(Nc3ccc(F)c(Cl)c3)ncnc2cc1OCc1cn(-c2ccccc2)nn1>)>,\n",
       " <ProteinLigandComplex with 2 components (<KLIFSKinase name=P00533>, <Ligand name=CN(C)C/C=C/C(=O)Nc1cccc(Nc2nc(N/N=C/c3ccc(F)cc3)ncc2Cl)c1>)>,\n",
       " <ProteinLigandComplex with 2 components (<KLIFSKinase name=P00533>, <Ligand name=O=C(/C=C/c1cccc([N+](=O)[O-])c1)Nc1ccc2ncnc(Nc3cccc(Br)c3)c2c1>)>,\n",
       " <ProteinLigandComplex with 2 components (<KLIFSKinase name=P00533>, <Ligand name=c1ccc(OCc2nnc(Cc3nc4ccccc4[nH]3)o2)cc1>)>,\n",
       " <ProteinLigandComplex with 2 components (<KLIFSKinase name=P00533>, <Ligand name=Oc1c(Br)cccc1CN(Cc1ccc(F)cc1)C(=S)Nc1ccccc1>)>,\n",
       " <ProteinLigandComplex with 2 components (<KLIFSKinase name=P00533>, <Ligand name=Cc1ccc(C2=NN(C(N)=S)C(c3ccccc3F)C2)cc1C>)>,\n",
       " <ProteinLigandComplex with 2 components (<KLIFSKinase name=P00533>, <Ligand name=C=C(Cl)C(=O)Nc1cc(Nc2nc3c(c(-c4cn(C)c5ccccc45)n2)CS(=O)(=O)CC3)c(OC)cc1N(C)CCN(C)C>)>,\n",
       " <ProteinLigandComplex with 2 components (<KLIFSKinase name=P00533>, <Ligand name=COc1ccc2c(c1)CCN2c1nc(C)nc2oc(C)cc12>)>,\n",
       " <ProteinLigandComplex with 2 components (<KLIFSKinase name=P00533>, <Ligand name=CC(=O)/C=C/C(=O)Cc1ccc2ncnc(Nc3cccc(Br)c3)c2c1>)>,\n",
       " <ProteinLigandComplex with 2 components (<KLIFSKinase name=P00533>, <Ligand name=Clc1ccc(-c2csc(N3N=C(c4ccc(Br)cc4)CC3c3ccc(Br)cc3)n2)cc1>)>,\n",
       " <ProteinLigandComplex with 2 components (<KLIFSKinase name=P00533>, <Ligand name=CCOc1cc2ncnc(Nc3ccc(NS(=O)(=O)c4ccccc4)cc3)c2cc1NC(=O)/C=C/CN1CCN(C)CC1>)>,\n",
       " <ProteinLigandComplex with 2 components (<KLIFSKinase name=P00533>, <Ligand name=C=CC(=O)Nc1cccc(-c2c(C)sc3ncnc(N[C@H](CO)c4ccccc4)c23)c1>)>,\n",
       " <ProteinLigandComplex with 2 components (<KLIFSKinase name=P00533>, <Ligand name=Cn1cc([N+](=O)[O-])nc1C[N+](C)(C)C/C=C/C(=O)Nc1ccc2ncnc(Nc3cccc(Br)c3)c2c1.[Br-]>)>,\n",
       " <ProteinLigandComplex with 2 components (<KLIFSKinase name=P00533>, <Ligand name=Cc1ccc2nc(NC(=O)c3cccc(C(F)(F)F)c3)n([C@H]3CC[C@H](O)CC3)c2c1>)>,\n",
       " <ProteinLigandComplex with 2 components (<KLIFSKinase name=P00533>, <Ligand name=Cc1oc2ncnc(Nc3cccc(Cl)c3)c2c1C(=O)O>)>,\n",
       " <ProteinLigandComplex with 2 components (<KLIFSKinase name=P00533>, <Ligand name=CCc1ccc(/C=C2\\C(=O)Nc3ccccc32)s1>)>,\n",
       " <ProteinLigandComplex with 2 components (<KLIFSKinase name=P00533>, <Ligand name=CN1CCN(Cc2ccc(C(=O)Nc3ccc(-c4cncc(C#N)c4Nc4ccc(F)c(Cl)c4)cc3)cc2)CC1>)>,\n",
       " <ProteinLigandComplex with 2 components (<KLIFSKinase name=P00533>, <Ligand name=CCOc1cc2ncc(C#N)c(Nc3cccc(Br)c3)c2cc1OC>)>,\n",
       " <ProteinLigandComplex with 2 components (<KLIFSKinase name=P00533>, <Ligand name=C=CC(=O)N1CC[C@@H](N2C(=O)N(Cc3ccccc3)Cc3cnc(Nc4ccc(N5CCN(C)CC5)cc4OC)nc32)C1>)>,\n",
       " <ProteinLigandComplex with 2 components (<KLIFSKinase name=P00533>, <Ligand name=Cn1c(SSc2c(C(=O)Nc3ccccc3)c3cc(C#N)ccc3n2C)c(C(=O)Nc2ccccc2)c2cc(C#N)ccc21>)>,\n",
       " <ProteinLigandComplex with 2 components (<KLIFSKinase name=P00533>, <Ligand name=CCOc1cc2ncnc(Nc3ccc(OCc4cccc(F)c4)c(Cl)c3)c2cc1NC(=O)/C=C/CN1CCCC1>)>,\n",
       " <ProteinLigandComplex with 2 components (<KLIFSKinase name=P00533>, <Ligand name=C=CC(=O)Nc1cccc(NC(=O)Nc2ccnc(Nc3ccc(N4CCC(N5CCN(C)CC5)CC4)cc3OC)n2)c1>)>,\n",
       " <ProteinLigandComplex with 2 components (<KLIFSKinase name=P00533>, <Ligand name=C=C/C=C/C(=O)Nc1cc2c(Nc3cccc(Br)c3)ncnc2cn1>)>,\n",
       " <ProteinLigandComplex with 2 components (<KLIFSKinase name=P00533>, <Ligand name=CC1(C)OCc2c(Nc3n[nH]c4ccccc34)nc(-c3c[nH]nn3)nc21>)>,\n",
       " <ProteinLigandComplex with 2 components (<KLIFSKinase name=P00533>, <Ligand name=COc1cc(C2=C(c3c[nH]c4ccccc34)C(=O)NC2=O)cc(OC)c1OC>)>,\n",
       " <ProteinLigandComplex with 2 components (<KLIFSKinase name=P00533>, <Ligand name=C=CS(=O)(=O)N1CCc2c(sc3ncnc(N[C@H](CO)c4ccccc4)c23)C1>)>,\n",
       " <ProteinLigandComplex with 2 components (<KLIFSKinase name=P00533>, <Ligand name=Cc1cc2cc(Nc3ccnc4cc(-c5ccc(CN(C)CCO)cc5)sc34)ccc2[nH]1>)>,\n",
       " <ProteinLigandComplex with 2 components (<KLIFSKinase name=P00533>, <Ligand name=COc1cc2nc(Cl)nc(Nc3ccc(N(C)C)cc3)c2cc1OC>)>,\n",
       " <ProteinLigandComplex with 2 components (<KLIFSKinase name=P00533>, <Ligand name=Nc1ncnc2c1c(-c1cccc(O)c1F)nn2C1CCCC1>)>,\n",
       " <ProteinLigandComplex with 2 components (<KLIFSKinase name=P00533>, <Ligand name=O=C(/C=C/C(=O)Nc1cc2c(Nc3cccc(Br)c3)ncnc2cn1)NCCCN1CCOCC1>)>,\n",
       " <ProteinLigandComplex with 2 components (<KLIFSKinase name=P00533>, <Ligand name=O=C1N=C(N2CCC[C@H]2C(=O)Nc2ccc3ncnc(Nc4cccc(Cl)c4)c3c2)S/C1=C/c1ccc(Cl)cc1>)>,\n",
       " <ProteinLigandComplex with 2 components (<KLIFSKinase name=P00533>, <Ligand name=Brc1cccc(Nc2ncnc3cc(NCCCn4ccnc4)ncc23)c1>)>,\n",
       " <ProteinLigandComplex with 2 components (<KLIFSKinase name=P00533>, <Ligand name=C=CCn1nc(-c2ccc(OCC)c(OC)c2)c2c(N)ncnc21>)>,\n",
       " <ProteinLigandComplex with 2 components (<KLIFSKinase name=P00533>, <Ligand name=CN(C)c1ccc(/C=C(\\C#N)C(=O)O)cc1>)>,\n",
       " <ProteinLigandComplex with 2 components (<KLIFSKinase name=P00533>, <Ligand name=c1ccc(Cc2nc3cc(Nc4ncnc5nn6ccccc6c45)ccc3[nH]2)cc1>)>,\n",
       " <ProteinLigandComplex with 2 components (<KLIFSKinase name=P00533>, <Ligand name=COC(=O)c1c(OCCN2CCCCC2)c2ccccc2c2oc3c(c12)C(=O)c1ccccc1C3=O>)>,\n",
       " <ProteinLigandComplex with 2 components (<KLIFSKinase name=P00533>, <Ligand name=O=C(Nc1cccc(-c2cn3ccnc3c(NCc3ccncc3)n2)c1)Nc1cccc(C(F)(F)F)c1>)>,\n",
       " <ProteinLigandComplex with 2 components (<KLIFSKinase name=P00533>, <Ligand name=C=CC(=O)N[C@@H]1CCN(c2nc(Nc3ccc(N4CCN(C)CC4)cc3)c3ncn(C(C)C)c3n2)C1>)>,\n",
       " <ProteinLigandComplex with 2 components (<KLIFSKinase name=P00533>, <Ligand name=COc1ccc(N(CCCl)CCN/N=N/c2ccc3ncnc(Nc4cccc(Cl)c4)c3c2)cc1>)>,\n",
       " <ProteinLigandComplex with 2 components (<KLIFSKinase name=P00533>, <Ligand name=COCCCOc1cc2ncnc(Nc3ccc(F)c(Cl)c3)c2cc1NC(=O)/C=C/CN(C)C>)>,\n",
       " <ProteinLigandComplex with 2 components (<KLIFSKinase name=P00533>, <Ligand name=COc1cc2ncnc(Nc3cccc(Cl)c3F)c2cc1CN(C)[C@H](C)C(N)=O>)>,\n",
       " <ProteinLigandComplex with 2 components (<KLIFSKinase name=P00533>, <Ligand name=CNC(=O)[C@H]1CCCN1Cc1cc2c(Nc3cccc(Cl)c3F)ncnc2cc1OC>)>,\n",
       " <ProteinLigandComplex with 2 components (<KLIFSKinase name=P00533>, <Ligand name=C=CC(=O)Nc1cccc(Oc2cc(Nc3ccc(OCc4cccc(F)c4)c(Cl)c3)ncn2)c1>)>,\n",
       " <ProteinLigandComplex with 2 components (<KLIFSKinase name=P00533>, <Ligand name=COc1cc(/C=C(\\C#N)C(N)=O)cc(CSCc2ccccc2Cl)c1O>)>,\n",
       " <ProteinLigandComplex with 2 components (<KLIFSKinase name=P00533>, <Ligand name=Cc1[nH]c2ncnc(NC3CCCCC3)c2c1C>)>,\n",
       " <ProteinLigandComplex with 2 components (<KLIFSKinase name=P00533>, <Ligand name=Cl.c1ccc(-c2cccc(Nc3ncnc4cc5c(cc34)OCCCO5)c2)cc1>)>,\n",
       " <ProteinLigandComplex with 2 components (<KLIFSKinase name=P00533>, <Ligand name=COc1cccc(-c2cn(C3CC(C(=O)NCCO)C3)c3ncnc(N)c23)c1>)>,\n",
       " <ProteinLigandComplex with 2 components (<KLIFSKinase name=P00533>, <Ligand name=CCOc1cc2ncnc(Nc3ccc(F)c(Cl)c3)c2c2c1OCCO2>)>,\n",
       " <ProteinLigandComplex with 2 components (<KLIFSKinase name=P00533>, <Ligand name=Nc1ncnc2c1c(-c1ccc(O)cc1)cn2C1CCNC1>)>,\n",
       " <ProteinLigandComplex with 2 components (<KLIFSKinase name=P00533>, <Ligand name=C=CC(=O)Nc1cccc(-n2c(=O)cnc3cnc(Nc4ccc(Cl)cc4)nc32)c1>)>,\n",
       " <ProteinLigandComplex with 2 components (<KLIFSKinase name=P00533>, <Ligand name=CCOC(=O)CCCn1c(=O)oc2cc3ncnc(Nc4ccc(OCc5nccc(OCC(F)(F)F)c5C)cc4)c3cc21>)>,\n",
       " <ProteinLigandComplex with 2 components (<KLIFSKinase name=P00533>, <Ligand name=Cc1cccc(Nc2[nH]cnc3nnc(Nc4cccc(Cl)c4)c2-3)c1>)>,\n",
       " <ProteinLigandComplex with 2 components (<KLIFSKinase name=P00533>, <Ligand name=COCCN(CCOC)S(=O)(=O)c1ccc(Nc2nc3ncnc(Nc4ccc(F)c(Cl)c4)c3s2)cc1>)>,\n",
       " <ProteinLigandComplex with 2 components (<KLIFSKinase name=P00533>, <Ligand name=Cc1ccn2ncnc(Nc3ccc4c(cnn4Cc4cccnc4)c3)c12>)>,\n",
       " <ProteinLigandComplex with 2 components (<KLIFSKinase name=P00533>, <Ligand name=Cc1cccc(Nc2ncnc3ccc(NC(=O)N(CCCl)N=O)cc23)c1>)>,\n",
       " <ProteinLigandComplex with 2 components (<KLIFSKinase name=P00533>, <Ligand name=CCCCN(Cc1cccc(Br)c1O)C(=S)Nc1ccccc1>)>,\n",
       " <ProteinLigandComplex with 2 components (<KLIFSKinase name=P00533>, <Ligand name=C=CC(=O)Nc1cccc(NC(=O)Nc2ccnc(Nc3ccc(C(=O)N4CCN(C)CC4)cc3OC)n2)c1>)>,\n",
       " <ProteinLigandComplex with 2 components (<KLIFSKinase name=P00533>, <Ligand name=CC(C)n1nc(-c2ccn3ccnc3c2)c2c(N)ncnc21>)>,\n",
       " <ProteinLigandComplex with 2 components (<KLIFSKinase name=P00533>, <Ligand name=CCN(CC)CCn1c2ccc(OC)cc2c2c(Nc3cccc(Br)c3)ncnc21>)>,\n",
       " <ProteinLigandComplex with 2 components (<KLIFSKinase name=P00533>, <Ligand name=O=C1NCc2cccc(Oc3ccc(Nc4ncnc5ccn(CCO)c45)cc3Cl)c21>)>,\n",
       " <ProteinLigandComplex with 2 components (<KLIFSKinase name=P00533>, <Ligand name=COc1cc2ncnc(Nc3ccc(F)c(Cl)c3)c2cc1B1OC(C)(C)C(C)(C)O1>)>,\n",
       " <ProteinLigandComplex with 2 components (<KLIFSKinase name=P00533>, <Ligand name=Fc1cccc(Cn2ncc3cc(Nc4ncnn5ccc(CN6CCNCC6)c45)ccc32)c1>)>,\n",
       " <ProteinLigandComplex with 2 components (<KLIFSKinase name=P00533>, <Ligand name=CCO.Nc1ccc2sc3c(Nc4ccccc4)ncnc3c2c1>)>,\n",
       " <ProteinLigandComplex with 2 components (<KLIFSKinase name=P00533>, <Ligand name=O=C(CBr)OCCn1c(=O)oc2cc3ncnc(Nc4ccc(F)c(Cl)c4)c3cc21>)>,\n",
       " <ProteinLigandComplex with 2 components (<KLIFSKinase name=P00533>, <Ligand name=Cc1ccc(-n2cc(C(=O)c3c(C)[nH]c(-c4ccccc4)c3-c3ccccc3)c(C(=O)Nc3ccccc3)n2)cc1>)>,\n",
       " <ProteinLigandComplex with 2 components (<KLIFSKinase name=P00533>, <Ligand name=Cc1ccc(-n2nc(C)c(C3C(C#N)=C(N)N(c4cccnc4)C4=C3C(=O)CCC4)c2Cl)cc1>)>,\n",
       " <ProteinLigandComplex with 2 components (<KLIFSKinase name=P00533>, <Ligand name=Fc1ccc(-c2nc(-c3ccccc3)[nH]c2-c2ccnc3[nH]ccc23)cc1>)>,\n",
       " <ProteinLigandComplex with 2 components (<KLIFSKinase name=P00533>, <Ligand name=CCOc1cc2ncnc(NCc3ccc(F)cc3)c2cc1OCC.Cl>)>,\n",
       " <ProteinLigandComplex with 2 components (<KLIFSKinase name=P00533>, <Ligand name=O=[N+]([O-])c1ccccc1-c1nnc(SCc2ccccc2)o1>)>,\n",
       " <ProteinLigandComplex with 2 components (<KLIFSKinase name=P00533>, <Ligand name=COC(=O)c1ccc(-c2cc3c(N[C@H](C)c4ccccc4)ncnc3s2)c(OC)c1>)>,\n",
       " <ProteinLigandComplex with 2 components (<KLIFSKinase name=P00533>, <Ligand name=OCCCc1nc(-c2ccc(F)cc2)c(-c2ccnc3[nH]ccc23)[nH]1>)>,\n",
       " <ProteinLigandComplex with 2 components (<KLIFSKinase name=P00533>, <Ligand name=C=CC(=O)NCc1cccc(Nc2cc(-c3[nH]c(SC)nc3-c3ccc(F)cc3)ccn2)c1>)>,\n",
       " <ProteinLigandComplex with 2 components (<KLIFSKinase name=P00533>, <Ligand name=CN1CCN(c2cc3c(Nc4cccc(Br)c4)ncnc3cn2)CC1>)>,\n",
       " <ProteinLigandComplex with 2 components (<KLIFSKinase name=P00533>, <Ligand name=COc1cc2nc(Cl)nc(Nc3ccc(S(=O)(=O)Nc4nccs4)cc3)c2cc1OC>)>,\n",
       " <ProteinLigandComplex with 2 components (<KLIFSKinase name=P00533>, <Ligand name=COc1cc(-c2nc3ccccc3s2)ccc1Nc1ncnc2cc(OC)c(OC)cc12>)>,\n",
       " <ProteinLigandComplex with 2 components (<KLIFSKinase name=P00533>, <Ligand name=COc1cc2ncnc(NC3CC3c3ccccc3)c2cc1OCCCN(C)C>)>,\n",
       " <ProteinLigandComplex with 2 components (<KLIFSKinase name=P00533>, <Ligand name=C=CC(=O)Nc1ccc2ncnc(Nc3ccc(OCCN(C)C)c(Br)c3)c2c1>)>,\n",
       " <ProteinLigandComplex with 2 components (<KLIFSKinase name=P00533>, <Ligand name=C#Cc1cccc(Nc2ncnc3sc(-c4ccc(CO)cc4OC)cc23)c1>)>,\n",
       " <ProteinLigandComplex with 2 components (<KLIFSKinase name=P00533>, <Ligand name=CCOc1cc2ncnc(Nc3ccc4c(cnn4Cc4ccccc4)c3)c2cc1NC(=O)/C=C/CN1C[C@H](C)N[C@H](C)C1>)>,\n",
       " <ProteinLigandComplex with 2 components (<KLIFSKinase name=P00533>, <Ligand name=COc1cc2c(Nc3ccc(NC(=O)Nc4ccccc4)c(Cl)c3)ncnc2cc1OCCN1CCCCC1>)>,\n",
       " <ProteinLigandComplex with 2 components (<KLIFSKinase name=P00533>, <Ligand name=CCOc1ccc(Nc2cc(NC(=O)c3ccccc3)ncn2)cc1>)>,\n",
       " <ProteinLigandComplex with 2 components (<KLIFSKinase name=P00533>, <Ligand name=COc1cc2ncnc(C#C[C@](C)(O)Cc3ccccc3)c2cc1OC>)>,\n",
       " <ProteinLigandComplex with 2 components (<KLIFSKinase name=P00533>, <Ligand name=COc1cc2ncnc(Nc3ccc(NC(=O)Nc4ccc(Cl)c(C(F)(F)F)c4)cc3)c2cc1OCCCN1CCOCC1>)>,\n",
       " <ProteinLigandComplex with 2 components (<KLIFSKinase name=P00533>, <Ligand name=CCNc1cc(Nc2cccc(Cl)c2)ncn1>)>,\n",
       " <ProteinLigandComplex with 2 components (<KLIFSKinase name=P00533>, <Ligand name=O=c1oc2cc3ncnc(Nc4ccc(F)c(F)c4)c3cc2n1CCCN1CCOCC1>)>,\n",
       " <ProteinLigandComplex with 2 components (<KLIFSKinase name=P00533>, <Ligand name=Brc1cccc(Nc2ncnc3cnc(NCCc4c[nH]cn4)cc23)c1>)>,\n",
       " <ProteinLigandComplex with 2 components (<KLIFSKinase name=P00533>, <Ligand name=O=C(N/N=C/c1cc(F)c(F)cc1Cl)N1CCc2ncnc(Nc3ccc(F)c(Cl)c3)c2C1>)>,\n",
       " <ProteinLigandComplex with 2 components (<KLIFSKinase name=P00533>, <Ligand name=COC(=O)c1ccc(CNC(=O)c2c(SSc3c(C(=O)NCc4ccc(C(=O)OC)cc4)c4ccccc4n3C)n(C)c3ccccc23)cc1>)>,\n",
       " <ProteinLigandComplex with 2 components (<KLIFSKinase name=P00533>, <Ligand name=Cc1cc(C)c(O)c(CN(Cc2ccc(F)cc2)C(=O)Nc2ccccc2)c1>)>,\n",
       " <ProteinLigandComplex with 2 components (<KLIFSKinase name=P00533>, <Ligand name=C=CC(=O)Nc1cccc(-c2c[nH]c3nccc(-c4[nH]c(CCCO)nc4C(F)(F)F)c23)c1>)>,\n",
       " <ProteinLigandComplex with 2 components (<KLIFSKinase name=P00533>, <Ligand name=NCc1cccc(-c2nc(-c3ccc(F)cc3)c(-c3ccnc4[nH]c(-c5ccccc5)cc34)[nH]2)c1>)>,\n",
       " <ProteinLigandComplex with 2 components (<KLIFSKinase name=P00533>, <Ligand name=COc1ccc2c(c1)SCc1cnc(-c3ccccc3)nc1-2>)>,\n",
       " <ProteinLigandComplex with 2 components (<KLIFSKinase name=P00533>, <Ligand name=CCOc1cc([N+](=O)[O-])c(C(=O)Nc2ccc(F)c(Cl)c2)cc1NC(=O)/C=C/CN(C)C>)>,\n",
       " <ProteinLigandComplex with 2 components (<KLIFSKinase name=P00533>, <Ligand name=Clc1cccc(Nc2[nH]nc3ncnc(NCc4ccccc4)c23)c1>)>,\n",
       " <ProteinLigandComplex with 2 components (<KLIFSKinase name=P00533>, <Ligand name=CN(C)CCCNC/C=C/C(=O)Nc1cc2c(Nc3ccc(F)c(Cl)c3)ncnc2s1>)>,\n",
       " <ProteinLigandComplex with 2 components (<KLIFSKinase name=P00533>, <Ligand name=CCOc1cc2ncnc(Nc3cccc([N+](=O)[O-])c3)c2c2c1OCCO2>)>,\n",
       " <ProteinLigandComplex with 2 components (<KLIFSKinase name=P00533>, <Ligand name=Cc1cccc(Nc2ncnc3nc(Nc4ccc(S(N)(=O)=O)cc4)sc23)c1>)>,\n",
       " <ProteinLigandComplex with 2 components (<KLIFSKinase name=P00533>, <Ligand name=Cc1c[nH]c2ccc(Nc3ncnc4cc(-c5ccccc5)sc34)cc12>)>,\n",
       " <ProteinLigandComplex with 2 components (<KLIFSKinase name=P00533>, <Ligand name=C=CC(=O)Nc1cccc(-n2c(=O)n(C(C)C)c(=O)c3cnc(Nc4ccc(N(C)CCN(C)C)cc4OC)nc32)c1>)>,\n",
       " <ProteinLigandComplex with 2 components (<KLIFSKinase name=P00533>, <Ligand name=COc1cc2c(Nc3ccc(NC(=O)Nc4ccc(Cl)cc4)cc3)ncnc2cc1OCCCN1CCN(C)CC1>)>,\n",
       " <ProteinLigandComplex with 2 components (<KLIFSKinase name=P00533>, <Ligand name=CCN(C)C(=O)O[C@H]1CN[C@H](C#Cc2cc3ncnc(Nc4ccc(OCc5cccc(F)c5)c(Cl)c4)c3s2)C1>)>,\n",
       " <ProteinLigandComplex with 2 components (<KLIFSKinase name=P00533>, <Ligand name=O=C(O)CCc1c(SSc2[nH]c3ccccc3c2CCC(=O)O)[nH]c2ccccc12>)>,\n",
       " <ProteinLigandComplex with 2 components (<KLIFSKinase name=P00533>, <Ligand name=COc1cc(/C=C(\\C#N)C(N)=O)cc(CSc2ccc(O)cc2)c1O>)>,\n",
       " <ProteinLigandComplex with 2 components (<KLIFSKinase name=P00533>, <Ligand name=c1ccc(Cn2ncc3cc(Nc4ncnn5ccc(COC[C@@H]6CNCCO6)c45)ccc32)nc1>)>,\n",
       " <ProteinLigandComplex with 2 components (<KLIFSKinase name=P00533>, <Ligand name=Nc1ncnc2c1c(-c1ccc(Cl)c(O)c1)nn2CC1CCNCC1>)>,\n",
       " <ProteinLigandComplex with 2 components (<KLIFSKinase name=P00533>, <Ligand name=O=C(/C=C/c1ccc(Br)s1)Nc1ccc2ncnc(Nc3cccc(Cl)c3)c2c1>)>,\n",
       " <ProteinLigandComplex with 2 components (<KLIFSKinase name=P00533>, <Ligand name=C=CC(=O)Nc1cccc(-n2c(=O)cc(C)c3cnc(Nc4ccc(N5CCN(C)C(C)C5)cc4OC)nc32)c1>)>,\n",
       " <ProteinLigandComplex with 2 components (<KLIFSKinase name=P00533>, <Ligand name=COCOc1cc(-c2nn(C(C)C)c3ncnc(N)c23)ccc1Br>)>,\n",
       " <ProteinLigandComplex with 2 components (<KLIFSKinase name=P00533>, <Ligand name=COc1cc(Nc2ncnc3cc(-c4ccc(Cl)cc4)sc23)cc(OC)c1OC>)>,\n",
       " <ProteinLigandComplex with 2 components (<KLIFSKinase name=P00533>, <Ligand name=CN(C)CCCCNc1cc2c(Nc3cccc(Br)c3)ncnc2cn1>)>,\n",
       " <ProteinLigandComplex with 2 components (<KLIFSKinase name=P00533>, <Ligand name=Oc1ccc(-c2nc(-c3ccccc3)c(-c3ccnc4[nH]c(-c5ccccc5)cc34)[nH]2)cc1>)>,\n",
       " <ProteinLigandComplex with 2 components (<KLIFSKinase name=P00533>, <Ligand name=COc1cc(/C=C2\\CCC/C(=C\\c3ccc(Br)cc3)C2=O)cc(OC)c1>)>,\n",
       " <ProteinLigandComplex with 2 components (<KLIFSKinase name=P00533>, <Ligand name=Fc1ccc(Nc2ncnc3c2NCc2ccccc2O3)cc1Cl>)>,\n",
       " <ProteinLigandComplex with 2 components (<KLIFSKinase name=P00533>, <Ligand name=C=CC(=O)Nc1cccc(-c2c[nH]c3nccc(-c4[nH]c(CCCO)nc4C4CC4)c23)c1>)>,\n",
       " <ProteinLigandComplex with 2 components (<KLIFSKinase name=P00533>, <Ligand name=NS(=O)(=O)c1ccc(Nc2nc3ncnc(Nc4ccc(F)c(Cl)c4)c3s2)cc1>)>,\n",
       " <ProteinLigandComplex with 2 components (<KLIFSKinase name=P00533>, <Ligand name=OCCn1ccc2ncnc(Nc3ccc(Oc4cccc5[nH]ncc45)c(Cl)c3)c21>)>,\n",
       " <ProteinLigandComplex with 2 components (<KLIFSKinase name=P00533>, <Ligand name=CNC(=S)N(C)[C@H]1C[C@@H]2O[C@](C)([C@H]1OC)n1c3ccccc3c3c4c(c5c6ccccc6n2c5c31)C(=O)NC4>)>,\n",
       " <ProteinLigandComplex with 2 components (<KLIFSKinase name=P00533>, <Ligand name=Cc1ccccc1NC(=O)/C=C/c1ccccc1>)>,\n",
       " <ProteinLigandComplex with 2 components (<KLIFSKinase name=P00533>, <Ligand name=CN(C)C/C=C/C(=O)Nc1cc2c(Nc3ccc(OCc4cccc(F)c4)cc3)ncnc2cc1O[C@H]1CCOC1>)>,\n",
       " <ProteinLigandComplex with 2 components (<KLIFSKinase name=P00533>, <Ligand name=C=CC(=O)N1CC[C@H](N2C(=O)N(C3CCCC3)Cc3cnc(Nc4ccc(N5CCN(C)CC5)cc4OC)nc32)C1>)>,\n",
       " <ProteinLigandComplex with 2 components (<KLIFSKinase name=P00533>, <Ligand name=Cn1c(=O)c2[nH]c(SC/C(=N/O)c3ccc(Br)cc3)nc2n(C)c1=O>)>,\n",
       " <ProteinLigandComplex with 2 components (<KLIFSKinase name=P00533>, <Ligand name=COc1cc(NC(=O)C2CC2)ccc1Nc1ncc(Cl)c(Nc2ccccc2NC(C)=O)n1>)>,\n",
       " <ProteinLigandComplex with 2 components (<KLIFSKinase name=P00533>, <Ligand name=O=C(/C=C/CN1CCCC1)Nc1cc2c(Nc3ccc4c(cnn4Cc4ccccc4)c3)ncnc2cn1>)>,\n",
       " <ProteinLigandComplex with 2 components (<KLIFSKinase name=P00533>, <Ligand name=O=C(Cc1ccc(F)cc1)NS(=O)(=O)c1ccccc1>)>,\n",
       " <ProteinLigandComplex with 2 components (<KLIFSKinase name=P00533>, <Ligand name=COc1ccc(-c2cc3c(N[C@H](C)c4ccccc4F)ncnc3o2)cc1>)>,\n",
       " <ProteinLigandComplex with 2 components (<KLIFSKinase name=P00533>, <Ligand name=CN(N)C/C=C/C(=O)Nc1cc2c(Nc3cccc(Br)c3)ccnc2cn1>)>,\n",
       " <ProteinLigandComplex with 2 components (<KLIFSKinase name=P00533>, <Ligand name=COc1cc(N2CCN(C)CC2)ccc1Nc1ncc(Cl)c(Oc2ccccc2N=C=S)n1>)>,\n",
       " <ProteinLigandComplex with 2 components (<KLIFSKinase name=P00533>, <Ligand name=Nc1ncnc2c1c(-c1ccc(Cl)c(O)c1)nn2CC1CCCN1>)>,\n",
       " <ProteinLigandComplex with 2 components (<KLIFSKinase name=P00533>, <Ligand name=C=CC(=O)Nc1cc(Nc2nccc(-c3cn(C)c4cccnc34)n2)c(OC)cc1N(C)CCNC>)>,\n",
       " <ProteinLigandComplex with 2 components (<KLIFSKinase name=P00533>, <Ligand name=CC(=O)SCC(CSC(C)=O)C(=O)Nc1cc2c(Nc3ccc(OCc4cccc(F)c4)c(Cl)c3)c(C#N)cnc2cc1OC[C@H](O)CO>)>,\n",
       " <ProteinLigandComplex with 2 components (<KLIFSKinase name=P00533>, <Ligand name=COc1cccc(-c2cn(-c3ccccc3)c3ncnc(N)c23)c1>)>,\n",
       " <ProteinLigandComplex with 2 components (<KLIFSKinase name=P00533>, <Ligand name=CN1CCC(NC(=O)c2cnc(Nc3cc(Cl)cc(Cl)c3)nc2N[C@@H]2COC[C@H]2O)CC1>)>,\n",
       " <ProteinLigandComplex with 2 components (<KLIFSKinase name=P00533>, <Ligand name=COc1ccccc1-c1cc2c(N[C@@H](C)c3ccccc3)ncnc2s1>)>,\n",
       " <ProteinLigandComplex with 2 components (<KLIFSKinase name=P00533>, <Ligand name=CN(C)C1CCN(c2ccc(Nc3cc4c(N5CCOCC5)nc(Nc5ccc(F)cc5)nc4cn3)nc2)CC1>)>,\n",
       " <ProteinLigandComplex with 2 components (<KLIFSKinase name=P00533>, <Ligand name=CCC(=O)Nc1ccc2nccc(Nc3cccc(Br)c3)c2c1>)>,\n",
       " <ProteinLigandComplex with 2 components (<KLIFSKinase name=P00533>, <Ligand name=OCCCCNc1cncc(-c2cncc(Nc3cccc(Cl)c3)n2)c1>)>,\n",
       " <ProteinLigandComplex with 2 components (<KLIFSKinase name=P00533>, <Ligand name=C/C=C(\\C)C(O[C@@H]1O[C@H](CO)[C@@H](O)[C@H](O)[C@H]1O)C(C)/C=C(C)/C=C/CC(C)/C=C/c1oc(OC)c(C)c(=O)c1C>)>,\n",
       " <ProteinLigandComplex with 2 components (<KLIFSKinase name=P00533>, <Ligand name=Cc1nc(Nc2cccc3[nH]ccc23)c2cc(C)oc2n1>)>,\n",
       " <ProteinLigandComplex with 2 components (<KLIFSKinase name=P00533>, <Ligand name=Brc1cccc(Nc2ncnc3cnc(NCCN4CCOCC4)nc23)c1>)>,\n",
       " <ProteinLigandComplex with 2 components (<KLIFSKinase name=P00533>, <Ligand name=O=C(c1ccccc1)c1cc2ncnc(Nc3ccc4[nH]ccc4c3)c2s1>)>,\n",
       " <ProteinLigandComplex with 2 components (<KLIFSKinase name=P00533>, <Ligand name=CC(C)n1nc(-c2ccc3nccnc3c2)c2c(N)ncnc21>)>,\n",
       " <ProteinLigandComplex with 2 components (<KLIFSKinase name=P00533>, <Ligand name=Brc1cccc(Nc2ncnc3sc4c(c23)CCCC4)c1>)>,\n",
       " <ProteinLigandComplex with 2 components (<KLIFSKinase name=P00533>, <Ligand name=Fc1ccc(-c2ncn(C3CCN(Cc4ccccc4)C3)c2-c2ccc3[nH]ncc3c2)cc1>)>,\n",
       " <ProteinLigandComplex with 2 components (<KLIFSKinase name=P00533>, <Ligand name=Nc1ccc2c(Nc3cccc(Br)c3)ncnc2c1>)>,\n",
       " <ProteinLigandComplex with 2 components (<KLIFSKinase name=P00533>, <Ligand name=C=CC(=O)Nc1ccc(Oc2nc(Nc3cc(C)[nH]n3)cc(N3CCN(C)CC3)n2)cc1>)>,\n",
       " <ProteinLigandComplex with 2 components (<KLIFSKinase name=P00533>, <Ligand name=CC1=C(C(=O)Nc2cccc([N+](=O)[O-])c2)C(c2ccc(O)cc2O)NC(Nc2ccc(S(=O)(=O)Nc3ncccn3)cc2)=N1>)>,\n",
       " <ProteinLigandComplex with 2 components (<KLIFSKinase name=P00533>, <Ligand name=CS(=O)(=O)CCNC(=O)Nc1cc2c(Nc3ccc(F)c(Cl)c3)ncnc2cc1O[C@H]1CCOC1>)>,\n",
       " <ProteinLigandComplex with 2 components (<KLIFSKinase name=P00533>, <Ligand name=CCOc1cc(/C=C(\\C#N)C(N)=O)cc(CSc2ccc(O)cc2)c1O>)>,\n",
       " <ProteinLigandComplex with 2 components (<KLIFSKinase name=P00533>, <Ligand name=COc1cc(N(C)c2ccnc3ccc(C(F)(F)F)cc23)cc(OC)c1OC>)>,\n",
       " <ProteinLigandComplex with 2 components (<KLIFSKinase name=P00533>, <Ligand name=COc1cc2ncnc(Nc3cccc(C#CCO)c3)c2cc1OC>)>,\n",
       " <ProteinLigandComplex with 2 components (<KLIFSKinase name=P00533>, <Ligand name=CCOc1cc2ncnc(Nc3cccc(-c4cc[nH]n4)c3)c2cc1OCC>)>,\n",
       " <ProteinLigandComplex with 2 components (<KLIFSKinase name=P00533>, <Ligand name=COc1cc2ncnc(Nc3cccc(Cl)c3F)c2cc1OC1CCN(S(C)(=O)=O)CC1>)>,\n",
       " <ProteinLigandComplex with 2 components (<KLIFSKinase name=P00533>, <Ligand name=CCC(=O)Nc1cc2c(Nc3ccc(NCc4ccccc4)cc3)ncnc2cc1OC>)>,\n",
       " <ProteinLigandComplex with 2 components (<KLIFSKinase name=P00533>, <Ligand name=COc1ccc(C2=NN(c3nc(-c4ccccc4)cs3)C(c3ccc(C)cc3)C2)cc1>)>,\n",
       " <ProteinLigandComplex with 2 components (<KLIFSKinase name=P00533>, <Ligand name=COc1ccccc1Nc1ccnc(Nc2ccccc2OC)n1>)>,\n",
       " <ProteinLigandComplex with 2 components (<KLIFSKinase name=P00533>, <Ligand name=O=C(Cc1ccc(Cl)cc1)NS(=O)(=O)c1ccccc1>)>,\n",
       " <ProteinLigandComplex with 2 components (<KLIFSKinase name=P00533>, <Ligand name=COc1cc2c(Nc3ccc(NC(=O)[C@@H](c4ccccc4)N4Cc5ccccc5C4=O)cc3F)ncnc2cc1OCC1CCN(C)CC1>)>,\n",
       " <ProteinLigandComplex with 2 components (<KLIFSKinase name=P00533>, <Ligand name=C=CS(=O)(=O)Nc1cccc(-c2c(-c3ccccc3)oc3ncnc(N[C@H](CO)c4ccccc4)c23)c1>)>,\n",
       " <ProteinLigandComplex with 2 components (<KLIFSKinase name=P00533>, <Ligand name=Oc1cc2c(cc1O)[C@@H]1c3ccc(O)c(O)c3OC[C@]1(O)C2>)>,\n",
       " <ProteinLigandComplex with 2 components (<KLIFSKinase name=P00533>, <Ligand name=COc1cccc(/C=C/C(=O)Nc2ccc3ncnc(Nc4cccc(Cl)c4)c3c2)c1>)>,\n",
       " <ProteinLigandComplex with 2 components (<KLIFSKinase name=P00533>, <Ligand name=COc1cc(OC)cc(C2CC(c3ccc(Cl)c(Cl)c3)=NN2C(C)=O)c1>)>,\n",
       " <ProteinLigandComplex with 2 components (<KLIFSKinase name=P00533>, <Ligand name=CN(C)CCCCCNc1c(Br)cccc1Nc1ncnc2ccncc12>)>,\n",
       " <ProteinLigandComplex with 2 components (<KLIFSKinase name=P00533>, <Ligand name=COc1ccc(Oc2nc3ccc(C)cc3cc2/C=N/NC(=O)Cn2c([N+](=O)[O-])cnc2C)cc1>)>,\n",
       " <ProteinLigandComplex with 2 components (<KLIFSKinase name=P00533>, <Ligand name=C=CC(=O)Nc1cc2c(Nc3ccc(F)c(C#N)c3)ncnc2cc1OCCOC>)>,\n",
       " <ProteinLigandComplex with 2 components (<KLIFSKinase name=P00533>, <Ligand name=Cc1nc2cnc(Nc3ccnc(N4CC[C@H](O)[C@H](F)C4)n3)cc2n1C(C)C>)>,\n",
       " <ProteinLigandComplex with 2 components (<KLIFSKinase name=P00533>, <Ligand name=CCC(=O)Nc1cc2c(NCc3ccccc3)ncnc2cc1OC>)>,\n",
       " <ProteinLigandComplex with 2 components (<KLIFSKinase name=P00533>, <Ligand name=COc1ccc(/N=C/c2c(N)ncnc2Nc2ccc3c(cnn3Cc3cccc(F)c3)c2)cc1>)>,\n",
       " <ProteinLigandComplex with 2 components (<KLIFSKinase name=P00533>, <Ligand name=NC(=O)COCc1ccn2ncnc(Nc3ccc4c(cnn4Cc4cccc(F)c4)c3)c12>)>,\n",
       " <ProteinLigandComplex with 2 components (<KLIFSKinase name=P00533>, <Ligand name=COC[C@H]1Oc2cc3ncnc(Nc4cccc(Cl)c4)c3cc2O[C@@H]1COC>)>,\n",
       " <ProteinLigandComplex with 2 components (<KLIFSKinase name=P00533>, <Ligand name=CN(C)/C=C/C(=O)Nc1cc2c(Nc3ccc(F)c(Cl)c3)ncnc2cc1O[C@H]1CCOC1>)>,\n",
       " <ProteinLigandComplex with 2 components (<KLIFSKinase name=P00533>, <Ligand name=COc1cc(C=O)ccc1-c1cc2c(Nc3ccccc3)ncnc2s1>)>,\n",
       " <ProteinLigandComplex with 2 components (<KLIFSKinase name=P00533>, <Ligand name=COc1cc2c(Nc3ccc(F)c(F)c3)ncnc2cc1OCCOCCOCCNC(=O)Cn1cnc([N+](=O)[O-])n1>)>,\n",
       " <ProteinLigandComplex with 2 components (<KLIFSKinase name=P00533>, <Ligand name=COc1cc2ncnc(Nc3ccc(F)c(Cl)c3)c2cc1OCCNC(C)(C)C>)>,\n",
       " <ProteinLigandComplex with 2 components (<KLIFSKinase name=P00533>, <Ligand name=Cc1ccc(C2=NN(C3=NC(=O)CS3)C(c3cccc4ccccc34)C2)cc1C>)>,\n",
       " <ProteinLigandComplex with 2 components (<KLIFSKinase name=P00533>, <Ligand name=Cc1cccc2nc(NC(=O)c3cccc(C(F)(F)F)c3)n([C@H]3CC[C@H](O)CC3)c12>)>,\n",
       " <ProteinLigandComplex with 2 components (<KLIFSKinase name=P00533>, <Ligand name=C=CC(=O)Nc1cccc(-c2c(-c3ccccc3)sc3ncnc(N[C@H](CO)c4ccccc4)c23)c1>)>,\n",
       " <ProteinLigandComplex with 2 components (<KLIFSKinase name=P00533>, <Ligand name=O=C(CN1CCOCC1)Nc1ccc2ncnc(Nc3cccc(Br)c3)c2c1>)>,\n",
       " <ProteinLigandComplex with 2 components (<KLIFSKinase name=P00533>, <Ligand name=COc1cc(Nc2nccc(-c3ccc(N4CCNCC4)nc3)n2)cc(OC)c1OC>)>,\n",
       " <ProteinLigandComplex with 2 components (<KLIFSKinase name=P00533>, <Ligand name=C#CCCCCCOc1cc2c(Nc3ccc(F)c(Cl)c3)ncnc2cc1OC>)>,\n",
       " <ProteinLigandComplex with 2 components (<KLIFSKinase name=P00533>, <Ligand name=CC1=C(C(=O)Nc2cccc([N+](=O)[O-])c2)C(c2ccc(O)cc2O)NC(SCc2ccccc2)=N1>)>,\n",
       " <ProteinLigandComplex with 2 components (<KLIFSKinase name=P00533>, <Ligand name=CN/N=C/c1c(N)ncnc1Nc1ccc2c(cnn2Cc2cccc(F)c2)c1>)>,\n",
       " <ProteinLigandComplex with 2 components (<KLIFSKinase name=P00533>, <Ligand name=COc1cccc(-c2cn(-c3ccc(CNCCO)cc3)c3ncnc(N)c23)c1>)>,\n",
       " <ProteinLigandComplex with 2 components (<KLIFSKinase name=P00533>, <Ligand name=COCC(C)Oc1cc2ncnc(Nc3ccc(F)c(Cl)c3)c2c2c1OCCO2>)>,\n",
       " <ProteinLigandComplex with 2 components (<KLIFSKinase name=P00533>, <Ligand name=COc1ccccc1-c1nnc(SCc2ccccc2)o1>)>,\n",
       " <ProteinLigandComplex with 2 components (<KLIFSKinase name=P00533>, <Ligand name=CCN1CCN(Cc2ccc(NC(=O)Nc3ccc(Oc4cc(NC)ncn4)cc3)cc2C(F)(F)F)CC1>)>,\n",
       " <ProteinLigandComplex with 2 components (<KLIFSKinase name=P00533>, <Ligand name=Cc1ccccc1Nc1ncnn2ccc(CN3CCC(N)CC3)c12>)>,\n",
       " <ProteinLigandComplex with 2 components (<KLIFSKinase name=P00533>, <Ligand name=CCOc1ccc2sc(SCc3cc(/C=C(\\C#N)C(N)=O)cc(OC)c3O)nc2c1>)>,\n",
       " <ProteinLigandComplex with 2 components (<KLIFSKinase name=P00533>, <Ligand name=C=CC(=O)Nc1ccc(OC)c(Nc2ncc(Cl)c(-c3c[nH]c4ccccc34)n2)c1>)>,\n",
       " <ProteinLigandComplex with 2 components (<KLIFSKinase name=P00533>, <Ligand name=CCC(=O)N1CC[C@H](N2C(=O)N(c3cc(OC)ccc3F)Cc3cnc(Nc4ccc(N5CCN(C)CC5)cc4)nc32)C1>)>,\n",
       " <ProteinLigandComplex with 2 components (<KLIFSKinase name=P00533>, <Ligand name=CCNCc1ccc(-c2cc3ncnc(Nc4ccc(OCc5cccc(F)c5)c(Cl)c4)c3s2)[nH]1>)>,\n",
       " <ProteinLigandComplex with 2 components (<KLIFSKinase name=P00533>, <Ligand name=C=CC(=O)Nc1ccc(OC)c(Nc2cc(-c3[nH]c(SC)nc3-c3ccc(F)cc3)ccn2)c1>)>,\n",
       " <ProteinLigandComplex with 2 components (<KLIFSKinase name=P00533>, <Ligand name=COc1cc2ncnc(Nc3cc(Cl)ccc3F)c2cc1OC1CCN(S(C)(=O)=O)CC1>)>,\n",
       " <ProteinLigandComplex with 2 components (<KLIFSKinase name=P00533>, <Ligand name=COc1ccc(C(=O)NCCN(C)C)cc1-c1cc2c(N[C@H](C)c3ccccc3)ncnc2s1>)>,\n",
       " <ProteinLigandComplex with 2 components (<KLIFSKinase name=P00533>, <Ligand name=C[C@@H](Nc1ncnc2[nH]c(-c3ccc(Br)cc3)cc12)c1ccccc1>)>,\n",
       " <ProteinLigandComplex with 2 components (<KLIFSKinase name=P00533>, <Ligand name=CCOc1cc2ncc(C#N)c(Nc3ccc(OCc4cccc(F)c4)c(Cl)c3)c2cc1NC(=O)CC1CCSS1>)>,\n",
       " <ProteinLigandComplex with 2 components (<KLIFSKinase name=P00533>, <Ligand name=COc1ccc(N2Cc3cnc(Nc4ccccc4)nc3N([C@H]3CC[C@H](O)C3)C2=O)cc1>)>,\n",
       " <ProteinLigandComplex with 2 components (<KLIFSKinase name=P00533>, <Ligand name=Cc1cccc(Nc2ncnc3cnc(N(C)C)cc23)c1>)>,\n",
       " <ProteinLigandComplex with 2 components (<KLIFSKinase name=P00533>, <Ligand name=O=C(CC1C(S)=Nc2ccccc21)NCc1ccccc1>)>,\n",
       " <ProteinLigandComplex with 2 components (<KLIFSKinase name=P00533>, <Ligand name=COc1cc(Nc2ncnc3[nH]cnc23)ccc1-c1nc2ccccc2s1>)>,\n",
       " <ProteinLigandComplex with 2 components (<KLIFSKinase name=P00533>, <Ligand name=COc1cc2c(Nc3ccc(-c4nc5ccc(Cl)cc5s4)cc3F)ncnc2cc1OCCCN1CCN(C)CC1>)>,\n",
       " <ProteinLigandComplex with 2 components (<KLIFSKinase name=P00533>, <Ligand name=O=C(CCCCCCn1cc(-c2ccc3ncnc(Nc4ccc(OCc5cccc(F)c5)c(Cl)c4)c3c2)nn1)NO>)>,\n",
       " <ProteinLigandComplex with 2 components (<KLIFSKinase name=P00533>, <Ligand name=O=C(Nc1ccc2ncnc(Nc3cccc(Br)c3)c2c1)C1CCSS1>)>,\n",
       " <ProteinLigandComplex with 2 components (<KLIFSKinase name=P00533>, <Ligand name=CN(C)CCCOC(=O)/C=C/C(=O)Nc1ccc2ncnc(Nc3cccc(Br)c3)c2c1>)>,\n",
       " <ProteinLigandComplex with 2 components (<KLIFSKinase name=P00533>, <Ligand name=NC(=S)N/N=C(/C=C/c1ccccc1Cl)c1ccccc1>)>,\n",
       " <ProteinLigandComplex with 2 components (<KLIFSKinase name=P00533>, <Ligand name=O=C(Nc1ccccc1)NN1C(=O)c2c(c3c4cccc(O)c4n(C4OC(CO)C(O)C(O)C4O)c3c3[nH]c4c(O)cccc4c23)C1=O>)>,\n",
       " <ProteinLigandComplex with 2 components (<KLIFSKinase name=P00533>, <Ligand name=Cc1nnc(NC(=S)Nc2ccc3ncnc(Nc4cccc(Cl)c4)c3c2)s1>)>,\n",
       " <ProteinLigandComplex with 2 components (<KLIFSKinase name=P00533>, <Ligand name=Cc1ccccc1Cc1cc2c(N(C)c3cccc(Br)c3)nc(N)nc2n1C>)>,\n",
       " <ProteinLigandComplex with 2 components (<KLIFSKinase name=P00533>, <Ligand name=COc1cc2ncnc(Nc3ccc(F)c(Cl)c3)c2cc1CN(C)[C@H](C)C(N)=O>)>,\n",
       " <ProteinLigandComplex with 2 components (<KLIFSKinase name=P00533>, <Ligand name=N#CC(C#N)=Cc1cc2c(cc1[N+](=O)[O-])OCO2>)>,\n",
       " <ProteinLigandComplex with 2 components (<KLIFSKinase name=P00533>, <Ligand name=COc1cc2ncnc(-c3c[nH]c4cc(F)c(Cl)cc34)c2cc1OCCCN1CCOCC1>)>,\n",
       " <ProteinLigandComplex with 2 components (<KLIFSKinase name=P00533>, <Ligand name=CCOc1cc2ncnc(Nc3ccc(Oc4ccc(C)nc4)c(Cl)c3)c2cc1NC(=O)/C(F)=C\\CN(C)C>)>,\n",
       " <ProteinLigandComplex with 2 components (<KLIFSKinase name=P00533>, <Ligand name=CC1=C(C(=O)Nc2ccc(C)cc2)C(c2ccc(O)cc2O)NC(SCc2ccccc2)=N1>)>,\n",
       " <ProteinLigandComplex with 2 components (<KLIFSKinase name=P00533>, <Ligand name=C[C@@H](Nc1[nH]cnc2nc(-c3ccccc3)cc1-2)c1ccccc1>)>,\n",
       " <ProteinLigandComplex with 2 components (<KLIFSKinase name=P00533>, <Ligand name=COCCOc1cc2ncnc(Nc3ccc4c(cnn4Cc4ccccc4)c3)c2cc1NC(=O)/C=C/CN1CCN(C)CC1>)>,\n",
       " <ProteinLigandComplex with 2 components (<KLIFSKinase name=P00533>, <Ligand name=COc1cc(N2CCN(C)CC2)ccc1Nc1ncc(Cl)c(Oc2ccc(NC(C)=O)cc2)n1>)>,\n",
       " <ProteinLigandComplex with 2 components (<KLIFSKinase name=P00533>, <Ligand name=CS(=O)(=O)CCNCc1ccc(-c2ccc3ncnc(Nc4ccc(OCc5ccccc5)c(Br)c4)c3c2)o1>)>,\n",
       " <ProteinLigandComplex with 2 components (<KLIFSKinase name=P00533>, <Ligand name=Cc1ccc(C2=NN(C3=NC(=O)CS3)C(c3ccc4ccccc4c3)C2)cc1>)>,\n",
       " <ProteinLigandComplex with 2 components (<KLIFSKinase name=P00533>, <Ligand name=COCCOc1cc2ncnc(Nc3ccc(F)c(C#N)c3)c2c2c1OCCO2>)>,\n",
       " <ProteinLigandComplex with 2 components (<KLIFSKinase name=P00533>, <Ligand name=C=CC(=O)Nc1cc(Nc2cc[nH]n2)nc(-c2ccccc2)n1>)>,\n",
       " <ProteinLigandComplex with 2 components (<KLIFSKinase name=P00533>, <Ligand name=CC(O)C#Cc1ccc2ncnc(Nc3ccc(F)c(Cl)c3)c2c1>)>,\n",
       " <ProteinLigandComplex with 2 components (<KLIFSKinase name=P00533>, <Ligand name=C=CC(=O)Nc1cccc(-c2c[nH]c3nccc(-c4[nH]c(-c5ccccc5)nc4-c4ccc(F)cc4)c23)c1>)>,\n",
       " <ProteinLigandComplex with 2 components (<KLIFSKinase name=P00533>, <Ligand name=CN(C)c1cccc(Nc2ncnc3ccncc23)c1N>)>,\n",
       " <ProteinLigandComplex with 2 components (<KLIFSKinase name=P00533>, <Ligand name=C=CC(=O)Nc1cc(F)cc(-n2c(=O)cc(C)c3cnc(Nc4ccc(N5CCN(C)CC5)cc4OC)nc32)c1>)>,\n",
       " <ProteinLigandComplex with 2 components (<KLIFSKinase name=P00533>, <Ligand name=CC(C)S(=O)(=O)c1ccccc1Nc1nc(N/N=C/c2ccc(OC(F)(F)F)cc2)ncc1Cl>)>,\n",
       " <ProteinLigandComplex with 2 components (<KLIFSKinase name=P00533>, <Ligand name=CCC(=O)Nc1cc2c(Nc3ccc4c(ccn4CC(C)C)c3)ncnc2cc1OC>)>,\n",
       " <ProteinLigandComplex with 2 components (<KLIFSKinase name=P00533>, <Ligand name=O=C(CBr)OCCn1c(=O)oc2cc3ncnc(Nc4ccc(F)c(F)c4)c3cc21>)>,\n",
       " <ProteinLigandComplex with 2 components (<KLIFSKinase name=P00533>, <Ligand name=COc1cc2ncnc(Nc3ccc(F)c(Cl)c3)c2cc1OCCN1CCCC1>)>,\n",
       " <ProteinLigandComplex with 2 components (<KLIFSKinase name=P00533>, <Ligand name=COc1ccccc1CNc1ccc2ncnc(Nc3cccc(Cl)c3)c2c1>)>,\n",
       " <ProteinLigandComplex with 2 components (<KLIFSKinase name=P00533>, <Ligand name=COc1ccc(C2=NN(c3nc(-c4ccc(Cl)cc4)cs3)C(c3ccc(O)cc3)C2)cc1>)>,\n",
       " <ProteinLigandComplex with 2 components (<KLIFSKinase name=P00533>, <Ligand name=NC(=S)N1N=C(c2ccc(Br)cc2)CC1c1cccc2ccccc12>)>,\n",
       " <ProteinLigandComplex with 2 components (<KLIFSKinase name=P00533>, <Ligand name=CNc1ccc2ncncc2c1>)>,\n",
       " <ProteinLigandComplex with 2 components (<KLIFSKinase name=P00533>, <Ligand name=Cc1ncnc(Nc2ccc(OCc3cccc(F)c3)c(Cl)c2)c1C#CCOc1ccc(CNC(C)C)cc1>)>,\n",
       " <ProteinLigandComplex with 2 components (<KLIFSKinase name=P00533>, <Ligand name=CC(=O)O[C@@]12CO[C@@H]1C[C@H](O)[C@@]1(C)C(=O)[C@H](O)C3=C(C)[C@@H](OC(=O)[C@H](O)[C@@H](NC(=O)OC(C)(C)C)c4ccccc4)C[C@@](O)([C@@H](OC(=O)c4ccccc4)[C@@H]12)C3(C)C.O.O.O>)>,\n",
       " <ProteinLigandComplex with 2 components (<KLIFSKinase name=P00533>, <Ligand name=OCC#Cc1ccc2ncnc(Nc3ccc(F)c(Cl)c3)c2c1>)>,\n",
       " <ProteinLigandComplex with 2 components (<KLIFSKinase name=P00533>, <Ligand name=Cc1cc(C)c(C)c(-c2cc3cnc(N)nc3nc2NC(=O)NC(C)(C)C)c1C>)>,\n",
       " <ProteinLigandComplex with 2 components (<KLIFSKinase name=P00533>, <Ligand name=O=C(CCSC(=S)N1CCN(c2ccccc2)CC1)Nc1cccc(NC(=O)c2ccccn2)c1>)>,\n",
       " <ProteinLigandComplex with 2 components (<KLIFSKinase name=P00533>, <Ligand name=Cc1ccccc1Cc1cc2c(Nc3cccc(Br)c3)nc(N)nc2n1C>)>,\n",
       " <ProteinLigandComplex with 2 components (<KLIFSKinase name=P00533>, <Ligand name=Cc1ncc(C#N)c(Nc2ccc(OCc3ccccn3)c(Cl)c2)c1C#Cc1ccc(CNCCS(C)(=O)=O)o1>)>,\n",
       " <ProteinLigandComplex with 2 components (<KLIFSKinase name=P00533>, <Ligand name=Nc1ncnc2c1c(-c1ccc(Cl)c(O)c1)nn2C1CCCC1>)>,\n",
       " <ProteinLigandComplex with 2 components (<KLIFSKinase name=P00533>, <Ligand name=CCOC(=O)C(=CNc1ccc2ncnc(Nc3ccc(OCc4ccccn4)c(Cl)c3)c2c1)C(=O)OCC>)>,\n",
       " <ProteinLigandComplex with 2 components (<KLIFSKinase name=P00533>, <Ligand name=COc1ccccc1Nc1cc[nH]c(=O)c1C(=O)Nc1ccc(N2CCC(C)CC2)cc1>)>,\n",
       " <ProteinLigandComplex with 2 components (<KLIFSKinase name=P00533>, <Ligand name=CCc1c(C(=O)OCCCn2ccnc2)cn2ncnc(Nc3ccc4c(cnn4Cc4ccccc4)c3)c12>)>,\n",
       " <ProteinLigandComplex with 2 components (<KLIFSKinase name=P00533>, <Ligand name=CN(C)C/C=C/C(=O)N1CCc2c(sc3ncnc(NCCO)c23)C1>)>,\n",
       " <ProteinLigandComplex with 2 components (<KLIFSKinase name=P00533>, <Ligand name=C=CC(=O)Nc1cccc(-c2c(-c3ccccc3OC)oc3ncnc(N[C@H](CO)c4ccccc4)c23)c1>)>,\n",
       " <ProteinLigandComplex with 2 components (<KLIFSKinase name=P00533>, <Ligand name=Cc1cccc(Nc2ncnc3cc(NCCc4c[nH]cn4)ncc23)c1>)>,\n",
       " <ProteinLigandComplex with 2 components (<KLIFSKinase name=P00533>, <Ligand name=Nc1cccc(Oc2cc(Nc3ccc(OCc4cccc(F)c4)c(Cl)c3)ncn2)c1>)>,\n",
       " <ProteinLigandComplex with 2 components (<KLIFSKinase name=P00533>, <Ligand name=Cc1ccc(/C=C/C(=N/NC(N)=S)c2ccccc2)cc1>)>,\n",
       " <ProteinLigandComplex with 2 components (<KLIFSKinase name=P00533>, <Ligand name=CN(C)C/C=C/C(=O)Nc1ccc(-c2cncc(C#N)c2Nc2ccc(F)c(Cl)c2)cc1>)>,\n",
       " <ProteinLigandComplex with 2 components (<KLIFSKinase name=P00533>, <Ligand name=CC(C)(C)C(=O)Nc1nc(Nc2ccccc2)c2c(n1)[nH]c1cccc(Cl)c12>)>,\n",
       " <ProteinLigandComplex with 2 components (<KLIFSKinase name=P00533>, <Ligand name=C#Cc1cccc(Nc2ncnc3cc(OCC)c(NC(=O)/C=C/CN(C)C4CC4)cc23)c1>)>,\n",
       " <ProteinLigandComplex with 2 components (<KLIFSKinase name=P00533>, <Ligand name=CN(C)CCCC(=O)Nc1ccc2nccc(Nc3cccc(Br)c3)c2c1>)>,\n",
       " <ProteinLigandComplex with 2 components (<KLIFSKinase name=P00533>, <Ligand name=COc1cc2ncnc(Nc3cc(Cl)ccc3F)c2cc1OC1CCN(CC(N)=O)CC1>)>,\n",
       " <ProteinLigandComplex with 2 components (<KLIFSKinase name=P00533>, <Ligand name=CC(C)N(CC#CC(=O)Nc1ccc2ncc(C#N)c(Nc3cccc(Br)c3)c2c1)C(C)C>)>,\n",
       " <ProteinLigandComplex with 2 components (<KLIFSKinase name=P00533>, <Ligand name=CC(=O)c1ccccc1-n1c(-c2ccccc2)nc2cc(Cl)ccc2c1=O>)>,\n",
       " <ProteinLigandComplex with 2 components (<KLIFSKinase name=P00533>, <Ligand name=NC(=S)N/N=C(/C=C/c1cccc(F)c1)c1ccccc1>)>,\n",
       " <ProteinLigandComplex with 2 components (<KLIFSKinase name=P00533>, <Ligand name=NC(=S)N1N=C(c2ccc(Br)c(Br)c2)CC1c1ccc(Br)cc1>)>,\n",
       " <ProteinLigandComplex with 2 components (<KLIFSKinase name=P00533>, <Ligand name=Cc1ccc2c(C)nc(Nc3nc(O)cc(CSc4nnnn4-c4ccccc4)n3)nc2c1>)>,\n",
       " <ProteinLigandComplex with 2 components (<KLIFSKinase name=P00533>, <Ligand name=COc1cc(ON2CCC(C)CC2)c2c(Nc3ccc(OCc4ccccn4)c(Cl)c3)ncnc2c1>)>,\n",
       " <ProteinLigandComplex with 2 components (<KLIFSKinase name=P00533>, <Ligand name=Cc1ccc2ccc(-c3nn(C(C)C)c4ncnc(N)c34)cc2n1>)>,\n",
       " <ProteinLigandComplex with 2 components (<KLIFSKinase name=P00533>, <Ligand name=Fc1cccc(COc2ccc(Nc3cc(-c4ccccc4)ncn3)cc2Cl)c1>)>,\n",
       " <ProteinLigandComplex with 2 components (<KLIFSKinase name=P00533>, <Ligand name=COc1cc2c(Nc3ccc(NC(=O)C(c4ccccc4)N4Cc5ccccc5C4=O)cc3F)ncnc2cc1OCC1CCN(C)CC1>)>,\n",
       " <ProteinLigandComplex with 2 components (<KLIFSKinase name=P00533>, <Ligand name=C[C@@H](Nc1ncnc2sc(-c3cccc(C(=O)NCCN(C)C)c3)cc12)c1ccccc1>)>,\n",
       " <ProteinLigandComplex with 2 components (<KLIFSKinase name=P00533>, <Ligand name=CCC/C=C\\C(=O)Nc1cc(Nc2nccc(-c3cn(C)c4ccccc34)n2)c(OC)cc1N(C)CCN(C)C>)>,\n",
       " <ProteinLigandComplex with 2 components (<KLIFSKinase name=P00533>, <Ligand name=COc1cc2ncnc(Nc3ccc(F)c(Cl)c3)c2cc1OCC(O)CN(CCO)CCO>)>,\n",
       " <ProteinLigandComplex with 2 components (<KLIFSKinase name=P00533>, <Ligand name=COc1cc2ncnc(Nc3cccc(Cl)c3F)c2cc1OCC1CCN(C)CC1>)>,\n",
       " <ProteinLigandComplex with 2 components (<KLIFSKinase name=P00533>, <Ligand name=COc1ccc(-c2nn([C@@H]3CCNC3)c3ncnc(N)c23)cc1O>)>,\n",
       " <ProteinLigandComplex with 2 components (<KLIFSKinase name=P00533>, <Ligand name=CC(C)(C)n1nc(-c2ccc(Cl)cc2)c2c(N)ncnc21>)>,\n",
       " <ProteinLigandComplex with 2 components (<KLIFSKinase name=P00533>, <Ligand name=Fc1ccc(Nc2ncnc3c2NCc2cc(Cl)ccc2O3)cc1Cl>)>,\n",
       " <ProteinLigandComplex with 2 components (<KLIFSKinase name=P00533>, <Ligand name=COc1cc2ncnc(Nc3ccc(F)c(Cl)c3)c2cc1OCCN1CC(OC)C1>)>,\n",
       " <ProteinLigandComplex with 2 components (<KLIFSKinase name=P00533>, <Ligand name=Cc1ccc(Nc2ncnc3cc(OC(C)C)c4c(c23)OCCO4)cc1C#N>)>,\n",
       " <ProteinLigandComplex with 2 components (<KLIFSKinase name=P00533>, <Ligand name=Nc1ncnc2c1c(-c1ccc(Oc3ccccc3)cc1)cn2C1CCCC1>)>,\n",
       " <ProteinLigandComplex with 2 components (<KLIFSKinase name=P00533>, <Ligand name=Nc1ncnc2c1c(-c1ccccc1)nn2-c1ccccc1>)>,\n",
       " <ProteinLigandComplex with 2 components (<KLIFSKinase name=P00533>, <Ligand name=CCN(CC)C/C=C/C(=O)Nc1cc2c(Nc3ccc(F)c(Cl)c3)ncnc2s1>)>,\n",
       " <ProteinLigandComplex with 2 components (<KLIFSKinase name=P00533>, <Ligand name=N#Cc1cnc2cc3c(cc2c1Nc1cccc(Br)c1)OCCCO3>)>,\n",
       " <ProteinLigandComplex with 2 components (<KLIFSKinase name=P00533>, <Ligand name=COCC1CCCN1CC#CC(=O)Nc1ccc2ncnc(Nc3cccc(Br)c3)c2c1>)>,\n",
       " <ProteinLigandComplex with 2 components (<KLIFSKinase name=P00533>, <Ligand name=Cc1ccc(-c2nnc(Cc3nc4ccccc4[nH]3)o2)cc1>)>,\n",
       " <ProteinLigandComplex with 2 components (<KLIFSKinase name=P00533>, <Ligand name=CCOc1cc2ncc(C#N)c(Nc3ccc(Cl)c(F)c3)c2cc1NC(=O)/C=C/CN(C)C>)>,\n",
       " <ProteinLigandComplex with 2 components (<KLIFSKinase name=P00533>, <Ligand name=COc1cc2ncnc(Nc3ccc(-c4nc5ccccc5s4)cc3C)c2cc1OCCCN1CCN(C)CC1>)>,\n",
       " <ProteinLigandComplex with 2 components (<KLIFSKinase name=P00533>, <Ligand name=Cc1ccc(C(=O)Nc2ccc(CN3CCN(C)CC3)c(C(F)(F)F)c2)cc1NC(=O)c1ccccn1>)>,\n",
       " <ProteinLigandComplex with 2 components (<KLIFSKinase name=P00533>, <Ligand name=CC(=O)N1N=C(c2ccc(Cl)c(Cl)c2)CC1c1ccc(Cl)cc1>)>,\n",
       " <ProteinLigandComplex with 2 components (<KLIFSKinase name=P00533>, <Ligand name=C=CC(=O)Nc1cc(Nc2nccc(NC(=O)c3ccc(OC)c(OC)c3)n2)c(OC)cc1N(C)C>)>,\n",
       " <ProteinLigandComplex with 2 components (<KLIFSKinase name=P00533>, <Ligand name=CS(=O)(=O)CCNCc1cc(-c2cc3ncnc(Nc4ccc(OCc5cccc(F)c5)c(Cl)c4)c3s2)cs1>)>,\n",
       " <ProteinLigandComplex with 2 components (<KLIFSKinase name=P00533>, <Ligand name=Cc1ccc(Nc2ncnn3c(C)ccc23)cc1O>)>,\n",
       " <ProteinLigandComplex with 2 components (<KLIFSKinase name=P00533>, <Ligand name=CCOc1cc2ncnc(Nc3ccc(F)c(Cl)c3)c2cc1OC(=O)CSc1cccnc1>)>,\n",
       " <ProteinLigandComplex with 2 components (<KLIFSKinase name=P00533>, <Ligand name=COc1cc(-c2nc(=O)c3c([nH]2)sc2ccc(C)cc23)ccc1OCC(=O)O>)>,\n",
       " <ProteinLigandComplex with 2 components (<KLIFSKinase name=P00533>, <Ligand name=COc1ccc(-c2nn(C3CNC3)c3ncnc(N)c23)cc1O>)>,\n",
       " <ProteinLigandComplex with 2 components (<KLIFSKinase name=P00533>, <Ligand name=N#CC(C#N)=Cc1ccc(O)c([N+](=O)[O-])c1>)>,\n",
       " <ProteinLigandComplex with 2 components (<KLIFSKinase name=P00533>, <Ligand name=Cc1cccc(Nc2ncnn3ccc(CN4CCC(N)CC4)c23)c1>)>,\n",
       " <ProteinLigandComplex with 2 components (<KLIFSKinase name=P00533>, <Ligand name=OC[C@H](Nc1cnc(-c2cc(Cl)ccc2O)c(-c2ccc3cnccc3c2)c1)c1ccccc1>)>,\n",
       " <ProteinLigandComplex with 2 components (<KLIFSKinase name=P00533>, <Ligand name=O=C(CO)NC1CCN(Cc2ccn3ncnc(Nc4ccc5c(cnn5Cc5cccc(F)c5)c4)c23)CC1>)>,\n",
       " <ProteinLigandComplex with 2 components (<KLIFSKinase name=P00533>, <Ligand name=CCOc1ccc(-c2nn(C3CCCCC3)c3ncnc(N)c23)cc1OC>)>,\n",
       " <ProteinLigandComplex with 2 components (<KLIFSKinase name=P00533>, <Ligand name=CC(C)(C)Oc1cc(/C=C(\\C#N)C(=N)S)cc(C(C)(C)C)c1O>)>,\n",
       " <ProteinLigandComplex with 2 components (<KLIFSKinase name=P00533>, <Ligand name=C=CC(=O)Nc1cccc(-c2csc3ncnc(N[C@H](CO)c4ccccc4)c23)c1>)>,\n",
       " <ProteinLigandComplex with 2 components (<KLIFSKinase name=P00533>, <Ligand name=CCOC(=O)CCCn1c(=O)oc2cc3ncnc(Nc4ccc(OCc5ccc(Cl)cc5)c(Cl)c4)c3cc21>)>,\n",
       " <ProteinLigandComplex with 2 components (<KLIFSKinase name=P00533>, <Ligand name=Cc1coc2ncnc(N(C)c3ccc(N(C)C)cc3)c12>)>,\n",
       " <ProteinLigandComplex with 2 components (<KLIFSKinase name=P00533>, <Ligand name=Cc1cc2cc(Nc3ccnc4cc(-c5ccc(CNCCCO)cc5)sc34)ccc2[nH]1>)>,\n",
       " <ProteinLigandComplex with 2 components (<KLIFSKinase name=P00533>, <Ligand name=C=CS(=O)(=O)N1CCC[C@@H]1Cn1cc(-c2ccc3c(c2)OCO3)c2c(N)ncnc21>)>,\n",
       " <ProteinLigandComplex with 2 components (<KLIFSKinase name=P00533>, <Ligand name=COc1cc(/C=C(\\C#N)C(=O)c2ccc(O)c(O)c2)cc(CSCc2ccccc2)c1O>)>,\n",
       " <ProteinLigandComplex with 2 components (<KLIFSKinase name=P00533>, <Ligand name=CS(=O)(=O)Nc1ccc2c(c1)CNc1c(Nc3cccc(Br)c3)ncnc1O2>)>,\n",
       " <ProteinLigandComplex with 2 components (<KLIFSKinase name=P00533>, <Ligand name=C=CC(=O)Nc1cccc(Nc2cc(-c3[nH]c(SCCNC(=O)CC)nc3-c3ccccc3)ccn2)c1>)>,\n",
       " <ProteinLigandComplex with 2 components (<KLIFSKinase name=P00533>, <Ligand name=Cc1ccc(C2CC(c3ccc(C)c(C)c3)=NN2C(N)=S)cc1>)>,\n",
       " <ProteinLigandComplex with 2 components (<KLIFSKinase name=P00533>, <Ligand name=COc1cc(N2CCN(C)CC2)ccc1Nc1ncc(Cl)c(Oc2cccc(NC(=O)CCN(C)C)c2)n1>)>,\n",
       " <ProteinLigandComplex with 2 components (<KLIFSKinase name=P00533>, <Ligand name=C=CC(=O)NC1=CC=C2N=CN=C(Nc3cccc(C(F)(F)F)c3)C21>)>,\n",
       " <ProteinLigandComplex with 2 components (<KLIFSKinase name=P00533>, <Ligand name=C[C@@H](Oc1cccc2ncnc(Nc3ccc4c(cnn4Cc4nccs4)c3)c12)C(=O)N1CCOCC1>)>,\n",
       " <ProteinLigandComplex with 2 components (<KLIFSKinase name=P00533>, <Ligand name=N#CC(C#N)=Cc1cc(O)cc(O)c1>)>,\n",
       " <ProteinLigandComplex with 2 components (<KLIFSKinase name=P00533>, <Ligand name=Cc1ccc(C2=NN(C3=NC(=O)CS3)C(c3ccc(Cl)cc3)C2)cc1>)>,\n",
       " <ProteinLigandComplex with 2 components (<KLIFSKinase name=P00533>, <Ligand name=C=CC(=O)Nc1cc(Nc2ncnc(-c3cn(C)c4ccccc34)c2OC)c(OC)cc1N(C)CCN(C)C>)>,\n",
       " <ProteinLigandComplex with 2 components (<KLIFSKinase name=P00533>, <Ligand name=COc1cc(N2CCN(C)CC2)ccc1Nc1ncc(Cl)c(Oc2ccc(N=[N+]=[N-])cc2)n1>)>,\n",
       " <ProteinLigandComplex with 2 components (<KLIFSKinase name=P00533>, <Ligand name=COc1cc2ncnc(Nc3ccc(F)c(Cl)c3)c2cc1OCCCNCCN>)>,\n",
       " <ProteinLigandComplex with 2 components (<KLIFSKinase name=P00533>, <Ligand name=COc1cc(N2CCN(C)CC2)ccc1Nc1ncc(Cl)c(Oc2ccc(N=C=S)cc2)n1>)>,\n",
       " <ProteinLigandComplex with 2 components (<KLIFSKinase name=P00533>, <Ligand name=Cc1cccc(Nc2ncnc3cc4c(cc23)N(CCCN2CCOCC2)C(=O)CO4)c1>)>,\n",
       " <ProteinLigandComplex with 2 components (<KLIFSKinase name=P00533>, <Ligand name=C=CCOc1ccc2ncnc(Nc3ccc(OCc4ccccc4)cc3)c2c1>)>,\n",
       " <ProteinLigandComplex with 2 components (<KLIFSKinase name=P00533>, <Ligand name=C=CC(=O)Nc1cc(Nc2nccc(Nc3ccccc3-c3ncn(C)n3)n2)c(OC)cc1N(C)CCN(C)C>)>,\n",
       " <ProteinLigandComplex with 2 components (<KLIFSKinase name=P00533>, <Ligand name=C=COC(=O)N(CCN(C)C)/N=N/c1ccc2ncnc(Nc3cccc(Cl)c3)c2c1>)>,\n",
       " <ProteinLigandComplex with 2 components (<KLIFSKinase name=P00533>, <Ligand name=C=CC(=O)Nc1cccc(Nc2nc(Nc3ccc(/C=C/c4cc(Cl)cc(Cl)c4)cc3)ncc2F)c1>)>,\n",
       " <ProteinLigandComplex with 2 components (<KLIFSKinase name=P00533>, <Ligand name=COc1cc2c(Oc3ccc(NS(=O)(=O)c4cc(-c5ccsc5)ccc4F)cc3F)ccnc2cc1OCCCN1CCN(C)CC1>)>,\n",
       " <ProteinLigandComplex with 2 components (<KLIFSKinase name=P00533>, <Ligand name=C=CC(=O)Nc1cc2c(Nc3ccc(F)c(Cl)c3)ncnc2cc1OCc1cn(Cc2ccccc2F)nn1>)>,\n",
       " <ProteinLigandComplex with 2 components (<KLIFSKinase name=P00533>, <Ligand name=Fc1ccc(C2=NN(c3ccccc3)C(c3cccc4ccccc34)C2)cc1>)>,\n",
       " <ProteinLigandComplex with 2 components (<KLIFSKinase name=P00533>, <Ligand name=O=C(Nc1ccccc1)Nc1nnc(-c2cccnc2)o1>)>,\n",
       " <ProteinLigandComplex with 2 components (<KLIFSKinase name=P00533>, <Ligand name=O=C(CCN1CCCCC1)Nc1ccc2ncnc(Nc3cccc(Br)c3)c2c1>)>,\n",
       " <ProteinLigandComplex with 2 components (<KLIFSKinase name=P00533>, <Ligand name=CC(C)c1ccccc1Nc1nc(N)nc2[nH]c(Cc3ccc(Cl)cc3Cl)cc12>)>,\n",
       " <ProteinLigandComplex with 2 components (<KLIFSKinase name=P00533>, <Ligand name=O=C(Nc1ccc2ncnc(Nc3cccc(Br)c3)c2c1)c1cccc2c1OCCO2>)>,\n",
       " <ProteinLigandComplex with 2 components (<KLIFSKinase name=P00533>, <Ligand name=C#CCCCCOc1cc2c(Nc3ccc(F)c(Cl)c3)ncnc2cc1OC>)>,\n",
       " <ProteinLigandComplex with 2 components (<KLIFSKinase name=P00533>, <Ligand name=Cc1cccc(Nc2ncnc3[nH]c4c(c23)CCCC4)c1>)>,\n",
       " <ProteinLigandComplex with 2 components (<KLIFSKinase name=P00533>, <Ligand name=CN(C)c1cc2ncnc(Nc3cccc(Br)c3)c2cc1[N+](=O)[O-]>)>,\n",
       " <ProteinLigandComplex with 2 components (<KLIFSKinase name=P00533>, <Ligand name=Cc1c(C(=O)NCCN2CCOCC2)[nH]c2cnnc(Nc3ccc(OCc4ccccn4)c(Cl)c3)c12>)>,\n",
       " <ProteinLigandComplex with 2 components (<KLIFSKinase name=P00533>, <Ligand name=CCC(=O)Nc1cccc(Nc2cc(Nc3cccc(Br)c3)ncn2)c1>)>,\n",
       " <ProteinLigandComplex with 2 components (<KLIFSKinase name=P00533>, <Ligand name=CCOC(=O)N1CCN(CCC(=O)Nc2cccc(Oc3nc(Nc4ccc(N5CCN(C)CC5)cc4OC)ncc3Cl)c2)CC1>)>,\n",
       " <ProteinLigandComplex with 2 components (<KLIFSKinase name=P00533>, <Ligand name=Cc1c(C(=O)NCCCN2CCN(C)CC2)[nH]c2cnnc(Nc3ccc(OCc4cccc(F)c4)c(Cl)c3)c12>)>,\n",
       " <ProteinLigandComplex with 2 components (<KLIFSKinase name=P00533>, <Ligand name=CCOc1cc2ncnc(Nc3ccc(F)c(Cl)c3)c2cc1NC(=O)CCN1CCOCC1>)>,\n",
       " <ProteinLigandComplex with 2 components (<KLIFSKinase name=P00533>, <Ligand name=COc1cc2ncnc(Nc3cccc(Br)c3)c2cc1N>)>,\n",
       " <ProteinLigandComplex with 2 components (<KLIFSKinase name=P00533>, <Ligand name=CO[C@H]1[C@@H](N(C)C(=O)CCC(=O)O)C[C@@H]2O[C@@]1(C)n1c3ccccc3c3c4c(c5c6ccccc6n2c5c31)C(=O)NC4>)>,\n",
       " <ProteinLigandComplex with 2 components (<KLIFSKinase name=P00533>, <Ligand name=O=C1/C(=C\\c2ccc(O)c(O)c2)Oc2ccccc21>)>,\n",
       " <ProteinLigandComplex with 2 components (<KLIFSKinase name=P00533>, <Ligand name=C=CC(=O)N1CCC[C@H](N2C(=O)N(Cc3ccccc3)Cc3cnc(Nc4ccc(N5CCN(C)CC5)cc4OC)nc32)C1>)>,\n",
       " <ProteinLigandComplex with 2 components (<KLIFSKinase name=P00533>, <Ligand name=CCc1cc(Nc2nccc(-c3c(-c4cccc(C(=O)Nc5c(F)cccc5F)c4)nc4ccccn34)n2)c(OC)cc1N1CCC(N2CCN(S(C)(=O)=O)CC2)CC1>)>,\n",
       " <ProteinLigandComplex with 2 components (<KLIFSKinase name=P00533>, <Ligand name=COc1ccc(C2=NN(c3nc(-c4ccccc4)cs3)C(c3ccc(Br)cc3)C2)cc1>)>,\n",
       " <ProteinLigandComplex with 2 components (<KLIFSKinase name=P00533>, <Ligand name=Cc1ncc([N+](=O)[O-])n1CCOC(=O)/C=C/c1ccccc1F>)>,\n",
       " <ProteinLigandComplex with 2 components (<KLIFSKinase name=P00533>, <Ligand name=Nc1nc2c(c(Nc3cccc(Br)c3)n1)-c1ccccc1C2>)>,\n",
       " <ProteinLigandComplex with 2 components (<KLIFSKinase name=P00533>, <Ligand name=CCCCCCC(=O)ON[C@H](CS(C)(=O)=O)c1ccc(-c2ccc3ncnc(Nc4ccc(OCc5cccc(F)c5)c(Cl)c4)c3c2)o1>)>,\n",
       " <ProteinLigandComplex with 2 components (<KLIFSKinase name=P00533>, <Ligand name=CN(C)C(=O)O[C@H]1CN[C@@H](C#Cc2cc3ncnc(Nc4ccc(OCc5cccc(F)c5)c(Cl)c4)c3s2)C1>)>,\n",
       " <ProteinLigandComplex with 2 components (<KLIFSKinase name=P00533>, <Ligand name=CCOC(=O)CCCn1c(=O)oc2cc3ncnc(Nc4ccc(OCc5ccccn5)cc4)c3cc21>)>,\n",
       " <ProteinLigandComplex with 2 components (<KLIFSKinase name=P00533>, <Ligand name=Cc1cc(C)c(C)c(-c2cc3cnc(NCCCN4CCN(C)CC4)nc3nc2NC(=O)NC(C)(C)C)c1C>)>,\n",
       " <ProteinLigandComplex with 2 components (<KLIFSKinase name=P00533>, <Ligand name=Cc1ccc(Oc2ccc(Nc3ncnc4[nH]nc(OCCN5CCC(O)CC5)c34)cc2Cl)cn1>)>,\n",
       " <ProteinLigandComplex with 2 components (<KLIFSKinase name=P00533>, <Ligand name=COc1ccc(-c2[nH]nc3ncnc(Nc4cccc(Cl)c4)c23)cc1>)>,\n",
       " <ProteinLigandComplex with 2 components (<KLIFSKinase name=P00533>, <Ligand name=COc1ccc(OC)c(Nc2cc(Nc3ccc(F)cc3)ncn2)c1>)>,\n",
       " <ProteinLigandComplex with 2 components (<KLIFSKinase name=P00533>, <Ligand name=COc1cc(C=O)ccc1-c1cc2c(NCc3ccccc3)ncnc2s1>)>,\n",
       " <ProteinLigandComplex with 2 components (<KLIFSKinase name=P00533>, <Ligand name=N#CC(C#N)=Cc1ccc(NC(=O)CCC(=O)O)cc1>)>,\n",
       " <ProteinLigandComplex with 2 components (<KLIFSKinase name=P00533>, <Ligand name=CCOC(=O)C1=C(N)N(c2cccnc2)C2=C(C(=O)CCC2)C1c1cc2cc(C)ccc2n2nnnc12>)>,\n",
       " <ProteinLigandComplex with 2 components (<KLIFSKinase name=P00533>, <Ligand name=COc1cc2c(Nc3ccc(Cl)cc3F)ncnc2cc1OC[C@@H]1CCCN(C)C1>)>,\n",
       " <ProteinLigandComplex with 2 components (<KLIFSKinase name=P00533>, <Ligand name=COc1cc2c(Nc3ccc(NC(=O)c4ccccc4Cl)cc3)ncnc2cc1OCc1ccccc1>)>,\n",
       " <ProteinLigandComplex with 2 components (<KLIFSKinase name=P00533>, <Ligand name=O=C(Cc1c[nH]c2ccccc12)NNC(=S)Nc1ncccc1Br>)>,\n",
       " <ProteinLigandComplex with 2 components (<KLIFSKinase name=P00533>, <Ligand name=NC(=S)N1N=C(c2ccc(Cl)c(Cl)c2)CC1c1ccccc1F>)>,\n",
       " <ProteinLigandComplex with 2 components (<KLIFSKinase name=P00533>, <Ligand name=COc1cc2c(Nc3ccc(C)cc3F)ncnc2cc1OCC1CCN(C)CC1>)>,\n",
       " <ProteinLigandComplex with 2 components (<KLIFSKinase name=P00533>, <Ligand name=COc1cc(N2CCN(C)CC2)ccc1Nc1ncc(Cl)c(Oc2cccc(NC(=O)/C(C#N)=C/c3ccc(F)cc3)c2)n1>)>,\n",
       " <ProteinLigandComplex with 2 components (<KLIFSKinase name=P00533>, <Ligand name=CCOc1cc2ncnc(NC3=CC(=O)C(OCc4cccc(F)c4)=CC3=O)c2cc1NC(=O)/C=C/CN(C)C>)>,\n",
       " <ProteinLigandComplex with 2 components (<KLIFSKinase name=P00533>, <Ligand name=O=C(Nc1ccc(Cl)cc1)Nc1ccc2ncnc(Nc3cccc(Br)c3)c2c1>)>,\n",
       " <ProteinLigandComplex with 2 components (<KLIFSKinase name=P00533>, <Ligand name=CCCCN1C(=O)CS/C1=N/Nc1nncc2ccccc12>)>,\n",
       " <ProteinLigandComplex with 2 components (<KLIFSKinase name=P00533>, <Ligand name=CC(C)=CC[C@@H](OC(=O)/C=C\\C(=O)c1ccc(C)cc1)C1=CC(=O)c2c(O)ccc(O)c2C1=O>)>,\n",
       " <ProteinLigandComplex with 2 components (<KLIFSKinase name=P00533>, <Ligand name=Cc1ccccc1-c1cn(-c2ccccc2)c2ncnc(N)c12>)>,\n",
       " <ProteinLigandComplex with 2 components (<KLIFSKinase name=P00533>, <Ligand name=COc1ccc(C2=NN(C3=NC(=O)CS3)C(c3ccc4ccccc4c3)C2)cc1>)>,\n",
       " <ProteinLigandComplex with 2 components (<KLIFSKinase name=P00533>, <Ligand name=O=C1N=C(N2CCC[C@H]2C(=O)Nc2ccc3ncnc(Nc4cccc(Cl)c4)c3c2)S/C1=C/c1cccs1>)>,\n",
       " <ProteinLigandComplex with 2 components (<KLIFSKinase name=P00533>, <Ligand name=C=CC(=O)Nc1cccc(N2C(=O)N(C)Cc3cnc(Nc4ccc(N5CCCN(C)CC5)cc4OC)nc32)c1>)>,\n",
       " <ProteinLigandComplex with 2 components (<KLIFSKinase name=P00533>, <Ligand name=C=C(CN1CCOCC1)C(=O)c1ccc(OCc2ccccc2)cc1.Cl>)>,\n",
       " <ProteinLigandComplex with 2 components (<KLIFSKinase name=P00533>, <Ligand name=COc1cccc(Nc2ncnc3ccncc23)c1N>)>,\n",
       " <ProteinLigandComplex with 2 components (<KLIFSKinase name=P00533>, <Ligand name=Nc1ccc(-c2[nH]nc3ncnc(Nc4cccc(Cl)c4)c23)cc1>)>,\n",
       " <ProteinLigandComplex with 2 components (<KLIFSKinase name=P00533>, <Ligand name=COc1ccccc1C(=O)Nc1cccc(Nc2nccc(-c3cccnc3)n2)c1>)>,\n",
       " <ProteinLigandComplex with 2 components (<KLIFSKinase name=P00533>, <Ligand name=CCOC(=O)C1=C(N)N(c2cccnc2)C2=C(C(=O)CCC2)C1c1c(C)nn(-c2ccccc2)c1Cl>)>,\n",
       " <ProteinLigandComplex with 2 components (<KLIFSKinase name=P00533>, <Ligand name=Cc1ccc(C2CC(c3ccc(Cl)c(Cl)c3)=NN2C(N)=S)cc1>)>,\n",
       " <ProteinLigandComplex with 2 components (<KLIFSKinase name=P00533>, <Ligand name=COc1cc2ncnc(Nc3ccc(OCc4cccc(F)c4)c(Cl)c3)c2cc1OCCCN1CCNCCNCC1>)>,\n",
       " <ProteinLigandComplex with 2 components (<KLIFSKinase name=P00533>, <Ligand name=COc1ccc(CO)cc1-c1cc2c(N[C@H](C)c3ccccc3)ncnc2s1>)>,\n",
       " <ProteinLigandComplex with 2 components (<KLIFSKinase name=P00533>, <Ligand name=O=C(Nc1nccs1)C(c1cc(F)ccc1O)N1Cc2ccc(-c3ccc(N4CCNCC4)cc3)cc2C1=O>)>,\n",
       " <ProteinLigandComplex with 2 components (<KLIFSKinase name=P00533>, <Ligand name=C=CC(=O)Nc1cc2c(Nc3ccc(F)c(Cl)c3)ncnc2cc1OCc1cn(Cc2cccc(F)c2)nn1>)>,\n",
       " <ProteinLigandComplex with 2 components (<KLIFSKinase name=P00533>, <Ligand name=Fc1cc(F)cc(NC(=S)Nc2ccc3ncnc(Nc4cccc(Br)c4)c3c2)c1>)>,\n",
       " <ProteinLigandComplex with 2 components (<KLIFSKinase name=P00533>, <Ligand name=COc1cc2c(Nc3ccc(F)c(Cl)c3)ncnc2cc1OCCCCCCn1ccnc1[N+](=O)[O-]>)>,\n",
       " <ProteinLigandComplex with 2 components (<KLIFSKinase name=P00533>, <Ligand name=C#Cc1cccc(NC(=O)c2cc(NC(=O)CCCCCC(=O)NO)ccc2OC)c1>)>,\n",
       " <ProteinLigandComplex with 2 components (<KLIFSKinase name=P00533>, <Ligand name=CC(=O)N1CCC[C@@H]1C#Cc1cc2ncnc(Nc3ccc(OCc4cccc(F)c4)c(Cl)c3)c2s1>)>,\n",
       " <ProteinLigandComplex with 2 components (<KLIFSKinase name=P00533>, <Ligand name=COc1ccc(-c2cn(-c3ccccc3)c3ncnc(N)c23)cc1>)>,\n",
       " <ProteinLigandComplex with 2 components (<KLIFSKinase name=P00533>, <Ligand name=Cn1cnc2c(NCc3ccccc3)nc(NCCO)nc21>)>,\n",
       " <ProteinLigandComplex with 2 components (<KLIFSKinase name=P00533>, <Ligand name=NC(=S)N1N=C(c2ccc(Cl)c(Cl)c2)CC1c1ccc(F)cc1>)>,\n",
       " <ProteinLigandComplex with 2 components (<KLIFSKinase name=P00533>, <Ligand name=CS(=O)(=O)O[C@H]1CN[C@H](C#Cc2cc3ncnc(Nc4ccc(OCc5cccc(F)c5)c(Cl)c4)c3s2)C1>)>,\n",
       " <ProteinLigandComplex with 2 components (<KLIFSKinase name=P00533>, <Ligand name=COc1ccc(C(=O)N(C)[C@H]2C[C@@H]3O[C@](C)([C@H]2OC)n2c4ccccc4c4c5c(c6c7ccccc7n3c6c42)C(=O)NC5)cc1>)>,\n",
       " <ProteinLigandComplex with 2 components (<KLIFSKinase name=P00533>, <Ligand name=CN1CCN(c2ccc(NC(=O)c3c(Nc4ccccn4)cc[nH]c3=O)cc2)CC1>)>,\n",
       " <ProteinLigandComplex with 2 components (<KLIFSKinase name=P00533>, <Ligand name=N#Cc1cnc(Nc2cccc(Br)c2)c2cc(NC(=O)CCN3CCOCC3)ccc12>)>,\n",
       " <ProteinLigandComplex with 2 components (<KLIFSKinase name=P00533>, <Ligand name=Nc1nc(Nc2cccc(Br)c2)c2cc(CCc3cccc4ccccc34)[nH]c2n1>)>,\n",
       " <ProteinLigandComplex with 2 components (<KLIFSKinase name=P00533>, <Ligand name=CCN(CC)C/C=C/C(=O)N1CCCOc2cc3ncnc(Nc4ccc(F)c(Cl)c4)c3cc21>)>,\n",
       " <ProteinLigandComplex with 2 components (<KLIFSKinase name=P00533>, <Ligand name=C=CC(=O)Nc1ccc(-c2c(-c3ccccc3)oc3ncnc(N[C@H](CO)c4ccccc4)c23)cc1>)>,\n",
       " <ProteinLigandComplex with 2 components (<KLIFSKinase name=P00533>, <Ligand name=CC(=O)c1c(SSc2c(C(C)=O)c3ccccc3n2C)n(C)c2ccccc12>)>,\n",
       " <ProteinLigandComplex with 2 components (<KLIFSKinase name=P00533>, <Ligand name=COc1ccccc1CNc1ncc(C(=O)NC2CCN(C)CC2)c(NC2CCCC2)n1>)>,\n",
       " <ProteinLigandComplex with 2 components (<KLIFSKinase name=P00533>, <Ligand name=C=CC(=O)N1CCC[C@@H](n2nc(-c3cnc4[nH]ccc4c3)c3c(N)ncnc32)C1>)>,\n",
       " <ProteinLigandComplex with 2 components (<KLIFSKinase name=P00533>, <Ligand name=COc1cc2nccc(Nc3ccc(F)c(Cl)c3)c2cc1NC(=O)/C=C/C(C)N(C)C>)>,\n",
       " <ProteinLigandComplex with 2 components (<KLIFSKinase name=P00533>, <Ligand name=Cc1nn(-c2ccccc2)c(Cl)c1C1C(C#N)=C(N)N(c2cccnc2)C2=C1C(=O)CC(C)(C)C2>)>,\n",
       " <ProteinLigandComplex with 2 components (<KLIFSKinase name=P00533>, <Ligand name=Cn1ncc2cc(Nc3ncnn4ccc(CN5CCC(N)CC5)c34)ccc21>)>,\n",
       " <ProteinLigandComplex with 2 components (<KLIFSKinase name=P00533>, <Ligand name=CCN(CC)CCNC(=O)c1c(C)[nH]c(/C=C2\\C(=O)Nc3ccc(Br)cc32)c1C>)>,\n",
       " <ProteinLigandComplex with 2 components (<KLIFSKinase name=P00533>, <Ligand name=CC(C)(CO)NCc1ccc(-c2cc3ncnc(Nc4ccc5[nH]ccc5c4)c3s2)cc1>)>,\n",
       " <ProteinLigandComplex with 2 components (<KLIFSKinase name=P00533>, <Ligand name=Clc1cccc(Nc2ncnc3cc4c(cc23)OCCOCCOCCO4)c1>)>,\n",
       " <ProteinLigandComplex with 2 components (<KLIFSKinase name=P00533>, <Ligand name=CO[C@H]1[C@@H](N(C)C(=O)c2cccnc2)C[C@@H]2O[C@@]1(C)n1c3ccccc3c3c4c(c5c6ccccc6n2c5c31)C(=O)NC4>)>,\n",
       " <ProteinLigandComplex with 2 components (<KLIFSKinase name=P00533>, <Ligand name=O=C(/C=C/c1ccc([N+](=O)[O-])cc1)Nc1ccc2ncnc(Nc3cccc(Br)c3)c2c1>)>,\n",
       " <ProteinLigandComplex with 2 components (<KLIFSKinase name=P00533>, <Ligand name=CCNc1ccc2c(Nc3cccc(Br)c3)ncnc2c1>)>,\n",
       " <ProteinLigandComplex with 2 components (<KLIFSKinase name=P00533>, <Ligand name=c1cncc(-c2nnc(Cc3nc4ccccc4[nH]3)o2)c1>)>,\n",
       " <ProteinLigandComplex with 2 components (<KLIFSKinase name=P00533>, <Ligand name=COc1cc2c(Oc3ccc(NS(=O)(=O)c4ccccc4C(F)(F)F)cc3F)ccnc2cc1OCCCN1CCN(C)CC1>)>,\n",
       " <ProteinLigandComplex with 2 components (<KLIFSKinase name=P00533>, <Ligand name=CCCCC(O)CN(C)[C@H]1C[C@@H]2O[C@](C)([C@H]1OC)n1c3ccccc3c3c4c(c5c6ccccc6n2c5c31)C(=O)NC4>)>,\n",
       " <ProteinLigandComplex with 2 components (<KLIFSKinase name=P00533>, <Ligand name=O=C(Nc1nccs1)Nc1cc(-c2cccnc2)ccc1OC(F)(F)F>)>,\n",
       " <ProteinLigandComplex with 2 components (<KLIFSKinase name=P00533>, <Ligand name=COc1ccc2c(c1)CCCN2c1nc(C)nc2oc(C)cc12>)>,\n",
       " <ProteinLigandComplex with 2 components (<KLIFSKinase name=P00533>, <Ligand name=Cc1ncnc(Nc2ccc(OCc3cccc(F)c3)c(Cl)c2)c1C#Cc1ccc(CNCCS(C)(=O)=O)o1>)>,\n",
       " <ProteinLigandComplex with 2 components (<KLIFSKinase name=P00533>, <Ligand name=CCN(CC)CCNC(=O)c1cc2cnnc(Nc3ccc(OCc4cccc(F)c4)c(Cl)c3)c2[nH]1>)>,\n",
       " <ProteinLigandComplex with 2 components (<KLIFSKinase name=P00533>, <Ligand name=O=C(Cc1cccc(Br)c1)NS(=O)(=O)c1ccc(Br)cc1>)>,\n",
       " <ProteinLigandComplex with 2 components (<KLIFSKinase name=P00533>, <Ligand name=O=C(Nc1ccncc1)Nc1cc(-c2cncnc2)cc(C(F)(F)F)c1>)>,\n",
       " <ProteinLigandComplex with 2 components (<KLIFSKinase name=P00533>, <Ligand name=COc1cc2c(Nc3ccc(F)cc3Cl)ncnc2cc1OCCOCCNC(=O)Cn1cnc([N+](=O)[O-])n1>)>,\n",
       " <ProteinLigandComplex with 2 components (<KLIFSKinase name=P00533>, <Ligand name=Cn1nc(-c2ccc(Br)c(O)c2)c2c(N)ncnc21>)>,\n",
       " <ProteinLigandComplex with 2 components (<KLIFSKinase name=P00533>, <Ligand name=COc1ccc(C2=NN(C3=NC(=O)CS3)C(c3cccc4ccccc34)C2)cc1>)>,\n",
       " <ProteinLigandComplex with 2 components (<KLIFSKinase name=P00533>, <Ligand name=C=CC(=O)Nc1cccc(-c2c[nH]c3nccc(-c4[nH]c(CCCO)nc4-c4ccc(F)cc4)c23)c1>)>,\n",
       " <ProteinLigandComplex with 2 components (<KLIFSKinase name=P00533>, <Ligand name=O=C(Nc1ccc2ncnc(Nc3cccc(Cl)c3)c2c1)C1CCC2(CC1)OCC1(OO2)C2CC3CC(C2)CC1C3>)>,\n",
       " <ProteinLigandComplex with 2 components (<KLIFSKinase name=P00533>, <Ligand name=O=C(/C=C/c1ccccc1)Nc1ccc(Cl)cc1Cl>)>,\n",
       " <ProteinLigandComplex with 2 components (<KLIFSKinase name=P00533>, <Ligand name=c1ccc(-c2cc3ncnc(Nc4ccc5[nH]ccc5c4)c3s2)cc1>)>,\n",
       " <ProteinLigandComplex with 2 components (<KLIFSKinase name=P00533>, <Ligand name=CN(C)C/C=C/C(=O)Nc1cc2c(Nc3ccc(OCc4cccc(F)c4)c(Cl)c3)ncnc2cn1>)>,\n",
       " <ProteinLigandComplex with 2 components (<KLIFSKinase name=P00533>, <Ligand name=CN(CC(O)CO)c1c(Br)cccc1Nc1ncnc2ccncc12>)>,\n",
       " <ProteinLigandComplex with 2 components (<KLIFSKinase name=P00533>, <Ligand name=C=CC(=O)Nc1cccc(-n2c(=O)n(C)c(=O)c3cnc(Nc4ccc(N5CCSCC5)cc4OC)nc32)c1>)>,\n",
       " <ProteinLigandComplex with 2 components (<KLIFSKinase name=P00533>, <Ligand name=CC(=O)N1CCN(Cc2ccn3ncnc(Nc4ccc5c(cnn5Cc5cccc(F)c5)c4)c23)CC1>)>,\n",
       " <ProteinLigandComplex with 2 components (<KLIFSKinase name=P00533>, <Ligand name=CC(C)(O)Cn1/c(=N/C(=O)c2cc(F)cc(-c3cccnc3)c2)[nH]c2ccccc21>)>,\n",
       " <ProteinLigandComplex with 2 components (<KLIFSKinase name=P00533>, <Ligand name=Cc1ncc([N+](=O)[O-])n1CCOC(=O)/C=C/c1cccc(F)c1>)>,\n",
       " <ProteinLigandComplex with 2 components (<KLIFSKinase name=P00533>, <Ligand name=CCC(=O)N1CC[C@H](N2C(=O)N(c3ccc(F)cc3)Cc3cnc(Nc4ccc(N5CCN(C)CC5)c(C)c4)nc32)C1>)>,\n",
       " <ProteinLigandComplex with 2 components (<KLIFSKinase name=P00533>, <Ligand name=NC(=S)N1N=C(c2ccc(Cl)c(Cl)c2)CC1c1ccccc1Cl>)>,\n",
       " <ProteinLigandComplex with 2 components (<KLIFSKinase name=P00533>, <Ligand name=N#Cc1cnc2c(Cl)cc(NCc3c[nH]nn3)cc2c1Nc1ccc(F)c(Cl)c1>)>,\n",
       " <ProteinLigandComplex with 2 components (<KLIFSKinase name=P00533>, <Ligand name=O=C1CSC(N2N=C(c3ccc(Cl)cc3)CC2c2ccc(Cl)cc2)=N1>)>,\n",
       " <ProteinLigandComplex with 2 components (<KLIFSKinase name=P00533>, <Ligand name=O=C1Nc2ncnc(Nc3ccc(F)c(Cl)c3)c2/C1=C/c1ccc(C(=O)NCCN2CCOCC2)[nH]1>)>,\n",
       " <ProteinLigandComplex with 2 components (<KLIFSKinase name=P00533>, <Ligand name=S=C(Nc1cccc(Cl)c1)Nc1ccc2ncnc(Nc3cccc(Br)c3)c2c1>)>,\n",
       " <ProteinLigandComplex with 2 components (<KLIFSKinase name=P00533>, <Ligand name=CN(C)C/C=C/C(=O)Nc1cccc(Nc2nc(N/N=C/c3cn(Cc4ccccc4)c4ccccc34)ncc2Cl)c1>)>,\n",
       " <ProteinLigandComplex with 2 components (<KLIFSKinase name=P00533>, <Ligand name=O=C(Nc1cccc(Nc2ncnc3cc(OCCCN4CCOCC4)ccc23)c1)Nc1ccc(F)c(Cl)c1>)>,\n",
       " <ProteinLigandComplex with 2 components (<KLIFSKinase name=P00533>, <Ligand name=CC(=O)NC(Cc1c(SSc2[nH]c3ccccc3c2CC(NC(C)=O)C(=O)NCc2ccccc2)[nH]c2ccccc12)C(=O)NCc1ccccc1>)>,\n",
       " <ProteinLigandComplex with 2 components (<KLIFSKinase name=P00533>, <Ligand name=COc1cc2ncc(C#N)c(Nc3ccc(F)cc3)c2cc1OC>)>,\n",
       " <ProteinLigandComplex with 2 components (<KLIFSKinase name=P00533>, <Ligand name=Cc1cc2cc(Nc3ccnc4cc(-c5ccc(CN6CCOCC6)cc5)sc34)ccc2[nH]1>)>,\n",
       " <ProteinLigandComplex with 2 components (<KLIFSKinase name=P00533>, <Ligand name=C=CC(=O)NC1=CC=C2N=CN=C(Nc3cccc(Cl)c3)C21>)>,\n",
       " <ProteinLigandComplex with 2 components (<KLIFSKinase name=P00533>, <Ligand name=CNC(=O)c1c(SSc2[nH]c3ccccc3c2C(=O)NC)[nH]c2ccccc12>)>,\n",
       " <ProteinLigandComplex with 2 components (<KLIFSKinase name=P00533>, <Ligand name=COc1cc(/C=C(\\C#N)C(N)=O)cc(CSc2ccccc2C(=O)O)c1O>)>,\n",
       " <ProteinLigandComplex with 2 components (<KLIFSKinase name=P00533>, <Ligand name=NCCSc1nc(-c2ccc(F)cc2)c(-c2ccnc(Nc3ccccc3)c2)[nH]1>)>,\n",
       " <ProteinLigandComplex with 2 components (<KLIFSKinase name=P00533>, <Ligand name=S=C(Nc1cccnc1)Nc1ccc2ncnc(Nc3cccc(Br)c3)c2c1>)>,\n",
       " <ProteinLigandComplex with 2 components (<KLIFSKinase name=P00533>, <Ligand name=O=S(=O)(O)CCNc1cc2ncnc(Nc3cccc(Br)c3)c2cn1>)>,\n",
       " <ProteinLigandComplex with 2 components (<KLIFSKinase name=P00533>, <Ligand name=CC(C)n1nc(-c2ccc3c(c2)OCCO3)c2c(N)ncnc21>)>,\n",
       " <ProteinLigandComplex with 2 components (<KLIFSKinase name=P00533>, <Ligand name=COc1ccc2c(c1)CCCN2c1nc(C)nc2c(Cc3ccccc3)c[nH]c12.Cl>)>,\n",
       " <ProteinLigandComplex with 2 components (<KLIFSKinase name=P00533>, <Ligand name=Fc1cccc(COc2ccc(Nc3ncnc4sc(-c5ccc(CNCc6ccccc6)o5)cc34)cc2Cl)c1>)>,\n",
       " <ProteinLigandComplex with 2 components (<KLIFSKinase name=P00533>, <Ligand name=COc1cccc(-c2ccc3c(c2)NC(=O)/C3=C\\c2[nH]c3c(c2CCC(=O)O)CCCC3)c1>)>,\n",
       " <ProteinLigandComplex with 2 components (<KLIFSKinase name=P00533>, <Ligand name=Nc1ncnc2c1c(-c1cccc(O)c1)cn2C1CCNC1>)>,\n",
       " <ProteinLigandComplex with 2 components (<KLIFSKinase name=P00533>, <Ligand name=CS(=O)(=O)CCNC/C=C/C(=O)Nc1cc2c(Nc3ccc(F)c(Cl)c3)ncnc2s1>)>,\n",
       " <ProteinLigandComplex with 2 components (<KLIFSKinase name=P00533>, <Ligand name=O=C(Nc1cc2c(Nc3ccc(F)c(Cl)c3)ncnc2cc1O[C@H]1CCOC1)N1CCC2(CC1)OCCO2>)>,\n",
       " <ProteinLigandComplex with 2 components (<KLIFSKinase name=P00533>, <Ligand name=COCCn1c(=O)oc2cc3ncnc(Nc4ccc(F)c(F)c4)c3cc21>)>,\n",
       " <ProteinLigandComplex with 2 components (<KLIFSKinase name=P00533>, <Ligand name=Fc1c(Br)cccc1Nc1ncnc2ccncc12>)>,\n",
       " <ProteinLigandComplex with 2 components (<KLIFSKinase name=P00533>, <Ligand name=Nc1ncnc2c1c(-c1ccc3[nH]ccc3c1)nn2C1CCCC1>)>,\n",
       " <ProteinLigandComplex with 2 components (<KLIFSKinase name=P00533>, <Ligand name=CN(C)C/C=C/C(=O)Nc1cc2c(Nc3ccc4c(cnn4Cc4ccccc4)c3)ncnc2cn1>)>,\n",
       " <ProteinLigandComplex with 2 components (<KLIFSKinase name=P00533>, <Ligand name=Cc1ccc(Oc2ccc(Nc3ncnc4[nH]nc(OCCN5CCC(O)CC5)c34)cc2C)cn1>)>,\n",
       " <ProteinLigandComplex with 2 components (<KLIFSKinase name=P00533>, <Ligand name=Nc1cccc2c(Nc3cccc(Br)c3)ncnc12>)>,\n",
       " <ProteinLigandComplex with 2 components (<KLIFSKinase name=P00533>, <Ligand name=CC/C=C\\C(=O)Nc1cc(Nc2nccc(-c3cn(C)c4ccc(F)cc34)n2)c(OC)cc1N(C)CCN(C)C>)>,\n",
       " <ProteinLigandComplex with 2 components (<KLIFSKinase name=P00533>, <Ligand name=COc1cc2c(Oc3ccc(C4SCC(=O)N4NC(=O)Nc4ccc(F)cc4)cc3)ccnc2cc1OCCCN1CCOCC1>)>,\n",
       " <ProteinLigandComplex with 2 components (<KLIFSKinase name=P00533>, <Ligand name=O=C(O)CCc1c(/C=C2\\C(=O)Nc3ccc(C(=O)O)cc32)[nH]c2c1CCCC2>)>,\n",
       " <ProteinLigandComplex with 2 components (<KLIFSKinase name=P00533>, <Ligand name=Cl.NCCNC(=O)c1ccc(S(=O)(=O)Oc2ccc(/C=C/[N+](=O)[O-])cc2)cc1>)>,\n",
       " <ProteinLigandComplex with 2 components (<KLIFSKinase name=P00533>, <Ligand name=Brc1cccc(Nc2ncnc3[nH]c4c(c23)CCCC4)c1>)>,\n",
       " <ProteinLigandComplex with 2 components (<KLIFSKinase name=P00533>, <Ligand name=COC(CN(C)C/C=C/C(=O)Nc1cc2c(Nc3ccc(F)c(Cl)c3)ncnc2s1)OC>)>,\n",
       " <ProteinLigandComplex with 2 components (<KLIFSKinase name=P00533>, <Ligand name=Cc1ccc(N2NC(=O)/C(=C/c3ccc(OCc4ccccc4)cc3)C2=O)cc1Cl>)>,\n",
       " <ProteinLigandComplex with 2 components (<KLIFSKinase name=P00533>, <Ligand name=CC(C)N(CC#CC(=O)Nc1cc2c(Nc3ccc(F)c(Cl)c3)ncnc2cn1)C(C)C>)>,\n",
       " <ProteinLigandComplex with 2 components (<KLIFSKinase name=P00533>, <Ligand name=CS(=O)(=O)CCN(CC#N)Cc1ccc(-c2ccc3ncnc(Nc4ccc(OCc5cccc(F)c5)c(Cl)c4)c3c2)o1>)>,\n",
       " <ProteinLigandComplex with 2 components (<KLIFSKinase name=P00533>, <Ligand name=O=C(O[C@H]1CN[C@H](C#Cc2cc3ncnc(Nc4ccc5c(Oc6ccccn6)cccc5c4)c3s2)C1)N1CCOCC1>)>,\n",
       " <ProteinLigandComplex with 2 components (<KLIFSKinase name=P00533>, <Ligand name=Cc1nc(N(C)c2ccc(OC(C)C)cc2)c2cc(C)oc2n1>)>,\n",
       " <ProteinLigandComplex with 2 components (<KLIFSKinase name=P00533>, <Ligand name=CC(C)(C(=O)NCCn1ccc2ncnc(Nc3ccc(Oc4cccc(C(F)(F)F)c4)c(Cl)c3)c21)S(C)(=O)=O>)>,\n",
       " <ProteinLigandComplex with 2 components (<KLIFSKinase name=P00533>, <Ligand name=C=CC(=O)Nc1cc(-n2c(=O)cc(C)c3cnc(Nc4ccc(N5CCN(C)CC5)cc4OC)nc32)ccc1C>)>,\n",
       " <ProteinLigandComplex with 2 components (<KLIFSKinase name=P00533>, <Ligand name=Cc1cc(C)c(O)c(CN(Cc2ccc(O)cc2)C(=O)Nc2ccccc2)c1>)>,\n",
       " <ProteinLigandComplex with 2 components (<KLIFSKinase name=P00533>, <Ligand name=Fc1cccc(COc2ccc(Nc3ncnc4sc(Br)cc34)cc2Cl)c1>)>,\n",
       " <ProteinLigandComplex with 2 components (<KLIFSKinase name=P00533>, <Ligand name=CC1(C)OOC2(CCC(C(=O)Nc3ccc4ncnc(Nc5cccc(Cl)c5)c4c3)CC2)OO1>)>,\n",
       " <ProteinLigandComplex with 2 components (<KLIFSKinase name=P00533>, <Ligand name=Fc1cccc(COc2ccc(Nc3ncnc4ccc(NC(=S)NCCCN5CCOCC5)cc34)cc2Cl)c1>)>,\n",
       " <ProteinLigandComplex with 2 components (<KLIFSKinase name=P00533>, <Ligand name=NS(=O)(=O)c1ccc(Nc2nncc3ccccc23)cc1>)>,\n",
       " <ProteinLigandComplex with 2 components (<KLIFSKinase name=P00533>, <Ligand name=O=C1Cc2ccc(Oc3ccc(Nc4ncnc5ccn(CCO)c45)cc3Cl)cc2N1>)>,\n",
       " <ProteinLigandComplex with 2 components (<KLIFSKinase name=P00533>, <Ligand name=CN(C)CCOc1ccc(Nc2ncc3nc(Sc4cccc(F)c4)n(C4CCOCC4)c3n2)cc1>)>,\n",
       " <ProteinLigandComplex with 2 components (<KLIFSKinase name=P00533>, <Ligand name=O=[N+]([O-])c1cccc(-c2c(-c3ccccc3)oc3ncnc(N[C@H](CO)c4ccccc4)c23)c1>)>,\n",
       " <ProteinLigandComplex with 2 components (<KLIFSKinase name=P00533>, <Ligand name=COc1cc2nccc(Nc3cccc(Br)c3)c2cc1OC>)>,\n",
       " <ProteinLigandComplex with 2 components (<KLIFSKinase name=P00533>, <Ligand name=O=C(Nc1cc(-c2cccnc2)cc(C(F)(F)F)c1)Nc1nccs1>)>,\n",
       " <ProteinLigandComplex with 2 components (<KLIFSKinase name=P00533>, <Ligand name=CCN(C/C=C/C(=O)Nc1cccc(-c2c(-c3ccccc3)oc3ncnc(N[C@H](CO)c4ccccc4)c23)c1)CCO>)>,\n",
       " <ProteinLigandComplex with 2 components (<KLIFSKinase name=P00533>, <Ligand name=CCN=C(S)NNc1nncc2ccccc12>)>,\n",
       " <ProteinLigandComplex with 2 components (<KLIFSKinase name=P00533>, <Ligand name=COc1ccc(-c2c3c4cc(OCCCN(C)C)c(OCCCN(C)C)cc4oc(=O)c3n3ccc4cc(O)c(OC)cc4c23)cc1O.O=C(O)C(F)(F)F.O=C(O)C(F)(F)F>)>,\n",
       " <ProteinLigandComplex with 2 components (<KLIFSKinase name=P00533>, <Ligand name=CCN(CC)[C@@](C)(C#Cc1ncnc2cc(OC)c(OC)cc12)Cc1ccncc1>)>,\n",
       " <ProteinLigandComplex with 2 components (<KLIFSKinase name=P00533>, <Ligand name=CNc1ccc2c(Nc3cccc(Br)c3)ncnc2n1>)>,\n",
       " <ProteinLigandComplex with 2 components (<KLIFSKinase name=P00533>, <Ligand name=C#Cc1cccc(Nc2ncnc3ccc(OCCCCOP(N)(=O)N(CCCl)CCCl)cc23)c1>)>,\n",
       " <ProteinLigandComplex with 2 components (<KLIFSKinase name=P00533>, <Ligand name=COc1ccc(C2CC(c3ccc(Br)cc3)=NN2c2nc(-c3ccccc3)cs2)cc1>)>,\n",
       " <ProteinLigandComplex with 2 components (<KLIFSKinase name=P00533>, <Ligand name=COCCOc1cc2ncnc(-c3c[nH]c4cc(F)c(Cl)cc34)c2cc1OCCOC>)>,\n",
       " <ProteinLigandComplex with 2 components (<KLIFSKinase name=P00533>, <Ligand name=N#CC(C#N)=C1CCc2cc(O)c(O)cc21>)>,\n",
       " <ProteinLigandComplex with 2 components (<KLIFSKinase name=P00533>, <Ligand name=C=CC(=O)Nc1ccc(OC)c(Nc2cc(-c3[nH]c(SC)nc3-c3ccc4ccccc4c3)ccn2)c1>)>,\n",
       " <ProteinLigandComplex with 2 components (<KLIFSKinase name=P00533>, <Ligand name=C=CC(=O)N1CC[C@@H](COc2nc(Nc3cnn(C)c3)nc3[nH]cc(Cl)c23)C1>)>,\n",
       " <ProteinLigandComplex with 2 components (<KLIFSKinase name=P00533>, <Ligand name=Cc1cccc(Nc2ncnc3ccc(NC(=O)NCCCl)cc23)c1>)>,\n",
       " <ProteinLigandComplex with 2 components (<KLIFSKinase name=P00533>, <Ligand name=COc1ccc(-c2cc(NC(=O)Nc3ccccn3)cc(OC)c2OC)cn1>)>,\n",
       " <ProteinLigandComplex with 2 components (<KLIFSKinase name=P00533>, <Ligand name=Cn1c(SSc2c(C(=O)Nc3ccc(C(=O)O)cc3)c3ccccc3n2C)c(C(=O)Nc2ccc(C(=O)O)cc2)c2ccccc21>)>,\n",
       " <ProteinLigandComplex with 2 components (<KLIFSKinase name=P00533>, <Ligand name=COc1cc2ncnc(Nc3ccc(F)c(Cl)c3)c2cc1OCCCCCCn1ccnc1[N+](=O)[O-]>)>,\n",
       " <ProteinLigandComplex with 2 components (<KLIFSKinase name=P00533>, <Ligand name=O=C(O[C@H]1CN[C@H](C#Cc2cc3ncnc(Nc4ccc5c(c4)c(F)cn5Cc4ccccc4)c3s2)C1)N1CCOCC1>)>,\n",
       " <ProteinLigandComplex with 2 components (<KLIFSKinase name=P00533>, <Ligand name=S=C(NCc1ccccc1)Nc1ccc2ncnc(Nc3cccc(Cl)c3)c2c1>)>,\n",
       " <ProteinLigandComplex with 2 components (<KLIFSKinase name=P00533>, <Ligand name=CC(C)Oc1cc2ncnc(Nc3ccc(F)c(Cl)c3)c2c2c1OCCO2>)>,\n",
       " <ProteinLigandComplex with 2 components (<KLIFSKinase name=P00533>, <Ligand name=Cc1cccc2nc(NC(=O)c3ccnc(C(F)(F)F)c3)n([C@@H]3CCCCN(C(=O)/C=C/CN(C)C)C3)c12>)>,\n",
       " <ProteinLigandComplex with 2 components (<KLIFSKinase name=P00533>, <Ligand name=COc1cc2ncnc(Nc3ccc(-c4nc5ccccc5s4)c(F)c3)c2cc1OCCCN1CCN(C)CC1>)>,\n",
       " <ProteinLigandComplex with 2 components (<KLIFSKinase name=P00533>, <Ligand name=COc1ccccc1-c1cc2c(N[C@H](C)c3ccccc3)ncnc2o1>)>,\n",
       " <ProteinLigandComplex with 2 components (<KLIFSKinase name=P00533>, <Ligand name=COc1cc(Nc2nccc(-c3ccc(NCCN)nc3)n2)cc(OC)c1OC>)>,\n",
       " <ProteinLigandComplex with 2 components (<KLIFSKinase name=P00533>, <Ligand name=CCOc1cc2ncnc(Nc3ccc(F)c(Cl)c3)c2cc1OC(=O)CSc1nc2cc(OC)ccc2s1>)>,\n",
       " <ProteinLigandComplex with 2 components (<KLIFSKinase name=P00533>, <Ligand name=O=C(NCCO)C1=Cc2c(ncnc2Nc2ccc(Oc3cccc4sccc34)c(Cl)c2)NCC1>)>,\n",
       " <ProteinLigandComplex with 2 components (<KLIFSKinase name=P00533>, <Ligand name=COc1cc2c(Nc3ccc(NC(=O)Nc4ccc(Cl)cc4)c(Cl)c3)ncnc2cc1OCCCN1CCN(C)CC1>)>,\n",
       " <ProteinLigandComplex with 2 components (<KLIFSKinase name=P00533>, <Ligand name=CCn1cnc2c(Nc3cccc(Cl)c3)nc(N[C@@H]3CCCC[C@@H]3N)nc21>)>,\n",
       " <ProteinLigandComplex with 2 components (<KLIFSKinase name=P00533>, <Ligand name=CN(C(=O)c1ccc(N(CCCl)CCCl)cc1)c1ccccc1>)>,\n",
       " <ProteinLigandComplex with 2 components (<KLIFSKinase name=P00533>, <Ligand name=CN(C)CCOc1ccc(Nc2ncc3nc(Sc4ccc(F)cc4)n(C4CCOCC4)c3n2)cc1>)>,\n",
       " <ProteinLigandComplex with 2 components (<KLIFSKinase name=P00533>, <Ligand name=C[S+]([O-])CCNCc1ccc(-c2ccc3ncnc(Nc4ccc(OCc5cccc(F)c5)c(Cl)c4)c3c2)o1.Cc1ccc(S(=O)(=O)O)cc1>)>,\n",
       " <ProteinLigandComplex with 2 components (<KLIFSKinase name=P00533>, <Ligand name=O=C(/C=C/c1ccccc1)Cc1cc2c(Nc3cccc(Br)c3)ncnc2cn1>)>,\n",
       " <ProteinLigandComplex with 2 components (<KLIFSKinase name=P00533>, <Ligand name=CC(=O)Nc1ccc2ncnc(Nc3cccc(Br)c3)c2c1>)>,\n",
       " <ProteinLigandComplex with 2 components (<KLIFSKinase name=P00533>, <Ligand name=CS(=O)(=O)CCNC(=O)C1=Cc2c(ncnc2Nc2ccc(Oc3cccc(C(F)(F)F)c3)c(Cl)c2)NCC1>)>,\n",
       " <ProteinLigandComplex with 2 components (<KLIFSKinase name=P00533>, <Ligand name=COc1cc2ncnc(Nc3ccc(F)c(Cl)c3)c2cc1OCCN(CCO)CCO>)>,\n",
       " <ProteinLigandComplex with 2 components (<KLIFSKinase name=P00533>, <Ligand name=C=CC(=O)Nc1cc2c(Nc3cccc(Br)c3)ncnc2cc1OCCCN1CCOCC1>)>,\n",
       " <ProteinLigandComplex with 2 components (<KLIFSKinase name=P00533>, <Ligand name=C=CC(=O)Nc1cccc(Oc2nc(Nc3ccc(N4CCN(CC(=O)NCCCOc5no[n+]([O-])c5S(=O)(=O)c5ccccc5)CC4)cc3OC)ncc2Cl)c1>)>,\n",
       " <ProteinLigandComplex with 2 components (<KLIFSKinase name=P00533>, <Ligand name=Cc1ncnc(Nc2ccc(OCc3cccc(F)c3)c(Cl)c2)c1/C=C/c1ccc(CNCCS(C)(=O)=O)cc1>)>,\n",
       " <ProteinLigandComplex with 2 components (<KLIFSKinase name=P00533>, <Ligand name=Nc1ncnc2c1cnn2-c1ccccc1>)>,\n",
       " <ProteinLigandComplex with 2 components (<KLIFSKinase name=P00533>, <Ligand name=COc1ccc(Nc2ncnc3cc4oc(=O)n(CCCN5CCOCC5)c4cc23)cc1>)>,\n",
       " <ProteinLigandComplex with 2 components (<KLIFSKinase name=P00533>, <Ligand name=COc1cc(/C=C/[N+](=O)[O-])ccc1O>)>,\n",
       " <ProteinLigandComplex with 2 components (<KLIFSKinase name=P00533>, <Ligand name=C=CC(=O)Nc1cccc(N2C(=O)N(Cc3ccccc3)Cc3cnc(Nc4ccc(N5CCN(C)CC5)cc4OC)nc32)c1>)>,\n",
       " <ProteinLigandComplex with 2 components (<KLIFSKinase name=P00533>, <Ligand name=CCCCCCCNC(=O)COc1cc(O)c2c(=O)cc(-c3ccccc3)oc2c1>)>,\n",
       " <ProteinLigandComplex with 2 components (<KLIFSKinase name=P00533>, <Ligand name=C=CC(=O)Nc1cc(Nc2nccc(-c3cn(C)c4ccccc34)n2)c(OC)cc1S(=O)(=O)CCN(C)C>)>,\n",
       " <ProteinLigandComplex with 2 components (<KLIFSKinase name=P00533>, <Ligand name=C=CC(=O)Nc1cccc(N2C(=O)CN(C)C(=O)c3cnc(Nc4ccc(N5CCN(C)CC5)cc4OC)nc32)c1>)>,\n",
       " <ProteinLigandComplex with 2 components (<KLIFSKinase name=P00533>, <Ligand name=Cc1cc(C(=O)N2CCOCC2)[nH]c1/C=C1\\C(=O)Nc2ncnc(Nc3ccc4c(c3)CCC4)c21>)>,\n",
       " <ProteinLigandComplex with 2 components (<KLIFSKinase name=P00533>, <Ligand name=COCCOc1cc2ncnc(Nc3cc(OC)c(OC)c(OC)c3)c2cc1OCCOC>)>,\n",
       " <ProteinLigandComplex with 2 components (<KLIFSKinase name=P00533>, <Ligand name=COc1cc2ncnc(Nc3ccc(Cc4ccccn4)cc3)c2cc1NC(=O)/C=C/CN1CCCC1>)>,\n",
       " <ProteinLigandComplex with 2 components (<KLIFSKinase name=P00533>, <Ligand name=COC1(CCN)CCN(c2nccc(Nc3cc4c(cn3)nc(C)n4C(C)C)n2)CC1>)>,\n",
       " <ProteinLigandComplex with 2 components (<KLIFSKinase name=P00533>, <Ligand name=O=c1c2ccc(Cl)cc2nc(-c2ccccc2)n1-c1nnc(C2CC2)s1>)>,\n",
       " <ProteinLigandComplex with 2 components (<KLIFSKinase name=P00533>, <Ligand name=COc1ccccc1CNc1nc(N)nc2[nH]c3cc(C)c(O)cc3c12>)>,\n",
       " <ProteinLigandComplex with 2 components (<KLIFSKinase name=P00533>, <Ligand name=CN(CCCl)CCN/N=N/c1ccc2ncnc(Nc3cccc(Cl)c3)c2c1>)>,\n",
       " <ProteinLigandComplex with 2 components (<KLIFSKinase name=P00533>, <Ligand name=C[C@H](COc1cccc2ncnc(Nc3ccc(OCc4ccccn4)c(Cl)c3)c12)N(C)C(=O)CO>)>,\n",
       " <ProteinLigandComplex with 2 components (<KLIFSKinase name=P00533>, <Ligand name=Cc1[nH]c2ncnc(Oc3cccc(Cl)c3)c2c1C>)>,\n",
       " <ProteinLigandComplex with 2 components (<KLIFSKinase name=P00533>, <Ligand name=Nc1nc(N)c2c(n1)[nH]c1cccc(Sc3cccc4ccccc34)c12>)>,\n",
       " <ProteinLigandComplex with 2 components (<KLIFSKinase name=P00533>, <Ligand name=CCN1CCN(C(=O)c2cc(C)c(/C=C3\\C(=O)Nc4ncnc(Nc5ccc(F)c(Cl)c5)c43)[nH]2)CC1>)>,\n",
       " <ProteinLigandComplex with 2 components (<KLIFSKinase name=P00533>, <Ligand name=C=CC(=O)Nc1cccc(Nc2nc(Nc3ccc(N4CCN(C(C)=O)CC4)c(OC)c3)ncc2C(F)(F)F)c1>)>,\n",
       " <ProteinLigandComplex with 2 components (<KLIFSKinase name=P00533>, <Ligand name=Cc1ccc(/C=N/NC(=O)N2CCc3ncnc(Nc4cccc(C(F)(F)F)c4)c3C2)cc1>)>,\n",
       " <ProteinLigandComplex with 2 components (<KLIFSKinase name=P00533>, <Ligand name=Cn1c(SSc2c(C(=O)Nc3ccccc3)c3cccnc3n2C)c(C(=O)Nc2ccccc2)c2cccnc21>)>,\n",
       " <ProteinLigandComplex with 2 components (<KLIFSKinase name=P00533>, <Ligand name=CCC(=O)N1CCC[C@@H](n2nc(-c3cn(-c4ccc(C(C)=O)cc4)nn3)c3c(N)ncnc32)C1>)>,\n",
       " <ProteinLigandComplex with 2 components (<KLIFSKinase name=P00533>, <Ligand name=COc1cc2ncnc(Nc3cccc(Cl)c3F)c2cc1CN[C@H](C)C(N)=O>)>,\n",
       " <ProteinLigandComplex with 2 components (<KLIFSKinase name=P00533>, <Ligand name=C/C=C(\\C)C(=O)Nc1cc2c(Nc3ccc(F)c(Cl)c3)ncnc2s1>)>,\n",
       " <ProteinLigandComplex with 2 components (<KLIFSKinase name=P00533>, <Ligand name=COc1cc2c(Nc3c(F)cc(Br)cc3F)ncnc2cc1OCC1CCN(C)CC1>)>,\n",
       " <ProteinLigandComplex with 2 components (<KLIFSKinase name=P00533>, <Ligand name=COc1cc2cnnc(Nc3ccc(Cl)cc3F)c2cc1OC>)>,\n",
       " <ProteinLigandComplex with 2 components (<KLIFSKinase name=P00533>, <Ligand name=NC(=O)c1cnc2ccc(C(=O)/C=C/c3ccc(Cl)cc3)cc2c1Nc1ccc(Br)cc1>)>,\n",
       " <ProteinLigandComplex with 2 components (<KLIFSKinase name=P00533>, <Ligand name=N#C/C(=C\\c1ccc(O)c(O)c1)C(=O)NCCCc1ccccc1>)>,\n",
       " <ProteinLigandComplex with 2 components (<KLIFSKinase name=P00533>, <Ligand name=CCCCOC(=O)Nc1ccc(Nc2ncnc3cc(OC)c(OC)cc23)cc1Cl>)>,\n",
       " <ProteinLigandComplex with 2 components (<KLIFSKinase name=P00533>, <Ligand name=O=C1NCCc2cc(Br)c(O)c(c2)Oc2c(Br)cc(cc2Br)CCNC(=O)/C(=N/O)Cc2cc(Br)c(O)c(c2)Oc2c(Br)cc(cc2Br)C/C1=N\\O>)>,\n",
       " <ProteinLigandComplex with 2 components (<KLIFSKinase name=P00533>, <Ligand name=COc1ccc(-n2c(=O)cnc3cnc(Nc4cccc(N)c4)nc32)cc1>)>,\n",
       " <ProteinLigandComplex with 2 components (<KLIFSKinase name=P00533>, <Ligand name=CCOC(=O)c1cn2ncnc(Nc3ccc(F)c(Cl)c3)c2c1CC>)>,\n",
       " <ProteinLigandComplex with 2 components (<KLIFSKinase name=P00533>, <Ligand name=C#Cc1cccc(Nc2ncnc3cc(OCCOC(=O)CC4=C(C)/C(=C\\c5ccc([S+](C)[O-])cc5)c5ccc(F)cc54)c(OCCOC)cc23)c1>)>,\n",
       " <ProteinLigandComplex with 2 components (<KLIFSKinase name=P00533>, <Ligand name=CCN(CC)CCNC(=O)Nc1cc2c(Nc3ccc(F)c(Cl)c3)ncnc2cc1O[C@H]1CCOC1>)>,\n",
       " <ProteinLigandComplex with 2 components (<KLIFSKinase name=P00533>, <Ligand name=CC(C)(C)C(=O)Nc1nc(Nc2cccc(C(F)(F)F)c2)c2cc(CCc3ccccn3)[nH]c2n1>)>,\n",
       " <ProteinLigandComplex with 2 components (<KLIFSKinase name=P00533>, <Ligand name=O=C1Nc2ccccc2/C1=C/c1cc2c([nH]1)CCC(Br)C2>)>,\n",
       " <ProteinLigandComplex with 2 components (<KLIFSKinase name=P00533>, <Ligand name=C=CC(=O)N1CCC(Oc2nc(Nc3ccc(N4CCOCC4)cc3)nc3[nH]cc(-c4ccnc(NC)c4)c23)CC1>)>,\n",
       " <ProteinLigandComplex with 2 components (<KLIFSKinase name=P00533>, <Ligand name=C=CC(=O)Nc1cccc(N2C(=O)C(Cc3ccc(Cl)cc3)N(C)C(=O)c3cnc(Nc4ccc(N5CCN(C)CC5)cc4OC)nc32)c1>)>,\n",
       " <ProteinLigandComplex with 2 components (<KLIFSKinase name=P00533>, <Ligand name=O=C(/C=C/CN1CCC(F)(F)C1)Nc1cc2c(Nc3ccc(F)c(Cl)c3)ncnc2s1>)>,\n",
       " <ProteinLigandComplex with 2 components (<KLIFSKinase name=P00533>, <Ligand name=COc1cc2c(Oc3ccc4[nH]c(C)cc4c3F)ncnc2cc1OCCCN1CCCC1>)>,\n",
       " <ProteinLigandComplex with 2 components (<KLIFSKinase name=P00533>, <Ligand name=O=C(/C=C/CN1CCCC1)Nc1cc2c(Nc3ccc(Cc4ccccn4)cc3)ncnc2cn1>)>,\n",
       " <ProteinLigandComplex with 2 components (<KLIFSKinase name=P00533>, <Ligand name=C=CC(=O)N1CCC[C@H]1COc1nc(Nc2ccc(N3CCN(C(C)=O)CC3)cc2)nc2[nH]cc(-c3cncc(NC)n3)c12>)>,\n",
       " <ProteinLigandComplex with 2 components (<KLIFSKinase name=P00533>, <Ligand name=CNc1ncc2ncnc(Nc3ccccc3)c2n1>)>,\n",
       " <ProteinLigandComplex with 2 components (<KLIFSKinase name=P00533>, <Ligand name=COc1cc2c(Nc3ccc(NC(=O)c4ccccc4)cc3)ncnc2cc1OCCN1CCCCC1>)>,\n",
       " <ProteinLigandComplex with 2 components (<KLIFSKinase name=P00533>, <Ligand name=CC(C)(C(=O)NCCn1ccc2ncnc(Nc3ccc(Oc4cccc5sncc45)c(Cl)c3)c21)S(C)(=O)=O>)>,\n",
       " <ProteinLigandComplex with 2 components (<KLIFSKinase name=P00533>, <Ligand name=NC(=S)NNc1nncc2ccccc12>)>,\n",
       " <ProteinLigandComplex with 2 components (<KLIFSKinase name=P00533>, <Ligand name=C=CC(=O)Nc1nc2c(Nc3ccc(F)c(Cl)c3)ncnc2cc1OC>)>,\n",
       " <ProteinLigandComplex with 2 components (<KLIFSKinase name=P00533>, <Ligand name=O=C(O)/C=C/C(=O)Nc1cccc(-c2c(-c3ccccc3)oc3ncnc(N[C@H](CO)c4ccccc4)c23)c1>)>,\n",
       " <ProteinLigandComplex with 2 components (<KLIFSKinase name=P00533>, <Ligand name=O=C(/C=C/c1ccc(O)c(O)c1)c1ccc(O[C@@H]2O[C@H](CO)[C@@H](O)[C@H](O)[C@H]2O)c(O)c1O>)>,\n",
       " <ProteinLigandComplex with 2 components (<KLIFSKinase name=P00533>, <Ligand name=CN1CCN(CCC#CC(=O)Nc2cc3c(Nc4ccc(F)c(Cl)c4)ncnc3cn2)CC1>)>,\n",
       " <ProteinLigandComplex with 2 components (<KLIFSKinase name=P00533>, <Ligand name=O=C(/C=C/c1ccccc1)Nc1cc2c(Nc3cccc(Br)c3)ncnc2cn1>)>,\n",
       " <ProteinLigandComplex with 2 components (<KLIFSKinase name=P00533>, <Ligand name=CCC(=O)Nc1cc2c(Nc3ccc(NS(=O)(=O)c4ccccc4)cc3)ncnc2cc1OC>)>,\n",
       " <ProteinLigandComplex with 2 components (<KLIFSKinase name=P00533>, <Ligand name=O=C(NS(=O)(=O)c1ccc(F)cc1)c1cncc(Br)c1>)>,\n",
       " <ProteinLigandComplex with 2 components (<KLIFSKinase name=P00533>, <Ligand name=N#CC(C#N)=Cc1ccc(C#N)cc1>)>,\n",
       " <ProteinLigandComplex with 2 components (<KLIFSKinase name=P00533>, <Ligand name=COc1cccc(/C=C2\\CCC/C(=C\\c3cc(OC)cc(OC)c3)C2=O)c1>)>,\n",
       " <ProteinLigandComplex with 2 components (<KLIFSKinase name=P00533>, <Ligand name=C=CC(=O)N1CC[C@H](N2C(=O)N(c3ccccc3Cl)Cc3cnc(Nc4ccc(N5CCN(C)CC5)c(C)c4)nc32)C1>)>,\n",
       " <ProteinLigandComplex with 2 components (<KLIFSKinase name=P00533>, <Ligand name=COc1cc2c(Nc3ccc(C)cc3F)ncnc2cc1OCC1CCNCC1>)>,\n",
       " <ProteinLigandComplex with 2 components (<KLIFSKinase name=P00533>, <Ligand name=O=C(/C=C/CN1CCCCC1)N1CCOc2cc3ncnc(Nc4ccc(F)c(Cl)c4)c3cc21>)>,\n",
       " <ProteinLigandComplex with 2 components (<KLIFSKinase name=P00533>, <Ligand name=COc1ccc(C2=NN(C3=NC(=O)CS3)C(c3ccc(F)cc3)C2)cc1>)>,\n",
       " <ProteinLigandComplex with 2 components (<KLIFSKinase name=P00533>, <Ligand name=O=[N+]([O-])c1cccc(-c2[nH]nc3ncnc(Nc4cccc(Cl)c4)c23)c1>)>,\n",
       " <ProteinLigandComplex with 2 components (<KLIFSKinase name=P00533>, <Ligand name=COc1ccc(NC(=O)/C=C/CN(C)C)cc1Nc1ncc(Cl)c(-c2cnn3ccccc23)n1>)>,\n",
       " <ProteinLigandComplex with 2 components (<KLIFSKinase name=P00533>, <Ligand name=C=CC(=O)Nc1cc2c(Nc3cccc(Br)c3)ncnc2cc1SCCCN(CC)CC>)>,\n",
       " <ProteinLigandComplex with 2 components (<KLIFSKinase name=P00533>, <Ligand name=CC(C)(O)C(=O)NCCn1ccc2ncnc(Nc3ccc(Oc4cccc5sncc45)c(Cl)c3)c21.CS(=O)(=O)O>)>,\n",
       " <ProteinLigandComplex with 2 components (<KLIFSKinase name=P00533>, <Ligand name=C=CC(=O)Nc1cccc(-n2c(=O)c(-c3ccccc3)c(C)c3cnc(Nc4ccc(N5CCN(C)CC5)cc4OC)nc32)c1>)>,\n",
       " <ProteinLigandComplex with 2 components (<KLIFSKinase name=P00533>, <Ligand name=CCC(=O)N1CC[C@H](N2C(=O)N(c3ccc(C)cc3)Cc3cnc(Nc4ccc(N5CCN(C)CC5)c(C)c4)nc32)C1>)>,\n",
       " <ProteinLigandComplex with 2 components (<KLIFSKinase name=P00533>, <Ligand name=C=CC(=O)N1CC[C@@H](Nc2nc(Nc3cnn(C)c3)nc3[nH]cc(Cl)c23)C1>)>,\n",
       " <ProteinLigandComplex with 2 components (<KLIFSKinase name=P00533>, <Ligand name=COC1CCN(c2nccc(Nc3cc4c(ccn4C(C)C)cn3)n2)CC1>)>,\n",
       " <ProteinLigandComplex with 2 components (<KLIFSKinase name=P00533>, <Ligand name=O=C(CCN1CCOCC1)Nc1ccc2ncnc(Nc3cccc(Br)c3)c2c1>)>,\n",
       " <ProteinLigandComplex with 2 components (<KLIFSKinase name=P00533>, <Ligand name=CN(CC(=O)O)c1c(Br)cccc1Nc1ncnc2ccncc12>)>,\n",
       " <ProteinLigandComplex with 2 components (<KLIFSKinase name=P00533>, <Ligand name=N#CCNCc1ccc(-c2cc3ncnc(Nc4ccc(OCc5cccc(F)c5)c(Cl)c4)c3s2)o1>)>,\n",
       " <ProteinLigandComplex with 2 components (<KLIFSKinase name=P00533>, <Ligand name=COc1cccc(-n2cc(NC(=O)c3ccc(NS(=O)(=O)c4ccccc4)cc3)cn2)c1>)>,\n",
       " <ProteinLigandComplex with 2 components (<KLIFSKinase name=P00533>, <Ligand name=Cn1nc(-c2ccc3cc[nH]c3c2)c2c(N)ncnc21>)>,\n",
       " <ProteinLigandComplex with 2 components (<KLIFSKinase name=P00533>, <Ligand name=Cn1cnc2c(F)c(Nc3ccc(Br)cc3Cl)c(C(=O)NOCCO)cc21>)>,\n",
       " <ProteinLigandComplex with 2 components (<KLIFSKinase name=P00533>, <Ligand name=C=CC(=O)NC1=NC=C2N=CN=C(Nc3cccc(C)c3)C21>)>,\n",
       " <ProteinLigandComplex with 2 components (<KLIFSKinase name=P00533>, <Ligand name=Cc1cc(F)cc(Nc2cc(NC(=O)Nc3c(Cl)cccc3Cl)ncn2)c1>)>,\n",
       " <ProteinLigandComplex with 2 components (<KLIFSKinase name=P00533>, <Ligand name=O=C(NCCCl)Nc1ccc2ncnc(Nc3cccc(Br)c3)c2c1>)>,\n",
       " <ProteinLigandComplex with 2 components (<KLIFSKinase name=P00533>, <Ligand name=COc1cc2ncnc(Nc3ccc(F)c(Cl)c3)c2cc1OCCN1CC2(CSC2)C1>)>,\n",
       " <ProteinLigandComplex with 2 components (<KLIFSKinase name=P00533>, <Ligand name=COc1cc2c(Oc3ccc(NS(=O)(=O)c4cc(F)ccc4F)cc3F)ccnc2cc1OCCCN1CCN(C)CC1>)>,\n",
       " <ProteinLigandComplex with 2 components (<KLIFSKinase name=P00533>, <Ligand name=c1ccc(CNc2ccnc3oc4ccccc4c23)cc1>)>,\n",
       " <ProteinLigandComplex with 2 components (<KLIFSKinase name=P00533>, <Ligand name=Nc1nc(N)c2c(Nc3cccc(Cl)c3)[nH]nc2n1>)>,\n",
       " <ProteinLigandComplex with 2 components (<KLIFSKinase name=P00533>, <Ligand name=CCC(=O)N1CC[C@H](N2C(=O)N(c3ccccc3Cl)Cc3cnc(Nc4ccc(N5CCN(C)CC5)c(C)c4)nc32)C1>)>,\n",
       " <ProteinLigandComplex with 2 components (<KLIFSKinase name=P00533>, <Ligand name=COc1cc2ncc(C#N)c(Nc3cccc(O)c3)c2cc1OC>)>,\n",
       " <ProteinLigandComplex with 2 components (<KLIFSKinase name=P00533>, <Ligand name=Oc1ccccc1-c1nc(NCc2cccnc2)c2ccccc2n1>)>,\n",
       " <ProteinLigandComplex with 2 components (<KLIFSKinase name=P00533>, <Ligand name=NC(=S)N/N=C(/C=C/c1ccc([N+](=O)[O-])cc1)c1ccccc1>)>,\n",
       " <ProteinLigandComplex with 2 components (<KLIFSKinase name=P00533>, <Ligand name=COc1cc2ncnc(Nc3cccc(-c4ccccc4)c3)c2cc1OC>)>,\n",
       " <ProteinLigandComplex with 2 components (<KLIFSKinase name=P00533>, <Ligand name=COCC(=O)Nc1ccc2ncnc(Nc3cccc(Br)c3)c2c1>)>,\n",
       " <ProteinLigandComplex with 2 components (<KLIFSKinase name=P00533>, <Ligand name=C=CC(=O)Nc1cccc(Nc2cc(Nc3cccc(Br)c3)ncn2)c1>)>,\n",
       " <ProteinLigandComplex with 2 components (<KLIFSKinase name=P00533>, <Ligand name=COc1ccc(/C=C/C(=O)Nc2cccc(Oc3cc(Nc4ccc(OCc5cccc(F)c5)c(Cl)c4)ncn3)c2)cc1OC>)>,\n",
       " <ProteinLigandComplex with 2 components (<KLIFSKinase name=P00533>, <Ligand name=Fc1cccc(COc2ccc(Nc3ncnc4cc(-c5ccc[nH]5)sc34)cc2Cl)c1>)>,\n",
       " <ProteinLigandComplex with 2 components (<KLIFSKinase name=P00533>, <Ligand name=OCCc1nc(-c2ccc(F)cc2)c(-c2ccnc3[nH]c(-c4ccccc4)cc23)[nH]1>)>,\n",
       " <ProteinLigandComplex with 2 components (<KLIFSKinase name=P00533>, <Ligand name=C#Cc1cccc(Nc2ncnc3cc(OC)c(OCCCCC(=O)NO)cc23)c1>)>,\n",
       " <ProteinLigandComplex with 2 components (<KLIFSKinase name=P00533>, <Ligand name=C/C(=N\\Nc1ncc(Cl)c(Nc2cccc(NC(=O)/C=C/CN(C)C)c2)n1)c1ccc(F)cc1F>)>,\n",
       " <ProteinLigandComplex with 2 components (<KLIFSKinase name=P00533>, <Ligand name=Fc1cccc(COc2ccc(Nc3cc(Oc4ccccc4)ncn3)cc2Cl)c1>)>,\n",
       " <ProteinLigandComplex with 2 components (<KLIFSKinase name=P00533>, <Ligand name=Cc1ccc(C(=O)Nc2ccc(CN3CCN(C)CC3)c(C(F)(F)F)c2)cc1NC(=O)c1cccnc1>)>,\n",
       " <ProteinLigandComplex with 2 components (<KLIFSKinase name=P00533>, <Ligand name=Brc1cc2c(NCc3ccncc3)ncnc2s1>)>,\n",
       " <ProteinLigandComplex with 2 components (<KLIFSKinase name=P00533>, <Ligand name=CCn1c(-c2nc(-c3cnn(C4CCN(C)CC4)c3)cnc2N)nc2ccccc21>)>,\n",
       " <ProteinLigandComplex with 2 components (<KLIFSKinase name=P00533>, <Ligand name=Nc1nc(Nc2ccc(Cl)cc2F)c2cc(Cc3ccc(Cl)cc3Cl)[nH]c2n1>)>,\n",
       " <ProteinLigandComplex with 2 components (<KLIFSKinase name=P00533>, <Ligand name=O=C1CSC(N/N=C/c2cccc([N+](=O)[O-])c2)=N1>)>,\n",
       " <ProteinLigandComplex with 2 components (<KLIFSKinase name=P00533>, <Ligand name=COc1cc2c(Oc3ccc(NC(=O)c4cn(-c5ccccc5OC)cn4)cc3F)ccnc2cc1OCCCN1CCN(C)CC1>)>,\n",
       " <ProteinLigandComplex with 2 components (<KLIFSKinase name=P00533>, <Ligand name=CNC(=O)c1c([Se][Se]c2c(C(=O)NC)c3ccccc3n2C)n(C)c2ccccc12>)>,\n",
       " <ProteinLigandComplex with 2 components (<KLIFSKinase name=P00533>, <Ligand name=C=CC(=O)N(c1ccc(F)c(C)c1)c1ncnc2cc(OC)c(OCCCN3CCOCC3)cc12>)>,\n",
       " <ProteinLigandComplex with 2 components (<KLIFSKinase name=P00533>, <Ligand name=CCN(CC)CCOc1c(C(=O)OC)c2c3c(oc2c2ccccc12)C(=O)c1ccccc1C3=O>)>,\n",
       " <ProteinLigandComplex with 2 components (<KLIFSKinase name=P00533>, <Ligand name=O=C(NCc1ccccc1)c1c(SSc2[nH]c3ccccc3c2C(=O)NCc2ccccc2)[nH]c2ccccc12>)>,\n",
       " <ProteinLigandComplex with 2 components (<KLIFSKinase name=P00533>, <Ligand name=C=CC(=O)Nc1cccc(NC(=O)Nc2nc(Nc3ccc(N4CCC(N5CCOCC5)CC4)cc3OC)ncc2Cl)c1>)>,\n",
       " <ProteinLigandComplex with 2 components (<KLIFSKinase name=P00533>, <Ligand name=C=CC(=O)Nc1nc2c(Nc3ccc(F)c(Cl)c3)ncnc2cc1CCCCN1CCOCC1>)>,\n",
       " <ProteinLigandComplex with 2 components (<KLIFSKinase name=P00533>, <Ligand name=C=CC(=O)Nc1cccc(Nc2nc(N/N=C(\\C)c3ccc(C)cc3)ncc2Cl)c1>)>,\n",
       " <ProteinLigandComplex with 2 components (<KLIFSKinase name=P00533>, <Ligand name=CC(=O)N1CC[C@H](Nc2nc(Nc3ccc(N4CCN(C)CC4)cc3)c3ncn(C(C)C)c3n2)C1>)>,\n",
       " <ProteinLigandComplex with 2 components (<KLIFSKinase name=P00533>, <Ligand name=N#CC(C#N)=Cc1ccc(O)cc1>)>,\n",
       " <ProteinLigandComplex with 2 components (<KLIFSKinase name=P00533>, <Ligand name=COc1ccc(CCOc2ccc3c(c2)c(CCN)cn3CCCCCc2ccc(SC)cc2)cc1.Cl>)>,\n",
       " <ProteinLigandComplex with 2 components (<KLIFSKinase name=P00533>, <Ligand name=Nc1ccc(-c2cc(=O)c3cc(N)c(O)cc3o2)cc1>)>,\n",
       " <ProteinLigandComplex with 2 components (<KLIFSKinase name=P00533>, <Ligand name=OC[C@@H](Nc1ncnc2sc(-c3ccccc3)cc12)c1ccccc1>)>,\n",
       " <ProteinLigandComplex with 2 components (<KLIFSKinase name=P00533>, <Ligand name=CNc1ccc(N(C)c2ncnc3occ(C)c23)cc1>)>,\n",
       " <ProteinLigandComplex with 2 components (<KLIFSKinase name=P00533>, <Ligand name=CCC(=O)N1CC[C@H](N2C(=O)N(c3cccc(OC)c3Cl)Cc3cnc(Nc4ccc(N5CCN(C)CC5)c(C)c4)nc32)C1>)>,\n",
       " <ProteinLigandComplex with 2 components (<KLIFSKinase name=P00533>, <Ligand name=C=CC(=O)Nc1ccc2c(c1)CNc1c(Nc3cccc(Br)c3)ncnc1O2>)>,\n",
       " <ProteinLigandComplex with 2 components (<KLIFSKinase name=P00533>, <Ligand name=CN(C)C/C=C/C(=O)Nc1ccc(-c2cncc(C#N)c2Nc2ccc(OCc3cccc(F)c3)c(Cl)c2)cc1>)>,\n",
       " <ProteinLigandComplex with 2 components (<KLIFSKinase name=P00533>, <Ligand name=COc1ccc(OC)c(Cc2cc3c(Nc4ccc(Cl)cc4F)nc(N)nc3[nH]2)c1>)>,\n",
       " <ProteinLigandComplex with 2 components (<KLIFSKinase name=P00533>, <Ligand name=C=CC(=O)NCCSc1nc(-c2ccc(F)c(C(F)(F)F)c2)c(-c2ccnc(Nc3ccccc3)c2)[nH]1>)>,\n",
       " <ProteinLigandComplex with 2 components (<KLIFSKinase name=P00533>, <Ligand name=CCOC(=O)CCCC(=O)Nc1cc(Nc2cccc(Cl)c2)ncn1>)>,\n",
       " <ProteinLigandComplex with 2 components (<KLIFSKinase name=P00533>, <Ligand name=CC[C@@H]1C(=O)N(C)c2cnc(Nc3ccc(C(=O)NC4CCN(C)CC4)cc3OC)nc2N1C1CCCC1>)>,\n",
       " <ProteinLigandComplex with 2 components (<KLIFSKinase name=P00533>, <Ligand name=COC1CCN(c2nccc(Nc3cc4c(C(C)C)n[nH]c4cn3)n2)CC1>)>,\n",
       " <ProteinLigandComplex with 2 components (<KLIFSKinase name=P00533>, <Ligand name=COc1cc2ncc(C#N)c(Nc3cccc(Br)c3C)c2cc1OC>)>,\n",
       " <ProteinLigandComplex with 2 components (<KLIFSKinase name=P00533>, <Ligand name=CC(C)(C)NC(=O)c1ccc(S(=O)(=O)Oc2ccc(/C=C/[N+](=O)[O-])cc2)cc1>)>,\n",
       " <ProteinLigandComplex with 2 components (<KLIFSKinase name=P00533>, <Ligand name=C=CC(=O)Nc1cc(Nc2ncc(Cl)c(-c3cnn4ccccc34)n2)c(OC)cc1N1CCN(C(=O)[C@H](C)O)CC1>)>,\n",
       " <ProteinLigandComplex with 2 components (<KLIFSKinase name=P00533>, <Ligand name=O=C(NCc1ccccc1)c1cc2cc(O)c(O)cc2cn1>)>,\n",
       " <ProteinLigandComplex with 2 components (<KLIFSKinase name=P00533>, <Ligand name=COc1cc(-c2nn(C(C)C)c3ncnc(N)c23)ccc1NC(C)CO>)>,\n",
       " <ProteinLigandComplex with 2 components (<KLIFSKinase name=P00533>, <Ligand name=Nc1nc(Nc2cccc(Br)c2)c2cc(CCc3ccccc3Cl)[nH]c2n1>)>,\n",
       " <ProteinLigandComplex with 2 components (<KLIFSKinase name=P00533>, <Ligand name=CNc1cc2c(Nc3ccccc3)ncnc2cn1>)>,\n",
       " <ProteinLigandComplex with 2 components (<KLIFSKinase name=P00533>, <Ligand name=CCOc1cc2ncnc(Nc3ccc(F)c(Cl)c3)c2cc1NC(=O)CO>)>,\n",
       " <ProteinLigandComplex with 2 components (<KLIFSKinase name=P00533>, <Ligand name=CCCCC#CC(=O)Nc1cc2c(Nc3ccc(F)c(Cl)c3)ncnc2cn1>)>,\n",
       " <ProteinLigandComplex with 2 components (<KLIFSKinase name=P00533>, <Ligand name=COc1ccc(NC(=O)/C=C/c2ccccc2)cc1>)>,\n",
       " <ProteinLigandComplex with 2 components (<KLIFSKinase name=P00533>, <Ligand name=COc1cc2c(Nc3ccc(C#N)cc3)ncnc2cc1OCCCN1CCC(c2ccccc2)CC1>)>,\n",
       " <ProteinLigandComplex with 2 components (<KLIFSKinase name=P00533>, <Ligand name=Fc1cccc(COc2ccc(Nc3ncnc4sc(C#CC5CCCN5)cc34)cc2Cl)c1>)>,\n",
       " <ProteinLigandComplex with 2 components (<KLIFSKinase name=P00533>, <Ligand name=Cn1c(SSc2c(C(=O)NCC(O)CO)c3ccccc3n2C)c(C(=O)NCC(O)CO)c2ccccc21>)>,\n",
       " <ProteinLigandComplex with 2 components (<KLIFSKinase name=P00533>, <Ligand name=C=CC(=O)Nc1cccc(Nc2nc(Nc3ccc(OCCN4CCOCC4)cc3)ncc2Cl)c1>)>,\n",
       " <ProteinLigandComplex with 2 components (<KLIFSKinase name=P00533>, <Ligand name=Cn1c(SSc2c(C(=O)Nc3ccccc3)c3cc(Br)ccc3n2C)c(C(=O)Nc2ccccc2)c2cc(Br)ccc21>)>,\n",
       " <ProteinLigandComplex with 2 components (<KLIFSKinase name=P00533>, <Ligand name=CN1CCN(CCCNc2cc3ncnc(Nc4cccc(Br)c4)c3cn2)CC1>)>,\n",
       " <ProteinLigandComplex with 2 components (<KLIFSKinase name=P00533>, <Ligand name=COc1cc(Br)c(/C=C2\\CC(C)CC(=C\\c3nc(C)c(C)nc3C)/C2=N/O)cc1OC>)>,\n",
       " <ProteinLigandComplex with 2 components (<KLIFSKinase name=P00533>, <Ligand name=NS(=O)(=O)c1ccc(Nc2nc(N3CCOCC3)nc3[nH]cnc23)cc1>)>,\n",
       " <ProteinLigandComplex with 2 components (<KLIFSKinase name=P00533>, <Ligand name=COc1cc2c(Nc3ccc(NC(=O)c4cccc(Cl)c4)cc3)ncnc2cc1OCCN1CCCCC1>)>,\n",
       " <ProteinLigandComplex with 2 components (<KLIFSKinase name=P00533>, <Ligand name=O=C(CCl)OCCn1c(=O)oc2cc3ncnc(Nc4ccc(Oc5cccc(C(F)(F)F)c5)c(Cl)c4)c3cc21>)>,\n",
       " <ProteinLigandComplex with 2 components (<KLIFSKinase name=P00533>, <Ligand name=CCOc1cc2ncnc(Nc3cccc(-c4nccs4)c3)c2cc1OCC>)>,\n",
       " <ProteinLigandComplex with 2 components (<KLIFSKinase name=P00533>, <Ligand name=C[C@@H](NC(=O)c1ccc(S(=O)(=O)Oc2ccc(/C=C/[N+](=O)[O-])cc2)cc1)C(=O)N[C@H](C)C(=O)OC(C)(C)C>)>,\n",
       " <ProteinLigandComplex with 2 components (<KLIFSKinase name=P00533>, <Ligand name=C=CC(=O)Nc1ccc(Oc2nc(Nc3ccc(N4CCN(C)CC4)cc3OC)ncc2Cl)cc1>)>,\n",
       " <ProteinLigandComplex with 2 components (<KLIFSKinase name=P00533>, <Ligand name=CC(C)n1nc(-c2cc(F)c(C=O)c(F)c2)c2c(N)ncnc21>)>,\n",
       " <ProteinLigandComplex with 2 components (<KLIFSKinase name=P00533>, <Ligand name=COc1ccccc1C(=Cc1coc2nc(=N)[nH]c(N)c12)C(C)C>)>,\n",
       " <ProteinLigandComplex with 2 components (<KLIFSKinase name=P00533>, <Ligand name=COc1cc(-n2cc(CN3C[C@H](C)N[C@H](C)C3)nn2)ccc1Nc1ncc(Cl)c(Nc2ccccc2S(=O)(=O)C(C)C)n1>)>,\n",
       " <ProteinLigandComplex with 2 components (<KLIFSKinase name=P00533>, <Ligand name=Cc1oc2ncnc(Nc3ccc(OCc4cccc(F)c4)c(Cl)c3)c2c1C(=O)O>)>,\n",
       " <ProteinLigandComplex with 2 components (<KLIFSKinase name=P00533>, <Ligand name=CN1CCN(CCC(=O)Nc2ccc3c(C#N)cnc(Nc4cccc(Br)c4)c3c2)CC1>)>,\n",
       " <ProteinLigandComplex with 2 components (<KLIFSKinase name=P00533>, <Ligand name=C=CC(=O)Nc1cccc(Oc2nc(Nc3ccc(N4CCN(C(=O)CC)CC4)cc3OC)ncc2SC)c1>)>,\n",
       " <ProteinLigandComplex with 2 components (<KLIFSKinase name=P00533>, <Ligand name=CCCCCCNC(=O)COc1cc(O)c2c(=O)cc(-c3ccccc3)oc2c1>)>,\n",
       " <ProteinLigandComplex with 2 components (<KLIFSKinase name=P00533>, <Ligand name=Cl.O=C(CCN1CCCCC1)c1ccc(OCc2ccccc2)cc1>)>,\n",
       " <ProteinLigandComplex with 2 components (<KLIFSKinase name=P00533>, <Ligand name=CC(C)n1nc(-c2cc(O)cc(F)c2)c2c(N)ncnc21>)>,\n",
       " <ProteinLigandComplex with 2 components (<KLIFSKinase name=P00533>, <Ligand name=CCOc1cc2ncc(C#N)c(Nc3ccc(F)c(Cl)c3)c2cc1NC(=O)CCN1CCOCC1>)>]"
      ]
     },
     "execution_count": 11,
     "metadata": {},
     "output_type": "execute_result"
    },
    {
     "name": "stderr",
     "output_type": "stream",
     "text": [
      "Warning (not error because allow_undefined_stereo=True): OEMol has unspecified stereochemistry. oemol.GetTitle(): \n",
      "Problematic atoms are:\n",
      "Atom atomic num: 6, name: , idx: 25, aromatic: False, chiral: True with bonds:\n",
      "bond order: 1, chiral: False to atom atomic num: 7, name: , idx: 24, aromatic: False, chiral: False\n",
      "bond order: 1, chiral: False to atom atomic num: 6, name: , idx: 3, aromatic: False, chiral: False\n",
      "bond order: 1, chiral: False to atom atomic num: 7, name: , idx: 26, aromatic: False, chiral: False\n",
      "bond order: 1, chiral: False to atom atomic num: 1, name: , idx: 57, aromatic: False, chiral: False\n",
      "\n"
     ]
    },
    {
     "name": "stderr",
     "output_type": "stream",
     "text": [
      "Warning (not error because allow_undefined_stereo=True): OEMol has unspecified stereochemistry. oemol.GetTitle(): \n",
      "Problematic atoms are:\n",
      "Atom atomic num: 6, name: , idx: 20, aromatic: False, chiral: True with bonds:\n",
      "bond order: 1, chiral: False to atom atomic num: 7, name: , idx: 8, aromatic: False, chiral: False\n",
      "bond order: 1, chiral: False to atom atomic num: 6, name: , idx: 21, aromatic: True, chiral: False\n",
      "bond order: 1, chiral: False to atom atomic num: 6, name: , idx: 28, aromatic: False, chiral: False\n",
      "bond order: 1, chiral: False to atom atomic num: 1, name: , idx: 42, aromatic: False, chiral: False\n",
      "\n"
     ]
    },
    {
     "name": "stderr",
     "output_type": "stream",
     "text": [
      "Warning (not error because allow_undefined_stereo=True): OEMol has unspecified stereochemistry. oemol.GetTitle(): \n",
      "Problematic atoms are:\n",
      "Atom atomic num: 6, name: , idx: 16, aromatic: False, chiral: True with bonds:\n",
      "bond order: 1, chiral: False to atom atomic num: 6, name: , idx: 15, aromatic: False, chiral: False\n",
      "bond order: 1, chiral: False to atom atomic num: 7, name: , idx: 5, aromatic: False, chiral: False\n",
      "bond order: 1, chiral: False to atom atomic num: 6, name: , idx: 17, aromatic: True, chiral: False\n",
      "bond order: 1, chiral: False to atom atomic num: 1, name: , idx: 33, aromatic: False, chiral: False\n",
      "\n"
     ]
    },
    {
     "name": "stderr",
     "output_type": "stream",
     "text": [
      "Warning (not error because allow_undefined_stereo=True): OEMol has unspecified stereochemistry. oemol.GetTitle(): \n",
      "Problematic atoms are:\n",
      "Atom atomic num: 6, name: , idx: 16, aromatic: False, chiral: True with bonds:\n",
      "bond order: 1, chiral: False to atom atomic num: 6, name: , idx: 15, aromatic: False, chiral: False\n",
      "bond order: 1, chiral: False to atom atomic num: 7, name: , idx: 5, aromatic: False, chiral: False\n",
      "bond order: 1, chiral: False to atom atomic num: 6, name: , idx: 17, aromatic: True, chiral: False\n",
      "bond order: 1, chiral: False to atom atomic num: 1, name: , idx: 32, aromatic: False, chiral: False\n",
      "\n"
     ]
    },
    {
     "name": "stderr",
     "output_type": "stream",
     "text": [
      "Warning (not error because allow_undefined_stereo=True): OEMol has unspecified stereochemistry. oemol.GetTitle(): \n",
      "Problematic atoms are:\n",
      "Atom atomic num: 7, name: , idx: 25, aromatic: False, chiral: True with bonds:\n",
      "bond order: 1, chiral: False to atom atomic num: 6, name: , idx: 24, aromatic: False, chiral: False\n",
      "bond order: 1, chiral: False to atom atomic num: 6, name: , idx: 26, aromatic: False, chiral: False\n",
      "bond order: 1, chiral: False to atom atomic num: 6, name: , idx: 27, aromatic: False, chiral: False\n",
      "\n"
     ]
    },
    {
     "name": "stderr",
     "output_type": "stream",
     "text": [
      "Warning (not error because allow_undefined_stereo=True): OEMol has unspecified stereochemistry. oemol.GetTitle(): \n",
      "Problematic atoms are:\n",
      "Atom atomic num: 6, name: , idx: 3, aromatic: False, chiral: True with bonds:\n",
      "bond order: 1, chiral: False to atom atomic num: 6, name: , idx: 2, aromatic: False, chiral: False\n",
      "bond order: 1, chiral: False to atom atomic num: 7, name: , idx: 7, aromatic: False, chiral: True\n",
      "bond order: 1, chiral: False to atom atomic num: 6, name: , idx: 4, aromatic: False, chiral: False\n",
      "bond order: 1, chiral: False to atom atomic num: 1, name: , idx: 39, aromatic: False, chiral: False\n",
      "Atom atomic num: 7, name: , idx: 7, aromatic: False, chiral: True with bonds:\n",
      "bond order: 1, chiral: False to atom atomic num: 6, name: , idx: 6, aromatic: False, chiral: False\n",
      "bond order: 1, chiral: False to atom atomic num: 6, name: , idx: 3, aromatic: False, chiral: True\n",
      "bond order: 1, chiral: False to atom atomic num: 6, name: , idx: 8, aromatic: False, chiral: False\n",
      "\n"
     ]
    },
    {
     "name": "stderr",
     "output_type": "stream",
     "text": [
      "Warning (not error because allow_undefined_stereo=True): OEMol has unspecified stereochemistry. oemol.GetTitle(): \n",
      "Problematic atoms are:\n",
      "Atom atomic num: 6, name: , idx: 52, aromatic: False, chiral: True with bonds:\n",
      "bond order: 1, chiral: False to atom atomic num: 7, name: , idx: 51, aromatic: False, chiral: False\n",
      "bond order: 1, chiral: False to atom atomic num: 6, name: , idx: 59, aromatic: False, chiral: False\n",
      "bond order: 1, chiral: False to atom atomic num: 6, name: , idx: 53, aromatic: False, chiral: False\n",
      "bond order: 1, chiral: False to atom atomic num: 1, name: , idx: 109, aromatic: False, chiral: False\n",
      "\n"
     ]
    },
    {
     "name": "stderr",
     "output_type": "stream",
     "text": [
      "Warning (not error because allow_undefined_stereo=True): OEMol has unspecified stereochemistry. oemol.GetTitle(): \n",
      "Problematic atoms are:\n",
      "Atom atomic num: 7, name: , idx: 6, aromatic: False, chiral: True with bonds:\n",
      "bond order: 1, chiral: False to atom atomic num: 6, name: , idx: 5, aromatic: False, chiral: False\n",
      "bond order: 1, chiral: False to atom atomic num: 6, name: , idx: 7, aromatic: False, chiral: False\n",
      "bond order: 1, chiral: False to atom atomic num: 6, name: , idx: 8, aromatic: False, chiral: False\n",
      "\n"
     ]
    },
    {
     "name": "stderr",
     "output_type": "stream",
     "text": [
      "Warning (not error because allow_undefined_stereo=True): OEMol has unspecified stereochemistry. oemol.GetTitle(): \n",
      "Problematic atoms are:\n",
      "Atom atomic num: 6, name: , idx: 5, aromatic: False, chiral: True with bonds:\n",
      "bond order: 1, chiral: False to atom atomic num: 6, name: , idx: 4, aromatic: True, chiral: False\n",
      "bond order: 1, chiral: False to atom atomic num: 7, name: , idx: 17, aromatic: False, chiral: False\n",
      "bond order: 1, chiral: False to atom atomic num: 6, name: , idx: 6, aromatic: False, chiral: False\n",
      "bond order: 1, chiral: False to atom atomic num: 1, name: , idx: 28, aromatic: False, chiral: False\n",
      "\n"
     ]
    },
    {
     "name": "stderr",
     "output_type": "stream",
     "text": [
      "Warning (not error because allow_undefined_stereo=True): OEMol has unspecified stereochemistry. oemol.GetTitle(): \n",
      "Problematic atoms are:\n",
      "Atom atomic num: 7, name: , idx: 33, aromatic: False, chiral: True with bonds:\n",
      "bond order: 1, chiral: False to atom atomic num: 6, name: , idx: 32, aromatic: True, chiral: False\n",
      "bond order: 1, chiral: False to atom atomic num: 6, name: , idx: 2, aromatic: False, chiral: True\n",
      "bond order: 1, chiral: False to atom atomic num: 6, name: , idx: 34, aromatic: False, chiral: False\n",
      "\n"
     ]
    },
    {
     "name": "stderr",
     "output_type": "stream",
     "text": [
      "Warning (not error because allow_undefined_stereo=True): OEMol has unspecified stereochemistry. oemol.GetTitle(): \n",
      "Problematic atoms are:\n",
      "Atom atomic num: 6, name: , idx: 21, aromatic: False, chiral: True with bonds:\n",
      "bond order: 1, chiral: False to atom atomic num: 6, name: , idx: 12, aromatic: False, chiral: False\n",
      "bond order: 1, chiral: False to atom atomic num: 6, name: , idx: 8, aromatic: False, chiral: False\n",
      "bond order: 1, chiral: False to atom atomic num: 6, name: , idx: 5, aromatic: False, chiral: False\n",
      "bond order: 1, chiral: False to atom atomic num: 1, name: , idx: 36, aromatic: False, chiral: False\n",
      "\n"
     ]
    },
    {
     "name": "stderr",
     "output_type": "stream",
     "text": [
      "Warning (not error because allow_undefined_stereo=True): OEMol has unspecified stereochemistry. oemol.GetTitle(): \n",
      "Problematic atoms are:\n",
      "Atom atomic num: 6, name: , idx: 11, aromatic: False, chiral: True with bonds:\n",
      "bond order: 1, chiral: False to atom atomic num: 7, name: , idx: 7, aromatic: False, chiral: False\n",
      "bond order: 1, chiral: False to atom atomic num: 6, name: , idx: 12, aromatic: True, chiral: False\n",
      "bond order: 1, chiral: False to atom atomic num: 6, name: , idx: 22, aromatic: False, chiral: False\n",
      "bond order: 1, chiral: False to atom atomic num: 1, name: , idx: 32, aromatic: False, chiral: False\n",
      "\n"
     ]
    },
    {
     "name": "stderr",
     "output_type": "stream",
     "text": [
      "Warning (not error because allow_undefined_stereo=True): OEMol has unspecified stereochemistry. oemol.GetTitle(): \n",
      "Problematic atoms are:\n",
      "Atom atomic num: 7, name: , idx: 32, aromatic: False, chiral: True with bonds:\n",
      "bond order: 1, chiral: False to atom atomic num: 6, name: , idx: 31, aromatic: True, chiral: False\n",
      "bond order: 1, chiral: False to atom atomic num: 6, name: , idx: 33, aromatic: False, chiral: False\n",
      "bond order: 1, chiral: False to atom atomic num: 6, name: , idx: 34, aromatic: False, chiral: False\n",
      "\n"
     ]
    },
    {
     "name": "stderr",
     "output_type": "stream",
     "text": [
      "Warning (not error because allow_undefined_stereo=True): OEMol has unspecified stereochemistry. oemol.GetTitle(): \n",
      "Problematic atoms are:\n",
      "Atom atomic num: 6, name: , idx: 13, aromatic: False, chiral: True with bonds:\n",
      "bond order: 1, chiral: False to atom atomic num: 6, name: , idx: 11, aromatic: False, chiral: False\n",
      "bond order: 1, chiral: False to atom atomic num: 6, name: , idx: 14, aromatic: False, chiral: False\n",
      "bond order: 1, chiral: False to atom atomic num: 7, name: , idx: 15, aromatic: False, chiral: False\n",
      "bond order: 1, chiral: False to atom atomic num: 1, name: , idx: 49, aromatic: False, chiral: False\n",
      "\n"
     ]
    },
    {
     "name": "stderr",
     "output_type": "stream",
     "text": [
      "Warning (not error because allow_undefined_stereo=True): OEMol has unspecified stereochemistry. oemol.GetTitle(): \n",
      "Problematic atoms are:\n",
      "Atom atomic num: 7, name: , idx: 32, aromatic: False, chiral: True with bonds:\n",
      "bond order: 1, chiral: False to atom atomic num: 6, name: , idx: 31, aromatic: True, chiral: False\n",
      "bond order: 1, chiral: False to atom atomic num: 6, name: , idx: 33, aromatic: False, chiral: False\n",
      "bond order: 1, chiral: False to atom atomic num: 6, name: , idx: 34, aromatic: False, chiral: False\n",
      "\n"
     ]
    },
    {
     "name": "stderr",
     "output_type": "stream",
     "text": [
      "Warning (not error because allow_undefined_stereo=True): OEMol has unspecified stereochemistry. oemol.GetTitle(): \n",
      "Problematic atoms are:\n",
      "Atom atomic num: 6, name: , idx: 16, aromatic: False, chiral: True with bonds:\n",
      "bond order: 1, chiral: False to atom atomic num: 7, name: , idx: 15, aromatic: False, chiral: False\n",
      "bond order: 1, chiral: False to atom atomic num: 6, name: , idx: 17, aromatic: False, chiral: False\n",
      "bond order: 1, chiral: False to atom atomic num: 6, name: , idx: 19, aromatic: False, chiral: False\n",
      "bond order: 1, chiral: False to atom atomic num: 1, name: , idx: 36, aromatic: False, chiral: False\n",
      "\n"
     ]
    },
    {
     "name": "stderr",
     "output_type": "stream",
     "text": [
      "Warning (not error because allow_undefined_stereo=True): OEMol has unspecified stereochemistry. oemol.GetTitle(): \n",
      "Problematic atoms are:\n",
      "Atom atomic num: 7, name: , idx: 32, aromatic: False, chiral: True with bonds:\n",
      "bond order: 1, chiral: False to atom atomic num: 6, name: , idx: 31, aromatic: True, chiral: False\n",
      "bond order: 1, chiral: False to atom atomic num: 6, name: , idx: 33, aromatic: False, chiral: False\n",
      "bond order: 1, chiral: False to atom atomic num: 6, name: , idx: 34, aromatic: False, chiral: False\n",
      "\n"
     ]
    },
    {
     "name": "stderr",
     "output_type": "stream",
     "text": [
      "Warning (not error because allow_undefined_stereo=True): OEMol has unspecified stereochemistry. oemol.GetTitle(): \n",
      "Problematic atoms are:\n",
      "Atom atomic num: 6, name: , idx: 19, aromatic: False, chiral: True with bonds:\n",
      "bond order: 1, chiral: False to atom atomic num: 6, name: , idx: 13, aromatic: False, chiral: False\n",
      "bond order: 1, chiral: False to atom atomic num: 6, name: , idx: 2, aromatic: False, chiral: False\n",
      "bond order: 1, chiral: False to atom atomic num: 6, name: , idx: 20, aromatic: False, chiral: False\n",
      "bond order: 1, chiral: False to atom atomic num: 1, name: , idx: 46, aromatic: False, chiral: False\n",
      "\n"
     ]
    },
    {
     "name": "stderr",
     "output_type": "stream",
     "text": [
      "Warning (not error because allow_undefined_stereo=True): OEMol has unspecified stereochemistry. oemol.GetTitle(): \n",
      "Problematic atoms are:\n",
      "Atom atomic num: 6, name: , idx: 14, aromatic: False, chiral: True with bonds:\n",
      "bond order: 1, chiral: False to atom atomic num: 6, name: , idx: 12, aromatic: False, chiral: False\n",
      "bond order: 1, chiral: False to atom atomic num: 6, name: , idx: 15, aromatic: True, chiral: False\n",
      "bond order: 1, chiral: False to atom atomic num: 7, name: , idx: 21, aromatic: False, chiral: False\n",
      "bond order: 1, chiral: False to atom atomic num: 1, name: , idx: 57, aromatic: False, chiral: False\n",
      "\n"
     ]
    },
    {
     "name": "stderr",
     "output_type": "stream",
     "text": [
      "Warning (not error because allow_undefined_stereo=True): OEMol has unspecified stereochemistry. oemol.GetTitle(): \n",
      "Problematic atoms are:\n",
      "Atom atomic num: 6, name: , idx: 10, aromatic: False, chiral: True with bonds:\n",
      "bond order: 1, chiral: False to atom atomic num: 7, name: , idx: 9, aromatic: False, chiral: False\n",
      "bond order: 1, chiral: False to atom atomic num: 6, name: , idx: 12, aromatic: False, chiral: True\n",
      "bond order: 1, chiral: False to atom atomic num: 6, name: , idx: 11, aromatic: False, chiral: False\n",
      "bond order: 1, chiral: False to atom atomic num: 1, name: , idx: 30, aromatic: False, chiral: False\n",
      "Atom atomic num: 6, name: , idx: 12, aromatic: False, chiral: True with bonds:\n",
      "bond order: 1, chiral: False to atom atomic num: 6, name: , idx: 11, aromatic: False, chiral: False\n",
      "bond order: 1, chiral: False to atom atomic num: 6, name: , idx: 10, aromatic: False, chiral: True\n",
      "bond order: 1, chiral: False to atom atomic num: 6, name: , idx: 13, aromatic: True, chiral: False\n",
      "bond order: 1, chiral: False to atom atomic num: 1, name: , idx: 33, aromatic: False, chiral: False\n",
      "\n"
     ]
    },
    {
     "name": "stderr",
     "output_type": "stream",
     "text": [
      "Warning (not error because allow_undefined_stereo=True): OEMol has unspecified stereochemistry. oemol.GetTitle(): \n",
      "Problematic atoms are:\n",
      "Atom atomic num: 6, name: , idx: 7, aromatic: False, chiral: True with bonds:\n",
      "bond order: 1, chiral: False to atom atomic num: 7, name: , idx: 6, aromatic: False, chiral: False\n",
      "bond order: 1, chiral: False to atom atomic num: 6, name: , idx: 8, aromatic: False, chiral: False\n",
      "bond order: 1, chiral: False to atom atomic num: 6, name: , idx: 13, aromatic: False, chiral: False\n",
      "bond order: 1, chiral: False to atom atomic num: 1, name: , idx: 53, aromatic: False, chiral: False\n",
      "\n"
     ]
    },
    {
     "name": "stderr",
     "output_type": "stream",
     "text": [
      "Warning (not error because allow_undefined_stereo=True): OEMol has unspecified stereochemistry. oemol.GetTitle(): \n",
      "Problematic atoms are:\n",
      "Atom atomic num: 6, name: , idx: 22, aromatic: False, chiral: True with bonds:\n",
      "bond order: 1, chiral: False to atom atomic num: 6, name: , idx: 16, aromatic: False, chiral: False\n",
      "bond order: 1, chiral: False to atom atomic num: 6, name: , idx: 5, aromatic: False, chiral: False\n",
      "bond order: 1, chiral: False to atom atomic num: 6, name: , idx: 23, aromatic: False, chiral: False\n",
      "bond order: 1, chiral: False to atom atomic num: 1, name: , idx: 53, aromatic: False, chiral: False\n",
      "\n"
     ]
    },
    {
     "name": "stderr",
     "output_type": "stream",
     "text": [
      "Warning (not error because allow_undefined_stereo=True): OEMol has unspecified stereochemistry. oemol.GetTitle(): \n",
      "Problematic atoms are:\n",
      "Atom atomic num: 6, name: , idx: 8, aromatic: False, chiral: True with bonds:\n",
      "bond order: 1, chiral: False to atom atomic num: 6, name: , idx: 1, aromatic: False, chiral: False\n",
      "bond order: 1, chiral: False to atom atomic num: 6, name: , idx: 9, aromatic: True, chiral: False\n",
      "bond order: 1, chiral: False to atom atomic num: 7, name: , idx: 15, aromatic: False, chiral: False\n",
      "bond order: 1, chiral: False to atom atomic num: 1, name: , idx: 28, aromatic: False, chiral: False\n",
      "\n"
     ]
    },
    {
     "name": "stderr",
     "output_type": "stream",
     "text": [
      "Warning (not error because allow_undefined_stereo=True): OEMol has unspecified stereochemistry. oemol.GetTitle(): \n",
      "Problematic atoms are:\n",
      "Atom atomic num: 7, name: , idx: 6, aromatic: False, chiral: True with bonds:\n",
      "bond order: 1, chiral: False to atom atomic num: 6, name: , idx: 5, aromatic: False, chiral: False\n",
      "bond order: 1, chiral: False to atom atomic num: 6, name: , idx: 7, aromatic: True, chiral: False\n",
      "bond order: 1, chiral: False to atom atomic num: 6, name: , idx: 27, aromatic: False, chiral: False\n",
      "\n"
     ]
    },
    {
     "name": "stderr",
     "output_type": "stream",
     "text": [
      "Warning (not error because allow_undefined_stereo=True): OEMol has unspecified stereochemistry. oemol.GetTitle(): \n",
      "Problematic atoms are:\n",
      "Atom atomic num: 6, name: , idx: 2, aromatic: False, chiral: True with bonds:\n",
      "bond order: 1, chiral: False to atom atomic num: 7, name: , idx: 1, aromatic: False, chiral: False\n",
      "bond order: 1, chiral: False to atom atomic num: 6, name: , idx: 33, aromatic: False, chiral: False\n",
      "bond order: 1, chiral: False to atom atomic num: 6, name: , idx: 3, aromatic: False, chiral: False\n",
      "bond order: 1, chiral: False to atom atomic num: 1, name: , idx: 37, aromatic: False, chiral: False\n",
      "\n"
     ]
    },
    {
     "name": "stderr",
     "output_type": "stream",
     "text": [
      "Warning (not error because allow_undefined_stereo=True): OEMol has unspecified stereochemistry. oemol.GetTitle(): \n",
      "Problematic atoms are:\n",
      "Atom atomic num: 6, name: , idx: 25, aromatic: False, chiral: True with bonds:\n",
      "bond order: 1, chiral: False to atom atomic num: 7, name: , idx: 24, aromatic: False, chiral: False\n",
      "bond order: 1, chiral: False to atom atomic num: 6, name: , idx: 3, aromatic: False, chiral: False\n",
      "bond order: 1, chiral: False to atom atomic num: 7, name: , idx: 26, aromatic: False, chiral: False\n",
      "bond order: 1, chiral: False to atom atomic num: 1, name: , idx: 57, aromatic: False, chiral: False\n",
      "Atom atomic num: 6, name: , idx: 33, aromatic: False, chiral: True with bonds:\n",
      "bond order: 1, chiral: False to atom atomic num: 6, name: , idx: 32, aromatic: False, chiral: False\n",
      "bond order: 1, chiral: False to atom atomic num: 7, name: , idx: 38, aromatic: False, chiral: False\n",
      "bond order: 1, chiral: False to atom atomic num: 6, name: , idx: 34, aromatic: False, chiral: False\n",
      "bond order: 1, chiral: False to atom atomic num: 1, name: , idx: 61, aromatic: False, chiral: False\n",
      "\n"
     ]
    },
    {
     "name": "stderr",
     "output_type": "stream",
     "text": [
      "Warning (not error because allow_undefined_stereo=True): OEMol has unspecified stereochemistry. oemol.GetTitle(): \n",
      "Problematic atoms are:\n",
      "Atom atomic num: 7, name: , idx: 1, aromatic: False, chiral: True with bonds:\n",
      "bond order: 1, chiral: False to atom atomic num: 6, name: , idx: 0, aromatic: False, chiral: False\n",
      "bond order: 1, chiral: False to atom atomic num: 6, name: , idx: 2, aromatic: False, chiral: False\n",
      "bond order: 1, chiral: False to atom atomic num: 6, name: , idx: 6, aromatic: True, chiral: False\n",
      "\n"
     ]
    },
    {
     "name": "stderr",
     "output_type": "stream",
     "text": [
      "Warning (not error because allow_undefined_stereo=True): OEMol has unspecified stereochemistry. oemol.GetTitle(): \n",
      "Problematic atoms are:\n",
      "Atom atomic num: 6, name: , idx: 25, aromatic: False, chiral: True with bonds:\n",
      "bond order: 1, chiral: False to atom atomic num: 7, name: , idx: 24, aromatic: False, chiral: False\n",
      "bond order: 1, chiral: False to atom atomic num: 6, name: , idx: 3, aromatic: False, chiral: False\n",
      "bond order: 1, chiral: False to atom atomic num: 7, name: , idx: 26, aromatic: False, chiral: False\n",
      "bond order: 1, chiral: False to atom atomic num: 1, name: , idx: 59, aromatic: False, chiral: False\n",
      "\n"
     ]
    },
    {
     "name": "stderr",
     "output_type": "stream",
     "text": [
      "Warning (not error because allow_undefined_stereo=True): OEMol has unspecified stereochemistry. oemol.GetTitle(): \n",
      "Problematic atoms are:\n",
      "Atom atomic num: 6, name: , idx: 10, aromatic: False, chiral: True with bonds:\n",
      "bond order: 1, chiral: False to atom atomic num: 6, name: , idx: 9, aromatic: False, chiral: False\n",
      "bond order: 1, chiral: False to atom atomic num: 6, name: , idx: 24, aromatic: False, chiral: False\n",
      "bond order: 1, chiral: False to atom atomic num: 6, name: , idx: 11, aromatic: False, chiral: False\n",
      "bond order: 1, chiral: False to atom atomic num: 1, name: , idx: 44, aromatic: False, chiral: False\n",
      "\n"
     ]
    },
    {
     "name": "stderr",
     "output_type": "stream",
     "text": [
      "Warning (not error because allow_undefined_stereo=True): OEMol has unspecified stereochemistry. oemol.GetTitle(): \n",
      "Problematic atoms are:\n",
      "Atom atomic num: 6, name: , idx: 14, aromatic: False, chiral: True with bonds:\n",
      "bond order: 1, chiral: False to atom atomic num: 6, name: , idx: 13, aromatic: False, chiral: False\n",
      "bond order: 1, chiral: False to atom atomic num: 7, name: , idx: 3, aromatic: False, chiral: False\n",
      "bond order: 1, chiral: False to atom atomic num: 6, name: , idx: 15, aromatic: True, chiral: False\n",
      "bond order: 1, chiral: False to atom atomic num: 1, name: , idx: 45, aromatic: False, chiral: False\n",
      "Atom atomic num: 6, name: , idx: 22, aromatic: False, chiral: True with bonds:\n",
      "bond order: 1, chiral: False to atom atomic num: 8, name: , idx: 21, aromatic: False, chiral: False\n",
      "bond order: 1, chiral: False to atom atomic num: 6, name: , idx: 23, aromatic: False, chiral: False\n",
      "bond order: 1, chiral: False to atom atomic num: 6, name: , idx: 24, aromatic: False, chiral: False\n",
      "bond order: 1, chiral: False to atom atomic num: 1, name: , idx: 48, aromatic: False, chiral: False\n",
      "\n"
     ]
    },
    {
     "name": "stderr",
     "output_type": "stream",
     "text": [
      "Warning (not error because allow_undefined_stereo=True): OEMol has unspecified stereochemistry. oemol.GetTitle(): \n",
      "Problematic atoms are:\n",
      "Atom atomic num: 6, name: , idx: 16, aromatic: False, chiral: True with bonds:\n",
      "bond order: 1, chiral: False to atom atomic num: 7, name: , idx: 15, aromatic: False, chiral: False\n",
      "bond order: 1, chiral: False to atom atomic num: 6, name: , idx: 17, aromatic: False, chiral: False\n",
      "bond order: 1, chiral: False to atom atomic num: 6, name: , idx: 19, aromatic: False, chiral: False\n",
      "bond order: 1, chiral: False to atom atomic num: 1, name: , idx: 35, aromatic: False, chiral: False\n",
      "\n"
     ]
    },
    {
     "name": "stderr",
     "output_type": "stream",
     "text": [
      "Warning (not error because allow_undefined_stereo=True): OEMol has unspecified stereochemistry. oemol.GetTitle(): \n",
      "Problematic atoms are:\n",
      "Atom atomic num: 7, name: , idx: 33, aromatic: False, chiral: True with bonds:\n",
      "bond order: 1, chiral: False to atom atomic num: 6, name: , idx: 32, aromatic: True, chiral: False\n",
      "bond order: 1, chiral: False to atom atomic num: 6, name: , idx: 34, aromatic: False, chiral: False\n",
      "bond order: 1, chiral: False to atom atomic num: 6, name: , idx: 35, aromatic: False, chiral: False\n",
      "\n"
     ]
    },
    {
     "name": "stderr",
     "output_type": "stream",
     "text": [
      "Warning (not error because allow_undefined_stereo=True): OEMol has unspecified stereochemistry. oemol.GetTitle(): \n",
      "Problematic atoms are:\n",
      "Atom atomic num: 7, name: , idx: 9, aromatic: False, chiral: True with bonds:\n",
      "bond order: 1, chiral: False to atom atomic num: 6, name: , idx: 8, aromatic: False, chiral: False\n",
      "bond order: 1, chiral: False to atom atomic num: 6, name: , idx: 4, aromatic: False, chiral: True\n",
      "bond order: 1, chiral: False to atom atomic num: 6, name: , idx: 10, aromatic: False, chiral: False\n",
      "\n"
     ]
    },
    {
     "name": "stderr",
     "output_type": "stream",
     "text": [
      "Warning (not error because allow_undefined_stereo=True): OEMol has unspecified stereochemistry. oemol.GetTitle(): \n",
      "Problematic atoms are:\n",
      "Atom atomic num: 6, name: , idx: 27, aromatic: False, chiral: True with bonds:\n",
      "bond order: 1, chiral: False to atom atomic num: 7, name: , idx: 26, aromatic: False, chiral: False\n",
      "bond order: 1, chiral: False to atom atomic num: 6, name: , idx: 36, aromatic: False, chiral: True\n",
      "bond order: 1, chiral: False to atom atomic num: 8, name: , idx: 28, aromatic: False, chiral: False\n",
      "bond order: 1, chiral: False to atom atomic num: 1, name: , idx: 48, aromatic: False, chiral: False\n",
      "Atom atomic num: 6, name: , idx: 29, aromatic: False, chiral: True with bonds:\n",
      "bond order: 1, chiral: False to atom atomic num: 8, name: , idx: 28, aromatic: False, chiral: False\n",
      "bond order: 1, chiral: False to atom atomic num: 6, name: , idx: 30, aromatic: False, chiral: False\n",
      "bond order: 1, chiral: False to atom atomic num: 6, name: , idx: 32, aromatic: False, chiral: True\n",
      "bond order: 1, chiral: False to atom atomic num: 1, name: , idx: 49, aromatic: False, chiral: False\n",
      "Atom atomic num: 6, name: , idx: 32, aromatic: False, chiral: True with bonds:\n",
      "bond order: 1, chiral: False to atom atomic num: 6, name: , idx: 29, aromatic: False, chiral: True\n",
      "bond order: 1, chiral: False to atom atomic num: 8, name: , idx: 33, aromatic: False, chiral: False\n",
      "bond order: 1, chiral: False to atom atomic num: 6, name: , idx: 34, aromatic: False, chiral: True\n",
      "bond order: 1, chiral: False to atom atomic num: 1, name: , idx: 53, aromatic: False, chiral: False\n",
      "Atom atomic num: 6, name: , idx: 34, aromatic: False, chiral: True with bonds:\n",
      "bond order: 1, chiral: False to atom atomic num: 6, name: , idx: 32, aromatic: False, chiral: True\n",
      "bond order: 1, chiral: False to atom atomic num: 8, name: , idx: 35, aromatic: False, chiral: False\n",
      "bond order: 1, chiral: False to atom atomic num: 6, name: , idx: 36, aromatic: False, chiral: True\n",
      "bond order: 1, chiral: False to atom atomic num: 1, name: , idx: 55, aromatic: False, chiral: False\n",
      "Atom atomic num: 6, name: , idx: 36, aromatic: False, chiral: True with bonds:\n",
      "bond order: 1, chiral: False to atom atomic num: 6, name: , idx: 34, aromatic: False, chiral: True\n",
      "bond order: 1, chiral: False to atom atomic num: 6, name: , idx: 27, aromatic: False, chiral: True\n",
      "bond order: 1, chiral: False to atom atomic num: 8, name: , idx: 37, aromatic: False, chiral: False\n",
      "bond order: 1, chiral: False to atom atomic num: 1, name: , idx: 57, aromatic: False, chiral: False\n",
      "\n"
     ]
    },
    {
     "name": "stderr",
     "output_type": "stream",
     "text": [
      "Warning (not error because allow_undefined_stereo=True): OEMol has unspecified stereochemistry. oemol.GetTitle(): \n",
      "Problematic atoms are:\n",
      "Atom atomic num: 7, name: , idx: 27, aromatic: False, chiral: True with bonds:\n",
      "bond order: 1, chiral: False to atom atomic num: 6, name: , idx: 26, aromatic: False, chiral: False\n",
      "bond order: 1, chiral: False to atom atomic num: 6, name: , idx: 28, aromatic: False, chiral: False\n",
      "bond order: 1, chiral: False to atom atomic num: 6, name: , idx: 29, aromatic: False, chiral: False\n",
      "\n"
     ]
    },
    {
     "name": "stderr",
     "output_type": "stream",
     "text": [
      "Warning (not error because allow_undefined_stereo=True): OEMol has unspecified stereochemistry. oemol.GetTitle(): \n",
      "Problematic atoms are:\n",
      "Atom atomic num: 6, name: , idx: 6, aromatic: False, chiral: True with bonds:\n",
      "bond order: 1, chiral: False to atom atomic num: 6, name: , idx: 5, aromatic: True, chiral: False\n",
      "bond order: 1, chiral: False to atom atomic num: 7, name: , idx: 18, aromatic: False, chiral: False\n",
      "bond order: 1, chiral: False to atom atomic num: 6, name: , idx: 7, aromatic: False, chiral: False\n",
      "bond order: 1, chiral: False to atom atomic num: 1, name: , idx: 29, aromatic: False, chiral: False\n",
      "\n"
     ]
    },
    {
     "name": "stderr",
     "output_type": "stream",
     "text": [
      "Warning (not error because allow_undefined_stereo=True): OEMol has unspecified stereochemistry. oemol.GetTitle(): \n",
      "Problematic atoms are:\n",
      "Atom atomic num: 6, name: , idx: 6, aromatic: False, chiral: True with bonds:\n",
      "bond order: 1, chiral: False to atom atomic num: 7, name: , idx: 5, aromatic: False, chiral: False\n",
      "bond order: 1, chiral: False to atom atomic num: 6, name: , idx: 7, aromatic: False, chiral: False\n",
      "bond order: 1, chiral: False to atom atomic num: 6, name: , idx: 9, aromatic: False, chiral: False\n",
      "bond order: 1, chiral: False to atom atomic num: 1, name: , idx: 28, aromatic: False, chiral: False\n",
      "\n"
     ]
    },
    {
     "name": "stderr",
     "output_type": "stream",
     "text": [
      "Warning (not error because allow_undefined_stereo=True): OEMol has unspecified stereochemistry. oemol.GetTitle(): \n",
      "Problematic atoms are:\n",
      "Atom atomic num: 7, name: , idx: 3, aromatic: False, chiral: True with bonds:\n",
      "bond order: 1, chiral: False to atom atomic num: 6, name: , idx: 2, aromatic: False, chiral: False\n",
      "bond order: 1, chiral: False to atom atomic num: 6, name: , idx: 4, aromatic: False, chiral: False\n",
      "bond order: 1, chiral: False to atom atomic num: 6, name: , idx: 32, aromatic: False, chiral: False\n",
      "\n"
     ]
    },
    {
     "name": "stderr",
     "output_type": "stream",
     "text": [
      "Warning (not error because allow_undefined_stereo=True): OEMol has unspecified stereochemistry. oemol.GetTitle(): \n",
      "Problematic atoms are:\n",
      "Atom atomic num: 7, name: , idx: 22, aromatic: False, chiral: True with bonds:\n",
      "bond order: 1, chiral: False to atom atomic num: 6, name: , idx: 21, aromatic: False, chiral: False\n",
      "bond order: 1, chiral: False to atom atomic num: 6, name: , idx: 30, aromatic: False, chiral: False\n",
      "bond order: 1, chiral: False to atom atomic num: 6, name: , idx: 23, aromatic: False, chiral: False\n",
      "\n"
     ]
    },
    {
     "name": "stderr",
     "output_type": "stream",
     "text": [
      "Warning (not error because allow_undefined_stereo=True): OEMol has unspecified stereochemistry. oemol.GetTitle(): \n",
      "Problematic atoms are:\n",
      "Atom atomic num: 6, name: , idx: 13, aromatic: False, chiral: True with bonds:\n",
      "bond order: 1, chiral: False to atom atomic num: 6, name: , idx: 2, aromatic: False, chiral: False\n",
      "bond order: 1, chiral: False to atom atomic num: 6, name: , idx: 14, aromatic: True, chiral: False\n",
      "bond order: 1, chiral: False to atom atomic num: 7, name: , idx: 22, aromatic: False, chiral: False\n",
      "bond order: 1, chiral: False to atom atomic num: 1, name: , idx: 44, aromatic: False, chiral: False\n",
      "\n"
     ]
    },
    {
     "name": "stderr",
     "output_type": "stream",
     "text": [
      "Warning (not error because allow_undefined_stereo=True): OEMol has unspecified stereochemistry. oemol.GetTitle(): \n",
      "Problematic atoms are:\n",
      "Atom atomic num: 6, name: , idx: 1, aromatic: False, chiral: True with bonds:\n",
      "bond order: 1, chiral: False to atom atomic num: 6, name: , idx: 0, aromatic: False, chiral: False\n",
      "bond order: 1, chiral: False to atom atomic num: 7, name: , idx: 2, aromatic: False, chiral: False\n",
      "bond order: 1, chiral: False to atom atomic num: 6, name: , idx: 13, aromatic: True, chiral: False\n",
      "bond order: 1, chiral: False to atom atomic num: 1, name: , idx: 22, aromatic: False, chiral: False\n",
      "\n"
     ]
    },
    {
     "name": "stderr",
     "output_type": "stream",
     "text": [
      "Warning (not error because allow_undefined_stereo=True): OEMol has unspecified stereochemistry. oemol.GetTitle(): \n",
      "Problematic atoms are:\n",
      "Atom atomic num: 7, name: , idx: 31, aromatic: False, chiral: True with bonds:\n",
      "bond order: 1, chiral: False to atom atomic num: 6, name: , idx: 30, aromatic: True, chiral: False\n",
      "bond order: 1, chiral: False to atom atomic num: 6, name: , idx: 32, aromatic: False, chiral: False\n",
      "bond order: 1, chiral: False to atom atomic num: 6, name: , idx: 33, aromatic: False, chiral: False\n",
      "\n"
     ]
    },
    {
     "name": "stderr",
     "output_type": "stream",
     "text": [
      "Warning (not error because allow_undefined_stereo=True): OEMol has unspecified stereochemistry. oemol.GetTitle(): \n",
      "Problematic atoms are:\n",
      "Atom atomic num: 6, name: , idx: 15, aromatic: False, chiral: True with bonds:\n",
      "bond order: 1, chiral: False to atom atomic num: 7, name: , idx: 8, aromatic: False, chiral: False\n",
      "bond order: 1, chiral: False to atom atomic num: 6, name: , idx: 16, aromatic: True, chiral: False\n",
      "bond order: 1, chiral: False to atom atomic num: 6, name: , idx: 23, aromatic: False, chiral: False\n",
      "bond order: 1, chiral: False to atom atomic num: 1, name: , idx: 33, aromatic: False, chiral: False\n",
      "\n"
     ]
    },
    {
     "name": "stderr",
     "output_type": "stream",
     "text": [
      "Warning (not error because allow_undefined_stereo=True): OEMol has unspecified stereochemistry. oemol.GetTitle(): \n",
      "Problematic bonds are: [<openeye.oechem.OEBondBase; proxy of <Swig Object of type 'OEChem::OEBondBase *' at 0x7f81a718b1b0> >, <openeye.oechem.OEBondBase; proxy of <Swig Object of type 'OEChem::OEBondBase *' at 0x7f81a718ba20> >]\n",
      "\n"
     ]
    },
    {
     "name": "stderr",
     "output_type": "stream",
     "text": [
      "Warning (not error because allow_undefined_stereo=True): OEMol has unspecified stereochemistry. oemol.GetTitle(): \n",
      "Problematic atoms are:\n",
      "Atom atomic num: 7, name: , idx: 32, aromatic: False, chiral: True with bonds:\n",
      "bond order: 1, chiral: False to atom atomic num: 6, name: , idx: 31, aromatic: True, chiral: False\n",
      "bond order: 1, chiral: False to atom atomic num: 6, name: , idx: 33, aromatic: False, chiral: False\n",
      "bond order: 1, chiral: False to atom atomic num: 6, name: , idx: 34, aromatic: False, chiral: False\n",
      "\n"
     ]
    },
    {
     "name": "stderr",
     "output_type": "stream",
     "text": [
      "Warning (not error because allow_undefined_stereo=True): OEMol has unspecified stereochemistry. oemol.GetTitle(): \n",
      "Problematic atoms are:\n",
      "Atom atomic num: 6, name: , idx: 14, aromatic: False, chiral: True with bonds:\n",
      "bond order: 1, chiral: False to atom atomic num: 7, name: , idx: 7, aromatic: False, chiral: False\n",
      "bond order: 1, chiral: False to atom atomic num: 6, name: , idx: 15, aromatic: True, chiral: False\n",
      "bond order: 1, chiral: False to atom atomic num: 6, name: , idx: 25, aromatic: False, chiral: False\n",
      "bond order: 1, chiral: False to atom atomic num: 1, name: , idx: 36, aromatic: False, chiral: False\n",
      "\n"
     ]
    },
    {
     "name": "stderr",
     "output_type": "stream",
     "text": [
      "Warning (not error because allow_undefined_stereo=True): OEMol has unspecified stereochemistry. oemol.GetTitle(): \n",
      "Problematic atoms are:\n",
      "Atom atomic num: 7, name: , idx: 4, aromatic: False, chiral: True with bonds:\n",
      "bond order: 1, chiral: False to atom atomic num: 6, name: , idx: 3, aromatic: False, chiral: False\n",
      "bond order: 1, chiral: False to atom atomic num: 6, name: , idx: 5, aromatic: False, chiral: False\n",
      "bond order: 1, chiral: False to atom atomic num: 6, name: , idx: 27, aromatic: False, chiral: True\n",
      "\n"
     ]
    },
    {
     "name": "stderr",
     "output_type": "stream",
     "text": [
      "Warning (not error because allow_undefined_stereo=True): OEMol has unspecified stereochemistry. oemol.GetTitle(): \n",
      "Problematic atoms are:\n",
      "Atom atomic num: 16, name: , idx: 30, aromatic: False, chiral: True with bonds:\n",
      "bond order: 1, chiral: False to atom atomic num: 6, name: , idx: 29, aromatic: True, chiral: False\n",
      "bond order: 1, chiral: False to atom atomic num: 8, name: , idx: 31, aromatic: False, chiral: False\n",
      "bond order: 1, chiral: False to atom atomic num: 6, name: , idx: 32, aromatic: False, chiral: False\n",
      "\n"
     ]
    },
    {
     "name": "stderr",
     "output_type": "stream",
     "text": [
      "Warning (not error because allow_undefined_stereo=True): OEMol has unspecified stereochemistry. oemol.GetTitle(): \n",
      "Problematic atoms are:\n",
      "Atom atomic num: 6, name: , idx: 3, aromatic: False, chiral: True with bonds:\n",
      "bond order: 1, chiral: False to atom atomic num: 6, name: , idx: 2, aromatic: False, chiral: False\n",
      "bond order: 1, chiral: False to atom atomic num: 6, name: , idx: 12, aromatic: True, chiral: False\n",
      "bond order: 1, chiral: False to atom atomic num: 6, name: , idx: 4, aromatic: False, chiral: False\n",
      "bond order: 1, chiral: False to atom atomic num: 1, name: , idx: 23, aromatic: False, chiral: False\n",
      "\n"
     ]
    },
    {
     "name": "stderr",
     "output_type": "stream",
     "text": [
      "Warning (not error because allow_undefined_stereo=True): OEMol has unspecified stereochemistry. oemol.GetTitle(): \n",
      "Problematic atoms are:\n",
      "Atom atomic num: 7, name: , idx: 25, aromatic: False, chiral: True with bonds:\n",
      "bond order: 1, chiral: False to atom atomic num: 6, name: , idx: 24, aromatic: False, chiral: False\n",
      "bond order: 1, chiral: False to atom atomic num: 6, name: , idx: 36, aromatic: False, chiral: True\n",
      "bond order: 1, chiral: False to atom atomic num: 6, name: , idx: 26, aromatic: False, chiral: False\n",
      "\n"
     ]
    },
    {
     "name": "stderr",
     "output_type": "stream",
     "text": [
      "Warning (not error because allow_undefined_stereo=True): OEMol has unspecified stereochemistry. oemol.GetTitle(): \n",
      "Problematic atoms are:\n",
      "Atom atomic num: 7, name: , idx: 31, aromatic: False, chiral: True with bonds:\n",
      "bond order: 1, chiral: False to atom atomic num: 6, name: , idx: 30, aromatic: True, chiral: False\n",
      "bond order: 1, chiral: False to atom atomic num: 6, name: , idx: 32, aromatic: False, chiral: False\n",
      "bond order: 1, chiral: False to atom atomic num: 6, name: , idx: 33, aromatic: False, chiral: False\n",
      "\n"
     ]
    },
    {
     "name": "stderr",
     "output_type": "stream",
     "text": [
      "Warning (not error because allow_undefined_stereo=True): OEMol has unspecified stereochemistry. oemol.GetTitle(): \n",
      "Problematic bonds are: [<openeye.oechem.OEBondBase; proxy of <Swig Object of type 'OEChem::OEBondBase *' at 0x7f81a7219e40> >, <openeye.oechem.OEBondBase; proxy of <Swig Object of type 'OEChem::OEBondBase *' at 0x7f81a7219510> >, <openeye.oechem.OEBondBase; proxy of <Swig Object of type 'OEChem::OEBondBase *' at 0x7f81a72194b0> >, <openeye.oechem.OEBondBase; proxy of <Swig Object of type 'OEChem::OEBondBase *' at 0x7f81a7219d80> >]\n",
      "\n"
     ]
    },
    {
     "name": "stderr",
     "output_type": "stream",
     "text": [
      "Warning (not error because allow_undefined_stereo=True): OEMol has unspecified stereochemistry. oemol.GetTitle(): \n",
      "Problematic atoms are:\n",
      "Atom atomic num: 7, name: , idx: 20, aromatic: False, chiral: True with bonds:\n",
      "bond order: 1, chiral: False to atom atomic num: 6, name: , idx: 19, aromatic: False, chiral: False\n",
      "bond order: 1, chiral: False to atom atomic num: 6, name: , idx: 21, aromatic: False, chiral: False\n",
      "bond order: 1, chiral: False to atom atomic num: 6, name: , idx: 22, aromatic: False, chiral: False\n",
      "\n"
     ]
    },
    {
     "name": "stderr",
     "output_type": "stream",
     "text": [
      "Warning (not error because allow_undefined_stereo=True): OEMol has unspecified stereochemistry. oemol.GetTitle(): \n",
      "Problematic atoms are:\n",
      "Atom atomic num: 6, name: , idx: 19, aromatic: False, chiral: True with bonds:\n",
      "bond order: 1, chiral: False to atom atomic num: 7, name: , idx: 7, aromatic: False, chiral: False\n",
      "bond order: 1, chiral: False to atom atomic num: 6, name: , idx: 20, aromatic: True, chiral: False\n",
      "bond order: 1, chiral: False to atom atomic num: 6, name: , idx: 27, aromatic: False, chiral: False\n",
      "bond order: 1, chiral: False to atom atomic num: 1, name: , idx: 38, aromatic: False, chiral: False\n",
      "\n"
     ]
    },
    {
     "name": "stderr",
     "output_type": "stream",
     "text": [
      "Warning (not error because allow_undefined_stereo=True): OEMol has unspecified stereochemistry. oemol.GetTitle(): \n",
      "Problematic atoms are:\n",
      "Atom atomic num: 6, name: , idx: 22, aromatic: False, chiral: True with bonds:\n",
      "bond order: 1, chiral: False to atom atomic num: 6, name: , idx: 16, aromatic: False, chiral: False\n",
      "bond order: 1, chiral: False to atom atomic num: 6, name: , idx: 5, aromatic: False, chiral: False\n",
      "bond order: 1, chiral: False to atom atomic num: 6, name: , idx: 23, aromatic: False, chiral: False\n",
      "bond order: 1, chiral: False to atom atomic num: 1, name: , idx: 55, aromatic: False, chiral: False\n",
      "\n"
     ]
    },
    {
     "name": "stderr",
     "output_type": "stream",
     "text": [
      "Warning (not error because allow_undefined_stereo=True): OEMol has unspecified stereochemistry. oemol.GetTitle(): \n",
      "Problematic bonds are: [<openeye.oechem.OEBondBase; proxy of <Swig Object of type 'OEChem::OEBondBase *' at 0x7f81a71e6cc0> >]\n",
      "\n"
     ]
    },
    {
     "name": "stderr",
     "output_type": "stream",
     "text": [
      "Warning (not error because allow_undefined_stereo=True): OEMol has unspecified stereochemistry. oemol.GetTitle(): \n",
      "Problematic atoms are:\n",
      "Atom atomic num: 6, name: , idx: 15, aromatic: False, chiral: True with bonds:\n",
      "bond order: 1, chiral: False to atom atomic num: 6, name: , idx: 14, aromatic: False, chiral: False\n",
      "bond order: 1, chiral: False to atom atomic num: 7, name: , idx: 3, aromatic: False, chiral: False\n",
      "bond order: 1, chiral: False to atom atomic num: 6, name: , idx: 16, aromatic: True, chiral: False\n",
      "bond order: 1, chiral: False to atom atomic num: 1, name: , idx: 30, aromatic: False, chiral: False\n",
      "\n"
     ]
    },
    {
     "name": "stderr",
     "output_type": "stream",
     "text": [
      "Warning (not error because allow_undefined_stereo=True): OEMol has unspecified stereochemistry. oemol.GetTitle(): \n",
      "Problematic atoms are:\n",
      "Atom atomic num: 6, name: , idx: 20, aromatic: False, chiral: True with bonds:\n",
      "bond order: 1, chiral: False to atom atomic num: 7, name: , idx: 8, aromatic: False, chiral: False\n",
      "bond order: 1, chiral: False to atom atomic num: 6, name: , idx: 21, aromatic: True, chiral: False\n",
      "bond order: 1, chiral: False to atom atomic num: 6, name: , idx: 28, aromatic: False, chiral: False\n",
      "bond order: 1, chiral: False to atom atomic num: 1, name: , idx: 42, aromatic: False, chiral: False\n",
      "\n"
     ]
    },
    {
     "name": "stderr",
     "output_type": "stream",
     "text": [
      "Warning (not error because allow_undefined_stereo=True): OEMol has unspecified stereochemistry. oemol.GetTitle(): \n",
      "Problematic atoms are:\n",
      "Atom atomic num: 16, name: , idx: 13, aromatic: False, chiral: True with bonds:\n",
      "bond order: 2, chiral: False to atom atomic num: 7, name: , idx: 12, aromatic: False, chiral: False\n",
      "bond order: 1, chiral: False to atom atomic num: 6, name: , idx: 6, aromatic: True, chiral: False\n",
      "bond order: 1, chiral: False to atom atomic num: 6, name: , idx: 14, aromatic: True, chiral: False\n",
      "\n"
     ]
    },
    {
     "name": "stderr",
     "output_type": "stream",
     "text": [
      "Warning (not error because allow_undefined_stereo=True): OEMol has unspecified stereochemistry. oemol.GetTitle(): \n",
      "Problematic atoms are:\n",
      "Atom atomic num: 6, name: , idx: 15, aromatic: False, chiral: True with bonds:\n",
      "bond order: 1, chiral: False to atom atomic num: 6, name: , idx: 14, aromatic: False, chiral: False\n",
      "bond order: 1, chiral: False to atom atomic num: 7, name: , idx: 5, aromatic: False, chiral: False\n",
      "bond order: 1, chiral: False to atom atomic num: 6, name: , idx: 16, aromatic: True, chiral: False\n",
      "bond order: 1, chiral: False to atom atomic num: 1, name: , idx: 33, aromatic: False, chiral: False\n",
      "\n"
     ]
    },
    {
     "name": "stderr",
     "output_type": "stream",
     "text": [
      "Warning (not error because allow_undefined_stereo=True): OEMol has unspecified stereochemistry. oemol.GetTitle(): \n",
      "Problematic atoms are:\n",
      "Atom atomic num: 7, name: , idx: 33, aromatic: False, chiral: True with bonds:\n",
      "bond order: 1, chiral: False to atom atomic num: 6, name: , idx: 32, aromatic: False, chiral: False\n",
      "bond order: 1, chiral: False to atom atomic num: 6, name: , idx: 44, aromatic: False, chiral: True\n",
      "bond order: 1, chiral: False to atom atomic num: 6, name: , idx: 34, aromatic: False, chiral: False\n",
      "\n"
     ]
    },
    {
     "name": "stderr",
     "output_type": "stream",
     "text": [
      "Warning (not error because allow_undefined_stereo=True): OEMol has unspecified stereochemistry. oemol.GetTitle(): \n",
      "Problematic atoms are:\n",
      "Atom atomic num: 6, name: , idx: 6, aromatic: False, chiral: True with bonds:\n",
      "bond order: 1, chiral: False to atom atomic num: 6, name: , idx: 5, aromatic: True, chiral: False\n",
      "bond order: 1, chiral: False to atom atomic num: 7, name: , idx: 18, aromatic: False, chiral: False\n",
      "bond order: 1, chiral: False to atom atomic num: 6, name: , idx: 7, aromatic: False, chiral: False\n",
      "bond order: 1, chiral: False to atom atomic num: 1, name: , idx: 37, aromatic: False, chiral: False\n",
      "\n"
     ]
    },
    {
     "name": "stderr",
     "output_type": "stream",
     "text": [
      "Warning (not error because allow_undefined_stereo=True): OEMol has unspecified stereochemistry. oemol.GetTitle(): \n",
      "Problematic atoms are:\n",
      "Atom atomic num: 6, name: , idx: 16, aromatic: False, chiral: True with bonds:\n",
      "bond order: 1, chiral: False to atom atomic num: 6, name: , idx: 15, aromatic: False, chiral: False\n",
      "bond order: 1, chiral: False to atom atomic num: 7, name: , idx: 5, aromatic: False, chiral: False\n",
      "bond order: 1, chiral: False to atom atomic num: 6, name: , idx: 17, aromatic: True, chiral: False\n",
      "bond order: 1, chiral: False to atom atomic num: 1, name: , idx: 32, aromatic: False, chiral: False\n",
      "\n"
     ]
    },
    {
     "name": "stderr",
     "output_type": "stream",
     "text": [
      "Warning (not error because allow_undefined_stereo=True): OEMol has unspecified stereochemistry. oemol.GetTitle(): \n",
      "Problematic atoms are:\n",
      "Atom atomic num: 6, name: , idx: 6, aromatic: False, chiral: True with bonds:\n",
      "bond order: 1, chiral: False to atom atomic num: 6, name: , idx: 5, aromatic: True, chiral: False\n",
      "bond order: 1, chiral: False to atom atomic num: 7, name: , idx: 17, aromatic: False, chiral: False\n",
      "bond order: 1, chiral: False to atom atomic num: 6, name: , idx: 7, aromatic: False, chiral: False\n",
      "bond order: 1, chiral: False to atom atomic num: 1, name: , idx: 31, aromatic: False, chiral: False\n",
      "\n"
     ]
    },
    {
     "name": "stderr",
     "output_type": "stream",
     "text": [
      "Warning (not error because allow_undefined_stereo=True): OEMol has unspecified stereochemistry. oemol.GetTitle(): \n",
      "Problematic atoms are:\n",
      "Atom atomic num: 7, name: , idx: 30, aromatic: False, chiral: True with bonds:\n",
      "bond order: 1, chiral: False to atom atomic num: 6, name: , idx: 29, aromatic: False, chiral: False\n",
      "bond order: 1, chiral: False to atom atomic num: 6, name: , idx: 36, aromatic: False, chiral: False\n",
      "bond order: 1, chiral: False to atom atomic num: 6, name: , idx: 31, aromatic: False, chiral: False\n",
      "\n"
     ]
    },
    {
     "name": "stderr",
     "output_type": "stream",
     "text": [
      "Warning (not error because allow_undefined_stereo=True): OEMol has unspecified stereochemistry. oemol.GetTitle(): \n",
      "Problematic atoms are:\n",
      "Atom atomic num: 6, name: , idx: 14, aromatic: False, chiral: True with bonds:\n",
      "bond order: 1, chiral: False to atom atomic num: 6, name: , idx: 12, aromatic: False, chiral: False\n",
      "bond order: 1, chiral: False to atom atomic num: 6, name: , idx: 15, aromatic: True, chiral: False\n",
      "bond order: 1, chiral: False to atom atomic num: 7, name: , idx: 23, aromatic: False, chiral: False\n",
      "bond order: 1, chiral: False to atom atomic num: 1, name: , idx: 59, aromatic: False, chiral: False\n",
      "\n"
     ]
    },
    {
     "name": "stderr",
     "output_type": "stream",
     "text": [
      "Warning (not error because allow_undefined_stereo=True): OEMol has unspecified stereochemistry. oemol.GetTitle(): \n",
      "Problematic atoms are:\n",
      "Atom atomic num: 6, name: , idx: 4, aromatic: False, chiral: True with bonds:\n",
      "bond order: 1, chiral: False to atom atomic num: 6, name: , idx: 2, aromatic: False, chiral: False\n",
      "bond order: 1, chiral: False to atom atomic num: 6, name: , idx: 5, aromatic: False, chiral: False\n",
      "bond order: 1, chiral: False to atom atomic num: 6, name: , idx: 14, aromatic: True, chiral: False\n",
      "bond order: 1, chiral: False to atom atomic num: 1, name: , idx: 35, aromatic: False, chiral: False\n",
      "\n"
     ]
    },
    {
     "name": "stderr",
     "output_type": "stream",
     "text": [
      "Warning (not error because allow_undefined_stereo=True): OEMol has unspecified stereochemistry. oemol.GetTitle(): \n",
      "Problematic atoms are:\n",
      "Atom atomic num: 6, name: , idx: 18, aromatic: False, chiral: True with bonds:\n",
      "bond order: 1, chiral: False to atom atomic num: 6, name: , idx: 17, aromatic: False, chiral: False\n",
      "bond order: 1, chiral: False to atom atomic num: 35, name: , idx: 19, aromatic: False, chiral: False\n",
      "bond order: 1, chiral: False to atom atomic num: 6, name: , idx: 20, aromatic: False, chiral: False\n",
      "bond order: 1, chiral: False to atom atomic num: 1, name: , idx: 33, aromatic: False, chiral: False\n",
      "\n"
     ]
    },
    {
     "name": "stderr",
     "output_type": "stream",
     "text": [
      "Warning (not error because allow_undefined_stereo=True): OEMol has unspecified stereochemistry. oemol.GetTitle(): \n",
      "Problematic atoms are:\n",
      "Atom atomic num: 6, name: , idx: 10, aromatic: False, chiral: True with bonds:\n",
      "bond order: 1, chiral: False to atom atomic num: 6, name: , idx: 1, aromatic: False, chiral: False\n",
      "bond order: 1, chiral: False to atom atomic num: 8, name: , idx: 11, aromatic: False, chiral: False\n",
      "bond order: 1, chiral: False to atom atomic num: 6, name: , idx: 12, aromatic: False, chiral: False\n",
      "bond order: 1, chiral: False to atom atomic num: 1, name: , idx: 54, aromatic: False, chiral: False\n",
      "Atom atomic num: 6, name: , idx: 27, aromatic: False, chiral: True with bonds:\n",
      "bond order: 1, chiral: False to atom atomic num: 6, name: , idx: 26, aromatic: False, chiral: False\n",
      "bond order: 1, chiral: False to atom atomic num: 8, name: , idx: 28, aromatic: False, chiral: False\n",
      "bond order: 1, chiral: False to atom atomic num: 6, name: , idx: 29, aromatic: False, chiral: False\n",
      "bond order: 1, chiral: False to atom atomic num: 1, name: , idx: 65, aromatic: False, chiral: False\n",
      "\n"
     ]
    },
    {
     "name": "stderr",
     "output_type": "stream",
     "text": [
      "Warning (not error because allow_undefined_stereo=True): OEMol has unspecified stereochemistry. oemol.GetTitle(): \n",
      "Problematic atoms are:\n",
      "Atom atomic num: 6, name: , idx: 13, aromatic: False, chiral: True with bonds:\n",
      "bond order: 1, chiral: False to atom atomic num: 7, name: , idx: 12, aromatic: False, chiral: False\n",
      "bond order: 1, chiral: False to atom atomic num: 6, name: , idx: 14, aromatic: False, chiral: False\n",
      "bond order: 1, chiral: False to atom atomic num: 6, name: , idx: 15, aromatic: True, chiral: False\n",
      "bond order: 1, chiral: False to atom atomic num: 1, name: , idx: 35, aromatic: False, chiral: False\n",
      "\n"
     ]
    },
    {
     "name": "stderr",
     "output_type": "stream",
     "text": [
      "Warning (not error because allow_undefined_stereo=True): OEMol has unspecified stereochemistry. oemol.GetTitle(): \n",
      "Problematic atoms are:\n",
      "Atom atomic num: 6, name: , idx: 4, aromatic: False, chiral: True with bonds:\n",
      "bond order: 1, chiral: False to atom atomic num: 6, name: , idx: 2, aromatic: False, chiral: False\n",
      "bond order: 1, chiral: False to atom atomic num: 8, name: , idx: 5, aromatic: False, chiral: False\n",
      "bond order: 1, chiral: False to atom atomic num: 6, name: , idx: 22, aromatic: False, chiral: True\n",
      "bond order: 1, chiral: False to atom atomic num: 1, name: , idx: 52, aromatic: False, chiral: False\n",
      "Atom atomic num: 6, name: , idx: 22, aromatic: False, chiral: True with bonds:\n",
      "bond order: 1, chiral: False to atom atomic num: 6, name: , idx: 4, aromatic: False, chiral: True\n",
      "bond order: 1, chiral: False to atom atomic num: 6, name: , idx: 23, aromatic: False, chiral: False\n",
      "bond order: 1, chiral: False to atom atomic num: 6, name: , idx: 24, aromatic: False, chiral: False\n",
      "bond order: 1, chiral: False to atom atomic num: 1, name: , idx: 59, aromatic: False, chiral: False\n",
      "Atom atomic num: 6, name: , idx: 30, aromatic: False, chiral: True with bonds:\n",
      "bond order: 1, chiral: False to atom atomic num: 6, name: , idx: 29, aromatic: False, chiral: False\n",
      "bond order: 1, chiral: False to atom atomic num: 6, name: , idx: 31, aromatic: False, chiral: False\n",
      "bond order: 1, chiral: False to atom atomic num: 6, name: , idx: 32, aromatic: False, chiral: False\n",
      "bond order: 1, chiral: False to atom atomic num: 1, name: , idx: 71, aromatic: False, chiral: False\n",
      "\n"
     ]
    },
    {
     "name": "stderr",
     "output_type": "stream",
     "text": [
      "Warning (not error because allow_undefined_stereo=True): OEMol has unspecified stereochemistry. oemol.GetTitle(): \n",
      "Problematic atoms are:\n",
      "Atom atomic num: 6, name: , idx: 5, aromatic: False, chiral: True with bonds:\n",
      "bond order: 1, chiral: False to atom atomic num: 6, name: , idx: 4, aromatic: True, chiral: False\n",
      "bond order: 1, chiral: False to atom atomic num: 7, name: , idx: 15, aromatic: False, chiral: False\n",
      "bond order: 1, chiral: False to atom atomic num: 6, name: , idx: 6, aromatic: False, chiral: False\n",
      "bond order: 1, chiral: False to atom atomic num: 1, name: , idx: 29, aromatic: False, chiral: False\n",
      "\n"
     ]
    },
    {
     "name": "stderr",
     "output_type": "stream",
     "text": [
      "Warning (not error because allow_undefined_stereo=True): OEMol has unspecified stereochemistry. oemol.GetTitle(): \n",
      "Problematic atoms are:\n",
      "Atom atomic num: 6, name: , idx: 15, aromatic: False, chiral: True with bonds:\n",
      "bond order: 1, chiral: False to atom atomic num: 6, name: , idx: 14, aromatic: False, chiral: False\n",
      "bond order: 1, chiral: False to atom atomic num: 7, name: , idx: 3, aromatic: False, chiral: False\n",
      "bond order: 1, chiral: False to atom atomic num: 6, name: , idx: 16, aromatic: True, chiral: False\n",
      "bond order: 1, chiral: False to atom atomic num: 1, name: , idx: 30, aromatic: False, chiral: False\n",
      "\n"
     ]
    },
    {
     "name": "stderr",
     "output_type": "stream",
     "text": [
      "Warning (not error because allow_undefined_stereo=True): OEMol has unspecified stereochemistry. oemol.GetTitle(): \n",
      "Problematic atoms are:\n",
      "Atom atomic num: 7, name: , idx: 8, aromatic: False, chiral: True with bonds:\n",
      "bond order: 1, chiral: False to atom atomic num: 6, name: , idx: 7, aromatic: False, chiral: False\n",
      "bond order: 1, chiral: False to atom atomic num: 6, name: , idx: 9, aromatic: True, chiral: False\n",
      "bond order: 1, chiral: False to atom atomic num: 6, name: , idx: 28, aromatic: False, chiral: False\n",
      "\n"
     ]
    },
    {
     "name": "stderr",
     "output_type": "stream",
     "text": [
      "Warning (not error because allow_undefined_stereo=True): OEMol has unspecified stereochemistry. oemol.GetTitle(): \n",
      "Problematic atoms are:\n",
      "Atom atomic num: 6, name: , idx: 14, aromatic: False, chiral: True with bonds:\n",
      "bond order: 1, chiral: False to atom atomic num: 7, name: , idx: 7, aromatic: False, chiral: False\n",
      "bond order: 1, chiral: False to atom atomic num: 6, name: , idx: 15, aromatic: True, chiral: False\n",
      "bond order: 1, chiral: False to atom atomic num: 6, name: , idx: 25, aromatic: False, chiral: False\n",
      "bond order: 1, chiral: False to atom atomic num: 1, name: , idx: 35, aromatic: False, chiral: False\n",
      "\n"
     ]
    },
    {
     "name": "stderr",
     "output_type": "stream",
     "text": [
      "Warning (not error because allow_undefined_stereo=True): OEMol has unspecified stereochemistry. oemol.GetTitle(): \n",
      "Problematic atoms are:\n",
      "Atom atomic num: 16, name: , idx: 22, aromatic: False, chiral: True with bonds:\n",
      "bond order: 1, chiral: False to atom atomic num: 6, name: , idx: 21, aromatic: True, chiral: False\n",
      "bond order: 1, chiral: False to atom atomic num: 6, name: , idx: 23, aromatic: False, chiral: False\n",
      "bond order: 1, chiral: False to atom atomic num: 8, name: , idx: 24, aromatic: False, chiral: False\n",
      "\n"
     ]
    },
    {
     "name": "stderr",
     "output_type": "stream",
     "text": [
      "Warning (not error because allow_undefined_stereo=True): OEMol has unspecified stereochemistry. oemol.GetTitle(): \n",
      "Problematic atoms are:\n",
      "Atom atomic num: 7, name: , idx: 5, aromatic: False, chiral: True with bonds:\n",
      "bond order: 1, chiral: False to atom atomic num: 6, name: , idx: 4, aromatic: False, chiral: False\n",
      "bond order: 1, chiral: False to atom atomic num: 6, name: , idx: 6, aromatic: False, chiral: False\n",
      "bond order: 1, chiral: False to atom atomic num: 6, name: , idx: 7, aromatic: True, chiral: False\n",
      "\n"
     ]
    },
    {
     "name": "stderr",
     "output_type": "stream",
     "text": [
      "Warning (not error because allow_undefined_stereo=True): OEMol has unspecified stereochemistry. oemol.GetTitle(): \n",
      "Problematic atoms are:\n",
      "Atom atomic num: 7, name: , idx: 16, aromatic: False, chiral: True with bonds:\n",
      "bond order: 1, chiral: False to atom atomic num: 6, name: , idx: 15, aromatic: False, chiral: False\n",
      "bond order: 1, chiral: False to atom atomic num: 6, name: , idx: 1, aromatic: False, chiral: True\n",
      "bond order: 1, chiral: False to atom atomic num: 6, name: , idx: 17, aromatic: True, chiral: False\n",
      "\n"
     ]
    },
    {
     "name": "stderr",
     "output_type": "stream",
     "text": [
      "Warning (not error because allow_undefined_stereo=True): OEMol has unspecified stereochemistry. oemol.GetTitle(): \n",
      "Problematic atoms are:\n",
      "Atom atomic num: 7, name: , idx: 23, aromatic: False, chiral: True with bonds:\n",
      "bond order: 1, chiral: False to atom atomic num: 6, name: , idx: 22, aromatic: True, chiral: False\n",
      "bond order: 1, chiral: False to atom atomic num: 6, name: , idx: 30, aromatic: False, chiral: False\n",
      "bond order: 1, chiral: False to atom atomic num: 6, name: , idx: 24, aromatic: False, chiral: False\n",
      "Atom atomic num: 7, name: , idx: 27, aromatic: False, chiral: True with bonds:\n",
      "bond order: 1, chiral: False to atom atomic num: 6, name: , idx: 26, aromatic: False, chiral: False\n",
      "bond order: 1, chiral: False to atom atomic num: 6, name: , idx: 28, aromatic: False, chiral: False\n",
      "bond order: 1, chiral: False to atom atomic num: 6, name: , idx: 29, aromatic: False, chiral: False\n",
      "\n"
     ]
    },
    {
     "name": "stderr",
     "output_type": "stream",
     "text": [
      "Warning (not error because allow_undefined_stereo=True): OEMol has unspecified stereochemistry. oemol.GetTitle(): \n",
      "Problematic atoms are:\n",
      "Atom atomic num: 7, name: , idx: 30, aromatic: False, chiral: True with bonds:\n",
      "bond order: 1, chiral: False to atom atomic num: 6, name: , idx: 29, aromatic: True, chiral: False\n",
      "bond order: 1, chiral: False to atom atomic num: 6, name: , idx: 31, aromatic: False, chiral: False\n",
      "bond order: 1, chiral: False to atom atomic num: 6, name: , idx: 32, aromatic: False, chiral: False\n",
      "\n"
     ]
    },
    {
     "name": "stderr",
     "output_type": "stream",
     "text": [
      "Warning (not error because allow_undefined_stereo=True): OEMol has unspecified stereochemistry. oemol.GetTitle(): \n",
      "Problematic atoms are:\n",
      "Atom atomic num: 6, name: , idx: 28, aromatic: False, chiral: True with bonds:\n",
      "bond order: 1, chiral: False to atom atomic num: 6, name: , idx: 27, aromatic: False, chiral: False\n",
      "bond order: 1, chiral: False to atom atomic num: 16, name: , idx: 32, aromatic: False, chiral: False\n",
      "bond order: 1, chiral: False to atom atomic num: 6, name: , idx: 29, aromatic: False, chiral: False\n",
      "bond order: 1, chiral: False to atom atomic num: 1, name: , idx: 48, aromatic: False, chiral: False\n",
      "\n"
     ]
    },
    {
     "name": "stderr",
     "output_type": "stream",
     "text": [
      "Warning (not error because allow_undefined_stereo=True): OEMol has unspecified stereochemistry. oemol.GetTitle(): \n",
      "Problematic atoms are:\n",
      "Atom atomic num: 7, name: , idx: 20, aromatic: False, chiral: True with bonds:\n",
      "bond order: 1, chiral: False to atom atomic num: 6, name: , idx: 19, aromatic: False, chiral: False\n",
      "bond order: 1, chiral: False to atom atomic num: 6, name: , idx: 21, aromatic: False, chiral: False\n",
      "bond order: 1, chiral: False to atom atomic num: 6, name: , idx: 26, aromatic: False, chiral: False\n",
      "\n"
     ]
    },
    {
     "name": "stderr",
     "output_type": "stream",
     "text": [
      "Warning (not error because allow_undefined_stereo=True): OEMol has unspecified stereochemistry. oemol.GetTitle(): \n",
      "Problematic atoms are:\n",
      "Atom atomic num: 6, name: , idx: 7, aromatic: False, chiral: True with bonds:\n",
      "bond order: 1, chiral: False to atom atomic num: 6, name: , idx: 6, aromatic: True, chiral: False\n",
      "bond order: 1, chiral: False to atom atomic num: 7, name: , idx: 18, aromatic: False, chiral: False\n",
      "bond order: 1, chiral: False to atom atomic num: 6, name: , idx: 8, aromatic: False, chiral: False\n",
      "bond order: 1, chiral: False to atom atomic num: 1, name: , idx: 35, aromatic: False, chiral: False\n",
      "\n"
     ]
    },
    {
     "name": "stderr",
     "output_type": "stream",
     "text": [
      "Warning (not error because allow_undefined_stereo=True): OEMol has unspecified stereochemistry. oemol.GetTitle(): \n",
      "Problematic atoms are:\n",
      "Atom atomic num: 16, name: , idx: 1, aromatic: False, chiral: True with bonds:\n",
      "bond order: 1, chiral: False to atom atomic num: 6, name: , idx: 0, aromatic: False, chiral: False\n",
      "bond order: 1, chiral: False to atom atomic num: 8, name: , idx: 2, aromatic: False, chiral: False\n",
      "bond order: 1, chiral: False to atom atomic num: 6, name: , idx: 3, aromatic: False, chiral: False\n",
      "\n"
     ]
    },
    {
     "name": "stderr",
     "output_type": "stream",
     "text": [
      "Warning (not error because allow_undefined_stereo=True): OEMol has unspecified stereochemistry. oemol.GetTitle(): \n",
      "Problematic atoms are:\n",
      "Atom atomic num: 15, name: , idx: 1, aromatic: False, chiral: True with bonds:\n",
      "bond order: 1, chiral: False to atom atomic num: 7, name: , idx: 0, aromatic: False, chiral: False\n",
      "bond order: 2, chiral: False to atom atomic num: 8, name: , idx: 2, aromatic: False, chiral: False\n",
      "bond order: 1, chiral: False to atom atomic num: 8, name: , idx: 3, aromatic: False, chiral: False\n",
      "bond order: 1, chiral: False to atom atomic num: 7, name: , idx: 27, aromatic: False, chiral: False\n",
      "\n"
     ]
    },
    {
     "name": "stderr",
     "output_type": "stream",
     "text": [
      "Warning (not error because allow_undefined_stereo=True): OEMol has unspecified stereochemistry. oemol.GetTitle(): \n",
      "Problematic atoms are:\n",
      "Atom atomic num: 7, name: , idx: 33, aromatic: False, chiral: True with bonds:\n",
      "bond order: 1, chiral: False to atom atomic num: 6, name: , idx: 32, aromatic: True, chiral: False\n",
      "bond order: 1, chiral: False to atom atomic num: 6, name: , idx: 34, aromatic: False, chiral: False\n",
      "bond order: 1, chiral: False to atom atomic num: 6, name: , idx: 35, aromatic: False, chiral: False\n",
      "\n"
     ]
    },
    {
     "name": "stderr",
     "output_type": "stream",
     "text": [
      "Warning (not error because allow_undefined_stereo=True): OEMol has unspecified stereochemistry. oemol.GetTitle(): \n",
      "Problematic atoms are:\n",
      "Atom atomic num: 6, name: , idx: 14, aromatic: False, chiral: True with bonds:\n",
      "bond order: 1, chiral: False to atom atomic num: 6, name: , idx: 13, aromatic: False, chiral: False\n",
      "bond order: 1, chiral: False to atom atomic num: 7, name: , idx: 3, aromatic: False, chiral: False\n",
      "bond order: 1, chiral: False to atom atomic num: 6, name: , idx: 15, aromatic: True, chiral: False\n",
      "bond order: 1, chiral: False to atom atomic num: 1, name: , idx: 44, aromatic: False, chiral: False\n",
      "\n"
     ]
    },
    {
     "name": "stderr",
     "output_type": "stream",
     "text": [
      "Warning (not error because allow_undefined_stereo=True): OEMol has unspecified stereochemistry. oemol.GetTitle(): \n",
      "Problematic atoms are:\n",
      "Atom atomic num: 16, name: , idx: 2, aromatic: False, chiral: True with bonds:\n",
      "bond order: 1, chiral: False to atom atomic num: 6, name: , idx: 1, aromatic: False, chiral: False\n",
      "bond order: 1, chiral: False to atom atomic num: 8, name: , idx: 3, aromatic: False, chiral: False\n",
      "bond order: 1, chiral: False to atom atomic num: 6, name: , idx: 4, aromatic: True, chiral: False\n",
      "\n"
     ]
    },
    {
     "name": "stderr",
     "output_type": "stream",
     "text": [
      "Warning (not error because allow_undefined_stereo=True): OEMol has unspecified stereochemistry. oemol.GetTitle(): \n",
      "Problematic atoms are:\n",
      "Atom atomic num: 7, name: , idx: 36, aromatic: False, chiral: True with bonds:\n",
      "bond order: 1, chiral: False to atom atomic num: 6, name: , idx: 35, aromatic: True, chiral: False\n",
      "bond order: 1, chiral: False to atom atomic num: 6, name: , idx: 37, aromatic: False, chiral: False\n",
      "bond order: 1, chiral: False to atom atomic num: 6, name: , idx: 38, aromatic: False, chiral: False\n",
      "\n"
     ]
    },
    {
     "name": "stderr",
     "output_type": "stream",
     "text": [
      "Warning (not error because allow_undefined_stereo=True): OEMol has unspecified stereochemistry. oemol.GetTitle(): \n",
      "Problematic atoms are:\n",
      "Atom atomic num: 7, name: , idx: 32, aromatic: False, chiral: True with bonds:\n",
      "bond order: 1, chiral: False to atom atomic num: 6, name: , idx: 31, aromatic: True, chiral: False\n",
      "bond order: 1, chiral: False to atom atomic num: 6, name: , idx: 33, aromatic: False, chiral: False\n",
      "bond order: 1, chiral: False to atom atomic num: 6, name: , idx: 34, aromatic: False, chiral: False\n",
      "\n"
     ]
    },
    {
     "name": "stderr",
     "output_type": "stream",
     "text": [
      "Warning (not error because allow_undefined_stereo=True): OEMol has unspecified stereochemistry. oemol.GetTitle(): \n",
      "Problematic atoms are:\n",
      "Atom atomic num: 7, name: , idx: 6, aromatic: False, chiral: True with bonds:\n",
      "bond order: 1, chiral: False to atom atomic num: 6, name: , idx: 5, aromatic: False, chiral: False\n",
      "bond order: 1, chiral: False to atom atomic num: 6, name: , idx: 7, aromatic: False, chiral: False\n",
      "bond order: 1, chiral: False to atom atomic num: 6, name: , idx: 10, aromatic: False, chiral: False\n",
      "\n"
     ]
    },
    {
     "name": "stderr",
     "output_type": "stream",
     "text": [
      "Warning (not error because allow_undefined_stereo=True): OEMol has unspecified stereochemistry. oemol.GetTitle(): \n",
      "Problematic atoms are:\n",
      "Atom atomic num: 7, name: , idx: 30, aromatic: False, chiral: True with bonds:\n",
      "bond order: 1, chiral: False to atom atomic num: 6, name: , idx: 29, aromatic: False, chiral: False\n",
      "bond order: 1, chiral: False to atom atomic num: 6, name: , idx: 31, aromatic: False, chiral: False\n",
      "bond order: 1, chiral: False to atom atomic num: 6, name: , idx: 32, aromatic: False, chiral: False\n",
      "\n"
     ]
    },
    {
     "name": "stderr",
     "output_type": "stream",
     "text": [
      "Warning (not error because allow_undefined_stereo=True): OEMol has unspecified stereochemistry. oemol.GetTitle(): \n",
      "Problematic atoms are:\n",
      "Atom atomic num: 7, name: , idx: 22, aromatic: False, chiral: True with bonds:\n",
      "bond order: 1, chiral: False to atom atomic num: 6, name: , idx: 21, aromatic: False, chiral: False\n",
      "bond order: 1, chiral: False to atom atomic num: 6, name: , idx: 28, aromatic: False, chiral: False\n",
      "bond order: 1, chiral: False to atom atomic num: 6, name: , idx: 23, aromatic: False, chiral: False\n",
      "\n"
     ]
    },
    {
     "name": "stderr",
     "output_type": "stream",
     "text": [
      "Warning (not error because allow_undefined_stereo=True): OEMol has unspecified stereochemistry. oemol.GetTitle(): \n",
      "Problematic atoms are:\n",
      "Atom atomic num: 6, name: , idx: 19, aromatic: False, chiral: True with bonds:\n",
      "bond order: 1, chiral: False to atom atomic num: 7, name: , idx: 7, aromatic: False, chiral: False\n",
      "bond order: 1, chiral: False to atom atomic num: 6, name: , idx: 20, aromatic: True, chiral: False\n",
      "bond order: 1, chiral: False to atom atomic num: 6, name: , idx: 27, aromatic: False, chiral: False\n",
      "bond order: 1, chiral: False to atom atomic num: 1, name: , idx: 42, aromatic: False, chiral: False\n",
      "\n"
     ]
    },
    {
     "name": "stderr",
     "output_type": "stream",
     "text": [
      "Warning (not error because allow_undefined_stereo=True): OEMol has unspecified stereochemistry. oemol.GetTitle(): \n",
      "Problematic atoms are:\n",
      "Atom atomic num: 7, name: , idx: 37, aromatic: False, chiral: True with bonds:\n",
      "bond order: 1, chiral: False to atom atomic num: 6, name: , idx: 36, aromatic: True, chiral: False\n",
      "bond order: 1, chiral: False to atom atomic num: 6, name: , idx: 38, aromatic: False, chiral: False\n",
      "bond order: 1, chiral: False to atom atomic num: 6, name: , idx: 39, aromatic: False, chiral: False\n",
      "\n"
     ]
    },
    {
     "name": "stderr",
     "output_type": "stream",
     "text": [
      "Warning (not error because allow_undefined_stereo=True): OEMol has unspecified stereochemistry. oemol.GetTitle(): \n",
      "Problematic atoms are:\n",
      "Atom atomic num: 7, name: , idx: 25, aromatic: False, chiral: True with bonds:\n",
      "bond order: 1, chiral: False to atom atomic num: 6, name: , idx: 24, aromatic: True, chiral: False\n",
      "bond order: 1, chiral: False to atom atomic num: 6, name: , idx: 32, aromatic: False, chiral: False\n",
      "bond order: 1, chiral: False to atom atomic num: 6, name: , idx: 26, aromatic: False, chiral: False\n",
      "Atom atomic num: 7, name: , idx: 28, aromatic: False, chiral: True with bonds:\n",
      "bond order: 1, chiral: False to atom atomic num: 6, name: , idx: 27, aromatic: False, chiral: False\n",
      "bond order: 1, chiral: False to atom atomic num: 6, name: , idx: 29, aromatic: False, chiral: False\n",
      "bond order: 1, chiral: False to atom atomic num: 6, name: , idx: 30, aromatic: False, chiral: True\n",
      "Atom atomic num: 6, name: , idx: 30, aromatic: False, chiral: True with bonds:\n",
      "bond order: 1, chiral: False to atom atomic num: 7, name: , idx: 28, aromatic: False, chiral: True\n",
      "bond order: 1, chiral: False to atom atomic num: 6, name: , idx: 31, aromatic: False, chiral: False\n",
      "bond order: 1, chiral: False to atom atomic num: 6, name: , idx: 32, aromatic: False, chiral: False\n",
      "bond order: 1, chiral: False to atom atomic num: 1, name: , idx: 62, aromatic: False, chiral: False\n",
      "\n"
     ]
    },
    {
     "name": "stderr",
     "output_type": "stream",
     "text": [
      "Warning (not error because allow_undefined_stereo=True): OEMol has unspecified stereochemistry. oemol.GetTitle(): \n",
      "Problematic atoms are:\n",
      "Atom atomic num: 7, name: , idx: 30, aromatic: False, chiral: True with bonds:\n",
      "bond order: 1, chiral: False to atom atomic num: 6, name: , idx: 29, aromatic: False, chiral: False\n",
      "bond order: 1, chiral: False to atom atomic num: 6, name: , idx: 31, aromatic: False, chiral: False\n",
      "bond order: 1, chiral: False to atom atomic num: 6, name: , idx: 32, aromatic: False, chiral: False\n",
      "\n"
     ]
    },
    {
     "name": "stderr",
     "output_type": "stream",
     "text": [
      "Warning (not error because allow_undefined_stereo=True): OEMol has unspecified stereochemistry. oemol.GetTitle(): \n",
      "Problematic atoms are:\n",
      "Atom atomic num: 6, name: , idx: 16, aromatic: False, chiral: True with bonds:\n",
      "bond order: 1, chiral: False to atom atomic num: 6, name: , idx: 15, aromatic: False, chiral: False\n",
      "bond order: 1, chiral: False to atom atomic num: 7, name: , idx: 5, aromatic: False, chiral: False\n",
      "bond order: 1, chiral: False to atom atomic num: 6, name: , idx: 17, aromatic: True, chiral: False\n",
      "bond order: 1, chiral: False to atom atomic num: 1, name: , idx: 32, aromatic: False, chiral: False\n",
      "\n"
     ]
    },
    {
     "name": "stderr",
     "output_type": "stream",
     "text": [
      "Warning (not error because allow_undefined_stereo=True): OEMol has unspecified stereochemistry. oemol.GetTitle(): \n",
      "Problematic atoms are:\n",
      "Atom atomic num: 7, name: , idx: 9, aromatic: False, chiral: True with bonds:\n",
      "bond order: 1, chiral: False to atom atomic num: 6, name: , idx: 8, aromatic: False, chiral: False\n",
      "bond order: 1, chiral: False to atom atomic num: 6, name: , idx: 10, aromatic: True, chiral: False\n",
      "bond order: 1, chiral: False to atom atomic num: 6, name: , idx: 29, aromatic: False, chiral: False\n",
      "\n"
     ]
    },
    {
     "name": "stderr",
     "output_type": "stream",
     "text": [
      "Warning (not error because allow_undefined_stereo=True): OEMol has unspecified stereochemistry. oemol.GetTitle(): \n",
      "Problematic atoms are:\n",
      "Atom atomic num: 7, name: , idx: 4, aromatic: False, chiral: True with bonds:\n",
      "bond order: 1, chiral: False to atom atomic num: 6, name: , idx: 3, aromatic: False, chiral: False\n",
      "bond order: 1, chiral: False to atom atomic num: 6, name: , idx: 5, aromatic: False, chiral: False\n",
      "bond order: 1, chiral: False to atom atomic num: 6, name: , idx: 6, aromatic: False, chiral: False\n",
      "\n"
     ]
    },
    {
     "name": "stderr",
     "output_type": "stream",
     "text": [
      "Warning (not error because allow_undefined_stereo=True): OEMol has unspecified stereochemistry. oemol.GetTitle(): \n",
      "Problematic atoms are:\n",
      "Atom atomic num: 7, name: , idx: 3, aromatic: False, chiral: True with bonds:\n",
      "bond order: 1, chiral: False to atom atomic num: 6, name: , idx: 2, aromatic: False, chiral: False\n",
      "bond order: 1, chiral: False to atom atomic num: 6, name: , idx: 41, aromatic: False, chiral: False\n",
      "bond order: 1, chiral: False to atom atomic num: 6, name: , idx: 4, aromatic: False, chiral: False\n",
      "\n"
     ]
    },
    {
     "name": "stderr",
     "output_type": "stream",
     "text": [
      "Warning (not error because allow_undefined_stereo=True): OEMol has unspecified stereochemistry. oemol.GetTitle(): \n",
      "Problematic atoms are:\n",
      "Atom atomic num: 6, name: , idx: 13, aromatic: False, chiral: True with bonds:\n",
      "bond order: 1, chiral: False to atom atomic num: 7, name: , idx: 12, aromatic: False, chiral: False\n",
      "bond order: 1, chiral: False to atom atomic num: 6, name: , idx: 14, aromatic: False, chiral: False\n",
      "bond order: 1, chiral: False to atom atomic num: 6, name: , idx: 16, aromatic: True, chiral: False\n",
      "bond order: 1, chiral: False to atom atomic num: 1, name: , idx: 36, aromatic: False, chiral: False\n",
      "\n"
     ]
    },
    {
     "name": "stderr",
     "output_type": "stream",
     "text": [
      "Warning (not error because allow_undefined_stereo=True): OEMol has unspecified stereochemistry. oemol.GetTitle(): \n",
      "Problematic atoms are:\n",
      "Atom atomic num: 6, name: , idx: 7, aromatic: False, chiral: True with bonds:\n",
      "bond order: 1, chiral: False to atom atomic num: 6, name: , idx: 6, aromatic: False, chiral: False\n",
      "bond order: 1, chiral: False to atom atomic num: 6, name: , idx: 8, aromatic: False, chiral: False\n",
      "bond order: 1, chiral: False to atom atomic num: 7, name: , idx: 10, aromatic: False, chiral: False\n",
      "bond order: 1, chiral: False to atom atomic num: 1, name: , idx: 35, aromatic: False, chiral: False\n",
      "\n"
     ]
    },
    {
     "name": "stderr",
     "output_type": "stream",
     "text": [
      "Warning (not error because allow_undefined_stereo=True): OEMol has unspecified stereochemistry. oemol.GetTitle(): \n",
      "Problematic atoms are:\n",
      "Atom atomic num: 6, name: , idx: 15, aromatic: False, chiral: True with bonds:\n",
      "bond order: 1, chiral: False to atom atomic num: 6, name: , idx: 14, aromatic: False, chiral: False\n",
      "bond order: 1, chiral: False to atom atomic num: 7, name: , idx: 3, aromatic: False, chiral: False\n",
      "bond order: 1, chiral: False to atom atomic num: 6, name: , idx: 16, aromatic: True, chiral: False\n",
      "bond order: 1, chiral: False to atom atomic num: 1, name: , idx: 30, aromatic: False, chiral: False\n",
      "\n"
     ]
    },
    {
     "name": "stderr",
     "output_type": "stream",
     "text": [
      "Warning (not error because allow_undefined_stereo=True): OEMol has unspecified stereochemistry. oemol.GetTitle(): \n",
      "Problematic atoms are:\n",
      "Atom atomic num: 6, name: , idx: 20, aromatic: False, chiral: True with bonds:\n",
      "bond order: 1, chiral: False to atom atomic num: 7, name: , idx: 8, aromatic: False, chiral: False\n",
      "bond order: 1, chiral: False to atom atomic num: 6, name: , idx: 21, aromatic: True, chiral: False\n",
      "bond order: 1, chiral: False to atom atomic num: 6, name: , idx: 28, aromatic: False, chiral: False\n",
      "bond order: 1, chiral: False to atom atomic num: 1, name: , idx: 42, aromatic: False, chiral: False\n",
      "\n"
     ]
    },
    {
     "name": "stderr",
     "output_type": "stream",
     "text": [
      "Warning (not error because allow_undefined_stereo=True): OEMol has unspecified stereochemistry. oemol.GetTitle(): \n",
      "Problematic atoms are:\n",
      "Atom atomic num: 6, name: , idx: 25, aromatic: False, chiral: True with bonds:\n",
      "bond order: 1, chiral: False to atom atomic num: 7, name: , idx: 24, aromatic: False, chiral: False\n",
      "bond order: 1, chiral: False to atom atomic num: 6, name: , idx: 3, aromatic: False, chiral: False\n",
      "bond order: 1, chiral: False to atom atomic num: 7, name: , idx: 26, aromatic: False, chiral: False\n",
      "bond order: 1, chiral: False to atom atomic num: 1, name: , idx: 58, aromatic: False, chiral: False\n",
      "\n"
     ]
    },
    {
     "name": "stderr",
     "output_type": "stream",
     "text": [
      "Warning (not error because allow_undefined_stereo=True): OEMol has unspecified stereochemistry. oemol.GetTitle(): \n",
      "Problematic atoms are:\n",
      "Atom atomic num: 6, name: , idx: 15, aromatic: False, chiral: True with bonds:\n",
      "bond order: 1, chiral: False to atom atomic num: 6, name: , idx: 14, aromatic: False, chiral: False\n",
      "bond order: 1, chiral: False to atom atomic num: 7, name: , idx: 3, aromatic: False, chiral: False\n",
      "bond order: 1, chiral: False to atom atomic num: 6, name: , idx: 16, aromatic: True, chiral: False\n",
      "bond order: 1, chiral: False to atom atomic num: 1, name: , idx: 30, aromatic: False, chiral: False\n",
      "\n"
     ]
    },
    {
     "name": "stderr",
     "output_type": "stream",
     "text": [
      "Warning (not error because allow_undefined_stereo=True): OEMol has unspecified stereochemistry. oemol.GetTitle(): \n",
      "Problematic atoms are:\n",
      "Atom atomic num: 6, name: , idx: 7, aromatic: False, chiral: True with bonds:\n",
      "bond order: 1, chiral: False to atom atomic num: 6, name: , idx: 6, aromatic: False, chiral: False\n",
      "bond order: 1, chiral: False to atom atomic num: 6, name: , idx: 8, aromatic: False, chiral: False\n",
      "bond order: 1, chiral: False to atom atomic num: 6, name: , idx: 37, aromatic: False, chiral: False\n",
      "bond order: 1, chiral: False to atom atomic num: 1, name: , idx: 45, aromatic: False, chiral: False\n",
      "\n"
     ]
    },
    {
     "name": "stderr",
     "output_type": "stream",
     "text": [
      "Warning (not error because allow_undefined_stereo=True): OEMol has unspecified stereochemistry. oemol.GetTitle(): \n",
      "Problematic atoms are:\n",
      "Atom atomic num: 7, name: , idx: 36, aromatic: False, chiral: True with bonds:\n",
      "bond order: 1, chiral: False to atom atomic num: 6, name: , idx: 35, aromatic: False, chiral: False\n",
      "bond order: 1, chiral: False to atom atomic num: 6, name: , idx: 42, aromatic: False, chiral: False\n",
      "bond order: 1, chiral: False to atom atomic num: 6, name: , idx: 37, aromatic: False, chiral: False\n",
      "Atom atomic num: 6, name: , idx: 40, aromatic: False, chiral: True with bonds:\n",
      "bond order: 1, chiral: False to atom atomic num: 6, name: , idx: 39, aromatic: False, chiral: False\n",
      "bond order: 1, chiral: False to atom atomic num: 6, name: , idx: 41, aromatic: False, chiral: False\n",
      "bond order: 1, chiral: False to atom atomic num: 6, name: , idx: 42, aromatic: False, chiral: False\n",
      "bond order: 1, chiral: False to atom atomic num: 1, name: , idx: 69, aromatic: False, chiral: False\n",
      "\n"
     ]
    },
    {
     "name": "stderr",
     "output_type": "stream",
     "text": [
      "Warning (not error because allow_undefined_stereo=True): OEMol has unspecified stereochemistry. oemol.GetTitle(): \n",
      "Problematic atoms are:\n",
      "Atom atomic num: 6, name: , idx: 13, aromatic: False, chiral: True with bonds:\n",
      "bond order: 1, chiral: False to atom atomic num: 6, name: , idx: 12, aromatic: False, chiral: False\n",
      "bond order: 1, chiral: False to atom atomic num: 16, name: , idx: 17, aromatic: False, chiral: False\n",
      "bond order: 1, chiral: False to atom atomic num: 6, name: , idx: 14, aromatic: False, chiral: False\n",
      "bond order: 1, chiral: False to atom atomic num: 1, name: , idx: 44, aromatic: False, chiral: False\n",
      "\n"
     ]
    },
    {
     "name": "stderr",
     "output_type": "stream",
     "text": [
      "Warning (not error because allow_undefined_stereo=True): OEMol has unspecified stereochemistry. oemol.GetTitle(): \n",
      "Problematic atoms are:\n",
      "Atom atomic num: 6, name: , idx: 7, aromatic: False, chiral: True with bonds:\n",
      "bond order: 1, chiral: False to atom atomic num: 6, name: , idx: 6, aromatic: False, chiral: False\n",
      "bond order: 1, chiral: False to atom atomic num: 16, name: , idx: 8, aromatic: False, chiral: False\n",
      "bond order: 1, chiral: False to atom atomic num: 6, name: , idx: 34, aromatic: False, chiral: False\n",
      "bond order: 1, chiral: False to atom atomic num: 1, name: , idx: 42, aromatic: False, chiral: False\n",
      "\n"
     ]
    },
    {
     "name": "stderr",
     "output_type": "stream",
     "text": [
      "Warning (not error because allow_undefined_stereo=True): OEMol has unspecified stereochemistry. oemol.GetTitle(): \n",
      "Problematic atoms are:\n",
      "Atom atomic num: 6, name: , idx: 8, aromatic: False, chiral: True with bonds:\n",
      "bond order: 1, chiral: False to atom atomic num: 6, name: , idx: 7, aromatic: True, chiral: False\n",
      "bond order: 1, chiral: False to atom atomic num: 6, name: , idx: 9, aromatic: False, chiral: False\n",
      "bond order: 1, chiral: False to atom atomic num: 6, name: , idx: 21, aromatic: False, chiral: False\n",
      "bond order: 1, chiral: False to atom atomic num: 1, name: , idx: 31, aromatic: False, chiral: False\n",
      "\n"
     ]
    },
    {
     "name": "stderr",
     "output_type": "stream",
     "text": [
      "Warning (not error because allow_undefined_stereo=True): OEMol has unspecified stereochemistry. oemol.GetTitle(): \n",
      "Problematic atoms are:\n",
      "Atom atomic num: 7, name: , idx: 7, aromatic: False, chiral: True with bonds:\n",
      "bond order: 1, chiral: False to atom atomic num: 6, name: , idx: 6, aromatic: False, chiral: False\n",
      "bond order: 1, chiral: False to atom atomic num: 6, name: , idx: 8, aromatic: False, chiral: False\n",
      "bond order: 1, chiral: False to atom atomic num: 6, name: , idx: 9, aromatic: False, chiral: False\n",
      "\n"
     ]
    },
    {
     "name": "stderr",
     "output_type": "stream",
     "text": [
      "Warning (not error because allow_undefined_stereo=True): OEMol has unspecified stereochemistry. oemol.GetTitle(): \n",
      "Problematic atoms are:\n",
      "Atom atomic num: 7, name: , idx: 5, aromatic: False, chiral: True with bonds:\n",
      "bond order: 1, chiral: False to atom atomic num: 6, name: , idx: 4, aromatic: True, chiral: False\n",
      "bond order: 1, chiral: False to atom atomic num: 6, name: , idx: 6, aromatic: False, chiral: False\n",
      "bond order: 1, chiral: False to atom atomic num: 6, name: , idx: 7, aromatic: False, chiral: False\n",
      "\n"
     ]
    },
    {
     "name": "stderr",
     "output_type": "stream",
     "text": [
      "Warning (not error because allow_undefined_stereo=True): OEMol has unspecified stereochemistry. oemol.GetTitle(): \n",
      "Problematic atoms are:\n",
      "Atom atomic num: 6, name: , idx: 4, aromatic: False, chiral: True with bonds:\n",
      "bond order: 1, chiral: False to atom atomic num: 7, name: , idx: 3, aromatic: False, chiral: False\n",
      "bond order: 1, chiral: False to atom atomic num: 6, name: , idx: 5, aromatic: False, chiral: False\n",
      "bond order: 1, chiral: False to atom atomic num: 6, name: , idx: 42, aromatic: False, chiral: False\n",
      "bond order: 1, chiral: False to atom atomic num: 1, name: , idx: 56, aromatic: False, chiral: False\n",
      "Atom atomic num: 6, name: , idx: 20, aromatic: False, chiral: True with bonds:\n",
      "bond order: 1, chiral: False to atom atomic num: 6, name: , idx: 19, aromatic: False, chiral: False\n",
      "bond order: 1, chiral: False to atom atomic num: 7, name: , idx: 21, aromatic: False, chiral: False\n",
      "bond order: 1, chiral: False to atom atomic num: 6, name: , idx: 25, aromatic: False, chiral: False\n",
      "bond order: 1, chiral: False to atom atomic num: 1, name: , idx: 66, aromatic: False, chiral: False\n",
      "\n"
     ]
    },
    {
     "name": "stderr",
     "output_type": "stream",
     "text": [
      "Warning (not error because allow_undefined_stereo=True): OEMol has unspecified stereochemistry. oemol.GetTitle(): \n",
      "Problematic atoms are:\n",
      "Atom atomic num: 7, name: , idx: 32, aromatic: False, chiral: True with bonds:\n",
      "bond order: 1, chiral: False to atom atomic num: 6, name: , idx: 31, aromatic: True, chiral: False\n",
      "bond order: 1, chiral: False to atom atomic num: 6, name: , idx: 33, aromatic: False, chiral: False\n",
      "bond order: 1, chiral: False to atom atomic num: 6, name: , idx: 34, aromatic: False, chiral: False\n",
      "\n"
     ]
    },
    {
     "name": "stderr",
     "output_type": "stream",
     "text": [
      "Warning (not error because allow_undefined_stereo=True): OEMol has unspecified stereochemistry. oemol.GetTitle(): \n",
      "Problematic atoms are:\n",
      "Atom atomic num: 6, name: , idx: 26, aromatic: False, chiral: True with bonds:\n",
      "bond order: 1, chiral: False to atom atomic num: 7, name: , idx: 25, aromatic: False, chiral: False\n",
      "bond order: 1, chiral: False to atom atomic num: 6, name: , idx: 3, aromatic: False, chiral: False\n",
      "bond order: 1, chiral: False to atom atomic num: 7, name: , idx: 27, aromatic: False, chiral: False\n",
      "bond order: 1, chiral: False to atom atomic num: 1, name: , idx: 58, aromatic: False, chiral: False\n",
      "\n"
     ]
    },
    {
     "name": "stderr",
     "output_type": "stream",
     "text": [
      "Warning (not error because allow_undefined_stereo=True): OEMol has unspecified stereochemistry. oemol.GetTitle(): \n",
      "Problematic atoms are:\n",
      "Atom atomic num: 7, name: , idx: 22, aromatic: False, chiral: True with bonds:\n",
      "bond order: 1, chiral: False to atom atomic num: 6, name: , idx: 21, aromatic: False, chiral: False\n",
      "bond order: 1, chiral: False to atom atomic num: 6, name: , idx: 23, aromatic: False, chiral: False\n",
      "bond order: 1, chiral: False to atom atomic num: 6, name: , idx: 24, aromatic: False, chiral: True\n",
      "\n"
     ]
    },
    {
     "name": "stderr",
     "output_type": "stream",
     "text": [
      "Warning (not error because allow_undefined_stereo=True): OEMol has unspecified stereochemistry. oemol.GetTitle(): \n",
      "Problematic atoms are:\n",
      "Atom atomic num: 6, name: , idx: 21, aromatic: False, chiral: True with bonds:\n",
      "bond order: 1, chiral: False to atom atomic num: 6, name: , idx: 1, aromatic: False, chiral: False\n",
      "bond order: 1, chiral: False to atom atomic num: 16, name: , idx: 25, aromatic: False, chiral: False\n",
      "bond order: 1, chiral: False to atom atomic num: 6, name: , idx: 22, aromatic: False, chiral: False\n",
      "bond order: 1, chiral: False to atom atomic num: 1, name: , idx: 36, aromatic: False, chiral: False\n",
      "\n"
     ]
    },
    {
     "name": "stderr",
     "output_type": "stream",
     "text": [
      "Warning (not error because allow_undefined_stereo=True): OEMol has unspecified stereochemistry. oemol.GetTitle(): \n",
      "Problematic atoms are:\n",
      "Atom atomic num: 7, name: , idx: 9, aromatic: False, chiral: True with bonds:\n",
      "bond order: 1, chiral: False to atom atomic num: 6, name: , idx: 8, aromatic: False, chiral: False\n",
      "bond order: 1, chiral: False to atom atomic num: 6, name: , idx: 10, aromatic: True, chiral: False\n",
      "bond order: 1, chiral: False to atom atomic num: 6, name: , idx: 41, aromatic: False, chiral: False\n",
      "\n"
     ]
    },
    {
     "name": "stderr",
     "output_type": "stream",
     "text": [
      "Warning (not error because allow_undefined_stereo=True): OEMol has unspecified stereochemistry. oemol.GetTitle(): \n",
      "Problematic atoms are:\n",
      "Atom atomic num: 16, name: , idx: 14, aromatic: False, chiral: True with bonds:\n",
      "bond order: 2, chiral: False to atom atomic num: 7, name: , idx: 13, aromatic: False, chiral: False\n",
      "bond order: 1, chiral: False to atom atomic num: 6, name: , idx: 7, aromatic: True, chiral: False\n",
      "bond order: 1, chiral: False to atom atomic num: 6, name: , idx: 15, aromatic: True, chiral: False\n",
      "\n"
     ]
    },
    {
     "name": "stderr",
     "output_type": "stream",
     "text": [
      "Warning (not error because allow_undefined_stereo=True): OEMol has unspecified stereochemistry. oemol.GetTitle(): \n",
      "Problematic atoms are:\n",
      "Atom atomic num: 6, name: , idx: 1, aromatic: False, chiral: True with bonds:\n",
      "bond order: 1, chiral: False to atom atomic num: 6, name: , idx: 0, aromatic: False, chiral: False\n",
      "bond order: 1, chiral: False to atom atomic num: 8, name: , idx: 2, aromatic: False, chiral: False\n",
      "bond order: 1, chiral: False to atom atomic num: 6, name: , idx: 3, aromatic: False, chiral: False\n",
      "bond order: 1, chiral: False to atom atomic num: 1, name: , idx: 27, aromatic: False, chiral: False\n",
      "\n"
     ]
    },
    {
     "name": "stderr",
     "output_type": "stream",
     "text": [
      "Warning (not error because allow_undefined_stereo=True): OEMol has unspecified stereochemistry. oemol.GetTitle(): \n",
      "Problematic atoms are:\n",
      "Atom atomic num: 7, name: , idx: 31, aromatic: False, chiral: True with bonds:\n",
      "bond order: 1, chiral: False to atom atomic num: 6, name: , idx: 30, aromatic: True, chiral: False\n",
      "bond order: 1, chiral: False to atom atomic num: 6, name: , idx: 32, aromatic: False, chiral: False\n",
      "bond order: 1, chiral: False to atom atomic num: 6, name: , idx: 33, aromatic: False, chiral: False\n",
      "\n"
     ]
    },
    {
     "name": "stderr",
     "output_type": "stream",
     "text": [
      "Warning (not error because allow_undefined_stereo=True): OEMol has unspecified stereochemistry. oemol.GetTitle(): \n",
      "Problematic atoms are:\n",
      "Atom atomic num: 7, name: , idx: 30, aromatic: False, chiral: True with bonds:\n",
      "bond order: 1, chiral: False to atom atomic num: 6, name: , idx: 29, aromatic: True, chiral: False\n",
      "bond order: 1, chiral: False to atom atomic num: 6, name: , idx: 31, aromatic: False, chiral: False\n",
      "bond order: 1, chiral: False to atom atomic num: 6, name: , idx: 32, aromatic: False, chiral: False\n",
      "\n"
     ]
    },
    {
     "name": "stderr",
     "output_type": "stream",
     "text": [
      "Warning (not error because allow_undefined_stereo=True): OEMol has unspecified stereochemistry. oemol.GetTitle(): \n",
      "Problematic atoms are:\n",
      "Atom atomic num: 7, name: , idx: 9, aromatic: False, chiral: True with bonds:\n",
      "bond order: 1, chiral: False to atom atomic num: 6, name: , idx: 8, aromatic: False, chiral: False\n",
      "bond order: 1, chiral: False to atom atomic num: 6, name: , idx: 10, aromatic: True, chiral: False\n",
      "bond order: 1, chiral: False to atom atomic num: 6, name: , idx: 36, aromatic: False, chiral: False\n",
      "\n"
     ]
    },
    {
     "name": "stderr",
     "output_type": "stream",
     "text": [
      "Warning (not error because allow_undefined_stereo=True): OEMol has unspecified stereochemistry. oemol.GetTitle(): \n",
      "Problematic atoms are:\n",
      "Atom atomic num: 7, name: , idx: 6, aromatic: False, chiral: True with bonds:\n",
      "bond order: 1, chiral: False to atom atomic num: 6, name: , idx: 5, aromatic: False, chiral: False\n",
      "bond order: 1, chiral: False to atom atomic num: 6, name: , idx: 7, aromatic: True, chiral: False\n",
      "bond order: 1, chiral: False to atom atomic num: 6, name: , idx: 27, aromatic: False, chiral: False\n",
      "\n"
     ]
    },
    {
     "name": "stderr",
     "output_type": "stream",
     "text": [
      "Warning (not error because allow_undefined_stereo=True): OEMol has unspecified stereochemistry. oemol.GetTitle(): \n",
      "Problematic atoms are:\n",
      "Atom atomic num: 7, name: , idx: 4, aromatic: False, chiral: True with bonds:\n",
      "bond order: 1, chiral: False to atom atomic num: 6, name: , idx: 3, aromatic: False, chiral: False\n",
      "bond order: 1, chiral: False to atom atomic num: 6, name: , idx: 5, aromatic: False, chiral: False\n",
      "bond order: 1, chiral: False to atom atomic num: 6, name: , idx: 6, aromatic: False, chiral: False\n",
      "\n"
     ]
    },
    {
     "name": "stderr",
     "output_type": "stream",
     "text": [
      "Warning (not error because allow_undefined_stereo=True): OEMol has unspecified stereochemistry. oemol.GetTitle(): \n",
      "Problematic bonds are: [<openeye.oechem.OEBondBase; proxy of <Swig Object of type 'OEChem::OEBondBase *' at 0x7f823cfe34e0> >]\n",
      "\n"
     ]
    },
    {
     "name": "stderr",
     "output_type": "stream",
     "text": [
      "Warning (not error because allow_undefined_stereo=True): OEMol has unspecified stereochemistry. oemol.GetTitle(): \n",
      "Problematic atoms are:\n",
      "Atom atomic num: 7, name: , idx: 9, aromatic: False, chiral: True with bonds:\n",
      "bond order: 1, chiral: False to atom atomic num: 6, name: , idx: 8, aromatic: False, chiral: False\n",
      "bond order: 1, chiral: False to atom atomic num: 6, name: , idx: 10, aromatic: True, chiral: False\n",
      "bond order: 1, chiral: False to atom atomic num: 6, name: , idx: 36, aromatic: False, chiral: False\n",
      "\n"
     ]
    },
    {
     "name": "stderr",
     "output_type": "stream",
     "text": [
      "Warning (not error because allow_undefined_stereo=True): OEMol has unspecified stereochemistry. oemol.GetTitle(): \n",
      "Problematic atoms are:\n",
      "Atom atomic num: 6, name: , idx: 4, aromatic: False, chiral: True with bonds:\n",
      "bond order: 1, chiral: False to atom atomic num: 7, name: , idx: 3, aromatic: False, chiral: False\n",
      "bond order: 1, chiral: False to atom atomic num: 6, name: , idx: 5, aromatic: False, chiral: False\n",
      "bond order: 1, chiral: False to atom atomic num: 6, name: , idx: 10, aromatic: False, chiral: False\n",
      "bond order: 1, chiral: False to atom atomic num: 1, name: , idx: 50, aromatic: False, chiral: False\n",
      "\n"
     ]
    },
    {
     "name": "stderr",
     "output_type": "stream",
     "text": [
      "Warning (not error because allow_undefined_stereo=True): OEMol has unspecified stereochemistry. oemol.GetTitle(): \n",
      "Problematic atoms are:\n",
      "Atom atomic num: 7, name: , idx: 29, aromatic: False, chiral: True with bonds:\n",
      "bond order: 1, chiral: False to atom atomic num: 6, name: , idx: 28, aromatic: False, chiral: False\n",
      "bond order: 1, chiral: False to atom atomic num: 6, name: , idx: 30, aromatic: False, chiral: False\n",
      "bond order: 1, chiral: False to atom atomic num: 6, name: , idx: 31, aromatic: False, chiral: False\n",
      "\n"
     ]
    },
    {
     "name": "stderr",
     "output_type": "stream",
     "text": [
      "Warning (not error because allow_undefined_stereo=True): OEMol has unspecified stereochemistry. oemol.GetTitle(): \n",
      "Problematic atoms are:\n",
      "Atom atomic num: 6, name: , idx: 14, aromatic: False, chiral: True with bonds:\n",
      "bond order: 1, chiral: False to atom atomic num: 7, name: , idx: 7, aromatic: False, chiral: False\n",
      "bond order: 1, chiral: False to atom atomic num: 6, name: , idx: 15, aromatic: True, chiral: False\n",
      "bond order: 1, chiral: False to atom atomic num: 6, name: , idx: 25, aromatic: False, chiral: False\n",
      "bond order: 1, chiral: False to atom atomic num: 1, name: , idx: 35, aromatic: False, chiral: False\n",
      "\n"
     ]
    },
    {
     "name": "stderr",
     "output_type": "stream",
     "text": [
      "Warning (not error because allow_undefined_stereo=True): OEMol has unspecified stereochemistry. oemol.GetTitle(): \n",
      "Problematic atoms are:\n",
      "Atom atomic num: 7, name: , idx: 25, aromatic: False, chiral: True with bonds:\n",
      "bond order: 1, chiral: False to atom atomic num: 6, name: , idx: 24, aromatic: True, chiral: False\n",
      "bond order: 1, chiral: False to atom atomic num: 6, name: , idx: 32, aromatic: False, chiral: False\n",
      "bond order: 1, chiral: False to atom atomic num: 6, name: , idx: 26, aromatic: False, chiral: False\n",
      "Atom atomic num: 7, name: , idx: 29, aromatic: False, chiral: True with bonds:\n",
      "bond order: 1, chiral: False to atom atomic num: 6, name: , idx: 28, aromatic: False, chiral: False\n",
      "bond order: 1, chiral: False to atom atomic num: 6, name: , idx: 30, aromatic: False, chiral: False\n",
      "bond order: 1, chiral: False to atom atomic num: 6, name: , idx: 31, aromatic: False, chiral: False\n",
      "\n"
     ]
    },
    {
     "name": "stderr",
     "output_type": "stream",
     "text": [
      "Warning (not error because allow_undefined_stereo=True): OEMol has unspecified stereochemistry. oemol.GetTitle(): \n",
      "Problematic atoms are:\n",
      "Atom atomic num: 6, name: , idx: 25, aromatic: False, chiral: True with bonds:\n",
      "bond order: 1, chiral: False to atom atomic num: 6, name: , idx: 24, aromatic: False, chiral: False\n",
      "bond order: 1, chiral: False to atom atomic num: 6, name: , idx: 26, aromatic: False, chiral: False\n",
      "bond order: 1, chiral: False to atom atomic num: 7, name: , idx: 27, aromatic: False, chiral: False\n",
      "bond order: 1, chiral: False to atom atomic num: 1, name: , idx: 60, aromatic: False, chiral: False\n",
      "Atom atomic num: 6, name: , idx: 29, aromatic: False, chiral: True with bonds:\n",
      "bond order: 1, chiral: False to atom atomic num: 7, name: , idx: 27, aromatic: False, chiral: False\n",
      "bond order: 1, chiral: False to atom atomic num: 6, name: , idx: 30, aromatic: False, chiral: False\n",
      "bond order: 1, chiral: False to atom atomic num: 6, name: , idx: 31, aromatic: False, chiral: False\n",
      "bond order: 1, chiral: False to atom atomic num: 1, name: , idx: 67, aromatic: False, chiral: False\n",
      "\n"
     ]
    },
    {
     "name": "stderr",
     "output_type": "stream",
     "text": [
      "Warning (not error because allow_undefined_stereo=True): OEMol has unspecified stereochemistry. oemol.GetTitle(): \n",
      "Problematic atoms are:\n",
      "Atom atomic num: 7, name: , idx: 8, aromatic: False, chiral: True with bonds:\n",
      "bond order: 1, chiral: False to atom atomic num: 6, name: , idx: 7, aromatic: False, chiral: False\n",
      "bond order: 1, chiral: False to atom atomic num: 6, name: , idx: 3, aromatic: False, chiral: True\n",
      "bond order: 1, chiral: False to atom atomic num: 6, name: , idx: 9, aromatic: False, chiral: False\n",
      "\n"
     ]
    },
    {
     "name": "stderr",
     "output_type": "stream",
     "text": [
      "Warning (not error because allow_undefined_stereo=True): OEMol has unspecified stereochemistry. oemol.GetTitle(): \n",
      "Problematic atoms are:\n",
      "Atom atomic num: 6, name: , idx: 8, aromatic: False, chiral: True with bonds:\n",
      "bond order: 1, chiral: False to atom atomic num: 6, name: , idx: 1, aromatic: False, chiral: False\n",
      "bond order: 1, chiral: False to atom atomic num: 6, name: , idx: 9, aromatic: True, chiral: False\n",
      "bond order: 1, chiral: False to atom atomic num: 7, name: , idx: 17, aromatic: False, chiral: False\n",
      "bond order: 1, chiral: False to atom atomic num: 1, name: , idx: 42, aromatic: False, chiral: False\n",
      "\n"
     ]
    },
    {
     "name": "stderr",
     "output_type": "stream",
     "text": [
      "Warning (not error because allow_undefined_stereo=True): OEMol has unspecified stereochemistry. oemol.GetTitle(): \n",
      "Problematic atoms are:\n",
      "Atom atomic num: 7, name: , idx: 8, aromatic: False, chiral: True with bonds:\n",
      "bond order: 1, chiral: False to atom atomic num: 6, name: , idx: 7, aromatic: False, chiral: False\n",
      "bond order: 1, chiral: False to atom atomic num: 6, name: , idx: 9, aromatic: True, chiral: False\n",
      "bond order: 1, chiral: False to atom atomic num: 6, name: , idx: 30, aromatic: False, chiral: False\n",
      "\n"
     ]
    },
    {
     "name": "stderr",
     "output_type": "stream",
     "text": [
      "Warning (not error because allow_undefined_stereo=True): OEMol has unspecified stereochemistry. oemol.GetTitle(): \n",
      "Problematic atoms are:\n",
      "Atom atomic num: 7, name: , idx: 22, aromatic: False, chiral: True with bonds:\n",
      "bond order: 1, chiral: False to atom atomic num: 6, name: , idx: 21, aromatic: False, chiral: False\n",
      "bond order: 1, chiral: False to atom atomic num: 6, name: , idx: 23, aromatic: False, chiral: False\n",
      "bond order: 1, chiral: False to atom atomic num: 6, name: , idx: 24, aromatic: False, chiral: False\n",
      "\n"
     ]
    },
    {
     "name": "stderr",
     "output_type": "stream",
     "text": [
      "Warning (not error because allow_undefined_stereo=True): OEMol has unspecified stereochemistry. oemol.GetTitle(): \n",
      "Problematic atoms are:\n",
      "Atom atomic num: 6, name: , idx: 21, aromatic: False, chiral: True with bonds:\n",
      "bond order: 1, chiral: False to atom atomic num: 7, name: , idx: 8, aromatic: False, chiral: False\n",
      "bond order: 1, chiral: False to atom atomic num: 6, name: , idx: 22, aromatic: True, chiral: False\n",
      "bond order: 1, chiral: False to atom atomic num: 6, name: , idx: 29, aromatic: False, chiral: False\n",
      "bond order: 1, chiral: False to atom atomic num: 1, name: , idx: 42, aromatic: False, chiral: False\n",
      "\n"
     ]
    },
    {
     "name": "stderr",
     "output_type": "stream",
     "text": [
      "Warning (not error because allow_undefined_stereo=True): OEMol has unspecified stereochemistry. oemol.GetTitle(): \n",
      "Problematic atoms are:\n",
      "Atom atomic num: 6, name: , idx: 21, aromatic: False, chiral: True with bonds:\n",
      "bond order: 1, chiral: False to atom atomic num: 7, name: , idx: 20, aromatic: False, chiral: False\n",
      "bond order: 1, chiral: False to atom atomic num: 6, name: , idx: 25, aromatic: False, chiral: False\n",
      "bond order: 1, chiral: False to atom atomic num: 6, name: , idx: 22, aromatic: False, chiral: False\n",
      "bond order: 1, chiral: False to atom atomic num: 1, name: , idx: 43, aromatic: False, chiral: False\n",
      "\n"
     ]
    },
    {
     "name": "stderr",
     "output_type": "stream",
     "text": [
      "Warning (not error because allow_undefined_stereo=True): OEMol has unspecified stereochemistry. oemol.GetTitle(): \n",
      "Problematic atoms are:\n",
      "Atom atomic num: 6, name: , idx: 10, aromatic: False, chiral: True with bonds:\n",
      "bond order: 1, chiral: False to atom atomic num: 7, name: , idx: 9, aromatic: False, chiral: False\n",
      "bond order: 1, chiral: False to atom atomic num: 6, name: , idx: 11, aromatic: True, chiral: False\n",
      "bond order: 1, chiral: False to atom atomic num: 6, name: , idx: 17, aromatic: False, chiral: False\n",
      "bond order: 1, chiral: False to atom atomic num: 1, name: , idx: 39, aromatic: False, chiral: False\n",
      "Atom atomic num: 6, name: , idx: 19, aromatic: False, chiral: True with bonds:\n",
      "bond order: 1, chiral: False to atom atomic num: 7, name: , idx: 7, aromatic: False, chiral: False\n",
      "bond order: 1, chiral: False to atom atomic num: 6, name: , idx: 20, aromatic: True, chiral: False\n",
      "bond order: 1, chiral: False to atom atomic num: 6, name: , idx: 30, aromatic: False, chiral: False\n",
      "bond order: 1, chiral: False to atom atomic num: 1, name: , idx: 47, aromatic: False, chiral: False\n",
      "\n"
     ]
    },
    {
     "name": "stderr",
     "output_type": "stream",
     "text": [
      "Warning (not error because allow_undefined_stereo=True): OEMol has unspecified stereochemistry. oemol.GetTitle(): \n",
      "Problematic atoms are:\n",
      "Atom atomic num: 7, name: , idx: 5, aromatic: False, chiral: True with bonds:\n",
      "bond order: 1, chiral: False to atom atomic num: 6, name: , idx: 4, aromatic: True, chiral: False\n",
      "bond order: 1, chiral: False to atom atomic num: 6, name: , idx: 6, aromatic: False, chiral: False\n",
      "bond order: 1, chiral: False to atom atomic num: 6, name: , idx: 7, aromatic: False, chiral: False\n",
      "\n"
     ]
    },
    {
     "name": "stderr",
     "output_type": "stream",
     "text": [
      "Warning (not error because allow_undefined_stereo=True): OEMol has unspecified stereochemistry. oemol.GetTitle(): \n",
      "Problematic atoms are:\n",
      "Atom atomic num: 6, name: , idx: 17, aromatic: False, chiral: True with bonds:\n",
      "bond order: 1, chiral: False to atom atomic num: 6, name: , idx: 16, aromatic: False, chiral: False\n",
      "bond order: 1, chiral: False to atom atomic num: 7, name: , idx: 3, aromatic: False, chiral: False\n",
      "bond order: 1, chiral: False to atom atomic num: 6, name: , idx: 18, aromatic: True, chiral: False\n",
      "bond order: 1, chiral: False to atom atomic num: 1, name: , idx: 47, aromatic: False, chiral: False\n",
      "\n"
     ]
    },
    {
     "name": "stderr",
     "output_type": "stream",
     "text": [
      "Warning (not error because allow_undefined_stereo=True): OEMol has unspecified stereochemistry. oemol.GetTitle(): \n",
      "Problematic atoms are:\n",
      "Atom atomic num: 7, name: , idx: 1, aromatic: False, chiral: True with bonds:\n",
      "bond order: 1, chiral: False to atom atomic num: 6, name: , idx: 0, aromatic: False, chiral: False\n",
      "bond order: 1, chiral: False to atom atomic num: 6, name: , idx: 2, aromatic: False, chiral: False\n",
      "bond order: 1, chiral: False to atom atomic num: 6, name: , idx: 16, aromatic: False, chiral: False\n",
      "\n"
     ]
    },
    {
     "name": "stderr",
     "output_type": "stream",
     "text": [
      "Warning (not error because allow_undefined_stereo=True): OEMol has unspecified stereochemistry. oemol.GetTitle(): \n",
      "Problematic atoms are:\n",
      "Atom atomic num: 7, name: , idx: 33, aromatic: False, chiral: True with bonds:\n",
      "bond order: 1, chiral: False to atom atomic num: 6, name: , idx: 32, aromatic: True, chiral: False\n",
      "bond order: 1, chiral: False to atom atomic num: 6, name: , idx: 34, aromatic: False, chiral: False\n",
      "bond order: 1, chiral: False to atom atomic num: 6, name: , idx: 35, aromatic: False, chiral: False\n",
      "\n"
     ]
    },
    {
     "name": "stderr",
     "output_type": "stream",
     "text": [
      "Warning (not error because allow_undefined_stereo=True): OEMol has unspecified stereochemistry. oemol.GetTitle(): \n",
      "Problematic atoms are:\n",
      "Atom atomic num: 7, name: , idx: 28, aromatic: False, chiral: True with bonds:\n",
      "bond order: 1, chiral: False to atom atomic num: 6, name: , idx: 27, aromatic: False, chiral: False\n",
      "bond order: 1, chiral: False to atom atomic num: 6, name: , idx: 29, aromatic: False, chiral: False\n",
      "bond order: 1, chiral: False to atom atomic num: 6, name: , idx: 30, aromatic: False, chiral: False\n",
      "\n"
     ]
    },
    {
     "name": "stderr",
     "output_type": "stream",
     "text": [
      "Warning (not error because allow_undefined_stereo=True): OEMol has unspecified stereochemistry. oemol.GetTitle(): \n",
      "Problematic atoms are:\n",
      "Atom atomic num: 6, name: , idx: 1, aromatic: False, chiral: True with bonds:\n",
      "bond order: 1, chiral: False to atom atomic num: 6, name: , idx: 0, aromatic: False, chiral: False\n",
      "bond order: 1, chiral: False to atom atomic num: 8, name: , idx: 2, aromatic: False, chiral: False\n",
      "bond order: 1, chiral: False to atom atomic num: 6, name: , idx: 3, aromatic: True, chiral: False\n",
      "bond order: 1, chiral: False to atom atomic num: 1, name: , idx: 24, aromatic: False, chiral: False\n",
      "\n"
     ]
    },
    {
     "name": "stderr",
     "output_type": "stream",
     "text": [
      "Warning (not error because allow_undefined_stereo=True): OEMol has unspecified stereochemistry. oemol.GetTitle(): \n",
      "Problematic atoms are:\n",
      "Atom atomic num: 7, name: , idx: 32, aromatic: False, chiral: True with bonds:\n",
      "bond order: 1, chiral: False to atom atomic num: 6, name: , idx: 31, aromatic: True, chiral: False\n",
      "bond order: 1, chiral: False to atom atomic num: 6, name: , idx: 33, aromatic: False, chiral: False\n",
      "bond order: 1, chiral: False to atom atomic num: 6, name: , idx: 34, aromatic: False, chiral: False\n",
      "\n"
     ]
    },
    {
     "name": "stderr",
     "output_type": "stream",
     "text": [
      "Warning (not error because allow_undefined_stereo=True): OEMol has unspecified stereochemistry. oemol.GetTitle(): \n",
      "Problematic atoms are:\n",
      "Atom atomic num: 6, name: , idx: 5, aromatic: False, chiral: True with bonds:\n",
      "bond order: 1, chiral: False to atom atomic num: 6, name: , idx: 4, aromatic: True, chiral: False\n",
      "bond order: 1, chiral: False to atom atomic num: 7, name: , idx: 17, aromatic: False, chiral: False\n",
      "bond order: 1, chiral: False to atom atomic num: 6, name: , idx: 6, aromatic: False, chiral: False\n",
      "bond order: 1, chiral: False to atom atomic num: 1, name: , idx: 36, aromatic: False, chiral: False\n",
      "\n"
     ]
    },
    {
     "name": "stderr",
     "output_type": "stream",
     "text": [
      "Warning (not error because allow_undefined_stereo=True): OEMol has unspecified stereochemistry. oemol.GetTitle(): \n",
      "Problematic atoms are:\n",
      "Atom atomic num: 7, name: , idx: 7, aromatic: False, chiral: True with bonds:\n",
      "bond order: 1, chiral: False to atom atomic num: 6, name: , idx: 6, aromatic: False, chiral: False\n",
      "bond order: 1, chiral: False to atom atomic num: 6, name: , idx: 2, aromatic: False, chiral: True\n",
      "bond order: 1, chiral: False to atom atomic num: 6, name: , idx: 8, aromatic: False, chiral: False\n",
      "\n"
     ]
    },
    {
     "name": "stderr",
     "output_type": "stream",
     "text": [
      "Warning (not error because allow_undefined_stereo=True): OEMol has unspecified stereochemistry. oemol.GetTitle(): \n",
      "Problematic atoms are:\n",
      "Atom atomic num: 6, name: , idx: 11, aromatic: False, chiral: True with bonds:\n",
      "bond order: 1, chiral: False to atom atomic num: 6, name: , idx: 10, aromatic: True, chiral: False\n",
      "bond order: 1, chiral: False to atom atomic num: 7, name: , idx: 16, aromatic: False, chiral: False\n",
      "bond order: 1, chiral: False to atom atomic num: 16, name: , idx: 12, aromatic: False, chiral: False\n",
      "bond order: 1, chiral: False to atom atomic num: 1, name: , idx: 52, aromatic: False, chiral: False\n",
      "\n"
     ]
    },
    {
     "name": "stderr",
     "output_type": "stream",
     "text": [
      "Warning (not error because allow_undefined_stereo=True): OEMol has unspecified stereochemistry. oemol.GetTitle(): \n",
      "Problematic atoms are:\n",
      "Atom atomic num: 6, name: , idx: 20, aromatic: False, chiral: True with bonds:\n",
      "bond order: 1, chiral: False to atom atomic num: 6, name: , idx: 19, aromatic: False, chiral: False\n",
      "bond order: 1, chiral: False to atom atomic num: 7, name: , idx: 9, aromatic: False, chiral: False\n",
      "bond order: 1, chiral: False to atom atomic num: 6, name: , idx: 21, aromatic: True, chiral: False\n",
      "bond order: 1, chiral: False to atom atomic num: 1, name: , idx: 40, aromatic: False, chiral: False\n",
      "\n"
     ]
    },
    {
     "name": "stderr",
     "output_type": "stream",
     "text": [
      "Warning (not error because allow_undefined_stereo=True): OEMol has unspecified stereochemistry. oemol.GetTitle(): \n",
      "Problematic atoms are:\n",
      "Atom atomic num: 6, name: , idx: 6, aromatic: False, chiral: True with bonds:\n",
      "bond order: 1, chiral: False to atom atomic num: 6, name: , idx: 5, aromatic: True, chiral: False\n",
      "bond order: 1, chiral: False to atom atomic num: 7, name: , idx: 20, aromatic: False, chiral: False\n",
      "bond order: 1, chiral: False to atom atomic num: 6, name: , idx: 7, aromatic: False, chiral: False\n",
      "bond order: 1, chiral: False to atom atomic num: 1, name: , idx: 31, aromatic: False, chiral: False\n",
      "\n"
     ]
    },
    {
     "name": "stderr",
     "output_type": "stream",
     "text": [
      "Warning (not error because allow_undefined_stereo=True): OEMol has unspecified stereochemistry. oemol.GetTitle(): \n",
      "Problematic atoms are:\n",
      "Atom atomic num: 6, name: , idx: 36, aromatic: False, chiral: True with bonds:\n",
      "bond order: 1, chiral: False to atom atomic num: 6, name: , idx: 35, aromatic: False, chiral: False\n",
      "bond order: 1, chiral: False to atom atomic num: 16, name: , idx: 40, aromatic: False, chiral: False\n",
      "bond order: 1, chiral: False to atom atomic num: 6, name: , idx: 37, aromatic: False, chiral: False\n",
      "bond order: 1, chiral: False to atom atomic num: 1, name: , idx: 62, aromatic: False, chiral: False\n",
      "\n"
     ]
    },
    {
     "name": "stderr",
     "output_type": "stream",
     "text": [
      "Warning (not error because allow_undefined_stereo=True): OEMol has unspecified stereochemistry. oemol.GetTitle(): \n",
      "Problematic atoms are:\n",
      "Atom atomic num: 6, name: , idx: 3, aromatic: False, chiral: True with bonds:\n",
      "bond order: 1, chiral: False to atom atomic num: 7, name: , idx: 2, aromatic: False, chiral: False\n",
      "bond order: 1, chiral: False to atom atomic num: 6, name: , idx: 4, aromatic: False, chiral: False\n",
      "bond order: 1, chiral: False to atom atomic num: 6, name: , idx: 9, aromatic: False, chiral: False\n",
      "bond order: 1, chiral: False to atom atomic num: 1, name: , idx: 47, aromatic: False, chiral: False\n",
      "\n"
     ]
    },
    {
     "name": "stderr",
     "output_type": "stream",
     "text": [
      "Warning (not error because allow_undefined_stereo=True): OEMol has unspecified stereochemistry. oemol.GetTitle(): \n",
      "Problematic atoms are:\n",
      "Atom atomic num: 6, name: , idx: 15, aromatic: False, chiral: True with bonds:\n",
      "bond order: 1, chiral: False to atom atomic num: 6, name: , idx: 14, aromatic: False, chiral: False\n",
      "bond order: 1, chiral: False to atom atomic num: 7, name: , idx: 3, aromatic: False, chiral: False\n",
      "bond order: 1, chiral: False to atom atomic num: 6, name: , idx: 16, aromatic: True, chiral: False\n",
      "bond order: 1, chiral: False to atom atomic num: 1, name: , idx: 30, aromatic: False, chiral: False\n",
      "\n"
     ]
    },
    {
     "name": "stderr",
     "output_type": "stream",
     "text": [
      "Warning (not error because allow_undefined_stereo=True): OEMol has unspecified stereochemistry. oemol.GetTitle(): \n",
      "Problematic atoms are:\n",
      "Atom atomic num: 6, name: , idx: 13, aromatic: False, chiral: True with bonds:\n",
      "bond order: 1, chiral: False to atom atomic num: 6, name: , idx: 11, aromatic: False, chiral: False\n",
      "bond order: 1, chiral: False to atom atomic num: 6, name: , idx: 14, aromatic: False, chiral: False\n",
      "bond order: 1, chiral: False to atom atomic num: 7, name: , idx: 21, aromatic: False, chiral: False\n",
      "bond order: 1, chiral: False to atom atomic num: 1, name: , idx: 55, aromatic: False, chiral: False\n",
      "\n"
     ]
    },
    {
     "name": "stderr",
     "output_type": "stream",
     "text": [
      "Warning (not error because allow_undefined_stereo=True): OEMol has unspecified stereochemistry. oemol.GetTitle(): \n",
      "Problematic bonds are: [<openeye.oechem.OEBondBase; proxy of <Swig Object of type 'OEChem::OEBondBase *' at 0x7f823cf485a0> >]\n",
      "\n"
     ]
    },
    {
     "name": "stderr",
     "output_type": "stream",
     "text": [
      "Warning (not error because allow_undefined_stereo=True): OEMol has unspecified stereochemistry. oemol.GetTitle(): \n",
      "Problematic atoms are:\n",
      "Atom atomic num: 6, name: , idx: 3, aromatic: False, chiral: True with bonds:\n",
      "bond order: 1, chiral: False to atom atomic num: 6, name: , idx: 2, aromatic: False, chiral: False\n",
      "bond order: 1, chiral: False to atom atomic num: 7, name: , idx: 7, aromatic: False, chiral: True\n",
      "bond order: 1, chiral: False to atom atomic num: 6, name: , idx: 4, aromatic: False, chiral: False\n",
      "bond order: 1, chiral: False to atom atomic num: 1, name: , idx: 37, aromatic: False, chiral: False\n",
      "Atom atomic num: 7, name: , idx: 7, aromatic: False, chiral: True with bonds:\n",
      "bond order: 1, chiral: False to atom atomic num: 6, name: , idx: 6, aromatic: False, chiral: False\n",
      "bond order: 1, chiral: False to atom atomic num: 6, name: , idx: 3, aromatic: False, chiral: True\n",
      "bond order: 1, chiral: False to atom atomic num: 6, name: , idx: 8, aromatic: False, chiral: False\n",
      "\n"
     ]
    },
    {
     "name": "stderr",
     "output_type": "stream",
     "text": [
      "Warning (not error because allow_undefined_stereo=True): OEMol has unspecified stereochemistry. oemol.GetTitle(): \n",
      "Problematic atoms are:\n",
      "Atom atomic num: 7, name: , idx: 10, aromatic: False, chiral: True with bonds:\n",
      "bond order: 1, chiral: False to atom atomic num: 6, name: , idx: 9, aromatic: False, chiral: False\n",
      "bond order: 1, chiral: False to atom atomic num: 6, name: , idx: 11, aromatic: False, chiral: False\n",
      "bond order: 1, chiral: False to atom atomic num: 6, name: , idx: 14, aromatic: False, chiral: False\n",
      "\n"
     ]
    },
    {
     "name": "stderr",
     "output_type": "stream",
     "text": [
      "Warning (not error because allow_undefined_stereo=True): OEMol has unspecified stereochemistry. oemol.GetTitle(): \n",
      "Problematic atoms are:\n",
      "Atom atomic num: 6, name: , idx: 2, aromatic: False, chiral: True with bonds:\n",
      "bond order: 1, chiral: False to atom atomic num: 6, name: , idx: 1, aromatic: False, chiral: False\n",
      "bond order: 1, chiral: False to atom atomic num: 6, name: , idx: 3, aromatic: False, chiral: False\n",
      "bond order: 1, chiral: False to atom atomic num: 6, name: , idx: 12, aromatic: False, chiral: False\n",
      "bond order: 1, chiral: False to atom atomic num: 1, name: , idx: 15, aromatic: False, chiral: False\n",
      "Problematic bonds are: [<openeye.oechem.OEBondBase; proxy of <Swig Object of type 'OEChem::OEBondBase *' at 0x7f823cee94b0> >]\n",
      "\n"
     ]
    },
    {
     "name": "stderr",
     "output_type": "stream",
     "text": [
      "Warning (not error because allow_undefined_stereo=True): OEMol has unspecified stereochemistry. oemol.GetTitle(): \n",
      "Problematic atoms are:\n",
      "Atom atomic num: 6, name: , idx: 52, aromatic: False, chiral: True with bonds:\n",
      "bond order: 1, chiral: False to atom atomic num: 7, name: , idx: 51, aromatic: False, chiral: False\n",
      "bond order: 1, chiral: False to atom atomic num: 6, name: , idx: 58, aromatic: False, chiral: False\n",
      "bond order: 1, chiral: False to atom atomic num: 6, name: , idx: 53, aromatic: False, chiral: False\n",
      "bond order: 1, chiral: False to atom atomic num: 1, name: , idx: 108, aromatic: False, chiral: False\n",
      "\n"
     ]
    },
    {
     "name": "stderr",
     "output_type": "stream",
     "text": [
      "Warning (not error because allow_undefined_stereo=True): OEMol has unspecified stereochemistry. oemol.GetTitle(): \n",
      "Problematic atoms are:\n",
      "Atom atomic num: 7, name: , idx: 33, aromatic: False, chiral: True with bonds:\n",
      "bond order: 1, chiral: False to atom atomic num: 6, name: , idx: 32, aromatic: True, chiral: False\n",
      "bond order: 1, chiral: False to atom atomic num: 6, name: , idx: 34, aromatic: False, chiral: False\n",
      "bond order: 1, chiral: False to atom atomic num: 6, name: , idx: 35, aromatic: False, chiral: False\n",
      "\n"
     ]
    },
    {
     "name": "stderr",
     "output_type": "stream",
     "text": [
      "Warning (not error because allow_undefined_stereo=True): OEMol has unspecified stereochemistry. oemol.GetTitle(): \n",
      "Problematic atoms are:\n",
      "Atom atomic num: 7, name: , idx: 28, aromatic: False, chiral: True with bonds:\n",
      "bond order: 1, chiral: False to atom atomic num: 6, name: , idx: 27, aromatic: True, chiral: False\n",
      "bond order: 1, chiral: False to atom atomic num: 6, name: , idx: 29, aromatic: False, chiral: False\n",
      "bond order: 1, chiral: False to atom atomic num: 6, name: , idx: 30, aromatic: False, chiral: False\n",
      "\n"
     ]
    },
    {
     "name": "stderr",
     "output_type": "stream",
     "text": [
      "Warning (not error because allow_undefined_stereo=True): OEMol has unspecified stereochemistry. oemol.GetTitle(): \n",
      "Problematic atoms are:\n",
      "Atom atomic num: 7, name: , idx: 5, aromatic: False, chiral: True with bonds:\n",
      "bond order: 1, chiral: False to atom atomic num: 6, name: , idx: 4, aromatic: False, chiral: False\n",
      "bond order: 1, chiral: False to atom atomic num: 6, name: , idx: 6, aromatic: False, chiral: False\n",
      "bond order: 1, chiral: False to atom atomic num: 6, name: , idx: 34, aromatic: False, chiral: False\n",
      "\n"
     ]
    },
    {
     "name": "stderr",
     "output_type": "stream",
     "text": [
      "Warning (not error because allow_undefined_stereo=True): OEMol has unspecified stereochemistry. oemol.GetTitle(): \n",
      "Problematic atoms are:\n",
      "Atom atomic num: 6, name: , idx: 14, aromatic: False, chiral: True with bonds:\n",
      "bond order: 1, chiral: False to atom atomic num: 6, name: , idx: 13, aromatic: False, chiral: False\n",
      "bond order: 1, chiral: False to atom atomic num: 7, name: , idx: 3, aromatic: False, chiral: False\n",
      "bond order: 1, chiral: False to atom atomic num: 6, name: , idx: 15, aromatic: True, chiral: False\n",
      "bond order: 1, chiral: False to atom atomic num: 1, name: , idx: 33, aromatic: False, chiral: False\n",
      "\n"
     ]
    },
    {
     "name": "stderr",
     "output_type": "stream",
     "text": [
      "Warning (not error because allow_undefined_stereo=True): OEMol has unspecified stereochemistry. oemol.GetTitle(): \n",
      "Problematic atoms are:\n",
      "Atom atomic num: 7, name: , idx: 33, aromatic: False, chiral: True with bonds:\n",
      "bond order: 1, chiral: False to atom atomic num: 6, name: , idx: 32, aromatic: True, chiral: False\n",
      "bond order: 1, chiral: False to atom atomic num: 6, name: , idx: 34, aromatic: False, chiral: False\n",
      "bond order: 1, chiral: False to atom atomic num: 6, name: , idx: 35, aromatic: False, chiral: False\n",
      "\n"
     ]
    },
    {
     "name": "stderr",
     "output_type": "stream",
     "text": [
      "Warning (not error because allow_undefined_stereo=True): OEMol has unspecified stereochemistry. oemol.GetTitle(): \n",
      "Problematic atoms are:\n",
      "Atom atomic num: 6, name: , idx: 11, aromatic: False, chiral: True with bonds:\n",
      "bond order: 1, chiral: False to atom atomic num: 6, name: , idx: 10, aromatic: True, chiral: False\n",
      "bond order: 1, chiral: False to atom atomic num: 7, name: , idx: 25, aromatic: False, chiral: False\n",
      "bond order: 1, chiral: False to atom atomic num: 6, name: , idx: 12, aromatic: False, chiral: False\n",
      "bond order: 1, chiral: False to atom atomic num: 1, name: , idx: 43, aromatic: False, chiral: False\n",
      "\n"
     ]
    },
    {
     "name": "stderr",
     "output_type": "stream",
     "text": [
      "Warning (not error because allow_undefined_stereo=True): OEMol has unspecified stereochemistry. oemol.GetTitle(): \n",
      "Problematic atoms are:\n",
      "Atom atomic num: 6, name: , idx: 2, aromatic: False, chiral: True with bonds:\n",
      "bond order: 1, chiral: False to atom atomic num: 6, name: , idx: 1, aromatic: False, chiral: False\n",
      "bond order: 1, chiral: False to atom atomic num: 6, name: , idx: 3, aromatic: False, chiral: False\n",
      "bond order: 1, chiral: False to atom atomic num: 6, name: , idx: 4, aromatic: False, chiral: False\n",
      "bond order: 1, chiral: False to atom atomic num: 1, name: , idx: 39, aromatic: False, chiral: False\n",
      "\n"
     ]
    },
    {
     "name": "stderr",
     "output_type": "stream",
     "text": [
      "Warning (not error because allow_undefined_stereo=True): OEMol has unspecified stereochemistry. oemol.GetTitle(): \n",
      "Problematic atoms are:\n",
      "Atom atomic num: 7, name: , idx: 8, aromatic: False, chiral: True with bonds:\n",
      "bond order: 1, chiral: False to atom atomic num: 6, name: , idx: 7, aromatic: False, chiral: False\n",
      "bond order: 1, chiral: False to atom atomic num: 6, name: , idx: 3, aromatic: False, chiral: True\n",
      "bond order: 1, chiral: False to atom atomic num: 6, name: , idx: 9, aromatic: False, chiral: False\n",
      "\n"
     ]
    },
    {
     "name": "stderr",
     "output_type": "stream",
     "text": [
      "Warning (not error because allow_undefined_stereo=True): OEMol has unspecified stereochemistry. oemol.GetTitle(): \n",
      "Problematic atoms are:\n",
      "Atom atomic num: 6, name: , idx: 15, aromatic: False, chiral: True with bonds:\n",
      "bond order: 1, chiral: False to atom atomic num: 6, name: , idx: 14, aromatic: False, chiral: False\n",
      "bond order: 1, chiral: False to atom atomic num: 7, name: , idx: 3, aromatic: False, chiral: False\n",
      "bond order: 1, chiral: False to atom atomic num: 6, name: , idx: 16, aromatic: True, chiral: False\n",
      "bond order: 1, chiral: False to atom atomic num: 1, name: , idx: 30, aromatic: False, chiral: False\n",
      "\n"
     ]
    },
    {
     "name": "stderr",
     "output_type": "stream",
     "text": [
      "Warning (not error because allow_undefined_stereo=True): OEMol has unspecified stereochemistry. oemol.GetTitle(): \n",
      "Problematic atoms are:\n",
      "Atom atomic num: 7, name: , idx: 8, aromatic: False, chiral: True with bonds:\n",
      "bond order: 1, chiral: False to atom atomic num: 6, name: , idx: 3, aromatic: False, chiral: True\n",
      "bond order: 1, chiral: False to atom atomic num: 6, name: , idx: 9, aromatic: False, chiral: False\n",
      "bond order: 1, chiral: False to atom atomic num: 6, name: , idx: 10, aromatic: False, chiral: False\n",
      "\n"
     ]
    },
    {
     "name": "stderr",
     "output_type": "stream",
     "text": [
      "Warning (not error because allow_undefined_stereo=True): OEMol has unspecified stereochemistry. oemol.GetTitle(): \n",
      "Problematic atoms are:\n",
      "Atom atomic num: 6, name: , idx: 18, aromatic: False, chiral: True with bonds:\n",
      "bond order: 1, chiral: False to atom atomic num: 7, name: , idx: 17, aromatic: False, chiral: False\n",
      "bond order: 1, chiral: False to atom atomic num: 6, name: , idx: 27, aromatic: False, chiral: True\n",
      "bond order: 1, chiral: False to atom atomic num: 8, name: , idx: 19, aromatic: False, chiral: False\n",
      "bond order: 1, chiral: False to atom atomic num: 1, name: , idx: 54, aromatic: False, chiral: False\n",
      "Atom atomic num: 6, name: , idx: 20, aromatic: False, chiral: True with bonds:\n",
      "bond order: 1, chiral: False to atom atomic num: 8, name: , idx: 19, aromatic: False, chiral: False\n",
      "bond order: 1, chiral: False to atom atomic num: 6, name: , idx: 21, aromatic: False, chiral: False\n",
      "bond order: 1, chiral: False to atom atomic num: 6, name: , idx: 23, aromatic: False, chiral: True\n",
      "bond order: 1, chiral: False to atom atomic num: 1, name: , idx: 55, aromatic: False, chiral: False\n",
      "Atom atomic num: 6, name: , idx: 23, aromatic: False, chiral: True with bonds:\n",
      "bond order: 1, chiral: False to atom atomic num: 6, name: , idx: 20, aromatic: False, chiral: True\n",
      "bond order: 1, chiral: False to atom atomic num: 8, name: , idx: 24, aromatic: False, chiral: False\n",
      "bond order: 1, chiral: False to atom atomic num: 6, name: , idx: 25, aromatic: False, chiral: True\n",
      "bond order: 1, chiral: False to atom atomic num: 1, name: , idx: 59, aromatic: False, chiral: False\n",
      "Atom atomic num: 6, name: , idx: 25, aromatic: False, chiral: True with bonds:\n",
      "bond order: 1, chiral: False to atom atomic num: 6, name: , idx: 23, aromatic: False, chiral: True\n",
      "bond order: 1, chiral: False to atom atomic num: 8, name: , idx: 26, aromatic: False, chiral: False\n",
      "bond order: 1, chiral: False to atom atomic num: 6, name: , idx: 27, aromatic: False, chiral: True\n",
      "bond order: 1, chiral: False to atom atomic num: 1, name: , idx: 61, aromatic: False, chiral: False\n",
      "Atom atomic num: 6, name: , idx: 27, aromatic: False, chiral: True with bonds:\n",
      "bond order: 1, chiral: False to atom atomic num: 6, name: , idx: 25, aromatic: False, chiral: True\n",
      "bond order: 1, chiral: False to atom atomic num: 6, name: , idx: 18, aromatic: False, chiral: True\n",
      "bond order: 1, chiral: False to atom atomic num: 8, name: , idx: 28, aromatic: False, chiral: False\n",
      "bond order: 1, chiral: False to atom atomic num: 1, name: , idx: 63, aromatic: False, chiral: False\n",
      "\n"
     ]
    },
    {
     "name": "stderr",
     "output_type": "stream",
     "text": [
      "Warning (not error because allow_undefined_stereo=True): OEMol has unspecified stereochemistry. oemol.GetTitle(): \n",
      "Problematic atoms are:\n",
      "Atom atomic num: 7, name: , idx: 6, aromatic: False, chiral: True with bonds:\n",
      "bond order: 1, chiral: False to atom atomic num: 6, name: , idx: 4, aromatic: False, chiral: True\n",
      "bond order: 1, chiral: False to atom atomic num: 6, name: , idx: 7, aromatic: False, chiral: False\n",
      "bond order: 1, chiral: False to atom atomic num: 6, name: , idx: 8, aromatic: False, chiral: False\n",
      "\n"
     ]
    },
    {
     "name": "stderr",
     "output_type": "stream",
     "text": [
      "Warning (not error because allow_undefined_stereo=True): OEMol has unspecified stereochemistry. oemol.GetTitle(): \n",
      "Problematic atoms are:\n",
      "Atom atomic num: 6, name: , idx: 25, aromatic: False, chiral: True with bonds:\n",
      "bond order: 1, chiral: False to atom atomic num: 7, name: , idx: 24, aromatic: False, chiral: False\n",
      "bond order: 1, chiral: False to atom atomic num: 6, name: , idx: 3, aromatic: False, chiral: False\n",
      "bond order: 1, chiral: False to atom atomic num: 7, name: , idx: 26, aromatic: False, chiral: False\n",
      "bond order: 1, chiral: False to atom atomic num: 1, name: , idx: 58, aromatic: False, chiral: False\n",
      "\n"
     ]
    },
    {
     "name": "stderr",
     "output_type": "stream",
     "text": [
      "Warning (not error because allow_undefined_stereo=True): OEMol has unspecified stereochemistry. oemol.GetTitle(): \n",
      "Problematic atoms are:\n",
      "Atom atomic num: 6, name: , idx: 21, aromatic: False, chiral: True with bonds:\n",
      "bond order: 1, chiral: False to atom atomic num: 7, name: , idx: 8, aromatic: False, chiral: False\n",
      "bond order: 1, chiral: False to atom atomic num: 6, name: , idx: 22, aromatic: True, chiral: False\n",
      "bond order: 1, chiral: False to atom atomic num: 6, name: , idx: 29, aromatic: False, chiral: False\n",
      "bond order: 1, chiral: False to atom atomic num: 1, name: , idx: 42, aromatic: False, chiral: False\n",
      "\n"
     ]
    },
    {
     "name": "stderr",
     "output_type": "stream",
     "text": [
      "Warning (not error because allow_undefined_stereo=True): OEMol has unspecified stereochemistry. oemol.GetTitle(): \n",
      "Problematic atoms are:\n",
      "Atom atomic num: 6, name: , idx: 5, aromatic: False, chiral: True with bonds:\n",
      "bond order: 1, chiral: False to atom atomic num: 6, name: , idx: 4, aromatic: True, chiral: False\n",
      "bond order: 1, chiral: False to atom atomic num: 7, name: , idx: 16, aromatic: False, chiral: False\n",
      "bond order: 1, chiral: False to atom atomic num: 6, name: , idx: 6, aromatic: False, chiral: False\n",
      "bond order: 1, chiral: False to atom atomic num: 1, name: , idx: 33, aromatic: False, chiral: False\n",
      "\n"
     ]
    },
    {
     "name": "stderr",
     "output_type": "stream",
     "text": [
      "Warning (not error because allow_undefined_stereo=True): OEMol has unspecified stereochemistry. oemol.GetTitle(): \n",
      "Problematic atoms are:\n",
      "Atom atomic num: 7, name: , idx: 22, aromatic: False, chiral: True with bonds:\n",
      "bond order: 1, chiral: False to atom atomic num: 6, name: , idx: 21, aromatic: False, chiral: False\n",
      "bond order: 1, chiral: False to atom atomic num: 6, name: , idx: 23, aromatic: False, chiral: False\n",
      "bond order: 1, chiral: False to atom atomic num: 6, name: , idx: 24, aromatic: False, chiral: True\n",
      "\n"
     ]
    },
    {
     "name": "stderr",
     "output_type": "stream",
     "text": [
      "Warning (not error because allow_undefined_stereo=True): OEMol has unspecified stereochemistry. oemol.GetTitle(): \n",
      "Problematic atoms are:\n",
      "Atom atomic num: 7, name: , idx: 5, aromatic: False, chiral: True with bonds:\n",
      "bond order: 1, chiral: False to atom atomic num: 6, name: , idx: 4, aromatic: True, chiral: False\n",
      "bond order: 1, chiral: False to atom atomic num: 6, name: , idx: 6, aromatic: False, chiral: False\n",
      "bond order: 1, chiral: False to atom atomic num: 6, name: , idx: 7, aromatic: False, chiral: False\n",
      "\n"
     ]
    },
    {
     "name": "stderr",
     "output_type": "stream",
     "text": [
      "Warning (not error because allow_undefined_stereo=True): OEMol has unspecified stereochemistry. oemol.GetTitle(): \n",
      "Problematic atoms are:\n",
      "Atom atomic num: 6, name: , idx: 13, aromatic: False, chiral: True with bonds:\n",
      "bond order: 1, chiral: False to atom atomic num: 6, name: , idx: 12, aromatic: False, chiral: False\n",
      "bond order: 1, chiral: False to atom atomic num: 7, name: , idx: 3, aromatic: False, chiral: False\n",
      "bond order: 1, chiral: False to atom atomic num: 6, name: , idx: 14, aromatic: True, chiral: False\n",
      "bond order: 1, chiral: False to atom atomic num: 1, name: , idx: 33, aromatic: False, chiral: False\n",
      "\n"
     ]
    },
    {
     "name": "stderr",
     "output_type": "stream",
     "text": [
      "Warning (not error because allow_undefined_stereo=True): OEMol has unspecified stereochemistry. oemol.GetTitle(): \n",
      "Problematic atoms are:\n",
      "Atom atomic num: 6, name: , idx: 11, aromatic: False, chiral: True with bonds:\n",
      "bond order: 1, chiral: False to atom atomic num: 6, name: , idx: 10, aromatic: True, chiral: False\n",
      "bond order: 1, chiral: False to atom atomic num: 7, name: , idx: 16, aromatic: False, chiral: False\n",
      "bond order: 1, chiral: False to atom atomic num: 16, name: , idx: 12, aromatic: False, chiral: False\n",
      "bond order: 1, chiral: False to atom atomic num: 1, name: , idx: 53, aromatic: False, chiral: False\n",
      "\n"
     ]
    },
    {
     "name": "stderr",
     "output_type": "stream",
     "text": [
      "Warning (not error because allow_undefined_stereo=True): OEMol has unspecified stereochemistry. oemol.GetTitle(): \n",
      "Problematic atoms are:\n",
      "Atom atomic num: 6, name: , idx: 16, aromatic: False, chiral: True with bonds:\n",
      "bond order: 1, chiral: False to atom atomic num: 6, name: , idx: 15, aromatic: False, chiral: False\n",
      "bond order: 1, chiral: False to atom atomic num: 6, name: , idx: 37, aromatic: False, chiral: False\n",
      "bond order: 1, chiral: False to atom atomic num: 6, name: , idx: 17, aromatic: False, chiral: False\n",
      "bond order: 1, chiral: False to atom atomic num: 1, name: , idx: 47, aromatic: False, chiral: False\n",
      "Atom atomic num: 6, name: , idx: 20, aromatic: False, chiral: True with bonds:\n",
      "bond order: 1, chiral: False to atom atomic num: 6, name: , idx: 19, aromatic: False, chiral: False\n",
      "bond order: 1, chiral: False to atom atomic num: 6, name: , idx: 21, aromatic: False, chiral: False\n",
      "bond order: 1, chiral: False to atom atomic num: 6, name: , idx: 37, aromatic: False, chiral: False\n",
      "bond order: 1, chiral: False to atom atomic num: 1, name: , idx: 54, aromatic: False, chiral: False\n",
      "\n"
     ]
    },
    {
     "name": "stderr",
     "output_type": "stream",
     "text": [
      "Warning (not error because allow_undefined_stereo=True): OEMol has unspecified stereochemistry. oemol.GetTitle(): \n",
      "Problematic atoms are:\n",
      "Atom atomic num: 7, name: , idx: 6, aromatic: False, chiral: True with bonds:\n",
      "bond order: 1, chiral: False to atom atomic num: 6, name: , idx: 4, aromatic: False, chiral: True\n",
      "bond order: 1, chiral: False to atom atomic num: 6, name: , idx: 7, aromatic: False, chiral: False\n",
      "bond order: 1, chiral: False to atom atomic num: 6, name: , idx: 8, aromatic: False, chiral: False\n",
      "\n"
     ]
    },
    {
     "name": "stderr",
     "output_type": "stream",
     "text": [
      "Warning (not error because allow_undefined_stereo=True): OEMol has unspecified stereochemistry. oemol.GetTitle(): \n",
      "Problematic atoms are:\n",
      "Atom atomic num: 7, name: , idx: 7, aromatic: False, chiral: True with bonds:\n",
      "bond order: 1, chiral: False to atom atomic num: 6, name: , idx: 6, aromatic: False, chiral: False\n",
      "bond order: 1, chiral: False to atom atomic num: 6, name: , idx: 8, aromatic: False, chiral: False\n",
      "bond order: 1, chiral: False to atom atomic num: 6, name: , idx: 36, aromatic: False, chiral: False\n",
      "\n"
     ]
    },
    {
     "name": "stderr",
     "output_type": "stream",
     "text": [
      "Warning (not error because allow_undefined_stereo=True): OEMol has unspecified stereochemistry. oemol.GetTitle(): \n",
      "Problematic atoms are:\n",
      "Atom atomic num: 6, name: , idx: 7, aromatic: False, chiral: True with bonds:\n",
      "bond order: 1, chiral: False to atom atomic num: 6, name: , idx: 6, aromatic: False, chiral: False\n",
      "bond order: 1, chiral: False to atom atomic num: 6, name: , idx: 8, aromatic: False, chiral: False\n",
      "bond order: 1, chiral: False to atom atomic num: 7, name: , idx: 10, aromatic: False, chiral: False\n",
      "bond order: 1, chiral: False to atom atomic num: 1, name: , idx: 36, aromatic: False, chiral: False\n",
      "\n"
     ]
    },
    {
     "name": "stderr",
     "output_type": "stream",
     "text": [
      "Warning (not error because allow_undefined_stereo=True): OEMol has unspecified stereochemistry. oemol.GetTitle(): \n",
      "Problematic atoms are:\n",
      "Atom atomic num: 6, name: , idx: 14, aromatic: False, chiral: True with bonds:\n",
      "bond order: 1, chiral: False to atom atomic num: 7, name: , idx: 7, aromatic: False, chiral: False\n",
      "bond order: 1, chiral: False to atom atomic num: 6, name: , idx: 15, aromatic: True, chiral: False\n",
      "bond order: 1, chiral: False to atom atomic num: 6, name: , idx: 25, aromatic: False, chiral: False\n",
      "bond order: 1, chiral: False to atom atomic num: 1, name: , idx: 38, aromatic: False, chiral: False\n",
      "\n"
     ]
    },
    {
     "name": "stderr",
     "output_type": "stream",
     "text": [
      "Warning (not error because allow_undefined_stereo=True): OEMol has unspecified stereochemistry. oemol.GetTitle(): \n",
      "Problematic atoms are:\n",
      "Atom atomic num: 6, name: , idx: 22, aromatic: False, chiral: True with bonds:\n",
      "bond order: 1, chiral: False to atom atomic num: 6, name: , idx: 21, aromatic: False, chiral: False\n",
      "bond order: 1, chiral: False to atom atomic num: 7, name: , idx: 26, aromatic: False, chiral: False\n",
      "bond order: 1, chiral: False to atom atomic num: 6, name: , idx: 23, aromatic: False, chiral: False\n",
      "bond order: 1, chiral: False to atom atomic num: 1, name: , idx: 42, aromatic: False, chiral: False\n",
      "\n"
     ]
    },
    {
     "name": "stderr",
     "output_type": "stream",
     "text": [
      "Warning (not error because allow_undefined_stereo=True): OEMol has unspecified stereochemistry. oemol.GetTitle(): \n",
      "Problematic atoms are:\n",
      "Atom atomic num: 15, name: , idx: 22, aromatic: False, chiral: True with bonds:\n",
      "bond order: 1, chiral: False to atom atomic num: 8, name: , idx: 21, aromatic: False, chiral: False\n",
      "bond order: 1, chiral: False to atom atomic num: 7, name: , idx: 23, aromatic: False, chiral: False\n",
      "bond order: 2, chiral: False to atom atomic num: 8, name: , idx: 24, aromatic: False, chiral: False\n",
      "bond order: 1, chiral: False to atom atomic num: 7, name: , idx: 25, aromatic: False, chiral: False\n",
      "\n"
     ]
    },
    {
     "name": "stderr",
     "output_type": "stream",
     "text": [
      "Warning (not error because allow_undefined_stereo=True): OEMol has unspecified stereochemistry. oemol.GetTitle(): \n",
      "Problematic atoms are:\n",
      "Atom atomic num: 6, name: , idx: 7, aromatic: False, chiral: True with bonds:\n",
      "bond order: 1, chiral: False to atom atomic num: 6, name: , idx: 6, aromatic: True, chiral: False\n",
      "bond order: 1, chiral: False to atom atomic num: 8, name: , idx: 8, aromatic: False, chiral: False\n",
      "bond order: 1, chiral: False to atom atomic num: 6, name: , idx: 9, aromatic: True, chiral: False\n",
      "bond order: 1, chiral: False to atom atomic num: 1, name: , idx: 29, aromatic: False, chiral: False\n",
      "\n"
     ]
    },
    {
     "name": "stderr",
     "output_type": "stream",
     "text": [
      "Warning (not error because allow_undefined_stereo=True): OEMol has unspecified stereochemistry. oemol.GetTitle(): \n",
      "Problematic atoms are:\n",
      "Atom atomic num: 6, name: , idx: 24, aromatic: False, chiral: True with bonds:\n",
      "bond order: 1, chiral: False to atom atomic num: 6, name: , idx: 16, aromatic: False, chiral: False\n",
      "bond order: 1, chiral: False to atom atomic num: 6, name: , idx: 5, aromatic: False, chiral: False\n",
      "bond order: 1, chiral: False to atom atomic num: 6, name: , idx: 25, aromatic: False, chiral: False\n",
      "bond order: 1, chiral: False to atom atomic num: 1, name: , idx: 59, aromatic: False, chiral: False\n",
      "\n"
     ]
    },
    {
     "name": "stderr",
     "output_type": "stream",
     "text": [
      "Warning (not error because allow_undefined_stereo=True): OEMol has unspecified stereochemistry. oemol.GetTitle(): \n",
      "Problematic atoms are:\n",
      "Atom atomic num: 6, name: , idx: 15, aromatic: False, chiral: True with bonds:\n",
      "bond order: 1, chiral: False to atom atomic num: 7, name: , idx: 8, aromatic: False, chiral: False\n",
      "bond order: 1, chiral: False to atom atomic num: 6, name: , idx: 16, aromatic: True, chiral: False\n",
      "bond order: 1, chiral: False to atom atomic num: 6, name: , idx: 23, aromatic: False, chiral: False\n",
      "bond order: 1, chiral: False to atom atomic num: 1, name: , idx: 33, aromatic: False, chiral: False\n",
      "\n"
     ]
    },
    {
     "name": "stderr",
     "output_type": "stream",
     "text": [
      "Warning (not error because allow_undefined_stereo=True): OEMol has unspecified stereochemistry. oemol.GetTitle(): \n",
      "Problematic atoms are:\n",
      "Atom atomic num: 6, name: , idx: 20, aromatic: False, chiral: True with bonds:\n",
      "bond order: 1, chiral: False to atom atomic num: 7, name: , idx: 8, aromatic: False, chiral: False\n",
      "bond order: 1, chiral: False to atom atomic num: 6, name: , idx: 21, aromatic: True, chiral: False\n",
      "bond order: 1, chiral: False to atom atomic num: 6, name: , idx: 29, aromatic: False, chiral: False\n",
      "bond order: 1, chiral: False to atom atomic num: 1, name: , idx: 43, aromatic: False, chiral: False\n",
      "\n"
     ]
    },
    {
     "name": "stderr",
     "output_type": "stream",
     "text": [
      "Warning (not error because allow_undefined_stereo=True): OEMol has unspecified stereochemistry. oemol.GetTitle(): \n",
      "Problematic atoms are:\n",
      "Atom atomic num: 7, name: , idx: 6, aromatic: False, chiral: True with bonds:\n",
      "bond order: 1, chiral: False to atom atomic num: 6, name: , idx: 5, aromatic: False, chiral: False\n",
      "bond order: 1, chiral: False to atom atomic num: 6, name: , idx: 25, aromatic: True, chiral: False\n",
      "bond order: 1, chiral: False to atom atomic num: 6, name: , idx: 7, aromatic: False, chiral: False\n",
      "\n"
     ]
    },
    {
     "name": "stderr",
     "output_type": "stream",
     "text": [
      "Warning (not error because allow_undefined_stereo=True): OEMol has unspecified stereochemistry. oemol.GetTitle(): \n",
      "Problematic atoms are:\n",
      "Atom atomic num: 6, name: , idx: 6, aromatic: False, chiral: True with bonds:\n",
      "bond order: 1, chiral: False to atom atomic num: 6, name: , idx: 5, aromatic: True, chiral: False\n",
      "bond order: 1, chiral: False to atom atomic num: 7, name: , idx: 18, aromatic: False, chiral: False\n",
      "bond order: 1, chiral: False to atom atomic num: 6, name: , idx: 7, aromatic: False, chiral: False\n",
      "bond order: 1, chiral: False to atom atomic num: 1, name: , idx: 29, aromatic: False, chiral: False\n",
      "\n"
     ]
    },
    {
     "name": "stderr",
     "output_type": "stream",
     "text": [
      "Warning (not error because allow_undefined_stereo=True): OEMol has unspecified stereochemistry. oemol.GetTitle(): \n",
      "Problematic atoms are:\n",
      "Atom atomic num: 7, name: , idx: 30, aromatic: False, chiral: True with bonds:\n",
      "bond order: 1, chiral: False to atom atomic num: 6, name: , idx: 29, aromatic: True, chiral: False\n",
      "bond order: 1, chiral: False to atom atomic num: 6, name: , idx: 31, aromatic: False, chiral: False\n",
      "bond order: 1, chiral: False to atom atomic num: 6, name: , idx: 32, aromatic: False, chiral: False\n",
      "\n"
     ]
    },
    {
     "name": "stderr",
     "output_type": "stream",
     "text": [
      "Warning (not error because allow_undefined_stereo=True): OEMol has unspecified stereochemistry. oemol.GetTitle(): \n",
      "Problematic atoms are:\n",
      "Atom atomic num: 6, name: , idx: 12, aromatic: False, chiral: True with bonds:\n",
      "bond order: 1, chiral: False to atom atomic num: 7, name: , idx: 8, aromatic: False, chiral: False\n",
      "bond order: 1, chiral: False to atom atomic num: 6, name: , idx: 13, aromatic: True, chiral: False\n",
      "bond order: 1, chiral: False to atom atomic num: 6, name: , idx: 23, aromatic: False, chiral: False\n",
      "bond order: 1, chiral: False to atom atomic num: 1, name: , idx: 33, aromatic: False, chiral: False\n",
      "\n"
     ]
    },
    {
     "name": "stderr",
     "output_type": "stream",
     "text": [
      "Warning (not error because allow_undefined_stereo=True): OEMol has unspecified stereochemistry. oemol.GetTitle(): \n",
      "Problematic atoms are:\n",
      "Atom atomic num: 7, name: , idx: 18, aromatic: False, chiral: True with bonds:\n",
      "bond order: 1, chiral: False to atom atomic num: 6, name: , idx: 17, aromatic: True, chiral: False\n",
      "bond order: 1, chiral: False to atom atomic num: 6, name: , idx: 27, aromatic: False, chiral: False\n",
      "bond order: 1, chiral: False to atom atomic num: 6, name: , idx: 19, aromatic: False, chiral: False\n",
      "\n"
     ]
    },
    {
     "name": "stderr",
     "output_type": "stream",
     "text": [
      "Warning (not error because allow_undefined_stereo=True): OEMol has unspecified stereochemistry. oemol.GetTitle(): \n",
      "Problematic atoms are:\n",
      "Atom atomic num: 6, name: , idx: 14, aromatic: False, chiral: True with bonds:\n",
      "bond order: 1, chiral: False to atom atomic num: 6, name: , idx: 13, aromatic: False, chiral: False\n",
      "bond order: 1, chiral: False to atom atomic num: 7, name: , idx: 3, aromatic: False, chiral: False\n",
      "bond order: 1, chiral: False to atom atomic num: 6, name: , idx: 15, aromatic: True, chiral: False\n",
      "bond order: 1, chiral: False to atom atomic num: 1, name: , idx: 33, aromatic: False, chiral: False\n",
      "\n"
     ]
    },
    {
     "name": "stderr",
     "output_type": "stream",
     "text": [
      "Warning (not error because allow_undefined_stereo=True): OEMol has unspecified stereochemistry. oemol.GetTitle(): \n",
      "Problematic atoms are:\n",
      "Atom atomic num: 7, name: , idx: 1, aromatic: False, chiral: True with bonds:\n",
      "bond order: 1, chiral: False to atom atomic num: 6, name: , idx: 0, aromatic: False, chiral: False\n",
      "bond order: 1, chiral: False to atom atomic num: 6, name: , idx: 2, aromatic: False, chiral: False\n",
      "bond order: 1, chiral: False to atom atomic num: 6, name: , idx: 5, aromatic: True, chiral: False\n",
      "\n"
     ]
    },
    {
     "name": "stderr",
     "output_type": "stream",
     "text": [
      "Warning (not error because allow_undefined_stereo=True): OEMol has unspecified stereochemistry. oemol.GetTitle(): \n",
      "Problematic atoms are:\n",
      "Atom atomic num: 6, name: , idx: 20, aromatic: False, chiral: True with bonds:\n",
      "bond order: 1, chiral: False to atom atomic num: 7, name: , idx: 7, aromatic: False, chiral: False\n",
      "bond order: 1, chiral: False to atom atomic num: 6, name: , idx: 21, aromatic: True, chiral: False\n",
      "bond order: 1, chiral: False to atom atomic num: 6, name: , idx: 28, aromatic: False, chiral: False\n",
      "bond order: 1, chiral: False to atom atomic num: 1, name: , idx: 42, aromatic: False, chiral: False\n",
      "\n"
     ]
    },
    {
     "name": "stderr",
     "output_type": "stream",
     "text": [
      "Warning (not error because allow_undefined_stereo=True): OEMol has unspecified stereochemistry. oemol.GetTitle(): \n",
      "Problematic atoms are:\n",
      "Atom atomic num: 6, name: , idx: 6, aromatic: False, chiral: True with bonds:\n",
      "bond order: 1, chiral: False to atom atomic num: 6, name: , idx: 5, aromatic: True, chiral: False\n",
      "bond order: 1, chiral: False to atom atomic num: 7, name: , idx: 16, aromatic: False, chiral: False\n",
      "bond order: 1, chiral: False to atom atomic num: 6, name: , idx: 7, aromatic: False, chiral: False\n",
      "bond order: 1, chiral: False to atom atomic num: 1, name: , idx: 30, aromatic: False, chiral: False\n",
      "\n"
     ]
    },
    {
     "name": "stderr",
     "output_type": "stream",
     "text": [
      "Warning (not error because allow_undefined_stereo=True): OEMol has unspecified stereochemistry. oemol.GetTitle(): \n",
      "Problematic atoms are:\n",
      "Atom atomic num: 6, name: , idx: 2, aromatic: False, chiral: True with bonds:\n",
      "bond order: 1, chiral: False to atom atomic num: 6, name: , idx: 1, aromatic: False, chiral: False\n",
      "bond order: 1, chiral: False to atom atomic num: 6, name: , idx: 3, aromatic: False, chiral: False\n",
      "bond order: 1, chiral: False to atom atomic num: 7, name: , idx: 4, aromatic: False, chiral: False\n",
      "bond order: 1, chiral: False to atom atomic num: 1, name: , idx: 33, aromatic: False, chiral: False\n",
      "\n"
     ]
    },
    {
     "name": "stderr",
     "output_type": "stream",
     "text": [
      "Warning (not error because allow_undefined_stereo=True): OEMol has unspecified stereochemistry. oemol.GetTitle(): \n",
      "Problematic atoms are:\n",
      "Atom atomic num: 6, name: , idx: 1, aromatic: False, chiral: True with bonds:\n",
      "bond order: 1, chiral: False to atom atomic num: 6, name: , idx: 0, aromatic: False, chiral: False\n",
      "bond order: 1, chiral: False to atom atomic num: 6, name: , idx: 2, aromatic: True, chiral: False\n",
      "bond order: 1, chiral: False to atom atomic num: 7, name: , idx: 9, aromatic: False, chiral: False\n",
      "bond order: 1, chiral: False to atom atomic num: 1, name: , idx: 49, aromatic: False, chiral: False\n",
      "\n"
     ]
    },
    {
     "name": "stderr",
     "output_type": "stream",
     "text": [
      "Warning (not error because allow_undefined_stereo=True): OEMol has unspecified stereochemistry. oemol.GetTitle(): \n",
      "Problematic atoms are:\n",
      "Atom atomic num: 6, name: , idx: 15, aromatic: False, chiral: True with bonds:\n",
      "bond order: 1, chiral: False to atom atomic num: 7, name: , idx: 8, aromatic: False, chiral: False\n",
      "bond order: 1, chiral: False to atom atomic num: 6, name: , idx: 16, aromatic: True, chiral: False\n",
      "bond order: 1, chiral: False to atom atomic num: 6, name: , idx: 22, aromatic: False, chiral: False\n",
      "bond order: 1, chiral: False to atom atomic num: 1, name: , idx: 32, aromatic: False, chiral: False\n",
      "\n"
     ]
    },
    {
     "name": "stderr",
     "output_type": "stream",
     "text": [
      "Warning (not error because allow_undefined_stereo=True): OEMol has unspecified stereochemistry. oemol.GetTitle(): \n",
      "Problematic atoms are:\n",
      "Atom atomic num: 7, name: , idx: 19, aromatic: False, chiral: True with bonds:\n",
      "bond order: 1, chiral: False to atom atomic num: 6, name: , idx: 18, aromatic: False, chiral: False\n",
      "bond order: 1, chiral: False to atom atomic num: 6, name: , idx: 20, aromatic: False, chiral: False\n",
      "bond order: 1, chiral: False to atom atomic num: 6, name: , idx: 21, aromatic: False, chiral: False\n",
      "\n"
     ]
    },
    {
     "name": "stderr",
     "output_type": "stream",
     "text": [
      "Warning (not error because allow_undefined_stereo=True): OEMol has unspecified stereochemistry. oemol.GetTitle(): \n",
      "Problematic atoms are:\n",
      "Atom atomic num: 6, name: , idx: 21, aromatic: False, chiral: True with bonds:\n",
      "bond order: 1, chiral: False to atom atomic num: 7, name: , idx: 8, aromatic: False, chiral: False\n",
      "bond order: 1, chiral: False to atom atomic num: 6, name: , idx: 22, aromatic: True, chiral: False\n",
      "bond order: 1, chiral: False to atom atomic num: 6, name: , idx: 29, aromatic: False, chiral: False\n",
      "bond order: 1, chiral: False to atom atomic num: 1, name: , idx: 42, aromatic: False, chiral: False\n",
      "\n"
     ]
    },
    {
     "name": "stderr",
     "output_type": "stream",
     "text": [
      "Warning (not error because allow_undefined_stereo=True): OEMol has unspecified stereochemistry. oemol.GetTitle(): \n",
      "Problematic atoms are:\n",
      "Atom atomic num: 7, name: , idx: 27, aromatic: False, chiral: True with bonds:\n",
      "bond order: 1, chiral: False to atom atomic num: 6, name: , idx: 26, aromatic: False, chiral: False\n",
      "bond order: 1, chiral: False to atom atomic num: 6, name: , idx: 28, aromatic: False, chiral: False\n",
      "bond order: 1, chiral: False to atom atomic num: 6, name: , idx: 29, aromatic: False, chiral: False\n",
      "\n"
     ]
    },
    {
     "name": "stderr",
     "output_type": "stream",
     "text": [
      "Warning (not error because allow_undefined_stereo=True): OEMol has unspecified stereochemistry. oemol.GetTitle(): \n",
      "Problematic atoms are:\n",
      "Atom atomic num: 7, name: , idx: 1, aromatic: False, chiral: True with bonds:\n",
      "bond order: 1, chiral: False to atom atomic num: 6, name: , idx: 0, aromatic: False, chiral: False\n",
      "bond order: 1, chiral: False to atom atomic num: 6, name: , idx: 2, aromatic: False, chiral: False\n",
      "bond order: 1, chiral: False to atom atomic num: 6, name: , idx: 6, aromatic: True, chiral: False\n",
      "\n"
     ]
    },
    {
     "name": "stderr",
     "output_type": "stream",
     "text": [
      "Warning (not error because allow_undefined_stereo=True): OEMol has unspecified stereochemistry. oemol.GetTitle(): \n",
      "Problematic atoms are:\n",
      "Atom atomic num: 6, name: , idx: 14, aromatic: False, chiral: True with bonds:\n",
      "bond order: 1, chiral: False to atom atomic num: 6, name: , idx: 13, aromatic: False, chiral: False\n",
      "bond order: 1, chiral: False to atom atomic num: 7, name: , idx: 3, aromatic: False, chiral: False\n",
      "bond order: 1, chiral: False to atom atomic num: 6, name: , idx: 15, aromatic: True, chiral: False\n",
      "bond order: 1, chiral: False to atom atomic num: 1, name: , idx: 44, aromatic: False, chiral: False\n",
      "\n"
     ]
    },
    {
     "name": "stderr",
     "output_type": "stream",
     "text": [
      "Warning (not error because allow_undefined_stereo=True): OEMol has unspecified stereochemistry. oemol.GetTitle(): \n",
      "Problematic atoms are:\n",
      "Atom atomic num: 6, name: , idx: 5, aromatic: False, chiral: True with bonds:\n",
      "bond order: 1, chiral: False to atom atomic num: 6, name: , idx: 4, aromatic: False, chiral: False\n",
      "bond order: 1, chiral: False to atom atomic num: 7, name: , idx: 6, aromatic: False, chiral: False\n",
      "bond order: 1, chiral: False to atom atomic num: 6, name: , idx: 7, aromatic: False, chiral: False\n",
      "bond order: 1, chiral: False to atom atomic num: 1, name: , idx: 44, aromatic: False, chiral: False\n",
      "\n"
     ]
    },
    {
     "name": "stderr",
     "output_type": "stream",
     "text": [
      "Warning (not error because allow_undefined_stereo=True): OEMol has unspecified stereochemistry. oemol.GetTitle(): \n",
      "Problematic atoms are:\n",
      "Atom atomic num: 6, name: , idx: 4, aromatic: False, chiral: True with bonds:\n",
      "bond order: 1, chiral: False to atom atomic num: 6, name: , idx: 3, aromatic: False, chiral: False\n",
      "bond order: 1, chiral: False to atom atomic num: 6, name: , idx: 13, aromatic: True, chiral: False\n",
      "bond order: 1, chiral: False to atom atomic num: 6, name: , idx: 5, aromatic: False, chiral: False\n",
      "bond order: 1, chiral: False to atom atomic num: 1, name: , idx: 26, aromatic: False, chiral: False\n",
      "\n"
     ]
    },
    {
     "name": "stderr",
     "output_type": "stream",
     "text": [
      "Warning (not error because allow_undefined_stereo=True): OEMol has unspecified stereochemistry. oemol.GetTitle(): \n",
      "Problematic atoms are:\n",
      "Atom atomic num: 6, name: , idx: 7, aromatic: False, chiral: True with bonds:\n",
      "bond order: 1, chiral: False to atom atomic num: 7, name: , idx: 6, aromatic: False, chiral: False\n",
      "bond order: 1, chiral: False to atom atomic num: 6, name: , idx: 8, aromatic: False, chiral: False\n",
      "bond order: 1, chiral: False to atom atomic num: 6, name: , idx: 10, aromatic: False, chiral: False\n",
      "bond order: 1, chiral: False to atom atomic num: 1, name: , idx: 34, aromatic: False, chiral: False\n",
      "\n"
     ]
    },
    {
     "name": "stderr",
     "output_type": "stream",
     "text": [
      "Warning (not error because allow_undefined_stereo=True): OEMol has unspecified stereochemistry. oemol.GetTitle(): \n",
      "Problematic atoms are:\n",
      "Atom atomic num: 15, name: , idx: 1, aromatic: False, chiral: True with bonds:\n",
      "bond order: 1, chiral: False to atom atomic num: 7, name: , idx: 0, aromatic: False, chiral: False\n",
      "bond order: 2, chiral: False to atom atomic num: 8, name: , idx: 2, aromatic: False, chiral: False\n",
      "bond order: 1, chiral: False to atom atomic num: 8, name: , idx: 3, aromatic: False, chiral: False\n",
      "bond order: 1, chiral: False to atom atomic num: 7, name: , idx: 36, aromatic: False, chiral: False\n",
      "\n"
     ]
    },
    {
     "name": "stderr",
     "output_type": "stream",
     "text": [
      "Warning (not error because allow_undefined_stereo=True): OEMol has unspecified stereochemistry. oemol.GetTitle(): \n",
      "Problematic atoms are:\n",
      "Atom atomic num: 6, name: , idx: 15, aromatic: False, chiral: True with bonds:\n",
      "bond order: 1, chiral: False to atom atomic num: 7, name: , idx: 8, aromatic: False, chiral: False\n",
      "bond order: 1, chiral: False to atom atomic num: 6, name: , idx: 16, aromatic: True, chiral: False\n",
      "bond order: 1, chiral: False to atom atomic num: 6, name: , idx: 23, aromatic: False, chiral: False\n",
      "bond order: 1, chiral: False to atom atomic num: 1, name: , idx: 33, aromatic: False, chiral: False\n",
      "\n"
     ]
    },
    {
     "name": "stderr",
     "output_type": "stream",
     "text": [
      "Warning (not error because allow_undefined_stereo=True): OEMol has unspecified stereochemistry. oemol.GetTitle(): \n",
      "Problematic atoms are:\n",
      "Atom atomic num: 6, name: , idx: 15, aromatic: False, chiral: True with bonds:\n",
      "bond order: 1, chiral: False to atom atomic num: 6, name: , idx: 14, aromatic: False, chiral: False\n",
      "bond order: 1, chiral: False to atom atomic num: 7, name: , idx: 3, aromatic: False, chiral: False\n",
      "bond order: 1, chiral: False to atom atomic num: 6, name: , idx: 16, aromatic: True, chiral: False\n",
      "bond order: 1, chiral: False to atom atomic num: 1, name: , idx: 32, aromatic: False, chiral: False\n",
      "\n"
     ]
    },
    {
     "name": "stderr",
     "output_type": "stream",
     "text": [
      "Warning (not error because allow_undefined_stereo=True): OEMol has unspecified stereochemistry. oemol.GetTitle(): \n",
      "Problematic atoms are:\n",
      "Atom atomic num: 7, name: , idx: 32, aromatic: False, chiral: True with bonds:\n",
      "bond order: 1, chiral: False to atom atomic num: 6, name: , idx: 31, aromatic: True, chiral: False\n",
      "bond order: 1, chiral: False to atom atomic num: 6, name: , idx: 33, aromatic: False, chiral: False\n",
      "bond order: 1, chiral: False to atom atomic num: 6, name: , idx: 34, aromatic: False, chiral: False\n",
      "\n"
     ]
    },
    {
     "name": "stderr",
     "output_type": "stream",
     "text": [
      "Warning (not error because allow_undefined_stereo=True): OEMol has unspecified stereochemistry. oemol.GetTitle(): \n",
      "Problematic atoms are:\n",
      "Atom atomic num: 6, name: , idx: 19, aromatic: False, chiral: True with bonds:\n",
      "bond order: 1, chiral: False to atom atomic num: 6, name: , idx: 13, aromatic: False, chiral: False\n",
      "bond order: 1, chiral: False to atom atomic num: 6, name: , idx: 2, aromatic: False, chiral: False\n",
      "bond order: 1, chiral: False to atom atomic num: 6, name: , idx: 20, aromatic: False, chiral: False\n",
      "bond order: 1, chiral: False to atom atomic num: 1, name: , idx: 45, aromatic: False, chiral: False\n",
      "\n"
     ]
    },
    {
     "name": "stderr",
     "output_type": "stream",
     "text": [
      "Warning (not error because allow_undefined_stereo=True): OEMol has unspecified stereochemistry. oemol.GetTitle(): \n",
      "Problematic atoms are:\n",
      "Atom atomic num: 7, name: , idx: 6, aromatic: False, chiral: True with bonds:\n",
      "bond order: 1, chiral: False to atom atomic num: 6, name: , idx: 5, aromatic: False, chiral: False\n",
      "bond order: 1, chiral: False to atom atomic num: 6, name: , idx: 7, aromatic: True, chiral: False\n",
      "bond order: 1, chiral: False to atom atomic num: 6, name: , idx: 28, aromatic: False, chiral: False\n",
      "\n"
     ]
    },
    {
     "name": "stderr",
     "output_type": "stream",
     "text": [
      "Warning (not error because allow_undefined_stereo=True): OEMol has unspecified stereochemistry. oemol.GetTitle(): \n",
      "Problematic atoms are:\n",
      "Atom atomic num: 15, name: , idx: 1, aromatic: False, chiral: True with bonds:\n",
      "bond order: 1, chiral: False to atom atomic num: 7, name: , idx: 0, aromatic: False, chiral: False\n",
      "bond order: 2, chiral: False to atom atomic num: 8, name: , idx: 2, aromatic: False, chiral: False\n",
      "bond order: 1, chiral: False to atom atomic num: 8, name: , idx: 3, aromatic: False, chiral: False\n",
      "bond order: 1, chiral: False to atom atomic num: 7, name: , idx: 26, aromatic: False, chiral: False\n",
      "\n"
     ]
    },
    {
     "name": "stderr",
     "output_type": "stream",
     "text": [
      "Warning (not error because allow_undefined_stereo=True): OEMol has unspecified stereochemistry. oemol.GetTitle(): \n",
      "Problematic atoms are:\n",
      "Atom atomic num: 6, name: , idx: 16, aromatic: False, chiral: True with bonds:\n",
      "bond order: 1, chiral: False to atom atomic num: 6, name: , idx: 15, aromatic: False, chiral: False\n",
      "bond order: 1, chiral: False to atom atomic num: 7, name: , idx: 5, aromatic: False, chiral: False\n",
      "bond order: 1, chiral: False to atom atomic num: 6, name: , idx: 17, aromatic: True, chiral: False\n",
      "bond order: 1, chiral: False to atom atomic num: 1, name: , idx: 33, aromatic: False, chiral: False\n",
      "\n"
     ]
    },
    {
     "name": "stderr",
     "output_type": "stream",
     "text": [
      "Warning (not error because allow_undefined_stereo=True): OEMol has unspecified stereochemistry. oemol.GetTitle(): \n",
      "Problematic atoms are:\n",
      "Atom atomic num: 6, name: , idx: 17, aromatic: False, chiral: True with bonds:\n",
      "bond order: 1, chiral: False to atom atomic num: 7, name: , idx: 16, aromatic: False, chiral: False\n",
      "bond order: 1, chiral: False to atom atomic num: 6, name: , idx: 21, aromatic: False, chiral: False\n",
      "bond order: 1, chiral: False to atom atomic num: 6, name: , idx: 18, aromatic: False, chiral: False\n",
      "bond order: 1, chiral: False to atom atomic num: 1, name: , idx: 31, aromatic: False, chiral: False\n",
      "\n"
     ]
    },
    {
     "name": "stderr",
     "output_type": "stream",
     "text": [
      "Warning (not error because allow_undefined_stereo=True): OEMol has unspecified stereochemistry. oemol.GetTitle(): \n",
      "Problematic atoms are:\n",
      "Atom atomic num: 7, name: , idx: 5, aromatic: False, chiral: True with bonds:\n",
      "bond order: 1, chiral: False to atom atomic num: 6, name: , idx: 4, aromatic: False, chiral: False\n",
      "bond order: 1, chiral: False to atom atomic num: 6, name: , idx: 11, aromatic: False, chiral: False\n",
      "bond order: 1, chiral: False to atom atomic num: 6, name: , idx: 6, aromatic: False, chiral: False\n",
      "\n"
     ]
    },
    {
     "name": "stderr",
     "output_type": "stream",
     "text": [
      "Warning (not error because allow_undefined_stereo=True): OEMol has unspecified stereochemistry. oemol.GetTitle(): \n",
      "Problematic atoms are:\n",
      "Atom atomic num: 6, name: , idx: 7, aromatic: False, chiral: True with bonds:\n",
      "bond order: 1, chiral: False to atom atomic num: 8, name: , idx: 6, aromatic: False, chiral: False\n",
      "bond order: 1, chiral: False to atom atomic num: 6, name: , idx: 8, aromatic: False, chiral: False\n",
      "bond order: 1, chiral: False to atom atomic num: 6, name: , idx: 13, aromatic: True, chiral: False\n",
      "bond order: 1, chiral: False to atom atomic num: 1, name: , idx: 30, aromatic: False, chiral: False\n",
      "\n"
     ]
    },
    {
     "name": "stderr",
     "output_type": "stream",
     "text": [
      "Warning (not error because allow_undefined_stereo=True): OEMol has unspecified stereochemistry. oemol.GetTitle(): \n",
      "Problematic atoms are:\n",
      "Atom atomic num: 7, name: , idx: 34, aromatic: False, chiral: True with bonds:\n",
      "bond order: 1, chiral: False to atom atomic num: 6, name: , idx: 33, aromatic: True, chiral: False\n",
      "bond order: 1, chiral: False to atom atomic num: 6, name: , idx: 35, aromatic: False, chiral: False\n",
      "bond order: 1, chiral: False to atom atomic num: 6, name: , idx: 36, aromatic: False, chiral: False\n",
      "\n"
     ]
    },
    {
     "name": "stderr",
     "output_type": "stream",
     "text": [
      "Warning (not error because allow_undefined_stereo=True): OEMol has unspecified stereochemistry. oemol.GetTitle(): \n",
      "Problematic atoms are:\n",
      "Atom atomic num: 6, name: , idx: 5, aromatic: False, chiral: True with bonds:\n",
      "bond order: 1, chiral: False to atom atomic num: 7, name: , idx: 4, aromatic: False, chiral: False\n",
      "bond order: 1, chiral: False to atom atomic num: 6, name: , idx: 32, aromatic: False, chiral: False\n",
      "bond order: 1, chiral: False to atom atomic num: 6, name: , idx: 6, aromatic: False, chiral: False\n",
      "bond order: 1, chiral: False to atom atomic num: 1, name: , idx: 37, aromatic: False, chiral: False\n",
      "Atom atomic num: 6, name: , idx: 8, aromatic: False, chiral: True with bonds:\n",
      "bond order: 1, chiral: False to atom atomic num: 6, name: , idx: 7, aromatic: False, chiral: False\n",
      "bond order: 1, chiral: False to atom atomic num: 7, name: , idx: 9, aromatic: False, chiral: False\n",
      "bond order: 1, chiral: False to atom atomic num: 6, name: , idx: 32, aromatic: False, chiral: False\n",
      "bond order: 1, chiral: False to atom atomic num: 1, name: , idx: 42, aromatic: False, chiral: False\n",
      "\n"
     ]
    },
    {
     "name": "stderr",
     "output_type": "stream",
     "text": [
      "Warning (not error because allow_undefined_stereo=True): OEMol has unspecified stereochemistry. oemol.GetTitle(): \n",
      "Problematic atoms are:\n",
      "Atom atomic num: 6, name: , idx: 10, aromatic: False, chiral: True with bonds:\n",
      "bond order: 1, chiral: False to atom atomic num: 7, name: , idx: 9, aromatic: False, chiral: False\n",
      "bond order: 1, chiral: False to atom atomic num: 6, name: , idx: 11, aromatic: True, chiral: False\n",
      "bond order: 1, chiral: False to atom atomic num: 6, name: , idx: 17, aromatic: False, chiral: False\n",
      "bond order: 1, chiral: False to atom atomic num: 1, name: , idx: 39, aromatic: False, chiral: False\n",
      "Atom atomic num: 6, name: , idx: 19, aromatic: False, chiral: True with bonds:\n",
      "bond order: 1, chiral: False to atom atomic num: 7, name: , idx: 7, aromatic: False, chiral: False\n",
      "bond order: 1, chiral: False to atom atomic num: 6, name: , idx: 20, aromatic: True, chiral: False\n",
      "bond order: 1, chiral: False to atom atomic num: 6, name: , idx: 30, aromatic: False, chiral: False\n",
      "bond order: 1, chiral: False to atom atomic num: 1, name: , idx: 47, aromatic: False, chiral: False\n",
      "\n"
     ]
    },
    {
     "name": "stderr",
     "output_type": "stream",
     "text": [
      "Warning (not error because allow_undefined_stereo=True): OEMol has unspecified stereochemistry. oemol.GetTitle(): \n",
      "Problematic atoms are:\n",
      "Atom atomic num: 7, name: , idx: 13, aromatic: False, chiral: True with bonds:\n",
      "bond order: 1, chiral: False to atom atomic num: 6, name: , idx: 12, aromatic: True, chiral: False\n",
      "bond order: 1, chiral: False to atom atomic num: 6, name: , idx: 22, aromatic: False, chiral: False\n",
      "bond order: 1, chiral: False to atom atomic num: 6, name: , idx: 14, aromatic: False, chiral: False\n",
      "\n"
     ]
    },
    {
     "name": "stderr",
     "output_type": "stream",
     "text": [
      "Warning (not error because allow_undefined_stereo=True): OEMol has unspecified stereochemistry. oemol.GetTitle(): \n",
      "Problematic atoms are:\n",
      "Atom atomic num: 7, name: , idx: 2, aromatic: False, chiral: True with bonds:\n",
      "bond order: 1, chiral: False to atom atomic num: 6, name: , idx: 1, aromatic: False, chiral: False\n",
      "bond order: 1, chiral: False to atom atomic num: 6, name: , idx: 3, aromatic: False, chiral: False\n",
      "bond order: 1, chiral: False to atom atomic num: 6, name: , idx: 41, aromatic: False, chiral: False\n",
      "\n"
     ]
    },
    {
     "name": "stderr",
     "output_type": "stream",
     "text": [
      "Warning (not error because allow_undefined_stereo=True): OEMol has unspecified stereochemistry. oemol.GetTitle(): \n",
      "Problematic atoms are:\n",
      "Atom atomic num: 7, name: , idx: 24, aromatic: False, chiral: True with bonds:\n",
      "bond order: 1, chiral: False to atom atomic num: 6, name: , idx: 23, aromatic: False, chiral: False\n",
      "bond order: 1, chiral: False to atom atomic num: 6, name: , idx: 25, aromatic: False, chiral: False\n",
      "bond order: 1, chiral: False to atom atomic num: 6, name: , idx: 26, aromatic: False, chiral: False\n",
      "\n"
     ]
    },
    {
     "name": "stderr",
     "output_type": "stream",
     "text": [
      "Warning (not error because allow_undefined_stereo=True): OEMol has unspecified stereochemistry. oemol.GetTitle(): \n",
      "Problematic atoms are:\n",
      "Atom atomic num: 6, name: , idx: 1, aromatic: False, chiral: True with bonds:\n",
      "bond order: 1, chiral: False to atom atomic num: 6, name: , idx: 0, aromatic: False, chiral: False\n",
      "bond order: 1, chiral: False to atom atomic num: 6, name: , idx: 2, aromatic: False, chiral: False\n",
      "bond order: 1, chiral: False to atom atomic num: 6, name: , idx: 6, aromatic: False, chiral: False\n",
      "bond order: 1, chiral: False to atom atomic num: 1, name: , idx: 31, aromatic: False, chiral: False\n",
      "\n"
     ]
    },
    {
     "name": "stderr",
     "output_type": "stream",
     "text": [
      "Warning (not error because allow_undefined_stereo=True): OEMol has unspecified stereochemistry. oemol.GetTitle(): \n",
      "Problematic atoms are:\n",
      "Atom atomic num: 6, name: , idx: 3, aromatic: False, chiral: True with bonds:\n",
      "bond order: 1, chiral: False to atom atomic num: 6, name: , idx: 1, aromatic: False, chiral: False\n",
      "bond order: 1, chiral: False to atom atomic num: 6, name: , idx: 4, aromatic: False, chiral: False\n",
      "bond order: 1, chiral: False to atom atomic num: 7, name: , idx: 6, aromatic: False, chiral: False\n",
      "bond order: 1, chiral: False to atom atomic num: 1, name: , idx: 39, aromatic: False, chiral: False\n",
      "\n"
     ]
    },
    {
     "name": "stderr",
     "output_type": "stream",
     "text": [
      "Warning (not error because allow_undefined_stereo=True): OEMol has unspecified stereochemistry. oemol.GetTitle(): \n",
      "Problematic atoms are:\n",
      "Atom atomic num: 6, name: , idx: 1, aromatic: False, chiral: True with bonds:\n",
      "bond order: 1, chiral: False to atom atomic num: 6, name: , idx: 0, aromatic: False, chiral: False\n",
      "bond order: 1, chiral: False to atom atomic num: 8, name: , idx: 2, aromatic: False, chiral: False\n",
      "bond order: 1, chiral: False to atom atomic num: 6, name: , idx: 3, aromatic: False, chiral: True\n",
      "bond order: 1, chiral: False to atom atomic num: 1, name: , idx: 27, aromatic: False, chiral: False\n",
      "Atom atomic num: 6, name: , idx: 3, aromatic: False, chiral: True with bonds:\n",
      "bond order: 1, chiral: False to atom atomic num: 6, name: , idx: 1, aromatic: False, chiral: True\n",
      "bond order: 1, chiral: False to atom atomic num: 7, name: , idx: 4, aromatic: False, chiral: False\n",
      "bond order: 1, chiral: False to atom atomic num: 6, name: , idx: 21, aromatic: False, chiral: False\n",
      "bond order: 1, chiral: False to atom atomic num: 1, name: , idx: 29, aromatic: False, chiral: False\n",
      "Atom atomic num: 6, name: , idx: 11, aromatic: False, chiral: True with bonds:\n",
      "bond order: 1, chiral: False to atom atomic num: 7, name: , idx: 10, aromatic: False, chiral: False\n",
      "bond order: 1, chiral: False to atom atomic num: 6, name: , idx: 12, aromatic: False, chiral: False\n",
      "bond order: 1, chiral: False to atom atomic num: 6, name: , idx: 15, aromatic: False, chiral: True\n",
      "bond order: 1, chiral: False to atom atomic num: 1, name: , idx: 32, aromatic: False, chiral: False\n",
      "Atom atomic num: 6, name: , idx: 15, aromatic: False, chiral: True with bonds:\n",
      "bond order: 1, chiral: False to atom atomic num: 6, name: , idx: 11, aromatic: False, chiral: True\n",
      "bond order: 1, chiral: False to atom atomic num: 6, name: , idx: 16, aromatic: False, chiral: False\n",
      "bond order: 1, chiral: False to atom atomic num: 8, name: , idx: 17, aromatic: False, chiral: False\n",
      "bond order: 1, chiral: False to atom atomic num: 1, name: , idx: 34, aromatic: False, chiral: False\n",
      "\n"
     ]
    },
    {
     "name": "stderr",
     "output_type": "stream",
     "text": [
      "Warning (not error because allow_undefined_stereo=True): OEMol has unspecified stereochemistry. oemol.GetTitle(): \n",
      "Problematic atoms are:\n",
      "Atom atomic num: 6, name: , idx: 5, aromatic: False, chiral: True with bonds:\n",
      "bond order: 1, chiral: False to atom atomic num: 6, name: , idx: 4, aromatic: True, chiral: False\n",
      "bond order: 1, chiral: False to atom atomic num: 7, name: , idx: 16, aromatic: False, chiral: False\n",
      "bond order: 1, chiral: False to atom atomic num: 6, name: , idx: 6, aromatic: False, chiral: False\n",
      "bond order: 1, chiral: False to atom atomic num: 1, name: , idx: 30, aromatic: False, chiral: False\n",
      "\n"
     ]
    },
    {
     "name": "stderr",
     "output_type": "stream",
     "text": [
      "Warning (not error because allow_undefined_stereo=True): OEMol has unspecified stereochemistry. oemol.GetTitle(): \n",
      "Problematic atoms are:\n",
      "Atom atomic num: 7, name: , idx: 5, aromatic: False, chiral: True with bonds:\n",
      "bond order: 1, chiral: False to atom atomic num: 6, name: , idx: 4, aromatic: False, chiral: False\n",
      "bond order: 1, chiral: False to atom atomic num: 6, name: , idx: 26, aromatic: False, chiral: False\n",
      "bond order: 1, chiral: False to atom atomic num: 6, name: , idx: 6, aromatic: False, chiral: False\n",
      "Atom atomic num: 6, name: , idx: 8, aromatic: False, chiral: True with bonds:\n",
      "bond order: 1, chiral: False to atom atomic num: 6, name: , idx: 7, aromatic: False, chiral: False\n",
      "bond order: 1, chiral: False to atom atomic num: 7, name: , idx: 9, aromatic: False, chiral: False\n",
      "bond order: 1, chiral: False to atom atomic num: 6, name: , idx: 26, aromatic: False, chiral: False\n",
      "bond order: 1, chiral: False to atom atomic num: 1, name: , idx: 36, aromatic: False, chiral: False\n",
      "\n"
     ]
    },
    {
     "name": "stderr",
     "output_type": "stream",
     "text": [
      "Warning (not error because allow_undefined_stereo=True): OEMol has unspecified stereochemistry. oemol.GetTitle(): \n",
      "Problematic atoms are:\n",
      "Atom atomic num: 7, name: , idx: 28, aromatic: False, chiral: True with bonds:\n",
      "bond order: 1, chiral: False to atom atomic num: 6, name: , idx: 27, aromatic: False, chiral: False\n",
      "bond order: 1, chiral: False to atom atomic num: 6, name: , idx: 29, aromatic: False, chiral: False\n",
      "bond order: 1, chiral: False to atom atomic num: 6, name: , idx: 30, aromatic: False, chiral: False\n",
      "\n"
     ]
    },
    {
     "name": "stderr",
     "output_type": "stream",
     "text": [
      "Warning (not error because allow_undefined_stereo=True): OEMol has unspecified stereochemistry. oemol.GetTitle(): \n",
      "Problematic atoms are:\n",
      "Atom atomic num: 6, name: , idx: 17, aromatic: False, chiral: True with bonds:\n",
      "bond order: 1, chiral: False to atom atomic num: 6, name: , idx: 16, aromatic: False, chiral: False\n",
      "bond order: 1, chiral: False to atom atomic num: 8, name: , idx: 21, aromatic: False, chiral: False\n",
      "bond order: 1, chiral: False to atom atomic num: 6, name: , idx: 18, aromatic: False, chiral: False\n",
      "bond order: 1, chiral: False to atom atomic num: 1, name: , idx: 39, aromatic: False, chiral: False\n",
      "\n"
     ]
    },
    {
     "name": "stderr",
     "output_type": "stream",
     "text": [
      "Warning (not error because allow_undefined_stereo=True): OEMol has unspecified stereochemistry. oemol.GetTitle(): \n",
      "Problematic atoms are:\n",
      "Atom atomic num: 7, name: , idx: 30, aromatic: False, chiral: True with bonds:\n",
      "bond order: 1, chiral: False to atom atomic num: 6, name: , idx: 29, aromatic: True, chiral: False\n",
      "bond order: 1, chiral: False to atom atomic num: 6, name: , idx: 31, aromatic: False, chiral: False\n",
      "bond order: 1, chiral: False to atom atomic num: 6, name: , idx: 32, aromatic: False, chiral: False\n",
      "\n"
     ]
    },
    {
     "name": "stderr",
     "output_type": "stream",
     "text": [
      "Warning (not error because allow_undefined_stereo=True): OEMol has unspecified stereochemistry. oemol.GetTitle(): \n",
      "Problematic atoms are:\n",
      "Atom atomic num: 7, name: , idx: 1, aromatic: False, chiral: True with bonds:\n",
      "bond order: 1, chiral: False to atom atomic num: 6, name: , idx: 0, aromatic: False, chiral: False\n",
      "bond order: 1, chiral: False to atom atomic num: 6, name: , idx: 2, aromatic: False, chiral: False\n",
      "bond order: 1, chiral: False to atom atomic num: 6, name: , idx: 25, aromatic: False, chiral: False\n",
      "\n"
     ]
    },
    {
     "name": "stderr",
     "output_type": "stream",
     "text": [
      "Warning (not error because allow_undefined_stereo=True): OEMol has unspecified stereochemistry. oemol.GetTitle(): \n",
      "Problematic atoms are:\n",
      "Atom atomic num: 16, name: , idx: 31, aromatic: False, chiral: True with bonds:\n",
      "bond order: 1, chiral: False to atom atomic num: 6, name: , idx: 30, aromatic: True, chiral: False\n",
      "bond order: 1, chiral: False to atom atomic num: 6, name: , idx: 32, aromatic: False, chiral: False\n",
      "bond order: 1, chiral: False to atom atomic num: 8, name: , idx: 33, aromatic: False, chiral: False\n",
      "Atom atomic num: 16, name: , idx: 60, aromatic: False, chiral: True with bonds:\n",
      "bond order: 1, chiral: False to atom atomic num: 6, name: , idx: 59, aromatic: True, chiral: False\n",
      "bond order: 1, chiral: False to atom atomic num: 6, name: , idx: 61, aromatic: False, chiral: False\n",
      "bond order: 1, chiral: False to atom atomic num: 8, name: , idx: 62, aromatic: False, chiral: False\n",
      "\n"
     ]
    },
    {
     "name": "stderr",
     "output_type": "stream",
     "text": [
      "Warning (not error because allow_undefined_stereo=True): OEMol has unspecified stereochemistry. oemol.GetTitle(): \n",
      "Problematic atoms are:\n",
      "Atom atomic num: 7, name: , idx: 22, aromatic: False, chiral: True with bonds:\n",
      "bond order: 1, chiral: False to atom atomic num: 6, name: , idx: 21, aromatic: False, chiral: False\n",
      "bond order: 1, chiral: False to atom atomic num: 6, name: , idx: 26, aromatic: False, chiral: True\n",
      "bond order: 1, chiral: False to atom atomic num: 6, name: , idx: 23, aromatic: False, chiral: False\n",
      "\n"
     ]
    },
    {
     "name": "stderr",
     "output_type": "stream",
     "text": [
      "Warning (not error because allow_undefined_stereo=True): OEMol has unspecified stereochemistry. oemol.GetTitle(): \n",
      "Problematic atoms are:\n",
      "Atom atomic num: 6, name: , idx: 22, aromatic: False, chiral: True with bonds:\n",
      "bond order: 1, chiral: False to atom atomic num: 7, name: , idx: 21, aromatic: False, chiral: False\n",
      "bond order: 1, chiral: False to atom atomic num: 6, name: , idx: 23, aromatic: False, chiral: False\n",
      "bond order: 1, chiral: False to atom atomic num: 6, name: , idx: 24, aromatic: False, chiral: False\n",
      "bond order: 1, chiral: False to atom atomic num: 1, name: , idx: 43, aromatic: False, chiral: False\n",
      "\n"
     ]
    },
    {
     "name": "stderr",
     "output_type": "stream",
     "text": [
      "Warning (not error because allow_undefined_stereo=True): OEMol has unspecified stereochemistry. oemol.GetTitle(): \n",
      "Problematic atoms are:\n",
      "Atom atomic num: 7, name: , idx: 34, aromatic: False, chiral: True with bonds:\n",
      "bond order: 1, chiral: False to atom atomic num: 6, name: , idx: 33, aromatic: True, chiral: False\n",
      "bond order: 1, chiral: False to atom atomic num: 6, name: , idx: 41, aromatic: False, chiral: False\n",
      "bond order: 1, chiral: False to atom atomic num: 6, name: , idx: 35, aromatic: False, chiral: False\n",
      "Atom atomic num: 7, name: , idx: 38, aromatic: False, chiral: True with bonds:\n",
      "bond order: 1, chiral: False to atom atomic num: 6, name: , idx: 37, aromatic: False, chiral: False\n",
      "bond order: 1, chiral: False to atom atomic num: 6, name: , idx: 39, aromatic: False, chiral: False\n",
      "bond order: 1, chiral: False to atom atomic num: 6, name: , idx: 40, aromatic: False, chiral: False\n",
      "\n"
     ]
    },
    {
     "name": "stderr",
     "output_type": "stream",
     "text": [
      "Warning (not error because allow_undefined_stereo=True): OEMol has unspecified stereochemistry. oemol.GetTitle(): \n",
      "Problematic atoms are:\n",
      "Atom atomic num: 6, name: , idx: 21, aromatic: False, chiral: True with bonds:\n",
      "bond order: 1, chiral: False to atom atomic num: 6, name: , idx: 12, aromatic: False, chiral: False\n",
      "bond order: 1, chiral: False to atom atomic num: 6, name: , idx: 8, aromatic: False, chiral: False\n",
      "bond order: 1, chiral: False to atom atomic num: 6, name: , idx: 5, aromatic: False, chiral: False\n",
      "bond order: 1, chiral: False to atom atomic num: 1, name: , idx: 37, aromatic: False, chiral: False\n",
      "\n"
     ]
    },
    {
     "name": "stderr",
     "output_type": "stream",
     "text": [
      "Warning (not error because allow_undefined_stereo=True): OEMol has unspecified stereochemistry. oemol.GetTitle(): \n",
      "Problematic atoms are:\n",
      "Atom atomic num: 7, name: , idx: 1, aromatic: False, chiral: True with bonds:\n",
      "bond order: 1, chiral: False to atom atomic num: 6, name: , idx: 0, aromatic: False, chiral: False\n",
      "bond order: 1, chiral: False to atom atomic num: 6, name: , idx: 2, aromatic: False, chiral: False\n",
      "bond order: 1, chiral: False to atom atomic num: 6, name: , idx: 5, aromatic: True, chiral: False\n",
      "\n"
     ]
    },
    {
     "name": "stderr",
     "output_type": "stream",
     "text": [
      "Warning (not error because allow_undefined_stereo=True): OEMol has unspecified stereochemistry. oemol.GetTitle(): \n",
      "Problematic atoms are:\n",
      "Atom atomic num: 7, name: , idx: 31, aromatic: False, chiral: True with bonds:\n",
      "bond order: 1, chiral: False to atom atomic num: 6, name: , idx: 30, aromatic: True, chiral: False\n",
      "bond order: 1, chiral: False to atom atomic num: 6, name: , idx: 32, aromatic: False, chiral: False\n",
      "bond order: 1, chiral: False to atom atomic num: 6, name: , idx: 33, aromatic: False, chiral: False\n",
      "\n"
     ]
    },
    {
     "name": "stderr",
     "output_type": "stream",
     "text": [
      "Warning (not error because allow_undefined_stereo=True): OEMol has unspecified stereochemistry. oemol.GetTitle(): \n",
      "Problematic atoms are:\n",
      "Atom atomic num: 7, name: , idx: 28, aromatic: False, chiral: True with bonds:\n",
      "bond order: 1, chiral: False to atom atomic num: 6, name: , idx: 27, aromatic: True, chiral: False\n",
      "bond order: 1, chiral: False to atom atomic num: 6, name: , idx: 29, aromatic: False, chiral: False\n",
      "bond order: 1, chiral: False to atom atomic num: 6, name: , idx: 30, aromatic: False, chiral: False\n",
      "\n"
     ]
    },
    {
     "name": "stderr",
     "output_type": "stream",
     "text": [
      "Warning (not error because allow_undefined_stereo=True): OEMol has unspecified stereochemistry. oemol.GetTitle(): \n",
      "Problematic atoms are:\n",
      "Atom atomic num: 6, name: , idx: 2, aromatic: False, chiral: True with bonds:\n",
      "bond order: 1, chiral: False to atom atomic num: 6, name: , idx: 1, aromatic: False, chiral: False\n",
      "bond order: 1, chiral: False to atom atomic num: 8, name: , idx: 3, aromatic: False, chiral: False\n",
      "bond order: 1, chiral: False to atom atomic num: 6, name: , idx: 4, aromatic: False, chiral: False\n",
      "bond order: 1, chiral: False to atom atomic num: 1, name: , idx: 27, aromatic: False, chiral: False\n",
      "\n"
     ]
    },
    {
     "name": "stderr",
     "output_type": "stream",
     "text": [
      "Warning (not error because allow_undefined_stereo=True): OEMol has unspecified stereochemistry. oemol.GetTitle(): \n",
      "Problematic atoms are:\n",
      "Atom atomic num: 6, name: , idx: 17, aromatic: False, chiral: True with bonds:\n",
      "bond order: 1, chiral: False to atom atomic num: 7, name: , idx: 16, aromatic: False, chiral: False\n",
      "bond order: 1, chiral: False to atom atomic num: 6, name: , idx: 21, aromatic: False, chiral: False\n",
      "bond order: 1, chiral: False to atom atomic num: 6, name: , idx: 18, aromatic: False, chiral: False\n",
      "bond order: 1, chiral: False to atom atomic num: 1, name: , idx: 31, aromatic: False, chiral: False\n",
      "\n"
     ]
    },
    {
     "name": "stderr",
     "output_type": "stream",
     "text": [
      "Warning (not error because allow_undefined_stereo=True): OEMol has unspecified stereochemistry. oemol.GetTitle(): \n",
      "Problematic atoms are:\n",
      "Atom atomic num: 6, name: , idx: 15, aromatic: False, chiral: True with bonds:\n",
      "bond order: 1, chiral: False to atom atomic num: 6, name: , idx: 14, aromatic: False, chiral: False\n",
      "bond order: 1, chiral: False to atom atomic num: 7, name: , idx: 3, aromatic: False, chiral: False\n",
      "bond order: 1, chiral: False to atom atomic num: 6, name: , idx: 16, aromatic: True, chiral: False\n",
      "bond order: 1, chiral: False to atom atomic num: 1, name: , idx: 31, aromatic: False, chiral: False\n",
      "\n"
     ]
    },
    {
     "name": "stderr",
     "output_type": "stream",
     "text": [
      "Warning (not error because allow_undefined_stereo=True): OEMol has unspecified stereochemistry. oemol.GetTitle(): \n",
      "Problematic atoms are:\n",
      "Atom atomic num: 7, name: , idx: 3, aromatic: False, chiral: True with bonds:\n",
      "bond order: 1, chiral: False to atom atomic num: 6, name: , idx: 1, aromatic: False, chiral: False\n",
      "bond order: 1, chiral: False to atom atomic num: 6, name: , idx: 4, aromatic: False, chiral: False\n",
      "bond order: 1, chiral: False to atom atomic num: 6, name: , idx: 18, aromatic: False, chiral: False\n",
      "\n"
     ]
    },
    {
     "name": "stderr",
     "output_type": "stream",
     "text": [
      "Warning (not error because allow_undefined_stereo=True): OEMol has unspecified stereochemistry. oemol.GetTitle(): \n",
      "Problematic atoms are:\n",
      "Atom atomic num: 7, name: , idx: 32, aromatic: False, chiral: True with bonds:\n",
      "bond order: 1, chiral: False to atom atomic num: 6, name: , idx: 31, aromatic: True, chiral: False\n",
      "bond order: 1, chiral: False to atom atomic num: 6, name: , idx: 33, aromatic: False, chiral: False\n",
      "bond order: 1, chiral: False to atom atomic num: 6, name: , idx: 34, aromatic: False, chiral: False\n",
      "\n"
     ]
    },
    {
     "name": "stderr",
     "output_type": "stream",
     "text": [
      "Warning (not error because allow_undefined_stereo=True): OEMol has unspecified stereochemistry. oemol.GetTitle(): \n",
      "Problematic atoms are:\n",
      "Atom atomic num: 6, name: , idx: 8, aromatic: False, chiral: True with bonds:\n",
      "bond order: 1, chiral: False to atom atomic num: 6, name: , idx: 7, aromatic: True, chiral: False\n",
      "bond order: 1, chiral: False to atom atomic num: 6, name: , idx: 9, aromatic: False, chiral: False\n",
      "bond order: 1, chiral: False to atom atomic num: 7, name: , idx: 10, aromatic: False, chiral: False\n",
      "bond order: 1, chiral: False to atom atomic num: 1, name: , idx: 35, aromatic: False, chiral: False\n",
      "\n"
     ]
    },
    {
     "name": "stderr",
     "output_type": "stream",
     "text": [
      "Warning (not error because allow_undefined_stereo=True): OEMol has unspecified stereochemistry. oemol.GetTitle(): \n",
      "Problematic atoms are:\n",
      "Atom atomic num: 6, name: , idx: 5, aromatic: False, chiral: True with bonds:\n",
      "bond order: 1, chiral: False to atom atomic num: 6, name: , idx: 4, aromatic: True, chiral: False\n",
      "bond order: 1, chiral: False to atom atomic num: 7, name: , idx: 16, aromatic: False, chiral: False\n",
      "bond order: 1, chiral: False to atom atomic num: 6, name: , idx: 6, aromatic: False, chiral: False\n",
      "bond order: 1, chiral: False to atom atomic num: 1, name: , idx: 33, aromatic: False, chiral: False\n",
      "\n"
     ]
    },
    {
     "name": "stderr",
     "output_type": "stream",
     "text": [
      "Warning (not error because allow_undefined_stereo=True): OEMol has unspecified stereochemistry. oemol.GetTitle(): \n",
      "Problematic atoms are:\n",
      "Atom atomic num: 6, name: , idx: 21, aromatic: False, chiral: True with bonds:\n",
      "bond order: 1, chiral: False to atom atomic num: 7, name: , idx: 8, aromatic: False, chiral: False\n",
      "bond order: 1, chiral: False to atom atomic num: 6, name: , idx: 22, aromatic: True, chiral: False\n",
      "bond order: 1, chiral: False to atom atomic num: 6, name: , idx: 29, aromatic: False, chiral: False\n",
      "bond order: 1, chiral: False to atom atomic num: 1, name: , idx: 42, aromatic: False, chiral: False\n",
      "\n"
     ]
    },
    {
     "name": "stderr",
     "output_type": "stream",
     "text": [
      "Warning (not error because allow_undefined_stereo=True): OEMol has unspecified stereochemistry. oemol.GetTitle(): \n",
      "Problematic atoms are:\n",
      "Atom atomic num: 6, name: , idx: 10, aromatic: False, chiral: True with bonds:\n",
      "bond order: 1, chiral: False to atom atomic num: 6, name: , idx: 9, aromatic: False, chiral: False\n",
      "bond order: 1, chiral: False to atom atomic num: 6, name: , idx: 11, aromatic: False, chiral: False\n",
      "bond order: 1, chiral: False to atom atomic num: 6, name: , idx: 12, aromatic: False, chiral: False\n",
      "bond order: 1, chiral: False to atom atomic num: 1, name: , idx: 37, aromatic: False, chiral: False\n",
      "\n"
     ]
    },
    {
     "name": "stderr",
     "output_type": "stream",
     "text": [
      "Warning (not error because allow_undefined_stereo=True): OEMol has unspecified stereochemistry. oemol.GetTitle(): \n",
      "Problematic atoms are:\n",
      "Atom atomic num: 16, name: , idx: 31, aromatic: False, chiral: True with bonds:\n",
      "bond order: 1, chiral: False to atom atomic num: 6, name: , idx: 30, aromatic: True, chiral: False\n",
      "bond order: 1, chiral: False to atom atomic num: 6, name: , idx: 32, aromatic: False, chiral: False\n",
      "bond order: 1, chiral: False to atom atomic num: 8, name: , idx: 33, aromatic: False, chiral: False\n",
      "\n"
     ]
    },
    {
     "name": "stderr",
     "output_type": "stream",
     "text": [
      "Warning (not error because allow_undefined_stereo=True): OEMol has unspecified stereochemistry. oemol.GetTitle(): \n",
      "Problematic atoms are:\n",
      "Atom atomic num: 7, name: , idx: 6, aromatic: False, chiral: True with bonds:\n",
      "bond order: 1, chiral: False to atom atomic num: 6, name: , idx: 4, aromatic: False, chiral: True\n",
      "bond order: 1, chiral: False to atom atomic num: 6, name: , idx: 7, aromatic: False, chiral: False\n",
      "bond order: 1, chiral: False to atom atomic num: 6, name: , idx: 8, aromatic: False, chiral: False\n",
      "\n"
     ]
    },
    {
     "name": "stderr",
     "output_type": "stream",
     "text": [
      "Warning (not error because allow_undefined_stereo=True): OEMol has unspecified stereochemistry. oemol.GetTitle(): \n",
      "Problematic atoms are:\n",
      "Atom atomic num: 6, name: , idx: 14, aromatic: False, chiral: True with bonds:\n",
      "bond order: 1, chiral: False to atom atomic num: 7, name: , idx: 7, aromatic: False, chiral: False\n",
      "bond order: 1, chiral: False to atom atomic num: 6, name: , idx: 15, aromatic: True, chiral: False\n",
      "bond order: 1, chiral: False to atom atomic num: 6, name: , idx: 25, aromatic: False, chiral: False\n",
      "bond order: 1, chiral: False to atom atomic num: 1, name: , idx: 38, aromatic: False, chiral: False\n",
      "\n"
     ]
    },
    {
     "name": "stderr",
     "output_type": "stream",
     "text": [
      "Warning (not error because allow_undefined_stereo=True): OEMol has unspecified stereochemistry. oemol.GetTitle(): \n",
      "Problematic atoms are:\n",
      "Atom atomic num: 7, name: , idx: 13, aromatic: False, chiral: True with bonds:\n",
      "bond order: 1, chiral: False to atom atomic num: 6, name: , idx: 12, aromatic: True, chiral: False\n",
      "bond order: 1, chiral: False to atom atomic num: 6, name: , idx: 22, aromatic: False, chiral: False\n",
      "bond order: 1, chiral: False to atom atomic num: 6, name: , idx: 14, aromatic: False, chiral: False\n",
      "\n"
     ]
    },
    {
     "name": "stderr",
     "output_type": "stream",
     "text": [
      "Warning (not error because allow_undefined_stereo=True): OEMol has unspecified stereochemistry. oemol.GetTitle(): \n",
      "Problematic atoms are:\n",
      "Atom atomic num: 6, name: , idx: 19, aromatic: False, chiral: True with bonds:\n",
      "bond order: 1, chiral: False to atom atomic num: 7, name: , idx: 7, aromatic: False, chiral: False\n",
      "bond order: 1, chiral: False to atom atomic num: 6, name: , idx: 20, aromatic: True, chiral: False\n",
      "bond order: 1, chiral: False to atom atomic num: 6, name: , idx: 29, aromatic: False, chiral: False\n",
      "bond order: 1, chiral: False to atom atomic num: 1, name: , idx: 44, aromatic: False, chiral: False\n",
      "\n"
     ]
    },
    {
     "name": "stderr",
     "output_type": "stream",
     "text": [
      "Warning (not error because allow_undefined_stereo=True): OEMol has unspecified stereochemistry. oemol.GetTitle(): \n",
      "Problematic atoms are:\n",
      "Atom atomic num: 6, name: , idx: 15, aromatic: False, chiral: True with bonds:\n",
      "bond order: 1, chiral: False to atom atomic num: 6, name: , idx: 14, aromatic: False, chiral: False\n",
      "bond order: 1, chiral: False to atom atomic num: 7, name: , idx: 3, aromatic: False, chiral: False\n",
      "bond order: 1, chiral: False to atom atomic num: 6, name: , idx: 16, aromatic: True, chiral: False\n",
      "bond order: 1, chiral: False to atom atomic num: 1, name: , idx: 33, aromatic: False, chiral: False\n",
      "\n"
     ]
    },
    {
     "name": "stderr",
     "output_type": "stream",
     "text": [
      "Warning (not error because allow_undefined_stereo=True): OEMol has unspecified stereochemistry. oemol.GetTitle(): \n",
      "Problematic atoms are:\n",
      "Atom atomic num: 6, name: , idx: 24, aromatic: False, chiral: True with bonds:\n",
      "bond order: 1, chiral: False to atom atomic num: 6, name: , idx: 16, aromatic: False, chiral: False\n",
      "bond order: 1, chiral: False to atom atomic num: 6, name: , idx: 5, aromatic: False, chiral: False\n",
      "bond order: 1, chiral: False to atom atomic num: 6, name: , idx: 25, aromatic: False, chiral: False\n",
      "bond order: 1, chiral: False to atom atomic num: 1, name: , idx: 60, aromatic: False, chiral: False\n",
      "\n"
     ]
    },
    {
     "name": "stderr",
     "output_type": "stream",
     "text": [
      "Warning (not error because allow_undefined_stereo=True): OEMol has unspecified stereochemistry. oemol.GetTitle(): \n",
      "Problematic atoms are:\n",
      "Atom atomic num: 6, name: , idx: 10, aromatic: False, chiral: True with bonds:\n",
      "bond order: 1, chiral: False to atom atomic num: 7, name: , idx: 9, aromatic: False, chiral: False\n",
      "bond order: 1, chiral: False to atom atomic num: 6, name: , idx: 12, aromatic: False, chiral: True\n",
      "bond order: 1, chiral: False to atom atomic num: 6, name: , idx: 11, aromatic: False, chiral: False\n",
      "bond order: 1, chiral: False to atom atomic num: 1, name: , idx: 35, aromatic: False, chiral: False\n",
      "Atom atomic num: 6, name: , idx: 12, aromatic: False, chiral: True with bonds:\n",
      "bond order: 1, chiral: False to atom atomic num: 6, name: , idx: 11, aromatic: False, chiral: False\n",
      "bond order: 1, chiral: False to atom atomic num: 6, name: , idx: 10, aromatic: False, chiral: True\n",
      "bond order: 1, chiral: False to atom atomic num: 6, name: , idx: 13, aromatic: True, chiral: False\n",
      "bond order: 1, chiral: False to atom atomic num: 1, name: , idx: 38, aromatic: False, chiral: False\n",
      "\n"
     ]
    },
    {
     "name": "stderr",
     "output_type": "stream",
     "text": [
      "Warning (not error because allow_undefined_stereo=True): OEMol has unspecified stereochemistry. oemol.GetTitle(): \n",
      "Problematic atoms are:\n",
      "Atom atomic num: 6, name: , idx: 22, aromatic: False, chiral: True with bonds:\n",
      "bond order: 1, chiral: False to atom atomic num: 7, name: , idx: 21, aromatic: False, chiral: False\n",
      "bond order: 1, chiral: False to atom atomic num: 6, name: , idx: 2, aromatic: False, chiral: False\n",
      "bond order: 1, chiral: False to atom atomic num: 6, name: , idx: 23, aromatic: False, chiral: False\n",
      "bond order: 1, chiral: False to atom atomic num: 1, name: , idx: 39, aromatic: False, chiral: False\n",
      "\n"
     ]
    },
    {
     "name": "stderr",
     "output_type": "stream",
     "text": [
      "Warning (not error because allow_undefined_stereo=True): OEMol has unspecified stereochemistry. oemol.GetTitle(): \n",
      "Problematic atoms are:\n",
      "Atom atomic num: 7, name: , idx: 5, aromatic: False, chiral: True with bonds:\n",
      "bond order: 1, chiral: False to atom atomic num: 6, name: , idx: 4, aromatic: False, chiral: False\n",
      "bond order: 1, chiral: False to atom atomic num: 6, name: , idx: 6, aromatic: False, chiral: False\n",
      "bond order: 1, chiral: False to atom atomic num: 6, name: , idx: 7, aromatic: True, chiral: False\n",
      "\n"
     ]
    },
    {
     "name": "stderr",
     "output_type": "stream",
     "text": [
      "Warning (not error because allow_undefined_stereo=True): OEMol has unspecified stereochemistry. oemol.GetTitle(): \n",
      "Problematic atoms are:\n",
      "Atom atomic num: 7, name: , idx: 33, aromatic: False, chiral: True with bonds:\n",
      "bond order: 1, chiral: False to atom atomic num: 6, name: , idx: 32, aromatic: True, chiral: False\n",
      "bond order: 1, chiral: False to atom atomic num: 6, name: , idx: 34, aromatic: False, chiral: False\n",
      "bond order: 1, chiral: False to atom atomic num: 6, name: , idx: 35, aromatic: False, chiral: False\n",
      "\n"
     ]
    },
    {
     "name": "stderr",
     "output_type": "stream",
     "text": [
      "Warning (not error because allow_undefined_stereo=True): OEMol has unspecified stereochemistry. oemol.GetTitle(): \n",
      "Problematic atoms are:\n",
      "Atom atomic num: 6, name: , idx: 21, aromatic: False, chiral: True with bonds:\n",
      "bond order: 1, chiral: False to atom atomic num: 7, name: , idx: 8, aromatic: False, chiral: False\n",
      "bond order: 1, chiral: False to atom atomic num: 6, name: , idx: 22, aromatic: True, chiral: False\n",
      "bond order: 1, chiral: False to atom atomic num: 6, name: , idx: 30, aromatic: False, chiral: False\n",
      "bond order: 1, chiral: False to atom atomic num: 1, name: , idx: 43, aromatic: False, chiral: False\n",
      "\n"
     ]
    },
    {
     "name": "stderr",
     "output_type": "stream",
     "text": [
      "Warning (not error because allow_undefined_stereo=True): OEMol has unspecified stereochemistry. oemol.GetTitle(): \n",
      "Problematic atoms are:\n",
      "Atom atomic num: 7, name: , idx: 35, aromatic: False, chiral: True with bonds:\n",
      "bond order: 1, chiral: False to atom atomic num: 6, name: , idx: 34, aromatic: True, chiral: False\n",
      "bond order: 1, chiral: False to atom atomic num: 6, name: , idx: 36, aromatic: False, chiral: False\n",
      "bond order: 1, chiral: False to atom atomic num: 6, name: , idx: 37, aromatic: False, chiral: False\n",
      "\n"
     ]
    },
    {
     "name": "stderr",
     "output_type": "stream",
     "text": [
      "Warning (not error because allow_undefined_stereo=True): OEMol has unspecified stereochemistry. oemol.GetTitle(): \n",
      "Problematic atoms are:\n",
      "Atom atomic num: 6, name: , idx: 10, aromatic: False, chiral: True with bonds:\n",
      "bond order: 1, chiral: False to atom atomic num: 6, name: , idx: 9, aromatic: False, chiral: False\n",
      "bond order: 1, chiral: False to atom atomic num: 6, name: , idx: 11, aromatic: False, chiral: False\n",
      "bond order: 1, chiral: False to atom atomic num: 6, name: , idx: 12, aromatic: False, chiral: False\n",
      "bond order: 1, chiral: False to atom atomic num: 1, name: , idx: 38, aromatic: False, chiral: False\n",
      "\n"
     ]
    },
    {
     "name": "stderr",
     "output_type": "stream",
     "text": [
      "Warning (not error because allow_undefined_stereo=True): OEMol has unspecified stereochemistry. oemol.GetTitle(): \n",
      "Problematic atoms are:\n",
      "Atom atomic num: 6, name: , idx: 5, aromatic: False, chiral: True with bonds:\n",
      "bond order: 1, chiral: False to atom atomic num: 6, name: , idx: 4, aromatic: True, chiral: False\n",
      "bond order: 1, chiral: False to atom atomic num: 7, name: , idx: 16, aromatic: False, chiral: False\n",
      "bond order: 1, chiral: False to atom atomic num: 6, name: , idx: 6, aromatic: False, chiral: False\n",
      "bond order: 1, chiral: False to atom atomic num: 1, name: , idx: 34, aromatic: False, chiral: False\n",
      "\n"
     ]
    },
    {
     "name": "stderr",
     "output_type": "stream",
     "text": [
      "Warning (not error because allow_undefined_stereo=True): OEMol has unspecified stereochemistry. oemol.GetTitle(): \n",
      "Problematic atoms are:\n",
      "Atom atomic num: 7, name: , idx: 5, aromatic: False, chiral: True with bonds:\n",
      "bond order: 1, chiral: False to atom atomic num: 6, name: , idx: 4, aromatic: True, chiral: False\n",
      "bond order: 1, chiral: False to atom atomic num: 6, name: , idx: 6, aromatic: False, chiral: False\n",
      "bond order: 1, chiral: False to atom atomic num: 6, name: , idx: 7, aromatic: False, chiral: False\n",
      "\n"
     ]
    },
    {
     "name": "stderr",
     "output_type": "stream",
     "text": [
      "Warning (not error because allow_undefined_stereo=True): OEMol has unspecified stereochemistry. oemol.GetTitle(): \n",
      "Problematic atoms are:\n",
      "Atom atomic num: 6, name: , idx: 2, aromatic: False, chiral: True with bonds:\n",
      "bond order: 1, chiral: False to atom atomic num: 7, name: , idx: 1, aromatic: False, chiral: False\n",
      "bond order: 1, chiral: False to atom atomic num: 6, name: , idx: 3, aromatic: False, chiral: False\n",
      "bond order: 1, chiral: False to atom atomic num: 6, name: , idx: 8, aromatic: False, chiral: False\n",
      "bond order: 1, chiral: False to atom atomic num: 1, name: , idx: 44, aromatic: False, chiral: False\n",
      "\n"
     ]
    },
    {
     "name": "stderr",
     "output_type": "stream",
     "text": [
      "Warning (not error because allow_undefined_stereo=True): OEMol has unspecified stereochemistry. oemol.GetTitle(): \n",
      "Problematic atoms are:\n",
      "Atom atomic num: 6, name: , idx: 7, aromatic: False, chiral: True with bonds:\n",
      "bond order: 1, chiral: False to atom atomic num: 8, name: , idx: 6, aromatic: False, chiral: False\n",
      "bond order: 1, chiral: False to atom atomic num: 6, name: , idx: 8, aromatic: False, chiral: False\n",
      "bond order: 1, chiral: False to atom atomic num: 6, name: , idx: 13, aromatic: True, chiral: False\n",
      "bond order: 1, chiral: False to atom atomic num: 1, name: , idx: 30, aromatic: False, chiral: False\n",
      "\n"
     ]
    },
    {
     "name": "stderr",
     "output_type": "stream",
     "text": [
      "Warning (not error because allow_undefined_stereo=True): OEMol has unspecified stereochemistry. oemol.GetTitle(): \n",
      "Problematic atoms are:\n",
      "Atom atomic num: 15, name: , idx: 26, aromatic: False, chiral: True with bonds:\n",
      "bond order: 1, chiral: False to atom atomic num: 8, name: , idx: 25, aromatic: False, chiral: False\n",
      "bond order: 1, chiral: False to atom atomic num: 7, name: , idx: 27, aromatic: False, chiral: False\n",
      "bond order: 2, chiral: False to atom atomic num: 8, name: , idx: 28, aromatic: False, chiral: False\n",
      "bond order: 1, chiral: False to atom atomic num: 7, name: , idx: 29, aromatic: False, chiral: False\n",
      "\n"
     ]
    },
    {
     "name": "stderr",
     "output_type": "stream",
     "text": [
      "Warning (not error because allow_undefined_stereo=True): OEMol has unspecified stereochemistry. oemol.GetTitle(): \n",
      "Problematic atoms are:\n",
      "Atom atomic num: 6, name: , idx: 32, aromatic: False, chiral: True with bonds:\n",
      "bond order: 1, chiral: False to atom atomic num: 6, name: , idx: 31, aromatic: False, chiral: False\n",
      "bond order: 1, chiral: False to atom atomic num: 7, name: , idx: 33, aromatic: False, chiral: False\n",
      "bond order: 1, chiral: False to atom atomic num: 6, name: , idx: 34, aromatic: False, chiral: False\n",
      "bond order: 1, chiral: False to atom atomic num: 1, name: , idx: 72, aromatic: False, chiral: False\n",
      "\n"
     ]
    },
    {
     "name": "stderr",
     "output_type": "stream",
     "text": [
      "Warning (not error because allow_undefined_stereo=True): OEMol has unspecified stereochemistry. oemol.GetTitle(): \n",
      "Problematic atoms are:\n",
      "Atom atomic num: 7, name: , idx: 30, aromatic: False, chiral: True with bonds:\n",
      "bond order: 1, chiral: False to atom atomic num: 6, name: , idx: 29, aromatic: True, chiral: False\n",
      "bond order: 1, chiral: False to atom atomic num: 6, name: , idx: 31, aromatic: False, chiral: False\n",
      "bond order: 1, chiral: False to atom atomic num: 6, name: , idx: 32, aromatic: False, chiral: False\n",
      "\n"
     ]
    },
    {
     "name": "stderr",
     "output_type": "stream",
     "text": [
      "Warning (not error because allow_undefined_stereo=True): OEMol has unspecified stereochemistry. oemol.GetTitle(): \n",
      "Problematic atoms are:\n",
      "Atom atomic num: 6, name: , idx: 14, aromatic: False, chiral: True with bonds:\n",
      "bond order: 1, chiral: False to atom atomic num: 7, name: , idx: 7, aromatic: False, chiral: False\n",
      "bond order: 1, chiral: False to atom atomic num: 6, name: , idx: 15, aromatic: True, chiral: False\n",
      "bond order: 1, chiral: False to atom atomic num: 6, name: , idx: 25, aromatic: False, chiral: False\n",
      "bond order: 1, chiral: False to atom atomic num: 1, name: , idx: 35, aromatic: False, chiral: False\n",
      "\n"
     ]
    },
    {
     "name": "stderr",
     "output_type": "stream",
     "text": [
      "Warning (not error because allow_undefined_stereo=True): OEMol has unspecified stereochemistry. oemol.GetTitle(): \n",
      "Problematic atoms are:\n",
      "Atom atomic num: 7, name: , idx: 32, aromatic: False, chiral: True with bonds:\n",
      "bond order: 1, chiral: False to atom atomic num: 6, name: , idx: 31, aromatic: True, chiral: False\n",
      "bond order: 1, chiral: False to atom atomic num: 6, name: , idx: 33, aromatic: False, chiral: False\n",
      "bond order: 1, chiral: False to atom atomic num: 6, name: , idx: 34, aromatic: False, chiral: False\n",
      "\n"
     ]
    },
    {
     "name": "stderr",
     "output_type": "stream",
     "text": [
      "Warning (not error because allow_undefined_stereo=True): OEMol has unspecified stereochemistry. oemol.GetTitle(): \n",
      "Problematic atoms are:\n",
      "Atom atomic num: 6, name: , idx: 6, aromatic: False, chiral: True with bonds:\n",
      "bond order: 1, chiral: False to atom atomic num: 6, name: , idx: 5, aromatic: True, chiral: False\n",
      "bond order: 1, chiral: False to atom atomic num: 7, name: , idx: 18, aromatic: False, chiral: False\n",
      "bond order: 1, chiral: False to atom atomic num: 6, name: , idx: 7, aromatic: False, chiral: False\n",
      "bond order: 1, chiral: False to atom atomic num: 1, name: , idx: 29, aromatic: False, chiral: False\n",
      "\n"
     ]
    },
    {
     "name": "stderr",
     "output_type": "stream",
     "text": [
      "Warning (not error because allow_undefined_stereo=True): OEMol has unspecified stereochemistry. oemol.GetTitle(): \n",
      "Problematic atoms are:\n",
      "Atom atomic num: 6, name: , idx: 15, aromatic: False, chiral: True with bonds:\n",
      "bond order: 1, chiral: False to atom atomic num: 6, name: , idx: 14, aromatic: False, chiral: False\n",
      "bond order: 1, chiral: False to atom atomic num: 7, name: , idx: 3, aromatic: False, chiral: False\n",
      "bond order: 1, chiral: False to atom atomic num: 6, name: , idx: 16, aromatic: True, chiral: False\n",
      "bond order: 1, chiral: False to atom atomic num: 1, name: , idx: 36, aromatic: False, chiral: False\n",
      "\n"
     ]
    },
    {
     "name": "stderr",
     "output_type": "stream",
     "text": [
      "Warning (not error because allow_undefined_stereo=True): OEMol has unspecified stereochemistry. oemol.GetTitle(): \n",
      "Problematic atoms are:\n",
      "Atom atomic num: 6, name: , idx: 14, aromatic: False, chiral: True with bonds:\n",
      "bond order: 1, chiral: False to atom atomic num: 6, name: , idx: 13, aromatic: False, chiral: False\n",
      "bond order: 1, chiral: False to atom atomic num: 7, name: , idx: 3, aromatic: False, chiral: False\n",
      "bond order: 1, chiral: False to atom atomic num: 6, name: , idx: 15, aromatic: True, chiral: False\n",
      "bond order: 1, chiral: False to atom atomic num: 1, name: , idx: 33, aromatic: False, chiral: False\n",
      "\n"
     ]
    },
    {
     "name": "stderr",
     "output_type": "stream",
     "text": [
      "Warning (not error because allow_undefined_stereo=True): OEMol has unspecified stereochemistry. oemol.GetTitle(): \n",
      "Problematic atoms are:\n",
      "Atom atomic num: 7, name: , idx: 32, aromatic: False, chiral: True with bonds:\n",
      "bond order: 1, chiral: False to atom atomic num: 6, name: , idx: 31, aromatic: True, chiral: False\n",
      "bond order: 1, chiral: False to atom atomic num: 6, name: , idx: 39, aromatic: False, chiral: False\n",
      "bond order: 1, chiral: False to atom atomic num: 6, name: , idx: 33, aromatic: False, chiral: False\n",
      "Atom atomic num: 7, name: , idx: 35, aromatic: False, chiral: True with bonds:\n",
      "bond order: 1, chiral: False to atom atomic num: 6, name: , idx: 34, aromatic: False, chiral: False\n",
      "bond order: 1, chiral: False to atom atomic num: 6, name: , idx: 36, aromatic: False, chiral: False\n",
      "bond order: 1, chiral: False to atom atomic num: 6, name: , idx: 37, aromatic: False, chiral: True\n",
      "Atom atomic num: 6, name: , idx: 37, aromatic: False, chiral: True with bonds:\n",
      "bond order: 1, chiral: False to atom atomic num: 7, name: , idx: 35, aromatic: False, chiral: True\n",
      "bond order: 1, chiral: False to atom atomic num: 6, name: , idx: 38, aromatic: False, chiral: False\n",
      "bond order: 1, chiral: False to atom atomic num: 6, name: , idx: 39, aromatic: False, chiral: False\n",
      "bond order: 1, chiral: False to atom atomic num: 1, name: , idx: 74, aromatic: False, chiral: False\n",
      "\n"
     ]
    },
    {
     "name": "stderr",
     "output_type": "stream",
     "text": [
      "Warning (not error because allow_undefined_stereo=True): OEMol has unspecified stereochemistry. oemol.GetTitle(): \n",
      "Problematic atoms are:\n",
      "Atom atomic num: 7, name: , idx: 4, aromatic: False, chiral: True with bonds:\n",
      "bond order: 1, chiral: False to atom atomic num: 6, name: , idx: 3, aromatic: False, chiral: False\n",
      "bond order: 1, chiral: False to atom atomic num: 6, name: , idx: 25, aromatic: False, chiral: False\n",
      "bond order: 1, chiral: False to atom atomic num: 6, name: , idx: 5, aromatic: False, chiral: False\n",
      "Atom atomic num: 6, name: , idx: 7, aromatic: False, chiral: True with bonds:\n",
      "bond order: 1, chiral: False to atom atomic num: 6, name: , idx: 6, aromatic: False, chiral: False\n",
      "bond order: 1, chiral: False to atom atomic num: 7, name: , idx: 8, aromatic: False, chiral: False\n",
      "bond order: 1, chiral: False to atom atomic num: 6, name: , idx: 25, aromatic: False, chiral: False\n",
      "bond order: 1, chiral: False to atom atomic num: 1, name: , idx: 34, aromatic: False, chiral: False\n",
      "\n"
     ]
    },
    {
     "name": "stderr",
     "output_type": "stream",
     "text": [
      "Warning (not error because allow_undefined_stereo=True): OEMol has unspecified stereochemistry. oemol.GetTitle(): \n",
      "Problematic atoms are:\n",
      "Atom atomic num: 7, name: , idx: 32, aromatic: False, chiral: True with bonds:\n",
      "bond order: 1, chiral: False to atom atomic num: 6, name: , idx: 31, aromatic: True, chiral: False\n",
      "bond order: 1, chiral: False to atom atomic num: 6, name: , idx: 33, aromatic: False, chiral: False\n",
      "bond order: 1, chiral: False to atom atomic num: 6, name: , idx: 34, aromatic: False, chiral: False\n",
      "\n"
     ]
    },
    {
     "name": "stderr",
     "output_type": "stream",
     "text": [
      "Warning (not error because allow_undefined_stereo=True): OEMol has unspecified stereochemistry. oemol.GetTitle(): \n",
      "Problematic atoms are:\n",
      "Atom atomic num: 6, name: , idx: 13, aromatic: False, chiral: True with bonds:\n",
      "bond order: 1, chiral: False to atom atomic num: 6, name: , idx: 11, aromatic: False, chiral: False\n",
      "bond order: 1, chiral: False to atom atomic num: 6, name: , idx: 14, aromatic: False, chiral: False\n",
      "bond order: 1, chiral: False to atom atomic num: 7, name: , idx: 22, aromatic: False, chiral: False\n",
      "bond order: 1, chiral: False to atom atomic num: 1, name: , idx: 56, aromatic: False, chiral: False\n",
      "\n"
     ]
    },
    {
     "name": "stderr",
     "output_type": "stream",
     "text": [
      "Warning (not error because allow_undefined_stereo=True): OEMol has unspecified stereochemistry. oemol.GetTitle(): \n",
      "Problematic atoms are:\n",
      "Atom atomic num: 16, name: , idx: 1, aromatic: False, chiral: True with bonds:\n",
      "bond order: 1, chiral: False to atom atomic num: 6, name: , idx: 0, aromatic: False, chiral: False\n",
      "bond order: 1, chiral: False to atom atomic num: 8, name: , idx: 2, aromatic: False, chiral: False\n",
      "bond order: 1, chiral: False to atom atomic num: 6, name: , idx: 3, aromatic: False, chiral: False\n",
      "\n"
     ]
    },
    {
     "name": "stderr",
     "output_type": "stream",
     "text": [
      "Warning (not error because allow_undefined_stereo=True): OEMol has unspecified stereochemistry. oemol.GetTitle(): \n",
      "Problematic atoms are:\n",
      "Atom atomic num: 7, name: , idx: 1, aromatic: False, chiral: True with bonds:\n",
      "bond order: 1, chiral: False to atom atomic num: 6, name: , idx: 0, aromatic: False, chiral: False\n",
      "bond order: 1, chiral: False to atom atomic num: 7, name: , idx: 2, aromatic: False, chiral: False\n",
      "bond order: 1, chiral: False to atom atomic num: 6, name: , idx: 3, aromatic: False, chiral: False\n",
      "\n"
     ]
    },
    {
     "name": "stderr",
     "output_type": "stream",
     "text": [
      "Warning (not error because allow_undefined_stereo=True): OEMol has unspecified stereochemistry. oemol.GetTitle(): \n",
      "Problematic atoms are:\n",
      "Atom atomic num: 7, name: , idx: 22, aromatic: False, chiral: True with bonds:\n",
      "bond order: 1, chiral: False to atom atomic num: 6, name: , idx: 21, aromatic: False, chiral: False\n",
      "bond order: 1, chiral: False to atom atomic num: 6, name: , idx: 25, aromatic: False, chiral: True\n",
      "bond order: 1, chiral: False to atom atomic num: 6, name: , idx: 23, aromatic: False, chiral: False\n",
      "Atom atomic num: 6, name: , idx: 25, aromatic: False, chiral: True with bonds:\n",
      "bond order: 1, chiral: False to atom atomic num: 6, name: , idx: 24, aromatic: False, chiral: False\n",
      "bond order: 1, chiral: False to atom atomic num: 7, name: , idx: 22, aromatic: False, chiral: True\n",
      "bond order: 1, chiral: False to atom atomic num: 6, name: , idx: 26, aromatic: False, chiral: False\n",
      "bond order: 1, chiral: False to atom atomic num: 1, name: , idx: 45, aromatic: False, chiral: False\n",
      "\n"
     ]
    },
    {
     "name": "stderr",
     "output_type": "stream",
     "text": [
      "Warning (not error because allow_undefined_stereo=True): OEMol has unspecified stereochemistry. oemol.GetTitle(): \n",
      "Problematic atoms are:\n",
      "Atom atomic num: 6, name: , idx: 14, aromatic: False, chiral: True with bonds:\n",
      "bond order: 1, chiral: False to atom atomic num: 7, name: , idx: 7, aromatic: False, chiral: False\n",
      "bond order: 1, chiral: False to atom atomic num: 6, name: , idx: 15, aromatic: True, chiral: False\n",
      "bond order: 1, chiral: False to atom atomic num: 6, name: , idx: 22, aromatic: False, chiral: False\n",
      "bond order: 1, chiral: False to atom atomic num: 1, name: , idx: 32, aromatic: False, chiral: False\n",
      "\n"
     ]
    },
    {
     "name": "stderr",
     "output_type": "stream",
     "text": [
      "Warning (not error because allow_undefined_stereo=True): OEMol has unspecified stereochemistry. oemol.GetTitle(): \n",
      "Problematic atoms are:\n",
      "Atom atomic num: 7, name: , idx: 20, aromatic: False, chiral: True with bonds:\n",
      "bond order: 1, chiral: False to atom atomic num: 6, name: , idx: 19, aromatic: False, chiral: False\n",
      "bond order: 1, chiral: False to atom atomic num: 6, name: , idx: 15, aromatic: True, chiral: False\n",
      "bond order: 1, chiral: False to atom atomic num: 6, name: , idx: 21, aromatic: False, chiral: False\n",
      "\n"
     ]
    },
    {
     "name": "stderr",
     "output_type": "stream",
     "text": [
      "Warning (not error because allow_undefined_stereo=True): OEMol has unspecified stereochemistry. oemol.GetTitle(): \n",
      "Problematic atoms are:\n",
      "Atom atomic num: 6, name: , idx: 20, aromatic: False, chiral: True with bonds:\n",
      "bond order: 1, chiral: False to atom atomic num: 7, name: , idx: 7, aromatic: False, chiral: False\n",
      "bond order: 1, chiral: False to atom atomic num: 6, name: , idx: 21, aromatic: True, chiral: False\n",
      "bond order: 1, chiral: False to atom atomic num: 6, name: , idx: 28, aromatic: False, chiral: False\n",
      "bond order: 1, chiral: False to atom atomic num: 1, name: , idx: 42, aromatic: False, chiral: False\n",
      "\n"
     ]
    },
    {
     "name": "stderr",
     "output_type": "stream",
     "text": [
      "Warning (not error because allow_undefined_stereo=True): OEMol has unspecified stereochemistry. oemol.GetTitle(): \n",
      "Problematic atoms are:\n",
      "Atom atomic num: 6, name: , idx: 2, aromatic: False, chiral: True with bonds:\n",
      "bond order: 1, chiral: False to atom atomic num: 7, name: , idx: 1, aromatic: False, chiral: False\n",
      "bond order: 1, chiral: False to atom atomic num: 6, name: , idx: 35, aromatic: False, chiral: False\n",
      "bond order: 1, chiral: False to atom atomic num: 6, name: , idx: 3, aromatic: False, chiral: False\n",
      "bond order: 1, chiral: False to atom atomic num: 1, name: , idx: 39, aromatic: False, chiral: False\n",
      "\n"
     ]
    },
    {
     "name": "stderr",
     "output_type": "stream",
     "text": [
      "Warning (not error because allow_undefined_stereo=True): OEMol has unspecified stereochemistry. oemol.GetTitle(): \n",
      "Problematic atoms are:\n",
      "Atom atomic num: 6, name: , idx: 3, aromatic: False, chiral: True with bonds:\n",
      "bond order: 1, chiral: False to atom atomic num: 6, name: , idx: 2, aromatic: False, chiral: False\n",
      "bond order: 1, chiral: False to atom atomic num: 6, name: , idx: 4, aromatic: False, chiral: False\n",
      "bond order: 1, chiral: False to atom atomic num: 8, name: , idx: 5, aromatic: False, chiral: False\n",
      "bond order: 1, chiral: False to atom atomic num: 1, name: , idx: 34, aromatic: False, chiral: False\n",
      "\n"
     ]
    },
    {
     "name": "stderr",
     "output_type": "stream",
     "text": [
      "Warning (not error because allow_undefined_stereo=True): OEMol has unspecified stereochemistry. oemol.GetTitle(): \n",
      "Problematic atoms are:\n",
      "Atom atomic num: 6, name: , idx: 1, aromatic: False, chiral: True with bonds:\n",
      "bond order: 1, chiral: False to atom atomic num: 6, name: , idx: 0, aromatic: False, chiral: False\n",
      "bond order: 1, chiral: False to atom atomic num: 6, name: , idx: 2, aromatic: False, chiral: False\n",
      "bond order: 1, chiral: False to atom atomic num: 6, name: , idx: 15, aromatic: True, chiral: False\n",
      "bond order: 1, chiral: False to atom atomic num: 1, name: , idx: 36, aromatic: False, chiral: False\n",
      "\n"
     ]
    },
    {
     "name": "stderr",
     "output_type": "stream",
     "text": [
      "Warning (not error because allow_undefined_stereo=True): OEMol has unspecified stereochemistry. oemol.GetTitle(): \n",
      "Problematic atoms are:\n",
      "Atom atomic num: 6, name: , idx: 4, aromatic: False, chiral: True with bonds:\n",
      "bond order: 1, chiral: False to atom atomic num: 8, name: , idx: 3, aromatic: False, chiral: False\n",
      "bond order: 1, chiral: False to atom atomic num: 6, name: , idx: 5, aromatic: False, chiral: False\n",
      "bond order: 1, chiral: False to atom atomic num: 6, name: , idx: 42, aromatic: False, chiral: False\n",
      "bond order: 1, chiral: False to atom atomic num: 1, name: , idx: 55, aromatic: False, chiral: False\n",
      "Atom atomic num: 6, name: , idx: 20, aromatic: False, chiral: True with bonds:\n",
      "bond order: 1, chiral: False to atom atomic num: 6, name: , idx: 19, aromatic: False, chiral: False\n",
      "bond order: 1, chiral: False to atom atomic num: 8, name: , idx: 21, aromatic: False, chiral: False\n",
      "bond order: 1, chiral: False to atom atomic num: 6, name: , idx: 25, aromatic: False, chiral: False\n",
      "bond order: 1, chiral: False to atom atomic num: 1, name: , idx: 65, aromatic: False, chiral: False\n",
      "\n"
     ]
    },
    {
     "name": "stderr",
     "output_type": "stream",
     "text": [
      "Warning (not error because allow_undefined_stereo=True): OEMol has unspecified stereochemistry. oemol.GetTitle(): \n",
      "Problematic atoms are:\n",
      "Atom atomic num: 6, name: , idx: 3, aromatic: False, chiral: True with bonds:\n",
      "bond order: 1, chiral: False to atom atomic num: 8, name: , idx: 2, aromatic: False, chiral: False\n",
      "bond order: 1, chiral: False to atom atomic num: 6, name: , idx: 4, aromatic: False, chiral: False\n",
      "bond order: 1, chiral: False to atom atomic num: 8, name: , idx: 5, aromatic: False, chiral: False\n",
      "bond order: 1, chiral: False to atom atomic num: 1, name: , idx: 35, aromatic: False, chiral: False\n",
      "\n"
     ]
    },
    {
     "name": "stderr",
     "output_type": "stream",
     "text": [
      "Warning (not error because allow_undefined_stereo=True): OEMol has unspecified stereochemistry. oemol.GetTitle(): \n",
      "Problematic atoms are:\n",
      "Atom atomic num: 7, name: , idx: 5, aromatic: False, chiral: True with bonds:\n",
      "bond order: 1, chiral: False to atom atomic num: 16, name: , idx: 2, aromatic: False, chiral: False\n",
      "bond order: 1, chiral: False to atom atomic num: 6, name: , idx: 9, aromatic: False, chiral: True\n",
      "bond order: 1, chiral: False to atom atomic num: 6, name: , idx: 6, aromatic: False, chiral: False\n",
      "\n"
     ]
    },
    {
     "name": "stderr",
     "output_type": "stream",
     "text": [
      "Warning (not error because allow_undefined_stereo=True): OEMol has unspecified stereochemistry. oemol.GetTitle(): \n",
      "Problematic atoms are:\n",
      "Atom atomic num: 6, name: , idx: 14, aromatic: False, chiral: True with bonds:\n",
      "bond order: 1, chiral: False to atom atomic num: 6, name: , idx: 13, aromatic: False, chiral: False\n",
      "bond order: 1, chiral: False to atom atomic num: 7, name: , idx: 3, aromatic: False, chiral: False\n",
      "bond order: 1, chiral: False to atom atomic num: 6, name: , idx: 15, aromatic: True, chiral: False\n",
      "bond order: 1, chiral: False to atom atomic num: 1, name: , idx: 45, aromatic: False, chiral: False\n",
      "Atom atomic num: 6, name: , idx: 22, aromatic: False, chiral: True with bonds:\n",
      "bond order: 1, chiral: False to atom atomic num: 8, name: , idx: 21, aromatic: False, chiral: False\n",
      "bond order: 1, chiral: False to atom atomic num: 6, name: , idx: 23, aromatic: False, chiral: False\n",
      "bond order: 1, chiral: False to atom atomic num: 6, name: , idx: 24, aromatic: False, chiral: False\n",
      "bond order: 1, chiral: False to atom atomic num: 1, name: , idx: 48, aromatic: False, chiral: False\n",
      "\n"
     ]
    },
    {
     "name": "stderr",
     "output_type": "stream",
     "text": [
      "Warning (not error because allow_undefined_stereo=True): OEMol has unspecified stereochemistry. oemol.GetTitle(): \n",
      "Problematic atoms are:\n",
      "Atom atomic num: 7, name: , idx: 33, aromatic: False, chiral: True with bonds:\n",
      "bond order: 1, chiral: False to atom atomic num: 6, name: , idx: 32, aromatic: True, chiral: False\n",
      "bond order: 1, chiral: False to atom atomic num: 6, name: , idx: 34, aromatic: False, chiral: False\n",
      "bond order: 1, chiral: False to atom atomic num: 6, name: , idx: 35, aromatic: False, chiral: False\n",
      "\n"
     ]
    },
    {
     "name": "stderr",
     "output_type": "stream",
     "text": [
      "Warning (not error because allow_undefined_stereo=True): OEMol has unspecified stereochemistry. oemol.GetTitle(): \n",
      "Problematic atoms are:\n",
      "Atom atomic num: 6, name: , idx: 14, aromatic: False, chiral: True with bonds:\n",
      "bond order: 1, chiral: False to atom atomic num: 6, name: , idx: 13, aromatic: False, chiral: False\n",
      "bond order: 1, chiral: False to atom atomic num: 7, name: , idx: 3, aromatic: False, chiral: False\n",
      "bond order: 1, chiral: False to atom atomic num: 6, name: , idx: 15, aromatic: True, chiral: False\n",
      "bond order: 1, chiral: False to atom atomic num: 1, name: , idx: 47, aromatic: False, chiral: False\n",
      "\n"
     ]
    },
    {
     "name": "stderr",
     "output_type": "stream",
     "text": [
      "Warning (not error because allow_undefined_stereo=True): OEMol has unspecified stereochemistry. oemol.GetTitle(): \n",
      "Problematic atoms are:\n",
      "Atom atomic num: 6, name: , idx: 1, aromatic: False, chiral: True with bonds:\n",
      "bond order: 1, chiral: False to atom atomic num: 6, name: , idx: 0, aromatic: False, chiral: False\n",
      "bond order: 1, chiral: False to atom atomic num: 6, name: , idx: 23, aromatic: False, chiral: False\n",
      "bond order: 1, chiral: False to atom atomic num: 6, name: , idx: 2, aromatic: False, chiral: False\n",
      "bond order: 1, chiral: False to atom atomic num: 1, name: , idx: 27, aromatic: False, chiral: False\n",
      "Atom atomic num: 6, name: , idx: 4, aromatic: False, chiral: True with bonds:\n",
      "bond order: 1, chiral: False to atom atomic num: 6, name: , idx: 3, aromatic: False, chiral: False\n",
      "bond order: 1, chiral: False to atom atomic num: 7, name: , idx: 5, aromatic: False, chiral: False\n",
      "bond order: 1, chiral: False to atom atomic num: 6, name: , idx: 23, aromatic: False, chiral: False\n",
      "bond order: 1, chiral: False to atom atomic num: 1, name: , idx: 32, aromatic: False, chiral: False\n",
      "\n"
     ]
    },
    {
     "name": "stderr",
     "output_type": "stream",
     "text": [
      "Warning (not error because allow_undefined_stereo=True): OEMol has unspecified stereochemistry. oemol.GetTitle(): \n",
      "Problematic atoms are:\n",
      "Atom atomic num: 7, name: , idx: 5, aromatic: False, chiral: True with bonds:\n",
      "bond order: 1, chiral: False to atom atomic num: 6, name: , idx: 4, aromatic: False, chiral: False\n",
      "bond order: 1, chiral: False to atom atomic num: 6, name: , idx: 6, aromatic: False, chiral: False\n",
      "bond order: 1, chiral: False to atom atomic num: 6, name: , idx: 7, aromatic: False, chiral: True\n",
      "\n"
     ]
    },
    {
     "name": "stderr",
     "output_type": "stream",
     "text": [
      "Warning (not error because allow_undefined_stereo=True): OEMol has unspecified stereochemistry. oemol.GetTitle(): \n",
      "Problematic atoms are:\n",
      "Atom atomic num: 6, name: , idx: 6, aromatic: False, chiral: True with bonds:\n",
      "bond order: 1, chiral: False to atom atomic num: 8, name: , idx: 5, aromatic: False, chiral: False\n",
      "bond order: 1, chiral: False to atom atomic num: 6, name: , idx: 10, aromatic: False, chiral: False\n",
      "bond order: 1, chiral: False to atom atomic num: 6, name: , idx: 7, aromatic: False, chiral: False\n",
      "bond order: 1, chiral: False to atom atomic num: 1, name: , idx: 31, aromatic: False, chiral: False\n",
      "\n"
     ]
    },
    {
     "name": "stderr",
     "output_type": "stream",
     "text": [
      "Warning (not error because allow_undefined_stereo=True): OEMol has unspecified stereochemistry. oemol.GetTitle(): \n",
      "Problematic atoms are:\n",
      "Atom atomic num: 6, name: , idx: 4, aromatic: False, chiral: True with bonds:\n",
      "bond order: 1, chiral: False to atom atomic num: 6, name: , idx: 2, aromatic: False, chiral: False\n",
      "bond order: 1, chiral: False to atom atomic num: 6, name: , idx: 5, aromatic: False, chiral: False\n",
      "bond order: 1, chiral: False to atom atomic num: 6, name: , idx: 14, aromatic: True, chiral: False\n",
      "bond order: 1, chiral: False to atom atomic num: 1, name: , idx: 23, aromatic: False, chiral: False\n",
      "\n"
     ]
    },
    {
     "name": "stderr",
     "output_type": "stream",
     "text": [
      "Warning (not error because allow_undefined_stereo=True): OEMol has unspecified stereochemistry. oemol.GetTitle(): \n",
      "Problematic atoms are:\n",
      "Atom atomic num: 6, name: , idx: 9, aromatic: False, chiral: True with bonds:\n",
      "bond order: 1, chiral: False to atom atomic num: 7, name: , idx: 8, aromatic: False, chiral: False\n",
      "bond order: 1, chiral: False to atom atomic num: 6, name: , idx: 20, aromatic: False, chiral: False\n",
      "bond order: 1, chiral: False to atom atomic num: 6, name: , idx: 10, aromatic: False, chiral: False\n",
      "bond order: 1, chiral: False to atom atomic num: 1, name: , idx: 36, aromatic: False, chiral: False\n",
      "Atom atomic num: 7, name: , idx: 12, aromatic: False, chiral: True with bonds:\n",
      "bond order: 1, chiral: False to atom atomic num: 6, name: , idx: 11, aromatic: False, chiral: False\n",
      "bond order: 1, chiral: False to atom atomic num: 6, name: , idx: 13, aromatic: False, chiral: False\n",
      "bond order: 1, chiral: False to atom atomic num: 6, name: , idx: 20, aromatic: False, chiral: False\n",
      "\n"
     ]
    },
    {
     "name": "stderr",
     "output_type": "stream",
     "text": [
      "Warning (not error because allow_undefined_stereo=True): OEMol has unspecified stereochemistry. oemol.GetTitle(): \n",
      "Problematic atoms are:\n",
      "Atom atomic num: 6, name: , idx: 22, aromatic: False, chiral: True with bonds:\n",
      "bond order: 1, chiral: False to atom atomic num: 6, name: , idx: 16, aromatic: False, chiral: False\n",
      "bond order: 1, chiral: False to atom atomic num: 6, name: , idx: 5, aromatic: False, chiral: False\n",
      "bond order: 1, chiral: False to atom atomic num: 6, name: , idx: 23, aromatic: False, chiral: False\n",
      "bond order: 1, chiral: False to atom atomic num: 1, name: , idx: 54, aromatic: False, chiral: False\n",
      "\n"
     ]
    },
    {
     "name": "stderr",
     "output_type": "stream",
     "text": [
      "Warning (not error because allow_undefined_stereo=True): OEMol has unspecified stereochemistry. oemol.GetTitle(): \n",
      "Problematic atoms are:\n",
      "Atom atomic num: 6, name: , idx: 5, aromatic: False, chiral: True with bonds:\n",
      "bond order: 1, chiral: False to atom atomic num: 6, name: , idx: 4, aromatic: True, chiral: False\n",
      "bond order: 1, chiral: False to atom atomic num: 7, name: , idx: 17, aromatic: False, chiral: False\n",
      "bond order: 1, chiral: False to atom atomic num: 6, name: , idx: 6, aromatic: False, chiral: False\n",
      "bond order: 1, chiral: False to atom atomic num: 1, name: , idx: 28, aromatic: False, chiral: False\n",
      "\n"
     ]
    },
    {
     "name": "stderr",
     "output_type": "stream",
     "text": [
      "Warning (not error because allow_undefined_stereo=True): OEMol has unspecified stereochemistry. oemol.GetTitle(): \n",
      "Problematic atoms are:\n",
      "Atom atomic num: 7, name: , idx: 10, aromatic: False, chiral: True with bonds:\n",
      "bond order: 1, chiral: False to atom atomic num: 6, name: , idx: 9, aromatic: False, chiral: False\n",
      "bond order: 1, chiral: False to atom atomic num: 6, name: , idx: 11, aromatic: False, chiral: False\n",
      "bond order: 1, chiral: False to atom atomic num: 6, name: , idx: 12, aromatic: False, chiral: False\n",
      "\n"
     ]
    },
    {
     "name": "stderr",
     "output_type": "stream",
     "text": [
      "Warning (not error because allow_undefined_stereo=True): OEMol has unspecified stereochemistry. oemol.GetTitle(): \n",
      "Problematic atoms are:\n",
      "Atom atomic num: 7, name: , idx: 16, aromatic: False, chiral: True with bonds:\n",
      "bond order: 1, chiral: False to atom atomic num: 6, name: , idx: 15, aromatic: False, chiral: False\n",
      "bond order: 1, chiral: False to atom atomic num: 6, name: , idx: 17, aromatic: False, chiral: False\n",
      "bond order: 1, chiral: False to atom atomic num: 6, name: , idx: 18, aromatic: False, chiral: False\n",
      "\n"
     ]
    },
    {
     "name": "stderr",
     "output_type": "stream",
     "text": [
      "Warning (not error because allow_undefined_stereo=True): OEMol has unspecified stereochemistry. oemol.GetTitle(): \n",
      "Problematic atoms are:\n",
      "Atom atomic num: 6, name: , idx: 5, aromatic: False, chiral: True with bonds:\n",
      "bond order: 1, chiral: False to atom atomic num: 6, name: , idx: 4, aromatic: False, chiral: False\n",
      "bond order: 1, chiral: False to atom atomic num: 6, name: , idx: 14, aromatic: True, chiral: False\n",
      "bond order: 1, chiral: False to atom atomic num: 6, name: , idx: 6, aromatic: False, chiral: False\n",
      "bond order: 1, chiral: False to atom atomic num: 1, name: , idx: 21, aromatic: False, chiral: False\n",
      "\n"
     ]
    },
    {
     "name": "stderr",
     "output_type": "stream",
     "text": [
      "Warning (not error because allow_undefined_stereo=True): OEMol has unspecified stereochemistry. oemol.GetTitle(): \n",
      "Problematic atoms are:\n",
      "Atom atomic num: 6, name: , idx: 14, aromatic: False, chiral: True with bonds:\n",
      "bond order: 1, chiral: False to atom atomic num: 7, name: , idx: 7, aromatic: False, chiral: False\n",
      "bond order: 1, chiral: False to atom atomic num: 6, name: , idx: 15, aromatic: True, chiral: False\n",
      "bond order: 1, chiral: False to atom atomic num: 6, name: , idx: 25, aromatic: False, chiral: False\n",
      "bond order: 1, chiral: False to atom atomic num: 1, name: , idx: 36, aromatic: False, chiral: False\n",
      "\n"
     ]
    },
    {
     "name": "stderr",
     "output_type": "stream",
     "text": [
      "Warning (not error because allow_undefined_stereo=True): OEMol has unspecified stereochemistry. oemol.GetTitle(): \n",
      "Problematic atoms are:\n",
      "Atom atomic num: 6, name: , idx: 15, aromatic: False, chiral: True with bonds:\n",
      "bond order: 1, chiral: False to atom atomic num: 6, name: , idx: 14, aromatic: False, chiral: False\n",
      "bond order: 1, chiral: False to atom atomic num: 7, name: , idx: 3, aromatic: False, chiral: False\n",
      "bond order: 1, chiral: False to atom atomic num: 6, name: , idx: 16, aromatic: True, chiral: False\n",
      "bond order: 1, chiral: False to atom atomic num: 1, name: , idx: 31, aromatic: False, chiral: False\n",
      "\n"
     ]
    },
    {
     "name": "stderr",
     "output_type": "stream",
     "text": [
      "Warning (not error because allow_undefined_stereo=True): OEMol has unspecified stereochemistry. oemol.GetTitle(): \n",
      "Problematic atoms are:\n",
      "Atom atomic num: 7, name: , idx: 30, aromatic: False, chiral: True with bonds:\n",
      "bond order: 1, chiral: False to atom atomic num: 6, name: , idx: 29, aromatic: True, chiral: False\n",
      "bond order: 1, chiral: False to atom atomic num: 6, name: , idx: 38, aromatic: False, chiral: False\n",
      "bond order: 1, chiral: False to atom atomic num: 6, name: , idx: 31, aromatic: False, chiral: False\n",
      "\n"
     ]
    },
    {
     "name": "stderr",
     "output_type": "stream",
     "text": [
      "Warning (not error because allow_undefined_stereo=True): OEMol has unspecified stereochemistry. oemol.GetTitle(): \n",
      "Problematic atoms are:\n",
      "Atom atomic num: 6, name: , idx: 12, aromatic: False, chiral: True with bonds:\n",
      "bond order: 1, chiral: False to atom atomic num: 7, name: , idx: 8, aromatic: False, chiral: False\n",
      "bond order: 1, chiral: False to atom atomic num: 6, name: , idx: 13, aromatic: True, chiral: False\n",
      "bond order: 1, chiral: False to atom atomic num: 6, name: , idx: 23, aromatic: False, chiral: False\n",
      "bond order: 1, chiral: False to atom atomic num: 1, name: , idx: 33, aromatic: False, chiral: False\n",
      "\n"
     ]
    },
    {
     "name": "stderr",
     "output_type": "stream",
     "text": [
      "Warning (not error because allow_undefined_stereo=True): OEMol has unspecified stereochemistry. oemol.GetTitle(): \n",
      "Problematic atoms are:\n",
      "Atom atomic num: 6, name: , idx: 11, aromatic: False, chiral: True with bonds:\n",
      "bond order: 1, chiral: False to atom atomic num: 7, name: , idx: 7, aromatic: False, chiral: False\n",
      "bond order: 1, chiral: False to atom atomic num: 6, name: , idx: 12, aromatic: True, chiral: False\n",
      "bond order: 1, chiral: False to atom atomic num: 6, name: , idx: 21, aromatic: False, chiral: False\n",
      "bond order: 1, chiral: False to atom atomic num: 1, name: , idx: 32, aromatic: False, chiral: False\n",
      "\n"
     ]
    },
    {
     "name": "stderr",
     "output_type": "stream",
     "text": [
      "Warning (not error because allow_undefined_stereo=True): OEMol has unspecified stereochemistry. oemol.GetTitle(): \n",
      "Problematic atoms are:\n",
      "Atom atomic num: 6, name: , idx: 22, aromatic: False, chiral: True with bonds:\n",
      "bond order: 1, chiral: False to atom atomic num: 6, name: , idx: 16, aromatic: False, chiral: False\n",
      "bond order: 1, chiral: False to atom atomic num: 6, name: , idx: 5, aromatic: False, chiral: False\n",
      "bond order: 1, chiral: False to atom atomic num: 6, name: , idx: 23, aromatic: False, chiral: False\n",
      "bond order: 1, chiral: False to atom atomic num: 1, name: , idx: 54, aromatic: False, chiral: False\n",
      "\n"
     ]
    },
    {
     "name": "stderr",
     "output_type": "stream",
     "text": [
      "Warning (not error because allow_undefined_stereo=True): OEMol has unspecified stereochemistry. oemol.GetTitle(): \n",
      "Problematic atoms are:\n",
      "Atom atomic num: 6, name: , idx: 14, aromatic: False, chiral: True with bonds:\n",
      "bond order: 1, chiral: False to atom atomic num: 7, name: , idx: 7, aromatic: False, chiral: False\n",
      "bond order: 1, chiral: False to atom atomic num: 6, name: , idx: 15, aromatic: True, chiral: False\n",
      "bond order: 1, chiral: False to atom atomic num: 6, name: , idx: 25, aromatic: False, chiral: False\n",
      "bond order: 1, chiral: False to atom atomic num: 1, name: , idx: 35, aromatic: False, chiral: False\n",
      "\n"
     ]
    },
    {
     "name": "stderr",
     "output_type": "stream",
     "text": [
      "Warning (not error because allow_undefined_stereo=True): OEMol has unspecified stereochemistry. oemol.GetTitle(): \n",
      "Problematic atoms are:\n",
      "Atom atomic num: 6, name: , idx: 2, aromatic: False, chiral: True with bonds:\n",
      "bond order: 1, chiral: False to atom atomic num: 7, name: , idx: 1, aromatic: False, chiral: False\n",
      "bond order: 1, chiral: False to atom atomic num: 6, name: , idx: 39, aromatic: False, chiral: False\n",
      "bond order: 1, chiral: False to atom atomic num: 6, name: , idx: 3, aromatic: False, chiral: False\n",
      "bond order: 1, chiral: False to atom atomic num: 1, name: , idx: 43, aromatic: False, chiral: False\n",
      "\n"
     ]
    },
    {
     "name": "stderr",
     "output_type": "stream",
     "text": [
      "Warning (not error because allow_undefined_stereo=True): OEMol has unspecified stereochemistry. oemol.GetTitle(): \n",
      "Problematic bonds are: [<openeye.oechem.OEBondBase; proxy of <Swig Object of type 'OEChem::OEBondBase *' at 0x7f823cc5bc00> >, <openeye.oechem.OEBondBase; proxy of <Swig Object of type 'OEChem::OEBondBase *' at 0x7f823cc5bcc0> >]\n",
      "\n"
     ]
    },
    {
     "name": "stderr",
     "output_type": "stream",
     "text": [
      "Warning (not error because allow_undefined_stereo=True): OEMol has unspecified stereochemistry. oemol.GetTitle(): \n",
      "Problematic bonds are: [<openeye.oechem.OEBondBase; proxy of <Swig Object of type 'OEChem::OEBondBase *' at 0x7f823cbb9d20> >]\n",
      "\n"
     ]
    },
    {
     "name": "stderr",
     "output_type": "stream",
     "text": [
      "Warning (not error because allow_undefined_stereo=True): OEMol has unspecified stereochemistry. oemol.GetTitle(): \n",
      "Problematic atoms are:\n",
      "Atom atomic num: 7, name: , idx: 33, aromatic: False, chiral: True with bonds:\n",
      "bond order: 1, chiral: False to atom atomic num: 6, name: , idx: 32, aromatic: True, chiral: False\n",
      "bond order: 1, chiral: False to atom atomic num: 6, name: , idx: 34, aromatic: False, chiral: False\n",
      "bond order: 1, chiral: False to atom atomic num: 6, name: , idx: 35, aromatic: False, chiral: False\n",
      "\n"
     ]
    },
    {
     "name": "stderr",
     "output_type": "stream",
     "text": [
      "Warning (not error because allow_undefined_stereo=True): OEMol has unspecified stereochemistry. oemol.GetTitle(): \n",
      "Problematic atoms are:\n",
      "Atom atomic num: 6, name: , idx: 2, aromatic: False, chiral: True with bonds:\n",
      "bond order: 1, chiral: False to atom atomic num: 6, name: , idx: 1, aromatic: False, chiral: False\n",
      "bond order: 1, chiral: False to atom atomic num: 7, name: , idx: 3, aromatic: False, chiral: False\n",
      "bond order: 1, chiral: False to atom atomic num: 6, name: , idx: 14, aromatic: True, chiral: False\n",
      "bond order: 1, chiral: False to atom atomic num: 1, name: , idx: 23, aromatic: False, chiral: False\n",
      "\n"
     ]
    },
    {
     "name": "stderr",
     "output_type": "stream",
     "text": [
      "Warning (not error because allow_undefined_stereo=True): OEMol has unspecified stereochemistry. oemol.GetTitle(): \n",
      "Problematic atoms are:\n",
      "Atom atomic num: 7, name: , idx: 33, aromatic: False, chiral: True with bonds:\n",
      "bond order: 1, chiral: False to atom atomic num: 6, name: , idx: 32, aromatic: True, chiral: False\n",
      "bond order: 1, chiral: False to atom atomic num: 6, name: , idx: 34, aromatic: False, chiral: False\n",
      "bond order: 1, chiral: False to atom atomic num: 6, name: , idx: 35, aromatic: False, chiral: False\n",
      "\n"
     ]
    },
    {
     "name": "stderr",
     "output_type": "stream",
     "text": [
      "Warning (not error because allow_undefined_stereo=True): OEMol has unspecified stereochemistry. oemol.GetTitle(): \n",
      "Problematic atoms are:\n",
      "Atom atomic num: 7, name: , idx: 1, aromatic: False, chiral: True with bonds:\n",
      "bond order: 1, chiral: False to atom atomic num: 6, name: , idx: 0, aromatic: False, chiral: False\n",
      "bond order: 1, chiral: False to atom atomic num: 6, name: , idx: 2, aromatic: False, chiral: False\n",
      "bond order: 1, chiral: False to atom atomic num: 6, name: , idx: 7, aromatic: True, chiral: False\n",
      "Atom atomic num: 6, name: , idx: 3, aromatic: False, chiral: True with bonds:\n",
      "bond order: 1, chiral: False to atom atomic num: 6, name: , idx: 2, aromatic: False, chiral: False\n",
      "bond order: 1, chiral: False to atom atomic num: 8, name: , idx: 4, aromatic: False, chiral: False\n",
      "bond order: 1, chiral: False to atom atomic num: 6, name: , idx: 5, aromatic: False, chiral: False\n",
      "bond order: 1, chiral: False to atom atomic num: 1, name: , idx: 30, aromatic: False, chiral: False\n",
      "\n"
     ]
    },
    {
     "name": "stderr",
     "output_type": "stream",
     "text": [
      "Warning (not error because allow_undefined_stereo=True): OEMol has unspecified stereochemistry. oemol.GetTitle(): \n",
      "Problematic atoms are:\n",
      "Atom atomic num: 6, name: , idx: 13, aromatic: False, chiral: True with bonds:\n",
      "bond order: 1, chiral: False to atom atomic num: 6, name: , idx: 11, aromatic: False, chiral: False\n",
      "bond order: 1, chiral: False to atom atomic num: 6, name: , idx: 14, aromatic: False, chiral: False\n",
      "bond order: 1, chiral: False to atom atomic num: 7, name: , idx: 22, aromatic: False, chiral: False\n",
      "bond order: 1, chiral: False to atom atomic num: 1, name: , idx: 56, aromatic: False, chiral: False\n",
      "\n"
     ]
    },
    {
     "name": "stderr",
     "output_type": "stream",
     "text": [
      "Warning (not error because allow_undefined_stereo=True): OEMol has unspecified stereochemistry. oemol.GetTitle(): \n",
      "Problematic bonds are: [<openeye.oechem.OEBondBase; proxy of <Swig Object of type 'OEChem::OEBondBase *' at 0x7f823ccc3b10> >]\n",
      "\n"
     ]
    },
    {
     "name": "stderr",
     "output_type": "stream",
     "text": [
      "Warning (not error because allow_undefined_stereo=True): OEMol has unspecified stereochemistry. oemol.GetTitle(): \n",
      "Problematic atoms are:\n",
      "Atom atomic num: 6, name: , idx: 15, aromatic: False, chiral: True with bonds:\n",
      "bond order: 1, chiral: False to atom atomic num: 6, name: , idx: 2, aromatic: False, chiral: False\n",
      "bond order: 1, chiral: False to atom atomic num: 6, name: , idx: 16, aromatic: True, chiral: False\n",
      "bond order: 1, chiral: False to atom atomic num: 7, name: , idx: 24, aromatic: False, chiral: False\n",
      "bond order: 1, chiral: False to atom atomic num: 1, name: , idx: 52, aromatic: False, chiral: False\n",
      "\n"
     ]
    },
    {
     "name": "stderr",
     "output_type": "stream",
     "text": [
      "Warning (not error because allow_undefined_stereo=True): OEMol has unspecified stereochemistry. oemol.GetTitle(): \n",
      "Problematic atoms are:\n",
      "Atom atomic num: 6, name: , idx: 16, aromatic: False, chiral: True with bonds:\n",
      "bond order: 1, chiral: False to atom atomic num: 6, name: , idx: 15, aromatic: False, chiral: False\n",
      "bond order: 1, chiral: False to atom atomic num: 7, name: , idx: 5, aromatic: False, chiral: False\n",
      "bond order: 1, chiral: False to atom atomic num: 6, name: , idx: 17, aromatic: True, chiral: False\n",
      "bond order: 1, chiral: False to atom atomic num: 1, name: , idx: 33, aromatic: False, chiral: False\n",
      "\n"
     ]
    },
    {
     "name": "stderr",
     "output_type": "stream",
     "text": [
      "Warning (not error because allow_undefined_stereo=True): OEMol has unspecified stereochemistry. oemol.GetTitle(): \n",
      "Problematic atoms are:\n",
      "Atom atomic num: 7, name: , idx: 34, aromatic: False, chiral: True with bonds:\n",
      "bond order: 1, chiral: False to atom atomic num: 6, name: , idx: 33, aromatic: True, chiral: False\n",
      "bond order: 1, chiral: False to atom atomic num: 6, name: , idx: 35, aromatic: False, chiral: False\n",
      "bond order: 1, chiral: False to atom atomic num: 6, name: , idx: 36, aromatic: False, chiral: False\n",
      "\n"
     ]
    },
    {
     "name": "stderr",
     "output_type": "stream",
     "text": [
      "Warning (not error because allow_undefined_stereo=True): OEMol has unspecified stereochemistry. oemol.GetTitle(): \n",
      "Problematic atoms are:\n",
      "Atom atomic num: 6, name: , idx: 15, aromatic: False, chiral: True with bonds:\n",
      "bond order: 1, chiral: False to atom atomic num: 6, name: , idx: 14, aromatic: False, chiral: False\n",
      "bond order: 1, chiral: False to atom atomic num: 7, name: , idx: 5, aromatic: False, chiral: False\n",
      "bond order: 1, chiral: False to atom atomic num: 6, name: , idx: 16, aromatic: True, chiral: False\n",
      "bond order: 1, chiral: False to atom atomic num: 1, name: , idx: 32, aromatic: False, chiral: False\n",
      "\n"
     ]
    },
    {
     "name": "stderr",
     "output_type": "stream",
     "text": [
      "Warning (not error because allow_undefined_stereo=True): OEMol has unspecified stereochemistry. oemol.GetTitle(): \n",
      "Problematic atoms are:\n",
      "Atom atomic num: 6, name: , idx: 21, aromatic: False, chiral: True with bonds:\n",
      "bond order: 1, chiral: False to atom atomic num: 6, name: , idx: 12, aromatic: False, chiral: False\n",
      "bond order: 1, chiral: False to atom atomic num: 6, name: , idx: 8, aromatic: False, chiral: False\n",
      "bond order: 1, chiral: False to atom atomic num: 6, name: , idx: 5, aromatic: False, chiral: False\n",
      "bond order: 1, chiral: False to atom atomic num: 1, name: , idx: 34, aromatic: False, chiral: False\n",
      "\n"
     ]
    },
    {
     "name": "stderr",
     "output_type": "stream",
     "text": [
      "Warning (not error because allow_undefined_stereo=True): OEMol has unspecified stereochemistry. oemol.GetTitle(): \n",
      "Problematic atoms are:\n",
      "Atom atomic num: 6, name: , idx: 14, aromatic: False, chiral: True with bonds:\n",
      "bond order: 1, chiral: False to atom atomic num: 7, name: , idx: 7, aromatic: False, chiral: False\n",
      "bond order: 1, chiral: False to atom atomic num: 6, name: , idx: 15, aromatic: True, chiral: False\n",
      "bond order: 1, chiral: False to atom atomic num: 6, name: , idx: 25, aromatic: False, chiral: False\n",
      "bond order: 1, chiral: False to atom atomic num: 1, name: , idx: 35, aromatic: False, chiral: False\n",
      "\n"
     ]
    },
    {
     "name": "stderr",
     "output_type": "stream",
     "text": [
      "Warning (not error because allow_undefined_stereo=True): OEMol has unspecified stereochemistry. oemol.GetTitle(): \n",
      "Problematic atoms are:\n",
      "Atom atomic num: 7, name: , idx: 1, aromatic: False, chiral: True with bonds:\n",
      "bond order: 1, chiral: False to atom atomic num: 6, name: , idx: 0, aromatic: False, chiral: False\n",
      "bond order: 1, chiral: False to atom atomic num: 6, name: , idx: 27, aromatic: False, chiral: False\n",
      "bond order: 1, chiral: False to atom atomic num: 6, name: , idx: 2, aromatic: False, chiral: False\n",
      "\n"
     ]
    },
    {
     "name": "stderr",
     "output_type": "stream",
     "text": [
      "Warning (not error because allow_undefined_stereo=True): OEMol has unspecified stereochemistry. oemol.GetTitle(): \n",
      "Problematic atoms are:\n",
      "Atom atomic num: 7, name: , idx: 32, aromatic: False, chiral: True with bonds:\n",
      "bond order: 1, chiral: False to atom atomic num: 6, name: , idx: 31, aromatic: True, chiral: False\n",
      "bond order: 1, chiral: False to atom atomic num: 6, name: , idx: 33, aromatic: False, chiral: False\n",
      "bond order: 1, chiral: False to atom atomic num: 6, name: , idx: 34, aromatic: False, chiral: False\n",
      "\n"
     ]
    },
    {
     "name": "stderr",
     "output_type": "stream",
     "text": [
      "Warning (not error because allow_undefined_stereo=True): OEMol has unspecified stereochemistry. oemol.GetTitle(): \n",
      "Problematic atoms are:\n",
      "Atom atomic num: 6, name: , idx: 11, aromatic: False, chiral: True with bonds:\n",
      "bond order: 1, chiral: False to atom atomic num: 7, name: , idx: 7, aromatic: False, chiral: False\n",
      "bond order: 1, chiral: False to atom atomic num: 6, name: , idx: 12, aromatic: True, chiral: False\n",
      "bond order: 1, chiral: False to atom atomic num: 6, name: , idx: 19, aromatic: False, chiral: False\n",
      "bond order: 1, chiral: False to atom atomic num: 1, name: , idx: 30, aromatic: False, chiral: False\n",
      "\n"
     ]
    },
    {
     "name": "stderr",
     "output_type": "stream",
     "text": [
      "Warning (not error because allow_undefined_stereo=True): OEMol has unspecified stereochemistry. oemol.GetTitle(): \n",
      "Problematic atoms are:\n",
      "Atom atomic num: 7, name: , idx: 31, aromatic: False, chiral: True with bonds:\n",
      "bond order: 1, chiral: False to atom atomic num: 6, name: , idx: 30, aromatic: True, chiral: False\n",
      "bond order: 1, chiral: False to atom atomic num: 6, name: , idx: 32, aromatic: False, chiral: False\n",
      "bond order: 1, chiral: False to atom atomic num: 6, name: , idx: 33, aromatic: False, chiral: False\n",
      "\n"
     ]
    },
    {
     "name": "stderr",
     "output_type": "stream",
     "text": [
      "Warning (not error because allow_undefined_stereo=True): OEMol has unspecified stereochemistry. oemol.GetTitle(): \n",
      "Problematic atoms are:\n",
      "Atom atomic num: 7, name: , idx: 34, aromatic: False, chiral: True with bonds:\n",
      "bond order: 1, chiral: False to atom atomic num: 6, name: , idx: 33, aromatic: True, chiral: False\n",
      "bond order: 1, chiral: False to atom atomic num: 6, name: , idx: 35, aromatic: False, chiral: False\n",
      "bond order: 1, chiral: False to atom atomic num: 6, name: , idx: 36, aromatic: False, chiral: False\n",
      "\n"
     ]
    },
    {
     "name": "stderr",
     "output_type": "stream",
     "text": [
      "Warning (not error because allow_undefined_stereo=True): OEMol has unspecified stereochemistry. oemol.GetTitle(): \n",
      "Problematic atoms are:\n",
      "Atom atomic num: 6, name: , idx: 21, aromatic: False, chiral: True with bonds:\n",
      "bond order: 1, chiral: False to atom atomic num: 7, name: , idx: 8, aromatic: False, chiral: False\n",
      "bond order: 1, chiral: False to atom atomic num: 6, name: , idx: 22, aromatic: True, chiral: False\n",
      "bond order: 1, chiral: False to atom atomic num: 6, name: , idx: 29, aromatic: False, chiral: False\n",
      "bond order: 1, chiral: False to atom atomic num: 1, name: , idx: 42, aromatic: False, chiral: False\n",
      "\n"
     ]
    },
    {
     "name": "stderr",
     "output_type": "stream",
     "text": [
      "Warning (not error because allow_undefined_stereo=True): OEMol has unspecified stereochemistry. oemol.GetTitle(): \n",
      "Problematic atoms are:\n",
      "Atom atomic num: 6, name: , idx: 15, aromatic: False, chiral: True with bonds:\n",
      "bond order: 1, chiral: False to atom atomic num: 6, name: , idx: 14, aromatic: False, chiral: False\n",
      "bond order: 1, chiral: False to atom atomic num: 7, name: , idx: 3, aromatic: False, chiral: False\n",
      "bond order: 1, chiral: False to atom atomic num: 6, name: , idx: 16, aromatic: True, chiral: False\n",
      "bond order: 1, chiral: False to atom atomic num: 1, name: , idx: 30, aromatic: False, chiral: False\n",
      "\n"
     ]
    },
    {
     "name": "stderr",
     "output_type": "stream",
     "text": [
      "Warning (not error because allow_undefined_stereo=True): OEMol has unspecified stereochemistry. oemol.GetTitle(): \n",
      "Problematic atoms are:\n",
      "Atom atomic num: 6, name: , idx: 9, aromatic: False, chiral: True with bonds:\n",
      "bond order: 1, chiral: False to atom atomic num: 6, name: , idx: 8, aromatic: True, chiral: False\n",
      "bond order: 1, chiral: False to atom atomic num: 7, name: , idx: 21, aromatic: False, chiral: False\n",
      "bond order: 1, chiral: False to atom atomic num: 6, name: , idx: 10, aromatic: False, chiral: False\n",
      "bond order: 1, chiral: False to atom atomic num: 1, name: , idx: 34, aromatic: False, chiral: False\n",
      "\n"
     ]
    },
    {
     "name": "stderr",
     "output_type": "stream",
     "text": [
      "Warning (not error because allow_undefined_stereo=True): OEMol has unspecified stereochemistry. oemol.GetTitle(): \n",
      "Problematic atoms are:\n",
      "Atom atomic num: 7, name: , idx: 34, aromatic: False, chiral: True with bonds:\n",
      "bond order: 1, chiral: False to atom atomic num: 6, name: , idx: 33, aromatic: True, chiral: False\n",
      "bond order: 1, chiral: False to atom atomic num: 6, name: , idx: 35, aromatic: False, chiral: False\n",
      "bond order: 1, chiral: False to atom atomic num: 6, name: , idx: 36, aromatic: False, chiral: False\n",
      "\n"
     ]
    },
    {
     "name": "stderr",
     "output_type": "stream",
     "text": [
      "Warning (not error because allow_undefined_stereo=True): OEMol has unspecified stereochemistry. oemol.GetTitle(): \n",
      "Problematic atoms are:\n",
      "Atom atomic num: 6, name: , idx: 6, aromatic: False, chiral: True with bonds:\n",
      "bond order: 1, chiral: False to atom atomic num: 6, name: , idx: 5, aromatic: True, chiral: False\n",
      "bond order: 1, chiral: False to atom atomic num: 7, name: , idx: 18, aromatic: False, chiral: False\n",
      "bond order: 1, chiral: False to atom atomic num: 6, name: , idx: 7, aromatic: False, chiral: False\n",
      "bond order: 1, chiral: False to atom atomic num: 1, name: , idx: 38, aromatic: False, chiral: False\n",
      "\n"
     ]
    },
    {
     "name": "stderr",
     "output_type": "stream",
     "text": [
      "Warning (not error because allow_undefined_stereo=True): OEMol has unspecified stereochemistry. oemol.GetTitle(): \n",
      "Problematic atoms are:\n",
      "Atom atomic num: 6, name: , idx: 10, aromatic: False, chiral: True with bonds:\n",
      "bond order: 1, chiral: False to atom atomic num: 7, name: , idx: 9, aromatic: False, chiral: False\n",
      "bond order: 1, chiral: False to atom atomic num: 6, name: , idx: 12, aromatic: False, chiral: True\n",
      "bond order: 1, chiral: False to atom atomic num: 6, name: , idx: 11, aromatic: False, chiral: False\n",
      "bond order: 1, chiral: False to atom atomic num: 1, name: , idx: 29, aromatic: False, chiral: False\n",
      "Atom atomic num: 6, name: , idx: 12, aromatic: False, chiral: True with bonds:\n",
      "bond order: 1, chiral: False to atom atomic num: 6, name: , idx: 11, aromatic: False, chiral: False\n",
      "bond order: 1, chiral: False to atom atomic num: 6, name: , idx: 10, aromatic: False, chiral: True\n",
      "bond order: 1, chiral: False to atom atomic num: 6, name: , idx: 13, aromatic: True, chiral: False\n",
      "bond order: 1, chiral: False to atom atomic num: 1, name: , idx: 32, aromatic: False, chiral: False\n",
      "\n"
     ]
    },
    {
     "name": "stderr",
     "output_type": "stream",
     "text": [
      "Warning (not error because allow_undefined_stereo=True): OEMol has unspecified stereochemistry. oemol.GetTitle(): \n",
      "Problematic atoms are:\n",
      "Atom atomic num: 7, name: , idx: 5, aromatic: False, chiral: True with bonds:\n",
      "bond order: 1, chiral: False to atom atomic num: 6, name: , idx: 4, aromatic: True, chiral: False\n",
      "bond order: 1, chiral: False to atom atomic num: 6, name: , idx: 6, aromatic: False, chiral: False\n",
      "bond order: 1, chiral: False to atom atomic num: 6, name: , idx: 7, aromatic: False, chiral: False\n",
      "\n"
     ]
    },
    {
     "name": "stderr",
     "output_type": "stream",
     "text": [
      "Warning (not error because allow_undefined_stereo=True): OEMol has unspecified stereochemistry. oemol.GetTitle(): \n",
      "Problematic atoms are:\n",
      "Atom atomic num: 6, name: , idx: 16, aromatic: False, chiral: True with bonds:\n",
      "bond order: 1, chiral: False to atom atomic num: 6, name: , idx: 15, aromatic: False, chiral: False\n",
      "bond order: 1, chiral: False to atom atomic num: 7, name: , idx: 5, aromatic: False, chiral: False\n",
      "bond order: 1, chiral: False to atom atomic num: 6, name: , idx: 17, aromatic: True, chiral: False\n",
      "bond order: 1, chiral: False to atom atomic num: 1, name: , idx: 33, aromatic: False, chiral: False\n",
      "\n"
     ]
    },
    {
     "name": "stderr",
     "output_type": "stream",
     "text": [
      "Warning (not error because allow_undefined_stereo=True): OEMol has unspecified stereochemistry. oemol.GetTitle(): \n",
      "Problematic atoms are:\n",
      "Atom atomic num: 7, name: , idx: 33, aromatic: False, chiral: True with bonds:\n",
      "bond order: 1, chiral: False to atom atomic num: 6, name: , idx: 32, aromatic: True, chiral: False\n",
      "bond order: 1, chiral: False to atom atomic num: 6, name: , idx: 34, aromatic: False, chiral: False\n",
      "bond order: 1, chiral: False to atom atomic num: 6, name: , idx: 35, aromatic: False, chiral: False\n",
      "\n"
     ]
    },
    {
     "name": "stderr",
     "output_type": "stream",
     "text": [
      "Warning (not error because allow_undefined_stereo=True): OEMol has unspecified stereochemistry. oemol.GetTitle(): \n",
      "Problematic atoms are:\n",
      "Atom atomic num: 7, name: , idx: 36, aromatic: False, chiral: True with bonds:\n",
      "bond order: 1, chiral: False to atom atomic num: 6, name: , idx: 35, aromatic: True, chiral: False\n",
      "bond order: 1, chiral: False to atom atomic num: 6, name: , idx: 37, aromatic: False, chiral: False\n",
      "bond order: 1, chiral: False to atom atomic num: 6, name: , idx: 38, aromatic: False, chiral: False\n",
      "\n"
     ]
    },
    {
     "name": "stderr",
     "output_type": "stream",
     "text": [
      "Warning (not error because allow_undefined_stereo=True): OEMol has unspecified stereochemistry. oemol.GetTitle(): \n",
      "Problematic atoms are:\n",
      "Atom atomic num: 7, name: , idx: 1, aromatic: False, chiral: True with bonds:\n",
      "bond order: 1, chiral: False to atom atomic num: 6, name: , idx: 0, aromatic: False, chiral: False\n",
      "bond order: 1, chiral: False to atom atomic num: 6, name: , idx: 2, aromatic: False, chiral: False\n",
      "bond order: 1, chiral: False to atom atomic num: 6, name: , idx: 13, aromatic: True, chiral: False\n",
      "Atom atomic num: 6, name: , idx: 3, aromatic: False, chiral: True with bonds:\n",
      "bond order: 1, chiral: False to atom atomic num: 6, name: , idx: 2, aromatic: False, chiral: False\n",
      "bond order: 1, chiral: False to atom atomic num: 8, name: , idx: 4, aromatic: False, chiral: False\n",
      "bond order: 1, chiral: False to atom atomic num: 6, name: , idx: 5, aromatic: False, chiral: True\n",
      "bond order: 1, chiral: False to atom atomic num: 1, name: , idx: 36, aromatic: False, chiral: False\n",
      "Atom atomic num: 6, name: , idx: 5, aromatic: False, chiral: True with bonds:\n",
      "bond order: 1, chiral: False to atom atomic num: 6, name: , idx: 3, aromatic: False, chiral: True\n",
      "bond order: 1, chiral: False to atom atomic num: 8, name: , idx: 6, aromatic: False, chiral: False\n",
      "bond order: 1, chiral: False to atom atomic num: 6, name: , idx: 7, aromatic: False, chiral: True\n",
      "bond order: 1, chiral: False to atom atomic num: 1, name: , idx: 38, aromatic: False, chiral: False\n",
      "Atom atomic num: 6, name: , idx: 7, aromatic: False, chiral: True with bonds:\n",
      "bond order: 1, chiral: False to atom atomic num: 6, name: , idx: 5, aromatic: False, chiral: True\n",
      "bond order: 1, chiral: False to atom atomic num: 8, name: , idx: 8, aromatic: False, chiral: False\n",
      "bond order: 1, chiral: False to atom atomic num: 6, name: , idx: 9, aromatic: False, chiral: True\n",
      "bond order: 1, chiral: False to atom atomic num: 1, name: , idx: 40, aromatic: False, chiral: False\n",
      "Atom atomic num: 6, name: , idx: 9, aromatic: False, chiral: True with bonds:\n",
      "bond order: 1, chiral: False to atom atomic num: 6, name: , idx: 7, aromatic: False, chiral: True\n",
      "bond order: 1, chiral: False to atom atomic num: 8, name: , idx: 10, aromatic: False, chiral: False\n",
      "bond order: 1, chiral: False to atom atomic num: 6, name: , idx: 11, aromatic: False, chiral: False\n",
      "bond order: 1, chiral: False to atom atomic num: 1, name: , idx: 42, aromatic: False, chiral: False\n",
      "\n"
     ]
    },
    {
     "name": "stderr",
     "output_type": "stream",
     "text": [
      "Warning (not error because allow_undefined_stereo=True): OEMol has unspecified stereochemistry. oemol.GetTitle(): \n",
      "Problematic bonds are: [<openeye.oechem.OEBondBase; proxy of <Swig Object of type 'OEChem::OEBondBase *' at 0x7f823c85be70> >]\n",
      "\n"
     ]
    },
    {
     "name": "stderr",
     "output_type": "stream",
     "text": [
      "Warning (not error because allow_undefined_stereo=True): OEMol has unspecified stereochemistry. oemol.GetTitle(): \n",
      "Problematic atoms are:\n",
      "Atom atomic num: 6, name: , idx: 22, aromatic: False, chiral: True with bonds:\n",
      "bond order: 1, chiral: False to atom atomic num: 6, name: , idx: 16, aromatic: False, chiral: False\n",
      "bond order: 1, chiral: False to atom atomic num: 6, name: , idx: 5, aromatic: False, chiral: False\n",
      "bond order: 1, chiral: False to atom atomic num: 6, name: , idx: 23, aromatic: False, chiral: False\n",
      "bond order: 1, chiral: False to atom atomic num: 1, name: , idx: 53, aromatic: False, chiral: False\n",
      "\n"
     ]
    },
    {
     "name": "stderr",
     "output_type": "stream",
     "text": [
      "Warning (not error because allow_undefined_stereo=True): OEMol has unspecified stereochemistry. oemol.GetTitle(): \n",
      "Problematic atoms are:\n",
      "Atom atomic num: 6, name: , idx: 3, aromatic: False, chiral: True with bonds:\n",
      "bond order: 1, chiral: False to atom atomic num: 6, name: , idx: 2, aromatic: False, chiral: False\n",
      "bond order: 1, chiral: False to atom atomic num: 8, name: , idx: 4, aromatic: False, chiral: False\n",
      "bond order: 1, chiral: False to atom atomic num: 6, name: , idx: 5, aromatic: False, chiral: False\n",
      "bond order: 1, chiral: False to atom atomic num: 1, name: , idx: 34, aromatic: False, chiral: False\n",
      "\n"
     ]
    },
    {
     "name": "stderr",
     "output_type": "stream",
     "text": [
      "Warning (not error because allow_undefined_stereo=True): OEMol has unspecified stereochemistry. oemol.GetTitle(): \n",
      "Problematic atoms are:\n",
      "Atom atomic num: 7, name: , idx: 30, aromatic: False, chiral: True with bonds:\n",
      "bond order: 1, chiral: False to atom atomic num: 6, name: , idx: 29, aromatic: True, chiral: False\n",
      "bond order: 1, chiral: False to atom atomic num: 6, name: , idx: 31, aromatic: False, chiral: False\n",
      "bond order: 1, chiral: False to atom atomic num: 6, name: , idx: 32, aromatic: False, chiral: False\n",
      "\n"
     ]
    },
    {
     "name": "stderr",
     "output_type": "stream",
     "text": [
      "Warning (not error because allow_undefined_stereo=True): OEMol has unspecified stereochemistry. oemol.GetTitle(): \n",
      "Problematic atoms are:\n",
      "Atom atomic num: 7, name: , idx: 1, aromatic: False, chiral: True with bonds:\n",
      "bond order: 1, chiral: False to atom atomic num: 6, name: , idx: 0, aromatic: False, chiral: False\n",
      "bond order: 1, chiral: False to atom atomic num: 6, name: , idx: 28, aromatic: False, chiral: False\n",
      "bond order: 1, chiral: False to atom atomic num: 6, name: , idx: 2, aromatic: False, chiral: False\n",
      "Atom atomic num: 6, name: , idx: 4, aromatic: False, chiral: True with bonds:\n",
      "bond order: 1, chiral: False to atom atomic num: 6, name: , idx: 3, aromatic: False, chiral: False\n",
      "bond order: 1, chiral: False to atom atomic num: 6, name: , idx: 5, aromatic: True, chiral: False\n",
      "bond order: 1, chiral: False to atom atomic num: 6, name: , idx: 25, aromatic: False, chiral: True\n",
      "bond order: 1, chiral: False to atom atomic num: 1, name: , idx: 36, aromatic: False, chiral: False\n",
      "\n"
     ]
    },
    {
     "name": "stderr",
     "output_type": "stream",
     "text": [
      "Warning (not error because allow_undefined_stereo=True): OEMol has unspecified stereochemistry. oemol.GetTitle(): \n",
      "Problematic atoms are:\n",
      "Atom atomic num: 6, name: , idx: 5, aromatic: False, chiral: True with bonds:\n",
      "bond order: 1, chiral: False to atom atomic num: 6, name: , idx: 4, aromatic: True, chiral: False\n",
      "bond order: 1, chiral: False to atom atomic num: 7, name: , idx: 17, aromatic: False, chiral: False\n",
      "bond order: 1, chiral: False to atom atomic num: 6, name: , idx: 6, aromatic: False, chiral: False\n",
      "bond order: 1, chiral: False to atom atomic num: 1, name: , idx: 28, aromatic: False, chiral: False\n",
      "\n"
     ]
    },
    {
     "name": "stderr",
     "output_type": "stream",
     "text": [
      "Warning (not error because allow_undefined_stereo=True): OEMol has unspecified stereochemistry. oemol.GetTitle(): \n",
      "Problematic atoms are:\n",
      "Atom atomic num: 6, name: , idx: 15, aromatic: False, chiral: True with bonds:\n",
      "bond order: 1, chiral: False to atom atomic num: 7, name: , idx: 8, aromatic: False, chiral: False\n",
      "bond order: 1, chiral: False to atom atomic num: 6, name: , idx: 16, aromatic: True, chiral: False\n",
      "bond order: 1, chiral: False to atom atomic num: 6, name: , idx: 26, aromatic: False, chiral: False\n",
      "bond order: 1, chiral: False to atom atomic num: 1, name: , idx: 36, aromatic: False, chiral: False\n",
      "\n"
     ]
    },
    {
     "name": "stderr",
     "output_type": "stream",
     "text": [
      "Warning (not error because allow_undefined_stereo=True): OEMol has unspecified stereochemistry. oemol.GetTitle(): \n",
      "Problematic atoms are:\n",
      "Atom atomic num: 7, name: , idx: 17, aromatic: False, chiral: True with bonds:\n",
      "bond order: 1, chiral: False to atom atomic num: 6, name: , idx: 16, aromatic: False, chiral: False\n",
      "bond order: 1, chiral: False to atom atomic num: 6, name: , idx: 26, aromatic: False, chiral: False\n",
      "bond order: 1, chiral: False to atom atomic num: 6, name: , idx: 18, aromatic: False, chiral: False\n",
      "\n"
     ]
    },
    {
     "name": "stderr",
     "output_type": "stream",
     "text": [
      "Warning (not error because allow_undefined_stereo=True): OEMol has unspecified stereochemistry. oemol.GetTitle(): \n",
      "Problematic atoms are:\n",
      "Atom atomic num: 6, name: , idx: 24, aromatic: False, chiral: True with bonds:\n",
      "bond order: 1, chiral: False to atom atomic num: 6, name: , idx: 12, aromatic: False, chiral: False\n",
      "bond order: 1, chiral: False to atom atomic num: 6, name: , idx: 8, aromatic: False, chiral: False\n",
      "bond order: 1, chiral: False to atom atomic num: 6, name: , idx: 5, aromatic: False, chiral: False\n",
      "bond order: 1, chiral: False to atom atomic num: 1, name: , idx: 37, aromatic: False, chiral: False\n",
      "\n"
     ]
    },
    {
     "name": "stderr",
     "output_type": "stream",
     "text": [
      "Warning (not error because allow_undefined_stereo=True): OEMol has unspecified stereochemistry. oemol.GetTitle(): \n",
      "Problematic atoms are:\n",
      "Atom atomic num: 7, name: , idx: 33, aromatic: False, chiral: True with bonds:\n",
      "bond order: 1, chiral: False to atom atomic num: 6, name: , idx: 32, aromatic: True, chiral: False\n",
      "bond order: 1, chiral: False to atom atomic num: 6, name: , idx: 34, aromatic: False, chiral: False\n",
      "bond order: 1, chiral: False to atom atomic num: 6, name: , idx: 35, aromatic: False, chiral: False\n",
      "\n"
     ]
    },
    {
     "name": "stderr",
     "output_type": "stream",
     "text": [
      "Warning (not error because allow_undefined_stereo=True): OEMol has unspecified stereochemistry. oemol.GetTitle(): \n",
      "Problematic atoms are:\n",
      "Atom atomic num: 7, name: , idx: 16, aromatic: False, chiral: True with bonds:\n",
      "bond order: 1, chiral: False to atom atomic num: 6, name: , idx: 15, aromatic: True, chiral: False\n",
      "bond order: 1, chiral: False to atom atomic num: 6, name: , idx: 25, aromatic: False, chiral: False\n",
      "bond order: 1, chiral: False to atom atomic num: 6, name: , idx: 17, aromatic: False, chiral: False\n",
      "\n"
     ]
    },
    {
     "name": "stderr",
     "output_type": "stream",
     "text": [
      "Warning (not error because allow_undefined_stereo=True): OEMol has unspecified stereochemistry. oemol.GetTitle(): \n",
      "Problematic atoms are:\n",
      "Atom atomic num: 6, name: , idx: 26, aromatic: False, chiral: True with bonds:\n",
      "bond order: 1, chiral: False to atom atomic num: 6, name: , idx: 25, aromatic: False, chiral: False\n",
      "bond order: 1, chiral: False to atom atomic num: 7, name: , idx: 10, aromatic: False, chiral: False\n",
      "bond order: 1, chiral: False to atom atomic num: 6, name: , idx: 27, aromatic: True, chiral: False\n",
      "bond order: 1, chiral: False to atom atomic num: 1, name: , idx: 56, aromatic: False, chiral: False\n",
      "\n"
     ]
    },
    {
     "name": "stderr",
     "output_type": "stream",
     "text": [
      "Warning (not error because allow_undefined_stereo=True): OEMol has unspecified stereochemistry. oemol.GetTitle(): \n",
      "Problematic atoms are:\n",
      "Atom atomic num: 7, name: , idx: 22, aromatic: False, chiral: True with bonds:\n",
      "bond order: 1, chiral: False to atom atomic num: 6, name: , idx: 21, aromatic: False, chiral: False\n",
      "bond order: 1, chiral: False to atom atomic num: 6, name: , idx: 28, aromatic: False, chiral: True\n",
      "bond order: 1, chiral: False to atom atomic num: 6, name: , idx: 23, aromatic: False, chiral: False\n",
      "Atom atomic num: 7, name: , idx: 25, aromatic: False, chiral: True with bonds:\n",
      "bond order: 1, chiral: False to atom atomic num: 6, name: , idx: 24, aromatic: False, chiral: False\n",
      "bond order: 1, chiral: False to atom atomic num: 6, name: , idx: 26, aromatic: False, chiral: False\n",
      "bond order: 1, chiral: False to atom atomic num: 6, name: , idx: 27, aromatic: False, chiral: False\n",
      "Atom atomic num: 6, name: , idx: 28, aromatic: False, chiral: True with bonds:\n",
      "bond order: 1, chiral: False to atom atomic num: 6, name: , idx: 27, aromatic: False, chiral: False\n",
      "bond order: 1, chiral: False to atom atomic num: 7, name: , idx: 22, aromatic: False, chiral: True\n",
      "bond order: 1, chiral: False to atom atomic num: 6, name: , idx: 29, aromatic: False, chiral: False\n",
      "bond order: 1, chiral: False to atom atomic num: 1, name: , idx: 53, aromatic: False, chiral: False\n",
      "\n"
     ]
    },
    {
     "name": "stderr",
     "output_type": "stream",
     "text": [
      "Warning (not error because allow_undefined_stereo=True): OEMol has unspecified stereochemistry. oemol.GetTitle(): \n",
      "Problematic atoms are:\n",
      "Atom atomic num: 7, name: , idx: 1, aromatic: False, chiral: True with bonds:\n",
      "bond order: 1, chiral: False to atom atomic num: 6, name: , idx: 0, aromatic: False, chiral: False\n",
      "bond order: 1, chiral: False to atom atomic num: 6, name: , idx: 2, aromatic: False, chiral: False\n",
      "bond order: 1, chiral: False to atom atomic num: 6, name: , idx: 7, aromatic: True, chiral: False\n",
      "Atom atomic num: 6, name: , idx: 3, aromatic: False, chiral: True with bonds:\n",
      "bond order: 1, chiral: False to atom atomic num: 6, name: , idx: 2, aromatic: False, chiral: False\n",
      "bond order: 1, chiral: False to atom atomic num: 8, name: , idx: 4, aromatic: False, chiral: False\n",
      "bond order: 1, chiral: False to atom atomic num: 6, name: , idx: 5, aromatic: False, chiral: False\n",
      "bond order: 1, chiral: False to atom atomic num: 1, name: , idx: 30, aromatic: False, chiral: False\n",
      "\n"
     ]
    },
    {
     "name": "stderr",
     "output_type": "stream",
     "text": [
      "Warning (not error because allow_undefined_stereo=True): OEMol has unspecified stereochemistry. oemol.GetTitle(): \n",
      "Problematic atoms are:\n",
      "Atom atomic num: 7, name: , idx: 33, aromatic: False, chiral: True with bonds:\n",
      "bond order: 1, chiral: False to atom atomic num: 6, name: , idx: 32, aromatic: True, chiral: False\n",
      "bond order: 1, chiral: False to atom atomic num: 6, name: , idx: 34, aromatic: False, chiral: False\n",
      "bond order: 1, chiral: False to atom atomic num: 6, name: , idx: 35, aromatic: False, chiral: False\n",
      "\n"
     ]
    },
    {
     "name": "stderr",
     "output_type": "stream",
     "text": [
      "Warning (not error because allow_undefined_stereo=True): OEMol has unspecified stereochemistry. oemol.GetTitle(): \n",
      "Problematic atoms are:\n",
      "Atom atomic num: 6, name: , idx: 11, aromatic: False, chiral: True with bonds:\n",
      "bond order: 1, chiral: False to atom atomic num: 6, name: , idx: 10, aromatic: True, chiral: False\n",
      "bond order: 1, chiral: False to atom atomic num: 7, name: , idx: 16, aromatic: False, chiral: False\n",
      "bond order: 1, chiral: False to atom atomic num: 16, name: , idx: 12, aromatic: False, chiral: False\n",
      "bond order: 1, chiral: False to atom atomic num: 1, name: , idx: 54, aromatic: False, chiral: False\n",
      "\n"
     ]
    },
    {
     "name": "stderr",
     "output_type": "stream",
     "text": [
      "Warning (not error because allow_undefined_stereo=True): OEMol has unspecified stereochemistry. oemol.GetTitle(): \n",
      "Problematic atoms are:\n",
      "Atom atomic num: 6, name: , idx: 27, aromatic: False, chiral: True with bonds:\n",
      "bond order: 1, chiral: False to atom atomic num: 7, name: , idx: 26, aromatic: False, chiral: False\n",
      "bond order: 1, chiral: False to atom atomic num: 6, name: , idx: 28, aromatic: False, chiral: False\n",
      "bond order: 1, chiral: False to atom atomic num: 6, name: , idx: 29, aromatic: False, chiral: False\n",
      "bond order: 1, chiral: False to atom atomic num: 1, name: , idx: 52, aromatic: False, chiral: False\n",
      "\n"
     ]
    },
    {
     "name": "stderr",
     "output_type": "stream",
     "text": [
      "Warning (not error because allow_undefined_stereo=True): OEMol has unspecified stereochemistry. oemol.GetTitle(): \n",
      "Problematic atoms are:\n",
      "Atom atomic num: 6, name: , idx: 16, aromatic: False, chiral: True with bonds:\n",
      "bond order: 1, chiral: False to atom atomic num: 6, name: , idx: 15, aromatic: False, chiral: False\n",
      "bond order: 1, chiral: False to atom atomic num: 7, name: , idx: 5, aromatic: False, chiral: False\n",
      "bond order: 1, chiral: False to atom atomic num: 6, name: , idx: 17, aromatic: True, chiral: False\n",
      "bond order: 1, chiral: False to atom atomic num: 1, name: , idx: 33, aromatic: False, chiral: False\n",
      "\n"
     ]
    },
    {
     "name": "stderr",
     "output_type": "stream",
     "text": [
      "Warning (not error because allow_undefined_stereo=True): OEMol has unspecified stereochemistry. oemol.GetTitle(): \n",
      "Problematic atoms are:\n",
      "Atom atomic num: 6, name: , idx: 15, aromatic: False, chiral: True with bonds:\n",
      "bond order: 1, chiral: False to atom atomic num: 6, name: , idx: 14, aromatic: False, chiral: False\n",
      "bond order: 1, chiral: False to atom atomic num: 7, name: , idx: 3, aromatic: False, chiral: False\n",
      "bond order: 1, chiral: False to atom atomic num: 6, name: , idx: 16, aromatic: True, chiral: False\n",
      "bond order: 1, chiral: False to atom atomic num: 1, name: , idx: 30, aromatic: False, chiral: False\n",
      "\n"
     ]
    },
    {
     "name": "stderr",
     "output_type": "stream",
     "text": [
      "Warning (not error because allow_undefined_stereo=True): OEMol has unspecified stereochemistry. oemol.GetTitle(): \n",
      "Problematic atoms are:\n",
      "Atom atomic num: 6, name: , idx: 19, aromatic: False, chiral: True with bonds:\n",
      "bond order: 1, chiral: False to atom atomic num: 6, name: , idx: 18, aromatic: False, chiral: False\n",
      "bond order: 1, chiral: False to atom atomic num: 6, name: , idx: 25, aromatic: False, chiral: False\n",
      "bond order: 1, chiral: False to atom atomic num: 6, name: , idx: 20, aromatic: False, chiral: False\n",
      "bond order: 1, chiral: False to atom atomic num: 1, name: , idx: 49, aromatic: False, chiral: False\n",
      "Atom atomic num: 7, name: , idx: 23, aromatic: False, chiral: True with bonds:\n",
      "bond order: 1, chiral: False to atom atomic num: 6, name: , idx: 22, aromatic: False, chiral: False\n",
      "bond order: 1, chiral: False to atom atomic num: 6, name: , idx: 24, aromatic: False, chiral: False\n",
      "bond order: 1, chiral: False to atom atomic num: 6, name: , idx: 25, aromatic: False, chiral: False\n",
      "\n"
     ]
    },
    {
     "name": "stderr",
     "output_type": "stream",
     "text": [
      "Warning (not error because allow_undefined_stereo=True): OEMol has unspecified stereochemistry. oemol.GetTitle(): \n",
      "Problematic atoms are:\n",
      "Atom atomic num: 6, name: , idx: 11, aromatic: False, chiral: True with bonds:\n",
      "bond order: 1, chiral: False to atom atomic num: 7, name: , idx: 7, aromatic: False, chiral: False\n",
      "bond order: 1, chiral: False to atom atomic num: 6, name: , idx: 12, aromatic: True, chiral: False\n",
      "bond order: 1, chiral: False to atom atomic num: 6, name: , idx: 19, aromatic: False, chiral: False\n",
      "bond order: 1, chiral: False to atom atomic num: 1, name: , idx: 30, aromatic: False, chiral: False\n",
      "\n"
     ]
    },
    {
     "name": "stderr",
     "output_type": "stream",
     "text": [
      "Warning (not error because allow_undefined_stereo=True): OEMol has unspecified stereochemistry. oemol.GetTitle(): \n",
      "Problematic atoms are:\n",
      "Atom atomic num: 6, name: , idx: 14, aromatic: False, chiral: True with bonds:\n",
      "bond order: 1, chiral: False to atom atomic num: 6, name: , idx: 13, aromatic: False, chiral: False\n",
      "bond order: 1, chiral: False to atom atomic num: 6, name: , idx: 28, aromatic: False, chiral: False\n",
      "bond order: 1, chiral: False to atom atomic num: 6, name: , idx: 15, aromatic: False, chiral: False\n",
      "bond order: 1, chiral: False to atom atomic num: 1, name: , idx: 43, aromatic: False, chiral: False\n",
      "\n"
     ]
    },
    {
     "name": "stderr",
     "output_type": "stream",
     "text": [
      "Warning (not error because allow_undefined_stereo=True): OEMol has unspecified stereochemistry. oemol.GetTitle(): \n",
      "Problematic atoms are:\n",
      "Atom atomic num: 7, name: , idx: 6, aromatic: False, chiral: True with bonds:\n",
      "bond order: 1, chiral: False to atom atomic num: 6, name: , idx: 5, aromatic: True, chiral: False\n",
      "bond order: 1, chiral: False to atom atomic num: 6, name: , idx: 7, aromatic: False, chiral: False\n",
      "bond order: 1, chiral: False to atom atomic num: 6, name: , idx: 10, aromatic: False, chiral: False\n",
      "\n"
     ]
    },
    {
     "name": "stderr",
     "output_type": "stream",
     "text": [
      "Warning (not error because allow_undefined_stereo=True): OEMol has unspecified stereochemistry. oemol.GetTitle(): \n",
      "Problematic atoms are:\n",
      "Atom atomic num: 7, name: , idx: 31, aromatic: False, chiral: True with bonds:\n",
      "bond order: 1, chiral: False to atom atomic num: 6, name: , idx: 30, aromatic: False, chiral: False\n",
      "bond order: 1, chiral: False to atom atomic num: 6, name: , idx: 25, aromatic: False, chiral: True\n",
      "bond order: 1, chiral: False to atom atomic num: 6, name: , idx: 32, aromatic: False, chiral: False\n",
      "\n"
     ]
    },
    {
     "name": "stderr",
     "output_type": "stream",
     "text": [
      "Warning (not error because allow_undefined_stereo=True): OEMol has unspecified stereochemistry. oemol.GetTitle(): \n",
      "Problematic atoms are:\n",
      "Atom atomic num: 6, name: , idx: 16, aromatic: False, chiral: True with bonds:\n",
      "bond order: 1, chiral: False to atom atomic num: 7, name: , idx: 15, aromatic: False, chiral: False\n",
      "bond order: 1, chiral: False to atom atomic num: 6, name: , idx: 20, aromatic: False, chiral: False\n",
      "bond order: 1, chiral: False to atom atomic num: 6, name: , idx: 17, aromatic: False, chiral: False\n",
      "bond order: 1, chiral: False to atom atomic num: 1, name: , idx: 30, aromatic: False, chiral: False\n",
      "\n"
     ]
    },
    {
     "name": "stderr",
     "output_type": "stream",
     "text": [
      "Warning (not error because allow_undefined_stereo=True): OEMol has unspecified stereochemistry. oemol.GetTitle(): \n",
      "Problematic atoms are:\n",
      "Atom atomic num: 7, name: , idx: 30, aromatic: False, chiral: True with bonds:\n",
      "bond order: 1, chiral: False to atom atomic num: 6, name: , idx: 29, aromatic: True, chiral: False\n",
      "bond order: 1, chiral: False to atom atomic num: 6, name: , idx: 31, aromatic: False, chiral: False\n",
      "bond order: 1, chiral: False to atom atomic num: 6, name: , idx: 32, aromatic: False, chiral: False\n",
      "\n"
     ]
    },
    {
     "name": "stderr",
     "output_type": "stream",
     "text": [
      "Warning (not error because allow_undefined_stereo=True): OEMol has unspecified stereochemistry. oemol.GetTitle(): \n",
      "Problematic atoms are:\n",
      "Atom atomic num: 6, name: , idx: 5, aromatic: False, chiral: True with bonds:\n",
      "bond order: 1, chiral: False to atom atomic num: 6, name: , idx: 4, aromatic: True, chiral: False\n",
      "bond order: 1, chiral: False to atom atomic num: 7, name: , idx: 16, aromatic: False, chiral: False\n",
      "bond order: 1, chiral: False to atom atomic num: 6, name: , idx: 6, aromatic: False, chiral: False\n",
      "bond order: 1, chiral: False to atom atomic num: 1, name: , idx: 30, aromatic: False, chiral: False\n",
      "\n"
     ]
    },
    {
     "name": "stderr",
     "output_type": "stream",
     "text": [
      "Warning (not error because allow_undefined_stereo=True): OEMol has unspecified stereochemistry. oemol.GetTitle(): \n",
      "Problematic atoms are:\n",
      "Atom atomic num: 6, name: , idx: 19, aromatic: False, chiral: True with bonds:\n",
      "bond order: 1, chiral: False to atom atomic num: 7, name: , idx: 7, aromatic: False, chiral: False\n",
      "bond order: 1, chiral: False to atom atomic num: 6, name: , idx: 20, aromatic: True, chiral: False\n",
      "bond order: 1, chiral: False to atom atomic num: 6, name: , idx: 27, aromatic: False, chiral: False\n",
      "bond order: 1, chiral: False to atom atomic num: 1, name: , idx: 42, aromatic: False, chiral: False\n",
      "\n"
     ]
    },
    {
     "name": "stderr",
     "output_type": "stream",
     "text": [
      "Warning (not error because allow_undefined_stereo=True): OEMol has unspecified stereochemistry. oemol.GetTitle(): \n",
      "Problematic atoms are:\n",
      "Atom atomic num: 7, name: , idx: 1, aromatic: False, chiral: True with bonds:\n",
      "bond order: 1, chiral: False to atom atomic num: 6, name: , idx: 0, aromatic: False, chiral: False\n",
      "bond order: 1, chiral: False to atom atomic num: 6, name: , idx: 2, aromatic: False, chiral: False\n",
      "bond order: 1, chiral: False to atom atomic num: 6, name: , idx: 26, aromatic: False, chiral: False\n",
      "\n"
     ]
    },
    {
     "name": "stderr",
     "output_type": "stream",
     "text": [
      "Warning (not error because allow_undefined_stereo=True): OEMol has unspecified stereochemistry. oemol.GetTitle(): \n",
      "Problematic atoms are:\n",
      "Atom atomic num: 6, name: , idx: 25, aromatic: False, chiral: True with bonds:\n",
      "bond order: 1, chiral: False to atom atomic num: 7, name: , idx: 24, aromatic: False, chiral: False\n",
      "bond order: 1, chiral: False to atom atomic num: 6, name: , idx: 3, aromatic: False, chiral: False\n",
      "bond order: 1, chiral: False to atom atomic num: 7, name: , idx: 26, aromatic: False, chiral: False\n",
      "bond order: 1, chiral: False to atom atomic num: 1, name: , idx: 57, aromatic: False, chiral: False\n",
      "\n"
     ]
    },
    {
     "name": "stderr",
     "output_type": "stream",
     "text": [
      "Warning (not error because allow_undefined_stereo=True): OEMol has unspecified stereochemistry. oemol.GetTitle(): \n",
      "Problematic atoms are:\n",
      "Atom atomic num: 7, name: , idx: 3, aromatic: False, chiral: True with bonds:\n",
      "bond order: 1, chiral: False to atom atomic num: 6, name: , idx: 2, aromatic: False, chiral: False\n",
      "bond order: 1, chiral: False to atom atomic num: 6, name: , idx: 4, aromatic: False, chiral: False\n",
      "bond order: 1, chiral: False to atom atomic num: 6, name: , idx: 5, aromatic: False, chiral: False\n",
      "\n"
     ]
    },
    {
     "name": "stderr",
     "output_type": "stream",
     "text": [
      "Warning (not error because allow_undefined_stereo=True): OEMol has unspecified stereochemistry. oemol.GetTitle(): \n",
      "Problematic atoms are:\n",
      "Atom atomic num: 7, name: , idx: 4, aromatic: False, chiral: True with bonds:\n",
      "bond order: 1, chiral: False to atom atomic num: 16, name: , idx: 1, aromatic: False, chiral: False\n",
      "bond order: 1, chiral: False to atom atomic num: 6, name: , idx: 8, aromatic: False, chiral: True\n",
      "bond order: 1, chiral: False to atom atomic num: 6, name: , idx: 5, aromatic: False, chiral: False\n",
      "\n"
     ]
    },
    {
     "name": "stderr",
     "output_type": "stream",
     "text": [
      "Warning (not error because allow_undefined_stereo=True): OEMol has unspecified stereochemistry. oemol.GetTitle(): \n",
      "Problematic atoms are:\n",
      "Atom atomic num: 7, name: , idx: 33, aromatic: False, chiral: True with bonds:\n",
      "bond order: 1, chiral: False to atom atomic num: 6, name: , idx: 32, aromatic: True, chiral: False\n",
      "bond order: 1, chiral: False to atom atomic num: 6, name: , idx: 34, aromatic: False, chiral: False\n",
      "bond order: 1, chiral: False to atom atomic num: 6, name: , idx: 35, aromatic: False, chiral: False\n",
      "\n"
     ]
    },
    {
     "name": "stderr",
     "output_type": "stream",
     "text": [
      "Warning (not error because allow_undefined_stereo=True): OEMol has unspecified stereochemistry. oemol.GetTitle(): \n",
      "Problematic atoms are:\n",
      "Atom atomic num: 7, name: , idx: 8, aromatic: False, chiral: True with bonds:\n",
      "bond order: 1, chiral: False to atom atomic num: 6, name: , idx: 7, aromatic: False, chiral: False\n",
      "bond order: 1, chiral: False to atom atomic num: 6, name: , idx: 9, aromatic: True, chiral: False\n",
      "bond order: 1, chiral: False to atom atomic num: 6, name: , idx: 31, aromatic: False, chiral: False\n",
      "\n"
     ]
    },
    {
     "name": "stderr",
     "output_type": "stream",
     "text": [
      "Warning (not error because allow_undefined_stereo=True): OEMol has unspecified stereochemistry. oemol.GetTitle(): \n",
      "Problematic atoms are:\n",
      "Atom atomic num: 7, name: , idx: 34, aromatic: False, chiral: True with bonds:\n",
      "bond order: 1, chiral: False to atom atomic num: 6, name: , idx: 33, aromatic: True, chiral: False\n",
      "bond order: 1, chiral: False to atom atomic num: 6, name: , idx: 35, aromatic: False, chiral: False\n",
      "bond order: 1, chiral: False to atom atomic num: 6, name: , idx: 36, aromatic: False, chiral: False\n",
      "\n"
     ]
    },
    {
     "name": "stderr",
     "output_type": "stream",
     "text": [
      "Warning (not error because allow_undefined_stereo=True): OEMol has unspecified stereochemistry. oemol.GetTitle(): \n",
      "Problematic atoms are:\n",
      "Atom atomic num: 6, name: , idx: 15, aromatic: False, chiral: True with bonds:\n",
      "bond order: 1, chiral: False to atom atomic num: 6, name: , idx: 2, aromatic: False, chiral: False\n",
      "bond order: 1, chiral: False to atom atomic num: 6, name: , idx: 16, aromatic: True, chiral: False\n",
      "bond order: 1, chiral: False to atom atomic num: 7, name: , idx: 24, aromatic: False, chiral: False\n",
      "bond order: 1, chiral: False to atom atomic num: 1, name: , idx: 49, aromatic: False, chiral: False\n",
      "\n"
     ]
    },
    {
     "name": "stderr",
     "output_type": "stream",
     "text": [
      "Warning (not error because allow_undefined_stereo=True): OEMol has unspecified stereochemistry. oemol.GetTitle(): \n",
      "Problematic atoms are:\n",
      "Atom atomic num: 6, name: , idx: 1, aromatic: False, chiral: True with bonds:\n",
      "bond order: 1, chiral: False to atom atomic num: 6, name: , idx: 0, aromatic: False, chiral: False\n",
      "bond order: 1, chiral: False to atom atomic num: 7, name: , idx: 6, aromatic: False, chiral: True\n",
      "bond order: 1, chiral: False to atom atomic num: 6, name: , idx: 2, aromatic: False, chiral: False\n",
      "bond order: 1, chiral: False to atom atomic num: 1, name: , idx: 38, aromatic: False, chiral: False\n",
      "Atom atomic num: 7, name: , idx: 6, aromatic: False, chiral: True with bonds:\n",
      "bond order: 1, chiral: False to atom atomic num: 6, name: , idx: 5, aromatic: False, chiral: False\n",
      "bond order: 1, chiral: False to atom atomic num: 6, name: , idx: 1, aromatic: False, chiral: True\n",
      "bond order: 1, chiral: False to atom atomic num: 6, name: , idx: 7, aromatic: False, chiral: False\n",
      "\n"
     ]
    },
    {
     "name": "stderr",
     "output_type": "stream",
     "text": [
      "Warning (not error because allow_undefined_stereo=True): OEMol has unspecified stereochemistry. oemol.GetTitle(): \n",
      "Problematic atoms are:\n",
      "Atom atomic num: 6, name: , idx: 13, aromatic: False, chiral: True with bonds:\n",
      "bond order: 1, chiral: False to atom atomic num: 6, name: , idx: 11, aromatic: False, chiral: False\n",
      "bond order: 1, chiral: False to atom atomic num: 7, name: , idx: 18, aromatic: False, chiral: False\n",
      "bond order: 1, chiral: False to atom atomic num: 6, name: , idx: 14, aromatic: False, chiral: False\n",
      "bond order: 1, chiral: False to atom atomic num: 1, name: , idx: 51, aromatic: False, chiral: False\n",
      "\n"
     ]
    },
    {
     "name": "stderr",
     "output_type": "stream",
     "text": [
      "Warning (not error because allow_undefined_stereo=True): OEMol has unspecified stereochemistry. oemol.GetTitle(): \n",
      "Problematic atoms are:\n",
      "Atom atomic num: 6, name: , idx: 26, aromatic: False, chiral: True with bonds:\n",
      "bond order: 1, chiral: False to atom atomic num: 6, name: , idx: 25, aromatic: False, chiral: False\n",
      "bond order: 1, chiral: False to atom atomic num: 6, name: , idx: 27, aromatic: False, chiral: False\n",
      "bond order: 1, chiral: False to atom atomic num: 7, name: , idx: 28, aromatic: False, chiral: False\n",
      "bond order: 1, chiral: False to atom atomic num: 1, name: , idx: 45, aromatic: False, chiral: False\n",
      "\n"
     ]
    },
    {
     "name": "stderr",
     "output_type": "stream",
     "text": [
      "Warning (not error because allow_undefined_stereo=True): OEMol has unspecified stereochemistry. oemol.GetTitle(): \n",
      "Problematic atoms are:\n",
      "Atom atomic num: 6, name: , idx: 24, aromatic: False, chiral: True with bonds:\n",
      "bond order: 1, chiral: False to atom atomic num: 7, name: , idx: 23, aromatic: False, chiral: False\n",
      "bond order: 1, chiral: False to atom atomic num: 6, name: , idx: 33, aromatic: False, chiral: True\n",
      "bond order: 1, chiral: False to atom atomic num: 8, name: , idx: 25, aromatic: False, chiral: False\n",
      "bond order: 1, chiral: False to atom atomic num: 1, name: , idx: 59, aromatic: False, chiral: False\n",
      "Atom atomic num: 6, name: , idx: 26, aromatic: False, chiral: True with bonds:\n",
      "bond order: 1, chiral: False to atom atomic num: 8, name: , idx: 25, aromatic: False, chiral: False\n",
      "bond order: 1, chiral: False to atom atomic num: 6, name: , idx: 27, aromatic: False, chiral: False\n",
      "bond order: 1, chiral: False to atom atomic num: 6, name: , idx: 29, aromatic: False, chiral: True\n",
      "bond order: 1, chiral: False to atom atomic num: 1, name: , idx: 60, aromatic: False, chiral: False\n",
      "Atom atomic num: 6, name: , idx: 29, aromatic: False, chiral: True with bonds:\n",
      "bond order: 1, chiral: False to atom atomic num: 6, name: , idx: 26, aromatic: False, chiral: True\n",
      "bond order: 1, chiral: False to atom atomic num: 8, name: , idx: 30, aromatic: False, chiral: False\n",
      "bond order: 1, chiral: False to atom atomic num: 6, name: , idx: 31, aromatic: False, chiral: True\n",
      "bond order: 1, chiral: False to atom atomic num: 1, name: , idx: 64, aromatic: False, chiral: False\n",
      "Atom atomic num: 6, name: , idx: 31, aromatic: False, chiral: True with bonds:\n",
      "bond order: 1, chiral: False to atom atomic num: 6, name: , idx: 29, aromatic: False, chiral: True\n",
      "bond order: 1, chiral: False to atom atomic num: 8, name: , idx: 32, aromatic: False, chiral: False\n",
      "bond order: 1, chiral: False to atom atomic num: 6, name: , idx: 33, aromatic: False, chiral: True\n",
      "bond order: 1, chiral: False to atom atomic num: 1, name: , idx: 66, aromatic: False, chiral: False\n",
      "Atom atomic num: 6, name: , idx: 33, aromatic: False, chiral: True with bonds:\n",
      "bond order: 1, chiral: False to atom atomic num: 6, name: , idx: 31, aromatic: False, chiral: True\n",
      "bond order: 1, chiral: False to atom atomic num: 6, name: , idx: 24, aromatic: False, chiral: True\n",
      "bond order: 1, chiral: False to atom atomic num: 8, name: , idx: 34, aromatic: False, chiral: False\n",
      "bond order: 1, chiral: False to atom atomic num: 1, name: , idx: 68, aromatic: False, chiral: False\n",
      "\n"
     ]
    },
    {
     "name": "stderr",
     "output_type": "stream",
     "text": [
      "Warning (not error because allow_undefined_stereo=True): OEMol has unspecified stereochemistry. oemol.GetTitle(): \n",
      "Problematic atoms are:\n",
      "Atom atomic num: 7, name: , idx: 1, aromatic: False, chiral: True with bonds:\n",
      "bond order: 1, chiral: False to atom atomic num: 6, name: , idx: 0, aromatic: False, chiral: False\n",
      "bond order: 1, chiral: False to atom atomic num: 6, name: , idx: 2, aromatic: False, chiral: False\n",
      "bond order: 1, chiral: False to atom atomic num: 6, name: , idx: 5, aromatic: False, chiral: False\n",
      "\n"
     ]
    },
    {
     "name": "stderr",
     "output_type": "stream",
     "text": [
      "Warning (not error because allow_undefined_stereo=True): OEMol has unspecified stereochemistry. oemol.GetTitle(): \n",
      "Problematic atoms are:\n",
      "Atom atomic num: 6, name: , idx: 23, aromatic: False, chiral: True with bonds:\n",
      "bond order: 1, chiral: False to atom atomic num: 6, name: , idx: 22, aromatic: False, chiral: False\n",
      "bond order: 1, chiral: False to atom atomic num: 8, name: , idx: 24, aromatic: False, chiral: False\n",
      "bond order: 1, chiral: False to atom atomic num: 6, name: , idx: 25, aromatic: False, chiral: False\n",
      "bond order: 1, chiral: False to atom atomic num: 1, name: , idx: 45, aromatic: False, chiral: False\n",
      "\n"
     ]
    },
    {
     "name": "stderr",
     "output_type": "stream",
     "text": [
      "Warning (not error because allow_undefined_stereo=True): OEMol has unspecified stereochemistry. oemol.GetTitle(): \n",
      "Problematic atoms are:\n",
      "Atom atomic num: 7, name: , idx: 18, aromatic: False, chiral: True with bonds:\n",
      "bond order: 1, chiral: False to atom atomic num: 6, name: , idx: 17, aromatic: False, chiral: False\n",
      "bond order: 1, chiral: False to atom atomic num: 6, name: , idx: 13, aromatic: True, chiral: False\n",
      "bond order: 1, chiral: False to atom atomic num: 6, name: , idx: 19, aromatic: False, chiral: False\n",
      "\n"
     ]
    },
    {
     "name": "stderr",
     "output_type": "stream",
     "text": [
      "Warning (not error because allow_undefined_stereo=True): OEMol has unspecified stereochemistry. oemol.GetTitle(): \n",
      "Problematic bonds are: [<openeye.oechem.OEBondBase; proxy of <Swig Object of type 'OEChem::OEBondBase *' at 0x7f823cabdea0> >]\n",
      "\n"
     ]
    },
    {
     "name": "stderr",
     "output_type": "stream",
     "text": [
      "Warning (not error because allow_undefined_stereo=True): OEMol has unspecified stereochemistry. oemol.GetTitle(): \n",
      "Problematic atoms are:\n",
      "Atom atomic num: 6, name: , idx: 11, aromatic: False, chiral: True with bonds:\n",
      "bond order: 1, chiral: False to atom atomic num: 7, name: , idx: 7, aromatic: False, chiral: False\n",
      "bond order: 1, chiral: False to atom atomic num: 6, name: , idx: 12, aromatic: True, chiral: False\n",
      "bond order: 1, chiral: False to atom atomic num: 6, name: , idx: 19, aromatic: False, chiral: False\n",
      "bond order: 1, chiral: False to atom atomic num: 1, name: , idx: 30, aromatic: False, chiral: False\n",
      "\n"
     ]
    },
    {
     "name": "stderr",
     "output_type": "stream",
     "text": [
      "Warning (not error because allow_undefined_stereo=True): OEMol has unspecified stereochemistry. oemol.GetTitle(): \n",
      "Problematic atoms are:\n",
      "Atom atomic num: 7, name: , idx: 13, aromatic: False, chiral: True with bonds:\n",
      "bond order: 1, chiral: False to atom atomic num: 6, name: , idx: 12, aromatic: True, chiral: False\n",
      "bond order: 1, chiral: False to atom atomic num: 6, name: , idx: 21, aromatic: False, chiral: False\n",
      "bond order: 1, chiral: False to atom atomic num: 6, name: , idx: 14, aromatic: False, chiral: False\n",
      "Atom atomic num: 6, name: , idx: 16, aromatic: False, chiral: True with bonds:\n",
      "bond order: 1, chiral: False to atom atomic num: 6, name: , idx: 15, aromatic: False, chiral: False\n",
      "bond order: 1, chiral: False to atom atomic num: 6, name: , idx: 17, aromatic: False, chiral: False\n",
      "bond order: 1, chiral: False to atom atomic num: 6, name: , idx: 18, aromatic: False, chiral: False\n",
      "bond order: 1, chiral: False to atom atomic num: 6, name: , idx: 21, aromatic: False, chiral: False\n",
      "\n"
     ]
    },
    {
     "name": "stderr",
     "output_type": "stream",
     "text": [
      "Warning (not error because allow_undefined_stereo=True): OEMol has unspecified stereochemistry. oemol.GetTitle(): \n",
      "Problematic atoms are:\n",
      "Atom atomic num: 7, name: , idx: 2, aromatic: False, chiral: True with bonds:\n",
      "bond order: 1, chiral: False to atom atomic num: 6, name: , idx: 1, aromatic: False, chiral: False\n",
      "bond order: 1, chiral: False to atom atomic num: 6, name: , idx: 3, aromatic: False, chiral: False\n",
      "bond order: 1, chiral: False to atom atomic num: 6, name: , idx: 6, aromatic: False, chiral: False\n",
      "\n"
     ]
    },
    {
     "name": "stderr",
     "output_type": "stream",
     "text": [
      "Warning (not error because allow_undefined_stereo=True): OEMol has unspecified stereochemistry. oemol.GetTitle(): \n",
      "Problematic atoms are:\n",
      "Atom atomic num: 6, name: , idx: 22, aromatic: False, chiral: True with bonds:\n",
      "bond order: 1, chiral: False to atom atomic num: 6, name: , idx: 16, aromatic: False, chiral: False\n",
      "bond order: 1, chiral: False to atom atomic num: 6, name: , idx: 5, aromatic: False, chiral: False\n",
      "bond order: 1, chiral: False to atom atomic num: 6, name: , idx: 23, aromatic: False, chiral: False\n",
      "bond order: 1, chiral: False to atom atomic num: 1, name: , idx: 54, aromatic: False, chiral: False\n",
      "\n"
     ]
    },
    {
     "name": "stderr",
     "output_type": "stream",
     "text": [
      "Warning (not error because allow_undefined_stereo=True): OEMol has unspecified stereochemistry. oemol.GetTitle(): \n",
      "Problematic atoms are:\n",
      "Atom atomic num: 7, name: , idx: 30, aromatic: False, chiral: True with bonds:\n",
      "bond order: 1, chiral: False to atom atomic num: 6, name: , idx: 29, aromatic: True, chiral: False\n",
      "bond order: 1, chiral: False to atom atomic num: 6, name: , idx: 31, aromatic: False, chiral: False\n",
      "bond order: 1, chiral: False to atom atomic num: 6, name: , idx: 32, aromatic: False, chiral: False\n",
      "\n"
     ]
    },
    {
     "name": "stderr",
     "output_type": "stream",
     "text": [
      "Warning (not error because allow_undefined_stereo=True): OEMol has unspecified stereochemistry. oemol.GetTitle(): \n",
      "Problematic atoms are:\n",
      "Atom atomic num: 6, name: , idx: 21, aromatic: False, chiral: True with bonds:\n",
      "bond order: 1, chiral: False to atom atomic num: 6, name: , idx: 1, aromatic: False, chiral: False\n",
      "bond order: 1, chiral: False to atom atomic num: 8, name: , idx: 30, aromatic: False, chiral: False\n",
      "bond order: 1, chiral: False to atom atomic num: 6, name: , idx: 22, aromatic: False, chiral: False\n",
      "bond order: 1, chiral: False to atom atomic num: 1, name: , idx: 41, aromatic: False, chiral: False\n",
      "\n"
     ]
    },
    {
     "name": "stderr",
     "output_type": "stream",
     "text": [
      "Warning (not error because allow_undefined_stereo=True): OEMol has unspecified stereochemistry. oemol.GetTitle(): \n",
      "Problematic atoms are:\n",
      "Atom atomic num: 7, name: , idx: 5, aromatic: False, chiral: True with bonds:\n",
      "bond order: 1, chiral: False to atom atomic num: 16, name: , idx: 2, aromatic: False, chiral: False\n",
      "bond order: 1, chiral: False to atom atomic num: 6, name: , idx: 28, aromatic: False, chiral: False\n",
      "bond order: 1, chiral: False to atom atomic num: 6, name: , idx: 6, aromatic: False, chiral: False\n",
      "\n"
     ]
    },
    {
     "name": "stderr",
     "output_type": "stream",
     "text": [
      "Warning (not error because allow_undefined_stereo=True): OEMol has unspecified stereochemistry. oemol.GetTitle(): \n",
      "Problematic atoms are:\n",
      "Atom atomic num: 7, name: , idx: 8, aromatic: False, chiral: True with bonds:\n",
      "bond order: 1, chiral: False to atom atomic num: 6, name: , idx: 7, aromatic: False, chiral: False\n",
      "bond order: 1, chiral: False to atom atomic num: 6, name: , idx: 3, aromatic: False, chiral: True\n",
      "bond order: 1, chiral: False to atom atomic num: 7, name: , idx: 9, aromatic: False, chiral: False\n",
      "\n"
     ]
    },
    {
     "name": "stderr",
     "output_type": "stream",
     "text": [
      "Warning (not error because allow_undefined_stereo=True): OEMol has unspecified stereochemistry. oemol.GetTitle(): \n",
      "Problematic atoms are:\n",
      "Atom atomic num: 7, name: , idx: 32, aromatic: False, chiral: True with bonds:\n",
      "bond order: 1, chiral: False to atom atomic num: 6, name: , idx: 31, aromatic: True, chiral: False\n",
      "bond order: 1, chiral: False to atom atomic num: 6, name: , idx: 33, aromatic: False, chiral: False\n",
      "bond order: 1, chiral: False to atom atomic num: 6, name: , idx: 34, aromatic: False, chiral: False\n",
      "\n"
     ]
    },
    {
     "name": "stderr",
     "output_type": "stream",
     "text": [
      "Warning (not error because allow_undefined_stereo=True): OEMol has unspecified stereochemistry. oemol.GetTitle(): \n",
      "Problematic atoms are:\n",
      "Atom atomic num: 7, name: , idx: 22, aromatic: False, chiral: True with bonds:\n",
      "bond order: 1, chiral: False to atom atomic num: 6, name: , idx: 21, aromatic: False, chiral: False\n",
      "bond order: 1, chiral: False to atom atomic num: 6, name: , idx: 23, aromatic: False, chiral: False\n",
      "bond order: 1, chiral: False to atom atomic num: 6, name: , idx: 24, aromatic: False, chiral: True\n",
      "\n"
     ]
    },
    {
     "name": "stderr",
     "output_type": "stream",
     "text": [
      "Warning (not error because allow_undefined_stereo=True): OEMol has unspecified stereochemistry. oemol.GetTitle(): \n",
      "Problematic atoms are:\n",
      "Atom atomic num: 7, name: , idx: 7, aromatic: False, chiral: True with bonds:\n",
      "bond order: 1, chiral: False to atom atomic num: 6, name: , idx: 4, aromatic: False, chiral: True\n",
      "bond order: 1, chiral: False to atom atomic num: 6, name: , idx: 8, aromatic: False, chiral: False\n",
      "bond order: 1, chiral: False to atom atomic num: 6, name: , idx: 9, aromatic: False, chiral: False\n",
      "\n"
     ]
    },
    {
     "name": "stderr",
     "output_type": "stream",
     "text": [
      "Warning (not error because allow_undefined_stereo=True): OEMol has unspecified stereochemistry. oemol.GetTitle(): \n",
      "Problematic atoms are:\n",
      "Atom atomic num: 6, name: , idx: 4, aromatic: False, chiral: True with bonds:\n",
      "bond order: 1, chiral: False to atom atomic num: 6, name: , idx: 3, aromatic: False, chiral: False\n",
      "bond order: 1, chiral: False to atom atomic num: 8, name: , idx: 5, aromatic: False, chiral: False\n",
      "bond order: 1, chiral: False to atom atomic num: 6, name: , idx: 6, aromatic: False, chiral: False\n",
      "bond order: 1, chiral: False to atom atomic num: 1, name: , idx: 54, aromatic: False, chiral: False\n",
      "Atom atomic num: 7, name: , idx: 7, aromatic: False, chiral: True with bonds:\n",
      "bond order: 1, chiral: False to atom atomic num: 6, name: , idx: 6, aromatic: False, chiral: False\n",
      "bond order: 1, chiral: False to atom atomic num: 6, name: , idx: 8, aromatic: False, chiral: False\n",
      "bond order: 1, chiral: False to atom atomic num: 6, name: , idx: 9, aromatic: False, chiral: True\n",
      "\n"
     ]
    },
    {
     "name": "stderr",
     "output_type": "stream",
     "text": [
      "Warning (not error because allow_undefined_stereo=True): OEMol has unspecified stereochemistry. oemol.GetTitle(): \n",
      "Problematic atoms are:\n",
      "Atom atomic num: 6, name: , idx: 16, aromatic: False, chiral: True with bonds:\n",
      "bond order: 1, chiral: False to atom atomic num: 8, name: , idx: 15, aromatic: False, chiral: False\n",
      "bond order: 1, chiral: False to atom atomic num: 6, name: , idx: 17, aromatic: False, chiral: False\n",
      "bond order: 1, chiral: False to atom atomic num: 6, name: , idx: 18, aromatic: False, chiral: False\n",
      "bond order: 1, chiral: False to atom atomic num: 1, name: , idx: 36, aromatic: False, chiral: False\n",
      "\n"
     ]
    },
    {
     "name": "stderr",
     "output_type": "stream",
     "text": [
      "Warning (not error because allow_undefined_stereo=True): OEMol has unspecified stereochemistry. oemol.GetTitle(): \n",
      "Problematic atoms are:\n",
      "Atom atomic num: 6, name: , idx: 14, aromatic: False, chiral: True with bonds:\n",
      "bond order: 1, chiral: False to atom atomic num: 7, name: , idx: 7, aromatic: False, chiral: False\n",
      "bond order: 1, chiral: False to atom atomic num: 6, name: , idx: 15, aromatic: True, chiral: False\n",
      "bond order: 1, chiral: False to atom atomic num: 6, name: , idx: 25, aromatic: False, chiral: False\n",
      "bond order: 1, chiral: False to atom atomic num: 1, name: , idx: 36, aromatic: False, chiral: False\n",
      "\n"
     ]
    },
    {
     "name": "stderr",
     "output_type": "stream",
     "text": [
      "Warning (not error because allow_undefined_stereo=True): OEMol has unspecified stereochemistry. oemol.GetTitle(): \n",
      "Problematic atoms are:\n",
      "Atom atomic num: 7, name: , idx: 3, aromatic: False, chiral: True with bonds:\n",
      "bond order: 1, chiral: False to atom atomic num: 6, name: , idx: 2, aromatic: False, chiral: False\n",
      "bond order: 1, chiral: False to atom atomic num: 6, name: , idx: 4, aromatic: False, chiral: False\n",
      "bond order: 1, chiral: False to atom atomic num: 6, name: , idx: 10, aromatic: False, chiral: False\n",
      "\n"
     ]
    },
    {
     "name": "stderr",
     "output_type": "stream",
     "text": [
      "Warning (not error because allow_undefined_stereo=True): OEMol has unspecified stereochemistry. oemol.GetTitle(): \n",
      "Problematic atoms are:\n",
      "Atom atomic num: 7, name: , idx: 32, aromatic: False, chiral: True with bonds:\n",
      "bond order: 1, chiral: False to atom atomic num: 6, name: , idx: 31, aromatic: True, chiral: False\n",
      "bond order: 1, chiral: False to atom atomic num: 6, name: , idx: 41, aromatic: False, chiral: False\n",
      "bond order: 1, chiral: False to atom atomic num: 6, name: , idx: 33, aromatic: False, chiral: False\n",
      "Atom atomic num: 6, name: , idx: 35, aromatic: False, chiral: True with bonds:\n",
      "bond order: 1, chiral: False to atom atomic num: 6, name: , idx: 34, aromatic: False, chiral: False\n",
      "bond order: 1, chiral: False to atom atomic num: 6, name: , idx: 40, aromatic: False, chiral: False\n",
      "bond order: 1, chiral: False to atom atomic num: 6, name: , idx: 36, aromatic: False, chiral: False\n",
      "bond order: 1, chiral: False to atom atomic num: 6, name: , idx: 41, aromatic: False, chiral: False\n",
      "Atom atomic num: 7, name: , idx: 38, aromatic: False, chiral: True with bonds:\n",
      "bond order: 1, chiral: False to atom atomic num: 6, name: , idx: 37, aromatic: False, chiral: False\n",
      "bond order: 1, chiral: False to atom atomic num: 6, name: , idx: 39, aromatic: False, chiral: False\n",
      "bond order: 1, chiral: False to atom atomic num: 6, name: , idx: 40, aromatic: False, chiral: False\n",
      "\n"
     ]
    },
    {
     "name": "stderr",
     "output_type": "stream",
     "text": [
      "Warning (not error because allow_undefined_stereo=True): OEMol has unspecified stereochemistry. oemol.GetTitle(): \n",
      "Problematic atoms are:\n",
      "Atom atomic num: 6, name: , idx: 14, aromatic: False, chiral: True with bonds:\n",
      "bond order: 1, chiral: False to atom atomic num: 6, name: , idx: 13, aromatic: False, chiral: False\n",
      "bond order: 1, chiral: False to atom atomic num: 7, name: , idx: 3, aromatic: False, chiral: False\n",
      "bond order: 1, chiral: False to atom atomic num: 6, name: , idx: 15, aromatic: True, chiral: False\n",
      "bond order: 1, chiral: False to atom atomic num: 1, name: , idx: 33, aromatic: False, chiral: False\n",
      "\n"
     ]
    },
    {
     "name": "stderr",
     "output_type": "stream",
     "text": [
      "Warning (not error because allow_undefined_stereo=True): OEMol has unspecified stereochemistry. oemol.GetTitle(): \n",
      "Problematic atoms are:\n",
      "Atom atomic num: 7, name: , idx: 27, aromatic: False, chiral: True with bonds:\n",
      "bond order: 1, chiral: False to atom atomic num: 6, name: , idx: 26, aromatic: False, chiral: False\n",
      "bond order: 1, chiral: False to atom atomic num: 6, name: , idx: 28, aromatic: False, chiral: False\n",
      "bond order: 1, chiral: False to atom atomic num: 6, name: , idx: 29, aromatic: False, chiral: False\n",
      "\n"
     ]
    },
    {
     "name": "stderr",
     "output_type": "stream",
     "text": [
      "Warning (not error because allow_undefined_stereo=True): OEMol has unspecified stereochemistry. oemol.GetTitle(): \n",
      "Problematic atoms are:\n",
      "Atom atomic num: 6, name: , idx: 3, aromatic: False, chiral: True with bonds:\n",
      "bond order: 1, chiral: False to atom atomic num: 8, name: , idx: 2, aromatic: False, chiral: False\n",
      "bond order: 1, chiral: False to atom atomic num: 6, name: , idx: 4, aromatic: False, chiral: False\n",
      "bond order: 1, chiral: False to atom atomic num: 8, name: , idx: 5, aromatic: False, chiral: False\n",
      "bond order: 1, chiral: False to atom atomic num: 1, name: , idx: 36, aromatic: False, chiral: False\n",
      "\n"
     ]
    },
    {
     "name": "stderr",
     "output_type": "stream",
     "text": [
      "Warning (not error because allow_undefined_stereo=True): OEMol has unspecified stereochemistry. oemol.GetTitle(): \n",
      "Problematic atoms are:\n",
      "Atom atomic num: 7, name: , idx: 22, aromatic: False, chiral: True with bonds:\n",
      "bond order: 1, chiral: False to atom atomic num: 6, name: , idx: 21, aromatic: False, chiral: False\n",
      "bond order: 1, chiral: False to atom atomic num: 6, name: , idx: 23, aromatic: False, chiral: False\n",
      "bond order: 1, chiral: False to atom atomic num: 6, name: , idx: 28, aromatic: False, chiral: True\n",
      "\n"
     ]
    },
    {
     "name": "stderr",
     "output_type": "stream",
     "text": [
      "Warning (not error because allow_undefined_stereo=True): OEMol has unspecified stereochemistry. oemol.GetTitle(): \n",
      "Problematic atoms are:\n",
      "Atom atomic num: 6, name: , idx: 4, aromatic: False, chiral: True with bonds:\n",
      "bond order: 1, chiral: False to atom atomic num: 6, name: , idx: 3, aromatic: False, chiral: False\n",
      "bond order: 1, chiral: False to atom atomic num: 6, name: , idx: 5, aromatic: False, chiral: False\n",
      "bond order: 1, chiral: False to atom atomic num: 6, name: , idx: 13, aromatic: False, chiral: False\n",
      "bond order: 1, chiral: False to atom atomic num: 1, name: , idx: 38, aromatic: False, chiral: False\n",
      "\n"
     ]
    },
    {
     "name": "stderr",
     "output_type": "stream",
     "text": [
      "Warning (not error because allow_undefined_stereo=True): OEMol has unspecified stereochemistry. oemol.GetTitle(): \n",
      "Problematic atoms are:\n",
      "Atom atomic num: 6, name: , idx: 3, aromatic: False, chiral: True with bonds:\n",
      "bond order: 1, chiral: False to atom atomic num: 7, name: , idx: 2, aromatic: False, chiral: False\n",
      "bond order: 1, chiral: False to atom atomic num: 6, name: , idx: 4, aromatic: False, chiral: False\n",
      "bond order: 1, chiral: False to atom atomic num: 6, name: , idx: 6, aromatic: False, chiral: False\n",
      "bond order: 1, chiral: False to atom atomic num: 1, name: , idx: 24, aromatic: False, chiral: False\n",
      "\n"
     ]
    },
    {
     "name": "stderr",
     "output_type": "stream",
     "text": [
      "Warning (not error because allow_undefined_stereo=True): OEMol has unspecified stereochemistry. oemol.GetTitle(): \n",
      "Problematic atoms are:\n",
      "Atom atomic num: 6, name: , idx: 21, aromatic: False, chiral: True with bonds:\n",
      "bond order: 1, chiral: False to atom atomic num: 6, name: , idx: 15, aromatic: False, chiral: False\n",
      "bond order: 1, chiral: False to atom atomic num: 6, name: , idx: 4, aromatic: False, chiral: False\n",
      "bond order: 1, chiral: False to atom atomic num: 6, name: , idx: 22, aromatic: False, chiral: False\n",
      "bond order: 1, chiral: False to atom atomic num: 1, name: , idx: 50, aromatic: False, chiral: False\n",
      "\n"
     ]
    }
   ],
   "source": [
    "%%capture --no-display\n",
    "# to hide warnings\n",
    "\n",
    "aggregated_pipeline.featurize(dataset.systems, **FEATURIZE_KWARGS);"
   ]
  },
  {
   "cell_type": "markdown",
   "metadata": {
    "papermill": {
     "duration": 0.017649,
     "end_time": "2023-11-01T15:27:28.141829",
     "exception": false,
     "start_time": "2023-11-01T15:27:28.124180",
     "status": "completed"
    },
    "tags": []
   },
   "source": [
    "### Filter"
   ]
  },
  {
   "cell_type": "markdown",
   "metadata": {
    "papermill": {
     "duration": 0.017523,
     "end_time": "2023-11-01T15:27:28.177286",
     "exception": false,
     "start_time": "2023-11-01T15:27:28.159763",
     "status": "completed"
    },
    "tags": []
   },
   "source": [
    "Remove systems that couldn't be featurized. Successful featurizations are stored in `measurement.system.featurizations['last']` so we test for that key existence."
   ]
  },
  {
   "cell_type": "code",
   "execution_count": 12,
   "metadata": {
    "papermill": {
     "duration": 0.027352,
     "end_time": "2023-11-01T15:27:28.222175",
     "exception": false,
     "start_time": "2023-11-01T15:27:28.194823",
     "status": "completed"
    },
    "tags": []
   },
   "outputs": [],
   "source": [
    "from kinoml.datasets.groups import CallableGrouper, RandomGrouper\n",
    "grouper = CallableGrouper(lambda measurement: 'invalid' if 'last' not in measurement.system.featurizations else 'valid')\n",
    "grouper.assign(dataset, overwrite=True, progress=False)\n",
    "groups = dataset.split_by_groups()\n",
    "if \"invalid\" in groups:\n",
    "    _invalid = groups.pop(\"invalid\")\n",
    "    warn(f\"{len(_invalid)} entries could not be featurized!. Possible errors:\")\n",
    "    warn(f\"{_invalid[0].system.featurizations}\")"
   ]
  },
  {
   "cell_type": "markdown",
   "metadata": {
    "papermill": {
     "duration": 0.018511,
     "end_time": "2023-11-01T15:27:28.258900",
     "exception": false,
     "start_time": "2023-11-01T15:27:28.240389",
     "status": "completed"
    },
    "tags": []
   },
   "source": [
    "### Groups\n",
    "\n",
    "Cumulatively apply groups."
   ]
  },
  {
   "cell_type": "code",
   "execution_count": 13,
   "metadata": {
    "papermill": {
     "duration": 0.025957,
     "end_time": "2023-11-01T15:27:28.303483",
     "exception": false,
     "start_time": "2023-11-01T15:27:28.277526",
     "status": "completed"
    },
    "tags": []
   },
   "outputs": [
    {
     "name": "stdout",
     "output_type": "stream",
     "text": [
      "10 groups to show keys:\n",
      "('valid', 'P00533', 'pIC50Measurement')\n",
      "('valid', 'P00533', 'pKdMeasurement')\n",
      "('valid', 'P00533', 'pKiMeasurement')\n"
     ]
    }
   ],
   "source": [
    "groups[(\"valid\",)] = groups.pop(\"valid\")\n",
    "if GROUPS:\n",
    "    for grouper_str, grouper_kwargs in GROUPS:\n",
    "        grouper_cls = import_object(grouper_str)\n",
    "        ## We need this because lambda functions are not JSON-serializable\n",
    "        if issubclass(grouper_cls, CallableGrouper):\n",
    "            for k, v in list(grouper_kwargs.items()):\n",
    "                if k == \"function\" and isinstance(v, str):\n",
    "                    grouper_kwargs[k] = eval(v)  # sorry :)\n",
    "        ## End of lambda hack\n",
    "        grouper = grouper_cls(**grouper_kwargs)        \n",
    "        for group_key in list(groups.keys()):\n",
    "            grouper.assign(groups[group_key], overwrite=True, progress=False)\n",
    "            for subkey, subgroup in groups.pop(group_key).split_by_groups().items():\n",
    "                groups[group_key + (subkey,)] = subgroup\n",
    "print(\"10 groups to show keys:\", *list(groups.keys())[:10], sep=\"\\n\")"
   ]
  },
  {
   "cell_type": "markdown",
   "metadata": {
    "papermill": {
     "duration": 0.017065,
     "end_time": "2023-11-01T15:27:28.338027",
     "exception": false,
     "start_time": "2023-11-01T15:27:28.320962",
     "status": "completed"
    },
    "tags": []
   },
   "source": [
    "### Write tensors to disk\n",
    "\n",
    "Output files are written to `_output/<PIPELINE>/<DATASET>/<GROUP>.parquet` files.\n",
    "\n",
    "Each `parquet` will contain at least two array-like objects. The dimensionality of the parquet files is built as `(systems, X_or_y, ...)`. For example, the first X vector for the first system is accessed like `parquet[0, \"0\"]`. Notice how the 2nd index is a string! (`awkward` design).\n",
    "\n",
    "- `\"0\"` (X, featurized systems). See `DatasetProvider.to_awkward` for more info.\n",
    "- `\"1\"` (y, associated measurements)\n",
    "\n",
    "If `X` is composed of more than one array (e.g. connectivity matrix + node features), these are flattened to `\"0\"`, `\"1\"`, `\"2\"`, and so on. `y` is ALWAYS the last one in that list (accessible via `data.fields`)"
   ]
  },
  {
   "cell_type": "code",
   "execution_count": 14,
   "metadata": {
    "papermill": {
     "duration": 31.673706,
     "end_time": "2023-11-01T15:28:00.028555",
     "exception": false,
     "start_time": "2023-11-01T15:27:28.354849",
     "status": "completed"
    },
    "tags": []
   },
   "outputs": [],
   "source": [
    "random_grouper = RandomGrouper(TRAIN_TEST_VAL_KWARGS)\n",
    "\n",
    "parquets = []\n",
    "for group, ds in sorted(groups.items(), key=lambda kv: len(kv[1]), reverse=True):\n",
    "    indices = random_grouper.indices(ds)\n",
    "    X, y = ds.to_awkward()\n",
    "    parquet = ak.zip([*X, y], depth_limit=1)\n",
    "    path = OUT / f\"{'__'.join([g for g in group if g != 'valid'])}.parquet\"\n",
    "    parquets.append(path)\n",
    "    ak.to_parquet(parquet, path)\n",
    "    # TODO: Missing indices?"
   ]
  },
  {
   "cell_type": "markdown",
   "metadata": {
    "papermill": {
     "duration": 0.017289,
     "end_time": "2023-11-01T15:28:00.062756",
     "exception": false,
     "start_time": "2023-11-01T15:28:00.045467",
     "status": "completed"
    },
    "tags": []
   },
   "source": [
    "Preview generated Parquet files:"
   ]
  },
  {
   "cell_type": "code",
   "execution_count": 15,
   "metadata": {
    "papermill": {
     "duration": 0.061184,
     "end_time": "2023-11-01T15:28:00.140684",
     "exception": false,
     "start_time": "2023-11-01T15:28:00.079500",
     "status": "completed"
    },
    "tags": []
   },
   "outputs": [
    {
     "data": {
      "text/plain": [
       "<Array [([[...], ...], 6.14), ..., (..., ...)] type='947 * (var * var * flo...'>"
      ]
     },
     "execution_count": 15,
     "metadata": {},
     "output_type": "execute_result"
    }
   ],
   "source": [
    "from kinoml.datasets.torch_datasets import AwkwardArrayDataset\n",
    "awk = AwkwardArrayDataset.from_parquet(parquets[0])\n",
    "awk"
   ]
  },
  {
   "cell_type": "code",
   "execution_count": 16,
   "metadata": {
    "papermill": {
     "duration": 0.022168,
     "end_time": "2023-11-01T15:28:00.180106",
     "exception": false,
     "start_time": "2023-11-01T15:28:00.157938",
     "status": "completed"
    },
    "tags": []
   },
   "outputs": [],
   "source": [
    "# X, y = awk[0]  # (multi-X) and y tensors for first system"
   ]
  },
  {
   "cell_type": "code",
   "execution_count": 17,
   "metadata": {
    "papermill": {
     "duration": 0.023498,
     "end_time": "2023-11-01T15:28:00.222502",
     "exception": false,
     "start_time": "2023-11-01T15:28:00.199004",
     "status": "completed"
    },
    "tags": []
   },
   "outputs": [],
   "source": [
    "# X"
   ]
  },
  {
   "cell_type": "code",
   "execution_count": 18,
   "metadata": {
    "papermill": {
     "duration": 0.023163,
     "end_time": "2023-11-01T15:28:00.264603",
     "exception": false,
     "start_time": "2023-11-01T15:28:00.241440",
     "status": "completed"
    },
    "tags": []
   },
   "outputs": [],
   "source": [
    "# y"
   ]
  },
  {
   "cell_type": "code",
   "execution_count": 19,
   "metadata": {
    "papermill": {
     "duration": 0.023762,
     "end_time": "2023-11-01T15:28:00.307429",
     "exception": false,
     "start_time": "2023-11-01T15:28:00.283667",
     "status": "completed"
    },
    "tags": []
   },
   "outputs": [
    {
     "name": "stdout",
     "output_type": "stream",
     "text": [
      "Run finished at 2023-11-06 10:15:40.593058\n"
     ]
    }
   ],
   "source": [
    "print(\"Run finished at\", datetime.now())"
   ]
  },
  {
   "cell_type": "markdown",
   "metadata": {
    "papermill": {
     "duration": 0.019404,
     "end_time": "2023-11-01T15:28:00.346444",
     "exception": false,
     "start_time": "2023-11-01T15:28:00.327040",
     "status": "completed"
    },
    "tags": []
   },
   "source": [
    "### Reproducibility logs"
   ]
  },
  {
   "cell_type": "code",
   "execution_count": 20,
   "metadata": {
    "papermill": {
     "duration": 0.023764,
     "end_time": "2023-11-01T15:28:00.389625",
     "exception": false,
     "start_time": "2023-11-01T15:28:00.365861",
     "status": "completed"
    },
    "tags": []
   },
   "outputs": [],
   "source": [
    "# Free some memory first\n",
    "del awk, parquets, groups, dataset"
   ]
  },
  {
   "cell_type": "code",
   "execution_count": 21,
   "metadata": {
    "papermill": {
     "duration": 3.431168,
     "end_time": "2023-11-01T15:28:03.839974",
     "exception": false,
     "start_time": "2023-11-01T15:28:00.408806",
     "status": "completed"
    },
    "tags": []
   },
   "outputs": [
    {
     "name": "stdout",
     "output_type": "stream",
     "text": [
      "Watermark\n",
      "---------\n",
      "Last updated: 2023-11-06T10:15:40.605328+01:00\n",
      "\n",
      "Python implementation: CPython\n",
      "Python version       : 3.9.18\n",
      "IPython version      : 8.15.0\n",
      "\n",
      "Compiler    : GCC 12.3.0\n",
      "OS          : Linux\n",
      "Release     : 6.2.0-36-generic\n",
      "Machine     : x86_64\n",
      "Processor   : x86_64\n",
      "CPU cores   : 16\n",
      "Architecture: 64bit\n",
      "\n",
      "Hostname: aleph\n",
      "\n",
      "Git hash: d2352d6e07d594ed9fd973b544529f89feb82d78\n",
      "\n",
      "sys    : 3.9.18 | packaged by conda-forge | (main, Aug 30 2023, 03:49:32) \n",
      "[GCC 12.3.0]\n",
      "numpy  : 1.26.0\n",
      "awkward: 2.4.6\n",
      "\n",
      "Watermark: 2.4.3\n",
      "\n",
      "\n",
      "nvidia-smi\n",
      "----------\n",
      "stdout:\n",
      "Mon Nov  6 10:15:40 2023       \n",
      "+-----------------------------------------------------------------------------+\n",
      "| NVIDIA-SMI 525.125.06   Driver Version: 525.125.06   CUDA Version: 12.0     |\n",
      "|-------------------------------+----------------------+----------------------+\n",
      "| GPU  Name        Persistence-M| Bus-Id        Disp.A | Volatile Uncorr. ECC |\n",
      "| Fan  Temp  Perf  Pwr:Usage/Cap|         Memory-Usage | GPU-Util  Compute M. |\n",
      "|                               |                      |               MIG M. |\n",
      "|===============================+======================+======================|\n",
      "|   0  NVIDIA GeForce ...  Off  | 00000000:01:00.0  On |                  N/A |\n",
      "| N/A   57C    P8    17W /  10W |     46MiB / 16384MiB |     18%      Default |\n",
      "|                               |                      |                  N/A |\n",
      "+-------------------------------+----------------------+----------------------+\n",
      "                                                                               \n",
      "+-----------------------------------------------------------------------------+\n",
      "| Processes:                                                                  |\n",
      "|  GPU   GI   CI        PID   Type   Process name                  GPU Memory |\n",
      "|        ID   ID                                                   Usage      |\n",
      "|=============================================================================|\n",
      "|    0   N/A  N/A      1247      G   /usr/lib/xorg/Xorg                 45MiB |\n",
      "+-----------------------------------------------------------------------------+\n",
      "\n",
      "conda info\n",
      "----------\n",
      "sys.version: 3.11.5 (main, Sep 11 2023, 13:54:46) [GC...\n",
      "sys.prefix: /home/raquellrdc/anaconda3\n",
      "sys.executable: /home/raquellrdc/anaconda3/bin/python\n",
      "conda location: /home/raquellrdc/anaconda3/lib/python3.11/site-packages/conda\n",
      "conda-build: /home/raquellrdc/anaconda3/bin/conda-build\n",
      "conda-content-trust: /home/raquellrdc/anaconda3/bin/conda-content-trust\n",
      "conda-convert: /home/raquellrdc/anaconda3/bin/conda-convert\n",
      "conda-debug: /home/raquellrdc/anaconda3/bin/conda-debug\n",
      "conda-develop: /home/raquellrdc/anaconda3/bin/conda-develop\n",
      "conda-env: /home/raquellrdc/anaconda3/bin/conda-env\n",
      "conda-index: /home/raquellrdc/anaconda3/bin/conda-index\n",
      "conda-inspect: /home/raquellrdc/anaconda3/bin/conda-inspect\n",
      "conda-metapackage: /home/raquellrdc/anaconda3/bin/conda-metapackage\n",
      "conda-pack: /home/raquellrdc/anaconda3/bin/conda-pack\n",
      "conda-render: /home/raquellrdc/anaconda3/bin/conda-render\n",
      "conda-repo: /home/raquellrdc/anaconda3/bin/conda-repo\n",
      "conda-server: /home/raquellrdc/anaconda3/bin/conda-server\n",
      "conda-skeleton: /home/raquellrdc/anaconda3/bin/conda-skeleton\n",
      "conda-token: /home/raquellrdc/anaconda3/bin/conda-token\n",
      "conda-verify: /home/raquellrdc/anaconda3/bin/conda-verify\n",
      "user site dirs: ~/.local/lib/python3.10\n",
      "\n",
      "CIO_TEST: <not set>\n",
      "CONDA_DEFAULT_ENV: kinoml_env\n",
      "CONDA_EXE: /home/raquellrdc/anaconda3/bin/conda\n",
      "CONDA_PREFIX: /home/raquellrdc/anaconda3/envs/kinoml_env\n",
      "CONDA_PROMPT_MODIFIER: (kinoml_env) \n",
      "CONDA_PYTHON_EXE: /home/raquellrdc/anaconda3/bin/python\n",
      "CONDA_ROOT: /home/raquellrdc/anaconda3\n",
      "CONDA_SHLVL: 1\n",
      "CURL_CA_BUNDLE: <not set>\n",
      "LD_PRELOAD: <not set>\n",
      "PATH: /home/raquellrdc/anaconda3/envs/kinoml_env/bin:/home/raquellrdc/anaconda3/condabin:/home/raquellrdc/.local/bin:/usr/local/sbin:/usr/local/bin:/usr/sbin:/usr/bin:/sbin:/bin:/usr/games:/usr/local/games:/snap/bin\n",
      "PYTHONHASHSEED: 1234\n",
      "REQUESTS_CA_BUNDLE: <not set>\n",
      "SSL_CERT_FILE: <not set>\n",
      "XDG_SEAT_PATH: /org/freedesktop/DisplayManager/Seat0\n",
      "XDG_SESSION_PATH: /org/freedesktop/DisplayManager/Session1\n",
      "\n",
      "conda list\n",
      "----------\n",
      "# packages in environment at /home/raquellrdc/anaconda3/envs/kinoml_env:\n",
      "#\n",
      "# Name                    Version                   Build  Channel\n",
      "_libgcc_mutex             0.1                 conda_forge    conda-forge\n",
      "_openmp_mutex             4.5                       2_gnu    conda-forge\n",
      "_py-xgboost-mutex         2.0                       gpu_0    conda-forge\n",
      "alabaster                 0.7.13                   pypi_0    pypi\n",
      "ambertools                23.3             py39h7fa913e_4    conda-forge\n",
      "amberutils                21.0                     pypi_0    pypi\n",
      "ansiwrap                  0.8.4                      py_0    conda-forge\n",
      "anyio                     3.5.0            py39h06a4308_0  \n",
      "appdirs                   1.4.4              pyh9f0ad1d_0    conda-forge\n",
      "argon2-cffi               21.3.0             pyhd3eb1b0_0  \n",
      "argon2-cffi-bindings      21.2.0           py39h7f8727e_0  \n",
      "arpack                    3.8.0           nompi_h0baa96a_101    conda-forge\n",
      "arrow                     1.3.0              pyhd8ed1ab_0    conda-forge\n",
      "asttokens                 2.0.5              pyhd3eb1b0_0  \n",
      "astunparse                1.6.3              pyhd8ed1ab_0    conda-forge\n",
      "async-lru                 2.0.4              pyhd8ed1ab_0    conda-forge\n",
      "attrs                     23.1.0           py39h06a4308_0  \n",
      "awkward                   2.4.6              pyhd8ed1ab_0    conda-forge\n",
      "awkward-cpp               24               py39h7633fee_0    conda-forge\n",
      "aws-c-auth                0.7.4                h1083cbe_2    conda-forge\n",
      "aws-c-cal                 0.6.2                h09139f6_2    conda-forge\n",
      "aws-c-common              0.9.3                hd590300_0    conda-forge\n",
      "aws-c-compression         0.2.17               h184a658_3    conda-forge\n",
      "aws-c-event-stream        0.3.2                h6fea174_2    conda-forge\n",
      "aws-c-http                0.7.13               hb59894b_2    conda-forge\n",
      "aws-c-io                  0.13.33              h161b759_0    conda-forge\n",
      "aws-c-mqtt                0.9.7                h55cd26b_0    conda-forge\n",
      "aws-c-s3                  0.3.17               hfb4bb88_4    conda-forge\n",
      "aws-c-sdkutils            0.1.12               h184a658_2    conda-forge\n",
      "aws-checksums             0.1.17               h184a658_2    conda-forge\n",
      "aws-crt-cpp               0.24.2               ha28989d_2    conda-forge\n",
      "aws-sdk-cpp               1.11.156             h314d761_4    conda-forge\n",
      "babel                     2.11.0           py39h06a4308_0  \n",
      "backcall                  0.2.0              pyhd3eb1b0_0  \n",
      "beautifulsoup4            4.12.2           py39h06a4308_0  \n",
      "biopandas                 0.4.1              pyhd8ed1ab_1    conda-forge\n",
      "biopython                 1.77             py39h27cfd23_0  \n",
      "biotite                   0.38.0           py39h44dd56e_0    conda-forge\n",
      "black                     23.3.0           py39h06a4308_0  \n",
      "blas                      1.0                         mkl  \n",
      "bleach                    4.1.0              pyhd3eb1b0_0  \n",
      "blosc                     1.21.5               h0f2a231_0    conda-forge\n",
      "bokeh                     3.2.1            py39h2f386ee_0  \n",
      "bravado                   11.0.3             pyhd8ed1ab_0    conda-forge\n",
      "bravado-core              5.17.1             pyhd8ed1ab_0    conda-forge\n",
      "brotli                    1.0.9                he6710b0_2  \n",
      "brotli-python             1.0.9            py39h6a678d5_7  \n",
      "bzip2                     1.0.8                h7b6447c_0  \n",
      "c-ares                    1.20.1               hd590300_0    conda-forge\n",
      "c-blosc2                  2.10.5               hb4ffafa_0    conda-forge\n",
      "ca-certificates           2023.08.22           h06a4308_0  \n",
      "cached-property           1.5.2                hd8ed1ab_1    conda-forge\n",
      "cached_property           1.5.2              pyha770c72_1    conda-forge\n",
      "cachetools                5.3.1              pyhd8ed1ab_0    conda-forge\n",
      "cairo                     1.18.0               h3faef2a_0    conda-forge\n",
      "certifi                   2023.7.22        py39h06a4308_0  \n",
      "cffi                      1.15.1           py39h5eee18b_3  \n",
      "cftime                    1.6.2            py39h7deecbd_0  \n",
      "charset-normalizer        2.0.4              pyhd3eb1b0_0  \n",
      "click                     8.0.4            py39h06a4308_0  \n",
      "cloudpickle               2.2.1            py39h06a4308_0  \n",
      "codecov                   2.1.13             pyhd8ed1ab_0    conda-forge\n",
      "colorama                  0.4.6            py39h06a4308_0  \n",
      "comm                      0.1.2            py39h06a4308_0  \n",
      "contourpy                 1.0.5            py39hdb19cb5_0  \n",
      "coverage                  7.2.2            py39h5eee18b_0  \n",
      "cpuonly                   2.0                           0    pytorch\n",
      "cuda-version              11.8                 h70ddcb2_2    conda-forge\n",
      "cudatoolkit               11.8.0              h4ba93d1_12    conda-forge\n",
      "cycler                    0.11.0             pyhd3eb1b0_0  \n",
      "cytoolz                   0.12.0           py39h5eee18b_0  \n",
      "dask                      2023.10.0          pyhd8ed1ab_0    conda-forge\n",
      "dask-core                 2023.10.0          pyhd8ed1ab_0    conda-forge\n",
      "dask-jobqueue             0.8.2              pyhd8ed1ab_0    conda-forge\n",
      "debugpy                   1.6.7            py39h6a678d5_0  \n",
      "decorator                 5.1.1              pyhd3eb1b0_0  \n",
      "defusedxml                0.7.1              pyhd3eb1b0_0  \n",
      "distributed               2023.10.0          pyhd8ed1ab_0    conda-forge\n",
      "docker-pycreds            0.4.0                    pypi_0    pypi\n",
      "docutils                  0.20.1                   pypi_0    pypi\n",
      "edgembar                  0.2                      pypi_0    pypi\n",
      "entrypoints               0.4              py39h06a4308_0  \n",
      "exceptiongroup            1.0.4            py39h06a4308_0  \n",
      "execnet                   1.9.0              pyhd3eb1b0_0  \n",
      "executing                 0.8.3              pyhd3eb1b0_0  \n",
      "expat                     2.5.0                h6a678d5_0  \n",
      "fasteners                 0.16.3             pyhd3eb1b0_0  \n",
      "fftw                      3.3.10          nompi_hc118613_108    conda-forge\n",
      "filelock                  3.9.0            py39h06a4308_0  \n",
      "font-ttf-dejavu-sans-mono 2.37                 hd3eb1b0_0  \n",
      "font-ttf-inconsolata      2.001                hcb22688_0  \n",
      "font-ttf-source-code-pro  2.030                hd3eb1b0_0  \n",
      "font-ttf-ubuntu           0.83                 h8b1ccd4_0  \n",
      "fontconfig                2.14.2               h14ed4e7_0    conda-forge\n",
      "fonts-anaconda            1                    h8fa9717_0  \n",
      "fonts-conda-ecosystem     1                    hd3eb1b0_0  \n",
      "fonttools                 4.25.0             pyhd3eb1b0_0  \n",
      "fqdn                      1.5.1              pyhd8ed1ab_0    conda-forge\n",
      "freetype                  2.12.1               h4a9f257_0  \n",
      "fsspec                    2023.9.2         py39h06a4308_0  \n",
      "gettext                   0.21.1               h27087fc_0    conda-forge\n",
      "gflags                    2.2.2                he6710b0_0  \n",
      "giflib                    5.2.1                h5eee18b_3  \n",
      "gitdb                     4.0.11                   pypi_0    pypi\n",
      "gitpython                 3.1.40                   pypi_0    pypi\n",
      "glog                      0.6.0                h6f12383_0    conda-forge\n",
      "gmp                       6.2.1                h295c915_3  \n",
      "gmpy2                     2.1.2            py39heeb90bb_0  \n",
      "greenlet                  2.0.1            py39h6a678d5_0  \n",
      "griddataformats           1.0.1              pyhd8ed1ab_0    conda-forge\n",
      "gsd                       3.2.0            py39h44dd56e_0    conda-forge\n",
      "h5py                      3.10.0          nompi_py39h87cadad_100    conda-forge\n",
      "hdf4                      4.2.15               h9772cbc_5    conda-forge\n",
      "hdf5                      1.14.2          nompi_h4f84152_100    conda-forge\n",
      "heapdict                  1.0.1              pyhd3eb1b0_0  \n",
      "icu                       73.2                 h59595ed_0    conda-forge\n",
      "idna                      3.4              py39h06a4308_0  \n",
      "imagesize                 1.4.1                    pypi_0    pypi\n",
      "importlib-metadata        6.0.0            py39h06a4308_0  \n",
      "importlib-resources       6.1.0              pyhd8ed1ab_0    conda-forge\n",
      "importlib_metadata        6.0.0                hd3eb1b0_0  \n",
      "importlib_resources       6.1.0              pyhd8ed1ab_0    conda-forge\n",
      "iniconfig                 1.1.1              pyhd3eb1b0_0  \n",
      "intel-openmp              2023.1.0         hdb19cb5_46305  \n",
      "ipykernel                 6.25.0           py39h2f386ee_0  \n",
      "ipython                   8.15.0           py39h06a4308_0  \n",
      "ipython_genutils          0.2.0              pyhd3eb1b0_1  \n",
      "ipywidgets                8.0.4            py39h06a4308_0  \n",
      "isoduration               20.11.0            pyhd8ed1ab_0    conda-forge\n",
      "jedi                      0.18.1           py39h06a4308_1  \n",
      "jinja2                    3.1.2            py39h06a4308_0  \n",
      "joblib                    1.2.0            py39h06a4308_0  \n",
      "jpeg                      9e                   h5eee18b_1  \n",
      "json5                     0.9.6              pyhd3eb1b0_0  \n",
      "jsonpointer               2.4              py39hf3d152e_3    conda-forge\n",
      "jsonref                   0.2                        py_0    conda-forge\n",
      "jsonschema                4.19.1             pyhd8ed1ab_0    conda-forge\n",
      "jsonschema-specifications 2023.7.1           pyhd8ed1ab_0    conda-forge\n",
      "jsonschema-with-format-nongpl 4.19.1             pyhd8ed1ab_0    conda-forge\n",
      "jupyter-lsp               2.2.0              pyhd8ed1ab_0    conda-forge\n",
      "jupyter_client            7.4.9            py39h06a4308_0  \n",
      "jupyter_core              5.3.0            py39h06a4308_0  \n",
      "jupyter_events            0.7.0              pyhd8ed1ab_2    conda-forge\n",
      "jupyter_server            2.7.3              pyhd8ed1ab_1    conda-forge\n",
      "jupyter_server_terminals  0.4.4              pyhd8ed1ab_1    conda-forge\n",
      "jupyterlab                4.0.7              pyhd8ed1ab_0    conda-forge\n",
      "jupyterlab_pygments       0.1.2                      py_0  \n",
      "jupyterlab_server         2.25.0             pyhd8ed1ab_0    conda-forge\n",
      "jupyterlab_widgets        3.0.9              pyhd8ed1ab_0    conda-forge\n",
      "kinoml                    0+unknown                pypi_0    pypi\n",
      "kiwisolver                1.4.4            py39h6a678d5_0  \n",
      "krb5                      1.20.1               h143b758_1  \n",
      "lcms2                     2.12                 h3be6417_0  \n",
      "ld_impl_linux-64          2.38                 h1181459_1  \n",
      "lerc                      3.0                  h295c915_0  \n",
      "libabseil                 20230802.1      cxx17_h59595ed_0    conda-forge\n",
      "libaec                    1.1.2                h59595ed_1    conda-forge\n",
      "libarrow                  13.0.0           h4121bdd_9_cpu    conda-forge\n",
      "libblas                   3.9.0           1_h86c2bf4_netlib    conda-forge\n",
      "libboost                  1.82.0               h109eef0_2  \n",
      "libboost-python           1.82.0           py39hda80f44_6    conda-forge\n",
      "libbrotlicommon           1.1.0                hd590300_1    conda-forge\n",
      "libbrotlidec              1.1.0                hd590300_1    conda-forge\n",
      "libbrotlienc              1.1.0                hd590300_1    conda-forge\n",
      "libcrc32c                 1.1.2                h6a678d5_0  \n",
      "libcurl                   8.4.0                h251f7ec_0  \n",
      "libdeflate                1.17                 h5eee18b_1  \n",
      "libedit                   3.1.20221030         h5eee18b_0  \n",
      "libev                     4.33                 h7f8727e_1  \n",
      "libevent                  2.1.12               hdbd6064_1  \n",
      "libffi                    3.4.4                h6a678d5_0  \n",
      "libgcc-ng                 13.2.0               h807b86a_2    conda-forge\n",
      "libgfortran-ng            13.2.0               h69a702a_2    conda-forge\n",
      "libgfortran5              13.2.0               ha4646dd_2    conda-forge\n",
      "libglib                   2.78.0               hebfc3b9_0    conda-forge\n",
      "libgomp                   13.2.0               h807b86a_2    conda-forge\n",
      "libgoogle-cloud           2.12.0               h19a6dae_3    conda-forge\n",
      "libgrpc                   1.58.1               he06187c_2    conda-forge\n",
      "libiconv                  1.17                 h166bdaf_0    conda-forge\n",
      "liblapack                 3.9.0           5_h92ddd45_netlib    conda-forge\n",
      "libnetcdf                 4.9.2           nompi_h80fb2b6_112    conda-forge\n",
      "libnghttp2                1.57.0               h2d74bed_0  \n",
      "libnsl                    2.0.0                h5eee18b_0  \n",
      "libnuma                   2.0.16               h0b41bf4_1    conda-forge\n",
      "libpng                    1.6.39               h5eee18b_0  \n",
      "libprotobuf               4.24.3               hf27288f_1    conda-forge\n",
      "libre2-11                 2023.06.02           h7a70373_0    conda-forge\n",
      "libsodium                 1.0.18               h7b6447c_0  \n",
      "libsqlite                 3.43.2               h2797004_0    conda-forge\n",
      "libssh2                   1.10.0               hdbd6064_2  \n",
      "libstdcxx-ng              13.2.0               h7e041cc_2    conda-forge\n",
      "libthrift                 0.19.0               hb90f79a_1    conda-forge\n",
      "libtiff                   4.5.1                h6a678d5_0  \n",
      "libutf8proc               2.8.0                h166bdaf_0    conda-forge\n",
      "libuuid                   2.38.1               h0b41bf4_0    conda-forge\n",
      "libwebp                   1.3.2                h11a3e52_0  \n",
      "libwebp-base              1.3.2                h5eee18b_0  \n",
      "libxcb                    1.15                 h7f8727e_0  \n",
      "libxgboost                1.7.6           cuda118h4159b1e_5    conda-forge\n",
      "libxml2                   2.11.5               h232c23b_1    conda-forge\n",
      "libxslt                   1.1.37               h0054252_1    conda-forge\n",
      "libzip                    1.10.1               h2629f0a_3    conda-forge\n",
      "libzlib                   1.2.13               hd590300_5    conda-forge\n",
      "lightning-utilities       0.9.0            py39h06a4308_0  \n",
      "llvm-openmp               14.0.6               h9e868ea_0  \n",
      "locket                    1.0.0            py39h06a4308_0  \n",
      "lxml                      4.9.3            py39hed45dcc_1    conda-forge\n",
      "lz4                       4.3.2            py39h5eee18b_0  \n",
      "lz4-c                     1.9.4                h6a678d5_0  \n",
      "lzo                       2.10              h516909a_1000    conda-forge\n",
      "markupsafe                2.1.1            py39h7f8727e_0  \n",
      "matplotlib-base           3.8.0            py39he9076e7_2    conda-forge\n",
      "matplotlib-inline         0.1.6            py39h06a4308_0  \n",
      "mda-xdrlib                0.2.0              pyhd8ed1ab_0    conda-forge\n",
      "mdanalysis                2.3.0            py39h4661b88_1    conda-forge\n",
      "mdtraj                    1.9.9            py39h031bd0f_0    conda-forge\n",
      "mistune                   0.8.4           py39h27cfd23_1000  \n",
      "mkl                       2023.1.0         h213fc3f_46343  \n",
      "mkl-service               2.4.0            py39h5eee18b_1  \n",
      "mkl_fft                   1.3.8            py39h5eee18b_0  \n",
      "mkl_random                1.2.4            py39hdb19cb5_0  \n",
      "mmpbsa-py                 16.0                     pypi_0    pypi\n",
      "mmtf-python               1.1.3              pyhd8ed1ab_0    conda-forge\n",
      "monotonic                 1.5                        py_0  \n",
      "mpc                       1.1.0                h10f8cd9_1  \n",
      "mpfr                      4.0.2                hb69a4c5_1  \n",
      "mpmath                    1.3.0            py39h06a4308_0  \n",
      "mrcfile                   1.4.3              pyhd8ed1ab_0    conda-forge\n",
      "msgpack-python            1.0.3            py39hd09550d_0  \n",
      "munkres                   1.1.4                      py_0  \n",
      "mypy_extensions           1.0.0            py39h06a4308_0  \n",
      "nbclassic                 0.5.5            py39h06a4308_0  \n",
      "nbclient                  0.5.13           py39h06a4308_0  \n",
      "nbconvert                 6.5.3              pyhd8ed1ab_0    conda-forge\n",
      "nbconvert-core            6.5.3              pyhd8ed1ab_0    conda-forge\n",
      "nbconvert-pandoc          6.5.3              pyhd8ed1ab_0    conda-forge\n",
      "nbformat                  5.9.2            py39h06a4308_0  \n",
      "nbval                     0.10.0             pyhd8ed1ab_0    conda-forge\n",
      "nccl                      2.19.3.1             h6103f9b_0    conda-forge\n",
      "ncurses                   6.4                  h6a678d5_0  \n",
      "nest-asyncio              1.5.6            py39h06a4308_0  \n",
      "netcdf-fortran            4.6.1           nompi_hacb5139_102    conda-forge\n",
      "netcdf4                   1.6.4           nompi_py39h4282601_103    conda-forge\n",
      "networkx                  3.1              py39h06a4308_0  \n",
      "nglview                   3.0.8              pyh1da8cd4_0    conda-forge\n",
      "notebook                  7.0.5              pyhd8ed1ab_0    conda-forge\n",
      "notebook-shim             0.2.2            py39h06a4308_0  \n",
      "numexpr                   2.7.3            py39hde0f152_1    conda-forge\n",
      "numpy                     1.26.0           py39h5f9d8c6_0  \n",
      "numpy-base                1.26.0           py39hb5e798b_0  \n",
      "ocl-icd                   2.3.1                h7f98852_0    conda-forge\n",
      "ocl-icd-system            1.0.0                         1    conda-forge\n",
      "opencadd                  0.2.2              pyhd8ed1ab_0    conda-forge\n",
      "openeye-toolkits          2023.1.1                 py39_0    openeye\n",
      "openff-amber-ff-ports     0.0.3              pyh6c4a22f_0    conda-forge\n",
      "openff-forcefields        2023.08.0          pyh1a96a4e_0    conda-forge\n",
      "openff-interchange        0.2.2              pyhd8ed1ab_0    conda-forge\n",
      "openff-interchange-base   0.2.2              pyhd8ed1ab_0    conda-forge\n",
      "openff-toolkit            0.11.2             pyhd8ed1ab_2    conda-forge\n",
      "openff-toolkit-base       0.11.2             pyhd8ed1ab_2    conda-forge\n",
      "openff-units              0.1.8              pyh1a96a4e_1    conda-forge\n",
      "openff-utilities          0.1.10             pyhd8ed1ab_0    conda-forge\n",
      "openjpeg                  2.4.0                h3ad879b_0  \n",
      "openmm                    8.0.0            py39he81762f_3    conda-forge\n",
      "openssl                   3.1.3                hd590300_0    conda-forge\n",
      "orc                       1.9.0                h208142c_3    conda-forge\n",
      "overrides                 7.4.0              pyhd8ed1ab_0    conda-forge\n",
      "packaging                 23.1             py39h06a4308_0  \n",
      "packmol                   20.010               h86c2bf4_0    conda-forge\n",
      "packmol-memgen            2023.2.24                pypi_0    pypi\n",
      "pandas                    2.1.1            py39hddac248_1    conda-forge\n",
      "pandoc                    2.19.2               h32600fe_2    conda-forge\n",
      "pandocfilters             1.5.0              pyhd3eb1b0_0  \n",
      "panedr                    0.7.2              pyhd8ed1ab_0    conda-forge\n",
      "papermill                 2.2.2              pyhd8ed1ab_0    conda-forge\n",
      "parmed                    4.1.0            py39h227be39_0    conda-forge\n",
      "parso                     0.8.3              pyhd3eb1b0_0  \n",
      "partd                     1.4.0            py39h06a4308_0  \n",
      "pathspec                  0.10.3           py39h06a4308_0  \n",
      "pathtools                 0.1.2                    pypi_0    pypi\n",
      "pbr                       5.11.1             pyhd8ed1ab_0    conda-forge\n",
      "pcre2                     10.40                hc3806b6_0    conda-forge\n",
      "pdb4amber                 22.0                     pypi_0    pypi\n",
      "perl                      5.32.1          4_hd590300_perl5    conda-forge\n",
      "pexpect                   4.8.0              pyhd3eb1b0_3  \n",
      "pickleshare               0.7.5           pyhd3eb1b0_1003  \n",
      "pillow                    10.0.1           py39ha6cbd5a_0  \n",
      "pint                      0.19.2             pyhd8ed1ab_0    conda-forge\n",
      "pip                       23.3               pyhd8ed1ab_0    conda-forge\n",
      "pixman                    0.42.2               h59595ed_0    conda-forge\n",
      "pkgutil-resolve-name      1.3.10             pyhd8ed1ab_1    conda-forge\n",
      "platformdirs              3.10.0           py39h06a4308_0  \n",
      "pluggy                    1.0.0            py39h06a4308_1  \n",
      "prometheus_client         0.14.1           py39h06a4308_0  \n",
      "prompt-toolkit            3.0.36           py39h06a4308_0  \n",
      "protobuf                  4.24.4                   pypi_0    pypi\n",
      "psutil                    5.9.0            py39h5eee18b_0  \n",
      "ptyprocess                0.7.0              pyhd3eb1b0_2  \n",
      "pure_eval                 0.2.2              pyhd3eb1b0_0  \n",
      "py-cpuinfo                9.0.0              pyhd8ed1ab_0    conda-forge\n",
      "py-xgboost                1.7.6           cuda118py39h6e70402_5    conda-forge\n",
      "pyarrow                   13.0.0          py39h6925388_9_cpu    conda-forge\n",
      "pycairo                   1.21.0           py39h287db57_0  \n",
      "pycparser                 2.21               pyhd3eb1b0_0  \n",
      "pydantic                  1.10.13          py39hd1e30aa_0    conda-forge\n",
      "pyedr                     0.7.2              pyhd8ed1ab_0    conda-forge\n",
      "pyg                       2.4.0           py39_torch_2.1.0_cpu    pyg\n",
      "pygments                  2.15.1           py39h06a4308_1  \n",
      "pymsmt                    22.0                     pypi_0    pypi\n",
      "pyparsing                 3.0.9            py39h06a4308_0  \n",
      "pyrsistent                0.18.0           py39heee7806_0  \n",
      "pysocks                   1.7.1            py39h06a4308_0  \n",
      "pytables                  3.9.1            py39hfbd31a7_0    conda-forge\n",
      "pytest                    7.4.2              pyhd8ed1ab_0    conda-forge\n",
      "pytest-cov                4.1.0              pyhd8ed1ab_0    conda-forge\n",
      "pytest-xdist              3.3.1              pyhd8ed1ab_0    conda-forge\n",
      "python                    3.9.18          h0755675_0_cpython    conda-forge\n",
      "python-constraint         1.4.0                      py_0    conda-forge\n",
      "python-dateutil           2.8.2              pyhd3eb1b0_0  \n",
      "python-fastjsonschema     2.16.2           py39h06a4308_0  \n",
      "python-json-logger        2.0.7              pyhd8ed1ab_0    conda-forge\n",
      "python-lmdb               1.4.1            py39h6a678d5_0  \n",
      "python-tzdata             2023.3             pyhd3eb1b0_0  \n",
      "python_abi                3.9                      4_cp39    conda-forge\n",
      "pytorch                   2.1.0               py3.9_cpu_0    pytorch\n",
      "pytorch-lightning         2.1.0              pyhd8ed1ab_0    conda-forge\n",
      "pytorch-mutex             1.0                         cpu    pytorch\n",
      "pytraj                    2.0.6                    pypi_0    pypi\n",
      "pytz                      2023.3.post1     py39h06a4308_0  \n",
      "pyyaml                    6.0              py39h5eee18b_1  \n",
      "pyzmq                     25.1.1           py39hb257651_1    conda-forge\n",
      "rdkit                     2023.09.1        py39hce5ca95_0    conda-forge\n",
      "rdma-core                 28.9                 h59595ed_1    conda-forge\n",
      "re2                       2023.06.02           h2873b5e_0    conda-forge\n",
      "readline                  8.2                  h5eee18b_0  \n",
      "referencing               0.30.2             pyhd8ed1ab_0    conda-forge\n",
      "reportlab                 3.5.67           py39hfdd840d_1  \n",
      "requests                  2.31.0             pyhd8ed1ab_0    conda-forge\n",
      "rfc3339-validator         0.1.4              pyhd8ed1ab_0    conda-forge\n",
      "rfc3986-validator         0.1.1              pyh9f0ad1d_0    conda-forge\n",
      "rpds-py                   0.10.6           py39h9fdd4d6_0    conda-forge\n",
      "ruamel.yaml               0.17.35          py39hd1e30aa_0    conda-forge\n",
      "ruamel.yaml.clib          0.2.6            py39h5eee18b_1  \n",
      "s2n                       1.3.54               h06160fa_0    conda-forge\n",
      "sander                    22.0                     pypi_0    pypi\n",
      "scikit-learn              1.3.0            py39h1128e8f_0  \n",
      "scipy                     1.11.3           py39h5f9d8c6_0  \n",
      "seaborn                   0.12.2           py39h06a4308_0  \n",
      "send2trash                1.8.2              pyh41d4057_0    conda-forge\n",
      "sentry-sdk                1.32.0                   pypi_0    pypi\n",
      "setproctitle              1.3.3                    pypi_0    pypi\n",
      "setuptools                68.0.0           py39h06a4308_0  \n",
      "simplejson                3.17.6           py39h7f8727e_0  \n",
      "six                       1.16.0             pyhd3eb1b0_1  \n",
      "sklearn-pytorch           0.1.0                    pypi_0    pypi\n",
      "smirnoff99frosst          1.1.0              pyh44b312d_0    conda-forge\n",
      "smmap                     5.0.1                    pypi_0    pypi\n",
      "snappy                    1.1.10               h9fff704_0    conda-forge\n",
      "sniffio                   1.2.0            py39h06a4308_1  \n",
      "snowballstemmer           2.2.0                    pypi_0    pypi\n",
      "sortedcontainers          2.4.0              pyhd3eb1b0_0  \n",
      "soupsieve                 2.5              py39h06a4308_0  \n",
      "sphinx                    7.2.6                    pypi_0    pypi\n",
      "sphinxcontrib-applehelp   1.0.7                    pypi_0    pypi\n",
      "sphinxcontrib-devhelp     1.0.5                    pypi_0    pypi\n",
      "sphinxcontrib-htmlhelp    2.0.4                    pypi_0    pypi\n",
      "sphinxcontrib-jsmath      1.0.1                    pypi_0    pypi\n",
      "sphinxcontrib-qthelp      1.0.6                    pypi_0    pypi\n",
      "sphinxcontrib-serializinghtml 1.1.9                    pypi_0    pypi\n",
      "sqlalchemy                2.0.21           py39h5eee18b_0  \n",
      "stack_data                0.2.0              pyhd3eb1b0_0  \n",
      "swagger-spec-validator    3.0.3              pyhd8ed1ab_0    conda-forge\n",
      "sympy                     1.11.1           py39h06a4308_0  \n",
      "tbb                       2021.8.0             hdb19cb5_0  \n",
      "tblib                     1.7.0              pyhd3eb1b0_0  \n",
      "tenacity                  8.2.2            py39h06a4308_0  \n",
      "terminado                 0.17.1           py39h06a4308_0  \n",
      "textwrap3                 0.9.2                      py_0    conda-forge\n",
      "threadpoolctl             2.2.0              pyh0d69192_0  \n",
      "tidynamics                1.1.2              pyhd8ed1ab_0    conda-forge\n",
      "tinycss2                  1.2.1            py39h06a4308_0  \n",
      "tk                        8.6.13               h2797004_0    conda-forge\n",
      "toml                      0.10.2             pyhd3eb1b0_0  \n",
      "tomli                     2.0.1            py39h06a4308_0  \n",
      "toolz                     0.12.0           py39h06a4308_0  \n",
      "torchmetrics              0.11.4           py39h2f386ee_1  \n",
      "torchvision               0.16.0                   pypi_0    pypi\n",
      "tornado                   6.3.3            py39h5eee18b_0  \n",
      "tqdm                      4.66.1             pyhd8ed1ab_0    conda-forge\n",
      "traitlets                 5.7.1            py39h06a4308_0  \n",
      "types-python-dateutil     2.8.19.14          pyhd8ed1ab_0    conda-forge\n",
      "typing                    3.10.0.0         py39h06a4308_0  \n",
      "typing-extensions         4.7.1            py39h06a4308_0  \n",
      "typing_extensions         4.7.1            py39h06a4308_0  \n",
      "typing_utils              0.1.0              pyhd8ed1ab_0    conda-forge\n",
      "tzdata                    2023c                h04d1e81_0  \n",
      "ucx                       1.15.0               h64cca9d_0    conda-forge\n",
      "uri-template              1.3.0              pyhd8ed1ab_0    conda-forge\n",
      "urllib3                   2.0.3            py39h06a4308_0  \n",
      "wandb                     0.15.12                  pypi_0    pypi\n",
      "watermark                 2.4.3              pyhd8ed1ab_0    conda-forge\n",
      "wcwidth                   0.2.5              pyhd3eb1b0_0  \n",
      "webcolors                 1.13               pyhd8ed1ab_0    conda-forge\n",
      "webencodings              0.5.1            py39h06a4308_1  \n",
      "websocket-client          0.58.0           py39h06a4308_4  \n",
      "wheel                     0.41.2           py39h06a4308_0  \n",
      "widgetsnbextension        4.0.5            py39h06a4308_0  \n",
      "xgboost                   1.7.6           cuda118py39h6e70402_5    conda-forge\n",
      "xmltodict                 0.13.0             pyhd8ed1ab_0    conda-forge\n",
      "xorg-kbproto              1.0.7             h7f98852_1002    conda-forge\n",
      "xorg-libice               1.1.1                hd590300_0    conda-forge\n",
      "xorg-libsm                1.2.4                h7391055_0    conda-forge\n",
      "xorg-libx11               1.8.7                h8ee46fc_0    conda-forge\n",
      "xorg-libxext              1.3.4                h0b41bf4_2    conda-forge\n",
      "xorg-libxrender           0.9.11               hd590300_0    conda-forge\n",
      "xorg-libxt                1.3.0                hd590300_1    conda-forge\n",
      "xorg-renderproto          0.11.1            h7f98852_1002    conda-forge\n",
      "xorg-xextproto            7.3.0             h0b41bf4_1003    conda-forge\n",
      "xorg-xproto               7.0.31            h27cfd23_1007  \n",
      "xyzservices               2022.9.0         py39h06a4308_1  \n",
      "xz                        5.4.2                h5eee18b_0  \n",
      "yaml                      0.2.5                h7b6447c_0  \n",
      "zeromq                    4.3.4                h2531618_0  \n",
      "zict                      3.0.0            py39h06a4308_0  \n",
      "zipp                      3.11.0           py39h06a4308_0  \n",
      "zlib                      1.2.13               hd590300_5    conda-forge\n",
      "zlib-ng                   2.0.7                h0b41bf4_0    conda-forge\n",
      "zstd                      1.5.5                hc292b87_0\n"
     ]
    }
   ],
   "source": [
    "from kinoml.utils import watermark\n",
    "w = watermark()"
   ]
  },
  {
   "cell_type": "code",
   "execution_count": 22,
   "metadata": {
    "papermill": {
     "duration": 3.352814,
     "end_time": "2023-11-01T15:28:07.210171",
     "exception": false,
     "start_time": "2023-11-01T15:28:03.857357",
     "status": "completed"
    },
    "tags": []
   },
   "outputs": [],
   "source": [
    "%%capture cap --no-stderr\n",
    "w = watermark()"
   ]
  },
  {
   "cell_type": "code",
   "execution_count": 23,
   "metadata": {
    "papermill": {
     "duration": 0.023487,
     "end_time": "2023-11-01T15:28:07.250977",
     "exception": false,
     "start_time": "2023-11-01T15:28:07.227490",
     "status": "completed"
    },
    "tags": []
   },
   "outputs": [],
   "source": [
    "import json\n",
    "\n",
    "with open(OUT/ \"watermark.txt\", \"w\") as f:\n",
    "    f.write(cap.stdout)\n",
    "\n",
    "with open(OUT / \"hparams.json\", \"w\") as f:\n",
    "    json.dump(_hparams, f, default=str, indent=2)"
   ]
  },
  {
   "cell_type": "markdown",
   "metadata": {},
   "source": [
    "## 2. 💻Run the experiment\n",
    "\n"
   ]
  },
  {
   "cell_type": "markdown",
   "metadata": {},
   "source": [
    "\n",
    "### Train a model with PyTorch\n",
    "\n",
    "\n",
    "Now, we will train a single model using only PyTorch.\n",
    "\n",
    "1. Tensors are loaded from Parquet files generated in the `features/` pipeline. Each Parquet becomes a Torch Dataset sublass.\n",
    "2. Random splits are applied for train/test/(val).\n",
    "3. It will train a single for model for a number of epochs across all datasets: epoch> dataloader> minibatch.\n",
    "4. The loss is computed through the `loss_adapter` method in each measurement_type.\n",
    "5. If validation is enabled, early stopping and LR schedulers are applied."
   ]
  },
  {
   "cell_type": "markdown",
   "metadata": {},
   "source": [
    "### ✏ Define hyper parameters"
   ]
  },
  {
   "cell_type": "code",
   "execution_count": 24,
   "metadata": {},
   "outputs": [],
   "source": [
    "# Parameters\n",
    "PARQUET_LOADER_CLS = \"kinoml.datasets.torch_datasets.AwkwardArrayDataset\"\n",
    "PARQUET_FILES = [\n",
    "    \"ligand-only-smiles-EGFR/_output/ligand__OneHotSMILESFeaturizer__PadFeaturizer_shape=auto/ChEMBLDatasetProvider/*.parquet\"]\n",
    "\n",
    "# Model -- specified with the full import path to the class object\n",
    "## Machine learning model that will be trained. Pass it as importable string.\n",
    "MODEL_CLS = \"kinoml.ml.torch_models.ConvolutionNeuralNetworkRegression\"\n",
    "## Keyword arguments for the model initialization\n",
    "MODEL_KWARGS = {\"hidden_shape\": 350}  # input_shape is defined dynamically during training\n",
    "\n",
    "# OPTIMIZER\n",
    "## Optimizer class. Pass it as an importable string.\n",
    "OPTIMIZER = \"torch.optim.Adam\"\n",
    "## Keyword arguments for the optimizer\n",
    "OPTIMIZER_KWARGS = {\"lr\": 0.001, \"eps\": 1e-7, \"betas\": [0.9, 0.999]}\n",
    "\n",
    "# LOSS FUNCTION\n",
    "## Loss function class. Pass it as an importable string.\n",
    "LOSS = \"torch.nn.MSELoss\"\n",
    "## Keyword arguments for the loss function, if applicable\n",
    "LOSS_KWARGS = {}\n",
    "\n",
    "# TRAINING\n",
    "## Maximum number of epochs the training will run. In practice it might be less due to early stopping\n",
    "MAX_EPOCHS = 50\n",
    "## Enable real-time validation: this will split the test set into two halves: test and validation.\n",
    "## It will also enable LR scheduling and early stopping, based on the validation loss.\n",
    "VALIDATION = True\n",
    "## Options for the builtin early stopper (kinoml.ml.torch_loops.EarlyStopping)\n",
    "EARLY_STOPPING_KWARGS = {}\n",
    "\n",
    "# DATALOADER\n",
    "DATALOADER_CLS = \"torch.utils.data.DataLoader\"  # you can also use torch_geometric.data.DataLoader\n",
    "## Minibatch size\n",
    "BATCH_SIZE = 64\n",
    "## Proportion of the dataset that will be split into a test set. If VALIDATION=True, \n",
    "## this will also cover the validation set. So, 0.2 will mean: 0.8 training, 0.1 test, 0.1 valid.\n",
    "TRAIN_TEST_SPLIT = 0.2\n",
    "## Whether to shuffle the indices before splitting\n",
    "SHUFFLE_SPLITS = True\n",
    "## Read https://pytorch.org/docs/stable/data.html#dataloader-collate-fn\n",
    "## IMPORTANT: This will be needed if your X tensors have different shapes across systems!\n",
    "COLLATE_FN = None\n",
    "\n",
    "# Plot bootstrapping\n",
    "## Bootstrapping iterations for the performance plots\n",
    "N_BOOTSTRAPS = 1\n",
    "## Proportion of the data that is sampled in each iteration\n",
    "BOOTSTRAP_SAMPLE_RATIO = 1\n",
    "\n",
    "# Output\n",
    "## Enable some extra output, like plots and logging statements.\n",
    "VERBOSE = False\n",
    "\n",
    "\n",
    "HERE = _dh[-1] #current path"
   ]
  },
  {
   "cell_type": "markdown",
   "metadata": {},
   "source": [
    "⚠ From here on, you should _not_ need to modify anything else to apply it to your own dataset 🤞\n",
    "\n",
    "---\n",
    "\n",
    "Define key paths for data and outputs:"
   ]
  },
  {
   "cell_type": "code",
   "execution_count": 25,
   "metadata": {},
   "outputs": [
    {
     "name": "stdout",
     "output_type": "stream",
     "text": [
      "This notebook:           HERE = /home/raquellrdc/Desktop/postdoc/kinoml_tech_paper_final/kinoml/examples/experiments/ligand-only-smiles-EGFR\n",
      "This repo:               REPO = /home/raquellrdc/Desktop/postdoc/kinoml_tech_paper_final/kinoml\n",
      "Features:      FEATURES_STORE = /home/raquellrdc/Desktop/postdoc/kinoml_tech_paper_final/kinoml/examples/experiments\n",
      "Outputs in:               OUT = /home/raquellrdc/Desktop/postdoc/kinoml_tech_paper_final/kinoml/examples/experiments/ligand-only-smiles-EGFR/_output/20231106-101546\n"
     ]
    }
   ],
   "source": [
    "from pathlib import Path\n",
    "from datetime import datetime\n",
    "\n",
    "HERE = Path(HERE)\n",
    "\n",
    "for parent in HERE.parents:\n",
    "    if next(parent.glob(\".github/\"), None):\n",
    "        REPO = parent\n",
    "        break\n",
    "\n",
    "FEATURES_STORE = REPO /\"examples\"/\"experiments\"\n",
    "        \n",
    "OUT = HERE / \"_output\" / datetime.now().strftime(\"%Y%m%d-%H%M%S\")\n",
    "OUT.mkdir(parents=True, exist_ok=True)\n",
    "\n",
    "print(f\"This notebook:           HERE = {HERE}\")\n",
    "print(f\"This repo:               REPO = {REPO}\")\n",
    "print(f\"Features:      FEATURES_STORE = {FEATURES_STORE}\")\n",
    "print(f\"Outputs in:               OUT = {OUT}\")"
   ]
  },
  {
   "cell_type": "code",
   "execution_count": 26,
   "metadata": {},
   "outputs": [],
   "source": [
    "# Nasty trick: save all-caps local variables (CONSTANTS working as hyperparameters) so far in a dict to save it later\n",
    "_hparams = {key: value for key, value in locals().items() if key.upper() == key and not key.startswith((\"_\", \"OE_\"))}"
   ]
  },
  {
   "cell_type": "code",
   "execution_count": 27,
   "metadata": {},
   "outputs": [
    {
     "name": "stdout",
     "output_type": "stream",
     "text": [
      "Run started at 2023-11-06 10:15:47.319083\n"
     ]
    }
   ],
   "source": [
    "from collections import defaultdict\n",
    "from warnings import warn\n",
    "import sys\n",
    "import shutil\n",
    "\n",
    "from IPython.display import Markdown\n",
    "import numpy as np\n",
    "import pandas as pd\n",
    "import torch\n",
    "from torch.utils.data import DataLoader, SubsetRandomSampler\n",
    "from tqdm.auto import trange, tqdm\n",
    "\n",
    "from kinoml.ml.torch_loops import LRScheduler, EarlyStopping\n",
    "from kinoml.utils import seed_everything, import_object\n",
    "from kinoml.core import measurements as measurement_types\n",
    "from kinoml.core.measurements import null_observation_model\n",
    "from kinoml.analysis.metrics import performance\n",
    "from kinoml.analysis.plots import predicted_vs_observed\n",
    "\n",
    "# Fix the seed for reproducible random splits -- otherwise we get mixed train/test groups every time, biasing the model evaluation\n",
    "seed_everything();\n",
    "print(\"Run started at\", datetime.now())"
   ]
  },
  {
   "cell_type": "markdown",
   "metadata": {},
   "source": [
    "### Load featurized data and create observation models\n",
    "\n",
    "We assume this path structure: `$REPO/features/_output/<FEATURIZATION>/<DATASET>/<MEASUREMENT_TYPE>.npz`\n"
   ]
  },
  {
   "cell_type": "code",
   "execution_count": 28,
   "metadata": {},
   "outputs": [
    {
     "name": "stdout",
     "output_type": "stream",
     "text": [
      "ligand-only-smiles-EGFR/_output/ligand__OneHotSMILESFeaturizer__PadFeaturizer_shape=auto/ChEMBLDatasetProvider/*.parquet\n"
     ]
    }
   ],
   "source": [
    "DATASETS = []\n",
    "MEASUREMENT_TYPES = set()\n",
    "ParquetLoaderCls = import_object(PARQUET_LOADER_CLS)\n",
    "for glob in PARQUET_FILES:\n",
    "    print(glob)\n",
    "    parquets = list(FEATURES_STORE.glob(glob))\n",
    "    if not parquets:\n",
    "        warn(f\"⚠ Parquet glob `{glob}` did not match any files!\")\n",
    "        continue\n",
    "        \n",
    "    for parquet in parquets:\n",
    "        measurement_type = parquet.stem\n",
    "        dataset = parquet.parent.name\n",
    "        \n",
    "        ds = ParquetLoaderCls.from_parquet(parquet)\n",
    "        ds.metadata = {\n",
    "            \"dataset\": dataset,\n",
    "            \"measurement_type\": measurement_type,\n",
    "        }\n",
    "        DATASETS.append(ds)\n",
    "        MEASUREMENT_TYPES.add(measurement_type)\n",
    "\n",
    "if not DATASETS:\n",
    "    raise ValueError(\"Provided `PARQUET_FILES` did not result in any valid datasets!\")"
   ]
  },
  {
   "cell_type": "markdown",
   "metadata": {},
   "source": [
    "Now that we have all the data-dependent objects, we can start with the model-specific definitions."
   ]
  },
  {
   "cell_type": "code",
   "execution_count": 29,
   "metadata": {},
   "outputs": [
    {
     "name": "stdout",
     "output_type": "stream",
     "text": [
      "Loaded 3 datasets with a total of 1000 measurements.\n"
     ]
    }
   ],
   "source": [
    "print(f\"Loaded {len(DATASETS)} datasets with a total of {sum(len(d) for d in DATASETS)} measurements.\")"
   ]
  },
  {
   "cell_type": "markdown",
   "metadata": {},
   "source": [
    "### Prepare splits and dataloaders\n",
    "\n",
    "Create train / test / validation subsets. Here we implement a random split, but it can take external indices if needed."
   ]
  },
  {
   "cell_type": "code",
   "execution_count": 30,
   "metadata": {},
   "outputs": [],
   "source": [
    "dataloaders = {}\n",
    "for dataset in DATASETS:\n",
    "    key = dataset.metadata[\"measurement_type\"]\n",
    "    \n",
    "    # Generate random indices in situ\n",
    "    # If you need to provide indices from another source, \n",
    "    # replace this block to provide train_indices, test_indices\n",
    "    dataset_size = len(dataset)\n",
    "    indices = list(range(dataset_size))\n",
    "    split = int(np.floor(TRAIN_TEST_SPLIT * dataset_size))\n",
    "    \n",
    "    if SHUFFLE_SPLITS :\n",
    "        np.random.shuffle(indices)\n",
    "    train_indices, test_indices = indices[split:], indices[split:]\n",
    "    if VALIDATION:\n",
    "        split2 = int(np.floor(len(test_indices) / 2))\n",
    "        test_indices, val_indices = test_indices[:split2], test_indices[split2:]\n",
    "    # End of indices creation\n",
    "    \n",
    "    collate_fn = None\n",
    "    if COLLATE_FN:\n",
    "        # IMPORTANT: This will be needed if your X tensors have different shapes across systems!\n",
    "        # COLLATE_FN can be an import string, or a eval-able lambda\n",
    "        # Read https://pytorch.org/docs/stable/data.html#dataloader-collate-fn\n",
    "        try:\n",
    "            collate_fn = import_object(COLLATE_FN)\n",
    "        except ImportError:\n",
    "            collate_fn = eval(COLLATE_FN)\n",
    "    \n",
    "    # Creating PT data samplers and loaders:\n",
    "    train_sampler = SubsetRandomSampler(train_indices)\n",
    "    test_sampler = SubsetRandomSampler(test_indices)\n",
    "\n",
    "    dataloaders[key] = {\n",
    "        \"train\": import_object(DATALOADER_CLS)(dataset, batch_size=BATCH_SIZE, sampler=train_sampler, collate_fn=collate_fn),\n",
    "        \"test\": import_object(DATALOADER_CLS)(dataset, batch_size=BATCH_SIZE, sampler=test_sampler, collate_fn=collate_fn),\n",
    "    }\n",
    "    \n",
    "    if VALIDATION:\n",
    "        val_sampler = SubsetRandomSampler(val_indices)\n",
    "        dataloaders[key][\"val\"] = import_object(DATALOADER_CLS)(dataset, batch_size=BATCH_SIZE, sampler=val_sampler, collate_fn=collate_fn)"
   ]
  },
  {
   "cell_type": "markdown",
   "metadata": {},
   "source": [
    "### Training loop"
   ]
  },
  {
   "cell_type": "code",
   "execution_count": 31,
   "metadata": {},
   "outputs": [
    {
     "data": {
      "application/vnd.jupyter.widget-view+json": {
       "model_id": "fe85481c85794e4c96050287e22999ce",
       "version_major": 2,
       "version_minor": 0
      },
      "text/plain": [
       "Epochs:   0%|          | 0/50 [00:00<?, ?it/s]"
      ]
     },
     "metadata": {},
     "output_type": "display_data"
    },
    {
     "data": {
      "application/vnd.jupyter.widget-view+json": {
       "model_id": "",
       "version_major": 2,
       "version_minor": 0
      },
      "text/plain": [
       "Datasets:   0%|          | 0/3 [00:00<?, ?it/s]"
      ]
     },
     "metadata": {},
     "output_type": "display_data"
    },
    {
     "data": {
      "application/vnd.jupyter.widget-view+json": {
       "model_id": "",
       "version_major": 2,
       "version_minor": 0
      },
      "text/plain": [
       "Minibatches:   0%|          | 0/1 [00:00<?, ?it/s]"
      ]
     },
     "metadata": {},
     "output_type": "display_data"
    },
    {
     "data": {
      "application/vnd.jupyter.widget-view+json": {
       "model_id": "",
       "version_major": 2,
       "version_minor": 0
      },
      "text/plain": [
       "Minibatches:   0%|          | 0/1 [00:00<?, ?it/s]"
      ]
     },
     "metadata": {},
     "output_type": "display_data"
    },
    {
     "data": {
      "application/vnd.jupyter.widget-view+json": {
       "model_id": "",
       "version_major": 2,
       "version_minor": 0
      },
      "text/plain": [
       "Minibatches:   0%|          | 0/1 [00:00<?, ?it/s]"
      ]
     },
     "metadata": {},
     "output_type": "display_data"
    },
    {
     "data": {
      "application/vnd.jupyter.widget-view+json": {
       "model_id": "",
       "version_major": 2,
       "version_minor": 0
      },
      "text/plain": [
       "Minibatches:   0%|          | 0/1 [00:00<?, ?it/s]"
      ]
     },
     "metadata": {},
     "output_type": "display_data"
    },
    {
     "data": {
      "application/vnd.jupyter.widget-view+json": {
       "model_id": "",
       "version_major": 2,
       "version_minor": 0
      },
      "text/plain": [
       "Minibatches:   0%|          | 0/12 [00:00<?, ?it/s]"
      ]
     },
     "metadata": {},
     "output_type": "display_data"
    },
    {
     "data": {
      "application/vnd.jupyter.widget-view+json": {
       "model_id": "",
       "version_major": 2,
       "version_minor": 0
      },
      "text/plain": [
       "Minibatches:   0%|          | 0/6 [00:00<?, ?it/s]"
      ]
     },
     "metadata": {},
     "output_type": "display_data"
    },
    {
     "data": {
      "application/vnd.jupyter.widget-view+json": {
       "model_id": "",
       "version_major": 2,
       "version_minor": 0
      },
      "text/plain": [
       "Datasets:   0%|          | 0/3 [00:00<?, ?it/s]"
      ]
     },
     "metadata": {},
     "output_type": "display_data"
    },
    {
     "data": {
      "application/vnd.jupyter.widget-view+json": {
       "model_id": "",
       "version_major": 2,
       "version_minor": 0
      },
      "text/plain": [
       "Minibatches:   0%|          | 0/1 [00:00<?, ?it/s]"
      ]
     },
     "metadata": {},
     "output_type": "display_data"
    },
    {
     "data": {
      "application/vnd.jupyter.widget-view+json": {
       "model_id": "",
       "version_major": 2,
       "version_minor": 0
      },
      "text/plain": [
       "Minibatches:   0%|          | 0/1 [00:00<?, ?it/s]"
      ]
     },
     "metadata": {},
     "output_type": "display_data"
    },
    {
     "data": {
      "application/vnd.jupyter.widget-view+json": {
       "model_id": "",
       "version_major": 2,
       "version_minor": 0
      },
      "text/plain": [
       "Minibatches:   0%|          | 0/1 [00:00<?, ?it/s]"
      ]
     },
     "metadata": {},
     "output_type": "display_data"
    },
    {
     "data": {
      "application/vnd.jupyter.widget-view+json": {
       "model_id": "",
       "version_major": 2,
       "version_minor": 0
      },
      "text/plain": [
       "Minibatches:   0%|          | 0/1 [00:00<?, ?it/s]"
      ]
     },
     "metadata": {},
     "output_type": "display_data"
    },
    {
     "data": {
      "application/vnd.jupyter.widget-view+json": {
       "model_id": "",
       "version_major": 2,
       "version_minor": 0
      },
      "text/plain": [
       "Minibatches:   0%|          | 0/12 [00:00<?, ?it/s]"
      ]
     },
     "metadata": {},
     "output_type": "display_data"
    },
    {
     "data": {
      "application/vnd.jupyter.widget-view+json": {
       "model_id": "",
       "version_major": 2,
       "version_minor": 0
      },
      "text/plain": [
       "Minibatches:   0%|          | 0/6 [00:00<?, ?it/s]"
      ]
     },
     "metadata": {},
     "output_type": "display_data"
    },
    {
     "data": {
      "application/vnd.jupyter.widget-view+json": {
       "model_id": "",
       "version_major": 2,
       "version_minor": 0
      },
      "text/plain": [
       "Datasets:   0%|          | 0/3 [00:00<?, ?it/s]"
      ]
     },
     "metadata": {},
     "output_type": "display_data"
    },
    {
     "data": {
      "application/vnd.jupyter.widget-view+json": {
       "model_id": "",
       "version_major": 2,
       "version_minor": 0
      },
      "text/plain": [
       "Minibatches:   0%|          | 0/1 [00:00<?, ?it/s]"
      ]
     },
     "metadata": {},
     "output_type": "display_data"
    },
    {
     "data": {
      "application/vnd.jupyter.widget-view+json": {
       "model_id": "",
       "version_major": 2,
       "version_minor": 0
      },
      "text/plain": [
       "Minibatches:   0%|          | 0/1 [00:00<?, ?it/s]"
      ]
     },
     "metadata": {},
     "output_type": "display_data"
    },
    {
     "data": {
      "application/vnd.jupyter.widget-view+json": {
       "model_id": "",
       "version_major": 2,
       "version_minor": 0
      },
      "text/plain": [
       "Minibatches:   0%|          | 0/1 [00:00<?, ?it/s]"
      ]
     },
     "metadata": {},
     "output_type": "display_data"
    },
    {
     "data": {
      "application/vnd.jupyter.widget-view+json": {
       "model_id": "",
       "version_major": 2,
       "version_minor": 0
      },
      "text/plain": [
       "Minibatches:   0%|          | 0/1 [00:00<?, ?it/s]"
      ]
     },
     "metadata": {},
     "output_type": "display_data"
    },
    {
     "data": {
      "application/vnd.jupyter.widget-view+json": {
       "model_id": "",
       "version_major": 2,
       "version_minor": 0
      },
      "text/plain": [
       "Minibatches:   0%|          | 0/12 [00:00<?, ?it/s]"
      ]
     },
     "metadata": {},
     "output_type": "display_data"
    },
    {
     "data": {
      "application/vnd.jupyter.widget-view+json": {
       "model_id": "",
       "version_major": 2,
       "version_minor": 0
      },
      "text/plain": [
       "Minibatches:   0%|          | 0/6 [00:00<?, ?it/s]"
      ]
     },
     "metadata": {},
     "output_type": "display_data"
    },
    {
     "data": {
      "application/vnd.jupyter.widget-view+json": {
       "model_id": "",
       "version_major": 2,
       "version_minor": 0
      },
      "text/plain": [
       "Datasets:   0%|          | 0/3 [00:00<?, ?it/s]"
      ]
     },
     "metadata": {},
     "output_type": "display_data"
    },
    {
     "data": {
      "application/vnd.jupyter.widget-view+json": {
       "model_id": "",
       "version_major": 2,
       "version_minor": 0
      },
      "text/plain": [
       "Minibatches:   0%|          | 0/1 [00:00<?, ?it/s]"
      ]
     },
     "metadata": {},
     "output_type": "display_data"
    },
    {
     "data": {
      "application/vnd.jupyter.widget-view+json": {
       "model_id": "",
       "version_major": 2,
       "version_minor": 0
      },
      "text/plain": [
       "Minibatches:   0%|          | 0/1 [00:00<?, ?it/s]"
      ]
     },
     "metadata": {},
     "output_type": "display_data"
    },
    {
     "data": {
      "application/vnd.jupyter.widget-view+json": {
       "model_id": "",
       "version_major": 2,
       "version_minor": 0
      },
      "text/plain": [
       "Minibatches:   0%|          | 0/1 [00:00<?, ?it/s]"
      ]
     },
     "metadata": {},
     "output_type": "display_data"
    },
    {
     "data": {
      "application/vnd.jupyter.widget-view+json": {
       "model_id": "",
       "version_major": 2,
       "version_minor": 0
      },
      "text/plain": [
       "Minibatches:   0%|          | 0/1 [00:00<?, ?it/s]"
      ]
     },
     "metadata": {},
     "output_type": "display_data"
    },
    {
     "data": {
      "application/vnd.jupyter.widget-view+json": {
       "model_id": "",
       "version_major": 2,
       "version_minor": 0
      },
      "text/plain": [
       "Minibatches:   0%|          | 0/12 [00:00<?, ?it/s]"
      ]
     },
     "metadata": {},
     "output_type": "display_data"
    },
    {
     "data": {
      "application/vnd.jupyter.widget-view+json": {
       "model_id": "",
       "version_major": 2,
       "version_minor": 0
      },
      "text/plain": [
       "Minibatches:   0%|          | 0/6 [00:00<?, ?it/s]"
      ]
     },
     "metadata": {},
     "output_type": "display_data"
    },
    {
     "data": {
      "application/vnd.jupyter.widget-view+json": {
       "model_id": "",
       "version_major": 2,
       "version_minor": 0
      },
      "text/plain": [
       "Datasets:   0%|          | 0/3 [00:00<?, ?it/s]"
      ]
     },
     "metadata": {},
     "output_type": "display_data"
    },
    {
     "data": {
      "application/vnd.jupyter.widget-view+json": {
       "model_id": "",
       "version_major": 2,
       "version_minor": 0
      },
      "text/plain": [
       "Minibatches:   0%|          | 0/1 [00:00<?, ?it/s]"
      ]
     },
     "metadata": {},
     "output_type": "display_data"
    },
    {
     "data": {
      "application/vnd.jupyter.widget-view+json": {
       "model_id": "",
       "version_major": 2,
       "version_minor": 0
      },
      "text/plain": [
       "Minibatches:   0%|          | 0/1 [00:00<?, ?it/s]"
      ]
     },
     "metadata": {},
     "output_type": "display_data"
    },
    {
     "data": {
      "application/vnd.jupyter.widget-view+json": {
       "model_id": "",
       "version_major": 2,
       "version_minor": 0
      },
      "text/plain": [
       "Minibatches:   0%|          | 0/1 [00:00<?, ?it/s]"
      ]
     },
     "metadata": {},
     "output_type": "display_data"
    },
    {
     "data": {
      "application/vnd.jupyter.widget-view+json": {
       "model_id": "",
       "version_major": 2,
       "version_minor": 0
      },
      "text/plain": [
       "Minibatches:   0%|          | 0/1 [00:00<?, ?it/s]"
      ]
     },
     "metadata": {},
     "output_type": "display_data"
    },
    {
     "data": {
      "application/vnd.jupyter.widget-view+json": {
       "model_id": "",
       "version_major": 2,
       "version_minor": 0
      },
      "text/plain": [
       "Minibatches:   0%|          | 0/12 [00:00<?, ?it/s]"
      ]
     },
     "metadata": {},
     "output_type": "display_data"
    },
    {
     "data": {
      "application/vnd.jupyter.widget-view+json": {
       "model_id": "",
       "version_major": 2,
       "version_minor": 0
      },
      "text/plain": [
       "Minibatches:   0%|          | 0/6 [00:00<?, ?it/s]"
      ]
     },
     "metadata": {},
     "output_type": "display_data"
    },
    {
     "data": {
      "application/vnd.jupyter.widget-view+json": {
       "model_id": "",
       "version_major": 2,
       "version_minor": 0
      },
      "text/plain": [
       "Datasets:   0%|          | 0/3 [00:00<?, ?it/s]"
      ]
     },
     "metadata": {},
     "output_type": "display_data"
    },
    {
     "data": {
      "application/vnd.jupyter.widget-view+json": {
       "model_id": "",
       "version_major": 2,
       "version_minor": 0
      },
      "text/plain": [
       "Minibatches:   0%|          | 0/1 [00:00<?, ?it/s]"
      ]
     },
     "metadata": {},
     "output_type": "display_data"
    },
    {
     "data": {
      "application/vnd.jupyter.widget-view+json": {
       "model_id": "",
       "version_major": 2,
       "version_minor": 0
      },
      "text/plain": [
       "Minibatches:   0%|          | 0/1 [00:00<?, ?it/s]"
      ]
     },
     "metadata": {},
     "output_type": "display_data"
    },
    {
     "data": {
      "application/vnd.jupyter.widget-view+json": {
       "model_id": "",
       "version_major": 2,
       "version_minor": 0
      },
      "text/plain": [
       "Minibatches:   0%|          | 0/1 [00:00<?, ?it/s]"
      ]
     },
     "metadata": {},
     "output_type": "display_data"
    },
    {
     "data": {
      "application/vnd.jupyter.widget-view+json": {
       "model_id": "",
       "version_major": 2,
       "version_minor": 0
      },
      "text/plain": [
       "Minibatches:   0%|          | 0/1 [00:00<?, ?it/s]"
      ]
     },
     "metadata": {},
     "output_type": "display_data"
    },
    {
     "data": {
      "application/vnd.jupyter.widget-view+json": {
       "model_id": "",
       "version_major": 2,
       "version_minor": 0
      },
      "text/plain": [
       "Minibatches:   0%|          | 0/12 [00:00<?, ?it/s]"
      ]
     },
     "metadata": {},
     "output_type": "display_data"
    },
    {
     "data": {
      "application/vnd.jupyter.widget-view+json": {
       "model_id": "",
       "version_major": 2,
       "version_minor": 0
      },
      "text/plain": [
       "Minibatches:   0%|          | 0/6 [00:00<?, ?it/s]"
      ]
     },
     "metadata": {},
     "output_type": "display_data"
    },
    {
     "data": {
      "application/vnd.jupyter.widget-view+json": {
       "model_id": "",
       "version_major": 2,
       "version_minor": 0
      },
      "text/plain": [
       "Datasets:   0%|          | 0/3 [00:00<?, ?it/s]"
      ]
     },
     "metadata": {},
     "output_type": "display_data"
    },
    {
     "data": {
      "application/vnd.jupyter.widget-view+json": {
       "model_id": "",
       "version_major": 2,
       "version_minor": 0
      },
      "text/plain": [
       "Minibatches:   0%|          | 0/1 [00:00<?, ?it/s]"
      ]
     },
     "metadata": {},
     "output_type": "display_data"
    },
    {
     "data": {
      "application/vnd.jupyter.widget-view+json": {
       "model_id": "",
       "version_major": 2,
       "version_minor": 0
      },
      "text/plain": [
       "Minibatches:   0%|          | 0/1 [00:00<?, ?it/s]"
      ]
     },
     "metadata": {},
     "output_type": "display_data"
    },
    {
     "data": {
      "application/vnd.jupyter.widget-view+json": {
       "model_id": "",
       "version_major": 2,
       "version_minor": 0
      },
      "text/plain": [
       "Minibatches:   0%|          | 0/1 [00:00<?, ?it/s]"
      ]
     },
     "metadata": {},
     "output_type": "display_data"
    },
    {
     "data": {
      "application/vnd.jupyter.widget-view+json": {
       "model_id": "",
       "version_major": 2,
       "version_minor": 0
      },
      "text/plain": [
       "Minibatches:   0%|          | 0/1 [00:00<?, ?it/s]"
      ]
     },
     "metadata": {},
     "output_type": "display_data"
    },
    {
     "data": {
      "application/vnd.jupyter.widget-view+json": {
       "model_id": "",
       "version_major": 2,
       "version_minor": 0
      },
      "text/plain": [
       "Minibatches:   0%|          | 0/12 [00:00<?, ?it/s]"
      ]
     },
     "metadata": {},
     "output_type": "display_data"
    },
    {
     "data": {
      "application/vnd.jupyter.widget-view+json": {
       "model_id": "",
       "version_major": 2,
       "version_minor": 0
      },
      "text/plain": [
       "Minibatches:   0%|          | 0/6 [00:00<?, ?it/s]"
      ]
     },
     "metadata": {},
     "output_type": "display_data"
    },
    {
     "data": {
      "application/vnd.jupyter.widget-view+json": {
       "model_id": "bfdf177c9ff94e13b15cbac281549eb2",
       "version_major": 2,
       "version_minor": 0
      },
      "text/plain": [
       "Datasets:   0%|          | 0/3 [00:00<?, ?it/s]"
      ]
     },
     "metadata": {},
     "output_type": "display_data"
    },
    {
     "data": {
      "application/vnd.jupyter.widget-view+json": {
       "model_id": "9f789d5a9b5d464a8ad771f2fdd0666b",
       "version_major": 2,
       "version_minor": 0
      },
      "text/plain": [
       "Minibatches:   0%|          | 0/1 [00:00<?, ?it/s]"
      ]
     },
     "metadata": {},
     "output_type": "display_data"
    },
    {
     "data": {
      "application/vnd.jupyter.widget-view+json": {
       "model_id": "54f4253900994843afc60ea05cbc9ab2",
       "version_major": 2,
       "version_minor": 0
      },
      "text/plain": [
       "Minibatches:   0%|          | 0/1 [00:00<?, ?it/s]"
      ]
     },
     "metadata": {},
     "output_type": "display_data"
    },
    {
     "data": {
      "application/vnd.jupyter.widget-view+json": {
       "model_id": "bb55d30c7c434b22882ce37eceb175e4",
       "version_major": 2,
       "version_minor": 0
      },
      "text/plain": [
       "Minibatches:   0%|          | 0/1 [00:00<?, ?it/s]"
      ]
     },
     "metadata": {},
     "output_type": "display_data"
    },
    {
     "data": {
      "application/vnd.jupyter.widget-view+json": {
       "model_id": "bedf1d44d6fc4de7a41a750a5644e5db",
       "version_major": 2,
       "version_minor": 0
      },
      "text/plain": [
       "Minibatches:   0%|          | 0/1 [00:00<?, ?it/s]"
      ]
     },
     "metadata": {},
     "output_type": "display_data"
    },
    {
     "data": {
      "application/vnd.jupyter.widget-view+json": {
       "model_id": "035a9ecb9e184b9297696a0c8b0c984b",
       "version_major": 2,
       "version_minor": 0
      },
      "text/plain": [
       "Minibatches:   0%|          | 0/12 [00:00<?, ?it/s]"
      ]
     },
     "metadata": {},
     "output_type": "display_data"
    },
    {
     "data": {
      "application/vnd.jupyter.widget-view+json": {
       "model_id": "519cc67652fa45178986ea26454dd0fa",
       "version_major": 2,
       "version_minor": 0
      },
      "text/plain": [
       "Minibatches:   0%|          | 0/6 [00:00<?, ?it/s]"
      ]
     },
     "metadata": {},
     "output_type": "display_data"
    },
    {
     "data": {
      "application/vnd.jupyter.widget-view+json": {
       "model_id": "374409be97fb4547a5b543dd5290a301",
       "version_major": 2,
       "version_minor": 0
      },
      "text/plain": [
       "Datasets:   0%|          | 0/3 [00:00<?, ?it/s]"
      ]
     },
     "metadata": {},
     "output_type": "display_data"
    },
    {
     "data": {
      "application/vnd.jupyter.widget-view+json": {
       "model_id": "55a6b07617534b6899439bff937defdd",
       "version_major": 2,
       "version_minor": 0
      },
      "text/plain": [
       "Minibatches:   0%|          | 0/1 [00:00<?, ?it/s]"
      ]
     },
     "metadata": {},
     "output_type": "display_data"
    },
    {
     "data": {
      "application/vnd.jupyter.widget-view+json": {
       "model_id": "b55e90e87a644cc0b796f7c754aee216",
       "version_major": 2,
       "version_minor": 0
      },
      "text/plain": [
       "Minibatches:   0%|          | 0/1 [00:00<?, ?it/s]"
      ]
     },
     "metadata": {},
     "output_type": "display_data"
    },
    {
     "data": {
      "application/vnd.jupyter.widget-view+json": {
       "model_id": "c0ad34d5aca142b3b945ed74fbd94aa8",
       "version_major": 2,
       "version_minor": 0
      },
      "text/plain": [
       "Minibatches:   0%|          | 0/1 [00:00<?, ?it/s]"
      ]
     },
     "metadata": {},
     "output_type": "display_data"
    },
    {
     "data": {
      "application/vnd.jupyter.widget-view+json": {
       "model_id": "d60fec464e634665a8b72b02dc9401ed",
       "version_major": 2,
       "version_minor": 0
      },
      "text/plain": [
       "Minibatches:   0%|          | 0/1 [00:00<?, ?it/s]"
      ]
     },
     "metadata": {},
     "output_type": "display_data"
    },
    {
     "data": {
      "application/vnd.jupyter.widget-view+json": {
       "model_id": "0da0efef217a4ef38f612a38a19deb99",
       "version_major": 2,
       "version_minor": 0
      },
      "text/plain": [
       "Minibatches:   0%|          | 0/12 [00:00<?, ?it/s]"
      ]
     },
     "metadata": {},
     "output_type": "display_data"
    },
    {
     "data": {
      "application/vnd.jupyter.widget-view+json": {
       "model_id": "88137dfa17a749da9b006db758a16343",
       "version_major": 2,
       "version_minor": 0
      },
      "text/plain": [
       "Minibatches:   0%|          | 0/6 [00:00<?, ?it/s]"
      ]
     },
     "metadata": {},
     "output_type": "display_data"
    },
    {
     "data": {
      "application/vnd.jupyter.widget-view+json": {
       "model_id": "a1abce374c3742d092c72c718fae20b5",
       "version_major": 2,
       "version_minor": 0
      },
      "text/plain": [
       "Datasets:   0%|          | 0/3 [00:00<?, ?it/s]"
      ]
     },
     "metadata": {},
     "output_type": "display_data"
    },
    {
     "data": {
      "application/vnd.jupyter.widget-view+json": {
       "model_id": "deece118a7aa4fb5892797a6dfd61708",
       "version_major": 2,
       "version_minor": 0
      },
      "text/plain": [
       "Minibatches:   0%|          | 0/1 [00:00<?, ?it/s]"
      ]
     },
     "metadata": {},
     "output_type": "display_data"
    },
    {
     "data": {
      "application/vnd.jupyter.widget-view+json": {
       "model_id": "012550c38bd545fa9b39bfb67726df01",
       "version_major": 2,
       "version_minor": 0
      },
      "text/plain": [
       "Minibatches:   0%|          | 0/1 [00:00<?, ?it/s]"
      ]
     },
     "metadata": {},
     "output_type": "display_data"
    },
    {
     "data": {
      "application/vnd.jupyter.widget-view+json": {
       "model_id": "6dd1d02b265d42aa92574570ec158506",
       "version_major": 2,
       "version_minor": 0
      },
      "text/plain": [
       "Minibatches:   0%|          | 0/1 [00:00<?, ?it/s]"
      ]
     },
     "metadata": {},
     "output_type": "display_data"
    },
    {
     "data": {
      "application/vnd.jupyter.widget-view+json": {
       "model_id": "df39199583464e5e89c11a5df801f2dc",
       "version_major": 2,
       "version_minor": 0
      },
      "text/plain": [
       "Minibatches:   0%|          | 0/1 [00:00<?, ?it/s]"
      ]
     },
     "metadata": {},
     "output_type": "display_data"
    },
    {
     "data": {
      "application/vnd.jupyter.widget-view+json": {
       "model_id": "acc24467b83e49ecbf91a00c16ed4b0a",
       "version_major": 2,
       "version_minor": 0
      },
      "text/plain": [
       "Minibatches:   0%|          | 0/12 [00:00<?, ?it/s]"
      ]
     },
     "metadata": {},
     "output_type": "display_data"
    },
    {
     "data": {
      "application/vnd.jupyter.widget-view+json": {
       "model_id": "9ae05086d21042aaa5c3676dcfe62754",
       "version_major": 2,
       "version_minor": 0
      },
      "text/plain": [
       "Minibatches:   0%|          | 0/6 [00:00<?, ?it/s]"
      ]
     },
     "metadata": {},
     "output_type": "display_data"
    },
    {
     "data": {
      "application/vnd.jupyter.widget-view+json": {
       "model_id": "c72a399414454d8ca03fc92c08ed0fd0",
       "version_major": 2,
       "version_minor": 0
      },
      "text/plain": [
       "Datasets:   0%|          | 0/3 [00:00<?, ?it/s]"
      ]
     },
     "metadata": {},
     "output_type": "display_data"
    },
    {
     "data": {
      "application/vnd.jupyter.widget-view+json": {
       "model_id": "ab4032d6a5a9470aad36ed69fff1726b",
       "version_major": 2,
       "version_minor": 0
      },
      "text/plain": [
       "Minibatches:   0%|          | 0/1 [00:00<?, ?it/s]"
      ]
     },
     "metadata": {},
     "output_type": "display_data"
    },
    {
     "data": {
      "application/vnd.jupyter.widget-view+json": {
       "model_id": "b96516e8a3164375add1391b83f44bba",
       "version_major": 2,
       "version_minor": 0
      },
      "text/plain": [
       "Minibatches:   0%|          | 0/1 [00:00<?, ?it/s]"
      ]
     },
     "metadata": {},
     "output_type": "display_data"
    },
    {
     "data": {
      "application/vnd.jupyter.widget-view+json": {
       "model_id": "18c05cab874b4ee789a0bc5a784a2f4b",
       "version_major": 2,
       "version_minor": 0
      },
      "text/plain": [
       "Minibatches:   0%|          | 0/1 [00:00<?, ?it/s]"
      ]
     },
     "metadata": {},
     "output_type": "display_data"
    },
    {
     "data": {
      "application/vnd.jupyter.widget-view+json": {
       "model_id": "9b1a23caeeb94978b59de778ec79c23c",
       "version_major": 2,
       "version_minor": 0
      },
      "text/plain": [
       "Minibatches:   0%|          | 0/1 [00:00<?, ?it/s]"
      ]
     },
     "metadata": {},
     "output_type": "display_data"
    },
    {
     "data": {
      "application/vnd.jupyter.widget-view+json": {
       "model_id": "ac1691ec125d41759bacf7f54d45b085",
       "version_major": 2,
       "version_minor": 0
      },
      "text/plain": [
       "Minibatches:   0%|          | 0/12 [00:00<?, ?it/s]"
      ]
     },
     "metadata": {},
     "output_type": "display_data"
    },
    {
     "data": {
      "application/vnd.jupyter.widget-view+json": {
       "model_id": "ad66cf6463dc4d73b4315b9afc008f4a",
       "version_major": 2,
       "version_minor": 0
      },
      "text/plain": [
       "Minibatches:   0%|          | 0/6 [00:00<?, ?it/s]"
      ]
     },
     "metadata": {},
     "output_type": "display_data"
    },
    {
     "data": {
      "application/vnd.jupyter.widget-view+json": {
       "model_id": "35949e241c9b438eb8a980eb1729bf47",
       "version_major": 2,
       "version_minor": 0
      },
      "text/plain": [
       "Datasets:   0%|          | 0/3 [00:00<?, ?it/s]"
      ]
     },
     "metadata": {},
     "output_type": "display_data"
    },
    {
     "data": {
      "application/vnd.jupyter.widget-view+json": {
       "model_id": "059194c2fc61462f859bb894493a0fd7",
       "version_major": 2,
       "version_minor": 0
      },
      "text/plain": [
       "Minibatches:   0%|          | 0/1 [00:00<?, ?it/s]"
      ]
     },
     "metadata": {},
     "output_type": "display_data"
    },
    {
     "data": {
      "application/vnd.jupyter.widget-view+json": {
       "model_id": "10abdf84e42442738d17e44a20156398",
       "version_major": 2,
       "version_minor": 0
      },
      "text/plain": [
       "Minibatches:   0%|          | 0/1 [00:00<?, ?it/s]"
      ]
     },
     "metadata": {},
     "output_type": "display_data"
    },
    {
     "data": {
      "application/vnd.jupyter.widget-view+json": {
       "model_id": "eac4b936eb3542eeaf9c58df380450d0",
       "version_major": 2,
       "version_minor": 0
      },
      "text/plain": [
       "Minibatches:   0%|          | 0/1 [00:00<?, ?it/s]"
      ]
     },
     "metadata": {},
     "output_type": "display_data"
    },
    {
     "data": {
      "application/vnd.jupyter.widget-view+json": {
       "model_id": "bb9557c073294c5b99b64c260b3e39b7",
       "version_major": 2,
       "version_minor": 0
      },
      "text/plain": [
       "Minibatches:   0%|          | 0/1 [00:00<?, ?it/s]"
      ]
     },
     "metadata": {},
     "output_type": "display_data"
    },
    {
     "data": {
      "application/vnd.jupyter.widget-view+json": {
       "model_id": "d91cab5c78364474b6b7fa369628f0d7",
       "version_major": 2,
       "version_minor": 0
      },
      "text/plain": [
       "Minibatches:   0%|          | 0/12 [00:00<?, ?it/s]"
      ]
     },
     "metadata": {},
     "output_type": "display_data"
    },
    {
     "data": {
      "application/vnd.jupyter.widget-view+json": {
       "model_id": "d20fbce7bd514b069bcb1eb3e066a832",
       "version_major": 2,
       "version_minor": 0
      },
      "text/plain": [
       "Minibatches:   0%|          | 0/6 [00:00<?, ?it/s]"
      ]
     },
     "metadata": {},
     "output_type": "display_data"
    },
    {
     "data": {
      "application/vnd.jupyter.widget-view+json": {
       "model_id": "39e0d611e4e642b0a3a4d885840ea643",
       "version_major": 2,
       "version_minor": 0
      },
      "text/plain": [
       "Datasets:   0%|          | 0/3 [00:00<?, ?it/s]"
      ]
     },
     "metadata": {},
     "output_type": "display_data"
    },
    {
     "data": {
      "application/vnd.jupyter.widget-view+json": {
       "model_id": "af152238308d4eb8826002d993ed86f2",
       "version_major": 2,
       "version_minor": 0
      },
      "text/plain": [
       "Minibatches:   0%|          | 0/1 [00:00<?, ?it/s]"
      ]
     },
     "metadata": {},
     "output_type": "display_data"
    },
    {
     "data": {
      "application/vnd.jupyter.widget-view+json": {
       "model_id": "bcfdeaaadbd44e65abec1a9f399341bc",
       "version_major": 2,
       "version_minor": 0
      },
      "text/plain": [
       "Minibatches:   0%|          | 0/1 [00:00<?, ?it/s]"
      ]
     },
     "metadata": {},
     "output_type": "display_data"
    },
    {
     "data": {
      "application/vnd.jupyter.widget-view+json": {
       "model_id": "e374e3e635184ff7a045793e618e5991",
       "version_major": 2,
       "version_minor": 0
      },
      "text/plain": [
       "Minibatches:   0%|          | 0/1 [00:00<?, ?it/s]"
      ]
     },
     "metadata": {},
     "output_type": "display_data"
    },
    {
     "data": {
      "application/vnd.jupyter.widget-view+json": {
       "model_id": "830091e976a048ff9f586490c9aa19d0",
       "version_major": 2,
       "version_minor": 0
      },
      "text/plain": [
       "Minibatches:   0%|          | 0/1 [00:00<?, ?it/s]"
      ]
     },
     "metadata": {},
     "output_type": "display_data"
    },
    {
     "data": {
      "application/vnd.jupyter.widget-view+json": {
       "model_id": "3e9f92da2f2a425c9ff706c80147311d",
       "version_major": 2,
       "version_minor": 0
      },
      "text/plain": [
       "Minibatches:   0%|          | 0/12 [00:00<?, ?it/s]"
      ]
     },
     "metadata": {},
     "output_type": "display_data"
    },
    {
     "data": {
      "application/vnd.jupyter.widget-view+json": {
       "model_id": "e46da4156b904dbeaf87292960869675",
       "version_major": 2,
       "version_minor": 0
      },
      "text/plain": [
       "Minibatches:   0%|          | 0/6 [00:00<?, ?it/s]"
      ]
     },
     "metadata": {},
     "output_type": "display_data"
    },
    {
     "data": {
      "application/vnd.jupyter.widget-view+json": {
       "model_id": "839a9aa2c5b2477d8ef36819100e0883",
       "version_major": 2,
       "version_minor": 0
      },
      "text/plain": [
       "Datasets:   0%|          | 0/3 [00:00<?, ?it/s]"
      ]
     },
     "metadata": {},
     "output_type": "display_data"
    },
    {
     "data": {
      "application/vnd.jupyter.widget-view+json": {
       "model_id": "633dd1124dd342c6be5610438e3527b1",
       "version_major": 2,
       "version_minor": 0
      },
      "text/plain": [
       "Minibatches:   0%|          | 0/1 [00:00<?, ?it/s]"
      ]
     },
     "metadata": {},
     "output_type": "display_data"
    },
    {
     "data": {
      "application/vnd.jupyter.widget-view+json": {
       "model_id": "df299054621b46879d3f5f461548d433",
       "version_major": 2,
       "version_minor": 0
      },
      "text/plain": [
       "Minibatches:   0%|          | 0/1 [00:00<?, ?it/s]"
      ]
     },
     "metadata": {},
     "output_type": "display_data"
    },
    {
     "data": {
      "application/vnd.jupyter.widget-view+json": {
       "model_id": "8e0f7c34e14049e4b3ef832d1fa5cc3f",
       "version_major": 2,
       "version_minor": 0
      },
      "text/plain": [
       "Minibatches:   0%|          | 0/1 [00:00<?, ?it/s]"
      ]
     },
     "metadata": {},
     "output_type": "display_data"
    },
    {
     "data": {
      "application/vnd.jupyter.widget-view+json": {
       "model_id": "b80831535b7649a480508632b9aa1dfb",
       "version_major": 2,
       "version_minor": 0
      },
      "text/plain": [
       "Minibatches:   0%|          | 0/1 [00:00<?, ?it/s]"
      ]
     },
     "metadata": {},
     "output_type": "display_data"
    },
    {
     "data": {
      "application/vnd.jupyter.widget-view+json": {
       "model_id": "bf3bf44fa71c471a9a1654f8d52df83e",
       "version_major": 2,
       "version_minor": 0
      },
      "text/plain": [
       "Minibatches:   0%|          | 0/12 [00:00<?, ?it/s]"
      ]
     },
     "metadata": {},
     "output_type": "display_data"
    },
    {
     "data": {
      "application/vnd.jupyter.widget-view+json": {
       "model_id": "fe2247d1be39473ebd0a54adef6e7585",
       "version_major": 2,
       "version_minor": 0
      },
      "text/plain": [
       "Minibatches:   0%|          | 0/6 [00:00<?, ?it/s]"
      ]
     },
     "metadata": {},
     "output_type": "display_data"
    },
    {
     "data": {
      "application/vnd.jupyter.widget-view+json": {
       "model_id": "ee2149e5bb9a4d41b7b5b965d6f9685d",
       "version_major": 2,
       "version_minor": 0
      },
      "text/plain": [
       "Datasets:   0%|          | 0/3 [00:00<?, ?it/s]"
      ]
     },
     "metadata": {},
     "output_type": "display_data"
    },
    {
     "data": {
      "application/vnd.jupyter.widget-view+json": {
       "model_id": "e568fe57f65d4c7f9e4f3bd93ae51696",
       "version_major": 2,
       "version_minor": 0
      },
      "text/plain": [
       "Minibatches:   0%|          | 0/1 [00:00<?, ?it/s]"
      ]
     },
     "metadata": {},
     "output_type": "display_data"
    },
    {
     "data": {
      "application/vnd.jupyter.widget-view+json": {
       "model_id": "8c611e91d3e14b619528930e8dd2765c",
       "version_major": 2,
       "version_minor": 0
      },
      "text/plain": [
       "Minibatches:   0%|          | 0/1 [00:00<?, ?it/s]"
      ]
     },
     "metadata": {},
     "output_type": "display_data"
    },
    {
     "data": {
      "application/vnd.jupyter.widget-view+json": {
       "model_id": "287a14dd7d7048e4801ba7863732dc64",
       "version_major": 2,
       "version_minor": 0
      },
      "text/plain": [
       "Minibatches:   0%|          | 0/1 [00:00<?, ?it/s]"
      ]
     },
     "metadata": {},
     "output_type": "display_data"
    },
    {
     "data": {
      "application/vnd.jupyter.widget-view+json": {
       "model_id": "1e743c7072c142b5ab584b91d8b585c2",
       "version_major": 2,
       "version_minor": 0
      },
      "text/plain": [
       "Minibatches:   0%|          | 0/1 [00:00<?, ?it/s]"
      ]
     },
     "metadata": {},
     "output_type": "display_data"
    },
    {
     "data": {
      "application/vnd.jupyter.widget-view+json": {
       "model_id": "cc56e58a3e2a415ead23dc830490dc89",
       "version_major": 2,
       "version_minor": 0
      },
      "text/plain": [
       "Minibatches:   0%|          | 0/12 [00:00<?, ?it/s]"
      ]
     },
     "metadata": {},
     "output_type": "display_data"
    },
    {
     "data": {
      "application/vnd.jupyter.widget-view+json": {
       "model_id": "ce6ee44677e142d78882bab22f90e30d",
       "version_major": 2,
       "version_minor": 0
      },
      "text/plain": [
       "Minibatches:   0%|          | 0/6 [00:00<?, ?it/s]"
      ]
     },
     "metadata": {},
     "output_type": "display_data"
    },
    {
     "name": "stdout",
     "output_type": "stream",
     "text": [
      "INFO: Early stopping counter 1 of 5\n"
     ]
    },
    {
     "data": {
      "application/vnd.jupyter.widget-view+json": {
       "model_id": "bffdebcdc9124c758ca322f34632e7fe",
       "version_major": 2,
       "version_minor": 0
      },
      "text/plain": [
       "Datasets:   0%|          | 0/3 [00:00<?, ?it/s]"
      ]
     },
     "metadata": {},
     "output_type": "display_data"
    },
    {
     "data": {
      "application/vnd.jupyter.widget-view+json": {
       "model_id": "d10f878eef8b45faaee310502fd052df",
       "version_major": 2,
       "version_minor": 0
      },
      "text/plain": [
       "Minibatches:   0%|          | 0/1 [00:00<?, ?it/s]"
      ]
     },
     "metadata": {},
     "output_type": "display_data"
    },
    {
     "data": {
      "application/vnd.jupyter.widget-view+json": {
       "model_id": "03f141660c694d13aee9818ddb4675a2",
       "version_major": 2,
       "version_minor": 0
      },
      "text/plain": [
       "Minibatches:   0%|          | 0/1 [00:00<?, ?it/s]"
      ]
     },
     "metadata": {},
     "output_type": "display_data"
    },
    {
     "data": {
      "application/vnd.jupyter.widget-view+json": {
       "model_id": "fa27e3c3531c4eb7a58410e0f3c4e3d5",
       "version_major": 2,
       "version_minor": 0
      },
      "text/plain": [
       "Minibatches:   0%|          | 0/1 [00:00<?, ?it/s]"
      ]
     },
     "metadata": {},
     "output_type": "display_data"
    },
    {
     "data": {
      "application/vnd.jupyter.widget-view+json": {
       "model_id": "5709d28826ef49fb868ada4498d958c0",
       "version_major": 2,
       "version_minor": 0
      },
      "text/plain": [
       "Minibatches:   0%|          | 0/1 [00:00<?, ?it/s]"
      ]
     },
     "metadata": {},
     "output_type": "display_data"
    },
    {
     "data": {
      "application/vnd.jupyter.widget-view+json": {
       "model_id": "82b9d5035e014ebd969c1f05ed996bf8",
       "version_major": 2,
       "version_minor": 0
      },
      "text/plain": [
       "Minibatches:   0%|          | 0/12 [00:00<?, ?it/s]"
      ]
     },
     "metadata": {},
     "output_type": "display_data"
    },
    {
     "data": {
      "application/vnd.jupyter.widget-view+json": {
       "model_id": "7df9fe85aa7c4325a072af9a1e8c54b3",
       "version_major": 2,
       "version_minor": 0
      },
      "text/plain": [
       "Minibatches:   0%|          | 0/6 [00:00<?, ?it/s]"
      ]
     },
     "metadata": {},
     "output_type": "display_data"
    },
    {
     "data": {
      "application/vnd.jupyter.widget-view+json": {
       "model_id": "bf75a212984f4c0caac339356afbb48d",
       "version_major": 2,
       "version_minor": 0
      },
      "text/plain": [
       "Datasets:   0%|          | 0/3 [00:00<?, ?it/s]"
      ]
     },
     "metadata": {},
     "output_type": "display_data"
    },
    {
     "data": {
      "application/vnd.jupyter.widget-view+json": {
       "model_id": "3d9478dd0f4145e184e1609f84f05188",
       "version_major": 2,
       "version_minor": 0
      },
      "text/plain": [
       "Minibatches:   0%|          | 0/1 [00:00<?, ?it/s]"
      ]
     },
     "metadata": {},
     "output_type": "display_data"
    },
    {
     "data": {
      "application/vnd.jupyter.widget-view+json": {
       "model_id": "533509b51b9240a6bee99f0aca046132",
       "version_major": 2,
       "version_minor": 0
      },
      "text/plain": [
       "Minibatches:   0%|          | 0/1 [00:00<?, ?it/s]"
      ]
     },
     "metadata": {},
     "output_type": "display_data"
    },
    {
     "data": {
      "application/vnd.jupyter.widget-view+json": {
       "model_id": "a2a7463c4be6453bafd90edcd79675dc",
       "version_major": 2,
       "version_minor": 0
      },
      "text/plain": [
       "Minibatches:   0%|          | 0/1 [00:00<?, ?it/s]"
      ]
     },
     "metadata": {},
     "output_type": "display_data"
    },
    {
     "data": {
      "application/vnd.jupyter.widget-view+json": {
       "model_id": "3d088110b69a475ab9ec23c1b48e492b",
       "version_major": 2,
       "version_minor": 0
      },
      "text/plain": [
       "Minibatches:   0%|          | 0/1 [00:00<?, ?it/s]"
      ]
     },
     "metadata": {},
     "output_type": "display_data"
    },
    {
     "data": {
      "application/vnd.jupyter.widget-view+json": {
       "model_id": "574802c147934dfea24f06ec2fc2194a",
       "version_major": 2,
       "version_minor": 0
      },
      "text/plain": [
       "Minibatches:   0%|          | 0/12 [00:00<?, ?it/s]"
      ]
     },
     "metadata": {},
     "output_type": "display_data"
    },
    {
     "data": {
      "application/vnd.jupyter.widget-view+json": {
       "model_id": "a24e900012f94344b05e11a320c3c51b",
       "version_major": 2,
       "version_minor": 0
      },
      "text/plain": [
       "Minibatches:   0%|          | 0/6 [00:00<?, ?it/s]"
      ]
     },
     "metadata": {},
     "output_type": "display_data"
    },
    {
     "data": {
      "application/vnd.jupyter.widget-view+json": {
       "model_id": "5e8dbe4207894d28941370e8ffc80cae",
       "version_major": 2,
       "version_minor": 0
      },
      "text/plain": [
       "Datasets:   0%|          | 0/3 [00:00<?, ?it/s]"
      ]
     },
     "metadata": {},
     "output_type": "display_data"
    },
    {
     "data": {
      "application/vnd.jupyter.widget-view+json": {
       "model_id": "9d49707e512643379d5a76d06ce6c4c4",
       "version_major": 2,
       "version_minor": 0
      },
      "text/plain": [
       "Minibatches:   0%|          | 0/1 [00:00<?, ?it/s]"
      ]
     },
     "metadata": {},
     "output_type": "display_data"
    },
    {
     "data": {
      "application/vnd.jupyter.widget-view+json": {
       "model_id": "e425134c01c843cf9c54953060366c51",
       "version_major": 2,
       "version_minor": 0
      },
      "text/plain": [
       "Minibatches:   0%|          | 0/1 [00:00<?, ?it/s]"
      ]
     },
     "metadata": {},
     "output_type": "display_data"
    },
    {
     "data": {
      "application/vnd.jupyter.widget-view+json": {
       "model_id": "3c97540c1ac5498fbbc7e02800a1e6db",
       "version_major": 2,
       "version_minor": 0
      },
      "text/plain": [
       "Minibatches:   0%|          | 0/1 [00:00<?, ?it/s]"
      ]
     },
     "metadata": {},
     "output_type": "display_data"
    },
    {
     "data": {
      "application/vnd.jupyter.widget-view+json": {
       "model_id": "6691a45059ef4ba79f1f472c7e8ea7e3",
       "version_major": 2,
       "version_minor": 0
      },
      "text/plain": [
       "Minibatches:   0%|          | 0/1 [00:00<?, ?it/s]"
      ]
     },
     "metadata": {},
     "output_type": "display_data"
    },
    {
     "data": {
      "application/vnd.jupyter.widget-view+json": {
       "model_id": "8679dc0e3c624e49a2a8cb27579e9aeb",
       "version_major": 2,
       "version_minor": 0
      },
      "text/plain": [
       "Minibatches:   0%|          | 0/12 [00:00<?, ?it/s]"
      ]
     },
     "metadata": {},
     "output_type": "display_data"
    },
    {
     "data": {
      "application/vnd.jupyter.widget-view+json": {
       "model_id": "5df789f870014caa912d39f3ae9e20d7",
       "version_major": 2,
       "version_minor": 0
      },
      "text/plain": [
       "Minibatches:   0%|          | 0/6 [00:00<?, ?it/s]"
      ]
     },
     "metadata": {},
     "output_type": "display_data"
    },
    {
     "data": {
      "application/vnd.jupyter.widget-view+json": {
       "model_id": "0246457d9ed740db9ff0852431af65fc",
       "version_major": 2,
       "version_minor": 0
      },
      "text/plain": [
       "Datasets:   0%|          | 0/3 [00:00<?, ?it/s]"
      ]
     },
     "metadata": {},
     "output_type": "display_data"
    },
    {
     "data": {
      "application/vnd.jupyter.widget-view+json": {
       "model_id": "0178307a03fb4e5f9978f07378806de7",
       "version_major": 2,
       "version_minor": 0
      },
      "text/plain": [
       "Minibatches:   0%|          | 0/1 [00:00<?, ?it/s]"
      ]
     },
     "metadata": {},
     "output_type": "display_data"
    },
    {
     "data": {
      "application/vnd.jupyter.widget-view+json": {
       "model_id": "f294418e358c4c90aa9dd885d202d24f",
       "version_major": 2,
       "version_minor": 0
      },
      "text/plain": [
       "Minibatches:   0%|          | 0/1 [00:00<?, ?it/s]"
      ]
     },
     "metadata": {},
     "output_type": "display_data"
    },
    {
     "data": {
      "application/vnd.jupyter.widget-view+json": {
       "model_id": "9fbacbd6683f446ba6cc23def1b25f48",
       "version_major": 2,
       "version_minor": 0
      },
      "text/plain": [
       "Minibatches:   0%|          | 0/1 [00:00<?, ?it/s]"
      ]
     },
     "metadata": {},
     "output_type": "display_data"
    },
    {
     "data": {
      "application/vnd.jupyter.widget-view+json": {
       "model_id": "5e88b202656441509500eca36a92d4d9",
       "version_major": 2,
       "version_minor": 0
      },
      "text/plain": [
       "Minibatches:   0%|          | 0/1 [00:00<?, ?it/s]"
      ]
     },
     "metadata": {},
     "output_type": "display_data"
    },
    {
     "data": {
      "application/vnd.jupyter.widget-view+json": {
       "model_id": "762a35064ef5409093ed23396f015705",
       "version_major": 2,
       "version_minor": 0
      },
      "text/plain": [
       "Minibatches:   0%|          | 0/12 [00:00<?, ?it/s]"
      ]
     },
     "metadata": {},
     "output_type": "display_data"
    },
    {
     "data": {
      "application/vnd.jupyter.widget-view+json": {
       "model_id": "69e6de0ad7ff49f79cbf46acabc5fa67",
       "version_major": 2,
       "version_minor": 0
      },
      "text/plain": [
       "Minibatches:   0%|          | 0/6 [00:00<?, ?it/s]"
      ]
     },
     "metadata": {},
     "output_type": "display_data"
    },
    {
     "data": {
      "application/vnd.jupyter.widget-view+json": {
       "model_id": "e7e20f72326542e188c8356b706c4cdf",
       "version_major": 2,
       "version_minor": 0
      },
      "text/plain": [
       "Datasets:   0%|          | 0/3 [00:00<?, ?it/s]"
      ]
     },
     "metadata": {},
     "output_type": "display_data"
    },
    {
     "data": {
      "application/vnd.jupyter.widget-view+json": {
       "model_id": "18ddc962a4da4429b3609042cb6fd619",
       "version_major": 2,
       "version_minor": 0
      },
      "text/plain": [
       "Minibatches:   0%|          | 0/1 [00:00<?, ?it/s]"
      ]
     },
     "metadata": {},
     "output_type": "display_data"
    },
    {
     "data": {
      "application/vnd.jupyter.widget-view+json": {
       "model_id": "6f8d9dc27b644e128a41dd0c9e257cdf",
       "version_major": 2,
       "version_minor": 0
      },
      "text/plain": [
       "Minibatches:   0%|          | 0/1 [00:00<?, ?it/s]"
      ]
     },
     "metadata": {},
     "output_type": "display_data"
    },
    {
     "data": {
      "application/vnd.jupyter.widget-view+json": {
       "model_id": "fabda87c80db4011a3e3abd1721e015e",
       "version_major": 2,
       "version_minor": 0
      },
      "text/plain": [
       "Minibatches:   0%|          | 0/1 [00:00<?, ?it/s]"
      ]
     },
     "metadata": {},
     "output_type": "display_data"
    },
    {
     "data": {
      "application/vnd.jupyter.widget-view+json": {
       "model_id": "b711221e9d794fcbbf1c8c61e803a901",
       "version_major": 2,
       "version_minor": 0
      },
      "text/plain": [
       "Minibatches:   0%|          | 0/1 [00:00<?, ?it/s]"
      ]
     },
     "metadata": {},
     "output_type": "display_data"
    },
    {
     "data": {
      "application/vnd.jupyter.widget-view+json": {
       "model_id": "d0f4b4b2ab704f7b9d31b09cfb7d9093",
       "version_major": 2,
       "version_minor": 0
      },
      "text/plain": [
       "Minibatches:   0%|          | 0/12 [00:00<?, ?it/s]"
      ]
     },
     "metadata": {},
     "output_type": "display_data"
    },
    {
     "data": {
      "application/vnd.jupyter.widget-view+json": {
       "model_id": "0f77e31c732b43719232b5ad37810d0b",
       "version_major": 2,
       "version_minor": 0
      },
      "text/plain": [
       "Minibatches:   0%|          | 0/6 [00:00<?, ?it/s]"
      ]
     },
     "metadata": {},
     "output_type": "display_data"
    },
    {
     "data": {
      "application/vnd.jupyter.widget-view+json": {
       "model_id": "5558703c5f9544e58f3e529efaae7aed",
       "version_major": 2,
       "version_minor": 0
      },
      "text/plain": [
       "Datasets:   0%|          | 0/3 [00:00<?, ?it/s]"
      ]
     },
     "metadata": {},
     "output_type": "display_data"
    },
    {
     "data": {
      "application/vnd.jupyter.widget-view+json": {
       "model_id": "ad8745a6699c4789bed30943e5004096",
       "version_major": 2,
       "version_minor": 0
      },
      "text/plain": [
       "Minibatches:   0%|          | 0/1 [00:00<?, ?it/s]"
      ]
     },
     "metadata": {},
     "output_type": "display_data"
    },
    {
     "data": {
      "application/vnd.jupyter.widget-view+json": {
       "model_id": "afee1d5b4d5c4878ad28323bc3f6a578",
       "version_major": 2,
       "version_minor": 0
      },
      "text/plain": [
       "Minibatches:   0%|          | 0/1 [00:00<?, ?it/s]"
      ]
     },
     "metadata": {},
     "output_type": "display_data"
    },
    {
     "data": {
      "application/vnd.jupyter.widget-view+json": {
       "model_id": "8c3ab7fcb6f34b12b5777a8f74cd19d4",
       "version_major": 2,
       "version_minor": 0
      },
      "text/plain": [
       "Minibatches:   0%|          | 0/1 [00:00<?, ?it/s]"
      ]
     },
     "metadata": {},
     "output_type": "display_data"
    },
    {
     "data": {
      "application/vnd.jupyter.widget-view+json": {
       "model_id": "be6325738c6e43afb6f1ab5da895f0b1",
       "version_major": 2,
       "version_minor": 0
      },
      "text/plain": [
       "Minibatches:   0%|          | 0/1 [00:00<?, ?it/s]"
      ]
     },
     "metadata": {},
     "output_type": "display_data"
    },
    {
     "data": {
      "application/vnd.jupyter.widget-view+json": {
       "model_id": "3e2708ce2c3f479096c3d4c7a75f38d5",
       "version_major": 2,
       "version_minor": 0
      },
      "text/plain": [
       "Minibatches:   0%|          | 0/12 [00:00<?, ?it/s]"
      ]
     },
     "metadata": {},
     "output_type": "display_data"
    },
    {
     "data": {
      "application/vnd.jupyter.widget-view+json": {
       "model_id": "733cc8b35dca4c558d295c90b21e777e",
       "version_major": 2,
       "version_minor": 0
      },
      "text/plain": [
       "Minibatches:   0%|          | 0/6 [00:00<?, ?it/s]"
      ]
     },
     "metadata": {},
     "output_type": "display_data"
    },
    {
     "data": {
      "application/vnd.jupyter.widget-view+json": {
       "model_id": "9c3606a5698d486886d9669c5916d93f",
       "version_major": 2,
       "version_minor": 0
      },
      "text/plain": [
       "Datasets:   0%|          | 0/3 [00:00<?, ?it/s]"
      ]
     },
     "metadata": {},
     "output_type": "display_data"
    },
    {
     "data": {
      "application/vnd.jupyter.widget-view+json": {
       "model_id": "3783279f2f0c48b0909a576771066f58",
       "version_major": 2,
       "version_minor": 0
      },
      "text/plain": [
       "Minibatches:   0%|          | 0/1 [00:00<?, ?it/s]"
      ]
     },
     "metadata": {},
     "output_type": "display_data"
    },
    {
     "data": {
      "application/vnd.jupyter.widget-view+json": {
       "model_id": "5ea040b9bf974244a6adc53a131d817d",
       "version_major": 2,
       "version_minor": 0
      },
      "text/plain": [
       "Minibatches:   0%|          | 0/1 [00:00<?, ?it/s]"
      ]
     },
     "metadata": {},
     "output_type": "display_data"
    },
    {
     "data": {
      "application/vnd.jupyter.widget-view+json": {
       "model_id": "f0433d7324154871a550709b59a0bf1f",
       "version_major": 2,
       "version_minor": 0
      },
      "text/plain": [
       "Minibatches:   0%|          | 0/1 [00:00<?, ?it/s]"
      ]
     },
     "metadata": {},
     "output_type": "display_data"
    },
    {
     "data": {
      "application/vnd.jupyter.widget-view+json": {
       "model_id": "554a397bfaf140d9950c10c2541cf265",
       "version_major": 2,
       "version_minor": 0
      },
      "text/plain": [
       "Minibatches:   0%|          | 0/1 [00:00<?, ?it/s]"
      ]
     },
     "metadata": {},
     "output_type": "display_data"
    },
    {
     "data": {
      "application/vnd.jupyter.widget-view+json": {
       "model_id": "81d5f773617b4d4d9bd0c969a6b7a998",
       "version_major": 2,
       "version_minor": 0
      },
      "text/plain": [
       "Minibatches:   0%|          | 0/12 [00:00<?, ?it/s]"
      ]
     },
     "metadata": {},
     "output_type": "display_data"
    },
    {
     "data": {
      "application/vnd.jupyter.widget-view+json": {
       "model_id": "5caa36498ec744158f38265cf8f7d426",
       "version_major": 2,
       "version_minor": 0
      },
      "text/plain": [
       "Minibatches:   0%|          | 0/6 [00:00<?, ?it/s]"
      ]
     },
     "metadata": {},
     "output_type": "display_data"
    },
    {
     "data": {
      "application/vnd.jupyter.widget-view+json": {
       "model_id": "e3420f35926549dbad3d1575fee94d87",
       "version_major": 2,
       "version_minor": 0
      },
      "text/plain": [
       "Datasets:   0%|          | 0/3 [00:00<?, ?it/s]"
      ]
     },
     "metadata": {},
     "output_type": "display_data"
    },
    {
     "data": {
      "application/vnd.jupyter.widget-view+json": {
       "model_id": "49caf91317014a4986dbf34ed008404e",
       "version_major": 2,
       "version_minor": 0
      },
      "text/plain": [
       "Minibatches:   0%|          | 0/1 [00:00<?, ?it/s]"
      ]
     },
     "metadata": {},
     "output_type": "display_data"
    },
    {
     "data": {
      "application/vnd.jupyter.widget-view+json": {
       "model_id": "d0602d09c00a4e848205cebc86afed86",
       "version_major": 2,
       "version_minor": 0
      },
      "text/plain": [
       "Minibatches:   0%|          | 0/1 [00:00<?, ?it/s]"
      ]
     },
     "metadata": {},
     "output_type": "display_data"
    },
    {
     "data": {
      "application/vnd.jupyter.widget-view+json": {
       "model_id": "2fbf6b334440471d97c1fa0364e7de43",
       "version_major": 2,
       "version_minor": 0
      },
      "text/plain": [
       "Minibatches:   0%|          | 0/1 [00:00<?, ?it/s]"
      ]
     },
     "metadata": {},
     "output_type": "display_data"
    },
    {
     "data": {
      "application/vnd.jupyter.widget-view+json": {
       "model_id": "a9362b3f69d247ca8a8c436a045f8df6",
       "version_major": 2,
       "version_minor": 0
      },
      "text/plain": [
       "Minibatches:   0%|          | 0/1 [00:00<?, ?it/s]"
      ]
     },
     "metadata": {},
     "output_type": "display_data"
    },
    {
     "data": {
      "application/vnd.jupyter.widget-view+json": {
       "model_id": "cabc3689d6c94b788eeaf2f8c34bbe8d",
       "version_major": 2,
       "version_minor": 0
      },
      "text/plain": [
       "Minibatches:   0%|          | 0/12 [00:00<?, ?it/s]"
      ]
     },
     "metadata": {},
     "output_type": "display_data"
    },
    {
     "data": {
      "application/vnd.jupyter.widget-view+json": {
       "model_id": "460fb2779bbb4acfb033f85202f0a939",
       "version_major": 2,
       "version_minor": 0
      },
      "text/plain": [
       "Minibatches:   0%|          | 0/6 [00:00<?, ?it/s]"
      ]
     },
     "metadata": {},
     "output_type": "display_data"
    },
    {
     "data": {
      "application/vnd.jupyter.widget-view+json": {
       "model_id": "47788bf9d084496982dfe32d00324823",
       "version_major": 2,
       "version_minor": 0
      },
      "text/plain": [
       "Datasets:   0%|          | 0/3 [00:00<?, ?it/s]"
      ]
     },
     "metadata": {},
     "output_type": "display_data"
    },
    {
     "data": {
      "application/vnd.jupyter.widget-view+json": {
       "model_id": "a36bdad9f12d4f5c98b3ee871170fa8d",
       "version_major": 2,
       "version_minor": 0
      },
      "text/plain": [
       "Minibatches:   0%|          | 0/1 [00:00<?, ?it/s]"
      ]
     },
     "metadata": {},
     "output_type": "display_data"
    },
    {
     "data": {
      "application/vnd.jupyter.widget-view+json": {
       "model_id": "72cdfefc04e7457fbd0b4f40d08399d9",
       "version_major": 2,
       "version_minor": 0
      },
      "text/plain": [
       "Minibatches:   0%|          | 0/1 [00:00<?, ?it/s]"
      ]
     },
     "metadata": {},
     "output_type": "display_data"
    },
    {
     "data": {
      "application/vnd.jupyter.widget-view+json": {
       "model_id": "985dd04641ca48a19366e5bae5554f18",
       "version_major": 2,
       "version_minor": 0
      },
      "text/plain": [
       "Minibatches:   0%|          | 0/1 [00:00<?, ?it/s]"
      ]
     },
     "metadata": {},
     "output_type": "display_data"
    },
    {
     "data": {
      "application/vnd.jupyter.widget-view+json": {
       "model_id": "afdd5d3d425b4fe69d030b95a2e48318",
       "version_major": 2,
       "version_minor": 0
      },
      "text/plain": [
       "Minibatches:   0%|          | 0/1 [00:00<?, ?it/s]"
      ]
     },
     "metadata": {},
     "output_type": "display_data"
    },
    {
     "data": {
      "application/vnd.jupyter.widget-view+json": {
       "model_id": "e68ed588fdb3425bac541af2307accc2",
       "version_major": 2,
       "version_minor": 0
      },
      "text/plain": [
       "Minibatches:   0%|          | 0/12 [00:00<?, ?it/s]"
      ]
     },
     "metadata": {},
     "output_type": "display_data"
    },
    {
     "data": {
      "application/vnd.jupyter.widget-view+json": {
       "model_id": "bdfe67c915c44effa2db141b92c18e66",
       "version_major": 2,
       "version_minor": 0
      },
      "text/plain": [
       "Minibatches:   0%|          | 0/6 [00:00<?, ?it/s]"
      ]
     },
     "metadata": {},
     "output_type": "display_data"
    },
    {
     "data": {
      "application/vnd.jupyter.widget-view+json": {
       "model_id": "620102c94f9549a4bd6adeac61d1f81d",
       "version_major": 2,
       "version_minor": 0
      },
      "text/plain": [
       "Datasets:   0%|          | 0/3 [00:00<?, ?it/s]"
      ]
     },
     "metadata": {},
     "output_type": "display_data"
    },
    {
     "data": {
      "application/vnd.jupyter.widget-view+json": {
       "model_id": "25db2cd8285d4f2fb3b64df75b3479e8",
       "version_major": 2,
       "version_minor": 0
      },
      "text/plain": [
       "Minibatches:   0%|          | 0/1 [00:00<?, ?it/s]"
      ]
     },
     "metadata": {},
     "output_type": "display_data"
    },
    {
     "data": {
      "application/vnd.jupyter.widget-view+json": {
       "model_id": "b090f4c4063c49bfaed56acff0d57e4d",
       "version_major": 2,
       "version_minor": 0
      },
      "text/plain": [
       "Minibatches:   0%|          | 0/1 [00:00<?, ?it/s]"
      ]
     },
     "metadata": {},
     "output_type": "display_data"
    },
    {
     "data": {
      "application/vnd.jupyter.widget-view+json": {
       "model_id": "310fea5a1c9e4708912c362c93378f62",
       "version_major": 2,
       "version_minor": 0
      },
      "text/plain": [
       "Minibatches:   0%|          | 0/1 [00:00<?, ?it/s]"
      ]
     },
     "metadata": {},
     "output_type": "display_data"
    },
    {
     "data": {
      "application/vnd.jupyter.widget-view+json": {
       "model_id": "bc7a8067f55b4c448dc2046d5413e558",
       "version_major": 2,
       "version_minor": 0
      },
      "text/plain": [
       "Minibatches:   0%|          | 0/1 [00:00<?, ?it/s]"
      ]
     },
     "metadata": {},
     "output_type": "display_data"
    },
    {
     "data": {
      "application/vnd.jupyter.widget-view+json": {
       "model_id": "be1cf94fedbf45f386eefe1168b720b0",
       "version_major": 2,
       "version_minor": 0
      },
      "text/plain": [
       "Minibatches:   0%|          | 0/12 [00:00<?, ?it/s]"
      ]
     },
     "metadata": {},
     "output_type": "display_data"
    },
    {
     "data": {
      "application/vnd.jupyter.widget-view+json": {
       "model_id": "3dacd23aad444b6dbef1e7ec7f66e150",
       "version_major": 2,
       "version_minor": 0
      },
      "text/plain": [
       "Minibatches:   0%|          | 0/6 [00:00<?, ?it/s]"
      ]
     },
     "metadata": {},
     "output_type": "display_data"
    },
    {
     "data": {
      "application/vnd.jupyter.widget-view+json": {
       "model_id": "6433e6ce64fd43548274255f1b53a49d",
       "version_major": 2,
       "version_minor": 0
      },
      "text/plain": [
       "Datasets:   0%|          | 0/3 [00:00<?, ?it/s]"
      ]
     },
     "metadata": {},
     "output_type": "display_data"
    },
    {
     "data": {
      "application/vnd.jupyter.widget-view+json": {
       "model_id": "cc3d98dc6330489584afc6c4f70bef17",
       "version_major": 2,
       "version_minor": 0
      },
      "text/plain": [
       "Minibatches:   0%|          | 0/1 [00:00<?, ?it/s]"
      ]
     },
     "metadata": {},
     "output_type": "display_data"
    },
    {
     "data": {
      "application/vnd.jupyter.widget-view+json": {
       "model_id": "1549c9336b0f4d5da2805c9bb44f4415",
       "version_major": 2,
       "version_minor": 0
      },
      "text/plain": [
       "Minibatches:   0%|          | 0/1 [00:00<?, ?it/s]"
      ]
     },
     "metadata": {},
     "output_type": "display_data"
    },
    {
     "data": {
      "application/vnd.jupyter.widget-view+json": {
       "model_id": "cf27daeca17241d7b8e99d6d08e6f079",
       "version_major": 2,
       "version_minor": 0
      },
      "text/plain": [
       "Minibatches:   0%|          | 0/1 [00:00<?, ?it/s]"
      ]
     },
     "metadata": {},
     "output_type": "display_data"
    },
    {
     "data": {
      "application/vnd.jupyter.widget-view+json": {
       "model_id": "b5b14eb9725b4353aa79193859edfa2c",
       "version_major": 2,
       "version_minor": 0
      },
      "text/plain": [
       "Minibatches:   0%|          | 0/1 [00:00<?, ?it/s]"
      ]
     },
     "metadata": {},
     "output_type": "display_data"
    },
    {
     "data": {
      "application/vnd.jupyter.widget-view+json": {
       "model_id": "6bd8819ea2c9431d861d8fcdf1569b22",
       "version_major": 2,
       "version_minor": 0
      },
      "text/plain": [
       "Minibatches:   0%|          | 0/12 [00:00<?, ?it/s]"
      ]
     },
     "metadata": {},
     "output_type": "display_data"
    },
    {
     "data": {
      "application/vnd.jupyter.widget-view+json": {
       "model_id": "4cf4b5dec50746928718bc6cb7ca04d1",
       "version_major": 2,
       "version_minor": 0
      },
      "text/plain": [
       "Minibatches:   0%|          | 0/6 [00:00<?, ?it/s]"
      ]
     },
     "metadata": {},
     "output_type": "display_data"
    },
    {
     "name": "stdout",
     "output_type": "stream",
     "text": [
      "INFO: Early stopping counter 2 of 5\n"
     ]
    },
    {
     "data": {
      "application/vnd.jupyter.widget-view+json": {
       "model_id": "bffd62b79acf4e2384b9a574c41bad65",
       "version_major": 2,
       "version_minor": 0
      },
      "text/plain": [
       "Datasets:   0%|          | 0/3 [00:00<?, ?it/s]"
      ]
     },
     "metadata": {},
     "output_type": "display_data"
    },
    {
     "data": {
      "application/vnd.jupyter.widget-view+json": {
       "model_id": "7ea54dfa34af417cbbdca8b65a133dd6",
       "version_major": 2,
       "version_minor": 0
      },
      "text/plain": [
       "Minibatches:   0%|          | 0/1 [00:00<?, ?it/s]"
      ]
     },
     "metadata": {},
     "output_type": "display_data"
    },
    {
     "data": {
      "application/vnd.jupyter.widget-view+json": {
       "model_id": "3cbbf9754af8405881c8ced35ce08681",
       "version_major": 2,
       "version_minor": 0
      },
      "text/plain": [
       "Minibatches:   0%|          | 0/1 [00:00<?, ?it/s]"
      ]
     },
     "metadata": {},
     "output_type": "display_data"
    },
    {
     "data": {
      "application/vnd.jupyter.widget-view+json": {
       "model_id": "e6a112d238004f7da057a153d4b97d73",
       "version_major": 2,
       "version_minor": 0
      },
      "text/plain": [
       "Minibatches:   0%|          | 0/1 [00:00<?, ?it/s]"
      ]
     },
     "metadata": {},
     "output_type": "display_data"
    },
    {
     "data": {
      "application/vnd.jupyter.widget-view+json": {
       "model_id": "141e6cb12d4f45beb368f7d77ba6f2af",
       "version_major": 2,
       "version_minor": 0
      },
      "text/plain": [
       "Minibatches:   0%|          | 0/1 [00:00<?, ?it/s]"
      ]
     },
     "metadata": {},
     "output_type": "display_data"
    },
    {
     "data": {
      "application/vnd.jupyter.widget-view+json": {
       "model_id": "c85239ce91974ac6822a2e4d61e11f27",
       "version_major": 2,
       "version_minor": 0
      },
      "text/plain": [
       "Minibatches:   0%|          | 0/12 [00:00<?, ?it/s]"
      ]
     },
     "metadata": {},
     "output_type": "display_data"
    },
    {
     "data": {
      "application/vnd.jupyter.widget-view+json": {
       "model_id": "4be6b73eb7884333bef16ff7a255e2bc",
       "version_major": 2,
       "version_minor": 0
      },
      "text/plain": [
       "Minibatches:   0%|          | 0/6 [00:00<?, ?it/s]"
      ]
     },
     "metadata": {},
     "output_type": "display_data"
    },
    {
     "data": {
      "application/vnd.jupyter.widget-view+json": {
       "model_id": "cd118918d3c44fe990e0ece0eb532334",
       "version_major": 2,
       "version_minor": 0
      },
      "text/plain": [
       "Datasets:   0%|          | 0/3 [00:00<?, ?it/s]"
      ]
     },
     "metadata": {},
     "output_type": "display_data"
    },
    {
     "data": {
      "application/vnd.jupyter.widget-view+json": {
       "model_id": "b4dbbdafabcc426690b4e5d498db6420",
       "version_major": 2,
       "version_minor": 0
      },
      "text/plain": [
       "Minibatches:   0%|          | 0/1 [00:00<?, ?it/s]"
      ]
     },
     "metadata": {},
     "output_type": "display_data"
    },
    {
     "data": {
      "application/vnd.jupyter.widget-view+json": {
       "model_id": "570364e09bc64275a2e06a73167ebd4d",
       "version_major": 2,
       "version_minor": 0
      },
      "text/plain": [
       "Minibatches:   0%|          | 0/1 [00:00<?, ?it/s]"
      ]
     },
     "metadata": {},
     "output_type": "display_data"
    },
    {
     "data": {
      "application/vnd.jupyter.widget-view+json": {
       "model_id": "c0d67711cb0d4d3bafdcd2d7a1815080",
       "version_major": 2,
       "version_minor": 0
      },
      "text/plain": [
       "Minibatches:   0%|          | 0/1 [00:00<?, ?it/s]"
      ]
     },
     "metadata": {},
     "output_type": "display_data"
    },
    {
     "data": {
      "application/vnd.jupyter.widget-view+json": {
       "model_id": "c593505b4b644862adfc28c3ae445933",
       "version_major": 2,
       "version_minor": 0
      },
      "text/plain": [
       "Minibatches:   0%|          | 0/1 [00:00<?, ?it/s]"
      ]
     },
     "metadata": {},
     "output_type": "display_data"
    },
    {
     "data": {
      "application/vnd.jupyter.widget-view+json": {
       "model_id": "31d33999f8c14f6c91be458e658f29d6",
       "version_major": 2,
       "version_minor": 0
      },
      "text/plain": [
       "Minibatches:   0%|          | 0/12 [00:00<?, ?it/s]"
      ]
     },
     "metadata": {},
     "output_type": "display_data"
    },
    {
     "data": {
      "application/vnd.jupyter.widget-view+json": {
       "model_id": "6387abd1fc2b4948bfac620fb05a8ad1",
       "version_major": 2,
       "version_minor": 0
      },
      "text/plain": [
       "Minibatches:   0%|          | 0/6 [00:00<?, ?it/s]"
      ]
     },
     "metadata": {},
     "output_type": "display_data"
    },
    {
     "name": "stdout",
     "output_type": "stream",
     "text": [
      "INFO: Early stopping counter 3 of 5\n"
     ]
    },
    {
     "data": {
      "application/vnd.jupyter.widget-view+json": {
       "model_id": "1266d3f1fe3a4a6386488b68bfa10cfc",
       "version_major": 2,
       "version_minor": 0
      },
      "text/plain": [
       "Datasets:   0%|          | 0/3 [00:00<?, ?it/s]"
      ]
     },
     "metadata": {},
     "output_type": "display_data"
    },
    {
     "data": {
      "application/vnd.jupyter.widget-view+json": {
       "model_id": "7a31e9c5386149eb8000ffd7042fca44",
       "version_major": 2,
       "version_minor": 0
      },
      "text/plain": [
       "Minibatches:   0%|          | 0/1 [00:00<?, ?it/s]"
      ]
     },
     "metadata": {},
     "output_type": "display_data"
    },
    {
     "data": {
      "application/vnd.jupyter.widget-view+json": {
       "model_id": "56e80970eb3844b8aada66b8ee1a91c4",
       "version_major": 2,
       "version_minor": 0
      },
      "text/plain": [
       "Minibatches:   0%|          | 0/1 [00:00<?, ?it/s]"
      ]
     },
     "metadata": {},
     "output_type": "display_data"
    },
    {
     "data": {
      "application/vnd.jupyter.widget-view+json": {
       "model_id": "73fa07fbda5a4f47b2194c1113de9691",
       "version_major": 2,
       "version_minor": 0
      },
      "text/plain": [
       "Minibatches:   0%|          | 0/1 [00:00<?, ?it/s]"
      ]
     },
     "metadata": {},
     "output_type": "display_data"
    },
    {
     "data": {
      "application/vnd.jupyter.widget-view+json": {
       "model_id": "28babc1a30d745279e09977be6a29390",
       "version_major": 2,
       "version_minor": 0
      },
      "text/plain": [
       "Minibatches:   0%|          | 0/1 [00:00<?, ?it/s]"
      ]
     },
     "metadata": {},
     "output_type": "display_data"
    },
    {
     "data": {
      "application/vnd.jupyter.widget-view+json": {
       "model_id": "d14af5b7e7d342108650bd0df7b5d698",
       "version_major": 2,
       "version_minor": 0
      },
      "text/plain": [
       "Minibatches:   0%|          | 0/12 [00:00<?, ?it/s]"
      ]
     },
     "metadata": {},
     "output_type": "display_data"
    },
    {
     "data": {
      "application/vnd.jupyter.widget-view+json": {
       "model_id": "8d2eee585d8142f7bc1ce8fc4788507b",
       "version_major": 2,
       "version_minor": 0
      },
      "text/plain": [
       "Minibatches:   0%|          | 0/6 [00:00<?, ?it/s]"
      ]
     },
     "metadata": {},
     "output_type": "display_data"
    },
    {
     "name": "stdout",
     "output_type": "stream",
     "text": [
      "INFO: Early stopping counter 4 of 5\n"
     ]
    },
    {
     "data": {
      "application/vnd.jupyter.widget-view+json": {
       "model_id": "bff0b4bb761d4f14b7370a662b53dbd0",
       "version_major": 2,
       "version_minor": 0
      },
      "text/plain": [
       "Datasets:   0%|          | 0/3 [00:00<?, ?it/s]"
      ]
     },
     "metadata": {},
     "output_type": "display_data"
    },
    {
     "data": {
      "application/vnd.jupyter.widget-view+json": {
       "model_id": "bf92a41e3d604cf991584c7b674a9fcb",
       "version_major": 2,
       "version_minor": 0
      },
      "text/plain": [
       "Minibatches:   0%|          | 0/1 [00:00<?, ?it/s]"
      ]
     },
     "metadata": {},
     "output_type": "display_data"
    },
    {
     "data": {
      "application/vnd.jupyter.widget-view+json": {
       "model_id": "bf7bc881338b498789a2e8dc878ebcf7",
       "version_major": 2,
       "version_minor": 0
      },
      "text/plain": [
       "Minibatches:   0%|          | 0/1 [00:00<?, ?it/s]"
      ]
     },
     "metadata": {},
     "output_type": "display_data"
    },
    {
     "data": {
      "application/vnd.jupyter.widget-view+json": {
       "model_id": "d666048e95034a358a02d21aaa1f3e5a",
       "version_major": 2,
       "version_minor": 0
      },
      "text/plain": [
       "Minibatches:   0%|          | 0/1 [00:00<?, ?it/s]"
      ]
     },
     "metadata": {},
     "output_type": "display_data"
    },
    {
     "data": {
      "application/vnd.jupyter.widget-view+json": {
       "model_id": "ff53f8a7ae2d49a7954deccd152ab577",
       "version_major": 2,
       "version_minor": 0
      },
      "text/plain": [
       "Minibatches:   0%|          | 0/1 [00:00<?, ?it/s]"
      ]
     },
     "metadata": {},
     "output_type": "display_data"
    },
    {
     "data": {
      "application/vnd.jupyter.widget-view+json": {
       "model_id": "f3acef266cfe4495b500e32caf6b0b52",
       "version_major": 2,
       "version_minor": 0
      },
      "text/plain": [
       "Minibatches:   0%|          | 0/12 [00:00<?, ?it/s]"
      ]
     },
     "metadata": {},
     "output_type": "display_data"
    },
    {
     "data": {
      "application/vnd.jupyter.widget-view+json": {
       "model_id": "8fd10edb97844f9fa1a6e9efe977a542",
       "version_major": 2,
       "version_minor": 0
      },
      "text/plain": [
       "Minibatches:   0%|          | 0/6 [00:00<?, ?it/s]"
      ]
     },
     "metadata": {},
     "output_type": "display_data"
    },
    {
     "name": "stdout",
     "output_type": "stream",
     "text": [
      "INFO: Early stopping counter 5 of 5\n",
      "INFO: Early stopping\n"
     ]
    }
   ],
   "source": [
    "ModelCls = import_object(MODEL_CLS)\n",
    "\n",
    "# Note that we assume all dataloaders will provide the\n",
    "# same kind of input shape, so we onlt test on one\n",
    "if ModelCls.needs_input_shape:\n",
    "    a_dataloader = dataloaders[next(iter(dataloaders.keys()))][\"train\"]\n",
    "    x_sample, _ = next(iter(a_dataloader))\n",
    "    MODEL_KWARGS[\"input_shape\"] = ModelCls.estimate_input_shape(x_sample)\n",
    "\n",
    "nn_model = ModelCls(**MODEL_KWARGS)\n",
    "\n",
    "optimizer = import_object(OPTIMIZER)(nn_model.parameters(), **OPTIMIZER_KWARGS)\n",
    "loss_function = import_object(LOSS)()\n",
    "\n",
    "if VALIDATION:\n",
    "    lr_scheduler = LRScheduler(optimizer)\n",
    "    early_stopping = EarlyStopping(**EARLY_STOPPING_KWARGS)\n",
    "\n",
    "train_loss_timeseries = []\n",
    "val_loss_timeseries = []\n",
    "\n",
    "range_epochs = trange(MAX_EPOCHS, desc=\"Epochs\")\n",
    "for epoch in range_epochs:\n",
    "    train_loss = 0.0\n",
    "    val_loss = 0.0\n",
    "    for key, loader in tqdm(dataloaders.items(), desc=\"Datasets\", leave=False):\n",
    "        try:\n",
    "            mtype_class = import_object(f\"kinoml.core.measurements.{key}\")\n",
    "        except AttributeError: \n",
    "            mtype_class = import_object(f\"kinoml.core.measurements.{key.split('__')[1]}\")\n",
    "        loss_adapter = mtype_class.loss_adapter(backend=\"pytorch\")\n",
    "        \n",
    "        # TRAIN\n",
    "        nn_model.train()\n",
    "        for x, y in tqdm(loader[\"train\"], desc=\"Minibatches\", leave=False):\n",
    "            # Clear gradients\n",
    "            optimizer.zero_grad()\n",
    "            # Obtain model prediction given model input\n",
    "            prediction = nn_model(x)\n",
    "            # apply observation model\n",
    "            loss = loss_adapter(prediction.view_as(y), y, loss_function)\n",
    "            # Pred. must match y shape!    ^^^^^^^^^^\n",
    "            # Obtain loss for the predicted output\n",
    "            train_loss += loss.item()\n",
    "            # Gradients w.r.t. parameters\n",
    "            loss.backward()\n",
    "            # Optimize\n",
    "            optimizer.step()\n",
    "            \n",
    "        \n",
    "        # VALIDATE\n",
    "        if VALIDATION:\n",
    "            nn_model.eval()\n",
    "            with torch.no_grad():\n",
    "                for x, y in tqdm(loader[\"val\"], desc=\"Minibatches\", leave=False):\n",
    "                    prediction = nn_model(x).view_as(y)\n",
    "                    loss = loss_adapter(prediction.view_as(y), y, loss_function)\n",
    "                    val_loss += loss.item()\n",
    "                    range_epochs.set_description(f\"Epochs (Avg. val. loss={val_loss / (epoch + 1):.2e})\")\n",
    "    \n",
    "    # LOG LOSSES\n",
    "    train_loss_timeseries.append(train_loss)\n",
    "    \n",
    "    if VALIDATION:\n",
    "        val_loss_timeseries.append(val_loss)\n",
    "\n",
    "        # Adjust training if needed\n",
    "        lr_scheduler(val_loss)\n",
    "        early_stopping(val_loss)\n",
    "        if early_stopping.early_stop:\n",
    "            break"
   ]
  },
  {
   "cell_type": "markdown",
   "metadata": {},
   "source": [
    "Save model to disk"
   ]
  },
  {
   "cell_type": "code",
   "execution_count": 33,
   "metadata": {},
   "outputs": [],
   "source": [
    "torch.save(nn_model, OUT / \"nn_model.pt\")"
   ]
  },
  {
   "cell_type": "markdown",
   "metadata": {},
   "source": [
    "### Evaluate model"
   ]
  },
  {
   "cell_type": "code",
   "execution_count": 34,
   "metadata": {},
   "outputs": [
    {
     "data": {
      "text/markdown": [
       "#### P00533__pKiMeasurement"
      ],
      "text/plain": [
       "<IPython.core.display.Markdown object>"
      ]
     },
     "metadata": {},
     "output_type": "display_data"
    },
    {
     "data": {
      "text/markdown": [
       "##### train"
      ],
      "text/plain": [
       "<IPython.core.display.Markdown object>"
      ]
     },
     "metadata": {},
     "output_type": "display_data"
    },
    {
     "name": "stdout",
     "output_type": "stream",
     "text": [
      " MAE: 0.1604±0.0194 95CI=(0.1331, 0.1940)\n",
      " MSE: 0.0351±0.0071 95CI=(0.0248, 0.0473)\n",
      "  R2: 0.9759±0.0147 95CI=(0.9517, 0.9889)\n",
      "RMSE: 0.1863±0.0188 95CI=(0.1575, 0.2175)\n"
     ]
    },
    {
     "data": {
      "image/png": "[encoded data removed]",
      "text/plain": [
       "<Figure size 640x480 with 1 Axes>"
      ]
     },
     "metadata": {},
     "output_type": "display_data"
    },
    {
     "data": {
      "text/markdown": [
       "##### test"
      ],
      "text/plain": [
       "<IPython.core.display.Markdown object>"
      ]
     },
     "metadata": {},
     "output_type": "display_data"
    },
    {
     "name": "stdout",
     "output_type": "stream",
     "text": [
      " MAE: 0.1827±0.0276 95CI=(0.1317, 0.2254)\n",
      " MSE: 0.0421±0.0114 95CI=(0.0218, 0.0610)\n",
      "  R2: 0.9659±0.0406 95CI=(0.8957, 0.9884)\n",
      "RMSE: 0.2032±0.0285 95CI=(0.1476, 0.2470)\n"
     ]
    },
    {
     "data": {
      "image/png": "[encoded data removed]",
      "text/plain": [
       "<Figure size 640x480 with 1 Axes>"
      ]
     },
     "metadata": {},
     "output_type": "display_data"
    },
    {
     "data": {
      "text/markdown": [
       "##### val"
      ],
      "text/plain": [
       "<IPython.core.display.Markdown object>"
      ]
     },
     "metadata": {},
     "output_type": "display_data"
    },
    {
     "name": "stdout",
     "output_type": "stream",
     "text": [
      " MAE: 0.1334±0.0305 95CI=(0.0860, 0.1868)\n",
      " MSE: 0.0267±0.0107 95CI=(0.0119, 0.0438)\n",
      "  R2: 0.9695±0.0289 95CI=(0.9180, 0.9935)\n",
      "RMSE: 0.1599±0.0329 95CI=(0.1090, 0.2092)\n"
     ]
    },
    {
     "data": {
      "image/png": "[encoded data removed]",
      "text/plain": [
       "<Figure size 640x480 with 1 Axes>"
      ]
     },
     "metadata": {},
     "output_type": "display_data"
    },
    {
     "data": {
      "text/markdown": [
       "#### P00533__pKdMeasurement"
      ],
      "text/plain": [
       "<IPython.core.display.Markdown object>"
      ]
     },
     "metadata": {},
     "output_type": "display_data"
    },
    {
     "data": {
      "text/markdown": [
       "##### train"
      ],
      "text/plain": [
       "<IPython.core.display.Markdown object>"
      ]
     },
     "metadata": {},
     "output_type": "display_data"
    },
    {
     "name": "stdout",
     "output_type": "stream",
     "text": [
      " MAE: 0.3447±0.1288 95CI=(0.1899, 0.5692)\n",
      " MSE: 0.3078±0.2553 95CI=(0.0473, 0.7105)\n",
      "  R2: 0.7518±0.2481 95CI=(0.2974, 0.9662)\n",
      "RMSE: 0.5049±0.2301 95CI=(0.2174, 0.8429)\n"
     ]
    },
    {
     "data": {
      "image/png": "[encoded data removed]",
      "text/plain": [
       "<Figure size 640x480 with 1 Axes>"
      ]
     },
     "metadata": {},
     "output_type": "display_data"
    },
    {
     "data": {
      "text/markdown": [
       "##### test"
      ],
      "text/plain": [
       "<IPython.core.display.Markdown object>"
      ]
     },
     "metadata": {},
     "output_type": "display_data"
    },
    {
     "name": "stdout",
     "output_type": "stream",
     "text": [
      " MAE: 0.2467±0.0704 95CI=(0.1483, 0.3732)\n",
      " MSE: 0.0879±0.0470 95CI=(0.0278, 0.1694)\n",
      "  R2: 0.7269±0.9792 95CI=(0.6081, 0.9601)\n",
      "RMSE: 0.2860±0.0784 95CI=(0.1666, 0.4116)\n"
     ]
    },
    {
     "data": {
      "image/png": "[encoded data removed]",
      "text/plain": [
       "<Figure size 640x480 with 1 Axes>"
      ]
     },
     "metadata": {},
     "output_type": "display_data"
    },
    {
     "data": {
      "text/markdown": [
       "##### val"
      ],
      "text/plain": [
       "<IPython.core.display.Markdown object>"
      ]
     },
     "metadata": {},
     "output_type": "display_data"
    },
    {
     "name": "stdout",
     "output_type": "stream",
     "text": [
      " MAE: 0.4523±0.2470 95CI=(0.1672, 0.8707)\n",
      " MSE: 0.5403±0.5099 95CI=(0.0346, 1.3158)\n",
      "  R2: -53.9573±538.8569 95CI=(-0.8780, 0.9748)\n",
      "RMSE: 0.6364±0.3677 95CI=(0.1859, 1.1471)\n"
     ]
    },
    {
     "data": {
      "image/png": "[encoded data removed]",
      "text/plain": [
       "<Figure size 640x480 with 1 Axes>"
      ]
     },
     "metadata": {},
     "output_type": "display_data"
    },
    {
     "data": {
      "text/markdown": [
       "#### P00533__pIC50Measurement"
      ],
      "text/plain": [
       "<IPython.core.display.Markdown object>"
      ]
     },
     "metadata": {},
     "output_type": "display_data"
    },
    {
     "data": {
      "text/markdown": [
       "##### train"
      ],
      "text/plain": [
       "<IPython.core.display.Markdown object>"
      ]
     },
     "metadata": {},
     "output_type": "display_data"
    },
    {
     "name": "stdout",
     "output_type": "stream",
     "text": [
      " MAE: 0.1833±0.0072 95CI=(0.1726, 0.1958)\n",
      " MSE: 0.0722±0.0093 95CI=(0.0590, 0.0885)\n",
      "  R2: 0.9634±0.0046 95CI=(0.9540, 0.9695)\n",
      "RMSE: 0.2682±0.0170 95CI=(0.2430, 0.2975)\n"
     ]
    },
    {
     "data": {
      "image/png": "[encoded data removed]",
      "text/plain": [
       "<Figure size 640x480 with 1 Axes>"
      ]
     },
     "metadata": {},
     "output_type": "display_data"
    },
    {
     "data": {
      "text/markdown": [
       "##### test"
      ],
      "text/plain": [
       "<IPython.core.display.Markdown object>"
      ]
     },
     "metadata": {},
     "output_type": "display_data"
    },
    {
     "name": "stdout",
     "output_type": "stream",
     "text": [
      " MAE: 0.1798±0.0097 95CI=(0.1662, 0.1979)\n",
      " MSE: 0.0667±0.0148 95CI=(0.0490, 0.0935)\n",
      "  R2: 0.9645±0.0079 95CI=(0.9493, 0.9742)\n",
      "RMSE: 0.2568±0.0279 95CI=(0.2213, 0.3058)\n"
     ]
    },
    {
     "data": {
      "image/png": "[encoded data removed]",
      "text/plain": [
       "<Figure size 640x480 with 1 Axes>"
      ]
     },
     "metadata": {},
     "output_type": "display_data"
    },
    {
     "data": {
      "text/markdown": [
       "##### val"
      ],
      "text/plain": [
       "<IPython.core.display.Markdown object>"
      ]
     },
     "metadata": {},
     "output_type": "display_data"
    },
    {
     "name": "stdout",
     "output_type": "stream",
     "text": [
      " MAE: 0.1862±0.0108 95CI=(0.1705, 0.2051)\n",
      " MSE: 0.0773±0.0113 95CI=(0.0601, 0.0970)\n",
      "  R2: 0.9629±0.0059 95CI=(0.9526, 0.9709)\n",
      "RMSE: 0.2773±0.0202 95CI=(0.2452, 0.3114)\n"
     ]
    },
    {
     "data": {
      "image/png": "[encoded data removed]",
      "text/plain": [
       "<Figure size 640x480 with 1 Axes>"
      ]
     },
     "metadata": {},
     "output_type": "display_data"
    }
   ],
   "source": [
    "metrics = {}\n",
    "nn_model.train(False)\n",
    "for key, loader in dataloaders.items():\n",
    "    metrics[key] = {}\n",
    "    display(Markdown(f\"#### {key}\"))\n",
    "    for ttype, dataloader in loader.items():\n",
    "        display(Markdown(f\"##### {ttype}\"))\n",
    "        try:\n",
    "            mtype= import_object(f\"kinoml.core.measurements.{key}\")\n",
    "        except AttributeError: \n",
    "            mtype = import_object(f\"kinoml.core.measurements.{key.split('__')[1]}\")\n",
    "        obs_model = mtype.observation_model(backend=\"pytorch\")\n",
    "        x, y = dataloader.dataset[dataloader.batch_sampler.sampler.indices]\n",
    "        prediction = obs_model(nn_model(x).view_as(y).detach().numpy())\n",
    "\n",
    "        perf_data = performance(prediction, y, verbose=False)\n",
    "        metrics[key][ttype] = {}\n",
    "        for perfkey, values in perf_data.items():\n",
    "            metrics[key][ttype][perfkey] = {\"mean\": values[0], \"std\": values[1]}\n",
    "        display(predicted_vs_observed(prediction, y, mtype))"
   ]
  },
  {
   "cell_type": "markdown",
   "metadata": {},
   "source": [
    "### Summary\n",
    "\n",
    "`kinase_metrics` is a nested dictionary with these dimensions:\n",
    "\n",
    "- measurement type\n",
    "- metric\n",
    "- mean & standard deviation"
   ]
  },
  {
   "cell_type": "code",
   "execution_count": 35,
   "metadata": {},
   "outputs": [
    {
     "data": {
      "text/markdown": [
       "\n",
       "### Configuration \n",
       "\n",
       "```json\n",
       "{\n",
       "  \"VERSION\": \"2023.11.06\",\n",
       "  \"HERE\": \"/home/raquellrdc/Desktop/postdoc/kinoml_tech_paper_final/kinoml/examples/experiments/ligand-only-smiles-EGFR\",\n",
       "  \"DATASET_CLS\": \"kinoml.datasets.chembl.ChEMBLDatasetProvider\",\n",
       "  \"DATASET_KWARGS\": {\n",
       "    \"path_or_url\": \"../data/filtered_dataset_EGFR.csv\",\n",
       "    \"sample\": 1000\n",
       "  },\n",
       "  \"PIPELINES\": {\n",
       "    \"ligand\": [\n",
       "      [\n",
       "        \"kinoml.features.ligand.OneHotSMILESFeaturizer\",\n",
       "        {}\n",
       "      ],\n",
       "      [\n",
       "        \"kinoml.features.core.PadFeaturizer\",\n",
       "        {\n",
       "          \"shape\": \"auto\"\n",
       "        }\n",
       "      ]\n",
       "    ]\n",
       "  },\n",
       "  \"PIPELINES_AGG\": \"kinoml.features.core.TupleOfArrays\",\n",
       "  \"PIPELINES_AGG_KWARGS\": {},\n",
       "  \"FEATURIZE_KWARGS\": {\n",
       "    \"keep\": false\n",
       "  },\n",
       "  \"GROUPS\": [\n",
       "    [\n",
       "      \"kinoml.datasets.groups.CallableGrouper\",\n",
       "      {\n",
       "        \"function\": \"<function <lambda> at 0x7f4dc22ff9d0>\"\n",
       "      }\n",
       "    ],\n",
       "    [\n",
       "      \"kinoml.datasets.groups.CallableGrouper\",\n",
       "      {\n",
       "        \"function\": \"<function <lambda> at 0x7f4dc22ff430>\"\n",
       "      }\n",
       "    ]\n",
       "  ],\n",
       "  \"TRAIN_TEST_VAL_KWARGS\": {\n",
       "    \"idx_train\": 0.8,\n",
       "    \"idx_test\": 0.1,\n",
       "    \"idx_val\": 0.1\n",
       "  },\n",
       "  \"REPO\": \"/home/raquellrdc/Desktop/postdoc/kinoml_tech_paper_final/kinoml\",\n",
       "  \"OUT\": \"/home/raquellrdc/Desktop/postdoc/kinoml_tech_paper_final/kinoml/examples/experiments/ligand-only-smiles-EGFR/_output/20231106-101546\",\n",
       "  \"X\": \"[[[[0, 0, 0, 0, 0, 0, 0, 0, 0, 0, ..., 0, 0, 0, 0, 0, 0, 0, 0, 0], ...], ...]]\",\n",
       "  \"PARQUET_LOADER_CLS\": \"kinoml.datasets.torch_datasets.AwkwardArrayDataset\",\n",
       "  \"PARQUET_FILES\": [\n",
       "    \"ligand-only-smiles-EGFR/_output/ligand__OneHotSMILESFeaturizer__PadFeaturizer_shape=auto/ChEMBLDatasetProvider/*.parquet\"\n",
       "  ],\n",
       "  \"MODEL_CLS\": \"kinoml.ml.torch_models.ConvolutionNeuralNetworkRegression\",\n",
       "  \"MODEL_KWARGS\": {\n",
       "    \"hidden_shape\": 350,\n",
       "    \"input_shape\": [\n",
       "      53,\n",
       "      159\n",
       "    ]\n",
       "  },\n",
       "  \"OPTIMIZER\": \"torch.optim.Adam\",\n",
       "  \"OPTIMIZER_KWARGS\": {\n",
       "    \"lr\": 0.001,\n",
       "    \"eps\": 1e-07,\n",
       "    \"betas\": [\n",
       "      0.9,\n",
       "      0.999\n",
       "    ]\n",
       "  },\n",
       "  \"LOSS\": \"torch.nn.MSELoss\",\n",
       "  \"LOSS_KWARGS\": {},\n",
       "  \"MAX_EPOCHS\": 50,\n",
       "  \"VALIDATION\": true,\n",
       "  \"EARLY_STOPPING_KWARGS\": {},\n",
       "  \"DATALOADER_CLS\": \"torch.utils.data.DataLoader\",\n",
       "  \"BATCH_SIZE\": 64,\n",
       "  \"TRAIN_TEST_SPLIT\": 0.2,\n",
       "  \"SHUFFLE_SPLITS\": true,\n",
       "  \"COLLATE_FN\": null,\n",
       "  \"N_BOOTSTRAPS\": 1,\n",
       "  \"BOOTSTRAP_SAMPLE_RATIO\": 1,\n",
       "  \"VERBOSE\": false,\n",
       "  \"FEATURES_STORE\": \"/home/raquellrdc/Desktop/postdoc/kinoml_tech_paper_final/kinoml/examples/experiments\"\n",
       "}\n",
       "```\n"
      ],
      "text/plain": [
       "<IPython.core.display.Markdown object>"
      ]
     },
     "metadata": {},
     "output_type": "display_data"
    }
   ],
   "source": [
    "import json\n",
    "\n",
    "display(Markdown(f\"\"\"\n",
    "### Configuration \n",
    "\n",
    "```json\n",
    "{json.dumps(_hparams, default=str, indent=2)}\n",
    "```\n",
    "\"\"\"))\n",
    "\n",
    "if VERBOSE:\n",
    "    display(Markdown(\n",
    "f\"\"\"\n",
    "### Kinase metrics\n",
    "\n",
    "```json\n",
    "{json.dumps(metrics, default=str, indent=2)}\n",
    "```\n",
    "\"\"\"))"
   ]
  },
  {
   "cell_type": "code",
   "execution_count": 36,
   "metadata": {},
   "outputs": [
    {
     "data": {
      "text/markdown": [
       "#### P00533__pIC50Measurement"
      ],
      "text/plain": [
       "<IPython.core.display.Markdown object>"
      ]
     },
     "metadata": {},
     "output_type": "display_data"
    },
    {
     "data": {
      "text/html": [
       "<style type=\"text/css\">\n",
       "#T_51433_row0_col4, #T_51433_row1_col4, #T_51433_row2_col4 {\n",
       "  background-color: #7bacd1;\n",
       "  color: #f1f1f1;\n",
       "  font-weight: bold;\n",
       "}\n",
       "</style>\n",
       "<table id=\"T_51433\">\n",
       "  <thead>\n",
       "    <tr>\n",
       "      <th class=\"blank level0\" >&nbsp;</th>\n",
       "      <th id=\"T_51433_level0_col0\" class=\"col_heading level0 col0\" >mae_mean</th>\n",
       "      <th id=\"T_51433_level0_col1\" class=\"col_heading level0 col1\" >mae_std</th>\n",
       "      <th id=\"T_51433_level0_col2\" class=\"col_heading level0 col2\" >mse_mean</th>\n",
       "      <th id=\"T_51433_level0_col3\" class=\"col_heading level0 col3\" >mse_std</th>\n",
       "      <th id=\"T_51433_level0_col4\" class=\"col_heading level0 col4\" >r2_mean</th>\n",
       "      <th id=\"T_51433_level0_col5\" class=\"col_heading level0 col5\" >r2_std</th>\n",
       "      <th id=\"T_51433_level0_col6\" class=\"col_heading level0 col6\" >rmse_mean</th>\n",
       "      <th id=\"T_51433_level0_col7\" class=\"col_heading level0 col7\" >rmse_std</th>\n",
       "    </tr>\n",
       "  </thead>\n",
       "  <tbody>\n",
       "    <tr>\n",
       "      <th id=\"T_51433_level0_row0\" class=\"row_heading level0 row0\" >train</th>\n",
       "      <td id=\"T_51433_row0_col0\" class=\"data row0 col0\" >0.183260</td>\n",
       "      <td id=\"T_51433_row0_col1\" class=\"data row0 col1\" >0.007219</td>\n",
       "      <td id=\"T_51433_row0_col2\" class=\"data row0 col2\" >0.072225</td>\n",
       "      <td id=\"T_51433_row0_col3\" class=\"data row0 col3\" >0.009288</td>\n",
       "      <td id=\"T_51433_row0_col4\" class=\"data row0 col4\" >0.963449</td>\n",
       "      <td id=\"T_51433_row0_col5\" class=\"data row0 col5\" >0.004629</td>\n",
       "      <td id=\"T_51433_row0_col6\" class=\"data row0 col6\" >0.268209</td>\n",
       "      <td id=\"T_51433_row0_col7\" class=\"data row0 col7\" >0.016991</td>\n",
       "    </tr>\n",
       "    <tr>\n",
       "      <th id=\"T_51433_level0_row1\" class=\"row_heading level0 row1\" >test</th>\n",
       "      <td id=\"T_51433_row1_col0\" class=\"data row1 col0\" >0.179782</td>\n",
       "      <td id=\"T_51433_row1_col1\" class=\"data row1 col1\" >0.009711</td>\n",
       "      <td id=\"T_51433_row1_col2\" class=\"data row1 col2\" >0.066738</td>\n",
       "      <td id=\"T_51433_row1_col3\" class=\"data row1 col3\" >0.014805</td>\n",
       "      <td id=\"T_51433_row1_col4\" class=\"data row1 col4\" >0.964520</td>\n",
       "      <td id=\"T_51433_row1_col5\" class=\"data row1 col5\" >0.007867</td>\n",
       "      <td id=\"T_51433_row1_col6\" class=\"data row1 col6\" >0.256827</td>\n",
       "      <td id=\"T_51433_row1_col7\" class=\"data row1 col7\" >0.027890</td>\n",
       "    </tr>\n",
       "    <tr>\n",
       "      <th id=\"T_51433_level0_row2\" class=\"row_heading level0 row2\" >val</th>\n",
       "      <td id=\"T_51433_row2_col0\" class=\"data row2 col0\" >0.186170</td>\n",
       "      <td id=\"T_51433_row2_col1\" class=\"data row2 col1\" >0.010785</td>\n",
       "      <td id=\"T_51433_row2_col2\" class=\"data row2 col2\" >0.077324</td>\n",
       "      <td id=\"T_51433_row2_col3\" class=\"data row2 col3\" >0.011253</td>\n",
       "      <td id=\"T_51433_row2_col4\" class=\"data row2 col4\" >0.962918</td>\n",
       "      <td id=\"T_51433_row2_col5\" class=\"data row2 col5\" >0.005942</td>\n",
       "      <td id=\"T_51433_row2_col6\" class=\"data row2 col6\" >0.277336</td>\n",
       "      <td id=\"T_51433_row2_col7\" class=\"data row2 col7\" >0.020215</td>\n",
       "    </tr>\n",
       "  </tbody>\n",
       "</table>\n"
      ],
      "text/plain": [
       "<pandas.io.formats.style.Styler at 0x7f4d746a2250>"
      ]
     },
     "metadata": {},
     "output_type": "display_data"
    },
    {
     "data": {
      "text/markdown": [
       "#### P00533__pKdMeasurement"
      ],
      "text/plain": [
       "<IPython.core.display.Markdown object>"
      ]
     },
     "metadata": {},
     "output_type": "display_data"
    },
    {
     "data": {
      "text/html": [
       "<style type=\"text/css\">\n",
       "#T_5824a_row0_col4 {\n",
       "  background-color: #a5bddb;\n",
       "  color: #000000;\n",
       "  font-weight: bold;\n",
       "}\n",
       "#T_5824a_row1_col4 {\n",
       "  background-color: #a9bfdc;\n",
       "  color: #000000;\n",
       "  font-weight: bold;\n",
       "}\n",
       "#T_5824a_row2_col4 {\n",
       "  background-color: #fff7fb;\n",
       "  color: #000000;\n",
       "  font-weight: bold;\n",
       "}\n",
       "</style>\n",
       "<table id=\"T_5824a\">\n",
       "  <thead>\n",
       "    <tr>\n",
       "      <th class=\"blank level0\" >&nbsp;</th>\n",
       "      <th id=\"T_5824a_level0_col0\" class=\"col_heading level0 col0\" >mae_mean</th>\n",
       "      <th id=\"T_5824a_level0_col1\" class=\"col_heading level0 col1\" >mae_std</th>\n",
       "      <th id=\"T_5824a_level0_col2\" class=\"col_heading level0 col2\" >mse_mean</th>\n",
       "      <th id=\"T_5824a_level0_col3\" class=\"col_heading level0 col3\" >mse_std</th>\n",
       "      <th id=\"T_5824a_level0_col4\" class=\"col_heading level0 col4\" >r2_mean</th>\n",
       "      <th id=\"T_5824a_level0_col5\" class=\"col_heading level0 col5\" >r2_std</th>\n",
       "      <th id=\"T_5824a_level0_col6\" class=\"col_heading level0 col6\" >rmse_mean</th>\n",
       "      <th id=\"T_5824a_level0_col7\" class=\"col_heading level0 col7\" >rmse_std</th>\n",
       "    </tr>\n",
       "  </thead>\n",
       "  <tbody>\n",
       "    <tr>\n",
       "      <th id=\"T_5824a_level0_row0\" class=\"row_heading level0 row0\" >train</th>\n",
       "      <td id=\"T_5824a_row0_col0\" class=\"data row0 col0\" >0.344678</td>\n",
       "      <td id=\"T_5824a_row0_col1\" class=\"data row0 col1\" >0.128756</td>\n",
       "      <td id=\"T_5824a_row0_col2\" class=\"data row0 col2\" >0.307806</td>\n",
       "      <td id=\"T_5824a_row0_col3\" class=\"data row0 col3\" >0.255294</td>\n",
       "      <td id=\"T_5824a_row0_col4\" class=\"data row0 col4\" >0.751761</td>\n",
       "      <td id=\"T_5824a_row0_col5\" class=\"data row0 col5\" >0.248068</td>\n",
       "      <td id=\"T_5824a_row0_col6\" class=\"data row0 col6\" >0.504852</td>\n",
       "      <td id=\"T_5824a_row0_col7\" class=\"data row0 col7\" >0.230067</td>\n",
       "    </tr>\n",
       "    <tr>\n",
       "      <th id=\"T_5824a_level0_row1\" class=\"row_heading level0 row1\" >test</th>\n",
       "      <td id=\"T_5824a_row1_col0\" class=\"data row1 col0\" >0.246742</td>\n",
       "      <td id=\"T_5824a_row1_col1\" class=\"data row1 col1\" >0.070413</td>\n",
       "      <td id=\"T_5824a_row1_col2\" class=\"data row1 col2\" >0.087939</td>\n",
       "      <td id=\"T_5824a_row1_col3\" class=\"data row1 col3\" >0.046978</td>\n",
       "      <td id=\"T_5824a_row1_col4\" class=\"data row1 col4\" >0.726874</td>\n",
       "      <td id=\"T_5824a_row1_col5\" class=\"data row1 col5\" >0.979202</td>\n",
       "      <td id=\"T_5824a_row1_col6\" class=\"data row1 col6\" >0.285983</td>\n",
       "      <td id=\"T_5824a_row1_col7\" class=\"data row1 col7\" >0.078438</td>\n",
       "    </tr>\n",
       "    <tr>\n",
       "      <th id=\"T_5824a_level0_row2\" class=\"row_heading level0 row2\" >val</th>\n",
       "      <td id=\"T_5824a_row2_col0\" class=\"data row2 col0\" >0.452279</td>\n",
       "      <td id=\"T_5824a_row2_col1\" class=\"data row2 col1\" >0.247003</td>\n",
       "      <td id=\"T_5824a_row2_col2\" class=\"data row2 col2\" >0.540277</td>\n",
       "      <td id=\"T_5824a_row2_col3\" class=\"data row2 col3\" >0.509896</td>\n",
       "      <td id=\"T_5824a_row2_col4\" class=\"data row2 col4\" >-53.957348</td>\n",
       "      <td id=\"T_5824a_row2_col5\" class=\"data row2 col5\" >538.856945</td>\n",
       "      <td id=\"T_5824a_row2_col6\" class=\"data row2 col6\" >0.636427</td>\n",
       "      <td id=\"T_5824a_row2_col7\" class=\"data row2 col7\" >0.367746</td>\n",
       "    </tr>\n",
       "  </tbody>\n",
       "</table>\n"
      ],
      "text/plain": [
       "<pandas.io.formats.style.Styler at 0x7f4dc0049ac0>"
      ]
     },
     "metadata": {},
     "output_type": "display_data"
    },
    {
     "data": {
      "text/markdown": [
       "#### P00533__pKiMeasurement"
      ],
      "text/plain": [
       "<IPython.core.display.Markdown object>"
      ]
     },
     "metadata": {},
     "output_type": "display_data"
    },
    {
     "data": {
      "text/html": [
       "<style type=\"text/css\">\n",
       "#T_c412c_row0_col4, #T_c412c_row2_col4 {\n",
       "  background-color: #79abd0;\n",
       "  color: #f1f1f1;\n",
       "  font-weight: bold;\n",
       "}\n",
       "#T_c412c_row1_col4 {\n",
       "  background-color: #7bacd1;\n",
       "  color: #f1f1f1;\n",
       "  font-weight: bold;\n",
       "}\n",
       "</style>\n",
       "<table id=\"T_c412c\">\n",
       "  <thead>\n",
       "    <tr>\n",
       "      <th class=\"blank level0\" >&nbsp;</th>\n",
       "      <th id=\"T_c412c_level0_col0\" class=\"col_heading level0 col0\" >mae_mean</th>\n",
       "      <th id=\"T_c412c_level0_col1\" class=\"col_heading level0 col1\" >mae_std</th>\n",
       "      <th id=\"T_c412c_level0_col2\" class=\"col_heading level0 col2\" >mse_mean</th>\n",
       "      <th id=\"T_c412c_level0_col3\" class=\"col_heading level0 col3\" >mse_std</th>\n",
       "      <th id=\"T_c412c_level0_col4\" class=\"col_heading level0 col4\" >r2_mean</th>\n",
       "      <th id=\"T_c412c_level0_col5\" class=\"col_heading level0 col5\" >r2_std</th>\n",
       "      <th id=\"T_c412c_level0_col6\" class=\"col_heading level0 col6\" >rmse_mean</th>\n",
       "      <th id=\"T_c412c_level0_col7\" class=\"col_heading level0 col7\" >rmse_std</th>\n",
       "    </tr>\n",
       "  </thead>\n",
       "  <tbody>\n",
       "    <tr>\n",
       "      <th id=\"T_c412c_level0_row0\" class=\"row_heading level0 row0\" >train</th>\n",
       "      <td id=\"T_c412c_row0_col0\" class=\"data row0 col0\" >0.160410</td>\n",
       "      <td id=\"T_c412c_row0_col1\" class=\"data row0 col1\" >0.019357</td>\n",
       "      <td id=\"T_c412c_row0_col2\" class=\"data row0 col2\" >0.035080</td>\n",
       "      <td id=\"T_c412c_row0_col3\" class=\"data row0 col3\" >0.007079</td>\n",
       "      <td id=\"T_c412c_row0_col4\" class=\"data row0 col4\" >0.975931</td>\n",
       "      <td id=\"T_c412c_row0_col5\" class=\"data row0 col5\" >0.014664</td>\n",
       "      <td id=\"T_c412c_row0_col6\" class=\"data row0 col6\" >0.186349</td>\n",
       "      <td id=\"T_c412c_row0_col7\" class=\"data row0 col7\" >0.018824</td>\n",
       "    </tr>\n",
       "    <tr>\n",
       "      <th id=\"T_c412c_level0_row1\" class=\"row_heading level0 row1\" >test</th>\n",
       "      <td id=\"T_c412c_row1_col0\" class=\"data row1 col0\" >0.182744</td>\n",
       "      <td id=\"T_c412c_row1_col1\" class=\"data row1 col1\" >0.027550</td>\n",
       "      <td id=\"T_c412c_row1_col2\" class=\"data row1 col2\" >0.042085</td>\n",
       "      <td id=\"T_c412c_row1_col3\" class=\"data row1 col3\" >0.011447</td>\n",
       "      <td id=\"T_c412c_row1_col4\" class=\"data row1 col4\" >0.965866</td>\n",
       "      <td id=\"T_c412c_row1_col5\" class=\"data row1 col5\" >0.040565</td>\n",
       "      <td id=\"T_c412c_row1_col6\" class=\"data row1 col6\" >0.203163</td>\n",
       "      <td id=\"T_c412c_row1_col7\" class=\"data row1 col7\" >0.028461</td>\n",
       "    </tr>\n",
       "    <tr>\n",
       "      <th id=\"T_c412c_level0_row2\" class=\"row_heading level0 row2\" >val</th>\n",
       "      <td id=\"T_c412c_row2_col0\" class=\"data row2 col0\" >0.133422</td>\n",
       "      <td id=\"T_c412c_row2_col1\" class=\"data row2 col1\" >0.030496</td>\n",
       "      <td id=\"T_c412c_row2_col2\" class=\"data row2 col2\" >0.026664</td>\n",
       "      <td id=\"T_c412c_row2_col3\" class=\"data row2 col3\" >0.010667</td>\n",
       "      <td id=\"T_c412c_row2_col4\" class=\"data row2 col4\" >0.969537</td>\n",
       "      <td id=\"T_c412c_row2_col5\" class=\"data row2 col5\" >0.028914</td>\n",
       "      <td id=\"T_c412c_row2_col6\" class=\"data row2 col6\" >0.159950</td>\n",
       "      <td id=\"T_c412c_row2_col7\" class=\"data row2 col7\" >0.032868</td>\n",
       "    </tr>\n",
       "  </tbody>\n",
       "</table>\n"
      ],
      "text/plain": [
       "<pandas.io.formats.style.Styler at 0x7f4d4c240e20>"
      ]
     },
     "metadata": {},
     "output_type": "display_data"
    }
   ],
   "source": [
    "for mtype_name in MEASUREMENT_TYPES:\n",
    "    mtype_metrics = metrics.get(mtype_name)\n",
    "    if not mtype_metrics:\n",
    "        continue\n",
    "        \n",
    "    display(Markdown(f\"#### {mtype_name}\"))\n",
    "    \n",
    "    # flatten dict a bit: from dict[\"test\"][\"r2\"][\"mean\"] to dict[\"test\"][\"r2_mean\"]\n",
    "    flattened = {}\n",
    "    for ttype, scores in mtype_metrics.items():\n",
    "        flattened[ttype] = {}\n",
    "        for score, stats in scores.items():\n",
    "            for stat, value in stats.items():\n",
    "                flattened[ttype][f\"{score}_{stat}\"] = value\n",
    "        \n",
    "    df = pd.DataFrame.from_dict(flattened, orient=\"index\")\n",
    "    with pd.option_context(\"display.float_format\", \"{:.3f}\".format, \"display.max_rows\", len(df)):\n",
    "        display(\n",
    "            df.style.background_gradient(subset=[\"r2_mean\"], low=0, high=1, vmin=0, vmax=1)\n",
    "              .apply(lambda x: ['font-weight: bold' for v in x], subset=[\"r2_mean\"])\n",
    "        )"
   ]
  },
  {
   "cell_type": "code",
   "execution_count": 37,
   "metadata": {},
   "outputs": [
    {
     "name": "stdout",
     "output_type": "stream",
     "text": [
      "Run finished at 2023-11-06 10:17:11.790579\n"
     ]
    }
   ],
   "source": [
    "print(\"Run finished at\", datetime.now())"
   ]
  },
  {
   "cell_type": "markdown",
   "metadata": {},
   "source": [
    "### Save reports to disk"
   ]
  },
  {
   "cell_type": "code",
   "execution_count": 38,
   "metadata": {},
   "outputs": [
    {
     "name": "stdout",
     "output_type": "stream",
     "text": [
      "Watermark\n",
      "---------\n",
      "Last updated: 2023-11-06T10:17:11.796459+01:00\n",
      "\n",
      "Python implementation: CPython\n",
      "Python version       : 3.9.18\n",
      "IPython version      : 8.15.0\n",
      "\n",
      "Compiler    : GCC 12.3.0\n",
      "OS          : Linux\n",
      "Release     : 6.2.0-36-generic\n",
      "Machine     : x86_64\n",
      "Processor   : x86_64\n",
      "CPU cores   : 16\n",
      "Architecture: 64bit\n",
      "\n",
      "Hostname: aleph\n",
      "\n",
      "Git hash: d2352d6e07d594ed9fd973b544529f89feb82d78\n",
      "\n",
      "torch  : 2.1.0\n",
      "sys    : 3.9.18 | packaged by conda-forge | (main, Aug 30 2023, 03:49:32) \n",
      "[GCC 12.3.0]\n",
      "json   : 2.0.9\n",
      "pandas : 2.1.1\n",
      "numpy  : 1.26.0\n",
      "kinoml : 0+unknown\n",
      "awkward: 2.4.6\n",
      "\n",
      "Watermark: 2.4.3\n",
      "\n",
      "\n",
      "nvidia-smi\n",
      "----------\n",
      "stdout:\n",
      "Mon Nov  6 10:17:11 2023       \n",
      "+-----------------------------------------------------------------------------+\n",
      "| NVIDIA-SMI 525.125.06   Driver Version: 525.125.06   CUDA Version: 12.0     |\n",
      "|-------------------------------+----------------------+----------------------+\n",
      "| GPU  Name        Persistence-M| Bus-Id        Disp.A | Volatile Uncorr. ECC |\n",
      "| Fan  Temp  Perf  Pwr:Usage/Cap|         Memory-Usage | GPU-Util  Compute M. |\n",
      "|                               |                      |               MIG M. |\n",
      "|===============================+======================+======================|\n",
      "|   0  NVIDIA GeForce ...  Off  | 00000000:01:00.0  On |                  N/A |\n",
      "| N/A   59C    P8    17W /  10W |     46MiB / 16384MiB |     23%      Default |\n",
      "|                               |                      |                  N/A |\n",
      "+-------------------------------+----------------------+----------------------+\n",
      "                                                                               \n",
      "+-----------------------------------------------------------------------------+\n",
      "| Processes:                                                                  |\n",
      "|  GPU   GI   CI        PID   Type   Process name                  GPU Memory |\n",
      "|        ID   ID                                                   Usage      |\n",
      "|=============================================================================|\n",
      "|    0   N/A  N/A      1247      G   /usr/lib/xorg/Xorg                 45MiB |\n",
      "+-----------------------------------------------------------------------------+\n",
      "\n",
      "conda info\n",
      "----------\n",
      "sys.version: 3.11.5 (main, Sep 11 2023, 13:54:46) [GC...\n",
      "sys.prefix: /home/raquellrdc/anaconda3\n",
      "sys.executable: /home/raquellrdc/anaconda3/bin/python\n",
      "conda location: /home/raquellrdc/anaconda3/lib/python3.11/site-packages/conda\n",
      "conda-build: /home/raquellrdc/anaconda3/bin/conda-build\n",
      "conda-content-trust: /home/raquellrdc/anaconda3/bin/conda-content-trust\n",
      "conda-convert: /home/raquellrdc/anaconda3/bin/conda-convert\n",
      "conda-debug: /home/raquellrdc/anaconda3/bin/conda-debug\n",
      "conda-develop: /home/raquellrdc/anaconda3/bin/conda-develop\n",
      "conda-env: /home/raquellrdc/anaconda3/bin/conda-env\n",
      "conda-index: /home/raquellrdc/anaconda3/bin/conda-index\n",
      "conda-inspect: /home/raquellrdc/anaconda3/bin/conda-inspect\n",
      "conda-metapackage: /home/raquellrdc/anaconda3/bin/conda-metapackage\n",
      "conda-pack: /home/raquellrdc/anaconda3/bin/conda-pack\n",
      "conda-render: /home/raquellrdc/anaconda3/bin/conda-render\n",
      "conda-repo: /home/raquellrdc/anaconda3/bin/conda-repo\n",
      "conda-server: /home/raquellrdc/anaconda3/bin/conda-server\n",
      "conda-skeleton: /home/raquellrdc/anaconda3/bin/conda-skeleton\n",
      "conda-token: /home/raquellrdc/anaconda3/bin/conda-token\n",
      "conda-verify: /home/raquellrdc/anaconda3/bin/conda-verify\n",
      "user site dirs: ~/.local/lib/python3.10\n",
      "\n",
      "CIO_TEST: <not set>\n",
      "CONDA_DEFAULT_ENV: kinoml_env\n",
      "CONDA_EXE: /home/raquellrdc/anaconda3/bin/conda\n",
      "CONDA_PREFIX: /home/raquellrdc/anaconda3/envs/kinoml_env\n",
      "CONDA_PROMPT_MODIFIER: (kinoml_env) \n",
      "CONDA_PYTHON_EXE: /home/raquellrdc/anaconda3/bin/python\n",
      "CONDA_ROOT: /home/raquellrdc/anaconda3\n",
      "CONDA_SHLVL: 1\n",
      "CURL_CA_BUNDLE: <not set>\n",
      "LD_PRELOAD: <not set>\n",
      "PATH: /home/raquellrdc/anaconda3/envs/kinoml_env/bin:/home/raquellrdc/anaconda3/condabin:/home/raquellrdc/.local/bin:/usr/local/sbin:/usr/local/bin:/usr/sbin:/usr/bin:/sbin:/bin:/usr/games:/usr/local/games:/snap/bin\n",
      "PYTHONHASHSEED: 1234\n",
      "REQUESTS_CA_BUNDLE: <not set>\n",
      "SSL_CERT_FILE: <not set>\n",
      "XDG_SEAT_PATH: /org/freedesktop/DisplayManager/Seat0\n",
      "XDG_SESSION_PATH: /org/freedesktop/DisplayManager/Session1\n",
      "\n",
      "conda list\n",
      "----------\n",
      "# packages in environment at /home/raquellrdc/anaconda3/envs/kinoml_env:\n",
      "#\n",
      "# Name                    Version                   Build  Channel\n",
      "_libgcc_mutex             0.1                 conda_forge    conda-forge\n",
      "_openmp_mutex             4.5                       2_gnu    conda-forge\n",
      "_py-xgboost-mutex         2.0                       gpu_0    conda-forge\n",
      "alabaster                 0.7.13                   pypi_0    pypi\n",
      "ambertools                23.3             py39h7fa913e_4    conda-forge\n",
      "amberutils                21.0                     pypi_0    pypi\n",
      "ansiwrap                  0.8.4                      py_0    conda-forge\n",
      "anyio                     3.5.0            py39h06a4308_0  \n",
      "appdirs                   1.4.4              pyh9f0ad1d_0    conda-forge\n",
      "argon2-cffi               21.3.0             pyhd3eb1b0_0  \n",
      "argon2-cffi-bindings      21.2.0           py39h7f8727e_0  \n",
      "arpack                    3.8.0           nompi_h0baa96a_101    conda-forge\n",
      "arrow                     1.3.0              pyhd8ed1ab_0    conda-forge\n",
      "asttokens                 2.0.5              pyhd3eb1b0_0  \n",
      "astunparse                1.6.3              pyhd8ed1ab_0    conda-forge\n",
      "async-lru                 2.0.4              pyhd8ed1ab_0    conda-forge\n",
      "attrs                     23.1.0           py39h06a4308_0  \n",
      "awkward                   2.4.6              pyhd8ed1ab_0    conda-forge\n",
      "awkward-cpp               24               py39h7633fee_0    conda-forge\n",
      "aws-c-auth                0.7.4                h1083cbe_2    conda-forge\n",
      "aws-c-cal                 0.6.2                h09139f6_2    conda-forge\n",
      "aws-c-common              0.9.3                hd590300_0    conda-forge\n",
      "aws-c-compression         0.2.17               h184a658_3    conda-forge\n",
      "aws-c-event-stream        0.3.2                h6fea174_2    conda-forge\n",
      "aws-c-http                0.7.13               hb59894b_2    conda-forge\n",
      "aws-c-io                  0.13.33              h161b759_0    conda-forge\n",
      "aws-c-mqtt                0.9.7                h55cd26b_0    conda-forge\n",
      "aws-c-s3                  0.3.17               hfb4bb88_4    conda-forge\n",
      "aws-c-sdkutils            0.1.12               h184a658_2    conda-forge\n",
      "aws-checksums             0.1.17               h184a658_2    conda-forge\n",
      "aws-crt-cpp               0.24.2               ha28989d_2    conda-forge\n",
      "aws-sdk-cpp               1.11.156             h314d761_4    conda-forge\n",
      "babel                     2.11.0           py39h06a4308_0  \n",
      "backcall                  0.2.0              pyhd3eb1b0_0  \n",
      "beautifulsoup4            4.12.2           py39h06a4308_0  \n",
      "biopandas                 0.4.1              pyhd8ed1ab_1    conda-forge\n",
      "biopython                 1.77             py39h27cfd23_0  \n",
      "biotite                   0.38.0           py39h44dd56e_0    conda-forge\n",
      "black                     23.3.0           py39h06a4308_0  \n",
      "blas                      1.0                         mkl  \n",
      "bleach                    4.1.0              pyhd3eb1b0_0  \n",
      "blosc                     1.21.5               h0f2a231_0    conda-forge\n",
      "bokeh                     3.2.1            py39h2f386ee_0  \n",
      "bravado                   11.0.3             pyhd8ed1ab_0    conda-forge\n",
      "bravado-core              5.17.1             pyhd8ed1ab_0    conda-forge\n",
      "brotli                    1.0.9                he6710b0_2  \n",
      "brotli-python             1.0.9            py39h6a678d5_7  \n",
      "bzip2                     1.0.8                h7b6447c_0  \n",
      "c-ares                    1.20.1               hd590300_0    conda-forge\n",
      "c-blosc2                  2.10.5               hb4ffafa_0    conda-forge\n",
      "ca-certificates           2023.08.22           h06a4308_0  \n",
      "cached-property           1.5.2                hd8ed1ab_1    conda-forge\n",
      "cached_property           1.5.2              pyha770c72_1    conda-forge\n",
      "cachetools                5.3.1              pyhd8ed1ab_0    conda-forge\n",
      "cairo                     1.18.0               h3faef2a_0    conda-forge\n",
      "certifi                   2023.7.22        py39h06a4308_0  \n",
      "cffi                      1.15.1           py39h5eee18b_3  \n",
      "cftime                    1.6.2            py39h7deecbd_0  \n",
      "charset-normalizer        2.0.4              pyhd3eb1b0_0  \n",
      "click                     8.0.4            py39h06a4308_0  \n",
      "cloudpickle               2.2.1            py39h06a4308_0  \n",
      "codecov                   2.1.13             pyhd8ed1ab_0    conda-forge\n",
      "colorama                  0.4.6            py39h06a4308_0  \n",
      "comm                      0.1.2            py39h06a4308_0  \n",
      "contourpy                 1.0.5            py39hdb19cb5_0  \n",
      "coverage                  7.2.2            py39h5eee18b_0  \n",
      "cpuonly                   2.0                           0    pytorch\n",
      "cuda-version              11.8                 h70ddcb2_2    conda-forge\n",
      "cudatoolkit               11.8.0              h4ba93d1_12    conda-forge\n",
      "cycler                    0.11.0             pyhd3eb1b0_0  \n",
      "cytoolz                   0.12.0           py39h5eee18b_0  \n",
      "dask                      2023.10.0          pyhd8ed1ab_0    conda-forge\n",
      "dask-core                 2023.10.0          pyhd8ed1ab_0    conda-forge\n",
      "dask-jobqueue             0.8.2              pyhd8ed1ab_0    conda-forge\n",
      "debugpy                   1.6.7            py39h6a678d5_0  \n",
      "decorator                 5.1.1              pyhd3eb1b0_0  \n",
      "defusedxml                0.7.1              pyhd3eb1b0_0  \n",
      "distributed               2023.10.0          pyhd8ed1ab_0    conda-forge\n",
      "docker-pycreds            0.4.0                    pypi_0    pypi\n",
      "docutils                  0.20.1                   pypi_0    pypi\n",
      "edgembar                  0.2                      pypi_0    pypi\n",
      "entrypoints               0.4              py39h06a4308_0  \n",
      "exceptiongroup            1.0.4            py39h06a4308_0  \n",
      "execnet                   1.9.0              pyhd3eb1b0_0  \n",
      "executing                 0.8.3              pyhd3eb1b0_0  \n",
      "expat                     2.5.0                h6a678d5_0  \n",
      "fasteners                 0.16.3             pyhd3eb1b0_0  \n",
      "fftw                      3.3.10          nompi_hc118613_108    conda-forge\n",
      "filelock                  3.9.0            py39h06a4308_0  \n",
      "font-ttf-dejavu-sans-mono 2.37                 hd3eb1b0_0  \n",
      "font-ttf-inconsolata      2.001                hcb22688_0  \n",
      "font-ttf-source-code-pro  2.030                hd3eb1b0_0  \n",
      "font-ttf-ubuntu           0.83                 h8b1ccd4_0  \n",
      "fontconfig                2.14.2               h14ed4e7_0    conda-forge\n",
      "fonts-anaconda            1                    h8fa9717_0  \n",
      "fonts-conda-ecosystem     1                    hd3eb1b0_0  \n",
      "fonttools                 4.25.0             pyhd3eb1b0_0  \n",
      "fqdn                      1.5.1              pyhd8ed1ab_0    conda-forge\n",
      "freetype                  2.12.1               h4a9f257_0  \n",
      "fsspec                    2023.9.2         py39h06a4308_0  \n",
      "gettext                   0.21.1               h27087fc_0    conda-forge\n",
      "gflags                    2.2.2                he6710b0_0  \n",
      "giflib                    5.2.1                h5eee18b_3  \n",
      "gitdb                     4.0.11                   pypi_0    pypi\n",
      "gitpython                 3.1.40                   pypi_0    pypi\n",
      "glog                      0.6.0                h6f12383_0    conda-forge\n",
      "gmp                       6.2.1                h295c915_3  \n",
      "gmpy2                     2.1.2            py39heeb90bb_0  \n",
      "greenlet                  2.0.1            py39h6a678d5_0  \n",
      "griddataformats           1.0.1              pyhd8ed1ab_0    conda-forge\n",
      "gsd                       3.2.0            py39h44dd56e_0    conda-forge\n",
      "h5py                      3.10.0          nompi_py39h87cadad_100    conda-forge\n",
      "hdf4                      4.2.15               h9772cbc_5    conda-forge\n",
      "hdf5                      1.14.2          nompi_h4f84152_100    conda-forge\n",
      "heapdict                  1.0.1              pyhd3eb1b0_0  \n",
      "icu                       73.2                 h59595ed_0    conda-forge\n",
      "idna                      3.4              py39h06a4308_0  \n",
      "imagesize                 1.4.1                    pypi_0    pypi\n",
      "importlib-metadata        6.0.0            py39h06a4308_0  \n",
      "importlib-resources       6.1.0              pyhd8ed1ab_0    conda-forge\n",
      "importlib_metadata        6.0.0                hd3eb1b0_0  \n",
      "importlib_resources       6.1.0              pyhd8ed1ab_0    conda-forge\n",
      "iniconfig                 1.1.1              pyhd3eb1b0_0  \n",
      "intel-openmp              2023.1.0         hdb19cb5_46305  \n",
      "ipykernel                 6.25.0           py39h2f386ee_0  \n",
      "ipython                   8.15.0           py39h06a4308_0  \n",
      "ipython_genutils          0.2.0              pyhd3eb1b0_1  \n",
      "ipywidgets                8.0.4            py39h06a4308_0  \n",
      "isoduration               20.11.0            pyhd8ed1ab_0    conda-forge\n",
      "jedi                      0.18.1           py39h06a4308_1  \n",
      "jinja2                    3.1.2            py39h06a4308_0  \n",
      "joblib                    1.2.0            py39h06a4308_0  \n",
      "jpeg                      9e                   h5eee18b_1  \n",
      "json5                     0.9.6              pyhd3eb1b0_0  \n",
      "jsonpointer               2.4              py39hf3d152e_3    conda-forge\n",
      "jsonref                   0.2                        py_0    conda-forge\n",
      "jsonschema                4.19.1             pyhd8ed1ab_0    conda-forge\n",
      "jsonschema-specifications 2023.7.1           pyhd8ed1ab_0    conda-forge\n",
      "jsonschema-with-format-nongpl 4.19.1             pyhd8ed1ab_0    conda-forge\n",
      "jupyter-lsp               2.2.0              pyhd8ed1ab_0    conda-forge\n",
      "jupyter_client            7.4.9            py39h06a4308_0  \n",
      "jupyter_core              5.3.0            py39h06a4308_0  \n",
      "jupyter_events            0.7.0              pyhd8ed1ab_2    conda-forge\n",
      "jupyter_server            2.7.3              pyhd8ed1ab_1    conda-forge\n",
      "jupyter_server_terminals  0.4.4              pyhd8ed1ab_1    conda-forge\n",
      "jupyterlab                4.0.7              pyhd8ed1ab_0    conda-forge\n",
      "jupyterlab_pygments       0.1.2                      py_0  \n",
      "jupyterlab_server         2.25.0             pyhd8ed1ab_0    conda-forge\n",
      "jupyterlab_widgets        3.0.9              pyhd8ed1ab_0    conda-forge\n",
      "kinoml                    0+unknown                pypi_0    pypi\n",
      "kiwisolver                1.4.4            py39h6a678d5_0  \n",
      "krb5                      1.20.1               h143b758_1  \n",
      "lcms2                     2.12                 h3be6417_0  \n",
      "ld_impl_linux-64          2.38                 h1181459_1  \n",
      "lerc                      3.0                  h295c915_0  \n",
      "libabseil                 20230802.1      cxx17_h59595ed_0    conda-forge\n",
      "libaec                    1.1.2                h59595ed_1    conda-forge\n",
      "libarrow                  13.0.0           h4121bdd_9_cpu    conda-forge\n",
      "libblas                   3.9.0           1_h86c2bf4_netlib    conda-forge\n",
      "libboost                  1.82.0               h109eef0_2  \n",
      "libboost-python           1.82.0           py39hda80f44_6    conda-forge\n",
      "libbrotlicommon           1.1.0                hd590300_1    conda-forge\n",
      "libbrotlidec              1.1.0                hd590300_1    conda-forge\n",
      "libbrotlienc              1.1.0                hd590300_1    conda-forge\n",
      "libcrc32c                 1.1.2                h6a678d5_0  \n",
      "libcurl                   8.4.0                h251f7ec_0  \n",
      "libdeflate                1.17                 h5eee18b_1  \n",
      "libedit                   3.1.20221030         h5eee18b_0  \n",
      "libev                     4.33                 h7f8727e_1  \n",
      "libevent                  2.1.12               hdbd6064_1  \n",
      "libffi                    3.4.4                h6a678d5_0  \n",
      "libgcc-ng                 13.2.0               h807b86a_2    conda-forge\n",
      "libgfortran-ng            13.2.0               h69a702a_2    conda-forge\n",
      "libgfortran5              13.2.0               ha4646dd_2    conda-forge\n",
      "libglib                   2.78.0               hebfc3b9_0    conda-forge\n",
      "libgomp                   13.2.0               h807b86a_2    conda-forge\n",
      "libgoogle-cloud           2.12.0               h19a6dae_3    conda-forge\n",
      "libgrpc                   1.58.1               he06187c_2    conda-forge\n",
      "libiconv                  1.17                 h166bdaf_0    conda-forge\n",
      "liblapack                 3.9.0           5_h92ddd45_netlib    conda-forge\n",
      "libnetcdf                 4.9.2           nompi_h80fb2b6_112    conda-forge\n",
      "libnghttp2                1.57.0               h2d74bed_0  \n",
      "libnsl                    2.0.0                h5eee18b_0  \n",
      "libnuma                   2.0.16               h0b41bf4_1    conda-forge\n",
      "libpng                    1.6.39               h5eee18b_0  \n",
      "libprotobuf               4.24.3               hf27288f_1    conda-forge\n",
      "libre2-11                 2023.06.02           h7a70373_0    conda-forge\n",
      "libsodium                 1.0.18               h7b6447c_0  \n",
      "libsqlite                 3.43.2               h2797004_0    conda-forge\n",
      "libssh2                   1.10.0               hdbd6064_2  \n",
      "libstdcxx-ng              13.2.0               h7e041cc_2    conda-forge\n",
      "libthrift                 0.19.0               hb90f79a_1    conda-forge\n",
      "libtiff                   4.5.1                h6a678d5_0  \n",
      "libutf8proc               2.8.0                h166bdaf_0    conda-forge\n",
      "libuuid                   2.38.1               h0b41bf4_0    conda-forge\n",
      "libwebp                   1.3.2                h11a3e52_0  \n",
      "libwebp-base              1.3.2                h5eee18b_0  \n",
      "libxcb                    1.15                 h7f8727e_0  \n",
      "libxgboost                1.7.6           cuda118h4159b1e_5    conda-forge\n",
      "libxml2                   2.11.5               h232c23b_1    conda-forge\n",
      "libxslt                   1.1.37               h0054252_1    conda-forge\n",
      "libzip                    1.10.1               h2629f0a_3    conda-forge\n",
      "libzlib                   1.2.13               hd590300_5    conda-forge\n",
      "lightning-utilities       0.9.0            py39h06a4308_0  \n",
      "llvm-openmp               14.0.6               h9e868ea_0  \n",
      "locket                    1.0.0            py39h06a4308_0  \n",
      "lxml                      4.9.3            py39hed45dcc_1    conda-forge\n",
      "lz4                       4.3.2            py39h5eee18b_0  \n",
      "lz4-c                     1.9.4                h6a678d5_0  \n",
      "lzo                       2.10              h516909a_1000    conda-forge\n",
      "markupsafe                2.1.1            py39h7f8727e_0  \n",
      "matplotlib-base           3.8.0            py39he9076e7_2    conda-forge\n",
      "matplotlib-inline         0.1.6            py39h06a4308_0  \n",
      "mda-xdrlib                0.2.0              pyhd8ed1ab_0    conda-forge\n",
      "mdanalysis                2.3.0            py39h4661b88_1    conda-forge\n",
      "mdtraj                    1.9.9            py39h031bd0f_0    conda-forge\n",
      "mistune                   0.8.4           py39h27cfd23_1000  \n",
      "mkl                       2023.1.0         h213fc3f_46343  \n",
      "mkl-service               2.4.0            py39h5eee18b_1  \n",
      "mkl_fft                   1.3.8            py39h5eee18b_0  \n",
      "mkl_random                1.2.4            py39hdb19cb5_0  \n",
      "mmpbsa-py                 16.0                     pypi_0    pypi\n",
      "mmtf-python               1.1.3              pyhd8ed1ab_0    conda-forge\n",
      "monotonic                 1.5                        py_0  \n",
      "mpc                       1.1.0                h10f8cd9_1  \n",
      "mpfr                      4.0.2                hb69a4c5_1  \n",
      "mpmath                    1.3.0            py39h06a4308_0  \n",
      "mrcfile                   1.4.3              pyhd8ed1ab_0    conda-forge\n",
      "msgpack-python            1.0.3            py39hd09550d_0  \n",
      "munkres                   1.1.4                      py_0  \n",
      "mypy_extensions           1.0.0            py39h06a4308_0  \n",
      "nbclassic                 0.5.5            py39h06a4308_0  \n",
      "nbclient                  0.5.13           py39h06a4308_0  \n",
      "nbconvert                 6.5.3              pyhd8ed1ab_0    conda-forge\n",
      "nbconvert-core            6.5.3              pyhd8ed1ab_0    conda-forge\n",
      "nbconvert-pandoc          6.5.3              pyhd8ed1ab_0    conda-forge\n",
      "nbformat                  5.9.2            py39h06a4308_0  \n",
      "nbval                     0.10.0             pyhd8ed1ab_0    conda-forge\n",
      "nccl                      2.19.3.1             h6103f9b_0    conda-forge\n",
      "ncurses                   6.4                  h6a678d5_0  \n",
      "nest-asyncio              1.5.6            py39h06a4308_0  \n",
      "netcdf-fortran            4.6.1           nompi_hacb5139_102    conda-forge\n",
      "netcdf4                   1.6.4           nompi_py39h4282601_103    conda-forge\n",
      "networkx                  3.1              py39h06a4308_0  \n",
      "nglview                   3.0.8              pyh1da8cd4_0    conda-forge\n",
      "notebook                  7.0.5              pyhd8ed1ab_0    conda-forge\n",
      "notebook-shim             0.2.2            py39h06a4308_0  \n",
      "numexpr                   2.7.3            py39hde0f152_1    conda-forge\n",
      "numpy                     1.26.0           py39h5f9d8c6_0  \n",
      "numpy-base                1.26.0           py39hb5e798b_0  \n",
      "ocl-icd                   2.3.1                h7f98852_0    conda-forge\n",
      "ocl-icd-system            1.0.0                         1    conda-forge\n",
      "opencadd                  0.2.2              pyhd8ed1ab_0    conda-forge\n",
      "openeye-toolkits          2023.1.1                 py39_0    openeye\n",
      "openff-amber-ff-ports     0.0.3              pyh6c4a22f_0    conda-forge\n",
      "openff-forcefields        2023.08.0          pyh1a96a4e_0    conda-forge\n",
      "openff-interchange        0.2.2              pyhd8ed1ab_0    conda-forge\n",
      "openff-interchange-base   0.2.2              pyhd8ed1ab_0    conda-forge\n",
      "openff-toolkit            0.11.2             pyhd8ed1ab_2    conda-forge\n",
      "openff-toolkit-base       0.11.2             pyhd8ed1ab_2    conda-forge\n",
      "openff-units              0.1.8              pyh1a96a4e_1    conda-forge\n",
      "openff-utilities          0.1.10             pyhd8ed1ab_0    conda-forge\n",
      "openjpeg                  2.4.0                h3ad879b_0  \n",
      "openmm                    8.0.0            py39he81762f_3    conda-forge\n",
      "openssl                   3.1.3                hd590300_0    conda-forge\n",
      "orc                       1.9.0                h208142c_3    conda-forge\n",
      "overrides                 7.4.0              pyhd8ed1ab_0    conda-forge\n",
      "packaging                 23.1             py39h06a4308_0  \n",
      "packmol                   20.010               h86c2bf4_0    conda-forge\n",
      "packmol-memgen            2023.2.24                pypi_0    pypi\n",
      "pandas                    2.1.1            py39hddac248_1    conda-forge\n",
      "pandoc                    2.19.2               h32600fe_2    conda-forge\n",
      "pandocfilters             1.5.0              pyhd3eb1b0_0  \n",
      "panedr                    0.7.2              pyhd8ed1ab_0    conda-forge\n",
      "papermill                 2.2.2              pyhd8ed1ab_0    conda-forge\n",
      "parmed                    4.1.0            py39h227be39_0    conda-forge\n",
      "parso                     0.8.3              pyhd3eb1b0_0  \n",
      "partd                     1.4.0            py39h06a4308_0  \n",
      "pathspec                  0.10.3           py39h06a4308_0  \n",
      "pathtools                 0.1.2                    pypi_0    pypi\n",
      "pbr                       5.11.1             pyhd8ed1ab_0    conda-forge\n",
      "pcre2                     10.40                hc3806b6_0    conda-forge\n",
      "pdb4amber                 22.0                     pypi_0    pypi\n",
      "perl                      5.32.1          4_hd590300_perl5    conda-forge\n",
      "pexpect                   4.8.0              pyhd3eb1b0_3  \n",
      "pickleshare               0.7.5           pyhd3eb1b0_1003  \n",
      "pillow                    10.0.1           py39ha6cbd5a_0  \n",
      "pint                      0.19.2             pyhd8ed1ab_0    conda-forge\n",
      "pip                       23.3               pyhd8ed1ab_0    conda-forge\n",
      "pixman                    0.42.2               h59595ed_0    conda-forge\n",
      "pkgutil-resolve-name      1.3.10             pyhd8ed1ab_1    conda-forge\n",
      "platformdirs              3.10.0           py39h06a4308_0  \n",
      "pluggy                    1.0.0            py39h06a4308_1  \n",
      "prometheus_client         0.14.1           py39h06a4308_0  \n",
      "prompt-toolkit            3.0.36           py39h06a4308_0  \n",
      "protobuf                  4.24.4                   pypi_0    pypi\n",
      "psutil                    5.9.0            py39h5eee18b_0  \n",
      "ptyprocess                0.7.0              pyhd3eb1b0_2  \n",
      "pure_eval                 0.2.2              pyhd3eb1b0_0  \n",
      "py-cpuinfo                9.0.0              pyhd8ed1ab_0    conda-forge\n",
      "py-xgboost                1.7.6           cuda118py39h6e70402_5    conda-forge\n",
      "pyarrow                   13.0.0          py39h6925388_9_cpu    conda-forge\n",
      "pycairo                   1.21.0           py39h287db57_0  \n",
      "pycparser                 2.21               pyhd3eb1b0_0  \n",
      "pydantic                  1.10.13          py39hd1e30aa_0    conda-forge\n",
      "pyedr                     0.7.2              pyhd8ed1ab_0    conda-forge\n",
      "pyg                       2.4.0           py39_torch_2.1.0_cpu    pyg\n",
      "pygments                  2.15.1           py39h06a4308_1  \n",
      "pymsmt                    22.0                     pypi_0    pypi\n",
      "pyparsing                 3.0.9            py39h06a4308_0  \n",
      "pyrsistent                0.18.0           py39heee7806_0  \n",
      "pysocks                   1.7.1            py39h06a4308_0  \n",
      "pytables                  3.9.1            py39hfbd31a7_0    conda-forge\n",
      "pytest                    7.4.2              pyhd8ed1ab_0    conda-forge\n",
      "pytest-cov                4.1.0              pyhd8ed1ab_0    conda-forge\n",
      "pytest-xdist              3.3.1              pyhd8ed1ab_0    conda-forge\n",
      "python                    3.9.18          h0755675_0_cpython    conda-forge\n",
      "python-constraint         1.4.0                      py_0    conda-forge\n",
      "python-dateutil           2.8.2              pyhd3eb1b0_0  \n",
      "python-fastjsonschema     2.16.2           py39h06a4308_0  \n",
      "python-json-logger        2.0.7              pyhd8ed1ab_0    conda-forge\n",
      "python-lmdb               1.4.1            py39h6a678d5_0  \n",
      "python-tzdata             2023.3             pyhd3eb1b0_0  \n",
      "python_abi                3.9                      4_cp39    conda-forge\n",
      "pytorch                   2.1.0               py3.9_cpu_0    pytorch\n",
      "pytorch-lightning         2.1.0              pyhd8ed1ab_0    conda-forge\n",
      "pytorch-mutex             1.0                         cpu    pytorch\n",
      "pytraj                    2.0.6                    pypi_0    pypi\n",
      "pytz                      2023.3.post1     py39h06a4308_0  \n",
      "pyyaml                    6.0              py39h5eee18b_1  \n",
      "pyzmq                     25.1.1           py39hb257651_1    conda-forge\n",
      "rdkit                     2023.09.1        py39hce5ca95_0    conda-forge\n",
      "rdma-core                 28.9                 h59595ed_1    conda-forge\n",
      "re2                       2023.06.02           h2873b5e_0    conda-forge\n",
      "readline                  8.2                  h5eee18b_0  \n",
      "referencing               0.30.2             pyhd8ed1ab_0    conda-forge\n",
      "reportlab                 3.5.67           py39hfdd840d_1  \n",
      "requests                  2.31.0             pyhd8ed1ab_0    conda-forge\n",
      "rfc3339-validator         0.1.4              pyhd8ed1ab_0    conda-forge\n",
      "rfc3986-validator         0.1.1              pyh9f0ad1d_0    conda-forge\n",
      "rpds-py                   0.10.6           py39h9fdd4d6_0    conda-forge\n",
      "ruamel.yaml               0.17.35          py39hd1e30aa_0    conda-forge\n",
      "ruamel.yaml.clib          0.2.6            py39h5eee18b_1  \n",
      "s2n                       1.3.54               h06160fa_0    conda-forge\n",
      "sander                    22.0                     pypi_0    pypi\n",
      "scikit-learn              1.3.0            py39h1128e8f_0  \n",
      "scipy                     1.11.3           py39h5f9d8c6_0  \n",
      "seaborn                   0.12.2           py39h06a4308_0  \n",
      "send2trash                1.8.2              pyh41d4057_0    conda-forge\n",
      "sentry-sdk                1.32.0                   pypi_0    pypi\n",
      "setproctitle              1.3.3                    pypi_0    pypi\n",
      "setuptools                68.0.0           py39h06a4308_0  \n",
      "simplejson                3.17.6           py39h7f8727e_0  \n",
      "six                       1.16.0             pyhd3eb1b0_1  \n",
      "sklearn-pytorch           0.1.0                    pypi_0    pypi\n",
      "smirnoff99frosst          1.1.0              pyh44b312d_0    conda-forge\n",
      "smmap                     5.0.1                    pypi_0    pypi\n",
      "snappy                    1.1.10               h9fff704_0    conda-forge\n",
      "sniffio                   1.2.0            py39h06a4308_1  \n",
      "snowballstemmer           2.2.0                    pypi_0    pypi\n",
      "sortedcontainers          2.4.0              pyhd3eb1b0_0  \n",
      "soupsieve                 2.5              py39h06a4308_0  \n",
      "sphinx                    7.2.6                    pypi_0    pypi\n",
      "sphinxcontrib-applehelp   1.0.7                    pypi_0    pypi\n",
      "sphinxcontrib-devhelp     1.0.5                    pypi_0    pypi\n",
      "sphinxcontrib-htmlhelp    2.0.4                    pypi_0    pypi\n",
      "sphinxcontrib-jsmath      1.0.1                    pypi_0    pypi\n",
      "sphinxcontrib-qthelp      1.0.6                    pypi_0    pypi\n",
      "sphinxcontrib-serializinghtml 1.1.9                    pypi_0    pypi\n",
      "sqlalchemy                2.0.21           py39h5eee18b_0  \n",
      "stack_data                0.2.0              pyhd3eb1b0_0  \n",
      "swagger-spec-validator    3.0.3              pyhd8ed1ab_0    conda-forge\n",
      "sympy                     1.11.1           py39h06a4308_0  \n",
      "tbb                       2021.8.0             hdb19cb5_0  \n",
      "tblib                     1.7.0              pyhd3eb1b0_0  \n",
      "tenacity                  8.2.2            py39h06a4308_0  \n",
      "terminado                 0.17.1           py39h06a4308_0  \n",
      "textwrap3                 0.9.2                      py_0    conda-forge\n",
      "threadpoolctl             2.2.0              pyh0d69192_0  \n",
      "tidynamics                1.1.2              pyhd8ed1ab_0    conda-forge\n",
      "tinycss2                  1.2.1            py39h06a4308_0  \n",
      "tk                        8.6.13               h2797004_0    conda-forge\n",
      "toml                      0.10.2             pyhd3eb1b0_0  \n",
      "tomli                     2.0.1            py39h06a4308_0  \n",
      "toolz                     0.12.0           py39h06a4308_0  \n",
      "torchmetrics              0.11.4           py39h2f386ee_1  \n",
      "torchvision               0.16.0                   pypi_0    pypi\n",
      "tornado                   6.3.3            py39h5eee18b_0  \n",
      "tqdm                      4.66.1             pyhd8ed1ab_0    conda-forge\n",
      "traitlets                 5.7.1            py39h06a4308_0  \n",
      "types-python-dateutil     2.8.19.14          pyhd8ed1ab_0    conda-forge\n",
      "typing                    3.10.0.0         py39h06a4308_0  \n",
      "typing-extensions         4.7.1            py39h06a4308_0  \n",
      "typing_extensions         4.7.1            py39h06a4308_0  \n",
      "typing_utils              0.1.0              pyhd8ed1ab_0    conda-forge\n",
      "tzdata                    2023c                h04d1e81_0  \n",
      "ucx                       1.15.0               h64cca9d_0    conda-forge\n",
      "uri-template              1.3.0              pyhd8ed1ab_0    conda-forge\n",
      "urllib3                   2.0.3            py39h06a4308_0  \n",
      "wandb                     0.15.12                  pypi_0    pypi\n",
      "watermark                 2.4.3              pyhd8ed1ab_0    conda-forge\n",
      "wcwidth                   0.2.5              pyhd3eb1b0_0  \n",
      "webcolors                 1.13               pyhd8ed1ab_0    conda-forge\n",
      "webencodings              0.5.1            py39h06a4308_1  \n",
      "websocket-client          0.58.0           py39h06a4308_4  \n",
      "wheel                     0.41.2           py39h06a4308_0  \n",
      "widgetsnbextension        4.0.5            py39h06a4308_0  \n",
      "xgboost                   1.7.6           cuda118py39h6e70402_5    conda-forge\n",
      "xmltodict                 0.13.0             pyhd8ed1ab_0    conda-forge\n",
      "xorg-kbproto              1.0.7             h7f98852_1002    conda-forge\n",
      "xorg-libice               1.1.1                hd590300_0    conda-forge\n",
      "xorg-libsm                1.2.4                h7391055_0    conda-forge\n",
      "xorg-libx11               1.8.7                h8ee46fc_0    conda-forge\n",
      "xorg-libxext              1.3.4                h0b41bf4_2    conda-forge\n",
      "xorg-libxrender           0.9.11               hd590300_0    conda-forge\n",
      "xorg-libxt                1.3.0                hd590300_1    conda-forge\n",
      "xorg-renderproto          0.11.1            h7f98852_1002    conda-forge\n",
      "xorg-xextproto            7.3.0             h0b41bf4_1003    conda-forge\n",
      "xorg-xproto               7.0.31            h27cfd23_1007  \n",
      "xyzservices               2022.9.0         py39h06a4308_1  \n",
      "xz                        5.4.2                h5eee18b_0  \n",
      "yaml                      0.2.5                h7b6447c_0  \n",
      "zeromq                    4.3.4                h2531618_0  \n",
      "zict                      3.0.0            py39h06a4308_0  \n",
      "zipp                      3.11.0           py39h06a4308_0  \n",
      "zlib                      1.2.13               hd590300_5    conda-forge\n",
      "zlib-ng                   2.0.7                h0b41bf4_0    conda-forge\n",
      "zstd                      1.5.5                hc292b87_0\n"
     ]
    }
   ],
   "source": [
    "from kinoml.utils import watermark\n",
    "w = watermark()"
   ]
  },
  {
   "cell_type": "code",
   "execution_count": 39,
   "metadata": {},
   "outputs": [],
   "source": [
    "%%capture cap --no-stderr\n",
    "w = watermark()"
   ]
  },
  {
   "cell_type": "code",
   "execution_count": 40,
   "metadata": {},
   "outputs": [],
   "source": [
    "import json\n",
    "\n",
    "with open(OUT / \"performance.json\", \"w\") as f:\n",
    "    json.dump(metrics, f, default=str, indent=2)\n",
    "    \n",
    "with open(OUT/ \"watermark.txt\", \"w\") as f:\n",
    "    f.write(cap.stdout)\n",
    "\n",
    "with open(OUT / \"hparams.json\", \"w\") as f:\n",
    "    json.dump(_hparams, f, default=str, indent=2)"
   ]
  },
  {
   "cell_type": "markdown",
   "metadata": {},
   "source": [
    "And this is it! We have run an experiment end to end, from obtaining the data to evaluating and saving the model!"
   ]
  }
 ],
 "metadata": {
  "kernelspec": {
   "display_name": "Python 3 (ipykernel)",
   "language": "python",
   "name": "python3"
  },
  "language_info": {
   "codemirror_mode": {
    "name": "ipython",
    "version": 3
   },
   "file_extension": ".py",
   "mimetype": "text/x-python",
   "name": "python",
   "nbconvert_exporter": "python",
   "pygments_lexer": "ipython3",
   "version": "3.9.18"
  },
  "papermill": {
   "default_parameters": {},
   "duration": 47.037738,
   "end_time": "2023-11-01T15:28:07.789750",
   "environment_variables": {},
   "exception": null,
   "input_path": "features/featurize-template.ipynb",
   "output_path": "features/ligand-only-morgan1024-EGFR-subsample_techpaper/featurize.ipynb",
   "parameters": {
    "DATASET_CLS": "kinoml.datasets.chembl.ChEMBLDatasetProvider",
    "DATASET_KWARGS": {
     "measurement_types": [
      "pIC50",
      "pKd",
      "pKi"
     ],
     "path_or_url": "/home/raquellrdc/Desktop/postdoc/kinoml_tech_paper_experiments/experiments-binding-affinity/features/ligand-only-morgan1024-EGFR-subsample_techpaper/filtered_dataset_EGFR.csv",
     "sample": 3000,
     "uniprot_ids": [
      "P00533"
     ]
    },
    "FEATURIZE_KWARGS": {
     "keep": false
    },
    "GROUPS": [
     [
      "kinoml.datasets.groups.CallableGrouper",
      {
       "function": "lambda measurement: type(measurement).__name__"
      }
     ]
    ],
    "HERE": "/home/raquellrdc/Desktop/postdoc/kinoml_tech_paper_experiments/experiments-binding-affinity/features/ligand-only-morgan1024-EGFR-subsample_techpaper",
    "PIPELINES": {
     "ligand": [
      [
       "kinoml.features.ligand.MorganFingerprintFeaturizer",
       {
        "nbits": 1024,
        "radius": 2
       }
      ]
     ]
    },
    "PIPELINES_AGG": "kinoml.features.core.TupleOfArrays",
    "PIPELINES_AGG_KWARGS": {},
    "TRAIN_TEST_VAL_KWARGS": {
     "idx_test": 0.1,
     "idx_train": 0.8,
     "idx_val": 0.1
    }
   },
   "start_time": "2023-11-01T15:27:20.752012",
   "version": "2.2.2"
  },
  "widgets": {
   "application/vnd.jupyter.widget-state+json": {
    "state": {
     "30c36494aa4d4f1bb67116a4a0fba084": {
      "model_module": "@jupyter-widgets/base",
      "model_module_version": "2.0.0",
      "model_name": "LayoutModel",
      "state": {
       "_model_module": "@jupyter-widgets/base",
       "_model_module_version": "2.0.0",
       "_model_name": "LayoutModel",
       "_view_count": null,
       "_view_module": "@jupyter-widgets/base",
       "_view_module_version": "2.0.0",
       "_view_name": "LayoutView",
       "align_content": null,
       "align_items": null,
       "align_self": null,
       "border_bottom": null,
       "border_left": null,
       "border_right": null,
       "border_top": null,
       "bottom": null,
       "display": null,
       "flex": null,
       "flex_flow": null,
       "grid_area": null,
       "grid_auto_columns": null,
       "grid_auto_flow": null,
       "grid_auto_rows": null,
       "grid_column": null,
       "grid_gap": null,
       "grid_row": null,
       "grid_template_areas": null,
       "grid_template_columns": null,
       "grid_template_rows": null,
       "height": null,
       "justify_content": null,
       "justify_items": null,
       "left": null,
       "margin": null,
       "max_height": null,
       "max_width": null,
       "min_height": null,
       "min_width": null,
       "object_fit": null,
       "object_position": null,
       "order": null,
       "overflow": null,
       "padding": null,
       "right": null,
       "top": null,
       "visibility": null,
       "width": null
      }
     },
     "313e440c21db46afb5e48570119c4cd4": {
      "model_module": "@jupyter-widgets/controls",
      "model_module_version": "2.0.0",
      "model_name": "HTMLModel",
      "state": {
       "_dom_classes": [],
       "_model_module": "@jupyter-widgets/controls",
       "_model_module_version": "2.0.0",
       "_model_name": "HTMLModel",
       "_view_count": null,
       "_view_module": "@jupyter-widgets/controls",
       "_view_module_version": "2.0.0",
       "_view_name": "HTMLView",
       "description": "",
       "description_allow_html": false,
       "layout": "IPY_MODEL_462f28af6d5b4168a4a3940066793167",
       "placeholder": "​",
       "style": "IPY_MODEL_4fa6e32448d74772958e4d41e2ebaea7",
       "tabbable": null,
       "tooltip": null,
       "value": "100%"
      }
     },
     "462f28af6d5b4168a4a3940066793167": {
      "model_module": "@jupyter-widgets/base",
      "model_module_version": "2.0.0",
      "model_name": "LayoutModel",
      "state": {
       "_model_module": "@jupyter-widgets/base",
       "_model_module_version": "2.0.0",
       "_model_name": "LayoutModel",
       "_view_count": null,
       "_view_module": "@jupyter-widgets/base",
       "_view_module_version": "2.0.0",
       "_view_name": "LayoutView",
       "align_content": null,
       "align_items": null,
       "align_self": null,
       "border_bottom": null,
       "border_left": null,
       "border_right": null,
       "border_top": null,
       "bottom": null,
       "display": null,
       "flex": null,
       "flex_flow": null,
       "grid_area": null,
       "grid_auto_columns": null,
       "grid_auto_flow": null,
       "grid_auto_rows": null,
       "grid_column": null,
       "grid_gap": null,
       "grid_row": null,
       "grid_template_areas": null,
       "grid_template_columns": null,
       "grid_template_rows": null,
       "height": null,
       "justify_content": null,
       "justify_items": null,
       "left": null,
       "margin": null,
       "max_height": null,
       "max_width": null,
       "min_height": null,
       "min_width": null,
       "object_fit": null,
       "object_position": null,
       "order": null,
       "overflow": null,
       "padding": null,
       "right": null,
       "top": null,
       "visibility": null,
       "width": null
      }
     },
     "4fa6e32448d74772958e4d41e2ebaea7": {
      "model_module": "@jupyter-widgets/controls",
      "model_module_version": "2.0.0",
      "model_name": "HTMLStyleModel",
      "state": {
       "_model_module": "@jupyter-widgets/controls",
       "_model_module_version": "2.0.0",
       "_model_name": "HTMLStyleModel",
       "_view_count": null,
       "_view_module": "@jupyter-widgets/base",
       "_view_module_version": "2.0.0",
       "_view_name": "StyleView",
       "background": null,
       "description_width": "",
       "font_size": null,
       "text_color": null
      }
     },
     "5b2ed1c1f9924a02847b5f3dcacdece8": {
      "model_module": "@jupyter-widgets/controls",
      "model_module_version": "2.0.0",
      "model_name": "FloatProgressModel",
      "state": {
       "_dom_classes": [],
       "_model_module": "@jupyter-widgets/controls",
       "_model_module_version": "2.0.0",
       "_model_name": "FloatProgressModel",
       "_view_count": null,
       "_view_module": "@jupyter-widgets/controls",
       "_view_module_version": "2.0.0",
       "_view_name": "ProgressView",
       "bar_style": "success",
       "description": "",
       "description_allow_html": false,
       "layout": "IPY_MODEL_30c36494aa4d4f1bb67116a4a0fba084",
       "max": 3000,
       "min": 0,
       "orientation": "horizontal",
       "style": "IPY_MODEL_db47babf9bbe467788ca7ee592e02a81",
       "tabbable": null,
       "tooltip": null,
       "value": 3000
      }
     },
     "8f2226e2e7ac4c3caf52ce26d2300b05": {
      "model_module": "@jupyter-widgets/controls",
      "model_module_version": "2.0.0",
      "model_name": "HTMLStyleModel",
      "state": {
       "_model_module": "@jupyter-widgets/controls",
       "_model_module_version": "2.0.0",
       "_model_name": "HTMLStyleModel",
       "_view_count": null,
       "_view_module": "@jupyter-widgets/base",
       "_view_module_version": "2.0.0",
       "_view_name": "StyleView",
       "background": null,
       "description_width": "",
       "font_size": null,
       "text_color": null
      }
     },
     "a117cbd41da04e2db24485d206ff553c": {
      "model_module": "@jupyter-widgets/base",
      "model_module_version": "2.0.0",
      "model_name": "LayoutModel",
      "state": {
       "_model_module": "@jupyter-widgets/base",
       "_model_module_version": "2.0.0",
       "_model_name": "LayoutModel",
       "_view_count": null,
       "_view_module": "@jupyter-widgets/base",
       "_view_module_version": "2.0.0",
       "_view_name": "LayoutView",
       "align_content": null,
       "align_items": null,
       "align_self": null,
       "border_bottom": null,
       "border_left": null,
       "border_right": null,
       "border_top": null,
       "bottom": null,
       "display": null,
       "flex": null,
       "flex_flow": null,
       "grid_area": null,
       "grid_auto_columns": null,
       "grid_auto_flow": null,
       "grid_auto_rows": null,
       "grid_column": null,
       "grid_gap": null,
       "grid_row": null,
       "grid_template_areas": null,
       "grid_template_columns": null,
       "grid_template_rows": null,
       "height": null,
       "justify_content": null,
       "justify_items": null,
       "left": null,
       "margin": null,
       "max_height": null,
       "max_width": null,
       "min_height": null,
       "min_width": null,
       "object_fit": null,
       "object_position": null,
       "order": null,
       "overflow": null,
       "padding": null,
       "right": null,
       "top": null,
       "visibility": null,
       "width": null
      }
     },
     "c63e6335e97544d78dd2d49c044953fa": {
      "model_module": "@jupyter-widgets/base",
      "model_module_version": "2.0.0",
      "model_name": "LayoutModel",
      "state": {
       "_model_module": "@jupyter-widgets/base",
       "_model_module_version": "2.0.0",
       "_model_name": "LayoutModel",
       "_view_count": null,
       "_view_module": "@jupyter-widgets/base",
       "_view_module_version": "2.0.0",
       "_view_name": "LayoutView",
       "align_content": null,
       "align_items": null,
       "align_self": null,
       "border_bottom": null,
       "border_left": null,
       "border_right": null,
       "border_top": null,
       "bottom": null,
       "display": null,
       "flex": null,
       "flex_flow": null,
       "grid_area": null,
       "grid_auto_columns": null,
       "grid_auto_flow": null,
       "grid_auto_rows": null,
       "grid_column": null,
       "grid_gap": null,
       "grid_row": null,
       "grid_template_areas": null,
       "grid_template_columns": null,
       "grid_template_rows": null,
       "height": null,
       "justify_content": null,
       "justify_items": null,
       "left": null,
       "margin": null,
       "max_height": null,
       "max_width": null,
       "min_height": null,
       "min_width": null,
       "object_fit": null,
       "object_position": null,
       "order": null,
       "overflow": null,
       "padding": null,
       "right": null,
       "top": null,
       "visibility": null,
       "width": null
      }
     },
     "c92ca9ec49ba4a8ebfeb386c0bad1360": {
      "model_module": "@jupyter-widgets/controls",
      "model_module_version": "2.0.0",
      "model_name": "HBoxModel",
      "state": {
       "_dom_classes": [],
       "_model_module": "@jupyter-widgets/controls",
       "_model_module_version": "2.0.0",
       "_model_name": "HBoxModel",
       "_view_count": null,
       "_view_module": "@jupyter-widgets/controls",
       "_view_module_version": "2.0.0",
       "_view_name": "HBoxView",
       "box_style": "",
       "children": [
        "IPY_MODEL_313e440c21db46afb5e48570119c4cd4",
        "IPY_MODEL_5b2ed1c1f9924a02847b5f3dcacdece8",
        "IPY_MODEL_fde17115434e4c5589c8b9ff33492e79"
       ],
       "layout": "IPY_MODEL_a117cbd41da04e2db24485d206ff553c",
       "tabbable": null,
       "tooltip": null
      }
     },
     "db47babf9bbe467788ca7ee592e02a81": {
      "model_module": "@jupyter-widgets/controls",
      "model_module_version": "2.0.0",
      "model_name": "ProgressStyleModel",
      "state": {
       "_model_module": "@jupyter-widgets/controls",
       "_model_module_version": "2.0.0",
       "_model_name": "ProgressStyleModel",
       "_view_count": null,
       "_view_module": "@jupyter-widgets/base",
       "_view_module_version": "2.0.0",
       "_view_name": "StyleView",
       "bar_color": null,
       "description_width": ""
      }
     },
     "fde17115434e4c5589c8b9ff33492e79": {
      "model_module": "@jupyter-widgets/controls",
      "model_module_version": "2.0.0",
      "model_name": "HTMLModel",
      "state": {
       "_dom_classes": [],
       "_model_module": "@jupyter-widgets/controls",
       "_model_module_version": "2.0.0",
       "_model_name": "HTMLModel",
       "_view_count": null,
       "_view_module": "@jupyter-widgets/controls",
       "_view_module_version": "2.0.0",
       "_view_name": "HTMLView",
       "description": "",
       "description_allow_html": false,
       "layout": "IPY_MODEL_c63e6335e97544d78dd2d49c044953fa",
       "placeholder": "​",
       "style": "IPY_MODEL_8f2226e2e7ac4c3caf52ce26d2300b05",
       "tabbable": null,
       "tooltip": null,
       "value": " 3000/3000 [00:00&lt;00:00, 41070.16it/s]"
      }
     }
    },
    "version_major": 2,
    "version_minor": 0
   }
  }
 },
 "nbformat": 4,
 "nbformat_minor": 4
}
