{
 "cells": [
  {
   "cell_type": "markdown",
   "id": "6be1d23b-bf95-473b-8086-9b305ff2ada5",
   "metadata": {
    "tags": []
   },
   "source": [
    "# KinoML object model"
   ]
  },
  {
   "cell_type": "markdown",
   "id": "6a2dfe77-6493-4b81-80be-4f5d45304f84",
   "metadata": {},
   "source": [
    "The KinoML object model provides access to binding affinity data in the context of machine learning for small molecule drug discovery (Fig. 1). The `DatasetProvider` is the central object for storing all relevant information of a dataset. It is essentially a list of `Measurement` objects, which contain the measured `values` (singlicate or replicates), associated to a `System` plus experimental `AssayCondition`s. A `System` is a list of `MolecularComponent` objects; usually a `Protein` and a `Ligand`. `Featurizer`s will use the input of the `MolecularComponent`s to represent the `System` in different formats for machine learning tasks, e.g. a `Ligand` as molecular fingerprint."
   ]
  },
  {
   "cell_type": "markdown",
   "id": "086fa441-42de-46cd-a7a5-3371de361fab",
   "metadata": {},
   "source": [
    "![KinoML object model](../../kinoml/data/object_model.png)  \n",
    "**Fig. 2:** KinoML object model."
   ]
  },
  {
   "cell_type": "markdown",
   "id": "6529b16b-1738-476d-8982-ee53f9a361ea",
   "metadata": {},
   "source": [
    "KinoML has a focus on protein kinases but the architecture is applicable to protein targets in general. When writing your own KinoML objects it is recommended to move computational expensive tasks to the `Featurizer` level, which is capable of multi-processing. For example `Protein` objects can be initialized with nothing else but a UniProt ID. The amino acid sequence will be fetched when the `Protein`'s `sequence` attribute is called for the first time. Thus, one can quickly generate many `Protein` objects and the more time-consuming sequence fetching is done with multi-processing during featurization."
   ]
  },
  {
   "cell_type": "markdown",
   "id": "5926f821-577b-40cf-b182-fc0ee554cafe",
   "metadata": {},
   "source": [
    "In the following section, different KinoML objects will be introduced including code examples."
   ]
  },
  {
   "cell_type": "markdown",
   "id": "4bcf7ddd-2653-4ac0-85b9-81798471107d",
   "metadata": {
    "tags": []
   },
   "source": [
    "## Molecular components\n",
    "\n",
    "Molecular components like ligands and proteins store molecular representations, a `name` and additional `metadata`, that may be important for working with the data and provenance."
   ]
  },
  {
   "cell_type": "markdown",
   "id": "07b79cee-43b8-4475-a5a7-561407f2a5a9",
   "metadata": {},
   "source": [
    "### Ligands\n",
    "\n",
    "Ligand objects store information about the molecular structure of a ligand, usually a small molecule with certain activity for a target. \n",
    "\n",
    "The `Ligand` object is based on the OpenFF-Toolkit `Molecule` [object](https://github.com/openforcefield/openff-toolkit/blob/master/openff/toolkit/topology/molecule.py), which can be accessed via the `molecule` attribute. This also allows usage of methods of the OpenFF-Toolkit `Molecule` including conversion to other toolkits, e.g. [RDKit](https://www.rdkit.org/docs/) and [OpenEye](https://docs.eyesopen.com/toolkits/python/index.html). The `Ligand` object can be directly initialized via SMILES or file including interpretation of the given input, or lazely initialized via SMILES without any interpretation of the given input."
   ]
  },
  {
   "cell_type": "code",
   "execution_count": 1,
   "id": "f72e0dab-aafb-460d-9b1f-f32fa84784cb",
   "metadata": {},
   "outputs": [],
   "source": [
    "from openff.toolkit.utils.exceptions import SMILESParseError\n",
    "\n",
    "from kinoml.core.ligands import Ligand"
   ]
  },
  {
   "cell_type": "code",
   "execution_count": 2,
   "id": "1672a883-5bb6-43c6-96a7-f904ddeef81c",
   "metadata": {},
   "outputs": [
    {
     "name": "stdout",
     "output_type": "stream",
     "text": [
      "<class 'kinoml.core.ligands.Ligand'>\n",
      "<class 'openff.toolkit.topology.molecule.Molecule'>\n",
      "<class 'rdkit.Chem.rdchem.Mol'>\n",
      "CCC\n"
     ]
    }
   ],
   "source": [
    "# initialize a Ligand from SMILES, the molecule will be directly interpreted\n",
    "ligand = Ligand.from_smiles(\"CCC\", name=\"propane\")\n",
    "print(type(ligand))\n",
    "print(type(ligand.molecule))\n",
    "print(type(ligand.molecule.to_rdkit()))\n",
    "print(ligand.molecule.to_smiles(explicit_hydrogens=False))"
   ]
  },
  {
   "cell_type": "code",
   "execution_count": 3,
   "id": "48760c2f-cb72-4f80-a3a4-42339d3de3d7",
   "metadata": {},
   "outputs": [
    {
     "name": "stdout",
     "output_type": "stream",
     "text": [
      "Failed!\n"
     ]
    },
    {
     "name": "stderr",
     "output_type": "stream",
     "text": [
      "Warning: Problem parsing SMILES:\n",
      "Warning: XXX\n",
      "Warning: ^\n",
      "\n"
     ]
    }
   ],
   "source": [
    "# erroneous input will raise errors during initialization\n",
    "try:\n",
    "    ligand = Ligand.from_smiles(\"XXX\", name=\"wrong_smiles\")\n",
    "    print(\"Success!\")\n",
    "except SMILESParseError:\n",
    "    print(\"Failed!\")"
   ]
  },
  {
   "cell_type": "code",
   "execution_count": 4,
   "id": "ca7b3ada-7400-4259-8289-5ec7aee190c7",
   "metadata": {},
   "outputs": [
    {
     "name": "stdout",
     "output_type": "stream",
     "text": [
      "<class 'openff.toolkit.topology.molecule.Molecule'>\n"
     ]
    }
   ],
   "source": [
    "# Ligands can also be lazely initialized via SMILES\n",
    "# here the interpretation is done when calling the molecule attribute for the first time\n",
    "ligand = Ligand(smiles=\"CCC\", name=\"propane\")\n",
    "print(type(ligand.molecule))"
   ]
  },
  {
   "cell_type": "code",
   "execution_count": 5,
   "id": "8aca1621-b2a0-4cf2-8439-7ad785079372",
   "metadata": {},
   "outputs": [
    {
     "name": "stdout",
     "output_type": "stream",
     "text": [
      "Ligand lazely initialized!\n",
      "Failed!\n"
     ]
    },
    {
     "name": "stderr",
     "output_type": "stream",
     "text": [
      "Warning: Problem parsing SMILES:\n",
      "Warning: XXX\n",
      "Warning: ^\n",
      "\n"
     ]
    }
   ],
   "source": [
    "# this makes the object generation faster \n",
    "# but will result in interpretation errors later, e.g. during a featurization step\n",
    "# hence featurizers need to detect and remove those systems\n",
    "ligand = Ligand(smiles=\"XXX\", name=\"wrong_smiles\")\n",
    "print(\"Ligand lazely initialized!\")\n",
    "try:\n",
    "    print(type(ligand.molecule))\n",
    "    print(\"Success!\")\n",
    "except SMILESParseError:\n",
    "    print(\"Failed!\")"
   ]
  },
  {
   "cell_type": "markdown",
   "id": "c9f26b15-eaee-451f-9545-3c09c8b1b2d0",
   "metadata": {},
   "source": [
    "### Proteins\n",
    "\n",
    "Protein objects store information about the molecular structure of a protein, e.g. the target of a small molecule inhibitor.\n",
    "\n",
    "KinoML provides two different Protein objects, i.e. `Protein` (applicable to all proteins) and `KLIFSKinase` (allows access to information from the protein kinase-specific KLIFS database). Similar to `Ligand`, protein objects can be directly or lazily initialized.\n",
    "\n",
    "Again, the molecular structure is accessable via the `molecule` attribute. However, both protein objects support two toolkits, i.e. [MDAnalysis](https://docs.mdanalysis.org/stable/index.html) and [OpenEye](https://docs.eyesopen.com/toolkits/python/index.html), which can be specified via the toolkit argument. A conversion from one toolkit to the other after initialization is currently not possible, but likely not needed anyway.\n",
    "\n",
    "Another important attribute of proteins is their `sequence`. Depending on the used featurizer, a molecular structure may actually not be required, for example in case of OneHotEncoding of the sequence. Hence, you can also initialize `Protein` and `KLIFSKinase` using sequence identifiers only, e.g. UniProt ID or NCBI ID. This is always done lazily, so the sequences will be fetched from the respective resource on the first call of the `sequence` attribute. `Protein` and `KLIFSKinase` inherit their sequence-related functionality from the `AminoAcidSequence` object in `kinoml.core.sequences`, which allows for further a customization of sequences, e.g. mutations. For more details have a look at the `AminoAcidSequence` class in the [respective section](https://openkinome.org/kinoml/api/kinoml/core/sequences/index.html) of the KinoML API documentation."
   ]
  },
  {
   "cell_type": "code",
   "execution_count": 6,
   "id": "1fffad99-3307-48fb-a9b8-f887e995357d",
   "metadata": {},
   "outputs": [
    {
     "name": "stderr",
     "output_type": "stream",
     "text": [
      "/home/david/miniconda3/envs/kinoml/lib/python3.9/site-packages/numpy/core/getlimits.py:499: UserWarning: The value of the smallest subnormal for <class 'numpy.float64'> type is zero.\n",
      "  setattr(self, word, getattr(machar, word).flat[0])\n",
      "/home/david/miniconda3/envs/kinoml/lib/python3.9/site-packages/numpy/core/getlimits.py:89: UserWarning: The value of the smallest subnormal for <class 'numpy.float64'> type is zero.\n",
      "  return self._float_to_str(self.smallest_subnormal)\n",
      "/home/david/miniconda3/envs/kinoml/lib/python3.9/site-packages/numpy/core/getlimits.py:499: UserWarning: The value of the smallest subnormal for <class 'numpy.float32'> type is zero.\n",
      "  setattr(self, word, getattr(machar, word).flat[0])\n",
      "/home/david/miniconda3/envs/kinoml/lib/python3.9/site-packages/numpy/core/getlimits.py:89: UserWarning: The value of the smallest subnormal for <class 'numpy.float32'> type is zero.\n",
      "  return self._float_to_str(self.smallest_subnormal)\n"
     ]
    }
   ],
   "source": [
    "from kinoml.core.proteins import Protein, KLIFSKinase"
   ]
  },
  {
   "cell_type": "code",
   "execution_count": 7,
   "id": "f1aa904b-6511-4b8a-acef-50a5e7f477e2",
   "metadata": {},
   "outputs": [
    {
     "name": "stderr",
     "output_type": "stream",
     "text": [
      "Warning: importing 'simtk.openmm' is deprecated.  Import 'openmm' instead.\n"
     ]
    },
    {
     "name": "stdout",
     "output_type": "stream",
     "text": [
      "<class 'openeye.oechem.OEGraphMol'>\n",
      "<class 'MDAnalysis.core.universe.Universe'>\n"
     ]
    },
    {
     "data": {
      "text/plain": [
       "<Protein name=NTRK1>"
      ]
     },
     "execution_count": 7,
     "metadata": {},
     "output_type": "execute_result"
    }
   ],
   "source": [
    "# initialize from PDB ID with different toolkits\n",
    "protein = Protein.from_pdb(\"4yne\", name=\"NTRK1\")\n",
    "protein2 = Protein.from_pdb(\"4yne\", name=\"NTRK1\", toolkit=\"MDAnalysis\")\n",
    "print(type(protein.molecule))\n",
    "print(type(protein2.molecule))\n",
    "protein2"
   ]
  },
  {
   "cell_type": "code",
   "execution_count": 8,
   "id": "10cd6b48-f1d7-4fd3-8f38-5094755526ed",
   "metadata": {},
   "outputs": [
    {
     "name": "stdout",
     "output_type": "stream",
     "text": [
      "<class 'openeye.oechem.OEGraphMol'>\n"
     ]
    }
   ],
   "source": [
    "# initialize lazily via PDB ID\n",
    "protein = Protein(pdb_id=\"4nye\", name=\"NTRK1\")\n",
    "print(type(protein.molecule))"
   ]
  },
  {
   "cell_type": "code",
   "execution_count": 9,
   "id": "6cd65e0c-f2cf-452c-ad8b-0db2620bd655",
   "metadata": {},
   "outputs": [
    {
     "name": "stdout",
     "output_type": "stream",
     "text": [
      "0\n"
     ]
    }
   ],
   "source": [
    "# note there is no sequence yet, since no UniProt ID was given\n",
    "print(len(protein.sequence))\n",
    "# but one could get it from the protein structure if needed"
   ]
  },
  {
   "cell_type": "code",
   "execution_count": 10,
   "id": "00499520-3d8c-4f77-8f6f-98682f47db62",
   "metadata": {},
   "outputs": [
    {
     "name": "stdout",
     "output_type": "stream",
     "text": [
      "MLRGGRRGQL\n",
      "MLAGGRRGQL\n",
      "<class 'NoneType'>\n"
     ]
    }
   ],
   "source": [
    "# initialize with sequence from UniProt\n",
    "protein = Protein(uniprot_id=\"P04629\", name=\"NTRK1\")\n",
    "print(protein.sequence[:10])\n",
    "# initialize with sequence from UniProt and custom mutations\n",
    "protein = Protein(uniprot_id=\"P04629\", name=\"NTRK1\", metadata={\"mutations\": \"R3A\"})\n",
    "print(protein.sequence[:10])\n",
    "print(type(protein.molecule))  # a molecule is not available"
   ]
  },
  {
   "cell_type": "code",
   "execution_count": 11,
   "id": "94839c47-8b58-4ba3-8446-c9425ae3c9e2",
   "metadata": {},
   "outputs": [
    {
     "name": "stdout",
     "output_type": "stream",
     "text": [
      "WELGEGAFGKVFLVAVKALDFQREAELLTMLQQHIVRFFGVLMVFEYMRHGDLNRFLRSYLAGLHFVHRDLATRNCLVIGDFGMS\n",
      "WELGEGAFGKVFLVAVKALDFQREAELLTMLQQHIVRFFGVLMVFEYMRHGDLNRFLRSYLAGLHFVHRDLATRNCLVIGDFGMS\n",
      "WELGEGAFGKVFLVAVKALDFQREAELLTMLQQHIVRFFGVLMVFEYMRHGDLNRFLRSYLAGLHFVHRDLATRNCLVIGDFGMS\n"
     ]
    }
   ],
   "source": [
    "# get the kinase KLIFS pocket sequence via different identifiers (lazy)\n",
    "kinase = KLIFSKinase(uniprot_id=\"P04629\", name=\"NTRK1\")\n",
    "print(kinase.kinase_klifs_sequence)\n",
    "kinase = KLIFSKinase(ncbi_id=\"NP_001007793\", name=\"NTRK1\")\n",
    "print(kinase.kinase_klifs_sequence)\n",
    "kinase = KLIFSKinase(kinase_klifs_id=480, name=\"NTRK1\")\n",
    "print(kinase.kinase_klifs_sequence)"
   ]
  },
  {
   "cell_type": "markdown",
   "id": "30dfcae2-24eb-4cfa-8243-61b842a27b33",
   "metadata": {},
   "source": [
    "## Systems"
   ]
  },
  {
   "cell_type": "markdown",
   "id": "ffde61a8-a989-4cc7-9cd6-63dd2966932d",
   "metadata": {},
   "source": [
    "Systems store all molecular components for a given activity data point. They may only contain a `Ligand` in case of purely ligand-based featurization but can also contain a `Protein`, i.e. `LigandSystem`, `ProteinSystem`, `ProteinLigandComplex`."
   ]
  },
  {
   "cell_type": "code",
   "execution_count": 12,
   "id": "b69b053a-34c4-496a-9556-6014b84b0b24",
   "metadata": {},
   "outputs": [],
   "source": [
    "from kinoml.core.systems import LigandSystem, ProteinSystem, ProteinLigandComplex"
   ]
  },
  {
   "cell_type": "code",
   "execution_count": 13,
   "id": "d6252a11-a0c2-4271-bb9e-c631c47dfef3",
   "metadata": {},
   "outputs": [],
   "source": [
    "ligand = Ligand(smiles=\"CCC\", name=\"propane\")\n",
    "protein = Protein(uniprot_id=\"P04629\", name=\"NTRK1\")"
   ]
  },
  {
   "cell_type": "code",
   "execution_count": 14,
   "id": "bf198411-2706-4aac-9d5f-76b949570c62",
   "metadata": {},
   "outputs": [
    {
     "data": {
      "text/plain": [
       "<LigandSystem with 1 components (<Ligand name=propane>)>"
      ]
     },
     "execution_count": 14,
     "metadata": {},
     "output_type": "execute_result"
    }
   ],
   "source": [
    "system = LigandSystem(components=[ligand])\n",
    "system"
   ]
  },
  {
   "cell_type": "code",
   "execution_count": 15,
   "id": "896d8887-9c47-40c3-87a8-3c1fe7526c84",
   "metadata": {},
   "outputs": [
    {
     "data": {
      "text/plain": [
       "<ProteinSystem with 1 components (<Protein name=NTRK1>)>"
      ]
     },
     "execution_count": 15,
     "metadata": {},
     "output_type": "execute_result"
    }
   ],
   "source": [
    "system = ProteinSystem(components=[protein])\n",
    "system"
   ]
  },
  {
   "cell_type": "code",
   "execution_count": 16,
   "id": "f10aaeac-f9eb-478e-94dd-1567bddc7d31",
   "metadata": {},
   "outputs": [
    {
     "data": {
      "text/plain": [
       "<ProteinLigandComplex with 2 components (<Ligand name=propane>, <Protein name=NTRK1>)>"
      ]
     },
     "execution_count": 16,
     "metadata": {},
     "output_type": "execute_result"
    }
   ],
   "source": [
    "system = ProteinLigandComplex(components=[ligand, protein])\n",
    "system"
   ]
  },
  {
   "cell_type": "markdown",
   "id": "19763f3a-0c52-49f6-8b17-a91716b3c567",
   "metadata": {},
   "source": [
    "## Featurizers\n",
    "\n",
    "`Featurizer`s ingest `System`s to compute features for e.g. machine learning tasks. Systems failing during featurization will be removed, e.g. erroneous SMILES. Featurizations are stored in each system for later usage."
   ]
  },
  {
   "cell_type": "code",
   "execution_count": 17,
   "id": "b8f71ee1-eea6-4cfb-970f-e721ea447331",
   "metadata": {},
   "outputs": [],
   "source": [
    "from kinoml.features.ligand import MorganFingerprintFeaturizer"
   ]
  },
  {
   "cell_type": "code",
   "execution_count": 18,
   "id": "907f0b9b-e97f-4eba-acd1-19161336efe2",
   "metadata": {},
   "outputs": [
    {
     "data": {
      "text/plain": [
       "[<LigandSystem with 1 components (<Ligand name=0>)>,\n",
       " <LigandSystem with 1 components (<Ligand name=1>)>,\n",
       " <LigandSystem with 1 components (<Ligand name=2>)>,\n",
       " <LigandSystem with 1 components (<Ligand name=3>)>]"
      ]
     },
     "execution_count": 18,
     "metadata": {},
     "output_type": "execute_result"
    }
   ],
   "source": [
    "# generate systems with lazily initialized ligands\n",
    "systems = [\n",
    "    LigandSystem(components=[Ligand(smiles=smiles, name=str(i))]) \n",
    "    for i, smiles in enumerate([\"C\", \"?\", \"CC\", \"CCC\"])\n",
    "]\n",
    "systems"
   ]
  },
  {
   "cell_type": "code",
   "execution_count": 19,
   "id": "cdfb7e2a-7c86-4cd1-897a-a85fe564c4f8",
   "metadata": {},
   "outputs": [
    {
     "name": "stderr",
     "output_type": "stream",
     "text": [
      "Warning: Problem parsing SMILES:\n",
      "Warning: ?\n",
      "Warning: ^\n",
      "\n"
     ]
    },
    {
     "data": {
      "text/plain": [
       "[<LigandSystem with 1 components (<Ligand name=0>)>,\n",
       " <LigandSystem with 1 components (<Ligand name=2>)>,\n",
       " <LigandSystem with 1 components (<Ligand name=3>)>]"
      ]
     },
     "execution_count": 19,
     "metadata": {},
     "output_type": "execute_result"
    }
   ],
   "source": [
    "# the featurization will lead to interpretation of the given SMILES for the first time\n",
    "# failing systems will not be returned\n",
    "featurizer = MorganFingerprintFeaturizer()\n",
    "systems = featurizer.featurize(systems)\n",
    "systems"
   ]
  },
  {
   "cell_type": "code",
   "execution_count": 20,
   "id": "fac767ed-ec37-44a6-8a96-f744e2d7301e",
   "metadata": {},
   "outputs": [
    {
     "data": {
      "text/plain": [
       "{'last': array([0, 0, 0, 0, 0, 0, 0, 0, 0, 0, 0, 0, 0, 0, 0, 0, 0, 0, 0, 0, 0, 0,\n",
       "        0, 0, 0, 0, 0, 0, 0, 0, 0, 0, 0, 0, 0, 0, 0, 0, 0, 0, 0, 0, 0, 0,\n",
       "        0, 0, 0, 0, 0, 0, 0, 0, 0, 0, 0, 0, 0, 0, 0, 0, 0, 0, 0, 0, 0, 0,\n",
       "        0, 0, 0, 0, 0, 0, 0, 0, 0, 0, 0, 0, 0, 0, 0, 0, 0, 0, 0, 0, 0, 0,\n",
       "        0, 0, 0, 0, 0, 0, 0, 0, 0, 0, 0, 0, 0, 0, 0, 0, 0, 0, 0, 0, 0, 0,\n",
       "        0, 0, 0, 0, 0, 0, 0, 0, 0, 0, 0, 0, 0, 0, 0, 0, 0, 0, 0, 0, 0, 0,\n",
       "        0, 0, 0, 0, 0, 0, 0, 0, 0, 0, 0, 0, 0, 0, 0, 0, 0, 0, 0, 0, 0, 0,\n",
       "        0, 0, 0, 0, 0, 0, 0, 0, 0, 0, 0, 0, 0, 0, 0, 0, 0, 0, 0, 0, 0, 0,\n",
       "        0, 0, 0, 0, 0, 0, 0, 0, 0, 0, 0, 0, 0, 0, 0, 0, 0, 0, 0, 0, 0, 0,\n",
       "        0, 0, 0, 0, 0, 0, 0, 0, 0, 0, 0, 0, 0, 0, 0, 0, 0, 0, 0, 0, 0, 0,\n",
       "        0, 0, 0, 0, 0, 0, 0, 0, 0, 0, 0, 0, 0, 0, 0, 0, 0, 0, 0, 0, 1, 0,\n",
       "        0, 0, 0, 0, 0, 0, 0, 0, 0, 0, 0, 0, 0, 0, 0, 0, 0, 0, 0, 0, 0, 0,\n",
       "        0, 0, 0, 0, 0, 0, 0, 0, 0, 0, 0, 0, 0, 0, 0, 0, 0, 0, 0, 0, 0, 0,\n",
       "        0, 0, 0, 0, 0, 0, 0, 0, 0, 0, 0, 0, 0, 0, 0, 0, 0, 0, 0, 0, 0, 0,\n",
       "        0, 0, 0, 0, 0, 0, 0, 0, 0, 0, 0, 0, 0, 0, 0, 0, 0, 0, 0, 0, 0, 0,\n",
       "        0, 0, 0, 0, 0, 0, 0, 0, 0, 0, 0, 0, 0, 0, 0, 0, 0, 0, 0, 0, 0, 0,\n",
       "        0, 0, 0, 0, 0, 0, 0, 0, 0, 0, 0, 0, 0, 0, 0, 0, 0, 0, 0, 0, 0, 0,\n",
       "        0, 0, 0, 0, 0, 0, 0, 0, 0, 0, 0, 0, 0, 0, 0, 0, 0, 0, 0, 0, 0, 0,\n",
       "        0, 0, 0, 0, 0, 0, 0, 0, 0, 0, 0, 0, 0, 0, 0, 0, 0, 0, 0, 0, 0, 0,\n",
       "        0, 0, 0, 0, 0, 0, 0, 0, 0, 0, 0, 0, 0, 0, 0, 0, 0, 0, 0, 0, 0, 0,\n",
       "        0, 0, 0, 0, 0, 0, 0, 0, 0, 0, 0, 0, 0, 0, 0, 0, 0, 0, 0, 0, 0, 0,\n",
       "        0, 0, 0, 0, 0, 0, 0, 0, 0, 0, 0, 0, 0, 0, 0, 0, 0, 0, 0, 0, 0, 0,\n",
       "        0, 0, 0, 0, 0, 0, 0, 0, 0, 0, 0, 0, 0, 0, 0, 0, 0, 0, 0, 0, 0, 0,\n",
       "        0, 0, 0, 0, 0, 0]),\n",
       " 'MorganFingerprintFeaturizer': array([0, 0, 0, 0, 0, 0, 0, 0, 0, 0, 0, 0, 0, 0, 0, 0, 0, 0, 0, 0, 0, 0,\n",
       "        0, 0, 0, 0, 0, 0, 0, 0, 0, 0, 0, 0, 0, 0, 0, 0, 0, 0, 0, 0, 0, 0,\n",
       "        0, 0, 0, 0, 0, 0, 0, 0, 0, 0, 0, 0, 0, 0, 0, 0, 0, 0, 0, 0, 0, 0,\n",
       "        0, 0, 0, 0, 0, 0, 0, 0, 0, 0, 0, 0, 0, 0, 0, 0, 0, 0, 0, 0, 0, 0,\n",
       "        0, 0, 0, 0, 0, 0, 0, 0, 0, 0, 0, 0, 0, 0, 0, 0, 0, 0, 0, 0, 0, 0,\n",
       "        0, 0, 0, 0, 0, 0, 0, 0, 0, 0, 0, 0, 0, 0, 0, 0, 0, 0, 0, 0, 0, 0,\n",
       "        0, 0, 0, 0, 0, 0, 0, 0, 0, 0, 0, 0, 0, 0, 0, 0, 0, 0, 0, 0, 0, 0,\n",
       "        0, 0, 0, 0, 0, 0, 0, 0, 0, 0, 0, 0, 0, 0, 0, 0, 0, 0, 0, 0, 0, 0,\n",
       "        0, 0, 0, 0, 0, 0, 0, 0, 0, 0, 0, 0, 0, 0, 0, 0, 0, 0, 0, 0, 0, 0,\n",
       "        0, 0, 0, 0, 0, 0, 0, 0, 0, 0, 0, 0, 0, 0, 0, 0, 0, 0, 0, 0, 0, 0,\n",
       "        0, 0, 0, 0, 0, 0, 0, 0, 0, 0, 0, 0, 0, 0, 0, 0, 0, 0, 0, 0, 1, 0,\n",
       "        0, 0, 0, 0, 0, 0, 0, 0, 0, 0, 0, 0, 0, 0, 0, 0, 0, 0, 0, 0, 0, 0,\n",
       "        0, 0, 0, 0, 0, 0, 0, 0, 0, 0, 0, 0, 0, 0, 0, 0, 0, 0, 0, 0, 0, 0,\n",
       "        0, 0, 0, 0, 0, 0, 0, 0, 0, 0, 0, 0, 0, 0, 0, 0, 0, 0, 0, 0, 0, 0,\n",
       "        0, 0, 0, 0, 0, 0, 0, 0, 0, 0, 0, 0, 0, 0, 0, 0, 0, 0, 0, 0, 0, 0,\n",
       "        0, 0, 0, 0, 0, 0, 0, 0, 0, 0, 0, 0, 0, 0, 0, 0, 0, 0, 0, 0, 0, 0,\n",
       "        0, 0, 0, 0, 0, 0, 0, 0, 0, 0, 0, 0, 0, 0, 0, 0, 0, 0, 0, 0, 0, 0,\n",
       "        0, 0, 0, 0, 0, 0, 0, 0, 0, 0, 0, 0, 0, 0, 0, 0, 0, 0, 0, 0, 0, 0,\n",
       "        0, 0, 0, 0, 0, 0, 0, 0, 0, 0, 0, 0, 0, 0, 0, 0, 0, 0, 0, 0, 0, 0,\n",
       "        0, 0, 0, 0, 0, 0, 0, 0, 0, 0, 0, 0, 0, 0, 0, 0, 0, 0, 0, 0, 0, 0,\n",
       "        0, 0, 0, 0, 0, 0, 0, 0, 0, 0, 0, 0, 0, 0, 0, 0, 0, 0, 0, 0, 0, 0,\n",
       "        0, 0, 0, 0, 0, 0, 0, 0, 0, 0, 0, 0, 0, 0, 0, 0, 0, 0, 0, 0, 0, 0,\n",
       "        0, 0, 0, 0, 0, 0, 0, 0, 0, 0, 0, 0, 0, 0, 0, 0, 0, 0, 0, 0, 0, 0,\n",
       "        0, 0, 0, 0, 0, 0])}"
      ]
     },
     "execution_count": 20,
     "metadata": {},
     "output_type": "execute_result"
    }
   ],
   "source": [
    "# featurizations are stored in each system as a dict\n",
    "# the lastly performed featurization is additionally stored with the \"last\" key\n",
    "systems[0].featurizations"
   ]
  },
  {
   "cell_type": "markdown",
   "id": "fad90ed3-39d0-4ebe-9a37-2a6ac359152c",
   "metadata": {},
   "source": [
    "## Measurements"
   ]
  },
  {
   "cell_type": "markdown",
   "id": "e6665be2-a51d-4e43-93b1-55040e0d3c4e",
   "metadata": {},
   "source": [
    "`Measurement`s combine information for a given activity data point, i.e. `System`, `AssayCondition` and activity `values`. Currently available `Measurement` objects are `PercentageDisplacementMeasurement`, `pIC50Measurement`, `pKiMeasurement`, `pKdMeasurement`."
   ]
  },
  {
   "cell_type": "code",
   "execution_count": 21,
   "id": "7353e4db-4441-494c-af5d-8c7fecac16d1",
   "metadata": {},
   "outputs": [],
   "source": [
    "from kinoml.core.conditions import AssayConditions\n",
    "from kinoml.core.measurements import PercentageDisplacementMeasurement"
   ]
  },
  {
   "cell_type": "code",
   "execution_count": 22,
   "id": "d6bca4e5-40e7-4b4d-84c5-cabba48959cb",
   "metadata": {},
   "outputs": [
    {
     "data": {
      "text/plain": [
       "<PercentageDisplacementMeasurement values=[10] conditions=<AssayConditions pH=7.0> system=<ProteinLigandComplex with 2 components (<Ligand name=propane>, <Protein name=NTRK1>)>>"
      ]
     },
     "execution_count": 22,
     "metadata": {},
     "output_type": "execute_result"
    }
   ],
   "source": [
    "ligand = Ligand(smiles=\"CCC\", name=\"propane\")\n",
    "protein = Protein(uniprot_id=\"P04629\", name=\"NTRK1\")\n",
    "measurement = PercentageDisplacementMeasurement(\n",
    "    10,\n",
    "    conditions=AssayConditions(pH=7.0),\n",
    "    system=ProteinLigandComplex(components=[ligand, protein]),\n",
    ")\n",
    "measurement"
   ]
  },
  {
   "cell_type": "markdown",
   "id": "666bac1e-6a67-44af-946f-70d3fd3a557d",
   "metadata": {},
   "source": [
    "## DatasetProviders\n",
    "\n",
    "`DatasetProviders` are essentially a list of `Measurement`s, which can be used for machine learning experiments. `Featurizer`s can be passed to allow a featurization of all available `System`s. Currently, KinoML is shipped with `DatasetProvider`s for [PKIS2](https://doi.org/10.1371/journal.pone.0181585) and [ChEMBL](https://www.ebi.ac.uk/chembl/) datasets allowing quick experiment design."
   ]
  },
  {
   "cell_type": "code",
   "execution_count": 23,
   "id": "0db9d114-8f7f-41b2-a94d-bc6b9906dce1",
   "metadata": {},
   "outputs": [],
   "source": [
    "from kinoml.datasets.chembl import ChEMBLDatasetProvider\n",
    "from kinoml.datasets.pkis2 import PKIS2DatasetProvider"
   ]
  },
  {
   "cell_type": "code",
   "execution_count": 24,
   "id": "4e0ce095-ee95-4896-912a-df82301592d9",
   "metadata": {},
   "outputs": [
    {
     "name": "stdout",
     "output_type": "stream",
     "text": [
      "<PKIS2DatasetProvider with 261870 PercentageDisplacementMeasurement measurements and 261870 systems (Ligand=640, KLIFSKinase=406)>\n"
     ]
    }
   ],
   "source": [
    "# load data points given by the PKIS2 publication (https://doi.org/10.1371/journal.pone.0181585)\n",
    "pkis2 = PKIS2DatasetProvider.from_source()\n",
    "print(pkis2)"
   ]
  },
  {
   "cell_type": "code",
   "execution_count": 25,
   "id": "f89dcc94-bd34-48a1-b807-44b940b61d82",
   "metadata": {},
   "outputs": [
    {
     "data": {
      "application/vnd.jupyter.widget-view+json": {
       "model_id": "b89a3b1bc95047658f2c635c58b233ba",
       "version_major": 2,
       "version_minor": 0
      },
      "text/plain": [
       "  0%|          | 0/190469 [00:00<?, ?it/s]"
      ]
     },
     "metadata": {},
     "output_type": "display_data"
    },
    {
     "data": {
      "text/plain": [
       "<ChEMBLDatasetProvider with 190469 measurements (pIC50Measurement=160703, pKiMeasurement=15653, pKdMeasurement=14113), and 188032 systems (Protein=462, Ligand=115207)>"
      ]
     },
     "execution_count": 25,
     "metadata": {},
     "output_type": "execute_result"
    }
   ],
   "source": [
    "# load curated ChEMBL data points available at https://github.com/openkinome/kinodata\n",
    "# here the more general \"Protein\" object will be used instead of the default \"KLIFSKinase\"\n",
    "# also protein objects will be initialized with the MDAnalysis toolkit\n",
    "chembl = ChEMBLDatasetProvider.from_source(\n",
    "    path_or_url=\"https://github.com/openkinome/datascripts/releases/download/v0.3/activities-chembl29_v0.3.zip\",\n",
    "    measurement_types=(\"pIC50\", \"pKi\", \"pKd\"),\n",
    "    protein_type=\"Protein\",\n",
    "    toolkit=\"MDAnalysis\",\n",
    ")\n",
    "chembl"
   ]
  },
  {
   "cell_type": "code",
   "execution_count": 26,
   "id": "0109aa8d-ed17-4d74-bd0c-27df666039f4",
   "metadata": {},
   "outputs": [
    {
     "data": {
      "application/vnd.jupyter.widget-view+json": {
       "model_id": "4f8e922d72ca4f5886727d3da11b372e",
       "version_major": 2,
       "version_minor": 0
      },
      "text/plain": [
       "  0%|          | 0/100 [00:00<?, ?it/s]"
      ]
     },
     "metadata": {},
     "output_type": "display_data"
    },
    {
     "data": {
      "text/plain": [
       "<ChEMBLDatasetProvider with 100 measurements (pKiMeasurement=100), and 100 systems (KLIFSKinase=38, Ligand=100)>"
      ]
     },
     "execution_count": 26,
     "metadata": {},
     "output_type": "execute_result"
    }
   ],
   "source": [
    "# loading a smaller sample allows rapid testing\n",
    "# loading now with default \"KLIFSKinase\" protein object\n",
    "chembl = ChEMBLDatasetProvider.from_source(\n",
    "    path_or_url=\"https://github.com/openkinome/datascripts/releases/download/v0.3/activities-chembl29_v0.3.zip\",\n",
    "    measurement_types=[\"pKi\"],\n",
    "    sample=100,\n",
    ")\n",
    "chembl"
   ]
  },
  {
   "cell_type": "code",
   "execution_count": 27,
   "id": "42da4de8-f4f9-4547-80b1-d146ecf40577",
   "metadata": {},
   "outputs": [
    {
     "data": {
      "text/plain": [
       "<ChEMBLDatasetProvider with 100 measurements (pKiMeasurement=100), and 100 systems (KLIFSKinase=38, Ligand=100)>"
      ]
     },
     "execution_count": 27,
     "metadata": {},
     "output_type": "execute_result"
    }
   ],
   "source": [
    "%%capture --no-display\n",
    "# upper statement to hide warnings\n",
    "# all systems will be successfully featurized\n",
    "chembl.featurize(MorganFingerprintFeaturizer())\n",
    "chembl"
   ]
  },
  {
   "cell_type": "code",
   "execution_count": 28,
   "id": "84bc3581-e429-4b0a-95e1-2f7ff40b4406",
   "metadata": {},
   "outputs": [],
   "source": [
    "from kinoml.features.protein import OneHotEncodedSequenceFeaturizer"
   ]
  },
  {
   "cell_type": "code",
   "execution_count": 29,
   "id": "60071a64-86b9-49e0-a741-9f9f6563269f",
   "metadata": {},
   "outputs": [
    {
     "name": "stderr",
     "output_type": "stream",
     "text": [
      "There were 3 systems that could not be featurized!\n"
     ]
    },
    {
     "data": {
      "text/plain": [
       "<ChEMBLDatasetProvider with 97 measurements (pKiMeasurement=97), and 97 systems (KLIFSKinase=37, Ligand=97)>"
      ]
     },
     "execution_count": 29,
     "metadata": {},
     "output_type": "execute_result"
    }
   ],
   "source": [
    "# not all systems maybe featurizable and will be removed, e.g. erroneous SMILES\n",
    "# here certain ChEMBL data points are for kinases that are not available in KLIFS\n",
    "chembl.featurize(OneHotEncodedSequenceFeaturizer(sequence_type=\"klifs_kinase\"))\n",
    "chembl"
   ]
  }
 ],
 "metadata": {
  "kernelspec": {
   "display_name": "Python 3 (ipykernel)",
   "language": "python",
   "name": "python3"
  },
  "language_info": {
   "codemirror_mode": {
    "name": "ipython",
    "version": 3
   },
   "file_extension": ".py",
   "mimetype": "text/x-python",
   "name": "python",
   "nbconvert_exporter": "python",
   "pygments_lexer": "ipython3",
   "version": "3.9.12"
  }
 },
 "nbformat": 4,
 "nbformat_minor": 5
}
