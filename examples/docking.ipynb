{
 "cells": [
  {
   "cell_type": "markdown",
   "metadata": {},
   "source": [
    "# Docking Featurizer\n",
    "\n",
    "This shows how we can dock a small molecule in a protein using the Hybrid docking protocol implemented in the OpenEye toolkit."
   ]
  },
  {
   "cell_type": "code",
   "execution_count": 1,
   "metadata": {},
   "outputs": [],
   "source": [
    "from kinoml.core.ligands import Ligand\n",
    "from kinoml.core.proteins import BaseProtein\n",
    "from kinoml.core.systems import ProteinLigandComplex\n",
    "from kinoml.features.complexes import OEHybridDockingFeaturizer, OEKLIFSKinaseHybridDockingFeaturizer"
   ]
  },
  {
   "cell_type": "markdown",
   "metadata": {},
   "source": [
    "## OEHybridDockingFeaturizer"
   ]
  },
  {
   "cell_type": "markdown",
   "metadata": {},
   "source": [
    "Let's perform a Hybrid docking into [4YNE](https://www.rcsb.org/structure/4YNE) retrieved from PDB with larotrectinib read from a smiles (reading from file is possible with the FileLigand class). First we need to generate the `System`, which is a `ProteinLigandComplex`."
   ]
  },
  {
   "cell_type": "code",
   "execution_count": 2,
   "metadata": {},
   "outputs": [
    {
     "name": "stderr",
     "output_type": "stream",
     "text": [
      "Warning (not error because allow_undefined_stereo=True): OEMol has unspecified stereochemistry. oemol.GetTitle(): \n",
      "Problematic atoms are:\n",
      "Atom atomic num: 6, name: , idx: 2, aromatic: False, chiral: True with bonds:\n",
      "bond order: 1, chiral: False to atom atomic num: 6, name: , idx: 1, aromatic: False, chiral: False\n",
      "bond order: 1, chiral: False to atom atomic num: 7, name: , idx: 3, aromatic: False, chiral: False\n",
      "bond order: 1, chiral: False to atom atomic num: 6, name: , idx: 23, aromatic: True, chiral: False\n",
      "bond order: 1, chiral: False to atom atomic num: 1, name: , idx: 35, aromatic: False, chiral: False\n",
      "Atom atomic num: 6, name: , idx: 20, aromatic: False, chiral: True with bonds:\n",
      "bond order: 1, chiral: False to atom atomic num: 6, name: , idx: 19, aromatic: False, chiral: False\n",
      "bond order: 1, chiral: False to atom atomic num: 6, name: , idx: 21, aromatic: False, chiral: False\n",
      "bond order: 1, chiral: False to atom atomic num: 8, name: , idx: 22, aromatic: False, chiral: False\n",
      "bond order: 1, chiral: False to atom atomic num: 1, name: , idx: 46, aromatic: False, chiral: False\n",
      "\n"
     ]
    }
   ],
   "source": [
    "ligand = Ligand.from_smiles(smiles=\"C1CC(N(C1)C2=NC3=C(C=NN3C=C2)NC(=O)N4CCC(C4)O)C5=C(C=CC(=C5)F)F\",\n",
    "                       name=\"larotrectinib\")\n",
    "base_protein = BaseProtein(name=\"4yne\")\n",
    "base_protein.pdb_id = \"4yne\"\n",
    "protein_ligand_complex = ProteinLigandComplex(components=[base_protein, ligand])"
   ]
  },
  {
   "cell_type": "markdown",
   "metadata": {},
   "source": [
    "Next perform the docking. The current implementation will detect the co-crystallized ligand in 4YNE and perform a hybrid docking. \n",
    "\n",
    "> Note: The OE Spruce loop database is needed for this step. The location is specified by the `loop_db` argument. You can request a copy [here](https://www.eyesopen.com/database-downloads)."
   ]
  },
  {
   "cell_type": "code",
   "execution_count": 3,
   "metadata": {},
   "outputs": [
    {
     "data": {
      "text/plain": [
       "[<ProteinLigandComplex with 2 components (<BaseProtein name=4yne>, <OpenForceFieldLigand name=larotrectinib>)>]"
      ]
     },
     "execution_count": 3,
     "metadata": {},
     "output_type": "execute_result"
    }
   ],
   "source": [
    "docking_featurizer = OEHybridDockingFeaturizer(loop_db=\"~/.OpenEye/rcsb_spruce.loop_db\")\n",
    "system = docking_featurizer.featurize([protein_ligand_complex])\n",
    "system"
   ]
  },
  {
   "cell_type": "markdown",
   "metadata": {},
   "source": [
    "This docking featurizer is quite general, so it could be applied to any protein family and can be seen as a template for more advanced and protein family specific docking featurizers."
   ]
  },
  {
   "cell_type": "markdown",
   "metadata": {},
   "source": [
    "## OEKLIFSKinaseHybridDockingFeaturizer"
   ]
  },
  {
   "cell_type": "markdown",
   "metadata": {},
   "source": [
    "Next, we will do the same but via the kinase specific `OEKLIFSKinaseHybridDockingFeaturizer`. This featurizer only needs a SMILES and a KLIFS kinase ID as input. It will automatically select pdb structures for generating the complex of interest."
   ]
  },
  {
   "cell_type": "code",
   "execution_count": 4,
   "metadata": {},
   "outputs": [],
   "source": [
    "ligand = Ligand.from_smiles(smiles='O=C(Nc1cnn2ccc(N3CCC[C@@H]3c3cc(F)ccc3F)nc12)N1CC[C@H](O)C1', name='larotrectinib')\n",
    "base_protein = BaseProtein(name='NTRK1')\n",
    "base_protein.klifs_kinase_id = 480\n",
    "kinase_ligand_complex = ProteinLigandComplex(components=[base_protein, ligand])"
   ]
  },
  {
   "cell_type": "code",
   "execution_count": 5,
   "metadata": {},
   "outputs": [
    {
     "data": {
      "text/plain": [
       "[<ProteinLigandComplex with 2 components (<BaseProtein name=NTRK1>, <OpenForceFieldLigand name=larotrectinib>)>]"
      ]
     },
     "execution_count": 5,
     "metadata": {},
     "output_type": "execute_result"
    }
   ],
   "source": [
    "docking_featurizer = OEKLIFSKinaseHybridDockingFeaturizer(loop_db=\"~/.OpenEye/rcsb_spruce.loop_db\")\n",
    "system = docking_featurizer.featurize([kinase_ligand_complex])\n",
    "system"
   ]
  }
 ],
 "metadata": {
  "kernelspec": {
   "display_name": "Python 3",
   "language": "python",
   "name": "python3"
  },
  "language_info": {
   "codemirror_mode": {
    "name": "ipython",
    "version": 3
   },
   "file_extension": ".py",
   "mimetype": "text/x-python",
   "name": "python",
   "nbconvert_exporter": "python",
   "pygments_lexer": "ipython3",
   "version": "3.8.10"
  }
 },
 "nbformat": 4,
 "nbformat_minor": 4
}
